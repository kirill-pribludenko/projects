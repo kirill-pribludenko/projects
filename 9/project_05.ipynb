{
  "cells": [
    {
      "cell_type": "markdown",
      "metadata": {
        "id": "tD-zFcGs-wL2"
      },
      "source": [
        "## Загрузка и обзор данных"
      ]
    },
    {
      "cell_type": "markdown",
      "metadata": {
        "id": "wlyHEAqz-wL2"
      },
      "source": [
        "Импортируем необходимые для работы библиотеки"
      ]
    },
    {
      "cell_type": "code",
      "execution_count": 1,
      "metadata": {
        "id": "JioYEAVd-wL3"
      },
      "outputs": [],
      "source": [
        "import pandas as pd\n",
        "import numpy as np\n",
        "import matplotlib.pyplot as plt\n",
        "\n",
        "from sklearn.metrics import accuracy_score\n",
        "from sklearn.model_selection import train_test_split, GridSearchCV\n",
        "\n",
        "from sklearn.ensemble import RandomForestClassifier\n",
        "from sklearn.linear_model import LogisticRegression\n",
        "from sklearn.naive_bayes import GaussianNB\n",
        "from sklearn.svm import SVC\n",
        "from sklearn.dummy import DummyClassifier"
      ]
    },
    {
      "cell_type": "markdown",
      "metadata": {
        "id": "J_f2w2Pj-wL5"
      },
      "source": [
        "Посмотрим на данные перед исследованием"
      ]
    },
    {
      "cell_type": "code",
      "execution_count": 2,
      "metadata": {
        "id": "oE1i4Aff-wL7"
      },
      "outputs": [],
      "source": [
        "df = pd.read_csv('/content/users_behavior.csv')"
      ]
    },
    {
      "cell_type": "code",
      "execution_count": 3,
      "metadata": {
        "colab": {
          "base_uri": "https://localhost:8080/",
          "height": 206
        },
        "id": "NWSSnz8p-wL7",
        "outputId": "6f3e6ed8-b61c-46c1-ca3e-a7760c44c3f6"
      },
      "outputs": [
        {
          "output_type": "execute_result",
          "data": {
            "text/plain": [
              "   calls  minutes  messages   mb_used  is_ultra\n",
              "0   40.0   311.90      83.0  19915.42         0\n",
              "1   85.0   516.75      56.0  22696.96         0\n",
              "2   77.0   467.66      86.0  21060.45         0\n",
              "3  106.0   745.53      81.0   8437.39         1\n",
              "4   66.0   418.74       1.0  14502.75         0"
            ],
            "text/html": [
              "\n",
              "  <div id=\"df-23d419a9-7673-4824-96e3-a0f356072d4d\">\n",
              "    <div class=\"colab-df-container\">\n",
              "      <div>\n",
              "<style scoped>\n",
              "    .dataframe tbody tr th:only-of-type {\n",
              "        vertical-align: middle;\n",
              "    }\n",
              "\n",
              "    .dataframe tbody tr th {\n",
              "        vertical-align: top;\n",
              "    }\n",
              "\n",
              "    .dataframe thead th {\n",
              "        text-align: right;\n",
              "    }\n",
              "</style>\n",
              "<table border=\"1\" class=\"dataframe\">\n",
              "  <thead>\n",
              "    <tr style=\"text-align: right;\">\n",
              "      <th></th>\n",
              "      <th>calls</th>\n",
              "      <th>minutes</th>\n",
              "      <th>messages</th>\n",
              "      <th>mb_used</th>\n",
              "      <th>is_ultra</th>\n",
              "    </tr>\n",
              "  </thead>\n",
              "  <tbody>\n",
              "    <tr>\n",
              "      <th>0</th>\n",
              "      <td>40.0</td>\n",
              "      <td>311.90</td>\n",
              "      <td>83.0</td>\n",
              "      <td>19915.42</td>\n",
              "      <td>0</td>\n",
              "    </tr>\n",
              "    <tr>\n",
              "      <th>1</th>\n",
              "      <td>85.0</td>\n",
              "      <td>516.75</td>\n",
              "      <td>56.0</td>\n",
              "      <td>22696.96</td>\n",
              "      <td>0</td>\n",
              "    </tr>\n",
              "    <tr>\n",
              "      <th>2</th>\n",
              "      <td>77.0</td>\n",
              "      <td>467.66</td>\n",
              "      <td>86.0</td>\n",
              "      <td>21060.45</td>\n",
              "      <td>0</td>\n",
              "    </tr>\n",
              "    <tr>\n",
              "      <th>3</th>\n",
              "      <td>106.0</td>\n",
              "      <td>745.53</td>\n",
              "      <td>81.0</td>\n",
              "      <td>8437.39</td>\n",
              "      <td>1</td>\n",
              "    </tr>\n",
              "    <tr>\n",
              "      <th>4</th>\n",
              "      <td>66.0</td>\n",
              "      <td>418.74</td>\n",
              "      <td>1.0</td>\n",
              "      <td>14502.75</td>\n",
              "      <td>0</td>\n",
              "    </tr>\n",
              "  </tbody>\n",
              "</table>\n",
              "</div>\n",
              "      <button class=\"colab-df-convert\" onclick=\"convertToInteractive('df-23d419a9-7673-4824-96e3-a0f356072d4d')\"\n",
              "              title=\"Convert this dataframe to an interactive table.\"\n",
              "              style=\"display:none;\">\n",
              "        \n",
              "  <svg xmlns=\"http://www.w3.org/2000/svg\" height=\"24px\"viewBox=\"0 0 24 24\"\n",
              "       width=\"24px\">\n",
              "    <path d=\"M0 0h24v24H0V0z\" fill=\"none\"/>\n",
              "    <path d=\"M18.56 5.44l.94 2.06.94-2.06 2.06-.94-2.06-.94-.94-2.06-.94 2.06-2.06.94zm-11 1L8.5 8.5l.94-2.06 2.06-.94-2.06-.94L8.5 2.5l-.94 2.06-2.06.94zm10 10l.94 2.06.94-2.06 2.06-.94-2.06-.94-.94-2.06-.94 2.06-2.06.94z\"/><path d=\"M17.41 7.96l-1.37-1.37c-.4-.4-.92-.59-1.43-.59-.52 0-1.04.2-1.43.59L10.3 9.45l-7.72 7.72c-.78.78-.78 2.05 0 2.83L4 21.41c.39.39.9.59 1.41.59.51 0 1.02-.2 1.41-.59l7.78-7.78 2.81-2.81c.8-.78.8-2.07 0-2.86zM5.41 20L4 18.59l7.72-7.72 1.47 1.35L5.41 20z\"/>\n",
              "  </svg>\n",
              "      </button>\n",
              "      \n",
              "  <style>\n",
              "    .colab-df-container {\n",
              "      display:flex;\n",
              "      flex-wrap:wrap;\n",
              "      gap: 12px;\n",
              "    }\n",
              "\n",
              "    .colab-df-convert {\n",
              "      background-color: #E8F0FE;\n",
              "      border: none;\n",
              "      border-radius: 50%;\n",
              "      cursor: pointer;\n",
              "      display: none;\n",
              "      fill: #1967D2;\n",
              "      height: 32px;\n",
              "      padding: 0 0 0 0;\n",
              "      width: 32px;\n",
              "    }\n",
              "\n",
              "    .colab-df-convert:hover {\n",
              "      background-color: #E2EBFA;\n",
              "      box-shadow: 0px 1px 2px rgba(60, 64, 67, 0.3), 0px 1px 3px 1px rgba(60, 64, 67, 0.15);\n",
              "      fill: #174EA6;\n",
              "    }\n",
              "\n",
              "    [theme=dark] .colab-df-convert {\n",
              "      background-color: #3B4455;\n",
              "      fill: #D2E3FC;\n",
              "    }\n",
              "\n",
              "    [theme=dark] .colab-df-convert:hover {\n",
              "      background-color: #434B5C;\n",
              "      box-shadow: 0px 1px 3px 1px rgba(0, 0, 0, 0.15);\n",
              "      filter: drop-shadow(0px 1px 2px rgba(0, 0, 0, 0.3));\n",
              "      fill: #FFFFFF;\n",
              "    }\n",
              "  </style>\n",
              "\n",
              "      <script>\n",
              "        const buttonEl =\n",
              "          document.querySelector('#df-23d419a9-7673-4824-96e3-a0f356072d4d button.colab-df-convert');\n",
              "        buttonEl.style.display =\n",
              "          google.colab.kernel.accessAllowed ? 'block' : 'none';\n",
              "\n",
              "        async function convertToInteractive(key) {\n",
              "          const element = document.querySelector('#df-23d419a9-7673-4824-96e3-a0f356072d4d');\n",
              "          const dataTable =\n",
              "            await google.colab.kernel.invokeFunction('convertToInteractive',\n",
              "                                                     [key], {});\n",
              "          if (!dataTable) return;\n",
              "\n",
              "          const docLinkHtml = 'Like what you see? Visit the ' +\n",
              "            '<a target=\"_blank\" href=https://colab.research.google.com/notebooks/data_table.ipynb>data table notebook</a>'\n",
              "            + ' to learn more about interactive tables.';\n",
              "          element.innerHTML = '';\n",
              "          dataTable['output_type'] = 'display_data';\n",
              "          await google.colab.output.renderOutput(dataTable, element);\n",
              "          const docLink = document.createElement('div');\n",
              "          docLink.innerHTML = docLinkHtml;\n",
              "          element.appendChild(docLink);\n",
              "        }\n",
              "      </script>\n",
              "    </div>\n",
              "  </div>\n",
              "  "
            ]
          },
          "metadata": {},
          "execution_count": 3
        }
      ],
      "source": [
        "df.head()"
      ]
    },
    {
      "cell_type": "markdown",
      "source": [
        "Описание данных:\n",
        "* `сalls` — количество звонков,\n",
        "* `minutes` — суммарная длительность звонков в минутах,\n",
        "* `messages` — количество sms-сообщений,\n",
        "* `mb_used` — израсходованный интернет-трафик в Мб,\n",
        "* `is_ultra` — каким тарифом пользовался в течение месяца («Ультра» — 1, «Смарт» — 0)."
      ],
      "metadata": {
        "id": "eWyJ_rDNFlWZ"
      }
    },
    {
      "cell_type": "code",
      "execution_count": 4,
      "metadata": {
        "colab": {
          "base_uri": "https://localhost:8080/"
        },
        "id": "sR5mB6ED-wL9",
        "outputId": "6a4d0fa8-b02c-4450-d066-c4cd13437ac6"
      },
      "outputs": [
        {
          "output_type": "stream",
          "name": "stdout",
          "text": [
            "<class 'pandas.core.frame.DataFrame'>\n",
            "RangeIndex: 3214 entries, 0 to 3213\n",
            "Data columns (total 5 columns):\n",
            " #   Column    Non-Null Count  Dtype  \n",
            "---  ------    --------------  -----  \n",
            " 0   calls     3214 non-null   float64\n",
            " 1   minutes   3214 non-null   float64\n",
            " 2   messages  3214 non-null   float64\n",
            " 3   mb_used   3214 non-null   float64\n",
            " 4   is_ultra  3214 non-null   int64  \n",
            "dtypes: float64(4), int64(1)\n",
            "memory usage: 125.7 KB\n"
          ]
        }
      ],
      "source": [
        "df.info()"
      ]
    },
    {
      "cell_type": "markdown",
      "metadata": {
        "id": "lA9rnlOo-wL9"
      },
      "source": [
        "Пропусков - нет, все данные - численного типа. Всегда бы так, давали готовые таблицы для работы =) \n",
        "\n",
        "Так как задача сводится к классификации, то столбец `is_ultra` будет являться целевым признаком."
      ]
    },
    {
      "cell_type": "markdown",
      "metadata": {
        "id": "rd1RN-yV-wL_"
      },
      "source": [
        "## Разбиение на подвыборки"
      ]
    },
    {
      "cell_type": "markdown",
      "metadata": {
        "id": "LfjWjZ0J-wL_"
      },
      "source": [
        "Разобьем данную выборку на три части: тренировочную (60%), валидационную (20%) и тестовую (20%)."
      ]
    },
    {
      "cell_type": "code",
      "execution_count": 5,
      "metadata": {
        "id": "ESoHHPgD-wMB"
      },
      "outputs": [],
      "source": [
        "df_train, df_temp = train_test_split(df, test_size=0.4, random_state=101)\n",
        "df_valid, df_test = train_test_split(df_temp, test_size=0.5, random_state=101)"
      ]
    },
    {
      "cell_type": "markdown",
      "metadata": {
        "id": "QOy7AUgT-wMC"
      },
      "source": [
        "Проверка"
      ]
    },
    {
      "cell_type": "code",
      "execution_count": 6,
      "metadata": {
        "colab": {
          "base_uri": "https://localhost:8080/",
          "height": 69
        },
        "id": "VmsHvVNk-wMC",
        "outputId": "3b08e5f4-6355-4dae-a5ac-a0fe56663ef9"
      },
      "outputs": [
        {
          "output_type": "display_data",
          "data": {
            "text/plain": [
              "(1928, 5)"
            ]
          },
          "metadata": {}
        },
        {
          "output_type": "display_data",
          "data": {
            "text/plain": [
              "(643, 5)"
            ]
          },
          "metadata": {}
        },
        {
          "output_type": "display_data",
          "data": {
            "text/plain": [
              "(643, 5)"
            ]
          },
          "metadata": {}
        }
      ],
      "source": [
        "display(df_train.shape)\n",
        "display(df_valid.shape)\n",
        "display(df_test.shape)"
      ]
    },
    {
      "cell_type": "markdown",
      "metadata": {
        "id": "8-bDZcKu-wMD"
      },
      "source": [
        "Данные для обучения"
      ]
    },
    {
      "cell_type": "code",
      "execution_count": 7,
      "metadata": {
        "id": "jIkuotrQ-wMD"
      },
      "outputs": [],
      "source": [
        "features_train = df_train.drop(['is_ultra'], axis=1)\n",
        "target_train = df_train['is_ultra']"
      ]
    },
    {
      "cell_type": "markdown",
      "metadata": {
        "id": "Yds2ZcZp-wMD"
      },
      "source": [
        "Данные для валидации"
      ]
    },
    {
      "cell_type": "code",
      "execution_count": 8,
      "metadata": {
        "id": "d7O39Ne6-wME"
      },
      "outputs": [],
      "source": [
        "features_valid = df_valid.drop(['is_ultra'], axis=1)\n",
        "target_valid = df_valid['is_ultra']"
      ]
    },
    {
      "cell_type": "markdown",
      "metadata": {
        "id": "eGeubKgY-wME"
      },
      "source": [
        "Данные для тестирования"
      ]
    },
    {
      "cell_type": "code",
      "execution_count": 9,
      "metadata": {
        "id": "x5hT6oh0-wME"
      },
      "outputs": [],
      "source": [
        "features_test = df_test.drop(['is_ultra'], axis=1)\n",
        "target_test = df_test['is_ultra']"
      ]
    },
    {
      "cell_type": "markdown",
      "metadata": {
        "id": "WnSPziVV-wMF"
      },
      "source": [
        "## Исследуем различные модели"
      ]
    },
    {
      "cell_type": "markdown",
      "metadata": {
        "id": "zuacqsze-wMF"
      },
      "source": [
        "Исследуем четыре вида классификаторов (два рассмотрим факультативно), посмотрим как изменение гиперпараметров влияет на значение точности предсказаний моделей."
      ]
    },
    {
      "cell_type": "markdown",
      "metadata": {
        "id": "GdJxmFK5-wMF"
      },
      "source": [
        "### Случайный лес"
      ]
    },
    {
      "cell_type": "markdown",
      "metadata": {
        "id": "hmnuvEji-wMG"
      },
      "source": [
        "Random forest (с англ. — «случайный лес») — алгоритм машинного обучения, заключающийся в использовании комитета (ансамбля) решающих деревьев. Алгоритм применяется для задач классификации, регрессии и кластеризации. Основная идея заключается в использовании большого ансамбля решающих деревьев, каждое из которых само по себе даёт очень невысокое качество классификации, но за счёт их большого количества результат получается хорошим."
      ]
    },
    {
      "cell_type": "markdown",
      "metadata": {
        "id": "9snPVEYE-wMG"
      },
      "source": [
        "Имортируем необходимый алгоритм обучения и в цикле посмотрим сохраним все значения меткрики accuracy для разного количества деревьев для разных критериев. Далее на графиках посмотрим при каком значении будет лучший результат."
      ]
    },
    {
      "cell_type": "code",
      "execution_count": 10,
      "metadata": {
        "id": "WbUSAxUv-wMG"
      },
      "outputs": [],
      "source": [
        "def random_forest(range_est,criteria):\n",
        "    models = []\n",
        "    results = []\n",
        "    for est in range(1, range_est):\n",
        "        randfor = RandomForestClassifier(random_state=101, n_estimators=est, criterion=criteria) # задаем количество деревьев\n",
        "        randfor.fit(features_train, target_train) # обучаем модель на тренировочных данных\n",
        "        result = randfor.score(features_valid, target_valid) # качество модели на валидационных данных\n",
        "        models.append(randfor)\n",
        "        results.append(result)\n",
        "    results = pd.DataFrame(results, columns=['accuracy']) #Преобразуем results в таблицу для удобства построения графика\n",
        "    results['number_trees'] = range(1, range_est)\n",
        "    return results"
      ]
    },
    {
      "cell_type": "markdown",
      "metadata": {
        "id": "Lrl1PiRA-wMI"
      },
      "source": [
        "Построим график для критерия **gini**"
      ]
    },
    {
      "cell_type": "code",
      "execution_count": 11,
      "metadata": {
        "colab": {
          "base_uri": "https://localhost:8080/",
          "height": 407
        },
        "id": "NvKwNCdN-wMI",
        "outputId": "27215a7b-14c1-45e8-c7ce-c5c892d90282"
      },
      "outputs": [
        {
          "output_type": "display_data",
          "data": {
            "text/plain": [
              "<Figure size 864x432 with 1 Axes>"
            ],
            "image/png": "[encoded data removed]"
          },
          "metadata": {
            "needs_background": "light"
          }
        }
      ],
      "source": [
        "gini = random_forest(51,'gini')\n",
        "gini.plot(kind='bar', y='accuracy', x='number_trees', ylim=[0.725,0.825], figsize=(12,6))\n",
        "plt.title('Зависимость точности от количества деревьев при критерии gini')\n",
        "plt.xlabel('Количество деревьев')\n",
        "plt.ylabel('Точность')\n",
        "plt.grid()\n",
        "plt.show()"
      ]
    },
    {
      "cell_type": "markdown",
      "metadata": {
        "id": "xP2xx0NV-wMJ"
      },
      "source": [
        "Построим график для критерия **entropy**"
      ]
    },
    {
      "cell_type": "code",
      "execution_count": 12,
      "metadata": {
        "colab": {
          "base_uri": "https://localhost:8080/",
          "height": 407
        },
        "id": "MHTu3hM1-wMJ",
        "outputId": "efc497b6-dc12-421f-bc31-c23de6369a76"
      },
      "outputs": [
        {
          "output_type": "display_data",
          "data": {
            "text/plain": [
              "<Figure size 864x432 with 1 Axes>"
            ],
            "image/png": "[encoded data removed]"
          },
          "metadata": {
            "needs_background": "light"
          }
        }
      ],
      "source": [
        "entropy = random_forest(51,'entropy')\n",
        "entropy.plot(kind='bar', y='accuracy', x='number_trees', ylim=[0.725,0.825], figsize=(12,6))\n",
        "plt.title('Зависимость точности от количества деревьев при критерии entropy')\n",
        "plt.xlabel('Количество деревьев')\n",
        "plt.ylabel('Точность')\n",
        "plt.grid()\n",
        "plt.show()"
      ]
    },
    {
      "cell_type": "markdown",
      "metadata": {
        "id": "ZueeE9t--wMJ"
      },
      "source": [
        "Как видно из графиков максимальная точность достигается при количестве деревьев равным **10** для критерия **entropy**, и для критерия **gini** деревьев нужно **46** для достижения максимального значения точности. Возьмем для проверки на тестовой выборке модель, показавшую лучшее значение. Значения точности занесем в таблицу. "
      ]
    },
    {
      "cell_type": "code",
      "execution_count": 13,
      "metadata": {
        "id": "qm6Zf22j-wMJ"
      },
      "outputs": [],
      "source": [
        "result_df = pd.DataFrame(columns=['name_ml','accuracy_valid'])"
      ]
    },
    {
      "cell_type": "code",
      "execution_count": 14,
      "metadata": {
        "id": "GmNz5I6m-wMK"
      },
      "outputs": [],
      "source": [
        "result_df.loc[0]=['RandomForest', gini['accuracy'].max()]"
      ]
    },
    {
      "cell_type": "code",
      "execution_count": 15,
      "metadata": {
        "colab": {
          "base_uri": "https://localhost:8080/",
          "height": 81
        },
        "id": "jDLZ9Eue-wMK",
        "outputId": "c065f01a-0b60-4d9b-e838-b90caa6e4e7a"
      },
      "outputs": [
        {
          "output_type": "execute_result",
          "data": {
            "text/plain": [
              "        name_ml  accuracy_valid\n",
              "0  RandomForest        0.810264"
            ],
            "text/html": [
              "\n",
              "  <div id=\"df-1dfdc101-90e4-4c52-b6e0-a7309fd756b0\">\n",
              "    <div class=\"colab-df-container\">\n",
              "      <div>\n",
              "<style scoped>\n",
              "    .dataframe tbody tr th:only-of-type {\n",
              "        vertical-align: middle;\n",
              "    }\n",
              "\n",
              "    .dataframe tbody tr th {\n",
              "        vertical-align: top;\n",
              "    }\n",
              "\n",
              "    .dataframe thead th {\n",
              "        text-align: right;\n",
              "    }\n",
              "</style>\n",
              "<table border=\"1\" class=\"dataframe\">\n",
              "  <thead>\n",
              "    <tr style=\"text-align: right;\">\n",
              "      <th></th>\n",
              "      <th>name_ml</th>\n",
              "      <th>accuracy_valid</th>\n",
              "    </tr>\n",
              "  </thead>\n",
              "  <tbody>\n",
              "    <tr>\n",
              "      <th>0</th>\n",
              "      <td>RandomForest</td>\n",
              "      <td>0.810264</td>\n",
              "    </tr>\n",
              "  </tbody>\n",
              "</table>\n",
              "</div>\n",
              "      <button class=\"colab-df-convert\" onclick=\"convertToInteractive('df-1dfdc101-90e4-4c52-b6e0-a7309fd756b0')\"\n",
              "              title=\"Convert this dataframe to an interactive table.\"\n",
              "              style=\"display:none;\">\n",
              "        \n",
              "  <svg xmlns=\"http://www.w3.org/2000/svg\" height=\"24px\"viewBox=\"0 0 24 24\"\n",
              "       width=\"24px\">\n",
              "    <path d=\"M0 0h24v24H0V0z\" fill=\"none\"/>\n",
              "    <path d=\"M18.56 5.44l.94 2.06.94-2.06 2.06-.94-2.06-.94-.94-2.06-.94 2.06-2.06.94zm-11 1L8.5 8.5l.94-2.06 2.06-.94-2.06-.94L8.5 2.5l-.94 2.06-2.06.94zm10 10l.94 2.06.94-2.06 2.06-.94-2.06-.94-.94-2.06-.94 2.06-2.06.94z\"/><path d=\"M17.41 7.96l-1.37-1.37c-.4-.4-.92-.59-1.43-.59-.52 0-1.04.2-1.43.59L10.3 9.45l-7.72 7.72c-.78.78-.78 2.05 0 2.83L4 21.41c.39.39.9.59 1.41.59.51 0 1.02-.2 1.41-.59l7.78-7.78 2.81-2.81c.8-.78.8-2.07 0-2.86zM5.41 20L4 18.59l7.72-7.72 1.47 1.35L5.41 20z\"/>\n",
              "  </svg>\n",
              "      </button>\n",
              "      \n",
              "  <style>\n",
              "    .colab-df-container {\n",
              "      display:flex;\n",
              "      flex-wrap:wrap;\n",
              "      gap: 12px;\n",
              "    }\n",
              "\n",
              "    .colab-df-convert {\n",
              "      background-color: #E8F0FE;\n",
              "      border: none;\n",
              "      border-radius: 50%;\n",
              "      cursor: pointer;\n",
              "      display: none;\n",
              "      fill: #1967D2;\n",
              "      height: 32px;\n",
              "      padding: 0 0 0 0;\n",
              "      width: 32px;\n",
              "    }\n",
              "\n",
              "    .colab-df-convert:hover {\n",
              "      background-color: #E2EBFA;\n",
              "      box-shadow: 0px 1px 2px rgba(60, 64, 67, 0.3), 0px 1px 3px 1px rgba(60, 64, 67, 0.15);\n",
              "      fill: #174EA6;\n",
              "    }\n",
              "\n",
              "    [theme=dark] .colab-df-convert {\n",
              "      background-color: #3B4455;\n",
              "      fill: #D2E3FC;\n",
              "    }\n",
              "\n",
              "    [theme=dark] .colab-df-convert:hover {\n",
              "      background-color: #434B5C;\n",
              "      box-shadow: 0px 1px 3px 1px rgba(0, 0, 0, 0.15);\n",
              "      filter: drop-shadow(0px 1px 2px rgba(0, 0, 0, 0.3));\n",
              "      fill: #FFFFFF;\n",
              "    }\n",
              "  </style>\n",
              "\n",
              "      <script>\n",
              "        const buttonEl =\n",
              "          document.querySelector('#df-1dfdc101-90e4-4c52-b6e0-a7309fd756b0 button.colab-df-convert');\n",
              "        buttonEl.style.display =\n",
              "          google.colab.kernel.accessAllowed ? 'block' : 'none';\n",
              "\n",
              "        async function convertToInteractive(key) {\n",
              "          const element = document.querySelector('#df-1dfdc101-90e4-4c52-b6e0-a7309fd756b0');\n",
              "          const dataTable =\n",
              "            await google.colab.kernel.invokeFunction('convertToInteractive',\n",
              "                                                     [key], {});\n",
              "          if (!dataTable) return;\n",
              "\n",
              "          const docLinkHtml = 'Like what you see? Visit the ' +\n",
              "            '<a target=\"_blank\" href=https://colab.research.google.com/notebooks/data_table.ipynb>data table notebook</a>'\n",
              "            + ' to learn more about interactive tables.';\n",
              "          element.innerHTML = '';\n",
              "          dataTable['output_type'] = 'display_data';\n",
              "          await google.colab.output.renderOutput(dataTable, element);\n",
              "          const docLink = document.createElement('div');\n",
              "          docLink.innerHTML = docLinkHtml;\n",
              "          element.appendChild(docLink);\n",
              "        }\n",
              "      </script>\n",
              "    </div>\n",
              "  </div>\n",
              "  "
            ]
          },
          "metadata": {},
          "execution_count": 15
        }
      ],
      "source": [
        "result_df"
      ]
    },
    {
      "cell_type": "markdown",
      "metadata": {
        "id": "mo7ZEw-B-wMK"
      },
      "source": [
        "### Логистическая регрессия"
      ]
    },
    {
      "cell_type": "markdown",
      "metadata": {
        "id": "HH3_N7M1-wMK"
      },
      "source": [
        "Логистическая регрессия или логит-модель (англ. logit model) — статистическая модель, используемая для прогнозирования вероятности возникновения некоторого события путём его сравнения с логистической кривой. Эта регреcсия выдаёт ответ в виде вероятности бинарного события (1 или 0)."
      ]
    },
    {
      "cell_type": "markdown",
      "metadata": {
        "id": "A-6-_hKB-wML"
      },
      "source": [
        "Рассмотим следующий алгоритм и влияние гиперпараметра **С** (параметр регуляризации) на значение точности"
      ]
    },
    {
      "cell_type": "code",
      "execution_count": 16,
      "metadata": {
        "id": "bFdzvr7K-wML"
      },
      "outputs": [],
      "source": [
        "models = []\n",
        "results = []\n",
        "for c in np.logspace(-4, 4, 50):\n",
        "    logreg = LogisticRegression(C=c, random_state=101, solver='liblinear')\n",
        "    logreg.fit(features_train, target_train)\n",
        "    result = logreg.score(features_valid, target_valid)\n",
        "    models.append(logreg)\n",
        "    results.append(result)"
      ]
    },
    {
      "cell_type": "code",
      "execution_count": 17,
      "metadata": {
        "id": "aaI2pXs5-wML"
      },
      "outputs": [],
      "source": [
        "results = pd.DataFrame(results, columns=['score']) #Преобразуем results в таблицу для удобства построения графика\n",
        "results['number_C'] = np.logspace(-4, 4, 50)"
      ]
    },
    {
      "cell_type": "code",
      "execution_count": 18,
      "metadata": {
        "colab": {
          "base_uri": "https://localhost:8080/",
          "height": 530
        },
        "id": "sPZjdQmk-wMM",
        "outputId": "f8eaa285-06bc-4ef4-e941-cdc5fac58a7e"
      },
      "outputs": [
        {
          "output_type": "display_data",
          "data": {
            "text/plain": [
              "<Figure size 864x432 with 1 Axes>"
            ],
            "image/png": "[encoded data removed]"
          },
          "metadata": {
            "needs_background": "light"
          }
        }
      ],
      "source": [
        "results.plot(kind='bar', y='score', x='number_C', ylim=[0.7,0.75], figsize=(12,6))\n",
        "plt.title('Зависимость точности от параметра С')\n",
        "plt.xlabel('Значение С')\n",
        "plt.ylabel('Точность')\n",
        "plt.grid()\n",
        "plt.show()"
      ]
    },
    {
      "cell_type": "markdown",
      "metadata": {
        "id": "gOGIFr_r-wMM"
      },
      "source": [
        "Как видно из графика, данный алгоритм слабо подходит для данной задачи, так как никаким образом изменения гиперпараметра не влияет на точность предсказаний. Полученые значения меньше заданного порога в 0.75, поэтому не будем рассматривать данный алгоритм в дальнейшей работе."
      ]
    },
    {
      "cell_type": "markdown",
      "metadata": {
        "id": "35MnWXgw-wMN"
      },
      "source": [
        "### Наивный байесовский классификатор"
      ]
    },
    {
      "cell_type": "markdown",
      "metadata": {
        "id": "drEQjA9r-wMN"
      },
      "source": [
        "\\- Это простой вероятностный классификатор, основанный на применении теоремы Байеса со строгими (наивными) предположениями о независимости."
      ]
    },
    {
      "cell_type": "markdown",
      "metadata": {
        "id": "wEL9f0pg-wMN"
      },
      "source": [
        "Так как признаки в таблицы непрерывные и скорее всего нормально распределены, то будет использовать модель **GaussianNB**. Скорый ручной перебор параметров не дал результата - изменения точности, поэтому используем модель по умолчанию."
      ]
    },
    {
      "cell_type": "code",
      "execution_count": 19,
      "metadata": {
        "id": "0p868W7t-wMO"
      },
      "outputs": [],
      "source": [
        "gnb = GaussianNB()\n",
        "gnb.fit(features_train, target_train)\n",
        "result = gnb.score(features_valid, target_valid)"
      ]
    },
    {
      "cell_type": "code",
      "execution_count": 20,
      "metadata": {
        "colab": {
          "base_uri": "https://localhost:8080/"
        },
        "id": "b6VU-7Jm-wMO",
        "outputId": "65a256ff-147a-42de-e4fe-5224a0850af1"
      },
      "outputs": [
        {
          "output_type": "execute_result",
          "data": {
            "text/plain": [
              "0.7791601866251944"
            ]
          },
          "metadata": {},
          "execution_count": 20
        }
      ],
      "source": [
        "result"
      ]
    },
    {
      "cell_type": "markdown",
      "metadata": {
        "id": "T7wLdAu3-wMO"
      },
      "source": [
        "Сохраним полученное значение, оно больше порогового значения. Посмотрим как покажет себя данный алгоритм на тестовой выборке."
      ]
    },
    {
      "cell_type": "code",
      "execution_count": 21,
      "metadata": {
        "id": "GmPKKBmN-wMO"
      },
      "outputs": [],
      "source": [
        "result_df.loc[1]=['GaissianNB', result]"
      ]
    },
    {
      "cell_type": "markdown",
      "metadata": {
        "id": "OSA7L-Tt-wMQ"
      },
      "source": [
        "### Метод опорных векторов"
      ]
    },
    {
      "cell_type": "markdown",
      "metadata": {
        "id": "UL2s8uyP-wMR"
      },
      "source": [
        "Метод опорных векторов (англ. SVM, support vector machine) — набор схожих алгоритмов обучения с учителем, использующихся для задач классификации и регрессионного анализа. Основная идея метода — перевод исходных векторов в пространство более высокой размерности и поиск разделяющей гиперплоскости с наибольшим зазором в этом пространстве."
      ]
    },
    {
      "cell_type": "markdown",
      "metadata": {
        "id": "XECc5249-wMR"
      },
      "source": [
        "Рассмотрим последний алгоритм, для подбора лучших параметров воспользуемся встроенным методом поиска"
      ]
    },
    {
      "cell_type": "code",
      "execution_count": 22,
      "metadata": {
        "colab": {
          "base_uri": "https://localhost:8080/"
        },
        "id": "7HIU3Hlj-wMS",
        "outputId": "7578112b-2723-422a-f7ed-4d952b627f6f"
      },
      "outputs": [
        {
          "output_type": "stream",
          "name": "stdout",
          "text": [
            "Score       =  0.7639923359240071\n",
            "best C      =  1.0\n",
            "best gamma  =  1e-05\n"
          ]
        }
      ],
      "source": [
        "C_array = np.logspace(-3, 3, num=7) #задаем диспазон значений параметра C\n",
        "gamma_array = np.logspace(-5, 2, num=8) #задаем диспазон значений параметра gamma\n",
        "svc = SVC(kernel='rbf', random_state=101)\n",
        "grid = GridSearchCV(svc, param_grid={'C': C_array, 'gamma': gamma_array}, cv=10)\n",
        "grid.fit(features_train, target_train)\n",
        "print('Score       = ', grid.best_score_)\n",
        "print('best C      = ', grid.best_estimator_.C)\n",
        "print('best gamma  = ', grid.best_estimator_.gamma)"
      ]
    },
    {
      "cell_type": "markdown",
      "metadata": {
        "id": "n9bxaAoX-wMT"
      },
      "source": [
        "Сохраним данное значение точности для для проверки на тестовой выборке."
      ]
    },
    {
      "cell_type": "code",
      "execution_count": 23,
      "metadata": {
        "id": "293JCAkg-wMT"
      },
      "outputs": [],
      "source": [
        "result_df.loc[2]=['SVC', grid.best_score_]"
      ]
    },
    {
      "cell_type": "markdown",
      "metadata": {
        "id": "YkUeAGtR-wMU"
      },
      "source": [
        "### Вывод"
      ]
    },
    {
      "cell_type": "markdown",
      "metadata": {
        "id": "BaitXfc--wMU"
      },
      "source": [
        "В результате произведенных расчетов - увидили, как влияет изменение гиперпараметров на точность прогнозирования. До проверки моделей на тестовых данных выбрали три алгоритма."
      ]
    },
    {
      "cell_type": "code",
      "execution_count": 24,
      "metadata": {
        "colab": {
          "base_uri": "https://localhost:8080/",
          "height": 143
        },
        "id": "X48Qwkhm-wMU",
        "outputId": "9ba70ab2-7232-4203-9d7d-c5793d5d1811"
      },
      "outputs": [
        {
          "output_type": "execute_result",
          "data": {
            "text/plain": [
              "        name_ml  accuracy_valid\n",
              "0  RandomForest        0.810264\n",
              "1    GaissianNB        0.779160\n",
              "2           SVC        0.763992"
            ],
            "text/html": [
              "\n",
              "  <div id=\"df-d501f0c3-9a54-43d7-8bd3-788327e5b869\">\n",
              "    <div class=\"colab-df-container\">\n",
              "      <div>\n",
              "<style scoped>\n",
              "    .dataframe tbody tr th:only-of-type {\n",
              "        vertical-align: middle;\n",
              "    }\n",
              "\n",
              "    .dataframe tbody tr th {\n",
              "        vertical-align: top;\n",
              "    }\n",
              "\n",
              "    .dataframe thead th {\n",
              "        text-align: right;\n",
              "    }\n",
              "</style>\n",
              "<table border=\"1\" class=\"dataframe\">\n",
              "  <thead>\n",
              "    <tr style=\"text-align: right;\">\n",
              "      <th></th>\n",
              "      <th>name_ml</th>\n",
              "      <th>accuracy_valid</th>\n",
              "    </tr>\n",
              "  </thead>\n",
              "  <tbody>\n",
              "    <tr>\n",
              "      <th>0</th>\n",
              "      <td>RandomForest</td>\n",
              "      <td>0.810264</td>\n",
              "    </tr>\n",
              "    <tr>\n",
              "      <th>1</th>\n",
              "      <td>GaissianNB</td>\n",
              "      <td>0.779160</td>\n",
              "    </tr>\n",
              "    <tr>\n",
              "      <th>2</th>\n",
              "      <td>SVC</td>\n",
              "      <td>0.763992</td>\n",
              "    </tr>\n",
              "  </tbody>\n",
              "</table>\n",
              "</div>\n",
              "      <button class=\"colab-df-convert\" onclick=\"convertToInteractive('df-d501f0c3-9a54-43d7-8bd3-788327e5b869')\"\n",
              "              title=\"Convert this dataframe to an interactive table.\"\n",
              "              style=\"display:none;\">\n",
              "        \n",
              "  <svg xmlns=\"http://www.w3.org/2000/svg\" height=\"24px\"viewBox=\"0 0 24 24\"\n",
              "       width=\"24px\">\n",
              "    <path d=\"M0 0h24v24H0V0z\" fill=\"none\"/>\n",
              "    <path d=\"M18.56 5.44l.94 2.06.94-2.06 2.06-.94-2.06-.94-.94-2.06-.94 2.06-2.06.94zm-11 1L8.5 8.5l.94-2.06 2.06-.94-2.06-.94L8.5 2.5l-.94 2.06-2.06.94zm10 10l.94 2.06.94-2.06 2.06-.94-2.06-.94-.94-2.06-.94 2.06-2.06.94z\"/><path d=\"M17.41 7.96l-1.37-1.37c-.4-.4-.92-.59-1.43-.59-.52 0-1.04.2-1.43.59L10.3 9.45l-7.72 7.72c-.78.78-.78 2.05 0 2.83L4 21.41c.39.39.9.59 1.41.59.51 0 1.02-.2 1.41-.59l7.78-7.78 2.81-2.81c.8-.78.8-2.07 0-2.86zM5.41 20L4 18.59l7.72-7.72 1.47 1.35L5.41 20z\"/>\n",
              "  </svg>\n",
              "      </button>\n",
              "      \n",
              "  <style>\n",
              "    .colab-df-container {\n",
              "      display:flex;\n",
              "      flex-wrap:wrap;\n",
              "      gap: 12px;\n",
              "    }\n",
              "\n",
              "    .colab-df-convert {\n",
              "      background-color: #E8F0FE;\n",
              "      border: none;\n",
              "      border-radius: 50%;\n",
              "      cursor: pointer;\n",
              "      display: none;\n",
              "      fill: #1967D2;\n",
              "      height: 32px;\n",
              "      padding: 0 0 0 0;\n",
              "      width: 32px;\n",
              "    }\n",
              "\n",
              "    .colab-df-convert:hover {\n",
              "      background-color: #E2EBFA;\n",
              "      box-shadow: 0px 1px 2px rgba(60, 64, 67, 0.3), 0px 1px 3px 1px rgba(60, 64, 67, 0.15);\n",
              "      fill: #174EA6;\n",
              "    }\n",
              "\n",
              "    [theme=dark] .colab-df-convert {\n",
              "      background-color: #3B4455;\n",
              "      fill: #D2E3FC;\n",
              "    }\n",
              "\n",
              "    [theme=dark] .colab-df-convert:hover {\n",
              "      background-color: #434B5C;\n",
              "      box-shadow: 0px 1px 3px 1px rgba(0, 0, 0, 0.15);\n",
              "      filter: drop-shadow(0px 1px 2px rgba(0, 0, 0, 0.3));\n",
              "      fill: #FFFFFF;\n",
              "    }\n",
              "  </style>\n",
              "\n",
              "      <script>\n",
              "        const buttonEl =\n",
              "          document.querySelector('#df-d501f0c3-9a54-43d7-8bd3-788327e5b869 button.colab-df-convert');\n",
              "        buttonEl.style.display =\n",
              "          google.colab.kernel.accessAllowed ? 'block' : 'none';\n",
              "\n",
              "        async function convertToInteractive(key) {\n",
              "          const element = document.querySelector('#df-d501f0c3-9a54-43d7-8bd3-788327e5b869');\n",
              "          const dataTable =\n",
              "            await google.colab.kernel.invokeFunction('convertToInteractive',\n",
              "                                                     [key], {});\n",
              "          if (!dataTable) return;\n",
              "\n",
              "          const docLinkHtml = 'Like what you see? Visit the ' +\n",
              "            '<a target=\"_blank\" href=https://colab.research.google.com/notebooks/data_table.ipynb>data table notebook</a>'\n",
              "            + ' to learn more about interactive tables.';\n",
              "          element.innerHTML = '';\n",
              "          dataTable['output_type'] = 'display_data';\n",
              "          await google.colab.output.renderOutput(dataTable, element);\n",
              "          const docLink = document.createElement('div');\n",
              "          docLink.innerHTML = docLinkHtml;\n",
              "          element.appendChild(docLink);\n",
              "        }\n",
              "      </script>\n",
              "    </div>\n",
              "  </div>\n",
              "  "
            ]
          },
          "metadata": {},
          "execution_count": 24
        }
      ],
      "source": [
        "result_df"
      ]
    },
    {
      "cell_type": "markdown",
      "metadata": {
        "id": "E1A2__70-wMU"
      },
      "source": [
        "## Проверка моделей на тестовой выборке"
      ]
    },
    {
      "cell_type": "markdown",
      "metadata": {
        "id": "5SVMzqyp-wMV"
      },
      "source": [
        "Теперь проверим наши модели на тестовой выборке, и построим график отображение сравнения точностей для разных моделей"
      ]
    },
    {
      "cell_type": "code",
      "execution_count": 25,
      "metadata": {
        "id": "Hi7acjiW-wMV"
      },
      "outputs": [],
      "source": [
        "accuracy_test = []"
      ]
    },
    {
      "cell_type": "markdown",
      "metadata": {
        "id": "wW3ch5w5-wMV"
      },
      "source": [
        "Случайный лес"
      ]
    },
    {
      "cell_type": "code",
      "execution_count": 26,
      "metadata": {
        "id": "zQTTVYw1-wMV"
      },
      "outputs": [],
      "source": [
        "randfor = RandomForestClassifier(random_state=101, n_estimators=10, criterion='entropy')\n",
        "randfor.fit(features_train, target_train)\n",
        "accuracy_test.append(randfor.score(features_test, target_test))"
      ]
    },
    {
      "cell_type": "markdown",
      "metadata": {
        "id": "wrHfVSHL-wMV"
      },
      "source": [
        "Наивный байесовский классификатор"
      ]
    },
    {
      "cell_type": "code",
      "execution_count": 27,
      "metadata": {
        "id": "lvO_Vjj_-wMW"
      },
      "outputs": [],
      "source": [
        "gnb.fit(features_train, target_train)\n",
        "accuracy_test.append(gnb.score(features_test, target_test))"
      ]
    },
    {
      "cell_type": "markdown",
      "metadata": {
        "id": "Qj5QIoly-wMW"
      },
      "source": [
        "Метод опорных векторов"
      ]
    },
    {
      "cell_type": "code",
      "execution_count": 28,
      "metadata": {
        "id": "CE-at2K8-wMW"
      },
      "outputs": [],
      "source": [
        "accuracy_test.append(grid.best_estimator_.score(features_test, target_test))"
      ]
    },
    {
      "cell_type": "markdown",
      "metadata": {
        "id": "t-BcHGrV-wMX"
      },
      "source": [
        "Итоговая таблица результативности"
      ]
    },
    {
      "cell_type": "code",
      "execution_count": 29,
      "metadata": {
        "id": "OgnUGYJs-wMX"
      },
      "outputs": [],
      "source": [
        "result_df['accuracy_test'] = accuracy_test"
      ]
    },
    {
      "cell_type": "code",
      "execution_count": 30,
      "metadata": {
        "colab": {
          "base_uri": "https://localhost:8080/",
          "height": 143
        },
        "id": "GAMwQ0JV-wMX",
        "outputId": "72f0add8-00eb-4a9b-ee19-cdc113a8b1cf"
      },
      "outputs": [
        {
          "output_type": "execute_result",
          "data": {
            "text/plain": [
              "        name_ml  accuracy_valid  accuracy_test\n",
              "0  RandomForest        0.810264       0.793157\n",
              "1    GaissianNB        0.779160       0.777605\n",
              "2           SVC        0.763992       0.774495"
            ],
            "text/html": [
              "\n",
              "  <div id=\"df-3048c735-07c0-4996-a88a-1c93ddb4d130\">\n",
              "    <div class=\"colab-df-container\">\n",
              "      <div>\n",
              "<style scoped>\n",
              "    .dataframe tbody tr th:only-of-type {\n",
              "        vertical-align: middle;\n",
              "    }\n",
              "\n",
              "    .dataframe tbody tr th {\n",
              "        vertical-align: top;\n",
              "    }\n",
              "\n",
              "    .dataframe thead th {\n",
              "        text-align: right;\n",
              "    }\n",
              "</style>\n",
              "<table border=\"1\" class=\"dataframe\">\n",
              "  <thead>\n",
              "    <tr style=\"text-align: right;\">\n",
              "      <th></th>\n",
              "      <th>name_ml</th>\n",
              "      <th>accuracy_valid</th>\n",
              "      <th>accuracy_test</th>\n",
              "    </tr>\n",
              "  </thead>\n",
              "  <tbody>\n",
              "    <tr>\n",
              "      <th>0</th>\n",
              "      <td>RandomForest</td>\n",
              "      <td>0.810264</td>\n",
              "      <td>0.793157</td>\n",
              "    </tr>\n",
              "    <tr>\n",
              "      <th>1</th>\n",
              "      <td>GaissianNB</td>\n",
              "      <td>0.779160</td>\n",
              "      <td>0.777605</td>\n",
              "    </tr>\n",
              "    <tr>\n",
              "      <th>2</th>\n",
              "      <td>SVC</td>\n",
              "      <td>0.763992</td>\n",
              "      <td>0.774495</td>\n",
              "    </tr>\n",
              "  </tbody>\n",
              "</table>\n",
              "</div>\n",
              "      <button class=\"colab-df-convert\" onclick=\"convertToInteractive('df-3048c735-07c0-4996-a88a-1c93ddb4d130')\"\n",
              "              title=\"Convert this dataframe to an interactive table.\"\n",
              "              style=\"display:none;\">\n",
              "        \n",
              "  <svg xmlns=\"http://www.w3.org/2000/svg\" height=\"24px\"viewBox=\"0 0 24 24\"\n",
              "       width=\"24px\">\n",
              "    <path d=\"M0 0h24v24H0V0z\" fill=\"none\"/>\n",
              "    <path d=\"M18.56 5.44l.94 2.06.94-2.06 2.06-.94-2.06-.94-.94-2.06-.94 2.06-2.06.94zm-11 1L8.5 8.5l.94-2.06 2.06-.94-2.06-.94L8.5 2.5l-.94 2.06-2.06.94zm10 10l.94 2.06.94-2.06 2.06-.94-2.06-.94-.94-2.06-.94 2.06-2.06.94z\"/><path d=\"M17.41 7.96l-1.37-1.37c-.4-.4-.92-.59-1.43-.59-.52 0-1.04.2-1.43.59L10.3 9.45l-7.72 7.72c-.78.78-.78 2.05 0 2.83L4 21.41c.39.39.9.59 1.41.59.51 0 1.02-.2 1.41-.59l7.78-7.78 2.81-2.81c.8-.78.8-2.07 0-2.86zM5.41 20L4 18.59l7.72-7.72 1.47 1.35L5.41 20z\"/>\n",
              "  </svg>\n",
              "      </button>\n",
              "      \n",
              "  <style>\n",
              "    .colab-df-container {\n",
              "      display:flex;\n",
              "      flex-wrap:wrap;\n",
              "      gap: 12px;\n",
              "    }\n",
              "\n",
              "    .colab-df-convert {\n",
              "      background-color: #E8F0FE;\n",
              "      border: none;\n",
              "      border-radius: 50%;\n",
              "      cursor: pointer;\n",
              "      display: none;\n",
              "      fill: #1967D2;\n",
              "      height: 32px;\n",
              "      padding: 0 0 0 0;\n",
              "      width: 32px;\n",
              "    }\n",
              "\n",
              "    .colab-df-convert:hover {\n",
              "      background-color: #E2EBFA;\n",
              "      box-shadow: 0px 1px 2px rgba(60, 64, 67, 0.3), 0px 1px 3px 1px rgba(60, 64, 67, 0.15);\n",
              "      fill: #174EA6;\n",
              "    }\n",
              "\n",
              "    [theme=dark] .colab-df-convert {\n",
              "      background-color: #3B4455;\n",
              "      fill: #D2E3FC;\n",
              "    }\n",
              "\n",
              "    [theme=dark] .colab-df-convert:hover {\n",
              "      background-color: #434B5C;\n",
              "      box-shadow: 0px 1px 3px 1px rgba(0, 0, 0, 0.15);\n",
              "      filter: drop-shadow(0px 1px 2px rgba(0, 0, 0, 0.3));\n",
              "      fill: #FFFFFF;\n",
              "    }\n",
              "  </style>\n",
              "\n",
              "      <script>\n",
              "        const buttonEl =\n",
              "          document.querySelector('#df-3048c735-07c0-4996-a88a-1c93ddb4d130 button.colab-df-convert');\n",
              "        buttonEl.style.display =\n",
              "          google.colab.kernel.accessAllowed ? 'block' : 'none';\n",
              "\n",
              "        async function convertToInteractive(key) {\n",
              "          const element = document.querySelector('#df-3048c735-07c0-4996-a88a-1c93ddb4d130');\n",
              "          const dataTable =\n",
              "            await google.colab.kernel.invokeFunction('convertToInteractive',\n",
              "                                                     [key], {});\n",
              "          if (!dataTable) return;\n",
              "\n",
              "          const docLinkHtml = 'Like what you see? Visit the ' +\n",
              "            '<a target=\"_blank\" href=https://colab.research.google.com/notebooks/data_table.ipynb>data table notebook</a>'\n",
              "            + ' to learn more about interactive tables.';\n",
              "          element.innerHTML = '';\n",
              "          dataTable['output_type'] = 'display_data';\n",
              "          await google.colab.output.renderOutput(dataTable, element);\n",
              "          const docLink = document.createElement('div');\n",
              "          docLink.innerHTML = docLinkHtml;\n",
              "          element.appendChild(docLink);\n",
              "        }\n",
              "      </script>\n",
              "    </div>\n",
              "  </div>\n",
              "  "
            ]
          },
          "metadata": {},
          "execution_count": 30
        }
      ],
      "source": [
        "result_df"
      ]
    },
    {
      "cell_type": "markdown",
      "metadata": {
        "id": "GjKla9L6-wMX"
      },
      "source": [
        "Для наглядности построим график"
      ]
    },
    {
      "cell_type": "code",
      "execution_count": 31,
      "metadata": {
        "colab": {
          "base_uri": "https://localhost:8080/",
          "height": 295
        },
        "id": "oylz29Yi-wMY",
        "outputId": "7f4bdfb4-a022-47b2-ccd8-482a78bc0a89"
      },
      "outputs": [
        {
          "output_type": "display_data",
          "data": {
            "text/plain": [
              "<Figure size 432x288 with 1 Axes>"
            ],
            "image/png": "[encoded data removed]"
          },
          "metadata": {
            "needs_background": "light"
          }
        }
      ],
      "source": [
        "result_df.plot(kind='bar')\n",
        "plt.title('Значение точности предсказаний')\n",
        "plt.xlabel('Алгоритмы')\n",
        "plt.ylabel('Точность')\n",
        "plt.xticks(range(len(result_df['name_ml'])), labels=result_df['name_ml'], rotation=0)\n",
        "plt.ylim(0.75,0.9)\n",
        "plt.grid()\n",
        "plt.show()"
      ]
    },
    {
      "cell_type": "markdown",
      "metadata": {
        "id": "PjA9Sg7o-wMY"
      },
      "source": [
        "Как видно из таблицы и графика лучшую точность показывает алгоритм **Случайный лес**. В 79% он правильно предсказывает значение тарифа."
      ]
    },
    {
      "cell_type": "markdown",
      "metadata": {
        "id": "6HRdlufj-wMY"
      },
      "source": [
        "## Проверка на адекватность"
      ]
    },
    {
      "cell_type": "markdown",
      "source": [
        "Проверим полученные результаты с болванкой"
      ],
      "metadata": {
        "id": "mNnO8Kp7DGVi"
      }
    },
    {
      "cell_type": "code",
      "execution_count": 32,
      "metadata": {
        "colab": {
          "base_uri": "https://localhost:8080/"
        },
        "id": "cGTd2C9E-wMf",
        "outputId": "2d71158f-46f9-4aa8-9ddc-ec17b2025635"
      },
      "outputs": [
        {
          "output_type": "stream",
          "name": "stdout",
          "text": [
            "Точность болванки: 0.6811819595645412\n"
          ]
        }
      ],
      "source": [
        "dummy = DummyClassifier(strategy='most_frequent').fit(features_train, target_train)\n",
        "print('Точность болванки:', accuracy_score(target_test, dummy.predict(features_test)))"
      ]
    },
    {
      "cell_type": "markdown",
      "source": [
        "## Вывод"
      ],
      "metadata": {
        "id": "rLRZwxkiDOfI"
      }
    },
    {
      "cell_type": "markdown",
      "source": [
        "В работе было рассмотрено 4 различных алгоритма машинного обучения, лучшим по метрике **accuracy** является RandomForest со значением **0,793** на тестовой выборке, что полностью удовлитворяет условиям задачи. Дополнительно было произведено сравнение полученых результатов с болванкой, чтобы показать, что обученные модели хорошо справляются с поставленной задачей."
      ],
      "metadata": {
        "id": "AB4jvirpDRpV"
      }
    },
    {
      "cell_type": "code",
      "source": [
        ""
      ],
      "metadata": {
        "id": "_pAgN-h0DFQY"
      },
      "execution_count": 32,
      "outputs": []
    }
  ],
  "metadata": {
    "ExecuteTimeLog": [
      {
        "duration": 1343,
        "start_time": "2021-12-22T05:20:49.779Z"
      },
      {
        "duration": 23,
        "start_time": "2021-12-22T05:20:53.264Z"
      },
      {
        "duration": 37,
        "start_time": "2021-12-22T05:21:03.189Z"
      },
      {
        "duration": 9,
        "start_time": "2021-12-22T05:21:42.697Z"
      },
      {
        "duration": 5,
        "start_time": "2021-12-22T05:47:17.024Z"
      },
      {
        "duration": 9,
        "start_time": "2021-12-22T06:27:31.977Z"
      },
      {
        "duration": 253,
        "start_time": "2021-12-22T06:27:43.104Z"
      },
      {
        "duration": 9,
        "start_time": "2021-12-22T06:27:52.048Z"
      },
      {
        "duration": 7,
        "start_time": "2021-12-22T06:28:55.365Z"
      },
      {
        "duration": 902,
        "start_time": "2021-12-22T06:29:51.705Z"
      },
      {
        "duration": 432,
        "start_time": "2021-12-22T06:30:21.989Z"
      },
      {
        "duration": 5,
        "start_time": "2021-12-22T06:30:48.825Z"
      },
      {
        "duration": 6,
        "start_time": "2021-12-22T06:31:00.587Z"
      },
      {
        "duration": 10,
        "start_time": "2021-12-22T06:31:39.999Z"
      },
      {
        "duration": 1439,
        "start_time": "2021-12-22T06:45:15.897Z"
      },
      {
        "duration": 22,
        "start_time": "2021-12-22T06:45:17.338Z"
      },
      {
        "duration": 16,
        "start_time": "2021-12-22T06:45:17.363Z"
      },
      {
        "duration": 12,
        "start_time": "2021-12-22T06:45:17.382Z"
      },
      {
        "duration": 75,
        "start_time": "2021-12-22T06:45:17.397Z"
      },
      {
        "duration": 10,
        "start_time": "2021-12-22T06:45:17.474Z"
      },
      {
        "duration": 553,
        "start_time": "2021-12-22T06:45:17.486Z"
      },
      {
        "duration": -1114,
        "start_time": "2021-12-22T06:45:19.156Z"
      },
      {
        "duration": -1145,
        "start_time": "2021-12-22T06:45:19.188Z"
      },
      {
        "duration": -1146,
        "start_time": "2021-12-22T06:45:19.191Z"
      },
      {
        "duration": -1145,
        "start_time": "2021-12-22T06:45:19.192Z"
      },
      {
        "duration": -1146,
        "start_time": "2021-12-22T06:45:19.195Z"
      },
      {
        "duration": -1147,
        "start_time": "2021-12-22T06:45:19.197Z"
      },
      {
        "duration": 7,
        "start_time": "2021-12-22T06:45:38.975Z"
      },
      {
        "duration": 9,
        "start_time": "2021-12-22T06:45:41.176Z"
      },
      {
        "duration": 5,
        "start_time": "2021-12-22T06:45:45.363Z"
      },
      {
        "duration": 5,
        "start_time": "2021-12-22T06:45:47.556Z"
      },
      {
        "duration": 5,
        "start_time": "2021-12-22T06:45:52.132Z"
      },
      {
        "duration": 4,
        "start_time": "2021-12-22T06:56:41.426Z"
      },
      {
        "duration": 46,
        "start_time": "2021-12-22T14:25:59.707Z"
      },
      {
        "duration": 808,
        "start_time": "2021-12-22T14:29:22.405Z"
      },
      {
        "duration": 6,
        "start_time": "2021-12-22T14:29:39.250Z"
      },
      {
        "duration": 1492,
        "start_time": "2021-12-22T14:30:00.815Z"
      },
      {
        "duration": 327,
        "start_time": "2021-12-22T14:30:48.582Z"
      },
      {
        "duration": 328,
        "start_time": "2021-12-22T14:32:02.886Z"
      },
      {
        "duration": 5,
        "start_time": "2021-12-22T14:34:34.946Z"
      },
      {
        "duration": 9,
        "start_time": "2021-12-22T14:34:40.484Z"
      },
      {
        "duration": 5,
        "start_time": "2021-12-22T14:35:29.441Z"
      },
      {
        "duration": 11,
        "start_time": "2021-12-22T14:35:41.833Z"
      },
      {
        "duration": 104,
        "start_time": "2021-12-22T14:37:05.827Z"
      },
      {
        "duration": 6,
        "start_time": "2021-12-22T14:38:01.981Z"
      },
      {
        "duration": 10,
        "start_time": "2021-12-22T14:38:05.322Z"
      },
      {
        "duration": 695,
        "start_time": "2021-12-22T14:38:14.394Z"
      },
      {
        "duration": 6,
        "start_time": "2021-12-22T14:38:16.311Z"
      },
      {
        "duration": 10,
        "start_time": "2021-12-22T14:38:17.132Z"
      },
      {
        "duration": 329,
        "start_time": "2021-12-22T14:38:30.097Z"
      },
      {
        "duration": 316,
        "start_time": "2021-12-22T14:38:47.728Z"
      },
      {
        "duration": 437,
        "start_time": "2021-12-22T14:39:21.075Z"
      },
      {
        "duration": 445,
        "start_time": "2021-12-22T14:41:59.044Z"
      },
      {
        "duration": 391,
        "start_time": "2021-12-22T14:45:53.912Z"
      },
      {
        "duration": 489,
        "start_time": "2021-12-22T14:45:58.578Z"
      },
      {
        "duration": 423,
        "start_time": "2021-12-22T14:46:07.503Z"
      },
      {
        "duration": 463,
        "start_time": "2021-12-22T14:46:24.243Z"
      },
      {
        "duration": 405,
        "start_time": "2021-12-22T14:47:03.649Z"
      },
      {
        "duration": 417,
        "start_time": "2021-12-22T14:47:29.532Z"
      },
      {
        "duration": 4,
        "start_time": "2021-12-22T14:52:11.923Z"
      },
      {
        "duration": 5,
        "start_time": "2021-12-22T14:52:15.233Z"
      },
      {
        "duration": 61903,
        "start_time": "2021-12-22T15:02:06.347Z"
      },
      {
        "duration": 653,
        "start_time": "2021-12-22T15:05:13.415Z"
      },
      {
        "duration": 6,
        "start_time": "2021-12-22T15:05:23.610Z"
      },
      {
        "duration": 2563,
        "start_time": "2021-12-22T15:05:27.312Z"
      },
      {
        "duration": 17877,
        "start_time": "2021-12-22T15:06:15.140Z"
      },
      {
        "duration": 6,
        "start_time": "2021-12-22T15:07:37.078Z"
      },
      {
        "duration": 1577,
        "start_time": "2021-12-22T15:07:37.759Z"
      },
      {
        "duration": 1926,
        "start_time": "2021-12-22T15:09:35.656Z"
      },
      {
        "duration": 1797,
        "start_time": "2021-12-22T15:09:52.379Z"
      },
      {
        "duration": 1759,
        "start_time": "2021-12-22T15:10:14.720Z"
      },
      {
        "duration": 1632,
        "start_time": "2021-12-22T15:10:29.118Z"
      },
      {
        "duration": 1806,
        "start_time": "2021-12-22T15:14:00.477Z"
      },
      {
        "duration": 1708,
        "start_time": "2021-12-22T15:17:42.302Z"
      },
      {
        "duration": 4,
        "start_time": "2021-12-22T15:18:59.377Z"
      },
      {
        "duration": 6,
        "start_time": "2021-12-22T15:19:00.420Z"
      },
      {
        "duration": 20292,
        "start_time": "2021-12-22T15:19:09.704Z"
      },
      {
        "duration": 19948,
        "start_time": "2021-12-22T15:20:30.039Z"
      },
      {
        "duration": 7517,
        "start_time": "2021-12-22T15:21:31.860Z"
      },
      {
        "duration": 6,
        "start_time": "2021-12-22T15:22:11.889Z"
      },
      {
        "duration": 9173,
        "start_time": "2021-12-22T15:22:16.739Z"
      },
      {
        "duration": 6,
        "start_time": "2021-12-22T15:24:21.420Z"
      },
      {
        "duration": 8597,
        "start_time": "2021-12-22T15:24:24.028Z"
      },
      {
        "duration": 7,
        "start_time": "2021-12-22T15:24:57.824Z"
      },
      {
        "duration": 8457,
        "start_time": "2021-12-22T15:25:06.925Z"
      },
      {
        "duration": 6,
        "start_time": "2021-12-22T15:26:08.131Z"
      },
      {
        "duration": 8772,
        "start_time": "2021-12-22T15:26:10.300Z"
      },
      {
        "duration": 1445,
        "start_time": "2021-12-22T15:26:32.287Z"
      },
      {
        "duration": 23,
        "start_time": "2021-12-22T15:26:33.734Z"
      },
      {
        "duration": 22,
        "start_time": "2021-12-22T15:26:33.760Z"
      },
      {
        "duration": 16,
        "start_time": "2021-12-22T15:26:33.785Z"
      },
      {
        "duration": 40,
        "start_time": "2021-12-22T15:26:33.804Z"
      },
      {
        "duration": 20,
        "start_time": "2021-12-22T15:26:33.846Z"
      },
      {
        "duration": 23,
        "start_time": "2021-12-22T15:26:33.869Z"
      },
      {
        "duration": 17,
        "start_time": "2021-12-22T15:26:33.897Z"
      },
      {
        "duration": 12,
        "start_time": "2021-12-22T15:26:33.916Z"
      },
      {
        "duration": 17,
        "start_time": "2021-12-22T15:26:33.931Z"
      },
      {
        "duration": 13,
        "start_time": "2021-12-22T15:26:33.951Z"
      },
      {
        "duration": 59,
        "start_time": "2021-12-22T15:26:33.967Z"
      },
      {
        "duration": 7,
        "start_time": "2021-12-22T15:26:34.028Z"
      },
      {
        "duration": 7958,
        "start_time": "2021-12-22T15:26:34.037Z"
      },
      {
        "duration": -107,
        "start_time": "2021-12-22T15:26:42.104Z"
      },
      {
        "duration": -109,
        "start_time": "2021-12-22T15:26:42.108Z"
      },
      {
        "duration": -111,
        "start_time": "2021-12-22T15:26:42.112Z"
      },
      {
        "duration": -114,
        "start_time": "2021-12-22T15:26:42.116Z"
      },
      {
        "duration": 1521,
        "start_time": "2021-12-22T15:27:14.291Z"
      },
      {
        "duration": 22,
        "start_time": "2021-12-22T15:27:15.815Z"
      },
      {
        "duration": 23,
        "start_time": "2021-12-22T15:27:15.841Z"
      },
      {
        "duration": 10,
        "start_time": "2021-12-22T15:27:15.866Z"
      },
      {
        "duration": 40,
        "start_time": "2021-12-22T15:27:15.879Z"
      },
      {
        "duration": 7,
        "start_time": "2021-12-22T15:27:15.922Z"
      },
      {
        "duration": 34,
        "start_time": "2021-12-22T15:27:15.932Z"
      },
      {
        "duration": 12,
        "start_time": "2021-12-22T15:27:15.969Z"
      },
      {
        "duration": 7,
        "start_time": "2021-12-22T15:27:15.987Z"
      },
      {
        "duration": 7,
        "start_time": "2021-12-22T15:27:15.998Z"
      },
      {
        "duration": 55,
        "start_time": "2021-12-22T15:27:16.008Z"
      },
      {
        "duration": 51,
        "start_time": "2021-12-22T15:27:16.066Z"
      },
      {
        "duration": 7,
        "start_time": "2021-12-22T15:27:16.120Z"
      },
      {
        "duration": 8620,
        "start_time": "2021-12-22T15:27:16.129Z"
      },
      {
        "duration": -126,
        "start_time": "2021-12-22T15:27:24.878Z"
      },
      {
        "duration": -128,
        "start_time": "2021-12-22T15:27:24.882Z"
      },
      {
        "duration": -131,
        "start_time": "2021-12-22T15:27:24.887Z"
      },
      {
        "duration": -133,
        "start_time": "2021-12-22T15:27:24.890Z"
      },
      {
        "duration": 1476,
        "start_time": "2021-12-22T15:28:24.703Z"
      },
      {
        "duration": 24,
        "start_time": "2021-12-22T15:28:26.182Z"
      },
      {
        "duration": 17,
        "start_time": "2021-12-22T15:28:26.209Z"
      },
      {
        "duration": 11,
        "start_time": "2021-12-22T15:28:26.228Z"
      },
      {
        "duration": 44,
        "start_time": "2021-12-22T15:28:26.262Z"
      },
      {
        "duration": 8,
        "start_time": "2021-12-22T15:28:26.309Z"
      },
      {
        "duration": 8,
        "start_time": "2021-12-22T15:28:26.320Z"
      },
      {
        "duration": 37,
        "start_time": "2021-12-22T15:28:26.332Z"
      },
      {
        "duration": 8,
        "start_time": "2021-12-22T15:28:26.372Z"
      },
      {
        "duration": 15,
        "start_time": "2021-12-22T15:28:26.382Z"
      },
      {
        "duration": 8,
        "start_time": "2021-12-22T15:28:26.400Z"
      },
      {
        "duration": 100,
        "start_time": "2021-12-22T15:28:26.411Z"
      },
      {
        "duration": 6,
        "start_time": "2021-12-22T15:28:26.514Z"
      },
      {
        "duration": 8648,
        "start_time": "2021-12-22T15:28:26.523Z"
      },
      {
        "duration": -97,
        "start_time": "2021-12-22T15:28:35.272Z"
      },
      {
        "duration": -98,
        "start_time": "2021-12-22T15:28:35.275Z"
      },
      {
        "duration": -99,
        "start_time": "2021-12-22T15:28:35.278Z"
      },
      {
        "duration": -100,
        "start_time": "2021-12-22T15:28:35.281Z"
      },
      {
        "duration": 8475,
        "start_time": "2021-12-22T15:28:55.620Z"
      },
      {
        "duration": 9963,
        "start_time": "2021-12-22T15:30:28.956Z"
      },
      {
        "duration": 6,
        "start_time": "2021-12-22T15:31:59.232Z"
      },
      {
        "duration": 6,
        "start_time": "2021-12-22T15:32:07.469Z"
      },
      {
        "duration": 5,
        "start_time": "2021-12-22T15:33:26.357Z"
      },
      {
        "duration": 4,
        "start_time": "2021-12-22T15:38:29.277Z"
      },
      {
        "duration": 22,
        "start_time": "2021-12-22T15:38:30.617Z"
      },
      {
        "duration": 5,
        "start_time": "2021-12-22T15:58:50.368Z"
      },
      {
        "duration": 1485,
        "start_time": "2021-12-22T15:59:53.018Z"
      },
      {
        "duration": 90,
        "start_time": "2021-12-22T15:59:54.505Z"
      },
      {
        "duration": 19,
        "start_time": "2021-12-22T15:59:54.598Z"
      },
      {
        "duration": 10,
        "start_time": "2021-12-22T15:59:54.619Z"
      },
      {
        "duration": 40,
        "start_time": "2021-12-22T15:59:54.632Z"
      },
      {
        "duration": 7,
        "start_time": "2021-12-22T15:59:54.675Z"
      },
      {
        "duration": 6,
        "start_time": "2021-12-22T15:59:54.684Z"
      },
      {
        "duration": 8,
        "start_time": "2021-12-22T15:59:54.694Z"
      },
      {
        "duration": 5,
        "start_time": "2021-12-22T15:59:54.704Z"
      },
      {
        "duration": 6,
        "start_time": "2021-12-22T15:59:54.711Z"
      },
      {
        "duration": 48,
        "start_time": "2021-12-22T15:59:54.719Z"
      },
      {
        "duration": 49,
        "start_time": "2021-12-22T15:59:54.769Z"
      },
      {
        "duration": 7,
        "start_time": "2021-12-22T15:59:54.820Z"
      },
      {
        "duration": 7889,
        "start_time": "2021-12-22T15:59:54.830Z"
      },
      {
        "duration": 9310,
        "start_time": "2021-12-22T16:00:02.722Z"
      },
      {
        "duration": 5,
        "start_time": "2021-12-22T16:00:12.034Z"
      },
      {
        "duration": 22,
        "start_time": "2021-12-22T16:00:12.041Z"
      },
      {
        "duration": 22,
        "start_time": "2021-12-22T16:00:12.065Z"
      },
      {
        "duration": 6,
        "start_time": "2021-12-22T16:42:20.803Z"
      },
      {
        "duration": 7,
        "start_time": "2021-12-22T16:43:09.304Z"
      },
      {
        "duration": 6,
        "start_time": "2021-12-22T16:43:22.435Z"
      },
      {
        "duration": 6,
        "start_time": "2021-12-22T16:43:33.798Z"
      },
      {
        "duration": 7,
        "start_time": "2021-12-22T16:44:06.761Z"
      },
      {
        "duration": 6,
        "start_time": "2021-12-22T16:44:15.929Z"
      },
      {
        "duration": 6,
        "start_time": "2021-12-22T16:44:38.752Z"
      },
      {
        "duration": 554,
        "start_time": "2021-12-22T16:47:43.046Z"
      },
      {
        "duration": 154,
        "start_time": "2021-12-22T16:47:57.386Z"
      },
      {
        "duration": 152,
        "start_time": "2021-12-22T16:48:42.666Z"
      },
      {
        "duration": 282,
        "start_time": "2021-12-22T16:53:49.736Z"
      },
      {
        "duration": 5,
        "start_time": "2021-12-22T16:54:11.664Z"
      },
      {
        "duration": 6,
        "start_time": "2021-12-22T16:54:35.987Z"
      },
      {
        "duration": 10,
        "start_time": "2021-12-22T16:54:40.658Z"
      },
      {
        "duration": 248,
        "start_time": "2021-12-22T16:54:47.229Z"
      },
      {
        "duration": 290,
        "start_time": "2021-12-22T16:55:11.283Z"
      },
      {
        "duration": 5,
        "start_time": "2021-12-22T16:55:31.860Z"
      },
      {
        "duration": 6,
        "start_time": "2021-12-22T16:57:12.225Z"
      },
      {
        "duration": 5,
        "start_time": "2021-12-22T16:57:19.814Z"
      },
      {
        "duration": 7,
        "start_time": "2021-12-22T16:57:28.270Z"
      },
      {
        "duration": 7,
        "start_time": "2021-12-22T16:57:37.884Z"
      },
      {
        "duration": 1256,
        "start_time": "2021-12-22T16:58:04.820Z"
      },
      {
        "duration": 751,
        "start_time": "2021-12-22T16:59:50.925Z"
      },
      {
        "duration": 6,
        "start_time": "2021-12-22T16:59:53.890Z"
      },
      {
        "duration": 14,
        "start_time": "2021-12-22T17:00:01.738Z"
      },
      {
        "duration": 817,
        "start_time": "2021-12-22T17:00:34.187Z"
      },
      {
        "duration": 5,
        "start_time": "2021-12-22T17:00:37.909Z"
      },
      {
        "duration": 14,
        "start_time": "2021-12-22T17:00:39.046Z"
      },
      {
        "duration": 969,
        "start_time": "2021-12-22T17:01:28.148Z"
      },
      {
        "duration": 7,
        "start_time": "2021-12-22T17:12:27.347Z"
      },
      {
        "duration": 9,
        "start_time": "2021-12-22T17:14:29.883Z"
      },
      {
        "duration": 7,
        "start_time": "2021-12-22T17:14:36.638Z"
      },
      {
        "duration": 1142,
        "start_time": "2021-12-22T17:14:37.653Z"
      },
      {
        "duration": 10,
        "start_time": "2021-12-22T17:14:45.745Z"
      },
      {
        "duration": 10,
        "start_time": "2021-12-22T17:14:48.370Z"
      },
      {
        "duration": 7,
        "start_time": "2021-12-22T17:14:49.838Z"
      },
      {
        "duration": 4,
        "start_time": "2021-12-22T17:15:04.330Z"
      },
      {
        "duration": 901,
        "start_time": "2021-12-22T17:15:06.407Z"
      },
      {
        "duration": 7,
        "start_time": "2021-12-22T17:15:10.352Z"
      },
      {
        "duration": 1327,
        "start_time": "2021-12-22T17:15:11.765Z"
      },
      {
        "duration": 306,
        "start_time": "2021-12-22T17:16:17.395Z"
      },
      {
        "duration": 305,
        "start_time": "2021-12-22T17:16:36.328Z"
      },
      {
        "duration": 887,
        "start_time": "2021-12-22T17:16:53.995Z"
      },
      {
        "duration": 6,
        "start_time": "2021-12-22T17:17:13.478Z"
      },
      {
        "duration": 1761,
        "start_time": "2021-12-22T17:17:14.827Z"
      },
      {
        "duration": 286,
        "start_time": "2021-12-22T17:17:21.895Z"
      },
      {
        "duration": 1664,
        "start_time": "2021-12-22T17:17:41.813Z"
      },
      {
        "duration": 6,
        "start_time": "2021-12-22T17:17:45.165Z"
      },
      {
        "duration": 1261,
        "start_time": "2021-12-22T17:17:46.160Z"
      },
      {
        "duration": 1692,
        "start_time": "2021-12-22T17:18:28.111Z"
      },
      {
        "duration": 6,
        "start_time": "2021-12-22T17:18:34.475Z"
      },
      {
        "duration": 1272,
        "start_time": "2021-12-22T17:18:35.782Z"
      },
      {
        "duration": 4,
        "start_time": "2021-12-22T17:19:28.499Z"
      },
      {
        "duration": 288,
        "start_time": "2021-12-22T17:20:54.508Z"
      },
      {
        "duration": 5728,
        "start_time": "2021-12-22T17:21:40.808Z"
      },
      {
        "duration": 614,
        "start_time": "2021-12-22T17:23:51.293Z"
      },
      {
        "duration": 564,
        "start_time": "2021-12-22T17:24:13.485Z"
      },
      {
        "duration": 6,
        "start_time": "2021-12-22T17:24:20.664Z"
      },
      {
        "duration": 1474,
        "start_time": "2021-12-22T17:24:21.474Z"
      },
      {
        "duration": 14,
        "start_time": "2021-12-22T17:24:44.045Z"
      },
      {
        "duration": 1275,
        "start_time": "2021-12-22T17:27:38.823Z"
      },
      {
        "duration": 1684,
        "start_time": "2021-12-22T17:31:35.156Z"
      },
      {
        "duration": 25,
        "start_time": "2021-12-22T17:31:36.844Z"
      },
      {
        "duration": 23,
        "start_time": "2021-12-22T17:31:36.873Z"
      },
      {
        "duration": 12,
        "start_time": "2021-12-22T17:31:36.899Z"
      },
      {
        "duration": 79,
        "start_time": "2021-12-22T17:31:36.914Z"
      },
      {
        "duration": 9,
        "start_time": "2021-12-22T17:31:36.996Z"
      },
      {
        "duration": 9,
        "start_time": "2021-12-22T17:31:37.007Z"
      },
      {
        "duration": 10,
        "start_time": "2021-12-22T17:31:37.019Z"
      },
      {
        "duration": 34,
        "start_time": "2021-12-22T17:31:37.032Z"
      },
      {
        "duration": 5,
        "start_time": "2021-12-22T17:31:37.069Z"
      },
      {
        "duration": 6,
        "start_time": "2021-12-22T17:31:37.076Z"
      },
      {
        "duration": 93,
        "start_time": "2021-12-22T17:31:37.085Z"
      },
      {
        "duration": 9,
        "start_time": "2021-12-22T17:31:37.180Z"
      },
      {
        "duration": 8314,
        "start_time": "2021-12-22T17:31:37.192Z"
      },
      {
        "duration": 9480,
        "start_time": "2021-12-22T17:31:45.509Z"
      },
      {
        "duration": 6,
        "start_time": "2021-12-22T17:31:54.992Z"
      },
      {
        "duration": 4,
        "start_time": "2021-12-22T17:31:55.001Z"
      },
      {
        "duration": 636,
        "start_time": "2021-12-22T17:31:55.008Z"
      },
      {
        "duration": 7,
        "start_time": "2021-12-22T17:31:55.647Z"
      },
      {
        "duration": 1275,
        "start_time": "2021-12-22T17:31:55.663Z"
      },
      {
        "duration": 450,
        "start_time": "2021-12-22T17:40:25.330Z"
      },
      {
        "duration": 811,
        "start_time": "2021-12-22T17:41:36.804Z"
      },
      {
        "duration": 6,
        "start_time": "2021-12-22T17:41:39.010Z"
      },
      {
        "duration": 1189,
        "start_time": "2021-12-22T17:41:40.174Z"
      },
      {
        "duration": 1155,
        "start_time": "2021-12-23T04:41:17.872Z"
      },
      {
        "duration": 80,
        "start_time": "2021-12-23T04:41:19.029Z"
      },
      {
        "duration": 12,
        "start_time": "2021-12-23T04:41:19.113Z"
      },
      {
        "duration": 7,
        "start_time": "2021-12-23T04:41:19.126Z"
      },
      {
        "duration": 31,
        "start_time": "2021-12-23T04:41:19.134Z"
      },
      {
        "duration": 5,
        "start_time": "2021-12-23T04:41:19.167Z"
      },
      {
        "duration": 5,
        "start_time": "2021-12-23T04:41:19.175Z"
      },
      {
        "duration": 8,
        "start_time": "2021-12-23T04:41:19.181Z"
      },
      {
        "duration": 7,
        "start_time": "2021-12-23T04:41:19.190Z"
      },
      {
        "duration": 11,
        "start_time": "2021-12-23T04:41:19.198Z"
      },
      {
        "duration": 7,
        "start_time": "2021-12-23T04:41:19.211Z"
      },
      {
        "duration": 45,
        "start_time": "2021-12-23T04:41:19.219Z"
      },
      {
        "duration": 4,
        "start_time": "2021-12-23T04:41:19.266Z"
      },
      {
        "duration": 4972,
        "start_time": "2021-12-23T04:41:19.272Z"
      },
      {
        "duration": 6053,
        "start_time": "2021-12-23T04:41:24.246Z"
      },
      {
        "duration": 3,
        "start_time": "2021-12-23T04:41:30.301Z"
      },
      {
        "duration": 12,
        "start_time": "2021-12-23T04:41:30.306Z"
      },
      {
        "duration": 279,
        "start_time": "2021-12-23T04:41:30.320Z"
      },
      {
        "duration": 4,
        "start_time": "2021-12-23T04:41:30.601Z"
      },
      {
        "duration": 792,
        "start_time": "2021-12-23T04:41:30.606Z"
      },
      {
        "duration": 6,
        "start_time": "2021-12-23T05:14:52.504Z"
      },
      {
        "duration": 377,
        "start_time": "2021-12-23T05:31:53.653Z"
      },
      {
        "duration": 6,
        "start_time": "2021-12-23T05:34:13.497Z"
      },
      {
        "duration": 4,
        "start_time": "2021-12-23T05:34:17.593Z"
      },
      {
        "duration": 2419,
        "start_time": "2021-12-23T05:35:00.400Z"
      },
      {
        "duration": 257,
        "start_time": "2021-12-23T05:35:09.063Z"
      },
      {
        "duration": 278,
        "start_time": "2021-12-23T05:35:30.242Z"
      },
      {
        "duration": 6,
        "start_time": "2021-12-23T05:36:04.192Z"
      },
      {
        "duration": 3,
        "start_time": "2021-12-23T05:36:56.653Z"
      },
      {
        "duration": 7,
        "start_time": "2021-12-23T05:37:08.762Z"
      },
      {
        "duration": 5,
        "start_time": "2021-12-23T05:37:10.017Z"
      },
      {
        "duration": 7,
        "start_time": "2021-12-23T05:37:24.703Z"
      },
      {
        "duration": 4,
        "start_time": "2021-12-23T05:37:25.496Z"
      },
      {
        "duration": 263,
        "start_time": "2021-12-23T05:38:02.978Z"
      },
      {
        "duration": 3,
        "start_time": "2021-12-23T05:38:20.410Z"
      },
      {
        "duration": 6,
        "start_time": "2021-12-23T05:38:31.488Z"
      },
      {
        "duration": 4,
        "start_time": "2021-12-23T05:38:32.870Z"
      },
      {
        "duration": 5,
        "start_time": "2021-12-23T05:38:41.048Z"
      },
      {
        "duration": 6,
        "start_time": "2021-12-23T05:38:41.640Z"
      },
      {
        "duration": 4,
        "start_time": "2021-12-23T05:38:42.211Z"
      },
      {
        "duration": 255,
        "start_time": "2021-12-23T05:49:12.824Z"
      },
      {
        "duration": 6,
        "start_time": "2021-12-23T05:50:14.789Z"
      },
      {
        "duration": 6,
        "start_time": "2021-12-23T06:13:01.708Z"
      },
      {
        "duration": 4,
        "start_time": "2021-12-23T06:13:03.147Z"
      },
      {
        "duration": 6,
        "start_time": "2021-12-23T06:13:08.090Z"
      },
      {
        "duration": 4,
        "start_time": "2021-12-23T06:13:09.970Z"
      },
      {
        "duration": 7,
        "start_time": "2021-12-23T06:13:14.090Z"
      },
      {
        "duration": 4,
        "start_time": "2021-12-23T06:13:15.552Z"
      },
      {
        "duration": 6,
        "start_time": "2021-12-23T06:13:21.222Z"
      },
      {
        "duration": 4,
        "start_time": "2021-12-23T06:13:22.096Z"
      },
      {
        "duration": 8,
        "start_time": "2021-12-23T06:13:41.698Z"
      },
      {
        "duration": 4,
        "start_time": "2021-12-23T06:13:42.570Z"
      },
      {
        "duration": 7,
        "start_time": "2021-12-23T06:13:48.736Z"
      },
      {
        "duration": 4,
        "start_time": "2021-12-23T06:13:49.478Z"
      },
      {
        "duration": 7,
        "start_time": "2021-12-23T06:13:54.666Z"
      },
      {
        "duration": 4,
        "start_time": "2021-12-23T06:13:55.246Z"
      },
      {
        "duration": 6,
        "start_time": "2021-12-23T06:13:59.533Z"
      },
      {
        "duration": 4,
        "start_time": "2021-12-23T06:14:00.101Z"
      },
      {
        "duration": 7,
        "start_time": "2021-12-23T06:14:03.975Z"
      },
      {
        "duration": 4,
        "start_time": "2021-12-23T06:14:04.475Z"
      },
      {
        "duration": 7,
        "start_time": "2021-12-23T06:14:14.996Z"
      },
      {
        "duration": 4,
        "start_time": "2021-12-23T06:14:15.736Z"
      },
      {
        "duration": 2,
        "start_time": "2021-12-23T06:16:05.431Z"
      },
      {
        "duration": 870,
        "start_time": "2021-12-23T06:19:46.843Z"
      },
      {
        "duration": 321,
        "start_time": "2021-12-23T08:43:34.030Z"
      },
      {
        "duration": 15919,
        "start_time": "2021-12-23T08:43:51.378Z"
      },
      {
        "duration": 14502,
        "start_time": "2021-12-23T08:44:26.957Z"
      },
      {
        "duration": 3,
        "start_time": "2021-12-23T08:49:14.129Z"
      },
      {
        "duration": 295,
        "start_time": "2021-12-23T09:18:56.434Z"
      },
      {
        "duration": 256,
        "start_time": "2021-12-23T09:19:15.003Z"
      },
      {
        "duration": 255,
        "start_time": "2021-12-23T09:19:25.352Z"
      },
      {
        "duration": 702,
        "start_time": "2021-12-23T09:23:43.368Z"
      },
      {
        "duration": 1156,
        "start_time": "2021-12-23T09:23:50.992Z"
      },
      {
        "duration": 84,
        "start_time": "2021-12-23T09:23:52.150Z"
      },
      {
        "duration": 11,
        "start_time": "2021-12-23T09:23:52.236Z"
      },
      {
        "duration": 11,
        "start_time": "2021-12-23T09:23:52.248Z"
      },
      {
        "duration": 30,
        "start_time": "2021-12-23T09:23:52.261Z"
      },
      {
        "duration": 5,
        "start_time": "2021-12-23T09:23:52.293Z"
      },
      {
        "duration": 5,
        "start_time": "2021-12-23T09:23:52.300Z"
      },
      {
        "duration": 7,
        "start_time": "2021-12-23T09:23:52.308Z"
      },
      {
        "duration": 7,
        "start_time": "2021-12-23T09:23:52.317Z"
      },
      {
        "duration": 8,
        "start_time": "2021-12-23T09:23:52.325Z"
      },
      {
        "duration": 27,
        "start_time": "2021-12-23T09:23:52.334Z"
      },
      {
        "duration": 36,
        "start_time": "2021-12-23T09:23:52.362Z"
      },
      {
        "duration": 4,
        "start_time": "2021-12-23T09:23:52.400Z"
      },
      {
        "duration": 5597,
        "start_time": "2021-12-23T09:23:52.406Z"
      },
      {
        "duration": 6612,
        "start_time": "2021-12-23T09:23:58.006Z"
      },
      {
        "duration": 4,
        "start_time": "2021-12-23T09:24:04.620Z"
      },
      {
        "duration": 5,
        "start_time": "2021-12-23T09:24:04.626Z"
      },
      {
        "duration": 350,
        "start_time": "2021-12-23T09:24:04.633Z"
      },
      {
        "duration": 6,
        "start_time": "2021-12-23T09:24:04.985Z"
      },
      {
        "duration": 824,
        "start_time": "2021-12-23T09:24:04.992Z"
      },
      {
        "duration": 4,
        "start_time": "2021-12-23T09:24:05.818Z"
      },
      {
        "duration": 12,
        "start_time": "2021-12-23T09:24:05.823Z"
      },
      {
        "duration": 5,
        "start_time": "2021-12-23T09:24:05.838Z"
      },
      {
        "duration": 16,
        "start_time": "2021-12-23T09:24:05.844Z"
      },
      {
        "duration": 7,
        "start_time": "2021-12-23T09:24:05.862Z"
      },
      {
        "duration": 142,
        "start_time": "2021-12-23T09:24:05.870Z"
      },
      {
        "duration": 4,
        "start_time": "2021-12-23T09:24:27.028Z"
      },
      {
        "duration": 1191,
        "start_time": "2021-12-23T09:29:36.651Z"
      },
      {
        "duration": 19,
        "start_time": "2021-12-23T09:29:37.844Z"
      },
      {
        "duration": 17,
        "start_time": "2021-12-23T09:29:37.865Z"
      },
      {
        "duration": 22,
        "start_time": "2021-12-23T09:29:37.884Z"
      },
      {
        "duration": 45,
        "start_time": "2021-12-23T09:29:37.908Z"
      },
      {
        "duration": 6,
        "start_time": "2021-12-23T09:29:37.954Z"
      },
      {
        "duration": 20,
        "start_time": "2021-12-23T09:29:37.961Z"
      },
      {
        "duration": 15,
        "start_time": "2021-12-23T09:29:37.983Z"
      },
      {
        "duration": 17,
        "start_time": "2021-12-23T09:29:38.001Z"
      },
      {
        "duration": 21,
        "start_time": "2021-12-23T09:29:38.020Z"
      },
      {
        "duration": 21,
        "start_time": "2021-12-23T09:29:38.043Z"
      },
      {
        "duration": 57,
        "start_time": "2021-12-23T09:29:38.065Z"
      },
      {
        "duration": 5,
        "start_time": "2021-12-23T09:29:38.124Z"
      },
      {
        "duration": 5576,
        "start_time": "2021-12-23T09:29:38.131Z"
      },
      {
        "duration": 6257,
        "start_time": "2021-12-23T09:29:43.709Z"
      },
      {
        "duration": 5,
        "start_time": "2021-12-23T09:29:49.968Z"
      },
      {
        "duration": 8,
        "start_time": "2021-12-23T09:29:49.975Z"
      },
      {
        "duration": 317,
        "start_time": "2021-12-23T09:29:49.985Z"
      },
      {
        "duration": 4,
        "start_time": "2021-12-23T09:29:50.304Z"
      },
      {
        "duration": 844,
        "start_time": "2021-12-23T09:29:50.309Z"
      },
      {
        "duration": 7,
        "start_time": "2021-12-23T09:29:51.155Z"
      },
      {
        "duration": 31,
        "start_time": "2021-12-23T09:29:51.163Z"
      },
      {
        "duration": 21,
        "start_time": "2021-12-23T09:29:51.197Z"
      },
      {
        "duration": 6,
        "start_time": "2021-12-23T09:29:51.220Z"
      },
      {
        "duration": 14,
        "start_time": "2021-12-23T09:29:51.228Z"
      },
      {
        "duration": 1206,
        "start_time": "2021-12-23T09:32:03.679Z"
      },
      {
        "duration": 20,
        "start_time": "2021-12-23T09:32:04.887Z"
      },
      {
        "duration": 36,
        "start_time": "2021-12-23T09:32:04.909Z"
      },
      {
        "duration": 24,
        "start_time": "2021-12-23T09:32:04.947Z"
      },
      {
        "duration": 46,
        "start_time": "2021-12-23T09:32:04.973Z"
      },
      {
        "duration": 6,
        "start_time": "2021-12-23T09:32:05.021Z"
      },
      {
        "duration": 11,
        "start_time": "2021-12-23T09:32:05.028Z"
      },
      {
        "duration": 8,
        "start_time": "2021-12-23T09:32:05.043Z"
      },
      {
        "duration": 4,
        "start_time": "2021-12-23T09:32:05.060Z"
      },
      {
        "duration": 13,
        "start_time": "2021-12-23T09:32:05.066Z"
      },
      {
        "duration": 8,
        "start_time": "2021-12-23T09:32:05.080Z"
      },
      {
        "duration": 36,
        "start_time": "2021-12-23T09:32:05.090Z"
      },
      {
        "duration": 3,
        "start_time": "2021-12-23T09:32:05.128Z"
      },
      {
        "duration": 5420,
        "start_time": "2021-12-23T09:32:05.133Z"
      },
      {
        "duration": 6528,
        "start_time": "2021-12-23T09:32:10.555Z"
      },
      {
        "duration": 4,
        "start_time": "2021-12-23T09:32:17.085Z"
      },
      {
        "duration": 13,
        "start_time": "2021-12-23T09:32:17.091Z"
      },
      {
        "duration": 303,
        "start_time": "2021-12-23T09:32:17.107Z"
      },
      {
        "duration": 5,
        "start_time": "2021-12-23T09:32:17.412Z"
      },
      {
        "duration": 924,
        "start_time": "2021-12-23T09:32:17.419Z"
      },
      {
        "duration": 4,
        "start_time": "2021-12-23T09:32:18.345Z"
      },
      {
        "duration": 13,
        "start_time": "2021-12-23T09:32:18.360Z"
      },
      {
        "duration": 12,
        "start_time": "2021-12-23T09:32:18.376Z"
      },
      {
        "duration": 11,
        "start_time": "2021-12-23T09:32:18.390Z"
      },
      {
        "duration": 8,
        "start_time": "2021-12-23T09:32:18.403Z"
      },
      {
        "duration": 77,
        "start_time": "2021-12-23T09:32:18.413Z"
      },
      {
        "duration": 5,
        "start_time": "2021-12-23T09:32:18.492Z"
      },
      {
        "duration": 1453,
        "start_time": "2021-12-23T09:32:53.693Z"
      },
      {
        "duration": 7,
        "start_time": "2021-12-23T09:33:07.041Z"
      },
      {
        "duration": 5,
        "start_time": "2021-12-23T09:33:07.904Z"
      },
      {
        "duration": 46,
        "start_time": "2021-12-23T09:33:15.779Z"
      },
      {
        "duration": 4,
        "start_time": "2021-12-23T09:33:16.642Z"
      },
      {
        "duration": 48,
        "start_time": "2021-12-23T09:33:47.001Z"
      },
      {
        "duration": 4,
        "start_time": "2021-12-23T09:33:48.272Z"
      },
      {
        "duration": 46,
        "start_time": "2021-12-23T09:33:54.396Z"
      },
      {
        "duration": 4,
        "start_time": "2021-12-23T09:33:55.251Z"
      },
      {
        "duration": 121,
        "start_time": "2021-12-23T09:41:24.104Z"
      },
      {
        "duration": 1135,
        "start_time": "2021-12-23T09:46:40.400Z"
      },
      {
        "duration": 25,
        "start_time": "2021-12-23T09:46:41.537Z"
      },
      {
        "duration": 12,
        "start_time": "2021-12-23T09:46:41.564Z"
      },
      {
        "duration": 9,
        "start_time": "2021-12-23T09:46:41.578Z"
      },
      {
        "duration": 34,
        "start_time": "2021-12-23T09:46:41.589Z"
      },
      {
        "duration": 5,
        "start_time": "2021-12-23T09:46:41.625Z"
      },
      {
        "duration": 8,
        "start_time": "2021-12-23T09:46:41.632Z"
      },
      {
        "duration": 23,
        "start_time": "2021-12-23T09:46:41.642Z"
      },
      {
        "duration": 6,
        "start_time": "2021-12-23T09:46:41.667Z"
      },
      {
        "duration": 10,
        "start_time": "2021-12-23T09:46:41.675Z"
      },
      {
        "duration": 8,
        "start_time": "2021-12-23T09:46:41.686Z"
      },
      {
        "duration": 36,
        "start_time": "2021-12-23T09:46:41.696Z"
      },
      {
        "duration": 4,
        "start_time": "2021-12-23T09:46:41.734Z"
      },
      {
        "duration": 5376,
        "start_time": "2021-12-23T09:46:41.740Z"
      },
      {
        "duration": 6736,
        "start_time": "2021-12-23T09:46:47.117Z"
      },
      {
        "duration": 8,
        "start_time": "2021-12-23T09:46:53.854Z"
      },
      {
        "duration": 6,
        "start_time": "2021-12-23T09:46:53.864Z"
      },
      {
        "duration": 296,
        "start_time": "2021-12-23T09:46:53.871Z"
      },
      {
        "duration": 4,
        "start_time": "2021-12-23T09:46:54.169Z"
      },
      {
        "duration": 831,
        "start_time": "2021-12-23T09:46:54.175Z"
      },
      {
        "duration": 3,
        "start_time": "2021-12-23T09:46:55.008Z"
      },
      {
        "duration": 13,
        "start_time": "2021-12-23T09:46:55.013Z"
      },
      {
        "duration": 7,
        "start_time": "2021-12-23T09:46:55.029Z"
      },
      {
        "duration": 7,
        "start_time": "2021-12-23T09:46:55.037Z"
      },
      {
        "duration": 3,
        "start_time": "2021-12-23T09:46:55.060Z"
      },
      {
        "duration": 48,
        "start_time": "2021-12-23T09:46:55.065Z"
      },
      {
        "duration": 5,
        "start_time": "2021-12-23T09:46:55.114Z"
      },
      {
        "duration": 43,
        "start_time": "2021-12-23T09:47:50.749Z"
      },
      {
        "duration": 4,
        "start_time": "2021-12-23T09:47:52.839Z"
      },
      {
        "duration": 43,
        "start_time": "2021-12-23T09:47:57.065Z"
      },
      {
        "duration": 4,
        "start_time": "2021-12-23T09:47:58.032Z"
      },
      {
        "duration": 43,
        "start_time": "2021-12-23T09:48:23.563Z"
      },
      {
        "duration": 4,
        "start_time": "2021-12-23T09:48:24.308Z"
      },
      {
        "duration": 45,
        "start_time": "2021-12-23T09:48:28.772Z"
      },
      {
        "duration": 4,
        "start_time": "2021-12-23T09:48:29.310Z"
      },
      {
        "duration": 43,
        "start_time": "2021-12-23T09:48:34.056Z"
      },
      {
        "duration": 4,
        "start_time": "2021-12-23T09:48:34.754Z"
      },
      {
        "duration": 105,
        "start_time": "2021-12-23T09:48:40.765Z"
      },
      {
        "duration": 6,
        "start_time": "2021-12-23T09:48:41.659Z"
      },
      {
        "duration": 65,
        "start_time": "2021-12-23T09:48:46.634Z"
      },
      {
        "duration": 4,
        "start_time": "2021-12-23T09:48:48.308Z"
      },
      {
        "duration": 42,
        "start_time": "2021-12-23T09:48:57.055Z"
      },
      {
        "duration": 4,
        "start_time": "2021-12-23T09:48:57.926Z"
      },
      {
        "duration": 46,
        "start_time": "2021-12-23T09:49:02.439Z"
      },
      {
        "duration": 4,
        "start_time": "2021-12-23T09:49:03.133Z"
      },
      {
        "duration": 41,
        "start_time": "2021-12-23T09:58:28.718Z"
      },
      {
        "duration": 4,
        "start_time": "2021-12-23T09:58:30.752Z"
      },
      {
        "duration": 3,
        "start_time": "2021-12-23T10:44:37.012Z"
      },
      {
        "duration": 4,
        "start_time": "2021-12-23T10:45:44.287Z"
      },
      {
        "duration": 3567,
        "start_time": "2021-12-23T10:45:46.043Z"
      },
      {
        "duration": 3188,
        "start_time": "2021-12-23T10:46:26.161Z"
      },
      {
        "duration": 69,
        "start_time": "2021-12-23T15:35:13.212Z"
      },
      {
        "duration": 3583,
        "start_time": "2021-12-23T15:45:35.257Z"
      },
      {
        "duration": 83,
        "start_time": "2021-12-23T15:46:54.180Z"
      },
      {
        "duration": 3535,
        "start_time": "2021-12-23T15:51:28.462Z"
      },
      {
        "duration": 316,
        "start_time": "2021-12-23T15:55:58.615Z"
      },
      {
        "duration": 12141,
        "start_time": "2021-12-23T15:56:25.445Z"
      },
      {
        "duration": 1183,
        "start_time": "2021-12-23T16:06:54.245Z"
      },
      {
        "duration": 21,
        "start_time": "2021-12-23T16:06:55.430Z"
      },
      {
        "duration": 21,
        "start_time": "2021-12-23T16:06:55.453Z"
      },
      {
        "duration": 6,
        "start_time": "2021-12-23T16:06:55.476Z"
      },
      {
        "duration": 42,
        "start_time": "2021-12-23T16:06:55.484Z"
      },
      {
        "duration": 5,
        "start_time": "2021-12-23T16:06:55.528Z"
      },
      {
        "duration": 5,
        "start_time": "2021-12-23T16:06:55.535Z"
      },
      {
        "duration": 10,
        "start_time": "2021-12-23T16:06:55.543Z"
      },
      {
        "duration": 4,
        "start_time": "2021-12-23T16:06:55.560Z"
      },
      {
        "duration": 12,
        "start_time": "2021-12-23T16:06:55.566Z"
      },
      {
        "duration": 11,
        "start_time": "2021-12-23T16:06:55.580Z"
      },
      {
        "duration": 44,
        "start_time": "2021-12-23T16:06:55.593Z"
      },
      {
        "duration": 4,
        "start_time": "2021-12-23T16:06:55.639Z"
      },
      {
        "duration": 5099,
        "start_time": "2021-12-23T16:06:55.644Z"
      },
      {
        "duration": 6508,
        "start_time": "2021-12-23T16:07:00.744Z"
      },
      {
        "duration": 7,
        "start_time": "2021-12-23T16:07:07.254Z"
      },
      {
        "duration": 8,
        "start_time": "2021-12-23T16:07:07.263Z"
      },
      {
        "duration": 296,
        "start_time": "2021-12-23T16:07:07.272Z"
      },
      {
        "duration": 5,
        "start_time": "2021-12-23T16:07:07.570Z"
      },
      {
        "duration": 804,
        "start_time": "2021-12-23T16:07:07.577Z"
      },
      {
        "duration": 3,
        "start_time": "2021-12-23T16:07:08.382Z"
      },
      {
        "duration": 8,
        "start_time": "2021-12-23T16:07:08.387Z"
      },
      {
        "duration": 4,
        "start_time": "2021-12-23T16:07:08.398Z"
      },
      {
        "duration": 4,
        "start_time": "2021-12-23T16:07:08.404Z"
      },
      {
        "duration": 5,
        "start_time": "2021-12-23T16:07:08.409Z"
      },
      {
        "duration": 68,
        "start_time": "2021-12-23T16:07:08.416Z"
      },
      {
        "duration": 3,
        "start_time": "2021-12-23T16:07:08.486Z"
      },
      {
        "duration": 611,
        "start_time": "2021-12-23T16:07:08.490Z"
      },
      {
        "duration": 249,
        "start_time": "2021-12-23T16:08:00.604Z"
      },
      {
        "duration": 1187,
        "start_time": "2021-12-23T17:42:19.540Z"
      },
      {
        "duration": 19,
        "start_time": "2021-12-23T17:42:20.729Z"
      },
      {
        "duration": 12,
        "start_time": "2021-12-23T17:42:20.754Z"
      },
      {
        "duration": 20,
        "start_time": "2021-12-23T17:42:20.768Z"
      },
      {
        "duration": 33,
        "start_time": "2021-12-23T17:42:20.790Z"
      },
      {
        "duration": 6,
        "start_time": "2021-12-23T17:42:20.825Z"
      },
      {
        "duration": 6,
        "start_time": "2021-12-23T17:42:20.834Z"
      },
      {
        "duration": 24,
        "start_time": "2021-12-23T17:42:20.842Z"
      },
      {
        "duration": 4,
        "start_time": "2021-12-23T17:42:20.868Z"
      },
      {
        "duration": 12,
        "start_time": "2021-12-23T17:42:20.874Z"
      },
      {
        "duration": 6,
        "start_time": "2021-12-23T17:42:20.888Z"
      },
      {
        "duration": 42,
        "start_time": "2021-12-23T17:42:20.896Z"
      },
      {
        "duration": 5,
        "start_time": "2021-12-23T17:42:20.940Z"
      },
      {
        "duration": 5393,
        "start_time": "2021-12-23T17:42:20.960Z"
      },
      {
        "duration": 6043,
        "start_time": "2021-12-23T17:42:26.355Z"
      },
      {
        "duration": 4,
        "start_time": "2021-12-23T17:42:32.400Z"
      },
      {
        "duration": 6,
        "start_time": "2021-12-23T17:42:32.406Z"
      },
      {
        "duration": 301,
        "start_time": "2021-12-23T17:42:32.413Z"
      },
      {
        "duration": 4,
        "start_time": "2021-12-23T17:42:32.716Z"
      },
      {
        "duration": 877,
        "start_time": "2021-12-23T17:42:32.722Z"
      },
      {
        "duration": 3,
        "start_time": "2021-12-23T17:42:33.601Z"
      },
      {
        "duration": 8,
        "start_time": "2021-12-23T17:42:33.607Z"
      },
      {
        "duration": 4,
        "start_time": "2021-12-23T17:42:33.616Z"
      },
      {
        "duration": 3,
        "start_time": "2021-12-23T17:42:33.622Z"
      },
      {
        "duration": 5,
        "start_time": "2021-12-23T17:42:33.627Z"
      },
      {
        "duration": 67,
        "start_time": "2021-12-23T17:42:33.634Z"
      },
      {
        "duration": 4,
        "start_time": "2021-12-23T17:42:33.703Z"
      },
      {
        "duration": 61573,
        "start_time": "2021-12-23T17:42:33.709Z"
      },
      {
        "duration": 182,
        "start_time": "2021-12-23T17:47:09.870Z"
      },
      {
        "duration": 4,
        "start_time": "2021-12-23T17:47:11.085Z"
      },
      {
        "duration": 367,
        "start_time": "2021-12-23T17:47:30.356Z"
      },
      {
        "duration": 5775,
        "start_time": "2021-12-23T17:47:43.081Z"
      },
      {
        "duration": 78,
        "start_time": "2021-12-23T17:48:35.288Z"
      },
      {
        "duration": 12,
        "start_time": "2021-12-23T17:48:38.093Z"
      },
      {
        "duration": 4,
        "start_time": "2021-12-23T17:49:00.568Z"
      },
      {
        "duration": 12,
        "start_time": "2021-12-23T17:49:08.393Z"
      },
      {
        "duration": 4,
        "start_time": "2021-12-23T17:49:20.294Z"
      },
      {
        "duration": 6,
        "start_time": "2021-12-23T17:49:29.831Z"
      },
      {
        "duration": 4,
        "start_time": "2021-12-23T17:49:37.028Z"
      },
      {
        "duration": 193,
        "start_time": "2021-12-23T17:51:56.734Z"
      },
      {
        "duration": 5,
        "start_time": "2021-12-23T17:52:01.314Z"
      },
      {
        "duration": 3,
        "start_time": "2021-12-23T17:59:10.261Z"
      },
      {
        "duration": 3,
        "start_time": "2021-12-23T18:02:59.715Z"
      },
      {
        "duration": 4,
        "start_time": "2021-12-23T18:03:00.732Z"
      },
      {
        "duration": 3,
        "start_time": "2021-12-23T18:07:42.667Z"
      },
      {
        "duration": 3,
        "start_time": "2021-12-23T18:07:51.205Z"
      },
      {
        "duration": 4,
        "start_time": "2021-12-23T18:08:10.599Z"
      },
      {
        "duration": 3,
        "start_time": "2021-12-23T18:11:07.755Z"
      },
      {
        "duration": 3,
        "start_time": "2021-12-23T18:11:38.278Z"
      },
      {
        "duration": 1194,
        "start_time": "2021-12-23T18:40:58.598Z"
      },
      {
        "duration": 20,
        "start_time": "2021-12-23T18:40:59.794Z"
      },
      {
        "duration": 12,
        "start_time": "2021-12-23T18:40:59.816Z"
      },
      {
        "duration": 8,
        "start_time": "2021-12-23T18:40:59.830Z"
      },
      {
        "duration": 36,
        "start_time": "2021-12-23T18:40:59.839Z"
      },
      {
        "duration": 5,
        "start_time": "2021-12-23T18:40:59.877Z"
      },
      {
        "duration": 7,
        "start_time": "2021-12-23T18:40:59.883Z"
      },
      {
        "duration": 6,
        "start_time": "2021-12-23T18:40:59.893Z"
      },
      {
        "duration": 4,
        "start_time": "2021-12-23T18:40:59.901Z"
      },
      {
        "duration": 7,
        "start_time": "2021-12-23T18:40:59.906Z"
      },
      {
        "duration": 7,
        "start_time": "2021-12-23T18:40:59.914Z"
      },
      {
        "duration": 66,
        "start_time": "2021-12-23T18:40:59.922Z"
      },
      {
        "duration": 5,
        "start_time": "2021-12-23T18:40:59.990Z"
      },
      {
        "duration": 5683,
        "start_time": "2021-12-23T18:40:59.997Z"
      },
      {
        "duration": 6191,
        "start_time": "2021-12-23T18:41:05.682Z"
      },
      {
        "duration": 4,
        "start_time": "2021-12-23T18:41:11.875Z"
      },
      {
        "duration": 27,
        "start_time": "2021-12-23T18:41:11.881Z"
      },
      {
        "duration": 310,
        "start_time": "2021-12-23T18:41:11.910Z"
      },
      {
        "duration": 5,
        "start_time": "2021-12-23T18:41:12.222Z"
      },
      {
        "duration": 1233,
        "start_time": "2021-12-23T18:41:12.229Z"
      },
      {
        "duration": 4,
        "start_time": "2021-12-23T18:41:13.464Z"
      },
      {
        "duration": 21,
        "start_time": "2021-12-23T18:41:13.470Z"
      },
      {
        "duration": 20,
        "start_time": "2021-12-23T18:41:13.494Z"
      },
      {
        "duration": 8,
        "start_time": "2021-12-23T18:41:13.516Z"
      },
      {
        "duration": 12,
        "start_time": "2021-12-23T18:41:13.527Z"
      },
      {
        "duration": 9726,
        "start_time": "2021-12-23T18:41:13.541Z"
      },
      {
        "duration": 3,
        "start_time": "2021-12-23T18:41:23.269Z"
      },
      {
        "duration": 7201,
        "start_time": "2021-12-23T18:41:51.286Z"
      },
      {
        "duration": 4,
        "start_time": "2021-12-23T18:45:23.440Z"
      },
      {
        "duration": 346,
        "start_time": "2021-12-23T18:59:53.627Z"
      },
      {
        "duration": 291,
        "start_time": "2021-12-23T19:00:16.904Z"
      },
      {
        "duration": 247,
        "start_time": "2021-12-23T19:02:25.544Z"
      },
      {
        "duration": 6,
        "start_time": "2021-12-23T19:02:52.191Z"
      },
      {
        "duration": 5,
        "start_time": "2021-12-23T19:02:57.828Z"
      },
      {
        "duration": 7,
        "start_time": "2021-12-23T19:03:38.646Z"
      },
      {
        "duration": 6,
        "start_time": "2021-12-23T19:03:39.873Z"
      },
      {
        "duration": 4,
        "start_time": "2021-12-23T19:06:43.619Z"
      },
      {
        "duration": 6,
        "start_time": "2021-12-23T19:07:07.007Z"
      },
      {
        "duration": 4,
        "start_time": "2021-12-23T19:07:08.729Z"
      },
      {
        "duration": 7,
        "start_time": "2021-12-23T19:07:09.330Z"
      },
      {
        "duration": 243,
        "start_time": "2021-12-23T19:07:45.079Z"
      },
      {
        "duration": 5,
        "start_time": "2021-12-23T19:08:05.097Z"
      },
      {
        "duration": 4,
        "start_time": "2021-12-23T19:08:06.410Z"
      },
      {
        "duration": 8,
        "start_time": "2021-12-23T19:08:07.425Z"
      },
      {
        "duration": 257,
        "start_time": "2021-12-23T19:08:39.849Z"
      },
      {
        "duration": 8,
        "start_time": "2021-12-23T19:09:08.153Z"
      },
      {
        "duration": 4,
        "start_time": "2021-12-23T19:09:31.477Z"
      },
      {
        "duration": 8,
        "start_time": "2021-12-23T19:09:41.496Z"
      },
      {
        "duration": 248,
        "start_time": "2021-12-23T19:10:10.458Z"
      },
      {
        "duration": 4,
        "start_time": "2021-12-23T19:10:57.303Z"
      },
      {
        "duration": 8,
        "start_time": "2021-12-23T19:10:58.167Z"
      },
      {
        "duration": 293,
        "start_time": "2021-12-23T19:12:01.447Z"
      },
      {
        "duration": 7,
        "start_time": "2021-12-23T19:12:11.435Z"
      },
      {
        "duration": 12,
        "start_time": "2021-12-23T19:12:12.753Z"
      },
      {
        "duration": 5,
        "start_time": "2021-12-23T19:13:54.470Z"
      },
      {
        "duration": 6,
        "start_time": "2021-12-23T19:14:26.623Z"
      },
      {
        "duration": 7,
        "start_time": "2021-12-23T19:14:31.132Z"
      },
      {
        "duration": 1207,
        "start_time": "2021-12-23T19:17:24.331Z"
      },
      {
        "duration": 19,
        "start_time": "2021-12-23T19:17:25.541Z"
      },
      {
        "duration": 11,
        "start_time": "2021-12-23T19:17:25.565Z"
      },
      {
        "duration": 8,
        "start_time": "2021-12-23T19:17:25.578Z"
      },
      {
        "duration": 45,
        "start_time": "2021-12-23T19:17:25.588Z"
      },
      {
        "duration": 25,
        "start_time": "2021-12-23T19:17:25.635Z"
      },
      {
        "duration": 6,
        "start_time": "2021-12-23T19:17:25.663Z"
      },
      {
        "duration": 23,
        "start_time": "2021-12-23T19:17:25.673Z"
      },
      {
        "duration": 6,
        "start_time": "2021-12-23T19:17:25.700Z"
      },
      {
        "duration": 6,
        "start_time": "2021-12-23T19:17:25.708Z"
      },
      {
        "duration": 7,
        "start_time": "2021-12-23T19:17:25.716Z"
      },
      {
        "duration": 47,
        "start_time": "2021-12-23T19:17:25.725Z"
      },
      {
        "duration": 4,
        "start_time": "2021-12-23T19:17:25.774Z"
      },
      {
        "duration": 5258,
        "start_time": "2021-12-23T19:17:25.780Z"
      },
      {
        "duration": 6328,
        "start_time": "2021-12-23T19:17:31.040Z"
      },
      {
        "duration": 5,
        "start_time": "2021-12-23T19:17:37.370Z"
      },
      {
        "duration": 10,
        "start_time": "2021-12-23T19:17:37.377Z"
      },
      {
        "duration": 12,
        "start_time": "2021-12-23T19:17:37.389Z"
      },
      {
        "duration": 7,
        "start_time": "2021-12-23T19:17:37.403Z"
      },
      {
        "duration": 383,
        "start_time": "2021-12-23T19:17:37.412Z"
      },
      {
        "duration": 4,
        "start_time": "2021-12-23T19:17:37.797Z"
      },
      {
        "duration": 762,
        "start_time": "2021-12-23T19:17:37.803Z"
      },
      {
        "duration": 4,
        "start_time": "2021-12-23T19:17:38.566Z"
      },
      {
        "duration": 8,
        "start_time": "2021-12-23T19:17:38.571Z"
      },
      {
        "duration": 5,
        "start_time": "2021-12-23T19:17:38.581Z"
      },
      {
        "duration": 5,
        "start_time": "2021-12-23T19:17:38.589Z"
      },
      {
        "duration": 7,
        "start_time": "2021-12-23T19:17:38.596Z"
      },
      {
        "duration": 6005,
        "start_time": "2021-12-23T19:17:38.605Z"
      },
      {
        "duration": 5,
        "start_time": "2021-12-23T19:17:44.611Z"
      },
      {
        "duration": 10,
        "start_time": "2021-12-23T19:17:44.618Z"
      },
      {
        "duration": 1167,
        "start_time": "2021-12-23T19:21:19.850Z"
      },
      {
        "duration": 19,
        "start_time": "2021-12-23T19:21:21.019Z"
      },
      {
        "duration": 11,
        "start_time": "2021-12-23T19:21:21.040Z"
      },
      {
        "duration": 8,
        "start_time": "2021-12-23T19:21:21.053Z"
      },
      {
        "duration": 36,
        "start_time": "2021-12-23T19:21:21.062Z"
      },
      {
        "duration": 5,
        "start_time": "2021-12-23T19:21:21.100Z"
      },
      {
        "duration": 6,
        "start_time": "2021-12-23T19:21:21.107Z"
      },
      {
        "duration": 7,
        "start_time": "2021-12-23T19:21:21.116Z"
      },
      {
        "duration": 3,
        "start_time": "2021-12-23T19:21:21.125Z"
      },
      {
        "duration": 31,
        "start_time": "2021-12-23T19:21:21.130Z"
      },
      {
        "duration": 7,
        "start_time": "2021-12-23T19:21:21.162Z"
      },
      {
        "duration": 38,
        "start_time": "2021-12-23T19:21:21.170Z"
      },
      {
        "duration": 6,
        "start_time": "2021-12-23T19:21:21.209Z"
      },
      {
        "duration": 5206,
        "start_time": "2021-12-23T19:21:21.216Z"
      },
      {
        "duration": 6260,
        "start_time": "2021-12-23T19:21:26.423Z"
      },
      {
        "duration": 5,
        "start_time": "2021-12-23T19:21:32.685Z"
      },
      {
        "duration": 11,
        "start_time": "2021-12-23T19:21:32.692Z"
      },
      {
        "duration": 9,
        "start_time": "2021-12-23T19:21:32.705Z"
      },
      {
        "duration": 4,
        "start_time": "2021-12-23T19:21:32.716Z"
      },
      {
        "duration": 370,
        "start_time": "2021-12-23T19:21:32.722Z"
      },
      {
        "duration": 4,
        "start_time": "2021-12-23T19:21:33.094Z"
      },
      {
        "duration": 852,
        "start_time": "2021-12-23T19:21:33.099Z"
      },
      {
        "duration": 8,
        "start_time": "2021-12-23T19:21:33.954Z"
      },
      {
        "duration": 6,
        "start_time": "2021-12-23T19:21:33.964Z"
      },
      {
        "duration": 4,
        "start_time": "2021-12-23T19:21:33.972Z"
      },
      {
        "duration": 6,
        "start_time": "2021-12-23T19:21:33.978Z"
      },
      {
        "duration": 6,
        "start_time": "2021-12-23T19:21:33.985Z"
      },
      {
        "duration": 5702,
        "start_time": "2021-12-23T19:21:33.992Z"
      },
      {
        "duration": 5,
        "start_time": "2021-12-23T19:21:39.696Z"
      },
      {
        "duration": 9,
        "start_time": "2021-12-23T19:21:39.703Z"
      },
      {
        "duration": 2,
        "start_time": "2021-12-23T19:23:19.468Z"
      },
      {
        "duration": 51,
        "start_time": "2021-12-23T19:25:03.908Z"
      },
      {
        "duration": 6,
        "start_time": "2021-12-23T19:26:24.546Z"
      },
      {
        "duration": 773,
        "start_time": "2021-12-23T19:28:16.013Z"
      },
      {
        "duration": 131,
        "start_time": "2021-12-23T19:28:44.418Z"
      },
      {
        "duration": 3,
        "start_time": "2021-12-23T19:29:29.643Z"
      },
      {
        "duration": 9,
        "start_time": "2021-12-23T19:29:51.338Z"
      },
      {
        "duration": 550,
        "start_time": "2021-12-23T19:32:18.534Z"
      },
      {
        "duration": 524,
        "start_time": "2021-12-23T19:33:28.457Z"
      },
      {
        "duration": 708,
        "start_time": "2021-12-23T19:34:05.159Z"
      },
      {
        "duration": 671,
        "start_time": "2021-12-23T19:35:13.890Z"
      },
      {
        "duration": 596,
        "start_time": "2021-12-23T19:35:35.648Z"
      },
      {
        "duration": 763,
        "start_time": "2021-12-23T19:36:54.101Z"
      },
      {
        "duration": 468,
        "start_time": "2021-12-23T19:37:58.984Z"
      },
      {
        "duration": 316,
        "start_time": "2021-12-23T19:39:29.065Z"
      },
      {
        "duration": 1049,
        "start_time": "2021-12-23T19:39:41.411Z"
      },
      {
        "duration": 15,
        "start_time": "2021-12-23T19:40:10.576Z"
      },
      {
        "duration": 284,
        "start_time": "2021-12-23T19:46:44.184Z"
      },
      {
        "duration": 336,
        "start_time": "2021-12-23T19:47:17.532Z"
      },
      {
        "duration": 273,
        "start_time": "2021-12-23T19:47:59.616Z"
      },
      {
        "duration": 269,
        "start_time": "2021-12-23T19:51:23.416Z"
      },
      {
        "duration": 232,
        "start_time": "2021-12-23T19:51:39.057Z"
      },
      {
        "duration": 249,
        "start_time": "2021-12-23T19:51:51.066Z"
      },
      {
        "duration": 242,
        "start_time": "2021-12-23T19:52:01.189Z"
      },
      {
        "duration": 248,
        "start_time": "2021-12-23T19:52:31.194Z"
      },
      {
        "duration": 243,
        "start_time": "2021-12-23T19:53:16.842Z"
      },
      {
        "duration": 243,
        "start_time": "2021-12-23T19:53:24.213Z"
      },
      {
        "duration": 253,
        "start_time": "2021-12-23T19:55:03.821Z"
      },
      {
        "duration": 243,
        "start_time": "2021-12-23T19:55:24.459Z"
      },
      {
        "duration": 242,
        "start_time": "2021-12-23T19:58:57.583Z"
      },
      {
        "duration": 251,
        "start_time": "2021-12-23T19:59:10.031Z"
      },
      {
        "duration": 169,
        "start_time": "2021-12-23T19:59:46.022Z"
      },
      {
        "duration": 269,
        "start_time": "2021-12-23T20:00:48.523Z"
      },
      {
        "duration": 341,
        "start_time": "2021-12-23T20:01:01.274Z"
      },
      {
        "duration": 168,
        "start_time": "2021-12-23T20:01:09.933Z"
      },
      {
        "duration": 457,
        "start_time": "2021-12-23T20:05:35.510Z"
      },
      {
        "duration": 167,
        "start_time": "2021-12-23T20:06:36.093Z"
      },
      {
        "duration": 169,
        "start_time": "2021-12-23T20:06:45.135Z"
      },
      {
        "duration": 679,
        "start_time": "2021-12-23T20:06:58.507Z"
      },
      {
        "duration": 20,
        "start_time": "2021-12-23T20:06:59.188Z"
      },
      {
        "duration": 12,
        "start_time": "2021-12-23T20:06:59.210Z"
      },
      {
        "duration": 6,
        "start_time": "2021-12-23T20:06:59.224Z"
      },
      {
        "duration": 472,
        "start_time": "2021-12-23T20:06:59.231Z"
      },
      {
        "duration": 5,
        "start_time": "2021-12-23T20:06:59.705Z"
      },
      {
        "duration": 10,
        "start_time": "2021-12-23T20:06:59.711Z"
      },
      {
        "duration": 8,
        "start_time": "2021-12-23T20:06:59.723Z"
      },
      {
        "duration": 5,
        "start_time": "2021-12-23T20:06:59.733Z"
      },
      {
        "duration": 6,
        "start_time": "2021-12-23T20:06:59.740Z"
      },
      {
        "duration": 6,
        "start_time": "2021-12-23T20:06:59.761Z"
      },
      {
        "duration": 43,
        "start_time": "2021-12-23T20:06:59.772Z"
      },
      {
        "duration": 4,
        "start_time": "2021-12-23T20:06:59.817Z"
      },
      {
        "duration": 5746,
        "start_time": "2021-12-23T20:06:59.823Z"
      },
      {
        "duration": 6760,
        "start_time": "2021-12-23T20:07:05.574Z"
      },
      {
        "duration": 6,
        "start_time": "2021-12-23T20:07:12.336Z"
      },
      {
        "duration": 17,
        "start_time": "2021-12-23T20:07:12.344Z"
      },
      {
        "duration": 21,
        "start_time": "2021-12-23T20:07:12.364Z"
      },
      {
        "duration": 4,
        "start_time": "2021-12-23T20:07:12.387Z"
      },
      {
        "duration": 308,
        "start_time": "2021-12-23T20:07:12.393Z"
      },
      {
        "duration": 4,
        "start_time": "2021-12-23T20:07:12.703Z"
      },
      {
        "duration": 889,
        "start_time": "2021-12-23T20:07:12.709Z"
      },
      {
        "duration": 3,
        "start_time": "2021-12-23T20:07:13.602Z"
      },
      {
        "duration": 8,
        "start_time": "2021-12-23T20:07:13.607Z"
      },
      {
        "duration": 5,
        "start_time": "2021-12-23T20:07:13.616Z"
      },
      {
        "duration": 6,
        "start_time": "2021-12-23T20:07:13.623Z"
      },
      {
        "duration": 6,
        "start_time": "2021-12-23T20:07:13.631Z"
      },
      {
        "duration": 5935,
        "start_time": "2021-12-23T20:07:13.638Z"
      },
      {
        "duration": 5,
        "start_time": "2021-12-23T20:07:19.575Z"
      },
      {
        "duration": 22,
        "start_time": "2021-12-23T20:07:19.582Z"
      },
      {
        "duration": 6,
        "start_time": "2021-12-23T20:07:19.607Z"
      },
      {
        "duration": 92,
        "start_time": "2021-12-23T20:07:19.615Z"
      },
      {
        "duration": 8,
        "start_time": "2021-12-23T20:07:19.709Z"
      },
      {
        "duration": 203,
        "start_time": "2021-12-23T20:07:19.719Z"
      },
      {
        "duration": 4,
        "start_time": "2021-12-23T20:07:19.925Z"
      },
      {
        "duration": 26,
        "start_time": "2021-12-23T20:07:19.932Z"
      },
      {
        "duration": 192,
        "start_time": "2021-12-23T20:07:19.960Z"
      },
      {
        "duration": 531,
        "start_time": "2021-12-23T20:09:28.728Z"
      },
      {
        "duration": 526,
        "start_time": "2021-12-23T20:09:56.949Z"
      },
      {
        "duration": 674,
        "start_time": "2021-12-23T20:10:26.430Z"
      },
      {
        "duration": 4,
        "start_time": "2021-12-23T20:10:52.445Z"
      },
      {
        "duration": 124,
        "start_time": "2021-12-23T20:11:51.700Z"
      },
      {
        "duration": 172,
        "start_time": "2021-12-23T20:12:13.254Z"
      },
      {
        "duration": 179,
        "start_time": "2021-12-23T20:12:33.895Z"
      },
      {
        "duration": 175,
        "start_time": "2021-12-23T20:14:10.370Z"
      },
      {
        "duration": 171,
        "start_time": "2021-12-23T20:14:45.406Z"
      },
      {
        "duration": 176,
        "start_time": "2021-12-23T20:16:14.884Z"
      },
      {
        "duration": 272,
        "start_time": "2021-12-23T20:16:24.784Z"
      },
      {
        "duration": 414,
        "start_time": "2021-12-23T20:22:46.328Z"
      },
      {
        "duration": 181,
        "start_time": "2021-12-23T20:25:03.098Z"
      },
      {
        "duration": 662,
        "start_time": "2021-12-24T05:52:12.825Z"
      },
      {
        "duration": 18,
        "start_time": "2021-12-24T05:52:13.489Z"
      },
      {
        "duration": 14,
        "start_time": "2021-12-24T05:52:13.509Z"
      },
      {
        "duration": 9,
        "start_time": "2021-12-24T05:52:13.525Z"
      },
      {
        "duration": 435,
        "start_time": "2021-12-24T05:52:13.536Z"
      },
      {
        "duration": 5,
        "start_time": "2021-12-24T05:52:13.973Z"
      },
      {
        "duration": 7,
        "start_time": "2021-12-24T05:52:13.979Z"
      },
      {
        "duration": 8,
        "start_time": "2021-12-24T05:52:13.988Z"
      },
      {
        "duration": 6,
        "start_time": "2021-12-24T05:52:13.998Z"
      },
      {
        "duration": 8,
        "start_time": "2021-12-24T05:52:14.006Z"
      },
      {
        "duration": 7,
        "start_time": "2021-12-24T05:52:14.016Z"
      },
      {
        "duration": 48,
        "start_time": "2021-12-24T05:52:14.025Z"
      },
      {
        "duration": 4,
        "start_time": "2021-12-24T05:52:14.075Z"
      },
      {
        "duration": 5045,
        "start_time": "2021-12-24T05:52:14.081Z"
      },
      {
        "duration": 5928,
        "start_time": "2021-12-24T05:52:19.128Z"
      },
      {
        "duration": 6,
        "start_time": "2021-12-24T05:52:25.061Z"
      },
      {
        "duration": 12,
        "start_time": "2021-12-24T05:52:25.069Z"
      },
      {
        "duration": 8,
        "start_time": "2021-12-24T05:52:25.083Z"
      },
      {
        "duration": 5,
        "start_time": "2021-12-24T05:52:25.092Z"
      },
      {
        "duration": 278,
        "start_time": "2021-12-24T05:52:25.099Z"
      },
      {
        "duration": 5,
        "start_time": "2021-12-24T05:52:25.379Z"
      },
      {
        "duration": 788,
        "start_time": "2021-12-24T05:52:25.386Z"
      },
      {
        "duration": 4,
        "start_time": "2021-12-24T05:52:26.178Z"
      },
      {
        "duration": 8,
        "start_time": "2021-12-24T05:52:26.184Z"
      },
      {
        "duration": 4,
        "start_time": "2021-12-24T05:52:26.193Z"
      },
      {
        "duration": 6,
        "start_time": "2021-12-24T05:52:26.199Z"
      },
      {
        "duration": 6,
        "start_time": "2021-12-24T05:52:26.207Z"
      },
      {
        "duration": 5553,
        "start_time": "2021-12-24T05:52:26.215Z"
      },
      {
        "duration": 6,
        "start_time": "2021-12-24T05:52:31.771Z"
      },
      {
        "duration": 14,
        "start_time": "2021-12-24T05:52:31.779Z"
      },
      {
        "duration": 8,
        "start_time": "2021-12-24T05:52:31.795Z"
      },
      {
        "duration": 63,
        "start_time": "2021-12-24T05:52:31.805Z"
      },
      {
        "duration": 6,
        "start_time": "2021-12-24T05:52:31.869Z"
      },
      {
        "duration": 134,
        "start_time": "2021-12-24T05:52:31.876Z"
      },
      {
        "duration": 3,
        "start_time": "2021-12-24T05:52:32.012Z"
      },
      {
        "duration": 10,
        "start_time": "2021-12-24T05:52:32.016Z"
      },
      {
        "duration": 175,
        "start_time": "2021-12-24T05:52:32.028Z"
      },
      {
        "duration": 680,
        "start_time": "2021-12-24T05:55:46.463Z"
      },
      {
        "duration": 19,
        "start_time": "2021-12-24T05:55:47.145Z"
      },
      {
        "duration": 10,
        "start_time": "2021-12-24T05:55:47.168Z"
      },
      {
        "duration": 9,
        "start_time": "2021-12-24T05:55:47.180Z"
      },
      {
        "duration": 469,
        "start_time": "2021-12-24T05:55:47.191Z"
      },
      {
        "duration": 5,
        "start_time": "2021-12-24T05:55:47.662Z"
      },
      {
        "duration": 8,
        "start_time": "2021-12-24T05:55:47.670Z"
      },
      {
        "duration": 7,
        "start_time": "2021-12-24T05:55:47.680Z"
      },
      {
        "duration": 4,
        "start_time": "2021-12-24T05:55:47.689Z"
      },
      {
        "duration": 5,
        "start_time": "2021-12-24T05:55:47.694Z"
      },
      {
        "duration": 6,
        "start_time": "2021-12-24T05:55:47.701Z"
      },
      {
        "duration": 52,
        "start_time": "2021-12-24T05:55:47.708Z"
      },
      {
        "duration": 4,
        "start_time": "2021-12-24T05:55:47.762Z"
      },
      {
        "duration": 5006,
        "start_time": "2021-12-24T05:55:47.768Z"
      },
      {
        "duration": 5967,
        "start_time": "2021-12-24T05:55:52.776Z"
      },
      {
        "duration": 5,
        "start_time": "2021-12-24T05:55:58.745Z"
      },
      {
        "duration": 12,
        "start_time": "2021-12-24T05:55:58.752Z"
      },
      {
        "duration": 7,
        "start_time": "2021-12-24T05:55:58.766Z"
      },
      {
        "duration": 4,
        "start_time": "2021-12-24T05:55:58.774Z"
      },
      {
        "duration": 363,
        "start_time": "2021-12-24T05:55:58.779Z"
      },
      {
        "duration": 3,
        "start_time": "2021-12-24T05:55:59.144Z"
      },
      {
        "duration": 721,
        "start_time": "2021-12-24T05:55:59.150Z"
      },
      {
        "duration": 4,
        "start_time": "2021-12-24T05:55:59.873Z"
      },
      {
        "duration": 9,
        "start_time": "2021-12-24T05:55:59.878Z"
      },
      {
        "duration": 4,
        "start_time": "2021-12-24T05:55:59.889Z"
      },
      {
        "duration": 7,
        "start_time": "2021-12-24T05:55:59.894Z"
      },
      {
        "duration": 4,
        "start_time": "2021-12-24T05:55:59.903Z"
      },
      {
        "duration": 5758,
        "start_time": "2021-12-24T05:55:59.909Z"
      },
      {
        "duration": 5,
        "start_time": "2021-12-24T05:56:05.669Z"
      },
      {
        "duration": 19,
        "start_time": "2021-12-24T05:56:05.676Z"
      },
      {
        "duration": 21,
        "start_time": "2021-12-24T05:56:05.697Z"
      },
      {
        "duration": 61,
        "start_time": "2021-12-24T05:56:05.720Z"
      },
      {
        "duration": 5,
        "start_time": "2021-12-24T05:56:05.783Z"
      },
      {
        "duration": 132,
        "start_time": "2021-12-24T05:56:05.790Z"
      },
      {
        "duration": 4,
        "start_time": "2021-12-24T05:56:05.923Z"
      },
      {
        "duration": 20,
        "start_time": "2021-12-24T05:56:05.929Z"
      },
      {
        "duration": 170,
        "start_time": "2021-12-24T05:56:05.950Z"
      },
      {
        "duration": 172,
        "start_time": "2021-12-24T05:57:58.462Z"
      },
      {
        "duration": 173,
        "start_time": "2021-12-24T05:58:05.058Z"
      },
      {
        "duration": 175,
        "start_time": "2021-12-24T05:58:11.536Z"
      },
      {
        "duration": 168,
        "start_time": "2021-12-24T05:58:15.467Z"
      },
      {
        "duration": 622,
        "start_time": "2021-12-24T09:26:58.786Z"
      },
      {
        "duration": 19,
        "start_time": "2021-12-24T09:26:59.410Z"
      },
      {
        "duration": 12,
        "start_time": "2021-12-24T09:26:59.432Z"
      },
      {
        "duration": 8,
        "start_time": "2021-12-24T09:26:59.446Z"
      },
      {
        "duration": 467,
        "start_time": "2021-12-24T09:26:59.456Z"
      },
      {
        "duration": 5,
        "start_time": "2021-12-24T09:26:59.925Z"
      },
      {
        "duration": 6,
        "start_time": "2021-12-24T09:26:59.931Z"
      },
      {
        "duration": 8,
        "start_time": "2021-12-24T09:26:59.939Z"
      },
      {
        "duration": 3,
        "start_time": "2021-12-24T09:26:59.950Z"
      },
      {
        "duration": 5,
        "start_time": "2021-12-24T09:26:59.955Z"
      },
      {
        "duration": 7,
        "start_time": "2021-12-24T09:26:59.962Z"
      },
      {
        "duration": 57,
        "start_time": "2021-12-24T09:26:59.970Z"
      },
      {
        "duration": 4,
        "start_time": "2021-12-24T09:27:00.029Z"
      },
      {
        "duration": 5020,
        "start_time": "2021-12-24T09:27:00.035Z"
      },
      {
        "duration": 5789,
        "start_time": "2021-12-24T09:27:05.057Z"
      },
      {
        "duration": 6,
        "start_time": "2021-12-24T09:27:10.848Z"
      },
      {
        "duration": 6,
        "start_time": "2021-12-24T09:27:10.856Z"
      },
      {
        "duration": 10,
        "start_time": "2021-12-24T09:27:10.864Z"
      },
      {
        "duration": 4,
        "start_time": "2021-12-24T09:27:10.876Z"
      },
      {
        "duration": 286,
        "start_time": "2021-12-24T09:27:10.882Z"
      },
      {
        "duration": 4,
        "start_time": "2021-12-24T09:27:11.170Z"
      },
      {
        "duration": 759,
        "start_time": "2021-12-24T09:27:11.176Z"
      },
      {
        "duration": 6,
        "start_time": "2021-12-24T09:27:11.937Z"
      },
      {
        "duration": 6,
        "start_time": "2021-12-24T09:27:11.945Z"
      },
      {
        "duration": 4,
        "start_time": "2021-12-24T09:27:11.953Z"
      },
      {
        "duration": 6,
        "start_time": "2021-12-24T09:27:11.959Z"
      },
      {
        "duration": 4,
        "start_time": "2021-12-24T09:27:11.969Z"
      },
      {
        "duration": 5490,
        "start_time": "2021-12-24T09:27:11.975Z"
      },
      {
        "duration": 5,
        "start_time": "2021-12-24T09:27:17.467Z"
      },
      {
        "duration": 8,
        "start_time": "2021-12-24T09:27:17.474Z"
      },
      {
        "duration": 3,
        "start_time": "2021-12-24T09:27:17.484Z"
      },
      {
        "duration": 66,
        "start_time": "2021-12-24T09:27:17.489Z"
      },
      {
        "duration": 6,
        "start_time": "2021-12-24T09:27:17.556Z"
      },
      {
        "duration": 131,
        "start_time": "2021-12-24T09:27:17.563Z"
      },
      {
        "duration": 4,
        "start_time": "2021-12-24T09:27:17.695Z"
      },
      {
        "duration": 15,
        "start_time": "2021-12-24T09:27:17.700Z"
      },
      {
        "duration": 163,
        "start_time": "2021-12-24T09:27:17.717Z"
      },
      {
        "duration": 5,
        "start_time": "2021-12-24T10:21:44.338Z"
      },
      {
        "duration": 660,
        "start_time": "2021-12-24T10:28:17.216Z"
      },
      {
        "duration": 21,
        "start_time": "2021-12-24T10:28:17.878Z"
      },
      {
        "duration": 15,
        "start_time": "2021-12-24T10:28:17.901Z"
      },
      {
        "duration": 12,
        "start_time": "2021-12-24T10:28:17.918Z"
      },
      {
        "duration": 490,
        "start_time": "2021-12-24T10:28:17.931Z"
      },
      {
        "duration": 5,
        "start_time": "2021-12-24T10:28:18.423Z"
      },
      {
        "duration": 9,
        "start_time": "2021-12-24T10:28:18.430Z"
      },
      {
        "duration": 12,
        "start_time": "2021-12-24T10:28:18.440Z"
      },
      {
        "duration": 3,
        "start_time": "2021-12-24T10:28:18.455Z"
      },
      {
        "duration": 13,
        "start_time": "2021-12-24T10:28:18.460Z"
      },
      {
        "duration": 8,
        "start_time": "2021-12-24T10:28:18.474Z"
      },
      {
        "duration": 44,
        "start_time": "2021-12-24T10:28:18.483Z"
      },
      {
        "duration": 4,
        "start_time": "2021-12-24T10:28:18.529Z"
      },
      {
        "duration": 5276,
        "start_time": "2021-12-24T10:28:18.534Z"
      },
      {
        "duration": 6276,
        "start_time": "2021-12-24T10:28:23.811Z"
      },
      {
        "duration": 5,
        "start_time": "2021-12-24T10:28:30.089Z"
      },
      {
        "duration": 27,
        "start_time": "2021-12-24T10:28:30.096Z"
      },
      {
        "duration": 23,
        "start_time": "2021-12-24T10:28:30.125Z"
      },
      {
        "duration": 25,
        "start_time": "2021-12-24T10:28:30.150Z"
      },
      {
        "duration": 305,
        "start_time": "2021-12-24T10:28:30.176Z"
      },
      {
        "duration": 4,
        "start_time": "2021-12-24T10:28:30.483Z"
      },
      {
        "duration": 811,
        "start_time": "2021-12-24T10:28:30.489Z"
      },
      {
        "duration": 3,
        "start_time": "2021-12-24T10:28:31.302Z"
      },
      {
        "duration": 21,
        "start_time": "2021-12-24T10:28:31.306Z"
      },
      {
        "duration": 4,
        "start_time": "2021-12-24T10:28:31.340Z"
      },
      {
        "duration": 18,
        "start_time": "2021-12-24T10:28:31.345Z"
      },
      {
        "duration": 7,
        "start_time": "2021-12-24T10:28:31.366Z"
      },
      {
        "duration": 19279,
        "start_time": "2021-12-24T10:28:31.375Z"
      },
      {
        "duration": 5,
        "start_time": "2021-12-24T10:28:50.656Z"
      },
      {
        "duration": 11,
        "start_time": "2021-12-24T10:28:50.662Z"
      },
      {
        "duration": 5,
        "start_time": "2021-12-24T10:28:50.674Z"
      },
      {
        "duration": 67,
        "start_time": "2021-12-24T10:28:50.680Z"
      },
      {
        "duration": 7,
        "start_time": "2021-12-24T10:28:50.749Z"
      },
      {
        "duration": 137,
        "start_time": "2021-12-24T10:28:50.757Z"
      },
      {
        "duration": 5,
        "start_time": "2021-12-24T10:28:50.895Z"
      },
      {
        "duration": 12,
        "start_time": "2021-12-24T10:28:50.902Z"
      },
      {
        "duration": 171,
        "start_time": "2021-12-24T10:28:50.916Z"
      },
      {
        "duration": 12140,
        "start_time": "2021-12-24T10:29:02.168Z"
      },
      {
        "duration": 26171,
        "start_time": "2021-12-24T10:29:20.894Z"
      },
      {
        "duration": 5902,
        "start_time": "2021-12-24T10:30:24.613Z"
      },
      {
        "duration": 25933,
        "start_time": "2021-12-24T10:30:44.740Z"
      },
      {
        "duration": 24961,
        "start_time": "2021-12-24T10:32:34.923Z"
      },
      {
        "duration": 482,
        "start_time": "2021-12-24T10:33:02.125Z"
      },
      {
        "duration": 324,
        "start_time": "2021-12-24T10:34:35.916Z"
      },
      {
        "duration": 289,
        "start_time": "2021-12-24T10:36:25.313Z"
      },
      {
        "duration": 689,
        "start_time": "2021-12-24T10:37:28.949Z"
      },
      {
        "duration": 19,
        "start_time": "2021-12-24T10:37:29.640Z"
      },
      {
        "duration": 10,
        "start_time": "2021-12-24T10:37:29.661Z"
      },
      {
        "duration": 10,
        "start_time": "2021-12-24T10:37:29.673Z"
      },
      {
        "duration": 430,
        "start_time": "2021-12-24T10:37:29.685Z"
      },
      {
        "duration": 5,
        "start_time": "2021-12-24T10:37:30.117Z"
      },
      {
        "duration": 23,
        "start_time": "2021-12-24T10:37:30.124Z"
      },
      {
        "duration": 8,
        "start_time": "2021-12-24T10:37:30.149Z"
      },
      {
        "duration": 3,
        "start_time": "2021-12-24T10:37:30.159Z"
      },
      {
        "duration": 6,
        "start_time": "2021-12-24T10:37:30.164Z"
      },
      {
        "duration": 8,
        "start_time": "2021-12-24T10:37:30.172Z"
      },
      {
        "duration": 33,
        "start_time": "2021-12-24T10:37:30.181Z"
      },
      {
        "duration": 4,
        "start_time": "2021-12-24T10:37:30.216Z"
      },
      {
        "duration": 5117,
        "start_time": "2021-12-24T10:37:30.222Z"
      },
      {
        "duration": 6102,
        "start_time": "2021-12-24T10:37:35.340Z"
      },
      {
        "duration": 6,
        "start_time": "2021-12-24T10:37:41.444Z"
      },
      {
        "duration": 9,
        "start_time": "2021-12-24T10:37:41.451Z"
      },
      {
        "duration": 8,
        "start_time": "2021-12-24T10:37:41.461Z"
      },
      {
        "duration": 3,
        "start_time": "2021-12-24T10:37:41.471Z"
      },
      {
        "duration": 285,
        "start_time": "2021-12-24T10:37:41.475Z"
      },
      {
        "duration": 3,
        "start_time": "2021-12-24T10:37:41.762Z"
      },
      {
        "duration": 789,
        "start_time": "2021-12-24T10:37:41.767Z"
      },
      {
        "duration": 3,
        "start_time": "2021-12-24T10:37:42.560Z"
      },
      {
        "duration": 8,
        "start_time": "2021-12-24T10:37:42.564Z"
      },
      {
        "duration": 3,
        "start_time": "2021-12-24T10:37:42.574Z"
      },
      {
        "duration": 6,
        "start_time": "2021-12-24T10:37:42.578Z"
      },
      {
        "duration": 5,
        "start_time": "2021-12-24T10:37:42.585Z"
      },
      {
        "duration": 6070,
        "start_time": "2021-12-24T10:37:42.591Z"
      },
      {
        "duration": 5,
        "start_time": "2021-12-24T10:37:48.663Z"
      },
      {
        "duration": 26478,
        "start_time": "2021-12-24T10:37:48.669Z"
      },
      {
        "duration": 4,
        "start_time": "2021-12-24T10:38:15.149Z"
      },
      {
        "duration": 9,
        "start_time": "2021-12-24T10:38:15.155Z"
      },
      {
        "duration": 4,
        "start_time": "2021-12-24T10:38:15.165Z"
      },
      {
        "duration": 69,
        "start_time": "2021-12-24T10:38:15.170Z"
      },
      {
        "duration": 6,
        "start_time": "2021-12-24T10:38:15.242Z"
      },
      {
        "duration": 127,
        "start_time": "2021-12-24T10:38:15.249Z"
      },
      {
        "duration": 371,
        "start_time": "2021-12-24T10:38:15.378Z"
      },
      {
        "duration": 3278,
        "start_time": "2021-12-24T10:38:12.473Z"
      },
      {
        "duration": 3277,
        "start_time": "2021-12-24T10:38:12.475Z"
      },
      {
        "duration": 3,
        "start_time": "2021-12-24T10:40:23.682Z"
      },
      {
        "duration": 633,
        "start_time": "2021-12-24T10:41:52.909Z"
      },
      {
        "duration": 18,
        "start_time": "2021-12-24T10:41:53.544Z"
      },
      {
        "duration": 11,
        "start_time": "2021-12-24T10:41:53.563Z"
      },
      {
        "duration": 7,
        "start_time": "2021-12-24T10:41:53.575Z"
      },
      {
        "duration": 429,
        "start_time": "2021-12-24T10:41:53.584Z"
      },
      {
        "duration": 5,
        "start_time": "2021-12-24T10:41:54.015Z"
      },
      {
        "duration": 9,
        "start_time": "2021-12-24T10:41:54.021Z"
      },
      {
        "duration": 5,
        "start_time": "2021-12-24T10:41:54.032Z"
      },
      {
        "duration": 3,
        "start_time": "2021-12-24T10:41:54.039Z"
      },
      {
        "duration": 7,
        "start_time": "2021-12-24T10:41:54.043Z"
      },
      {
        "duration": 5,
        "start_time": "2021-12-24T10:41:54.052Z"
      },
      {
        "duration": 33,
        "start_time": "2021-12-24T10:41:54.058Z"
      },
      {
        "duration": 4,
        "start_time": "2021-12-24T10:41:54.092Z"
      },
      {
        "duration": 4856,
        "start_time": "2021-12-24T10:41:54.097Z"
      },
      {
        "duration": 5774,
        "start_time": "2021-12-24T10:41:58.955Z"
      },
      {
        "duration": 5,
        "start_time": "2021-12-24T10:42:04.730Z"
      },
      {
        "duration": 9,
        "start_time": "2021-12-24T10:42:04.737Z"
      },
      {
        "duration": 17,
        "start_time": "2021-12-24T10:42:04.748Z"
      },
      {
        "duration": 9,
        "start_time": "2021-12-24T10:42:04.767Z"
      },
      {
        "duration": 266,
        "start_time": "2021-12-24T10:42:04.778Z"
      },
      {
        "duration": 4,
        "start_time": "2021-12-24T10:42:05.046Z"
      },
      {
        "duration": 764,
        "start_time": "2021-12-24T10:42:05.052Z"
      },
      {
        "duration": 7,
        "start_time": "2021-12-24T10:42:05.820Z"
      },
      {
        "duration": 10,
        "start_time": "2021-12-24T10:42:05.829Z"
      },
      {
        "duration": 4,
        "start_time": "2021-12-24T10:42:05.840Z"
      },
      {
        "duration": 5,
        "start_time": "2021-12-24T10:42:05.846Z"
      },
      {
        "duration": 5,
        "start_time": "2021-12-24T10:42:05.853Z"
      },
      {
        "duration": 5328,
        "start_time": "2021-12-24T10:42:05.859Z"
      },
      {
        "duration": 4,
        "start_time": "2021-12-24T10:42:11.189Z"
      },
      {
        "duration": 12,
        "start_time": "2021-12-24T10:42:11.195Z"
      },
      {
        "duration": 6,
        "start_time": "2021-12-24T10:42:11.208Z"
      },
      {
        "duration": 59,
        "start_time": "2021-12-24T10:42:11.216Z"
      },
      {
        "duration": 5,
        "start_time": "2021-12-24T10:42:11.277Z"
      },
      {
        "duration": 139,
        "start_time": "2021-12-24T10:42:11.284Z"
      },
      {
        "duration": 3,
        "start_time": "2021-12-24T10:42:11.428Z"
      },
      {
        "duration": 17,
        "start_time": "2021-12-24T10:42:11.432Z"
      },
      {
        "duration": 185,
        "start_time": "2021-12-24T10:42:11.451Z"
      },
      {
        "duration": 337,
        "start_time": "2021-12-24T10:43:57.319Z"
      },
      {
        "duration": 258,
        "start_time": "2021-12-24T10:44:19.512Z"
      },
      {
        "duration": 723,
        "start_time": "2021-12-24T10:44:25.051Z"
      },
      {
        "duration": 18,
        "start_time": "2021-12-24T10:44:25.776Z"
      },
      {
        "duration": 11,
        "start_time": "2021-12-24T10:44:25.796Z"
      },
      {
        "duration": 6,
        "start_time": "2021-12-24T10:44:25.809Z"
      },
      {
        "duration": 401,
        "start_time": "2021-12-24T10:44:25.817Z"
      },
      {
        "duration": 13,
        "start_time": "2021-12-24T10:44:26.220Z"
      },
      {
        "duration": 11,
        "start_time": "2021-12-24T10:44:26.235Z"
      },
      {
        "duration": 6,
        "start_time": "2021-12-24T10:44:26.249Z"
      },
      {
        "duration": 5,
        "start_time": "2021-12-24T10:44:26.257Z"
      },
      {
        "duration": 5,
        "start_time": "2021-12-24T10:44:26.264Z"
      },
      {
        "duration": 5,
        "start_time": "2021-12-24T10:44:26.271Z"
      },
      {
        "duration": 32,
        "start_time": "2021-12-24T10:44:26.278Z"
      },
      {
        "duration": 22,
        "start_time": "2021-12-24T10:44:26.312Z"
      },
      {
        "duration": 5068,
        "start_time": "2021-12-24T10:44:26.335Z"
      },
      {
        "duration": 6053,
        "start_time": "2021-12-24T10:44:31.405Z"
      },
      {
        "duration": 5,
        "start_time": "2021-12-24T10:44:37.460Z"
      },
      {
        "duration": 7,
        "start_time": "2021-12-24T10:44:37.467Z"
      },
      {
        "duration": 10,
        "start_time": "2021-12-24T10:44:37.475Z"
      },
      {
        "duration": 3,
        "start_time": "2021-12-24T10:44:37.487Z"
      },
      {
        "duration": 297,
        "start_time": "2021-12-24T10:44:37.492Z"
      },
      {
        "duration": 3,
        "start_time": "2021-12-24T10:44:37.791Z"
      },
      {
        "duration": 804,
        "start_time": "2021-12-24T10:44:37.796Z"
      },
      {
        "duration": 4,
        "start_time": "2021-12-24T10:44:38.604Z"
      },
      {
        "duration": 12,
        "start_time": "2021-12-24T10:44:38.610Z"
      },
      {
        "duration": 122,
        "start_time": "2021-12-24T10:44:38.628Z"
      },
      {
        "duration": 156,
        "start_time": "2021-12-24T10:44:38.752Z"
      },
      {
        "duration": 88,
        "start_time": "2021-12-24T10:44:38.910Z"
      },
      {
        "duration": 6005,
        "start_time": "2021-12-24T10:44:39.000Z"
      },
      {
        "duration": 5,
        "start_time": "2021-12-24T10:44:45.007Z"
      },
      {
        "duration": 26043,
        "start_time": "2021-12-24T10:44:45.014Z"
      },
      {
        "duration": 5,
        "start_time": "2021-12-24T10:45:11.059Z"
      },
      {
        "duration": 5,
        "start_time": "2021-12-24T10:45:11.066Z"
      },
      {
        "duration": 9,
        "start_time": "2021-12-24T10:45:11.072Z"
      },
      {
        "duration": 4,
        "start_time": "2021-12-24T10:45:11.082Z"
      },
      {
        "duration": 70,
        "start_time": "2021-12-24T10:45:11.087Z"
      },
      {
        "duration": 6,
        "start_time": "2021-12-24T10:45:11.158Z"
      },
      {
        "duration": 130,
        "start_time": "2021-12-24T10:45:11.165Z"
      },
      {
        "duration": 31,
        "start_time": "2021-12-24T10:45:11.296Z"
      },
      {
        "duration": 3,
        "start_time": "2021-12-24T10:45:11.329Z"
      },
      {
        "duration": 19,
        "start_time": "2021-12-24T10:45:11.334Z"
      },
      {
        "duration": 183,
        "start_time": "2021-12-24T10:45:11.355Z"
      },
      {
        "duration": 617,
        "start_time": "2021-12-24T10:47:46.981Z"
      },
      {
        "duration": 18,
        "start_time": "2021-12-24T10:47:47.600Z"
      },
      {
        "duration": 27,
        "start_time": "2021-12-24T10:47:47.620Z"
      },
      {
        "duration": 6,
        "start_time": "2021-12-24T10:47:47.649Z"
      },
      {
        "duration": 458,
        "start_time": "2021-12-24T10:47:47.656Z"
      },
      {
        "duration": 5,
        "start_time": "2021-12-24T10:47:48.115Z"
      },
      {
        "duration": 8,
        "start_time": "2021-12-24T10:47:48.121Z"
      },
      {
        "duration": 8,
        "start_time": "2021-12-24T10:47:48.130Z"
      },
      {
        "duration": 4,
        "start_time": "2021-12-24T10:47:48.140Z"
      },
      {
        "duration": 4,
        "start_time": "2021-12-24T10:47:48.146Z"
      },
      {
        "duration": 19,
        "start_time": "2021-12-24T10:47:48.152Z"
      },
      {
        "duration": 33,
        "start_time": "2021-12-24T10:47:48.173Z"
      },
      {
        "duration": 4,
        "start_time": "2021-12-24T10:47:48.207Z"
      },
      {
        "duration": 5130,
        "start_time": "2021-12-24T10:47:48.230Z"
      },
      {
        "duration": 6077,
        "start_time": "2021-12-24T10:47:53.363Z"
      },
      {
        "duration": 6,
        "start_time": "2021-12-24T10:47:59.442Z"
      },
      {
        "duration": 8,
        "start_time": "2021-12-24T10:47:59.449Z"
      },
      {
        "duration": 9,
        "start_time": "2021-12-24T10:47:59.458Z"
      },
      {
        "duration": 4,
        "start_time": "2021-12-24T10:47:59.469Z"
      },
      {
        "duration": 289,
        "start_time": "2021-12-24T10:47:59.475Z"
      },
      {
        "duration": 4,
        "start_time": "2021-12-24T10:47:59.765Z"
      },
      {
        "duration": 786,
        "start_time": "2021-12-24T10:47:59.771Z"
      },
      {
        "duration": 3,
        "start_time": "2021-12-24T10:48:00.559Z"
      },
      {
        "duration": 11,
        "start_time": "2021-12-24T10:48:00.563Z"
      },
      {
        "duration": 7,
        "start_time": "2021-12-24T10:48:00.575Z"
      },
      {
        "duration": 13,
        "start_time": "2021-12-24T10:48:00.583Z"
      },
      {
        "duration": 8,
        "start_time": "2021-12-24T10:48:00.599Z"
      },
      {
        "duration": 5826,
        "start_time": "2021-12-24T10:48:00.609Z"
      },
      {
        "duration": 6,
        "start_time": "2021-12-24T10:48:06.437Z"
      },
      {
        "duration": 66420,
        "start_time": "2021-12-24T10:48:06.445Z"
      },
      {
        "duration": 5,
        "start_time": "2021-12-24T10:49:12.867Z"
      },
      {
        "duration": 6,
        "start_time": "2021-12-24T10:49:12.874Z"
      },
      {
        "duration": 13,
        "start_time": "2021-12-24T10:49:12.882Z"
      },
      {
        "duration": 5,
        "start_time": "2021-12-24T10:49:12.897Z"
      },
      {
        "duration": 69,
        "start_time": "2021-12-24T10:49:12.903Z"
      },
      {
        "duration": 5,
        "start_time": "2021-12-24T10:49:12.974Z"
      },
      {
        "duration": 129,
        "start_time": "2021-12-24T10:49:12.980Z"
      },
      {
        "duration": 32,
        "start_time": "2021-12-24T10:49:13.111Z"
      },
      {
        "duration": 3,
        "start_time": "2021-12-24T10:49:13.145Z"
      },
      {
        "duration": 8,
        "start_time": "2021-12-24T10:49:13.150Z"
      },
      {
        "duration": 187,
        "start_time": "2021-12-24T10:49:13.160Z"
      },
      {
        "duration": 317,
        "start_time": "2021-12-24T11:02:06.006Z"
      },
      {
        "duration": 4,
        "start_time": "2021-12-24T11:02:13.204Z"
      },
      {
        "duration": 4,
        "start_time": "2021-12-24T11:07:19.499Z"
      },
      {
        "duration": 637,
        "start_time": "2021-12-24T11:09:45.795Z"
      },
      {
        "duration": 19,
        "start_time": "2021-12-24T11:09:46.433Z"
      },
      {
        "duration": 10,
        "start_time": "2021-12-24T11:09:46.454Z"
      },
      {
        "duration": 7,
        "start_time": "2021-12-24T11:09:46.466Z"
      },
      {
        "duration": 441,
        "start_time": "2021-12-24T11:09:46.474Z"
      },
      {
        "duration": 4,
        "start_time": "2021-12-24T11:09:46.917Z"
      },
      {
        "duration": 6,
        "start_time": "2021-12-24T11:09:46.923Z"
      },
      {
        "duration": 8,
        "start_time": "2021-12-24T11:09:46.931Z"
      },
      {
        "duration": 3,
        "start_time": "2021-12-24T11:09:46.941Z"
      },
      {
        "duration": 5,
        "start_time": "2021-12-24T11:09:46.946Z"
      },
      {
        "duration": 7,
        "start_time": "2021-12-24T11:09:46.953Z"
      },
      {
        "duration": 33,
        "start_time": "2021-12-24T11:09:46.961Z"
      },
      {
        "duration": 4,
        "start_time": "2021-12-24T11:09:46.995Z"
      },
      {
        "duration": 5029,
        "start_time": "2021-12-24T11:09:47.000Z"
      },
      {
        "duration": 5900,
        "start_time": "2021-12-24T11:09:52.031Z"
      },
      {
        "duration": 6,
        "start_time": "2021-12-24T11:09:57.933Z"
      },
      {
        "duration": 7,
        "start_time": "2021-12-24T11:09:57.940Z"
      },
      {
        "duration": 8,
        "start_time": "2021-12-24T11:09:57.949Z"
      },
      {
        "duration": 4,
        "start_time": "2021-12-24T11:09:57.958Z"
      },
      {
        "duration": 278,
        "start_time": "2021-12-24T11:09:57.964Z"
      },
      {
        "duration": 3,
        "start_time": "2021-12-24T11:09:58.244Z"
      },
      {
        "duration": 751,
        "start_time": "2021-12-24T11:09:58.249Z"
      },
      {
        "duration": 3,
        "start_time": "2021-12-24T11:09:59.003Z"
      },
      {
        "duration": 21,
        "start_time": "2021-12-24T11:09:59.008Z"
      },
      {
        "duration": 3,
        "start_time": "2021-12-24T11:09:59.031Z"
      },
      {
        "duration": 7,
        "start_time": "2021-12-24T11:09:59.035Z"
      },
      {
        "duration": 5,
        "start_time": "2021-12-24T11:09:59.043Z"
      },
      {
        "duration": 5394,
        "start_time": "2021-12-24T11:09:59.050Z"
      },
      {
        "duration": 5,
        "start_time": "2021-12-24T11:10:04.446Z"
      },
      {
        "duration": 8,
        "start_time": "2021-12-24T11:10:04.452Z"
      },
      {
        "duration": 7,
        "start_time": "2021-12-24T11:10:04.461Z"
      },
      {
        "duration": 4,
        "start_time": "2021-12-24T11:10:04.470Z"
      },
      {
        "duration": 69,
        "start_time": "2021-12-24T11:10:04.475Z"
      },
      {
        "duration": 6,
        "start_time": "2021-12-24T11:10:04.545Z"
      },
      {
        "duration": 130,
        "start_time": "2021-12-24T11:10:04.552Z"
      },
      {
        "duration": 23,
        "start_time": "2021-12-24T11:10:04.684Z"
      },
      {
        "duration": 3,
        "start_time": "2021-12-24T11:10:04.708Z"
      },
      {
        "duration": 19,
        "start_time": "2021-12-24T11:10:04.713Z"
      },
      {
        "duration": 174,
        "start_time": "2021-12-24T11:10:04.733Z"
      },
      {
        "duration": 3,
        "start_time": "2021-12-24T11:10:04.909Z"
      },
      {
        "duration": 416,
        "start_time": "2021-12-24T12:13:27.834Z"
      },
      {
        "duration": 880,
        "start_time": "2021-12-24T12:13:33.922Z"
      },
      {
        "duration": 18,
        "start_time": "2021-12-24T12:13:34.804Z"
      },
      {
        "duration": 14,
        "start_time": "2021-12-24T12:13:34.824Z"
      },
      {
        "duration": 16,
        "start_time": "2021-12-24T12:13:34.841Z"
      },
      {
        "duration": 459,
        "start_time": "2021-12-24T12:13:34.859Z"
      },
      {
        "duration": 9,
        "start_time": "2021-12-24T12:13:35.320Z"
      },
      {
        "duration": 9,
        "start_time": "2021-12-24T12:13:35.331Z"
      },
      {
        "duration": 12,
        "start_time": "2021-12-24T12:13:35.343Z"
      },
      {
        "duration": 4,
        "start_time": "2021-12-24T12:13:35.357Z"
      },
      {
        "duration": 6,
        "start_time": "2021-12-24T12:13:35.362Z"
      },
      {
        "duration": 6,
        "start_time": "2021-12-24T12:13:35.370Z"
      },
      {
        "duration": 35,
        "start_time": "2021-12-24T12:13:35.377Z"
      },
      {
        "duration": 5,
        "start_time": "2021-12-24T12:13:35.436Z"
      },
      {
        "duration": 7194,
        "start_time": "2021-12-24T12:13:35.442Z"
      },
      {
        "duration": 7454,
        "start_time": "2021-12-24T12:13:42.641Z"
      },
      {
        "duration": 5,
        "start_time": "2021-12-24T12:13:50.096Z"
      },
      {
        "duration": 8,
        "start_time": "2021-12-24T12:13:50.103Z"
      },
      {
        "duration": 7,
        "start_time": "2021-12-24T12:13:50.127Z"
      },
      {
        "duration": 14,
        "start_time": "2021-12-24T12:13:50.136Z"
      },
      {
        "duration": 284,
        "start_time": "2021-12-24T12:13:50.152Z"
      },
      {
        "duration": 4,
        "start_time": "2021-12-24T12:13:50.438Z"
      },
      {
        "duration": 807,
        "start_time": "2021-12-24T12:13:50.447Z"
      },
      {
        "duration": 3,
        "start_time": "2021-12-24T12:13:51.258Z"
      },
      {
        "duration": 7,
        "start_time": "2021-12-24T12:13:51.263Z"
      },
      {
        "duration": 5,
        "start_time": "2021-12-24T12:13:51.272Z"
      },
      {
        "duration": 7,
        "start_time": "2021-12-24T12:13:51.278Z"
      },
      {
        "duration": 9,
        "start_time": "2021-12-24T12:13:51.286Z"
      },
      {
        "duration": 5,
        "start_time": "2021-12-24T12:13:51.296Z"
      },
      {
        "duration": 5945,
        "start_time": "2021-12-24T12:13:51.303Z"
      },
      {
        "duration": 7,
        "start_time": "2021-12-24T12:13:57.250Z"
      },
      {
        "duration": 8,
        "start_time": "2021-12-24T12:13:57.259Z"
      },
      {
        "duration": 11,
        "start_time": "2021-12-24T12:13:57.268Z"
      },
      {
        "duration": 4,
        "start_time": "2021-12-24T12:13:57.281Z"
      },
      {
        "duration": 88,
        "start_time": "2021-12-24T12:13:57.287Z"
      },
      {
        "duration": 7,
        "start_time": "2021-12-24T12:13:57.377Z"
      },
      {
        "duration": 134,
        "start_time": "2021-12-24T12:13:57.386Z"
      },
      {
        "duration": 28,
        "start_time": "2021-12-24T12:13:57.522Z"
      },
      {
        "duration": 3,
        "start_time": "2021-12-24T12:13:57.552Z"
      },
      {
        "duration": 8,
        "start_time": "2021-12-24T12:13:57.557Z"
      },
      {
        "duration": 207,
        "start_time": "2021-12-24T12:13:57.567Z"
      },
      {
        "duration": 4,
        "start_time": "2021-12-24T12:13:57.775Z"
      },
      {
        "duration": 59034,
        "start_time": "2021-12-24T12:50:36.378Z"
      },
      {
        "duration": 603,
        "start_time": "2021-12-24T12:54:48.280Z"
      },
      {
        "duration": 20,
        "start_time": "2021-12-24T12:54:48.885Z"
      },
      {
        "duration": 11,
        "start_time": "2021-12-24T12:54:48.907Z"
      },
      {
        "duration": 13,
        "start_time": "2021-12-24T12:54:48.920Z"
      },
      {
        "duration": 455,
        "start_time": "2021-12-24T12:54:48.934Z"
      },
      {
        "duration": 5,
        "start_time": "2021-12-24T12:54:49.391Z"
      },
      {
        "duration": 7,
        "start_time": "2021-12-24T12:54:49.398Z"
      },
      {
        "duration": 21,
        "start_time": "2021-12-24T12:54:49.407Z"
      },
      {
        "duration": 4,
        "start_time": "2021-12-24T12:54:49.430Z"
      },
      {
        "duration": 6,
        "start_time": "2021-12-24T12:54:49.435Z"
      },
      {
        "duration": 6,
        "start_time": "2021-12-24T12:54:49.443Z"
      },
      {
        "duration": 33,
        "start_time": "2021-12-24T12:54:49.450Z"
      },
      {
        "duration": 4,
        "start_time": "2021-12-24T12:54:49.484Z"
      },
      {
        "duration": 4946,
        "start_time": "2021-12-24T12:54:49.490Z"
      },
      {
        "duration": 5914,
        "start_time": "2021-12-24T12:54:54.438Z"
      },
      {
        "duration": 5,
        "start_time": "2021-12-24T12:55:00.354Z"
      },
      {
        "duration": 16,
        "start_time": "2021-12-24T12:55:00.361Z"
      },
      {
        "duration": 14,
        "start_time": "2021-12-24T12:55:00.378Z"
      },
      {
        "duration": 9,
        "start_time": "2021-12-24T12:55:00.393Z"
      },
      {
        "duration": 283,
        "start_time": "2021-12-24T12:55:00.404Z"
      },
      {
        "duration": 4,
        "start_time": "2021-12-24T12:55:00.688Z"
      },
      {
        "duration": 801,
        "start_time": "2021-12-24T12:55:00.694Z"
      },
      {
        "duration": 3,
        "start_time": "2021-12-24T12:55:01.499Z"
      },
      {
        "duration": 16,
        "start_time": "2021-12-24T12:55:01.504Z"
      },
      {
        "duration": 13,
        "start_time": "2021-12-24T12:55:01.521Z"
      },
      {
        "duration": 11,
        "start_time": "2021-12-24T12:55:01.535Z"
      },
      {
        "duration": 15,
        "start_time": "2021-12-24T12:55:01.548Z"
      },
      {
        "duration": 58773,
        "start_time": "2021-12-24T12:55:01.564Z"
      },
      {
        "duration": 5,
        "start_time": "2021-12-24T12:56:00.338Z"
      },
      {
        "duration": 15,
        "start_time": "2021-12-24T12:56:00.345Z"
      },
      {
        "duration": 9,
        "start_time": "2021-12-24T12:56:00.361Z"
      },
      {
        "duration": 57,
        "start_time": "2021-12-24T12:56:00.372Z"
      },
      {
        "duration": 5,
        "start_time": "2021-12-24T12:56:00.431Z"
      },
      {
        "duration": 29,
        "start_time": "2021-12-24T12:56:00.438Z"
      },
      {
        "duration": 3,
        "start_time": "2021-12-24T12:56:00.468Z"
      },
      {
        "duration": 12,
        "start_time": "2021-12-24T12:56:00.473Z"
      },
      {
        "duration": 176,
        "start_time": "2021-12-24T12:56:00.487Z"
      },
      {
        "duration": 5,
        "start_time": "2021-12-24T12:56:00.665Z"
      },
      {
        "duration": 1463,
        "start_time": "2021-12-24T13:35:29.749Z"
      },
      {
        "duration": 1539,
        "start_time": "2021-12-24T13:35:38.818Z"
      },
      {
        "duration": 3,
        "start_time": "2021-12-24T13:36:05.139Z"
      },
      {
        "duration": 3,
        "start_time": "2021-12-24T13:36:21.879Z"
      },
      {
        "duration": 150,
        "start_time": "2021-12-24T13:36:34.343Z"
      },
      {
        "duration": 4,
        "start_time": "2021-12-24T13:36:52.536Z"
      },
      {
        "duration": 2456,
        "start_time": "2021-12-24T13:38:35.003Z"
      },
      {
        "duration": 42,
        "start_time": "2021-12-24T13:38:37.419Z"
      },
      {
        "duration": 3,
        "start_time": "2021-12-24T13:40:49.366Z"
      },
      {
        "duration": 4,
        "start_time": "2021-12-24T13:40:51.637Z"
      },
      {
        "duration": 4,
        "start_time": "2021-12-24T13:41:03.439Z"
      },
      {
        "duration": 389,
        "start_time": "2021-12-24T13:41:28.187Z"
      },
      {
        "duration": 4,
        "start_time": "2021-12-24T13:41:31.750Z"
      },
      {
        "duration": 4,
        "start_time": "2021-12-24T13:41:32.417Z"
      },
      {
        "duration": 5,
        "start_time": "2021-12-24T13:42:00.018Z"
      },
      {
        "duration": 4,
        "start_time": "2021-12-24T13:43:06.207Z"
      },
      {
        "duration": 6,
        "start_time": "2021-12-24T13:43:12.191Z"
      },
      {
        "duration": 3,
        "start_time": "2021-12-24T13:43:31.275Z"
      },
      {
        "duration": 5,
        "start_time": "2021-12-24T13:43:33.185Z"
      },
      {
        "duration": 3,
        "start_time": "2021-12-24T13:43:35.813Z"
      },
      {
        "duration": 10,
        "start_time": "2021-12-24T13:43:37.035Z"
      },
      {
        "duration": 4,
        "start_time": "2021-12-24T13:44:07.605Z"
      },
      {
        "duration": 5,
        "start_time": "2021-12-24T13:44:13.437Z"
      },
      {
        "duration": 5,
        "start_time": "2021-12-24T13:44:16.750Z"
      },
      {
        "duration": 4,
        "start_time": "2021-12-24T13:44:18.926Z"
      },
      {
        "duration": 5,
        "start_time": "2021-12-24T13:44:19.760Z"
      },
      {
        "duration": 3,
        "start_time": "2021-12-24T13:44:33.877Z"
      },
      {
        "duration": 9,
        "start_time": "2021-12-24T13:44:35.642Z"
      },
      {
        "duration": 3,
        "start_time": "2021-12-24T13:44:47.359Z"
      },
      {
        "duration": 9,
        "start_time": "2021-12-24T13:44:48.232Z"
      },
      {
        "duration": 4,
        "start_time": "2021-12-24T13:48:23.588Z"
      },
      {
        "duration": 10,
        "start_time": "2021-12-24T13:48:34.031Z"
      },
      {
        "duration": 539,
        "start_time": "2021-12-24T13:48:55.519Z"
      },
      {
        "duration": 579,
        "start_time": "2021-12-24T13:49:27.061Z"
      },
      {
        "duration": 557,
        "start_time": "2021-12-24T13:49:33.430Z"
      },
      {
        "duration": 3,
        "start_time": "2021-12-24T13:51:28.454Z"
      },
      {
        "duration": 333,
        "start_time": "2021-12-24T13:51:38.134Z"
      },
      {
        "duration": 664,
        "start_time": "2021-12-24T13:51:57.596Z"
      },
      {
        "duration": 6354,
        "start_time": "2021-12-24T13:52:40.077Z"
      },
      {
        "duration": 5,
        "start_time": "2021-12-24T13:52:55.334Z"
      },
      {
        "duration": 584,
        "start_time": "2021-12-24T13:53:34.140Z"
      },
      {
        "duration": 668,
        "start_time": "2021-12-24T13:53:46.804Z"
      },
      {
        "duration": 1350,
        "start_time": "2021-12-24T13:54:33.905Z"
      },
      {
        "duration": 1759,
        "start_time": "2021-12-24T13:54:42.489Z"
      },
      {
        "duration": 3,
        "start_time": "2021-12-24T13:56:17.659Z"
      },
      {
        "duration": 1624,
        "start_time": "2021-12-24T13:56:35.201Z"
      },
      {
        "duration": 7327,
        "start_time": "2021-12-24T13:59:46.609Z"
      },
      {
        "duration": 3,
        "start_time": "2021-12-24T14:00:08.549Z"
      },
      {
        "duration": 4,
        "start_time": "2021-12-24T14:00:09.617Z"
      },
      {
        "duration": 3,
        "start_time": "2021-12-24T14:00:11.261Z"
      },
      {
        "duration": 4636,
        "start_time": "2021-12-24T14:00:18.354Z"
      },
      {
        "duration": 20,
        "start_time": "2021-12-24T14:00:50.278Z"
      },
      {
        "duration": 9,
        "start_time": "2021-12-24T14:00:53.010Z"
      },
      {
        "duration": 19,
        "start_time": "2021-12-24T14:01:37.935Z"
      },
      {
        "duration": 4,
        "start_time": "2021-12-24T14:02:00.091Z"
      },
      {
        "duration": 25,
        "start_time": "2021-12-24T14:07:29.497Z"
      },
      {
        "duration": 25,
        "start_time": "2021-12-24T14:07:46.709Z"
      },
      {
        "duration": 27,
        "start_time": "2021-12-24T14:11:27.557Z"
      },
      {
        "duration": 644,
        "start_time": "2021-12-24T14:12:42.982Z"
      },
      {
        "duration": 18,
        "start_time": "2021-12-24T14:12:43.628Z"
      },
      {
        "duration": 11,
        "start_time": "2021-12-24T14:12:43.648Z"
      },
      {
        "duration": 11,
        "start_time": "2021-12-24T14:12:43.661Z"
      },
      {
        "duration": 439,
        "start_time": "2021-12-24T14:12:43.673Z"
      },
      {
        "duration": 5,
        "start_time": "2021-12-24T14:12:44.114Z"
      },
      {
        "duration": 5,
        "start_time": "2021-12-24T14:12:44.127Z"
      },
      {
        "duration": 8,
        "start_time": "2021-12-24T14:12:44.134Z"
      },
      {
        "duration": 4,
        "start_time": "2021-12-24T14:12:44.144Z"
      },
      {
        "duration": 6,
        "start_time": "2021-12-24T14:12:44.150Z"
      },
      {
        "duration": 5,
        "start_time": "2021-12-24T14:12:44.158Z"
      },
      {
        "duration": 33,
        "start_time": "2021-12-24T14:12:44.165Z"
      },
      {
        "duration": 4,
        "start_time": "2021-12-24T14:12:44.200Z"
      },
      {
        "duration": 4865,
        "start_time": "2021-12-24T14:12:44.205Z"
      },
      {
        "duration": 5689,
        "start_time": "2021-12-24T14:12:49.072Z"
      },
      {
        "duration": 6,
        "start_time": "2021-12-24T14:12:54.762Z"
      },
      {
        "duration": 8,
        "start_time": "2021-12-24T14:12:54.769Z"
      },
      {
        "duration": 8,
        "start_time": "2021-12-24T14:12:54.778Z"
      },
      {
        "duration": 4,
        "start_time": "2021-12-24T14:12:54.787Z"
      },
      {
        "duration": 280,
        "start_time": "2021-12-24T14:12:54.793Z"
      },
      {
        "duration": 3,
        "start_time": "2021-12-24T14:12:55.075Z"
      },
      {
        "duration": 755,
        "start_time": "2021-12-24T14:12:55.080Z"
      },
      {
        "duration": 4,
        "start_time": "2021-12-24T14:12:55.838Z"
      },
      {
        "duration": 9,
        "start_time": "2021-12-24T14:12:55.843Z"
      },
      {
        "duration": 3,
        "start_time": "2021-12-24T14:12:55.854Z"
      },
      {
        "duration": 5,
        "start_time": "2021-12-24T14:12:55.858Z"
      },
      {
        "duration": 5,
        "start_time": "2021-12-24T14:12:55.864Z"
      },
      {
        "duration": 59707,
        "start_time": "2021-12-24T14:12:55.871Z"
      },
      {
        "duration": 4,
        "start_time": "2021-12-24T14:13:55.580Z"
      },
      {
        "duration": 9,
        "start_time": "2021-12-24T14:13:55.586Z"
      },
      {
        "duration": 7,
        "start_time": "2021-12-24T14:13:55.597Z"
      },
      {
        "duration": 61,
        "start_time": "2021-12-24T14:13:55.606Z"
      },
      {
        "duration": 6,
        "start_time": "2021-12-24T14:13:55.668Z"
      },
      {
        "duration": 23,
        "start_time": "2021-12-24T14:13:55.676Z"
      },
      {
        "duration": 3,
        "start_time": "2021-12-24T14:13:55.701Z"
      },
      {
        "duration": 22,
        "start_time": "2021-12-24T14:13:55.705Z"
      },
      {
        "duration": 163,
        "start_time": "2021-12-24T14:13:55.728Z"
      },
      {
        "duration": 34,
        "start_time": "2021-12-24T14:13:55.893Z"
      },
      {
        "duration": 3,
        "start_time": "2021-12-24T14:13:55.929Z"
      },
      {
        "duration": 97,
        "start_time": "2021-12-24T22:23:08.776Z"
      },
      {
        "duration": 338,
        "start_time": "2021-12-24T22:37:59.923Z"
      },
      {
        "duration": 872,
        "start_time": "2021-12-24T22:38:12.766Z"
      },
      {
        "duration": 23,
        "start_time": "2021-12-24T22:38:13.641Z"
      },
      {
        "duration": 17,
        "start_time": "2021-12-24T22:38:13.667Z"
      },
      {
        "duration": 9,
        "start_time": "2021-12-24T22:38:13.687Z"
      },
      {
        "duration": 565,
        "start_time": "2021-12-24T22:38:13.698Z"
      },
      {
        "duration": 7,
        "start_time": "2021-12-24T22:38:14.265Z"
      },
      {
        "duration": 7,
        "start_time": "2021-12-24T22:38:14.274Z"
      },
      {
        "duration": 12,
        "start_time": "2021-12-24T22:38:14.286Z"
      },
      {
        "duration": 7,
        "start_time": "2021-12-24T22:38:14.302Z"
      },
      {
        "duration": 6,
        "start_time": "2021-12-24T22:38:14.312Z"
      },
      {
        "duration": 7,
        "start_time": "2021-12-24T22:38:14.365Z"
      },
      {
        "duration": 63,
        "start_time": "2021-12-24T22:38:14.375Z"
      },
      {
        "duration": 23,
        "start_time": "2021-12-24T22:38:14.440Z"
      },
      {
        "duration": 7681,
        "start_time": "2021-12-24T22:38:14.465Z"
      },
      {
        "duration": 9102,
        "start_time": "2021-12-24T22:38:22.148Z"
      },
      {
        "duration": 17,
        "start_time": "2021-12-24T22:38:31.252Z"
      },
      {
        "duration": 11,
        "start_time": "2021-12-24T22:38:31.271Z"
      },
      {
        "duration": 26,
        "start_time": "2021-12-24T22:38:31.284Z"
      },
      {
        "duration": 14,
        "start_time": "2021-12-24T22:38:31.312Z"
      },
      {
        "duration": 593,
        "start_time": "2021-12-24T22:38:31.328Z"
      },
      {
        "duration": 6,
        "start_time": "2021-12-24T22:38:31.924Z"
      },
      {
        "duration": 1290,
        "start_time": "2021-12-24T22:38:31.933Z"
      },
      {
        "duration": 4,
        "start_time": "2021-12-24T22:38:33.228Z"
      },
      {
        "duration": 32,
        "start_time": "2021-12-24T22:38:33.235Z"
      },
      {
        "duration": 5,
        "start_time": "2021-12-24T22:38:33.269Z"
      },
      {
        "duration": 11,
        "start_time": "2021-12-24T22:38:33.277Z"
      },
      {
        "duration": 6,
        "start_time": "2021-12-24T22:38:33.290Z"
      },
      {
        "duration": 93122,
        "start_time": "2021-12-24T22:38:33.298Z"
      },
      {
        "duration": 7,
        "start_time": "2021-12-24T22:40:06.422Z"
      },
      {
        "duration": 11,
        "start_time": "2021-12-24T22:40:06.432Z"
      },
      {
        "duration": 3,
        "start_time": "2021-12-24T22:40:06.463Z"
      },
      {
        "duration": 78,
        "start_time": "2021-12-24T22:40:06.469Z"
      },
      {
        "duration": 11,
        "start_time": "2021-12-24T22:40:06.563Z"
      },
      {
        "duration": 32,
        "start_time": "2021-12-24T22:40:06.577Z"
      },
      {
        "duration": 6,
        "start_time": "2021-12-24T22:40:06.612Z"
      },
      {
        "duration": 45,
        "start_time": "2021-12-24T22:40:06.621Z"
      },
      {
        "duration": 306,
        "start_time": "2021-12-24T22:40:06.669Z"
      },
      {
        "duration": 42,
        "start_time": "2021-12-24T22:40:06.978Z"
      },
      {
        "duration": 5,
        "start_time": "2021-12-24T22:40:07.022Z"
      },
      {
        "duration": 450,
        "start_time": "2021-12-24T22:40:07.030Z"
      },
      {
        "duration": 292,
        "start_time": "2021-12-24T22:40:50.704Z"
      },
      {
        "duration": 5,
        "start_time": "2021-12-24T22:40:56.851Z"
      },
      {
        "duration": 6,
        "start_time": "2021-12-24T22:42:22.398Z"
      },
      {
        "duration": 4,
        "start_time": "2021-12-24T22:51:26.510Z"
      },
      {
        "duration": 5,
        "start_time": "2021-12-24T22:53:24.413Z"
      },
      {
        "duration": 4,
        "start_time": "2021-12-24T22:55:06.400Z"
      },
      {
        "duration": 419,
        "start_time": "2021-12-24T22:56:58.180Z"
      },
      {
        "duration": 6,
        "start_time": "2021-12-24T22:57:23.917Z"
      },
      {
        "duration": 7,
        "start_time": "2021-12-24T23:00:19.329Z"
      },
      {
        "duration": 6,
        "start_time": "2021-12-24T23:00:46.624Z"
      },
      {
        "duration": 8,
        "start_time": "2021-12-24T23:01:06.514Z"
      },
      {
        "duration": 7,
        "start_time": "2021-12-24T23:03:40.305Z"
      },
      {
        "duration": 9,
        "start_time": "2021-12-24T23:03:44.822Z"
      },
      {
        "duration": 8,
        "start_time": "2021-12-24T23:03:47.091Z"
      },
      {
        "duration": 7,
        "start_time": "2021-12-24T23:03:49.190Z"
      },
      {
        "duration": 8,
        "start_time": "2021-12-24T23:06:39.678Z"
      },
      {
        "duration": 7,
        "start_time": "2021-12-24T23:06:42.121Z"
      },
      {
        "duration": 6,
        "start_time": "2021-12-24T23:06:44.887Z"
      },
      {
        "duration": 8,
        "start_time": "2021-12-24T23:06:47.089Z"
      },
      {
        "duration": 7,
        "start_time": "2021-12-24T23:06:47.727Z"
      },
      {
        "duration": 7,
        "start_time": "2021-12-24T23:06:57.204Z"
      },
      {
        "duration": 7,
        "start_time": "2021-12-24T23:07:34.987Z"
      },
      {
        "duration": 8,
        "start_time": "2021-12-24T23:07:56.264Z"
      },
      {
        "duration": 973,
        "start_time": "2021-12-24T23:08:10.345Z"
      },
      {
        "duration": 25,
        "start_time": "2021-12-24T23:08:11.321Z"
      },
      {
        "duration": 17,
        "start_time": "2021-12-24T23:08:11.350Z"
      },
      {
        "duration": 9,
        "start_time": "2021-12-24T23:08:11.370Z"
      },
      {
        "duration": 585,
        "start_time": "2021-12-24T23:08:11.382Z"
      },
      {
        "duration": 7,
        "start_time": "2021-12-24T23:08:11.970Z"
      },
      {
        "duration": 8,
        "start_time": "2021-12-24T23:08:11.980Z"
      },
      {
        "duration": 9,
        "start_time": "2021-12-24T23:08:11.992Z"
      },
      {
        "duration": 10,
        "start_time": "2021-12-24T23:08:12.005Z"
      },
      {
        "duration": 45,
        "start_time": "2021-12-24T23:08:12.018Z"
      },
      {
        "duration": 9,
        "start_time": "2021-12-24T23:08:12.066Z"
      },
      {
        "duration": 48,
        "start_time": "2021-12-24T23:08:12.078Z"
      },
      {
        "duration": 36,
        "start_time": "2021-12-24T23:08:12.129Z"
      },
      {
        "duration": 7723,
        "start_time": "2021-12-24T23:08:12.168Z"
      },
      {
        "duration": 9359,
        "start_time": "2021-12-24T23:08:19.894Z"
      },
      {
        "duration": 15,
        "start_time": "2021-12-24T23:08:29.257Z"
      },
      {
        "duration": 10,
        "start_time": "2021-12-24T23:08:29.275Z"
      },
      {
        "duration": 11,
        "start_time": "2021-12-24T23:08:29.288Z"
      },
      {
        "duration": 5,
        "start_time": "2021-12-24T23:08:29.301Z"
      },
      {
        "duration": 812,
        "start_time": "2021-12-24T23:08:29.309Z"
      },
      {
        "duration": 7,
        "start_time": "2021-12-24T23:08:30.125Z"
      },
      {
        "duration": 2017,
        "start_time": "2021-12-24T23:08:30.136Z"
      },
      {
        "duration": 7,
        "start_time": "2021-12-24T23:08:32.164Z"
      },
      {
        "duration": 11,
        "start_time": "2021-12-24T23:08:32.175Z"
      },
      {
        "duration": 6,
        "start_time": "2021-12-24T23:08:32.189Z"
      },
      {
        "duration": 13,
        "start_time": "2021-12-24T23:08:32.198Z"
      },
      {
        "duration": 5,
        "start_time": "2021-12-24T23:08:32.214Z"
      },
      {
        "duration": 91288,
        "start_time": "2021-12-24T23:08:32.222Z"
      },
      {
        "duration": 8,
        "start_time": "2021-12-24T23:10:03.512Z"
      },
      {
        "duration": 20,
        "start_time": "2021-12-24T23:10:03.523Z"
      },
      {
        "duration": 21,
        "start_time": "2021-12-24T23:10:03.546Z"
      },
      {
        "duration": 78,
        "start_time": "2021-12-24T23:10:03.570Z"
      },
      {
        "duration": 17,
        "start_time": "2021-12-24T23:10:03.650Z"
      },
      {
        "duration": 38,
        "start_time": "2021-12-24T23:10:03.669Z"
      },
      {
        "duration": 6,
        "start_time": "2021-12-24T23:10:03.710Z"
      },
      {
        "duration": 14,
        "start_time": "2021-12-24T23:10:03.719Z"
      },
      {
        "duration": 328,
        "start_time": "2021-12-24T23:10:03.735Z"
      },
      {
        "duration": 43,
        "start_time": "2021-12-24T23:10:04.065Z"
      },
      {
        "duration": 5,
        "start_time": "2021-12-24T23:10:04.111Z"
      },
      {
        "duration": 7,
        "start_time": "2021-12-24T23:10:04.118Z"
      },
      {
        "duration": 37,
        "start_time": "2021-12-24T23:10:04.128Z"
      },
      {
        "duration": 8,
        "start_time": "2021-12-24T23:10:04.167Z"
      },
      {
        "duration": 8,
        "start_time": "2021-12-24T23:10:04.177Z"
      }
    ],
    "kernelspec": {
      "display_name": "Python 3",
      "language": "python",
      "name": "python3"
    },
    "language_info": {
      "codemirror_mode": {
        "name": "ipython",
        "version": 3
      },
      "file_extension": ".py",
      "mimetype": "text/x-python",
      "name": "python",
      "nbconvert_exporter": "python",
      "pygments_lexer": "ipython3",
      "version": "3.7.8"
    },
    "toc": {
      "base_numbering": 1,
      "nav_menu": {},
      "number_sections": true,
      "sideBar": true,
      "skip_h1_title": true,
      "title_cell": "Table of Contents",
      "title_sidebar": "Contents",
      "toc_cell": false,
      "toc_position": {},
      "toc_section_display": true,
      "toc_window_display": true
    },
    "colab": {
      "name": "project_05.ipynb",
      "provenance": [],
      "collapsed_sections": []
    }
  },
  "nbformat": 4,
  "nbformat_minor": 0
}