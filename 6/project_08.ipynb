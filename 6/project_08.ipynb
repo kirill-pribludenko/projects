{
  "cells": [
    {
      "cell_type": "markdown",
      "metadata": {
        "id": "jqM7rP_RUPbC"
      },
      "source": [
        "## Подготовка данных"
      ]
    },
    {
      "cell_type": "markdown",
      "metadata": {
        "id": "fkSjGj3gUPbD"
      },
      "source": [
        "### Изучение исходных данных"
      ]
    },
    {
      "cell_type": "markdown",
      "metadata": {
        "id": "L1y8aIqSUPbE"
      },
      "source": [
        "Загрузим данные и поверхностно с ними ознакомимся"
      ]
    },
    {
      "cell_type": "code",
      "source": [
        "!pip install catboost"
      ],
      "metadata": {
        "colab": {
          "base_uri": "https://localhost:8080/"
        },
        "id": "Pu2NRRuiDBLw",
        "outputId": "f601cc52-aebc-4b5a-eeed-c426e9b3683d"
      },
      "execution_count": 1,
      "outputs": [
        {
          "output_type": "stream",
          "name": "stdout",
          "text": [
            "Looking in indexes: https://pypi.org/simple, https://us-python.pkg.dev/colab-wheels/public/simple/\n",
            "Requirement already satisfied: catboost in /usr/local/lib/python3.7/dist-packages (1.0.6)\n",
            "Requirement already satisfied: matplotlib in /usr/local/lib/python3.7/dist-packages (from catboost) (3.2.2)\n",
            "Requirement already satisfied: pandas>=0.24.0 in /usr/local/lib/python3.7/dist-packages (from catboost) (1.3.5)\n",
            "Requirement already satisfied: plotly in /usr/local/lib/python3.7/dist-packages (from catboost) (5.5.0)\n",
            "Requirement already satisfied: scipy in /usr/local/lib/python3.7/dist-packages (from catboost) (1.4.1)\n",
            "Requirement already satisfied: graphviz in /usr/local/lib/python3.7/dist-packages (from catboost) (0.10.1)\n",
            "Requirement already satisfied: six in /usr/local/lib/python3.7/dist-packages (from catboost) (1.15.0)\n",
            "Requirement already satisfied: numpy>=1.16.0 in /usr/local/lib/python3.7/dist-packages (from catboost) (1.21.6)\n",
            "Requirement already satisfied: pytz>=2017.3 in /usr/local/lib/python3.7/dist-packages (from pandas>=0.24.0->catboost) (2022.1)\n",
            "Requirement already satisfied: python-dateutil>=2.7.3 in /usr/local/lib/python3.7/dist-packages (from pandas>=0.24.0->catboost) (2.8.2)\n",
            "Requirement already satisfied: pyparsing!=2.0.4,!=2.1.2,!=2.1.6,>=2.0.1 in /usr/local/lib/python3.7/dist-packages (from matplotlib->catboost) (3.0.9)\n",
            "Requirement already satisfied: kiwisolver>=1.0.1 in /usr/local/lib/python3.7/dist-packages (from matplotlib->catboost) (1.4.3)\n",
            "Requirement already satisfied: cycler>=0.10 in /usr/local/lib/python3.7/dist-packages (from matplotlib->catboost) (0.11.0)\n",
            "Requirement already satisfied: typing-extensions in /usr/local/lib/python3.7/dist-packages (from kiwisolver>=1.0.1->matplotlib->catboost) (4.1.1)\n",
            "Requirement already satisfied: tenacity>=6.2.0 in /usr/local/lib/python3.7/dist-packages (from plotly->catboost) (8.0.1)\n"
          ]
        }
      ]
    },
    {
      "cell_type": "code",
      "execution_count": 2,
      "metadata": {
        "id": "GmiEUwT3UPbF"
      },
      "outputs": [],
      "source": [
        "import pandas as pd\n",
        "import numpy as np\n",
        "import matplotlib.pyplot as plt\n",
        "import catboost as cb\n",
        "\n",
        "from sklearn.metrics import mean_absolute_error\n",
        "from sklearn.model_selection import train_test_split\n",
        "from sklearn.dummy import DummyRegressor\n",
        "from sklearn.linear_model import LinearRegression"
      ]
    },
    {
      "cell_type": "code",
      "execution_count": 3,
      "metadata": {
        "id": "lL0G4QHfUPbH"
      },
      "outputs": [],
      "source": [
        "df_train = pd.read_csv('/content/gold_recovery_train_new.csv')\n",
        "df_test = pd.read_csv('/content/gold_recovery_test_new.csv')\n",
        "df_full = pd.read_csv('/content/gold_recovery_full_new.csv')"
      ]
    },
    {
      "cell_type": "markdown",
      "metadata": {
        "id": "Z286tvdUUPbI"
      },
      "source": [
        "По условия задачи таблица `gold_recovery_full_new.csv` содержит первые две таблицы, поэтому не будем к ней обращаться, а будем оперировать только первыми двумя. Посмотрим, что в них находится"
      ]
    },
    {
      "cell_type": "code",
      "execution_count": 4,
      "metadata": {
        "colab": {
          "base_uri": "https://localhost:8080/",
          "height": 473
        },
        "id": "nw6m2MkWUPbI",
        "outputId": "47bd89ae-b075-4448-a0a0-53cfdeca6e78"
      },
      "outputs": [
        {
          "output_type": "execute_result",
          "data": {
            "text/plain": [
              "                  date  final.output.concentrate_ag  \\\n",
              "0  2016-01-15 00:00:00                     6.055403   \n",
              "1  2016-01-15 01:00:00                     6.029369   \n",
              "2  2016-01-15 02:00:00                     6.055926   \n",
              "3  2016-01-15 03:00:00                     6.047977   \n",
              "4  2016-01-15 04:00:00                     6.148599   \n",
              "\n",
              "   final.output.concentrate_pb  final.output.concentrate_sol  \\\n",
              "0                     9.889648                      5.507324   \n",
              "1                     9.968944                      5.257781   \n",
              "2                    10.213995                      5.383759   \n",
              "3                     9.977019                      4.858634   \n",
              "4                    10.142511                      4.939416   \n",
              "\n",
              "   final.output.concentrate_au  final.output.recovery  final.output.tail_ag  \\\n",
              "0                    42.192020              70.541216             10.411962   \n",
              "1                    42.701629              69.266198             10.462676   \n",
              "2                    42.657501              68.116445             10.507046   \n",
              "3                    42.689819              68.347543             10.422762   \n",
              "4                    42.774141              66.927016             10.360302   \n",
              "\n",
              "   final.output.tail_pb  final.output.tail_sol  final.output.tail_au  ...  \\\n",
              "0              0.895447              16.904297              2.143149  ...   \n",
              "1              0.927452              16.634514              2.224930  ...   \n",
              "2              0.953716              16.208849              2.257889  ...   \n",
              "3              0.883763              16.532835              2.146849  ...   \n",
              "4              0.792826              16.525686              2.055292  ...   \n",
              "\n",
              "   secondary_cleaner.state.floatbank4_a_air  \\\n",
              "0                                 14.016835   \n",
              "1                                 13.992281   \n",
              "2                                 14.015015   \n",
              "3                                 14.036510   \n",
              "4                                 14.027298   \n",
              "\n",
              "   secondary_cleaner.state.floatbank4_a_level  \\\n",
              "0                                 -502.488007   \n",
              "1                                 -505.503262   \n",
              "2                                 -502.520901   \n",
              "3                                 -500.857308   \n",
              "4                                 -499.838632   \n",
              "\n",
              "   secondary_cleaner.state.floatbank4_b_air  \\\n",
              "0                                 12.099931   \n",
              "1                                 11.950531   \n",
              "2                                 11.912783   \n",
              "3                                 11.999550   \n",
              "4                                 11.953070   \n",
              "\n",
              "   secondary_cleaner.state.floatbank4_b_level  \\\n",
              "0                                 -504.715942   \n",
              "1                                 -501.331529   \n",
              "2                                 -501.133383   \n",
              "3                                 -501.193686   \n",
              "4                                 -501.053894   \n",
              "\n",
              "   secondary_cleaner.state.floatbank5_a_air  \\\n",
              "0                                  9.925633   \n",
              "1                                 10.039245   \n",
              "2                                 10.070913   \n",
              "3                                  9.970366   \n",
              "4                                  9.925709   \n",
              "\n",
              "   secondary_cleaner.state.floatbank5_a_level  \\\n",
              "0                                 -498.310211   \n",
              "1                                 -500.169983   \n",
              "2                                 -500.129135   \n",
              "3                                 -499.201640   \n",
              "4                                 -501.686727   \n",
              "\n",
              "   secondary_cleaner.state.floatbank5_b_air  \\\n",
              "0                                  8.079666   \n",
              "1                                  7.984757   \n",
              "2                                  8.013877   \n",
              "3                                  7.977324   \n",
              "4                                  7.894242   \n",
              "\n",
              "   secondary_cleaner.state.floatbank5_b_level  \\\n",
              "0                                 -500.470978   \n",
              "1                                 -500.582168   \n",
              "2                                 -500.517572   \n",
              "3                                 -500.255908   \n",
              "4                                 -500.356035   \n",
              "\n",
              "   secondary_cleaner.state.floatbank6_a_air  \\\n",
              "0                                 14.151341   \n",
              "1                                 13.998353   \n",
              "2                                 14.028663   \n",
              "3                                 14.005551   \n",
              "4                                 13.996647   \n",
              "\n",
              "   secondary_cleaner.state.floatbank6_a_level  \n",
              "0                                 -605.841980  \n",
              "1                                 -599.787184  \n",
              "2                                 -601.427363  \n",
              "3                                 -599.996129  \n",
              "4                                 -601.496691  \n",
              "\n",
              "[5 rows x 87 columns]"
            ],
            "text/html": [
              "\n",
              "  <div id=\"df-b44b4c53-a603-4e41-90d9-3dc7ee48bc49\">\n",
              "    <div class=\"colab-df-container\">\n",
              "      <div>\n",
              "<style scoped>\n",
              "    .dataframe tbody tr th:only-of-type {\n",
              "        vertical-align: middle;\n",
              "    }\n",
              "\n",
              "    .dataframe tbody tr th {\n",
              "        vertical-align: top;\n",
              "    }\n",
              "\n",
              "    .dataframe thead th {\n",
              "        text-align: right;\n",
              "    }\n",
              "</style>\n",
              "<table border=\"1\" class=\"dataframe\">\n",
              "  <thead>\n",
              "    <tr style=\"text-align: right;\">\n",
              "      <th></th>\n",
              "      <th>date</th>\n",
              "      <th>final.output.concentrate_ag</th>\n",
              "      <th>final.output.concentrate_pb</th>\n",
              "      <th>final.output.concentrate_sol</th>\n",
              "      <th>final.output.concentrate_au</th>\n",
              "      <th>final.output.recovery</th>\n",
              "      <th>final.output.tail_ag</th>\n",
              "      <th>final.output.tail_pb</th>\n",
              "      <th>final.output.tail_sol</th>\n",
              "      <th>final.output.tail_au</th>\n",
              "      <th>...</th>\n",
              "      <th>secondary_cleaner.state.floatbank4_a_air</th>\n",
              "      <th>secondary_cleaner.state.floatbank4_a_level</th>\n",
              "      <th>secondary_cleaner.state.floatbank4_b_air</th>\n",
              "      <th>secondary_cleaner.state.floatbank4_b_level</th>\n",
              "      <th>secondary_cleaner.state.floatbank5_a_air</th>\n",
              "      <th>secondary_cleaner.state.floatbank5_a_level</th>\n",
              "      <th>secondary_cleaner.state.floatbank5_b_air</th>\n",
              "      <th>secondary_cleaner.state.floatbank5_b_level</th>\n",
              "      <th>secondary_cleaner.state.floatbank6_a_air</th>\n",
              "      <th>secondary_cleaner.state.floatbank6_a_level</th>\n",
              "    </tr>\n",
              "  </thead>\n",
              "  <tbody>\n",
              "    <tr>\n",
              "      <th>0</th>\n",
              "      <td>2016-01-15 00:00:00</td>\n",
              "      <td>6.055403</td>\n",
              "      <td>9.889648</td>\n",
              "      <td>5.507324</td>\n",
              "      <td>42.192020</td>\n",
              "      <td>70.541216</td>\n",
              "      <td>10.411962</td>\n",
              "      <td>0.895447</td>\n",
              "      <td>16.904297</td>\n",
              "      <td>2.143149</td>\n",
              "      <td>...</td>\n",
              "      <td>14.016835</td>\n",
              "      <td>-502.488007</td>\n",
              "      <td>12.099931</td>\n",
              "      <td>-504.715942</td>\n",
              "      <td>9.925633</td>\n",
              "      <td>-498.310211</td>\n",
              "      <td>8.079666</td>\n",
              "      <td>-500.470978</td>\n",
              "      <td>14.151341</td>\n",
              "      <td>-605.841980</td>\n",
              "    </tr>\n",
              "    <tr>\n",
              "      <th>1</th>\n",
              "      <td>2016-01-15 01:00:00</td>\n",
              "      <td>6.029369</td>\n",
              "      <td>9.968944</td>\n",
              "      <td>5.257781</td>\n",
              "      <td>42.701629</td>\n",
              "      <td>69.266198</td>\n",
              "      <td>10.462676</td>\n",
              "      <td>0.927452</td>\n",
              "      <td>16.634514</td>\n",
              "      <td>2.224930</td>\n",
              "      <td>...</td>\n",
              "      <td>13.992281</td>\n",
              "      <td>-505.503262</td>\n",
              "      <td>11.950531</td>\n",
              "      <td>-501.331529</td>\n",
              "      <td>10.039245</td>\n",
              "      <td>-500.169983</td>\n",
              "      <td>7.984757</td>\n",
              "      <td>-500.582168</td>\n",
              "      <td>13.998353</td>\n",
              "      <td>-599.787184</td>\n",
              "    </tr>\n",
              "    <tr>\n",
              "      <th>2</th>\n",
              "      <td>2016-01-15 02:00:00</td>\n",
              "      <td>6.055926</td>\n",
              "      <td>10.213995</td>\n",
              "      <td>5.383759</td>\n",
              "      <td>42.657501</td>\n",
              "      <td>68.116445</td>\n",
              "      <td>10.507046</td>\n",
              "      <td>0.953716</td>\n",
              "      <td>16.208849</td>\n",
              "      <td>2.257889</td>\n",
              "      <td>...</td>\n",
              "      <td>14.015015</td>\n",
              "      <td>-502.520901</td>\n",
              "      <td>11.912783</td>\n",
              "      <td>-501.133383</td>\n",
              "      <td>10.070913</td>\n",
              "      <td>-500.129135</td>\n",
              "      <td>8.013877</td>\n",
              "      <td>-500.517572</td>\n",
              "      <td>14.028663</td>\n",
              "      <td>-601.427363</td>\n",
              "    </tr>\n",
              "    <tr>\n",
              "      <th>3</th>\n",
              "      <td>2016-01-15 03:00:00</td>\n",
              "      <td>6.047977</td>\n",
              "      <td>9.977019</td>\n",
              "      <td>4.858634</td>\n",
              "      <td>42.689819</td>\n",
              "      <td>68.347543</td>\n",
              "      <td>10.422762</td>\n",
              "      <td>0.883763</td>\n",
              "      <td>16.532835</td>\n",
              "      <td>2.146849</td>\n",
              "      <td>...</td>\n",
              "      <td>14.036510</td>\n",
              "      <td>-500.857308</td>\n",
              "      <td>11.999550</td>\n",
              "      <td>-501.193686</td>\n",
              "      <td>9.970366</td>\n",
              "      <td>-499.201640</td>\n",
              "      <td>7.977324</td>\n",
              "      <td>-500.255908</td>\n",
              "      <td>14.005551</td>\n",
              "      <td>-599.996129</td>\n",
              "    </tr>\n",
              "    <tr>\n",
              "      <th>4</th>\n",
              "      <td>2016-01-15 04:00:00</td>\n",
              "      <td>6.148599</td>\n",
              "      <td>10.142511</td>\n",
              "      <td>4.939416</td>\n",
              "      <td>42.774141</td>\n",
              "      <td>66.927016</td>\n",
              "      <td>10.360302</td>\n",
              "      <td>0.792826</td>\n",
              "      <td>16.525686</td>\n",
              "      <td>2.055292</td>\n",
              "      <td>...</td>\n",
              "      <td>14.027298</td>\n",
              "      <td>-499.838632</td>\n",
              "      <td>11.953070</td>\n",
              "      <td>-501.053894</td>\n",
              "      <td>9.925709</td>\n",
              "      <td>-501.686727</td>\n",
              "      <td>7.894242</td>\n",
              "      <td>-500.356035</td>\n",
              "      <td>13.996647</td>\n",
              "      <td>-601.496691</td>\n",
              "    </tr>\n",
              "  </tbody>\n",
              "</table>\n",
              "<p>5 rows × 87 columns</p>\n",
              "</div>\n",
              "      <button class=\"colab-df-convert\" onclick=\"convertToInteractive('df-b44b4c53-a603-4e41-90d9-3dc7ee48bc49')\"\n",
              "              title=\"Convert this dataframe to an interactive table.\"\n",
              "              style=\"display:none;\">\n",
              "        \n",
              "  <svg xmlns=\"http://www.w3.org/2000/svg\" height=\"24px\"viewBox=\"0 0 24 24\"\n",
              "       width=\"24px\">\n",
              "    <path d=\"M0 0h24v24H0V0z\" fill=\"none\"/>\n",
              "    <path d=\"M18.56 5.44l.94 2.06.94-2.06 2.06-.94-2.06-.94-.94-2.06-.94 2.06-2.06.94zm-11 1L8.5 8.5l.94-2.06 2.06-.94-2.06-.94L8.5 2.5l-.94 2.06-2.06.94zm10 10l.94 2.06.94-2.06 2.06-.94-2.06-.94-.94-2.06-.94 2.06-2.06.94z\"/><path d=\"M17.41 7.96l-1.37-1.37c-.4-.4-.92-.59-1.43-.59-.52 0-1.04.2-1.43.59L10.3 9.45l-7.72 7.72c-.78.78-.78 2.05 0 2.83L4 21.41c.39.39.9.59 1.41.59.51 0 1.02-.2 1.41-.59l7.78-7.78 2.81-2.81c.8-.78.8-2.07 0-2.86zM5.41 20L4 18.59l7.72-7.72 1.47 1.35L5.41 20z\"/>\n",
              "  </svg>\n",
              "      </button>\n",
              "      \n",
              "  <style>\n",
              "    .colab-df-container {\n",
              "      display:flex;\n",
              "      flex-wrap:wrap;\n",
              "      gap: 12px;\n",
              "    }\n",
              "\n",
              "    .colab-df-convert {\n",
              "      background-color: #E8F0FE;\n",
              "      border: none;\n",
              "      border-radius: 50%;\n",
              "      cursor: pointer;\n",
              "      display: none;\n",
              "      fill: #1967D2;\n",
              "      height: 32px;\n",
              "      padding: 0 0 0 0;\n",
              "      width: 32px;\n",
              "    }\n",
              "\n",
              "    .colab-df-convert:hover {\n",
              "      background-color: #E2EBFA;\n",
              "      box-shadow: 0px 1px 2px rgba(60, 64, 67, 0.3), 0px 1px 3px 1px rgba(60, 64, 67, 0.15);\n",
              "      fill: #174EA6;\n",
              "    }\n",
              "\n",
              "    [theme=dark] .colab-df-convert {\n",
              "      background-color: #3B4455;\n",
              "      fill: #D2E3FC;\n",
              "    }\n",
              "\n",
              "    [theme=dark] .colab-df-convert:hover {\n",
              "      background-color: #434B5C;\n",
              "      box-shadow: 0px 1px 3px 1px rgba(0, 0, 0, 0.15);\n",
              "      filter: drop-shadow(0px 1px 2px rgba(0, 0, 0, 0.3));\n",
              "      fill: #FFFFFF;\n",
              "    }\n",
              "  </style>\n",
              "\n",
              "      <script>\n",
              "        const buttonEl =\n",
              "          document.querySelector('#df-b44b4c53-a603-4e41-90d9-3dc7ee48bc49 button.colab-df-convert');\n",
              "        buttonEl.style.display =\n",
              "          google.colab.kernel.accessAllowed ? 'block' : 'none';\n",
              "\n",
              "        async function convertToInteractive(key) {\n",
              "          const element = document.querySelector('#df-b44b4c53-a603-4e41-90d9-3dc7ee48bc49');\n",
              "          const dataTable =\n",
              "            await google.colab.kernel.invokeFunction('convertToInteractive',\n",
              "                                                     [key], {});\n",
              "          if (!dataTable) return;\n",
              "\n",
              "          const docLinkHtml = 'Like what you see? Visit the ' +\n",
              "            '<a target=\"_blank\" href=https://colab.research.google.com/notebooks/data_table.ipynb>data table notebook</a>'\n",
              "            + ' to learn more about interactive tables.';\n",
              "          element.innerHTML = '';\n",
              "          dataTable['output_type'] = 'display_data';\n",
              "          await google.colab.output.renderOutput(dataTable, element);\n",
              "          const docLink = document.createElement('div');\n",
              "          docLink.innerHTML = docLinkHtml;\n",
              "          element.appendChild(docLink);\n",
              "        }\n",
              "      </script>\n",
              "    </div>\n",
              "  </div>\n",
              "  "
            ]
          },
          "metadata": {},
          "execution_count": 4
        }
      ],
      "source": [
        "df_train.head()"
      ]
    },
    {
      "cell_type": "code",
      "execution_count": 5,
      "metadata": {
        "colab": {
          "base_uri": "https://localhost:8080/",
          "height": 473
        },
        "id": "te_yfwniUPbJ",
        "outputId": "835078e1-0d99-4ddd-9ff7-9ae6b1d598aa"
      },
      "outputs": [
        {
          "output_type": "execute_result",
          "data": {
            "text/plain": [
              "                  date  primary_cleaner.input.sulfate  \\\n",
              "0  2016-09-01 00:59:59                     210.800909   \n",
              "1  2016-09-01 01:59:59                     215.392455   \n",
              "2  2016-09-01 02:59:59                     215.259946   \n",
              "3  2016-09-01 03:59:59                     215.336236   \n",
              "4  2016-09-01 04:59:59                     199.099327   \n",
              "\n",
              "   primary_cleaner.input.depressant  primary_cleaner.input.feed_size  \\\n",
              "0                         14.993118                         8.080000   \n",
              "1                         14.987471                         8.080000   \n",
              "2                         12.884934                         7.786667   \n",
              "3                         12.006805                         7.640000   \n",
              "4                         10.682530                         7.530000   \n",
              "\n",
              "   primary_cleaner.input.xanthate  primary_cleaner.state.floatbank8_a_air  \\\n",
              "0                        1.005021                             1398.981301   \n",
              "1                        0.990469                             1398.777912   \n",
              "2                        0.996043                             1398.493666   \n",
              "3                        0.863514                             1399.618111   \n",
              "4                        0.805575                             1401.268123   \n",
              "\n",
              "   primary_cleaner.state.floatbank8_a_level  \\\n",
              "0                               -500.225577   \n",
              "1                               -500.057435   \n",
              "2                               -500.868360   \n",
              "3                               -498.863574   \n",
              "4                               -500.808305   \n",
              "\n",
              "   primary_cleaner.state.floatbank8_b_air  \\\n",
              "0                             1399.144926   \n",
              "1                             1398.055362   \n",
              "2                             1398.860436   \n",
              "3                             1397.440120   \n",
              "4                             1398.128818   \n",
              "\n",
              "   primary_cleaner.state.floatbank8_b_level  \\\n",
              "0                               -499.919735   \n",
              "1                               -499.778182   \n",
              "2                               -499.764529   \n",
              "3                               -499.211024   \n",
              "4                               -499.504543   \n",
              "\n",
              "   primary_cleaner.state.floatbank8_c_air  ...  \\\n",
              "0                             1400.102998  ...   \n",
              "1                             1396.151033  ...   \n",
              "2                             1398.075709  ...   \n",
              "3                             1400.129303  ...   \n",
              "4                             1402.172226  ...   \n",
              "\n",
              "   secondary_cleaner.state.floatbank4_a_air  \\\n",
              "0                                 12.023554   \n",
              "1                                 12.058140   \n",
              "2                                 11.962366   \n",
              "3                                 12.033091   \n",
              "4                                 12.025367   \n",
              "\n",
              "   secondary_cleaner.state.floatbank4_a_level  \\\n",
              "0                                 -497.795834   \n",
              "1                                 -498.695773   \n",
              "2                                 -498.767484   \n",
              "3                                 -498.350935   \n",
              "4                                 -500.786497   \n",
              "\n",
              "   secondary_cleaner.state.floatbank4_b_air  \\\n",
              "0                                  8.016656   \n",
              "1                                  8.130979   \n",
              "2                                  8.096893   \n",
              "3                                  8.074946   \n",
              "4                                  8.054678   \n",
              "\n",
              "   secondary_cleaner.state.floatbank4_b_level  \\\n",
              "0                                 -501.289139   \n",
              "1                                 -499.634209   \n",
              "2                                 -500.827423   \n",
              "3                                 -499.474407   \n",
              "4                                 -500.397500   \n",
              "\n",
              "   secondary_cleaner.state.floatbank5_a_air  \\\n",
              "0                                  7.946562   \n",
              "1                                  7.958270   \n",
              "2                                  8.071056   \n",
              "3                                  7.897085   \n",
              "4                                  8.107890   \n",
              "\n",
              "   secondary_cleaner.state.floatbank5_a_level  \\\n",
              "0                                 -432.317850   \n",
              "1                                 -525.839648   \n",
              "2                                 -500.801673   \n",
              "3                                 -500.868509   \n",
              "4                                 -509.526725   \n",
              "\n",
              "   secondary_cleaner.state.floatbank5_b_air  \\\n",
              "0                                  4.872511   \n",
              "1                                  4.878850   \n",
              "2                                  4.905125   \n",
              "3                                  4.931400   \n",
              "4                                  4.957674   \n",
              "\n",
              "   secondary_cleaner.state.floatbank5_b_level  \\\n",
              "0                                 -500.037437   \n",
              "1                                 -500.162375   \n",
              "2                                 -499.828510   \n",
              "3                                 -499.963623   \n",
              "4                                 -500.360026   \n",
              "\n",
              "   secondary_cleaner.state.floatbank6_a_air  \\\n",
              "0                                 26.705889   \n",
              "1                                 25.019940   \n",
              "2                                 24.994862   \n",
              "3                                 24.948919   \n",
              "4                                 25.003331   \n",
              "\n",
              "   secondary_cleaner.state.floatbank6_a_level  \n",
              "0                                 -499.709414  \n",
              "1                                 -499.819438  \n",
              "2                                 -500.622559  \n",
              "3                                 -498.709987  \n",
              "4                                 -500.856333  \n",
              "\n",
              "[5 rows x 53 columns]"
            ],
            "text/html": [
              "\n",
              "  <div id=\"df-7ad46ea7-521e-4179-bdb7-882d9c1ee89f\">\n",
              "    <div class=\"colab-df-container\">\n",
              "      <div>\n",
              "<style scoped>\n",
              "    .dataframe tbody tr th:only-of-type {\n",
              "        vertical-align: middle;\n",
              "    }\n",
              "\n",
              "    .dataframe tbody tr th {\n",
              "        vertical-align: top;\n",
              "    }\n",
              "\n",
              "    .dataframe thead th {\n",
              "        text-align: right;\n",
              "    }\n",
              "</style>\n",
              "<table border=\"1\" class=\"dataframe\">\n",
              "  <thead>\n",
              "    <tr style=\"text-align: right;\">\n",
              "      <th></th>\n",
              "      <th>date</th>\n",
              "      <th>primary_cleaner.input.sulfate</th>\n",
              "      <th>primary_cleaner.input.depressant</th>\n",
              "      <th>primary_cleaner.input.feed_size</th>\n",
              "      <th>primary_cleaner.input.xanthate</th>\n",
              "      <th>primary_cleaner.state.floatbank8_a_air</th>\n",
              "      <th>primary_cleaner.state.floatbank8_a_level</th>\n",
              "      <th>primary_cleaner.state.floatbank8_b_air</th>\n",
              "      <th>primary_cleaner.state.floatbank8_b_level</th>\n",
              "      <th>primary_cleaner.state.floatbank8_c_air</th>\n",
              "      <th>...</th>\n",
              "      <th>secondary_cleaner.state.floatbank4_a_air</th>\n",
              "      <th>secondary_cleaner.state.floatbank4_a_level</th>\n",
              "      <th>secondary_cleaner.state.floatbank4_b_air</th>\n",
              "      <th>secondary_cleaner.state.floatbank4_b_level</th>\n",
              "      <th>secondary_cleaner.state.floatbank5_a_air</th>\n",
              "      <th>secondary_cleaner.state.floatbank5_a_level</th>\n",
              "      <th>secondary_cleaner.state.floatbank5_b_air</th>\n",
              "      <th>secondary_cleaner.state.floatbank5_b_level</th>\n",
              "      <th>secondary_cleaner.state.floatbank6_a_air</th>\n",
              "      <th>secondary_cleaner.state.floatbank6_a_level</th>\n",
              "    </tr>\n",
              "  </thead>\n",
              "  <tbody>\n",
              "    <tr>\n",
              "      <th>0</th>\n",
              "      <td>2016-09-01 00:59:59</td>\n",
              "      <td>210.800909</td>\n",
              "      <td>14.993118</td>\n",
              "      <td>8.080000</td>\n",
              "      <td>1.005021</td>\n",
              "      <td>1398.981301</td>\n",
              "      <td>-500.225577</td>\n",
              "      <td>1399.144926</td>\n",
              "      <td>-499.919735</td>\n",
              "      <td>1400.102998</td>\n",
              "      <td>...</td>\n",
              "      <td>12.023554</td>\n",
              "      <td>-497.795834</td>\n",
              "      <td>8.016656</td>\n",
              "      <td>-501.289139</td>\n",
              "      <td>7.946562</td>\n",
              "      <td>-432.317850</td>\n",
              "      <td>4.872511</td>\n",
              "      <td>-500.037437</td>\n",
              "      <td>26.705889</td>\n",
              "      <td>-499.709414</td>\n",
              "    </tr>\n",
              "    <tr>\n",
              "      <th>1</th>\n",
              "      <td>2016-09-01 01:59:59</td>\n",
              "      <td>215.392455</td>\n",
              "      <td>14.987471</td>\n",
              "      <td>8.080000</td>\n",
              "      <td>0.990469</td>\n",
              "      <td>1398.777912</td>\n",
              "      <td>-500.057435</td>\n",
              "      <td>1398.055362</td>\n",
              "      <td>-499.778182</td>\n",
              "      <td>1396.151033</td>\n",
              "      <td>...</td>\n",
              "      <td>12.058140</td>\n",
              "      <td>-498.695773</td>\n",
              "      <td>8.130979</td>\n",
              "      <td>-499.634209</td>\n",
              "      <td>7.958270</td>\n",
              "      <td>-525.839648</td>\n",
              "      <td>4.878850</td>\n",
              "      <td>-500.162375</td>\n",
              "      <td>25.019940</td>\n",
              "      <td>-499.819438</td>\n",
              "    </tr>\n",
              "    <tr>\n",
              "      <th>2</th>\n",
              "      <td>2016-09-01 02:59:59</td>\n",
              "      <td>215.259946</td>\n",
              "      <td>12.884934</td>\n",
              "      <td>7.786667</td>\n",
              "      <td>0.996043</td>\n",
              "      <td>1398.493666</td>\n",
              "      <td>-500.868360</td>\n",
              "      <td>1398.860436</td>\n",
              "      <td>-499.764529</td>\n",
              "      <td>1398.075709</td>\n",
              "      <td>...</td>\n",
              "      <td>11.962366</td>\n",
              "      <td>-498.767484</td>\n",
              "      <td>8.096893</td>\n",
              "      <td>-500.827423</td>\n",
              "      <td>8.071056</td>\n",
              "      <td>-500.801673</td>\n",
              "      <td>4.905125</td>\n",
              "      <td>-499.828510</td>\n",
              "      <td>24.994862</td>\n",
              "      <td>-500.622559</td>\n",
              "    </tr>\n",
              "    <tr>\n",
              "      <th>3</th>\n",
              "      <td>2016-09-01 03:59:59</td>\n",
              "      <td>215.336236</td>\n",
              "      <td>12.006805</td>\n",
              "      <td>7.640000</td>\n",
              "      <td>0.863514</td>\n",
              "      <td>1399.618111</td>\n",
              "      <td>-498.863574</td>\n",
              "      <td>1397.440120</td>\n",
              "      <td>-499.211024</td>\n",
              "      <td>1400.129303</td>\n",
              "      <td>...</td>\n",
              "      <td>12.033091</td>\n",
              "      <td>-498.350935</td>\n",
              "      <td>8.074946</td>\n",
              "      <td>-499.474407</td>\n",
              "      <td>7.897085</td>\n",
              "      <td>-500.868509</td>\n",
              "      <td>4.931400</td>\n",
              "      <td>-499.963623</td>\n",
              "      <td>24.948919</td>\n",
              "      <td>-498.709987</td>\n",
              "    </tr>\n",
              "    <tr>\n",
              "      <th>4</th>\n",
              "      <td>2016-09-01 04:59:59</td>\n",
              "      <td>199.099327</td>\n",
              "      <td>10.682530</td>\n",
              "      <td>7.530000</td>\n",
              "      <td>0.805575</td>\n",
              "      <td>1401.268123</td>\n",
              "      <td>-500.808305</td>\n",
              "      <td>1398.128818</td>\n",
              "      <td>-499.504543</td>\n",
              "      <td>1402.172226</td>\n",
              "      <td>...</td>\n",
              "      <td>12.025367</td>\n",
              "      <td>-500.786497</td>\n",
              "      <td>8.054678</td>\n",
              "      <td>-500.397500</td>\n",
              "      <td>8.107890</td>\n",
              "      <td>-509.526725</td>\n",
              "      <td>4.957674</td>\n",
              "      <td>-500.360026</td>\n",
              "      <td>25.003331</td>\n",
              "      <td>-500.856333</td>\n",
              "    </tr>\n",
              "  </tbody>\n",
              "</table>\n",
              "<p>5 rows × 53 columns</p>\n",
              "</div>\n",
              "      <button class=\"colab-df-convert\" onclick=\"convertToInteractive('df-7ad46ea7-521e-4179-bdb7-882d9c1ee89f')\"\n",
              "              title=\"Convert this dataframe to an interactive table.\"\n",
              "              style=\"display:none;\">\n",
              "        \n",
              "  <svg xmlns=\"http://www.w3.org/2000/svg\" height=\"24px\"viewBox=\"0 0 24 24\"\n",
              "       width=\"24px\">\n",
              "    <path d=\"M0 0h24v24H0V0z\" fill=\"none\"/>\n",
              "    <path d=\"M18.56 5.44l.94 2.06.94-2.06 2.06-.94-2.06-.94-.94-2.06-.94 2.06-2.06.94zm-11 1L8.5 8.5l.94-2.06 2.06-.94-2.06-.94L8.5 2.5l-.94 2.06-2.06.94zm10 10l.94 2.06.94-2.06 2.06-.94-2.06-.94-.94-2.06-.94 2.06-2.06.94z\"/><path d=\"M17.41 7.96l-1.37-1.37c-.4-.4-.92-.59-1.43-.59-.52 0-1.04.2-1.43.59L10.3 9.45l-7.72 7.72c-.78.78-.78 2.05 0 2.83L4 21.41c.39.39.9.59 1.41.59.51 0 1.02-.2 1.41-.59l7.78-7.78 2.81-2.81c.8-.78.8-2.07 0-2.86zM5.41 20L4 18.59l7.72-7.72 1.47 1.35L5.41 20z\"/>\n",
              "  </svg>\n",
              "      </button>\n",
              "      \n",
              "  <style>\n",
              "    .colab-df-container {\n",
              "      display:flex;\n",
              "      flex-wrap:wrap;\n",
              "      gap: 12px;\n",
              "    }\n",
              "\n",
              "    .colab-df-convert {\n",
              "      background-color: #E8F0FE;\n",
              "      border: none;\n",
              "      border-radius: 50%;\n",
              "      cursor: pointer;\n",
              "      display: none;\n",
              "      fill: #1967D2;\n",
              "      height: 32px;\n",
              "      padding: 0 0 0 0;\n",
              "      width: 32px;\n",
              "    }\n",
              "\n",
              "    .colab-df-convert:hover {\n",
              "      background-color: #E2EBFA;\n",
              "      box-shadow: 0px 1px 2px rgba(60, 64, 67, 0.3), 0px 1px 3px 1px rgba(60, 64, 67, 0.15);\n",
              "      fill: #174EA6;\n",
              "    }\n",
              "\n",
              "    [theme=dark] .colab-df-convert {\n",
              "      background-color: #3B4455;\n",
              "      fill: #D2E3FC;\n",
              "    }\n",
              "\n",
              "    [theme=dark] .colab-df-convert:hover {\n",
              "      background-color: #434B5C;\n",
              "      box-shadow: 0px 1px 3px 1px rgba(0, 0, 0, 0.15);\n",
              "      filter: drop-shadow(0px 1px 2px rgba(0, 0, 0, 0.3));\n",
              "      fill: #FFFFFF;\n",
              "    }\n",
              "  </style>\n",
              "\n",
              "      <script>\n",
              "        const buttonEl =\n",
              "          document.querySelector('#df-7ad46ea7-521e-4179-bdb7-882d9c1ee89f button.colab-df-convert');\n",
              "        buttonEl.style.display =\n",
              "          google.colab.kernel.accessAllowed ? 'block' : 'none';\n",
              "\n",
              "        async function convertToInteractive(key) {\n",
              "          const element = document.querySelector('#df-7ad46ea7-521e-4179-bdb7-882d9c1ee89f');\n",
              "          const dataTable =\n",
              "            await google.colab.kernel.invokeFunction('convertToInteractive',\n",
              "                                                     [key], {});\n",
              "          if (!dataTable) return;\n",
              "\n",
              "          const docLinkHtml = 'Like what you see? Visit the ' +\n",
              "            '<a target=\"_blank\" href=https://colab.research.google.com/notebooks/data_table.ipynb>data table notebook</a>'\n",
              "            + ' to learn more about interactive tables.';\n",
              "          element.innerHTML = '';\n",
              "          dataTable['output_type'] = 'display_data';\n",
              "          await google.colab.output.renderOutput(dataTable, element);\n",
              "          const docLink = document.createElement('div');\n",
              "          docLink.innerHTML = docLinkHtml;\n",
              "          element.appendChild(docLink);\n",
              "        }\n",
              "      </script>\n",
              "    </div>\n",
              "  </div>\n",
              "  "
            ]
          },
          "metadata": {},
          "execution_count": 5
        }
      ],
      "source": [
        "df_test.head()"
      ]
    },
    {
      "cell_type": "markdown",
      "metadata": {
        "id": "fXao4wKeUPbK"
      },
      "source": [
        "Как и было сказано, вторая таблица не содержит \"таргет\", но почему-то разница в количестве столбцов существенная. Проверим отличия"
      ]
    },
    {
      "cell_type": "code",
      "execution_count": 6,
      "metadata": {
        "scrolled": true,
        "colab": {
          "base_uri": "https://localhost:8080/"
        },
        "id": "l7-RMPwMUPbK",
        "outputId": "192ee0a6-5347-4e5c-ad1a-b36394c30e1b"
      },
      "outputs": [
        {
          "output_type": "stream",
          "name": "stdout",
          "text": [
            "0                           final.output.concentrate_ag\n",
            "1                           final.output.concentrate_pb\n",
            "2                          final.output.concentrate_sol\n",
            "3                           final.output.concentrate_au\n",
            "4                                 final.output.recovery\n",
            "5                                  final.output.tail_ag\n",
            "6                                  final.output.tail_pb\n",
            "7                                 final.output.tail_sol\n",
            "8                                  final.output.tail_au\n",
            "9                 primary_cleaner.output.concentrate_ag\n",
            "10                primary_cleaner.output.concentrate_pb\n",
            "11               primary_cleaner.output.concentrate_sol\n",
            "12                primary_cleaner.output.concentrate_au\n",
            "13                       primary_cleaner.output.tail_ag\n",
            "14                       primary_cleaner.output.tail_pb\n",
            "15                      primary_cleaner.output.tail_sol\n",
            "16                       primary_cleaner.output.tail_au\n",
            "17        rougher.calculation.sulfate_to_au_concentrate\n",
            "18    rougher.calculation.floatbank10_sulfate_to_au_...\n",
            "19    rougher.calculation.floatbank11_sulfate_to_au_...\n",
            "20                      rougher.calculation.au_pb_ratio\n",
            "21                        rougher.output.concentrate_ag\n",
            "22                        rougher.output.concentrate_pb\n",
            "23                       rougher.output.concentrate_sol\n",
            "24                        rougher.output.concentrate_au\n",
            "25                              rougher.output.recovery\n",
            "26                               rougher.output.tail_ag\n",
            "27                               rougher.output.tail_pb\n",
            "28                              rougher.output.tail_sol\n",
            "29                               rougher.output.tail_au\n",
            "30                     secondary_cleaner.output.tail_ag\n",
            "31                     secondary_cleaner.output.tail_pb\n",
            "32                    secondary_cleaner.output.tail_sol\n",
            "33                     secondary_cleaner.output.tail_au\n",
            "dtype: object\n"
          ]
        }
      ],
      "source": [
        "list_1 = df_train.columns.to_list()\n",
        "list_2 = df_test.columns.to_list()\n",
        "dif = [x for x in list_1 + list_2 if x not in list_1 or x not in list_2] #сравнение двух списков\n",
        "print(pd.Series(dif))"
      ]
    },
    {
      "cell_type": "markdown",
      "metadata": {
        "id": "ccOlko4bUPbL"
      },
      "source": [
        "Так и есть, в таблице `test`нет таргетов (final.\\*), а также других величин. Запомним данный список различий"
      ]
    },
    {
      "cell_type": "code",
      "execution_count": 7,
      "metadata": {
        "scrolled": true,
        "colab": {
          "base_uri": "https://localhost:8080/"
        },
        "id": "fdbnIKYwUPbM",
        "outputId": "7309f46b-06b5-4af9-dae5-3c511a84fb98"
      },
      "outputs": [
        {
          "output_type": "stream",
          "name": "stdout",
          "text": [
            "<class 'pandas.core.frame.DataFrame'>\n",
            "RangeIndex: 14149 entries, 0 to 14148\n",
            "Data columns (total 87 columns):\n",
            " #   Column                                              Non-Null Count  Dtype  \n",
            "---  ------                                              --------------  -----  \n",
            " 0   date                                                14149 non-null  object \n",
            " 1   final.output.concentrate_ag                         14148 non-null  float64\n",
            " 2   final.output.concentrate_pb                         14148 non-null  float64\n",
            " 3   final.output.concentrate_sol                        13938 non-null  float64\n",
            " 4   final.output.concentrate_au                         14149 non-null  float64\n",
            " 5   final.output.recovery                               14149 non-null  float64\n",
            " 6   final.output.tail_ag                                14149 non-null  float64\n",
            " 7   final.output.tail_pb                                14049 non-null  float64\n",
            " 8   final.output.tail_sol                               14144 non-null  float64\n",
            " 9   final.output.tail_au                                14149 non-null  float64\n",
            " 10  primary_cleaner.input.sulfate                       14129 non-null  float64\n",
            " 11  primary_cleaner.input.depressant                    14117 non-null  float64\n",
            " 12  primary_cleaner.input.feed_size                     14149 non-null  float64\n",
            " 13  primary_cleaner.input.xanthate                      14049 non-null  float64\n",
            " 14  primary_cleaner.output.concentrate_ag               14149 non-null  float64\n",
            " 15  primary_cleaner.output.concentrate_pb               14063 non-null  float64\n",
            " 16  primary_cleaner.output.concentrate_sol              13863 non-null  float64\n",
            " 17  primary_cleaner.output.concentrate_au               14149 non-null  float64\n",
            " 18  primary_cleaner.output.tail_ag                      14148 non-null  float64\n",
            " 19  primary_cleaner.output.tail_pb                      14134 non-null  float64\n",
            " 20  primary_cleaner.output.tail_sol                     14103 non-null  float64\n",
            " 21  primary_cleaner.output.tail_au                      14149 non-null  float64\n",
            " 22  primary_cleaner.state.floatbank8_a_air              14145 non-null  float64\n",
            " 23  primary_cleaner.state.floatbank8_a_level            14148 non-null  float64\n",
            " 24  primary_cleaner.state.floatbank8_b_air              14145 non-null  float64\n",
            " 25  primary_cleaner.state.floatbank8_b_level            14148 non-null  float64\n",
            " 26  primary_cleaner.state.floatbank8_c_air              14147 non-null  float64\n",
            " 27  primary_cleaner.state.floatbank8_c_level            14148 non-null  float64\n",
            " 28  primary_cleaner.state.floatbank8_d_air              14146 non-null  float64\n",
            " 29  primary_cleaner.state.floatbank8_d_level            14148 non-null  float64\n",
            " 30  rougher.calculation.sulfate_to_au_concentrate       14148 non-null  float64\n",
            " 31  rougher.calculation.floatbank10_sulfate_to_au_feed  14148 non-null  float64\n",
            " 32  rougher.calculation.floatbank11_sulfate_to_au_feed  14148 non-null  float64\n",
            " 33  rougher.calculation.au_pb_ratio                     14149 non-null  float64\n",
            " 34  rougher.input.feed_ag                               14149 non-null  float64\n",
            " 35  rougher.input.feed_pb                               14049 non-null  float64\n",
            " 36  rougher.input.feed_rate                             14141 non-null  float64\n",
            " 37  rougher.input.feed_size                             14005 non-null  float64\n",
            " 38  rougher.input.feed_sol                              14071 non-null  float64\n",
            " 39  rougher.input.feed_au                               14149 non-null  float64\n",
            " 40  rougher.input.floatbank10_sulfate                   14120 non-null  float64\n",
            " 41  rougher.input.floatbank10_xanthate                  14141 non-null  float64\n",
            " 42  rougher.input.floatbank11_sulfate                   14113 non-null  float64\n",
            " 43  rougher.input.floatbank11_xanthate                  13721 non-null  float64\n",
            " 44  rougher.output.concentrate_ag                       14149 non-null  float64\n",
            " 45  rougher.output.concentrate_pb                       14149 non-null  float64\n",
            " 46  rougher.output.concentrate_sol                      14127 non-null  float64\n",
            " 47  rougher.output.concentrate_au                       14149 non-null  float64\n",
            " 48  rougher.output.recovery                             14149 non-null  float64\n",
            " 49  rougher.output.tail_ag                              14148 non-null  float64\n",
            " 50  rougher.output.tail_pb                              14149 non-null  float64\n",
            " 51  rougher.output.tail_sol                             14149 non-null  float64\n",
            " 52  rougher.output.tail_au                              14149 non-null  float64\n",
            " 53  rougher.state.floatbank10_a_air                     14148 non-null  float64\n",
            " 54  rougher.state.floatbank10_a_level                   14148 non-null  float64\n",
            " 55  rougher.state.floatbank10_b_air                     14148 non-null  float64\n",
            " 56  rougher.state.floatbank10_b_level                   14148 non-null  float64\n",
            " 57  rougher.state.floatbank10_c_air                     14148 non-null  float64\n",
            " 58  rougher.state.floatbank10_c_level                   14148 non-null  float64\n",
            " 59  rougher.state.floatbank10_d_air                     14149 non-null  float64\n",
            " 60  rougher.state.floatbank10_d_level                   14149 non-null  float64\n",
            " 61  rougher.state.floatbank10_e_air                     13713 non-null  float64\n",
            " 62  rougher.state.floatbank10_e_level                   14149 non-null  float64\n",
            " 63  rougher.state.floatbank10_f_air                     14149 non-null  float64\n",
            " 64  rougher.state.floatbank10_f_level                   14149 non-null  float64\n",
            " 65  secondary_cleaner.output.tail_ag                    14147 non-null  float64\n",
            " 66  secondary_cleaner.output.tail_pb                    14139 non-null  float64\n",
            " 67  secondary_cleaner.output.tail_sol                   12544 non-null  float64\n",
            " 68  secondary_cleaner.output.tail_au                    14149 non-null  float64\n",
            " 69  secondary_cleaner.state.floatbank2_a_air            13932 non-null  float64\n",
            " 70  secondary_cleaner.state.floatbank2_a_level          14148 non-null  float64\n",
            " 71  secondary_cleaner.state.floatbank2_b_air            14128 non-null  float64\n",
            " 72  secondary_cleaner.state.floatbank2_b_level          14148 non-null  float64\n",
            " 73  secondary_cleaner.state.floatbank3_a_air            14145 non-null  float64\n",
            " 74  secondary_cleaner.state.floatbank3_a_level          14148 non-null  float64\n",
            " 75  secondary_cleaner.state.floatbank3_b_air            14148 non-null  float64\n",
            " 76  secondary_cleaner.state.floatbank3_b_level          14148 non-null  float64\n",
            " 77  secondary_cleaner.state.floatbank4_a_air            14143 non-null  float64\n",
            " 78  secondary_cleaner.state.floatbank4_a_level          14148 non-null  float64\n",
            " 79  secondary_cleaner.state.floatbank4_b_air            14148 non-null  float64\n",
            " 80  secondary_cleaner.state.floatbank4_b_level          14148 non-null  float64\n",
            " 81  secondary_cleaner.state.floatbank5_a_air            14148 non-null  float64\n",
            " 82  secondary_cleaner.state.floatbank5_a_level          14148 non-null  float64\n",
            " 83  secondary_cleaner.state.floatbank5_b_air            14148 non-null  float64\n",
            " 84  secondary_cleaner.state.floatbank5_b_level          14148 non-null  float64\n",
            " 85  secondary_cleaner.state.floatbank6_a_air            14147 non-null  float64\n",
            " 86  secondary_cleaner.state.floatbank6_a_level          14148 non-null  float64\n",
            "dtypes: float64(86), object(1)\n",
            "memory usage: 9.4+ MB\n"
          ]
        }
      ],
      "source": [
        "df_train.info()"
      ]
    },
    {
      "cell_type": "code",
      "execution_count": 8,
      "metadata": {
        "scrolled": true,
        "colab": {
          "base_uri": "https://localhost:8080/"
        },
        "id": "O6DFIcBFUPbM",
        "outputId": "3578cb42-63f2-4f08-cb04-aea4c2b0786c"
      },
      "outputs": [
        {
          "output_type": "stream",
          "name": "stdout",
          "text": [
            "<class 'pandas.core.frame.DataFrame'>\n",
            "RangeIndex: 5290 entries, 0 to 5289\n",
            "Data columns (total 53 columns):\n",
            " #   Column                                      Non-Null Count  Dtype  \n",
            "---  ------                                      --------------  -----  \n",
            " 0   date                                        5290 non-null   object \n",
            " 1   primary_cleaner.input.sulfate               5286 non-null   float64\n",
            " 2   primary_cleaner.input.depressant            5285 non-null   float64\n",
            " 3   primary_cleaner.input.feed_size             5290 non-null   float64\n",
            " 4   primary_cleaner.input.xanthate              5286 non-null   float64\n",
            " 5   primary_cleaner.state.floatbank8_a_air      5290 non-null   float64\n",
            " 6   primary_cleaner.state.floatbank8_a_level    5290 non-null   float64\n",
            " 7   primary_cleaner.state.floatbank8_b_air      5290 non-null   float64\n",
            " 8   primary_cleaner.state.floatbank8_b_level    5290 non-null   float64\n",
            " 9   primary_cleaner.state.floatbank8_c_air      5290 non-null   float64\n",
            " 10  primary_cleaner.state.floatbank8_c_level    5290 non-null   float64\n",
            " 11  primary_cleaner.state.floatbank8_d_air      5290 non-null   float64\n",
            " 12  primary_cleaner.state.floatbank8_d_level    5290 non-null   float64\n",
            " 13  rougher.input.feed_ag                       5290 non-null   float64\n",
            " 14  rougher.input.feed_pb                       5290 non-null   float64\n",
            " 15  rougher.input.feed_rate                     5287 non-null   float64\n",
            " 16  rougher.input.feed_size                     5289 non-null   float64\n",
            " 17  rougher.input.feed_sol                      5269 non-null   float64\n",
            " 18  rougher.input.feed_au                       5290 non-null   float64\n",
            " 19  rougher.input.floatbank10_sulfate           5285 non-null   float64\n",
            " 20  rougher.input.floatbank10_xanthate          5290 non-null   float64\n",
            " 21  rougher.input.floatbank11_sulfate           5282 non-null   float64\n",
            " 22  rougher.input.floatbank11_xanthate          5265 non-null   float64\n",
            " 23  rougher.state.floatbank10_a_air             5290 non-null   float64\n",
            " 24  rougher.state.floatbank10_a_level           5290 non-null   float64\n",
            " 25  rougher.state.floatbank10_b_air             5290 non-null   float64\n",
            " 26  rougher.state.floatbank10_b_level           5290 non-null   float64\n",
            " 27  rougher.state.floatbank10_c_air             5290 non-null   float64\n",
            " 28  rougher.state.floatbank10_c_level           5290 non-null   float64\n",
            " 29  rougher.state.floatbank10_d_air             5290 non-null   float64\n",
            " 30  rougher.state.floatbank10_d_level           5290 non-null   float64\n",
            " 31  rougher.state.floatbank10_e_air             5290 non-null   float64\n",
            " 32  rougher.state.floatbank10_e_level           5290 non-null   float64\n",
            " 33  rougher.state.floatbank10_f_air             5290 non-null   float64\n",
            " 34  rougher.state.floatbank10_f_level           5290 non-null   float64\n",
            " 35  secondary_cleaner.state.floatbank2_a_air    5287 non-null   float64\n",
            " 36  secondary_cleaner.state.floatbank2_a_level  5290 non-null   float64\n",
            " 37  secondary_cleaner.state.floatbank2_b_air    5288 non-null   float64\n",
            " 38  secondary_cleaner.state.floatbank2_b_level  5290 non-null   float64\n",
            " 39  secondary_cleaner.state.floatbank3_a_air    5281 non-null   float64\n",
            " 40  secondary_cleaner.state.floatbank3_a_level  5290 non-null   float64\n",
            " 41  secondary_cleaner.state.floatbank3_b_air    5290 non-null   float64\n",
            " 42  secondary_cleaner.state.floatbank3_b_level  5290 non-null   float64\n",
            " 43  secondary_cleaner.state.floatbank4_a_air    5290 non-null   float64\n",
            " 44  secondary_cleaner.state.floatbank4_a_level  5290 non-null   float64\n",
            " 45  secondary_cleaner.state.floatbank4_b_air    5290 non-null   float64\n",
            " 46  secondary_cleaner.state.floatbank4_b_level  5290 non-null   float64\n",
            " 47  secondary_cleaner.state.floatbank5_a_air    5290 non-null   float64\n",
            " 48  secondary_cleaner.state.floatbank5_a_level  5290 non-null   float64\n",
            " 49  secondary_cleaner.state.floatbank5_b_air    5290 non-null   float64\n",
            " 50  secondary_cleaner.state.floatbank5_b_level  5290 non-null   float64\n",
            " 51  secondary_cleaner.state.floatbank6_a_air    5290 non-null   float64\n",
            " 52  secondary_cleaner.state.floatbank6_a_level  5290 non-null   float64\n",
            "dtypes: float64(52), object(1)\n",
            "memory usage: 2.1+ MB\n"
          ]
        }
      ],
      "source": [
        "df_test.info()"
      ]
    },
    {
      "cell_type": "markdown",
      "metadata": {
        "id": "N-LDrFILUPbN"
      },
      "source": [
        "Как видно столбец с датой имеет не правильный формат, надо будет его исправить далее. Посмотим на количество и % пропусков"
      ]
    },
    {
      "cell_type": "code",
      "execution_count": 9,
      "metadata": {
        "id": "EXZoArX-UPbT"
      },
      "outputs": [],
      "source": [
        "pd.set_option('display.max_rows', 100) # показ 100 строк"
      ]
    },
    {
      "cell_type": "code",
      "execution_count": 10,
      "metadata": {
        "colab": {
          "base_uri": "https://localhost:8080/",
          "height": 1000
        },
        "id": "BdPIpCutUPbT",
        "outputId": "5c7ae993-7660-453f-dc0a-8d1a9400c9c9"
      },
      "outputs": [
        {
          "output_type": "execute_result",
          "data": {
            "text/plain": [
              "                                                       sum      mean\n",
              "date                                                   0.0  0.000000\n",
              "final.output.concentrate_ag                            1.0  0.000071\n",
              "final.output.concentrate_pb                            1.0  0.000071\n",
              "final.output.concentrate_sol                         211.0  0.014913\n",
              "final.output.concentrate_au                            0.0  0.000000\n",
              "final.output.recovery                                  0.0  0.000000\n",
              "final.output.tail_ag                                   0.0  0.000000\n",
              "final.output.tail_pb                                 100.0  0.007068\n",
              "final.output.tail_sol                                  5.0  0.000353\n",
              "final.output.tail_au                                   0.0  0.000000\n",
              "primary_cleaner.input.sulfate                         20.0  0.001414\n",
              "primary_cleaner.input.depressant                      32.0  0.002262\n",
              "primary_cleaner.input.feed_size                        0.0  0.000000\n",
              "primary_cleaner.input.xanthate                       100.0  0.007068\n",
              "primary_cleaner.output.concentrate_ag                  0.0  0.000000\n",
              "primary_cleaner.output.concentrate_pb                 86.0  0.006078\n",
              "primary_cleaner.output.concentrate_sol               286.0  0.020213\n",
              "primary_cleaner.output.concentrate_au                  0.0  0.000000\n",
              "primary_cleaner.output.tail_ag                         1.0  0.000071\n",
              "primary_cleaner.output.tail_pb                        15.0  0.001060\n",
              "primary_cleaner.output.tail_sol                       46.0  0.003251\n",
              "primary_cleaner.output.tail_au                         0.0  0.000000\n",
              "primary_cleaner.state.floatbank8_a_air                 4.0  0.000283\n",
              "primary_cleaner.state.floatbank8_a_level               1.0  0.000071\n",
              "primary_cleaner.state.floatbank8_b_air                 4.0  0.000283\n",
              "primary_cleaner.state.floatbank8_b_level               1.0  0.000071\n",
              "primary_cleaner.state.floatbank8_c_air                 2.0  0.000141\n",
              "primary_cleaner.state.floatbank8_c_level               1.0  0.000071\n",
              "primary_cleaner.state.floatbank8_d_air                 3.0  0.000212\n",
              "primary_cleaner.state.floatbank8_d_level               1.0  0.000071\n",
              "rougher.calculation.sulfate_to_au_concentrate          1.0  0.000071\n",
              "rougher.calculation.floatbank10_sulfate_to_au_feed     1.0  0.000071\n",
              "rougher.calculation.floatbank11_sulfate_to_au_feed     1.0  0.000071\n",
              "rougher.calculation.au_pb_ratio                        0.0  0.000000\n",
              "rougher.input.feed_ag                                  0.0  0.000000\n",
              "rougher.input.feed_pb                                100.0  0.007068\n",
              "rougher.input.feed_rate                                8.0  0.000565\n",
              "rougher.input.feed_size                              144.0  0.010177\n",
              "rougher.input.feed_sol                                78.0  0.005513\n",
              "rougher.input.feed_au                                  0.0  0.000000\n",
              "rougher.input.floatbank10_sulfate                     29.0  0.002050\n",
              "rougher.input.floatbank10_xanthate                     8.0  0.000565\n",
              "rougher.input.floatbank11_sulfate                     36.0  0.002544\n",
              "rougher.input.floatbank11_xanthate                   428.0  0.030249\n",
              "rougher.output.concentrate_ag                          0.0  0.000000\n",
              "rougher.output.concentrate_pb                          0.0  0.000000\n",
              "rougher.output.concentrate_sol                        22.0  0.001555\n",
              "rougher.output.concentrate_au                          0.0  0.000000\n",
              "rougher.output.recovery                                0.0  0.000000\n",
              "rougher.output.tail_ag                                 1.0  0.000071\n",
              "rougher.output.tail_pb                                 0.0  0.000000\n",
              "rougher.output.tail_sol                                0.0  0.000000\n",
              "rougher.output.tail_au                                 0.0  0.000000\n",
              "rougher.state.floatbank10_a_air                        1.0  0.000071\n",
              "rougher.state.floatbank10_a_level                      1.0  0.000071\n",
              "rougher.state.floatbank10_b_air                        1.0  0.000071\n",
              "rougher.state.floatbank10_b_level                      1.0  0.000071\n",
              "rougher.state.floatbank10_c_air                        1.0  0.000071\n",
              "rougher.state.floatbank10_c_level                      1.0  0.000071\n",
              "rougher.state.floatbank10_d_air                        0.0  0.000000\n",
              "rougher.state.floatbank10_d_level                      0.0  0.000000\n",
              "rougher.state.floatbank10_e_air                      436.0  0.030815\n",
              "rougher.state.floatbank10_e_level                      0.0  0.000000\n",
              "rougher.state.floatbank10_f_air                        0.0  0.000000\n",
              "rougher.state.floatbank10_f_level                      0.0  0.000000\n",
              "secondary_cleaner.output.tail_ag                       2.0  0.000141\n",
              "secondary_cleaner.output.tail_pb                      10.0  0.000707\n",
              "secondary_cleaner.output.tail_sol                   1605.0  0.113436\n",
              "secondary_cleaner.output.tail_au                       0.0  0.000000\n",
              "secondary_cleaner.state.floatbank2_a_air             217.0  0.015337\n",
              "secondary_cleaner.state.floatbank2_a_level             1.0  0.000071\n",
              "secondary_cleaner.state.floatbank2_b_air              21.0  0.001484\n",
              "secondary_cleaner.state.floatbank2_b_level             1.0  0.000071\n",
              "secondary_cleaner.state.floatbank3_a_air               4.0  0.000283\n",
              "secondary_cleaner.state.floatbank3_a_level             1.0  0.000071\n",
              "secondary_cleaner.state.floatbank3_b_air               1.0  0.000071\n",
              "secondary_cleaner.state.floatbank3_b_level             1.0  0.000071\n",
              "secondary_cleaner.state.floatbank4_a_air               6.0  0.000424\n",
              "secondary_cleaner.state.floatbank4_a_level             1.0  0.000071\n",
              "secondary_cleaner.state.floatbank4_b_air               1.0  0.000071\n",
              "secondary_cleaner.state.floatbank4_b_level             1.0  0.000071\n",
              "secondary_cleaner.state.floatbank5_a_air               1.0  0.000071\n",
              "secondary_cleaner.state.floatbank5_a_level             1.0  0.000071\n",
              "secondary_cleaner.state.floatbank5_b_air               1.0  0.000071\n",
              "secondary_cleaner.state.floatbank5_b_level             1.0  0.000071\n",
              "secondary_cleaner.state.floatbank6_a_air               2.0  0.000141\n",
              "secondary_cleaner.state.floatbank6_a_level             1.0  0.000071"
            ],
            "text/html": [
              "\n",
              "  <div id=\"df-c252d7ce-ee14-417e-b30f-6b3a4f51057d\">\n",
              "    <div class=\"colab-df-container\">\n",
              "      <div>\n",
              "<style scoped>\n",
              "    .dataframe tbody tr th:only-of-type {\n",
              "        vertical-align: middle;\n",
              "    }\n",
              "\n",
              "    .dataframe tbody tr th {\n",
              "        vertical-align: top;\n",
              "    }\n",
              "\n",
              "    .dataframe thead th {\n",
              "        text-align: right;\n",
              "    }\n",
              "</style>\n",
              "<table border=\"1\" class=\"dataframe\">\n",
              "  <thead>\n",
              "    <tr style=\"text-align: right;\">\n",
              "      <th></th>\n",
              "      <th>sum</th>\n",
              "      <th>mean</th>\n",
              "    </tr>\n",
              "  </thead>\n",
              "  <tbody>\n",
              "    <tr>\n",
              "      <th>date</th>\n",
              "      <td>0.0</td>\n",
              "      <td>0.000000</td>\n",
              "    </tr>\n",
              "    <tr>\n",
              "      <th>final.output.concentrate_ag</th>\n",
              "      <td>1.0</td>\n",
              "      <td>0.000071</td>\n",
              "    </tr>\n",
              "    <tr>\n",
              "      <th>final.output.concentrate_pb</th>\n",
              "      <td>1.0</td>\n",
              "      <td>0.000071</td>\n",
              "    </tr>\n",
              "    <tr>\n",
              "      <th>final.output.concentrate_sol</th>\n",
              "      <td>211.0</td>\n",
              "      <td>0.014913</td>\n",
              "    </tr>\n",
              "    <tr>\n",
              "      <th>final.output.concentrate_au</th>\n",
              "      <td>0.0</td>\n",
              "      <td>0.000000</td>\n",
              "    </tr>\n",
              "    <tr>\n",
              "      <th>final.output.recovery</th>\n",
              "      <td>0.0</td>\n",
              "      <td>0.000000</td>\n",
              "    </tr>\n",
              "    <tr>\n",
              "      <th>final.output.tail_ag</th>\n",
              "      <td>0.0</td>\n",
              "      <td>0.000000</td>\n",
              "    </tr>\n",
              "    <tr>\n",
              "      <th>final.output.tail_pb</th>\n",
              "      <td>100.0</td>\n",
              "      <td>0.007068</td>\n",
              "    </tr>\n",
              "    <tr>\n",
              "      <th>final.output.tail_sol</th>\n",
              "      <td>5.0</td>\n",
              "      <td>0.000353</td>\n",
              "    </tr>\n",
              "    <tr>\n",
              "      <th>final.output.tail_au</th>\n",
              "      <td>0.0</td>\n",
              "      <td>0.000000</td>\n",
              "    </tr>\n",
              "    <tr>\n",
              "      <th>primary_cleaner.input.sulfate</th>\n",
              "      <td>20.0</td>\n",
              "      <td>0.001414</td>\n",
              "    </tr>\n",
              "    <tr>\n",
              "      <th>primary_cleaner.input.depressant</th>\n",
              "      <td>32.0</td>\n",
              "      <td>0.002262</td>\n",
              "    </tr>\n",
              "    <tr>\n",
              "      <th>primary_cleaner.input.feed_size</th>\n",
              "      <td>0.0</td>\n",
              "      <td>0.000000</td>\n",
              "    </tr>\n",
              "    <tr>\n",
              "      <th>primary_cleaner.input.xanthate</th>\n",
              "      <td>100.0</td>\n",
              "      <td>0.007068</td>\n",
              "    </tr>\n",
              "    <tr>\n",
              "      <th>primary_cleaner.output.concentrate_ag</th>\n",
              "      <td>0.0</td>\n",
              "      <td>0.000000</td>\n",
              "    </tr>\n",
              "    <tr>\n",
              "      <th>primary_cleaner.output.concentrate_pb</th>\n",
              "      <td>86.0</td>\n",
              "      <td>0.006078</td>\n",
              "    </tr>\n",
              "    <tr>\n",
              "      <th>primary_cleaner.output.concentrate_sol</th>\n",
              "      <td>286.0</td>\n",
              "      <td>0.020213</td>\n",
              "    </tr>\n",
              "    <tr>\n",
              "      <th>primary_cleaner.output.concentrate_au</th>\n",
              "      <td>0.0</td>\n",
              "      <td>0.000000</td>\n",
              "    </tr>\n",
              "    <tr>\n",
              "      <th>primary_cleaner.output.tail_ag</th>\n",
              "      <td>1.0</td>\n",
              "      <td>0.000071</td>\n",
              "    </tr>\n",
              "    <tr>\n",
              "      <th>primary_cleaner.output.tail_pb</th>\n",
              "      <td>15.0</td>\n",
              "      <td>0.001060</td>\n",
              "    </tr>\n",
              "    <tr>\n",
              "      <th>primary_cleaner.output.tail_sol</th>\n",
              "      <td>46.0</td>\n",
              "      <td>0.003251</td>\n",
              "    </tr>\n",
              "    <tr>\n",
              "      <th>primary_cleaner.output.tail_au</th>\n",
              "      <td>0.0</td>\n",
              "      <td>0.000000</td>\n",
              "    </tr>\n",
              "    <tr>\n",
              "      <th>primary_cleaner.state.floatbank8_a_air</th>\n",
              "      <td>4.0</td>\n",
              "      <td>0.000283</td>\n",
              "    </tr>\n",
              "    <tr>\n",
              "      <th>primary_cleaner.state.floatbank8_a_level</th>\n",
              "      <td>1.0</td>\n",
              "      <td>0.000071</td>\n",
              "    </tr>\n",
              "    <tr>\n",
              "      <th>primary_cleaner.state.floatbank8_b_air</th>\n",
              "      <td>4.0</td>\n",
              "      <td>0.000283</td>\n",
              "    </tr>\n",
              "    <tr>\n",
              "      <th>primary_cleaner.state.floatbank8_b_level</th>\n",
              "      <td>1.0</td>\n",
              "      <td>0.000071</td>\n",
              "    </tr>\n",
              "    <tr>\n",
              "      <th>primary_cleaner.state.floatbank8_c_air</th>\n",
              "      <td>2.0</td>\n",
              "      <td>0.000141</td>\n",
              "    </tr>\n",
              "    <tr>\n",
              "      <th>primary_cleaner.state.floatbank8_c_level</th>\n",
              "      <td>1.0</td>\n",
              "      <td>0.000071</td>\n",
              "    </tr>\n",
              "    <tr>\n",
              "      <th>primary_cleaner.state.floatbank8_d_air</th>\n",
              "      <td>3.0</td>\n",
              "      <td>0.000212</td>\n",
              "    </tr>\n",
              "    <tr>\n",
              "      <th>primary_cleaner.state.floatbank8_d_level</th>\n",
              "      <td>1.0</td>\n",
              "      <td>0.000071</td>\n",
              "    </tr>\n",
              "    <tr>\n",
              "      <th>rougher.calculation.sulfate_to_au_concentrate</th>\n",
              "      <td>1.0</td>\n",
              "      <td>0.000071</td>\n",
              "    </tr>\n",
              "    <tr>\n",
              "      <th>rougher.calculation.floatbank10_sulfate_to_au_feed</th>\n",
              "      <td>1.0</td>\n",
              "      <td>0.000071</td>\n",
              "    </tr>\n",
              "    <tr>\n",
              "      <th>rougher.calculation.floatbank11_sulfate_to_au_feed</th>\n",
              "      <td>1.0</td>\n",
              "      <td>0.000071</td>\n",
              "    </tr>\n",
              "    <tr>\n",
              "      <th>rougher.calculation.au_pb_ratio</th>\n",
              "      <td>0.0</td>\n",
              "      <td>0.000000</td>\n",
              "    </tr>\n",
              "    <tr>\n",
              "      <th>rougher.input.feed_ag</th>\n",
              "      <td>0.0</td>\n",
              "      <td>0.000000</td>\n",
              "    </tr>\n",
              "    <tr>\n",
              "      <th>rougher.input.feed_pb</th>\n",
              "      <td>100.0</td>\n",
              "      <td>0.007068</td>\n",
              "    </tr>\n",
              "    <tr>\n",
              "      <th>rougher.input.feed_rate</th>\n",
              "      <td>8.0</td>\n",
              "      <td>0.000565</td>\n",
              "    </tr>\n",
              "    <tr>\n",
              "      <th>rougher.input.feed_size</th>\n",
              "      <td>144.0</td>\n",
              "      <td>0.010177</td>\n",
              "    </tr>\n",
              "    <tr>\n",
              "      <th>rougher.input.feed_sol</th>\n",
              "      <td>78.0</td>\n",
              "      <td>0.005513</td>\n",
              "    </tr>\n",
              "    <tr>\n",
              "      <th>rougher.input.feed_au</th>\n",
              "      <td>0.0</td>\n",
              "      <td>0.000000</td>\n",
              "    </tr>\n",
              "    <tr>\n",
              "      <th>rougher.input.floatbank10_sulfate</th>\n",
              "      <td>29.0</td>\n",
              "      <td>0.002050</td>\n",
              "    </tr>\n",
              "    <tr>\n",
              "      <th>rougher.input.floatbank10_xanthate</th>\n",
              "      <td>8.0</td>\n",
              "      <td>0.000565</td>\n",
              "    </tr>\n",
              "    <tr>\n",
              "      <th>rougher.input.floatbank11_sulfate</th>\n",
              "      <td>36.0</td>\n",
              "      <td>0.002544</td>\n",
              "    </tr>\n",
              "    <tr>\n",
              "      <th>rougher.input.floatbank11_xanthate</th>\n",
              "      <td>428.0</td>\n",
              "      <td>0.030249</td>\n",
              "    </tr>\n",
              "    <tr>\n",
              "      <th>rougher.output.concentrate_ag</th>\n",
              "      <td>0.0</td>\n",
              "      <td>0.000000</td>\n",
              "    </tr>\n",
              "    <tr>\n",
              "      <th>rougher.output.concentrate_pb</th>\n",
              "      <td>0.0</td>\n",
              "      <td>0.000000</td>\n",
              "    </tr>\n",
              "    <tr>\n",
              "      <th>rougher.output.concentrate_sol</th>\n",
              "      <td>22.0</td>\n",
              "      <td>0.001555</td>\n",
              "    </tr>\n",
              "    <tr>\n",
              "      <th>rougher.output.concentrate_au</th>\n",
              "      <td>0.0</td>\n",
              "      <td>0.000000</td>\n",
              "    </tr>\n",
              "    <tr>\n",
              "      <th>rougher.output.recovery</th>\n",
              "      <td>0.0</td>\n",
              "      <td>0.000000</td>\n",
              "    </tr>\n",
              "    <tr>\n",
              "      <th>rougher.output.tail_ag</th>\n",
              "      <td>1.0</td>\n",
              "      <td>0.000071</td>\n",
              "    </tr>\n",
              "    <tr>\n",
              "      <th>rougher.output.tail_pb</th>\n",
              "      <td>0.0</td>\n",
              "      <td>0.000000</td>\n",
              "    </tr>\n",
              "    <tr>\n",
              "      <th>rougher.output.tail_sol</th>\n",
              "      <td>0.0</td>\n",
              "      <td>0.000000</td>\n",
              "    </tr>\n",
              "    <tr>\n",
              "      <th>rougher.output.tail_au</th>\n",
              "      <td>0.0</td>\n",
              "      <td>0.000000</td>\n",
              "    </tr>\n",
              "    <tr>\n",
              "      <th>rougher.state.floatbank10_a_air</th>\n",
              "      <td>1.0</td>\n",
              "      <td>0.000071</td>\n",
              "    </tr>\n",
              "    <tr>\n",
              "      <th>rougher.state.floatbank10_a_level</th>\n",
              "      <td>1.0</td>\n",
              "      <td>0.000071</td>\n",
              "    </tr>\n",
              "    <tr>\n",
              "      <th>rougher.state.floatbank10_b_air</th>\n",
              "      <td>1.0</td>\n",
              "      <td>0.000071</td>\n",
              "    </tr>\n",
              "    <tr>\n",
              "      <th>rougher.state.floatbank10_b_level</th>\n",
              "      <td>1.0</td>\n",
              "      <td>0.000071</td>\n",
              "    </tr>\n",
              "    <tr>\n",
              "      <th>rougher.state.floatbank10_c_air</th>\n",
              "      <td>1.0</td>\n",
              "      <td>0.000071</td>\n",
              "    </tr>\n",
              "    <tr>\n",
              "      <th>rougher.state.floatbank10_c_level</th>\n",
              "      <td>1.0</td>\n",
              "      <td>0.000071</td>\n",
              "    </tr>\n",
              "    <tr>\n",
              "      <th>rougher.state.floatbank10_d_air</th>\n",
              "      <td>0.0</td>\n",
              "      <td>0.000000</td>\n",
              "    </tr>\n",
              "    <tr>\n",
              "      <th>rougher.state.floatbank10_d_level</th>\n",
              "      <td>0.0</td>\n",
              "      <td>0.000000</td>\n",
              "    </tr>\n",
              "    <tr>\n",
              "      <th>rougher.state.floatbank10_e_air</th>\n",
              "      <td>436.0</td>\n",
              "      <td>0.030815</td>\n",
              "    </tr>\n",
              "    <tr>\n",
              "      <th>rougher.state.floatbank10_e_level</th>\n",
              "      <td>0.0</td>\n",
              "      <td>0.000000</td>\n",
              "    </tr>\n",
              "    <tr>\n",
              "      <th>rougher.state.floatbank10_f_air</th>\n",
              "      <td>0.0</td>\n",
              "      <td>0.000000</td>\n",
              "    </tr>\n",
              "    <tr>\n",
              "      <th>rougher.state.floatbank10_f_level</th>\n",
              "      <td>0.0</td>\n",
              "      <td>0.000000</td>\n",
              "    </tr>\n",
              "    <tr>\n",
              "      <th>secondary_cleaner.output.tail_ag</th>\n",
              "      <td>2.0</td>\n",
              "      <td>0.000141</td>\n",
              "    </tr>\n",
              "    <tr>\n",
              "      <th>secondary_cleaner.output.tail_pb</th>\n",
              "      <td>10.0</td>\n",
              "      <td>0.000707</td>\n",
              "    </tr>\n",
              "    <tr>\n",
              "      <th>secondary_cleaner.output.tail_sol</th>\n",
              "      <td>1605.0</td>\n",
              "      <td>0.113436</td>\n",
              "    </tr>\n",
              "    <tr>\n",
              "      <th>secondary_cleaner.output.tail_au</th>\n",
              "      <td>0.0</td>\n",
              "      <td>0.000000</td>\n",
              "    </tr>\n",
              "    <tr>\n",
              "      <th>secondary_cleaner.state.floatbank2_a_air</th>\n",
              "      <td>217.0</td>\n",
              "      <td>0.015337</td>\n",
              "    </tr>\n",
              "    <tr>\n",
              "      <th>secondary_cleaner.state.floatbank2_a_level</th>\n",
              "      <td>1.0</td>\n",
              "      <td>0.000071</td>\n",
              "    </tr>\n",
              "    <tr>\n",
              "      <th>secondary_cleaner.state.floatbank2_b_air</th>\n",
              "      <td>21.0</td>\n",
              "      <td>0.001484</td>\n",
              "    </tr>\n",
              "    <tr>\n",
              "      <th>secondary_cleaner.state.floatbank2_b_level</th>\n",
              "      <td>1.0</td>\n",
              "      <td>0.000071</td>\n",
              "    </tr>\n",
              "    <tr>\n",
              "      <th>secondary_cleaner.state.floatbank3_a_air</th>\n",
              "      <td>4.0</td>\n",
              "      <td>0.000283</td>\n",
              "    </tr>\n",
              "    <tr>\n",
              "      <th>secondary_cleaner.state.floatbank3_a_level</th>\n",
              "      <td>1.0</td>\n",
              "      <td>0.000071</td>\n",
              "    </tr>\n",
              "    <tr>\n",
              "      <th>secondary_cleaner.state.floatbank3_b_air</th>\n",
              "      <td>1.0</td>\n",
              "      <td>0.000071</td>\n",
              "    </tr>\n",
              "    <tr>\n",
              "      <th>secondary_cleaner.state.floatbank3_b_level</th>\n",
              "      <td>1.0</td>\n",
              "      <td>0.000071</td>\n",
              "    </tr>\n",
              "    <tr>\n",
              "      <th>secondary_cleaner.state.floatbank4_a_air</th>\n",
              "      <td>6.0</td>\n",
              "      <td>0.000424</td>\n",
              "    </tr>\n",
              "    <tr>\n",
              "      <th>secondary_cleaner.state.floatbank4_a_level</th>\n",
              "      <td>1.0</td>\n",
              "      <td>0.000071</td>\n",
              "    </tr>\n",
              "    <tr>\n",
              "      <th>secondary_cleaner.state.floatbank4_b_air</th>\n",
              "      <td>1.0</td>\n",
              "      <td>0.000071</td>\n",
              "    </tr>\n",
              "    <tr>\n",
              "      <th>secondary_cleaner.state.floatbank4_b_level</th>\n",
              "      <td>1.0</td>\n",
              "      <td>0.000071</td>\n",
              "    </tr>\n",
              "    <tr>\n",
              "      <th>secondary_cleaner.state.floatbank5_a_air</th>\n",
              "      <td>1.0</td>\n",
              "      <td>0.000071</td>\n",
              "    </tr>\n",
              "    <tr>\n",
              "      <th>secondary_cleaner.state.floatbank5_a_level</th>\n",
              "      <td>1.0</td>\n",
              "      <td>0.000071</td>\n",
              "    </tr>\n",
              "    <tr>\n",
              "      <th>secondary_cleaner.state.floatbank5_b_air</th>\n",
              "      <td>1.0</td>\n",
              "      <td>0.000071</td>\n",
              "    </tr>\n",
              "    <tr>\n",
              "      <th>secondary_cleaner.state.floatbank5_b_level</th>\n",
              "      <td>1.0</td>\n",
              "      <td>0.000071</td>\n",
              "    </tr>\n",
              "    <tr>\n",
              "      <th>secondary_cleaner.state.floatbank6_a_air</th>\n",
              "      <td>2.0</td>\n",
              "      <td>0.000141</td>\n",
              "    </tr>\n",
              "    <tr>\n",
              "      <th>secondary_cleaner.state.floatbank6_a_level</th>\n",
              "      <td>1.0</td>\n",
              "      <td>0.000071</td>\n",
              "    </tr>\n",
              "  </tbody>\n",
              "</table>\n",
              "</div>\n",
              "      <button class=\"colab-df-convert\" onclick=\"convertToInteractive('df-c252d7ce-ee14-417e-b30f-6b3a4f51057d')\"\n",
              "              title=\"Convert this dataframe to an interactive table.\"\n",
              "              style=\"display:none;\">\n",
              "        \n",
              "  <svg xmlns=\"http://www.w3.org/2000/svg\" height=\"24px\"viewBox=\"0 0 24 24\"\n",
              "       width=\"24px\">\n",
              "    <path d=\"M0 0h24v24H0V0z\" fill=\"none\"/>\n",
              "    <path d=\"M18.56 5.44l.94 2.06.94-2.06 2.06-.94-2.06-.94-.94-2.06-.94 2.06-2.06.94zm-11 1L8.5 8.5l.94-2.06 2.06-.94-2.06-.94L8.5 2.5l-.94 2.06-2.06.94zm10 10l.94 2.06.94-2.06 2.06-.94-2.06-.94-.94-2.06-.94 2.06-2.06.94z\"/><path d=\"M17.41 7.96l-1.37-1.37c-.4-.4-.92-.59-1.43-.59-.52 0-1.04.2-1.43.59L10.3 9.45l-7.72 7.72c-.78.78-.78 2.05 0 2.83L4 21.41c.39.39.9.59 1.41.59.51 0 1.02-.2 1.41-.59l7.78-7.78 2.81-2.81c.8-.78.8-2.07 0-2.86zM5.41 20L4 18.59l7.72-7.72 1.47 1.35L5.41 20z\"/>\n",
              "  </svg>\n",
              "      </button>\n",
              "      \n",
              "  <style>\n",
              "    .colab-df-container {\n",
              "      display:flex;\n",
              "      flex-wrap:wrap;\n",
              "      gap: 12px;\n",
              "    }\n",
              "\n",
              "    .colab-df-convert {\n",
              "      background-color: #E8F0FE;\n",
              "      border: none;\n",
              "      border-radius: 50%;\n",
              "      cursor: pointer;\n",
              "      display: none;\n",
              "      fill: #1967D2;\n",
              "      height: 32px;\n",
              "      padding: 0 0 0 0;\n",
              "      width: 32px;\n",
              "    }\n",
              "\n",
              "    .colab-df-convert:hover {\n",
              "      background-color: #E2EBFA;\n",
              "      box-shadow: 0px 1px 2px rgba(60, 64, 67, 0.3), 0px 1px 3px 1px rgba(60, 64, 67, 0.15);\n",
              "      fill: #174EA6;\n",
              "    }\n",
              "\n",
              "    [theme=dark] .colab-df-convert {\n",
              "      background-color: #3B4455;\n",
              "      fill: #D2E3FC;\n",
              "    }\n",
              "\n",
              "    [theme=dark] .colab-df-convert:hover {\n",
              "      background-color: #434B5C;\n",
              "      box-shadow: 0px 1px 3px 1px rgba(0, 0, 0, 0.15);\n",
              "      filter: drop-shadow(0px 1px 2px rgba(0, 0, 0, 0.3));\n",
              "      fill: #FFFFFF;\n",
              "    }\n",
              "  </style>\n",
              "\n",
              "      <script>\n",
              "        const buttonEl =\n",
              "          document.querySelector('#df-c252d7ce-ee14-417e-b30f-6b3a4f51057d button.colab-df-convert');\n",
              "        buttonEl.style.display =\n",
              "          google.colab.kernel.accessAllowed ? 'block' : 'none';\n",
              "\n",
              "        async function convertToInteractive(key) {\n",
              "          const element = document.querySelector('#df-c252d7ce-ee14-417e-b30f-6b3a4f51057d');\n",
              "          const dataTable =\n",
              "            await google.colab.kernel.invokeFunction('convertToInteractive',\n",
              "                                                     [key], {});\n",
              "          if (!dataTable) return;\n",
              "\n",
              "          const docLinkHtml = 'Like what you see? Visit the ' +\n",
              "            '<a target=\"_blank\" href=https://colab.research.google.com/notebooks/data_table.ipynb>data table notebook</a>'\n",
              "            + ' to learn more about interactive tables.';\n",
              "          element.innerHTML = '';\n",
              "          dataTable['output_type'] = 'display_data';\n",
              "          await google.colab.output.renderOutput(dataTable, element);\n",
              "          const docLink = document.createElement('div');\n",
              "          docLink.innerHTML = docLinkHtml;\n",
              "          element.appendChild(docLink);\n",
              "        }\n",
              "      </script>\n",
              "    </div>\n",
              "  </div>\n",
              "  "
            ]
          },
          "metadata": {},
          "execution_count": 10
        }
      ],
      "source": [
        "df_train.isna().agg(['sum', 'mean']).T"
      ]
    },
    {
      "cell_type": "code",
      "execution_count": 11,
      "metadata": {
        "scrolled": true,
        "colab": {
          "base_uri": "https://localhost:8080/",
          "height": 1000
        },
        "id": "6-xZuhhHUPbU",
        "outputId": "7b1c2fce-c417-492c-e291-f7e5d0eaad3c"
      },
      "outputs": [
        {
          "output_type": "execute_result",
          "data": {
            "text/plain": [
              "                                             sum      mean\n",
              "date                                         0.0  0.000000\n",
              "primary_cleaner.input.sulfate                4.0  0.000756\n",
              "primary_cleaner.input.depressant             5.0  0.000945\n",
              "primary_cleaner.input.feed_size              0.0  0.000000\n",
              "primary_cleaner.input.xanthate               4.0  0.000756\n",
              "primary_cleaner.state.floatbank8_a_air       0.0  0.000000\n",
              "primary_cleaner.state.floatbank8_a_level     0.0  0.000000\n",
              "primary_cleaner.state.floatbank8_b_air       0.0  0.000000\n",
              "primary_cleaner.state.floatbank8_b_level     0.0  0.000000\n",
              "primary_cleaner.state.floatbank8_c_air       0.0  0.000000\n",
              "primary_cleaner.state.floatbank8_c_level     0.0  0.000000\n",
              "primary_cleaner.state.floatbank8_d_air       0.0  0.000000\n",
              "primary_cleaner.state.floatbank8_d_level     0.0  0.000000\n",
              "rougher.input.feed_ag                        0.0  0.000000\n",
              "rougher.input.feed_pb                        0.0  0.000000\n",
              "rougher.input.feed_rate                      3.0  0.000567\n",
              "rougher.input.feed_size                      1.0  0.000189\n",
              "rougher.input.feed_sol                      21.0  0.003970\n",
              "rougher.input.feed_au                        0.0  0.000000\n",
              "rougher.input.floatbank10_sulfate            5.0  0.000945\n",
              "rougher.input.floatbank10_xanthate           0.0  0.000000\n",
              "rougher.input.floatbank11_sulfate            8.0  0.001512\n",
              "rougher.input.floatbank11_xanthate          25.0  0.004726\n",
              "rougher.state.floatbank10_a_air              0.0  0.000000\n",
              "rougher.state.floatbank10_a_level            0.0  0.000000\n",
              "rougher.state.floatbank10_b_air              0.0  0.000000\n",
              "rougher.state.floatbank10_b_level            0.0  0.000000\n",
              "rougher.state.floatbank10_c_air              0.0  0.000000\n",
              "rougher.state.floatbank10_c_level            0.0  0.000000\n",
              "rougher.state.floatbank10_d_air              0.0  0.000000\n",
              "rougher.state.floatbank10_d_level            0.0  0.000000\n",
              "rougher.state.floatbank10_e_air              0.0  0.000000\n",
              "rougher.state.floatbank10_e_level            0.0  0.000000\n",
              "rougher.state.floatbank10_f_air              0.0  0.000000\n",
              "rougher.state.floatbank10_f_level            0.0  0.000000\n",
              "secondary_cleaner.state.floatbank2_a_air     3.0  0.000567\n",
              "secondary_cleaner.state.floatbank2_a_level   0.0  0.000000\n",
              "secondary_cleaner.state.floatbank2_b_air     2.0  0.000378\n",
              "secondary_cleaner.state.floatbank2_b_level   0.0  0.000000\n",
              "secondary_cleaner.state.floatbank3_a_air     9.0  0.001701\n",
              "secondary_cleaner.state.floatbank3_a_level   0.0  0.000000\n",
              "secondary_cleaner.state.floatbank3_b_air     0.0  0.000000\n",
              "secondary_cleaner.state.floatbank3_b_level   0.0  0.000000\n",
              "secondary_cleaner.state.floatbank4_a_air     0.0  0.000000\n",
              "secondary_cleaner.state.floatbank4_a_level   0.0  0.000000\n",
              "secondary_cleaner.state.floatbank4_b_air     0.0  0.000000\n",
              "secondary_cleaner.state.floatbank4_b_level   0.0  0.000000\n",
              "secondary_cleaner.state.floatbank5_a_air     0.0  0.000000\n",
              "secondary_cleaner.state.floatbank5_a_level   0.0  0.000000\n",
              "secondary_cleaner.state.floatbank5_b_air     0.0  0.000000\n",
              "secondary_cleaner.state.floatbank5_b_level   0.0  0.000000\n",
              "secondary_cleaner.state.floatbank6_a_air     0.0  0.000000\n",
              "secondary_cleaner.state.floatbank6_a_level   0.0  0.000000"
            ],
            "text/html": [
              "\n",
              "  <div id=\"df-850317c3-2e5a-468a-9884-e25aea9c47ae\">\n",
              "    <div class=\"colab-df-container\">\n",
              "      <div>\n",
              "<style scoped>\n",
              "    .dataframe tbody tr th:only-of-type {\n",
              "        vertical-align: middle;\n",
              "    }\n",
              "\n",
              "    .dataframe tbody tr th {\n",
              "        vertical-align: top;\n",
              "    }\n",
              "\n",
              "    .dataframe thead th {\n",
              "        text-align: right;\n",
              "    }\n",
              "</style>\n",
              "<table border=\"1\" class=\"dataframe\">\n",
              "  <thead>\n",
              "    <tr style=\"text-align: right;\">\n",
              "      <th></th>\n",
              "      <th>sum</th>\n",
              "      <th>mean</th>\n",
              "    </tr>\n",
              "  </thead>\n",
              "  <tbody>\n",
              "    <tr>\n",
              "      <th>date</th>\n",
              "      <td>0.0</td>\n",
              "      <td>0.000000</td>\n",
              "    </tr>\n",
              "    <tr>\n",
              "      <th>primary_cleaner.input.sulfate</th>\n",
              "      <td>4.0</td>\n",
              "      <td>0.000756</td>\n",
              "    </tr>\n",
              "    <tr>\n",
              "      <th>primary_cleaner.input.depressant</th>\n",
              "      <td>5.0</td>\n",
              "      <td>0.000945</td>\n",
              "    </tr>\n",
              "    <tr>\n",
              "      <th>primary_cleaner.input.feed_size</th>\n",
              "      <td>0.0</td>\n",
              "      <td>0.000000</td>\n",
              "    </tr>\n",
              "    <tr>\n",
              "      <th>primary_cleaner.input.xanthate</th>\n",
              "      <td>4.0</td>\n",
              "      <td>0.000756</td>\n",
              "    </tr>\n",
              "    <tr>\n",
              "      <th>primary_cleaner.state.floatbank8_a_air</th>\n",
              "      <td>0.0</td>\n",
              "      <td>0.000000</td>\n",
              "    </tr>\n",
              "    <tr>\n",
              "      <th>primary_cleaner.state.floatbank8_a_level</th>\n",
              "      <td>0.0</td>\n",
              "      <td>0.000000</td>\n",
              "    </tr>\n",
              "    <tr>\n",
              "      <th>primary_cleaner.state.floatbank8_b_air</th>\n",
              "      <td>0.0</td>\n",
              "      <td>0.000000</td>\n",
              "    </tr>\n",
              "    <tr>\n",
              "      <th>primary_cleaner.state.floatbank8_b_level</th>\n",
              "      <td>0.0</td>\n",
              "      <td>0.000000</td>\n",
              "    </tr>\n",
              "    <tr>\n",
              "      <th>primary_cleaner.state.floatbank8_c_air</th>\n",
              "      <td>0.0</td>\n",
              "      <td>0.000000</td>\n",
              "    </tr>\n",
              "    <tr>\n",
              "      <th>primary_cleaner.state.floatbank8_c_level</th>\n",
              "      <td>0.0</td>\n",
              "      <td>0.000000</td>\n",
              "    </tr>\n",
              "    <tr>\n",
              "      <th>primary_cleaner.state.floatbank8_d_air</th>\n",
              "      <td>0.0</td>\n",
              "      <td>0.000000</td>\n",
              "    </tr>\n",
              "    <tr>\n",
              "      <th>primary_cleaner.state.floatbank8_d_level</th>\n",
              "      <td>0.0</td>\n",
              "      <td>0.000000</td>\n",
              "    </tr>\n",
              "    <tr>\n",
              "      <th>rougher.input.feed_ag</th>\n",
              "      <td>0.0</td>\n",
              "      <td>0.000000</td>\n",
              "    </tr>\n",
              "    <tr>\n",
              "      <th>rougher.input.feed_pb</th>\n",
              "      <td>0.0</td>\n",
              "      <td>0.000000</td>\n",
              "    </tr>\n",
              "    <tr>\n",
              "      <th>rougher.input.feed_rate</th>\n",
              "      <td>3.0</td>\n",
              "      <td>0.000567</td>\n",
              "    </tr>\n",
              "    <tr>\n",
              "      <th>rougher.input.feed_size</th>\n",
              "      <td>1.0</td>\n",
              "      <td>0.000189</td>\n",
              "    </tr>\n",
              "    <tr>\n",
              "      <th>rougher.input.feed_sol</th>\n",
              "      <td>21.0</td>\n",
              "      <td>0.003970</td>\n",
              "    </tr>\n",
              "    <tr>\n",
              "      <th>rougher.input.feed_au</th>\n",
              "      <td>0.0</td>\n",
              "      <td>0.000000</td>\n",
              "    </tr>\n",
              "    <tr>\n",
              "      <th>rougher.input.floatbank10_sulfate</th>\n",
              "      <td>5.0</td>\n",
              "      <td>0.000945</td>\n",
              "    </tr>\n",
              "    <tr>\n",
              "      <th>rougher.input.floatbank10_xanthate</th>\n",
              "      <td>0.0</td>\n",
              "      <td>0.000000</td>\n",
              "    </tr>\n",
              "    <tr>\n",
              "      <th>rougher.input.floatbank11_sulfate</th>\n",
              "      <td>8.0</td>\n",
              "      <td>0.001512</td>\n",
              "    </tr>\n",
              "    <tr>\n",
              "      <th>rougher.input.floatbank11_xanthate</th>\n",
              "      <td>25.0</td>\n",
              "      <td>0.004726</td>\n",
              "    </tr>\n",
              "    <tr>\n",
              "      <th>rougher.state.floatbank10_a_air</th>\n",
              "      <td>0.0</td>\n",
              "      <td>0.000000</td>\n",
              "    </tr>\n",
              "    <tr>\n",
              "      <th>rougher.state.floatbank10_a_level</th>\n",
              "      <td>0.0</td>\n",
              "      <td>0.000000</td>\n",
              "    </tr>\n",
              "    <tr>\n",
              "      <th>rougher.state.floatbank10_b_air</th>\n",
              "      <td>0.0</td>\n",
              "      <td>0.000000</td>\n",
              "    </tr>\n",
              "    <tr>\n",
              "      <th>rougher.state.floatbank10_b_level</th>\n",
              "      <td>0.0</td>\n",
              "      <td>0.000000</td>\n",
              "    </tr>\n",
              "    <tr>\n",
              "      <th>rougher.state.floatbank10_c_air</th>\n",
              "      <td>0.0</td>\n",
              "      <td>0.000000</td>\n",
              "    </tr>\n",
              "    <tr>\n",
              "      <th>rougher.state.floatbank10_c_level</th>\n",
              "      <td>0.0</td>\n",
              "      <td>0.000000</td>\n",
              "    </tr>\n",
              "    <tr>\n",
              "      <th>rougher.state.floatbank10_d_air</th>\n",
              "      <td>0.0</td>\n",
              "      <td>0.000000</td>\n",
              "    </tr>\n",
              "    <tr>\n",
              "      <th>rougher.state.floatbank10_d_level</th>\n",
              "      <td>0.0</td>\n",
              "      <td>0.000000</td>\n",
              "    </tr>\n",
              "    <tr>\n",
              "      <th>rougher.state.floatbank10_e_air</th>\n",
              "      <td>0.0</td>\n",
              "      <td>0.000000</td>\n",
              "    </tr>\n",
              "    <tr>\n",
              "      <th>rougher.state.floatbank10_e_level</th>\n",
              "      <td>0.0</td>\n",
              "      <td>0.000000</td>\n",
              "    </tr>\n",
              "    <tr>\n",
              "      <th>rougher.state.floatbank10_f_air</th>\n",
              "      <td>0.0</td>\n",
              "      <td>0.000000</td>\n",
              "    </tr>\n",
              "    <tr>\n",
              "      <th>rougher.state.floatbank10_f_level</th>\n",
              "      <td>0.0</td>\n",
              "      <td>0.000000</td>\n",
              "    </tr>\n",
              "    <tr>\n",
              "      <th>secondary_cleaner.state.floatbank2_a_air</th>\n",
              "      <td>3.0</td>\n",
              "      <td>0.000567</td>\n",
              "    </tr>\n",
              "    <tr>\n",
              "      <th>secondary_cleaner.state.floatbank2_a_level</th>\n",
              "      <td>0.0</td>\n",
              "      <td>0.000000</td>\n",
              "    </tr>\n",
              "    <tr>\n",
              "      <th>secondary_cleaner.state.floatbank2_b_air</th>\n",
              "      <td>2.0</td>\n",
              "      <td>0.000378</td>\n",
              "    </tr>\n",
              "    <tr>\n",
              "      <th>secondary_cleaner.state.floatbank2_b_level</th>\n",
              "      <td>0.0</td>\n",
              "      <td>0.000000</td>\n",
              "    </tr>\n",
              "    <tr>\n",
              "      <th>secondary_cleaner.state.floatbank3_a_air</th>\n",
              "      <td>9.0</td>\n",
              "      <td>0.001701</td>\n",
              "    </tr>\n",
              "    <tr>\n",
              "      <th>secondary_cleaner.state.floatbank3_a_level</th>\n",
              "      <td>0.0</td>\n",
              "      <td>0.000000</td>\n",
              "    </tr>\n",
              "    <tr>\n",
              "      <th>secondary_cleaner.state.floatbank3_b_air</th>\n",
              "      <td>0.0</td>\n",
              "      <td>0.000000</td>\n",
              "    </tr>\n",
              "    <tr>\n",
              "      <th>secondary_cleaner.state.floatbank3_b_level</th>\n",
              "      <td>0.0</td>\n",
              "      <td>0.000000</td>\n",
              "    </tr>\n",
              "    <tr>\n",
              "      <th>secondary_cleaner.state.floatbank4_a_air</th>\n",
              "      <td>0.0</td>\n",
              "      <td>0.000000</td>\n",
              "    </tr>\n",
              "    <tr>\n",
              "      <th>secondary_cleaner.state.floatbank4_a_level</th>\n",
              "      <td>0.0</td>\n",
              "      <td>0.000000</td>\n",
              "    </tr>\n",
              "    <tr>\n",
              "      <th>secondary_cleaner.state.floatbank4_b_air</th>\n",
              "      <td>0.0</td>\n",
              "      <td>0.000000</td>\n",
              "    </tr>\n",
              "    <tr>\n",
              "      <th>secondary_cleaner.state.floatbank4_b_level</th>\n",
              "      <td>0.0</td>\n",
              "      <td>0.000000</td>\n",
              "    </tr>\n",
              "    <tr>\n",
              "      <th>secondary_cleaner.state.floatbank5_a_air</th>\n",
              "      <td>0.0</td>\n",
              "      <td>0.000000</td>\n",
              "    </tr>\n",
              "    <tr>\n",
              "      <th>secondary_cleaner.state.floatbank5_a_level</th>\n",
              "      <td>0.0</td>\n",
              "      <td>0.000000</td>\n",
              "    </tr>\n",
              "    <tr>\n",
              "      <th>secondary_cleaner.state.floatbank5_b_air</th>\n",
              "      <td>0.0</td>\n",
              "      <td>0.000000</td>\n",
              "    </tr>\n",
              "    <tr>\n",
              "      <th>secondary_cleaner.state.floatbank5_b_level</th>\n",
              "      <td>0.0</td>\n",
              "      <td>0.000000</td>\n",
              "    </tr>\n",
              "    <tr>\n",
              "      <th>secondary_cleaner.state.floatbank6_a_air</th>\n",
              "      <td>0.0</td>\n",
              "      <td>0.000000</td>\n",
              "    </tr>\n",
              "    <tr>\n",
              "      <th>secondary_cleaner.state.floatbank6_a_level</th>\n",
              "      <td>0.0</td>\n",
              "      <td>0.000000</td>\n",
              "    </tr>\n",
              "  </tbody>\n",
              "</table>\n",
              "</div>\n",
              "      <button class=\"colab-df-convert\" onclick=\"convertToInteractive('df-850317c3-2e5a-468a-9884-e25aea9c47ae')\"\n",
              "              title=\"Convert this dataframe to an interactive table.\"\n",
              "              style=\"display:none;\">\n",
              "        \n",
              "  <svg xmlns=\"http://www.w3.org/2000/svg\" height=\"24px\"viewBox=\"0 0 24 24\"\n",
              "       width=\"24px\">\n",
              "    <path d=\"M0 0h24v24H0V0z\" fill=\"none\"/>\n",
              "    <path d=\"M18.56 5.44l.94 2.06.94-2.06 2.06-.94-2.06-.94-.94-2.06-.94 2.06-2.06.94zm-11 1L8.5 8.5l.94-2.06 2.06-.94-2.06-.94L8.5 2.5l-.94 2.06-2.06.94zm10 10l.94 2.06.94-2.06 2.06-.94-2.06-.94-.94-2.06-.94 2.06-2.06.94z\"/><path d=\"M17.41 7.96l-1.37-1.37c-.4-.4-.92-.59-1.43-.59-.52 0-1.04.2-1.43.59L10.3 9.45l-7.72 7.72c-.78.78-.78 2.05 0 2.83L4 21.41c.39.39.9.59 1.41.59.51 0 1.02-.2 1.41-.59l7.78-7.78 2.81-2.81c.8-.78.8-2.07 0-2.86zM5.41 20L4 18.59l7.72-7.72 1.47 1.35L5.41 20z\"/>\n",
              "  </svg>\n",
              "      </button>\n",
              "      \n",
              "  <style>\n",
              "    .colab-df-container {\n",
              "      display:flex;\n",
              "      flex-wrap:wrap;\n",
              "      gap: 12px;\n",
              "    }\n",
              "\n",
              "    .colab-df-convert {\n",
              "      background-color: #E8F0FE;\n",
              "      border: none;\n",
              "      border-radius: 50%;\n",
              "      cursor: pointer;\n",
              "      display: none;\n",
              "      fill: #1967D2;\n",
              "      height: 32px;\n",
              "      padding: 0 0 0 0;\n",
              "      width: 32px;\n",
              "    }\n",
              "\n",
              "    .colab-df-convert:hover {\n",
              "      background-color: #E2EBFA;\n",
              "      box-shadow: 0px 1px 2px rgba(60, 64, 67, 0.3), 0px 1px 3px 1px rgba(60, 64, 67, 0.15);\n",
              "      fill: #174EA6;\n",
              "    }\n",
              "\n",
              "    [theme=dark] .colab-df-convert {\n",
              "      background-color: #3B4455;\n",
              "      fill: #D2E3FC;\n",
              "    }\n",
              "\n",
              "    [theme=dark] .colab-df-convert:hover {\n",
              "      background-color: #434B5C;\n",
              "      box-shadow: 0px 1px 3px 1px rgba(0, 0, 0, 0.15);\n",
              "      filter: drop-shadow(0px 1px 2px rgba(0, 0, 0, 0.3));\n",
              "      fill: #FFFFFF;\n",
              "    }\n",
              "  </style>\n",
              "\n",
              "      <script>\n",
              "        const buttonEl =\n",
              "          document.querySelector('#df-850317c3-2e5a-468a-9884-e25aea9c47ae button.colab-df-convert');\n",
              "        buttonEl.style.display =\n",
              "          google.colab.kernel.accessAllowed ? 'block' : 'none';\n",
              "\n",
              "        async function convertToInteractive(key) {\n",
              "          const element = document.querySelector('#df-850317c3-2e5a-468a-9884-e25aea9c47ae');\n",
              "          const dataTable =\n",
              "            await google.colab.kernel.invokeFunction('convertToInteractive',\n",
              "                                                     [key], {});\n",
              "          if (!dataTable) return;\n",
              "\n",
              "          const docLinkHtml = 'Like what you see? Visit the ' +\n",
              "            '<a target=\"_blank\" href=https://colab.research.google.com/notebooks/data_table.ipynb>data table notebook</a>'\n",
              "            + ' to learn more about interactive tables.';\n",
              "          element.innerHTML = '';\n",
              "          dataTable['output_type'] = 'display_data';\n",
              "          await google.colab.output.renderOutput(dataTable, element);\n",
              "          const docLink = document.createElement('div');\n",
              "          docLink.innerHTML = docLinkHtml;\n",
              "          element.appendChild(docLink);\n",
              "        }\n",
              "      </script>\n",
              "    </div>\n",
              "  </div>\n",
              "  "
            ]
          },
          "metadata": {},
          "execution_count": 11
        }
      ],
      "source": [
        "df_test.isna().agg(['sum', 'mean']).T"
      ]
    },
    {
      "cell_type": "markdown",
      "metadata": {
        "id": "DVqayP_oUPbU"
      },
      "source": [
        "Пропусков практически нет в двух таблицах, за ислючением 11% в столбце `secondary_cleaner.output.tail_sol` в таблице **train**. Чуть позже разберемся в их причине и попробуем исправить. Посмотрим на количество дубликатов."
      ]
    },
    {
      "cell_type": "code",
      "execution_count": 12,
      "metadata": {
        "colab": {
          "base_uri": "https://localhost:8080/",
          "height": 52
        },
        "id": "v39gglobUPbU",
        "outputId": "56e56d66-77ca-4424-fc5f-c58fbc8fe8ff"
      },
      "outputs": [
        {
          "output_type": "display_data",
          "data": {
            "text/plain": [
              "0"
            ]
          },
          "metadata": {}
        },
        {
          "output_type": "display_data",
          "data": {
            "text/plain": [
              "0"
            ]
          },
          "metadata": {}
        }
      ],
      "source": [
        "display(df_train.duplicated().sum())\n",
        "display(df_test.duplicated().sum())"
      ]
    },
    {
      "cell_type": "markdown",
      "metadata": {
        "id": "YH5DFr3yUPbV"
      },
      "source": [
        "Их нет. Двигаемся дальше."
      ]
    },
    {
      "cell_type": "markdown",
      "metadata": {
        "id": "mvMORJmXUPbV"
      },
      "source": [
        "### Провка расчета эффективности обогащения"
      ]
    },
    {
      "cell_type": "markdown",
      "metadata": {
        "id": "h-S6KLEtUPbV"
      },
      "source": [
        "Сделаем расчет эффективности обогащения руд и сравним их с уже рассчитаной эффективностью, посчитаем ошибку MAE."
      ]
    },
    {
      "cell_type": "markdown",
      "metadata": {
        "id": "4W8kNSNnUPbW"
      },
      "source": [
        "Эффективность считается по формуле:\n",
        "\n",
        "$$RECOVERY = \\frac{C*(F-T)}{F*(C-T)}*100\\%,$$\n",
        "где:\n",
        "* C — доля золота в концентрате после флотации/очистки;\n",
        "* F — доля золота в сырье/концентрате до флотации/очистки;\n",
        "* T — доля золота в отвальных хвостах после флотации/очистки."
      ]
    },
    {
      "cell_type": "code",
      "execution_count": 13,
      "metadata": {
        "id": "rMFL7yGTUPbW"
      },
      "outputs": [],
      "source": [
        "df_train['rougher.output.recovery_calc'] = (\n",
        "                                            (df_train['rougher.output.concentrate_au']*(df_train['rougher.input.feed_au']-df_train['rougher.output.tail_au']))/\n",
        "                                            (df_train['rougher.input.feed_au']*(df_train['rougher.output.concentrate_au']-df_train['rougher.output.tail_au']))*\n",
        "                                            100\n",
        "                                           )"
      ]
    },
    {
      "cell_type": "code",
      "execution_count": 14,
      "metadata": {
        "colab": {
          "base_uri": "https://localhost:8080/",
          "height": 206
        },
        "id": "SZ-RgV0oUPbW",
        "outputId": "30ad40e8-0809-438d-942b-d7548201143e"
      },
      "outputs": [
        {
          "output_type": "execute_result",
          "data": {
            "text/plain": [
              "   rougher.output.recovery_calc  rougher.output.recovery\n",
              "0                     87.107763                87.107763\n",
              "1                     86.843261                86.843261\n",
              "2                     86.842308                86.842308\n",
              "3                     87.226430                87.226430\n",
              "4                     86.688794                86.688794"
            ],
            "text/html": [
              "\n",
              "  <div id=\"df-e0066557-b710-4e8e-a166-5915fe4f3d93\">\n",
              "    <div class=\"colab-df-container\">\n",
              "      <div>\n",
              "<style scoped>\n",
              "    .dataframe tbody tr th:only-of-type {\n",
              "        vertical-align: middle;\n",
              "    }\n",
              "\n",
              "    .dataframe tbody tr th {\n",
              "        vertical-align: top;\n",
              "    }\n",
              "\n",
              "    .dataframe thead th {\n",
              "        text-align: right;\n",
              "    }\n",
              "</style>\n",
              "<table border=\"1\" class=\"dataframe\">\n",
              "  <thead>\n",
              "    <tr style=\"text-align: right;\">\n",
              "      <th></th>\n",
              "      <th>rougher.output.recovery_calc</th>\n",
              "      <th>rougher.output.recovery</th>\n",
              "    </tr>\n",
              "  </thead>\n",
              "  <tbody>\n",
              "    <tr>\n",
              "      <th>0</th>\n",
              "      <td>87.107763</td>\n",
              "      <td>87.107763</td>\n",
              "    </tr>\n",
              "    <tr>\n",
              "      <th>1</th>\n",
              "      <td>86.843261</td>\n",
              "      <td>86.843261</td>\n",
              "    </tr>\n",
              "    <tr>\n",
              "      <th>2</th>\n",
              "      <td>86.842308</td>\n",
              "      <td>86.842308</td>\n",
              "    </tr>\n",
              "    <tr>\n",
              "      <th>3</th>\n",
              "      <td>87.226430</td>\n",
              "      <td>87.226430</td>\n",
              "    </tr>\n",
              "    <tr>\n",
              "      <th>4</th>\n",
              "      <td>86.688794</td>\n",
              "      <td>86.688794</td>\n",
              "    </tr>\n",
              "  </tbody>\n",
              "</table>\n",
              "</div>\n",
              "      <button class=\"colab-df-convert\" onclick=\"convertToInteractive('df-e0066557-b710-4e8e-a166-5915fe4f3d93')\"\n",
              "              title=\"Convert this dataframe to an interactive table.\"\n",
              "              style=\"display:none;\">\n",
              "        \n",
              "  <svg xmlns=\"http://www.w3.org/2000/svg\" height=\"24px\"viewBox=\"0 0 24 24\"\n",
              "       width=\"24px\">\n",
              "    <path d=\"M0 0h24v24H0V0z\" fill=\"none\"/>\n",
              "    <path d=\"M18.56 5.44l.94 2.06.94-2.06 2.06-.94-2.06-.94-.94-2.06-.94 2.06-2.06.94zm-11 1L8.5 8.5l.94-2.06 2.06-.94-2.06-.94L8.5 2.5l-.94 2.06-2.06.94zm10 10l.94 2.06.94-2.06 2.06-.94-2.06-.94-.94-2.06-.94 2.06-2.06.94z\"/><path d=\"M17.41 7.96l-1.37-1.37c-.4-.4-.92-.59-1.43-.59-.52 0-1.04.2-1.43.59L10.3 9.45l-7.72 7.72c-.78.78-.78 2.05 0 2.83L4 21.41c.39.39.9.59 1.41.59.51 0 1.02-.2 1.41-.59l7.78-7.78 2.81-2.81c.8-.78.8-2.07 0-2.86zM5.41 20L4 18.59l7.72-7.72 1.47 1.35L5.41 20z\"/>\n",
              "  </svg>\n",
              "      </button>\n",
              "      \n",
              "  <style>\n",
              "    .colab-df-container {\n",
              "      display:flex;\n",
              "      flex-wrap:wrap;\n",
              "      gap: 12px;\n",
              "    }\n",
              "\n",
              "    .colab-df-convert {\n",
              "      background-color: #E8F0FE;\n",
              "      border: none;\n",
              "      border-radius: 50%;\n",
              "      cursor: pointer;\n",
              "      display: none;\n",
              "      fill: #1967D2;\n",
              "      height: 32px;\n",
              "      padding: 0 0 0 0;\n",
              "      width: 32px;\n",
              "    }\n",
              "\n",
              "    .colab-df-convert:hover {\n",
              "      background-color: #E2EBFA;\n",
              "      box-shadow: 0px 1px 2px rgba(60, 64, 67, 0.3), 0px 1px 3px 1px rgba(60, 64, 67, 0.15);\n",
              "      fill: #174EA6;\n",
              "    }\n",
              "\n",
              "    [theme=dark] .colab-df-convert {\n",
              "      background-color: #3B4455;\n",
              "      fill: #D2E3FC;\n",
              "    }\n",
              "\n",
              "    [theme=dark] .colab-df-convert:hover {\n",
              "      background-color: #434B5C;\n",
              "      box-shadow: 0px 1px 3px 1px rgba(0, 0, 0, 0.15);\n",
              "      filter: drop-shadow(0px 1px 2px rgba(0, 0, 0, 0.3));\n",
              "      fill: #FFFFFF;\n",
              "    }\n",
              "  </style>\n",
              "\n",
              "      <script>\n",
              "        const buttonEl =\n",
              "          document.querySelector('#df-e0066557-b710-4e8e-a166-5915fe4f3d93 button.colab-df-convert');\n",
              "        buttonEl.style.display =\n",
              "          google.colab.kernel.accessAllowed ? 'block' : 'none';\n",
              "\n",
              "        async function convertToInteractive(key) {\n",
              "          const element = document.querySelector('#df-e0066557-b710-4e8e-a166-5915fe4f3d93');\n",
              "          const dataTable =\n",
              "            await google.colab.kernel.invokeFunction('convertToInteractive',\n",
              "                                                     [key], {});\n",
              "          if (!dataTable) return;\n",
              "\n",
              "          const docLinkHtml = 'Like what you see? Visit the ' +\n",
              "            '<a target=\"_blank\" href=https://colab.research.google.com/notebooks/data_table.ipynb>data table notebook</a>'\n",
              "            + ' to learn more about interactive tables.';\n",
              "          element.innerHTML = '';\n",
              "          dataTable['output_type'] = 'display_data';\n",
              "          await google.colab.output.renderOutput(dataTable, element);\n",
              "          const docLink = document.createElement('div');\n",
              "          docLink.innerHTML = docLinkHtml;\n",
              "          element.appendChild(docLink);\n",
              "        }\n",
              "      </script>\n",
              "    </div>\n",
              "  </div>\n",
              "  "
            ]
          },
          "metadata": {},
          "execution_count": 14
        }
      ],
      "source": [
        "df_train[['rougher.output.recovery_calc', 'rougher.output.recovery']].head()"
      ]
    },
    {
      "cell_type": "markdown",
      "metadata": {
        "id": "sEpVzSstUPbX"
      },
      "source": [
        "Расчет ошибки MAE:"
      ]
    },
    {
      "cell_type": "code",
      "execution_count": 15,
      "metadata": {
        "colab": {
          "base_uri": "https://localhost:8080/"
        },
        "id": "1C7WK2vfUPbX",
        "outputId": "aa07cef1-ff04-4cf9-c80b-bc1c14c0bed3"
      },
      "outputs": [
        {
          "output_type": "stream",
          "name": "stdout",
          "text": [
            "Ошибка составляет = 0.0 или 0.0 % от средней величины\n"
          ]
        }
      ],
      "source": [
        "recovery_mae = mean_absolute_error(df_train['rougher.output.recovery'], df_train['rougher.output.recovery_calc'])\n",
        "print('Ошибка составляет =', round(recovery_mae, 2), 'или', \n",
        "      round(recovery_mae/df_train['rougher.output.recovery'].mean()*100, 2), '% от средней величины')"
      ]
    },
    {
      "cell_type": "markdown",
      "metadata": {
        "id": "LooJHIwVUPbY"
      },
      "source": [
        "### Анализ недоступных признаков в тестовой выборке. "
      ]
    },
    {
      "cell_type": "markdown",
      "metadata": {
        "id": "iD8m0hHQUPbY"
      },
      "source": [
        "Теперь более тщательно посмотрим на разницу исходных таблиц"
      ]
    },
    {
      "cell_type": "code",
      "execution_count": 16,
      "metadata": {
        "colab": {
          "base_uri": "https://localhost:8080/"
        },
        "id": "kQ0YvpHFUPbY",
        "outputId": "411a8a84-73d2-4d8f-94f1-1b6d079eb4f2"
      },
      "outputs": [
        {
          "output_type": "execute_result",
          "data": {
            "text/plain": [
              "['final.output.concentrate_ag',\n",
              " 'final.output.concentrate_pb',\n",
              " 'final.output.concentrate_sol',\n",
              " 'final.output.concentrate_au',\n",
              " 'final.output.recovery',\n",
              " 'final.output.tail_ag',\n",
              " 'final.output.tail_pb',\n",
              " 'final.output.tail_sol',\n",
              " 'final.output.tail_au',\n",
              " 'primary_cleaner.output.concentrate_ag',\n",
              " 'primary_cleaner.output.concentrate_pb',\n",
              " 'primary_cleaner.output.concentrate_sol',\n",
              " 'primary_cleaner.output.concentrate_au',\n",
              " 'primary_cleaner.output.tail_ag',\n",
              " 'primary_cleaner.output.tail_pb',\n",
              " 'primary_cleaner.output.tail_sol',\n",
              " 'primary_cleaner.output.tail_au',\n",
              " 'rougher.calculation.sulfate_to_au_concentrate',\n",
              " 'rougher.calculation.floatbank10_sulfate_to_au_feed',\n",
              " 'rougher.calculation.floatbank11_sulfate_to_au_feed',\n",
              " 'rougher.calculation.au_pb_ratio',\n",
              " 'rougher.output.concentrate_ag',\n",
              " 'rougher.output.concentrate_pb',\n",
              " 'rougher.output.concentrate_sol',\n",
              " 'rougher.output.concentrate_au',\n",
              " 'rougher.output.recovery',\n",
              " 'rougher.output.tail_ag',\n",
              " 'rougher.output.tail_pb',\n",
              " 'rougher.output.tail_sol',\n",
              " 'rougher.output.tail_au',\n",
              " 'secondary_cleaner.output.tail_ag',\n",
              " 'secondary_cleaner.output.tail_pb',\n",
              " 'secondary_cleaner.output.tail_sol',\n",
              " 'secondary_cleaner.output.tail_au']"
            ]
          },
          "metadata": {},
          "execution_count": 16
        }
      ],
      "source": [
        "dif"
      ]
    },
    {
      "cell_type": "markdown",
      "metadata": {
        "id": "5fBUp-yKUPbY"
      },
      "source": [
        "Если не брать в расчет столбцы, которые надо предсказать, то остальные столбцы по всей видимости заполняются после их анализа в лаборатории предприятия."
      ]
    },
    {
      "cell_type": "markdown",
      "metadata": {
        "id": "DLo9egznUPbZ"
      },
      "source": [
        "### Предобработка данных"
      ]
    },
    {
      "cell_type": "markdown",
      "metadata": {
        "id": "4k3vPkkEUPbZ"
      },
      "source": [
        "Сначала изменим форматы даты в трех таблицах"
      ]
    },
    {
      "cell_type": "code",
      "execution_count": 17,
      "metadata": {
        "id": "T6PXYeUzUPbZ"
      },
      "outputs": [],
      "source": [
        "df_train['date'] = pd.to_datetime(df_train['date'], format='%Y.%m.%d %H:%M:%S')\n",
        "df_test['date'] = pd.to_datetime(df_test['date'], format='%Y.%m.%d %H:%M:%S')\n",
        "df_full['date'] = pd.to_datetime(df_full['date'], format='%Y.%m.%d %H:%M:%S') # тоже изменяем,позже пригодится"
      ]
    },
    {
      "cell_type": "code",
      "execution_count": 18,
      "metadata": {
        "scrolled": true,
        "colab": {
          "base_uri": "https://localhost:8080/"
        },
        "id": "Bm3ON9uOUPbZ",
        "outputId": "78debe1f-dec6-4be5-8682-50ebc11e5e45"
      },
      "outputs": [
        {
          "output_type": "stream",
          "name": "stdout",
          "text": [
            "<class 'pandas.core.frame.DataFrame'>\n",
            "RangeIndex: 14149 entries, 0 to 14148\n",
            "Data columns (total 88 columns):\n",
            " #   Column                                              Non-Null Count  Dtype         \n",
            "---  ------                                              --------------  -----         \n",
            " 0   date                                                14149 non-null  datetime64[ns]\n",
            " 1   final.output.concentrate_ag                         14148 non-null  float64       \n",
            " 2   final.output.concentrate_pb                         14148 non-null  float64       \n",
            " 3   final.output.concentrate_sol                        13938 non-null  float64       \n",
            " 4   final.output.concentrate_au                         14149 non-null  float64       \n",
            " 5   final.output.recovery                               14149 non-null  float64       \n",
            " 6   final.output.tail_ag                                14149 non-null  float64       \n",
            " 7   final.output.tail_pb                                14049 non-null  float64       \n",
            " 8   final.output.tail_sol                               14144 non-null  float64       \n",
            " 9   final.output.tail_au                                14149 non-null  float64       \n",
            " 10  primary_cleaner.input.sulfate                       14129 non-null  float64       \n",
            " 11  primary_cleaner.input.depressant                    14117 non-null  float64       \n",
            " 12  primary_cleaner.input.feed_size                     14149 non-null  float64       \n",
            " 13  primary_cleaner.input.xanthate                      14049 non-null  float64       \n",
            " 14  primary_cleaner.output.concentrate_ag               14149 non-null  float64       \n",
            " 15  primary_cleaner.output.concentrate_pb               14063 non-null  float64       \n",
            " 16  primary_cleaner.output.concentrate_sol              13863 non-null  float64       \n",
            " 17  primary_cleaner.output.concentrate_au               14149 non-null  float64       \n",
            " 18  primary_cleaner.output.tail_ag                      14148 non-null  float64       \n",
            " 19  primary_cleaner.output.tail_pb                      14134 non-null  float64       \n",
            " 20  primary_cleaner.output.tail_sol                     14103 non-null  float64       \n",
            " 21  primary_cleaner.output.tail_au                      14149 non-null  float64       \n",
            " 22  primary_cleaner.state.floatbank8_a_air              14145 non-null  float64       \n",
            " 23  primary_cleaner.state.floatbank8_a_level            14148 non-null  float64       \n",
            " 24  primary_cleaner.state.floatbank8_b_air              14145 non-null  float64       \n",
            " 25  primary_cleaner.state.floatbank8_b_level            14148 non-null  float64       \n",
            " 26  primary_cleaner.state.floatbank8_c_air              14147 non-null  float64       \n",
            " 27  primary_cleaner.state.floatbank8_c_level            14148 non-null  float64       \n",
            " 28  primary_cleaner.state.floatbank8_d_air              14146 non-null  float64       \n",
            " 29  primary_cleaner.state.floatbank8_d_level            14148 non-null  float64       \n",
            " 30  rougher.calculation.sulfate_to_au_concentrate       14148 non-null  float64       \n",
            " 31  rougher.calculation.floatbank10_sulfate_to_au_feed  14148 non-null  float64       \n",
            " 32  rougher.calculation.floatbank11_sulfate_to_au_feed  14148 non-null  float64       \n",
            " 33  rougher.calculation.au_pb_ratio                     14149 non-null  float64       \n",
            " 34  rougher.input.feed_ag                               14149 non-null  float64       \n",
            " 35  rougher.input.feed_pb                               14049 non-null  float64       \n",
            " 36  rougher.input.feed_rate                             14141 non-null  float64       \n",
            " 37  rougher.input.feed_size                             14005 non-null  float64       \n",
            " 38  rougher.input.feed_sol                              14071 non-null  float64       \n",
            " 39  rougher.input.feed_au                               14149 non-null  float64       \n",
            " 40  rougher.input.floatbank10_sulfate                   14120 non-null  float64       \n",
            " 41  rougher.input.floatbank10_xanthate                  14141 non-null  float64       \n",
            " 42  rougher.input.floatbank11_sulfate                   14113 non-null  float64       \n",
            " 43  rougher.input.floatbank11_xanthate                  13721 non-null  float64       \n",
            " 44  rougher.output.concentrate_ag                       14149 non-null  float64       \n",
            " 45  rougher.output.concentrate_pb                       14149 non-null  float64       \n",
            " 46  rougher.output.concentrate_sol                      14127 non-null  float64       \n",
            " 47  rougher.output.concentrate_au                       14149 non-null  float64       \n",
            " 48  rougher.output.recovery                             14149 non-null  float64       \n",
            " 49  rougher.output.tail_ag                              14148 non-null  float64       \n",
            " 50  rougher.output.tail_pb                              14149 non-null  float64       \n",
            " 51  rougher.output.tail_sol                             14149 non-null  float64       \n",
            " 52  rougher.output.tail_au                              14149 non-null  float64       \n",
            " 53  rougher.state.floatbank10_a_air                     14148 non-null  float64       \n",
            " 54  rougher.state.floatbank10_a_level                   14148 non-null  float64       \n",
            " 55  rougher.state.floatbank10_b_air                     14148 non-null  float64       \n",
            " 56  rougher.state.floatbank10_b_level                   14148 non-null  float64       \n",
            " 57  rougher.state.floatbank10_c_air                     14148 non-null  float64       \n",
            " 58  rougher.state.floatbank10_c_level                   14148 non-null  float64       \n",
            " 59  rougher.state.floatbank10_d_air                     14149 non-null  float64       \n",
            " 60  rougher.state.floatbank10_d_level                   14149 non-null  float64       \n",
            " 61  rougher.state.floatbank10_e_air                     13713 non-null  float64       \n",
            " 62  rougher.state.floatbank10_e_level                   14149 non-null  float64       \n",
            " 63  rougher.state.floatbank10_f_air                     14149 non-null  float64       \n",
            " 64  rougher.state.floatbank10_f_level                   14149 non-null  float64       \n",
            " 65  secondary_cleaner.output.tail_ag                    14147 non-null  float64       \n",
            " 66  secondary_cleaner.output.tail_pb                    14139 non-null  float64       \n",
            " 67  secondary_cleaner.output.tail_sol                   12544 non-null  float64       \n",
            " 68  secondary_cleaner.output.tail_au                    14149 non-null  float64       \n",
            " 69  secondary_cleaner.state.floatbank2_a_air            13932 non-null  float64       \n",
            " 70  secondary_cleaner.state.floatbank2_a_level          14148 non-null  float64       \n",
            " 71  secondary_cleaner.state.floatbank2_b_air            14128 non-null  float64       \n",
            " 72  secondary_cleaner.state.floatbank2_b_level          14148 non-null  float64       \n",
            " 73  secondary_cleaner.state.floatbank3_a_air            14145 non-null  float64       \n",
            " 74  secondary_cleaner.state.floatbank3_a_level          14148 non-null  float64       \n",
            " 75  secondary_cleaner.state.floatbank3_b_air            14148 non-null  float64       \n",
            " 76  secondary_cleaner.state.floatbank3_b_level          14148 non-null  float64       \n",
            " 77  secondary_cleaner.state.floatbank4_a_air            14143 non-null  float64       \n",
            " 78  secondary_cleaner.state.floatbank4_a_level          14148 non-null  float64       \n",
            " 79  secondary_cleaner.state.floatbank4_b_air            14148 non-null  float64       \n",
            " 80  secondary_cleaner.state.floatbank4_b_level          14148 non-null  float64       \n",
            " 81  secondary_cleaner.state.floatbank5_a_air            14148 non-null  float64       \n",
            " 82  secondary_cleaner.state.floatbank5_a_level          14148 non-null  float64       \n",
            " 83  secondary_cleaner.state.floatbank5_b_air            14148 non-null  float64       \n",
            " 84  secondary_cleaner.state.floatbank5_b_level          14148 non-null  float64       \n",
            " 85  secondary_cleaner.state.floatbank6_a_air            14147 non-null  float64       \n",
            " 86  secondary_cleaner.state.floatbank6_a_level          14148 non-null  float64       \n",
            " 87  rougher.output.recovery_calc                        14149 non-null  float64       \n",
            "dtypes: datetime64[ns](1), float64(87)\n",
            "memory usage: 9.5 MB\n"
          ]
        }
      ],
      "source": [
        "df_train.info()"
      ]
    },
    {
      "cell_type": "markdown",
      "metadata": {
        "id": "sGat90cMUPba"
      },
      "source": [
        "---"
      ]
    },
    {
      "cell_type": "markdown",
      "metadata": {
        "id": "vVNGlwsvUPba"
      },
      "source": [
        "#### df_train"
      ]
    },
    {
      "cell_type": "markdown",
      "metadata": {
        "id": "B6x98zbgUPba"
      },
      "source": [
        "Попробуем исправить пропуски, для столбцов таргетов удалим все пропуски, потому что неважно чем мы их заполним, это отрицательно повлияет на обучение модели и способность предсказывать (на мой взгляд). Так же удалим все 0 значения в данных столбцах, так как такого быть не может и это ошибка ввода оператором."
      ]
    },
    {
      "cell_type": "code",
      "execution_count": 19,
      "metadata": {
        "id": "HQSuxKtrUPba"
      },
      "outputs": [],
      "source": [
        "list_final = ['final.output.concentrate_ag', 'final.output.concentrate_pb',\n",
        "       'final.output.concentrate_sol', 'final.output.concentrate_au',\n",
        "       'final.output.recovery', 'final.output.tail_ag', 'final.output.tail_pb',\n",
        "       'final.output.tail_sol', 'final.output.tail_au']"
      ]
    },
    {
      "cell_type": "code",
      "execution_count": 20,
      "metadata": {
        "id": "FMELJG8WUPbb"
      },
      "outputs": [],
      "source": [
        "list_to_delete = []\n",
        "list_to_delete1 = []\n",
        "for x in list_final:\n",
        "    list_to_delete += (df_train[df_train[x].isna()].index.to_list())  #список для удаления пропусков\n",
        "    list_to_delete1 += (df_train[df_train[x] == 0].index.to_list())   #список для удаления 0 значений\n",
        "list_to_delete = set(list_to_delete + list_to_delete1) #исключаем повторы"
      ]
    },
    {
      "cell_type": "code",
      "execution_count": 21,
      "metadata": {
        "id": "dEgv8Z-5UPbb"
      },
      "outputs": [],
      "source": [
        "df_train = df_train.drop(index=list_to_delete)"
      ]
    },
    {
      "cell_type": "markdown",
      "metadata": {
        "id": "ZM_iuPYJUPbb"
      },
      "source": [
        "Проверим другие пропуски"
      ]
    },
    {
      "cell_type": "code",
      "execution_count": 22,
      "metadata": {
        "colab": {
          "base_uri": "https://localhost:8080/",
          "height": 1000
        },
        "id": "AAYbtRw0UPbb",
        "outputId": "afe15975-2d69-498f-9cbe-896a90eda4cd"
      },
      "outputs": [
        {
          "output_type": "execute_result",
          "data": {
            "text/plain": [
              "                                                       sum      mean\n",
              "date                                                   0.0  0.000000\n",
              "final.output.concentrate_ag                            0.0  0.000000\n",
              "final.output.concentrate_pb                            0.0  0.000000\n",
              "final.output.concentrate_sol                           0.0  0.000000\n",
              "final.output.concentrate_au                            0.0  0.000000\n",
              "final.output.recovery                                  0.0  0.000000\n",
              "final.output.tail_ag                                   0.0  0.000000\n",
              "final.output.tail_pb                                   0.0  0.000000\n",
              "final.output.tail_sol                                  0.0  0.000000\n",
              "final.output.tail_au                                   0.0  0.000000\n",
              "primary_cleaner.input.sulfate                          6.0  0.000438\n",
              "primary_cleaner.input.depressant                      11.0  0.000803\n",
              "primary_cleaner.input.feed_size                        0.0  0.000000\n",
              "primary_cleaner.input.xanthate                        88.0  0.006423\n",
              "primary_cleaner.output.concentrate_ag                  0.0  0.000000\n",
              "primary_cleaner.output.concentrate_pb                 54.0  0.003942\n",
              "primary_cleaner.output.concentrate_sol               229.0  0.016715\n",
              "primary_cleaner.output.concentrate_au                  0.0  0.000000\n",
              "primary_cleaner.output.tail_ag                         1.0  0.000073\n",
              "primary_cleaner.output.tail_pb                        15.0  0.001095\n",
              "primary_cleaner.output.tail_sol                       33.0  0.002409\n",
              "primary_cleaner.output.tail_au                         0.0  0.000000\n",
              "primary_cleaner.state.floatbank8_a_air                 2.0  0.000146\n",
              "primary_cleaner.state.floatbank8_a_level               1.0  0.000073\n",
              "primary_cleaner.state.floatbank8_b_air                 2.0  0.000146\n",
              "primary_cleaner.state.floatbank8_b_level               1.0  0.000073\n",
              "primary_cleaner.state.floatbank8_c_air                 2.0  0.000146\n",
              "primary_cleaner.state.floatbank8_c_level               1.0  0.000073\n",
              "primary_cleaner.state.floatbank8_d_air                 3.0  0.000219\n",
              "primary_cleaner.state.floatbank8_d_level               1.0  0.000073\n",
              "rougher.calculation.sulfate_to_au_concentrate          1.0  0.000073\n",
              "rougher.calculation.floatbank10_sulfate_to_au_feed     1.0  0.000073\n",
              "rougher.calculation.floatbank11_sulfate_to_au_feed     1.0  0.000073\n",
              "rougher.calculation.au_pb_ratio                        0.0  0.000000\n",
              "rougher.input.feed_ag                                  0.0  0.000000\n",
              "rougher.input.feed_pb                                 11.0  0.000803\n",
              "rougher.input.feed_rate                                8.0  0.000584\n",
              "rougher.input.feed_size                              137.0  0.010000\n",
              "rougher.input.feed_sol                                51.0  0.003723\n",
              "rougher.input.feed_au                                  0.0  0.000000\n",
              "rougher.input.floatbank10_sulfate                     19.0  0.001387\n",
              "rougher.input.floatbank10_xanthate                     3.0  0.000219\n",
              "rougher.input.floatbank11_sulfate                     35.0  0.002555\n",
              "rougher.input.floatbank11_xanthate                   396.0  0.028905\n",
              "rougher.output.concentrate_ag                          0.0  0.000000\n",
              "rougher.output.concentrate_pb                          0.0  0.000000\n",
              "rougher.output.concentrate_sol                        19.0  0.001387\n",
              "rougher.output.concentrate_au                          0.0  0.000000\n",
              "rougher.output.recovery                                0.0  0.000000\n",
              "rougher.output.tail_ag                                 1.0  0.000073\n",
              "rougher.output.tail_pb                                 0.0  0.000000\n",
              "rougher.output.tail_sol                                0.0  0.000000\n",
              "rougher.output.tail_au                                 0.0  0.000000\n",
              "rougher.state.floatbank10_a_air                        1.0  0.000073\n",
              "rougher.state.floatbank10_a_level                      1.0  0.000073\n",
              "rougher.state.floatbank10_b_air                        1.0  0.000073\n",
              "rougher.state.floatbank10_b_level                      1.0  0.000073\n",
              "rougher.state.floatbank10_c_air                        1.0  0.000073\n",
              "rougher.state.floatbank10_c_level                      1.0  0.000073\n",
              "rougher.state.floatbank10_d_air                        0.0  0.000000\n",
              "rougher.state.floatbank10_d_level                      0.0  0.000000\n",
              "rougher.state.floatbank10_e_air                      429.0  0.031314\n",
              "rougher.state.floatbank10_e_level                      0.0  0.000000\n",
              "rougher.state.floatbank10_f_air                        0.0  0.000000\n",
              "rougher.state.floatbank10_f_level                      0.0  0.000000\n",
              "secondary_cleaner.output.tail_ag                       1.0  0.000073\n",
              "secondary_cleaner.output.tail_pb                       9.0  0.000657\n",
              "secondary_cleaner.output.tail_sol                   1533.0  0.111898\n",
              "secondary_cleaner.output.tail_au                       0.0  0.000000\n",
              "secondary_cleaner.state.floatbank2_a_air             212.0  0.015474\n",
              "secondary_cleaner.state.floatbank2_a_level             1.0  0.000073\n",
              "secondary_cleaner.state.floatbank2_b_air               5.0  0.000365\n",
              "secondary_cleaner.state.floatbank2_b_level             1.0  0.000073\n",
              "secondary_cleaner.state.floatbank3_a_air               2.0  0.000146\n",
              "secondary_cleaner.state.floatbank3_a_level             1.0  0.000073\n",
              "secondary_cleaner.state.floatbank3_b_air               1.0  0.000073\n",
              "secondary_cleaner.state.floatbank3_b_level             1.0  0.000073\n",
              "secondary_cleaner.state.floatbank4_a_air               4.0  0.000292\n",
              "secondary_cleaner.state.floatbank4_a_level             1.0  0.000073\n",
              "secondary_cleaner.state.floatbank4_b_air               1.0  0.000073\n",
              "secondary_cleaner.state.floatbank4_b_level             1.0  0.000073\n",
              "secondary_cleaner.state.floatbank5_a_air               1.0  0.000073\n",
              "secondary_cleaner.state.floatbank5_a_level             1.0  0.000073\n",
              "secondary_cleaner.state.floatbank5_b_air               1.0  0.000073\n",
              "secondary_cleaner.state.floatbank5_b_level             1.0  0.000073\n",
              "secondary_cleaner.state.floatbank6_a_air               1.0  0.000073\n",
              "secondary_cleaner.state.floatbank6_a_level             1.0  0.000073\n",
              "rougher.output.recovery_calc                           0.0  0.000000"
            ],
            "text/html": [
              "\n",
              "  <div id=\"df-61432809-5b84-49ee-b68d-5e5a584dc5fd\">\n",
              "    <div class=\"colab-df-container\">\n",
              "      <div>\n",
              "<style scoped>\n",
              "    .dataframe tbody tr th:only-of-type {\n",
              "        vertical-align: middle;\n",
              "    }\n",
              "\n",
              "    .dataframe tbody tr th {\n",
              "        vertical-align: top;\n",
              "    }\n",
              "\n",
              "    .dataframe thead th {\n",
              "        text-align: right;\n",
              "    }\n",
              "</style>\n",
              "<table border=\"1\" class=\"dataframe\">\n",
              "  <thead>\n",
              "    <tr style=\"text-align: right;\">\n",
              "      <th></th>\n",
              "      <th>sum</th>\n",
              "      <th>mean</th>\n",
              "    </tr>\n",
              "  </thead>\n",
              "  <tbody>\n",
              "    <tr>\n",
              "      <th>date</th>\n",
              "      <td>0.0</td>\n",
              "      <td>0.000000</td>\n",
              "    </tr>\n",
              "    <tr>\n",
              "      <th>final.output.concentrate_ag</th>\n",
              "      <td>0.0</td>\n",
              "      <td>0.000000</td>\n",
              "    </tr>\n",
              "    <tr>\n",
              "      <th>final.output.concentrate_pb</th>\n",
              "      <td>0.0</td>\n",
              "      <td>0.000000</td>\n",
              "    </tr>\n",
              "    <tr>\n",
              "      <th>final.output.concentrate_sol</th>\n",
              "      <td>0.0</td>\n",
              "      <td>0.000000</td>\n",
              "    </tr>\n",
              "    <tr>\n",
              "      <th>final.output.concentrate_au</th>\n",
              "      <td>0.0</td>\n",
              "      <td>0.000000</td>\n",
              "    </tr>\n",
              "    <tr>\n",
              "      <th>final.output.recovery</th>\n",
              "      <td>0.0</td>\n",
              "      <td>0.000000</td>\n",
              "    </tr>\n",
              "    <tr>\n",
              "      <th>final.output.tail_ag</th>\n",
              "      <td>0.0</td>\n",
              "      <td>0.000000</td>\n",
              "    </tr>\n",
              "    <tr>\n",
              "      <th>final.output.tail_pb</th>\n",
              "      <td>0.0</td>\n",
              "      <td>0.000000</td>\n",
              "    </tr>\n",
              "    <tr>\n",
              "      <th>final.output.tail_sol</th>\n",
              "      <td>0.0</td>\n",
              "      <td>0.000000</td>\n",
              "    </tr>\n",
              "    <tr>\n",
              "      <th>final.output.tail_au</th>\n",
              "      <td>0.0</td>\n",
              "      <td>0.000000</td>\n",
              "    </tr>\n",
              "    <tr>\n",
              "      <th>primary_cleaner.input.sulfate</th>\n",
              "      <td>6.0</td>\n",
              "      <td>0.000438</td>\n",
              "    </tr>\n",
              "    <tr>\n",
              "      <th>primary_cleaner.input.depressant</th>\n",
              "      <td>11.0</td>\n",
              "      <td>0.000803</td>\n",
              "    </tr>\n",
              "    <tr>\n",
              "      <th>primary_cleaner.input.feed_size</th>\n",
              "      <td>0.0</td>\n",
              "      <td>0.000000</td>\n",
              "    </tr>\n",
              "    <tr>\n",
              "      <th>primary_cleaner.input.xanthate</th>\n",
              "      <td>88.0</td>\n",
              "      <td>0.006423</td>\n",
              "    </tr>\n",
              "    <tr>\n",
              "      <th>primary_cleaner.output.concentrate_ag</th>\n",
              "      <td>0.0</td>\n",
              "      <td>0.000000</td>\n",
              "    </tr>\n",
              "    <tr>\n",
              "      <th>primary_cleaner.output.concentrate_pb</th>\n",
              "      <td>54.0</td>\n",
              "      <td>0.003942</td>\n",
              "    </tr>\n",
              "    <tr>\n",
              "      <th>primary_cleaner.output.concentrate_sol</th>\n",
              "      <td>229.0</td>\n",
              "      <td>0.016715</td>\n",
              "    </tr>\n",
              "    <tr>\n",
              "      <th>primary_cleaner.output.concentrate_au</th>\n",
              "      <td>0.0</td>\n",
              "      <td>0.000000</td>\n",
              "    </tr>\n",
              "    <tr>\n",
              "      <th>primary_cleaner.output.tail_ag</th>\n",
              "      <td>1.0</td>\n",
              "      <td>0.000073</td>\n",
              "    </tr>\n",
              "    <tr>\n",
              "      <th>primary_cleaner.output.tail_pb</th>\n",
              "      <td>15.0</td>\n",
              "      <td>0.001095</td>\n",
              "    </tr>\n",
              "    <tr>\n",
              "      <th>primary_cleaner.output.tail_sol</th>\n",
              "      <td>33.0</td>\n",
              "      <td>0.002409</td>\n",
              "    </tr>\n",
              "    <tr>\n",
              "      <th>primary_cleaner.output.tail_au</th>\n",
              "      <td>0.0</td>\n",
              "      <td>0.000000</td>\n",
              "    </tr>\n",
              "    <tr>\n",
              "      <th>primary_cleaner.state.floatbank8_a_air</th>\n",
              "      <td>2.0</td>\n",
              "      <td>0.000146</td>\n",
              "    </tr>\n",
              "    <tr>\n",
              "      <th>primary_cleaner.state.floatbank8_a_level</th>\n",
              "      <td>1.0</td>\n",
              "      <td>0.000073</td>\n",
              "    </tr>\n",
              "    <tr>\n",
              "      <th>primary_cleaner.state.floatbank8_b_air</th>\n",
              "      <td>2.0</td>\n",
              "      <td>0.000146</td>\n",
              "    </tr>\n",
              "    <tr>\n",
              "      <th>primary_cleaner.state.floatbank8_b_level</th>\n",
              "      <td>1.0</td>\n",
              "      <td>0.000073</td>\n",
              "    </tr>\n",
              "    <tr>\n",
              "      <th>primary_cleaner.state.floatbank8_c_air</th>\n",
              "      <td>2.0</td>\n",
              "      <td>0.000146</td>\n",
              "    </tr>\n",
              "    <tr>\n",
              "      <th>primary_cleaner.state.floatbank8_c_level</th>\n",
              "      <td>1.0</td>\n",
              "      <td>0.000073</td>\n",
              "    </tr>\n",
              "    <tr>\n",
              "      <th>primary_cleaner.state.floatbank8_d_air</th>\n",
              "      <td>3.0</td>\n",
              "      <td>0.000219</td>\n",
              "    </tr>\n",
              "    <tr>\n",
              "      <th>primary_cleaner.state.floatbank8_d_level</th>\n",
              "      <td>1.0</td>\n",
              "      <td>0.000073</td>\n",
              "    </tr>\n",
              "    <tr>\n",
              "      <th>rougher.calculation.sulfate_to_au_concentrate</th>\n",
              "      <td>1.0</td>\n",
              "      <td>0.000073</td>\n",
              "    </tr>\n",
              "    <tr>\n",
              "      <th>rougher.calculation.floatbank10_sulfate_to_au_feed</th>\n",
              "      <td>1.0</td>\n",
              "      <td>0.000073</td>\n",
              "    </tr>\n",
              "    <tr>\n",
              "      <th>rougher.calculation.floatbank11_sulfate_to_au_feed</th>\n",
              "      <td>1.0</td>\n",
              "      <td>0.000073</td>\n",
              "    </tr>\n",
              "    <tr>\n",
              "      <th>rougher.calculation.au_pb_ratio</th>\n",
              "      <td>0.0</td>\n",
              "      <td>0.000000</td>\n",
              "    </tr>\n",
              "    <tr>\n",
              "      <th>rougher.input.feed_ag</th>\n",
              "      <td>0.0</td>\n",
              "      <td>0.000000</td>\n",
              "    </tr>\n",
              "    <tr>\n",
              "      <th>rougher.input.feed_pb</th>\n",
              "      <td>11.0</td>\n",
              "      <td>0.000803</td>\n",
              "    </tr>\n",
              "    <tr>\n",
              "      <th>rougher.input.feed_rate</th>\n",
              "      <td>8.0</td>\n",
              "      <td>0.000584</td>\n",
              "    </tr>\n",
              "    <tr>\n",
              "      <th>rougher.input.feed_size</th>\n",
              "      <td>137.0</td>\n",
              "      <td>0.010000</td>\n",
              "    </tr>\n",
              "    <tr>\n",
              "      <th>rougher.input.feed_sol</th>\n",
              "      <td>51.0</td>\n",
              "      <td>0.003723</td>\n",
              "    </tr>\n",
              "    <tr>\n",
              "      <th>rougher.input.feed_au</th>\n",
              "      <td>0.0</td>\n",
              "      <td>0.000000</td>\n",
              "    </tr>\n",
              "    <tr>\n",
              "      <th>rougher.input.floatbank10_sulfate</th>\n",
              "      <td>19.0</td>\n",
              "      <td>0.001387</td>\n",
              "    </tr>\n",
              "    <tr>\n",
              "      <th>rougher.input.floatbank10_xanthate</th>\n",
              "      <td>3.0</td>\n",
              "      <td>0.000219</td>\n",
              "    </tr>\n",
              "    <tr>\n",
              "      <th>rougher.input.floatbank11_sulfate</th>\n",
              "      <td>35.0</td>\n",
              "      <td>0.002555</td>\n",
              "    </tr>\n",
              "    <tr>\n",
              "      <th>rougher.input.floatbank11_xanthate</th>\n",
              "      <td>396.0</td>\n",
              "      <td>0.028905</td>\n",
              "    </tr>\n",
              "    <tr>\n",
              "      <th>rougher.output.concentrate_ag</th>\n",
              "      <td>0.0</td>\n",
              "      <td>0.000000</td>\n",
              "    </tr>\n",
              "    <tr>\n",
              "      <th>rougher.output.concentrate_pb</th>\n",
              "      <td>0.0</td>\n",
              "      <td>0.000000</td>\n",
              "    </tr>\n",
              "    <tr>\n",
              "      <th>rougher.output.concentrate_sol</th>\n",
              "      <td>19.0</td>\n",
              "      <td>0.001387</td>\n",
              "    </tr>\n",
              "    <tr>\n",
              "      <th>rougher.output.concentrate_au</th>\n",
              "      <td>0.0</td>\n",
              "      <td>0.000000</td>\n",
              "    </tr>\n",
              "    <tr>\n",
              "      <th>rougher.output.recovery</th>\n",
              "      <td>0.0</td>\n",
              "      <td>0.000000</td>\n",
              "    </tr>\n",
              "    <tr>\n",
              "      <th>rougher.output.tail_ag</th>\n",
              "      <td>1.0</td>\n",
              "      <td>0.000073</td>\n",
              "    </tr>\n",
              "    <tr>\n",
              "      <th>rougher.output.tail_pb</th>\n",
              "      <td>0.0</td>\n",
              "      <td>0.000000</td>\n",
              "    </tr>\n",
              "    <tr>\n",
              "      <th>rougher.output.tail_sol</th>\n",
              "      <td>0.0</td>\n",
              "      <td>0.000000</td>\n",
              "    </tr>\n",
              "    <tr>\n",
              "      <th>rougher.output.tail_au</th>\n",
              "      <td>0.0</td>\n",
              "      <td>0.000000</td>\n",
              "    </tr>\n",
              "    <tr>\n",
              "      <th>rougher.state.floatbank10_a_air</th>\n",
              "      <td>1.0</td>\n",
              "      <td>0.000073</td>\n",
              "    </tr>\n",
              "    <tr>\n",
              "      <th>rougher.state.floatbank10_a_level</th>\n",
              "      <td>1.0</td>\n",
              "      <td>0.000073</td>\n",
              "    </tr>\n",
              "    <tr>\n",
              "      <th>rougher.state.floatbank10_b_air</th>\n",
              "      <td>1.0</td>\n",
              "      <td>0.000073</td>\n",
              "    </tr>\n",
              "    <tr>\n",
              "      <th>rougher.state.floatbank10_b_level</th>\n",
              "      <td>1.0</td>\n",
              "      <td>0.000073</td>\n",
              "    </tr>\n",
              "    <tr>\n",
              "      <th>rougher.state.floatbank10_c_air</th>\n",
              "      <td>1.0</td>\n",
              "      <td>0.000073</td>\n",
              "    </tr>\n",
              "    <tr>\n",
              "      <th>rougher.state.floatbank10_c_level</th>\n",
              "      <td>1.0</td>\n",
              "      <td>0.000073</td>\n",
              "    </tr>\n",
              "    <tr>\n",
              "      <th>rougher.state.floatbank10_d_air</th>\n",
              "      <td>0.0</td>\n",
              "      <td>0.000000</td>\n",
              "    </tr>\n",
              "    <tr>\n",
              "      <th>rougher.state.floatbank10_d_level</th>\n",
              "      <td>0.0</td>\n",
              "      <td>0.000000</td>\n",
              "    </tr>\n",
              "    <tr>\n",
              "      <th>rougher.state.floatbank10_e_air</th>\n",
              "      <td>429.0</td>\n",
              "      <td>0.031314</td>\n",
              "    </tr>\n",
              "    <tr>\n",
              "      <th>rougher.state.floatbank10_e_level</th>\n",
              "      <td>0.0</td>\n",
              "      <td>0.000000</td>\n",
              "    </tr>\n",
              "    <tr>\n",
              "      <th>rougher.state.floatbank10_f_air</th>\n",
              "      <td>0.0</td>\n",
              "      <td>0.000000</td>\n",
              "    </tr>\n",
              "    <tr>\n",
              "      <th>rougher.state.floatbank10_f_level</th>\n",
              "      <td>0.0</td>\n",
              "      <td>0.000000</td>\n",
              "    </tr>\n",
              "    <tr>\n",
              "      <th>secondary_cleaner.output.tail_ag</th>\n",
              "      <td>1.0</td>\n",
              "      <td>0.000073</td>\n",
              "    </tr>\n",
              "    <tr>\n",
              "      <th>secondary_cleaner.output.tail_pb</th>\n",
              "      <td>9.0</td>\n",
              "      <td>0.000657</td>\n",
              "    </tr>\n",
              "    <tr>\n",
              "      <th>secondary_cleaner.output.tail_sol</th>\n",
              "      <td>1533.0</td>\n",
              "      <td>0.111898</td>\n",
              "    </tr>\n",
              "    <tr>\n",
              "      <th>secondary_cleaner.output.tail_au</th>\n",
              "      <td>0.0</td>\n",
              "      <td>0.000000</td>\n",
              "    </tr>\n",
              "    <tr>\n",
              "      <th>secondary_cleaner.state.floatbank2_a_air</th>\n",
              "      <td>212.0</td>\n",
              "      <td>0.015474</td>\n",
              "    </tr>\n",
              "    <tr>\n",
              "      <th>secondary_cleaner.state.floatbank2_a_level</th>\n",
              "      <td>1.0</td>\n",
              "      <td>0.000073</td>\n",
              "    </tr>\n",
              "    <tr>\n",
              "      <th>secondary_cleaner.state.floatbank2_b_air</th>\n",
              "      <td>5.0</td>\n",
              "      <td>0.000365</td>\n",
              "    </tr>\n",
              "    <tr>\n",
              "      <th>secondary_cleaner.state.floatbank2_b_level</th>\n",
              "      <td>1.0</td>\n",
              "      <td>0.000073</td>\n",
              "    </tr>\n",
              "    <tr>\n",
              "      <th>secondary_cleaner.state.floatbank3_a_air</th>\n",
              "      <td>2.0</td>\n",
              "      <td>0.000146</td>\n",
              "    </tr>\n",
              "    <tr>\n",
              "      <th>secondary_cleaner.state.floatbank3_a_level</th>\n",
              "      <td>1.0</td>\n",
              "      <td>0.000073</td>\n",
              "    </tr>\n",
              "    <tr>\n",
              "      <th>secondary_cleaner.state.floatbank3_b_air</th>\n",
              "      <td>1.0</td>\n",
              "      <td>0.000073</td>\n",
              "    </tr>\n",
              "    <tr>\n",
              "      <th>secondary_cleaner.state.floatbank3_b_level</th>\n",
              "      <td>1.0</td>\n",
              "      <td>0.000073</td>\n",
              "    </tr>\n",
              "    <tr>\n",
              "      <th>secondary_cleaner.state.floatbank4_a_air</th>\n",
              "      <td>4.0</td>\n",
              "      <td>0.000292</td>\n",
              "    </tr>\n",
              "    <tr>\n",
              "      <th>secondary_cleaner.state.floatbank4_a_level</th>\n",
              "      <td>1.0</td>\n",
              "      <td>0.000073</td>\n",
              "    </tr>\n",
              "    <tr>\n",
              "      <th>secondary_cleaner.state.floatbank4_b_air</th>\n",
              "      <td>1.0</td>\n",
              "      <td>0.000073</td>\n",
              "    </tr>\n",
              "    <tr>\n",
              "      <th>secondary_cleaner.state.floatbank4_b_level</th>\n",
              "      <td>1.0</td>\n",
              "      <td>0.000073</td>\n",
              "    </tr>\n",
              "    <tr>\n",
              "      <th>secondary_cleaner.state.floatbank5_a_air</th>\n",
              "      <td>1.0</td>\n",
              "      <td>0.000073</td>\n",
              "    </tr>\n",
              "    <tr>\n",
              "      <th>secondary_cleaner.state.floatbank5_a_level</th>\n",
              "      <td>1.0</td>\n",
              "      <td>0.000073</td>\n",
              "    </tr>\n",
              "    <tr>\n",
              "      <th>secondary_cleaner.state.floatbank5_b_air</th>\n",
              "      <td>1.0</td>\n",
              "      <td>0.000073</td>\n",
              "    </tr>\n",
              "    <tr>\n",
              "      <th>secondary_cleaner.state.floatbank5_b_level</th>\n",
              "      <td>1.0</td>\n",
              "      <td>0.000073</td>\n",
              "    </tr>\n",
              "    <tr>\n",
              "      <th>secondary_cleaner.state.floatbank6_a_air</th>\n",
              "      <td>1.0</td>\n",
              "      <td>0.000073</td>\n",
              "    </tr>\n",
              "    <tr>\n",
              "      <th>secondary_cleaner.state.floatbank6_a_level</th>\n",
              "      <td>1.0</td>\n",
              "      <td>0.000073</td>\n",
              "    </tr>\n",
              "    <tr>\n",
              "      <th>rougher.output.recovery_calc</th>\n",
              "      <td>0.0</td>\n",
              "      <td>0.000000</td>\n",
              "    </tr>\n",
              "  </tbody>\n",
              "</table>\n",
              "</div>\n",
              "      <button class=\"colab-df-convert\" onclick=\"convertToInteractive('df-61432809-5b84-49ee-b68d-5e5a584dc5fd')\"\n",
              "              title=\"Convert this dataframe to an interactive table.\"\n",
              "              style=\"display:none;\">\n",
              "        \n",
              "  <svg xmlns=\"http://www.w3.org/2000/svg\" height=\"24px\"viewBox=\"0 0 24 24\"\n",
              "       width=\"24px\">\n",
              "    <path d=\"M0 0h24v24H0V0z\" fill=\"none\"/>\n",
              "    <path d=\"M18.56 5.44l.94 2.06.94-2.06 2.06-.94-2.06-.94-.94-2.06-.94 2.06-2.06.94zm-11 1L8.5 8.5l.94-2.06 2.06-.94-2.06-.94L8.5 2.5l-.94 2.06-2.06.94zm10 10l.94 2.06.94-2.06 2.06-.94-2.06-.94-.94-2.06-.94 2.06-2.06.94z\"/><path d=\"M17.41 7.96l-1.37-1.37c-.4-.4-.92-.59-1.43-.59-.52 0-1.04.2-1.43.59L10.3 9.45l-7.72 7.72c-.78.78-.78 2.05 0 2.83L4 21.41c.39.39.9.59 1.41.59.51 0 1.02-.2 1.41-.59l7.78-7.78 2.81-2.81c.8-.78.8-2.07 0-2.86zM5.41 20L4 18.59l7.72-7.72 1.47 1.35L5.41 20z\"/>\n",
              "  </svg>\n",
              "      </button>\n",
              "      \n",
              "  <style>\n",
              "    .colab-df-container {\n",
              "      display:flex;\n",
              "      flex-wrap:wrap;\n",
              "      gap: 12px;\n",
              "    }\n",
              "\n",
              "    .colab-df-convert {\n",
              "      background-color: #E8F0FE;\n",
              "      border: none;\n",
              "      border-radius: 50%;\n",
              "      cursor: pointer;\n",
              "      display: none;\n",
              "      fill: #1967D2;\n",
              "      height: 32px;\n",
              "      padding: 0 0 0 0;\n",
              "      width: 32px;\n",
              "    }\n",
              "\n",
              "    .colab-df-convert:hover {\n",
              "      background-color: #E2EBFA;\n",
              "      box-shadow: 0px 1px 2px rgba(60, 64, 67, 0.3), 0px 1px 3px 1px rgba(60, 64, 67, 0.15);\n",
              "      fill: #174EA6;\n",
              "    }\n",
              "\n",
              "    [theme=dark] .colab-df-convert {\n",
              "      background-color: #3B4455;\n",
              "      fill: #D2E3FC;\n",
              "    }\n",
              "\n",
              "    [theme=dark] .colab-df-convert:hover {\n",
              "      background-color: #434B5C;\n",
              "      box-shadow: 0px 1px 3px 1px rgba(0, 0, 0, 0.15);\n",
              "      filter: drop-shadow(0px 1px 2px rgba(0, 0, 0, 0.3));\n",
              "      fill: #FFFFFF;\n",
              "    }\n",
              "  </style>\n",
              "\n",
              "      <script>\n",
              "        const buttonEl =\n",
              "          document.querySelector('#df-61432809-5b84-49ee-b68d-5e5a584dc5fd button.colab-df-convert');\n",
              "        buttonEl.style.display =\n",
              "          google.colab.kernel.accessAllowed ? 'block' : 'none';\n",
              "\n",
              "        async function convertToInteractive(key) {\n",
              "          const element = document.querySelector('#df-61432809-5b84-49ee-b68d-5e5a584dc5fd');\n",
              "          const dataTable =\n",
              "            await google.colab.kernel.invokeFunction('convertToInteractive',\n",
              "                                                     [key], {});\n",
              "          if (!dataTable) return;\n",
              "\n",
              "          const docLinkHtml = 'Like what you see? Visit the ' +\n",
              "            '<a target=\"_blank\" href=https://colab.research.google.com/notebooks/data_table.ipynb>data table notebook</a>'\n",
              "            + ' to learn more about interactive tables.';\n",
              "          element.innerHTML = '';\n",
              "          dataTable['output_type'] = 'display_data';\n",
              "          await google.colab.output.renderOutput(dataTable, element);\n",
              "          const docLink = document.createElement('div');\n",
              "          docLink.innerHTML = docLinkHtml;\n",
              "          element.appendChild(docLink);\n",
              "        }\n",
              "      </script>\n",
              "    </div>\n",
              "  </div>\n",
              "  "
            ]
          },
          "metadata": {},
          "execution_count": 22
        }
      ],
      "source": [
        "df_train.isna().agg(['sum', 'mean']).T"
      ]
    },
    {
      "cell_type": "markdown",
      "metadata": {
        "id": "CqGVIlFJUPbc"
      },
      "source": [
        "Составим список столбцов, где есть пропущенные значения. Далее пройдемся в цикле по нему и заполним пустые значения средним значением ближайших соседей (+-1 в обе строны), так как по условиям задачи сказано, что соседние по времени параметры часто похожи. Если соседних значений не будет, то интервал будет увеличиваться (+-2 и т.д.)."
      ]
    },
    {
      "cell_type": "code",
      "execution_count": 23,
      "metadata": {
        "id": "UKpYH5AtUPbc"
      },
      "outputs": [],
      "source": [
        "list_fill_na1 = df_train.loc[:, df_train.isna().sum() > 0].columns.to_list()"
      ]
    },
    {
      "cell_type": "code",
      "execution_count": 24,
      "metadata": {
        "id": "mg0zt8gpUPbc"
      },
      "outputs": [],
      "source": [
        "# закладку с изменением 0 сделал на будущее, не факт, что понадобится\n",
        "\n",
        "def fill_neighbour (table, filling_list, fill_choose):\n",
        "    table = table.reset_index(drop=True) # сброс индексов, чтобы корректно работал цикл ниже\n",
        "    \n",
        "    #Заполнение пропусков(изменение нулей) в каждом столбце ближайшими соседями\n",
        "    for x in filling_list:\n",
        "        list_index = []\n",
        "        if fill_choose == 1:\n",
        "            list_index = (table[table[x].isna()].index.to_list()) #для заполнения пропусков\n",
        "        elif fill_choose == 2: \n",
        "            list_index = (table[table[x] == 0].index.to_list()) #для изменения 0 (фейковых данных)\n",
        "        else:\n",
        "            print('Неверное значение fill_choose')\n",
        "            break\n",
        "        for ind in list_index:\n",
        "            right_ind = ind + 1\n",
        "            left_ind = ind -1\n",
        "            while np.isnan(table.loc[right_ind, x]): #если сосед НАН, то двигаемся правее\n",
        "                right_ind += 1\n",
        "            while np.isnan(table.loc[left_ind, x]): #если сосед НАН, то двигаемся левее\n",
        "                left_ind -= 1\n",
        "            table.loc[ind, x] = table.loc[[left_ind,right_ind], x].mean()\n",
        "    return table"
      ]
    },
    {
      "cell_type": "code",
      "execution_count": 25,
      "metadata": {
        "id": "c67zc25AUPbd"
      },
      "outputs": [],
      "source": [
        "df_train = fill_neighbour(df_train, list_fill_na1, 1)"
      ]
    },
    {
      "cell_type": "markdown",
      "metadata": {
        "id": "b4tnmrvxUPbd"
      },
      "source": [
        "Проверка"
      ]
    },
    {
      "cell_type": "code",
      "execution_count": 26,
      "metadata": {
        "scrolled": true,
        "colab": {
          "base_uri": "https://localhost:8080/"
        },
        "id": "aIvGMx3YUPbd",
        "outputId": "c10a703d-9403-4d4c-fa30-f1bf582be023"
      },
      "outputs": [
        {
          "output_type": "stream",
          "name": "stdout",
          "text": [
            "<class 'pandas.core.frame.DataFrame'>\n",
            "RangeIndex: 13700 entries, 0 to 13699\n",
            "Data columns (total 88 columns):\n",
            " #   Column                                              Non-Null Count  Dtype         \n",
            "---  ------                                              --------------  -----         \n",
            " 0   date                                                13700 non-null  datetime64[ns]\n",
            " 1   final.output.concentrate_ag                         13700 non-null  float64       \n",
            " 2   final.output.concentrate_pb                         13700 non-null  float64       \n",
            " 3   final.output.concentrate_sol                        13700 non-null  float64       \n",
            " 4   final.output.concentrate_au                         13700 non-null  float64       \n",
            " 5   final.output.recovery                               13700 non-null  float64       \n",
            " 6   final.output.tail_ag                                13700 non-null  float64       \n",
            " 7   final.output.tail_pb                                13700 non-null  float64       \n",
            " 8   final.output.tail_sol                               13700 non-null  float64       \n",
            " 9   final.output.tail_au                                13700 non-null  float64       \n",
            " 10  primary_cleaner.input.sulfate                       13700 non-null  float64       \n",
            " 11  primary_cleaner.input.depressant                    13700 non-null  float64       \n",
            " 12  primary_cleaner.input.feed_size                     13700 non-null  float64       \n",
            " 13  primary_cleaner.input.xanthate                      13700 non-null  float64       \n",
            " 14  primary_cleaner.output.concentrate_ag               13700 non-null  float64       \n",
            " 15  primary_cleaner.output.concentrate_pb               13700 non-null  float64       \n",
            " 16  primary_cleaner.output.concentrate_sol              13700 non-null  float64       \n",
            " 17  primary_cleaner.output.concentrate_au               13700 non-null  float64       \n",
            " 18  primary_cleaner.output.tail_ag                      13700 non-null  float64       \n",
            " 19  primary_cleaner.output.tail_pb                      13700 non-null  float64       \n",
            " 20  primary_cleaner.output.tail_sol                     13700 non-null  float64       \n",
            " 21  primary_cleaner.output.tail_au                      13700 non-null  float64       \n",
            " 22  primary_cleaner.state.floatbank8_a_air              13700 non-null  float64       \n",
            " 23  primary_cleaner.state.floatbank8_a_level            13700 non-null  float64       \n",
            " 24  primary_cleaner.state.floatbank8_b_air              13700 non-null  float64       \n",
            " 25  primary_cleaner.state.floatbank8_b_level            13700 non-null  float64       \n",
            " 26  primary_cleaner.state.floatbank8_c_air              13700 non-null  float64       \n",
            " 27  primary_cleaner.state.floatbank8_c_level            13700 non-null  float64       \n",
            " 28  primary_cleaner.state.floatbank8_d_air              13700 non-null  float64       \n",
            " 29  primary_cleaner.state.floatbank8_d_level            13700 non-null  float64       \n",
            " 30  rougher.calculation.sulfate_to_au_concentrate       13700 non-null  float64       \n",
            " 31  rougher.calculation.floatbank10_sulfate_to_au_feed  13700 non-null  float64       \n",
            " 32  rougher.calculation.floatbank11_sulfate_to_au_feed  13700 non-null  float64       \n",
            " 33  rougher.calculation.au_pb_ratio                     13700 non-null  float64       \n",
            " 34  rougher.input.feed_ag                               13700 non-null  float64       \n",
            " 35  rougher.input.feed_pb                               13700 non-null  float64       \n",
            " 36  rougher.input.feed_rate                             13700 non-null  float64       \n",
            " 37  rougher.input.feed_size                             13700 non-null  float64       \n",
            " 38  rougher.input.feed_sol                              13700 non-null  float64       \n",
            " 39  rougher.input.feed_au                               13700 non-null  float64       \n",
            " 40  rougher.input.floatbank10_sulfate                   13700 non-null  float64       \n",
            " 41  rougher.input.floatbank10_xanthate                  13700 non-null  float64       \n",
            " 42  rougher.input.floatbank11_sulfate                   13700 non-null  float64       \n",
            " 43  rougher.input.floatbank11_xanthate                  13700 non-null  float64       \n",
            " 44  rougher.output.concentrate_ag                       13700 non-null  float64       \n",
            " 45  rougher.output.concentrate_pb                       13700 non-null  float64       \n",
            " 46  rougher.output.concentrate_sol                      13700 non-null  float64       \n",
            " 47  rougher.output.concentrate_au                       13700 non-null  float64       \n",
            " 48  rougher.output.recovery                             13700 non-null  float64       \n",
            " 49  rougher.output.tail_ag                              13700 non-null  float64       \n",
            " 50  rougher.output.tail_pb                              13700 non-null  float64       \n",
            " 51  rougher.output.tail_sol                             13700 non-null  float64       \n",
            " 52  rougher.output.tail_au                              13700 non-null  float64       \n",
            " 53  rougher.state.floatbank10_a_air                     13700 non-null  float64       \n",
            " 54  rougher.state.floatbank10_a_level                   13700 non-null  float64       \n",
            " 55  rougher.state.floatbank10_b_air                     13700 non-null  float64       \n",
            " 56  rougher.state.floatbank10_b_level                   13700 non-null  float64       \n",
            " 57  rougher.state.floatbank10_c_air                     13700 non-null  float64       \n",
            " 58  rougher.state.floatbank10_c_level                   13700 non-null  float64       \n",
            " 59  rougher.state.floatbank10_d_air                     13700 non-null  float64       \n",
            " 60  rougher.state.floatbank10_d_level                   13700 non-null  float64       \n",
            " 61  rougher.state.floatbank10_e_air                     13700 non-null  float64       \n",
            " 62  rougher.state.floatbank10_e_level                   13700 non-null  float64       \n",
            " 63  rougher.state.floatbank10_f_air                     13700 non-null  float64       \n",
            " 64  rougher.state.floatbank10_f_level                   13700 non-null  float64       \n",
            " 65  secondary_cleaner.output.tail_ag                    13700 non-null  float64       \n",
            " 66  secondary_cleaner.output.tail_pb                    13700 non-null  float64       \n",
            " 67  secondary_cleaner.output.tail_sol                   13700 non-null  float64       \n",
            " 68  secondary_cleaner.output.tail_au                    13700 non-null  float64       \n",
            " 69  secondary_cleaner.state.floatbank2_a_air            13700 non-null  float64       \n",
            " 70  secondary_cleaner.state.floatbank2_a_level          13700 non-null  float64       \n",
            " 71  secondary_cleaner.state.floatbank2_b_air            13700 non-null  float64       \n",
            " 72  secondary_cleaner.state.floatbank2_b_level          13700 non-null  float64       \n",
            " 73  secondary_cleaner.state.floatbank3_a_air            13700 non-null  float64       \n",
            " 74  secondary_cleaner.state.floatbank3_a_level          13700 non-null  float64       \n",
            " 75  secondary_cleaner.state.floatbank3_b_air            13700 non-null  float64       \n",
            " 76  secondary_cleaner.state.floatbank3_b_level          13700 non-null  float64       \n",
            " 77  secondary_cleaner.state.floatbank4_a_air            13700 non-null  float64       \n",
            " 78  secondary_cleaner.state.floatbank4_a_level          13700 non-null  float64       \n",
            " 79  secondary_cleaner.state.floatbank4_b_air            13700 non-null  float64       \n",
            " 80  secondary_cleaner.state.floatbank4_b_level          13700 non-null  float64       \n",
            " 81  secondary_cleaner.state.floatbank5_a_air            13700 non-null  float64       \n",
            " 82  secondary_cleaner.state.floatbank5_a_level          13700 non-null  float64       \n",
            " 83  secondary_cleaner.state.floatbank5_b_air            13700 non-null  float64       \n",
            " 84  secondary_cleaner.state.floatbank5_b_level          13700 non-null  float64       \n",
            " 85  secondary_cleaner.state.floatbank6_a_air            13700 non-null  float64       \n",
            " 86  secondary_cleaner.state.floatbank6_a_level          13700 non-null  float64       \n",
            " 87  rougher.output.recovery_calc                        13700 non-null  float64       \n",
            "dtypes: datetime64[ns](1), float64(87)\n",
            "memory usage: 9.2 MB\n"
          ]
        }
      ],
      "source": [
        "df_train.info()"
      ]
    },
    {
      "cell_type": "markdown",
      "metadata": {
        "id": "yJt73jpkUPbd"
      },
      "source": [
        "#### df_test"
      ]
    },
    {
      "cell_type": "markdown",
      "metadata": {
        "id": "LXbwl8xMUPbe"
      },
      "source": [
        "Займемся другой таблицей, пропусков в ней было не так много, применим прошлую функцию для заполнения пропусков."
      ]
    },
    {
      "cell_type": "code",
      "execution_count": 27,
      "metadata": {
        "id": "QLORd3TxUPbe"
      },
      "outputs": [],
      "source": [
        "list_fill_na2 = df_test.loc[:, df_test.isna().sum() > 0].columns.to_list()"
      ]
    },
    {
      "cell_type": "code",
      "execution_count": 28,
      "metadata": {
        "id": "Pm9QcKMCUPbe"
      },
      "outputs": [],
      "source": [
        "df_test = fill_neighbour(df_test, list_fill_na2, 1)"
      ]
    },
    {
      "cell_type": "markdown",
      "metadata": {
        "id": "79eIQmz3UPbe"
      },
      "source": [
        "Проверка"
      ]
    },
    {
      "cell_type": "code",
      "execution_count": 29,
      "metadata": {
        "scrolled": true,
        "colab": {
          "base_uri": "https://localhost:8080/"
        },
        "id": "c0-NATWnUPbe",
        "outputId": "a4bab5c9-99eb-4f3d-8f82-76f90444b071"
      },
      "outputs": [
        {
          "output_type": "stream",
          "name": "stdout",
          "text": [
            "<class 'pandas.core.frame.DataFrame'>\n",
            "RangeIndex: 5290 entries, 0 to 5289\n",
            "Data columns (total 53 columns):\n",
            " #   Column                                      Non-Null Count  Dtype         \n",
            "---  ------                                      --------------  -----         \n",
            " 0   date                                        5290 non-null   datetime64[ns]\n",
            " 1   primary_cleaner.input.sulfate               5290 non-null   float64       \n",
            " 2   primary_cleaner.input.depressant            5290 non-null   float64       \n",
            " 3   primary_cleaner.input.feed_size             5290 non-null   float64       \n",
            " 4   primary_cleaner.input.xanthate              5290 non-null   float64       \n",
            " 5   primary_cleaner.state.floatbank8_a_air      5290 non-null   float64       \n",
            " 6   primary_cleaner.state.floatbank8_a_level    5290 non-null   float64       \n",
            " 7   primary_cleaner.state.floatbank8_b_air      5290 non-null   float64       \n",
            " 8   primary_cleaner.state.floatbank8_b_level    5290 non-null   float64       \n",
            " 9   primary_cleaner.state.floatbank8_c_air      5290 non-null   float64       \n",
            " 10  primary_cleaner.state.floatbank8_c_level    5290 non-null   float64       \n",
            " 11  primary_cleaner.state.floatbank8_d_air      5290 non-null   float64       \n",
            " 12  primary_cleaner.state.floatbank8_d_level    5290 non-null   float64       \n",
            " 13  rougher.input.feed_ag                       5290 non-null   float64       \n",
            " 14  rougher.input.feed_pb                       5290 non-null   float64       \n",
            " 15  rougher.input.feed_rate                     5290 non-null   float64       \n",
            " 16  rougher.input.feed_size                     5290 non-null   float64       \n",
            " 17  rougher.input.feed_sol                      5290 non-null   float64       \n",
            " 18  rougher.input.feed_au                       5290 non-null   float64       \n",
            " 19  rougher.input.floatbank10_sulfate           5290 non-null   float64       \n",
            " 20  rougher.input.floatbank10_xanthate          5290 non-null   float64       \n",
            " 21  rougher.input.floatbank11_sulfate           5290 non-null   float64       \n",
            " 22  rougher.input.floatbank11_xanthate          5290 non-null   float64       \n",
            " 23  rougher.state.floatbank10_a_air             5290 non-null   float64       \n",
            " 24  rougher.state.floatbank10_a_level           5290 non-null   float64       \n",
            " 25  rougher.state.floatbank10_b_air             5290 non-null   float64       \n",
            " 26  rougher.state.floatbank10_b_level           5290 non-null   float64       \n",
            " 27  rougher.state.floatbank10_c_air             5290 non-null   float64       \n",
            " 28  rougher.state.floatbank10_c_level           5290 non-null   float64       \n",
            " 29  rougher.state.floatbank10_d_air             5290 non-null   float64       \n",
            " 30  rougher.state.floatbank10_d_level           5290 non-null   float64       \n",
            " 31  rougher.state.floatbank10_e_air             5290 non-null   float64       \n",
            " 32  rougher.state.floatbank10_e_level           5290 non-null   float64       \n",
            " 33  rougher.state.floatbank10_f_air             5290 non-null   float64       \n",
            " 34  rougher.state.floatbank10_f_level           5290 non-null   float64       \n",
            " 35  secondary_cleaner.state.floatbank2_a_air    5290 non-null   float64       \n",
            " 36  secondary_cleaner.state.floatbank2_a_level  5290 non-null   float64       \n",
            " 37  secondary_cleaner.state.floatbank2_b_air    5290 non-null   float64       \n",
            " 38  secondary_cleaner.state.floatbank2_b_level  5290 non-null   float64       \n",
            " 39  secondary_cleaner.state.floatbank3_a_air    5290 non-null   float64       \n",
            " 40  secondary_cleaner.state.floatbank3_a_level  5290 non-null   float64       \n",
            " 41  secondary_cleaner.state.floatbank3_b_air    5290 non-null   float64       \n",
            " 42  secondary_cleaner.state.floatbank3_b_level  5290 non-null   float64       \n",
            " 43  secondary_cleaner.state.floatbank4_a_air    5290 non-null   float64       \n",
            " 44  secondary_cleaner.state.floatbank4_a_level  5290 non-null   float64       \n",
            " 45  secondary_cleaner.state.floatbank4_b_air    5290 non-null   float64       \n",
            " 46  secondary_cleaner.state.floatbank4_b_level  5290 non-null   float64       \n",
            " 47  secondary_cleaner.state.floatbank5_a_air    5290 non-null   float64       \n",
            " 48  secondary_cleaner.state.floatbank5_a_level  5290 non-null   float64       \n",
            " 49  secondary_cleaner.state.floatbank5_b_air    5290 non-null   float64       \n",
            " 50  secondary_cleaner.state.floatbank5_b_level  5290 non-null   float64       \n",
            " 51  secondary_cleaner.state.floatbank6_a_air    5290 non-null   float64       \n",
            " 52  secondary_cleaner.state.floatbank6_a_level  5290 non-null   float64       \n",
            "dtypes: datetime64[ns](1), float64(52)\n",
            "memory usage: 2.1 MB\n"
          ]
        }
      ],
      "source": [
        "df_test.info()"
      ]
    },
    {
      "cell_type": "markdown",
      "metadata": {
        "id": "0igpcpt5UPbf"
      },
      "source": [
        "### Вывод"
      ]
    },
    {
      "cell_type": "markdown",
      "metadata": {
        "id": "t-FOHthiUPbf"
      },
      "source": [
        "Осмотрели исходные данные, провели проверку расчета эффективности обогащения, подготовили данные для дальнейшего анализа"
      ]
    },
    {
      "cell_type": "markdown",
      "metadata": {
        "id": "WhmterFHUPbf"
      },
      "source": [
        "## Анализ данных"
      ]
    },
    {
      "cell_type": "markdown",
      "metadata": {
        "id": "V0lPNjhuUPbf"
      },
      "source": [
        "### Изменение концентрации металлов (Au, Ag, Pb) на различных этапах очистки"
      ]
    },
    {
      "cell_type": "markdown",
      "metadata": {
        "id": "L3WD21AxUPbg"
      },
      "source": [
        "Посмотрим как менялась концентрация металлов изобразим это на графике, для этого создадим таблицу для простоты построения и восприятия. Возьмем среднее значение концентрации для каждого этапа очистки"
      ]
    },
    {
      "cell_type": "code",
      "execution_count": 30,
      "metadata": {
        "id": "uPySbez_UPbg"
      },
      "outputs": [],
      "source": [
        "concentrate_df = pd.DataFrame(columns=['metall', 'rougher', 'primary_cleaner', 'final'])"
      ]
    },
    {
      "cell_type": "markdown",
      "metadata": {
        "id": "SK5hbnSKUPbg"
      },
      "source": [
        "Для различных металлов"
      ]
    },
    {
      "cell_type": "code",
      "execution_count": 31,
      "metadata": {
        "id": "wRYkZldoUPbg"
      },
      "outputs": [],
      "source": [
        "concentrate_df.loc[0]=['Au (Золото)', \n",
        "                       round(df_train['rougher.output.concentrate_au'].mean(), 2), \n",
        "                       round(df_train['primary_cleaner.output.concentrate_au'].mean(), 2),\n",
        "                       round(df_train['final.output.concentrate_au'].mean(), 2)]"
      ]
    },
    {
      "cell_type": "code",
      "execution_count": 32,
      "metadata": {
        "id": "CWANHWm_UPbh"
      },
      "outputs": [],
      "source": [
        "concentrate_df.loc[1]=['Ag (Серебро)', \n",
        "                       round(df_train['rougher.output.concentrate_ag'].mean(), 2), \n",
        "                       round(df_train['primary_cleaner.output.concentrate_ag'].mean(), 2),\n",
        "                       round(df_train['final.output.concentrate_ag'].mean(), 2)]"
      ]
    },
    {
      "cell_type": "code",
      "execution_count": 33,
      "metadata": {
        "id": "pAPS_jtNUPbh"
      },
      "outputs": [],
      "source": [
        "concentrate_df.loc[2]=['Pb (Свинец)', \n",
        "                       round(df_train['rougher.output.concentrate_pb'].mean(), 2), \n",
        "                       round(df_train['primary_cleaner.output.concentrate_pb'].mean(), 2),\n",
        "                       round(df_train['final.output.concentrate_pb'].mean(), 2)]"
      ]
    },
    {
      "cell_type": "code",
      "execution_count": 34,
      "metadata": {
        "colab": {
          "base_uri": "https://localhost:8080/",
          "height": 143
        },
        "id": "wp69zB9-UPbh",
        "outputId": "6b8c8b6e-dc01-4b7c-b407-52f8dcbb502a"
      },
      "outputs": [
        {
          "output_type": "execute_result",
          "data": {
            "text/plain": [
              "         metall  rougher  primary_cleaner  final\n",
              "0   Au (Золото)    19.49            32.46  44.21\n",
              "1  Ag (Серебро)    11.76             8.24   5.14\n",
              "2   Pb (Свинец)     7.69             9.67  10.21"
            ],
            "text/html": [
              "\n",
              "  <div id=\"df-7684f164-711c-4eac-80d9-b769e7e9c24a\">\n",
              "    <div class=\"colab-df-container\">\n",
              "      <div>\n",
              "<style scoped>\n",
              "    .dataframe tbody tr th:only-of-type {\n",
              "        vertical-align: middle;\n",
              "    }\n",
              "\n",
              "    .dataframe tbody tr th {\n",
              "        vertical-align: top;\n",
              "    }\n",
              "\n",
              "    .dataframe thead th {\n",
              "        text-align: right;\n",
              "    }\n",
              "</style>\n",
              "<table border=\"1\" class=\"dataframe\">\n",
              "  <thead>\n",
              "    <tr style=\"text-align: right;\">\n",
              "      <th></th>\n",
              "      <th>metall</th>\n",
              "      <th>rougher</th>\n",
              "      <th>primary_cleaner</th>\n",
              "      <th>final</th>\n",
              "    </tr>\n",
              "  </thead>\n",
              "  <tbody>\n",
              "    <tr>\n",
              "      <th>0</th>\n",
              "      <td>Au (Золото)</td>\n",
              "      <td>19.49</td>\n",
              "      <td>32.46</td>\n",
              "      <td>44.21</td>\n",
              "    </tr>\n",
              "    <tr>\n",
              "      <th>1</th>\n",
              "      <td>Ag (Серебро)</td>\n",
              "      <td>11.76</td>\n",
              "      <td>8.24</td>\n",
              "      <td>5.14</td>\n",
              "    </tr>\n",
              "    <tr>\n",
              "      <th>2</th>\n",
              "      <td>Pb (Свинец)</td>\n",
              "      <td>7.69</td>\n",
              "      <td>9.67</td>\n",
              "      <td>10.21</td>\n",
              "    </tr>\n",
              "  </tbody>\n",
              "</table>\n",
              "</div>\n",
              "      <button class=\"colab-df-convert\" onclick=\"convertToInteractive('df-7684f164-711c-4eac-80d9-b769e7e9c24a')\"\n",
              "              title=\"Convert this dataframe to an interactive table.\"\n",
              "              style=\"display:none;\">\n",
              "        \n",
              "  <svg xmlns=\"http://www.w3.org/2000/svg\" height=\"24px\"viewBox=\"0 0 24 24\"\n",
              "       width=\"24px\">\n",
              "    <path d=\"M0 0h24v24H0V0z\" fill=\"none\"/>\n",
              "    <path d=\"M18.56 5.44l.94 2.06.94-2.06 2.06-.94-2.06-.94-.94-2.06-.94 2.06-2.06.94zm-11 1L8.5 8.5l.94-2.06 2.06-.94-2.06-.94L8.5 2.5l-.94 2.06-2.06.94zm10 10l.94 2.06.94-2.06 2.06-.94-2.06-.94-.94-2.06-.94 2.06-2.06.94z\"/><path d=\"M17.41 7.96l-1.37-1.37c-.4-.4-.92-.59-1.43-.59-.52 0-1.04.2-1.43.59L10.3 9.45l-7.72 7.72c-.78.78-.78 2.05 0 2.83L4 21.41c.39.39.9.59 1.41.59.51 0 1.02-.2 1.41-.59l7.78-7.78 2.81-2.81c.8-.78.8-2.07 0-2.86zM5.41 20L4 18.59l7.72-7.72 1.47 1.35L5.41 20z\"/>\n",
              "  </svg>\n",
              "      </button>\n",
              "      \n",
              "  <style>\n",
              "    .colab-df-container {\n",
              "      display:flex;\n",
              "      flex-wrap:wrap;\n",
              "      gap: 12px;\n",
              "    }\n",
              "\n",
              "    .colab-df-convert {\n",
              "      background-color: #E8F0FE;\n",
              "      border: none;\n",
              "      border-radius: 50%;\n",
              "      cursor: pointer;\n",
              "      display: none;\n",
              "      fill: #1967D2;\n",
              "      height: 32px;\n",
              "      padding: 0 0 0 0;\n",
              "      width: 32px;\n",
              "    }\n",
              "\n",
              "    .colab-df-convert:hover {\n",
              "      background-color: #E2EBFA;\n",
              "      box-shadow: 0px 1px 2px rgba(60, 64, 67, 0.3), 0px 1px 3px 1px rgba(60, 64, 67, 0.15);\n",
              "      fill: #174EA6;\n",
              "    }\n",
              "\n",
              "    [theme=dark] .colab-df-convert {\n",
              "      background-color: #3B4455;\n",
              "      fill: #D2E3FC;\n",
              "    }\n",
              "\n",
              "    [theme=dark] .colab-df-convert:hover {\n",
              "      background-color: #434B5C;\n",
              "      box-shadow: 0px 1px 3px 1px rgba(0, 0, 0, 0.15);\n",
              "      filter: drop-shadow(0px 1px 2px rgba(0, 0, 0, 0.3));\n",
              "      fill: #FFFFFF;\n",
              "    }\n",
              "  </style>\n",
              "\n",
              "      <script>\n",
              "        const buttonEl =\n",
              "          document.querySelector('#df-7684f164-711c-4eac-80d9-b769e7e9c24a button.colab-df-convert');\n",
              "        buttonEl.style.display =\n",
              "          google.colab.kernel.accessAllowed ? 'block' : 'none';\n",
              "\n",
              "        async function convertToInteractive(key) {\n",
              "          const element = document.querySelector('#df-7684f164-711c-4eac-80d9-b769e7e9c24a');\n",
              "          const dataTable =\n",
              "            await google.colab.kernel.invokeFunction('convertToInteractive',\n",
              "                                                     [key], {});\n",
              "          if (!dataTable) return;\n",
              "\n",
              "          const docLinkHtml = 'Like what you see? Visit the ' +\n",
              "            '<a target=\"_blank\" href=https://colab.research.google.com/notebooks/data_table.ipynb>data table notebook</a>'\n",
              "            + ' to learn more about interactive tables.';\n",
              "          element.innerHTML = '';\n",
              "          dataTable['output_type'] = 'display_data';\n",
              "          await google.colab.output.renderOutput(dataTable, element);\n",
              "          const docLink = document.createElement('div');\n",
              "          docLink.innerHTML = docLinkHtml;\n",
              "          element.appendChild(docLink);\n",
              "        }\n",
              "      </script>\n",
              "    </div>\n",
              "  </div>\n",
              "  "
            ]
          },
          "metadata": {},
          "execution_count": 34
        }
      ],
      "source": [
        "concentrate_df.head()"
      ]
    },
    {
      "cell_type": "markdown",
      "metadata": {
        "id": "Oo-ncCsRUPbh"
      },
      "source": [
        "График"
      ]
    },
    {
      "cell_type": "code",
      "execution_count": 35,
      "metadata": {
        "colab": {
          "base_uri": "https://localhost:8080/",
          "height": 295
        },
        "id": "-5pplLIfUPbi",
        "outputId": "f41f2396-f78f-4b11-939c-6dfebb2b99f4"
      },
      "outputs": [
        {
          "output_type": "display_data",
          "data": {
            "text/plain": [
              "<Figure size 432x288 with 1 Axes>"
            ],
            "image/png": "[encoded data removed]"
          },
          "metadata": {
            "needs_background": "light"
          }
        }
      ],
      "source": [
        "concentrate_df.plot(kind='bar')\n",
        "plt.title('Изменение концентрации на различных этапах очистки')\n",
        "plt.xlabel('Металлы')\n",
        "plt.ylabel('Значение')\n",
        "plt.xticks(range(len(concentrate_df['metall'])), labels=concentrate_df['metall'], rotation=0)\n",
        "plt.grid()\n",
        "plt.show()"
      ]
    },
    {
      "cell_type": "markdown",
      "metadata": {
        "id": "qpGiFKdUUPbi"
      },
      "source": [
        "Как видно из графика, производство эффективное, концентрация золота стремительно растет после каждого этапа очистки. Странно, что для серебра концентрация падает, наверное это связано с технологией обогощения золота. Концентрация другого сопутствующего металла - Свинца, также растет после каждого этапа очистки."
      ]
    },
    {
      "cell_type": "markdown",
      "metadata": {
        "id": "d08z8UwhUPbi"
      },
      "source": [
        "### Сравнение распределения размеров гранул сырья на обучающей и тестовой выборках"
      ]
    },
    {
      "cell_type": "markdown",
      "metadata": {
        "id": "WhuTQppyUPbi"
      },
      "source": [
        "Построим графики распределения размеров гранул сырья"
      ]
    },
    {
      "cell_type": "code",
      "execution_count": 36,
      "metadata": {
        "colab": {
          "base_uri": "https://localhost:8080/",
          "height": 439
        },
        "id": "yv9ta6XfUPbj",
        "outputId": "05539446-8b3c-477a-b83a-dc5106877bba"
      },
      "outputs": [
        {
          "output_type": "display_data",
          "data": {
            "text/plain": [
              "<Figure size 864x432 with 1 Axes>"
            ],
            "image/png": "[encoded data removed]"
          },
          "metadata": {
            "needs_background": "light"
          }
        },
        {
          "output_type": "stream",
          "name": "stdout",
          "text": [
            "Средний размер для выборки train: 60.003700349620956 (пунктирная оранжевая линия)\n",
            "Средний размер для выборки test: 55.95283531239522 (пунктирная красная линия)\n"
          ]
        }
      ],
      "source": [
        "def plot_hist(ax, values, color, label):\n",
        "    ax.hist(values, histtype=\"stepfilled\", bins=30, alpha=0.7, density=True,\n",
        "           linewidth=0.5, edgecolor='black', color=color, label=label)\n",
        "\n",
        "\n",
        "fig, ax = plt.subplots()\n",
        "fig.set_size_inches(12,6)\n",
        "plot_hist(ax, df_train['rougher.input.feed_size'], 'blue', 'df_train')\n",
        "plot_hist(ax, df_test['rougher.input.feed_size'], 'green', 'df_test')\n",
        "\n",
        "plt.xlabel('Размер гранул сырья')\n",
        "plt.ylabel('Относительное количество')\n",
        "plt.title('Распределение гранул сырья по размерам')\n",
        "plt.axvline(x=df_train['rougher.input.feed_size'].mean(), linestyle='--', color='orange', label='df_train - mean') #means\n",
        "plt.axvline(x=df_test['rougher.input.feed_size'].mean(), linestyle='--', color='red', label='df_test - mean')\n",
        "plt.legend(frameon=True)\n",
        "plt.grid(True)\n",
        "plt.show()\n",
        "\n",
        "#Text\n",
        "print(\"Средний размер для выборки train:\", df_train['rougher.input.feed_size'].mean(), '(пунктирная оранжевая линия)')\n",
        "print(\"Средний размер для выборки test:\", df_test['rougher.input.feed_size'].mean(), '(пунктирная красная линия)')"
      ]
    },
    {
      "cell_type": "markdown",
      "metadata": {
        "id": "UPOkyU_UUPbj"
      },
      "source": [
        "Как видно из графика, средние размеры гранул сырья довольно похожи, как и распределения для тестовой и тренировочной выборок. В тестовой выборке чуть меньше размеры гранул, и их больше. Так же присутствуют выбросы в обоих выборках, которые предлагается заменить средним значением для каждой выборки."
      ]
    },
    {
      "cell_type": "markdown",
      "metadata": {
        "id": "8bIKrqZ1UPbj"
      },
      "source": [
        "Сначала определимся с граничными значениями для каждой выборки, руководствоваться будем правилом трех сигм"
      ]
    },
    {
      "cell_type": "code",
      "execution_count": 37,
      "metadata": {
        "id": "4oA4rJ3NUPbj"
      },
      "outputs": [],
      "source": [
        "def three_sigma(series):\n",
        "    return list([round(series.mean() - 3 * series.std(), 2), round(series.mean() + 3 * series.std(), 2)])"
      ]
    },
    {
      "cell_type": "code",
      "execution_count": 38,
      "metadata": {
        "colab": {
          "base_uri": "https://localhost:8080/"
        },
        "id": "LDwi28twUPbk",
        "outputId": "b17891d8-e4f8-4aee-be14-e83e1a16cd7e"
      },
      "outputs": [
        {
          "output_type": "stream",
          "name": "stdout",
          "text": [
            "Для выборки train = -9.99 - 130.0\n",
            "Для выборки test  = -1.29 - 113.19\n"
          ]
        }
      ],
      "source": [
        "list_range_feed_train = three_sigma(df_train['rougher.input.feed_size'])\n",
        "list_range_feed_test = three_sigma(df_test['rougher.input.feed_size'])\n",
        "\n",
        "print('Для выборки train =', list_range_feed_train[0], '-', list_range_feed_train[1])\n",
        "print('Для выборки test  =', list_range_feed_test[0], '-', list_range_feed_test[1])"
      ]
    },
    {
      "cell_type": "markdown",
      "metadata": {
        "id": "_zS0aGH5UPbk"
      },
      "source": [
        "Так как отрицательных значений нет, и у нас выбросы только справой стороны графика, то задача будет чуточку легче."
      ]
    },
    {
      "cell_type": "code",
      "execution_count": 39,
      "metadata": {
        "id": "BKBCs70kUPbk"
      },
      "outputs": [],
      "source": [
        "new_mean_feed_train = df_train.loc[df_train['rougher.input.feed_size'] < list_range_feed_train[1], 'rougher.input.feed_size'].mean()\n",
        "new_mean_feed_test = df_test.loc[df_test['rougher.input.feed_size'] < list_range_feed_test[1], 'rougher.input.feed_size'].mean()"
      ]
    },
    {
      "cell_type": "code",
      "execution_count": 40,
      "metadata": {
        "id": "2G0PUmfXUPbk"
      },
      "outputs": [],
      "source": [
        "df_train.loc[df_train['rougher.input.feed_size'] > list_range_feed_train[1], 'rougher.input.feed_size'] = new_mean_feed_train\n",
        "df_test.loc[df_test['rougher.input.feed_size'] > list_range_feed_test[1], 'rougher.input.feed_size'] = new_mean_feed_test"
      ]
    },
    {
      "cell_type": "markdown",
      "metadata": {
        "id": "DkU1EvHYUPbl"
      },
      "source": [
        "Построим заново графики распределения размеров гранул"
      ]
    },
    {
      "cell_type": "code",
      "execution_count": 41,
      "metadata": {
        "colab": {
          "base_uri": "https://localhost:8080/",
          "height": 439
        },
        "id": "dBUUsNLyUPbl",
        "outputId": "a1bb2c1b-5f30-4217-8889-20af77c07723"
      },
      "outputs": [
        {
          "output_type": "display_data",
          "data": {
            "text/plain": [
              "<Figure size 864x432 with 1 Axes>"
            ],
            "image/png": "[encoded data removed]"
          },
          "metadata": {
            "needs_background": "light"
          }
        },
        {
          "output_type": "stream",
          "name": "stdout",
          "text": [
            "Средний размер для выборки train: 58.33255434831147 (пунктирная оранжевая линия)\n",
            "Средний размер для выборки test: 54.83843688802501 (пунктирная красная линия)\n"
          ]
        }
      ],
      "source": [
        "def plot_hist(ax, values, color, label):\n",
        "    ax.hist(values, histtype=\"stepfilled\", bins=30, alpha=0.7, density=True,\n",
        "           linewidth=0.5, edgecolor='black', color=color, label=label)\n",
        "\n",
        "\n",
        "fig, ax = plt.subplots()\n",
        "fig.set_size_inches(12,6)\n",
        "plot_hist(ax, df_train['rougher.input.feed_size'], 'blue', 'df_train')\n",
        "plot_hist(ax, df_test['rougher.input.feed_size'], 'green', 'df_test')\n",
        "\n",
        "plt.xlabel('Размер гранул сырья')\n",
        "plt.ylabel('Относительное количество')\n",
        "plt.title('Распределение гранул сырья по размерам')\n",
        "plt.axvline(x=df_train['rougher.input.feed_size'].mean(), linestyle='--', color='orange', label='df_train - mean') #means\n",
        "plt.axvline(x=df_test['rougher.input.feed_size'].mean(), linestyle='--', color='red', label='df_test - mean')\n",
        "plt.legend(frameon=True)\n",
        "plt.grid(True)\n",
        "plt.show()\n",
        "\n",
        "#Text\n",
        "print(\"Средний размер для выборки train:\", df_train['rougher.input.feed_size'].mean(), '(пунктирная оранжевая линия)')\n",
        "print(\"Средний размер для выборки test:\", df_test['rougher.input.feed_size'].mean(), '(пунктирная красная линия)')"
      ]
    },
    {
      "cell_type": "markdown",
      "metadata": {
        "id": "_ioSQ7OZUPbl"
      },
      "source": [
        "Уже на много лучше, но все равно вызывает большой вопрос в тестовой выборке большое количество значений около 45. Оставим эту доставерность на совесть заказчика."
      ]
    },
    {
      "cell_type": "markdown",
      "metadata": {
        "id": "z7SMdReHUPbm"
      },
      "source": [
        "### Исследование суммарной концентрацию всех веществ на разных стадиях"
      ]
    },
    {
      "cell_type": "markdown",
      "metadata": {
        "id": "CEAXqFILUPbm"
      },
      "source": [
        "Создадим таблицу для суммарной концентрации и построения графиков"
      ]
    },
    {
      "cell_type": "code",
      "execution_count": 42,
      "metadata": {
        "id": "I3aeZr4KUPbm"
      },
      "outputs": [],
      "source": [
        "def total_conc(table):\n",
        "    total_concentrate = pd.DataFrame()\n",
        "    total_concentrate['feed_train'] = (table['rougher.input.feed_ag'] + \n",
        "                                      table['rougher.input.feed_pb'] + \n",
        "                                      table['rougher.input.feed_sol'] + \n",
        "                                      table['rougher.input.feed_au'])\n",
        "    total_concentrate['rougher_train'] = (table['rougher.output.concentrate_ag'] + \n",
        "                                      table['rougher.output.concentrate_pb'] + \n",
        "                                      table['rougher.output.concentrate_sol'] + \n",
        "                                      table['rougher.output.concentrate_au'])\n",
        "    total_concentrate['primary_cleaner_train'] = (table['primary_cleaner.output.concentrate_ag'] + \n",
        "                                              table['primary_cleaner.output.concentrate_pb'] + \n",
        "                                              table['primary_cleaner.output.concentrate_sol'] + \n",
        "                                              table['primary_cleaner.output.concentrate_au'])\n",
        "    total_concentrate['final_cleaner_train'] = (table['final.output.concentrate_ag'] + \n",
        "                                              table['final.output.concentrate_pb'] + \n",
        "                                              table['final.output.concentrate_sol'] + \n",
        "                                              table['final.output.concentrate_au'])\n",
        "    return total_concentrate"
      ]
    },
    {
      "cell_type": "code",
      "execution_count": 43,
      "metadata": {
        "id": "opUYyluWUPbm"
      },
      "outputs": [],
      "source": [
        "conc_train = total_conc(df_train)"
      ]
    },
    {
      "cell_type": "code",
      "execution_count": 44,
      "metadata": {
        "colab": {
          "base_uri": "https://localhost:8080/",
          "height": 404
        },
        "id": "AkGCC6IxUPbn",
        "outputId": "c3e35efc-38d2-4679-9667-69a8c4b8af8a"
      },
      "outputs": [
        {
          "output_type": "display_data",
          "data": {
            "text/plain": [
              "<Figure size 864x432 with 1 Axes>"
            ],
            "image/png": "[encoded data removed]"
          },
          "metadata": {
            "needs_background": "light"
          }
        }
      ],
      "source": [
        "def plot_hist(ax, values, color, label):\n",
        "    ax.hist(values, histtype=\"stepfilled\", bins=30, alpha=0.7, density=True,\n",
        "           linewidth=0.5, edgecolor='black', color=color, label=label)\n",
        "\n",
        "\n",
        "fig, ax = plt.subplots()\n",
        "fig.set_size_inches(12,6)\n",
        "plot_hist(ax, conc_train['feed_train'], 'orange', 'feed_train')\n",
        "plot_hist(ax, conc_train['rougher_train'], 'blue', 'rougher_train')\n",
        "plot_hist(ax, conc_train['primary_cleaner_train'], 'green', 'primary_cleaner_train')\n",
        "plot_hist(ax, conc_train['final_cleaner_train'], 'yellow', 'final_cleaner_train')\n",
        "\n",
        "plt.xlabel('Концентрация')\n",
        "plt.ylabel('Относительное количество')\n",
        "plt.title('Распределение суммарной концентрации металлов на разных этапах')\n",
        "#means\n",
        "plt.axvline(x=conc_train['feed_train'].mean(), linestyle='--', color='red', label='feed - mean')\n",
        "plt.axvline(x=conc_train['rougher_train'].mean(), linestyle='--', color='brown', label='rougher - mean')\n",
        "plt.axvline(x=conc_train['primary_cleaner_train'].mean(), linestyle='--', color='black', label='primary_cleaner - mean')\n",
        "plt.axvline(x=conc_train['final_cleaner_train'].mean(), linestyle='--', color='orange', label='final_cleaner - mean')\n",
        "\n",
        "plt.legend(frameon=True)\n",
        "plt.grid(True)\n",
        "plt.show()\n"
      ]
    },
    {
      "cell_type": "markdown",
      "metadata": {
        "id": "6AYu2vB3UPbn"
      },
      "source": [
        "Очень сильно смущают данные для этапов **rougher_train & primary_cleaner_train**. А если взять в расчет, что мы дополнительно показали на графике загружаемое сырье (оранжевый цвет), и в нем нет 0 значений, значит это ошибки при вводе данных. Предлагается их заменить средним, как мы делали ранее. Так же очень странно, что средняя итоговая концентрация после этапа Флотации выше, чем после этапа первичной очистки. И потом резкий рост после второй стадии очистки. Предположительно это связано с технологией обогащения."
      ]
    },
    {
      "cell_type": "markdown",
      "metadata": {
        "id": "qoWXP2wmUPbn"
      },
      "source": [
        "Аналогично посчитаем допустимый диапазон в 3 сигмы для каждого этапа каждому металлу, дополнительно изменим данные для загружаемого сырья, и финальных результатов."
      ]
    },
    {
      "cell_type": "code",
      "execution_count": 45,
      "metadata": {
        "id": "6PjETFIbUPbn"
      },
      "outputs": [],
      "source": [
        "list_for_change = ['rougher.input.feed_ag',\n",
        "                   'rougher.input.feed_pb',\n",
        "                   'rougher.input.feed_sol',\n",
        "                   'rougher.input.feed_au',\n",
        "                   'rougher.output.concentrate_ag',\n",
        "                   'rougher.output.concentrate_pb', \n",
        "                   'rougher.output.concentrate_sol',\n",
        "                   'rougher.output.concentrate_au',\n",
        "                   'primary_cleaner.output.concentrate_ag',\n",
        "                   'primary_cleaner.output.concentrate_pb',\n",
        "                   'primary_cleaner.output.concentrate_sol',\n",
        "                   'primary_cleaner.output.concentrate_au',\n",
        "                   'final.output.concentrate_ag',\n",
        "                   'final.output.concentrate_pb',\n",
        "                   'final.output.concentrate_sol',\n",
        "                   'final.output.concentrate_au']"
      ]
    },
    {
      "cell_type": "code",
      "execution_count": 46,
      "metadata": {
        "colab": {
          "base_uri": "https://localhost:8080/"
        },
        "id": "RH6R6WWVUPbo",
        "outputId": "3724e6e1-3c4a-40cd-9f56-cc549933648a"
      },
      "outputs": [
        {
          "output_type": "stream",
          "name": "stdout",
          "text": [
            "Для  rougher.input.feed_ag 3 sigma =  [2.92, 14.29]\n",
            "Для  rougher.input.feed_pb 3 sigma =  [0.37, 6.73]\n",
            "Для  rougher.input.feed_sol 3 sigma =  [21.95, 50.87]\n",
            "Для  rougher.input.feed_au 3 sigma =  [2.39, 13.49]\n",
            "Для  rougher.output.concentrate_ag 3 sigma =  [3.64, 19.88]\n",
            "Для  rougher.output.concentrate_pb 3 sigma =  [2.18, 13.19]\n",
            "Для  rougher.output.concentrate_sol 3 sigma =  [10.31, 46.53]\n",
            "Для  rougher.output.concentrate_au 3 sigma =  [8.23, 30.75]\n",
            "Для  primary_cleaner.output.concentrate_ag 3 sigma =  [2.42, 14.06]\n",
            "Для  primary_cleaner.output.concentrate_pb 3 sigma =  [1.81, 17.53]\n",
            "Для  primary_cleaner.output.concentrate_sol 3 sigma =  [-2.14, 22.22]\n",
            "Для  primary_cleaner.output.concentrate_au 3 sigma =  [16.14, 48.79]\n",
            "Для  final.output.concentrate_ag 3 sigma =  [1.2, 9.07]\n",
            "Для  final.output.concentrate_pb 3 sigma =  [5.73, 14.68]\n",
            "Для  final.output.concentrate_sol 3 sigma =  [1.04, 17.47]\n",
            "Для  final.output.concentrate_au 3 sigma =  [32.39, 56.03]\n"
          ]
        }
      ],
      "source": [
        "list_range_conc = []\n",
        "for x in list_for_change:\n",
        "    list_range_conc.append(three_sigma(df_train[x])) # список диапазонов\n",
        "    print('Для ',x, '3 sigma = ',list_range_conc[-1])\n",
        "    df_train.loc[df_train[x] < list_range_conc[-1][0], x] = df_train.loc[df_train[x] > list_range_conc[-1][0], x].mean()"
      ]
    },
    {
      "cell_type": "markdown",
      "metadata": {
        "id": "k1s0WHlSUPbo"
      },
      "source": [
        "Проверка"
      ]
    },
    {
      "cell_type": "code",
      "execution_count": 47,
      "metadata": {
        "id": "jjtOo7flUPbo"
      },
      "outputs": [],
      "source": [
        "conc_train = total_conc(df_train)"
      ]
    },
    {
      "cell_type": "code",
      "execution_count": 48,
      "metadata": {
        "colab": {
          "base_uri": "https://localhost:8080/",
          "height": 404
        },
        "id": "TmacXX9dUPbp",
        "outputId": "7d7f018d-90a6-4a2a-c41c-645d18555101"
      },
      "outputs": [
        {
          "output_type": "display_data",
          "data": {
            "text/plain": [
              "<Figure size 864x432 with 1 Axes>"
            ],
            "image/png": "[encoded data removed]"
          },
          "metadata": {
            "needs_background": "light"
          }
        }
      ],
      "source": [
        "def plot_hist(ax, values, color, label):\n",
        "    ax.hist(values, histtype=\"stepfilled\", bins=30, alpha=0.7, density=True,\n",
        "           linewidth=0.5, edgecolor='black', color=color, label=label)\n",
        "\n",
        "\n",
        "fig, ax = plt.subplots()\n",
        "fig.set_size_inches(12,6)\n",
        "plot_hist(ax, conc_train['feed_train'], 'orange', 'feed_train')\n",
        "plot_hist(ax, conc_train['rougher_train'], 'blue', 'rougher_train')\n",
        "plot_hist(ax, conc_train['primary_cleaner_train'], 'green', 'primary_cleaner_train')\n",
        "plot_hist(ax, conc_train['final_cleaner_train'], 'yellow', 'final_cleaner_train')\n",
        "\n",
        "plt.xlabel('Концентрация')\n",
        "plt.ylabel('Относительное количество')\n",
        "plt.title('Распределение суммарной концентрации металлов на разных этапах')\n",
        "#means\n",
        "plt.axvline(x=conc_train['feed_train'].mean(), linestyle='--', color='red', label='feed - mean')\n",
        "plt.axvline(x=conc_train['rougher_train'].mean(), linestyle='--', color='brown', label='rougher - mean')\n",
        "plt.axvline(x=conc_train['primary_cleaner_train'].mean(), linestyle='--', color='black', label='primary_cleaner - mean')\n",
        "plt.axvline(x=conc_train['final_cleaner_train'].mean(), linestyle='--', color='orange', label='final_cleaner - mean')\n",
        "\n",
        "plt.legend(frameon=True)\n",
        "plt.grid(True)\n",
        "plt.show()"
      ]
    },
    {
      "cell_type": "markdown",
      "metadata": {
        "id": "MYiKRDT2UPbp"
      },
      "source": [
        "Так на много лучше выглядит. По данному графику видно, как улучшалась общая концентарция металлов в руде после каждого этапа. После последней очистки средняя концентрация осталось такой же, как и была до, но зато уменьшился ее разброс, руда стала более \"насыщенной\" или концентрированной =)"
      ]
    },
    {
      "cell_type": "markdown",
      "metadata": {
        "id": "TODF5JlgUPbp"
      },
      "source": [
        "### Вывод"
      ]
    },
    {
      "cell_type": "markdown",
      "metadata": {
        "id": "sg4kYvDYUPbp"
      },
      "source": [
        "Благодаря анализу данных удалось выявить выбросы в данных и исправить их. Что положительно скажется на предсказательной способности нашей будущей модели. Выбором модели займемся в следующем пункте."
      ]
    },
    {
      "cell_type": "markdown",
      "metadata": {
        "id": "Xiq2Nc8RUPbq"
      },
      "source": [
        "## Модель"
      ]
    },
    {
      "cell_type": "markdown",
      "metadata": {
        "id": "7whLQZYGUPbq"
      },
      "source": [
        "### Последняя подготовка данных"
      ]
    },
    {
      "cell_type": "markdown",
      "metadata": {
        "id": "-CycXBO7UPbq"
      },
      "source": [
        "Нужно выделить данные(признаки) для обучения и разделить выборку для обучения на тренировочную и валидационную. Тестовая выборка дана уже почти готовой."
      ]
    },
    {
      "cell_type": "code",
      "execution_count": 49,
      "metadata": {
        "id": "8RnIyxGJUPbq"
      },
      "outputs": [],
      "source": [
        "list_to_drop = ['final.output.concentrate_ag', 'final.output.concentrate_pb', 'final.output.concentrate_sol', \n",
        "                'final.output.concentrate_au', 'final.output.tail_ag', 'final.output.tail_pb', 'final.output.tail_sol',\n",
        "                'final.output.tail_au', 'primary_cleaner.output.concentrate_ag', 'primary_cleaner.output.concentrate_pb', \n",
        "                'primary_cleaner.output.concentrate_sol', 'primary_cleaner.output.concentrate_au',\n",
        "                'primary_cleaner.output.tail_ag', 'primary_cleaner.output.tail_pb', 'primary_cleaner.output.tail_sol', \n",
        "                'primary_cleaner.output.tail_au', 'rougher.calculation.sulfate_to_au_concentrate', \n",
        "                'rougher.calculation.floatbank10_sulfate_to_au_feed', 'rougher.calculation.floatbank11_sulfate_to_au_feed',\n",
        "                'rougher.calculation.au_pb_ratio', 'rougher.output.concentrate_ag', 'rougher.output.concentrate_pb',\n",
        "                'rougher.output.concentrate_sol', 'rougher.output.concentrate_au', 'rougher.output.tail_ag', \n",
        "                'rougher.output.tail_pb', 'rougher.output.tail_sol', 'rougher.output.tail_au', \n",
        "                'secondary_cleaner.output.tail_ag', 'secondary_cleaner.output.tail_pb', 'secondary_cleaner.output.tail_sol',\n",
        "                'secondary_cleaner.output.tail_au', 'rougher.output.recovery_calc', 'date']"
      ]
    },
    {
      "cell_type": "code",
      "execution_count": 50,
      "metadata": {
        "id": "VFm8Cg6xUPbq"
      },
      "outputs": [],
      "source": [
        "df_train_temp = df_train.drop(list_to_drop, axis=1)"
      ]
    },
    {
      "cell_type": "code",
      "execution_count": 51,
      "metadata": {
        "id": "IxJnqiqDUPbr"
      },
      "outputs": [],
      "source": [
        "df_train_1, df_valid = train_test_split(df_train_temp, test_size=0.25, random_state=101)"
      ]
    },
    {
      "cell_type": "markdown",
      "metadata": {
        "id": "F3I_ChhQUPbr"
      },
      "source": [
        "Делим выборки на признаки и таргеты"
      ]
    },
    {
      "cell_type": "code",
      "execution_count": 52,
      "metadata": {
        "id": "cDg_fTPfUPbr"
      },
      "outputs": [],
      "source": [
        "features_train = df_train_1.drop(['rougher.output.recovery', 'final.output.recovery'], axis=1)\n",
        "target_train = df_train_1[['rougher.output.recovery', 'final.output.recovery']]"
      ]
    },
    {
      "cell_type": "code",
      "execution_count": 53,
      "metadata": {
        "id": "BVYhxqpdUPbr"
      },
      "outputs": [],
      "source": [
        "features_valid = df_valid.drop(['rougher.output.recovery', 'final.output.recovery'], axis=1)\n",
        "target_valid = df_valid[['rougher.output.recovery', 'final.output.recovery']]"
      ]
    },
    {
      "cell_type": "markdown",
      "metadata": {
        "id": "yCg7PxdjUPbs"
      },
      "source": [
        "Так как `df_test` таблица не содержит **target**, их надо взять из таблицы `df_full`, сопоставив их по дате. Не забыв, сбросить индексы и удалить колонку с датой"
      ]
    },
    {
      "cell_type": "code",
      "execution_count": 54,
      "metadata": {
        "id": "x6GpMKfcUPbs"
      },
      "outputs": [],
      "source": [
        "df_test_temp = df_test\n",
        "df_test_temp = df_test_temp.set_index('date')\n",
        "df_full = df_full.set_index('date')\n",
        "new_df = df_full.loc[df_test_temp.index]"
      ]
    },
    {
      "cell_type": "code",
      "execution_count": 55,
      "metadata": {
        "id": "8mR25YMlUPbs"
      },
      "outputs": [],
      "source": [
        "features_test = df_test\n",
        "target_test = new_df[['rougher.output.recovery', 'final.output.recovery']]"
      ]
    },
    {
      "cell_type": "markdown",
      "metadata": {
        "id": "siapPGztUPbt"
      },
      "source": [
        "Сбрасываем во всех таблицах индексы"
      ]
    },
    {
      "cell_type": "code",
      "execution_count": 56,
      "metadata": {
        "id": "xV1QsFnXUPbt"
      },
      "outputs": [],
      "source": [
        "features_train = features_train.reset_index(drop=True)\n",
        "target_train = target_train.reset_index(drop=True)\n",
        "features_valid = features_valid.reset_index(drop=True)\n",
        "target_valid = target_valid.reset_index(drop=True)\n",
        "features_test = features_test.reset_index(drop=True).drop(['date'], axis=1)\n",
        "target_test = target_test.reset_index(drop=True)"
      ]
    },
    {
      "cell_type": "markdown",
      "metadata": {
        "id": "lBZx19LbUPbt"
      },
      "source": [
        "Проверка"
      ]
    },
    {
      "cell_type": "code",
      "execution_count": 57,
      "metadata": {
        "colab": {
          "base_uri": "https://localhost:8080/",
          "height": 121
        },
        "id": "i2p50PH7UPbt",
        "outputId": "b4c9b6d1-13c0-4387-e06f-34f1dca1a610"
      },
      "outputs": [
        {
          "output_type": "display_data",
          "data": {
            "text/plain": [
              "(10275, 52)"
            ]
          },
          "metadata": {}
        },
        {
          "output_type": "display_data",
          "data": {
            "text/plain": [
              "(10275, 2)"
            ]
          },
          "metadata": {}
        },
        {
          "output_type": "display_data",
          "data": {
            "text/plain": [
              "(3425, 52)"
            ]
          },
          "metadata": {}
        },
        {
          "output_type": "display_data",
          "data": {
            "text/plain": [
              "(3425, 2)"
            ]
          },
          "metadata": {}
        },
        {
          "output_type": "display_data",
          "data": {
            "text/plain": [
              "(5290, 52)"
            ]
          },
          "metadata": {}
        },
        {
          "output_type": "display_data",
          "data": {
            "text/plain": [
              "(5290, 2)"
            ]
          },
          "metadata": {}
        }
      ],
      "source": [
        "display(features_train.shape)\n",
        "display(target_train.shape)\n",
        "display(features_valid.shape)\n",
        "display(target_valid.shape)\n",
        "display(features_test.shape)\n",
        "display(target_test.shape)"
      ]
    },
    {
      "cell_type": "markdown",
      "metadata": {
        "id": "Xmc6bYY-UPbw"
      },
      "source": [
        "### Функция для вычисления итоговой sMAPE"
      ]
    },
    {
      "cell_type": "markdown",
      "metadata": {
        "id": "MioRfJj8UPbw"
      },
      "source": [
        "По условию задачи надо использовать метрику, предоставленную Заказчиком, напишем функцию для вычисления нашей метрики качества"
      ]
    },
    {
      "cell_type": "code",
      "execution_count": 58,
      "metadata": {
        "id": "xi4QaIjhUPbw"
      },
      "outputs": [],
      "source": [
        "def smape_value(targets, predictions):\n",
        "    smape_0 = ((abs(targets['rougher.output.recovery'] - predictions[0]) / \n",
        "                ((abs(targets['rougher.output.recovery']) + abs(predictions[0])) / 2)).mean() * 100)\n",
        "    smape_1 = ((abs(targets['final.output.recovery'] - predictions[1]) / \n",
        "                ((abs(targets['final.output.recovery']) + abs(predictions[1])) / 2)).mean() * 100)\n",
        "    return (0.25*smape_0 + 0.75*smape_1)"
      ]
    },
    {
      "cell_type": "markdown",
      "metadata": {
        "id": "elGPDw8nUPbw"
      },
      "source": [
        "### Выбор моделей"
      ]
    },
    {
      "cell_type": "markdown",
      "metadata": {
        "id": "-qWwi71MUPbw"
      },
      "source": [
        "Рассмотрим как справятся с предсказанием две различных модели, пойдем от простого к сложному:\n",
        "* Линейная регрессия\n",
        "* Градиентный бустинг в лице Catboost (рассмотрим два варианта)"
      ]
    },
    {
      "cell_type": "markdown",
      "metadata": {
        "id": "HacbGsA8UPbx"
      },
      "source": [
        "#### LinearRegression"
      ]
    },
    {
      "cell_type": "markdown",
      "metadata": {
        "id": "OFe-F4nHUPbx"
      },
      "source": [
        "Создадим и обучим модель"
      ]
    },
    {
      "cell_type": "code",
      "execution_count": 59,
      "metadata": {
        "id": "LKet8a2PUPbx"
      },
      "outputs": [],
      "source": [
        "model_1 = LinearRegression().fit(features_train, target_train)"
      ]
    },
    {
      "cell_type": "code",
      "execution_count": 60,
      "metadata": {
        "id": "JZEBNWbeUPbx"
      },
      "outputs": [],
      "source": [
        "predict_1 = model_1.predict(features_valid)"
      ]
    },
    {
      "cell_type": "markdown",
      "metadata": {
        "id": "YBnOvtYyUPbx"
      },
      "source": [
        "Результаты занесем в созданную табличку"
      ]
    },
    {
      "cell_type": "code",
      "execution_count": 61,
      "metadata": {
        "id": "NB-_ejGRUPby"
      },
      "outputs": [],
      "source": [
        "result_df = pd.DataFrame(columns=['model', 'final_smape'])"
      ]
    },
    {
      "cell_type": "code",
      "execution_count": 62,
      "metadata": {
        "id": "smS1L9b5UPby"
      },
      "outputs": [],
      "source": [
        "result_df.loc[0]=['LinearRegression_valid', round(smape_value(target_valid, pd.DataFrame(predict_1)), 2)]"
      ]
    },
    {
      "cell_type": "code",
      "execution_count": 63,
      "metadata": {
        "colab": {
          "base_uri": "https://localhost:8080/",
          "height": 81
        },
        "id": "9Hwvh1ruUPby",
        "outputId": "b2a0fe02-6e21-4fdc-84f0-8e896e5b6f3c"
      },
      "outputs": [
        {
          "output_type": "execute_result",
          "data": {
            "text/plain": [
              "                    model  final_smape\n",
              "0  LinearRegression_valid         8.24"
            ],
            "text/html": [
              "\n",
              "  <div id=\"df-60213acc-daf8-4d65-aa49-779750777af2\">\n",
              "    <div class=\"colab-df-container\">\n",
              "      <div>\n",
              "<style scoped>\n",
              "    .dataframe tbody tr th:only-of-type {\n",
              "        vertical-align: middle;\n",
              "    }\n",
              "\n",
              "    .dataframe tbody tr th {\n",
              "        vertical-align: top;\n",
              "    }\n",
              "\n",
              "    .dataframe thead th {\n",
              "        text-align: right;\n",
              "    }\n",
              "</style>\n",
              "<table border=\"1\" class=\"dataframe\">\n",
              "  <thead>\n",
              "    <tr style=\"text-align: right;\">\n",
              "      <th></th>\n",
              "      <th>model</th>\n",
              "      <th>final_smape</th>\n",
              "    </tr>\n",
              "  </thead>\n",
              "  <tbody>\n",
              "    <tr>\n",
              "      <th>0</th>\n",
              "      <td>LinearRegression_valid</td>\n",
              "      <td>8.24</td>\n",
              "    </tr>\n",
              "  </tbody>\n",
              "</table>\n",
              "</div>\n",
              "      <button class=\"colab-df-convert\" onclick=\"convertToInteractive('df-60213acc-daf8-4d65-aa49-779750777af2')\"\n",
              "              title=\"Convert this dataframe to an interactive table.\"\n",
              "              style=\"display:none;\">\n",
              "        \n",
              "  <svg xmlns=\"http://www.w3.org/2000/svg\" height=\"24px\"viewBox=\"0 0 24 24\"\n",
              "       width=\"24px\">\n",
              "    <path d=\"M0 0h24v24H0V0z\" fill=\"none\"/>\n",
              "    <path d=\"M18.56 5.44l.94 2.06.94-2.06 2.06-.94-2.06-.94-.94-2.06-.94 2.06-2.06.94zm-11 1L8.5 8.5l.94-2.06 2.06-.94-2.06-.94L8.5 2.5l-.94 2.06-2.06.94zm10 10l.94 2.06.94-2.06 2.06-.94-2.06-.94-.94-2.06-.94 2.06-2.06.94z\"/><path d=\"M17.41 7.96l-1.37-1.37c-.4-.4-.92-.59-1.43-.59-.52 0-1.04.2-1.43.59L10.3 9.45l-7.72 7.72c-.78.78-.78 2.05 0 2.83L4 21.41c.39.39.9.59 1.41.59.51 0 1.02-.2 1.41-.59l7.78-7.78 2.81-2.81c.8-.78.8-2.07 0-2.86zM5.41 20L4 18.59l7.72-7.72 1.47 1.35L5.41 20z\"/>\n",
              "  </svg>\n",
              "      </button>\n",
              "      \n",
              "  <style>\n",
              "    .colab-df-container {\n",
              "      display:flex;\n",
              "      flex-wrap:wrap;\n",
              "      gap: 12px;\n",
              "    }\n",
              "\n",
              "    .colab-df-convert {\n",
              "      background-color: #E8F0FE;\n",
              "      border: none;\n",
              "      border-radius: 50%;\n",
              "      cursor: pointer;\n",
              "      display: none;\n",
              "      fill: #1967D2;\n",
              "      height: 32px;\n",
              "      padding: 0 0 0 0;\n",
              "      width: 32px;\n",
              "    }\n",
              "\n",
              "    .colab-df-convert:hover {\n",
              "      background-color: #E2EBFA;\n",
              "      box-shadow: 0px 1px 2px rgba(60, 64, 67, 0.3), 0px 1px 3px 1px rgba(60, 64, 67, 0.15);\n",
              "      fill: #174EA6;\n",
              "    }\n",
              "\n",
              "    [theme=dark] .colab-df-convert {\n",
              "      background-color: #3B4455;\n",
              "      fill: #D2E3FC;\n",
              "    }\n",
              "\n",
              "    [theme=dark] .colab-df-convert:hover {\n",
              "      background-color: #434B5C;\n",
              "      box-shadow: 0px 1px 3px 1px rgba(0, 0, 0, 0.15);\n",
              "      filter: drop-shadow(0px 1px 2px rgba(0, 0, 0, 0.3));\n",
              "      fill: #FFFFFF;\n",
              "    }\n",
              "  </style>\n",
              "\n",
              "      <script>\n",
              "        const buttonEl =\n",
              "          document.querySelector('#df-60213acc-daf8-4d65-aa49-779750777af2 button.colab-df-convert');\n",
              "        buttonEl.style.display =\n",
              "          google.colab.kernel.accessAllowed ? 'block' : 'none';\n",
              "\n",
              "        async function convertToInteractive(key) {\n",
              "          const element = document.querySelector('#df-60213acc-daf8-4d65-aa49-779750777af2');\n",
              "          const dataTable =\n",
              "            await google.colab.kernel.invokeFunction('convertToInteractive',\n",
              "                                                     [key], {});\n",
              "          if (!dataTable) return;\n",
              "\n",
              "          const docLinkHtml = 'Like what you see? Visit the ' +\n",
              "            '<a target=\"_blank\" href=https://colab.research.google.com/notebooks/data_table.ipynb>data table notebook</a>'\n",
              "            + ' to learn more about interactive tables.';\n",
              "          element.innerHTML = '';\n",
              "          dataTable['output_type'] = 'display_data';\n",
              "          await google.colab.output.renderOutput(dataTable, element);\n",
              "          const docLink = document.createElement('div');\n",
              "          docLink.innerHTML = docLinkHtml;\n",
              "          element.appendChild(docLink);\n",
              "        }\n",
              "      </script>\n",
              "    </div>\n",
              "  </div>\n",
              "  "
            ]
          },
          "metadata": {},
          "execution_count": 63
        }
      ],
      "source": [
        "result_df"
      ]
    },
    {
      "cell_type": "markdown",
      "metadata": {
        "id": "u1tvAcfuUPbz"
      },
      "source": [
        "#### CatBoost - MultiRMSE"
      ]
    },
    {
      "cell_type": "markdown",
      "metadata": {
        "id": "qjKrbskQUPbz"
      },
      "source": [
        "Рассмотрим следующую модель, в этом пункте будем на вход подавать мульти таргет, и предсказания получим тоже мульти. Модель в этом случае будет Одна."
      ]
    },
    {
      "cell_type": "code",
      "execution_count": 64,
      "metadata": {
        "colab": {
          "base_uri": "https://localhost:8080/"
        },
        "id": "LNWKnjFWUPbz",
        "outputId": "262673ee-f300-46ca-8996-d7b03f9d4893"
      },
      "outputs": [
        {
          "output_type": "stream",
          "name": "stdout",
          "text": [
            "Training on fold [0/5]\n",
            "\n",
            "bestTest = 12.45403796\n",
            "bestIteration = 198\n",
            "\n",
            "Training on fold [1/5]\n",
            "\n",
            "bestTest = 10.68148024\n",
            "bestIteration = 199\n",
            "\n",
            "Training on fold [2/5]\n",
            "\n",
            "bestTest = 10.9967121\n",
            "bestIteration = 199\n",
            "\n",
            "Training on fold [3/5]\n",
            "\n",
            "bestTest = 11.42773145\n",
            "bestIteration = 198\n",
            "\n",
            "Training on fold [4/5]\n",
            "\n",
            "bestTest = 11.80101849\n",
            "bestIteration = 199\n",
            "\n"
          ]
        }
      ],
      "source": [
        "model_2 = cb.CatBoostRegressor(random_seed=101, \n",
        "                                 iterations=200, \n",
        "                                 learning_rate=0.15, \n",
        "                                 early_stopping_rounds=20, \n",
        "                                 loss_function = 'MultiRMSE',\n",
        "                                 silent=True)\n",
        "\n",
        "model_2.fit(features_train, target_train, eval_set=(features_valid, target_valid))\n",
        "\n",
        "params = model_2.get_params()\n",
        "\n",
        "cv_data = cb.cv(\n",
        "    params=params,\n",
        "    pool=cb.Pool(features_train, target_train),\n",
        "    fold_count=5, # Разбивка выборки на 5 кусочков\n",
        "    shuffle=True, # Перемешаем данные\n",
        "    partition_random_seed=101,\n",
        ")"
      ]
    },
    {
      "cell_type": "code",
      "execution_count": 65,
      "metadata": {
        "id": "4axr6zDhUPbz"
      },
      "outputs": [],
      "source": [
        "predict_2 = model_2.predict(features_valid)"
      ]
    },
    {
      "cell_type": "code",
      "execution_count": 66,
      "metadata": {
        "id": "Mqg1VZpzUPbz"
      },
      "outputs": [],
      "source": [
        "result_df.loc[1]=['Catboost_valid', round(smape_value(target_valid, pd.DataFrame(predict_2)), 2)]"
      ]
    },
    {
      "cell_type": "code",
      "execution_count": 67,
      "metadata": {
        "scrolled": true,
        "colab": {
          "base_uri": "https://localhost:8080/",
          "height": 112
        },
        "id": "LjPKzk_zUPb0",
        "outputId": "d37bf9a5-f7cb-4eb4-c698-2bde121ee87c"
      },
      "outputs": [
        {
          "output_type": "execute_result",
          "data": {
            "text/plain": [
              "                    model  final_smape\n",
              "0  LinearRegression_valid         8.24\n",
              "1          Catboost_valid         6.71"
            ],
            "text/html": [
              "\n",
              "  <div id=\"df-7c2c8128-a52a-4728-8643-b73de47e2e23\">\n",
              "    <div class=\"colab-df-container\">\n",
              "      <div>\n",
              "<style scoped>\n",
              "    .dataframe tbody tr th:only-of-type {\n",
              "        vertical-align: middle;\n",
              "    }\n",
              "\n",
              "    .dataframe tbody tr th {\n",
              "        vertical-align: top;\n",
              "    }\n",
              "\n",
              "    .dataframe thead th {\n",
              "        text-align: right;\n",
              "    }\n",
              "</style>\n",
              "<table border=\"1\" class=\"dataframe\">\n",
              "  <thead>\n",
              "    <tr style=\"text-align: right;\">\n",
              "      <th></th>\n",
              "      <th>model</th>\n",
              "      <th>final_smape</th>\n",
              "    </tr>\n",
              "  </thead>\n",
              "  <tbody>\n",
              "    <tr>\n",
              "      <th>0</th>\n",
              "      <td>LinearRegression_valid</td>\n",
              "      <td>8.24</td>\n",
              "    </tr>\n",
              "    <tr>\n",
              "      <th>1</th>\n",
              "      <td>Catboost_valid</td>\n",
              "      <td>6.71</td>\n",
              "    </tr>\n",
              "  </tbody>\n",
              "</table>\n",
              "</div>\n",
              "      <button class=\"colab-df-convert\" onclick=\"convertToInteractive('df-7c2c8128-a52a-4728-8643-b73de47e2e23')\"\n",
              "              title=\"Convert this dataframe to an interactive table.\"\n",
              "              style=\"display:none;\">\n",
              "        \n",
              "  <svg xmlns=\"http://www.w3.org/2000/svg\" height=\"24px\"viewBox=\"0 0 24 24\"\n",
              "       width=\"24px\">\n",
              "    <path d=\"M0 0h24v24H0V0z\" fill=\"none\"/>\n",
              "    <path d=\"M18.56 5.44l.94 2.06.94-2.06 2.06-.94-2.06-.94-.94-2.06-.94 2.06-2.06.94zm-11 1L8.5 8.5l.94-2.06 2.06-.94-2.06-.94L8.5 2.5l-.94 2.06-2.06.94zm10 10l.94 2.06.94-2.06 2.06-.94-2.06-.94-.94-2.06-.94 2.06-2.06.94z\"/><path d=\"M17.41 7.96l-1.37-1.37c-.4-.4-.92-.59-1.43-.59-.52 0-1.04.2-1.43.59L10.3 9.45l-7.72 7.72c-.78.78-.78 2.05 0 2.83L4 21.41c.39.39.9.59 1.41.59.51 0 1.02-.2 1.41-.59l7.78-7.78 2.81-2.81c.8-.78.8-2.07 0-2.86zM5.41 20L4 18.59l7.72-7.72 1.47 1.35L5.41 20z\"/>\n",
              "  </svg>\n",
              "      </button>\n",
              "      \n",
              "  <style>\n",
              "    .colab-df-container {\n",
              "      display:flex;\n",
              "      flex-wrap:wrap;\n",
              "      gap: 12px;\n",
              "    }\n",
              "\n",
              "    .colab-df-convert {\n",
              "      background-color: #E8F0FE;\n",
              "      border: none;\n",
              "      border-radius: 50%;\n",
              "      cursor: pointer;\n",
              "      display: none;\n",
              "      fill: #1967D2;\n",
              "      height: 32px;\n",
              "      padding: 0 0 0 0;\n",
              "      width: 32px;\n",
              "    }\n",
              "\n",
              "    .colab-df-convert:hover {\n",
              "      background-color: #E2EBFA;\n",
              "      box-shadow: 0px 1px 2px rgba(60, 64, 67, 0.3), 0px 1px 3px 1px rgba(60, 64, 67, 0.15);\n",
              "      fill: #174EA6;\n",
              "    }\n",
              "\n",
              "    [theme=dark] .colab-df-convert {\n",
              "      background-color: #3B4455;\n",
              "      fill: #D2E3FC;\n",
              "    }\n",
              "\n",
              "    [theme=dark] .colab-df-convert:hover {\n",
              "      background-color: #434B5C;\n",
              "      box-shadow: 0px 1px 3px 1px rgba(0, 0, 0, 0.15);\n",
              "      filter: drop-shadow(0px 1px 2px rgba(0, 0, 0, 0.3));\n",
              "      fill: #FFFFFF;\n",
              "    }\n",
              "  </style>\n",
              "\n",
              "      <script>\n",
              "        const buttonEl =\n",
              "          document.querySelector('#df-7c2c8128-a52a-4728-8643-b73de47e2e23 button.colab-df-convert');\n",
              "        buttonEl.style.display =\n",
              "          google.colab.kernel.accessAllowed ? 'block' : 'none';\n",
              "\n",
              "        async function convertToInteractive(key) {\n",
              "          const element = document.querySelector('#df-7c2c8128-a52a-4728-8643-b73de47e2e23');\n",
              "          const dataTable =\n",
              "            await google.colab.kernel.invokeFunction('convertToInteractive',\n",
              "                                                     [key], {});\n",
              "          if (!dataTable) return;\n",
              "\n",
              "          const docLinkHtml = 'Like what you see? Visit the ' +\n",
              "            '<a target=\"_blank\" href=https://colab.research.google.com/notebooks/data_table.ipynb>data table notebook</a>'\n",
              "            + ' to learn more about interactive tables.';\n",
              "          element.innerHTML = '';\n",
              "          dataTable['output_type'] = 'display_data';\n",
              "          await google.colab.output.renderOutput(dataTable, element);\n",
              "          const docLink = document.createElement('div');\n",
              "          docLink.innerHTML = docLinkHtml;\n",
              "          element.appendChild(docLink);\n",
              "        }\n",
              "      </script>\n",
              "    </div>\n",
              "  </div>\n",
              "  "
            ]
          },
          "metadata": {},
          "execution_count": 67
        }
      ],
      "source": [
        "result_df"
      ]
    },
    {
      "cell_type": "markdown",
      "metadata": {
        "id": "wQFRtR4oUPb0"
      },
      "source": [
        "6,71% уже лучше, посмотрим что нам покажет Catboost при разделении предсказаний"
      ]
    },
    {
      "cell_type": "markdown",
      "metadata": {
        "id": "iHlaGMS5UPb0"
      },
      "source": [
        "#### CatBoost - RMSE"
      ]
    },
    {
      "cell_type": "markdown",
      "metadata": {
        "id": "SFzhu4wfUPb1"
      },
      "source": [
        "В этом пункте, мы обучим две модели. Каждая будет предсказывать свой собственный таргет. Но сначала надо разделить таргеты."
      ]
    },
    {
      "cell_type": "code",
      "execution_count": 68,
      "metadata": {
        "id": "P9Mi-cU7UPb1"
      },
      "outputs": [],
      "source": [
        "target_train_2_1 = target_train['rougher.output.recovery']\n",
        "target_valid_2_1 = target_valid['rougher.output.recovery']\n",
        "target_train_2_2 = target_train['final.output.recovery']\n",
        "target_valid_2_2 = target_valid['final.output.recovery']"
      ]
    },
    {
      "cell_type": "code",
      "execution_count": 69,
      "metadata": {
        "colab": {
          "base_uri": "https://localhost:8080/"
        },
        "id": "6LUZQ_sRUPb1",
        "outputId": "c9eaae92-0b92-419c-e89c-3dbcf0832cf2"
      },
      "outputs": [
        {
          "output_type": "stream",
          "name": "stdout",
          "text": [
            "Training on fold [0/5]\n",
            "\n",
            "bestTest = 10.74634342\n",
            "bestIteration = 191\n",
            "\n",
            "Training on fold [1/5]\n",
            "\n",
            "bestTest = 9.032360566\n",
            "bestIteration = 199\n",
            "\n",
            "Training on fold [2/5]\n",
            "\n",
            "bestTest = 9.153135502\n",
            "bestIteration = 198\n",
            "\n",
            "Training on fold [3/5]\n",
            "\n",
            "bestTest = 9.670319563\n",
            "bestIteration = 193\n",
            "\n",
            "Training on fold [4/5]\n",
            "\n",
            "bestTest = 9.822778682\n",
            "bestIteration = 189\n",
            "\n"
          ]
        }
      ],
      "source": [
        "model_2_1 = cb.CatBoostRegressor(random_seed=101, \n",
        "                                 iterations=200, \n",
        "                                 learning_rate=0.15, \n",
        "                                 early_stopping_rounds=20, \n",
        "                                 loss_function = 'RMSE',\n",
        "                                 silent=True)\n",
        "\n",
        "model_2_1.fit(features_train, target_train_2_1, eval_set=(features_valid, target_valid_2_1))\n",
        "\n",
        "params = model_2_1.get_params()\n",
        "\n",
        "cv_data = cb.cv(\n",
        "    params=params,\n",
        "    pool=cb.Pool(features_train, target_train_2_1),\n",
        "    fold_count=5, # Разбивка выборки на 5 кусочков\n",
        "    shuffle=True, # Перемешаем данные\n",
        "    partition_random_seed=101,\n",
        ")"
      ]
    },
    {
      "cell_type": "code",
      "execution_count": 70,
      "metadata": {
        "id": "xpUdoS43UPb1"
      },
      "outputs": [],
      "source": [
        "predict_2_1 = model_2_1.predict(features_valid)\n",
        "predict_2_1 = pd.Series(predict_2_1)"
      ]
    },
    {
      "cell_type": "markdown",
      "metadata": {
        "id": "PlzdVg6mUPb1"
      },
      "source": [
        "Теперь для второго таргета обучим модель и предскажем значения"
      ]
    },
    {
      "cell_type": "code",
      "execution_count": 71,
      "metadata": {
        "colab": {
          "base_uri": "https://localhost:8080/"
        },
        "id": "PJH24ylZUPb2",
        "outputId": "d5a8c094-227c-4369-b88d-4954074601e0"
      },
      "outputs": [
        {
          "output_type": "stream",
          "name": "stdout",
          "text": [
            "Training on fold [0/5]\n",
            "\n",
            "bestTest = 5.741917306\n",
            "bestIteration = 199\n",
            "\n",
            "Training on fold [1/5]\n",
            "\n",
            "bestTest = 5.292906235\n",
            "bestIteration = 198\n",
            "\n",
            "Training on fold [2/5]\n",
            "\n",
            "bestTest = 5.486162282\n",
            "bestIteration = 191\n",
            "\n",
            "Training on fold [3/5]\n",
            "\n",
            "bestTest = 5.687514383\n",
            "bestIteration = 199\n",
            "\n",
            "Training on fold [4/5]\n",
            "\n",
            "bestTest = 5.662232082\n",
            "bestIteration = 199\n",
            "\n"
          ]
        }
      ],
      "source": [
        "model_2_2 = cb.CatBoostRegressor(random_seed=101, \n",
        "                                 iterations=200, \n",
        "                                 learning_rate=0.15, \n",
        "                                 early_stopping_rounds=20, \n",
        "                                 loss_function = 'RMSE',\n",
        "                                 silent=True)\n",
        "\n",
        "model_2_2.fit(features_train, target_train_2_2, eval_set=(features_valid, target_valid_2_2))\n",
        "\n",
        "params = model_2_2.get_params()\n",
        "\n",
        "cv_data = cb.cv(\n",
        "    params=params,\n",
        "    pool=cb.Pool(features_train, target_train_2_2),\n",
        "    fold_count=5, # Разбивка выборки на 5 кусочков\n",
        "    shuffle=True, # Перемешаем данные\n",
        "    partition_random_seed=101,\n",
        ")"
      ]
    },
    {
      "cell_type": "code",
      "execution_count": 72,
      "metadata": {
        "id": "qUIQwetrUPb2"
      },
      "outputs": [],
      "source": [
        "predict_2_2 = model_2_2.predict(features_valid)\n",
        "predict_2_2 = pd.Series(predict_2_2)"
      ]
    },
    {
      "cell_type": "markdown",
      "metadata": {
        "id": "JPLo0LhwUPb2"
      },
      "source": [
        "Объеденим предсказания и посчитаем требуемую метрику"
      ]
    },
    {
      "cell_type": "code",
      "execution_count": 73,
      "metadata": {
        "id": "wgfWU-CsUPb2"
      },
      "outputs": [],
      "source": [
        "predict_2_total = pd.DataFrame(predict_2_1)\n",
        "predict_2_total[1] = predict_2_2"
      ]
    },
    {
      "cell_type": "code",
      "execution_count": 74,
      "metadata": {
        "id": "64xdXZNuUPb2"
      },
      "outputs": [],
      "source": [
        "result_df.loc[2]=['2xCatboost_valid', round(smape_value(target_valid, predict_2_total), 2)]"
      ]
    },
    {
      "cell_type": "code",
      "execution_count": 75,
      "metadata": {
        "scrolled": false,
        "colab": {
          "base_uri": "https://localhost:8080/",
          "height": 143
        },
        "id": "an_EZGRwUPb3",
        "outputId": "d3af38ce-fcb2-4025-f074-59db9ddff035"
      },
      "outputs": [
        {
          "output_type": "execute_result",
          "data": {
            "text/plain": [
              "                    model  final_smape\n",
              "0  LinearRegression_valid         8.24\n",
              "1          Catboost_valid         6.71\n",
              "2        2xCatboost_valid         6.35"
            ],
            "text/html": [
              "\n",
              "  <div id=\"df-a023e467-4237-4ed1-bc15-77d0ab5efd45\">\n",
              "    <div class=\"colab-df-container\">\n",
              "      <div>\n",
              "<style scoped>\n",
              "    .dataframe tbody tr th:only-of-type {\n",
              "        vertical-align: middle;\n",
              "    }\n",
              "\n",
              "    .dataframe tbody tr th {\n",
              "        vertical-align: top;\n",
              "    }\n",
              "\n",
              "    .dataframe thead th {\n",
              "        text-align: right;\n",
              "    }\n",
              "</style>\n",
              "<table border=\"1\" class=\"dataframe\">\n",
              "  <thead>\n",
              "    <tr style=\"text-align: right;\">\n",
              "      <th></th>\n",
              "      <th>model</th>\n",
              "      <th>final_smape</th>\n",
              "    </tr>\n",
              "  </thead>\n",
              "  <tbody>\n",
              "    <tr>\n",
              "      <th>0</th>\n",
              "      <td>LinearRegression_valid</td>\n",
              "      <td>8.24</td>\n",
              "    </tr>\n",
              "    <tr>\n",
              "      <th>1</th>\n",
              "      <td>Catboost_valid</td>\n",
              "      <td>6.71</td>\n",
              "    </tr>\n",
              "    <tr>\n",
              "      <th>2</th>\n",
              "      <td>2xCatboost_valid</td>\n",
              "      <td>6.35</td>\n",
              "    </tr>\n",
              "  </tbody>\n",
              "</table>\n",
              "</div>\n",
              "      <button class=\"colab-df-convert\" onclick=\"convertToInteractive('df-a023e467-4237-4ed1-bc15-77d0ab5efd45')\"\n",
              "              title=\"Convert this dataframe to an interactive table.\"\n",
              "              style=\"display:none;\">\n",
              "        \n",
              "  <svg xmlns=\"http://www.w3.org/2000/svg\" height=\"24px\"viewBox=\"0 0 24 24\"\n",
              "       width=\"24px\">\n",
              "    <path d=\"M0 0h24v24H0V0z\" fill=\"none\"/>\n",
              "    <path d=\"M18.56 5.44l.94 2.06.94-2.06 2.06-.94-2.06-.94-.94-2.06-.94 2.06-2.06.94zm-11 1L8.5 8.5l.94-2.06 2.06-.94-2.06-.94L8.5 2.5l-.94 2.06-2.06.94zm10 10l.94 2.06.94-2.06 2.06-.94-2.06-.94-.94-2.06-.94 2.06-2.06.94z\"/><path d=\"M17.41 7.96l-1.37-1.37c-.4-.4-.92-.59-1.43-.59-.52 0-1.04.2-1.43.59L10.3 9.45l-7.72 7.72c-.78.78-.78 2.05 0 2.83L4 21.41c.39.39.9.59 1.41.59.51 0 1.02-.2 1.41-.59l7.78-7.78 2.81-2.81c.8-.78.8-2.07 0-2.86zM5.41 20L4 18.59l7.72-7.72 1.47 1.35L5.41 20z\"/>\n",
              "  </svg>\n",
              "      </button>\n",
              "      \n",
              "  <style>\n",
              "    .colab-df-container {\n",
              "      display:flex;\n",
              "      flex-wrap:wrap;\n",
              "      gap: 12px;\n",
              "    }\n",
              "\n",
              "    .colab-df-convert {\n",
              "      background-color: #E8F0FE;\n",
              "      border: none;\n",
              "      border-radius: 50%;\n",
              "      cursor: pointer;\n",
              "      display: none;\n",
              "      fill: #1967D2;\n",
              "      height: 32px;\n",
              "      padding: 0 0 0 0;\n",
              "      width: 32px;\n",
              "    }\n",
              "\n",
              "    .colab-df-convert:hover {\n",
              "      background-color: #E2EBFA;\n",
              "      box-shadow: 0px 1px 2px rgba(60, 64, 67, 0.3), 0px 1px 3px 1px rgba(60, 64, 67, 0.15);\n",
              "      fill: #174EA6;\n",
              "    }\n",
              "\n",
              "    [theme=dark] .colab-df-convert {\n",
              "      background-color: #3B4455;\n",
              "      fill: #D2E3FC;\n",
              "    }\n",
              "\n",
              "    [theme=dark] .colab-df-convert:hover {\n",
              "      background-color: #434B5C;\n",
              "      box-shadow: 0px 1px 3px 1px rgba(0, 0, 0, 0.15);\n",
              "      filter: drop-shadow(0px 1px 2px rgba(0, 0, 0, 0.3));\n",
              "      fill: #FFFFFF;\n",
              "    }\n",
              "  </style>\n",
              "\n",
              "      <script>\n",
              "        const buttonEl =\n",
              "          document.querySelector('#df-a023e467-4237-4ed1-bc15-77d0ab5efd45 button.colab-df-convert');\n",
              "        buttonEl.style.display =\n",
              "          google.colab.kernel.accessAllowed ? 'block' : 'none';\n",
              "\n",
              "        async function convertToInteractive(key) {\n",
              "          const element = document.querySelector('#df-a023e467-4237-4ed1-bc15-77d0ab5efd45');\n",
              "          const dataTable =\n",
              "            await google.colab.kernel.invokeFunction('convertToInteractive',\n",
              "                                                     [key], {});\n",
              "          if (!dataTable) return;\n",
              "\n",
              "          const docLinkHtml = 'Like what you see? Visit the ' +\n",
              "            '<a target=\"_blank\" href=https://colab.research.google.com/notebooks/data_table.ipynb>data table notebook</a>'\n",
              "            + ' to learn more about interactive tables.';\n",
              "          element.innerHTML = '';\n",
              "          dataTable['output_type'] = 'display_data';\n",
              "          await google.colab.output.renderOutput(dataTable, element);\n",
              "          const docLink = document.createElement('div');\n",
              "          docLink.innerHTML = docLinkHtml;\n",
              "          element.appendChild(docLink);\n",
              "        }\n",
              "      </script>\n",
              "    </div>\n",
              "  </div>\n",
              "  "
            ]
          },
          "metadata": {},
          "execution_count": 75
        }
      ],
      "source": [
        "result_df"
      ]
    },
    {
      "cell_type": "markdown",
      "metadata": {
        "id": "EbLureEUUPb3"
      },
      "source": [
        "Как видно MultipleTargets дает хуже результат."
      ]
    },
    {
      "cell_type": "markdown",
      "metadata": {
        "id": "l1ovl30yUPb4"
      },
      "source": [
        "### Проверка лучшей модели на тестовой выборке"
      ]
    },
    {
      "cell_type": "markdown",
      "metadata": {
        "id": "0rplgfmnUPb4"
      },
      "source": [
        "Сделаем аналогично - предсказания для разделеных таргетов, и их объединение."
      ]
    },
    {
      "cell_type": "code",
      "execution_count": 76,
      "metadata": {
        "id": "Wcctee2dUPb4"
      },
      "outputs": [],
      "source": [
        "predict_3_1 = model_2_1.predict(features_test)\n",
        "predict_3_1 = pd.Series(predict_3_1)"
      ]
    },
    {
      "cell_type": "code",
      "execution_count": 77,
      "metadata": {
        "id": "YA521B7rUPb4"
      },
      "outputs": [],
      "source": [
        "predict_3_2 = model_2_2.predict(features_test)\n",
        "predict_3_2 = pd.Series(predict_3_2)"
      ]
    },
    {
      "cell_type": "code",
      "execution_count": 78,
      "metadata": {
        "id": "diiCs2LyUPb4"
      },
      "outputs": [],
      "source": [
        "predict_3_total = pd.DataFrame(predict_3_1)\n",
        "predict_3_total[1] = predict_3_2"
      ]
    },
    {
      "cell_type": "code",
      "execution_count": 79,
      "metadata": {
        "id": "5nYnhXtSUPb5"
      },
      "outputs": [],
      "source": [
        "result_df.loc[3]=['2xCatboost_test', round(smape_value(target_test, predict_3_total), 2)]"
      ]
    },
    {
      "cell_type": "code",
      "execution_count": 80,
      "metadata": {
        "scrolled": true,
        "colab": {
          "base_uri": "https://localhost:8080/",
          "height": 175
        },
        "id": "wuMhpcILUPb5",
        "outputId": "b802b1c5-e93a-46f6-88ef-13ef6294cf99"
      },
      "outputs": [
        {
          "output_type": "execute_result",
          "data": {
            "text/plain": [
              "                    model  final_smape\n",
              "0  LinearRegression_valid         8.24\n",
              "1          Catboost_valid         6.71\n",
              "2        2xCatboost_valid         6.35\n",
              "3         2xCatboost_test         9.40"
            ],
            "text/html": [
              "\n",
              "  <div id=\"df-37a16cd4-2f53-4ab5-b7a1-0c519ce6e95b\">\n",
              "    <div class=\"colab-df-container\">\n",
              "      <div>\n",
              "<style scoped>\n",
              "    .dataframe tbody tr th:only-of-type {\n",
              "        vertical-align: middle;\n",
              "    }\n",
              "\n",
              "    .dataframe tbody tr th {\n",
              "        vertical-align: top;\n",
              "    }\n",
              "\n",
              "    .dataframe thead th {\n",
              "        text-align: right;\n",
              "    }\n",
              "</style>\n",
              "<table border=\"1\" class=\"dataframe\">\n",
              "  <thead>\n",
              "    <tr style=\"text-align: right;\">\n",
              "      <th></th>\n",
              "      <th>model</th>\n",
              "      <th>final_smape</th>\n",
              "    </tr>\n",
              "  </thead>\n",
              "  <tbody>\n",
              "    <tr>\n",
              "      <th>0</th>\n",
              "      <td>LinearRegression_valid</td>\n",
              "      <td>8.24</td>\n",
              "    </tr>\n",
              "    <tr>\n",
              "      <th>1</th>\n",
              "      <td>Catboost_valid</td>\n",
              "      <td>6.71</td>\n",
              "    </tr>\n",
              "    <tr>\n",
              "      <th>2</th>\n",
              "      <td>2xCatboost_valid</td>\n",
              "      <td>6.35</td>\n",
              "    </tr>\n",
              "    <tr>\n",
              "      <th>3</th>\n",
              "      <td>2xCatboost_test</td>\n",
              "      <td>9.40</td>\n",
              "    </tr>\n",
              "  </tbody>\n",
              "</table>\n",
              "</div>\n",
              "      <button class=\"colab-df-convert\" onclick=\"convertToInteractive('df-37a16cd4-2f53-4ab5-b7a1-0c519ce6e95b')\"\n",
              "              title=\"Convert this dataframe to an interactive table.\"\n",
              "              style=\"display:none;\">\n",
              "        \n",
              "  <svg xmlns=\"http://www.w3.org/2000/svg\" height=\"24px\"viewBox=\"0 0 24 24\"\n",
              "       width=\"24px\">\n",
              "    <path d=\"M0 0h24v24H0V0z\" fill=\"none\"/>\n",
              "    <path d=\"M18.56 5.44l.94 2.06.94-2.06 2.06-.94-2.06-.94-.94-2.06-.94 2.06-2.06.94zm-11 1L8.5 8.5l.94-2.06 2.06-.94-2.06-.94L8.5 2.5l-.94 2.06-2.06.94zm10 10l.94 2.06.94-2.06 2.06-.94-2.06-.94-.94-2.06-.94 2.06-2.06.94z\"/><path d=\"M17.41 7.96l-1.37-1.37c-.4-.4-.92-.59-1.43-.59-.52 0-1.04.2-1.43.59L10.3 9.45l-7.72 7.72c-.78.78-.78 2.05 0 2.83L4 21.41c.39.39.9.59 1.41.59.51 0 1.02-.2 1.41-.59l7.78-7.78 2.81-2.81c.8-.78.8-2.07 0-2.86zM5.41 20L4 18.59l7.72-7.72 1.47 1.35L5.41 20z\"/>\n",
              "  </svg>\n",
              "      </button>\n",
              "      \n",
              "  <style>\n",
              "    .colab-df-container {\n",
              "      display:flex;\n",
              "      flex-wrap:wrap;\n",
              "      gap: 12px;\n",
              "    }\n",
              "\n",
              "    .colab-df-convert {\n",
              "      background-color: #E8F0FE;\n",
              "      border: none;\n",
              "      border-radius: 50%;\n",
              "      cursor: pointer;\n",
              "      display: none;\n",
              "      fill: #1967D2;\n",
              "      height: 32px;\n",
              "      padding: 0 0 0 0;\n",
              "      width: 32px;\n",
              "    }\n",
              "\n",
              "    .colab-df-convert:hover {\n",
              "      background-color: #E2EBFA;\n",
              "      box-shadow: 0px 1px 2px rgba(60, 64, 67, 0.3), 0px 1px 3px 1px rgba(60, 64, 67, 0.15);\n",
              "      fill: #174EA6;\n",
              "    }\n",
              "\n",
              "    [theme=dark] .colab-df-convert {\n",
              "      background-color: #3B4455;\n",
              "      fill: #D2E3FC;\n",
              "    }\n",
              "\n",
              "    [theme=dark] .colab-df-convert:hover {\n",
              "      background-color: #434B5C;\n",
              "      box-shadow: 0px 1px 3px 1px rgba(0, 0, 0, 0.15);\n",
              "      filter: drop-shadow(0px 1px 2px rgba(0, 0, 0, 0.3));\n",
              "      fill: #FFFFFF;\n",
              "    }\n",
              "  </style>\n",
              "\n",
              "      <script>\n",
              "        const buttonEl =\n",
              "          document.querySelector('#df-37a16cd4-2f53-4ab5-b7a1-0c519ce6e95b button.colab-df-convert');\n",
              "        buttonEl.style.display =\n",
              "          google.colab.kernel.accessAllowed ? 'block' : 'none';\n",
              "\n",
              "        async function convertToInteractive(key) {\n",
              "          const element = document.querySelector('#df-37a16cd4-2f53-4ab5-b7a1-0c519ce6e95b');\n",
              "          const dataTable =\n",
              "            await google.colab.kernel.invokeFunction('convertToInteractive',\n",
              "                                                     [key], {});\n",
              "          if (!dataTable) return;\n",
              "\n",
              "          const docLinkHtml = 'Like what you see? Visit the ' +\n",
              "            '<a target=\"_blank\" href=https://colab.research.google.com/notebooks/data_table.ipynb>data table notebook</a>'\n",
              "            + ' to learn more about interactive tables.';\n",
              "          element.innerHTML = '';\n",
              "          dataTable['output_type'] = 'display_data';\n",
              "          await google.colab.output.renderOutput(dataTable, element);\n",
              "          const docLink = document.createElement('div');\n",
              "          docLink.innerHTML = docLinkHtml;\n",
              "          element.appendChild(docLink);\n",
              "        }\n",
              "      </script>\n",
              "    </div>\n",
              "  </div>\n",
              "  "
            ]
          },
          "metadata": {},
          "execution_count": 80
        }
      ],
      "source": [
        "result_df"
      ]
    },
    {
      "cell_type": "markdown",
      "metadata": {
        "id": "zkpQlusuUPb5"
      },
      "source": [
        "Показатель ухудшился, скорее всего из-за того, что в таблице `df_full` в таргетах присутствуют 0, что портит нам предсказательную способность наших моделей, так как 0 и пропуски в тренировочной выборке мы удалили. Проверим это"
      ]
    },
    {
      "cell_type": "code",
      "execution_count": 81,
      "metadata": {
        "colab": {
          "base_uri": "https://localhost:8080/"
        },
        "id": "FcXgDZiEUPb5",
        "outputId": "54cbf4c6-5e55-4fd0-a00e-7a65580f51a0"
      },
      "outputs": [
        {
          "output_type": "execute_result",
          "data": {
            "text/plain": [
              "(136, 2)"
            ]
          },
          "metadata": {},
          "execution_count": 81
        }
      ],
      "source": [
        "list_to_delete = []\n",
        "list_to_delete1 = []\n",
        "list_check = ['rougher.output.recovery', 'final.output.recovery']\n",
        "for x in list_check:\n",
        "    list_to_delete += (target_test[target_test[x].isna()].index.to_list())  #список для удаления пропусков\n",
        "    list_to_delete1 += (target_test[target_test[x] == 0].index.to_list())   #список для удаления 0 значений\n",
        "list_to_delete = set(list_to_delete + list_to_delete1) #исключаем повторы\n",
        "target_test.loc[list_to_delete, list_check].shape"
      ]
    },
    {
      "cell_type": "markdown",
      "metadata": {
        "id": "yHAwP2LLUPb5"
      },
      "source": [
        "136 - не правильных данных =( Достоверность данных снова оставим на совести Заказчика. Придется заново создавать данную таблицу таргетов из таблицы `df_full` и признаков из таблицы `df_test`. Как мы это сделаем, у нас осталась таблица `df_test_temp` с индексами времени, а так же таблица `df_full` с индексами времени. Сначала \"укоротим\" таблицу ФУЛЛ, а далее ее проверим на 0 и пропуски. И уже из нее сделаем таблицу таргетов"
      ]
    },
    {
      "cell_type": "code",
      "execution_count": 82,
      "metadata": {
        "id": "BPl9x07sUPb6"
      },
      "outputs": [],
      "source": [
        "df_full_temp = df_full.loc[df_test_temp.index, :]"
      ]
    },
    {
      "cell_type": "code",
      "execution_count": 83,
      "metadata": {
        "colab": {
          "base_uri": "https://localhost:8080/"
        },
        "id": "h-f4RjBAUPb6",
        "outputId": "bd3948d8-4dd2-482a-fdbe-44b64c98bcd7"
      },
      "outputs": [
        {
          "output_type": "execute_result",
          "data": {
            "text/plain": [
              "(136, 2)"
            ]
          },
          "metadata": {},
          "execution_count": 83
        }
      ],
      "source": [
        "list_to_delete = []\n",
        "list_to_delete1 = []\n",
        "list_check = ['rougher.output.recovery', 'final.output.recovery']\n",
        "for x in list_check:\n",
        "    list_to_delete += (df_full_temp[df_full_temp[x].isna()].index.to_list())  #список для удаления пропусков\n",
        "    list_to_delete1 += (df_full_temp[df_full_temp[x] == 0].index.to_list())   #список для удаления 0 значений\n",
        "list_to_delete = set(list_to_delete + list_to_delete1) #исключаем повторы\n",
        "df_full_temp.loc[list_to_delete, list_check].shape"
      ]
    },
    {
      "cell_type": "code",
      "execution_count": 84,
      "metadata": {
        "id": "QZNePmQ7UPb6"
      },
      "outputs": [],
      "source": [
        "df_test_temp = df_test_temp.drop(index=list_to_delete)\n",
        "df_full_temp = df_full_temp.drop(index=list_to_delete)"
      ]
    },
    {
      "cell_type": "markdown",
      "metadata": {
        "id": "WEEV6GCEUPb7"
      },
      "source": [
        "Сбрасываем во всех таблицах индексы"
      ]
    },
    {
      "cell_type": "code",
      "execution_count": 85,
      "metadata": {
        "id": "JJEJzLT3UPb7"
      },
      "outputs": [],
      "source": [
        "features_test = df_test_temp.reset_index(drop=True)\n",
        "target_test = df_full_temp[list_check].reset_index(drop=True)"
      ]
    },
    {
      "cell_type": "markdown",
      "metadata": {
        "id": "e2kVOCEnUPb7"
      },
      "source": [
        "Проверка"
      ]
    },
    {
      "cell_type": "code",
      "execution_count": 86,
      "metadata": {
        "colab": {
          "base_uri": "https://localhost:8080/",
          "height": 52
        },
        "id": "QstYBH_LUPb7",
        "outputId": "795b2517-01d0-4394-b056-a7a1a1bd3f44"
      },
      "outputs": [
        {
          "output_type": "display_data",
          "data": {
            "text/plain": [
              "(5154, 52)"
            ]
          },
          "metadata": {}
        },
        {
          "output_type": "display_data",
          "data": {
            "text/plain": [
              "(5154, 2)"
            ]
          },
          "metadata": {}
        }
      ],
      "source": [
        "display(features_test.shape)\n",
        "display(target_test.shape)"
      ]
    },
    {
      "cell_type": "markdown",
      "metadata": {
        "id": "4dr4jFREUPb8"
      },
      "source": [
        "Проверка нового результата на модели"
      ]
    },
    {
      "cell_type": "code",
      "execution_count": 87,
      "metadata": {
        "id": "A3LeO5rIUPb8"
      },
      "outputs": [],
      "source": [
        "predict_4_1 = model_2_1.predict(features_test)\n",
        "predict_4_1 = pd.Series(predict_4_1)"
      ]
    },
    {
      "cell_type": "code",
      "execution_count": 88,
      "metadata": {
        "id": "1XzoBb8HUPb8"
      },
      "outputs": [],
      "source": [
        "predict_4_2 = model_2_2.predict(features_test)\n",
        "predict_4_2 = pd.Series(predict_4_2)"
      ]
    },
    {
      "cell_type": "code",
      "execution_count": 89,
      "metadata": {
        "id": "oKlX2upbUPb9"
      },
      "outputs": [],
      "source": [
        "predict_4_total = pd.DataFrame(predict_4_1)\n",
        "predict_4_total[1] = predict_4_2"
      ]
    },
    {
      "cell_type": "code",
      "execution_count": 90,
      "metadata": {
        "id": "lNi5L8ypUPb9"
      },
      "outputs": [],
      "source": [
        "result_df.loc[4]=['2xCatboost_final', round(smape_value(target_test, predict_4_total), 2)]"
      ]
    },
    {
      "cell_type": "code",
      "execution_count": 91,
      "metadata": {
        "scrolled": true,
        "colab": {
          "base_uri": "https://localhost:8080/",
          "height": 206
        },
        "id": "QPnEXfKOUPb9",
        "outputId": "dcb6096e-9113-48da-b9a2-9d1ce6b7e1cd"
      },
      "outputs": [
        {
          "output_type": "execute_result",
          "data": {
            "text/plain": [
              "                    model  final_smape\n",
              "0  LinearRegression_valid         8.24\n",
              "1          Catboost_valid         6.71\n",
              "2        2xCatboost_valid         6.35\n",
              "3         2xCatboost_test         9.40\n",
              "4        2xCatboost_final         7.38"
            ],
            "text/html": [
              "\n",
              "  <div id=\"df-3d754e82-6fc0-4907-932d-5025a8167b5f\">\n",
              "    <div class=\"colab-df-container\">\n",
              "      <div>\n",
              "<style scoped>\n",
              "    .dataframe tbody tr th:only-of-type {\n",
              "        vertical-align: middle;\n",
              "    }\n",
              "\n",
              "    .dataframe tbody tr th {\n",
              "        vertical-align: top;\n",
              "    }\n",
              "\n",
              "    .dataframe thead th {\n",
              "        text-align: right;\n",
              "    }\n",
              "</style>\n",
              "<table border=\"1\" class=\"dataframe\">\n",
              "  <thead>\n",
              "    <tr style=\"text-align: right;\">\n",
              "      <th></th>\n",
              "      <th>model</th>\n",
              "      <th>final_smape</th>\n",
              "    </tr>\n",
              "  </thead>\n",
              "  <tbody>\n",
              "    <tr>\n",
              "      <th>0</th>\n",
              "      <td>LinearRegression_valid</td>\n",
              "      <td>8.24</td>\n",
              "    </tr>\n",
              "    <tr>\n",
              "      <th>1</th>\n",
              "      <td>Catboost_valid</td>\n",
              "      <td>6.71</td>\n",
              "    </tr>\n",
              "    <tr>\n",
              "      <th>2</th>\n",
              "      <td>2xCatboost_valid</td>\n",
              "      <td>6.35</td>\n",
              "    </tr>\n",
              "    <tr>\n",
              "      <th>3</th>\n",
              "      <td>2xCatboost_test</td>\n",
              "      <td>9.40</td>\n",
              "    </tr>\n",
              "    <tr>\n",
              "      <th>4</th>\n",
              "      <td>2xCatboost_final</td>\n",
              "      <td>7.38</td>\n",
              "    </tr>\n",
              "  </tbody>\n",
              "</table>\n",
              "</div>\n",
              "      <button class=\"colab-df-convert\" onclick=\"convertToInteractive('df-3d754e82-6fc0-4907-932d-5025a8167b5f')\"\n",
              "              title=\"Convert this dataframe to an interactive table.\"\n",
              "              style=\"display:none;\">\n",
              "        \n",
              "  <svg xmlns=\"http://www.w3.org/2000/svg\" height=\"24px\"viewBox=\"0 0 24 24\"\n",
              "       width=\"24px\">\n",
              "    <path d=\"M0 0h24v24H0V0z\" fill=\"none\"/>\n",
              "    <path d=\"M18.56 5.44l.94 2.06.94-2.06 2.06-.94-2.06-.94-.94-2.06-.94 2.06-2.06.94zm-11 1L8.5 8.5l.94-2.06 2.06-.94-2.06-.94L8.5 2.5l-.94 2.06-2.06.94zm10 10l.94 2.06.94-2.06 2.06-.94-2.06-.94-.94-2.06-.94 2.06-2.06.94z\"/><path d=\"M17.41 7.96l-1.37-1.37c-.4-.4-.92-.59-1.43-.59-.52 0-1.04.2-1.43.59L10.3 9.45l-7.72 7.72c-.78.78-.78 2.05 0 2.83L4 21.41c.39.39.9.59 1.41.59.51 0 1.02-.2 1.41-.59l7.78-7.78 2.81-2.81c.8-.78.8-2.07 0-2.86zM5.41 20L4 18.59l7.72-7.72 1.47 1.35L5.41 20z\"/>\n",
              "  </svg>\n",
              "      </button>\n",
              "      \n",
              "  <style>\n",
              "    .colab-df-container {\n",
              "      display:flex;\n",
              "      flex-wrap:wrap;\n",
              "      gap: 12px;\n",
              "    }\n",
              "\n",
              "    .colab-df-convert {\n",
              "      background-color: #E8F0FE;\n",
              "      border: none;\n",
              "      border-radius: 50%;\n",
              "      cursor: pointer;\n",
              "      display: none;\n",
              "      fill: #1967D2;\n",
              "      height: 32px;\n",
              "      padding: 0 0 0 0;\n",
              "      width: 32px;\n",
              "    }\n",
              "\n",
              "    .colab-df-convert:hover {\n",
              "      background-color: #E2EBFA;\n",
              "      box-shadow: 0px 1px 2px rgba(60, 64, 67, 0.3), 0px 1px 3px 1px rgba(60, 64, 67, 0.15);\n",
              "      fill: #174EA6;\n",
              "    }\n",
              "\n",
              "    [theme=dark] .colab-df-convert {\n",
              "      background-color: #3B4455;\n",
              "      fill: #D2E3FC;\n",
              "    }\n",
              "\n",
              "    [theme=dark] .colab-df-convert:hover {\n",
              "      background-color: #434B5C;\n",
              "      box-shadow: 0px 1px 3px 1px rgba(0, 0, 0, 0.15);\n",
              "      filter: drop-shadow(0px 1px 2px rgba(0, 0, 0, 0.3));\n",
              "      fill: #FFFFFF;\n",
              "    }\n",
              "  </style>\n",
              "\n",
              "      <script>\n",
              "        const buttonEl =\n",
              "          document.querySelector('#df-3d754e82-6fc0-4907-932d-5025a8167b5f button.colab-df-convert');\n",
              "        buttonEl.style.display =\n",
              "          google.colab.kernel.accessAllowed ? 'block' : 'none';\n",
              "\n",
              "        async function convertToInteractive(key) {\n",
              "          const element = document.querySelector('#df-3d754e82-6fc0-4907-932d-5025a8167b5f');\n",
              "          const dataTable =\n",
              "            await google.colab.kernel.invokeFunction('convertToInteractive',\n",
              "                                                     [key], {});\n",
              "          if (!dataTable) return;\n",
              "\n",
              "          const docLinkHtml = 'Like what you see? Visit the ' +\n",
              "            '<a target=\"_blank\" href=https://colab.research.google.com/notebooks/data_table.ipynb>data table notebook</a>'\n",
              "            + ' to learn more about interactive tables.';\n",
              "          element.innerHTML = '';\n",
              "          dataTable['output_type'] = 'display_data';\n",
              "          await google.colab.output.renderOutput(dataTable, element);\n",
              "          const docLink = document.createElement('div');\n",
              "          docLink.innerHTML = docLinkHtml;\n",
              "          element.appendChild(docLink);\n",
              "        }\n",
              "      </script>\n",
              "    </div>\n",
              "  </div>\n",
              "  "
            ]
          },
          "metadata": {},
          "execution_count": 91
        }
      ],
      "source": [
        "result_df"
      ]
    },
    {
      "cell_type": "markdown",
      "metadata": {
        "id": "uedR4EB4UPb9"
      },
      "source": [
        "На 2 пункта удалось уменьшить итоговое значение метрики, не фонтан, но тоже отличный вариант.\n"
      ]
    },
    {
      "cell_type": "markdown",
      "metadata": {
        "id": "ogvlPMGzUPb-"
      },
      "source": [
        "### Проверка модели на адекватность"
      ]
    },
    {
      "cell_type": "markdown",
      "metadata": {
        "id": "UvlMVS9OUPb-"
      },
      "source": [
        "Проверим на сколько хороша, построенная нами модель. Сравнивать ее будем с болванкой"
      ]
    },
    {
      "cell_type": "code",
      "execution_count": 92,
      "metadata": {
        "id": "vBVwv1i2UPb-"
      },
      "outputs": [],
      "source": [
        "dummy_regressor_rougher = DummyRegressor(strategy=\"mean\")\n",
        "dummy_regressor_rougher.fit(features_train, target_train)\n",
        "predict_5 = pd.DataFrame(dummy_regressor_rougher.predict(features_test))\n",
        "result_df.loc[5]=['DummyReg_test', round(smape_value(target_test, predict_5), 2)]"
      ]
    },
    {
      "cell_type": "code",
      "execution_count": 93,
      "metadata": {
        "colab": {
          "base_uri": "https://localhost:8080/",
          "height": 238
        },
        "id": "TOSrETcpUPb-",
        "outputId": "a6c1acef-ebdb-45a0-ddcd-042ff42eb7db"
      },
      "outputs": [
        {
          "output_type": "execute_result",
          "data": {
            "text/plain": [
              "                    model  final_smape\n",
              "0  LinearRegression_valid         8.24\n",
              "1          Catboost_valid         6.71\n",
              "2        2xCatboost_valid         6.35\n",
              "3         2xCatboost_test         9.40\n",
              "4        2xCatboost_final         7.38\n",
              "5           DummyReg_test         8.02"
            ],
            "text/html": [
              "\n",
              "  <div id=\"df-cb4826fc-8006-443c-9c62-21560c53eba8\">\n",
              "    <div class=\"colab-df-container\">\n",
              "      <div>\n",
              "<style scoped>\n",
              "    .dataframe tbody tr th:only-of-type {\n",
              "        vertical-align: middle;\n",
              "    }\n",
              "\n",
              "    .dataframe tbody tr th {\n",
              "        vertical-align: top;\n",
              "    }\n",
              "\n",
              "    .dataframe thead th {\n",
              "        text-align: right;\n",
              "    }\n",
              "</style>\n",
              "<table border=\"1\" class=\"dataframe\">\n",
              "  <thead>\n",
              "    <tr style=\"text-align: right;\">\n",
              "      <th></th>\n",
              "      <th>model</th>\n",
              "      <th>final_smape</th>\n",
              "    </tr>\n",
              "  </thead>\n",
              "  <tbody>\n",
              "    <tr>\n",
              "      <th>0</th>\n",
              "      <td>LinearRegression_valid</td>\n",
              "      <td>8.24</td>\n",
              "    </tr>\n",
              "    <tr>\n",
              "      <th>1</th>\n",
              "      <td>Catboost_valid</td>\n",
              "      <td>6.71</td>\n",
              "    </tr>\n",
              "    <tr>\n",
              "      <th>2</th>\n",
              "      <td>2xCatboost_valid</td>\n",
              "      <td>6.35</td>\n",
              "    </tr>\n",
              "    <tr>\n",
              "      <th>3</th>\n",
              "      <td>2xCatboost_test</td>\n",
              "      <td>9.40</td>\n",
              "    </tr>\n",
              "    <tr>\n",
              "      <th>4</th>\n",
              "      <td>2xCatboost_final</td>\n",
              "      <td>7.38</td>\n",
              "    </tr>\n",
              "    <tr>\n",
              "      <th>5</th>\n",
              "      <td>DummyReg_test</td>\n",
              "      <td>8.02</td>\n",
              "    </tr>\n",
              "  </tbody>\n",
              "</table>\n",
              "</div>\n",
              "      <button class=\"colab-df-convert\" onclick=\"convertToInteractive('df-cb4826fc-8006-443c-9c62-21560c53eba8')\"\n",
              "              title=\"Convert this dataframe to an interactive table.\"\n",
              "              style=\"display:none;\">\n",
              "        \n",
              "  <svg xmlns=\"http://www.w3.org/2000/svg\" height=\"24px\"viewBox=\"0 0 24 24\"\n",
              "       width=\"24px\">\n",
              "    <path d=\"M0 0h24v24H0V0z\" fill=\"none\"/>\n",
              "    <path d=\"M18.56 5.44l.94 2.06.94-2.06 2.06-.94-2.06-.94-.94-2.06-.94 2.06-2.06.94zm-11 1L8.5 8.5l.94-2.06 2.06-.94-2.06-.94L8.5 2.5l-.94 2.06-2.06.94zm10 10l.94 2.06.94-2.06 2.06-.94-2.06-.94-.94-2.06-.94 2.06-2.06.94z\"/><path d=\"M17.41 7.96l-1.37-1.37c-.4-.4-.92-.59-1.43-.59-.52 0-1.04.2-1.43.59L10.3 9.45l-7.72 7.72c-.78.78-.78 2.05 0 2.83L4 21.41c.39.39.9.59 1.41.59.51 0 1.02-.2 1.41-.59l7.78-7.78 2.81-2.81c.8-.78.8-2.07 0-2.86zM5.41 20L4 18.59l7.72-7.72 1.47 1.35L5.41 20z\"/>\n",
              "  </svg>\n",
              "      </button>\n",
              "      \n",
              "  <style>\n",
              "    .colab-df-container {\n",
              "      display:flex;\n",
              "      flex-wrap:wrap;\n",
              "      gap: 12px;\n",
              "    }\n",
              "\n",
              "    .colab-df-convert {\n",
              "      background-color: #E8F0FE;\n",
              "      border: none;\n",
              "      border-radius: 50%;\n",
              "      cursor: pointer;\n",
              "      display: none;\n",
              "      fill: #1967D2;\n",
              "      height: 32px;\n",
              "      padding: 0 0 0 0;\n",
              "      width: 32px;\n",
              "    }\n",
              "\n",
              "    .colab-df-convert:hover {\n",
              "      background-color: #E2EBFA;\n",
              "      box-shadow: 0px 1px 2px rgba(60, 64, 67, 0.3), 0px 1px 3px 1px rgba(60, 64, 67, 0.15);\n",
              "      fill: #174EA6;\n",
              "    }\n",
              "\n",
              "    [theme=dark] .colab-df-convert {\n",
              "      background-color: #3B4455;\n",
              "      fill: #D2E3FC;\n",
              "    }\n",
              "\n",
              "    [theme=dark] .colab-df-convert:hover {\n",
              "      background-color: #434B5C;\n",
              "      box-shadow: 0px 1px 3px 1px rgba(0, 0, 0, 0.15);\n",
              "      filter: drop-shadow(0px 1px 2px rgba(0, 0, 0, 0.3));\n",
              "      fill: #FFFFFF;\n",
              "    }\n",
              "  </style>\n",
              "\n",
              "      <script>\n",
              "        const buttonEl =\n",
              "          document.querySelector('#df-cb4826fc-8006-443c-9c62-21560c53eba8 button.colab-df-convert');\n",
              "        buttonEl.style.display =\n",
              "          google.colab.kernel.accessAllowed ? 'block' : 'none';\n",
              "\n",
              "        async function convertToInteractive(key) {\n",
              "          const element = document.querySelector('#df-cb4826fc-8006-443c-9c62-21560c53eba8');\n",
              "          const dataTable =\n",
              "            await google.colab.kernel.invokeFunction('convertToInteractive',\n",
              "                                                     [key], {});\n",
              "          if (!dataTable) return;\n",
              "\n",
              "          const docLinkHtml = 'Like what you see? Visit the ' +\n",
              "            '<a target=\"_blank\" href=https://colab.research.google.com/notebooks/data_table.ipynb>data table notebook</a>'\n",
              "            + ' to learn more about interactive tables.';\n",
              "          element.innerHTML = '';\n",
              "          dataTable['output_type'] = 'display_data';\n",
              "          await google.colab.output.renderOutput(dataTable, element);\n",
              "          const docLink = document.createElement('div');\n",
              "          docLink.innerHTML = docLinkHtml;\n",
              "          element.appendChild(docLink);\n",
              "        }\n",
              "      </script>\n",
              "    </div>\n",
              "  </div>\n",
              "  "
            ]
          },
          "metadata": {},
          "execution_count": 93
        }
      ],
      "source": [
        "result_df"
      ]
    },
    {
      "cell_type": "markdown",
      "metadata": {
        "id": "NlTRF5fqUPb_"
      },
      "source": [
        "### Вывод"
      ]
    },
    {
      "cell_type": "markdown",
      "metadata": {
        "id": "tRetGL-2UPb_"
      },
      "source": [
        "С помощью машинного удаления удалось сделать предсказания для текущих данных, посчитали метрику, согласно заданию. Лучшая модель показывает результат в 7,38 % на тестовых данных, что лучше чем болванка. "
      ]
    },
    {
      "cell_type": "markdown",
      "metadata": {
        "id": "Pb2qu225UPcB"
      },
      "source": [
        "## Общий Вывод"
      ]
    },
    {
      "cell_type": "markdown",
      "metadata": {
        "id": "Ivl9ED5TUPcB"
      },
      "source": [
        "В ходе работы были изучены сырые данные. Была произведена проверка данных, заполнение пропусков, и в ходе анализа выявили дополнительные аномальные места(слишком большой размер гранул и 0 значения концентраций). С помощью машинного обучения научились предсказывать значения эффективности обогащения чернового концентрата и финального концентрата с ошибкой в 7,38%, что на мой взгляд является хорошим результатом."
      ]
    },
    {
      "cell_type": "code",
      "execution_count": 93,
      "metadata": {
        "id": "hfn3xZhPUPcC"
      },
      "outputs": [],
      "source": [
        ""
      ]
    }
  ],
  "metadata": {
    "ExecuteTimeLog": [
      {
        "duration": 656,
        "start_time": "2022-02-07T14:19:29.513Z"
      },
      {
        "duration": 720,
        "start_time": "2022-02-07T14:21:18.413Z"
      },
      {
        "duration": 25,
        "start_time": "2022-02-07T14:21:33.276Z"
      },
      {
        "duration": 261,
        "start_time": "2022-02-07T14:22:08.916Z"
      },
      {
        "duration": 16,
        "start_time": "2022-02-07T14:22:14.934Z"
      },
      {
        "duration": 16,
        "start_time": "2022-02-07T14:23:07.210Z"
      },
      {
        "duration": 13,
        "start_time": "2022-02-07T14:23:19.313Z"
      },
      {
        "duration": 11,
        "start_time": "2022-02-07T14:23:27.427Z"
      },
      {
        "duration": 14,
        "start_time": "2022-02-07T14:23:56.726Z"
      },
      {
        "duration": 236,
        "start_time": "2022-02-07T14:38:24.238Z"
      },
      {
        "duration": 13,
        "start_time": "2022-02-07T14:40:22.808Z"
      },
      {
        "duration": 9,
        "start_time": "2022-02-07T15:07:18.920Z"
      },
      {
        "duration": 20,
        "start_time": "2022-02-07T15:07:29.855Z"
      },
      {
        "duration": 10,
        "start_time": "2022-02-07T15:07:56.769Z"
      },
      {
        "duration": 16,
        "start_time": "2022-02-07T15:08:53.200Z"
      },
      {
        "duration": 25,
        "start_time": "2022-02-07T15:13:09.586Z"
      },
      {
        "duration": 80,
        "start_time": "2022-02-07T15:14:33.360Z"
      },
      {
        "duration": 77,
        "start_time": "2022-02-07T15:15:36.575Z"
      },
      {
        "duration": 67,
        "start_time": "2022-02-07T15:16:21.261Z"
      },
      {
        "duration": 3,
        "start_time": "2022-02-07T15:17:56.721Z"
      },
      {
        "duration": 70,
        "start_time": "2022-02-07T15:17:57.914Z"
      },
      {
        "duration": 111,
        "start_time": "2022-02-07T15:19:38.096Z"
      },
      {
        "duration": 122,
        "start_time": "2022-02-07T15:19:50.356Z"
      },
      {
        "duration": 134,
        "start_time": "2022-02-07T15:20:08.985Z"
      },
      {
        "duration": 47,
        "start_time": "2022-02-07T15:20:34.936Z"
      },
      {
        "duration": 72,
        "start_time": "2022-02-07T15:21:44.565Z"
      },
      {
        "duration": 75,
        "start_time": "2022-02-07T15:22:05.973Z"
      },
      {
        "duration": 21,
        "start_time": "2022-02-07T15:23:00.460Z"
      },
      {
        "duration": 68,
        "start_time": "2022-02-07T15:24:12.404Z"
      },
      {
        "duration": 206,
        "start_time": "2022-02-07T15:25:00.314Z"
      },
      {
        "duration": 108,
        "start_time": "2022-02-07T15:26:24.400Z"
      },
      {
        "duration": 194,
        "start_time": "2022-02-07T15:26:29.128Z"
      },
      {
        "duration": 13,
        "start_time": "2022-02-07T18:14:52.854Z"
      },
      {
        "duration": 9,
        "start_time": "2022-02-07T18:15:31.819Z"
      },
      {
        "duration": 5,
        "start_time": "2022-02-07T18:17:06.918Z"
      },
      {
        "duration": 5,
        "start_time": "2022-02-07T18:17:20.560Z"
      },
      {
        "duration": 507,
        "start_time": "2022-02-07T18:18:31.048Z"
      },
      {
        "duration": 4,
        "start_time": "2022-02-07T18:19:01.509Z"
      },
      {
        "duration": 4,
        "start_time": "2022-02-07T18:25:41.143Z"
      },
      {
        "duration": 56,
        "start_time": "2022-02-07T18:25:53.982Z"
      },
      {
        "duration": 186,
        "start_time": "2022-02-07T18:25:57.156Z"
      },
      {
        "duration": 4,
        "start_time": "2022-02-07T18:26:06.288Z"
      },
      {
        "duration": 3222,
        "start_time": "2022-02-07T18:26:25.437Z"
      },
      {
        "duration": 840,
        "start_time": "2022-02-08T05:14:21.564Z"
      },
      {
        "duration": 5191,
        "start_time": "2022-02-08T05:14:22.407Z"
      },
      {
        "duration": 36,
        "start_time": "2022-02-08T05:14:27.601Z"
      },
      {
        "duration": 36,
        "start_time": "2022-02-08T05:14:27.640Z"
      },
      {
        "duration": 10,
        "start_time": "2022-02-08T05:14:27.679Z"
      },
      {
        "duration": 26,
        "start_time": "2022-02-08T05:14:27.691Z"
      },
      {
        "duration": 41,
        "start_time": "2022-02-08T05:14:27.720Z"
      },
      {
        "duration": 4,
        "start_time": "2022-02-08T05:14:27.764Z"
      },
      {
        "duration": 141,
        "start_time": "2022-02-08T05:14:27.771Z"
      },
      {
        "duration": 84,
        "start_time": "2022-02-08T05:14:27.915Z"
      },
      {
        "duration": 217,
        "start_time": "2022-02-08T05:14:28.002Z"
      },
      {
        "duration": 14,
        "start_time": "2022-02-08T05:25:31.479Z"
      },
      {
        "duration": 360,
        "start_time": "2022-02-08T05:26:22.430Z"
      },
      {
        "duration": 22,
        "start_time": "2022-02-08T05:26:26.582Z"
      },
      {
        "duration": 11,
        "start_time": "2022-02-08T05:33:22.190Z"
      },
      {
        "duration": 516,
        "start_time": "2022-02-08T05:37:23.425Z"
      },
      {
        "duration": 8,
        "start_time": "2022-02-08T05:39:58.822Z"
      },
      {
        "duration": 8,
        "start_time": "2022-02-08T05:40:13.483Z"
      },
      {
        "duration": 8,
        "start_time": "2022-02-08T05:41:47.759Z"
      },
      {
        "duration": 8,
        "start_time": "2022-02-08T05:42:06.025Z"
      },
      {
        "duration": 87,
        "start_time": "2022-02-08T05:43:24.740Z"
      },
      {
        "duration": 9,
        "start_time": "2022-02-08T05:43:38.482Z"
      },
      {
        "duration": 7,
        "start_time": "2022-02-08T05:43:58.237Z"
      },
      {
        "duration": 6,
        "start_time": "2022-02-08T05:52:06.558Z"
      },
      {
        "duration": 8,
        "start_time": "2022-02-08T06:25:41.955Z"
      },
      {
        "duration": 12,
        "start_time": "2022-02-08T06:25:43.742Z"
      },
      {
        "duration": 538,
        "start_time": "2022-02-08T06:25:54.989Z"
      },
      {
        "duration": 16,
        "start_time": "2022-02-08T06:26:33.317Z"
      },
      {
        "duration": 12,
        "start_time": "2022-02-08T06:27:11.622Z"
      },
      {
        "duration": 8,
        "start_time": "2022-02-08T06:28:02.483Z"
      },
      {
        "duration": 12,
        "start_time": "2022-02-08T06:28:03.476Z"
      },
      {
        "duration": 7,
        "start_time": "2022-02-08T06:28:48.255Z"
      },
      {
        "duration": 6,
        "start_time": "2022-02-08T06:28:59.808Z"
      },
      {
        "duration": 8,
        "start_time": "2022-02-08T06:29:05.347Z"
      },
      {
        "duration": 33,
        "start_time": "2022-02-08T06:37:34.692Z"
      },
      {
        "duration": 10,
        "start_time": "2022-02-08T06:37:54.375Z"
      },
      {
        "duration": 35,
        "start_time": "2022-02-08T06:38:10.687Z"
      },
      {
        "duration": 26,
        "start_time": "2022-02-08T06:38:16.123Z"
      },
      {
        "duration": 10,
        "start_time": "2022-02-08T06:38:40.120Z"
      },
      {
        "duration": 16,
        "start_time": "2022-02-08T06:38:47.774Z"
      },
      {
        "duration": 25,
        "start_time": "2022-02-08T06:38:56.705Z"
      },
      {
        "duration": 91,
        "start_time": "2022-02-08T06:45:19.821Z"
      },
      {
        "duration": 327,
        "start_time": "2022-02-08T06:45:41.733Z"
      },
      {
        "duration": 10,
        "start_time": "2022-02-08T06:47:23.243Z"
      },
      {
        "duration": 29,
        "start_time": "2022-02-08T07:28:01.160Z"
      },
      {
        "duration": 17,
        "start_time": "2022-02-08T07:28:24.183Z"
      },
      {
        "duration": 13,
        "start_time": "2022-02-08T07:29:17.414Z"
      },
      {
        "duration": 20,
        "start_time": "2022-02-08T07:29:30.001Z"
      },
      {
        "duration": 7,
        "start_time": "2022-02-08T07:30:32.068Z"
      },
      {
        "duration": 97,
        "start_time": "2022-02-08T07:30:48.946Z"
      },
      {
        "duration": 52,
        "start_time": "2022-02-08T07:31:19.819Z"
      },
      {
        "duration": 24,
        "start_time": "2022-02-08T08:37:44.639Z"
      },
      {
        "duration": 12,
        "start_time": "2022-02-08T08:43:32.085Z"
      },
      {
        "duration": 21,
        "start_time": "2022-02-08T08:43:41.978Z"
      },
      {
        "duration": 105,
        "start_time": "2022-02-08T08:45:28.747Z"
      },
      {
        "duration": 63,
        "start_time": "2022-02-08T08:47:38.366Z"
      },
      {
        "duration": 7,
        "start_time": "2022-02-08T08:52:03.553Z"
      },
      {
        "duration": 8,
        "start_time": "2022-02-08T08:52:33.272Z"
      },
      {
        "duration": 7,
        "start_time": "2022-02-08T08:54:43.223Z"
      },
      {
        "duration": 4,
        "start_time": "2022-02-08T08:56:05.889Z"
      },
      {
        "duration": 1002,
        "start_time": "2022-02-08T08:56:06.876Z"
      },
      {
        "duration": 464,
        "start_time": "2022-02-08T08:56:27.507Z"
      },
      {
        "duration": 742,
        "start_time": "2022-02-08T08:58:06.529Z"
      },
      {
        "duration": 15,
        "start_time": "2022-02-08T08:58:54.552Z"
      },
      {
        "duration": 8,
        "start_time": "2022-02-08T08:59:00.199Z"
      },
      {
        "duration": 13,
        "start_time": "2022-02-08T08:59:28.547Z"
      },
      {
        "duration": 14,
        "start_time": "2022-02-08T08:59:53.041Z"
      },
      {
        "duration": 11,
        "start_time": "2022-02-08T08:59:53.742Z"
      },
      {
        "duration": 2097,
        "start_time": "2022-02-08T09:00:29.929Z"
      },
      {
        "duration": 15,
        "start_time": "2022-02-08T09:01:13.047Z"
      },
      {
        "duration": 13,
        "start_time": "2022-02-08T09:01:14.043Z"
      },
      {
        "duration": 136,
        "start_time": "2022-02-08T09:02:02.067Z"
      },
      {
        "duration": 129,
        "start_time": "2022-02-08T09:02:45.284Z"
      },
      {
        "duration": 106,
        "start_time": "2022-02-08T09:03:06.110Z"
      },
      {
        "duration": 15,
        "start_time": "2022-02-08T09:03:27.190Z"
      },
      {
        "duration": 12,
        "start_time": "2022-02-08T09:03:32.688Z"
      },
      {
        "duration": 383,
        "start_time": "2022-02-08T09:04:08.960Z"
      },
      {
        "duration": 293,
        "start_time": "2022-02-08T09:04:20.754Z"
      },
      {
        "duration": 1441,
        "start_time": "2022-02-08T09:05:28.791Z"
      },
      {
        "duration": 870,
        "start_time": "2022-02-08T09:05:30.235Z"
      },
      {
        "duration": 47,
        "start_time": "2022-02-08T09:05:31.108Z"
      },
      {
        "duration": 29,
        "start_time": "2022-02-08T09:05:31.158Z"
      },
      {
        "duration": 7,
        "start_time": "2022-02-08T09:05:31.190Z"
      },
      {
        "duration": 64,
        "start_time": "2022-02-08T09:05:31.199Z"
      },
      {
        "duration": 16,
        "start_time": "2022-02-08T09:05:31.265Z"
      },
      {
        "duration": 3,
        "start_time": "2022-02-08T09:05:31.285Z"
      },
      {
        "duration": 150,
        "start_time": "2022-02-08T09:05:31.291Z"
      },
      {
        "duration": 77,
        "start_time": "2022-02-08T09:05:31.444Z"
      },
      {
        "duration": 246,
        "start_time": "2022-02-08T09:05:31.524Z"
      },
      {
        "duration": 13,
        "start_time": "2022-02-08T09:05:31.772Z"
      },
      {
        "duration": 21,
        "start_time": "2022-02-08T09:05:31.788Z"
      },
      {
        "duration": 8,
        "start_time": "2022-02-08T09:05:31.812Z"
      },
      {
        "duration": 6,
        "start_time": "2022-02-08T09:05:31.849Z"
      },
      {
        "duration": 20,
        "start_time": "2022-02-08T09:05:31.858Z"
      },
      {
        "duration": 24,
        "start_time": "2022-02-08T09:05:31.880Z"
      },
      {
        "duration": 3,
        "start_time": "2022-02-08T09:05:31.907Z"
      },
      {
        "duration": 15,
        "start_time": "2022-02-08T09:05:31.950Z"
      },
      {
        "duration": 12,
        "start_time": "2022-02-08T09:05:31.968Z"
      },
      {
        "duration": 13,
        "start_time": "2022-02-08T09:05:31.983Z"
      },
      {
        "duration": 87,
        "start_time": "2022-02-08T09:05:31.999Z"
      },
      {
        "duration": 13,
        "start_time": "2022-02-08T09:05:32.090Z"
      },
      {
        "duration": 117,
        "start_time": "2022-02-08T09:06:15.310Z"
      },
      {
        "duration": 89,
        "start_time": "2022-02-08T09:07:01.473Z"
      },
      {
        "duration": 7189,
        "start_time": "2022-02-08T09:10:15.722Z"
      },
      {
        "duration": 100,
        "start_time": "2022-02-08T09:12:17.004Z"
      },
      {
        "duration": 17,
        "start_time": "2022-02-08T09:12:47.267Z"
      },
      {
        "duration": 134,
        "start_time": "2022-02-08T09:13:03.979Z"
      },
      {
        "duration": 16,
        "start_time": "2022-02-08T09:13:22.181Z"
      },
      {
        "duration": 561,
        "start_time": "2022-02-08T09:14:41.229Z"
      },
      {
        "duration": 4,
        "start_time": "2022-02-08T09:15:29.840Z"
      },
      {
        "duration": 100,
        "start_time": "2022-02-08T09:15:35.854Z"
      },
      {
        "duration": 16,
        "start_time": "2022-02-08T09:58:37.032Z"
      },
      {
        "duration": 1429,
        "start_time": "2022-02-08T09:59:59.468Z"
      },
      {
        "duration": 961,
        "start_time": "2022-02-08T10:00:00.901Z"
      },
      {
        "duration": 37,
        "start_time": "2022-02-08T10:00:01.866Z"
      },
      {
        "duration": 51,
        "start_time": "2022-02-08T10:00:01.906Z"
      },
      {
        "duration": 14,
        "start_time": "2022-02-08T10:00:01.959Z"
      },
      {
        "duration": 58,
        "start_time": "2022-02-08T10:00:01.976Z"
      },
      {
        "duration": 20,
        "start_time": "2022-02-08T10:00:02.037Z"
      },
      {
        "duration": 19,
        "start_time": "2022-02-08T10:00:02.061Z"
      },
      {
        "duration": 142,
        "start_time": "2022-02-08T10:00:02.083Z"
      },
      {
        "duration": 130,
        "start_time": "2022-02-08T10:00:02.229Z"
      },
      {
        "duration": 275,
        "start_time": "2022-02-08T10:00:02.362Z"
      },
      {
        "duration": 15,
        "start_time": "2022-02-08T10:00:02.639Z"
      },
      {
        "duration": 39,
        "start_time": "2022-02-08T10:00:02.656Z"
      },
      {
        "duration": 9,
        "start_time": "2022-02-08T10:00:02.698Z"
      },
      {
        "duration": 11,
        "start_time": "2022-02-08T10:00:02.709Z"
      },
      {
        "duration": 44,
        "start_time": "2022-02-08T10:00:02.722Z"
      },
      {
        "duration": 26,
        "start_time": "2022-02-08T10:00:02.769Z"
      },
      {
        "duration": 4,
        "start_time": "2022-02-08T10:00:02.797Z"
      },
      {
        "duration": 503,
        "start_time": "2022-02-08T10:00:02.805Z"
      },
      {
        "duration": 699,
        "start_time": "2022-02-08T10:00:02.612Z"
      },
      {
        "duration": 694,
        "start_time": "2022-02-08T10:00:02.619Z"
      },
      {
        "duration": 692,
        "start_time": "2022-02-08T10:00:02.622Z"
      },
      {
        "duration": 691,
        "start_time": "2022-02-08T10:00:02.625Z"
      },
      {
        "duration": 689,
        "start_time": "2022-02-08T10:00:02.628Z"
      },
      {
        "duration": 295,
        "start_time": "2022-02-08T10:01:25.355Z"
      },
      {
        "duration": 12,
        "start_time": "2022-02-08T10:02:01.381Z"
      },
      {
        "duration": 8,
        "start_time": "2022-02-08T10:02:09.840Z"
      },
      {
        "duration": 4,
        "start_time": "2022-02-08T10:02:46.203Z"
      },
      {
        "duration": 7,
        "start_time": "2022-02-08T10:02:50.810Z"
      },
      {
        "duration": 24,
        "start_time": "2022-02-08T10:03:14.131Z"
      },
      {
        "duration": 12,
        "start_time": "2022-02-08T10:03:20.246Z"
      },
      {
        "duration": 22,
        "start_time": "2022-02-08T10:03:36.320Z"
      },
      {
        "duration": 17,
        "start_time": "2022-02-08T11:01:40.002Z"
      },
      {
        "duration": 53,
        "start_time": "2022-02-08T11:04:40.336Z"
      },
      {
        "duration": 11,
        "start_time": "2022-02-08T11:09:59.244Z"
      },
      {
        "duration": 110,
        "start_time": "2022-02-08T11:10:12.619Z"
      },
      {
        "duration": 287,
        "start_time": "2022-02-08T11:12:04.587Z"
      },
      {
        "duration": 310,
        "start_time": "2022-02-08T11:13:30.961Z"
      },
      {
        "duration": 497,
        "start_time": "2022-02-08T11:14:18.705Z"
      },
      {
        "duration": 115,
        "start_time": "2022-02-08T11:14:33.997Z"
      },
      {
        "duration": 1422,
        "start_time": "2022-02-08T14:12:55.114Z"
      },
      {
        "duration": 5473,
        "start_time": "2022-02-08T14:12:56.539Z"
      },
      {
        "duration": 44,
        "start_time": "2022-02-08T14:13:02.015Z"
      },
      {
        "duration": 31,
        "start_time": "2022-02-08T14:13:02.062Z"
      },
      {
        "duration": 7,
        "start_time": "2022-02-08T14:13:02.096Z"
      },
      {
        "duration": 54,
        "start_time": "2022-02-08T14:13:02.105Z"
      },
      {
        "duration": 17,
        "start_time": "2022-02-08T14:13:02.161Z"
      },
      {
        "duration": 3,
        "start_time": "2022-02-08T14:13:02.182Z"
      },
      {
        "duration": 146,
        "start_time": "2022-02-08T14:13:02.188Z"
      },
      {
        "duration": 85,
        "start_time": "2022-02-08T14:13:02.337Z"
      },
      {
        "duration": 236,
        "start_time": "2022-02-08T14:13:02.424Z"
      },
      {
        "duration": 12,
        "start_time": "2022-02-08T14:13:02.663Z"
      },
      {
        "duration": 21,
        "start_time": "2022-02-08T14:13:02.677Z"
      },
      {
        "duration": 7,
        "start_time": "2022-02-08T14:13:02.700Z"
      },
      {
        "duration": 6,
        "start_time": "2022-02-08T14:13:02.709Z"
      },
      {
        "duration": 49,
        "start_time": "2022-02-08T14:13:02.718Z"
      },
      {
        "duration": 25,
        "start_time": "2022-02-08T14:13:02.769Z"
      },
      {
        "duration": 4,
        "start_time": "2022-02-08T14:13:02.796Z"
      },
      {
        "duration": 66,
        "start_time": "2022-02-08T14:13:02.802Z"
      },
      {
        "duration": 11,
        "start_time": "2022-02-08T14:13:02.870Z"
      },
      {
        "duration": 24,
        "start_time": "2022-02-08T14:13:02.883Z"
      },
      {
        "duration": 15,
        "start_time": "2022-02-08T14:13:02.910Z"
      },
      {
        "duration": 80,
        "start_time": "2022-02-08T14:13:02.929Z"
      },
      {
        "duration": 11,
        "start_time": "2022-02-08T14:13:03.012Z"
      },
      {
        "duration": 334,
        "start_time": "2022-02-08T14:13:03.025Z"
      },
      {
        "duration": 121,
        "start_time": "2022-02-08T14:13:03.361Z"
      },
      {
        "duration": 13,
        "start_time": "2022-02-08T14:14:00.780Z"
      },
      {
        "duration": 871,
        "start_time": "2022-02-08T14:14:24.842Z"
      },
      {
        "duration": 382,
        "start_time": "2022-02-08T14:14:34.720Z"
      },
      {
        "duration": 13,
        "start_time": "2022-02-08T14:14:44.609Z"
      },
      {
        "duration": 14,
        "start_time": "2022-02-08T14:14:57.849Z"
      },
      {
        "duration": 376,
        "start_time": "2022-02-08T14:16:10.186Z"
      },
      {
        "duration": 390,
        "start_time": "2022-02-08T14:16:41.759Z"
      },
      {
        "duration": 13,
        "start_time": "2022-02-08T14:19:01.284Z"
      },
      {
        "duration": 509,
        "start_time": "2022-02-08T14:28:43.396Z"
      },
      {
        "duration": 414,
        "start_time": "2022-02-08T14:28:59.059Z"
      },
      {
        "duration": 416,
        "start_time": "2022-02-08T14:29:51.500Z"
      },
      {
        "duration": 1518,
        "start_time": "2022-02-08T14:30:01.530Z"
      },
      {
        "duration": 902,
        "start_time": "2022-02-08T14:30:03.051Z"
      },
      {
        "duration": 36,
        "start_time": "2022-02-08T14:30:03.960Z"
      },
      {
        "duration": 32,
        "start_time": "2022-02-08T14:30:03.999Z"
      },
      {
        "duration": 31,
        "start_time": "2022-02-08T14:30:04.033Z"
      },
      {
        "duration": 26,
        "start_time": "2022-02-08T14:30:04.067Z"
      },
      {
        "duration": 15,
        "start_time": "2022-02-08T14:30:04.097Z"
      },
      {
        "duration": 3,
        "start_time": "2022-02-08T14:30:04.115Z"
      },
      {
        "duration": 151,
        "start_time": "2022-02-08T14:30:04.120Z"
      },
      {
        "duration": 93,
        "start_time": "2022-02-08T14:30:04.273Z"
      },
      {
        "duration": 225,
        "start_time": "2022-02-08T14:30:04.368Z"
      },
      {
        "duration": 14,
        "start_time": "2022-02-08T14:30:04.595Z"
      },
      {
        "duration": 21,
        "start_time": "2022-02-08T14:30:04.611Z"
      },
      {
        "duration": 29,
        "start_time": "2022-02-08T14:30:04.634Z"
      },
      {
        "duration": 6,
        "start_time": "2022-02-08T14:30:04.665Z"
      },
      {
        "duration": 13,
        "start_time": "2022-02-08T14:30:04.674Z"
      },
      {
        "duration": 22,
        "start_time": "2022-02-08T14:30:04.689Z"
      },
      {
        "duration": 3,
        "start_time": "2022-02-08T14:30:04.714Z"
      },
      {
        "duration": 24,
        "start_time": "2022-02-08T14:30:04.759Z"
      },
      {
        "duration": 11,
        "start_time": "2022-02-08T14:30:04.785Z"
      },
      {
        "duration": 22,
        "start_time": "2022-02-08T14:30:04.798Z"
      },
      {
        "duration": 44,
        "start_time": "2022-02-08T14:30:04.823Z"
      },
      {
        "duration": 51,
        "start_time": "2022-02-08T14:30:04.870Z"
      },
      {
        "duration": 36,
        "start_time": "2022-02-08T14:30:04.924Z"
      },
      {
        "duration": 126,
        "start_time": "2022-02-08T14:30:04.963Z"
      },
      {
        "duration": 545,
        "start_time": "2022-02-08T14:30:05.092Z"
      },
      {
        "duration": 467,
        "start_time": "2022-02-08T14:30:30.660Z"
      },
      {
        "duration": 386,
        "start_time": "2022-02-08T14:31:08.442Z"
      },
      {
        "duration": 43,
        "start_time": "2022-02-08T14:31:28.007Z"
      },
      {
        "duration": 14,
        "start_time": "2022-02-08T14:32:06.779Z"
      },
      {
        "duration": 12,
        "start_time": "2022-02-08T14:32:45.055Z"
      },
      {
        "duration": 13,
        "start_time": "2022-02-08T14:38:18.198Z"
      },
      {
        "duration": 7,
        "start_time": "2022-02-08T14:45:05.063Z"
      },
      {
        "duration": 3,
        "start_time": "2022-02-08T14:48:32.600Z"
      },
      {
        "duration": 5,
        "start_time": "2022-02-08T14:48:45.117Z"
      },
      {
        "duration": 6,
        "start_time": "2022-02-08T14:48:51.040Z"
      },
      {
        "duration": 5,
        "start_time": "2022-02-08T14:49:30.053Z"
      },
      {
        "duration": 405,
        "start_time": "2022-02-08T14:50:19.599Z"
      },
      {
        "duration": 606,
        "start_time": "2022-02-08T14:50:36.896Z"
      },
      {
        "duration": 595,
        "start_time": "2022-02-08T14:51:07.690Z"
      },
      {
        "duration": 817,
        "start_time": "2022-02-08T14:51:28.059Z"
      },
      {
        "duration": 776,
        "start_time": "2022-02-08T14:51:33.578Z"
      },
      {
        "duration": 6,
        "start_time": "2022-02-08T14:51:51.709Z"
      },
      {
        "duration": 9,
        "start_time": "2022-02-08T14:56:40.069Z"
      },
      {
        "duration": 8,
        "start_time": "2022-02-08T14:58:26.185Z"
      },
      {
        "duration": 8,
        "start_time": "2022-02-08T14:58:35.822Z"
      },
      {
        "duration": 9308,
        "start_time": "2022-02-08T15:06:32.822Z"
      },
      {
        "duration": 9647,
        "start_time": "2022-02-08T15:06:52.883Z"
      },
      {
        "duration": 384,
        "start_time": "2022-02-08T15:07:49.751Z"
      },
      {
        "duration": 9232,
        "start_time": "2022-02-08T15:08:10.426Z"
      },
      {
        "duration": 7,
        "start_time": "2022-02-08T15:09:05.185Z"
      },
      {
        "duration": 7,
        "start_time": "2022-02-08T15:10:27.943Z"
      },
      {
        "duration": 8,
        "start_time": "2022-02-08T15:10:35.503Z"
      },
      {
        "duration": 770,
        "start_time": "2022-02-08T15:10:45.306Z"
      },
      {
        "duration": 397,
        "start_time": "2022-02-08T15:11:19.551Z"
      },
      {
        "duration": 6,
        "start_time": "2022-02-08T15:11:25.582Z"
      },
      {
        "duration": 5,
        "start_time": "2022-02-08T15:12:36.689Z"
      },
      {
        "duration": 6,
        "start_time": "2022-02-08T15:12:50.856Z"
      },
      {
        "duration": 5,
        "start_time": "2022-02-08T15:18:08.272Z"
      },
      {
        "duration": 6,
        "start_time": "2022-02-08T15:25:53.488Z"
      },
      {
        "duration": 116,
        "start_time": "2022-02-08T15:30:44.292Z"
      },
      {
        "duration": 5972,
        "start_time": "2022-02-08T15:31:04.913Z"
      },
      {
        "duration": 7,
        "start_time": "2022-02-08T15:31:22.217Z"
      },
      {
        "duration": 113,
        "start_time": "2022-02-08T15:31:29.192Z"
      },
      {
        "duration": 1407,
        "start_time": "2022-02-08T15:33:22.033Z"
      },
      {
        "duration": 939,
        "start_time": "2022-02-08T15:33:23.443Z"
      },
      {
        "duration": 88,
        "start_time": "2022-02-08T15:33:24.384Z"
      },
      {
        "duration": 97,
        "start_time": "2022-02-08T15:33:24.475Z"
      },
      {
        "duration": 9,
        "start_time": "2022-02-08T15:33:24.575Z"
      },
      {
        "duration": 76,
        "start_time": "2022-02-08T15:33:24.586Z"
      },
      {
        "duration": 17,
        "start_time": "2022-02-08T15:33:24.664Z"
      },
      {
        "duration": 3,
        "start_time": "2022-02-08T15:33:24.685Z"
      },
      {
        "duration": 271,
        "start_time": "2022-02-08T15:33:24.691Z"
      },
      {
        "duration": 131,
        "start_time": "2022-02-08T15:33:24.964Z"
      },
      {
        "duration": 250,
        "start_time": "2022-02-08T15:33:25.097Z"
      },
      {
        "duration": 19,
        "start_time": "2022-02-08T15:33:25.349Z"
      },
      {
        "duration": 21,
        "start_time": "2022-02-08T15:33:25.370Z"
      },
      {
        "duration": 7,
        "start_time": "2022-02-08T15:33:25.394Z"
      },
      {
        "duration": 7,
        "start_time": "2022-02-08T15:33:25.404Z"
      },
      {
        "duration": 49,
        "start_time": "2022-02-08T15:33:25.413Z"
      },
      {
        "duration": 22,
        "start_time": "2022-02-08T15:33:25.465Z"
      },
      {
        "duration": 3,
        "start_time": "2022-02-08T15:33:25.490Z"
      },
      {
        "duration": 22,
        "start_time": "2022-02-08T15:33:25.495Z"
      },
      {
        "duration": 43,
        "start_time": "2022-02-08T15:33:25.519Z"
      },
      {
        "duration": 22,
        "start_time": "2022-02-08T15:33:25.564Z"
      },
      {
        "duration": 16,
        "start_time": "2022-02-08T15:33:25.588Z"
      },
      {
        "duration": 79,
        "start_time": "2022-02-08T15:33:25.608Z"
      },
      {
        "duration": 10,
        "start_time": "2022-02-08T15:33:25.689Z"
      },
      {
        "duration": 132,
        "start_time": "2022-02-08T15:33:25.702Z"
      },
      {
        "duration": 10,
        "start_time": "2022-02-08T15:33:25.836Z"
      },
      {
        "duration": 6,
        "start_time": "2022-02-08T15:33:25.860Z"
      },
      {
        "duration": 5935,
        "start_time": "2022-02-08T15:33:25.868Z"
      },
      {
        "duration": 125,
        "start_time": "2022-02-08T15:33:31.805Z"
      },
      {
        "duration": 23,
        "start_time": "2022-02-08T15:34:51.164Z"
      },
      {
        "duration": 8,
        "start_time": "2022-02-08T15:35:55.199Z"
      },
      {
        "duration": 1676,
        "start_time": "2022-02-08T15:36:40.069Z"
      },
      {
        "duration": 863,
        "start_time": "2022-02-08T15:36:41.747Z"
      },
      {
        "duration": 47,
        "start_time": "2022-02-08T15:36:42.613Z"
      },
      {
        "duration": 31,
        "start_time": "2022-02-08T15:36:42.663Z"
      },
      {
        "duration": 7,
        "start_time": "2022-02-08T15:36:42.696Z"
      },
      {
        "duration": 53,
        "start_time": "2022-02-08T15:36:42.706Z"
      },
      {
        "duration": 16,
        "start_time": "2022-02-08T15:36:42.761Z"
      },
      {
        "duration": 4,
        "start_time": "2022-02-08T15:36:42.780Z"
      },
      {
        "duration": 150,
        "start_time": "2022-02-08T15:36:42.786Z"
      },
      {
        "duration": 99,
        "start_time": "2022-02-08T15:36:42.938Z"
      },
      {
        "duration": 227,
        "start_time": "2022-02-08T15:36:43.039Z"
      },
      {
        "duration": 13,
        "start_time": "2022-02-08T15:36:43.268Z"
      },
      {
        "duration": 20,
        "start_time": "2022-02-08T15:36:43.283Z"
      },
      {
        "duration": 8,
        "start_time": "2022-02-08T15:36:43.305Z"
      },
      {
        "duration": 5,
        "start_time": "2022-02-08T15:36:43.315Z"
      },
      {
        "duration": 13,
        "start_time": "2022-02-08T15:36:43.358Z"
      },
      {
        "duration": 24,
        "start_time": "2022-02-08T15:36:43.374Z"
      },
      {
        "duration": 4,
        "start_time": "2022-02-08T15:36:43.400Z"
      },
      {
        "duration": 53,
        "start_time": "2022-02-08T15:36:43.406Z"
      },
      {
        "duration": 12,
        "start_time": "2022-02-08T15:36:43.461Z"
      },
      {
        "duration": 22,
        "start_time": "2022-02-08T15:36:43.476Z"
      },
      {
        "duration": 4,
        "start_time": "2022-02-08T15:36:43.501Z"
      },
      {
        "duration": 3504,
        "start_time": "2022-02-08T15:36:43.510Z"
      },
      {
        "duration": 237,
        "start_time": "2022-02-08T15:36:46.780Z"
      },
      {
        "duration": 235,
        "start_time": "2022-02-08T15:36:46.784Z"
      },
      {
        "duration": 230,
        "start_time": "2022-02-08T15:36:46.790Z"
      },
      {
        "duration": 229,
        "start_time": "2022-02-08T15:36:46.793Z"
      },
      {
        "duration": 228,
        "start_time": "2022-02-08T15:36:46.795Z"
      },
      {
        "duration": 226,
        "start_time": "2022-02-08T15:36:46.798Z"
      },
      {
        "duration": 5,
        "start_time": "2022-02-08T15:37:03.572Z"
      },
      {
        "duration": 5,
        "start_time": "2022-02-08T15:37:23.832Z"
      },
      {
        "duration": 5,
        "start_time": "2022-02-08T15:37:24.597Z"
      },
      {
        "duration": 394,
        "start_time": "2022-02-08T15:37:29.895Z"
      },
      {
        "duration": 371,
        "start_time": "2022-02-08T15:37:52.118Z"
      },
      {
        "duration": 517,
        "start_time": "2022-02-08T15:37:56.465Z"
      },
      {
        "duration": 6,
        "start_time": "2022-02-08T15:38:09.961Z"
      },
      {
        "duration": 1480,
        "start_time": "2022-02-08T15:38:30.572Z"
      },
      {
        "duration": 848,
        "start_time": "2022-02-08T15:38:32.054Z"
      },
      {
        "duration": 37,
        "start_time": "2022-02-08T15:38:32.906Z"
      },
      {
        "duration": 32,
        "start_time": "2022-02-08T15:38:32.961Z"
      },
      {
        "duration": 9,
        "start_time": "2022-02-08T15:38:32.995Z"
      },
      {
        "duration": 53,
        "start_time": "2022-02-08T15:38:33.006Z"
      },
      {
        "duration": 17,
        "start_time": "2022-02-08T15:38:33.062Z"
      },
      {
        "duration": 3,
        "start_time": "2022-02-08T15:38:33.083Z"
      },
      {
        "duration": 141,
        "start_time": "2022-02-08T15:38:33.089Z"
      },
      {
        "duration": 91,
        "start_time": "2022-02-08T15:38:33.232Z"
      },
      {
        "duration": 234,
        "start_time": "2022-02-08T15:38:33.325Z"
      },
      {
        "duration": 13,
        "start_time": "2022-02-08T15:38:33.561Z"
      },
      {
        "duration": 21,
        "start_time": "2022-02-08T15:38:33.576Z"
      },
      {
        "duration": 7,
        "start_time": "2022-02-08T15:38:33.600Z"
      },
      {
        "duration": 6,
        "start_time": "2022-02-08T15:38:33.609Z"
      },
      {
        "duration": 47,
        "start_time": "2022-02-08T15:38:33.618Z"
      },
      {
        "duration": 25,
        "start_time": "2022-02-08T15:38:33.668Z"
      },
      {
        "duration": 4,
        "start_time": "2022-02-08T15:38:33.696Z"
      },
      {
        "duration": 24,
        "start_time": "2022-02-08T15:38:33.702Z"
      },
      {
        "duration": 39,
        "start_time": "2022-02-08T15:38:33.729Z"
      },
      {
        "duration": 21,
        "start_time": "2022-02-08T15:38:33.771Z"
      },
      {
        "duration": 5,
        "start_time": "2022-02-08T15:38:33.795Z"
      },
      {
        "duration": 69,
        "start_time": "2022-02-08T15:38:33.804Z"
      },
      {
        "duration": 10,
        "start_time": "2022-02-08T15:38:33.876Z"
      },
      {
        "duration": 137,
        "start_time": "2022-02-08T15:38:33.888Z"
      },
      {
        "duration": 13,
        "start_time": "2022-02-08T15:38:34.028Z"
      },
      {
        "duration": 6,
        "start_time": "2022-02-08T15:38:34.059Z"
      },
      {
        "duration": 6477,
        "start_time": "2022-02-08T15:38:34.068Z"
      },
      {
        "duration": 27,
        "start_time": "2022-02-08T15:38:40.547Z"
      },
      {
        "duration": 1375,
        "start_time": "2022-02-08T15:39:45.106Z"
      },
      {
        "duration": 995,
        "start_time": "2022-02-08T15:39:46.483Z"
      },
      {
        "duration": 88,
        "start_time": "2022-02-08T15:39:47.481Z"
      },
      {
        "duration": 34,
        "start_time": "2022-02-08T15:39:47.572Z"
      },
      {
        "duration": 56,
        "start_time": "2022-02-08T15:39:47.609Z"
      },
      {
        "duration": 25,
        "start_time": "2022-02-08T15:39:47.667Z"
      },
      {
        "duration": 68,
        "start_time": "2022-02-08T15:39:47.695Z"
      },
      {
        "duration": 3,
        "start_time": "2022-02-08T15:39:47.767Z"
      },
      {
        "duration": 227,
        "start_time": "2022-02-08T15:39:47.773Z"
      },
      {
        "duration": 107,
        "start_time": "2022-02-08T15:39:48.002Z"
      },
      {
        "duration": 226,
        "start_time": "2022-02-08T15:39:48.112Z"
      },
      {
        "duration": 20,
        "start_time": "2022-02-08T15:39:48.340Z"
      },
      {
        "duration": 21,
        "start_time": "2022-02-08T15:39:48.362Z"
      },
      {
        "duration": 9,
        "start_time": "2022-02-08T15:39:48.386Z"
      },
      {
        "duration": 6,
        "start_time": "2022-02-08T15:39:48.398Z"
      },
      {
        "duration": 53,
        "start_time": "2022-02-08T15:39:48.406Z"
      },
      {
        "duration": 22,
        "start_time": "2022-02-08T15:39:48.461Z"
      },
      {
        "duration": 3,
        "start_time": "2022-02-08T15:39:48.486Z"
      },
      {
        "duration": 26,
        "start_time": "2022-02-08T15:39:48.492Z"
      },
      {
        "duration": 10,
        "start_time": "2022-02-08T15:39:48.521Z"
      },
      {
        "duration": 24,
        "start_time": "2022-02-08T15:39:48.560Z"
      },
      {
        "duration": 5,
        "start_time": "2022-02-08T15:39:48.587Z"
      },
      {
        "duration": 68,
        "start_time": "2022-02-08T15:39:48.596Z"
      },
      {
        "duration": 12,
        "start_time": "2022-02-08T15:39:48.667Z"
      },
      {
        "duration": 135,
        "start_time": "2022-02-08T15:39:48.681Z"
      },
      {
        "duration": 10,
        "start_time": "2022-02-08T15:39:48.818Z"
      },
      {
        "duration": 31,
        "start_time": "2022-02-08T15:39:48.830Z"
      },
      {
        "duration": 5780,
        "start_time": "2022-02-08T15:39:48.863Z"
      },
      {
        "duration": 31,
        "start_time": "2022-02-08T15:39:54.646Z"
      },
      {
        "duration": 1482,
        "start_time": "2022-02-08T16:47:08.335Z"
      },
      {
        "duration": 875,
        "start_time": "2022-02-08T16:47:09.820Z"
      },
      {
        "duration": 36,
        "start_time": "2022-02-08T16:47:10.698Z"
      },
      {
        "duration": 49,
        "start_time": "2022-02-08T16:47:10.738Z"
      },
      {
        "duration": 7,
        "start_time": "2022-02-08T16:47:10.790Z"
      },
      {
        "duration": 26,
        "start_time": "2022-02-08T16:47:10.800Z"
      },
      {
        "duration": 42,
        "start_time": "2022-02-08T16:47:10.828Z"
      },
      {
        "duration": 4,
        "start_time": "2022-02-08T16:47:10.874Z"
      },
      {
        "duration": 142,
        "start_time": "2022-02-08T16:47:10.881Z"
      },
      {
        "duration": 92,
        "start_time": "2022-02-08T16:47:11.026Z"
      },
      {
        "duration": 238,
        "start_time": "2022-02-08T16:47:11.121Z"
      },
      {
        "duration": 14,
        "start_time": "2022-02-08T16:47:11.362Z"
      },
      {
        "duration": 22,
        "start_time": "2022-02-08T16:47:11.378Z"
      },
      {
        "duration": 8,
        "start_time": "2022-02-08T16:47:11.403Z"
      },
      {
        "duration": 45,
        "start_time": "2022-02-08T16:47:11.414Z"
      },
      {
        "duration": 15,
        "start_time": "2022-02-08T16:47:11.462Z"
      },
      {
        "duration": 26,
        "start_time": "2022-02-08T16:47:11.479Z"
      },
      {
        "duration": 3,
        "start_time": "2022-02-08T16:47:11.507Z"
      },
      {
        "duration": 58,
        "start_time": "2022-02-08T16:47:11.512Z"
      },
      {
        "duration": 11,
        "start_time": "2022-02-08T16:47:11.572Z"
      },
      {
        "duration": 3,
        "start_time": "2022-02-08T16:47:11.586Z"
      },
      {
        "duration": 6,
        "start_time": "2022-02-08T16:47:11.591Z"
      },
      {
        "duration": 5,
        "start_time": "2022-02-08T16:47:11.602Z"
      },
      {
        "duration": 8,
        "start_time": "2022-02-08T16:47:11.610Z"
      },
      {
        "duration": 148,
        "start_time": "2022-02-08T16:47:11.620Z"
      },
      {
        "duration": 14,
        "start_time": "2022-02-08T16:47:11.771Z"
      },
      {
        "duration": 8,
        "start_time": "2022-02-08T16:47:11.787Z"
      },
      {
        "duration": 6161,
        "start_time": "2022-02-08T16:47:11.798Z"
      },
      {
        "duration": 25,
        "start_time": "2022-02-08T16:47:17.961Z"
      },
      {
        "duration": 12,
        "start_time": "2022-02-08T17:04:24.922Z"
      },
      {
        "duration": 29,
        "start_time": "2022-02-08T17:10:54.609Z"
      },
      {
        "duration": 34,
        "start_time": "2022-02-08T17:11:35.162Z"
      },
      {
        "duration": 23,
        "start_time": "2022-02-08T17:12:11.318Z"
      },
      {
        "duration": 1419,
        "start_time": "2022-02-08T17:32:12.423Z"
      },
      {
        "duration": 873,
        "start_time": "2022-02-08T17:32:13.845Z"
      },
      {
        "duration": 43,
        "start_time": "2022-02-08T17:32:14.722Z"
      },
      {
        "duration": 28,
        "start_time": "2022-02-08T17:32:14.768Z"
      },
      {
        "duration": 7,
        "start_time": "2022-02-08T17:32:14.799Z"
      },
      {
        "duration": 57,
        "start_time": "2022-02-08T17:32:14.808Z"
      },
      {
        "duration": 15,
        "start_time": "2022-02-08T17:32:14.868Z"
      },
      {
        "duration": 4,
        "start_time": "2022-02-08T17:32:14.887Z"
      },
      {
        "duration": 140,
        "start_time": "2022-02-08T17:32:14.893Z"
      },
      {
        "duration": 84,
        "start_time": "2022-02-08T17:32:15.036Z"
      },
      {
        "duration": 223,
        "start_time": "2022-02-08T17:32:15.122Z"
      },
      {
        "duration": 21,
        "start_time": "2022-02-08T17:32:15.347Z"
      },
      {
        "duration": 21,
        "start_time": "2022-02-08T17:32:15.370Z"
      },
      {
        "duration": 8,
        "start_time": "2022-02-08T17:32:15.394Z"
      },
      {
        "duration": 5,
        "start_time": "2022-02-08T17:32:15.405Z"
      },
      {
        "duration": 49,
        "start_time": "2022-02-08T17:32:15.413Z"
      },
      {
        "duration": 22,
        "start_time": "2022-02-08T17:32:15.465Z"
      },
      {
        "duration": 3,
        "start_time": "2022-02-08T17:32:15.490Z"
      },
      {
        "duration": 24,
        "start_time": "2022-02-08T17:32:15.496Z"
      },
      {
        "duration": 43,
        "start_time": "2022-02-08T17:32:15.522Z"
      },
      {
        "duration": 125,
        "start_time": "2022-02-08T17:32:15.568Z"
      },
      {
        "duration": 3,
        "start_time": "2022-02-08T17:32:15.696Z"
      },
      {
        "duration": 3,
        "start_time": "2022-02-08T17:32:15.703Z"
      },
      {
        "duration": 4,
        "start_time": "2022-02-08T17:32:15.708Z"
      },
      {
        "duration": 7,
        "start_time": "2022-02-08T17:32:15.714Z"
      },
      {
        "duration": 6006,
        "start_time": "2022-02-08T17:32:15.724Z"
      },
      {
        "duration": 34,
        "start_time": "2022-02-08T17:32:21.733Z"
      },
      {
        "duration": 1368,
        "start_time": "2022-02-08T17:45:38.186Z"
      },
      {
        "duration": 918,
        "start_time": "2022-02-08T17:45:39.557Z"
      },
      {
        "duration": 35,
        "start_time": "2022-02-08T17:45:40.478Z"
      },
      {
        "duration": 64,
        "start_time": "2022-02-08T17:45:40.515Z"
      },
      {
        "duration": 9,
        "start_time": "2022-02-08T17:45:40.583Z"
      },
      {
        "duration": 30,
        "start_time": "2022-02-08T17:45:40.594Z"
      },
      {
        "duration": 39,
        "start_time": "2022-02-08T17:45:40.626Z"
      },
      {
        "duration": 4,
        "start_time": "2022-02-08T17:45:40.669Z"
      },
      {
        "duration": 163,
        "start_time": "2022-02-08T17:45:40.677Z"
      },
      {
        "duration": 89,
        "start_time": "2022-02-08T17:45:40.843Z"
      },
      {
        "duration": 232,
        "start_time": "2022-02-08T17:45:40.934Z"
      },
      {
        "duration": 15,
        "start_time": "2022-02-08T17:45:41.168Z"
      },
      {
        "duration": 21,
        "start_time": "2022-02-08T17:45:41.185Z"
      },
      {
        "duration": 8,
        "start_time": "2022-02-08T17:45:41.209Z"
      },
      {
        "duration": 41,
        "start_time": "2022-02-08T17:45:41.220Z"
      },
      {
        "duration": 13,
        "start_time": "2022-02-08T17:45:41.264Z"
      },
      {
        "duration": 24,
        "start_time": "2022-02-08T17:45:41.280Z"
      },
      {
        "duration": 3,
        "start_time": "2022-02-08T17:45:41.307Z"
      },
      {
        "duration": 60,
        "start_time": "2022-02-08T17:45:41.312Z"
      },
      {
        "duration": 11,
        "start_time": "2022-02-08T17:45:41.375Z"
      },
      {
        "duration": 137,
        "start_time": "2022-02-08T17:45:41.388Z"
      },
      {
        "duration": 14,
        "start_time": "2022-02-08T17:45:41.529Z"
      },
      {
        "duration": 7,
        "start_time": "2022-02-08T17:45:41.561Z"
      },
      {
        "duration": 6767,
        "start_time": "2022-02-08T17:45:41.571Z"
      },
      {
        "duration": 33,
        "start_time": "2022-02-08T17:45:48.340Z"
      },
      {
        "duration": 94,
        "start_time": "2022-02-08T17:47:54.757Z"
      },
      {
        "duration": 22,
        "start_time": "2022-02-08T17:48:01.884Z"
      },
      {
        "duration": 43,
        "start_time": "2022-02-08T17:48:43.522Z"
      },
      {
        "duration": 469,
        "start_time": "2022-02-08T17:49:21.791Z"
      },
      {
        "duration": 9,
        "start_time": "2022-02-08T17:50:30.968Z"
      },
      {
        "duration": 484,
        "start_time": "2022-02-08T17:51:47.452Z"
      },
      {
        "duration": 102,
        "start_time": "2022-02-08T17:51:58.062Z"
      },
      {
        "duration": 22,
        "start_time": "2022-02-08T17:52:02.692Z"
      },
      {
        "duration": 635,
        "start_time": "2022-02-08T17:52:25.199Z"
      },
      {
        "duration": 23,
        "start_time": "2022-02-08T17:53:38.472Z"
      },
      {
        "duration": 24,
        "start_time": "2022-02-08T17:53:50.688Z"
      },
      {
        "duration": 22,
        "start_time": "2022-02-08T17:54:34.066Z"
      },
      {
        "duration": 32,
        "start_time": "2022-02-08T17:54:55.788Z"
      },
      {
        "duration": 20,
        "start_time": "2022-02-08T17:55:29.210Z"
      },
      {
        "duration": 14,
        "start_time": "2022-02-08T17:58:22.650Z"
      },
      {
        "duration": 7,
        "start_time": "2022-02-08T18:01:18.237Z"
      },
      {
        "duration": 141,
        "start_time": "2022-02-08T18:01:44.702Z"
      },
      {
        "duration": 18,
        "start_time": "2022-02-08T18:01:49.438Z"
      },
      {
        "duration": 9,
        "start_time": "2022-02-08T18:10:21.625Z"
      },
      {
        "duration": 18,
        "start_time": "2022-02-08T18:15:15.085Z"
      },
      {
        "duration": 8,
        "start_time": "2022-02-08T18:17:19.164Z"
      },
      {
        "duration": 626,
        "start_time": "2022-02-08T18:19:02.847Z"
      },
      {
        "duration": 11,
        "start_time": "2022-02-08T18:20:31.139Z"
      },
      {
        "duration": 14,
        "start_time": "2022-02-08T18:20:31.935Z"
      },
      {
        "duration": 10,
        "start_time": "2022-02-08T18:20:32.393Z"
      },
      {
        "duration": 12,
        "start_time": "2022-02-08T18:20:33.648Z"
      },
      {
        "duration": 655,
        "start_time": "2022-02-08T18:20:49.531Z"
      },
      {
        "duration": 10557,
        "start_time": "2022-02-08T18:21:37.033Z"
      },
      {
        "duration": 415,
        "start_time": "2022-02-08T18:22:21.055Z"
      },
      {
        "duration": 280,
        "start_time": "2022-02-08T18:22:27.491Z"
      },
      {
        "duration": 7,
        "start_time": "2022-02-08T18:23:13.807Z"
      },
      {
        "duration": 16,
        "start_time": "2022-02-08T18:23:16.473Z"
      },
      {
        "duration": 8,
        "start_time": "2022-02-08T18:23:26.677Z"
      },
      {
        "duration": 15,
        "start_time": "2022-02-08T18:23:29.384Z"
      },
      {
        "duration": 7,
        "start_time": "2022-02-08T18:23:41.953Z"
      },
      {
        "duration": 12,
        "start_time": "2022-02-08T18:23:44.296Z"
      },
      {
        "duration": 8,
        "start_time": "2022-02-08T18:24:07.314Z"
      },
      {
        "duration": 8,
        "start_time": "2022-02-08T18:24:07.730Z"
      },
      {
        "duration": 9,
        "start_time": "2022-02-08T18:24:08.141Z"
      },
      {
        "duration": 12,
        "start_time": "2022-02-08T18:24:08.930Z"
      },
      {
        "duration": 277,
        "start_time": "2022-02-08T18:24:13.156Z"
      },
      {
        "duration": 1400,
        "start_time": "2022-02-09T05:04:22.344Z"
      },
      {
        "duration": 844,
        "start_time": "2022-02-09T05:04:23.746Z"
      },
      {
        "duration": 33,
        "start_time": "2022-02-09T05:04:24.593Z"
      },
      {
        "duration": 46,
        "start_time": "2022-02-09T05:04:24.629Z"
      },
      {
        "duration": 8,
        "start_time": "2022-02-09T05:04:24.677Z"
      },
      {
        "duration": 24,
        "start_time": "2022-02-09T05:04:24.687Z"
      },
      {
        "duration": 47,
        "start_time": "2022-02-09T05:04:24.713Z"
      },
      {
        "duration": 3,
        "start_time": "2022-02-09T05:04:24.764Z"
      },
      {
        "duration": 132,
        "start_time": "2022-02-09T05:04:24.771Z"
      },
      {
        "duration": 88,
        "start_time": "2022-02-09T05:04:24.905Z"
      },
      {
        "duration": 218,
        "start_time": "2022-02-09T05:04:24.996Z"
      },
      {
        "duration": 13,
        "start_time": "2022-02-09T05:04:25.216Z"
      },
      {
        "duration": 40,
        "start_time": "2022-02-09T05:04:25.231Z"
      },
      {
        "duration": 7,
        "start_time": "2022-02-09T05:04:25.274Z"
      },
      {
        "duration": 7,
        "start_time": "2022-02-09T05:04:25.283Z"
      },
      {
        "duration": 13,
        "start_time": "2022-02-09T05:04:25.292Z"
      },
      {
        "duration": 61,
        "start_time": "2022-02-09T05:04:25.307Z"
      },
      {
        "duration": 5,
        "start_time": "2022-02-09T05:04:25.370Z"
      },
      {
        "duration": 25,
        "start_time": "2022-02-09T05:04:25.378Z"
      },
      {
        "duration": 13,
        "start_time": "2022-02-09T05:04:25.406Z"
      },
      {
        "duration": 150,
        "start_time": "2022-02-09T05:04:25.421Z"
      },
      {
        "duration": 15,
        "start_time": "2022-02-09T05:04:25.574Z"
      },
      {
        "duration": 7,
        "start_time": "2022-02-09T05:04:25.595Z"
      },
      {
        "duration": 6128,
        "start_time": "2022-02-09T05:04:25.605Z"
      },
      {
        "duration": 29,
        "start_time": "2022-02-09T05:04:31.736Z"
      },
      {
        "duration": 7,
        "start_time": "2022-02-09T05:04:31.767Z"
      },
      {
        "duration": 147,
        "start_time": "2022-02-09T05:04:31.776Z"
      },
      {
        "duration": 15,
        "start_time": "2022-02-09T05:04:31.926Z"
      },
      {
        "duration": 19,
        "start_time": "2022-02-09T05:04:31.943Z"
      },
      {
        "duration": 12,
        "start_time": "2022-02-09T05:04:31.965Z"
      },
      {
        "duration": 9,
        "start_time": "2022-02-09T05:04:31.979Z"
      },
      {
        "duration": 9,
        "start_time": "2022-02-09T05:04:31.990Z"
      },
      {
        "duration": 11,
        "start_time": "2022-02-09T05:04:32.001Z"
      },
      {
        "duration": 317,
        "start_time": "2022-02-09T05:04:32.015Z"
      },
      {
        "duration": 20,
        "start_time": "2022-02-09T05:11:39.392Z"
      },
      {
        "duration": 298,
        "start_time": "2022-02-09T05:12:38.853Z"
      },
      {
        "duration": 280,
        "start_time": "2022-02-09T05:13:01.903Z"
      },
      {
        "duration": 138,
        "start_time": "2022-02-09T05:28:23.302Z"
      },
      {
        "duration": 735,
        "start_time": "2022-02-09T05:28:35.002Z"
      },
      {
        "duration": 248,
        "start_time": "2022-02-09T05:28:45.502Z"
      },
      {
        "duration": 3805,
        "start_time": "2022-02-09T05:35:10.817Z"
      },
      {
        "duration": 450,
        "start_time": "2022-02-09T05:35:28.315Z"
      },
      {
        "duration": 394,
        "start_time": "2022-02-09T05:36:30.116Z"
      },
      {
        "duration": 387,
        "start_time": "2022-02-09T05:36:58.916Z"
      },
      {
        "duration": 406,
        "start_time": "2022-02-09T05:37:46.754Z"
      },
      {
        "duration": 1406,
        "start_time": "2022-02-09T05:39:35.721Z"
      },
      {
        "duration": 862,
        "start_time": "2022-02-09T05:39:37.130Z"
      },
      {
        "duration": 35,
        "start_time": "2022-02-09T05:39:37.999Z"
      },
      {
        "duration": 50,
        "start_time": "2022-02-09T05:39:38.036Z"
      },
      {
        "duration": 7,
        "start_time": "2022-02-09T05:39:38.089Z"
      },
      {
        "duration": 25,
        "start_time": "2022-02-09T05:39:38.098Z"
      },
      {
        "duration": 45,
        "start_time": "2022-02-09T05:39:38.127Z"
      },
      {
        "duration": 4,
        "start_time": "2022-02-09T05:39:38.175Z"
      },
      {
        "duration": 137,
        "start_time": "2022-02-09T05:39:38.182Z"
      },
      {
        "duration": 91,
        "start_time": "2022-02-09T05:39:38.321Z"
      },
      {
        "duration": 225,
        "start_time": "2022-02-09T05:39:38.414Z"
      },
      {
        "duration": 20,
        "start_time": "2022-02-09T05:39:38.641Z"
      },
      {
        "duration": 21,
        "start_time": "2022-02-09T05:39:38.663Z"
      },
      {
        "duration": 7,
        "start_time": "2022-02-09T05:39:38.687Z"
      },
      {
        "duration": 6,
        "start_time": "2022-02-09T05:39:38.696Z"
      },
      {
        "duration": 55,
        "start_time": "2022-02-09T05:39:38.704Z"
      },
      {
        "duration": 23,
        "start_time": "2022-02-09T05:39:38.761Z"
      },
      {
        "duration": 4,
        "start_time": "2022-02-09T05:39:38.786Z"
      },
      {
        "duration": 22,
        "start_time": "2022-02-09T05:39:38.792Z"
      },
      {
        "duration": 11,
        "start_time": "2022-02-09T05:39:38.816Z"
      },
      {
        "duration": 121,
        "start_time": "2022-02-09T05:39:38.860Z"
      },
      {
        "duration": 13,
        "start_time": "2022-02-09T05:39:38.986Z"
      },
      {
        "duration": 8,
        "start_time": "2022-02-09T05:39:39.001Z"
      },
      {
        "duration": 6169,
        "start_time": "2022-02-09T05:39:39.011Z"
      },
      {
        "duration": 22,
        "start_time": "2022-02-09T05:39:45.182Z"
      },
      {
        "duration": 7,
        "start_time": "2022-02-09T05:39:45.207Z"
      },
      {
        "duration": 157,
        "start_time": "2022-02-09T05:39:45.216Z"
      },
      {
        "duration": 15,
        "start_time": "2022-02-09T05:39:45.376Z"
      },
      {
        "duration": 6,
        "start_time": "2022-02-09T05:39:45.394Z"
      },
      {
        "duration": 12,
        "start_time": "2022-02-09T05:39:45.403Z"
      },
      {
        "duration": 41,
        "start_time": "2022-02-09T05:39:45.418Z"
      },
      {
        "duration": 10,
        "start_time": "2022-02-09T05:39:45.462Z"
      },
      {
        "duration": 12,
        "start_time": "2022-02-09T05:39:45.475Z"
      },
      {
        "duration": 311,
        "start_time": "2022-02-09T05:39:45.489Z"
      },
      {
        "duration": 469,
        "start_time": "2022-02-09T05:39:45.802Z"
      },
      {
        "duration": 412,
        "start_time": "2022-02-09T05:40:12.429Z"
      },
      {
        "duration": 373,
        "start_time": "2022-02-09T05:40:23.988Z"
      },
      {
        "duration": 430,
        "start_time": "2022-02-09T05:40:29.426Z"
      },
      {
        "duration": 414,
        "start_time": "2022-02-09T05:41:13.082Z"
      },
      {
        "duration": 539,
        "start_time": "2022-02-09T05:45:02.665Z"
      },
      {
        "duration": 392,
        "start_time": "2022-02-09T05:45:23.296Z"
      },
      {
        "duration": 422,
        "start_time": "2022-02-09T05:45:46.566Z"
      },
      {
        "duration": 428,
        "start_time": "2022-02-09T05:45:49.156Z"
      },
      {
        "duration": 422,
        "start_time": "2022-02-09T05:45:56.180Z"
      },
      {
        "duration": 477,
        "start_time": "2022-02-09T05:46:06.757Z"
      },
      {
        "duration": 843,
        "start_time": "2022-02-09T05:46:17.516Z"
      },
      {
        "duration": 558,
        "start_time": "2022-02-09T05:46:32.524Z"
      },
      {
        "duration": 473,
        "start_time": "2022-02-09T05:46:41.420Z"
      },
      {
        "duration": 468,
        "start_time": "2022-02-09T05:48:32.534Z"
      },
      {
        "duration": 536,
        "start_time": "2022-02-09T05:48:39.433Z"
      },
      {
        "duration": 585,
        "start_time": "2022-02-09T05:48:48.343Z"
      },
      {
        "duration": 567,
        "start_time": "2022-02-09T05:48:57.357Z"
      },
      {
        "duration": 504,
        "start_time": "2022-02-09T05:49:08.992Z"
      },
      {
        "duration": 618,
        "start_time": "2022-02-09T05:51:04.443Z"
      },
      {
        "duration": 514,
        "start_time": "2022-02-09T05:51:31.148Z"
      },
      {
        "duration": 496,
        "start_time": "2022-02-09T05:51:37.196Z"
      },
      {
        "duration": 506,
        "start_time": "2022-02-09T05:52:32.203Z"
      },
      {
        "duration": 509,
        "start_time": "2022-02-09T05:52:46.388Z"
      },
      {
        "duration": 524,
        "start_time": "2022-02-09T05:54:55.479Z"
      },
      {
        "duration": 656,
        "start_time": "2022-02-09T05:55:06.342Z"
      },
      {
        "duration": 769,
        "start_time": "2022-02-09T05:55:11.032Z"
      },
      {
        "duration": 555,
        "start_time": "2022-02-09T05:55:13.757Z"
      },
      {
        "duration": 1461,
        "start_time": "2022-02-09T05:55:20.776Z"
      },
      {
        "duration": 869,
        "start_time": "2022-02-09T05:55:22.240Z"
      },
      {
        "duration": 51,
        "start_time": "2022-02-09T05:55:23.114Z"
      },
      {
        "duration": 29,
        "start_time": "2022-02-09T05:55:23.168Z"
      },
      {
        "duration": 7,
        "start_time": "2022-02-09T05:55:23.199Z"
      },
      {
        "duration": 54,
        "start_time": "2022-02-09T05:55:23.208Z"
      },
      {
        "duration": 16,
        "start_time": "2022-02-09T05:55:23.265Z"
      },
      {
        "duration": 3,
        "start_time": "2022-02-09T05:55:23.283Z"
      },
      {
        "duration": 137,
        "start_time": "2022-02-09T05:55:23.289Z"
      },
      {
        "duration": 88,
        "start_time": "2022-02-09T05:55:23.428Z"
      },
      {
        "duration": 226,
        "start_time": "2022-02-09T05:55:23.518Z"
      },
      {
        "duration": 22,
        "start_time": "2022-02-09T05:55:23.747Z"
      },
      {
        "duration": 25,
        "start_time": "2022-02-09T05:55:23.771Z"
      },
      {
        "duration": 7,
        "start_time": "2022-02-09T05:55:23.799Z"
      },
      {
        "duration": 7,
        "start_time": "2022-02-09T05:55:23.808Z"
      },
      {
        "duration": 42,
        "start_time": "2022-02-09T05:55:23.817Z"
      },
      {
        "duration": 21,
        "start_time": "2022-02-09T05:55:23.862Z"
      },
      {
        "duration": 3,
        "start_time": "2022-02-09T05:55:23.886Z"
      },
      {
        "duration": 22,
        "start_time": "2022-02-09T05:55:23.891Z"
      },
      {
        "duration": 47,
        "start_time": "2022-02-09T05:55:23.915Z"
      },
      {
        "duration": 130,
        "start_time": "2022-02-09T05:55:23.964Z"
      },
      {
        "duration": 13,
        "start_time": "2022-02-09T05:55:24.098Z"
      },
      {
        "duration": 8,
        "start_time": "2022-02-09T05:55:24.114Z"
      },
      {
        "duration": 5937,
        "start_time": "2022-02-09T05:55:24.124Z"
      },
      {
        "duration": 22,
        "start_time": "2022-02-09T05:55:30.064Z"
      },
      {
        "duration": 7,
        "start_time": "2022-02-09T05:55:30.089Z"
      },
      {
        "duration": 167,
        "start_time": "2022-02-09T05:55:30.098Z"
      },
      {
        "duration": 16,
        "start_time": "2022-02-09T05:55:30.268Z"
      },
      {
        "duration": 8,
        "start_time": "2022-02-09T05:55:30.286Z"
      },
      {
        "duration": 12,
        "start_time": "2022-02-09T05:55:30.296Z"
      },
      {
        "duration": 50,
        "start_time": "2022-02-09T05:55:30.311Z"
      },
      {
        "duration": 9,
        "start_time": "2022-02-09T05:55:30.363Z"
      },
      {
        "duration": 17,
        "start_time": "2022-02-09T05:55:30.374Z"
      },
      {
        "duration": 306,
        "start_time": "2022-02-09T05:55:30.394Z"
      },
      {
        "duration": 549,
        "start_time": "2022-02-09T05:55:30.703Z"
      },
      {
        "duration": 576,
        "start_time": "2022-02-09T05:55:50.824Z"
      },
      {
        "duration": 555,
        "start_time": "2022-02-09T05:56:02.322Z"
      },
      {
        "duration": 526,
        "start_time": "2022-02-09T05:56:09.672Z"
      },
      {
        "duration": 561,
        "start_time": "2022-02-09T05:56:13.331Z"
      },
      {
        "duration": 334,
        "start_time": "2022-02-09T05:56:20.075Z"
      },
      {
        "duration": 537,
        "start_time": "2022-02-09T05:56:35.398Z"
      },
      {
        "duration": 531,
        "start_time": "2022-02-09T05:56:55.904Z"
      },
      {
        "duration": 536,
        "start_time": "2022-02-09T05:57:18.740Z"
      },
      {
        "duration": 953,
        "start_time": "2022-02-09T05:57:34.846Z"
      },
      {
        "duration": 600,
        "start_time": "2022-02-09T05:58:12.487Z"
      },
      {
        "duration": 589,
        "start_time": "2022-02-09T05:58:15.850Z"
      },
      {
        "duration": 1401,
        "start_time": "2022-02-09T05:58:28.040Z"
      },
      {
        "duration": 864,
        "start_time": "2022-02-09T05:58:29.444Z"
      },
      {
        "duration": 34,
        "start_time": "2022-02-09T05:58:30.310Z"
      },
      {
        "duration": 41,
        "start_time": "2022-02-09T05:58:30.347Z"
      },
      {
        "duration": 11,
        "start_time": "2022-02-09T05:58:30.390Z"
      },
      {
        "duration": 31,
        "start_time": "2022-02-09T05:58:30.404Z"
      },
      {
        "duration": 16,
        "start_time": "2022-02-09T05:58:30.458Z"
      },
      {
        "duration": 3,
        "start_time": "2022-02-09T05:58:30.478Z"
      },
      {
        "duration": 141,
        "start_time": "2022-02-09T05:58:30.484Z"
      },
      {
        "duration": 90,
        "start_time": "2022-02-09T05:58:30.627Z"
      },
      {
        "duration": 219,
        "start_time": "2022-02-09T05:58:30.719Z"
      },
      {
        "duration": 29,
        "start_time": "2022-02-09T05:58:30.940Z"
      },
      {
        "duration": 24,
        "start_time": "2022-02-09T05:58:30.971Z"
      },
      {
        "duration": 8,
        "start_time": "2022-02-09T05:58:30.998Z"
      },
      {
        "duration": 17,
        "start_time": "2022-02-09T05:58:31.008Z"
      },
      {
        "duration": 42,
        "start_time": "2022-02-09T05:58:31.027Z"
      },
      {
        "duration": 33,
        "start_time": "2022-02-09T05:58:31.072Z"
      },
      {
        "duration": 12,
        "start_time": "2022-02-09T05:58:31.107Z"
      },
      {
        "duration": 38,
        "start_time": "2022-02-09T05:58:31.121Z"
      },
      {
        "duration": 11,
        "start_time": "2022-02-09T05:58:31.161Z"
      },
      {
        "duration": 130,
        "start_time": "2022-02-09T05:58:31.175Z"
      },
      {
        "duration": 16,
        "start_time": "2022-02-09T05:58:31.309Z"
      },
      {
        "duration": 28,
        "start_time": "2022-02-09T05:58:31.332Z"
      },
      {
        "duration": 5944,
        "start_time": "2022-02-09T05:58:31.364Z"
      },
      {
        "duration": 22,
        "start_time": "2022-02-09T05:58:37.310Z"
      },
      {
        "duration": 7,
        "start_time": "2022-02-09T05:58:37.334Z"
      },
      {
        "duration": 146,
        "start_time": "2022-02-09T05:58:37.359Z"
      },
      {
        "duration": 15,
        "start_time": "2022-02-09T05:58:37.508Z"
      },
      {
        "duration": 7,
        "start_time": "2022-02-09T05:58:37.525Z"
      },
      {
        "duration": 31,
        "start_time": "2022-02-09T05:58:37.534Z"
      },
      {
        "duration": 9,
        "start_time": "2022-02-09T05:58:37.567Z"
      },
      {
        "duration": 9,
        "start_time": "2022-02-09T05:58:37.578Z"
      },
      {
        "duration": 12,
        "start_time": "2022-02-09T05:58:37.589Z"
      },
      {
        "duration": 312,
        "start_time": "2022-02-09T05:58:37.603Z"
      },
      {
        "duration": 566,
        "start_time": "2022-02-09T05:58:37.919Z"
      },
      {
        "duration": 564,
        "start_time": "2022-02-09T05:59:07.523Z"
      },
      {
        "duration": 1455,
        "start_time": "2022-02-09T08:14:21.183Z"
      },
      {
        "duration": 864,
        "start_time": "2022-02-09T08:14:22.641Z"
      },
      {
        "duration": 37,
        "start_time": "2022-02-09T08:14:23.508Z"
      },
      {
        "duration": 31,
        "start_time": "2022-02-09T08:14:23.559Z"
      },
      {
        "duration": 8,
        "start_time": "2022-02-09T08:14:23.592Z"
      },
      {
        "duration": 24,
        "start_time": "2022-02-09T08:14:23.602Z"
      },
      {
        "duration": 44,
        "start_time": "2022-02-09T08:14:23.630Z"
      },
      {
        "duration": 3,
        "start_time": "2022-02-09T08:14:23.677Z"
      },
      {
        "duration": 137,
        "start_time": "2022-02-09T08:14:23.682Z"
      },
      {
        "duration": 87,
        "start_time": "2022-02-09T08:14:23.822Z"
      },
      {
        "duration": 227,
        "start_time": "2022-02-09T08:14:23.912Z"
      },
      {
        "duration": 20,
        "start_time": "2022-02-09T08:14:24.141Z"
      },
      {
        "duration": 22,
        "start_time": "2022-02-09T08:14:24.163Z"
      },
      {
        "duration": 7,
        "start_time": "2022-02-09T08:14:24.187Z"
      },
      {
        "duration": 6,
        "start_time": "2022-02-09T08:14:24.196Z"
      },
      {
        "duration": 12,
        "start_time": "2022-02-09T08:14:24.204Z"
      },
      {
        "duration": 58,
        "start_time": "2022-02-09T08:14:24.219Z"
      },
      {
        "duration": 3,
        "start_time": "2022-02-09T08:14:24.280Z"
      },
      {
        "duration": 24,
        "start_time": "2022-02-09T08:14:24.285Z"
      },
      {
        "duration": 11,
        "start_time": "2022-02-09T08:14:24.311Z"
      },
      {
        "duration": 123,
        "start_time": "2022-02-09T08:14:24.359Z"
      },
      {
        "duration": 13,
        "start_time": "2022-02-09T08:14:24.485Z"
      },
      {
        "duration": 7,
        "start_time": "2022-02-09T08:14:24.502Z"
      },
      {
        "duration": 6076,
        "start_time": "2022-02-09T08:14:24.513Z"
      },
      {
        "duration": 22,
        "start_time": "2022-02-09T08:14:30.592Z"
      },
      {
        "duration": 9,
        "start_time": "2022-02-09T08:14:30.616Z"
      },
      {
        "duration": 173,
        "start_time": "2022-02-09T08:14:30.628Z"
      },
      {
        "duration": 18,
        "start_time": "2022-02-09T08:14:30.803Z"
      },
      {
        "duration": 10,
        "start_time": "2022-02-09T08:14:30.824Z"
      },
      {
        "duration": 14,
        "start_time": "2022-02-09T08:14:30.861Z"
      },
      {
        "duration": 14,
        "start_time": "2022-02-09T08:14:30.879Z"
      },
      {
        "duration": 15,
        "start_time": "2022-02-09T08:14:30.896Z"
      },
      {
        "duration": 55,
        "start_time": "2022-02-09T08:14:30.914Z"
      },
      {
        "duration": 308,
        "start_time": "2022-02-09T08:14:30.971Z"
      },
      {
        "duration": 550,
        "start_time": "2022-02-09T08:14:31.281Z"
      },
      {
        "duration": 18,
        "start_time": "2022-02-09T08:21:44.123Z"
      },
      {
        "duration": 123,
        "start_time": "2022-02-09T08:33:22.775Z"
      },
      {
        "duration": 4,
        "start_time": "2022-02-09T08:34:05.134Z"
      },
      {
        "duration": 8,
        "start_time": "2022-02-09T08:45:07.391Z"
      },
      {
        "duration": 7,
        "start_time": "2022-02-09T08:47:17.644Z"
      },
      {
        "duration": 7,
        "start_time": "2022-02-09T08:51:36.489Z"
      },
      {
        "duration": 566,
        "start_time": "2022-02-09T08:54:33.660Z"
      },
      {
        "duration": 614,
        "start_time": "2022-02-09T08:55:22.823Z"
      },
      {
        "duration": 15,
        "start_time": "2022-02-09T08:55:38.560Z"
      },
      {
        "duration": 606,
        "start_time": "2022-02-09T08:57:28.559Z"
      },
      {
        "duration": 571,
        "start_time": "2022-02-09T08:57:41.063Z"
      },
      {
        "duration": 6,
        "start_time": "2022-02-09T09:00:08.841Z"
      },
      {
        "duration": 652,
        "start_time": "2022-02-09T09:00:58.191Z"
      },
      {
        "duration": 583,
        "start_time": "2022-02-09T09:01:13.962Z"
      },
      {
        "duration": 546,
        "start_time": "2022-02-09T09:01:57.501Z"
      },
      {
        "duration": 560,
        "start_time": "2022-02-09T09:02:09.956Z"
      },
      {
        "duration": 530,
        "start_time": "2022-02-09T09:10:01.903Z"
      },
      {
        "duration": 560,
        "start_time": "2022-02-09T09:11:10.820Z"
      },
      {
        "duration": 520,
        "start_time": "2022-02-09T09:11:22.587Z"
      },
      {
        "duration": 614,
        "start_time": "2022-02-09T09:11:27.316Z"
      },
      {
        "duration": 493,
        "start_time": "2022-02-09T09:20:44.062Z"
      },
      {
        "duration": 8,
        "start_time": "2022-02-09T09:20:59.234Z"
      },
      {
        "duration": 8,
        "start_time": "2022-02-09T09:22:38.299Z"
      },
      {
        "duration": 11,
        "start_time": "2022-02-09T09:23:22.346Z"
      },
      {
        "duration": 445,
        "start_time": "2022-02-09T09:25:00.899Z"
      },
      {
        "duration": 365,
        "start_time": "2022-02-09T09:25:38.524Z"
      },
      {
        "duration": 4,
        "start_time": "2022-02-09T09:25:49.664Z"
      },
      {
        "duration": 5,
        "start_time": "2022-02-09T09:25:54.067Z"
      },
      {
        "duration": 13,
        "start_time": "2022-02-09T09:28:02.361Z"
      },
      {
        "duration": 4,
        "start_time": "2022-02-09T09:33:10.239Z"
      },
      {
        "duration": 733,
        "start_time": "2022-02-09T09:33:10.937Z"
      },
      {
        "duration": 4,
        "start_time": "2022-02-09T09:33:19.194Z"
      },
      {
        "duration": 11,
        "start_time": "2022-02-09T09:33:19.925Z"
      },
      {
        "duration": 10,
        "start_time": "2022-02-09T09:33:32.325Z"
      },
      {
        "duration": 8,
        "start_time": "2022-02-09T09:39:59.724Z"
      },
      {
        "duration": 67,
        "start_time": "2022-02-09T09:40:21.103Z"
      },
      {
        "duration": 11,
        "start_time": "2022-02-09T09:40:36.118Z"
      },
      {
        "duration": 8,
        "start_time": "2022-02-09T09:41:27.742Z"
      },
      {
        "duration": 8,
        "start_time": "2022-02-09T09:42:57.395Z"
      },
      {
        "duration": 8,
        "start_time": "2022-02-09T09:43:21.671Z"
      },
      {
        "duration": 9,
        "start_time": "2022-02-09T09:43:29.484Z"
      },
      {
        "duration": 7,
        "start_time": "2022-02-09T09:44:11.003Z"
      },
      {
        "duration": 9,
        "start_time": "2022-02-09T09:44:55.858Z"
      },
      {
        "duration": 10,
        "start_time": "2022-02-09T09:45:00.893Z"
      },
      {
        "duration": 1761,
        "start_time": "2022-02-09T09:46:41.096Z"
      },
      {
        "duration": 860,
        "start_time": "2022-02-09T09:46:42.860Z"
      },
      {
        "duration": 45,
        "start_time": "2022-02-09T09:46:43.723Z"
      },
      {
        "duration": 33,
        "start_time": "2022-02-09T09:46:43.771Z"
      },
      {
        "duration": 7,
        "start_time": "2022-02-09T09:46:43.807Z"
      },
      {
        "duration": 58,
        "start_time": "2022-02-09T09:46:43.817Z"
      },
      {
        "duration": 16,
        "start_time": "2022-02-09T09:46:43.877Z"
      },
      {
        "duration": 4,
        "start_time": "2022-02-09T09:46:43.897Z"
      },
      {
        "duration": 271,
        "start_time": "2022-02-09T09:46:43.904Z"
      },
      {
        "duration": 206,
        "start_time": "2022-02-09T09:46:44.178Z"
      },
      {
        "duration": 476,
        "start_time": "2022-02-09T09:46:44.385Z"
      },
      {
        "duration": 32,
        "start_time": "2022-02-09T09:46:44.864Z"
      },
      {
        "duration": 62,
        "start_time": "2022-02-09T09:46:44.899Z"
      },
      {
        "duration": 8,
        "start_time": "2022-02-09T09:46:44.964Z"
      },
      {
        "duration": 11,
        "start_time": "2022-02-09T09:46:44.974Z"
      },
      {
        "duration": 27,
        "start_time": "2022-02-09T09:46:44.987Z"
      },
      {
        "duration": 31,
        "start_time": "2022-02-09T09:46:45.061Z"
      },
      {
        "duration": 5,
        "start_time": "2022-02-09T09:46:45.095Z"
      },
      {
        "duration": 83,
        "start_time": "2022-02-09T09:46:45.103Z"
      },
      {
        "duration": 12,
        "start_time": "2022-02-09T09:46:45.189Z"
      },
      {
        "duration": 156,
        "start_time": "2022-02-09T09:46:45.205Z"
      },
      {
        "duration": 17,
        "start_time": "2022-02-09T09:46:45.364Z"
      },
      {
        "duration": 8,
        "start_time": "2022-02-09T09:46:45.386Z"
      },
      {
        "duration": 6156,
        "start_time": "2022-02-09T09:46:45.397Z"
      },
      {
        "duration": 22,
        "start_time": "2022-02-09T09:46:51.555Z"
      },
      {
        "duration": 7,
        "start_time": "2022-02-09T09:46:51.579Z"
      },
      {
        "duration": 161,
        "start_time": "2022-02-09T09:46:51.589Z"
      },
      {
        "duration": 18,
        "start_time": "2022-02-09T09:46:51.753Z"
      },
      {
        "duration": 8,
        "start_time": "2022-02-09T09:46:51.773Z"
      },
      {
        "duration": 11,
        "start_time": "2022-02-09T09:46:51.783Z"
      },
      {
        "duration": 9,
        "start_time": "2022-02-09T09:46:51.796Z"
      },
      {
        "duration": 12,
        "start_time": "2022-02-09T09:46:51.807Z"
      },
      {
        "duration": 51,
        "start_time": "2022-02-09T09:46:51.821Z"
      },
      {
        "duration": 320,
        "start_time": "2022-02-09T09:46:51.875Z"
      },
      {
        "duration": 536,
        "start_time": "2022-02-09T09:46:52.198Z"
      },
      {
        "duration": 4,
        "start_time": "2022-02-09T09:46:52.737Z"
      },
      {
        "duration": 8,
        "start_time": "2022-02-09T09:46:52.759Z"
      },
      {
        "duration": 7,
        "start_time": "2022-02-09T09:46:52.769Z"
      },
      {
        "duration": 11,
        "start_time": "2022-02-09T09:46:52.779Z"
      },
      {
        "duration": 600,
        "start_time": "2022-02-09T09:46:52.793Z"
      },
      {
        "duration": 4,
        "start_time": "2022-02-09T09:46:53.396Z"
      },
      {
        "duration": 8,
        "start_time": "2022-02-09T09:46:53.403Z"
      },
      {
        "duration": 6,
        "start_time": "2022-02-09T09:46:53.414Z"
      },
      {
        "duration": 39,
        "start_time": "2022-02-09T09:46:53.422Z"
      },
      {
        "duration": 8,
        "start_time": "2022-02-09T09:46:53.463Z"
      },
      {
        "duration": 16,
        "start_time": "2022-02-09T09:46:53.474Z"
      },
      {
        "duration": 617,
        "start_time": "2022-02-09T09:46:53.492Z"
      },
      {
        "duration": 6,
        "start_time": "2022-02-09T09:48:09.133Z"
      },
      {
        "duration": 5,
        "start_time": "2022-02-09T09:49:05.232Z"
      },
      {
        "duration": 5,
        "start_time": "2022-02-09T09:49:10.637Z"
      },
      {
        "duration": 1781,
        "start_time": "2022-02-09T09:49:19.009Z"
      },
      {
        "duration": 1016,
        "start_time": "2022-02-09T09:49:20.794Z"
      },
      {
        "duration": 50,
        "start_time": "2022-02-09T09:49:21.812Z"
      },
      {
        "duration": 30,
        "start_time": "2022-02-09T09:49:21.865Z"
      },
      {
        "duration": 7,
        "start_time": "2022-02-09T09:49:21.898Z"
      },
      {
        "duration": 58,
        "start_time": "2022-02-09T09:49:21.908Z"
      },
      {
        "duration": 16,
        "start_time": "2022-02-09T09:49:21.969Z"
      },
      {
        "duration": 4,
        "start_time": "2022-02-09T09:49:21.990Z"
      },
      {
        "duration": 143,
        "start_time": "2022-02-09T09:49:21.997Z"
      },
      {
        "duration": 86,
        "start_time": "2022-02-09T09:49:22.142Z"
      },
      {
        "duration": 235,
        "start_time": "2022-02-09T09:49:22.230Z"
      },
      {
        "duration": 14,
        "start_time": "2022-02-09T09:49:22.468Z"
      },
      {
        "duration": 25,
        "start_time": "2022-02-09T09:49:22.485Z"
      },
      {
        "duration": 7,
        "start_time": "2022-02-09T09:49:22.512Z"
      },
      {
        "duration": 37,
        "start_time": "2022-02-09T09:49:22.522Z"
      },
      {
        "duration": 12,
        "start_time": "2022-02-09T09:49:22.562Z"
      },
      {
        "duration": 27,
        "start_time": "2022-02-09T09:49:22.577Z"
      },
      {
        "duration": 5,
        "start_time": "2022-02-09T09:49:22.608Z"
      },
      {
        "duration": 58,
        "start_time": "2022-02-09T09:49:22.615Z"
      },
      {
        "duration": 15,
        "start_time": "2022-02-09T09:49:22.675Z"
      },
      {
        "duration": 131,
        "start_time": "2022-02-09T09:49:22.693Z"
      },
      {
        "duration": 13,
        "start_time": "2022-02-09T09:49:22.826Z"
      },
      {
        "duration": 7,
        "start_time": "2022-02-09T09:49:22.860Z"
      },
      {
        "duration": 5993,
        "start_time": "2022-02-09T09:49:22.871Z"
      },
      {
        "duration": 22,
        "start_time": "2022-02-09T09:49:28.866Z"
      },
      {
        "duration": 7,
        "start_time": "2022-02-09T09:49:28.890Z"
      },
      {
        "duration": 226,
        "start_time": "2022-02-09T09:49:28.900Z"
      },
      {
        "duration": 33,
        "start_time": "2022-02-09T09:49:29.129Z"
      },
      {
        "duration": 10,
        "start_time": "2022-02-09T09:49:29.165Z"
      },
      {
        "duration": 10,
        "start_time": "2022-02-09T09:49:29.178Z"
      },
      {
        "duration": 9,
        "start_time": "2022-02-09T09:49:29.190Z"
      },
      {
        "duration": 9,
        "start_time": "2022-02-09T09:49:29.202Z"
      },
      {
        "duration": 61,
        "start_time": "2022-02-09T09:49:29.214Z"
      },
      {
        "duration": 329,
        "start_time": "2022-02-09T09:49:29.278Z"
      },
      {
        "duration": 624,
        "start_time": "2022-02-09T09:49:29.609Z"
      },
      {
        "duration": 5,
        "start_time": "2022-02-09T09:49:30.237Z"
      },
      {
        "duration": 11,
        "start_time": "2022-02-09T09:49:30.259Z"
      },
      {
        "duration": 12,
        "start_time": "2022-02-09T09:49:30.273Z"
      },
      {
        "duration": 7,
        "start_time": "2022-02-09T09:49:30.289Z"
      },
      {
        "duration": 22,
        "start_time": "2022-02-09T09:49:30.299Z"
      },
      {
        "duration": 43,
        "start_time": "2022-02-09T09:49:30.324Z"
      },
      {
        "duration": 567,
        "start_time": "2022-02-09T09:49:30.370Z"
      },
      {
        "duration": 19,
        "start_time": "2022-02-09T09:49:30.940Z"
      },
      {
        "duration": 4,
        "start_time": "2022-02-09T09:49:30.961Z"
      },
      {
        "duration": 15,
        "start_time": "2022-02-09T09:49:30.968Z"
      },
      {
        "duration": 7,
        "start_time": "2022-02-09T09:49:30.985Z"
      },
      {
        "duration": 7,
        "start_time": "2022-02-09T09:49:30.995Z"
      },
      {
        "duration": 6,
        "start_time": "2022-02-09T09:49:31.005Z"
      },
      {
        "duration": 60,
        "start_time": "2022-02-09T09:49:31.014Z"
      },
      {
        "duration": 626,
        "start_time": "2022-02-09T09:49:31.077Z"
      },
      {
        "duration": 7,
        "start_time": "2022-02-09T09:55:02.355Z"
      },
      {
        "duration": 13,
        "start_time": "2022-02-09T09:55:39.400Z"
      },
      {
        "duration": 17,
        "start_time": "2022-02-09T09:55:48.564Z"
      },
      {
        "duration": 10246,
        "start_time": "2022-02-09T09:56:03.008Z"
      },
      {
        "duration": 816,
        "start_time": "2022-02-09T09:58:13.973Z"
      },
      {
        "duration": 1108,
        "start_time": "2022-02-09T13:54:29.073Z"
      },
      {
        "duration": 3721,
        "start_time": "2022-02-09T13:54:30.183Z"
      },
      {
        "duration": 23,
        "start_time": "2022-02-09T13:54:33.906Z"
      },
      {
        "duration": 34,
        "start_time": "2022-02-09T13:54:33.931Z"
      },
      {
        "duration": 12,
        "start_time": "2022-02-09T13:54:33.967Z"
      },
      {
        "duration": 24,
        "start_time": "2022-02-09T13:54:33.980Z"
      },
      {
        "duration": 16,
        "start_time": "2022-02-09T13:54:34.005Z"
      },
      {
        "duration": 16,
        "start_time": "2022-02-09T13:54:34.024Z"
      },
      {
        "duration": 82,
        "start_time": "2022-02-09T13:54:34.042Z"
      },
      {
        "duration": 52,
        "start_time": "2022-02-09T13:54:34.125Z"
      },
      {
        "duration": 130,
        "start_time": "2022-02-09T13:54:34.179Z"
      },
      {
        "duration": 6,
        "start_time": "2022-02-09T13:54:34.311Z"
      },
      {
        "duration": 19,
        "start_time": "2022-02-09T13:54:34.318Z"
      },
      {
        "duration": 21,
        "start_time": "2022-02-09T13:54:34.338Z"
      },
      {
        "duration": 14,
        "start_time": "2022-02-09T13:54:34.361Z"
      },
      {
        "duration": 10,
        "start_time": "2022-02-09T13:54:34.376Z"
      },
      {
        "duration": 30,
        "start_time": "2022-02-09T13:54:34.388Z"
      },
      {
        "duration": 4,
        "start_time": "2022-02-09T13:54:34.420Z"
      },
      {
        "duration": 53,
        "start_time": "2022-02-09T13:54:34.425Z"
      },
      {
        "duration": 26,
        "start_time": "2022-02-09T13:54:34.480Z"
      },
      {
        "duration": 72,
        "start_time": "2022-02-09T13:54:34.507Z"
      },
      {
        "duration": 12,
        "start_time": "2022-02-09T13:54:34.580Z"
      },
      {
        "duration": 6,
        "start_time": "2022-02-09T13:54:34.596Z"
      },
      {
        "duration": 3355,
        "start_time": "2022-02-09T13:54:34.604Z"
      },
      {
        "duration": 15,
        "start_time": "2022-02-09T13:54:37.961Z"
      },
      {
        "duration": 6,
        "start_time": "2022-02-09T13:54:37.977Z"
      },
      {
        "duration": 261,
        "start_time": "2022-02-09T13:54:37.985Z"
      },
      {
        "duration": 1094,
        "start_time": "2022-02-09T13:54:37.154Z"
      },
      {
        "duration": 1090,
        "start_time": "2022-02-09T13:54:37.159Z"
      },
      {
        "duration": 1089,
        "start_time": "2022-02-09T13:54:37.162Z"
      },
      {
        "duration": 1085,
        "start_time": "2022-02-09T13:54:37.167Z"
      },
      {
        "duration": 1083,
        "start_time": "2022-02-09T13:54:37.171Z"
      },
      {
        "duration": 1080,
        "start_time": "2022-02-09T13:54:37.175Z"
      },
      {
        "duration": 1077,
        "start_time": "2022-02-09T13:54:37.179Z"
      },
      {
        "duration": 1076,
        "start_time": "2022-02-09T13:54:37.182Z"
      },
      {
        "duration": 1073,
        "start_time": "2022-02-09T13:54:37.186Z"
      },
      {
        "duration": 1071,
        "start_time": "2022-02-09T13:54:37.190Z"
      },
      {
        "duration": 1069,
        "start_time": "2022-02-09T13:54:37.193Z"
      },
      {
        "duration": 1067,
        "start_time": "2022-02-09T13:54:37.197Z"
      },
      {
        "duration": 1059,
        "start_time": "2022-02-09T13:54:37.206Z"
      },
      {
        "duration": 1055,
        "start_time": "2022-02-09T13:54:37.211Z"
      },
      {
        "duration": 1054,
        "start_time": "2022-02-09T13:54:37.214Z"
      },
      {
        "duration": 1051,
        "start_time": "2022-02-09T13:54:37.218Z"
      },
      {
        "duration": 1050,
        "start_time": "2022-02-09T13:54:37.221Z"
      },
      {
        "duration": 1046,
        "start_time": "2022-02-09T13:54:37.226Z"
      },
      {
        "duration": 1039,
        "start_time": "2022-02-09T13:54:37.235Z"
      },
      {
        "duration": 1068,
        "start_time": "2022-02-09T13:56:28.283Z"
      },
      {
        "duration": 698,
        "start_time": "2022-02-09T13:56:29.353Z"
      },
      {
        "duration": 24,
        "start_time": "2022-02-09T13:56:30.053Z"
      },
      {
        "duration": 25,
        "start_time": "2022-02-09T13:56:30.079Z"
      },
      {
        "duration": 10,
        "start_time": "2022-02-09T13:56:30.105Z"
      },
      {
        "duration": 37,
        "start_time": "2022-02-09T13:56:30.116Z"
      },
      {
        "duration": 11,
        "start_time": "2022-02-09T13:56:30.155Z"
      },
      {
        "duration": 6,
        "start_time": "2022-02-09T13:56:30.168Z"
      },
      {
        "duration": 76,
        "start_time": "2022-02-09T13:56:30.176Z"
      },
      {
        "duration": 49,
        "start_time": "2022-02-09T13:56:30.253Z"
      },
      {
        "duration": 142,
        "start_time": "2022-02-09T13:56:30.303Z"
      },
      {
        "duration": 16,
        "start_time": "2022-02-09T13:56:30.447Z"
      },
      {
        "duration": 30,
        "start_time": "2022-02-09T13:56:30.465Z"
      },
      {
        "duration": 5,
        "start_time": "2022-02-09T13:56:30.497Z"
      },
      {
        "duration": 23,
        "start_time": "2022-02-09T13:56:30.504Z"
      },
      {
        "duration": 25,
        "start_time": "2022-02-09T13:56:30.529Z"
      },
      {
        "duration": 27,
        "start_time": "2022-02-09T13:56:30.556Z"
      },
      {
        "duration": 8,
        "start_time": "2022-02-09T13:56:30.584Z"
      },
      {
        "duration": 28,
        "start_time": "2022-02-09T13:56:30.594Z"
      },
      {
        "duration": 24,
        "start_time": "2022-02-09T13:56:30.624Z"
      },
      {
        "duration": 71,
        "start_time": "2022-02-09T13:56:30.650Z"
      },
      {
        "duration": 10,
        "start_time": "2022-02-09T13:56:30.723Z"
      },
      {
        "duration": 6,
        "start_time": "2022-02-09T13:56:30.736Z"
      },
      {
        "duration": 3366,
        "start_time": "2022-02-09T13:56:30.759Z"
      },
      {
        "duration": 13,
        "start_time": "2022-02-09T13:56:34.126Z"
      },
      {
        "duration": 17,
        "start_time": "2022-02-09T13:56:34.141Z"
      },
      {
        "duration": 287,
        "start_time": "2022-02-09T13:56:34.160Z"
      },
      {
        "duration": 1128,
        "start_time": "2022-02-09T13:56:33.321Z"
      },
      {
        "duration": 1124,
        "start_time": "2022-02-09T13:56:33.326Z"
      },
      {
        "duration": 1121,
        "start_time": "2022-02-09T13:56:33.330Z"
      },
      {
        "duration": 1119,
        "start_time": "2022-02-09T13:56:33.333Z"
      },
      {
        "duration": 1115,
        "start_time": "2022-02-09T13:56:33.338Z"
      },
      {
        "duration": 1113,
        "start_time": "2022-02-09T13:56:33.341Z"
      },
      {
        "duration": 1110,
        "start_time": "2022-02-09T13:56:33.345Z"
      },
      {
        "duration": 1107,
        "start_time": "2022-02-09T13:56:33.349Z"
      },
      {
        "duration": 1103,
        "start_time": "2022-02-09T13:56:33.354Z"
      },
      {
        "duration": 1100,
        "start_time": "2022-02-09T13:56:33.358Z"
      },
      {
        "duration": 1097,
        "start_time": "2022-02-09T13:56:33.362Z"
      },
      {
        "duration": 1094,
        "start_time": "2022-02-09T13:56:33.365Z"
      },
      {
        "duration": 1089,
        "start_time": "2022-02-09T13:56:33.371Z"
      },
      {
        "duration": 1086,
        "start_time": "2022-02-09T13:56:33.375Z"
      },
      {
        "duration": 1083,
        "start_time": "2022-02-09T13:56:33.379Z"
      },
      {
        "duration": 1081,
        "start_time": "2022-02-09T13:56:33.382Z"
      },
      {
        "duration": 1077,
        "start_time": "2022-02-09T13:56:33.387Z"
      },
      {
        "duration": 1075,
        "start_time": "2022-02-09T13:56:33.390Z"
      },
      {
        "duration": 1072,
        "start_time": "2022-02-09T13:56:33.394Z"
      },
      {
        "duration": 1071,
        "start_time": "2022-02-09T13:57:30.400Z"
      },
      {
        "duration": 701,
        "start_time": "2022-02-09T13:57:31.473Z"
      },
      {
        "duration": 22,
        "start_time": "2022-02-09T13:57:32.176Z"
      },
      {
        "duration": 22,
        "start_time": "2022-02-09T13:57:32.199Z"
      },
      {
        "duration": 19,
        "start_time": "2022-02-09T13:57:32.223Z"
      },
      {
        "duration": 28,
        "start_time": "2022-02-09T13:57:32.243Z"
      },
      {
        "duration": 22,
        "start_time": "2022-02-09T13:57:32.273Z"
      },
      {
        "duration": 2,
        "start_time": "2022-02-09T13:57:32.298Z"
      },
      {
        "duration": 84,
        "start_time": "2022-02-09T13:57:32.302Z"
      },
      {
        "duration": 44,
        "start_time": "2022-02-09T13:57:32.388Z"
      },
      {
        "duration": 141,
        "start_time": "2022-02-09T13:57:32.433Z"
      },
      {
        "duration": 6,
        "start_time": "2022-02-09T13:57:32.575Z"
      },
      {
        "duration": 34,
        "start_time": "2022-02-09T13:57:32.582Z"
      },
      {
        "duration": 7,
        "start_time": "2022-02-09T13:57:32.618Z"
      },
      {
        "duration": 14,
        "start_time": "2022-02-09T13:57:32.626Z"
      },
      {
        "duration": 26,
        "start_time": "2022-02-09T13:57:32.642Z"
      },
      {
        "duration": 17,
        "start_time": "2022-02-09T13:57:32.669Z"
      },
      {
        "duration": 5,
        "start_time": "2022-02-09T13:57:32.688Z"
      },
      {
        "duration": 40,
        "start_time": "2022-02-09T13:57:32.694Z"
      },
      {
        "duration": 16,
        "start_time": "2022-02-09T13:57:32.736Z"
      },
      {
        "duration": 77,
        "start_time": "2022-02-09T13:57:32.754Z"
      },
      {
        "duration": 10,
        "start_time": "2022-02-09T13:57:32.832Z"
      },
      {
        "duration": 10,
        "start_time": "2022-02-09T13:57:32.845Z"
      },
      {
        "duration": 3426,
        "start_time": "2022-02-09T13:57:32.857Z"
      },
      {
        "duration": 13,
        "start_time": "2022-02-09T13:57:36.284Z"
      },
      {
        "duration": 11,
        "start_time": "2022-02-09T13:57:36.298Z"
      },
      {
        "duration": 95,
        "start_time": "2022-02-09T13:57:36.310Z"
      },
      {
        "duration": 8,
        "start_time": "2022-02-09T13:57:36.407Z"
      },
      {
        "duration": 7,
        "start_time": "2022-02-09T13:57:36.417Z"
      },
      {
        "duration": 25,
        "start_time": "2022-02-09T13:57:36.425Z"
      },
      {
        "duration": 17,
        "start_time": "2022-02-09T13:57:36.451Z"
      },
      {
        "duration": 19,
        "start_time": "2022-02-09T13:57:36.470Z"
      },
      {
        "duration": 32,
        "start_time": "2022-02-09T13:57:36.490Z"
      },
      {
        "duration": 187,
        "start_time": "2022-02-09T13:57:36.523Z"
      },
      {
        "duration": 357,
        "start_time": "2022-02-09T13:57:36.712Z"
      },
      {
        "duration": 4,
        "start_time": "2022-02-09T13:57:37.071Z"
      },
      {
        "duration": 8,
        "start_time": "2022-02-09T13:57:37.077Z"
      },
      {
        "duration": 6,
        "start_time": "2022-02-09T13:57:37.086Z"
      },
      {
        "duration": 7,
        "start_time": "2022-02-09T13:57:37.094Z"
      },
      {
        "duration": 430,
        "start_time": "2022-02-09T13:57:37.103Z"
      },
      {
        "duration": 4,
        "start_time": "2022-02-09T13:57:37.535Z"
      },
      {
        "duration": 27,
        "start_time": "2022-02-09T13:57:37.541Z"
      },
      {
        "duration": 500,
        "start_time": "2022-02-09T13:57:37.569Z"
      },
      {
        "duration": 1141,
        "start_time": "2022-02-09T13:57:36.930Z"
      },
      {
        "duration": 1137,
        "start_time": "2022-02-09T13:57:36.936Z"
      },
      {
        "duration": 1135,
        "start_time": "2022-02-09T13:57:36.939Z"
      },
      {
        "duration": 374,
        "start_time": "2022-02-09T13:58:13.703Z"
      },
      {
        "duration": 384,
        "start_time": "2022-02-09T14:10:50.484Z"
      },
      {
        "duration": 7,
        "start_time": "2022-02-09T14:21:43.041Z"
      },
      {
        "duration": 3,
        "start_time": "2022-02-09T14:25:56.609Z"
      },
      {
        "duration": 3,
        "start_time": "2022-02-09T14:27:02.514Z"
      },
      {
        "duration": 5,
        "start_time": "2022-02-09T14:27:41.972Z"
      },
      {
        "duration": 5845,
        "start_time": "2022-02-09T14:27:42.824Z"
      },
      {
        "duration": 484,
        "start_time": "2022-02-09T14:35:28.329Z"
      },
      {
        "duration": 437,
        "start_time": "2022-02-09T14:38:00.928Z"
      },
      {
        "duration": 277,
        "start_time": "2022-02-09T14:38:11.684Z"
      },
      {
        "duration": 419,
        "start_time": "2022-02-09T14:38:13.760Z"
      },
      {
        "duration": 229,
        "start_time": "2022-02-09T14:38:17.716Z"
      },
      {
        "duration": 427,
        "start_time": "2022-02-09T14:38:18.640Z"
      },
      {
        "duration": 4,
        "start_time": "2022-02-09T14:58:25.615Z"
      },
      {
        "duration": 2,
        "start_time": "2022-02-09T15:01:28.662Z"
      },
      {
        "duration": 3,
        "start_time": "2022-02-09T15:05:54.095Z"
      },
      {
        "duration": 11,
        "start_time": "2022-02-09T15:06:03.074Z"
      },
      {
        "duration": 3,
        "start_time": "2022-02-09T15:06:11.831Z"
      },
      {
        "duration": 10,
        "start_time": "2022-02-09T15:06:12.706Z"
      },
      {
        "duration": 2,
        "start_time": "2022-02-09T15:06:16.225Z"
      },
      {
        "duration": 10,
        "start_time": "2022-02-09T15:06:16.774Z"
      },
      {
        "duration": 10,
        "start_time": "2022-02-09T15:06:35.440Z"
      },
      {
        "duration": 16,
        "start_time": "2022-02-09T15:09:04.027Z"
      },
      {
        "duration": 15,
        "start_time": "2022-02-09T15:10:46.476Z"
      },
      {
        "duration": 32,
        "start_time": "2022-02-09T15:15:20.798Z"
      },
      {
        "duration": 9,
        "start_time": "2022-02-09T15:15:28.854Z"
      },
      {
        "duration": 754,
        "start_time": "2022-02-09T15:15:31.878Z"
      },
      {
        "duration": 3,
        "start_time": "2022-02-09T15:16:08.519Z"
      },
      {
        "duration": 698,
        "start_time": "2022-02-09T15:16:08.524Z"
      },
      {
        "duration": 20,
        "start_time": "2022-02-09T15:16:09.224Z"
      },
      {
        "duration": 52,
        "start_time": "2022-02-09T15:16:09.258Z"
      },
      {
        "duration": 35,
        "start_time": "2022-02-09T15:16:09.312Z"
      },
      {
        "duration": 47,
        "start_time": "2022-02-09T15:16:09.349Z"
      },
      {
        "duration": 33,
        "start_time": "2022-02-09T15:16:09.399Z"
      },
      {
        "duration": 13,
        "start_time": "2022-02-09T15:16:09.434Z"
      },
      {
        "duration": 100,
        "start_time": "2022-02-09T15:16:09.448Z"
      },
      {
        "duration": 41,
        "start_time": "2022-02-09T15:16:09.549Z"
      },
      {
        "duration": 123,
        "start_time": "2022-02-09T15:16:09.592Z"
      },
      {
        "duration": 4,
        "start_time": "2022-02-09T15:16:09.717Z"
      },
      {
        "duration": 34,
        "start_time": "2022-02-09T15:16:09.723Z"
      },
      {
        "duration": 19,
        "start_time": "2022-02-09T15:16:09.759Z"
      },
      {
        "duration": 20,
        "start_time": "2022-02-09T15:16:09.779Z"
      },
      {
        "duration": 24,
        "start_time": "2022-02-09T15:16:09.800Z"
      },
      {
        "duration": 42,
        "start_time": "2022-02-09T15:16:09.826Z"
      },
      {
        "duration": 5,
        "start_time": "2022-02-09T15:16:09.869Z"
      },
      {
        "duration": 32,
        "start_time": "2022-02-09T15:16:09.877Z"
      },
      {
        "duration": 22,
        "start_time": "2022-02-09T15:16:09.911Z"
      },
      {
        "duration": 80,
        "start_time": "2022-02-09T15:16:09.934Z"
      },
      {
        "duration": 8,
        "start_time": "2022-02-09T15:16:10.016Z"
      },
      {
        "duration": 42,
        "start_time": "2022-02-09T15:16:10.026Z"
      },
      {
        "duration": 3524,
        "start_time": "2022-02-09T15:16:10.070Z"
      },
      {
        "duration": 13,
        "start_time": "2022-02-09T15:16:13.595Z"
      },
      {
        "duration": 27,
        "start_time": "2022-02-09T15:16:13.610Z"
      },
      {
        "duration": 123,
        "start_time": "2022-02-09T15:16:13.639Z"
      },
      {
        "duration": 9,
        "start_time": "2022-02-09T15:16:13.764Z"
      },
      {
        "duration": 46,
        "start_time": "2022-02-09T15:16:13.775Z"
      },
      {
        "duration": 36,
        "start_time": "2022-02-09T15:16:13.823Z"
      },
      {
        "duration": 55,
        "start_time": "2022-02-09T15:16:13.860Z"
      },
      {
        "duration": 46,
        "start_time": "2022-02-09T15:16:13.917Z"
      },
      {
        "duration": 46,
        "start_time": "2022-02-09T15:16:13.964Z"
      },
      {
        "duration": 219,
        "start_time": "2022-02-09T15:16:14.012Z"
      },
      {
        "duration": 404,
        "start_time": "2022-02-09T15:16:14.233Z"
      },
      {
        "duration": 3,
        "start_time": "2022-02-09T15:16:14.639Z"
      },
      {
        "duration": 39,
        "start_time": "2022-02-09T15:16:14.643Z"
      },
      {
        "duration": 33,
        "start_time": "2022-02-09T15:16:14.683Z"
      },
      {
        "duration": 30,
        "start_time": "2022-02-09T15:16:14.718Z"
      },
      {
        "duration": 408,
        "start_time": "2022-02-09T15:16:14.749Z"
      },
      {
        "duration": 4,
        "start_time": "2022-02-09T15:16:15.159Z"
      },
      {
        "duration": 27,
        "start_time": "2022-02-09T15:16:15.164Z"
      },
      {
        "duration": 391,
        "start_time": "2022-02-09T15:16:15.193Z"
      },
      {
        "duration": 3,
        "start_time": "2022-02-09T15:16:15.586Z"
      },
      {
        "duration": 5,
        "start_time": "2022-02-09T15:16:30.252Z"
      },
      {
        "duration": 7,
        "start_time": "2022-02-09T15:17:04.008Z"
      },
      {
        "duration": 6,
        "start_time": "2022-02-09T15:17:32.359Z"
      },
      {
        "duration": 7,
        "start_time": "2022-02-09T15:17:43.302Z"
      },
      {
        "duration": 7,
        "start_time": "2022-02-09T15:17:46.292Z"
      },
      {
        "duration": 36,
        "start_time": "2022-02-09T15:18:00.877Z"
      },
      {
        "duration": 10,
        "start_time": "2022-02-09T15:18:06.121Z"
      },
      {
        "duration": 405,
        "start_time": "2022-02-09T15:18:08.016Z"
      },
      {
        "duration": 546,
        "start_time": "2022-02-09T15:18:56.764Z"
      },
      {
        "duration": 1053,
        "start_time": "2022-02-09T15:22:25.800Z"
      },
      {
        "duration": 689,
        "start_time": "2022-02-09T15:22:26.855Z"
      },
      {
        "duration": 25,
        "start_time": "2022-02-09T15:22:27.548Z"
      },
      {
        "duration": 19,
        "start_time": "2022-02-09T15:22:27.575Z"
      },
      {
        "duration": 6,
        "start_time": "2022-02-09T15:22:27.595Z"
      },
      {
        "duration": 16,
        "start_time": "2022-02-09T15:22:27.602Z"
      },
      {
        "duration": 42,
        "start_time": "2022-02-09T15:22:27.621Z"
      },
      {
        "duration": 3,
        "start_time": "2022-02-09T15:22:27.665Z"
      },
      {
        "duration": 73,
        "start_time": "2022-02-09T15:22:27.669Z"
      },
      {
        "duration": 57,
        "start_time": "2022-02-09T15:22:27.744Z"
      },
      {
        "duration": 133,
        "start_time": "2022-02-09T15:22:27.803Z"
      },
      {
        "duration": 6,
        "start_time": "2022-02-09T15:22:27.937Z"
      },
      {
        "duration": 28,
        "start_time": "2022-02-09T15:22:27.945Z"
      },
      {
        "duration": 5,
        "start_time": "2022-02-09T15:22:27.975Z"
      },
      {
        "duration": 4,
        "start_time": "2022-02-09T15:22:27.982Z"
      },
      {
        "duration": 14,
        "start_time": "2022-02-09T15:22:27.987Z"
      },
      {
        "duration": 17,
        "start_time": "2022-02-09T15:22:28.002Z"
      },
      {
        "duration": 2,
        "start_time": "2022-02-09T15:22:28.021Z"
      },
      {
        "duration": 45,
        "start_time": "2022-02-09T15:22:28.025Z"
      },
      {
        "duration": 9,
        "start_time": "2022-02-09T15:22:28.072Z"
      },
      {
        "duration": 78,
        "start_time": "2022-02-09T15:22:28.082Z"
      },
      {
        "duration": 10,
        "start_time": "2022-02-09T15:22:28.163Z"
      },
      {
        "duration": 4,
        "start_time": "2022-02-09T15:22:28.175Z"
      },
      {
        "duration": 3435,
        "start_time": "2022-02-09T15:22:28.181Z"
      },
      {
        "duration": 14,
        "start_time": "2022-02-09T15:22:31.617Z"
      },
      {
        "duration": 6,
        "start_time": "2022-02-09T15:22:31.633Z"
      },
      {
        "duration": 92,
        "start_time": "2022-02-09T15:22:31.640Z"
      },
      {
        "duration": 10,
        "start_time": "2022-02-09T15:22:31.734Z"
      },
      {
        "duration": 6,
        "start_time": "2022-02-09T15:22:31.759Z"
      },
      {
        "duration": 9,
        "start_time": "2022-02-09T15:22:31.766Z"
      },
      {
        "duration": 6,
        "start_time": "2022-02-09T15:22:31.776Z"
      },
      {
        "duration": 11,
        "start_time": "2022-02-09T15:22:31.784Z"
      },
      {
        "duration": 8,
        "start_time": "2022-02-09T15:22:31.796Z"
      },
      {
        "duration": 190,
        "start_time": "2022-02-09T15:22:31.806Z"
      },
      {
        "duration": 374,
        "start_time": "2022-02-09T15:22:31.998Z"
      },
      {
        "duration": 3,
        "start_time": "2022-02-09T15:22:32.373Z"
      },
      {
        "duration": 11,
        "start_time": "2022-02-09T15:22:32.378Z"
      },
      {
        "duration": 7,
        "start_time": "2022-02-09T15:22:32.391Z"
      },
      {
        "duration": 15,
        "start_time": "2022-02-09T15:22:32.399Z"
      },
      {
        "duration": 360,
        "start_time": "2022-02-09T15:22:32.415Z"
      },
      {
        "duration": 4,
        "start_time": "2022-02-09T15:22:32.776Z"
      },
      {
        "duration": 22,
        "start_time": "2022-02-09T15:22:32.781Z"
      },
      {
        "duration": 374,
        "start_time": "2022-02-09T15:22:32.805Z"
      },
      {
        "duration": 2,
        "start_time": "2022-02-09T15:22:33.181Z"
      },
      {
        "duration": 4771,
        "start_time": "2022-02-09T15:22:33.185Z"
      },
      {
        "duration": -57,
        "start_time": "2022-02-09T15:22:38.014Z"
      },
      {
        "duration": -61,
        "start_time": "2022-02-09T15:22:38.020Z"
      },
      {
        "duration": 1259,
        "start_time": "2022-02-09T15:23:54.929Z"
      },
      {
        "duration": 775,
        "start_time": "2022-02-09T15:23:56.190Z"
      },
      {
        "duration": 23,
        "start_time": "2022-02-09T15:23:56.967Z"
      },
      {
        "duration": 18,
        "start_time": "2022-02-09T15:23:56.992Z"
      },
      {
        "duration": 9,
        "start_time": "2022-02-09T15:23:57.012Z"
      },
      {
        "duration": 36,
        "start_time": "2022-02-09T15:23:57.023Z"
      },
      {
        "duration": 13,
        "start_time": "2022-02-09T15:23:57.061Z"
      },
      {
        "duration": 3,
        "start_time": "2022-02-09T15:23:57.077Z"
      },
      {
        "duration": 105,
        "start_time": "2022-02-09T15:23:57.083Z"
      },
      {
        "duration": 44,
        "start_time": "2022-02-09T15:23:57.190Z"
      },
      {
        "duration": 190,
        "start_time": "2022-02-09T15:23:57.235Z"
      },
      {
        "duration": 9,
        "start_time": "2022-02-09T15:23:57.427Z"
      },
      {
        "duration": 34,
        "start_time": "2022-02-09T15:23:57.438Z"
      },
      {
        "duration": 6,
        "start_time": "2022-02-09T15:23:57.474Z"
      },
      {
        "duration": 30,
        "start_time": "2022-02-09T15:23:57.482Z"
      },
      {
        "duration": 23,
        "start_time": "2022-02-09T15:23:57.514Z"
      },
      {
        "duration": 19,
        "start_time": "2022-02-09T15:23:57.539Z"
      },
      {
        "duration": 2,
        "start_time": "2022-02-09T15:23:57.560Z"
      },
      {
        "duration": 19,
        "start_time": "2022-02-09T15:23:57.564Z"
      },
      {
        "duration": 9,
        "start_time": "2022-02-09T15:23:57.585Z"
      },
      {
        "duration": 110,
        "start_time": "2022-02-09T15:23:57.596Z"
      },
      {
        "duration": 13,
        "start_time": "2022-02-09T15:23:57.708Z"
      },
      {
        "duration": 5,
        "start_time": "2022-02-09T15:23:57.726Z"
      },
      {
        "duration": 4225,
        "start_time": "2022-02-09T15:23:57.733Z"
      },
      {
        "duration": 20,
        "start_time": "2022-02-09T15:24:01.961Z"
      },
      {
        "duration": 18,
        "start_time": "2022-02-09T15:24:01.987Z"
      },
      {
        "duration": 122,
        "start_time": "2022-02-09T15:24:02.007Z"
      },
      {
        "duration": 9,
        "start_time": "2022-02-09T15:24:02.131Z"
      },
      {
        "duration": 21,
        "start_time": "2022-02-09T15:24:02.142Z"
      },
      {
        "duration": 10,
        "start_time": "2022-02-09T15:24:02.165Z"
      },
      {
        "duration": 13,
        "start_time": "2022-02-09T15:24:02.177Z"
      },
      {
        "duration": 12,
        "start_time": "2022-02-09T15:24:02.192Z"
      },
      {
        "duration": 13,
        "start_time": "2022-02-09T15:24:02.206Z"
      },
      {
        "duration": 228,
        "start_time": "2022-02-09T15:24:02.221Z"
      },
      {
        "duration": 444,
        "start_time": "2022-02-09T15:24:02.451Z"
      },
      {
        "duration": 3,
        "start_time": "2022-02-09T15:24:02.896Z"
      },
      {
        "duration": 13,
        "start_time": "2022-02-09T15:24:02.901Z"
      },
      {
        "duration": 11,
        "start_time": "2022-02-09T15:24:02.916Z"
      },
      {
        "duration": 22,
        "start_time": "2022-02-09T15:24:02.929Z"
      },
      {
        "duration": 431,
        "start_time": "2022-02-09T15:24:02.953Z"
      },
      {
        "duration": 4,
        "start_time": "2022-02-09T15:24:03.386Z"
      },
      {
        "duration": 17,
        "start_time": "2022-02-09T15:24:03.391Z"
      },
      {
        "duration": 422,
        "start_time": "2022-02-09T15:24:03.410Z"
      },
      {
        "duration": 3,
        "start_time": "2022-02-09T15:24:03.834Z"
      },
      {
        "duration": 66,
        "start_time": "2022-02-09T15:24:03.838Z"
      },
      {
        "duration": 8,
        "start_time": "2022-02-09T15:24:03.906Z"
      },
      {
        "duration": 459,
        "start_time": "2022-02-09T15:24:03.916Z"
      },
      {
        "duration": 4,
        "start_time": "2022-02-09T17:29:11.164Z"
      },
      {
        "duration": 1197,
        "start_time": "2022-02-09T17:29:45.716Z"
      },
      {
        "duration": 7,
        "start_time": "2022-02-09T17:30:29.012Z"
      },
      {
        "duration": 9,
        "start_time": "2022-02-09T17:31:07.665Z"
      },
      {
        "duration": 4,
        "start_time": "2022-02-09T17:34:14.587Z"
      },
      {
        "duration": 3,
        "start_time": "2022-02-09T17:35:11.466Z"
      },
      {
        "duration": 5,
        "start_time": "2022-02-09T17:36:52.156Z"
      },
      {
        "duration": 2,
        "start_time": "2022-02-09T17:39:20.759Z"
      },
      {
        "duration": 3,
        "start_time": "2022-02-09T17:40:05.642Z"
      },
      {
        "duration": 1065,
        "start_time": "2022-02-09T17:42:58.194Z"
      },
      {
        "duration": 679,
        "start_time": "2022-02-09T17:42:59.261Z"
      },
      {
        "duration": 28,
        "start_time": "2022-02-09T17:42:59.942Z"
      },
      {
        "duration": 20,
        "start_time": "2022-02-09T17:42:59.973Z"
      },
      {
        "duration": 6,
        "start_time": "2022-02-09T17:42:59.995Z"
      },
      {
        "duration": 25,
        "start_time": "2022-02-09T17:43:00.003Z"
      },
      {
        "duration": 38,
        "start_time": "2022-02-09T17:43:00.030Z"
      },
      {
        "duration": 13,
        "start_time": "2022-02-09T17:43:00.070Z"
      },
      {
        "duration": 100,
        "start_time": "2022-02-09T17:43:00.085Z"
      },
      {
        "duration": 46,
        "start_time": "2022-02-09T17:43:00.187Z"
      },
      {
        "duration": 160,
        "start_time": "2022-02-09T17:43:00.235Z"
      },
      {
        "duration": 6,
        "start_time": "2022-02-09T17:43:00.397Z"
      },
      {
        "duration": 22,
        "start_time": "2022-02-09T17:43:00.404Z"
      },
      {
        "duration": 6,
        "start_time": "2022-02-09T17:43:00.427Z"
      },
      {
        "duration": 25,
        "start_time": "2022-02-09T17:43:00.435Z"
      },
      {
        "duration": 20,
        "start_time": "2022-02-09T17:43:00.462Z"
      },
      {
        "duration": 17,
        "start_time": "2022-02-09T17:43:00.484Z"
      },
      {
        "duration": 2,
        "start_time": "2022-02-09T17:43:00.503Z"
      },
      {
        "duration": 32,
        "start_time": "2022-02-09T17:43:00.507Z"
      },
      {
        "duration": 19,
        "start_time": "2022-02-09T17:43:00.540Z"
      },
      {
        "duration": 68,
        "start_time": "2022-02-09T17:43:00.561Z"
      },
      {
        "duration": 11,
        "start_time": "2022-02-09T17:43:00.631Z"
      },
      {
        "duration": 5,
        "start_time": "2022-02-09T17:43:00.661Z"
      },
      {
        "duration": 3398,
        "start_time": "2022-02-09T17:43:00.669Z"
      },
      {
        "duration": 13,
        "start_time": "2022-02-09T17:43:04.069Z"
      },
      {
        "duration": 5,
        "start_time": "2022-02-09T17:43:04.084Z"
      },
      {
        "duration": 95,
        "start_time": "2022-02-09T17:43:04.090Z"
      },
      {
        "duration": 9,
        "start_time": "2022-02-09T17:43:04.187Z"
      },
      {
        "duration": 5,
        "start_time": "2022-02-09T17:43:04.198Z"
      },
      {
        "duration": 9,
        "start_time": "2022-02-09T17:43:04.204Z"
      },
      {
        "duration": 6,
        "start_time": "2022-02-09T17:43:04.215Z"
      },
      {
        "duration": 6,
        "start_time": "2022-02-09T17:43:04.222Z"
      },
      {
        "duration": 33,
        "start_time": "2022-02-09T17:43:04.230Z"
      },
      {
        "duration": 187,
        "start_time": "2022-02-09T17:43:04.264Z"
      },
      {
        "duration": 410,
        "start_time": "2022-02-09T17:43:04.453Z"
      },
      {
        "duration": 3,
        "start_time": "2022-02-09T17:43:04.865Z"
      },
      {
        "duration": 9,
        "start_time": "2022-02-09T17:43:04.869Z"
      },
      {
        "duration": 6,
        "start_time": "2022-02-09T17:43:04.879Z"
      },
      {
        "duration": 17,
        "start_time": "2022-02-09T17:43:04.886Z"
      },
      {
        "duration": 386,
        "start_time": "2022-02-09T17:43:04.905Z"
      },
      {
        "duration": 3,
        "start_time": "2022-02-09T17:43:05.293Z"
      },
      {
        "duration": 18,
        "start_time": "2022-02-09T17:43:05.298Z"
      },
      {
        "duration": 417,
        "start_time": "2022-02-09T17:43:05.318Z"
      },
      {
        "duration": 2,
        "start_time": "2022-02-09T17:43:05.737Z"
      },
      {
        "duration": 68,
        "start_time": "2022-02-09T17:43:05.741Z"
      },
      {
        "duration": 8,
        "start_time": "2022-02-09T17:43:05.811Z"
      },
      {
        "duration": 443,
        "start_time": "2022-02-09T17:43:05.821Z"
      },
      {
        "duration": 3,
        "start_time": "2022-02-09T17:43:06.266Z"
      },
      {
        "duration": 12,
        "start_time": "2022-02-09T17:43:06.271Z"
      },
      {
        "duration": 15,
        "start_time": "2022-02-09T17:43:06.285Z"
      },
      {
        "duration": 4750,
        "start_time": "2022-02-09T17:43:06.302Z"
      },
      {
        "duration": 382,
        "start_time": "2022-02-09T17:43:10.672Z"
      },
      {
        "duration": 379,
        "start_time": "2022-02-09T17:43:10.677Z"
      },
      {
        "duration": 375,
        "start_time": "2022-02-09T17:43:10.682Z"
      },
      {
        "duration": 372,
        "start_time": "2022-02-09T17:43:10.686Z"
      },
      {
        "duration": 28,
        "start_time": "2022-02-09T17:44:01.185Z"
      },
      {
        "duration": 545,
        "start_time": "2022-02-09T17:44:26.471Z"
      },
      {
        "duration": 1116,
        "start_time": "2022-02-09T17:46:28.841Z"
      },
      {
        "duration": 693,
        "start_time": "2022-02-09T17:46:29.959Z"
      },
      {
        "duration": 21,
        "start_time": "2022-02-09T17:46:30.654Z"
      },
      {
        "duration": 18,
        "start_time": "2022-02-09T17:46:30.677Z"
      },
      {
        "duration": 13,
        "start_time": "2022-02-09T17:46:30.697Z"
      },
      {
        "duration": 24,
        "start_time": "2022-02-09T17:46:30.712Z"
      },
      {
        "duration": 28,
        "start_time": "2022-02-09T17:46:30.738Z"
      },
      {
        "duration": 2,
        "start_time": "2022-02-09T17:46:30.768Z"
      },
      {
        "duration": 90,
        "start_time": "2022-02-09T17:46:30.773Z"
      },
      {
        "duration": 43,
        "start_time": "2022-02-09T17:46:30.865Z"
      },
      {
        "duration": 151,
        "start_time": "2022-02-09T17:46:30.909Z"
      },
      {
        "duration": 7,
        "start_time": "2022-02-09T17:46:31.061Z"
      },
      {
        "duration": 30,
        "start_time": "2022-02-09T17:46:31.070Z"
      },
      {
        "duration": 7,
        "start_time": "2022-02-09T17:46:31.102Z"
      },
      {
        "duration": 37,
        "start_time": "2022-02-09T17:46:31.110Z"
      },
      {
        "duration": 23,
        "start_time": "2022-02-09T17:46:31.148Z"
      },
      {
        "duration": 27,
        "start_time": "2022-02-09T17:46:31.173Z"
      },
      {
        "duration": 2,
        "start_time": "2022-02-09T17:46:31.202Z"
      },
      {
        "duration": 25,
        "start_time": "2022-02-09T17:46:31.206Z"
      },
      {
        "duration": 16,
        "start_time": "2022-02-09T17:46:31.233Z"
      },
      {
        "duration": 71,
        "start_time": "2022-02-09T17:46:31.251Z"
      },
      {
        "duration": 12,
        "start_time": "2022-02-09T17:46:31.324Z"
      },
      {
        "duration": 23,
        "start_time": "2022-02-09T17:46:31.338Z"
      },
      {
        "duration": 3397,
        "start_time": "2022-02-09T17:46:31.363Z"
      },
      {
        "duration": 15,
        "start_time": "2022-02-09T17:46:34.762Z"
      },
      {
        "duration": 6,
        "start_time": "2022-02-09T17:46:34.778Z"
      },
      {
        "duration": 98,
        "start_time": "2022-02-09T17:46:34.789Z"
      },
      {
        "duration": 11,
        "start_time": "2022-02-09T17:46:34.890Z"
      },
      {
        "duration": 6,
        "start_time": "2022-02-09T17:46:34.903Z"
      },
      {
        "duration": 9,
        "start_time": "2022-02-09T17:46:34.910Z"
      },
      {
        "duration": 40,
        "start_time": "2022-02-09T17:46:34.920Z"
      },
      {
        "duration": 7,
        "start_time": "2022-02-09T17:46:34.962Z"
      },
      {
        "duration": 9,
        "start_time": "2022-02-09T17:46:34.971Z"
      },
      {
        "duration": 215,
        "start_time": "2022-02-09T17:46:34.981Z"
      },
      {
        "duration": 377,
        "start_time": "2022-02-09T17:46:35.197Z"
      },
      {
        "duration": 3,
        "start_time": "2022-02-09T17:46:35.576Z"
      },
      {
        "duration": 9,
        "start_time": "2022-02-09T17:46:35.581Z"
      },
      {
        "duration": 14,
        "start_time": "2022-02-09T17:46:35.591Z"
      },
      {
        "duration": 18,
        "start_time": "2022-02-09T17:46:35.606Z"
      },
      {
        "duration": 381,
        "start_time": "2022-02-09T17:46:35.625Z"
      },
      {
        "duration": 4,
        "start_time": "2022-02-09T17:46:36.008Z"
      },
      {
        "duration": 16,
        "start_time": "2022-02-09T17:46:36.013Z"
      },
      {
        "duration": 441,
        "start_time": "2022-02-09T17:46:36.031Z"
      },
      {
        "duration": 3,
        "start_time": "2022-02-09T17:46:36.473Z"
      },
      {
        "duration": 63,
        "start_time": "2022-02-09T17:46:36.478Z"
      },
      {
        "duration": 8,
        "start_time": "2022-02-09T17:46:36.559Z"
      },
      {
        "duration": 411,
        "start_time": "2022-02-09T17:46:36.568Z"
      },
      {
        "duration": 3,
        "start_time": "2022-02-09T17:46:36.981Z"
      },
      {
        "duration": 14,
        "start_time": "2022-02-09T17:46:36.985Z"
      },
      {
        "duration": 13,
        "start_time": "2022-02-09T17:46:37.001Z"
      },
      {
        "duration": 4,
        "start_time": "2022-02-09T17:46:37.016Z"
      },
      {
        "duration": 277,
        "start_time": "2022-02-09T17:46:37.022Z"
      },
      {
        "duration": 390,
        "start_time": "2022-02-09T17:46:36.911Z"
      },
      {
        "duration": 384,
        "start_time": "2022-02-09T17:46:36.918Z"
      },
      {
        "duration": 379,
        "start_time": "2022-02-09T17:46:36.924Z"
      },
      {
        "duration": 375,
        "start_time": "2022-02-09T17:46:36.930Z"
      },
      {
        "duration": 1067,
        "start_time": "2022-02-09T18:10:09.796Z"
      },
      {
        "duration": 685,
        "start_time": "2022-02-09T18:10:10.865Z"
      },
      {
        "duration": 27,
        "start_time": "2022-02-09T18:10:11.552Z"
      },
      {
        "duration": 20,
        "start_time": "2022-02-09T18:10:11.581Z"
      },
      {
        "duration": 7,
        "start_time": "2022-02-09T18:10:11.603Z"
      },
      {
        "duration": 17,
        "start_time": "2022-02-09T18:10:11.612Z"
      },
      {
        "duration": 11,
        "start_time": "2022-02-09T18:10:11.660Z"
      },
      {
        "duration": 2,
        "start_time": "2022-02-09T18:10:11.675Z"
      },
      {
        "duration": 89,
        "start_time": "2022-02-09T18:10:11.680Z"
      },
      {
        "duration": 47,
        "start_time": "2022-02-09T18:10:11.771Z"
      },
      {
        "duration": 148,
        "start_time": "2022-02-09T18:10:11.819Z"
      },
      {
        "duration": 7,
        "start_time": "2022-02-09T18:10:11.969Z"
      },
      {
        "duration": 21,
        "start_time": "2022-02-09T18:10:11.977Z"
      },
      {
        "duration": 5,
        "start_time": "2022-02-09T18:10:11.999Z"
      },
      {
        "duration": 7,
        "start_time": "2022-02-09T18:10:12.006Z"
      },
      {
        "duration": 11,
        "start_time": "2022-02-09T18:10:12.015Z"
      },
      {
        "duration": 43,
        "start_time": "2022-02-09T18:10:12.027Z"
      },
      {
        "duration": 2,
        "start_time": "2022-02-09T18:10:12.072Z"
      },
      {
        "duration": 17,
        "start_time": "2022-02-09T18:10:12.076Z"
      },
      {
        "duration": 9,
        "start_time": "2022-02-09T18:10:12.095Z"
      },
      {
        "duration": 95,
        "start_time": "2022-02-09T18:10:12.105Z"
      },
      {
        "duration": 11,
        "start_time": "2022-02-09T18:10:12.201Z"
      },
      {
        "duration": 5,
        "start_time": "2022-02-09T18:10:12.215Z"
      },
      {
        "duration": 3440,
        "start_time": "2022-02-09T18:10:12.222Z"
      },
      {
        "duration": 14,
        "start_time": "2022-02-09T18:10:15.663Z"
      },
      {
        "duration": 5,
        "start_time": "2022-02-09T18:10:15.679Z"
      },
      {
        "duration": 104,
        "start_time": "2022-02-09T18:10:15.686Z"
      },
      {
        "duration": 11,
        "start_time": "2022-02-09T18:10:15.792Z"
      },
      {
        "duration": 6,
        "start_time": "2022-02-09T18:10:15.804Z"
      },
      {
        "duration": 8,
        "start_time": "2022-02-09T18:10:15.812Z"
      },
      {
        "duration": 8,
        "start_time": "2022-02-09T18:10:15.822Z"
      },
      {
        "duration": 33,
        "start_time": "2022-02-09T18:10:15.831Z"
      },
      {
        "duration": 11,
        "start_time": "2022-02-09T18:10:15.866Z"
      },
      {
        "duration": 197,
        "start_time": "2022-02-09T18:10:15.879Z"
      },
      {
        "duration": 375,
        "start_time": "2022-02-09T18:10:16.078Z"
      },
      {
        "duration": 3,
        "start_time": "2022-02-09T18:10:16.459Z"
      },
      {
        "duration": 10,
        "start_time": "2022-02-09T18:10:16.464Z"
      },
      {
        "duration": 7,
        "start_time": "2022-02-09T18:10:16.475Z"
      },
      {
        "duration": 8,
        "start_time": "2022-02-09T18:10:16.483Z"
      },
      {
        "duration": 379,
        "start_time": "2022-02-09T18:10:16.493Z"
      },
      {
        "duration": 4,
        "start_time": "2022-02-09T18:10:16.874Z"
      },
      {
        "duration": 16,
        "start_time": "2022-02-09T18:10:16.879Z"
      },
      {
        "duration": 409,
        "start_time": "2022-02-09T18:10:16.897Z"
      },
      {
        "duration": 3,
        "start_time": "2022-02-09T18:10:17.308Z"
      },
      {
        "duration": 77,
        "start_time": "2022-02-09T18:10:17.312Z"
      },
      {
        "duration": 9,
        "start_time": "2022-02-09T18:10:17.390Z"
      },
      {
        "duration": 416,
        "start_time": "2022-02-09T18:10:17.401Z"
      },
      {
        "duration": 4,
        "start_time": "2022-02-09T18:10:17.818Z"
      },
      {
        "duration": 35,
        "start_time": "2022-02-09T18:10:17.823Z"
      },
      {
        "duration": 38,
        "start_time": "2022-02-09T18:10:17.859Z"
      },
      {
        "duration": 7,
        "start_time": "2022-02-09T18:10:17.899Z"
      },
      {
        "duration": 15,
        "start_time": "2022-02-09T18:10:17.908Z"
      },
      {
        "duration": 6,
        "start_time": "2022-02-09T18:10:17.925Z"
      },
      {
        "duration": 10,
        "start_time": "2022-02-09T18:10:17.933Z"
      },
      {
        "duration": 7,
        "start_time": "2022-02-09T18:10:17.944Z"
      },
      {
        "duration": 6,
        "start_time": "2022-02-09T18:10:17.952Z"
      },
      {
        "duration": 527,
        "start_time": "2022-02-09T18:10:37.971Z"
      },
      {
        "duration": 4,
        "start_time": "2022-02-09T18:11:10.627Z"
      },
      {
        "duration": 259,
        "start_time": "2022-02-09T18:12:04.145Z"
      },
      {
        "duration": 181,
        "start_time": "2022-02-09T18:12:41.533Z"
      },
      {
        "duration": 5,
        "start_time": "2022-02-09T18:13:07.291Z"
      },
      {
        "duration": 1067,
        "start_time": "2022-02-09T18:14:24.321Z"
      },
      {
        "duration": 706,
        "start_time": "2022-02-09T18:14:25.390Z"
      },
      {
        "duration": 22,
        "start_time": "2022-02-09T18:14:26.098Z"
      },
      {
        "duration": 21,
        "start_time": "2022-02-09T18:14:26.122Z"
      },
      {
        "duration": 17,
        "start_time": "2022-02-09T18:14:26.145Z"
      },
      {
        "duration": 19,
        "start_time": "2022-02-09T18:14:26.163Z"
      },
      {
        "duration": 9,
        "start_time": "2022-02-09T18:14:26.184Z"
      },
      {
        "duration": 3,
        "start_time": "2022-02-09T18:14:26.195Z"
      },
      {
        "duration": 98,
        "start_time": "2022-02-09T18:14:26.199Z"
      },
      {
        "duration": 47,
        "start_time": "2022-02-09T18:14:26.298Z"
      },
      {
        "duration": 145,
        "start_time": "2022-02-09T18:14:26.347Z"
      },
      {
        "duration": 7,
        "start_time": "2022-02-09T18:14:26.493Z"
      },
      {
        "duration": 21,
        "start_time": "2022-02-09T18:14:26.501Z"
      },
      {
        "duration": 5,
        "start_time": "2022-02-09T18:14:26.524Z"
      },
      {
        "duration": 30,
        "start_time": "2022-02-09T18:14:26.530Z"
      },
      {
        "duration": 9,
        "start_time": "2022-02-09T18:14:26.562Z"
      },
      {
        "duration": 22,
        "start_time": "2022-02-09T18:14:26.573Z"
      },
      {
        "duration": 3,
        "start_time": "2022-02-09T18:14:26.596Z"
      },
      {
        "duration": 20,
        "start_time": "2022-02-09T18:14:26.600Z"
      },
      {
        "duration": 9,
        "start_time": "2022-02-09T18:14:26.622Z"
      },
      {
        "duration": 95,
        "start_time": "2022-02-09T18:14:26.633Z"
      },
      {
        "duration": 10,
        "start_time": "2022-02-09T18:14:26.730Z"
      },
      {
        "duration": 17,
        "start_time": "2022-02-09T18:14:26.743Z"
      },
      {
        "duration": 3415,
        "start_time": "2022-02-09T18:14:26.762Z"
      },
      {
        "duration": 15,
        "start_time": "2022-02-09T18:14:30.179Z"
      },
      {
        "duration": 17,
        "start_time": "2022-02-09T18:14:30.196Z"
      },
      {
        "duration": 101,
        "start_time": "2022-02-09T18:14:30.215Z"
      },
      {
        "duration": 10,
        "start_time": "2022-02-09T18:14:30.318Z"
      },
      {
        "duration": 18,
        "start_time": "2022-02-09T18:14:30.330Z"
      },
      {
        "duration": 28,
        "start_time": "2022-02-09T18:14:30.351Z"
      },
      {
        "duration": 14,
        "start_time": "2022-02-09T18:14:30.381Z"
      },
      {
        "duration": 38,
        "start_time": "2022-02-09T18:14:30.397Z"
      },
      {
        "duration": 18,
        "start_time": "2022-02-09T18:14:30.437Z"
      },
      {
        "duration": 200,
        "start_time": "2022-02-09T18:14:30.456Z"
      },
      {
        "duration": 395,
        "start_time": "2022-02-09T18:14:30.658Z"
      },
      {
        "duration": 3,
        "start_time": "2022-02-09T18:14:31.058Z"
      },
      {
        "duration": 23,
        "start_time": "2022-02-09T18:14:31.063Z"
      },
      {
        "duration": 21,
        "start_time": "2022-02-09T18:14:31.088Z"
      },
      {
        "duration": 31,
        "start_time": "2022-02-09T18:14:31.111Z"
      },
      {
        "duration": 404,
        "start_time": "2022-02-09T18:14:31.144Z"
      },
      {
        "duration": 11,
        "start_time": "2022-02-09T18:14:31.550Z"
      },
      {
        "duration": 30,
        "start_time": "2022-02-09T18:14:31.563Z"
      },
      {
        "duration": 396,
        "start_time": "2022-02-09T18:14:31.595Z"
      },
      {
        "duration": 3,
        "start_time": "2022-02-09T18:14:31.992Z"
      },
      {
        "duration": 76,
        "start_time": "2022-02-09T18:14:31.996Z"
      },
      {
        "duration": 8,
        "start_time": "2022-02-09T18:14:32.073Z"
      },
      {
        "duration": 407,
        "start_time": "2022-02-09T18:14:32.083Z"
      },
      {
        "duration": 3,
        "start_time": "2022-02-09T18:14:32.492Z"
      },
      {
        "duration": 24,
        "start_time": "2022-02-09T18:14:32.496Z"
      },
      {
        "duration": 20,
        "start_time": "2022-02-09T18:14:32.522Z"
      },
      {
        "duration": 5,
        "start_time": "2022-02-09T18:14:32.543Z"
      },
      {
        "duration": 278,
        "start_time": "2022-02-09T18:14:32.550Z"
      },
      {
        "duration": 385,
        "start_time": "2022-02-09T18:14:32.445Z"
      },
      {
        "duration": 380,
        "start_time": "2022-02-09T18:14:32.451Z"
      },
      {
        "duration": 376,
        "start_time": "2022-02-09T18:14:32.456Z"
      },
      {
        "duration": 372,
        "start_time": "2022-02-09T18:14:32.461Z"
      },
      {
        "duration": 4379,
        "start_time": "2022-02-09T18:15:02.192Z"
      },
      {
        "duration": 6,
        "start_time": "2022-02-09T18:15:11.606Z"
      },
      {
        "duration": 182,
        "start_time": "2022-02-09T18:15:18.680Z"
      },
      {
        "duration": 6,
        "start_time": "2022-02-09T18:15:28.283Z"
      },
      {
        "duration": 1087,
        "start_time": "2022-02-09T18:16:38.085Z"
      },
      {
        "duration": 685,
        "start_time": "2022-02-09T18:16:39.174Z"
      },
      {
        "duration": 22,
        "start_time": "2022-02-09T18:16:39.861Z"
      },
      {
        "duration": 26,
        "start_time": "2022-02-09T18:16:39.885Z"
      },
      {
        "duration": 26,
        "start_time": "2022-02-09T18:16:39.912Z"
      },
      {
        "duration": 35,
        "start_time": "2022-02-09T18:16:39.940Z"
      },
      {
        "duration": 19,
        "start_time": "2022-02-09T18:16:39.976Z"
      },
      {
        "duration": 13,
        "start_time": "2022-02-09T18:16:39.998Z"
      },
      {
        "duration": 94,
        "start_time": "2022-02-09T18:16:40.013Z"
      },
      {
        "duration": 54,
        "start_time": "2022-02-09T18:16:40.108Z"
      },
      {
        "duration": 126,
        "start_time": "2022-02-09T18:16:40.163Z"
      },
      {
        "duration": 6,
        "start_time": "2022-02-09T18:16:40.290Z"
      },
      {
        "duration": 43,
        "start_time": "2022-02-09T18:16:40.297Z"
      },
      {
        "duration": 12,
        "start_time": "2022-02-09T18:16:40.342Z"
      },
      {
        "duration": 25,
        "start_time": "2022-02-09T18:16:40.356Z"
      },
      {
        "duration": 30,
        "start_time": "2022-02-09T18:16:40.383Z"
      },
      {
        "duration": 33,
        "start_time": "2022-02-09T18:16:40.414Z"
      },
      {
        "duration": 18,
        "start_time": "2022-02-09T18:16:40.448Z"
      },
      {
        "duration": 41,
        "start_time": "2022-02-09T18:16:40.468Z"
      },
      {
        "duration": 22,
        "start_time": "2022-02-09T18:16:40.510Z"
      },
      {
        "duration": 83,
        "start_time": "2022-02-09T18:16:40.533Z"
      },
      {
        "duration": 10,
        "start_time": "2022-02-09T18:16:40.617Z"
      },
      {
        "duration": 14,
        "start_time": "2022-02-09T18:16:40.631Z"
      },
      {
        "duration": 3624,
        "start_time": "2022-02-09T18:16:40.647Z"
      },
      {
        "duration": 13,
        "start_time": "2022-02-09T18:16:44.273Z"
      },
      {
        "duration": 5,
        "start_time": "2022-02-09T18:16:44.288Z"
      },
      {
        "duration": 100,
        "start_time": "2022-02-09T18:16:44.295Z"
      },
      {
        "duration": 9,
        "start_time": "2022-02-09T18:16:44.396Z"
      },
      {
        "duration": 13,
        "start_time": "2022-02-09T18:16:44.407Z"
      },
      {
        "duration": 23,
        "start_time": "2022-02-09T18:16:44.421Z"
      },
      {
        "duration": 35,
        "start_time": "2022-02-09T18:16:44.446Z"
      },
      {
        "duration": 23,
        "start_time": "2022-02-09T18:16:44.483Z"
      },
      {
        "duration": 19,
        "start_time": "2022-02-09T18:16:44.508Z"
      },
      {
        "duration": 183,
        "start_time": "2022-02-09T18:16:44.528Z"
      },
      {
        "duration": 381,
        "start_time": "2022-02-09T18:16:44.713Z"
      },
      {
        "duration": 3,
        "start_time": "2022-02-09T18:16:45.096Z"
      },
      {
        "duration": 11,
        "start_time": "2022-02-09T18:16:45.100Z"
      },
      {
        "duration": 14,
        "start_time": "2022-02-09T18:16:45.113Z"
      },
      {
        "duration": 25,
        "start_time": "2022-02-09T18:16:45.128Z"
      },
      {
        "duration": 398,
        "start_time": "2022-02-09T18:16:45.155Z"
      },
      {
        "duration": 4,
        "start_time": "2022-02-09T18:16:45.559Z"
      },
      {
        "duration": 14,
        "start_time": "2022-02-09T18:16:45.565Z"
      },
      {
        "duration": 404,
        "start_time": "2022-02-09T18:16:45.581Z"
      },
      {
        "duration": 4,
        "start_time": "2022-02-09T18:16:45.988Z"
      },
      {
        "duration": 77,
        "start_time": "2022-02-09T18:16:45.993Z"
      },
      {
        "duration": 8,
        "start_time": "2022-02-09T18:16:46.072Z"
      },
      {
        "duration": 401,
        "start_time": "2022-02-09T18:16:46.082Z"
      },
      {
        "duration": 4,
        "start_time": "2022-02-09T18:16:46.484Z"
      },
      {
        "duration": 12,
        "start_time": "2022-02-09T18:16:46.490Z"
      },
      {
        "duration": 12,
        "start_time": "2022-02-09T18:16:46.504Z"
      },
      {
        "duration": 4,
        "start_time": "2022-02-09T18:16:46.518Z"
      },
      {
        "duration": 8,
        "start_time": "2022-02-09T18:16:46.524Z"
      },
      {
        "duration": 25,
        "start_time": "2022-02-09T18:16:46.534Z"
      },
      {
        "duration": 8,
        "start_time": "2022-02-09T18:16:46.561Z"
      },
      {
        "duration": 4,
        "start_time": "2022-02-09T18:16:46.570Z"
      },
      {
        "duration": 6,
        "start_time": "2022-02-09T18:16:46.576Z"
      },
      {
        "duration": 5,
        "start_time": "2022-02-09T18:17:28.615Z"
      },
      {
        "duration": 252,
        "start_time": "2022-02-09T18:17:58.980Z"
      },
      {
        "duration": 4,
        "start_time": "2022-02-09T18:18:02.466Z"
      },
      {
        "duration": 4,
        "start_time": "2022-02-09T18:18:34.387Z"
      },
      {
        "duration": 5,
        "start_time": "2022-02-09T18:18:50.792Z"
      },
      {
        "duration": 5,
        "start_time": "2022-02-09T18:19:14.301Z"
      },
      {
        "duration": 3,
        "start_time": "2022-02-09T18:20:15.447Z"
      },
      {
        "duration": 51,
        "start_time": "2022-02-09T18:20:40.142Z"
      },
      {
        "duration": 5,
        "start_time": "2022-02-09T18:20:44.197Z"
      },
      {
        "duration": 25,
        "start_time": "2022-02-09T18:20:48.328Z"
      },
      {
        "duration": 14,
        "start_time": "2022-02-09T18:23:17.115Z"
      },
      {
        "duration": 5,
        "start_time": "2022-02-09T18:23:23.101Z"
      },
      {
        "duration": 323,
        "start_time": "2022-02-09T18:23:53.308Z"
      },
      {
        "duration": 233,
        "start_time": "2022-02-09T18:23:58.078Z"
      },
      {
        "duration": 8,
        "start_time": "2022-02-09T18:26:32.006Z"
      },
      {
        "duration": 259,
        "start_time": "2022-02-09T18:29:57.492Z"
      },
      {
        "duration": 1068,
        "start_time": "2022-02-09T18:31:52.996Z"
      },
      {
        "duration": 708,
        "start_time": "2022-02-09T18:31:54.065Z"
      },
      {
        "duration": 22,
        "start_time": "2022-02-09T18:31:54.775Z"
      },
      {
        "duration": 19,
        "start_time": "2022-02-09T18:31:54.799Z"
      },
      {
        "duration": 12,
        "start_time": "2022-02-09T18:31:54.819Z"
      },
      {
        "duration": 38,
        "start_time": "2022-02-09T18:31:54.833Z"
      },
      {
        "duration": 9,
        "start_time": "2022-02-09T18:31:54.873Z"
      },
      {
        "duration": 13,
        "start_time": "2022-02-09T18:31:54.884Z"
      },
      {
        "duration": 74,
        "start_time": "2022-02-09T18:31:54.899Z"
      },
      {
        "duration": 45,
        "start_time": "2022-02-09T18:31:54.974Z"
      },
      {
        "duration": 202,
        "start_time": "2022-02-09T18:31:55.020Z"
      },
      {
        "duration": 7,
        "start_time": "2022-02-09T18:31:55.225Z"
      },
      {
        "duration": 137,
        "start_time": "2022-02-09T18:31:55.234Z"
      },
      {
        "duration": 6,
        "start_time": "2022-02-09T18:31:55.373Z"
      },
      {
        "duration": 9,
        "start_time": "2022-02-09T18:31:55.381Z"
      },
      {
        "duration": 15,
        "start_time": "2022-02-09T18:31:55.392Z"
      },
      {
        "duration": 15,
        "start_time": "2022-02-09T18:31:55.409Z"
      },
      {
        "duration": 3,
        "start_time": "2022-02-09T18:31:55.425Z"
      },
      {
        "duration": 45,
        "start_time": "2022-02-09T18:31:55.429Z"
      },
      {
        "duration": 9,
        "start_time": "2022-02-09T18:31:55.476Z"
      },
      {
        "duration": 83,
        "start_time": "2022-02-09T18:31:55.487Z"
      },
      {
        "duration": 10,
        "start_time": "2022-02-09T18:31:55.572Z"
      },
      {
        "duration": 5,
        "start_time": "2022-02-09T18:31:55.585Z"
      },
      {
        "duration": 3516,
        "start_time": "2022-02-09T18:31:55.592Z"
      },
      {
        "duration": 14,
        "start_time": "2022-02-09T18:31:59.110Z"
      },
      {
        "duration": 5,
        "start_time": "2022-02-09T18:31:59.125Z"
      },
      {
        "duration": 96,
        "start_time": "2022-02-09T18:31:59.132Z"
      },
      {
        "duration": 9,
        "start_time": "2022-02-09T18:31:59.230Z"
      },
      {
        "duration": 5,
        "start_time": "2022-02-09T18:31:59.240Z"
      },
      {
        "duration": 6,
        "start_time": "2022-02-09T18:31:59.259Z"
      },
      {
        "duration": 7,
        "start_time": "2022-02-09T18:31:59.267Z"
      },
      {
        "duration": 10,
        "start_time": "2022-02-09T18:31:59.276Z"
      },
      {
        "duration": 18,
        "start_time": "2022-02-09T18:31:59.287Z"
      },
      {
        "duration": 199,
        "start_time": "2022-02-09T18:31:59.307Z"
      },
      {
        "duration": 361,
        "start_time": "2022-02-09T18:31:59.507Z"
      },
      {
        "duration": 3,
        "start_time": "2022-02-09T18:31:59.869Z"
      },
      {
        "duration": 29,
        "start_time": "2022-02-09T18:31:59.874Z"
      },
      {
        "duration": 11,
        "start_time": "2022-02-09T18:31:59.905Z"
      },
      {
        "duration": 12,
        "start_time": "2022-02-09T18:31:59.918Z"
      },
      {
        "duration": 435,
        "start_time": "2022-02-09T18:31:59.931Z"
      },
      {
        "duration": 5,
        "start_time": "2022-02-09T18:32:00.367Z"
      },
      {
        "duration": 28,
        "start_time": "2022-02-09T18:32:00.374Z"
      },
      {
        "duration": 407,
        "start_time": "2022-02-09T18:32:00.404Z"
      },
      {
        "duration": 3,
        "start_time": "2022-02-09T18:32:00.812Z"
      },
      {
        "duration": 78,
        "start_time": "2022-02-09T18:32:00.816Z"
      },
      {
        "duration": 8,
        "start_time": "2022-02-09T18:32:00.896Z"
      },
      {
        "duration": 415,
        "start_time": "2022-02-09T18:32:00.906Z"
      },
      {
        "duration": 3,
        "start_time": "2022-02-09T18:32:01.323Z"
      },
      {
        "duration": 18,
        "start_time": "2022-02-09T18:32:01.328Z"
      },
      {
        "duration": 24,
        "start_time": "2022-02-09T18:32:01.348Z"
      },
      {
        "duration": 8,
        "start_time": "2022-02-09T18:32:01.373Z"
      },
      {
        "duration": 19,
        "start_time": "2022-02-09T18:32:01.383Z"
      },
      {
        "duration": 21,
        "start_time": "2022-02-09T18:32:01.405Z"
      },
      {
        "duration": 21,
        "start_time": "2022-02-09T18:32:01.428Z"
      },
      {
        "duration": 13,
        "start_time": "2022-02-09T18:32:01.450Z"
      },
      {
        "duration": 20,
        "start_time": "2022-02-09T18:32:01.465Z"
      },
      {
        "duration": 7,
        "start_time": "2022-02-09T18:32:01.487Z"
      },
      {
        "duration": 7,
        "start_time": "2022-02-09T18:32:01.496Z"
      },
      {
        "duration": 3,
        "start_time": "2022-02-09T18:32:43.479Z"
      },
      {
        "duration": 4,
        "start_time": "2022-02-09T18:32:50.620Z"
      },
      {
        "duration": 279,
        "start_time": "2022-02-09T18:35:16.396Z"
      },
      {
        "duration": 325,
        "start_time": "2022-02-09T18:35:55.727Z"
      },
      {
        "duration": 5,
        "start_time": "2022-02-09T18:36:12.741Z"
      },
      {
        "duration": 4,
        "start_time": "2022-02-09T18:36:14.925Z"
      },
      {
        "duration": 4,
        "start_time": "2022-02-09T18:36:15.740Z"
      },
      {
        "duration": 10,
        "start_time": "2022-02-09T18:36:24.887Z"
      },
      {
        "duration": 34,
        "start_time": "2022-02-09T18:36:31.302Z"
      },
      {
        "duration": 9,
        "start_time": "2022-02-09T18:36:48.491Z"
      },
      {
        "duration": 29,
        "start_time": "2022-02-09T18:37:00.080Z"
      },
      {
        "duration": 9,
        "start_time": "2022-02-09T18:37:08.082Z"
      },
      {
        "duration": 25,
        "start_time": "2022-02-09T18:37:15.414Z"
      },
      {
        "duration": 77,
        "start_time": "2022-02-09T18:38:22.820Z"
      },
      {
        "duration": 8,
        "start_time": "2022-02-09T18:39:01.367Z"
      },
      {
        "duration": 19,
        "start_time": "2022-02-09T18:40:38.852Z"
      },
      {
        "duration": 1030,
        "start_time": "2022-02-10T04:37:19.230Z"
      },
      {
        "duration": 685,
        "start_time": "2022-02-10T04:37:20.262Z"
      },
      {
        "duration": 24,
        "start_time": "2022-02-10T04:37:20.951Z"
      },
      {
        "duration": 18,
        "start_time": "2022-02-10T04:37:20.977Z"
      },
      {
        "duration": 5,
        "start_time": "2022-02-10T04:37:20.996Z"
      },
      {
        "duration": 15,
        "start_time": "2022-02-10T04:37:21.002Z"
      },
      {
        "duration": 9,
        "start_time": "2022-02-10T04:37:21.019Z"
      },
      {
        "duration": 3,
        "start_time": "2022-02-10T04:37:21.030Z"
      },
      {
        "duration": 94,
        "start_time": "2022-02-10T04:37:21.034Z"
      },
      {
        "duration": 49,
        "start_time": "2022-02-10T04:37:21.130Z"
      },
      {
        "duration": 130,
        "start_time": "2022-02-10T04:37:21.180Z"
      },
      {
        "duration": 8,
        "start_time": "2022-02-10T04:37:21.311Z"
      },
      {
        "duration": 15,
        "start_time": "2022-02-10T04:37:21.320Z"
      },
      {
        "duration": 5,
        "start_time": "2022-02-10T04:37:21.337Z"
      },
      {
        "duration": 4,
        "start_time": "2022-02-10T04:37:21.343Z"
      },
      {
        "duration": 14,
        "start_time": "2022-02-10T04:37:21.371Z"
      },
      {
        "duration": 15,
        "start_time": "2022-02-10T04:37:21.386Z"
      },
      {
        "duration": 2,
        "start_time": "2022-02-10T04:37:21.402Z"
      },
      {
        "duration": 16,
        "start_time": "2022-02-10T04:37:21.406Z"
      },
      {
        "duration": 8,
        "start_time": "2022-02-10T04:37:21.423Z"
      },
      {
        "duration": 88,
        "start_time": "2022-02-10T04:37:21.433Z"
      },
      {
        "duration": 9,
        "start_time": "2022-02-10T04:37:21.524Z"
      },
      {
        "duration": 5,
        "start_time": "2022-02-10T04:37:21.535Z"
      },
      {
        "duration": 3396,
        "start_time": "2022-02-10T04:37:21.541Z"
      },
      {
        "duration": 13,
        "start_time": "2022-02-10T04:37:24.939Z"
      },
      {
        "duration": 18,
        "start_time": "2022-02-10T04:37:24.953Z"
      },
      {
        "duration": 76,
        "start_time": "2022-02-10T04:37:24.973Z"
      },
      {
        "duration": 8,
        "start_time": "2022-02-10T04:37:25.051Z"
      },
      {
        "duration": 13,
        "start_time": "2022-02-10T04:37:25.060Z"
      },
      {
        "duration": 7,
        "start_time": "2022-02-10T04:37:25.075Z"
      },
      {
        "duration": 5,
        "start_time": "2022-02-10T04:37:25.083Z"
      },
      {
        "duration": 8,
        "start_time": "2022-02-10T04:37:25.090Z"
      },
      {
        "duration": 7,
        "start_time": "2022-02-10T04:37:25.099Z"
      },
      {
        "duration": 184,
        "start_time": "2022-02-10T04:37:25.107Z"
      },
      {
        "duration": 357,
        "start_time": "2022-02-10T04:37:25.293Z"
      },
      {
        "duration": 3,
        "start_time": "2022-02-10T04:37:25.651Z"
      },
      {
        "duration": 17,
        "start_time": "2022-02-10T04:37:25.655Z"
      },
      {
        "duration": 5,
        "start_time": "2022-02-10T04:37:25.673Z"
      },
      {
        "duration": 6,
        "start_time": "2022-02-10T04:37:25.679Z"
      },
      {
        "duration": 371,
        "start_time": "2022-02-10T04:37:25.686Z"
      },
      {
        "duration": 4,
        "start_time": "2022-02-10T04:37:26.058Z"
      },
      {
        "duration": 20,
        "start_time": "2022-02-10T04:37:26.063Z"
      },
      {
        "duration": 402,
        "start_time": "2022-02-10T04:37:26.084Z"
      },
      {
        "duration": 3,
        "start_time": "2022-02-10T04:37:26.487Z"
      },
      {
        "duration": 61,
        "start_time": "2022-02-10T04:37:26.491Z"
      },
      {
        "duration": 18,
        "start_time": "2022-02-10T04:37:26.553Z"
      },
      {
        "duration": 405,
        "start_time": "2022-02-10T04:37:26.573Z"
      },
      {
        "duration": 4,
        "start_time": "2022-02-10T04:37:26.980Z"
      },
      {
        "duration": 16,
        "start_time": "2022-02-10T04:37:26.986Z"
      },
      {
        "duration": 17,
        "start_time": "2022-02-10T04:37:27.003Z"
      },
      {
        "duration": 10,
        "start_time": "2022-02-10T04:37:27.021Z"
      },
      {
        "duration": 17,
        "start_time": "2022-02-10T04:37:27.032Z"
      },
      {
        "duration": 19,
        "start_time": "2022-02-10T04:37:27.050Z"
      },
      {
        "duration": 2,
        "start_time": "2022-02-10T04:37:27.071Z"
      },
      {
        "duration": 18,
        "start_time": "2022-02-10T04:37:27.075Z"
      },
      {
        "duration": 21,
        "start_time": "2022-02-10T04:37:27.094Z"
      },
      {
        "duration": 460,
        "start_time": "2022-02-10T04:37:27.117Z"
      },
      {
        "duration": 5,
        "start_time": "2022-02-10T04:37:47.075Z"
      },
      {
        "duration": 5,
        "start_time": "2022-02-10T04:38:07.171Z"
      },
      {
        "duration": 4,
        "start_time": "2022-02-10T04:38:25.724Z"
      },
      {
        "duration": 3,
        "start_time": "2022-02-10T04:38:48.368Z"
      },
      {
        "duration": 684,
        "start_time": "2022-02-10T04:38:48.373Z"
      },
      {
        "duration": 19,
        "start_time": "2022-02-10T04:38:49.059Z"
      },
      {
        "duration": 19,
        "start_time": "2022-02-10T04:38:49.080Z"
      },
      {
        "duration": 5,
        "start_time": "2022-02-10T04:38:49.100Z"
      },
      {
        "duration": 18,
        "start_time": "2022-02-10T04:38:49.106Z"
      },
      {
        "duration": 9,
        "start_time": "2022-02-10T04:38:49.126Z"
      },
      {
        "duration": 3,
        "start_time": "2022-02-10T04:38:49.137Z"
      },
      {
        "duration": 96,
        "start_time": "2022-02-10T04:38:49.141Z"
      },
      {
        "duration": 116,
        "start_time": "2022-02-10T04:38:49.239Z"
      },
      {
        "duration": 123,
        "start_time": "2022-02-10T04:38:49.356Z"
      },
      {
        "duration": 5,
        "start_time": "2022-02-10T04:38:49.481Z"
      },
      {
        "duration": 17,
        "start_time": "2022-02-10T04:38:49.487Z"
      },
      {
        "duration": 5,
        "start_time": "2022-02-10T04:38:49.505Z"
      },
      {
        "duration": 4,
        "start_time": "2022-02-10T04:38:49.511Z"
      },
      {
        "duration": 15,
        "start_time": "2022-02-10T04:38:49.516Z"
      },
      {
        "duration": 41,
        "start_time": "2022-02-10T04:38:49.532Z"
      },
      {
        "duration": 3,
        "start_time": "2022-02-10T04:38:49.574Z"
      },
      {
        "duration": 15,
        "start_time": "2022-02-10T04:38:49.580Z"
      },
      {
        "duration": 5,
        "start_time": "2022-02-10T04:38:49.597Z"
      },
      {
        "duration": 83,
        "start_time": "2022-02-10T04:38:49.604Z"
      },
      {
        "duration": 8,
        "start_time": "2022-02-10T04:38:49.688Z"
      },
      {
        "duration": 4,
        "start_time": "2022-02-10T04:38:49.698Z"
      },
      {
        "duration": 3547,
        "start_time": "2022-02-10T04:38:49.703Z"
      },
      {
        "duration": 13,
        "start_time": "2022-02-10T04:38:53.252Z"
      },
      {
        "duration": 7,
        "start_time": "2022-02-10T04:38:53.266Z"
      },
      {
        "duration": 79,
        "start_time": "2022-02-10T04:38:53.275Z"
      },
      {
        "duration": 9,
        "start_time": "2022-02-10T04:38:53.356Z"
      },
      {
        "duration": 8,
        "start_time": "2022-02-10T04:38:53.366Z"
      },
      {
        "duration": 8,
        "start_time": "2022-02-10T04:38:53.376Z"
      },
      {
        "duration": 5,
        "start_time": "2022-02-10T04:38:53.386Z"
      },
      {
        "duration": 5,
        "start_time": "2022-02-10T04:38:53.393Z"
      },
      {
        "duration": 9,
        "start_time": "2022-02-10T04:38:53.399Z"
      },
      {
        "duration": 158,
        "start_time": "2022-02-10T04:38:53.409Z"
      },
      {
        "duration": 420,
        "start_time": "2022-02-10T04:38:53.569Z"
      },
      {
        "duration": 2,
        "start_time": "2022-02-10T04:38:53.991Z"
      },
      {
        "duration": 7,
        "start_time": "2022-02-10T04:38:53.995Z"
      },
      {
        "duration": 4,
        "start_time": "2022-02-10T04:38:54.004Z"
      },
      {
        "duration": 8,
        "start_time": "2022-02-10T04:38:54.009Z"
      },
      {
        "duration": 414,
        "start_time": "2022-02-10T04:38:54.018Z"
      },
      {
        "duration": 4,
        "start_time": "2022-02-10T04:38:54.433Z"
      },
      {
        "duration": 11,
        "start_time": "2022-02-10T04:38:54.439Z"
      },
      {
        "duration": 404,
        "start_time": "2022-02-10T04:38:54.451Z"
      },
      {
        "duration": 2,
        "start_time": "2022-02-10T04:38:54.857Z"
      },
      {
        "duration": 67,
        "start_time": "2022-02-10T04:38:54.861Z"
      },
      {
        "duration": 10,
        "start_time": "2022-02-10T04:38:54.930Z"
      },
      {
        "duration": 425,
        "start_time": "2022-02-10T04:38:54.941Z"
      },
      {
        "duration": 4,
        "start_time": "2022-02-10T04:38:55.368Z"
      },
      {
        "duration": 17,
        "start_time": "2022-02-10T04:38:55.373Z"
      },
      {
        "duration": 17,
        "start_time": "2022-02-10T04:38:55.392Z"
      },
      {
        "duration": 6,
        "start_time": "2022-02-10T04:38:55.411Z"
      },
      {
        "duration": 5,
        "start_time": "2022-02-10T04:38:55.419Z"
      },
      {
        "duration": 13,
        "start_time": "2022-02-10T04:38:55.426Z"
      },
      {
        "duration": 3,
        "start_time": "2022-02-10T04:38:55.440Z"
      },
      {
        "duration": 7,
        "start_time": "2022-02-10T04:38:55.447Z"
      },
      {
        "duration": 12,
        "start_time": "2022-02-10T04:38:55.455Z"
      },
      {
        "duration": 21,
        "start_time": "2022-02-10T04:38:55.471Z"
      },
      {
        "duration": 4,
        "start_time": "2022-02-10T04:39:40.123Z"
      },
      {
        "duration": 3,
        "start_time": "2022-02-10T04:44:33.369Z"
      },
      {
        "duration": 1045,
        "start_time": "2022-02-10T04:58:18.414Z"
      },
      {
        "duration": 707,
        "start_time": "2022-02-10T04:58:19.461Z"
      },
      {
        "duration": 22,
        "start_time": "2022-02-10T04:58:20.172Z"
      },
      {
        "duration": 17,
        "start_time": "2022-02-10T04:58:20.196Z"
      },
      {
        "duration": 5,
        "start_time": "2022-02-10T04:58:20.214Z"
      },
      {
        "duration": 14,
        "start_time": "2022-02-10T04:58:20.220Z"
      },
      {
        "duration": 37,
        "start_time": "2022-02-10T04:58:20.236Z"
      },
      {
        "duration": 3,
        "start_time": "2022-02-10T04:58:20.275Z"
      },
      {
        "duration": 66,
        "start_time": "2022-02-10T04:58:20.280Z"
      },
      {
        "duration": 53,
        "start_time": "2022-02-10T04:58:20.347Z"
      },
      {
        "duration": 129,
        "start_time": "2022-02-10T04:58:20.402Z"
      },
      {
        "duration": 7,
        "start_time": "2022-02-10T04:58:20.533Z"
      },
      {
        "duration": 14,
        "start_time": "2022-02-10T04:58:20.542Z"
      },
      {
        "duration": 4,
        "start_time": "2022-02-10T04:58:20.572Z"
      },
      {
        "duration": 6,
        "start_time": "2022-02-10T04:58:20.577Z"
      },
      {
        "duration": 13,
        "start_time": "2022-02-10T04:58:20.585Z"
      },
      {
        "duration": 14,
        "start_time": "2022-02-10T04:58:20.600Z"
      },
      {
        "duration": 3,
        "start_time": "2022-02-10T04:58:20.615Z"
      },
      {
        "duration": 14,
        "start_time": "2022-02-10T04:58:20.620Z"
      },
      {
        "duration": 42,
        "start_time": "2022-02-10T04:58:20.636Z"
      },
      {
        "duration": 62,
        "start_time": "2022-02-10T04:58:20.679Z"
      },
      {
        "duration": 8,
        "start_time": "2022-02-10T04:58:20.743Z"
      },
      {
        "duration": 21,
        "start_time": "2022-02-10T04:58:20.754Z"
      },
      {
        "duration": 3296,
        "start_time": "2022-02-10T04:58:20.777Z"
      },
      {
        "duration": 12,
        "start_time": "2022-02-10T04:58:24.074Z"
      },
      {
        "duration": 5,
        "start_time": "2022-02-10T04:58:24.087Z"
      },
      {
        "duration": 90,
        "start_time": "2022-02-10T04:58:24.093Z"
      },
      {
        "duration": 9,
        "start_time": "2022-02-10T04:58:24.184Z"
      },
      {
        "duration": 5,
        "start_time": "2022-02-10T04:58:24.194Z"
      },
      {
        "duration": 6,
        "start_time": "2022-02-10T04:58:24.201Z"
      },
      {
        "duration": 5,
        "start_time": "2022-02-10T04:58:24.209Z"
      },
      {
        "duration": 7,
        "start_time": "2022-02-10T04:58:24.216Z"
      },
      {
        "duration": 8,
        "start_time": "2022-02-10T04:58:24.225Z"
      },
      {
        "duration": 189,
        "start_time": "2022-02-10T04:58:24.234Z"
      },
      {
        "duration": 365,
        "start_time": "2022-02-10T04:58:24.425Z"
      },
      {
        "duration": 2,
        "start_time": "2022-02-10T04:58:24.792Z"
      },
      {
        "duration": 7,
        "start_time": "2022-02-10T04:58:24.796Z"
      },
      {
        "duration": 4,
        "start_time": "2022-02-10T04:58:24.805Z"
      },
      {
        "duration": 6,
        "start_time": "2022-02-10T04:58:24.811Z"
      },
      {
        "duration": 362,
        "start_time": "2022-02-10T04:58:24.819Z"
      },
      {
        "duration": 4,
        "start_time": "2022-02-10T04:58:25.183Z"
      },
      {
        "duration": 14,
        "start_time": "2022-02-10T04:58:25.188Z"
      },
      {
        "duration": 389,
        "start_time": "2022-02-10T04:58:25.204Z"
      },
      {
        "duration": 3,
        "start_time": "2022-02-10T04:58:25.594Z"
      },
      {
        "duration": 81,
        "start_time": "2022-02-10T04:58:25.598Z"
      },
      {
        "duration": 10,
        "start_time": "2022-02-10T04:58:25.680Z"
      },
      {
        "duration": 403,
        "start_time": "2022-02-10T04:58:25.691Z"
      },
      {
        "duration": 4,
        "start_time": "2022-02-10T04:58:26.096Z"
      },
      {
        "duration": 13,
        "start_time": "2022-02-10T04:58:26.101Z"
      },
      {
        "duration": 9,
        "start_time": "2022-02-10T04:58:26.116Z"
      },
      {
        "duration": 7,
        "start_time": "2022-02-10T04:58:26.126Z"
      },
      {
        "duration": 6,
        "start_time": "2022-02-10T04:58:26.135Z"
      },
      {
        "duration": 38,
        "start_time": "2022-02-10T04:58:26.143Z"
      },
      {
        "duration": 3,
        "start_time": "2022-02-10T04:58:26.183Z"
      },
      {
        "duration": 10,
        "start_time": "2022-02-10T04:58:26.188Z"
      },
      {
        "duration": 11,
        "start_time": "2022-02-10T04:58:26.200Z"
      },
      {
        "duration": 4,
        "start_time": "2022-02-10T04:58:26.212Z"
      },
      {
        "duration": 8,
        "start_time": "2022-02-10T04:58:26.217Z"
      },
      {
        "duration": 159,
        "start_time": "2022-02-10T04:58:41.640Z"
      },
      {
        "duration": 339,
        "start_time": "2022-02-10T04:58:58.777Z"
      },
      {
        "duration": 153,
        "start_time": "2022-02-10T04:59:07.836Z"
      },
      {
        "duration": 14,
        "start_time": "2022-02-10T05:27:25.411Z"
      },
      {
        "duration": 53,
        "start_time": "2022-02-10T05:30:14.021Z"
      },
      {
        "duration": 5,
        "start_time": "2022-02-10T05:30:17.325Z"
      },
      {
        "duration": 5,
        "start_time": "2022-02-10T05:30:19.670Z"
      },
      {
        "duration": 1426,
        "start_time": "2022-02-10T05:30:20.452Z"
      },
      {
        "duration": 4,
        "start_time": "2022-02-10T05:30:42.967Z"
      },
      {
        "duration": 8,
        "start_time": "2022-02-10T05:31:31.665Z"
      },
      {
        "duration": 311,
        "start_time": "2022-02-10T05:33:08.588Z"
      },
      {
        "duration": 8,
        "start_time": "2022-02-10T05:33:33.959Z"
      },
      {
        "duration": 4,
        "start_time": "2022-02-10T05:36:17.623Z"
      },
      {
        "duration": 18,
        "start_time": "2022-02-10T05:37:09.586Z"
      },
      {
        "duration": 6,
        "start_time": "2022-02-10T05:37:10.259Z"
      },
      {
        "duration": 5,
        "start_time": "2022-02-10T05:37:10.683Z"
      },
      {
        "duration": 624,
        "start_time": "2022-02-10T05:37:11.547Z"
      },
      {
        "duration": 4,
        "start_time": "2022-02-10T05:38:35.628Z"
      },
      {
        "duration": 616,
        "start_time": "2022-02-10T05:38:38.614Z"
      },
      {
        "duration": 303,
        "start_time": "2022-02-10T05:39:12.939Z"
      },
      {
        "duration": 298,
        "start_time": "2022-02-10T05:39:19.930Z"
      },
      {
        "duration": 10,
        "start_time": "2022-02-10T05:39:31.999Z"
      },
      {
        "duration": 315,
        "start_time": "2022-02-10T05:39:44.572Z"
      },
      {
        "duration": 314,
        "start_time": "2022-02-10T05:39:53.457Z"
      },
      {
        "duration": 4,
        "start_time": "2022-02-10T05:40:10.140Z"
      },
      {
        "duration": 12,
        "start_time": "2022-02-10T05:40:38.084Z"
      },
      {
        "duration": 3,
        "start_time": "2022-02-10T05:41:36.587Z"
      },
      {
        "duration": 6,
        "start_time": "2022-02-10T05:41:43.518Z"
      },
      {
        "duration": 6,
        "start_time": "2022-02-10T05:41:52.139Z"
      },
      {
        "duration": 4,
        "start_time": "2022-02-10T05:43:06.549Z"
      },
      {
        "duration": 18,
        "start_time": "2022-02-10T05:43:14.705Z"
      },
      {
        "duration": 5,
        "start_time": "2022-02-10T05:43:15.282Z"
      },
      {
        "duration": 5,
        "start_time": "2022-02-10T05:43:16.523Z"
      },
      {
        "duration": 660,
        "start_time": "2022-02-10T05:43:19.630Z"
      },
      {
        "duration": 3,
        "start_time": "2022-02-10T05:44:13.156Z"
      },
      {
        "duration": 7,
        "start_time": "2022-02-10T05:44:34.261Z"
      },
      {
        "duration": 8,
        "start_time": "2022-02-10T05:44:46.827Z"
      },
      {
        "duration": 6,
        "start_time": "2022-02-10T05:44:50.358Z"
      },
      {
        "duration": 5,
        "start_time": "2022-02-10T05:45:20.521Z"
      },
      {
        "duration": 7,
        "start_time": "2022-02-10T05:46:20.102Z"
      },
      {
        "duration": 7,
        "start_time": "2022-02-10T05:46:33.404Z"
      },
      {
        "duration": 5,
        "start_time": "2022-02-10T05:46:36.955Z"
      },
      {
        "duration": 4,
        "start_time": "2022-02-10T05:46:39.067Z"
      },
      {
        "duration": 9,
        "start_time": "2022-02-10T05:47:53.516Z"
      },
      {
        "duration": 6,
        "start_time": "2022-02-10T05:49:19.745Z"
      },
      {
        "duration": 102,
        "start_time": "2022-02-10T05:52:05.739Z"
      },
      {
        "duration": 4,
        "start_time": "2022-02-10T05:52:39.299Z"
      },
      {
        "duration": 18,
        "start_time": "2022-02-10T05:52:43.557Z"
      },
      {
        "duration": 8,
        "start_time": "2022-02-10T05:52:44.341Z"
      },
      {
        "duration": 5,
        "start_time": "2022-02-10T05:52:45.388Z"
      },
      {
        "duration": 623,
        "start_time": "2022-02-10T05:52:49.103Z"
      },
      {
        "duration": 4,
        "start_time": "2022-02-10T05:53:05.098Z"
      },
      {
        "duration": 17,
        "start_time": "2022-02-10T05:53:08.528Z"
      },
      {
        "duration": 7,
        "start_time": "2022-02-10T05:53:09.157Z"
      },
      {
        "duration": 5,
        "start_time": "2022-02-10T05:53:09.755Z"
      },
      {
        "duration": 654,
        "start_time": "2022-02-10T05:53:10.490Z"
      },
      {
        "duration": 4,
        "start_time": "2022-02-10T05:53:50.616Z"
      },
      {
        "duration": 3,
        "start_time": "2022-02-10T05:54:10.725Z"
      },
      {
        "duration": 8,
        "start_time": "2022-02-10T05:54:17.902Z"
      },
      {
        "duration": 9,
        "start_time": "2022-02-10T05:54:32.273Z"
      },
      {
        "duration": 6,
        "start_time": "2022-02-10T05:55:26.118Z"
      },
      {
        "duration": 105,
        "start_time": "2022-02-10T05:55:51.411Z"
      },
      {
        "duration": 7,
        "start_time": "2022-02-10T05:56:08.960Z"
      },
      {
        "duration": 6,
        "start_time": "2022-02-10T05:56:41.175Z"
      },
      {
        "duration": 6,
        "start_time": "2022-02-10T05:56:54.710Z"
      },
      {
        "duration": 6,
        "start_time": "2022-02-10T05:57:12.984Z"
      },
      {
        "duration": 6,
        "start_time": "2022-02-10T05:57:24.667Z"
      },
      {
        "duration": 6,
        "start_time": "2022-02-10T05:57:31.504Z"
      },
      {
        "duration": 3,
        "start_time": "2022-02-10T05:57:45.073Z"
      },
      {
        "duration": 3,
        "start_time": "2022-02-10T05:57:47.970Z"
      },
      {
        "duration": 6,
        "start_time": "2022-02-10T05:58:11.888Z"
      },
      {
        "duration": 4,
        "start_time": "2022-02-10T05:58:32.832Z"
      },
      {
        "duration": 5,
        "start_time": "2022-02-10T05:58:45.110Z"
      },
      {
        "duration": 4,
        "start_time": "2022-02-10T05:58:57.080Z"
      },
      {
        "duration": 5,
        "start_time": "2022-02-10T05:59:07.260Z"
      },
      {
        "duration": 4,
        "start_time": "2022-02-10T05:59:42.044Z"
      },
      {
        "duration": 5,
        "start_time": "2022-02-10T06:01:47.154Z"
      },
      {
        "duration": 3,
        "start_time": "2022-02-10T06:01:52.090Z"
      },
      {
        "duration": 4,
        "start_time": "2022-02-10T06:02:33.524Z"
      },
      {
        "duration": 15,
        "start_time": "2022-02-10T06:02:57.174Z"
      },
      {
        "duration": 6,
        "start_time": "2022-02-10T06:02:57.891Z"
      },
      {
        "duration": 5,
        "start_time": "2022-02-10T06:02:58.562Z"
      },
      {
        "duration": 8,
        "start_time": "2022-02-10T06:02:59.487Z"
      },
      {
        "duration": 6,
        "start_time": "2022-02-10T06:03:00.970Z"
      },
      {
        "duration": 4,
        "start_time": "2022-02-10T06:03:34.091Z"
      },
      {
        "duration": 16,
        "start_time": "2022-02-10T06:03:37.426Z"
      },
      {
        "duration": 4,
        "start_time": "2022-02-10T06:03:37.984Z"
      },
      {
        "duration": 5,
        "start_time": "2022-02-10T06:03:38.494Z"
      },
      {
        "duration": 8,
        "start_time": "2022-02-10T06:03:38.988Z"
      },
      {
        "duration": 7,
        "start_time": "2022-02-10T06:03:39.608Z"
      },
      {
        "duration": 4,
        "start_time": "2022-02-10T06:04:08.738Z"
      },
      {
        "duration": 17,
        "start_time": "2022-02-10T06:04:12.206Z"
      },
      {
        "duration": 5,
        "start_time": "2022-02-10T06:04:12.735Z"
      },
      {
        "duration": 5,
        "start_time": "2022-02-10T06:04:13.147Z"
      },
      {
        "duration": 8,
        "start_time": "2022-02-10T06:04:13.677Z"
      },
      {
        "duration": 6,
        "start_time": "2022-02-10T06:04:14.176Z"
      },
      {
        "duration": 8,
        "start_time": "2022-02-10T06:04:51.936Z"
      },
      {
        "duration": 6,
        "start_time": "2022-02-10T06:05:04.482Z"
      },
      {
        "duration": 3,
        "start_time": "2022-02-10T06:05:07.880Z"
      },
      {
        "duration": 3,
        "start_time": "2022-02-10T06:05:11.871Z"
      },
      {
        "duration": 4,
        "start_time": "2022-02-10T06:05:18.463Z"
      },
      {
        "duration": 6,
        "start_time": "2022-02-10T06:05:31.512Z"
      },
      {
        "duration": 3,
        "start_time": "2022-02-10T06:05:33.519Z"
      },
      {
        "duration": 6,
        "start_time": "2022-02-10T06:05:55.509Z"
      },
      {
        "duration": 4,
        "start_time": "2022-02-10T06:05:57.480Z"
      },
      {
        "duration": 4,
        "start_time": "2022-02-10T06:05:58.208Z"
      },
      {
        "duration": 3,
        "start_time": "2022-02-10T06:05:58.687Z"
      },
      {
        "duration": 3,
        "start_time": "2022-02-10T06:06:06.637Z"
      },
      {
        "duration": 4,
        "start_time": "2022-02-10T06:06:23.878Z"
      },
      {
        "duration": 7,
        "start_time": "2022-02-10T06:06:51.250Z"
      },
      {
        "duration": 4,
        "start_time": "2022-02-10T06:06:59.292Z"
      },
      {
        "duration": 3,
        "start_time": "2022-02-10T06:07:03.390Z"
      },
      {
        "duration": 3,
        "start_time": "2022-02-10T06:07:03.958Z"
      },
      {
        "duration": 4,
        "start_time": "2022-02-10T06:07:52.853Z"
      },
      {
        "duration": 17,
        "start_time": "2022-02-10T06:07:57.608Z"
      },
      {
        "duration": 3,
        "start_time": "2022-02-10T06:07:58.074Z"
      },
      {
        "duration": 5,
        "start_time": "2022-02-10T06:07:58.502Z"
      },
      {
        "duration": 8,
        "start_time": "2022-02-10T06:07:58.980Z"
      },
      {
        "duration": 6,
        "start_time": "2022-02-10T06:07:59.610Z"
      },
      {
        "duration": 6,
        "start_time": "2022-02-10T06:08:16.208Z"
      },
      {
        "duration": 7,
        "start_time": "2022-02-10T06:08:17.440Z"
      },
      {
        "duration": 5,
        "start_time": "2022-02-10T06:09:28.819Z"
      },
      {
        "duration": 1248,
        "start_time": "2022-02-10T09:45:20.619Z"
      },
      {
        "duration": 3,
        "start_time": "2022-02-10T10:01:46.663Z"
      },
      {
        "duration": 3504,
        "start_time": "2022-02-10T10:09:49.159Z"
      },
      {
        "duration": 2340,
        "start_time": "2022-02-10T10:10:27.389Z"
      },
      {
        "duration": 19187,
        "start_time": "2022-02-10T10:13:00.109Z"
      },
      {
        "duration": 22869,
        "start_time": "2022-02-10T10:39:07.948Z"
      },
      {
        "duration": 9,
        "start_time": "2022-02-10T10:45:14.893Z"
      },
      {
        "duration": 4,
        "start_time": "2022-02-10T10:49:12.312Z"
      },
      {
        "duration": 17002,
        "start_time": "2022-02-10T10:59:25.909Z"
      },
      {
        "duration": 104,
        "start_time": "2022-02-10T10:59:54.752Z"
      },
      {
        "duration": 4,
        "start_time": "2022-02-10T11:00:19.511Z"
      },
      {
        "duration": 98787,
        "start_time": "2022-02-10T11:02:11.886Z"
      },
      {
        "duration": 6,
        "start_time": "2022-02-10T11:03:50.675Z"
      },
      {
        "duration": 16590,
        "start_time": "2022-02-10T11:10:55.762Z"
      },
      {
        "duration": 89770,
        "start_time": "2022-02-10T11:11:35.902Z"
      },
      {
        "duration": 8,
        "start_time": "2022-02-10T11:13:28.803Z"
      },
      {
        "duration": 8,
        "start_time": "2022-02-10T11:13:29.713Z"
      },
      {
        "duration": 7,
        "start_time": "2022-02-10T11:13:30.476Z"
      },
      {
        "duration": 6,
        "start_time": "2022-02-10T11:13:50.571Z"
      },
      {
        "duration": 7,
        "start_time": "2022-02-10T11:13:53.916Z"
      },
      {
        "duration": 6,
        "start_time": "2022-02-10T11:13:54.965Z"
      },
      {
        "duration": 1132,
        "start_time": "2022-02-10T11:14:06.338Z"
      },
      {
        "duration": 722,
        "start_time": "2022-02-10T11:14:07.471Z"
      },
      {
        "duration": 21,
        "start_time": "2022-02-10T11:14:08.195Z"
      },
      {
        "duration": 17,
        "start_time": "2022-02-10T11:14:08.218Z"
      },
      {
        "duration": 5,
        "start_time": "2022-02-10T11:14:08.236Z"
      },
      {
        "duration": 38,
        "start_time": "2022-02-10T11:14:08.243Z"
      },
      {
        "duration": 9,
        "start_time": "2022-02-10T11:14:08.282Z"
      },
      {
        "duration": 2,
        "start_time": "2022-02-10T11:14:08.293Z"
      },
      {
        "duration": 75,
        "start_time": "2022-02-10T11:14:08.297Z"
      },
      {
        "duration": 41,
        "start_time": "2022-02-10T11:14:08.374Z"
      },
      {
        "duration": 128,
        "start_time": "2022-02-10T11:14:08.416Z"
      },
      {
        "duration": 7,
        "start_time": "2022-02-10T11:14:08.546Z"
      },
      {
        "duration": 23,
        "start_time": "2022-02-10T11:14:08.554Z"
      },
      {
        "duration": 5,
        "start_time": "2022-02-10T11:14:08.578Z"
      },
      {
        "duration": 4,
        "start_time": "2022-02-10T11:14:08.585Z"
      },
      {
        "duration": 15,
        "start_time": "2022-02-10T11:14:08.591Z"
      },
      {
        "duration": 13,
        "start_time": "2022-02-10T11:14:08.607Z"
      },
      {
        "duration": 2,
        "start_time": "2022-02-10T11:14:08.622Z"
      },
      {
        "duration": 17,
        "start_time": "2022-02-10T11:14:08.626Z"
      },
      {
        "duration": 7,
        "start_time": "2022-02-10T11:14:08.671Z"
      },
      {
        "duration": 65,
        "start_time": "2022-02-10T11:14:08.680Z"
      },
      {
        "duration": 9,
        "start_time": "2022-02-10T11:14:08.746Z"
      },
      {
        "duration": 17,
        "start_time": "2022-02-10T11:14:08.758Z"
      },
      {
        "duration": 3335,
        "start_time": "2022-02-10T11:14:08.777Z"
      },
      {
        "duration": 13,
        "start_time": "2022-02-10T11:14:12.113Z"
      },
      {
        "duration": 4,
        "start_time": "2022-02-10T11:14:12.128Z"
      },
      {
        "duration": 92,
        "start_time": "2022-02-10T11:14:12.134Z"
      },
      {
        "duration": 8,
        "start_time": "2022-02-10T11:14:12.228Z"
      },
      {
        "duration": 5,
        "start_time": "2022-02-10T11:14:12.238Z"
      },
      {
        "duration": 7,
        "start_time": "2022-02-10T11:14:12.244Z"
      },
      {
        "duration": 22,
        "start_time": "2022-02-10T11:14:12.253Z"
      },
      {
        "duration": 5,
        "start_time": "2022-02-10T11:14:12.277Z"
      },
      {
        "duration": 11,
        "start_time": "2022-02-10T11:14:12.284Z"
      },
      {
        "duration": 174,
        "start_time": "2022-02-10T11:14:12.297Z"
      },
      {
        "duration": 396,
        "start_time": "2022-02-10T11:14:12.473Z"
      },
      {
        "duration": 3,
        "start_time": "2022-02-10T11:14:12.871Z"
      },
      {
        "duration": 8,
        "start_time": "2022-02-10T11:14:12.875Z"
      },
      {
        "duration": 5,
        "start_time": "2022-02-10T11:14:12.885Z"
      },
      {
        "duration": 8,
        "start_time": "2022-02-10T11:14:12.891Z"
      },
      {
        "duration": 377,
        "start_time": "2022-02-10T11:14:12.901Z"
      },
      {
        "duration": 4,
        "start_time": "2022-02-10T11:14:13.280Z"
      },
      {
        "duration": 12,
        "start_time": "2022-02-10T11:14:13.286Z"
      },
      {
        "duration": 392,
        "start_time": "2022-02-10T11:14:13.300Z"
      },
      {
        "duration": 3,
        "start_time": "2022-02-10T11:14:13.694Z"
      },
      {
        "duration": 57,
        "start_time": "2022-02-10T11:14:13.698Z"
      },
      {
        "duration": 21,
        "start_time": "2022-02-10T11:14:13.756Z"
      },
      {
        "duration": 396,
        "start_time": "2022-02-10T11:14:13.779Z"
      },
      {
        "duration": 3,
        "start_time": "2022-02-10T11:14:14.177Z"
      },
      {
        "duration": 13,
        "start_time": "2022-02-10T11:14:14.181Z"
      },
      {
        "duration": 13,
        "start_time": "2022-02-10T11:14:14.196Z"
      },
      {
        "duration": 7,
        "start_time": "2022-02-10T11:14:14.210Z"
      },
      {
        "duration": 5,
        "start_time": "2022-02-10T11:14:14.218Z"
      },
      {
        "duration": 19,
        "start_time": "2022-02-10T11:14:14.225Z"
      },
      {
        "duration": 3,
        "start_time": "2022-02-10T11:14:14.245Z"
      },
      {
        "duration": 86,
        "start_time": "2022-02-10T11:14:14.249Z"
      },
      {
        "duration": 11,
        "start_time": "2022-02-10T11:14:14.336Z"
      },
      {
        "duration": 2,
        "start_time": "2022-02-10T11:14:14.349Z"
      },
      {
        "duration": 21,
        "start_time": "2022-02-10T11:14:14.352Z"
      },
      {
        "duration": 105,
        "start_time": "2022-02-10T11:14:14.375Z"
      },
      {
        "duration": 100,
        "start_time": "2022-02-10T11:14:14.573Z"
      },
      {
        "duration": 5,
        "start_time": "2022-02-10T11:14:14.676Z"
      },
      {
        "duration": 94,
        "start_time": "2022-02-10T11:14:14.684Z"
      },
      {
        "duration": 12,
        "start_time": "2022-02-10T11:14:14.780Z"
      },
      {
        "duration": 84,
        "start_time": "2022-02-10T11:14:14.793Z"
      },
      {
        "duration": 17127,
        "start_time": "2022-02-10T11:14:14.878Z"
      },
      {
        "duration": 114,
        "start_time": "2022-02-10T11:14:31.893Z"
      },
      {
        "duration": 109,
        "start_time": "2022-02-10T11:14:31.899Z"
      },
      {
        "duration": 104,
        "start_time": "2022-02-10T11:14:31.904Z"
      },
      {
        "duration": 89930,
        "start_time": "2022-02-10T11:17:04.450Z"
      },
      {
        "duration": 7,
        "start_time": "2022-02-10T11:18:57.232Z"
      },
      {
        "duration": 8,
        "start_time": "2022-02-10T11:18:58.042Z"
      },
      {
        "duration": 6,
        "start_time": "2022-02-10T11:18:58.696Z"
      },
      {
        "duration": 87919,
        "start_time": "2022-02-10T11:28:12.503Z"
      },
      {
        "duration": 7,
        "start_time": "2022-02-10T11:29:40.424Z"
      },
      {
        "duration": 5,
        "start_time": "2022-02-10T11:29:40.433Z"
      },
      {
        "duration": 6,
        "start_time": "2022-02-10T11:29:40.440Z"
      },
      {
        "duration": 11,
        "start_time": "2022-02-10T11:55:38.130Z"
      },
      {
        "duration": 9,
        "start_time": "2022-02-10T11:55:43.554Z"
      },
      {
        "duration": 6,
        "start_time": "2022-02-10T11:55:45.302Z"
      },
      {
        "duration": 351,
        "start_time": "2022-02-10T11:57:04.057Z"
      },
      {
        "duration": 27,
        "start_time": "2022-02-10T11:57:17.527Z"
      },
      {
        "duration": 7,
        "start_time": "2022-02-10T11:57:38.852Z"
      },
      {
        "duration": 24,
        "start_time": "2022-02-10T11:57:44.092Z"
      },
      {
        "duration": 23,
        "start_time": "2022-02-10T11:58:04.775Z"
      },
      {
        "duration": 9,
        "start_time": "2022-02-10T11:58:13.175Z"
      },
      {
        "duration": 21,
        "start_time": "2022-02-10T11:58:17.952Z"
      },
      {
        "duration": 9,
        "start_time": "2022-02-10T11:58:22.644Z"
      },
      {
        "duration": 23,
        "start_time": "2022-02-10T11:58:27.435Z"
      },
      {
        "duration": 7,
        "start_time": "2022-02-10T11:59:07.603Z"
      },
      {
        "duration": 11,
        "start_time": "2022-02-10T11:59:17.887Z"
      },
      {
        "duration": 21,
        "start_time": "2022-02-10T11:59:24.041Z"
      },
      {
        "duration": 9,
        "start_time": "2022-02-10T11:59:37.439Z"
      },
      {
        "duration": 7,
        "start_time": "2022-02-10T11:59:40.271Z"
      },
      {
        "duration": 7,
        "start_time": "2022-02-10T11:59:43.335Z"
      },
      {
        "duration": 11,
        "start_time": "2022-02-10T11:59:46.527Z"
      },
      {
        "duration": 8,
        "start_time": "2022-02-10T11:59:50.304Z"
      },
      {
        "duration": 6,
        "start_time": "2022-02-10T11:59:51.299Z"
      },
      {
        "duration": 1100,
        "start_time": "2022-02-10T12:00:54.884Z"
      },
      {
        "duration": 700,
        "start_time": "2022-02-10T12:00:55.986Z"
      },
      {
        "duration": 21,
        "start_time": "2022-02-10T12:00:56.687Z"
      },
      {
        "duration": 17,
        "start_time": "2022-02-10T12:00:56.709Z"
      },
      {
        "duration": 6,
        "start_time": "2022-02-10T12:00:56.727Z"
      },
      {
        "duration": 38,
        "start_time": "2022-02-10T12:00:56.734Z"
      },
      {
        "duration": 9,
        "start_time": "2022-02-10T12:00:56.773Z"
      },
      {
        "duration": 2,
        "start_time": "2022-02-10T12:00:56.785Z"
      },
      {
        "duration": 83,
        "start_time": "2022-02-10T12:00:56.790Z"
      },
      {
        "duration": 43,
        "start_time": "2022-02-10T12:00:56.874Z"
      },
      {
        "duration": 138,
        "start_time": "2022-02-10T12:00:56.919Z"
      },
      {
        "duration": 18,
        "start_time": "2022-02-10T12:00:57.059Z"
      },
      {
        "duration": 16,
        "start_time": "2022-02-10T12:00:57.079Z"
      },
      {
        "duration": 6,
        "start_time": "2022-02-10T12:00:57.097Z"
      },
      {
        "duration": 6,
        "start_time": "2022-02-10T12:00:57.105Z"
      },
      {
        "duration": 14,
        "start_time": "2022-02-10T12:00:57.112Z"
      },
      {
        "duration": 13,
        "start_time": "2022-02-10T12:00:57.127Z"
      },
      {
        "duration": 2,
        "start_time": "2022-02-10T12:00:57.172Z"
      },
      {
        "duration": 29,
        "start_time": "2022-02-10T12:00:57.176Z"
      },
      {
        "duration": 9,
        "start_time": "2022-02-10T12:00:57.206Z"
      },
      {
        "duration": 79,
        "start_time": "2022-02-10T12:00:57.216Z"
      },
      {
        "duration": 9,
        "start_time": "2022-02-10T12:00:57.296Z"
      },
      {
        "duration": 4,
        "start_time": "2022-02-10T12:00:57.309Z"
      },
      {
        "duration": 3331,
        "start_time": "2022-02-10T12:00:57.315Z"
      },
      {
        "duration": 13,
        "start_time": "2022-02-10T12:01:00.647Z"
      },
      {
        "duration": 6,
        "start_time": "2022-02-10T12:01:00.671Z"
      },
      {
        "duration": 103,
        "start_time": "2022-02-10T12:01:00.678Z"
      },
      {
        "duration": 11,
        "start_time": "2022-02-10T12:01:00.782Z"
      },
      {
        "duration": 13,
        "start_time": "2022-02-10T12:01:00.795Z"
      },
      {
        "duration": 23,
        "start_time": "2022-02-10T12:01:00.810Z"
      },
      {
        "duration": 13,
        "start_time": "2022-02-10T12:01:00.835Z"
      },
      {
        "duration": 40,
        "start_time": "2022-02-10T12:01:00.850Z"
      },
      {
        "duration": 10,
        "start_time": "2022-02-10T12:01:00.892Z"
      },
      {
        "duration": 184,
        "start_time": "2022-02-10T12:01:00.903Z"
      },
      {
        "duration": 370,
        "start_time": "2022-02-10T12:01:01.089Z"
      },
      {
        "duration": 2,
        "start_time": "2022-02-10T12:01:01.461Z"
      },
      {
        "duration": 5,
        "start_time": "2022-02-10T12:01:01.471Z"
      },
      {
        "duration": 9,
        "start_time": "2022-02-10T12:01:01.478Z"
      },
      {
        "duration": 6,
        "start_time": "2022-02-10T12:01:01.489Z"
      },
      {
        "duration": 357,
        "start_time": "2022-02-10T12:01:01.496Z"
      },
      {
        "duration": 4,
        "start_time": "2022-02-10T12:01:01.854Z"
      },
      {
        "duration": 26,
        "start_time": "2022-02-10T12:01:01.860Z"
      },
      {
        "duration": 389,
        "start_time": "2022-02-10T12:01:01.888Z"
      },
      {
        "duration": 3,
        "start_time": "2022-02-10T12:01:02.279Z"
      },
      {
        "duration": 71,
        "start_time": "2022-02-10T12:01:02.283Z"
      },
      {
        "duration": 20,
        "start_time": "2022-02-10T12:01:02.355Z"
      },
      {
        "duration": 518,
        "start_time": "2022-02-10T12:01:02.377Z"
      },
      {
        "duration": 3,
        "start_time": "2022-02-10T12:01:02.897Z"
      },
      {
        "duration": 8,
        "start_time": "2022-02-10T12:01:02.902Z"
      },
      {
        "duration": 12,
        "start_time": "2022-02-10T12:01:02.912Z"
      },
      {
        "duration": 10,
        "start_time": "2022-02-10T12:01:02.925Z"
      },
      {
        "duration": 8,
        "start_time": "2022-02-10T12:01:02.936Z"
      },
      {
        "duration": 31,
        "start_time": "2022-02-10T12:01:02.945Z"
      },
      {
        "duration": 3,
        "start_time": "2022-02-10T12:01:02.978Z"
      },
      {
        "duration": 77,
        "start_time": "2022-02-10T12:01:02.983Z"
      },
      {
        "duration": 12,
        "start_time": "2022-02-10T12:01:03.061Z"
      },
      {
        "duration": 2,
        "start_time": "2022-02-10T12:01:03.075Z"
      },
      {
        "duration": 4,
        "start_time": "2022-02-10T12:01:03.078Z"
      },
      {
        "duration": 92,
        "start_time": "2022-02-10T12:01:03.083Z"
      },
      {
        "duration": 97,
        "start_time": "2022-02-10T12:01:03.177Z"
      },
      {
        "duration": 8,
        "start_time": "2022-02-10T12:01:03.277Z"
      },
      {
        "duration": 96,
        "start_time": "2022-02-10T12:01:03.287Z"
      },
      {
        "duration": 6,
        "start_time": "2022-02-10T12:01:03.385Z"
      },
      {
        "duration": 139592,
        "start_time": "2022-02-10T12:01:03.392Z"
      },
      {
        "duration": 8,
        "start_time": "2022-02-10T12:03:22.985Z"
      },
      {
        "duration": 25,
        "start_time": "2022-02-10T12:03:22.994Z"
      },
      {
        "duration": 10,
        "start_time": "2022-02-10T12:03:23.020Z"
      },
      {
        "duration": 23,
        "start_time": "2022-02-10T12:03:23.035Z"
      },
      {
        "duration": 8,
        "start_time": "2022-02-10T12:03:23.060Z"
      },
      {
        "duration": 23,
        "start_time": "2022-02-10T12:03:23.069Z"
      },
      {
        "duration": 18,
        "start_time": "2022-02-10T12:03:23.094Z"
      },
      {
        "duration": 66,
        "start_time": "2022-02-10T12:03:23.114Z"
      },
      {
        "duration": 7,
        "start_time": "2022-02-10T12:03:23.272Z"
      },
      {
        "duration": 1076,
        "start_time": "2022-02-10T12:07:11.509Z"
      },
      {
        "duration": 688,
        "start_time": "2022-02-10T12:07:12.587Z"
      },
      {
        "duration": 21,
        "start_time": "2022-02-10T12:07:13.277Z"
      },
      {
        "duration": 17,
        "start_time": "2022-02-10T12:07:13.301Z"
      },
      {
        "duration": 6,
        "start_time": "2022-02-10T12:07:13.320Z"
      },
      {
        "duration": 45,
        "start_time": "2022-02-10T12:07:13.327Z"
      },
      {
        "duration": 11,
        "start_time": "2022-02-10T12:07:13.374Z"
      },
      {
        "duration": 3,
        "start_time": "2022-02-10T12:07:13.388Z"
      },
      {
        "duration": 92,
        "start_time": "2022-02-10T12:07:13.393Z"
      },
      {
        "duration": 44,
        "start_time": "2022-02-10T12:07:13.486Z"
      },
      {
        "duration": 144,
        "start_time": "2022-02-10T12:07:13.532Z"
      },
      {
        "duration": 14,
        "start_time": "2022-02-10T12:07:13.678Z"
      },
      {
        "duration": 21,
        "start_time": "2022-02-10T12:07:13.694Z"
      },
      {
        "duration": 12,
        "start_time": "2022-02-10T12:07:13.716Z"
      },
      {
        "duration": 15,
        "start_time": "2022-02-10T12:07:13.729Z"
      },
      {
        "duration": 20,
        "start_time": "2022-02-10T12:07:13.747Z"
      },
      {
        "duration": 24,
        "start_time": "2022-02-10T12:07:13.769Z"
      },
      {
        "duration": 10,
        "start_time": "2022-02-10T12:07:13.794Z"
      },
      {
        "duration": 35,
        "start_time": "2022-02-10T12:07:13.805Z"
      },
      {
        "duration": 17,
        "start_time": "2022-02-10T12:07:13.842Z"
      },
      {
        "duration": 69,
        "start_time": "2022-02-10T12:07:13.860Z"
      },
      {
        "duration": 9,
        "start_time": "2022-02-10T12:07:13.930Z"
      },
      {
        "duration": 5,
        "start_time": "2022-02-10T12:07:13.943Z"
      },
      {
        "duration": 3287,
        "start_time": "2022-02-10T12:07:13.950Z"
      },
      {
        "duration": 13,
        "start_time": "2022-02-10T12:07:17.238Z"
      },
      {
        "duration": 18,
        "start_time": "2022-02-10T12:07:17.253Z"
      },
      {
        "duration": 75,
        "start_time": "2022-02-10T12:07:17.273Z"
      },
      {
        "duration": 8,
        "start_time": "2022-02-10T12:07:17.349Z"
      },
      {
        "duration": 12,
        "start_time": "2022-02-10T12:07:17.359Z"
      },
      {
        "duration": 7,
        "start_time": "2022-02-10T12:07:17.373Z"
      },
      {
        "duration": 7,
        "start_time": "2022-02-10T12:07:17.381Z"
      },
      {
        "duration": 8,
        "start_time": "2022-02-10T12:07:17.389Z"
      },
      {
        "duration": 9,
        "start_time": "2022-02-10T12:07:17.398Z"
      },
      {
        "duration": 194,
        "start_time": "2022-02-10T12:07:17.408Z"
      },
      {
        "duration": 370,
        "start_time": "2022-02-10T12:07:17.604Z"
      },
      {
        "duration": 2,
        "start_time": "2022-02-10T12:07:17.976Z"
      },
      {
        "duration": 7,
        "start_time": "2022-02-10T12:07:17.980Z"
      },
      {
        "duration": 6,
        "start_time": "2022-02-10T12:07:17.988Z"
      },
      {
        "duration": 7,
        "start_time": "2022-02-10T12:07:17.996Z"
      },
      {
        "duration": 361,
        "start_time": "2022-02-10T12:07:18.005Z"
      },
      {
        "duration": 4,
        "start_time": "2022-02-10T12:07:18.371Z"
      },
      {
        "duration": 13,
        "start_time": "2022-02-10T12:07:18.377Z"
      },
      {
        "duration": 385,
        "start_time": "2022-02-10T12:07:18.392Z"
      },
      {
        "duration": 3,
        "start_time": "2022-02-10T12:07:18.779Z"
      },
      {
        "duration": 58,
        "start_time": "2022-02-10T12:07:18.783Z"
      },
      {
        "duration": 8,
        "start_time": "2022-02-10T12:07:18.842Z"
      },
      {
        "duration": 426,
        "start_time": "2022-02-10T12:07:18.851Z"
      },
      {
        "duration": 4,
        "start_time": "2022-02-10T12:07:19.279Z"
      },
      {
        "duration": 9,
        "start_time": "2022-02-10T12:07:19.285Z"
      },
      {
        "duration": 10,
        "start_time": "2022-02-10T12:07:19.296Z"
      },
      {
        "duration": 6,
        "start_time": "2022-02-10T12:07:19.307Z"
      },
      {
        "duration": 6,
        "start_time": "2022-02-10T12:07:19.315Z"
      },
      {
        "duration": 19,
        "start_time": "2022-02-10T12:07:19.323Z"
      },
      {
        "duration": 3,
        "start_time": "2022-02-10T12:07:19.343Z"
      },
      {
        "duration": 92,
        "start_time": "2022-02-10T12:07:19.347Z"
      },
      {
        "duration": 8,
        "start_time": "2022-02-10T12:07:19.440Z"
      },
      {
        "duration": 2,
        "start_time": "2022-02-10T12:07:19.449Z"
      },
      {
        "duration": 22,
        "start_time": "2022-02-10T12:07:19.452Z"
      },
      {
        "duration": 23,
        "start_time": "2022-02-10T12:07:19.475Z"
      },
      {
        "duration": 108,
        "start_time": "2022-02-10T12:07:19.572Z"
      },
      {
        "duration": 90,
        "start_time": "2022-02-10T12:07:19.682Z"
      },
      {
        "duration": 10,
        "start_time": "2022-02-10T12:07:19.773Z"
      },
      {
        "duration": 7,
        "start_time": "2022-02-10T12:07:19.784Z"
      },
      {
        "duration": 126,
        "start_time": "2022-02-10T12:07:19.793Z"
      },
      {
        "duration": 62,
        "start_time": "2022-02-10T12:07:19.859Z"
      },
      {
        "duration": 53,
        "start_time": "2022-02-10T12:07:19.869Z"
      },
      {
        "duration": 47,
        "start_time": "2022-02-10T12:07:19.877Z"
      },
      {
        "duration": 42,
        "start_time": "2022-02-10T12:07:19.883Z"
      },
      {
        "duration": 34,
        "start_time": "2022-02-10T12:07:19.892Z"
      },
      {
        "duration": 28,
        "start_time": "2022-02-10T12:07:19.899Z"
      },
      {
        "duration": 22,
        "start_time": "2022-02-10T12:07:19.907Z"
      },
      {
        "duration": 16,
        "start_time": "2022-02-10T12:07:19.914Z"
      },
      {
        "duration": 10,
        "start_time": "2022-02-10T12:07:19.921Z"
      },
      {
        "duration": 2361,
        "start_time": "2022-02-10T12:07:54.055Z"
      },
      {
        "duration": -1437,
        "start_time": "2022-02-10T12:07:57.855Z"
      },
      {
        "duration": -1443,
        "start_time": "2022-02-10T12:07:57.862Z"
      },
      {
        "duration": -1448,
        "start_time": "2022-02-10T12:07:57.868Z"
      },
      {
        "duration": -1455,
        "start_time": "2022-02-10T12:07:57.876Z"
      },
      {
        "duration": 316,
        "start_time": "2022-02-10T12:07:56.605Z"
      },
      {
        "duration": -967,
        "start_time": "2022-02-10T12:07:57.890Z"
      },
      {
        "duration": 14,
        "start_time": "2022-02-10T12:07:57.382Z"
      },
      {
        "duration": 8,
        "start_time": "2022-02-10T12:07:57.978Z"
      },
      {
        "duration": 69222,
        "start_time": "2022-02-10T12:18:26.225Z"
      },
      {
        "duration": 8,
        "start_time": "2022-02-10T12:20:20.920Z"
      },
      {
        "duration": 7,
        "start_time": "2022-02-10T12:20:27.186Z"
      },
      {
        "duration": 8,
        "start_time": "2022-02-10T12:20:27.938Z"
      },
      {
        "duration": 6,
        "start_time": "2022-02-10T12:20:28.600Z"
      },
      {
        "duration": 3,
        "start_time": "2022-02-10T12:24:52.245Z"
      },
      {
        "duration": 368,
        "start_time": "2022-02-10T12:25:20.839Z"
      },
      {
        "duration": 64731,
        "start_time": "2022-02-10T12:26:42.881Z"
      },
      {
        "duration": 13,
        "start_time": "2022-02-10T12:27:47.614Z"
      },
      {
        "duration": 61753,
        "start_time": "2022-02-10T12:27:47.629Z"
      },
      {
        "duration": 5,
        "start_time": "2022-02-10T12:28:49.384Z"
      },
      {
        "duration": 69,
        "start_time": "2022-02-10T12:30:36.680Z"
      },
      {
        "duration": 14,
        "start_time": "2022-02-10T12:30:40.712Z"
      },
      {
        "duration": 4,
        "start_time": "2022-02-10T12:30:54.270Z"
      },
      {
        "duration": 68,
        "start_time": "2022-02-10T12:31:12.106Z"
      },
      {
        "duration": 15,
        "start_time": "2022-02-10T12:31:13.108Z"
      },
      {
        "duration": 331,
        "start_time": "2022-02-10T12:33:10.635Z"
      },
      {
        "duration": 316,
        "start_time": "2022-02-10T12:33:28.569Z"
      },
      {
        "duration": 6,
        "start_time": "2022-02-10T12:33:45.709Z"
      },
      {
        "duration": 309,
        "start_time": "2022-02-10T12:33:56.619Z"
      },
      {
        "duration": 3,
        "start_time": "2022-02-10T12:34:08.314Z"
      },
      {
        "duration": 7,
        "start_time": "2022-02-10T12:34:13.421Z"
      },
      {
        "duration": 322,
        "start_time": "2022-02-10T12:34:30.664Z"
      },
      {
        "duration": 323,
        "start_time": "2022-02-10T12:34:44.215Z"
      },
      {
        "duration": 307,
        "start_time": "2022-02-10T12:34:58.396Z"
      },
      {
        "duration": 1932,
        "start_time": "2022-02-10T12:35:31.805Z"
      },
      {
        "duration": 3,
        "start_time": "2022-02-10T12:35:53.153Z"
      },
      {
        "duration": 9,
        "start_time": "2022-02-10T12:35:58.559Z"
      },
      {
        "duration": 1097,
        "start_time": "2022-02-10T12:37:33.282Z"
      },
      {
        "duration": 694,
        "start_time": "2022-02-10T12:37:34.381Z"
      },
      {
        "duration": 21,
        "start_time": "2022-02-10T12:37:35.076Z"
      },
      {
        "duration": 17,
        "start_time": "2022-02-10T12:37:35.098Z"
      },
      {
        "duration": 5,
        "start_time": "2022-02-10T12:37:35.116Z"
      },
      {
        "duration": 19,
        "start_time": "2022-02-10T12:37:35.122Z"
      },
      {
        "duration": 34,
        "start_time": "2022-02-10T12:37:35.142Z"
      },
      {
        "duration": 2,
        "start_time": "2022-02-10T12:37:35.178Z"
      },
      {
        "duration": 61,
        "start_time": "2022-02-10T12:37:35.182Z"
      },
      {
        "duration": 57,
        "start_time": "2022-02-10T12:37:35.245Z"
      },
      {
        "duration": 127,
        "start_time": "2022-02-10T12:37:35.303Z"
      },
      {
        "duration": 8,
        "start_time": "2022-02-10T12:37:35.431Z"
      },
      {
        "duration": 31,
        "start_time": "2022-02-10T12:37:35.441Z"
      },
      {
        "duration": 5,
        "start_time": "2022-02-10T12:37:35.474Z"
      },
      {
        "duration": 5,
        "start_time": "2022-02-10T12:37:35.481Z"
      },
      {
        "duration": 13,
        "start_time": "2022-02-10T12:37:35.487Z"
      },
      {
        "duration": 13,
        "start_time": "2022-02-10T12:37:35.502Z"
      },
      {
        "duration": 2,
        "start_time": "2022-02-10T12:37:35.517Z"
      },
      {
        "duration": 15,
        "start_time": "2022-02-10T12:37:35.521Z"
      },
      {
        "duration": 36,
        "start_time": "2022-02-10T12:37:35.537Z"
      },
      {
        "duration": 62,
        "start_time": "2022-02-10T12:37:35.575Z"
      },
      {
        "duration": 9,
        "start_time": "2022-02-10T12:37:35.638Z"
      },
      {
        "duration": 22,
        "start_time": "2022-02-10T12:37:35.650Z"
      },
      {
        "duration": 3355,
        "start_time": "2022-02-10T12:37:35.674Z"
      },
      {
        "duration": 13,
        "start_time": "2022-02-10T12:37:39.030Z"
      },
      {
        "duration": 4,
        "start_time": "2022-02-10T12:37:39.045Z"
      },
      {
        "duration": 91,
        "start_time": "2022-02-10T12:37:39.051Z"
      },
      {
        "duration": 9,
        "start_time": "2022-02-10T12:37:39.143Z"
      },
      {
        "duration": 4,
        "start_time": "2022-02-10T12:37:39.154Z"
      },
      {
        "duration": 15,
        "start_time": "2022-02-10T12:37:39.160Z"
      },
      {
        "duration": 6,
        "start_time": "2022-02-10T12:37:39.176Z"
      },
      {
        "duration": 6,
        "start_time": "2022-02-10T12:37:39.183Z"
      },
      {
        "duration": 9,
        "start_time": "2022-02-10T12:37:39.190Z"
      },
      {
        "duration": 175,
        "start_time": "2022-02-10T12:37:39.201Z"
      },
      {
        "duration": 385,
        "start_time": "2022-02-10T12:37:39.378Z"
      },
      {
        "duration": 3,
        "start_time": "2022-02-10T12:37:39.772Z"
      },
      {
        "duration": 7,
        "start_time": "2022-02-10T12:37:39.776Z"
      },
      {
        "duration": 5,
        "start_time": "2022-02-10T12:37:39.785Z"
      },
      {
        "duration": 6,
        "start_time": "2022-02-10T12:37:39.791Z"
      },
      {
        "duration": 369,
        "start_time": "2022-02-10T12:37:39.799Z"
      },
      {
        "duration": 4,
        "start_time": "2022-02-10T12:37:40.169Z"
      },
      {
        "duration": 11,
        "start_time": "2022-02-10T12:37:40.174Z"
      },
      {
        "duration": 399,
        "start_time": "2022-02-10T12:37:40.186Z"
      },
      {
        "duration": 3,
        "start_time": "2022-02-10T12:37:40.587Z"
      },
      {
        "duration": 56,
        "start_time": "2022-02-10T12:37:40.591Z"
      },
      {
        "duration": 29,
        "start_time": "2022-02-10T12:37:40.649Z"
      },
      {
        "duration": 413,
        "start_time": "2022-02-10T12:37:40.680Z"
      },
      {
        "duration": 3,
        "start_time": "2022-02-10T12:37:41.095Z"
      },
      {
        "duration": 8,
        "start_time": "2022-02-10T12:37:41.100Z"
      },
      {
        "duration": 10,
        "start_time": "2022-02-10T12:37:41.109Z"
      },
      {
        "duration": 6,
        "start_time": "2022-02-10T12:37:41.120Z"
      },
      {
        "duration": 5,
        "start_time": "2022-02-10T12:37:41.128Z"
      },
      {
        "duration": 46,
        "start_time": "2022-02-10T12:37:41.135Z"
      },
      {
        "duration": 4,
        "start_time": "2022-02-10T12:37:41.183Z"
      },
      {
        "duration": 70,
        "start_time": "2022-02-10T12:37:41.188Z"
      },
      {
        "duration": 19,
        "start_time": "2022-02-10T12:37:41.259Z"
      },
      {
        "duration": 2,
        "start_time": "2022-02-10T12:37:41.279Z"
      },
      {
        "duration": 4,
        "start_time": "2022-02-10T12:37:41.283Z"
      },
      {
        "duration": 87,
        "start_time": "2022-02-10T12:37:41.289Z"
      },
      {
        "duration": 100,
        "start_time": "2022-02-10T12:37:41.378Z"
      },
      {
        "duration": 92,
        "start_time": "2022-02-10T12:37:41.480Z"
      },
      {
        "duration": 839,
        "start_time": "2022-02-10T12:37:41.574Z"
      },
      {
        "duration": 169,
        "start_time": "2022-02-10T12:37:42.246Z"
      },
      {
        "duration": 163,
        "start_time": "2022-02-10T12:37:42.253Z"
      },
      {
        "duration": 133,
        "start_time": "2022-02-10T12:37:42.284Z"
      },
      {
        "duration": 94,
        "start_time": "2022-02-10T12:37:42.323Z"
      },
      {
        "duration": 90,
        "start_time": "2022-02-10T12:37:42.328Z"
      },
      {
        "duration": 86,
        "start_time": "2022-02-10T12:37:42.333Z"
      },
      {
        "duration": 81,
        "start_time": "2022-02-10T12:37:42.339Z"
      },
      {
        "duration": 76,
        "start_time": "2022-02-10T12:37:42.344Z"
      },
      {
        "duration": 72,
        "start_time": "2022-02-10T12:37:42.349Z"
      },
      {
        "duration": 68,
        "start_time": "2022-02-10T12:37:42.354Z"
      },
      {
        "duration": 63,
        "start_time": "2022-02-10T12:37:42.360Z"
      },
      {
        "duration": 59,
        "start_time": "2022-02-10T12:37:42.365Z"
      },
      {
        "duration": 52,
        "start_time": "2022-02-10T12:37:42.373Z"
      },
      {
        "duration": 47,
        "start_time": "2022-02-10T12:37:42.378Z"
      },
      {
        "duration": 43,
        "start_time": "2022-02-10T12:37:42.383Z"
      },
      {
        "duration": 39,
        "start_time": "2022-02-10T12:37:42.388Z"
      },
      {
        "duration": 34,
        "start_time": "2022-02-10T12:37:42.394Z"
      },
      {
        "duration": 30,
        "start_time": "2022-02-10T12:37:42.398Z"
      },
      {
        "duration": 25,
        "start_time": "2022-02-10T12:37:42.404Z"
      },
      {
        "duration": 9,
        "start_time": "2022-02-10T12:39:11.686Z"
      },
      {
        "duration": 637,
        "start_time": "2022-02-10T12:39:20.744Z"
      },
      {
        "duration": 1055,
        "start_time": "2022-02-10T12:39:59.924Z"
      },
      {
        "duration": 709,
        "start_time": "2022-02-10T12:40:00.980Z"
      },
      {
        "duration": 21,
        "start_time": "2022-02-10T12:40:01.691Z"
      },
      {
        "duration": 18,
        "start_time": "2022-02-10T12:40:01.714Z"
      },
      {
        "duration": 5,
        "start_time": "2022-02-10T12:40:01.733Z"
      },
      {
        "duration": 37,
        "start_time": "2022-02-10T12:40:01.739Z"
      },
      {
        "duration": 10,
        "start_time": "2022-02-10T12:40:01.777Z"
      },
      {
        "duration": 2,
        "start_time": "2022-02-10T12:40:01.789Z"
      },
      {
        "duration": 80,
        "start_time": "2022-02-10T12:40:01.793Z"
      },
      {
        "duration": 42,
        "start_time": "2022-02-10T12:40:01.874Z"
      },
      {
        "duration": 137,
        "start_time": "2022-02-10T12:40:01.918Z"
      },
      {
        "duration": 14,
        "start_time": "2022-02-10T12:40:02.057Z"
      },
      {
        "duration": 17,
        "start_time": "2022-02-10T12:40:02.073Z"
      },
      {
        "duration": 4,
        "start_time": "2022-02-10T12:40:02.092Z"
      },
      {
        "duration": 5,
        "start_time": "2022-02-10T12:40:02.098Z"
      },
      {
        "duration": 15,
        "start_time": "2022-02-10T12:40:02.105Z"
      },
      {
        "duration": 14,
        "start_time": "2022-02-10T12:40:02.122Z"
      },
      {
        "duration": 2,
        "start_time": "2022-02-10T12:40:02.138Z"
      },
      {
        "duration": 43,
        "start_time": "2022-02-10T12:40:02.142Z"
      },
      {
        "duration": 8,
        "start_time": "2022-02-10T12:40:02.186Z"
      },
      {
        "duration": 76,
        "start_time": "2022-02-10T12:40:02.196Z"
      },
      {
        "duration": 9,
        "start_time": "2022-02-10T12:40:02.274Z"
      },
      {
        "duration": 4,
        "start_time": "2022-02-10T12:40:02.286Z"
      },
      {
        "duration": 3343,
        "start_time": "2022-02-10T12:40:02.292Z"
      },
      {
        "duration": 12,
        "start_time": "2022-02-10T12:40:05.636Z"
      },
      {
        "duration": 4,
        "start_time": "2022-02-10T12:40:05.650Z"
      },
      {
        "duration": 96,
        "start_time": "2022-02-10T12:40:05.656Z"
      },
      {
        "duration": 8,
        "start_time": "2022-02-10T12:40:05.754Z"
      },
      {
        "duration": 9,
        "start_time": "2022-02-10T12:40:05.764Z"
      },
      {
        "duration": 9,
        "start_time": "2022-02-10T12:40:05.774Z"
      },
      {
        "duration": 5,
        "start_time": "2022-02-10T12:40:05.785Z"
      },
      {
        "duration": 7,
        "start_time": "2022-02-10T12:40:05.792Z"
      },
      {
        "duration": 8,
        "start_time": "2022-02-10T12:40:05.800Z"
      },
      {
        "duration": 181,
        "start_time": "2022-02-10T12:40:05.809Z"
      },
      {
        "duration": 353,
        "start_time": "2022-02-10T12:40:05.992Z"
      },
      {
        "duration": 3,
        "start_time": "2022-02-10T12:40:06.346Z"
      },
      {
        "duration": 8,
        "start_time": "2022-02-10T12:40:06.350Z"
      },
      {
        "duration": 15,
        "start_time": "2022-02-10T12:40:06.359Z"
      },
      {
        "duration": 6,
        "start_time": "2022-02-10T12:40:06.375Z"
      },
      {
        "duration": 365,
        "start_time": "2022-02-10T12:40:06.383Z"
      },
      {
        "duration": 4,
        "start_time": "2022-02-10T12:40:06.749Z"
      },
      {
        "duration": 17,
        "start_time": "2022-02-10T12:40:06.754Z"
      },
      {
        "duration": 395,
        "start_time": "2022-02-10T12:40:06.773Z"
      },
      {
        "duration": 2,
        "start_time": "2022-02-10T12:40:07.170Z"
      },
      {
        "duration": 57,
        "start_time": "2022-02-10T12:40:07.173Z"
      },
      {
        "duration": 8,
        "start_time": "2022-02-10T12:40:07.232Z"
      },
      {
        "duration": 427,
        "start_time": "2022-02-10T12:40:07.241Z"
      },
      {
        "duration": 4,
        "start_time": "2022-02-10T12:40:07.671Z"
      },
      {
        "duration": 12,
        "start_time": "2022-02-10T12:40:07.676Z"
      },
      {
        "duration": 11,
        "start_time": "2022-02-10T12:40:07.689Z"
      },
      {
        "duration": 8,
        "start_time": "2022-02-10T12:40:07.701Z"
      },
      {
        "duration": 9,
        "start_time": "2022-02-10T12:40:07.710Z"
      },
      {
        "duration": 18,
        "start_time": "2022-02-10T12:40:07.721Z"
      },
      {
        "duration": 3,
        "start_time": "2022-02-10T12:40:07.741Z"
      },
      {
        "duration": 107,
        "start_time": "2022-02-10T12:40:07.745Z"
      },
      {
        "duration": 22,
        "start_time": "2022-02-10T12:40:07.853Z"
      },
      {
        "duration": 2,
        "start_time": "2022-02-10T12:40:07.876Z"
      },
      {
        "duration": 5,
        "start_time": "2022-02-10T12:40:07.879Z"
      },
      {
        "duration": 88,
        "start_time": "2022-02-10T12:40:07.886Z"
      },
      {
        "duration": 103,
        "start_time": "2022-02-10T12:40:07.977Z"
      },
      {
        "duration": 91,
        "start_time": "2022-02-10T12:40:08.082Z"
      },
      {
        "duration": 8,
        "start_time": "2022-02-10T12:40:08.175Z"
      },
      {
        "duration": 7,
        "start_time": "2022-02-10T12:40:08.184Z"
      },
      {
        "duration": 104730,
        "start_time": "2022-02-10T12:40:08.193Z"
      },
      {
        "duration": 6,
        "start_time": "2022-02-10T12:41:52.925Z"
      },
      {
        "duration": 13,
        "start_time": "2022-02-10T12:41:52.933Z"
      },
      {
        "duration": 16,
        "start_time": "2022-02-10T12:41:52.948Z"
      },
      {
        "duration": 7,
        "start_time": "2022-02-10T12:41:52.969Z"
      },
      {
        "duration": 65699,
        "start_time": "2022-02-10T12:41:52.978Z"
      },
      {
        "duration": 5,
        "start_time": "2022-02-10T12:42:58.679Z"
      },
      {
        "duration": 64395,
        "start_time": "2022-02-10T12:42:58.686Z"
      },
      {
        "duration": 5,
        "start_time": "2022-02-10T12:44:03.083Z"
      },
      {
        "duration": 20,
        "start_time": "2022-02-10T12:44:03.090Z"
      },
      {
        "duration": 18,
        "start_time": "2022-02-10T12:44:03.112Z"
      },
      {
        "duration": 15,
        "start_time": "2022-02-10T12:44:03.131Z"
      },
      {
        "duration": 17,
        "start_time": "2022-02-10T12:44:03.147Z"
      },
      {
        "duration": 22,
        "start_time": "2022-02-10T12:44:03.166Z"
      },
      {
        "duration": 7,
        "start_time": "2022-02-10T12:44:03.190Z"
      },
      {
        "duration": 16,
        "start_time": "2022-02-10T12:44:03.199Z"
      },
      {
        "duration": 9,
        "start_time": "2022-02-10T12:44:03.217Z"
      },
      {
        "duration": 20,
        "start_time": "2022-02-10T12:44:03.227Z"
      },
      {
        "duration": 3,
        "start_time": "2022-02-10T12:51:36.755Z"
      },
      {
        "duration": 24,
        "start_time": "2022-02-10T12:54:36.191Z"
      },
      {
        "duration": 21,
        "start_time": "2022-02-10T12:54:39.786Z"
      },
      {
        "duration": 4,
        "start_time": "2022-02-10T12:54:40.977Z"
      },
      {
        "duration": 8,
        "start_time": "2022-02-10T12:54:42.031Z"
      },
      {
        "duration": 7,
        "start_time": "2022-02-10T12:54:42.777Z"
      },
      {
        "duration": 482,
        "start_time": "2022-02-10T12:59:42.548Z"
      },
      {
        "duration": 425,
        "start_time": "2022-02-10T12:59:56.860Z"
      },
      {
        "duration": 40,
        "start_time": "2022-02-10T13:00:20.643Z"
      },
      {
        "duration": 27,
        "start_time": "2022-02-10T13:00:31.093Z"
      },
      {
        "duration": 17,
        "start_time": "2022-02-10T13:00:50.209Z"
      },
      {
        "duration": 12,
        "start_time": "2022-02-10T13:03:38.189Z"
      },
      {
        "duration": 21,
        "start_time": "2022-02-10T13:10:45.042Z"
      },
      {
        "duration": 8,
        "start_time": "2022-02-10T13:10:54.389Z"
      },
      {
        "duration": 9,
        "start_time": "2022-02-10T13:14:18.072Z"
      },
      {
        "duration": 336,
        "start_time": "2022-02-10T13:14:20.882Z"
      },
      {
        "duration": 38,
        "start_time": "2022-02-10T13:16:43.174Z"
      },
      {
        "duration": 6,
        "start_time": "2022-02-10T13:16:52.705Z"
      },
      {
        "duration": 6,
        "start_time": "2022-02-10T13:18:24.975Z"
      },
      {
        "duration": 35,
        "start_time": "2022-02-10T13:18:48.925Z"
      },
      {
        "duration": 1695,
        "start_time": "2022-02-10T13:20:02.562Z"
      },
      {
        "duration": 727,
        "start_time": "2022-02-10T13:20:04.260Z"
      },
      {
        "duration": 22,
        "start_time": "2022-02-10T13:20:04.989Z"
      },
      {
        "duration": 31,
        "start_time": "2022-02-10T13:20:05.013Z"
      },
      {
        "duration": 5,
        "start_time": "2022-02-10T13:20:05.046Z"
      },
      {
        "duration": 37,
        "start_time": "2022-02-10T13:20:05.053Z"
      },
      {
        "duration": 9,
        "start_time": "2022-02-10T13:20:05.091Z"
      },
      {
        "duration": 2,
        "start_time": "2022-02-10T13:20:05.103Z"
      },
      {
        "duration": 89,
        "start_time": "2022-02-10T13:20:05.107Z"
      },
      {
        "duration": 45,
        "start_time": "2022-02-10T13:20:05.198Z"
      },
      {
        "duration": 142,
        "start_time": "2022-02-10T13:20:05.244Z"
      },
      {
        "duration": 8,
        "start_time": "2022-02-10T13:20:05.388Z"
      },
      {
        "duration": 18,
        "start_time": "2022-02-10T13:20:05.397Z"
      },
      {
        "duration": 6,
        "start_time": "2022-02-10T13:20:05.417Z"
      },
      {
        "duration": 4,
        "start_time": "2022-02-10T13:20:05.424Z"
      },
      {
        "duration": 45,
        "start_time": "2022-02-10T13:20:05.430Z"
      },
      {
        "duration": 14,
        "start_time": "2022-02-10T13:20:05.476Z"
      },
      {
        "duration": 3,
        "start_time": "2022-02-10T13:20:05.491Z"
      },
      {
        "duration": 16,
        "start_time": "2022-02-10T13:20:05.495Z"
      },
      {
        "duration": 7,
        "start_time": "2022-02-10T13:20:05.513Z"
      },
      {
        "duration": 84,
        "start_time": "2022-02-10T13:20:05.522Z"
      },
      {
        "duration": 9,
        "start_time": "2022-02-10T13:20:05.607Z"
      },
      {
        "duration": 8,
        "start_time": "2022-02-10T13:20:05.620Z"
      },
      {
        "duration": 3482,
        "start_time": "2022-02-10T13:20:05.630Z"
      },
      {
        "duration": 12,
        "start_time": "2022-02-10T13:20:09.114Z"
      },
      {
        "duration": 4,
        "start_time": "2022-02-10T13:20:09.128Z"
      },
      {
        "duration": 100,
        "start_time": "2022-02-10T13:20:09.133Z"
      },
      {
        "duration": 9,
        "start_time": "2022-02-10T13:20:09.235Z"
      },
      {
        "duration": 4,
        "start_time": "2022-02-10T13:20:09.245Z"
      },
      {
        "duration": 20,
        "start_time": "2022-02-10T13:20:09.251Z"
      },
      {
        "duration": 6,
        "start_time": "2022-02-10T13:20:09.273Z"
      },
      {
        "duration": 6,
        "start_time": "2022-02-10T13:20:09.281Z"
      },
      {
        "duration": 7,
        "start_time": "2022-02-10T13:20:09.289Z"
      },
      {
        "duration": 178,
        "start_time": "2022-02-10T13:20:09.298Z"
      },
      {
        "duration": 394,
        "start_time": "2022-02-10T13:20:09.478Z"
      },
      {
        "duration": 3,
        "start_time": "2022-02-10T13:20:09.873Z"
      },
      {
        "duration": 7,
        "start_time": "2022-02-10T13:20:09.877Z"
      },
      {
        "duration": 4,
        "start_time": "2022-02-10T13:20:09.886Z"
      },
      {
        "duration": 6,
        "start_time": "2022-02-10T13:20:09.892Z"
      },
      {
        "duration": 387,
        "start_time": "2022-02-10T13:20:09.899Z"
      },
      {
        "duration": 5,
        "start_time": "2022-02-10T13:20:10.288Z"
      },
      {
        "duration": 13,
        "start_time": "2022-02-10T13:20:10.295Z"
      },
      {
        "duration": 387,
        "start_time": "2022-02-10T13:20:10.310Z"
      },
      {
        "duration": 11,
        "start_time": "2022-02-10T13:20:10.698Z"
      },
      {
        "duration": 109,
        "start_time": "2022-02-10T13:20:10.712Z"
      },
      {
        "duration": 8,
        "start_time": "2022-02-10T13:20:10.822Z"
      },
      {
        "duration": 430,
        "start_time": "2022-02-10T13:20:10.831Z"
      },
      {
        "duration": 9,
        "start_time": "2022-02-10T13:20:11.263Z"
      },
      {
        "duration": 17,
        "start_time": "2022-02-10T13:20:11.273Z"
      },
      {
        "duration": 29,
        "start_time": "2022-02-10T13:20:11.291Z"
      },
      {
        "duration": 9,
        "start_time": "2022-02-10T13:20:11.321Z"
      },
      {
        "duration": 23,
        "start_time": "2022-02-10T13:20:11.332Z"
      },
      {
        "duration": 32,
        "start_time": "2022-02-10T13:20:11.357Z"
      },
      {
        "duration": 3,
        "start_time": "2022-02-10T13:20:11.391Z"
      },
      {
        "duration": 88,
        "start_time": "2022-02-10T13:20:11.396Z"
      },
      {
        "duration": 9,
        "start_time": "2022-02-10T13:20:11.485Z"
      },
      {
        "duration": 13,
        "start_time": "2022-02-10T13:20:11.495Z"
      },
      {
        "duration": 18,
        "start_time": "2022-02-10T13:20:11.509Z"
      },
      {
        "duration": 49,
        "start_time": "2022-02-10T13:20:11.528Z"
      },
      {
        "duration": 193,
        "start_time": "2022-02-10T13:20:11.579Z"
      },
      {
        "duration": 101,
        "start_time": "2022-02-10T13:20:11.774Z"
      },
      {
        "duration": 20,
        "start_time": "2022-02-10T13:20:11.877Z"
      },
      {
        "duration": 21,
        "start_time": "2022-02-10T13:20:11.899Z"
      },
      {
        "duration": 116588,
        "start_time": "2022-02-10T13:20:11.922Z"
      },
      {
        "duration": 14,
        "start_time": "2022-02-10T13:22:08.512Z"
      },
      {
        "duration": 18,
        "start_time": "2022-02-10T13:22:08.528Z"
      },
      {
        "duration": 18,
        "start_time": "2022-02-10T13:22:08.548Z"
      },
      {
        "duration": 25,
        "start_time": "2022-02-10T13:22:08.572Z"
      },
      {
        "duration": 86857,
        "start_time": "2022-02-10T13:22:08.599Z"
      },
      {
        "duration": 20,
        "start_time": "2022-02-10T13:23:35.458Z"
      },
      {
        "duration": 93309,
        "start_time": "2022-02-10T13:23:35.480Z"
      },
      {
        "duration": 15,
        "start_time": "2022-02-10T13:25:08.791Z"
      },
      {
        "duration": 4,
        "start_time": "2022-02-10T13:25:08.807Z"
      },
      {
        "duration": 9,
        "start_time": "2022-02-10T13:25:08.812Z"
      },
      {
        "duration": 7,
        "start_time": "2022-02-10T13:25:08.822Z"
      },
      {
        "duration": 42,
        "start_time": "2022-02-10T13:25:08.831Z"
      },
      {
        "duration": 11,
        "start_time": "2022-02-10T13:25:08.875Z"
      },
      {
        "duration": 4,
        "start_time": "2022-02-10T13:25:08.888Z"
      },
      {
        "duration": 8,
        "start_time": "2022-02-10T13:25:08.893Z"
      },
      {
        "duration": 6,
        "start_time": "2022-02-10T13:25:08.903Z"
      },
      {
        "duration": 13,
        "start_time": "2022-02-10T13:26:22.667Z"
      },
      {
        "duration": 15,
        "start_time": "2022-02-10T13:26:25.950Z"
      },
      {
        "duration": 10,
        "start_time": "2022-02-10T13:26:38.755Z"
      },
      {
        "duration": 598,
        "start_time": "2022-02-10T13:27:08.755Z"
      },
      {
        "duration": 16,
        "start_time": "2022-02-10T13:29:38.077Z"
      },
      {
        "duration": 10,
        "start_time": "2022-02-10T13:32:29.751Z"
      },
      {
        "duration": 23,
        "start_time": "2022-02-10T13:41:57.888Z"
      },
      {
        "duration": 7762,
        "start_time": "2022-02-10T13:42:25.887Z"
      },
      {
        "duration": 11,
        "start_time": "2022-02-10T13:43:24.487Z"
      },
      {
        "duration": 1216,
        "start_time": "2022-02-10T13:45:00.714Z"
      },
      {
        "duration": 700,
        "start_time": "2022-02-10T13:45:01.932Z"
      },
      {
        "duration": 21,
        "start_time": "2022-02-10T13:45:02.634Z"
      },
      {
        "duration": 28,
        "start_time": "2022-02-10T13:45:02.656Z"
      },
      {
        "duration": 6,
        "start_time": "2022-02-10T13:45:02.686Z"
      },
      {
        "duration": 15,
        "start_time": "2022-02-10T13:45:02.693Z"
      },
      {
        "duration": 9,
        "start_time": "2022-02-10T13:45:02.709Z"
      },
      {
        "duration": 2,
        "start_time": "2022-02-10T13:45:02.720Z"
      },
      {
        "duration": 88,
        "start_time": "2022-02-10T13:45:02.724Z"
      },
      {
        "duration": 40,
        "start_time": "2022-02-10T13:45:02.814Z"
      },
      {
        "duration": 129,
        "start_time": "2022-02-10T13:45:02.855Z"
      },
      {
        "duration": 7,
        "start_time": "2022-02-10T13:45:02.986Z"
      },
      {
        "duration": 14,
        "start_time": "2022-02-10T13:45:02.994Z"
      },
      {
        "duration": 5,
        "start_time": "2022-02-10T13:45:03.009Z"
      },
      {
        "duration": 5,
        "start_time": "2022-02-10T13:45:03.015Z"
      },
      {
        "duration": 13,
        "start_time": "2022-02-10T13:45:03.022Z"
      },
      {
        "duration": 14,
        "start_time": "2022-02-10T13:45:03.071Z"
      },
      {
        "duration": 3,
        "start_time": "2022-02-10T13:45:03.086Z"
      },
      {
        "duration": 14,
        "start_time": "2022-02-10T13:45:03.091Z"
      },
      {
        "duration": 7,
        "start_time": "2022-02-10T13:45:03.107Z"
      },
      {
        "duration": 93,
        "start_time": "2022-02-10T13:45:03.116Z"
      },
      {
        "duration": 10,
        "start_time": "2022-02-10T13:45:03.211Z"
      },
      {
        "duration": 4,
        "start_time": "2022-02-10T13:45:03.226Z"
      },
      {
        "duration": 3308,
        "start_time": "2022-02-10T13:45:03.233Z"
      },
      {
        "duration": 13,
        "start_time": "2022-02-10T13:45:06.543Z"
      },
      {
        "duration": 17,
        "start_time": "2022-02-10T13:45:06.558Z"
      },
      {
        "duration": 75,
        "start_time": "2022-02-10T13:45:06.577Z"
      },
      {
        "duration": 24,
        "start_time": "2022-02-10T13:45:06.655Z"
      },
      {
        "duration": 6,
        "start_time": "2022-02-10T13:45:06.681Z"
      },
      {
        "duration": 9,
        "start_time": "2022-02-10T13:45:06.689Z"
      },
      {
        "duration": 7,
        "start_time": "2022-02-10T13:45:06.700Z"
      },
      {
        "duration": 7,
        "start_time": "2022-02-10T13:45:06.708Z"
      },
      {
        "duration": 9,
        "start_time": "2022-02-10T13:45:06.717Z"
      },
      {
        "duration": 194,
        "start_time": "2022-02-10T13:45:06.727Z"
      },
      {
        "duration": 369,
        "start_time": "2022-02-10T13:45:06.923Z"
      },
      {
        "duration": 3,
        "start_time": "2022-02-10T13:45:07.293Z"
      },
      {
        "duration": 7,
        "start_time": "2022-02-10T13:45:07.297Z"
      },
      {
        "duration": 4,
        "start_time": "2022-02-10T13:45:07.306Z"
      },
      {
        "duration": 6,
        "start_time": "2022-02-10T13:45:07.312Z"
      },
      {
        "duration": 344,
        "start_time": "2022-02-10T13:45:07.320Z"
      },
      {
        "duration": 7,
        "start_time": "2022-02-10T13:45:07.666Z"
      },
      {
        "duration": 12,
        "start_time": "2022-02-10T13:45:07.675Z"
      },
      {
        "duration": 393,
        "start_time": "2022-02-10T13:45:07.689Z"
      },
      {
        "duration": 3,
        "start_time": "2022-02-10T13:45:08.084Z"
      },
      {
        "duration": 56,
        "start_time": "2022-02-10T13:45:08.088Z"
      },
      {
        "duration": 25,
        "start_time": "2022-02-10T13:45:08.146Z"
      },
      {
        "duration": 398,
        "start_time": "2022-02-10T13:45:08.173Z"
      },
      {
        "duration": 3,
        "start_time": "2022-02-10T13:45:08.573Z"
      },
      {
        "duration": 11,
        "start_time": "2022-02-10T13:45:08.577Z"
      },
      {
        "duration": 36,
        "start_time": "2022-02-10T13:45:08.590Z"
      },
      {
        "duration": 6,
        "start_time": "2022-02-10T13:45:08.628Z"
      },
      {
        "duration": 9,
        "start_time": "2022-02-10T13:45:08.636Z"
      },
      {
        "duration": 18,
        "start_time": "2022-02-10T13:45:08.647Z"
      },
      {
        "duration": 3,
        "start_time": "2022-02-10T13:45:08.666Z"
      },
      {
        "duration": 70,
        "start_time": "2022-02-10T13:45:08.671Z"
      },
      {
        "duration": 8,
        "start_time": "2022-02-10T13:45:08.743Z"
      },
      {
        "duration": 2,
        "start_time": "2022-02-10T13:45:08.753Z"
      },
      {
        "duration": 15,
        "start_time": "2022-02-10T13:45:08.757Z"
      },
      {
        "duration": 30,
        "start_time": "2022-02-10T13:45:08.773Z"
      },
      {
        "duration": 168,
        "start_time": "2022-02-10T13:45:08.804Z"
      },
      {
        "duration": 7,
        "start_time": "2022-02-10T13:45:08.974Z"
      },
      {
        "duration": 96,
        "start_time": "2022-02-10T13:45:08.983Z"
      },
      {
        "duration": 7,
        "start_time": "2022-02-10T13:45:09.081Z"
      },
      {
        "duration": 117094,
        "start_time": "2022-02-10T13:45:09.089Z"
      },
      {
        "duration": 20,
        "start_time": "2022-02-10T13:47:06.185Z"
      },
      {
        "duration": 7,
        "start_time": "2022-02-10T13:47:06.206Z"
      },
      {
        "duration": 8,
        "start_time": "2022-02-10T13:47:06.215Z"
      },
      {
        "duration": 3,
        "start_time": "2022-02-10T13:47:06.229Z"
      },
      {
        "duration": 87088,
        "start_time": "2022-02-10T13:47:06.234Z"
      },
      {
        "duration": 14,
        "start_time": "2022-02-10T13:48:33.323Z"
      },
      {
        "duration": 90506,
        "start_time": "2022-02-10T13:48:33.339Z"
      },
      {
        "duration": 14,
        "start_time": "2022-02-10T13:50:03.847Z"
      },
      {
        "duration": 4,
        "start_time": "2022-02-10T13:50:03.862Z"
      },
      {
        "duration": 8,
        "start_time": "2022-02-10T13:50:03.867Z"
      },
      {
        "duration": 6,
        "start_time": "2022-02-10T13:50:03.876Z"
      },
      {
        "duration": 15,
        "start_time": "2022-02-10T13:50:03.883Z"
      },
      {
        "duration": 6,
        "start_time": "2022-02-10T13:50:03.899Z"
      },
      {
        "duration": 5,
        "start_time": "2022-02-10T13:50:03.906Z"
      },
      {
        "duration": 13,
        "start_time": "2022-02-10T13:50:03.912Z"
      },
      {
        "duration": 8,
        "start_time": "2022-02-10T13:50:03.927Z"
      },
      {
        "duration": 37,
        "start_time": "2022-02-10T13:50:03.937Z"
      },
      {
        "duration": 22,
        "start_time": "2022-02-10T13:50:03.975Z"
      },
      {
        "duration": 3,
        "start_time": "2022-02-10T13:50:03.998Z"
      },
      {
        "duration": 9,
        "start_time": "2022-02-10T13:50:04.002Z"
      },
      {
        "duration": 8,
        "start_time": "2022-02-10T13:50:04.012Z"
      },
      {
        "duration": 8,
        "start_time": "2022-02-10T13:50:04.022Z"
      },
      {
        "duration": 24,
        "start_time": "2022-02-10T13:51:12.728Z"
      },
      {
        "duration": 398,
        "start_time": "2022-02-10T13:51:55.756Z"
      },
      {
        "duration": 5,
        "start_time": "2022-02-10T13:52:15.693Z"
      },
      {
        "duration": 4,
        "start_time": "2022-02-10T13:52:26.601Z"
      },
      {
        "duration": 13,
        "start_time": "2022-02-10T13:53:05.360Z"
      },
      {
        "duration": 9,
        "start_time": "2022-02-10T13:54:00.118Z"
      },
      {
        "duration": 4,
        "start_time": "2022-02-10T13:55:07.684Z"
      },
      {
        "duration": 6,
        "start_time": "2022-02-10T13:55:19.548Z"
      },
      {
        "duration": 17,
        "start_time": "2022-02-10T13:56:52.417Z"
      },
      {
        "duration": 20,
        "start_time": "2022-02-10T13:56:54.365Z"
      },
      {
        "duration": 4,
        "start_time": "2022-02-10T13:56:55.695Z"
      },
      {
        "duration": 8,
        "start_time": "2022-02-10T13:56:57.635Z"
      },
      {
        "duration": 6,
        "start_time": "2022-02-10T13:56:58.520Z"
      },
      {
        "duration": 1166,
        "start_time": "2022-02-10T14:08:38.402Z"
      },
      {
        "duration": 695,
        "start_time": "2022-02-10T14:08:39.572Z"
      },
      {
        "duration": 21,
        "start_time": "2022-02-10T14:08:40.269Z"
      },
      {
        "duration": 17,
        "start_time": "2022-02-10T14:08:40.292Z"
      },
      {
        "duration": 5,
        "start_time": "2022-02-10T14:08:40.311Z"
      },
      {
        "duration": 15,
        "start_time": "2022-02-10T14:08:40.318Z"
      },
      {
        "duration": 37,
        "start_time": "2022-02-10T14:08:40.334Z"
      },
      {
        "duration": 2,
        "start_time": "2022-02-10T14:08:40.374Z"
      },
      {
        "duration": 66,
        "start_time": "2022-02-10T14:08:40.378Z"
      },
      {
        "duration": 60,
        "start_time": "2022-02-10T14:08:40.445Z"
      },
      {
        "duration": 126,
        "start_time": "2022-02-10T14:08:40.507Z"
      },
      {
        "duration": 8,
        "start_time": "2022-02-10T14:08:40.634Z"
      },
      {
        "duration": 14,
        "start_time": "2022-02-10T14:08:40.643Z"
      },
      {
        "duration": 15,
        "start_time": "2022-02-10T14:08:40.659Z"
      },
      {
        "duration": 5,
        "start_time": "2022-02-10T14:08:40.675Z"
      },
      {
        "duration": 14,
        "start_time": "2022-02-10T14:08:40.682Z"
      },
      {
        "duration": 13,
        "start_time": "2022-02-10T14:08:40.697Z"
      },
      {
        "duration": 2,
        "start_time": "2022-02-10T14:08:40.712Z"
      },
      {
        "duration": 19,
        "start_time": "2022-02-10T14:08:40.715Z"
      },
      {
        "duration": 6,
        "start_time": "2022-02-10T14:08:40.736Z"
      },
      {
        "duration": 90,
        "start_time": "2022-02-10T14:08:40.744Z"
      },
      {
        "duration": 9,
        "start_time": "2022-02-10T14:08:40.836Z"
      },
      {
        "duration": 5,
        "start_time": "2022-02-10T14:08:40.849Z"
      },
      {
        "duration": 3389,
        "start_time": "2022-02-10T14:08:40.872Z"
      },
      {
        "duration": 17,
        "start_time": "2022-02-10T14:08:44.263Z"
      },
      {
        "duration": 5,
        "start_time": "2022-02-10T14:08:44.281Z"
      },
      {
        "duration": 90,
        "start_time": "2022-02-10T14:08:44.287Z"
      },
      {
        "duration": 10,
        "start_time": "2022-02-10T14:08:44.379Z"
      },
      {
        "duration": 4,
        "start_time": "2022-02-10T14:08:44.391Z"
      },
      {
        "duration": 7,
        "start_time": "2022-02-10T14:08:44.397Z"
      },
      {
        "duration": 5,
        "start_time": "2022-02-10T14:08:44.406Z"
      },
      {
        "duration": 5,
        "start_time": "2022-02-10T14:08:44.413Z"
      },
      {
        "duration": 6,
        "start_time": "2022-02-10T14:08:44.420Z"
      },
      {
        "duration": 190,
        "start_time": "2022-02-10T14:08:44.428Z"
      },
      {
        "duration": 353,
        "start_time": "2022-02-10T14:08:44.619Z"
      },
      {
        "duration": 3,
        "start_time": "2022-02-10T14:08:44.973Z"
      },
      {
        "duration": 8,
        "start_time": "2022-02-10T14:08:44.977Z"
      },
      {
        "duration": 5,
        "start_time": "2022-02-10T14:08:44.987Z"
      },
      {
        "duration": 7,
        "start_time": "2022-02-10T14:08:44.993Z"
      },
      {
        "duration": 370,
        "start_time": "2022-02-10T14:08:45.001Z"
      },
      {
        "duration": 4,
        "start_time": "2022-02-10T14:08:45.373Z"
      },
      {
        "duration": 11,
        "start_time": "2022-02-10T14:08:45.379Z"
      },
      {
        "duration": 402,
        "start_time": "2022-02-10T14:08:45.392Z"
      },
      {
        "duration": 2,
        "start_time": "2022-02-10T14:08:45.796Z"
      },
      {
        "duration": 72,
        "start_time": "2022-02-10T14:08:45.800Z"
      },
      {
        "duration": 10,
        "start_time": "2022-02-10T14:08:45.874Z"
      },
      {
        "duration": 413,
        "start_time": "2022-02-10T14:08:45.885Z"
      },
      {
        "duration": 2,
        "start_time": "2022-02-10T14:08:46.300Z"
      },
      {
        "duration": 11,
        "start_time": "2022-02-10T14:08:46.304Z"
      },
      {
        "duration": 10,
        "start_time": "2022-02-10T14:08:46.316Z"
      },
      {
        "duration": 5,
        "start_time": "2022-02-10T14:08:46.328Z"
      },
      {
        "duration": 5,
        "start_time": "2022-02-10T14:08:46.335Z"
      },
      {
        "duration": 39,
        "start_time": "2022-02-10T14:08:46.342Z"
      },
      {
        "duration": 3,
        "start_time": "2022-02-10T14:08:46.382Z"
      },
      {
        "duration": 89,
        "start_time": "2022-02-10T14:08:46.387Z"
      },
      {
        "duration": 9,
        "start_time": "2022-02-10T14:08:46.478Z"
      },
      {
        "duration": 1,
        "start_time": "2022-02-10T14:08:46.489Z"
      },
      {
        "duration": 5,
        "start_time": "2022-02-10T14:08:46.492Z"
      },
      {
        "duration": 78,
        "start_time": "2022-02-10T14:08:46.498Z"
      },
      {
        "duration": 94,
        "start_time": "2022-02-10T14:08:46.579Z"
      },
      {
        "duration": 7,
        "start_time": "2022-02-10T14:08:46.676Z"
      },
      {
        "duration": 13,
        "start_time": "2022-02-10T14:08:46.773Z"
      },
      {
        "duration": 21,
        "start_time": "2022-02-10T14:08:46.787Z"
      },
      {
        "duration": 114530,
        "start_time": "2022-02-10T14:08:46.809Z"
      },
      {
        "duration": 15,
        "start_time": "2022-02-10T14:10:41.340Z"
      },
      {
        "duration": 7,
        "start_time": "2022-02-10T14:10:41.357Z"
      },
      {
        "duration": 10,
        "start_time": "2022-02-10T14:10:41.365Z"
      },
      {
        "duration": 6,
        "start_time": "2022-02-10T14:10:41.380Z"
      },
      {
        "duration": 87820,
        "start_time": "2022-02-10T14:10:41.388Z"
      },
      {
        "duration": 15,
        "start_time": "2022-02-10T14:12:09.213Z"
      },
      {
        "duration": 79387,
        "start_time": "2022-02-10T14:12:09.229Z"
      },
      {
        "duration": 6,
        "start_time": "2022-02-10T14:13:28.618Z"
      },
      {
        "duration": 6,
        "start_time": "2022-02-10T14:13:28.625Z"
      },
      {
        "duration": 9,
        "start_time": "2022-02-10T14:13:28.632Z"
      },
      {
        "duration": 7,
        "start_time": "2022-02-10T14:13:28.643Z"
      },
      {
        "duration": 8,
        "start_time": "2022-02-10T14:13:28.651Z"
      },
      {
        "duration": 12,
        "start_time": "2022-02-10T14:13:28.661Z"
      },
      {
        "duration": 4,
        "start_time": "2022-02-10T14:13:28.674Z"
      },
      {
        "duration": 13,
        "start_time": "2022-02-10T14:13:28.680Z"
      },
      {
        "duration": 8,
        "start_time": "2022-02-10T14:13:28.694Z"
      },
      {
        "duration": 11,
        "start_time": "2022-02-10T14:13:28.704Z"
      },
      {
        "duration": 5,
        "start_time": "2022-02-10T14:13:28.717Z"
      },
      {
        "duration": 12,
        "start_time": "2022-02-10T14:13:28.724Z"
      },
      {
        "duration": 15,
        "start_time": "2022-02-10T14:13:28.737Z"
      },
      {
        "duration": 20,
        "start_time": "2022-02-10T14:13:28.753Z"
      },
      {
        "duration": 4,
        "start_time": "2022-02-10T14:13:28.775Z"
      },
      {
        "duration": 11,
        "start_time": "2022-02-10T14:13:28.780Z"
      },
      {
        "duration": 11,
        "start_time": "2022-02-10T14:13:28.792Z"
      },
      {
        "duration": 5,
        "start_time": "2022-02-10T14:13:28.805Z"
      },
      {
        "duration": 13,
        "start_time": "2022-02-10T14:13:28.812Z"
      },
      {
        "duration": 8,
        "start_time": "2022-02-10T14:13:28.826Z"
      },
      {
        "duration": 1182,
        "start_time": "2022-02-11T16:30:16.110Z"
      },
      {
        "duration": 718,
        "start_time": "2022-02-11T16:30:17.294Z"
      },
      {
        "duration": 28,
        "start_time": "2022-02-11T16:30:18.014Z"
      },
      {
        "duration": 28,
        "start_time": "2022-02-11T16:30:18.044Z"
      },
      {
        "duration": 9,
        "start_time": "2022-02-11T16:30:18.074Z"
      },
      {
        "duration": 17,
        "start_time": "2022-02-11T16:30:18.084Z"
      },
      {
        "duration": 10,
        "start_time": "2022-02-11T16:30:18.103Z"
      },
      {
        "duration": 3,
        "start_time": "2022-02-11T16:30:18.116Z"
      },
      {
        "duration": 103,
        "start_time": "2022-02-11T16:30:18.121Z"
      },
      {
        "duration": 56,
        "start_time": "2022-02-11T16:30:18.226Z"
      },
      {
        "duration": 130,
        "start_time": "2022-02-11T16:30:18.284Z"
      },
      {
        "duration": 7,
        "start_time": "2022-02-11T16:30:18.416Z"
      },
      {
        "duration": 37,
        "start_time": "2022-02-11T16:30:18.425Z"
      },
      {
        "duration": 6,
        "start_time": "2022-02-11T16:30:18.464Z"
      },
      {
        "duration": 8,
        "start_time": "2022-02-11T16:30:18.472Z"
      },
      {
        "duration": 21,
        "start_time": "2022-02-11T16:30:18.481Z"
      },
      {
        "duration": 14,
        "start_time": "2022-02-11T16:30:18.504Z"
      },
      {
        "duration": 2,
        "start_time": "2022-02-11T16:30:18.520Z"
      },
      {
        "duration": 38,
        "start_time": "2022-02-11T16:30:18.524Z"
      },
      {
        "duration": 10,
        "start_time": "2022-02-11T16:30:18.564Z"
      },
      {
        "duration": 71,
        "start_time": "2022-02-11T16:30:18.575Z"
      },
      {
        "duration": 19,
        "start_time": "2022-02-11T16:30:18.648Z"
      },
      {
        "duration": 6,
        "start_time": "2022-02-11T16:30:18.671Z"
      },
      {
        "duration": 3405,
        "start_time": "2022-02-11T16:30:18.679Z"
      },
      {
        "duration": 13,
        "start_time": "2022-02-11T16:30:22.086Z"
      },
      {
        "duration": 5,
        "start_time": "2022-02-11T16:30:22.101Z"
      },
      {
        "duration": 114,
        "start_time": "2022-02-11T16:30:22.107Z"
      },
      {
        "duration": 10,
        "start_time": "2022-02-11T16:30:22.224Z"
      },
      {
        "duration": 6,
        "start_time": "2022-02-11T16:30:22.235Z"
      },
      {
        "duration": 18,
        "start_time": "2022-02-11T16:30:22.243Z"
      },
      {
        "duration": 7,
        "start_time": "2022-02-11T16:30:22.263Z"
      },
      {
        "duration": 8,
        "start_time": "2022-02-11T16:30:22.272Z"
      },
      {
        "duration": 11,
        "start_time": "2022-02-11T16:30:22.282Z"
      },
      {
        "duration": 227,
        "start_time": "2022-02-11T16:30:22.295Z"
      },
      {
        "duration": 382,
        "start_time": "2022-02-11T16:30:22.524Z"
      },
      {
        "duration": 3,
        "start_time": "2022-02-11T16:30:22.907Z"
      },
      {
        "duration": 10,
        "start_time": "2022-02-11T16:30:22.912Z"
      },
      {
        "duration": 7,
        "start_time": "2022-02-11T16:30:22.924Z"
      },
      {
        "duration": 32,
        "start_time": "2022-02-11T16:30:22.932Z"
      },
      {
        "duration": 403,
        "start_time": "2022-02-11T16:30:22.966Z"
      },
      {
        "duration": 4,
        "start_time": "2022-02-11T16:30:23.370Z"
      },
      {
        "duration": 15,
        "start_time": "2022-02-11T16:30:23.375Z"
      },
      {
        "duration": 410,
        "start_time": "2022-02-11T16:30:23.392Z"
      },
      {
        "duration": 4,
        "start_time": "2022-02-11T16:30:23.804Z"
      },
      {
        "duration": 75,
        "start_time": "2022-02-11T16:30:23.810Z"
      },
      {
        "duration": 9,
        "start_time": "2022-02-11T16:30:23.886Z"
      },
      {
        "duration": 411,
        "start_time": "2022-02-11T16:30:23.897Z"
      },
      {
        "duration": 3,
        "start_time": "2022-02-11T16:30:24.310Z"
      },
      {
        "duration": 11,
        "start_time": "2022-02-11T16:30:24.314Z"
      },
      {
        "duration": 12,
        "start_time": "2022-02-11T16:30:24.326Z"
      },
      {
        "duration": 6,
        "start_time": "2022-02-11T16:30:24.340Z"
      },
      {
        "duration": 14,
        "start_time": "2022-02-11T16:30:24.348Z"
      },
      {
        "duration": 22,
        "start_time": "2022-02-11T16:30:24.364Z"
      },
      {
        "duration": 4,
        "start_time": "2022-02-11T16:30:24.387Z"
      },
      {
        "duration": 98,
        "start_time": "2022-02-11T16:30:24.392Z"
      },
      {
        "duration": 8,
        "start_time": "2022-02-11T16:30:24.491Z"
      },
      {
        "duration": 6,
        "start_time": "2022-02-11T16:30:24.500Z"
      },
      {
        "duration": 6,
        "start_time": "2022-02-11T16:30:24.507Z"
      },
      {
        "duration": 54,
        "start_time": "2022-02-11T16:30:24.514Z"
      },
      {
        "duration": 101,
        "start_time": "2022-02-11T16:30:24.660Z"
      },
      {
        "duration": 98,
        "start_time": "2022-02-11T16:30:24.763Z"
      },
      {
        "duration": 10,
        "start_time": "2022-02-11T16:30:24.863Z"
      },
      {
        "duration": 6,
        "start_time": "2022-02-11T16:30:24.875Z"
      },
      {
        "duration": 99377,
        "start_time": "2022-02-11T16:30:24.882Z"
      },
      {
        "duration": 12,
        "start_time": "2022-02-11T16:32:04.261Z"
      },
      {
        "duration": 9,
        "start_time": "2022-02-11T16:32:04.275Z"
      },
      {
        "duration": 14,
        "start_time": "2022-02-11T16:32:04.286Z"
      },
      {
        "duration": 5,
        "start_time": "2022-02-11T16:32:04.304Z"
      },
      {
        "duration": 70684,
        "start_time": "2022-02-11T16:32:04.311Z"
      },
      {
        "duration": 7,
        "start_time": "2022-02-11T16:33:14.997Z"
      },
      {
        "duration": 69281,
        "start_time": "2022-02-11T16:33:15.005Z"
      },
      {
        "duration": 7,
        "start_time": "2022-02-11T16:34:24.288Z"
      },
      {
        "duration": 6,
        "start_time": "2022-02-11T16:34:24.296Z"
      },
      {
        "duration": 11,
        "start_time": "2022-02-11T16:34:24.304Z"
      },
      {
        "duration": 6,
        "start_time": "2022-02-11T16:34:24.316Z"
      },
      {
        "duration": 13,
        "start_time": "2022-02-11T16:34:24.324Z"
      },
      {
        "duration": 21,
        "start_time": "2022-02-11T16:34:24.339Z"
      },
      {
        "duration": 3,
        "start_time": "2022-02-11T16:34:24.362Z"
      },
      {
        "duration": 15,
        "start_time": "2022-02-11T16:34:24.366Z"
      },
      {
        "duration": 6,
        "start_time": "2022-02-11T16:34:24.383Z"
      },
      {
        "duration": 13,
        "start_time": "2022-02-11T16:34:24.390Z"
      },
      {
        "duration": 9,
        "start_time": "2022-02-11T16:34:24.405Z"
      },
      {
        "duration": 12,
        "start_time": "2022-02-11T16:34:24.415Z"
      },
      {
        "duration": 30,
        "start_time": "2022-02-11T16:34:24.429Z"
      },
      {
        "duration": 7,
        "start_time": "2022-02-11T16:34:24.460Z"
      },
      {
        "duration": 4,
        "start_time": "2022-02-11T16:34:24.468Z"
      },
      {
        "duration": 8,
        "start_time": "2022-02-11T16:34:24.474Z"
      },
      {
        "duration": 9,
        "start_time": "2022-02-11T16:34:24.484Z"
      },
      {
        "duration": 5,
        "start_time": "2022-02-11T16:34:24.494Z"
      },
      {
        "duration": 10,
        "start_time": "2022-02-11T16:34:24.501Z"
      },
      {
        "duration": 6,
        "start_time": "2022-02-11T16:34:24.513Z"
      },
      {
        "duration": 497,
        "start_time": "2022-02-11T16:34:24.560Z"
      },
      {
        "duration": 1476,
        "start_time": "2022-02-11T16:34:23.582Z"
      },
      {
        "duration": 6,
        "start_time": "2022-02-11T16:58:39.828Z"
      },
      {
        "duration": 5,
        "start_time": "2022-02-11T16:58:45.558Z"
      },
      {
        "duration": 389,
        "start_time": "2022-02-11T16:59:01.819Z"
      },
      {
        "duration": 7,
        "start_time": "2022-02-11T17:07:09.696Z"
      },
      {
        "duration": 4,
        "start_time": "2022-02-11T17:07:24.802Z"
      },
      {
        "duration": 4,
        "start_time": "2022-02-11T17:07:39.035Z"
      },
      {
        "duration": 6,
        "start_time": "2022-02-11T17:08:01.048Z"
      },
      {
        "duration": 9,
        "start_time": "2022-02-11T17:08:18.073Z"
      },
      {
        "duration": 7,
        "start_time": "2022-02-11T17:08:22.535Z"
      },
      {
        "duration": 9,
        "start_time": "2022-02-11T17:08:37.732Z"
      },
      {
        "duration": 7,
        "start_time": "2022-02-11T17:08:38.936Z"
      },
      {
        "duration": 7,
        "start_time": "2022-02-11T17:08:54.862Z"
      },
      {
        "duration": 7,
        "start_time": "2022-02-11T17:08:56.487Z"
      },
      {
        "duration": 8,
        "start_time": "2022-02-11T17:09:05.470Z"
      },
      {
        "duration": 8,
        "start_time": "2022-02-11T17:09:06.223Z"
      },
      {
        "duration": 176,
        "start_time": "2022-02-11T17:11:37.585Z"
      },
      {
        "duration": 13,
        "start_time": "2022-02-11T17:11:44.790Z"
      },
      {
        "duration": 7,
        "start_time": "2022-02-11T17:11:46.037Z"
      },
      {
        "duration": 13,
        "start_time": "2022-02-11T17:13:52.441Z"
      },
      {
        "duration": 6,
        "start_time": "2022-02-11T17:13:53.431Z"
      },
      {
        "duration": 13,
        "start_time": "2022-02-11T17:14:01.419Z"
      },
      {
        "duration": 7,
        "start_time": "2022-02-11T17:14:02.125Z"
      },
      {
        "duration": 78,
        "start_time": "2022-02-11T17:16:59.984Z"
      },
      {
        "duration": 6,
        "start_time": "2022-02-11T17:17:01.756Z"
      },
      {
        "duration": 8,
        "start_time": "2022-02-11T17:17:03.201Z"
      },
      {
        "duration": 7,
        "start_time": "2022-02-11T17:17:04.350Z"
      },
      {
        "duration": 100629,
        "start_time": "2022-02-11T17:18:54.565Z"
      },
      {
        "duration": 8,
        "start_time": "2022-02-11T17:20:35.195Z"
      },
      {
        "duration": 9,
        "start_time": "2022-02-11T17:20:35.205Z"
      },
      {
        "duration": 7,
        "start_time": "2022-02-11T17:20:35.215Z"
      },
      {
        "duration": 25,
        "start_time": "2022-02-11T17:35:13.286Z"
      },
      {
        "duration": 5841,
        "start_time": "2022-02-11T17:37:37.666Z"
      },
      {
        "duration": 8,
        "start_time": "2022-02-11T17:38:02.437Z"
      },
      {
        "duration": 7,
        "start_time": "2022-02-11T17:38:03.355Z"
      },
      {
        "duration": 5868,
        "start_time": "2022-02-11T17:38:08.664Z"
      },
      {
        "duration": 126973,
        "start_time": "2022-02-11T17:38:47.854Z"
      },
      {
        "duration": 4,
        "start_time": "2022-02-11T17:42:35.048Z"
      },
      {
        "duration": 8,
        "start_time": "2022-02-11T17:42:39.257Z"
      },
      {
        "duration": 66,
        "start_time": "2022-02-11T17:42:47.454Z"
      },
      {
        "duration": 38983,
        "start_time": "2022-02-11T17:43:03.999Z"
      },
      {
        "duration": 38958,
        "start_time": "2022-02-11T17:45:33.485Z"
      },
      {
        "duration": 58874,
        "start_time": "2022-02-11T17:47:18.945Z"
      },
      {
        "duration": 5897,
        "start_time": "2022-02-11T17:51:36.525Z"
      },
      {
        "duration": 5891,
        "start_time": "2022-02-11T17:58:09.910Z"
      },
      {
        "duration": 1209,
        "start_time": "2022-02-11T17:59:53.659Z"
      },
      {
        "duration": 713,
        "start_time": "2022-02-11T17:59:54.869Z"
      },
      {
        "duration": 21,
        "start_time": "2022-02-11T17:59:55.584Z"
      },
      {
        "duration": 17,
        "start_time": "2022-02-11T17:59:55.607Z"
      },
      {
        "duration": 5,
        "start_time": "2022-02-11T17:59:55.625Z"
      },
      {
        "duration": 40,
        "start_time": "2022-02-11T17:59:55.631Z"
      },
      {
        "duration": 10,
        "start_time": "2022-02-11T17:59:55.672Z"
      },
      {
        "duration": 3,
        "start_time": "2022-02-11T17:59:55.684Z"
      },
      {
        "duration": 83,
        "start_time": "2022-02-11T17:59:55.689Z"
      },
      {
        "duration": 42,
        "start_time": "2022-02-11T17:59:55.773Z"
      },
      {
        "duration": 136,
        "start_time": "2022-02-11T17:59:55.817Z"
      },
      {
        "duration": 6,
        "start_time": "2022-02-11T17:59:55.958Z"
      },
      {
        "duration": 19,
        "start_time": "2022-02-11T17:59:55.966Z"
      },
      {
        "duration": 5,
        "start_time": "2022-02-11T17:59:55.986Z"
      },
      {
        "duration": 5,
        "start_time": "2022-02-11T17:59:55.993Z"
      },
      {
        "duration": 17,
        "start_time": "2022-02-11T17:59:56.000Z"
      },
      {
        "duration": 43,
        "start_time": "2022-02-11T17:59:56.018Z"
      },
      {
        "duration": 2,
        "start_time": "2022-02-11T17:59:56.063Z"
      },
      {
        "duration": 18,
        "start_time": "2022-02-11T17:59:56.066Z"
      },
      {
        "duration": 10,
        "start_time": "2022-02-11T17:59:56.085Z"
      },
      {
        "duration": 85,
        "start_time": "2022-02-11T17:59:56.096Z"
      },
      {
        "duration": 10,
        "start_time": "2022-02-11T17:59:56.183Z"
      },
      {
        "duration": 5,
        "start_time": "2022-02-11T17:59:56.196Z"
      },
      {
        "duration": 3377,
        "start_time": "2022-02-11T17:59:56.203Z"
      },
      {
        "duration": 15,
        "start_time": "2022-02-11T17:59:59.581Z"
      },
      {
        "duration": 6,
        "start_time": "2022-02-11T17:59:59.598Z"
      },
      {
        "duration": 102,
        "start_time": "2022-02-11T17:59:59.606Z"
      },
      {
        "duration": 9,
        "start_time": "2022-02-11T17:59:59.710Z"
      },
      {
        "duration": 5,
        "start_time": "2022-02-11T17:59:59.720Z"
      },
      {
        "duration": 8,
        "start_time": "2022-02-11T17:59:59.726Z"
      },
      {
        "duration": 24,
        "start_time": "2022-02-11T17:59:59.735Z"
      },
      {
        "duration": 23,
        "start_time": "2022-02-11T17:59:59.760Z"
      },
      {
        "duration": 9,
        "start_time": "2022-02-11T17:59:59.785Z"
      },
      {
        "duration": 174,
        "start_time": "2022-02-11T17:59:59.796Z"
      },
      {
        "duration": 397,
        "start_time": "2022-02-11T17:59:59.972Z"
      },
      {
        "duration": 3,
        "start_time": "2022-02-11T18:00:00.371Z"
      },
      {
        "duration": 12,
        "start_time": "2022-02-11T18:00:00.376Z"
      },
      {
        "duration": 7,
        "start_time": "2022-02-11T18:00:00.390Z"
      },
      {
        "duration": 8,
        "start_time": "2022-02-11T18:00:00.399Z"
      },
      {
        "duration": 473,
        "start_time": "2022-02-11T18:00:00.409Z"
      },
      {
        "duration": 4,
        "start_time": "2022-02-11T18:00:00.884Z"
      },
      {
        "duration": 27,
        "start_time": "2022-02-11T18:00:00.890Z"
      },
      {
        "duration": 447,
        "start_time": "2022-02-11T18:00:00.919Z"
      },
      {
        "duration": 3,
        "start_time": "2022-02-11T18:00:01.368Z"
      },
      {
        "duration": 123,
        "start_time": "2022-02-11T18:00:01.373Z"
      },
      {
        "duration": 66,
        "start_time": "2022-02-11T18:00:01.498Z"
      },
      {
        "duration": 443,
        "start_time": "2022-02-11T18:00:01.565Z"
      },
      {
        "duration": 4,
        "start_time": "2022-02-11T18:00:02.010Z"
      },
      {
        "duration": 28,
        "start_time": "2022-02-11T18:00:02.016Z"
      },
      {
        "duration": 27,
        "start_time": "2022-02-11T18:00:02.046Z"
      },
      {
        "duration": 9,
        "start_time": "2022-02-11T18:00:02.075Z"
      },
      {
        "duration": 34,
        "start_time": "2022-02-11T18:00:02.086Z"
      },
      {
        "duration": 41,
        "start_time": "2022-02-11T18:00:02.121Z"
      },
      {
        "duration": 4,
        "start_time": "2022-02-11T18:00:02.164Z"
      },
      {
        "duration": 123,
        "start_time": "2022-02-11T18:00:02.170Z"
      },
      {
        "duration": 27,
        "start_time": "2022-02-11T18:00:02.295Z"
      },
      {
        "duration": 26,
        "start_time": "2022-02-11T18:00:02.324Z"
      },
      {
        "duration": 35,
        "start_time": "2022-02-11T18:00:02.352Z"
      },
      {
        "duration": 71,
        "start_time": "2022-02-11T18:00:02.389Z"
      },
      {
        "duration": 201,
        "start_time": "2022-02-11T18:00:02.462Z"
      },
      {
        "duration": 101,
        "start_time": "2022-02-11T18:00:02.665Z"
      },
      {
        "duration": 17,
        "start_time": "2022-02-11T18:00:02.859Z"
      },
      {
        "duration": 22,
        "start_time": "2022-02-11T18:00:02.877Z"
      },
      {
        "duration": 97353,
        "start_time": "2022-02-11T18:00:02.901Z"
      },
      {
        "duration": 8,
        "start_time": "2022-02-11T18:01:40.255Z"
      },
      {
        "duration": 9,
        "start_time": "2022-02-11T18:01:40.265Z"
      },
      {
        "duration": 11,
        "start_time": "2022-02-11T18:01:40.275Z"
      },
      {
        "duration": 3,
        "start_time": "2022-02-11T18:01:40.290Z"
      },
      {
        "duration": 67435,
        "start_time": "2022-02-11T18:01:40.295Z"
      },
      {
        "duration": 7,
        "start_time": "2022-02-11T18:02:47.732Z"
      },
      {
        "duration": 67006,
        "start_time": "2022-02-11T18:02:47.740Z"
      },
      {
        "duration": 7,
        "start_time": "2022-02-11T18:03:54.747Z"
      },
      {
        "duration": 6,
        "start_time": "2022-02-11T18:03:54.755Z"
      },
      {
        "duration": 12,
        "start_time": "2022-02-11T18:03:54.762Z"
      },
      {
        "duration": 7,
        "start_time": "2022-02-11T18:03:54.776Z"
      },
      {
        "duration": 11,
        "start_time": "2022-02-11T18:03:54.784Z"
      },
      {
        "duration": 7,
        "start_time": "2022-02-11T18:03:54.797Z"
      },
      {
        "duration": 5,
        "start_time": "2022-02-11T18:03:54.805Z"
      },
      {
        "duration": 10,
        "start_time": "2022-02-11T18:03:54.812Z"
      },
      {
        "duration": 36,
        "start_time": "2022-02-11T18:03:54.824Z"
      },
      {
        "duration": 9,
        "start_time": "2022-02-11T18:03:54.862Z"
      },
      {
        "duration": 4,
        "start_time": "2022-02-11T18:03:54.873Z"
      },
      {
        "duration": 11,
        "start_time": "2022-02-11T18:03:54.878Z"
      },
      {
        "duration": 9,
        "start_time": "2022-02-11T18:03:54.891Z"
      },
      {
        "duration": 4,
        "start_time": "2022-02-11T18:03:54.902Z"
      },
      {
        "duration": 4,
        "start_time": "2022-02-11T18:03:54.908Z"
      },
      {
        "duration": 47,
        "start_time": "2022-02-11T18:03:54.914Z"
      },
      {
        "duration": 9,
        "start_time": "2022-02-11T18:03:54.962Z"
      },
      {
        "duration": 5,
        "start_time": "2022-02-11T18:03:54.972Z"
      },
      {
        "duration": 10,
        "start_time": "2022-02-11T18:03:54.979Z"
      },
      {
        "duration": 6,
        "start_time": "2022-02-11T18:03:54.991Z"
      },
      {
        "duration": 16,
        "start_time": "2022-02-11T18:03:54.998Z"
      },
      {
        "duration": 6,
        "start_time": "2022-02-11T18:03:55.016Z"
      },
      {
        "duration": 51,
        "start_time": "2022-02-11T18:03:55.024Z"
      },
      {
        "duration": 40210,
        "start_time": "2022-02-11T18:03:55.077Z"
      },
      {
        "duration": 2,
        "start_time": "2022-02-11T18:04:35.289Z"
      },
      {
        "duration": 6,
        "start_time": "2022-02-11T18:04:35.292Z"
      },
      {
        "duration": 8,
        "start_time": "2022-02-11T18:13:19.871Z"
      },
      {
        "duration": 4,
        "start_time": "2022-02-11T18:13:28.578Z"
      },
      {
        "duration": 1175,
        "start_time": "2022-02-12T04:55:48.278Z"
      },
      {
        "duration": 739,
        "start_time": "2022-02-12T04:55:49.455Z"
      },
      {
        "duration": 34,
        "start_time": "2022-02-12T04:55:50.196Z"
      },
      {
        "duration": 26,
        "start_time": "2022-02-12T04:55:50.232Z"
      },
      {
        "duration": 6,
        "start_time": "2022-02-12T04:55:50.260Z"
      },
      {
        "duration": 23,
        "start_time": "2022-02-12T04:55:50.268Z"
      },
      {
        "duration": 38,
        "start_time": "2022-02-12T04:55:50.293Z"
      },
      {
        "duration": 3,
        "start_time": "2022-02-12T04:55:50.334Z"
      },
      {
        "duration": 106,
        "start_time": "2022-02-12T04:55:50.340Z"
      },
      {
        "duration": 47,
        "start_time": "2022-02-12T04:55:50.448Z"
      },
      {
        "duration": 146,
        "start_time": "2022-02-12T04:55:50.497Z"
      },
      {
        "duration": 10,
        "start_time": "2022-02-12T04:55:50.645Z"
      },
      {
        "duration": 36,
        "start_time": "2022-02-12T04:55:50.656Z"
      },
      {
        "duration": 11,
        "start_time": "2022-02-12T04:55:50.694Z"
      },
      {
        "duration": 22,
        "start_time": "2022-02-12T04:55:50.707Z"
      },
      {
        "duration": 30,
        "start_time": "2022-02-12T04:55:50.731Z"
      },
      {
        "duration": 46,
        "start_time": "2022-02-12T04:55:50.763Z"
      },
      {
        "duration": 5,
        "start_time": "2022-02-12T04:55:50.811Z"
      },
      {
        "duration": 43,
        "start_time": "2022-02-12T04:55:50.818Z"
      },
      {
        "duration": 35,
        "start_time": "2022-02-12T04:55:50.863Z"
      },
      {
        "duration": 69,
        "start_time": "2022-02-12T04:55:50.899Z"
      },
      {
        "duration": 10,
        "start_time": "2022-02-12T04:55:50.969Z"
      },
      {
        "duration": 19,
        "start_time": "2022-02-12T04:55:50.982Z"
      },
      {
        "duration": 3578,
        "start_time": "2022-02-12T04:55:51.004Z"
      },
      {
        "duration": 13,
        "start_time": "2022-02-12T04:55:54.584Z"
      },
      {
        "duration": 7,
        "start_time": "2022-02-12T04:55:54.599Z"
      },
      {
        "duration": 89,
        "start_time": "2022-02-12T04:55:54.607Z"
      },
      {
        "duration": 20,
        "start_time": "2022-02-12T04:55:54.698Z"
      },
      {
        "duration": 10,
        "start_time": "2022-02-12T04:55:54.720Z"
      },
      {
        "duration": 19,
        "start_time": "2022-02-12T04:55:54.732Z"
      },
      {
        "duration": 13,
        "start_time": "2022-02-12T04:55:54.752Z"
      },
      {
        "duration": 23,
        "start_time": "2022-02-12T04:55:54.767Z"
      },
      {
        "duration": 24,
        "start_time": "2022-02-12T04:55:54.791Z"
      },
      {
        "duration": 175,
        "start_time": "2022-02-12T04:55:54.817Z"
      },
      {
        "duration": 419,
        "start_time": "2022-02-12T04:55:54.994Z"
      },
      {
        "duration": 2,
        "start_time": "2022-02-12T04:55:55.419Z"
      },
      {
        "duration": 15,
        "start_time": "2022-02-12T04:55:55.423Z"
      },
      {
        "duration": 21,
        "start_time": "2022-02-12T04:55:55.440Z"
      },
      {
        "duration": 12,
        "start_time": "2022-02-12T04:55:55.462Z"
      },
      {
        "duration": 419,
        "start_time": "2022-02-12T04:55:55.476Z"
      },
      {
        "duration": 4,
        "start_time": "2022-02-12T04:55:55.897Z"
      },
      {
        "duration": 29,
        "start_time": "2022-02-12T04:55:55.902Z"
      },
      {
        "duration": 388,
        "start_time": "2022-02-12T04:55:55.933Z"
      },
      {
        "duration": 3,
        "start_time": "2022-02-12T04:55:56.322Z"
      },
      {
        "duration": 87,
        "start_time": "2022-02-12T04:55:56.327Z"
      },
      {
        "duration": 9,
        "start_time": "2022-02-12T04:55:56.415Z"
      },
      {
        "duration": 406,
        "start_time": "2022-02-12T04:55:56.426Z"
      },
      {
        "duration": 3,
        "start_time": "2022-02-12T04:55:56.834Z"
      },
      {
        "duration": 10,
        "start_time": "2022-02-12T04:55:56.839Z"
      },
      {
        "duration": 23,
        "start_time": "2022-02-12T04:55:56.851Z"
      },
      {
        "duration": 11,
        "start_time": "2022-02-12T04:55:56.876Z"
      },
      {
        "duration": 17,
        "start_time": "2022-02-12T04:55:56.889Z"
      },
      {
        "duration": 29,
        "start_time": "2022-02-12T04:55:56.907Z"
      },
      {
        "duration": 3,
        "start_time": "2022-02-12T04:55:56.937Z"
      },
      {
        "duration": 92,
        "start_time": "2022-02-12T04:55:56.942Z"
      },
      {
        "duration": 8,
        "start_time": "2022-02-12T04:55:57.036Z"
      },
      {
        "duration": 9,
        "start_time": "2022-02-12T04:55:57.045Z"
      },
      {
        "duration": 12,
        "start_time": "2022-02-12T04:55:57.056Z"
      },
      {
        "duration": 55,
        "start_time": "2022-02-12T04:55:57.070Z"
      },
      {
        "duration": 191,
        "start_time": "2022-02-12T04:55:57.128Z"
      },
      {
        "duration": 103,
        "start_time": "2022-02-12T04:55:57.322Z"
      },
      {
        "duration": 21,
        "start_time": "2022-02-12T04:55:57.427Z"
      },
      {
        "duration": 9,
        "start_time": "2022-02-12T04:55:57.450Z"
      },
      {
        "duration": 98378,
        "start_time": "2022-02-12T04:55:57.461Z"
      },
      {
        "duration": 8,
        "start_time": "2022-02-12T04:57:35.841Z"
      },
      {
        "duration": 7,
        "start_time": "2022-02-12T04:57:35.851Z"
      },
      {
        "duration": 5,
        "start_time": "2022-02-12T04:57:35.860Z"
      },
      {
        "duration": 3,
        "start_time": "2022-02-12T04:57:35.870Z"
      },
      {
        "duration": 68882,
        "start_time": "2022-02-12T04:57:35.875Z"
      },
      {
        "duration": 8,
        "start_time": "2022-02-12T04:58:44.759Z"
      },
      {
        "duration": 71715,
        "start_time": "2022-02-12T04:58:44.768Z"
      },
      {
        "duration": 6,
        "start_time": "2022-02-12T04:59:56.485Z"
      },
      {
        "duration": 4,
        "start_time": "2022-02-12T04:59:56.492Z"
      },
      {
        "duration": 12,
        "start_time": "2022-02-12T04:59:56.498Z"
      },
      {
        "duration": 9,
        "start_time": "2022-02-12T04:59:56.511Z"
      },
      {
        "duration": 11,
        "start_time": "2022-02-12T04:59:56.522Z"
      },
      {
        "duration": 9,
        "start_time": "2022-02-12T04:59:56.535Z"
      },
      {
        "duration": 4,
        "start_time": "2022-02-12T04:59:56.546Z"
      },
      {
        "duration": 11,
        "start_time": "2022-02-12T04:59:56.552Z"
      },
      {
        "duration": 6,
        "start_time": "2022-02-12T04:59:56.565Z"
      },
      {
        "duration": 46,
        "start_time": "2022-02-12T04:59:56.572Z"
      },
      {
        "duration": 4,
        "start_time": "2022-02-12T04:59:56.620Z"
      },
      {
        "duration": 15,
        "start_time": "2022-02-12T04:59:56.626Z"
      },
      {
        "duration": 20,
        "start_time": "2022-02-12T04:59:56.643Z"
      },
      {
        "duration": 5,
        "start_time": "2022-02-12T04:59:56.665Z"
      },
      {
        "duration": 27,
        "start_time": "2022-02-12T04:59:56.671Z"
      },
      {
        "duration": 21,
        "start_time": "2022-02-12T04:59:56.700Z"
      },
      {
        "duration": 7,
        "start_time": "2022-02-12T04:59:56.723Z"
      },
      {
        "duration": 6,
        "start_time": "2022-02-12T04:59:56.732Z"
      },
      {
        "duration": 23,
        "start_time": "2022-02-12T04:59:56.740Z"
      },
      {
        "duration": 9,
        "start_time": "2022-02-12T04:59:56.765Z"
      },
      {
        "duration": 12,
        "start_time": "2022-02-12T04:59:56.776Z"
      },
      {
        "duration": 29,
        "start_time": "2022-02-12T04:59:56.790Z"
      },
      {
        "duration": 26,
        "start_time": "2022-02-12T04:59:56.821Z"
      },
      {
        "duration": 43921,
        "start_time": "2022-02-12T04:59:56.849Z"
      },
      {
        "duration": 3,
        "start_time": "2022-02-12T05:00:40.771Z"
      },
      {
        "duration": 9,
        "start_time": "2022-02-12T05:00:40.775Z"
      },
      {
        "duration": 1303,
        "start_time": "2022-02-12T06:37:23.468Z"
      },
      {
        "duration": 696,
        "start_time": "2022-02-12T06:37:24.773Z"
      },
      {
        "duration": 22,
        "start_time": "2022-02-12T06:37:25.471Z"
      },
      {
        "duration": 18,
        "start_time": "2022-02-12T06:37:25.495Z"
      },
      {
        "duration": 4,
        "start_time": "2022-02-12T06:37:25.515Z"
      },
      {
        "duration": 14,
        "start_time": "2022-02-12T06:37:25.671Z"
      },
      {
        "duration": 10,
        "start_time": "2022-02-12T06:37:25.823Z"
      },
      {
        "duration": 2,
        "start_time": "2022-02-12T06:37:26.325Z"
      },
      {
        "duration": 70,
        "start_time": "2022-02-12T06:37:26.510Z"
      },
      {
        "duration": 46,
        "start_time": "2022-02-12T06:37:26.695Z"
      },
      {
        "duration": 133,
        "start_time": "2022-02-12T06:37:27.053Z"
      },
      {
        "duration": 6,
        "start_time": "2022-02-12T06:37:28.927Z"
      },
      {
        "duration": 17,
        "start_time": "2022-02-12T06:37:29.092Z"
      },
      {
        "duration": 6,
        "start_time": "2022-02-12T06:37:29.460Z"
      },
      {
        "duration": 4,
        "start_time": "2022-02-12T06:37:30.262Z"
      },
      {
        "duration": 17,
        "start_time": "2022-02-12T06:37:31.044Z"
      },
      {
        "duration": 15,
        "start_time": "2022-02-12T06:37:31.203Z"
      },
      {
        "duration": 3,
        "start_time": "2022-02-12T06:37:31.845Z"
      },
      {
        "duration": 16,
        "start_time": "2022-02-12T06:37:32.264Z"
      },
      {
        "duration": 10,
        "start_time": "2022-02-12T06:37:32.437Z"
      },
      {
        "duration": 66,
        "start_time": "2022-02-12T06:37:32.763Z"
      },
      {
        "duration": 11,
        "start_time": "2022-02-12T06:37:33.110Z"
      },
      {
        "duration": 5,
        "start_time": "2022-02-12T06:37:33.248Z"
      },
      {
        "duration": 3304,
        "start_time": "2022-02-12T06:37:33.549Z"
      },
      {
        "duration": 14,
        "start_time": "2022-02-12T06:37:36.858Z"
      },
      {
        "duration": 5,
        "start_time": "2022-02-12T06:37:36.873Z"
      },
      {
        "duration": 95,
        "start_time": "2022-02-12T06:37:36.880Z"
      },
      {
        "duration": 10,
        "start_time": "2022-02-12T06:37:36.976Z"
      },
      {
        "duration": 5,
        "start_time": "2022-02-12T06:37:36.988Z"
      },
      {
        "duration": 11,
        "start_time": "2022-02-12T06:37:36.995Z"
      },
      {
        "duration": 10,
        "start_time": "2022-02-12T06:37:37.008Z"
      },
      {
        "duration": 6,
        "start_time": "2022-02-12T06:37:37.123Z"
      },
      {
        "duration": 14,
        "start_time": "2022-02-12T06:37:37.294Z"
      },
      {
        "duration": 176,
        "start_time": "2022-02-12T06:37:37.609Z"
      },
      {
        "duration": 372,
        "start_time": "2022-02-12T06:37:38.389Z"
      },
      {
        "duration": 3,
        "start_time": "2022-02-12T06:37:38.876Z"
      },
      {
        "duration": 7,
        "start_time": "2022-02-12T06:37:39.036Z"
      },
      {
        "duration": 5,
        "start_time": "2022-02-12T06:37:39.370Z"
      },
      {
        "duration": 8,
        "start_time": "2022-02-12T06:37:39.541Z"
      },
      {
        "duration": 384,
        "start_time": "2022-02-12T06:37:39.863Z"
      },
      {
        "duration": 5,
        "start_time": "2022-02-12T06:37:40.702Z"
      },
      {
        "duration": 9,
        "start_time": "2022-02-12T06:37:40.890Z"
      },
      {
        "duration": 416,
        "start_time": "2022-02-12T06:37:41.056Z"
      },
      {
        "duration": 3,
        "start_time": "2022-02-12T06:37:41.559Z"
      },
      {
        "duration": 58,
        "start_time": "2022-02-12T06:37:41.747Z"
      },
      {
        "duration": 9,
        "start_time": "2022-02-12T06:37:42.075Z"
      },
      {
        "duration": 415,
        "start_time": "2022-02-12T06:37:42.262Z"
      },
      {
        "duration": 3,
        "start_time": "2022-02-12T06:37:44.340Z"
      },
      {
        "duration": 7,
        "start_time": "2022-02-12T06:37:45.076Z"
      },
      {
        "duration": 9,
        "start_time": "2022-02-12T06:37:45.685Z"
      },
      {
        "duration": 7,
        "start_time": "2022-02-12T06:37:46.042Z"
      },
      {
        "duration": 5,
        "start_time": "2022-02-12T06:37:46.207Z"
      },
      {
        "duration": 16,
        "start_time": "2022-02-12T06:37:47.175Z"
      },
      {
        "duration": 4,
        "start_time": "2022-02-12T06:37:48.002Z"
      },
      {
        "duration": 11,
        "start_time": "2022-02-12T06:37:48.316Z"
      },
      {
        "duration": 10,
        "start_time": "2022-02-12T06:37:48.676Z"
      },
      {
        "duration": 3,
        "start_time": "2022-02-12T06:37:50.504Z"
      },
      {
        "duration": 4,
        "start_time": "2022-02-12T06:37:52.151Z"
      },
      {
        "duration": 19,
        "start_time": "2022-02-12T06:37:54.879Z"
      },
      {
        "duration": 5,
        "start_time": "2022-02-12T06:37:55.059Z"
      },
      {
        "duration": 76,
        "start_time": "2022-02-12T06:37:55.350Z"
      },
      {
        "duration": 7,
        "start_time": "2022-02-12T06:37:55.519Z"
      },
      {
        "duration": 7,
        "start_time": "2022-02-12T06:37:55.675Z"
      },
      {
        "duration": 96955,
        "start_time": "2022-02-12T06:38:04.688Z"
      },
      {
        "duration": 8,
        "start_time": "2022-02-12T06:39:41.645Z"
      },
      {
        "duration": 11,
        "start_time": "2022-02-12T06:39:41.654Z"
      },
      {
        "duration": 6,
        "start_time": "2022-02-12T06:39:41.666Z"
      },
      {
        "duration": 10,
        "start_time": "2022-02-12T06:40:44.768Z"
      },
      {
        "duration": 8,
        "start_time": "2022-02-12T06:40:46.268Z"
      },
      {
        "duration": 400,
        "start_time": "2022-02-12T08:19:24.464Z"
      },
      {
        "duration": 1154,
        "start_time": "2022-02-12T08:19:29.821Z"
      },
      {
        "duration": 637,
        "start_time": "2022-02-12T08:19:30.977Z"
      },
      {
        "duration": 20,
        "start_time": "2022-02-12T08:19:31.616Z"
      },
      {
        "duration": 17,
        "start_time": "2022-02-12T08:19:31.638Z"
      },
      {
        "duration": 5,
        "start_time": "2022-02-12T08:19:31.657Z"
      },
      {
        "duration": 15,
        "start_time": "2022-02-12T08:19:31.664Z"
      },
      {
        "duration": 10,
        "start_time": "2022-02-12T08:19:31.680Z"
      },
      {
        "duration": 2,
        "start_time": "2022-02-12T08:19:31.693Z"
      },
      {
        "duration": 93,
        "start_time": "2022-02-12T08:19:31.697Z"
      },
      {
        "duration": 58,
        "start_time": "2022-02-12T08:19:31.792Z"
      },
      {
        "duration": 122,
        "start_time": "2022-02-12T08:19:31.852Z"
      },
      {
        "duration": 9,
        "start_time": "2022-02-12T08:19:31.975Z"
      },
      {
        "duration": 15,
        "start_time": "2022-02-12T08:19:31.985Z"
      },
      {
        "duration": 28,
        "start_time": "2022-02-12T08:19:32.002Z"
      },
      {
        "duration": 5,
        "start_time": "2022-02-12T08:19:32.032Z"
      },
      {
        "duration": 16,
        "start_time": "2022-02-12T08:19:32.038Z"
      },
      {
        "duration": 14,
        "start_time": "2022-02-12T08:19:32.056Z"
      },
      {
        "duration": 2,
        "start_time": "2022-02-12T08:19:32.071Z"
      },
      {
        "duration": 16,
        "start_time": "2022-02-12T08:19:32.075Z"
      },
      {
        "duration": 35,
        "start_time": "2022-02-12T08:19:32.092Z"
      },
      {
        "duration": 63,
        "start_time": "2022-02-12T08:19:32.129Z"
      },
      {
        "duration": 9,
        "start_time": "2022-02-12T08:19:32.194Z"
      },
      {
        "duration": 4,
        "start_time": "2022-02-12T08:19:32.206Z"
      },
      {
        "duration": 3232,
        "start_time": "2022-02-12T08:19:32.227Z"
      },
      {
        "duration": 18,
        "start_time": "2022-02-12T08:19:35.461Z"
      },
      {
        "duration": 4,
        "start_time": "2022-02-12T08:19:35.481Z"
      },
      {
        "duration": 93,
        "start_time": "2022-02-12T08:19:35.487Z"
      },
      {
        "duration": 12,
        "start_time": "2022-02-12T08:19:35.581Z"
      },
      {
        "duration": 5,
        "start_time": "2022-02-12T08:19:35.594Z"
      },
      {
        "duration": 10,
        "start_time": "2022-02-12T08:19:35.601Z"
      },
      {
        "duration": 18,
        "start_time": "2022-02-12T08:19:35.612Z"
      },
      {
        "duration": 7,
        "start_time": "2022-02-12T08:19:35.632Z"
      },
      {
        "duration": 9,
        "start_time": "2022-02-12T08:19:35.640Z"
      },
      {
        "duration": 239,
        "start_time": "2022-02-12T08:19:35.651Z"
      },
      {
        "duration": 387,
        "start_time": "2022-02-12T08:19:35.891Z"
      },
      {
        "duration": 3,
        "start_time": "2022-02-12T08:19:36.280Z"
      },
      {
        "duration": 7,
        "start_time": "2022-02-12T08:19:36.284Z"
      },
      {
        "duration": 5,
        "start_time": "2022-02-12T08:19:36.292Z"
      },
      {
        "duration": 7,
        "start_time": "2022-02-12T08:19:36.298Z"
      },
      {
        "duration": 387,
        "start_time": "2022-02-12T08:19:36.327Z"
      },
      {
        "duration": 3,
        "start_time": "2022-02-12T08:19:36.716Z"
      },
      {
        "duration": 15,
        "start_time": "2022-02-12T08:19:36.721Z"
      },
      {
        "duration": 415,
        "start_time": "2022-02-12T08:19:36.738Z"
      },
      {
        "duration": 3,
        "start_time": "2022-02-12T08:19:37.155Z"
      },
      {
        "duration": 67,
        "start_time": "2022-02-12T08:19:37.160Z"
      },
      {
        "duration": 8,
        "start_time": "2022-02-12T08:19:37.229Z"
      },
      {
        "duration": 403,
        "start_time": "2022-02-12T08:19:37.239Z"
      },
      {
        "duration": 3,
        "start_time": "2022-02-12T08:19:37.643Z"
      },
      {
        "duration": 8,
        "start_time": "2022-02-12T08:19:37.648Z"
      },
      {
        "duration": 9,
        "start_time": "2022-02-12T08:19:37.658Z"
      },
      {
        "duration": 5,
        "start_time": "2022-02-12T08:19:37.669Z"
      },
      {
        "duration": 7,
        "start_time": "2022-02-12T08:19:37.676Z"
      },
      {
        "duration": 16,
        "start_time": "2022-02-12T08:19:37.684Z"
      },
      {
        "duration": 3,
        "start_time": "2022-02-12T08:19:37.702Z"
      },
      {
        "duration": 82,
        "start_time": "2022-02-12T08:19:37.707Z"
      },
      {
        "duration": 8,
        "start_time": "2022-02-12T08:19:37.791Z"
      },
      {
        "duration": 3,
        "start_time": "2022-02-12T08:19:37.801Z"
      },
      {
        "duration": 4,
        "start_time": "2022-02-12T08:19:37.828Z"
      },
      {
        "duration": 26,
        "start_time": "2022-02-12T08:19:37.833Z"
      },
      {
        "duration": 166,
        "start_time": "2022-02-12T08:19:37.860Z"
      },
      {
        "duration": 11,
        "start_time": "2022-02-12T08:19:38.029Z"
      },
      {
        "duration": 93,
        "start_time": "2022-02-12T08:19:38.042Z"
      },
      {
        "duration": 5,
        "start_time": "2022-02-12T08:19:38.137Z"
      },
      {
        "duration": 111285,
        "start_time": "2022-02-12T08:19:38.143Z"
      },
      {
        "duration": 13,
        "start_time": "2022-02-12T08:21:29.429Z"
      },
      {
        "duration": 7,
        "start_time": "2022-02-12T08:21:29.444Z"
      },
      {
        "duration": 8,
        "start_time": "2022-02-12T08:21:29.452Z"
      },
      {
        "duration": 3,
        "start_time": "2022-02-12T08:21:29.464Z"
      },
      {
        "duration": 85267,
        "start_time": "2022-02-12T08:21:29.469Z"
      },
      {
        "duration": 14,
        "start_time": "2022-02-12T08:22:54.737Z"
      },
      {
        "duration": 86619,
        "start_time": "2022-02-12T08:22:54.753Z"
      },
      {
        "duration": 13,
        "start_time": "2022-02-12T08:24:21.373Z"
      },
      {
        "duration": 5,
        "start_time": "2022-02-12T08:24:21.388Z"
      },
      {
        "duration": 8,
        "start_time": "2022-02-12T08:24:21.394Z"
      },
      {
        "duration": 6,
        "start_time": "2022-02-12T08:24:21.403Z"
      },
      {
        "duration": 15,
        "start_time": "2022-02-12T08:24:21.410Z"
      },
      {
        "duration": 5,
        "start_time": "2022-02-12T08:24:21.427Z"
      },
      {
        "duration": 5,
        "start_time": "2022-02-12T08:24:21.433Z"
      },
      {
        "duration": 9,
        "start_time": "2022-02-12T08:24:21.439Z"
      },
      {
        "duration": 8,
        "start_time": "2022-02-12T08:24:21.450Z"
      },
      {
        "duration": 11,
        "start_time": "2022-02-12T08:24:21.460Z"
      },
      {
        "duration": 3,
        "start_time": "2022-02-12T08:24:21.473Z"
      },
      {
        "duration": 11,
        "start_time": "2022-02-12T08:24:21.478Z"
      },
      {
        "duration": 41,
        "start_time": "2022-02-12T08:24:21.490Z"
      },
      {
        "duration": 7,
        "start_time": "2022-02-12T08:24:21.533Z"
      },
      {
        "duration": 5,
        "start_time": "2022-02-12T08:24:21.541Z"
      },
      {
        "duration": 9,
        "start_time": "2022-02-12T08:24:21.547Z"
      },
      {
        "duration": 15,
        "start_time": "2022-02-12T08:24:21.557Z"
      },
      {
        "duration": 3,
        "start_time": "2022-02-12T08:24:21.573Z"
      },
      {
        "duration": 10,
        "start_time": "2022-02-12T08:24:21.577Z"
      },
      {
        "duration": 40,
        "start_time": "2022-02-12T08:24:21.588Z"
      },
      {
        "duration": 8,
        "start_time": "2022-02-12T08:24:21.629Z"
      },
      {
        "duration": 6,
        "start_time": "2022-02-12T08:24:21.638Z"
      },
      {
        "duration": 29,
        "start_time": "2022-02-12T08:24:21.645Z"
      },
      {
        "duration": 38822,
        "start_time": "2022-02-12T08:24:21.675Z"
      },
      {
        "duration": 2,
        "start_time": "2022-02-12T08:25:00.499Z"
      },
      {
        "duration": 9,
        "start_time": "2022-02-12T08:25:00.502Z"
      }
    ],
    "kernelspec": {
      "display_name": "Python 3",
      "language": "python",
      "name": "python3"
    },
    "language_info": {
      "codemirror_mode": {
        "name": "ipython",
        "version": 3
      },
      "file_extension": ".py",
      "mimetype": "text/x-python",
      "name": "python",
      "nbconvert_exporter": "python",
      "pygments_lexer": "ipython3",
      "version": "3.7.8"
    },
    "toc": {
      "base_numbering": 1,
      "nav_menu": {},
      "number_sections": true,
      "sideBar": true,
      "skip_h1_title": true,
      "title_cell": "Содержание",
      "title_sidebar": "Contents",
      "toc_cell": true,
      "toc_position": {
        "height": "calc(100% - 180px)",
        "left": "10px",
        "top": "150px",
        "width": "366.391px"
      },
      "toc_section_display": true,
      "toc_window_display": true
    },
    "colab": {
      "name": "project_08.ipynb",
      "provenance": []
    }
  },
  "nbformat": 4,
  "nbformat_minor": 0
}