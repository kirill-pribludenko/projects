{
  "cells": [
    {
      "cell_type": "markdown",
      "metadata": {
        "id": "GmxYBQ2lZrF7"
      },
      "source": [
        "## Подготовка"
      ]
    },
    {
      "cell_type": "code",
      "source": [
        "!pip install catboost"
      ],
      "metadata": {
        "colab": {
          "base_uri": "https://localhost:8080/"
        },
        "id": "f3LM7gEBKmfW",
        "outputId": "84231082-5c1f-4441-e832-e0b3c323405b"
      },
      "execution_count": 1,
      "outputs": [
        {
          "output_type": "stream",
          "name": "stdout",
          "text": [
            "Looking in indexes: https://pypi.org/simple, https://us-python.pkg.dev/colab-wheels/public/simple/\n",
            "Requirement already satisfied: catboost in /usr/local/lib/python3.7/dist-packages (1.0.6)\n",
            "Requirement already satisfied: matplotlib in /usr/local/lib/python3.7/dist-packages (from catboost) (3.2.2)\n",
            "Requirement already satisfied: scipy in /usr/local/lib/python3.7/dist-packages (from catboost) (1.4.1)\n",
            "Requirement already satisfied: six in /usr/local/lib/python3.7/dist-packages (from catboost) (1.15.0)\n",
            "Requirement already satisfied: plotly in /usr/local/lib/python3.7/dist-packages (from catboost) (5.5.0)\n",
            "Requirement already satisfied: numpy>=1.16.0 in /usr/local/lib/python3.7/dist-packages (from catboost) (1.21.6)\n",
            "Requirement already satisfied: pandas>=0.24.0 in /usr/local/lib/python3.7/dist-packages (from catboost) (1.3.5)\n",
            "Requirement already satisfied: graphviz in /usr/local/lib/python3.7/dist-packages (from catboost) (0.10.1)\n",
            "Requirement already satisfied: python-dateutil>=2.7.3 in /usr/local/lib/python3.7/dist-packages (from pandas>=0.24.0->catboost) (2.8.2)\n",
            "Requirement already satisfied: pytz>=2017.3 in /usr/local/lib/python3.7/dist-packages (from pandas>=0.24.0->catboost) (2022.1)\n",
            "Requirement already satisfied: cycler>=0.10 in /usr/local/lib/python3.7/dist-packages (from matplotlib->catboost) (0.11.0)\n",
            "Requirement already satisfied: pyparsing!=2.0.4,!=2.1.2,!=2.1.6,>=2.0.1 in /usr/local/lib/python3.7/dist-packages (from matplotlib->catboost) (3.0.9)\n",
            "Requirement already satisfied: kiwisolver>=1.0.1 in /usr/local/lib/python3.7/dist-packages (from matplotlib->catboost) (1.4.3)\n",
            "Requirement already satisfied: typing-extensions in /usr/local/lib/python3.7/dist-packages (from kiwisolver>=1.0.1->matplotlib->catboost) (4.1.1)\n",
            "Requirement already satisfied: tenacity>=6.2.0 in /usr/local/lib/python3.7/dist-packages (from plotly->catboost) (8.0.1)\n"
          ]
        }
      ]
    },
    {
      "cell_type": "code",
      "execution_count": 2,
      "metadata": {
        "id": "abgGjk3cZrGA",
        "colab": {
          "base_uri": "https://localhost:8080/"
        },
        "outputId": "9dbab557-5e09-4345-a1f1-6f2594388b6d"
      },
      "outputs": [
        {
          "output_type": "stream",
          "name": "stderr",
          "text": [
            "/usr/local/lib/python3.7/dist-packages/statsmodels/tools/_testing.py:19: FutureWarning: pandas.util.testing is deprecated. Use the functions in the public API at pandas.testing instead.\n",
            "  import pandas.util.testing as tm\n"
          ]
        }
      ],
      "source": [
        "import pandas as pd\n",
        "import numpy as np\n",
        "import matplotlib.pyplot as plt\n",
        "\n",
        "import  scipy.signal.signaltools\n",
        "from statsmodels.tsa.seasonal import seasonal_decompose\n",
        "\n",
        "from sklearn.model_selection import train_test_split, GridSearchCV, TimeSeriesSplit\n",
        "from sklearn.preprocessing import StandardScaler\n",
        "from sklearn.metrics import mean_squared_error, r2_score\n",
        "\n",
        "from sklearn.dummy import DummyRegressor\n",
        "from sklearn.ensemble import RandomForestRegressor\n",
        "import catboost as cb"
      ]
    },
    {
      "cell_type": "markdown",
      "metadata": {
        "id": "2Jpl_mSIZrGC"
      },
      "source": [
        "Загружаем данные, сразу указав какой столбец будет индексом, распознав дату"
      ]
    },
    {
      "cell_type": "code",
      "execution_count": 3,
      "metadata": {
        "id": "hRX9UjkiZrGC"
      },
      "outputs": [],
      "source": [
        "df = pd.read_csv('/content/taxi.csv', index_col=[0], parse_dates=[0])"
      ]
    },
    {
      "cell_type": "code",
      "execution_count": 4,
      "metadata": {
        "id": "YoovGrxFZrGD"
      },
      "outputs": [],
      "source": [
        "df = df.sort_index()"
      ]
    },
    {
      "cell_type": "code",
      "execution_count": 5,
      "metadata": {
        "id": "BQG232YTZrGD",
        "outputId": "58d2e7f9-77bd-4add-9d8e-cf340ee11645",
        "colab": {
          "base_uri": "https://localhost:8080/",
          "height": 238
        }
      },
      "outputs": [
        {
          "output_type": "execute_result",
          "data": {
            "text/plain": [
              "                     num_orders\n",
              "datetime                       \n",
              "2018-03-01 00:00:00           9\n",
              "2018-03-01 00:10:00          14\n",
              "2018-03-01 00:20:00          28\n",
              "2018-03-01 00:30:00          20\n",
              "2018-03-01 00:40:00          32"
            ],
            "text/html": [
              "\n",
              "  <div id=\"df-080fbbeb-9416-4f9e-ab7a-7e2129cd9363\">\n",
              "    <div class=\"colab-df-container\">\n",
              "      <div>\n",
              "<style scoped>\n",
              "    .dataframe tbody tr th:only-of-type {\n",
              "        vertical-align: middle;\n",
              "    }\n",
              "\n",
              "    .dataframe tbody tr th {\n",
              "        vertical-align: top;\n",
              "    }\n",
              "\n",
              "    .dataframe thead th {\n",
              "        text-align: right;\n",
              "    }\n",
              "</style>\n",
              "<table border=\"1\" class=\"dataframe\">\n",
              "  <thead>\n",
              "    <tr style=\"text-align: right;\">\n",
              "      <th></th>\n",
              "      <th>num_orders</th>\n",
              "    </tr>\n",
              "    <tr>\n",
              "      <th>datetime</th>\n",
              "      <th></th>\n",
              "    </tr>\n",
              "  </thead>\n",
              "  <tbody>\n",
              "    <tr>\n",
              "      <th>2018-03-01 00:00:00</th>\n",
              "      <td>9</td>\n",
              "    </tr>\n",
              "    <tr>\n",
              "      <th>2018-03-01 00:10:00</th>\n",
              "      <td>14</td>\n",
              "    </tr>\n",
              "    <tr>\n",
              "      <th>2018-03-01 00:20:00</th>\n",
              "      <td>28</td>\n",
              "    </tr>\n",
              "    <tr>\n",
              "      <th>2018-03-01 00:30:00</th>\n",
              "      <td>20</td>\n",
              "    </tr>\n",
              "    <tr>\n",
              "      <th>2018-03-01 00:40:00</th>\n",
              "      <td>32</td>\n",
              "    </tr>\n",
              "  </tbody>\n",
              "</table>\n",
              "</div>\n",
              "      <button class=\"colab-df-convert\" onclick=\"convertToInteractive('df-080fbbeb-9416-4f9e-ab7a-7e2129cd9363')\"\n",
              "              title=\"Convert this dataframe to an interactive table.\"\n",
              "              style=\"display:none;\">\n",
              "        \n",
              "  <svg xmlns=\"http://www.w3.org/2000/svg\" height=\"24px\"viewBox=\"0 0 24 24\"\n",
              "       width=\"24px\">\n",
              "    <path d=\"M0 0h24v24H0V0z\" fill=\"none\"/>\n",
              "    <path d=\"M18.56 5.44l.94 2.06.94-2.06 2.06-.94-2.06-.94-.94-2.06-.94 2.06-2.06.94zm-11 1L8.5 8.5l.94-2.06 2.06-.94-2.06-.94L8.5 2.5l-.94 2.06-2.06.94zm10 10l.94 2.06.94-2.06 2.06-.94-2.06-.94-.94-2.06-.94 2.06-2.06.94z\"/><path d=\"M17.41 7.96l-1.37-1.37c-.4-.4-.92-.59-1.43-.59-.52 0-1.04.2-1.43.59L10.3 9.45l-7.72 7.72c-.78.78-.78 2.05 0 2.83L4 21.41c.39.39.9.59 1.41.59.51 0 1.02-.2 1.41-.59l7.78-7.78 2.81-2.81c.8-.78.8-2.07 0-2.86zM5.41 20L4 18.59l7.72-7.72 1.47 1.35L5.41 20z\"/>\n",
              "  </svg>\n",
              "      </button>\n",
              "      \n",
              "  <style>\n",
              "    .colab-df-container {\n",
              "      display:flex;\n",
              "      flex-wrap:wrap;\n",
              "      gap: 12px;\n",
              "    }\n",
              "\n",
              "    .colab-df-convert {\n",
              "      background-color: #E8F0FE;\n",
              "      border: none;\n",
              "      border-radius: 50%;\n",
              "      cursor: pointer;\n",
              "      display: none;\n",
              "      fill: #1967D2;\n",
              "      height: 32px;\n",
              "      padding: 0 0 0 0;\n",
              "      width: 32px;\n",
              "    }\n",
              "\n",
              "    .colab-df-convert:hover {\n",
              "      background-color: #E2EBFA;\n",
              "      box-shadow: 0px 1px 2px rgba(60, 64, 67, 0.3), 0px 1px 3px 1px rgba(60, 64, 67, 0.15);\n",
              "      fill: #174EA6;\n",
              "    }\n",
              "\n",
              "    [theme=dark] .colab-df-convert {\n",
              "      background-color: #3B4455;\n",
              "      fill: #D2E3FC;\n",
              "    }\n",
              "\n",
              "    [theme=dark] .colab-df-convert:hover {\n",
              "      background-color: #434B5C;\n",
              "      box-shadow: 0px 1px 3px 1px rgba(0, 0, 0, 0.15);\n",
              "      filter: drop-shadow(0px 1px 2px rgba(0, 0, 0, 0.3));\n",
              "      fill: #FFFFFF;\n",
              "    }\n",
              "  </style>\n",
              "\n",
              "      <script>\n",
              "        const buttonEl =\n",
              "          document.querySelector('#df-080fbbeb-9416-4f9e-ab7a-7e2129cd9363 button.colab-df-convert');\n",
              "        buttonEl.style.display =\n",
              "          google.colab.kernel.accessAllowed ? 'block' : 'none';\n",
              "\n",
              "        async function convertToInteractive(key) {\n",
              "          const element = document.querySelector('#df-080fbbeb-9416-4f9e-ab7a-7e2129cd9363');\n",
              "          const dataTable =\n",
              "            await google.colab.kernel.invokeFunction('convertToInteractive',\n",
              "                                                     [key], {});\n",
              "          if (!dataTable) return;\n",
              "\n",
              "          const docLinkHtml = 'Like what you see? Visit the ' +\n",
              "            '<a target=\"_blank\" href=https://colab.research.google.com/notebooks/data_table.ipynb>data table notebook</a>'\n",
              "            + ' to learn more about interactive tables.';\n",
              "          element.innerHTML = '';\n",
              "          dataTable['output_type'] = 'display_data';\n",
              "          await google.colab.output.renderOutput(dataTable, element);\n",
              "          const docLink = document.createElement('div');\n",
              "          docLink.innerHTML = docLinkHtml;\n",
              "          element.appendChild(docLink);\n",
              "        }\n",
              "      </script>\n",
              "    </div>\n",
              "  </div>\n",
              "  "
            ]
          },
          "metadata": {},
          "execution_count": 5
        }
      ],
      "source": [
        "df.head()"
      ]
    },
    {
      "cell_type": "markdown",
      "metadata": {
        "id": "25kWK5VVZrGE"
      },
      "source": [
        "Проведем ресемплирование по 1 часу"
      ]
    },
    {
      "cell_type": "code",
      "execution_count": 6,
      "metadata": {
        "id": "HX1E-seUZrGF"
      },
      "outputs": [],
      "source": [
        "df = df.resample('1H').sum()"
      ]
    },
    {
      "cell_type": "code",
      "execution_count": 7,
      "metadata": {
        "id": "PQE8DQshZrGF",
        "outputId": "0eb0ff15-da92-41e8-d0d1-bfce0315aee6",
        "colab": {
          "base_uri": "https://localhost:8080/"
        }
      },
      "outputs": [
        {
          "output_type": "stream",
          "name": "stdout",
          "text": [
            "<class 'pandas.core.frame.DataFrame'>\n",
            "DatetimeIndex: 4416 entries, 2018-03-01 00:00:00 to 2018-08-31 23:00:00\n",
            "Freq: H\n",
            "Data columns (total 1 columns):\n",
            " #   Column      Non-Null Count  Dtype\n",
            "---  ------      --------------  -----\n",
            " 0   num_orders  4416 non-null   int64\n",
            "dtypes: int64(1)\n",
            "memory usage: 69.0 KB\n"
          ]
        }
      ],
      "source": [
        "df.info()"
      ]
    },
    {
      "cell_type": "code",
      "execution_count": 8,
      "metadata": {
        "scrolled": true,
        "id": "4UargvhoZrGG",
        "outputId": "91ce2d40-024c-4f9a-d0fb-711bdc40bd95",
        "colab": {
          "base_uri": "https://localhost:8080/",
          "height": 300
        }
      },
      "outputs": [
        {
          "output_type": "execute_result",
          "data": {
            "text/plain": [
              "        num_orders\n",
              "count  4416.000000\n",
              "mean     84.422781\n",
              "std      45.023853\n",
              "min       0.000000\n",
              "25%      54.000000\n",
              "50%      78.000000\n",
              "75%     107.000000\n",
              "max     462.000000"
            ],
            "text/html": [
              "\n",
              "  <div id=\"df-c271bfde-284d-43c6-8a9b-8690c7366669\">\n",
              "    <div class=\"colab-df-container\">\n",
              "      <div>\n",
              "<style scoped>\n",
              "    .dataframe tbody tr th:only-of-type {\n",
              "        vertical-align: middle;\n",
              "    }\n",
              "\n",
              "    .dataframe tbody tr th {\n",
              "        vertical-align: top;\n",
              "    }\n",
              "\n",
              "    .dataframe thead th {\n",
              "        text-align: right;\n",
              "    }\n",
              "</style>\n",
              "<table border=\"1\" class=\"dataframe\">\n",
              "  <thead>\n",
              "    <tr style=\"text-align: right;\">\n",
              "      <th></th>\n",
              "      <th>num_orders</th>\n",
              "    </tr>\n",
              "  </thead>\n",
              "  <tbody>\n",
              "    <tr>\n",
              "      <th>count</th>\n",
              "      <td>4416.000000</td>\n",
              "    </tr>\n",
              "    <tr>\n",
              "      <th>mean</th>\n",
              "      <td>84.422781</td>\n",
              "    </tr>\n",
              "    <tr>\n",
              "      <th>std</th>\n",
              "      <td>45.023853</td>\n",
              "    </tr>\n",
              "    <tr>\n",
              "      <th>min</th>\n",
              "      <td>0.000000</td>\n",
              "    </tr>\n",
              "    <tr>\n",
              "      <th>25%</th>\n",
              "      <td>54.000000</td>\n",
              "    </tr>\n",
              "    <tr>\n",
              "      <th>50%</th>\n",
              "      <td>78.000000</td>\n",
              "    </tr>\n",
              "    <tr>\n",
              "      <th>75%</th>\n",
              "      <td>107.000000</td>\n",
              "    </tr>\n",
              "    <tr>\n",
              "      <th>max</th>\n",
              "      <td>462.000000</td>\n",
              "    </tr>\n",
              "  </tbody>\n",
              "</table>\n",
              "</div>\n",
              "      <button class=\"colab-df-convert\" onclick=\"convertToInteractive('df-c271bfde-284d-43c6-8a9b-8690c7366669')\"\n",
              "              title=\"Convert this dataframe to an interactive table.\"\n",
              "              style=\"display:none;\">\n",
              "        \n",
              "  <svg xmlns=\"http://www.w3.org/2000/svg\" height=\"24px\"viewBox=\"0 0 24 24\"\n",
              "       width=\"24px\">\n",
              "    <path d=\"M0 0h24v24H0V0z\" fill=\"none\"/>\n",
              "    <path d=\"M18.56 5.44l.94 2.06.94-2.06 2.06-.94-2.06-.94-.94-2.06-.94 2.06-2.06.94zm-11 1L8.5 8.5l.94-2.06 2.06-.94-2.06-.94L8.5 2.5l-.94 2.06-2.06.94zm10 10l.94 2.06.94-2.06 2.06-.94-2.06-.94-.94-2.06-.94 2.06-2.06.94z\"/><path d=\"M17.41 7.96l-1.37-1.37c-.4-.4-.92-.59-1.43-.59-.52 0-1.04.2-1.43.59L10.3 9.45l-7.72 7.72c-.78.78-.78 2.05 0 2.83L4 21.41c.39.39.9.59 1.41.59.51 0 1.02-.2 1.41-.59l7.78-7.78 2.81-2.81c.8-.78.8-2.07 0-2.86zM5.41 20L4 18.59l7.72-7.72 1.47 1.35L5.41 20z\"/>\n",
              "  </svg>\n",
              "      </button>\n",
              "      \n",
              "  <style>\n",
              "    .colab-df-container {\n",
              "      display:flex;\n",
              "      flex-wrap:wrap;\n",
              "      gap: 12px;\n",
              "    }\n",
              "\n",
              "    .colab-df-convert {\n",
              "      background-color: #E8F0FE;\n",
              "      border: none;\n",
              "      border-radius: 50%;\n",
              "      cursor: pointer;\n",
              "      display: none;\n",
              "      fill: #1967D2;\n",
              "      height: 32px;\n",
              "      padding: 0 0 0 0;\n",
              "      width: 32px;\n",
              "    }\n",
              "\n",
              "    .colab-df-convert:hover {\n",
              "      background-color: #E2EBFA;\n",
              "      box-shadow: 0px 1px 2px rgba(60, 64, 67, 0.3), 0px 1px 3px 1px rgba(60, 64, 67, 0.15);\n",
              "      fill: #174EA6;\n",
              "    }\n",
              "\n",
              "    [theme=dark] .colab-df-convert {\n",
              "      background-color: #3B4455;\n",
              "      fill: #D2E3FC;\n",
              "    }\n",
              "\n",
              "    [theme=dark] .colab-df-convert:hover {\n",
              "      background-color: #434B5C;\n",
              "      box-shadow: 0px 1px 3px 1px rgba(0, 0, 0, 0.15);\n",
              "      filter: drop-shadow(0px 1px 2px rgba(0, 0, 0, 0.3));\n",
              "      fill: #FFFFFF;\n",
              "    }\n",
              "  </style>\n",
              "\n",
              "      <script>\n",
              "        const buttonEl =\n",
              "          document.querySelector('#df-c271bfde-284d-43c6-8a9b-8690c7366669 button.colab-df-convert');\n",
              "        buttonEl.style.display =\n",
              "          google.colab.kernel.accessAllowed ? 'block' : 'none';\n",
              "\n",
              "        async function convertToInteractive(key) {\n",
              "          const element = document.querySelector('#df-c271bfde-284d-43c6-8a9b-8690c7366669');\n",
              "          const dataTable =\n",
              "            await google.colab.kernel.invokeFunction('convertToInteractive',\n",
              "                                                     [key], {});\n",
              "          if (!dataTable) return;\n",
              "\n",
              "          const docLinkHtml = 'Like what you see? Visit the ' +\n",
              "            '<a target=\"_blank\" href=https://colab.research.google.com/notebooks/data_table.ipynb>data table notebook</a>'\n",
              "            + ' to learn more about interactive tables.';\n",
              "          element.innerHTML = '';\n",
              "          dataTable['output_type'] = 'display_data';\n",
              "          await google.colab.output.renderOutput(dataTable, element);\n",
              "          const docLink = document.createElement('div');\n",
              "          docLink.innerHTML = docLinkHtml;\n",
              "          element.appendChild(docLink);\n",
              "        }\n",
              "      </script>\n",
              "    </div>\n",
              "  </div>\n",
              "  "
            ]
          },
          "metadata": {},
          "execution_count": 8
        }
      ],
      "source": [
        "df.describe()"
      ]
    },
    {
      "cell_type": "code",
      "execution_count": 9,
      "metadata": {
        "id": "nQKwz-HCZrGG",
        "outputId": "e4b72ee7-f7c4-46dd-d880-d7148e0d8fd9",
        "colab": {
          "base_uri": "https://localhost:8080/",
          "height": 308
        }
      },
      "outputs": [
        {
          "output_type": "execute_result",
          "data": {
            "text/plain": [
              "<matplotlib.axes._subplots.AxesSubplot at 0x7f9d063b1f50>"
            ]
          },
          "metadata": {},
          "execution_count": 9
        },
        {
          "output_type": "display_data",
          "data": {
            "text/plain": [
              "<Figure size 432x288 with 1 Axes>"
            ],
            "image/png": "[encoded data removed]"
          },
          "metadata": {
            "needs_background": "light"
          }
        }
      ],
      "source": [
        "df.plot()"
      ]
    },
    {
      "cell_type": "markdown",
      "metadata": {
        "id": "YKHOvcPYZrGH"
      },
      "source": [
        "График совсем не презентабельный и не информативный. Далее расширим количетсво признаков и посмотрим более детально на предоставленные данные"
      ]
    },
    {
      "cell_type": "markdown",
      "metadata": {
        "id": "ee2MrOe2ZrGI"
      },
      "source": [
        "## Анализ"
      ]
    },
    {
      "cell_type": "markdown",
      "metadata": {
        "id": "s9IfDIGJZrGI"
      },
      "source": [
        "Добавим количество признаков"
      ]
    },
    {
      "cell_type": "code",
      "execution_count": 10,
      "metadata": {
        "id": "344_Rh4_ZrGI"
      },
      "outputs": [],
      "source": [
        "def make_features(table, max_lag, rolling_mean_size):\n",
        "    new_table = table.copy()\n",
        "    new_table['month'] = new_table.index.month\n",
        "    new_table['day'] = new_table.index.day\n",
        "    new_table['dayofweek'] = new_table.index.dayofweek\n",
        "    new_table['hour'] = new_table.index.hour\n",
        "    \n",
        "    for lag in range(1, max_lag + 1):\n",
        "        new_table['lag_{}'.format(lag)] = new_table['num_orders'].shift(lag)\n",
        "\n",
        "    new_table['rolling_mean'] = new_table['num_orders'].shift().rolling(rolling_mean_size).mean()\n",
        "    return new_table"
      ]
    },
    {
      "cell_type": "code",
      "execution_count": 11,
      "metadata": {
        "id": "AyzV__VMZrGJ"
      },
      "outputs": [],
      "source": [
        "df_new = make_features(df, 5, 5)"
      ]
    },
    {
      "cell_type": "markdown",
      "metadata": {
        "id": "KFvBwFsfZrGK"
      },
      "source": [
        "Удалим пропуски"
      ]
    },
    {
      "cell_type": "code",
      "execution_count": 12,
      "metadata": {
        "id": "DRhXlFNJZrGK"
      },
      "outputs": [],
      "source": [
        "df_new = df_new.dropna()"
      ]
    },
    {
      "cell_type": "code",
      "execution_count": 13,
      "metadata": {
        "id": "3owMl8thZrGK",
        "outputId": "1ea6773c-b1dd-4e0a-ead1-a8d5ea59259b",
        "colab": {
          "base_uri": "https://localhost:8080/",
          "height": 238
        }
      },
      "outputs": [
        {
          "output_type": "execute_result",
          "data": {
            "text/plain": [
              "                     num_orders  month  day  dayofweek  hour  lag_1  lag_2  \\\n",
              "datetime                                                                     \n",
              "2018-03-01 05:00:00           6      3    1          3     5   43.0   66.0   \n",
              "2018-03-01 06:00:00          12      3    1          3     6    6.0   43.0   \n",
              "2018-03-01 07:00:00          15      3    1          3     7   12.0    6.0   \n",
              "2018-03-01 08:00:00          34      3    1          3     8   15.0   12.0   \n",
              "2018-03-01 09:00:00          69      3    1          3     9   34.0   15.0   \n",
              "\n",
              "                     lag_3  lag_4  lag_5  rolling_mean  \n",
              "datetime                                                \n",
              "2018-03-01 05:00:00   71.0   85.0  124.0          77.8  \n",
              "2018-03-01 06:00:00   66.0   71.0   85.0          54.2  \n",
              "2018-03-01 07:00:00   43.0   66.0   71.0          39.6  \n",
              "2018-03-01 08:00:00    6.0   43.0   66.0          28.4  \n",
              "2018-03-01 09:00:00   12.0    6.0   43.0          22.0  "
            ],
            "text/html": [
              "\n",
              "  <div id=\"df-9a8be6e3-0556-45e4-9176-02f12cc496f3\">\n",
              "    <div class=\"colab-df-container\">\n",
              "      <div>\n",
              "<style scoped>\n",
              "    .dataframe tbody tr th:only-of-type {\n",
              "        vertical-align: middle;\n",
              "    }\n",
              "\n",
              "    .dataframe tbody tr th {\n",
              "        vertical-align: top;\n",
              "    }\n",
              "\n",
              "    .dataframe thead th {\n",
              "        text-align: right;\n",
              "    }\n",
              "</style>\n",
              "<table border=\"1\" class=\"dataframe\">\n",
              "  <thead>\n",
              "    <tr style=\"text-align: right;\">\n",
              "      <th></th>\n",
              "      <th>num_orders</th>\n",
              "      <th>month</th>\n",
              "      <th>day</th>\n",
              "      <th>dayofweek</th>\n",
              "      <th>hour</th>\n",
              "      <th>lag_1</th>\n",
              "      <th>lag_2</th>\n",
              "      <th>lag_3</th>\n",
              "      <th>lag_4</th>\n",
              "      <th>lag_5</th>\n",
              "      <th>rolling_mean</th>\n",
              "    </tr>\n",
              "    <tr>\n",
              "      <th>datetime</th>\n",
              "      <th></th>\n",
              "      <th></th>\n",
              "      <th></th>\n",
              "      <th></th>\n",
              "      <th></th>\n",
              "      <th></th>\n",
              "      <th></th>\n",
              "      <th></th>\n",
              "      <th></th>\n",
              "      <th></th>\n",
              "      <th></th>\n",
              "    </tr>\n",
              "  </thead>\n",
              "  <tbody>\n",
              "    <tr>\n",
              "      <th>2018-03-01 05:00:00</th>\n",
              "      <td>6</td>\n",
              "      <td>3</td>\n",
              "      <td>1</td>\n",
              "      <td>3</td>\n",
              "      <td>5</td>\n",
              "      <td>43.0</td>\n",
              "      <td>66.0</td>\n",
              "      <td>71.0</td>\n",
              "      <td>85.0</td>\n",
              "      <td>124.0</td>\n",
              "      <td>77.8</td>\n",
              "    </tr>\n",
              "    <tr>\n",
              "      <th>2018-03-01 06:00:00</th>\n",
              "      <td>12</td>\n",
              "      <td>3</td>\n",
              "      <td>1</td>\n",
              "      <td>3</td>\n",
              "      <td>6</td>\n",
              "      <td>6.0</td>\n",
              "      <td>43.0</td>\n",
              "      <td>66.0</td>\n",
              "      <td>71.0</td>\n",
              "      <td>85.0</td>\n",
              "      <td>54.2</td>\n",
              "    </tr>\n",
              "    <tr>\n",
              "      <th>2018-03-01 07:00:00</th>\n",
              "      <td>15</td>\n",
              "      <td>3</td>\n",
              "      <td>1</td>\n",
              "      <td>3</td>\n",
              "      <td>7</td>\n",
              "      <td>12.0</td>\n",
              "      <td>6.0</td>\n",
              "      <td>43.0</td>\n",
              "      <td>66.0</td>\n",
              "      <td>71.0</td>\n",
              "      <td>39.6</td>\n",
              "    </tr>\n",
              "    <tr>\n",
              "      <th>2018-03-01 08:00:00</th>\n",
              "      <td>34</td>\n",
              "      <td>3</td>\n",
              "      <td>1</td>\n",
              "      <td>3</td>\n",
              "      <td>8</td>\n",
              "      <td>15.0</td>\n",
              "      <td>12.0</td>\n",
              "      <td>6.0</td>\n",
              "      <td>43.0</td>\n",
              "      <td>66.0</td>\n",
              "      <td>28.4</td>\n",
              "    </tr>\n",
              "    <tr>\n",
              "      <th>2018-03-01 09:00:00</th>\n",
              "      <td>69</td>\n",
              "      <td>3</td>\n",
              "      <td>1</td>\n",
              "      <td>3</td>\n",
              "      <td>9</td>\n",
              "      <td>34.0</td>\n",
              "      <td>15.0</td>\n",
              "      <td>12.0</td>\n",
              "      <td>6.0</td>\n",
              "      <td>43.0</td>\n",
              "      <td>22.0</td>\n",
              "    </tr>\n",
              "  </tbody>\n",
              "</table>\n",
              "</div>\n",
              "      <button class=\"colab-df-convert\" onclick=\"convertToInteractive('df-9a8be6e3-0556-45e4-9176-02f12cc496f3')\"\n",
              "              title=\"Convert this dataframe to an interactive table.\"\n",
              "              style=\"display:none;\">\n",
              "        \n",
              "  <svg xmlns=\"http://www.w3.org/2000/svg\" height=\"24px\"viewBox=\"0 0 24 24\"\n",
              "       width=\"24px\">\n",
              "    <path d=\"M0 0h24v24H0V0z\" fill=\"none\"/>\n",
              "    <path d=\"M18.56 5.44l.94 2.06.94-2.06 2.06-.94-2.06-.94-.94-2.06-.94 2.06-2.06.94zm-11 1L8.5 8.5l.94-2.06 2.06-.94-2.06-.94L8.5 2.5l-.94 2.06-2.06.94zm10 10l.94 2.06.94-2.06 2.06-.94-2.06-.94-.94-2.06-.94 2.06-2.06.94z\"/><path d=\"M17.41 7.96l-1.37-1.37c-.4-.4-.92-.59-1.43-.59-.52 0-1.04.2-1.43.59L10.3 9.45l-7.72 7.72c-.78.78-.78 2.05 0 2.83L4 21.41c.39.39.9.59 1.41.59.51 0 1.02-.2 1.41-.59l7.78-7.78 2.81-2.81c.8-.78.8-2.07 0-2.86zM5.41 20L4 18.59l7.72-7.72 1.47 1.35L5.41 20z\"/>\n",
              "  </svg>\n",
              "      </button>\n",
              "      \n",
              "  <style>\n",
              "    .colab-df-container {\n",
              "      display:flex;\n",
              "      flex-wrap:wrap;\n",
              "      gap: 12px;\n",
              "    }\n",
              "\n",
              "    .colab-df-convert {\n",
              "      background-color: #E8F0FE;\n",
              "      border: none;\n",
              "      border-radius: 50%;\n",
              "      cursor: pointer;\n",
              "      display: none;\n",
              "      fill: #1967D2;\n",
              "      height: 32px;\n",
              "      padding: 0 0 0 0;\n",
              "      width: 32px;\n",
              "    }\n",
              "\n",
              "    .colab-df-convert:hover {\n",
              "      background-color: #E2EBFA;\n",
              "      box-shadow: 0px 1px 2px rgba(60, 64, 67, 0.3), 0px 1px 3px 1px rgba(60, 64, 67, 0.15);\n",
              "      fill: #174EA6;\n",
              "    }\n",
              "\n",
              "    [theme=dark] .colab-df-convert {\n",
              "      background-color: #3B4455;\n",
              "      fill: #D2E3FC;\n",
              "    }\n",
              "\n",
              "    [theme=dark] .colab-df-convert:hover {\n",
              "      background-color: #434B5C;\n",
              "      box-shadow: 0px 1px 3px 1px rgba(0, 0, 0, 0.15);\n",
              "      filter: drop-shadow(0px 1px 2px rgba(0, 0, 0, 0.3));\n",
              "      fill: #FFFFFF;\n",
              "    }\n",
              "  </style>\n",
              "\n",
              "      <script>\n",
              "        const buttonEl =\n",
              "          document.querySelector('#df-9a8be6e3-0556-45e4-9176-02f12cc496f3 button.colab-df-convert');\n",
              "        buttonEl.style.display =\n",
              "          google.colab.kernel.accessAllowed ? 'block' : 'none';\n",
              "\n",
              "        async function convertToInteractive(key) {\n",
              "          const element = document.querySelector('#df-9a8be6e3-0556-45e4-9176-02f12cc496f3');\n",
              "          const dataTable =\n",
              "            await google.colab.kernel.invokeFunction('convertToInteractive',\n",
              "                                                     [key], {});\n",
              "          if (!dataTable) return;\n",
              "\n",
              "          const docLinkHtml = 'Like what you see? Visit the ' +\n",
              "            '<a target=\"_blank\" href=https://colab.research.google.com/notebooks/data_table.ipynb>data table notebook</a>'\n",
              "            + ' to learn more about interactive tables.';\n",
              "          element.innerHTML = '';\n",
              "          dataTable['output_type'] = 'display_data';\n",
              "          await google.colab.output.renderOutput(dataTable, element);\n",
              "          const docLink = document.createElement('div');\n",
              "          docLink.innerHTML = docLinkHtml;\n",
              "          element.appendChild(docLink);\n",
              "        }\n",
              "      </script>\n",
              "    </div>\n",
              "  </div>\n",
              "  "
            ]
          },
          "metadata": {},
          "execution_count": 13
        }
      ],
      "source": [
        "df_new.head()"
      ]
    },
    {
      "cell_type": "markdown",
      "metadata": {
        "id": "C6CgpvTtZrGL"
      },
      "source": [
        "---"
      ]
    },
    {
      "cell_type": "markdown",
      "metadata": {
        "id": "SatnXaNcZrGL"
      },
      "source": [
        "Посмотрим есть ли тренды и сезонность в этих данных"
      ]
    },
    {
      "cell_type": "code",
      "execution_count": 14,
      "metadata": {
        "id": "_y9LYd7vZrGL",
        "outputId": "ec808bab-522f-47c5-d6a8-7802dfb077a4",
        "colab": {
          "base_uri": "https://localhost:8080/",
          "height": 585
        }
      },
      "outputs": [
        {
          "output_type": "display_data",
          "data": {
            "text/plain": [
              "<Figure size 432x576 with 3 Axes>"
            ],
            "image/png": "[encoded data removed]"
          },
          "metadata": {
            "needs_background": "light"
          }
        }
      ],
      "source": [
        "data = df_new['num_orders']\n",
        "decomposed = seasonal_decompose(data)\n",
        "\n",
        "plt.figure(figsize=(6, 8))\n",
        "\n",
        "plt.subplot(311)\n",
        "decomposed.trend.plot(ax=plt.gca())\n",
        "plt.title('General Trend')\n",
        "plt.subplot(312)\n",
        "decomposed.seasonal['2018-04-01':'2018-04-07'].plot(ax=plt.gca()) \n",
        "plt.title('Seasonality at week period')\n",
        "plt.subplot(313)\n",
        "decomposed.seasonal['2018-04-01':'2018-04-02'].plot(ax=plt.gca()) \n",
        "plt.title('Seasonality at 2 days period')\n",
        "plt.tight_layout()"
      ]
    },
    {
      "cell_type": "markdown",
      "metadata": {
        "id": "y3PdYu61ZrGL"
      },
      "source": [
        "Количество заказов с началом лета увеличивается, что естественно теплое время года благоприятствует туризму. И сезонность ярко выраженная, то есть начиная с 06.00 и до 24.00 количество заказов растет, думаю это связано с подстройкой работы аэропортов под биоритм человека, никто не любит вылетать/прилетать поздней ночью."
      ]
    },
    {
      "cell_type": "markdown",
      "metadata": {
        "id": "oP3JlHneZrGM"
      },
      "source": [
        "---"
      ]
    },
    {
      "cell_type": "markdown",
      "metadata": {
        "id": "MRxMjttLZrGM"
      },
      "source": [
        "Посмотрим является ли наши данные стационарным времянным рядом"
      ]
    },
    {
      "cell_type": "code",
      "execution_count": 15,
      "metadata": {
        "id": "YP_-K7pgZrGM",
        "outputId": "b05e7c14-e0e8-4231-a036-4fcc056b524f",
        "colab": {
          "base_uri": "https://localhost:8080/",
          "height": 308
        }
      },
      "outputs": [
        {
          "output_type": "execute_result",
          "data": {
            "text/plain": [
              "<matplotlib.axes._subplots.AxesSubplot at 0x7f9d032ff3d0>"
            ]
          },
          "metadata": {},
          "execution_count": 15
        },
        {
          "output_type": "display_data",
          "data": {
            "text/plain": [
              "<Figure size 432x288 with 1 Axes>"
            ],
            "image/png": "[encoded data removed]"
          },
          "metadata": {
            "needs_background": "light"
          }
        }
      ],
      "source": [
        "data = df_new - df_new.shift()\n",
        "data['mean'] = data['num_orders'].rolling(24).mean()\n",
        "data['std'] = data['num_orders'].rolling(24).std()\n",
        "data[['num_orders', 'mean', 'std']].plot()"
      ]
    },
    {
      "cell_type": "markdown",
      "metadata": {
        "id": "rHRmD2R4ZrGN"
      },
      "source": [
        "Как видно из графика среднее никак не меняется и предстваляет ровную линию. В правой части графика видно увеличение стандартного отклонения, оно связано с трендом, который мы рассмотрели ранее. Следовательно можно сделать вывод, что наши данные являются стационарным времянным рядом."
      ]
    },
    {
      "cell_type": "markdown",
      "metadata": {
        "id": "0w7ogpHuZrGN"
      },
      "source": [
        "### Вывод"
      ]
    },
    {
      "cell_type": "markdown",
      "metadata": {
        "id": "nEq727KyZrGN"
      },
      "source": [
        "Рассмотрели более детально полученные данные убедились в наличии тренда и сезонности в данных, а так же что данные являются стационарным времянным рядом, что значит можно к нему применять мат.аппарат для прогнозирования."
      ]
    },
    {
      "cell_type": "markdown",
      "metadata": {
        "id": "leE3r8EZZrGN"
      },
      "source": [
        "## Обучение"
      ]
    },
    {
      "cell_type": "markdown",
      "metadata": {
        "id": "5EgGqXV4ZrGO"
      },
      "source": [
        "Рассмотрим два алгоритма RandomForest & Catboost. Так как в данных есть категориальные и количественные данные, то для модели случайного леса преобразуем категориальные признаки методом OHE. В Catboost укажем какие признаки являются категориальными."
      ]
    },
    {
      "cell_type": "code",
      "execution_count": 16,
      "metadata": {
        "id": "-cqls2y0ZrGO"
      },
      "outputs": [],
      "source": [
        "df_1 = df_new.copy()\n",
        "df_2 = df_new.copy()"
      ]
    },
    {
      "cell_type": "markdown",
      "metadata": {
        "id": "9peqNCFjZrGO"
      },
      "source": [
        "### Подготовка данных"
      ]
    },
    {
      "cell_type": "markdown",
      "metadata": {
        "id": "s52SQSGRZrGO"
      },
      "source": [
        "Разделим данные на две выборки для обучения и для тестирования"
      ]
    },
    {
      "cell_type": "code",
      "execution_count": 17,
      "metadata": {
        "id": "PJFOklPqZrGO"
      },
      "outputs": [],
      "source": [
        "cat_data = ['month','day', 'dayofweek', 'hour']\n",
        "num_data = ['lag_1','lag_2', 'lag_3', 'rolling_mean']"
      ]
    },
    {
      "cell_type": "code",
      "execution_count": 18,
      "metadata": {
        "id": "H4jKF9r-ZrGP"
      },
      "outputs": [],
      "source": [
        "df_1 = pd.get_dummies(data=df_1,columns=cat_data, drop_first=True)"
      ]
    },
    {
      "cell_type": "code",
      "execution_count": 19,
      "metadata": {
        "id": "bTu0y-FLZrGP"
      },
      "outputs": [],
      "source": [
        "train_1, test_1 = train_test_split(df_1, shuffle=False, test_size=0.1)\n",
        "train_2, test_2 = train_test_split(df_2, shuffle=False, test_size=0.1)\n",
        "train_1 = train_1.dropna()\n",
        "train_2 = train_2.dropna()\n",
        "\n",
        "features_train_1 = train_1.drop(['num_orders'], axis=1)\n",
        "target_train_1 = train_1['num_orders']\n",
        "features_test_1 = test_1.drop(['num_orders'], axis=1)\n",
        "target_test_1 = test_1['num_orders']\n",
        "\n",
        "\n",
        "features_train_2 = train_2.drop(['num_orders'], axis=1)\n",
        "target_train_2 = train_2['num_orders']\n",
        "features_test_2 = test_2.drop(['num_orders'], axis=1)\n",
        "target_test_2 = test_2['num_orders']"
      ]
    },
    {
      "cell_type": "markdown",
      "metadata": {
        "id": "Az4jdyiVZrGQ"
      },
      "source": [
        "Масштабируем количественные признаки"
      ]
    },
    {
      "cell_type": "code",
      "execution_count": 20,
      "metadata": {
        "id": "Pwt7ewUeZrGQ"
      },
      "outputs": [],
      "source": [
        "scaler = StandardScaler()\n",
        "scaler.fit(features_train_1[num_data]) \n",
        "features_train_1[num_data] = scaler.transform(features_train_1[num_data])\n",
        "features_test_1[num_data] = scaler.transform(features_test_1[num_data])\n",
        "features_train_2[num_data] = scaler.transform(features_train_2[num_data])\n",
        "features_test_2[num_data] = scaler.transform(features_test_2[num_data])"
      ]
    },
    {
      "cell_type": "markdown",
      "metadata": {
        "id": "Rfa8LouqZrGQ"
      },
      "source": [
        "### Поиск лучшей модели"
      ]
    },
    {
      "cell_type": "markdown",
      "metadata": {
        "id": "rPpMGJjPZrGR"
      },
      "source": [
        "Так как у нас временные ряды, то воспользуемся функцией **TimeSeriesSplit()**"
      ]
    },
    {
      "cell_type": "code",
      "execution_count": 21,
      "metadata": {
        "id": "X-NgymyDZrGR"
      },
      "outputs": [],
      "source": [
        "tscv = TimeSeriesSplit(n_splits=5)"
      ]
    },
    {
      "cell_type": "code",
      "execution_count": 22,
      "metadata": {
        "id": "0DWL1Zf0ZrGR"
      },
      "outputs": [],
      "source": [
        "result_df = pd.DataFrame(columns=['RMSE', 'R2'])\n",
        "result_df.index.name='name_ml'"
      ]
    },
    {
      "cell_type": "code",
      "execution_count": 23,
      "metadata": {
        "id": "4b-1POJtZrGR",
        "outputId": "d1cc7f7d-1953-4cde-eb8e-83865e1710af",
        "colab": {
          "base_uri": "https://localhost:8080/",
          "height": 216
        }
      },
      "outputs": [
        {
          "output_type": "stream",
          "name": "stdout",
          "text": [
            "Best parameters set found on development set:\n",
            "{'max_depth': 11, 'n_estimators': 200}\n",
            "\n",
            "******************************************************************************************\n"
          ]
        },
        {
          "output_type": "display_data",
          "data": {
            "text/plain": [
              "               RMSE    R2\n",
              "name_ml                  \n",
              "RandomForest  49.74  0.28"
            ],
            "text/html": [
              "\n",
              "  <div id=\"df-8d684e04-c7c6-4cb3-a213-fcd62f835a5b\">\n",
              "    <div class=\"colab-df-container\">\n",
              "      <div>\n",
              "<style scoped>\n",
              "    .dataframe tbody tr th:only-of-type {\n",
              "        vertical-align: middle;\n",
              "    }\n",
              "\n",
              "    .dataframe tbody tr th {\n",
              "        vertical-align: top;\n",
              "    }\n",
              "\n",
              "    .dataframe thead th {\n",
              "        text-align: right;\n",
              "    }\n",
              "</style>\n",
              "<table border=\"1\" class=\"dataframe\">\n",
              "  <thead>\n",
              "    <tr style=\"text-align: right;\">\n",
              "      <th></th>\n",
              "      <th>RMSE</th>\n",
              "      <th>R2</th>\n",
              "    </tr>\n",
              "    <tr>\n",
              "      <th>name_ml</th>\n",
              "      <th></th>\n",
              "      <th></th>\n",
              "    </tr>\n",
              "  </thead>\n",
              "  <tbody>\n",
              "    <tr>\n",
              "      <th>RandomForest</th>\n",
              "      <td>49.74</td>\n",
              "      <td>0.28</td>\n",
              "    </tr>\n",
              "  </tbody>\n",
              "</table>\n",
              "</div>\n",
              "      <button class=\"colab-df-convert\" onclick=\"convertToInteractive('df-8d684e04-c7c6-4cb3-a213-fcd62f835a5b')\"\n",
              "              title=\"Convert this dataframe to an interactive table.\"\n",
              "              style=\"display:none;\">\n",
              "        \n",
              "  <svg xmlns=\"http://www.w3.org/2000/svg\" height=\"24px\"viewBox=\"0 0 24 24\"\n",
              "       width=\"24px\">\n",
              "    <path d=\"M0 0h24v24H0V0z\" fill=\"none\"/>\n",
              "    <path d=\"M18.56 5.44l.94 2.06.94-2.06 2.06-.94-2.06-.94-.94-2.06-.94 2.06-2.06.94zm-11 1L8.5 8.5l.94-2.06 2.06-.94-2.06-.94L8.5 2.5l-.94 2.06-2.06.94zm10 10l.94 2.06.94-2.06 2.06-.94-2.06-.94-.94-2.06-.94 2.06-2.06.94z\"/><path d=\"M17.41 7.96l-1.37-1.37c-.4-.4-.92-.59-1.43-.59-.52 0-1.04.2-1.43.59L10.3 9.45l-7.72 7.72c-.78.78-.78 2.05 0 2.83L4 21.41c.39.39.9.59 1.41.59.51 0 1.02-.2 1.41-.59l7.78-7.78 2.81-2.81c.8-.78.8-2.07 0-2.86zM5.41 20L4 18.59l7.72-7.72 1.47 1.35L5.41 20z\"/>\n",
              "  </svg>\n",
              "      </button>\n",
              "      \n",
              "  <style>\n",
              "    .colab-df-container {\n",
              "      display:flex;\n",
              "      flex-wrap:wrap;\n",
              "      gap: 12px;\n",
              "    }\n",
              "\n",
              "    .colab-df-convert {\n",
              "      background-color: #E8F0FE;\n",
              "      border: none;\n",
              "      border-radius: 50%;\n",
              "      cursor: pointer;\n",
              "      display: none;\n",
              "      fill: #1967D2;\n",
              "      height: 32px;\n",
              "      padding: 0 0 0 0;\n",
              "      width: 32px;\n",
              "    }\n",
              "\n",
              "    .colab-df-convert:hover {\n",
              "      background-color: #E2EBFA;\n",
              "      box-shadow: 0px 1px 2px rgba(60, 64, 67, 0.3), 0px 1px 3px 1px rgba(60, 64, 67, 0.15);\n",
              "      fill: #174EA6;\n",
              "    }\n",
              "\n",
              "    [theme=dark] .colab-df-convert {\n",
              "      background-color: #3B4455;\n",
              "      fill: #D2E3FC;\n",
              "    }\n",
              "\n",
              "    [theme=dark] .colab-df-convert:hover {\n",
              "      background-color: #434B5C;\n",
              "      box-shadow: 0px 1px 3px 1px rgba(0, 0, 0, 0.15);\n",
              "      filter: drop-shadow(0px 1px 2px rgba(0, 0, 0, 0.3));\n",
              "      fill: #FFFFFF;\n",
              "    }\n",
              "  </style>\n",
              "\n",
              "      <script>\n",
              "        const buttonEl =\n",
              "          document.querySelector('#df-8d684e04-c7c6-4cb3-a213-fcd62f835a5b button.colab-df-convert');\n",
              "        buttonEl.style.display =\n",
              "          google.colab.kernel.accessAllowed ? 'block' : 'none';\n",
              "\n",
              "        async function convertToInteractive(key) {\n",
              "          const element = document.querySelector('#df-8d684e04-c7c6-4cb3-a213-fcd62f835a5b');\n",
              "          const dataTable =\n",
              "            await google.colab.kernel.invokeFunction('convertToInteractive',\n",
              "                                                     [key], {});\n",
              "          if (!dataTable) return;\n",
              "\n",
              "          const docLinkHtml = 'Like what you see? Visit the ' +\n",
              "            '<a target=\"_blank\" href=https://colab.research.google.com/notebooks/data_table.ipynb>data table notebook</a>'\n",
              "            + ' to learn more about interactive tables.';\n",
              "          element.innerHTML = '';\n",
              "          dataTable['output_type'] = 'display_data';\n",
              "          await google.colab.output.renderOutput(dataTable, element);\n",
              "          const docLink = document.createElement('div');\n",
              "          docLink.innerHTML = docLinkHtml;\n",
              "          element.appendChild(docLink);\n",
              "        }\n",
              "      </script>\n",
              "    </div>\n",
              "  </div>\n",
              "  "
            ]
          },
          "metadata": {}
        },
        {
          "output_type": "stream",
          "name": "stdout",
          "text": [
            "CPU times: user 7.05 s, sys: 293 ms, total: 7.35 s\n",
            "Wall time: 4min 8s\n"
          ]
        }
      ],
      "source": [
        "%%time\n",
        "#Время выполнения ячеки около 4 минут\n",
        "tuned_parameters = {\"n_estimators\": list(range(80,201,20)), \n",
        "                    \"max_depth\"   : list(range(5,12,1))}\n",
        "\n",
        "scoring = ('neg_root_mean_squared_error')\n",
        "rf_model = RandomForestRegressor(random_state=101)\n",
        "\n",
        "rand_forest = GridSearchCV(rf_model, param_grid=tuned_parameters, scoring=scoring, cv=tscv, n_jobs=-1)\n",
        "rand_forest.fit(features_train_1, target_train_1)\n",
        "print(\"Best parameters set found on development set:\")\n",
        "print(rand_forest.best_params_)\n",
        "print('')\n",
        "print('***'*30)\n",
        "rand_pred = rand_forest.predict(features_test_1)\n",
        "result_df.loc['RandomForest'] = [round(mean_squared_error(target_test_1, rand_pred, squared=False), 2), \n",
        "                                 round(r2_score(target_test_1, rand_pred), 2)]\n",
        "display(result_df)"
      ]
    },
    {
      "cell_type": "code",
      "execution_count": 24,
      "metadata": {
        "id": "tkbCmdPrZrGS",
        "outputId": "f3af900b-403b-4546-dde3-9ed6ff6bc1ca",
        "colab": {
          "base_uri": "https://localhost:8080/",
          "height": 248
        }
      },
      "outputs": [
        {
          "output_type": "stream",
          "name": "stdout",
          "text": [
            "Best parameters set found on development set:\n",
            "{'depth': 5, 'iterations': 120}\n",
            "\n",
            "******************************************************************************************\n"
          ]
        },
        {
          "output_type": "display_data",
          "data": {
            "text/plain": [
              "               RMSE    R2\n",
              "name_ml                  \n",
              "RandomForest  49.74  0.28\n",
              "CatBoost      41.50  0.50"
            ],
            "text/html": [
              "\n",
              "  <div id=\"df-f4b7312c-1c8d-422f-b245-46719a80b480\">\n",
              "    <div class=\"colab-df-container\">\n",
              "      <div>\n",
              "<style scoped>\n",
              "    .dataframe tbody tr th:only-of-type {\n",
              "        vertical-align: middle;\n",
              "    }\n",
              "\n",
              "    .dataframe tbody tr th {\n",
              "        vertical-align: top;\n",
              "    }\n",
              "\n",
              "    .dataframe thead th {\n",
              "        text-align: right;\n",
              "    }\n",
              "</style>\n",
              "<table border=\"1\" class=\"dataframe\">\n",
              "  <thead>\n",
              "    <tr style=\"text-align: right;\">\n",
              "      <th></th>\n",
              "      <th>RMSE</th>\n",
              "      <th>R2</th>\n",
              "    </tr>\n",
              "    <tr>\n",
              "      <th>name_ml</th>\n",
              "      <th></th>\n",
              "      <th></th>\n",
              "    </tr>\n",
              "  </thead>\n",
              "  <tbody>\n",
              "    <tr>\n",
              "      <th>RandomForest</th>\n",
              "      <td>49.74</td>\n",
              "      <td>0.28</td>\n",
              "    </tr>\n",
              "    <tr>\n",
              "      <th>CatBoost</th>\n",
              "      <td>41.50</td>\n",
              "      <td>0.50</td>\n",
              "    </tr>\n",
              "  </tbody>\n",
              "</table>\n",
              "</div>\n",
              "      <button class=\"colab-df-convert\" onclick=\"convertToInteractive('df-f4b7312c-1c8d-422f-b245-46719a80b480')\"\n",
              "              title=\"Convert this dataframe to an interactive table.\"\n",
              "              style=\"display:none;\">\n",
              "        \n",
              "  <svg xmlns=\"http://www.w3.org/2000/svg\" height=\"24px\"viewBox=\"0 0 24 24\"\n",
              "       width=\"24px\">\n",
              "    <path d=\"M0 0h24v24H0V0z\" fill=\"none\"/>\n",
              "    <path d=\"M18.56 5.44l.94 2.06.94-2.06 2.06-.94-2.06-.94-.94-2.06-.94 2.06-2.06.94zm-11 1L8.5 8.5l.94-2.06 2.06-.94-2.06-.94L8.5 2.5l-.94 2.06-2.06.94zm10 10l.94 2.06.94-2.06 2.06-.94-2.06-.94-.94-2.06-.94 2.06-2.06.94z\"/><path d=\"M17.41 7.96l-1.37-1.37c-.4-.4-.92-.59-1.43-.59-.52 0-1.04.2-1.43.59L10.3 9.45l-7.72 7.72c-.78.78-.78 2.05 0 2.83L4 21.41c.39.39.9.59 1.41.59.51 0 1.02-.2 1.41-.59l7.78-7.78 2.81-2.81c.8-.78.8-2.07 0-2.86zM5.41 20L4 18.59l7.72-7.72 1.47 1.35L5.41 20z\"/>\n",
              "  </svg>\n",
              "      </button>\n",
              "      \n",
              "  <style>\n",
              "    .colab-df-container {\n",
              "      display:flex;\n",
              "      flex-wrap:wrap;\n",
              "      gap: 12px;\n",
              "    }\n",
              "\n",
              "    .colab-df-convert {\n",
              "      background-color: #E8F0FE;\n",
              "      border: none;\n",
              "      border-radius: 50%;\n",
              "      cursor: pointer;\n",
              "      display: none;\n",
              "      fill: #1967D2;\n",
              "      height: 32px;\n",
              "      padding: 0 0 0 0;\n",
              "      width: 32px;\n",
              "    }\n",
              "\n",
              "    .colab-df-convert:hover {\n",
              "      background-color: #E2EBFA;\n",
              "      box-shadow: 0px 1px 2px rgba(60, 64, 67, 0.3), 0px 1px 3px 1px rgba(60, 64, 67, 0.15);\n",
              "      fill: #174EA6;\n",
              "    }\n",
              "\n",
              "    [theme=dark] .colab-df-convert {\n",
              "      background-color: #3B4455;\n",
              "      fill: #D2E3FC;\n",
              "    }\n",
              "\n",
              "    [theme=dark] .colab-df-convert:hover {\n",
              "      background-color: #434B5C;\n",
              "      box-shadow: 0px 1px 3px 1px rgba(0, 0, 0, 0.15);\n",
              "      filter: drop-shadow(0px 1px 2px rgba(0, 0, 0, 0.3));\n",
              "      fill: #FFFFFF;\n",
              "    }\n",
              "  </style>\n",
              "\n",
              "      <script>\n",
              "        const buttonEl =\n",
              "          document.querySelector('#df-f4b7312c-1c8d-422f-b245-46719a80b480 button.colab-df-convert');\n",
              "        buttonEl.style.display =\n",
              "          google.colab.kernel.accessAllowed ? 'block' : 'none';\n",
              "\n",
              "        async function convertToInteractive(key) {\n",
              "          const element = document.querySelector('#df-f4b7312c-1c8d-422f-b245-46719a80b480');\n",
              "          const dataTable =\n",
              "            await google.colab.kernel.invokeFunction('convertToInteractive',\n",
              "                                                     [key], {});\n",
              "          if (!dataTable) return;\n",
              "\n",
              "          const docLinkHtml = 'Like what you see? Visit the ' +\n",
              "            '<a target=\"_blank\" href=https://colab.research.google.com/notebooks/data_table.ipynb>data table notebook</a>'\n",
              "            + ' to learn more about interactive tables.';\n",
              "          element.innerHTML = '';\n",
              "          dataTable['output_type'] = 'display_data';\n",
              "          await google.colab.output.renderOutput(dataTable, element);\n",
              "          const docLink = document.createElement('div');\n",
              "          docLink.innerHTML = docLinkHtml;\n",
              "          element.appendChild(docLink);\n",
              "        }\n",
              "      </script>\n",
              "    </div>\n",
              "  </div>\n",
              "  "
            ]
          },
          "metadata": {}
        },
        {
          "output_type": "stream",
          "name": "stdout",
          "text": [
            "CPU times: user 4.09 s, sys: 293 ms, total: 4.38 s\n",
            "Wall time: 4min 36s\n"
          ]
        }
      ],
      "source": [
        "%%time\n",
        "#Время выполнения ячеки около 9 минут\n",
        "tuned_parameters = {'depth'         : list(range(5,12,1)),\n",
        "                    'iterations'    : list(range(80,201,20))\n",
        "                   }\n",
        "\n",
        "cat_model = cb.CatBoostRegressor(random_seed=101, \n",
        "                                 early_stopping_rounds=20, \n",
        "                                 loss_function = 'RMSE',\n",
        "                                 cat_features = cat_data,\n",
        "                                 silent=True)\n",
        "\n",
        "CBR = GridSearchCV(cat_model, param_grid=tuned_parameters, cv=tscv, n_jobs=-1)\n",
        "CBR.fit(features_train_2, target_train_2, eval_set=(features_test_2, target_test_2))\n",
        "\n",
        "print(\"Best parameters set found on development set:\")\n",
        "print(CBR.best_params_)\n",
        "print('')\n",
        "print('***'*30)\n",
        "cat_pred = CBR.predict(features_test_2)\n",
        "result_df.loc['CatBoost'] = [round(mean_squared_error(target_test_2, cat_pred, squared=False), 2), \n",
        "                                 round(r2_score(target_test_2, cat_pred), 2)]\n",
        "display(result_df)"
      ]
    },
    {
      "cell_type": "markdown",
      "metadata": {
        "id": "rXfr3jBBZrGT"
      },
      "source": [
        "### Вывод"
      ]
    },
    {
      "cell_type": "markdown",
      "metadata": {
        "id": "gs2reBYaZrGT"
      },
      "source": [
        "Успешно подготовили данные для двух моделей, с помощью метода GridSearchCV удалось подобрать лучшие параметры для двух моделей RandomForest & Catboost"
      ]
    },
    {
      "cell_type": "markdown",
      "metadata": {
        "id": "Sm6c8ZioZrGT"
      },
      "source": [
        "## Тестирование"
      ]
    },
    {
      "cell_type": "markdown",
      "metadata": {
        "id": "XoP-SINMZrGU"
      },
      "source": [
        "Проверим наши модели на тестовых данных, и дополнительно сравним с константной моделью, в качестве предсказаний возьмем медиану"
      ]
    },
    {
      "cell_type": "code",
      "execution_count": 25,
      "metadata": {
        "id": "NUq0iHHoZrGU",
        "outputId": "7f9e4118-147f-4d6c-9b6d-2ab975d6de4c",
        "colab": {
          "base_uri": "https://localhost:8080/",
          "height": 175
        }
      },
      "outputs": [
        {
          "output_type": "display_data",
          "data": {
            "text/plain": [
              "              RMSE на тесте  R2 на тесте\n",
              "Модель                                  \n",
              "RandomForest      49.739663     0.278298\n",
              "CatBoost          45.357103     0.399874\n",
              "Dummy             87.152776    -1.215718"
            ],
            "text/html": [
              "\n",
              "  <div id=\"df-2da235a8-7a9a-4708-aa5f-7fea2dcbdc9b\">\n",
              "    <div class=\"colab-df-container\">\n",
              "      <div>\n",
              "<style scoped>\n",
              "    .dataframe tbody tr th:only-of-type {\n",
              "        vertical-align: middle;\n",
              "    }\n",
              "\n",
              "    .dataframe tbody tr th {\n",
              "        vertical-align: top;\n",
              "    }\n",
              "\n",
              "    .dataframe thead th {\n",
              "        text-align: right;\n",
              "    }\n",
              "</style>\n",
              "<table border=\"1\" class=\"dataframe\">\n",
              "  <thead>\n",
              "    <tr style=\"text-align: right;\">\n",
              "      <th></th>\n",
              "      <th>RMSE на тесте</th>\n",
              "      <th>R2 на тесте</th>\n",
              "    </tr>\n",
              "    <tr>\n",
              "      <th>Модель</th>\n",
              "      <th></th>\n",
              "      <th></th>\n",
              "    </tr>\n",
              "  </thead>\n",
              "  <tbody>\n",
              "    <tr>\n",
              "      <th>RandomForest</th>\n",
              "      <td>49.739663</td>\n",
              "      <td>0.278298</td>\n",
              "    </tr>\n",
              "    <tr>\n",
              "      <th>CatBoost</th>\n",
              "      <td>45.357103</td>\n",
              "      <td>0.399874</td>\n",
              "    </tr>\n",
              "    <tr>\n",
              "      <th>Dummy</th>\n",
              "      <td>87.152776</td>\n",
              "      <td>-1.215718</td>\n",
              "    </tr>\n",
              "  </tbody>\n",
              "</table>\n",
              "</div>\n",
              "      <button class=\"colab-df-convert\" onclick=\"convertToInteractive('df-2da235a8-7a9a-4708-aa5f-7fea2dcbdc9b')\"\n",
              "              title=\"Convert this dataframe to an interactive table.\"\n",
              "              style=\"display:none;\">\n",
              "        \n",
              "  <svg xmlns=\"http://www.w3.org/2000/svg\" height=\"24px\"viewBox=\"0 0 24 24\"\n",
              "       width=\"24px\">\n",
              "    <path d=\"M0 0h24v24H0V0z\" fill=\"none\"/>\n",
              "    <path d=\"M18.56 5.44l.94 2.06.94-2.06 2.06-.94-2.06-.94-.94-2.06-.94 2.06-2.06.94zm-11 1L8.5 8.5l.94-2.06 2.06-.94-2.06-.94L8.5 2.5l-.94 2.06-2.06.94zm10 10l.94 2.06.94-2.06 2.06-.94-2.06-.94-.94-2.06-.94 2.06-2.06.94z\"/><path d=\"M17.41 7.96l-1.37-1.37c-.4-.4-.92-.59-1.43-.59-.52 0-1.04.2-1.43.59L10.3 9.45l-7.72 7.72c-.78.78-.78 2.05 0 2.83L4 21.41c.39.39.9.59 1.41.59.51 0 1.02-.2 1.41-.59l7.78-7.78 2.81-2.81c.8-.78.8-2.07 0-2.86zM5.41 20L4 18.59l7.72-7.72 1.47 1.35L5.41 20z\"/>\n",
              "  </svg>\n",
              "      </button>\n",
              "      \n",
              "  <style>\n",
              "    .colab-df-container {\n",
              "      display:flex;\n",
              "      flex-wrap:wrap;\n",
              "      gap: 12px;\n",
              "    }\n",
              "\n",
              "    .colab-df-convert {\n",
              "      background-color: #E8F0FE;\n",
              "      border: none;\n",
              "      border-radius: 50%;\n",
              "      cursor: pointer;\n",
              "      display: none;\n",
              "      fill: #1967D2;\n",
              "      height: 32px;\n",
              "      padding: 0 0 0 0;\n",
              "      width: 32px;\n",
              "    }\n",
              "\n",
              "    .colab-df-convert:hover {\n",
              "      background-color: #E2EBFA;\n",
              "      box-shadow: 0px 1px 2px rgba(60, 64, 67, 0.3), 0px 1px 3px 1px rgba(60, 64, 67, 0.15);\n",
              "      fill: #174EA6;\n",
              "    }\n",
              "\n",
              "    [theme=dark] .colab-df-convert {\n",
              "      background-color: #3B4455;\n",
              "      fill: #D2E3FC;\n",
              "    }\n",
              "\n",
              "    [theme=dark] .colab-df-convert:hover {\n",
              "      background-color: #434B5C;\n",
              "      box-shadow: 0px 1px 3px 1px rgba(0, 0, 0, 0.15);\n",
              "      filter: drop-shadow(0px 1px 2px rgba(0, 0, 0, 0.3));\n",
              "      fill: #FFFFFF;\n",
              "    }\n",
              "  </style>\n",
              "\n",
              "      <script>\n",
              "        const buttonEl =\n",
              "          document.querySelector('#df-2da235a8-7a9a-4708-aa5f-7fea2dcbdc9b button.colab-df-convert');\n",
              "        buttonEl.style.display =\n",
              "          google.colab.kernel.accessAllowed ? 'block' : 'none';\n",
              "\n",
              "        async function convertToInteractive(key) {\n",
              "          const element = document.querySelector('#df-2da235a8-7a9a-4708-aa5f-7fea2dcbdc9b');\n",
              "          const dataTable =\n",
              "            await google.colab.kernel.invokeFunction('convertToInteractive',\n",
              "                                                     [key], {});\n",
              "          if (!dataTable) return;\n",
              "\n",
              "          const docLinkHtml = 'Like what you see? Visit the ' +\n",
              "            '<a target=\"_blank\" href=https://colab.research.google.com/notebooks/data_table.ipynb>data table notebook</a>'\n",
              "            + ' to learn more about interactive tables.';\n",
              "          element.innerHTML = '';\n",
              "          dataTable['output_type'] = 'display_data';\n",
              "          await google.colab.output.renderOutput(dataTable, element);\n",
              "          const docLink = document.createElement('div');\n",
              "          docLink.innerHTML = docLinkHtml;\n",
              "          element.appendChild(docLink);\n",
              "        }\n",
              "      </script>\n",
              "    </div>\n",
              "  </div>\n",
              "  "
            ]
          },
          "metadata": {}
        }
      ],
      "source": [
        "# Сформируем перечень моделей, которые будут обучены\n",
        "models = [\n",
        "    ('RandomForest', 1, rand_forest.best_estimator_),\n",
        "    ('CatBoost', 2, CBR.best_estimator_),\n",
        "    ('Dummy', 1, DummyRegressor(strategy=\"median\"))\n",
        "]\n",
        "\n",
        "# Итоговая таблица\n",
        "results = pd.DataFrame(columns=['RMSE на тесте', 'R2 на тесте'])\n",
        "results.index.name = 'Модель'\n",
        "\n",
        "#Таблица для построения графика\n",
        "df_draw = pd.DataFrame(target_test_1)\n",
        "\n",
        "# Проведем выбор лучшей модели\n",
        "for name, data, model in models:\n",
        "    if data == 1:\n",
        "        features_train = features_train_1\n",
        "        target_train = target_train_1\n",
        "        features_test = features_test_1\n",
        "        target_test = target_test_1\n",
        "    else:\n",
        "        features_train = features_train_2\n",
        "        target_train = target_train_2\n",
        "        features_test = features_test_2\n",
        "        target_test = target_test_2\n",
        "    \n",
        "    model.fit(features_train, target_train)\n",
        "    predict = model.predict(features_test)\n",
        "    \n",
        "    results.loc[name]=[mean_squared_error(target_test, predict, squared=False), r2_score(target_test, predict)]\n",
        "    \n",
        "    if name == \"Dummy\": # Сравнения с болванкой\n",
        "        dummy = DummyRegressor(strategy=\"median\")\n",
        "        dummy.fit(features_train, target_train)\n",
        "        predict = dummy.predict(features_test)\n",
        "        results.loc[name]=[mean_squared_error(target_test, predict, squared=False), r2_score(target_test, predict)]\n",
        "        \n",
        "    df_draw[name] = predict.astype('int')\n",
        "\n",
        "# Выведем результаты\n",
        "display(results)"
      ]
    },
    {
      "cell_type": "markdown",
      "metadata": {
        "id": "vIbBI24MZrGV"
      },
      "source": [
        "Для наглядности на графике отобразим полученные предсказания и реальные данные. Так как рассматриваемый период очень большой для масштаба 1 час, изменим масштаб на 4 часовой."
      ]
    },
    {
      "cell_type": "code",
      "execution_count": 26,
      "metadata": {
        "id": "TABwChOhZrGV"
      },
      "outputs": [],
      "source": [
        "df_draw = df_draw.resample('4H').sum()"
      ]
    },
    {
      "cell_type": "code",
      "execution_count": 27,
      "metadata": {
        "id": "QXWGBOUuZrGV",
        "outputId": "b11b1453-2bd0-4d4a-bac4-0ba1ac3f2f85",
        "colab": {
          "base_uri": "https://localhost:8080/",
          "height": 442
        }
      },
      "outputs": [
        {
          "output_type": "display_data",
          "data": {
            "text/plain": [
              "<Figure size 1152x432 with 1 Axes>"
            ],
            "image/png": "[encoded data removed]"
          },
          "metadata": {
            "needs_background": "light"
          }
        }
      ],
      "source": [
        "fig, ax = plt.subplots()\n",
        "fig.set_size_inches(16,6)\n",
        "ax.plot(df_draw[['num_orders','CatBoost']])\n",
        "\n",
        "plt.xlabel('Дата')\n",
        "plt.ylabel('Количество заказов')\n",
        "plt.title('График предсказаний модели и реальных данных')\n",
        "\n",
        "plt.legend(['Реальные данные', 'Предсказанные данные'], frameon=True)\n",
        "plt.xticks(rotation=45)\n",
        "plt.grid(True)\n",
        "plt.show()"
      ]
    },
    {
      "cell_type": "markdown",
      "metadata": {
        "id": "bqKTKVagZrGW"
      },
      "source": [
        "## Вывод"
      ]
    },
    {
      "cell_type": "markdown",
      "metadata": {
        "id": "LK2ZmCGBZrGW"
      },
      "source": [
        "Проведен анализ полученых данных, виден четкий тренд и сезонность в данных. С помощью модели Catboost удалось достичь заданных пределов значения метрики **RMSE** 45,35 против требования не более 48. Но при этом у нас получился довольно малое значение $R^2$, это говорит о том, ошибка предсказаний моделью на 40 % меньше, чем ошибка предсказывания средним значением."
      ]
    },
    {
      "cell_type": "code",
      "execution_count": 27,
      "metadata": {
        "id": "DftRpAxDZrGY"
      },
      "outputs": [],
      "source": [
        ""
      ]
    }
  ],
  "metadata": {
    "ExecuteTimeLog": [
      {
        "duration": 2916,
        "start_time": "2022-03-21T18:39:58.511Z"
      },
      {
        "duration": 48,
        "start_time": "2022-03-21T18:40:02.450Z"
      },
      {
        "duration": 16,
        "start_time": "2022-03-21T18:40:09.599Z"
      },
      {
        "duration": 19,
        "start_time": "2022-03-21T18:40:25.378Z"
      },
      {
        "duration": 220,
        "start_time": "2022-03-21T18:41:12.797Z"
      },
      {
        "duration": 243,
        "start_time": "2022-03-21T18:41:30.013Z"
      },
      {
        "duration": 11,
        "start_time": "2022-03-21T18:41:53.799Z"
      },
      {
        "duration": 9,
        "start_time": "2022-03-21T18:42:29.204Z"
      },
      {
        "duration": 188,
        "start_time": "2022-03-21T18:42:53.567Z"
      },
      {
        "duration": 164,
        "start_time": "2022-03-21T18:43:22.081Z"
      },
      {
        "duration": 884,
        "start_time": "2022-03-21T18:45:00.339Z"
      },
      {
        "duration": 9,
        "start_time": "2022-03-21T18:45:02.450Z"
      },
      {
        "duration": 15,
        "start_time": "2022-03-21T18:45:16.349Z"
      },
      {
        "duration": 17,
        "start_time": "2022-03-21T18:45:33.857Z"
      },
      {
        "duration": 157,
        "start_time": "2022-03-21T18:45:41.749Z"
      },
      {
        "duration": 13,
        "start_time": "2022-03-21T18:45:53.193Z"
      },
      {
        "duration": 16,
        "start_time": "2022-03-21T18:45:58.145Z"
      },
      {
        "duration": 15,
        "start_time": "2022-03-21T18:46:10.728Z"
      },
      {
        "duration": 39,
        "start_time": "2022-03-21T18:46:27.214Z"
      },
      {
        "duration": 9,
        "start_time": "2022-03-21T18:46:27.885Z"
      },
      {
        "duration": 10,
        "start_time": "2022-03-21T18:46:29.152Z"
      },
      {
        "duration": 15,
        "start_time": "2022-03-21T18:46:29.782Z"
      },
      {
        "duration": 17,
        "start_time": "2022-03-21T18:46:32.412Z"
      },
      {
        "duration": 148,
        "start_time": "2022-03-21T18:46:34.122Z"
      },
      {
        "duration": 43,
        "start_time": "2022-03-21T18:51:36.857Z"
      },
      {
        "duration": 4,
        "start_time": "2022-03-21T18:51:40.176Z"
      },
      {
        "duration": 10,
        "start_time": "2022-03-21T18:51:41.310Z"
      },
      {
        "duration": 10,
        "start_time": "2022-03-21T18:51:46.754Z"
      },
      {
        "duration": 15,
        "start_time": "2022-03-21T18:51:48.411Z"
      },
      {
        "duration": 15,
        "start_time": "2022-03-21T18:51:51.511Z"
      },
      {
        "duration": 219,
        "start_time": "2022-03-21T18:51:52.693Z"
      },
      {
        "duration": 351,
        "start_time": "2022-03-21T18:54:35.044Z"
      },
      {
        "duration": 9,
        "start_time": "2022-03-21T18:56:12.249Z"
      },
      {
        "duration": 10,
        "start_time": "2022-03-21T18:56:44.017Z"
      },
      {
        "duration": 10,
        "start_time": "2022-03-21T18:56:56.958Z"
      },
      {
        "duration": 10,
        "start_time": "2022-03-21T18:57:02.947Z"
      },
      {
        "duration": 207,
        "start_time": "2022-03-21T18:57:13.983Z"
      },
      {
        "duration": 6,
        "start_time": "2022-03-21T19:00:44.924Z"
      },
      {
        "duration": 17,
        "start_time": "2022-03-21T19:02:05.914Z"
      },
      {
        "duration": 16,
        "start_time": "2022-03-21T19:02:13.669Z"
      },
      {
        "duration": 13,
        "start_time": "2022-03-21T19:03:30.626Z"
      },
      {
        "duration": 26,
        "start_time": "2022-03-21T19:03:31.546Z"
      },
      {
        "duration": 1920,
        "start_time": "2022-03-22T05:14:05.066Z"
      },
      {
        "duration": 176,
        "start_time": "2022-03-22T05:14:06.988Z"
      },
      {
        "duration": 3,
        "start_time": "2022-03-22T05:14:07.166Z"
      },
      {
        "duration": 11,
        "start_time": "2022-03-22T05:14:07.171Z"
      },
      {
        "duration": 11,
        "start_time": "2022-03-22T05:14:07.184Z"
      },
      {
        "duration": 9,
        "start_time": "2022-03-22T05:14:07.197Z"
      },
      {
        "duration": 12,
        "start_time": "2022-03-22T05:14:07.208Z"
      },
      {
        "duration": 229,
        "start_time": "2022-03-22T05:14:07.222Z"
      },
      {
        "duration": 5,
        "start_time": "2022-03-22T05:14:07.452Z"
      },
      {
        "duration": 23,
        "start_time": "2022-03-22T05:14:07.459Z"
      },
      {
        "duration": 7,
        "start_time": "2022-03-22T05:14:07.484Z"
      },
      {
        "duration": 12,
        "start_time": "2022-03-22T05:14:07.492Z"
      },
      {
        "duration": 587,
        "start_time": "2022-03-22T05:17:47.867Z"
      },
      {
        "duration": 274,
        "start_time": "2022-03-22T05:18:47.835Z"
      },
      {
        "duration": 254,
        "start_time": "2022-03-22T05:19:26.812Z"
      },
      {
        "duration": 347,
        "start_time": "2022-03-22T05:19:35.603Z"
      },
      {
        "duration": 130,
        "start_time": "2022-03-22T05:22:28.865Z"
      },
      {
        "duration": 23,
        "start_time": "2022-03-22T05:23:52.733Z"
      },
      {
        "duration": 3,
        "start_time": "2022-03-22T05:24:21.385Z"
      },
      {
        "duration": 21,
        "start_time": "2022-03-22T05:25:26.355Z"
      },
      {
        "duration": 315,
        "start_time": "2022-03-22T05:25:57.401Z"
      },
      {
        "duration": 860,
        "start_time": "2022-03-22T05:26:09.357Z"
      },
      {
        "duration": 697,
        "start_time": "2022-03-22T05:26:31.729Z"
      },
      {
        "duration": 551,
        "start_time": "2022-03-22T05:27:53.844Z"
      },
      {
        "duration": 399,
        "start_time": "2022-03-22T05:28:10.336Z"
      },
      {
        "duration": 446,
        "start_time": "2022-03-22T05:28:34.008Z"
      },
      {
        "duration": 398,
        "start_time": "2022-03-22T05:29:24.615Z"
      },
      {
        "duration": 545,
        "start_time": "2022-03-22T05:31:42.942Z"
      },
      {
        "duration": 613,
        "start_time": "2022-03-22T05:32:14.880Z"
      },
      {
        "duration": 494,
        "start_time": "2022-03-22T05:33:26.001Z"
      },
      {
        "duration": 203,
        "start_time": "2022-03-22T05:53:16.008Z"
      },
      {
        "duration": 11,
        "start_time": "2022-03-22T05:53:24.266Z"
      },
      {
        "duration": 4,
        "start_time": "2022-03-22T06:00:00.524Z"
      },
      {
        "duration": 2,
        "start_time": "2022-03-22T06:06:55.845Z"
      },
      {
        "duration": 9,
        "start_time": "2022-03-22T06:07:07.767Z"
      },
      {
        "duration": 3,
        "start_time": "2022-03-22T06:07:18.465Z"
      },
      {
        "duration": 3,
        "start_time": "2022-03-22T06:07:19.134Z"
      },
      {
        "duration": 3,
        "start_time": "2022-03-22T06:07:22.272Z"
      },
      {
        "duration": 4,
        "start_time": "2022-03-22T06:07:28.372Z"
      },
      {
        "duration": 9,
        "start_time": "2022-03-22T06:07:52.442Z"
      },
      {
        "duration": 16,
        "start_time": "2022-03-22T06:07:56.684Z"
      },
      {
        "duration": 9,
        "start_time": "2022-03-22T06:08:13.380Z"
      },
      {
        "duration": 3,
        "start_time": "2022-03-22T06:08:17.612Z"
      },
      {
        "duration": 5,
        "start_time": "2022-03-22T06:08:22.047Z"
      },
      {
        "duration": 8,
        "start_time": "2022-03-22T06:08:27.049Z"
      },
      {
        "duration": 3,
        "start_time": "2022-03-22T06:17:27.328Z"
      },
      {
        "duration": 11,
        "start_time": "2022-03-22T06:17:36.250Z"
      },
      {
        "duration": 3,
        "start_time": "2022-03-22T06:19:36.502Z"
      },
      {
        "duration": 8,
        "start_time": "2022-03-22T06:19:43.698Z"
      },
      {
        "duration": 16,
        "start_time": "2022-03-22T06:19:46.267Z"
      },
      {
        "duration": 20,
        "start_time": "2022-03-22T06:19:55.423Z"
      },
      {
        "duration": 13,
        "start_time": "2022-03-22T06:20:09.803Z"
      },
      {
        "duration": 5,
        "start_time": "2022-03-22T06:20:51.203Z"
      },
      {
        "duration": 5589,
        "start_time": "2022-03-22T06:21:13.057Z"
      },
      {
        "duration": 60079,
        "start_time": "2022-03-22T06:21:59.212Z"
      },
      {
        "duration": 5,
        "start_time": "2022-03-22T09:08:19.183Z"
      },
      {
        "duration": 79251,
        "start_time": "2022-03-22T09:08:20.268Z"
      },
      {
        "duration": 300322,
        "start_time": "2022-03-22T09:09:39.521Z"
      },
      {
        "duration": 7031,
        "start_time": "2022-03-22T09:28:43.990Z"
      },
      {
        "duration": 4375,
        "start_time": "2022-03-22T09:29:25.051Z"
      },
      {
        "duration": 2816,
        "start_time": "2022-03-22T10:07:52.648Z"
      },
      {
        "duration": 35,
        "start_time": "2022-03-22T10:07:55.466Z"
      },
      {
        "duration": 3,
        "start_time": "2022-03-22T10:07:55.502Z"
      },
      {
        "duration": 13,
        "start_time": "2022-03-22T10:07:55.507Z"
      },
      {
        "duration": 14,
        "start_time": "2022-03-22T10:07:55.521Z"
      },
      {
        "duration": 9,
        "start_time": "2022-03-22T10:07:55.536Z"
      },
      {
        "duration": 13,
        "start_time": "2022-03-22T10:07:55.546Z"
      },
      {
        "duration": 215,
        "start_time": "2022-03-22T10:07:55.561Z"
      },
      {
        "duration": 4,
        "start_time": "2022-03-22T10:07:55.778Z"
      },
      {
        "duration": 43,
        "start_time": "2022-03-22T10:07:55.785Z"
      },
      {
        "duration": 7,
        "start_time": "2022-03-22T10:07:55.829Z"
      },
      {
        "duration": 10,
        "start_time": "2022-03-22T10:07:55.838Z"
      },
      {
        "duration": 584,
        "start_time": "2022-03-22T10:07:55.849Z"
      },
      {
        "duration": 262,
        "start_time": "2022-03-22T10:07:56.435Z"
      },
      {
        "duration": 3,
        "start_time": "2022-03-22T10:07:56.698Z"
      },
      {
        "duration": 5,
        "start_time": "2022-03-22T10:07:56.703Z"
      },
      {
        "duration": 16,
        "start_time": "2022-03-22T10:07:56.710Z"
      },
      {
        "duration": 33,
        "start_time": "2022-03-22T10:07:56.727Z"
      },
      {
        "duration": 21,
        "start_time": "2022-03-22T10:07:56.761Z"
      },
      {
        "duration": 3,
        "start_time": "2022-03-22T10:07:56.783Z"
      },
      {
        "duration": 75471,
        "start_time": "2022-03-22T10:07:56.787Z"
      },
      {
        "duration": 151280,
        "start_time": "2022-03-22T10:09:12.259Z"
      },
      {
        "duration": 12,
        "start_time": "2022-03-22T10:11:43.541Z"
      },
      {
        "duration": 1715,
        "start_time": "2022-03-22T10:11:51.102Z"
      },
      {
        "duration": 37,
        "start_time": "2022-03-22T10:11:52.819Z"
      },
      {
        "duration": 3,
        "start_time": "2022-03-22T10:11:52.858Z"
      },
      {
        "duration": 14,
        "start_time": "2022-03-22T10:11:52.863Z"
      },
      {
        "duration": 8,
        "start_time": "2022-03-22T10:11:52.878Z"
      },
      {
        "duration": 9,
        "start_time": "2022-03-22T10:11:52.887Z"
      },
      {
        "duration": 11,
        "start_time": "2022-03-22T10:11:52.898Z"
      },
      {
        "duration": 232,
        "start_time": "2022-03-22T10:11:52.911Z"
      },
      {
        "duration": 4,
        "start_time": "2022-03-22T10:11:53.145Z"
      },
      {
        "duration": 37,
        "start_time": "2022-03-22T10:11:53.151Z"
      },
      {
        "duration": 6,
        "start_time": "2022-03-22T10:11:53.189Z"
      },
      {
        "duration": 10,
        "start_time": "2022-03-22T10:11:53.197Z"
      },
      {
        "duration": 620,
        "start_time": "2022-03-22T10:11:53.209Z"
      },
      {
        "duration": 280,
        "start_time": "2022-03-22T10:11:53.831Z"
      },
      {
        "duration": 4,
        "start_time": "2022-03-22T10:11:54.112Z"
      },
      {
        "duration": 6,
        "start_time": "2022-03-22T10:11:54.117Z"
      },
      {
        "duration": 13,
        "start_time": "2022-03-22T10:11:54.124Z"
      },
      {
        "duration": 16,
        "start_time": "2022-03-22T10:11:54.138Z"
      },
      {
        "duration": 45,
        "start_time": "2022-03-22T10:11:54.155Z"
      },
      {
        "duration": 3,
        "start_time": "2022-03-22T10:11:54.202Z"
      },
      {
        "duration": 75393,
        "start_time": "2022-03-22T10:11:54.207Z"
      },
      {
        "duration": 287220,
        "start_time": "2022-03-22T10:13:09.602Z"
      },
      {
        "duration": 4535,
        "start_time": "2022-03-22T10:17:56.824Z"
      },
      {
        "duration": 1382,
        "start_time": "2022-03-23T06:03:20.865Z"
      },
      {
        "duration": 12,
        "start_time": "2022-03-23T06:03:57.389Z"
      },
      {
        "duration": 12,
        "start_time": "2022-03-23T06:06:44.260Z"
      },
      {
        "duration": 11,
        "start_time": "2022-03-23T06:08:23.154Z"
      },
      {
        "duration": 2218,
        "start_time": "2022-03-23T06:08:40.083Z"
      },
      {
        "duration": 3929,
        "start_time": "2022-03-23T06:09:00.711Z"
      },
      {
        "duration": 16,
        "start_time": "2022-03-23T06:10:01.743Z"
      },
      {
        "duration": 9,
        "start_time": "2022-03-23T06:10:30.175Z"
      },
      {
        "duration": 480,
        "start_time": "2022-03-23T06:11:23.459Z"
      },
      {
        "duration": 12,
        "start_time": "2022-03-23T06:14:52.269Z"
      },
      {
        "duration": 1533,
        "start_time": "2022-03-23T06:14:52.282Z"
      },
      {
        "duration": 84,
        "start_time": "2022-03-23T06:14:53.816Z"
      },
      {
        "duration": 2,
        "start_time": "2022-03-23T06:14:53.903Z"
      },
      {
        "duration": 37,
        "start_time": "2022-03-23T06:14:53.907Z"
      },
      {
        "duration": 25,
        "start_time": "2022-03-23T06:14:53.945Z"
      },
      {
        "duration": 28,
        "start_time": "2022-03-23T06:14:53.971Z"
      },
      {
        "duration": 30,
        "start_time": "2022-03-23T06:14:54.001Z"
      },
      {
        "duration": 219,
        "start_time": "2022-03-23T06:14:54.033Z"
      },
      {
        "duration": 3,
        "start_time": "2022-03-23T06:14:54.255Z"
      },
      {
        "duration": 25,
        "start_time": "2022-03-23T06:14:54.263Z"
      },
      {
        "duration": 7,
        "start_time": "2022-03-23T06:14:54.289Z"
      },
      {
        "duration": 20,
        "start_time": "2022-03-23T06:14:54.297Z"
      },
      {
        "duration": 625,
        "start_time": "2022-03-23T06:14:54.318Z"
      },
      {
        "duration": 269,
        "start_time": "2022-03-23T06:14:54.945Z"
      },
      {
        "duration": 3,
        "start_time": "2022-03-23T06:14:55.216Z"
      },
      {
        "duration": 5,
        "start_time": "2022-03-23T06:14:55.221Z"
      },
      {
        "duration": 11,
        "start_time": "2022-03-23T06:14:55.228Z"
      },
      {
        "duration": 33,
        "start_time": "2022-03-23T06:14:55.240Z"
      },
      {
        "duration": 23,
        "start_time": "2022-03-23T06:14:55.275Z"
      },
      {
        "duration": 3,
        "start_time": "2022-03-23T06:16:51.686Z"
      },
      {
        "duration": 5,
        "start_time": "2022-03-23T06:16:52.847Z"
      },
      {
        "duration": 188633,
        "start_time": "2022-03-23T06:16:53.730Z"
      },
      {
        "duration": 495645,
        "start_time": "2022-03-23T06:20:02.365Z"
      },
      {
        "duration": 4598,
        "start_time": "2022-03-23T06:46:37.253Z"
      },
      {
        "duration": 6,
        "start_time": "2022-03-23T10:28:07.379Z"
      },
      {
        "duration": 3,
        "start_time": "2022-03-23T10:28:38.862Z"
      },
      {
        "duration": 5,
        "start_time": "2022-03-23T10:29:15.709Z"
      },
      {
        "duration": 7,
        "start_time": "2022-03-23T10:29:24.778Z"
      },
      {
        "duration": 4,
        "start_time": "2022-03-23T10:30:01.128Z"
      },
      {
        "duration": 8,
        "start_time": "2022-03-23T10:30:03.103Z"
      },
      {
        "duration": 109,
        "start_time": "2022-03-23T10:31:27.879Z"
      },
      {
        "duration": 13,
        "start_time": "2022-03-23T10:32:59.800Z"
      },
      {
        "duration": 12,
        "start_time": "2022-03-23T10:37:30.195Z"
      },
      {
        "duration": 3,
        "start_time": "2022-03-23T10:37:39.125Z"
      },
      {
        "duration": 11,
        "start_time": "2022-03-23T10:37:41.589Z"
      },
      {
        "duration": 9,
        "start_time": "2022-03-23T10:38:02.269Z"
      },
      {
        "duration": 6,
        "start_time": "2022-03-23T10:38:19.171Z"
      },
      {
        "duration": 7,
        "start_time": "2022-03-23T10:38:52.800Z"
      },
      {
        "duration": 6,
        "start_time": "2022-03-23T10:38:56.540Z"
      },
      {
        "duration": 8,
        "start_time": "2022-03-23T10:39:01.419Z"
      },
      {
        "duration": 3,
        "start_time": "2022-03-23T10:39:57.128Z"
      },
      {
        "duration": 3,
        "start_time": "2022-03-23T10:40:27.277Z"
      },
      {
        "duration": 18,
        "start_time": "2022-03-23T10:40:32.491Z"
      },
      {
        "duration": 4,
        "start_time": "2022-03-23T10:40:53.578Z"
      },
      {
        "duration": 11,
        "start_time": "2022-03-23T10:40:56.158Z"
      },
      {
        "duration": 5,
        "start_time": "2022-03-23T10:41:02.380Z"
      },
      {
        "duration": 9,
        "start_time": "2022-03-23T10:41:04.349Z"
      },
      {
        "duration": 3,
        "start_time": "2022-03-23T10:44:01.575Z"
      },
      {
        "duration": 4,
        "start_time": "2022-03-23T10:44:05.128Z"
      },
      {
        "duration": 10,
        "start_time": "2022-03-23T10:44:05.900Z"
      },
      {
        "duration": 5,
        "start_time": "2022-03-23T10:44:12.539Z"
      },
      {
        "duration": 11,
        "start_time": "2022-03-23T10:44:13.760Z"
      },
      {
        "duration": 4474,
        "start_time": "2022-03-23T10:45:09.979Z"
      },
      {
        "duration": 11,
        "start_time": "2022-03-23T10:45:33.712Z"
      },
      {
        "duration": 4139,
        "start_time": "2022-03-23T10:46:22.026Z"
      },
      {
        "duration": 16,
        "start_time": "2022-03-23T10:46:28.689Z"
      },
      {
        "duration": 4543,
        "start_time": "2022-03-23T10:47:01.432Z"
      },
      {
        "duration": 13,
        "start_time": "2022-03-23T10:47:08.215Z"
      },
      {
        "duration": 4177,
        "start_time": "2022-03-23T10:48:06.837Z"
      },
      {
        "duration": 13,
        "start_time": "2022-03-23T10:48:14.060Z"
      },
      {
        "duration": 4729,
        "start_time": "2022-03-23T10:49:31.500Z"
      },
      {
        "duration": 12,
        "start_time": "2022-03-23T10:49:36.231Z"
      },
      {
        "duration": 2864,
        "start_time": "2022-03-23T10:50:10.394Z"
      },
      {
        "duration": 0,
        "start_time": "2022-03-23T10:50:13.263Z"
      },
      {
        "duration": 4290,
        "start_time": "2022-03-23T10:50:42.740Z"
      },
      {
        "duration": 11,
        "start_time": "2022-03-23T10:50:47.032Z"
      },
      {
        "duration": 4254,
        "start_time": "2022-03-23T10:51:27.237Z"
      },
      {
        "duration": 11,
        "start_time": "2022-03-23T10:51:31.492Z"
      },
      {
        "duration": 10,
        "start_time": "2022-03-23T10:54:00.058Z"
      },
      {
        "duration": 201,
        "start_time": "2022-03-23T10:54:06.807Z"
      },
      {
        "duration": 17,
        "start_time": "2022-03-23T10:54:44.284Z"
      },
      {
        "duration": 160,
        "start_time": "2022-03-23T10:57:35.927Z"
      },
      {
        "duration": 284,
        "start_time": "2022-03-23T10:58:46.227Z"
      },
      {
        "duration": 305,
        "start_time": "2022-03-23T10:59:59.847Z"
      },
      {
        "duration": 212,
        "start_time": "2022-03-23T11:00:15.416Z"
      },
      {
        "duration": 313,
        "start_time": "2022-03-23T11:00:33.163Z"
      },
      {
        "duration": 230,
        "start_time": "2022-03-23T11:06:14.643Z"
      },
      {
        "duration": 224,
        "start_time": "2022-03-23T11:06:31.591Z"
      },
      {
        "duration": 262,
        "start_time": "2022-03-23T11:08:41.613Z"
      },
      {
        "duration": 286,
        "start_time": "2022-03-23T11:11:40.847Z"
      },
      {
        "duration": 296,
        "start_time": "2022-03-23T11:12:17.242Z"
      },
      {
        "duration": 289,
        "start_time": "2022-03-23T11:12:33.657Z"
      },
      {
        "duration": 144,
        "start_time": "2022-03-23T11:12:50.367Z"
      },
      {
        "duration": 283,
        "start_time": "2022-03-23T11:13:30.192Z"
      },
      {
        "duration": 291,
        "start_time": "2022-03-23T11:14:49.584Z"
      },
      {
        "duration": 9,
        "start_time": "2022-03-23T11:16:21.773Z"
      },
      {
        "duration": 21,
        "start_time": "2022-03-23T11:17:08.395Z"
      },
      {
        "duration": 4,
        "start_time": "2022-03-23T11:17:35.623Z"
      },
      {
        "duration": 14,
        "start_time": "2022-03-23T11:17:44.455Z"
      },
      {
        "duration": 11,
        "start_time": "2022-03-23T11:18:08.651Z"
      },
      {
        "duration": 15,
        "start_time": "2022-03-23T11:18:16.378Z"
      },
      {
        "duration": 3606,
        "start_time": "2022-03-23T11:19:15.667Z"
      },
      {
        "duration": 12,
        "start_time": "2022-03-23T11:20:17.063Z"
      },
      {
        "duration": 2341,
        "start_time": "2022-03-23T11:20:38.651Z"
      },
      {
        "duration": 12,
        "start_time": "2022-03-23T11:21:15.334Z"
      },
      {
        "duration": 6,
        "start_time": "2022-03-23T11:25:17.456Z"
      },
      {
        "duration": 396,
        "start_time": "2022-03-23T11:25:36.139Z"
      },
      {
        "duration": 293,
        "start_time": "2022-03-23T11:27:48.556Z"
      },
      {
        "duration": 287,
        "start_time": "2022-03-23T11:27:56.437Z"
      },
      {
        "duration": 4,
        "start_time": "2022-03-23T11:29:39.936Z"
      },
      {
        "duration": 1659,
        "start_time": "2022-03-23T11:29:39.942Z"
      },
      {
        "duration": 30,
        "start_time": "2022-03-23T11:29:41.603Z"
      },
      {
        "duration": 3,
        "start_time": "2022-03-23T11:29:41.635Z"
      },
      {
        "duration": 24,
        "start_time": "2022-03-23T11:29:41.640Z"
      },
      {
        "duration": 9,
        "start_time": "2022-03-23T11:29:41.665Z"
      },
      {
        "duration": 9,
        "start_time": "2022-03-23T11:29:41.676Z"
      },
      {
        "duration": 13,
        "start_time": "2022-03-23T11:29:41.686Z"
      },
      {
        "duration": 229,
        "start_time": "2022-03-23T11:29:41.700Z"
      },
      {
        "duration": 4,
        "start_time": "2022-03-23T11:29:41.931Z"
      },
      {
        "duration": 32,
        "start_time": "2022-03-23T11:29:41.937Z"
      },
      {
        "duration": 6,
        "start_time": "2022-03-23T11:29:41.970Z"
      },
      {
        "duration": 20,
        "start_time": "2022-03-23T11:29:41.978Z"
      },
      {
        "duration": 655,
        "start_time": "2022-03-23T11:29:42.000Z"
      },
      {
        "duration": 284,
        "start_time": "2022-03-23T11:29:42.658Z"
      },
      {
        "duration": 4,
        "start_time": "2022-03-23T11:29:42.943Z"
      },
      {
        "duration": 8,
        "start_time": "2022-03-23T11:29:42.948Z"
      },
      {
        "duration": 18,
        "start_time": "2022-03-23T11:29:42.963Z"
      },
      {
        "duration": 16,
        "start_time": "2022-03-23T11:29:42.983Z"
      },
      {
        "duration": 23,
        "start_time": "2022-03-23T11:29:43.001Z"
      },
      {
        "duration": 2,
        "start_time": "2022-03-23T11:29:43.026Z"
      },
      {
        "duration": 10,
        "start_time": "2022-03-23T11:29:43.030Z"
      },
      {
        "duration": 114463,
        "start_time": "2022-03-23T11:29:43.041Z"
      },
      {
        "duration": 5776,
        "start_time": "2022-03-23T11:31:37.505Z"
      },
      {
        "duration": 14,
        "start_time": "2022-03-23T11:31:43.283Z"
      },
      {
        "duration": 1,
        "start_time": "2022-03-23T11:31:43.298Z"
      },
      {
        "duration": 0,
        "start_time": "2022-03-23T11:31:43.299Z"
      },
      {
        "duration": 4,
        "start_time": "2022-03-23T11:32:10.406Z"
      },
      {
        "duration": 1639,
        "start_time": "2022-03-23T11:32:10.412Z"
      },
      {
        "duration": 31,
        "start_time": "2022-03-23T11:32:12.053Z"
      },
      {
        "duration": 3,
        "start_time": "2022-03-23T11:32:12.086Z"
      },
      {
        "duration": 33,
        "start_time": "2022-03-23T11:32:12.090Z"
      },
      {
        "duration": 17,
        "start_time": "2022-03-23T11:32:12.125Z"
      },
      {
        "duration": 8,
        "start_time": "2022-03-23T11:32:12.144Z"
      },
      {
        "duration": 29,
        "start_time": "2022-03-23T11:32:12.153Z"
      },
      {
        "duration": 231,
        "start_time": "2022-03-23T11:32:12.185Z"
      },
      {
        "duration": 4,
        "start_time": "2022-03-23T11:32:12.418Z"
      },
      {
        "duration": 32,
        "start_time": "2022-03-23T11:32:12.424Z"
      },
      {
        "duration": 11,
        "start_time": "2022-03-23T11:32:12.458Z"
      },
      {
        "duration": 12,
        "start_time": "2022-03-23T11:32:12.471Z"
      },
      {
        "duration": 623,
        "start_time": "2022-03-23T11:32:12.484Z"
      },
      {
        "duration": 268,
        "start_time": "2022-03-23T11:32:13.109Z"
      },
      {
        "duration": 3,
        "start_time": "2022-03-23T11:32:13.379Z"
      },
      {
        "duration": 19,
        "start_time": "2022-03-23T11:32:13.384Z"
      },
      {
        "duration": 42,
        "start_time": "2022-03-23T11:32:13.404Z"
      },
      {
        "duration": 40,
        "start_time": "2022-03-23T11:32:13.447Z"
      },
      {
        "duration": 27,
        "start_time": "2022-03-23T11:32:13.489Z"
      },
      {
        "duration": 18,
        "start_time": "2022-03-23T11:32:13.517Z"
      },
      {
        "duration": 21,
        "start_time": "2022-03-23T11:32:13.537Z"
      },
      {
        "duration": 231044,
        "start_time": "2022-03-23T11:32:13.559Z"
      },
      {
        "duration": 575896,
        "start_time": "2022-03-23T11:36:04.606Z"
      },
      {
        "duration": 4784,
        "start_time": "2022-03-23T11:45:40.504Z"
      },
      {
        "duration": 6,
        "start_time": "2022-03-23T11:45:45.289Z"
      },
      {
        "duration": 447,
        "start_time": "2022-03-23T11:45:45.297Z"
      },
      {
        "duration": 1383,
        "start_time": "2022-03-24T06:37:19.074Z"
      }
    ],
    "kernelspec": {
      "display_name": "Python 3 (ipykernel)",
      "language": "python",
      "name": "python3"
    },
    "language_info": {
      "codemirror_mode": {
        "name": "ipython",
        "version": 3
      },
      "file_extension": ".py",
      "mimetype": "text/x-python",
      "name": "python",
      "nbconvert_exporter": "python",
      "pygments_lexer": "ipython3",
      "version": "3.9.5"
    },
    "toc": {
      "base_numbering": 1,
      "nav_menu": {},
      "number_sections": true,
      "sideBar": true,
      "skip_h1_title": true,
      "title_cell": "Содержание",
      "title_sidebar": "Contents",
      "toc_cell": true,
      "toc_position": {
        "height": "calc(100% - 180px)",
        "left": "10px",
        "top": "150px",
        "width": "366.391px"
      },
      "toc_section_display": true,
      "toc_window_display": false
    },
    "colab": {
      "name": "project_11.ipynb",
      "provenance": [],
      "collapsed_sections": []
    }
  },
  "nbformat": 4,
  "nbformat_minor": 0
}