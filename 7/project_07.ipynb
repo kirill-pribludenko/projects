{
  "cells": [
    {
      "cell_type": "markdown",
      "metadata": {
        "id": "DV_HTxyfRpfS"
      },
      "source": [
        "## Загрузка и подготовка данных"
      ]
    },
    {
      "cell_type": "markdown",
      "metadata": {
        "id": "rGM71XsjRpfT"
      },
      "source": [
        "Загрузим данные, сделаем обзор, проверим на дубликаты и подготовим их для дальнейшей работы"
      ]
    },
    {
      "cell_type": "code",
      "execution_count": 1,
      "metadata": {
        "id": "-awTysGFRpfU"
      },
      "outputs": [],
      "source": [
        "import pandas as pd\n",
        "import numpy as np\n",
        "import matplotlib.pyplot as plt\n",
        "from scipy import stats as st\n",
        "from sklearn.model_selection import train_test_split\n",
        "from sklearn.linear_model import LinearRegression\n",
        "from sklearn.metrics import mean_squared_error\n",
        "from sklearn.preprocessing import StandardScaler"
      ]
    },
    {
      "cell_type": "code",
      "execution_count": 2,
      "metadata": {
        "id": "ELEfEwD5RpfX"
      },
      "outputs": [],
      "source": [
        "df_0 = pd.read_csv('/content/geo_data_0.csv')\n",
        "df_1 = pd.read_csv('/content/geo_data_1.csv')\n",
        "df_2 = pd.read_csv('/content/geo_data_2.csv')"
      ]
    },
    {
      "cell_type": "code",
      "execution_count": 3,
      "metadata": {
        "colab": {
          "base_uri": "https://localhost:8080/"
        },
        "id": "zKfPBlA6RpfY",
        "outputId": "b5b8de97-93e6-4ce3-d9b6-1680954ea97b"
      },
      "outputs": [
        {
          "output_type": "stream",
          "name": "stdout",
          "text": [
            "<class 'pandas.core.frame.DataFrame'>\n",
            "RangeIndex: 100000 entries, 0 to 99999\n",
            "Data columns (total 5 columns):\n",
            " #   Column   Non-Null Count   Dtype  \n",
            "---  ------   --------------   -----  \n",
            " 0   id       100000 non-null  object \n",
            " 1   f0       100000 non-null  float64\n",
            " 2   f1       100000 non-null  float64\n",
            " 3   f2       100000 non-null  float64\n",
            " 4   product  100000 non-null  float64\n",
            "dtypes: float64(4), object(1)\n",
            "memory usage: 3.8+ MB\n",
            "<class 'pandas.core.frame.DataFrame'>\n",
            "RangeIndex: 100000 entries, 0 to 99999\n",
            "Data columns (total 5 columns):\n",
            " #   Column   Non-Null Count   Dtype  \n",
            "---  ------   --------------   -----  \n",
            " 0   id       100000 non-null  object \n",
            " 1   f0       100000 non-null  float64\n",
            " 2   f1       100000 non-null  float64\n",
            " 3   f2       100000 non-null  float64\n",
            " 4   product  100000 non-null  float64\n",
            "dtypes: float64(4), object(1)\n",
            "memory usage: 3.8+ MB\n",
            "<class 'pandas.core.frame.DataFrame'>\n",
            "RangeIndex: 100000 entries, 0 to 99999\n",
            "Data columns (total 5 columns):\n",
            " #   Column   Non-Null Count   Dtype  \n",
            "---  ------   --------------   -----  \n",
            " 0   id       100000 non-null  object \n",
            " 1   f0       100000 non-null  float64\n",
            " 2   f1       100000 non-null  float64\n",
            " 3   f2       100000 non-null  float64\n",
            " 4   product  100000 non-null  float64\n",
            "dtypes: float64(4), object(1)\n",
            "memory usage: 3.8+ MB\n"
          ]
        }
      ],
      "source": [
        "df_0.info()\n",
        "df_1.info()\n",
        "df_2.info()"
      ]
    },
    {
      "cell_type": "code",
      "execution_count": 4,
      "metadata": {
        "colab": {
          "base_uri": "https://localhost:8080/",
          "height": 896
        },
        "id": "cX5iDmVvRpfZ",
        "outputId": "e602cea1-613c-45a8-96dc-2d1464feaeae"
      },
      "outputs": [
        {
          "output_type": "execute_result",
          "data": {
            "text/plain": [
              "array([[<matplotlib.axes._subplots.AxesSubplot object at 0x7fecf020a990>,\n",
              "        <matplotlib.axes._subplots.AxesSubplot object at 0x7fecf01b5b10>],\n",
              "       [<matplotlib.axes._subplots.AxesSubplot object at 0x7fecf0183610>,\n",
              "        <matplotlib.axes._subplots.AxesSubplot object at 0x7fecf0139bd0>]],\n",
              "      dtype=object)"
            ]
          },
          "metadata": {},
          "execution_count": 4
        },
        {
          "output_type": "display_data",
          "data": {
            "text/plain": [
              "<Figure size 432x288 with 4 Axes>"
            ],
            "image/png": "[encoded data removed]"
          },
          "metadata": {
            "needs_background": "light"
          }
        },
        {
          "output_type": "display_data",
          "data": {
            "text/plain": [
              "<Figure size 432x288 with 4 Axes>"
            ],
            "image/png": "[encoded data removed]"
          },
          "metadata": {
            "needs_background": "light"
          }
        },
        {
          "output_type": "display_data",
          "data": {
            "text/plain": [
              "<Figure size 432x288 with 4 Axes>"
            ],
            "image/png": "[encoded data removed]"
          },
          "metadata": {
            "needs_background": "light"
          }
        }
      ],
      "source": [
        "df_0.hist()\n",
        "df_1.hist()\n",
        "df_2.hist()"
      ]
    },
    {
      "cell_type": "markdown",
      "metadata": {
        "id": "OsxQQmr_Rpfa"
      },
      "source": [
        "Пропусков - нет, это хорошо. Судя по гистограммам, лучшего всего данные выглядят в 3 регионе, так как нет выбросов и данные распределены нормально. Проверим на дубликаты, хотя их скорее всего тоже не будет, так как данные выглядят чистыми."
      ]
    },
    {
      "cell_type": "code",
      "execution_count": 5,
      "metadata": {
        "colab": {
          "base_uri": "https://localhost:8080/",
          "height": 69
        },
        "id": "2P-XUhIBRpfb",
        "outputId": "7857d15f-255a-42e9-d359-c58731d93a25"
      },
      "outputs": [
        {
          "output_type": "display_data",
          "data": {
            "text/plain": [
              "0"
            ]
          },
          "metadata": {}
        },
        {
          "output_type": "display_data",
          "data": {
            "text/plain": [
              "0"
            ]
          },
          "metadata": {}
        },
        {
          "output_type": "display_data",
          "data": {
            "text/plain": [
              "0"
            ]
          },
          "metadata": {}
        }
      ],
      "source": [
        "display(df_0.duplicated().sum())\n",
        "display(df_1.duplicated().sum())\n",
        "display(df_2.duplicated().sum())"
      ]
    },
    {
      "cell_type": "markdown",
      "metadata": {
        "id": "idw_id3zRpfb"
      },
      "source": [
        "Так как цель задачи выбрать регион, то нет смысла в столбцах с `id` предлагаю удалить их."
      ]
    },
    {
      "cell_type": "code",
      "execution_count": 6,
      "metadata": {
        "id": "5d4Y6uFERpfc"
      },
      "outputs": [],
      "source": [
        "df_0 = df_0.drop(['id'],axis=1)\n",
        "df_1 = df_1.drop(['id'],axis=1)\n",
        "df_2 = df_2.drop(['id'],axis=1)"
      ]
    },
    {
      "cell_type": "markdown",
      "metadata": {
        "id": "X8_uK9iQRpfd"
      },
      "source": [
        "## Обучение и проверка модели"
      ]
    },
    {
      "cell_type": "markdown",
      "metadata": {
        "id": "brh4CzVLRpfe"
      },
      "source": [
        "Разобьем наши данные на тестовую и валидационную выборки"
      ]
    },
    {
      "cell_type": "code",
      "execution_count": 7,
      "metadata": {
        "id": "YGynyJE7Rpfe"
      },
      "outputs": [],
      "source": [
        "df_0_train, df_0_valid = train_test_split(df_0, test_size=0.25, random_state=101)\n",
        "df_1_train, df_1_valid = train_test_split(df_1, test_size=0.25, random_state=101)\n",
        "df_2_train, df_2_valid = train_test_split(df_2, test_size=0.25, random_state=101)"
      ]
    },
    {
      "cell_type": "markdown",
      "metadata": {
        "id": "ClRG8eJTRpfe"
      },
      "source": [
        "Данные для обучения"
      ]
    },
    {
      "cell_type": "code",
      "execution_count": 8,
      "metadata": {
        "id": "KEWGu5n8Rpff"
      },
      "outputs": [],
      "source": [
        "features_0_train = df_0_train.drop(['product'], axis=1)\n",
        "target_0_train = df_0_train['product']\n",
        "features_1_train = df_1_train.drop(['product'], axis=1)\n",
        "target_1_train = df_1_train['product']\n",
        "features_2_train = df_2_train.drop(['product'], axis=1)\n",
        "target_2_train = df_2_train['product']"
      ]
    },
    {
      "cell_type": "markdown",
      "metadata": {
        "id": "2dy8SRf5Rpfg"
      },
      "source": [
        "Данные для валидации"
      ]
    },
    {
      "cell_type": "code",
      "execution_count": 9,
      "metadata": {
        "id": "gOdED0zCRpfg"
      },
      "outputs": [],
      "source": [
        "features_0_valid = df_0_valid.drop(['product'], axis=1)\n",
        "target_0_valid = df_0_valid['product']\n",
        "features_1_valid = df_1_valid.drop(['product'], axis=1)\n",
        "target_1_valid = df_1_valid['product']\n",
        "features_2_valid = df_2_valid.drop(['product'], axis=1)\n",
        "target_2_valid = df_2_valid['product']"
      ]
    },
    {
      "cell_type": "markdown",
      "metadata": {
        "id": "xmvlrriHRpfh"
      },
      "source": [
        "Обучим нашу модель, по условиям задачи нужно использовать линейную регрессию. Чтобы не запутаться в выборках и результатах, так же сделаем три модели с индексами 0,1,2 для трех разных регионов."
      ]
    },
    {
      "cell_type": "code",
      "execution_count": 10,
      "metadata": {
        "id": "8kiW1TppRpfh"
      },
      "outputs": [],
      "source": [
        "model_0 = LinearRegression().fit(features_0_train, target_0_train)\n",
        "model_1 = LinearRegression().fit(features_1_train, target_1_train)\n",
        "model_2 = LinearRegression().fit(features_2_train, target_2_train)"
      ]
    },
    {
      "cell_type": "markdown",
      "metadata": {
        "id": "5bs7lWHuRpfh"
      },
      "source": [
        "Сделаем предсказания"
      ]
    },
    {
      "cell_type": "code",
      "execution_count": 11,
      "metadata": {
        "id": "nCbcFkM_Rpfh"
      },
      "outputs": [],
      "source": [
        "predict_0 = model_0.predict(features_0_valid)\n",
        "predict_1 = model_1.predict(features_1_valid)\n",
        "predict_2 = model_2.predict(features_2_valid)"
      ]
    },
    {
      "cell_type": "markdown",
      "metadata": {
        "id": "9exSGGsURpfi"
      },
      "source": [
        "Сделаем таблицу из средних предсказанных запасов для трех регионов, так же добавим в таблицу истинные данные + среднеквадратическую ошибку (RMSE)"
      ]
    },
    {
      "cell_type": "code",
      "execution_count": 12,
      "metadata": {
        "id": "xQVFB0EFRpfi"
      },
      "outputs": [],
      "source": [
        "result_df = pd.DataFrame(columns=['region', 'stocks_real_mean', 'stocks_predict_mean', 'RMSE'])"
      ]
    },
    {
      "cell_type": "code",
      "execution_count": 13,
      "metadata": {
        "id": "pHQP7zxIRpfj"
      },
      "outputs": [],
      "source": [
        "result_df.loc[0]=['number_0', \n",
        "                  round(target_0_valid.mean(), 2), \n",
        "                  round(sum(predict_0)/len(predict_0), 2), \n",
        "                  mean_squared_error(target_0_valid, predict_0, squared=False)]\n",
        "\n",
        "result_df.loc[1]=['number_1', \n",
        "                  round(target_1_valid.mean(), 2), \n",
        "                  round(sum(predict_1)/len(predict_1), 2), \n",
        "                  mean_squared_error(target_1_valid, predict_1, squared=False)]\n",
        "\n",
        "result_df.loc[2]=['number_2', \n",
        "                  round(target_2_valid.mean(), 2), \n",
        "                  round(sum(predict_2)/len(predict_2), 2), \n",
        "                  mean_squared_error(target_2_valid, predict_2, squared=False)]"
      ]
    },
    {
      "cell_type": "code",
      "execution_count": 14,
      "metadata": {
        "colab": {
          "base_uri": "https://localhost:8080/",
          "height": 143
        },
        "id": "c48NpK-7Rpfj",
        "outputId": "c19b97ca-0b32-47c6-9f3a-d5a76c5c7878"
      },
      "outputs": [
        {
          "output_type": "execute_result",
          "data": {
            "text/plain": [
              "     region  stocks_real_mean  stocks_predict_mean       RMSE\n",
              "0  number_0             92.25                92.59  37.760239\n",
              "1  number_1             68.60                68.60   0.890825\n",
              "2  number_2             95.03                94.79  40.242378"
            ],
            "text/html": [
              "\n",
              "  <div id=\"df-6ece8412-ff96-4d34-8d59-6a57d515eac8\">\n",
              "    <div class=\"colab-df-container\">\n",
              "      <div>\n",
              "<style scoped>\n",
              "    .dataframe tbody tr th:only-of-type {\n",
              "        vertical-align: middle;\n",
              "    }\n",
              "\n",
              "    .dataframe tbody tr th {\n",
              "        vertical-align: top;\n",
              "    }\n",
              "\n",
              "    .dataframe thead th {\n",
              "        text-align: right;\n",
              "    }\n",
              "</style>\n",
              "<table border=\"1\" class=\"dataframe\">\n",
              "  <thead>\n",
              "    <tr style=\"text-align: right;\">\n",
              "      <th></th>\n",
              "      <th>region</th>\n",
              "      <th>stocks_real_mean</th>\n",
              "      <th>stocks_predict_mean</th>\n",
              "      <th>RMSE</th>\n",
              "    </tr>\n",
              "  </thead>\n",
              "  <tbody>\n",
              "    <tr>\n",
              "      <th>0</th>\n",
              "      <td>number_0</td>\n",
              "      <td>92.25</td>\n",
              "      <td>92.59</td>\n",
              "      <td>37.760239</td>\n",
              "    </tr>\n",
              "    <tr>\n",
              "      <th>1</th>\n",
              "      <td>number_1</td>\n",
              "      <td>68.60</td>\n",
              "      <td>68.60</td>\n",
              "      <td>0.890825</td>\n",
              "    </tr>\n",
              "    <tr>\n",
              "      <th>2</th>\n",
              "      <td>number_2</td>\n",
              "      <td>95.03</td>\n",
              "      <td>94.79</td>\n",
              "      <td>40.242378</td>\n",
              "    </tr>\n",
              "  </tbody>\n",
              "</table>\n",
              "</div>\n",
              "      <button class=\"colab-df-convert\" onclick=\"convertToInteractive('df-6ece8412-ff96-4d34-8d59-6a57d515eac8')\"\n",
              "              title=\"Convert this dataframe to an interactive table.\"\n",
              "              style=\"display:none;\">\n",
              "        \n",
              "  <svg xmlns=\"http://www.w3.org/2000/svg\" height=\"24px\"viewBox=\"0 0 24 24\"\n",
              "       width=\"24px\">\n",
              "    <path d=\"M0 0h24v24H0V0z\" fill=\"none\"/>\n",
              "    <path d=\"M18.56 5.44l.94 2.06.94-2.06 2.06-.94-2.06-.94-.94-2.06-.94 2.06-2.06.94zm-11 1L8.5 8.5l.94-2.06 2.06-.94-2.06-.94L8.5 2.5l-.94 2.06-2.06.94zm10 10l.94 2.06.94-2.06 2.06-.94-2.06-.94-.94-2.06-.94 2.06-2.06.94z\"/><path d=\"M17.41 7.96l-1.37-1.37c-.4-.4-.92-.59-1.43-.59-.52 0-1.04.2-1.43.59L10.3 9.45l-7.72 7.72c-.78.78-.78 2.05 0 2.83L4 21.41c.39.39.9.59 1.41.59.51 0 1.02-.2 1.41-.59l7.78-7.78 2.81-2.81c.8-.78.8-2.07 0-2.86zM5.41 20L4 18.59l7.72-7.72 1.47 1.35L5.41 20z\"/>\n",
              "  </svg>\n",
              "      </button>\n",
              "      \n",
              "  <style>\n",
              "    .colab-df-container {\n",
              "      display:flex;\n",
              "      flex-wrap:wrap;\n",
              "      gap: 12px;\n",
              "    }\n",
              "\n",
              "    .colab-df-convert {\n",
              "      background-color: #E8F0FE;\n",
              "      border: none;\n",
              "      border-radius: 50%;\n",
              "      cursor: pointer;\n",
              "      display: none;\n",
              "      fill: #1967D2;\n",
              "      height: 32px;\n",
              "      padding: 0 0 0 0;\n",
              "      width: 32px;\n",
              "    }\n",
              "\n",
              "    .colab-df-convert:hover {\n",
              "      background-color: #E2EBFA;\n",
              "      box-shadow: 0px 1px 2px rgba(60, 64, 67, 0.3), 0px 1px 3px 1px rgba(60, 64, 67, 0.15);\n",
              "      fill: #174EA6;\n",
              "    }\n",
              "\n",
              "    [theme=dark] .colab-df-convert {\n",
              "      background-color: #3B4455;\n",
              "      fill: #D2E3FC;\n",
              "    }\n",
              "\n",
              "    [theme=dark] .colab-df-convert:hover {\n",
              "      background-color: #434B5C;\n",
              "      box-shadow: 0px 1px 3px 1px rgba(0, 0, 0, 0.15);\n",
              "      filter: drop-shadow(0px 1px 2px rgba(0, 0, 0, 0.3));\n",
              "      fill: #FFFFFF;\n",
              "    }\n",
              "  </style>\n",
              "\n",
              "      <script>\n",
              "        const buttonEl =\n",
              "          document.querySelector('#df-6ece8412-ff96-4d34-8d59-6a57d515eac8 button.colab-df-convert');\n",
              "        buttonEl.style.display =\n",
              "          google.colab.kernel.accessAllowed ? 'block' : 'none';\n",
              "\n",
              "        async function convertToInteractive(key) {\n",
              "          const element = document.querySelector('#df-6ece8412-ff96-4d34-8d59-6a57d515eac8');\n",
              "          const dataTable =\n",
              "            await google.colab.kernel.invokeFunction('convertToInteractive',\n",
              "                                                     [key], {});\n",
              "          if (!dataTable) return;\n",
              "\n",
              "          const docLinkHtml = 'Like what you see? Visit the ' +\n",
              "            '<a target=\"_blank\" href=https://colab.research.google.com/notebooks/data_table.ipynb>data table notebook</a>'\n",
              "            + ' to learn more about interactive tables.';\n",
              "          element.innerHTML = '';\n",
              "          dataTable['output_type'] = 'display_data';\n",
              "          await google.colab.output.renderOutput(dataTable, element);\n",
              "          const docLink = document.createElement('div');\n",
              "          docLink.innerHTML = docLinkHtml;\n",
              "          element.appendChild(docLink);\n",
              "        }\n",
              "      </script>\n",
              "    </div>\n",
              "  </div>\n",
              "  "
            ]
          },
          "metadata": {},
          "execution_count": 14
        }
      ],
      "source": [
        "result_df"
      ]
    },
    {
      "cell_type": "markdown",
      "metadata": {
        "id": "mR_6dM9TRpfj"
      },
      "source": [
        "### Вывод\n",
        "Как видно из таблицы самая маленькая ошибка для региона 1, следовательно модель для данного региона предсказывает лучше всего. Но при этом в данном регионе самые маленькие запасы."
      ]
    },
    {
      "cell_type": "markdown",
      "metadata": {
        "id": "9xdMM60sRpfk"
      },
      "source": [
        "## Подготовка к расчёту прибыли"
      ]
    },
    {
      "cell_type": "markdown",
      "metadata": {
        "id": "ydZagV1URpfk"
      },
      "source": [
        "### Константы"
      ]
    },
    {
      "cell_type": "markdown",
      "metadata": {
        "id": "53SxrgU7Rpfk"
      },
      "source": [
        "Создадим переменные по условиям задачи и рассчитаем какое минимальное количество нефти должно быть в скважине для безубыточности"
      ]
    },
    {
      "cell_type": "code",
      "execution_count": 15,
      "metadata": {
        "id": "vIMlT2tXRpfl"
      },
      "outputs": [],
      "source": [
        "BUDGET_FOR_REGION = 10000000000\n",
        "NUMBER_OF_OIL_WELL = 200\n",
        "PRICE_OF_OIL = 450000"
      ]
    },
    {
      "cell_type": "code",
      "execution_count": 16,
      "metadata": {
        "colab": {
          "base_uri": "https://localhost:8080/"
        },
        "id": "RoiTBWmFRpfp",
        "outputId": "75a017f1-5674-4e23-b101-e531a4d8f7c5"
      },
      "outputs": [
        {
          "output_type": "stream",
          "name": "stdout",
          "text": [
            "111.11\n"
          ]
        }
      ],
      "source": [
        "min_oil_for_1_well = round(BUDGET_FOR_REGION / NUMBER_OF_OIL_WELL / PRICE_OF_OIL, 2)\n",
        "print(min_oil_for_1_well)"
      ]
    },
    {
      "cell_type": "markdown",
      "metadata": {
        "id": "_CaDZ0_eRpfq"
      },
      "source": [
        "Как видно средние запасы в 3х регионах меньше минимального значения запасов для безубыточности, поэтому не получится бурить случайные скважины в этих регионах. Нужно выбирать самые \"прибыльные\" скважины. Чем и займемся далее."
      ]
    },
    {
      "cell_type": "markdown",
      "metadata": {
        "id": "vW923mqORpfr"
      },
      "source": [
        "### Функция расчета прибыли"
      ]
    },
    {
      "cell_type": "markdown",
      "metadata": {
        "id": "k4xPXMDVRpfr"
      },
      "source": [
        "Напишем функцию, которая будет рассчитывать прибыль для 200 лучших скважин по запасам, результат будет отображаться в миллионах рублей."
      ]
    },
    {
      "cell_type": "code",
      "execution_count": 17,
      "metadata": {
        "id": "XwodOrE3Rpfr"
      },
      "outputs": [],
      "source": [
        "def profit(top_200_hist):\n",
        "    return round((sum(top_200_hist) * PRICE_OF_OIL - BUDGET_FOR_REGION) / 1000000, 2)"
      ]
    },
    {
      "cell_type": "markdown",
      "metadata": {
        "id": "GA7-tOarRpfs"
      },
      "source": [
        "### Вывод"
      ]
    },
    {
      "cell_type": "markdown",
      "metadata": {
        "id": "GKVceJ2ORpft"
      },
      "source": [
        "Подготовили данные для расчета прибыльности"
      ]
    },
    {
      "cell_type": "markdown",
      "metadata": {
        "id": "gHTWxdMfRpft"
      },
      "source": [
        "## Расчёт прибыли и рисков "
      ]
    },
    {
      "cell_type": "markdown",
      "metadata": {
        "id": "XR2XUsXLRpfu"
      },
      "source": [
        "Применим технику Bootstrap для расчета средней прибыли для каждого региона и рисков."
      ]
    },
    {
      "cell_type": "code",
      "execution_count": 18,
      "metadata": {
        "id": "YvyJP5waRpfu"
      },
      "outputs": [],
      "source": [
        "def bootstrap_plot (data, model):\n",
        "    \n",
        "    state = np.random.RandomState(101)\n",
        "\n",
        "    values = []\n",
        "    data_temp = data.drop(['product'],axis=1)\n",
        "    \n",
        "    #Bootstrap\n",
        "    for i in range(1000):\n",
        "        feature_subsample = data_temp.sample(n=500, replace=True, random_state=state)\n",
        "        predict_subsample = model.predict(feature_subsample)\n",
        "        df_subsample = feature_subsample\n",
        "        df_subsample['product_predict'] = predict_subsample\n",
        "        temp_series = df_subsample['product_predict'].sort_values(ascending=False).head(200)\n",
        "        top_200_hist = data.loc[temp_series.index]['product']\n",
        "        values.append(profit(top_200_hist))\n",
        "\n",
        "    #Calculating parameters    \n",
        "    values = pd.Series(values)\n",
        "    risk = (values <= 0).mean() * 100\n",
        "    mean = values.mean()\n",
        "    lower = values.quantile(0.025)\n",
        "    upper = values.quantile(0.975)\n",
        "        \n",
        "    #Plotting\n",
        "    plt.figure()\n",
        "    plt.hist(values, bins=20, linewidth=0.5, edgecolor='black')\n",
        "    plt.xlabel('Profit (mln RUB)')\n",
        "    plt.ylabel('Counts')\n",
        "    plt.title('Hist plot of Profit')\n",
        "    plt.axvline(x=mean, linestyle='--', color='orange') #mean\n",
        "    plt.axvline(x=lower, color='red')\n",
        "    plt.axvline(x=upper, color='red')\n",
        "    plt.grid()\n",
        "    plt.show()\n",
        "\n",
        "    #Text\n",
        "    print(\"Средняя выручка:\", mean, '(пунктирная оранжевая линия)')\n",
        "    print(\"95% доверительный интервал:\", lower,'-', upper, '(красные линии)')\n",
        "    print(\"Риск получить убыток или 0 прибыль:\", risk,'%')"
      ]
    },
    {
      "cell_type": "markdown",
      "metadata": {
        "id": "259vJhPrRpfv"
      },
      "source": [
        "---"
      ]
    },
    {
      "cell_type": "markdown",
      "metadata": {
        "id": "w0HHHg96Rpfw"
      },
      "source": [
        "Для **Региона 0**"
      ]
    },
    {
      "cell_type": "code",
      "execution_count": 19,
      "metadata": {
        "scrolled": true,
        "colab": {
          "base_uri": "https://localhost:8080/",
          "height": 347
        },
        "id": "2cLNcjL2Rpfw",
        "outputId": "1eea0d94-3d8a-4269-9540-5aa1b1ccb843"
      },
      "outputs": [
        {
          "output_type": "display_data",
          "data": {
            "text/plain": [
              "<Figure size 432x288 with 1 Axes>"
            ],
            "image/png": "[encoded data removed]"
          },
          "metadata": {
            "needs_background": "light"
          }
        },
        {
          "output_type": "stream",
          "name": "stdout",
          "text": [
            "Средняя выручка: 431.55710999999997 (пунктирная оранжевая линия)\n",
            "95% доверительный интервал: -43.765499999999996 - 925.0202499999997 (красные линии)\n",
            "Риск получить убыток или 0 прибыль: 4.3 %\n"
          ]
        }
      ],
      "source": [
        "bootstrap_plot(df_0, model_0)"
      ]
    },
    {
      "cell_type": "markdown",
      "metadata": {
        "id": "0LiG39QvRpfw"
      },
      "source": [
        "Для **Региона 1**"
      ]
    },
    {
      "cell_type": "code",
      "execution_count": 20,
      "metadata": {
        "scrolled": true,
        "colab": {
          "base_uri": "https://localhost:8080/",
          "height": 347
        },
        "id": "USNqz-dORpfw",
        "outputId": "9753e3c6-502f-41d1-d112-619030932596"
      },
      "outputs": [
        {
          "output_type": "display_data",
          "data": {
            "text/plain": [
              "<Figure size 432x288 with 1 Axes>"
            ],
            "image/png": "[encoded data removed]"
          },
          "metadata": {
            "needs_background": "light"
          }
        },
        {
          "output_type": "stream",
          "name": "stdout",
          "text": [
            "Средняя выручка: 454.89381 (пунктирная оранжевая линия)\n",
            "95% доверительный интервал: 47.36300000000001 - 866.8087499999997 (красные линии)\n",
            "Риск получить убыток или 0 прибыль: 1.0 %\n"
          ]
        }
      ],
      "source": [
        "bootstrap_plot(df_1, model_1)"
      ]
    },
    {
      "cell_type": "markdown",
      "metadata": {
        "id": "F18LTnvNRpfx"
      },
      "source": [
        "Для **Региона 2**"
      ]
    },
    {
      "cell_type": "code",
      "execution_count": 21,
      "metadata": {
        "scrolled": true,
        "colab": {
          "base_uri": "https://localhost:8080/",
          "height": 347
        },
        "id": "EJcKDko-Rpfx",
        "outputId": "43108d52-25de-4e48-c35b-54fbee69794e"
      },
      "outputs": [
        {
          "output_type": "display_data",
          "data": {
            "text/plain": [
              "<Figure size 432x288 with 1 Axes>"
            ],
            "image/png": "[encoded data removed]"
          },
          "metadata": {
            "needs_background": "light"
          }
        },
        {
          "output_type": "stream",
          "name": "stdout",
          "text": [
            "Средняя выручка: 374.61751999999996 (пунктирная оранжевая линия)\n",
            "95% доверительный интервал: -160.96949999999998 - 903.5802499999999 (красные линии)\n",
            "Риск получить убыток или 0 прибыль: 7.9 %\n"
          ]
        }
      ],
      "source": [
        "bootstrap_plot(df_2, model_2)"
      ]
    },
    {
      "cell_type": "markdown",
      "metadata": {
        "id": "m_dSfcskRpfy"
      },
      "source": [
        "### Вывод"
      ]
    },
    {
      "cell_type": "markdown",
      "metadata": {
        "id": "LFn1kTmSRpfy"
      },
      "source": [
        "На основании графиков и расчетов можно сделать вывод, что самым выгодным для освоения с финансовой точки зрения является **Регион 1**"
      ]
    },
    {
      "cell_type": "code",
      "execution_count": 21,
      "metadata": {
        "id": "2yoJ2Lu_Rpfz"
      },
      "outputs": [],
      "source": [
        ""
      ]
    }
  ],
  "metadata": {
    "ExecuteTimeLog": [
      {
        "duration": 1029,
        "start_time": "2022-01-27T13:51:27.291Z"
      },
      {
        "duration": 161,
        "start_time": "2022-01-27T13:52:08.239Z"
      },
      {
        "duration": 14,
        "start_time": "2022-01-27T13:52:20.609Z"
      },
      {
        "duration": 22,
        "start_time": "2022-01-27T13:52:32.948Z"
      },
      {
        "duration": 475,
        "start_time": "2022-01-27T13:55:32.070Z"
      },
      {
        "duration": 13,
        "start_time": "2022-01-27T13:55:36.031Z"
      },
      {
        "duration": 14,
        "start_time": "2022-01-27T13:55:40.852Z"
      },
      {
        "duration": 12,
        "start_time": "2022-01-27T13:55:46.334Z"
      },
      {
        "duration": 32,
        "start_time": "2022-01-27T13:57:16.629Z"
      },
      {
        "duration": 190,
        "start_time": "2022-01-27T14:00:38.645Z"
      },
      {
        "duration": 228,
        "start_time": "2022-01-27T14:01:09.701Z"
      },
      {
        "duration": 16,
        "start_time": "2022-01-27T14:06:48.364Z"
      },
      {
        "duration": 923,
        "start_time": "2022-01-27T14:07:52.089Z"
      },
      {
        "duration": 910,
        "start_time": "2022-01-27T14:08:17.963Z"
      },
      {
        "duration": 843,
        "start_time": "2022-01-27T14:08:31.979Z"
      },
      {
        "duration": 2486,
        "start_time": "2022-01-27T14:09:08.124Z"
      },
      {
        "duration": 895,
        "start_time": "2022-01-27T14:20:00.442Z"
      },
      {
        "duration": 37,
        "start_time": "2022-01-27T14:23:16.643Z"
      },
      {
        "duration": 14,
        "start_time": "2022-01-27T14:26:30.582Z"
      },
      {
        "duration": 10,
        "start_time": "2022-01-27T14:26:33.245Z"
      },
      {
        "duration": 21,
        "start_time": "2022-01-27T14:43:36.889Z"
      },
      {
        "duration": 4,
        "start_time": "2022-01-27T14:48:42.066Z"
      },
      {
        "duration": 5,
        "start_time": "2022-01-27T14:51:21.392Z"
      },
      {
        "duration": 4,
        "start_time": "2022-01-27T14:53:20.625Z"
      },
      {
        "duration": 4,
        "start_time": "2022-01-27T14:53:49.989Z"
      },
      {
        "duration": 36,
        "start_time": "2022-01-27T14:53:50.516Z"
      },
      {
        "duration": 36,
        "start_time": "2022-01-27T14:55:28.962Z"
      },
      {
        "duration": 477,
        "start_time": "2022-01-27T15:05:40.348Z"
      },
      {
        "duration": 14,
        "start_time": "2022-01-27T15:05:51.688Z"
      },
      {
        "duration": 6,
        "start_time": "2022-01-27T15:06:36.044Z"
      },
      {
        "duration": 3,
        "start_time": "2022-01-27T15:11:44.931Z"
      },
      {
        "duration": 1293,
        "start_time": "2022-01-28T05:17:07.052Z"
      },
      {
        "duration": 1632,
        "start_time": "2022-01-28T05:17:08.348Z"
      },
      {
        "duration": 32,
        "start_time": "2022-01-28T05:17:09.983Z"
      },
      {
        "duration": 2889,
        "start_time": "2022-01-28T05:17:10.018Z"
      },
      {
        "duration": 242,
        "start_time": "2022-01-28T05:17:12.910Z"
      },
      {
        "duration": 21,
        "start_time": "2022-01-28T05:17:13.155Z"
      },
      {
        "duration": 56,
        "start_time": "2022-01-28T05:17:13.178Z"
      },
      {
        "duration": 15,
        "start_time": "2022-01-28T05:17:13.238Z"
      },
      {
        "duration": 13,
        "start_time": "2022-01-28T05:17:13.257Z"
      },
      {
        "duration": 29,
        "start_time": "2022-01-28T05:17:13.272Z"
      },
      {
        "duration": 99,
        "start_time": "2022-01-28T05:17:13.334Z"
      },
      {
        "duration": 100,
        "start_time": "2022-01-28T05:17:13.437Z"
      },
      {
        "duration": 8,
        "start_time": "2022-01-28T05:25:11.709Z"
      },
      {
        "duration": 10,
        "start_time": "2022-01-28T05:28:12.006Z"
      },
      {
        "duration": 387,
        "start_time": "2022-01-28T05:29:39.225Z"
      },
      {
        "duration": 265,
        "start_time": "2022-01-28T05:31:27.141Z"
      },
      {
        "duration": 5,
        "start_time": "2022-01-28T05:33:12.905Z"
      },
      {
        "duration": 7094,
        "start_time": "2022-01-28T05:34:56.404Z"
      },
      {
        "duration": 4597,
        "start_time": "2022-01-28T05:35:13.765Z"
      },
      {
        "duration": 459,
        "start_time": "2022-01-28T05:35:18.365Z"
      },
      {
        "duration": 40,
        "start_time": "2022-01-28T05:35:18.827Z"
      },
      {
        "duration": 2719,
        "start_time": "2022-01-28T05:35:18.870Z"
      },
      {
        "duration": 220,
        "start_time": "2022-01-28T05:35:21.592Z"
      },
      {
        "duration": 30,
        "start_time": "2022-01-28T05:35:21.815Z"
      },
      {
        "duration": 41,
        "start_time": "2022-01-28T05:35:21.848Z"
      },
      {
        "duration": 13,
        "start_time": "2022-01-28T05:35:21.892Z"
      },
      {
        "duration": 14,
        "start_time": "2022-01-28T05:35:21.931Z"
      },
      {
        "duration": 30,
        "start_time": "2022-01-28T05:35:21.948Z"
      },
      {
        "duration": 58,
        "start_time": "2022-01-28T05:35:21.980Z"
      },
      {
        "duration": 97,
        "start_time": "2022-01-28T05:35:22.042Z"
      },
      {
        "duration": 518,
        "start_time": "2022-01-28T05:35:22.143Z"
      },
      {
        "duration": 3119,
        "start_time": "2022-01-28T05:37:50.429Z"
      },
      {
        "duration": 248,
        "start_time": "2022-01-28T05:40:24.006Z"
      },
      {
        "duration": 7371,
        "start_time": "2022-01-28T05:47:17.726Z"
      },
      {
        "duration": 260,
        "start_time": "2022-01-28T05:47:42.336Z"
      },
      {
        "duration": 5000,
        "start_time": "2022-01-28T05:48:30.427Z"
      },
      {
        "duration": 492,
        "start_time": "2022-01-28T05:48:35.430Z"
      },
      {
        "duration": 44,
        "start_time": "2022-01-28T05:48:35.925Z"
      },
      {
        "duration": 2730,
        "start_time": "2022-01-28T05:48:35.973Z"
      },
      {
        "duration": 211,
        "start_time": "2022-01-28T05:48:38.706Z"
      },
      {
        "duration": 32,
        "start_time": "2022-01-28T05:48:38.919Z"
      },
      {
        "duration": 59,
        "start_time": "2022-01-28T05:48:38.954Z"
      },
      {
        "duration": 13,
        "start_time": "2022-01-28T05:48:39.017Z"
      },
      {
        "duration": 17,
        "start_time": "2022-01-28T05:48:39.033Z"
      },
      {
        "duration": 37,
        "start_time": "2022-01-28T05:48:39.052Z"
      },
      {
        "duration": 50,
        "start_time": "2022-01-28T05:48:39.091Z"
      },
      {
        "duration": 190,
        "start_time": "2022-01-28T05:48:39.145Z"
      },
      {
        "duration": 27,
        "start_time": "2022-01-28T05:48:39.339Z"
      },
      {
        "duration": 33,
        "start_time": "2022-01-28T05:50:09.047Z"
      },
      {
        "duration": 13,
        "start_time": "2022-01-28T05:50:13.271Z"
      },
      {
        "duration": 3169,
        "start_time": "2022-01-28T06:10:21.368Z"
      },
      {
        "duration": 21,
        "start_time": "2022-01-28T06:11:52.067Z"
      },
      {
        "duration": 141,
        "start_time": "2022-01-28T06:11:56.014Z"
      },
      {
        "duration": 75,
        "start_time": "2022-01-28T06:11:58.859Z"
      },
      {
        "duration": 37,
        "start_time": "2022-01-28T06:12:02.605Z"
      },
      {
        "duration": 12,
        "start_time": "2022-01-28T06:12:05.174Z"
      },
      {
        "duration": 32,
        "start_time": "2022-01-28T06:13:19.045Z"
      },
      {
        "duration": 23,
        "start_time": "2022-01-28T06:13:22.551Z"
      },
      {
        "duration": 8,
        "start_time": "2022-01-28T06:13:25.911Z"
      },
      {
        "duration": 34,
        "start_time": "2022-01-28T06:13:29.182Z"
      },
      {
        "duration": 12,
        "start_time": "2022-01-28T06:13:32.199Z"
      },
      {
        "duration": 4838,
        "start_time": "2022-01-28T06:13:51.946Z"
      },
      {
        "duration": 503,
        "start_time": "2022-01-28T06:13:56.787Z"
      },
      {
        "duration": 46,
        "start_time": "2022-01-28T06:13:57.294Z"
      },
      {
        "duration": 2727,
        "start_time": "2022-01-28T06:13:57.344Z"
      },
      {
        "duration": 235,
        "start_time": "2022-01-28T06:14:00.073Z"
      },
      {
        "duration": 39,
        "start_time": "2022-01-28T06:14:00.311Z"
      },
      {
        "duration": 47,
        "start_time": "2022-01-28T06:14:00.352Z"
      },
      {
        "duration": 13,
        "start_time": "2022-01-28T06:14:00.402Z"
      },
      {
        "duration": 27,
        "start_time": "2022-01-28T06:14:00.419Z"
      },
      {
        "duration": 51,
        "start_time": "2022-01-28T06:14:00.450Z"
      },
      {
        "duration": 136,
        "start_time": "2022-01-28T06:14:00.504Z"
      },
      {
        "duration": 14,
        "start_time": "2022-01-28T06:14:00.737Z"
      },
      {
        "duration": 115,
        "start_time": "2022-01-28T06:14:00.754Z"
      },
      {
        "duration": 13,
        "start_time": "2022-01-28T06:14:00.872Z"
      },
      {
        "duration": 8591,
        "start_time": "2022-01-29T05:44:53.780Z"
      },
      {
        "duration": 1532,
        "start_time": "2022-01-29T05:45:02.374Z"
      },
      {
        "duration": 32,
        "start_time": "2022-01-29T05:45:03.909Z"
      },
      {
        "duration": 2668,
        "start_time": "2022-01-29T05:45:03.944Z"
      },
      {
        "duration": 217,
        "start_time": "2022-01-29T05:45:06.615Z"
      },
      {
        "duration": 35,
        "start_time": "2022-01-29T05:45:06.834Z"
      },
      {
        "duration": 40,
        "start_time": "2022-01-29T05:45:06.871Z"
      },
      {
        "duration": 13,
        "start_time": "2022-01-29T05:45:06.914Z"
      },
      {
        "duration": 10,
        "start_time": "2022-01-29T05:45:06.930Z"
      },
      {
        "duration": 32,
        "start_time": "2022-01-29T05:45:06.970Z"
      },
      {
        "duration": 71,
        "start_time": "2022-01-29T05:45:07.004Z"
      },
      {
        "duration": 95,
        "start_time": "2022-01-29T05:45:07.078Z"
      },
      {
        "duration": 129,
        "start_time": "2022-01-29T05:45:07.178Z"
      },
      {
        "duration": 13,
        "start_time": "2022-01-29T05:45:07.310Z"
      },
      {
        "duration": 4,
        "start_time": "2022-01-29T05:50:28.142Z"
      },
      {
        "duration": 4,
        "start_time": "2022-01-29T05:51:58.570Z"
      },
      {
        "duration": 390,
        "start_time": "2022-01-29T05:57:45.917Z"
      },
      {
        "duration": 4,
        "start_time": "2022-01-29T05:57:53.117Z"
      },
      {
        "duration": 4,
        "start_time": "2022-01-29T05:57:53.643Z"
      },
      {
        "duration": 3,
        "start_time": "2022-01-29T05:58:11.772Z"
      },
      {
        "duration": 256,
        "start_time": "2022-01-29T06:01:47.545Z"
      },
      {
        "duration": 27,
        "start_time": "2022-01-29T06:02:13.887Z"
      },
      {
        "duration": 25,
        "start_time": "2022-01-29T06:02:31.812Z"
      },
      {
        "duration": 264,
        "start_time": "2022-01-29T06:02:53.467Z"
      },
      {
        "duration": 12,
        "start_time": "2022-01-29T06:03:09.447Z"
      },
      {
        "duration": 244,
        "start_time": "2022-01-29T06:03:31.465Z"
      },
      {
        "duration": 7,
        "start_time": "2022-01-29T06:03:42.275Z"
      },
      {
        "duration": 279,
        "start_time": "2022-01-29T08:20:20.539Z"
      },
      {
        "duration": 21,
        "start_time": "2022-01-29T08:20:35.225Z"
      },
      {
        "duration": 10,
        "start_time": "2022-01-29T08:25:57.084Z"
      },
      {
        "duration": 795,
        "start_time": "2022-01-29T08:27:55.334Z"
      },
      {
        "duration": 2094,
        "start_time": "2022-01-29T08:28:20.099Z"
      },
      {
        "duration": 122,
        "start_time": "2022-01-29T08:56:35.838Z"
      },
      {
        "duration": 4,
        "start_time": "2022-01-29T09:52:58.092Z"
      },
      {
        "duration": 4,
        "start_time": "2022-01-29T09:56:03.325Z"
      },
      {
        "duration": 10,
        "start_time": "2022-01-29T09:56:09.910Z"
      },
      {
        "duration": 5,
        "start_time": "2022-01-29T09:56:30.195Z"
      },
      {
        "duration": 10,
        "start_time": "2022-01-29T09:56:32.244Z"
      },
      {
        "duration": 5,
        "start_time": "2022-01-29T09:57:26.032Z"
      },
      {
        "duration": 9,
        "start_time": "2022-01-29T09:57:26.639Z"
      },
      {
        "duration": 10,
        "start_time": "2022-01-29T09:57:58.186Z"
      },
      {
        "duration": 10,
        "start_time": "2022-01-29T09:58:05.528Z"
      },
      {
        "duration": 10,
        "start_time": "2022-01-29T09:58:09.740Z"
      },
      {
        "duration": 13,
        "start_time": "2022-01-29T10:15:04.236Z"
      },
      {
        "duration": 14,
        "start_time": "2022-01-29T10:35:12.891Z"
      },
      {
        "duration": 15,
        "start_time": "2022-01-29T10:37:56.282Z"
      },
      {
        "duration": 263,
        "start_time": "2022-01-29T10:38:19.629Z"
      },
      {
        "duration": 3832,
        "start_time": "2022-01-29T10:38:32.382Z"
      },
      {
        "duration": 3978,
        "start_time": "2022-01-29T10:39:07.695Z"
      },
      {
        "duration": 3871,
        "start_time": "2022-01-29T10:39:18.491Z"
      },
      {
        "duration": 3845,
        "start_time": "2022-01-29T10:40:04.520Z"
      },
      {
        "duration": 3793,
        "start_time": "2022-01-29T10:40:14.090Z"
      },
      {
        "duration": 4047,
        "start_time": "2022-01-29T10:41:13.801Z"
      },
      {
        "duration": 8,
        "start_time": "2022-01-29T10:45:08.914Z"
      },
      {
        "duration": 293,
        "start_time": "2022-01-29T10:45:45.680Z"
      },
      {
        "duration": 3797,
        "start_time": "2022-01-29T10:49:51.557Z"
      },
      {
        "duration": 3814,
        "start_time": "2022-01-29T10:50:46.260Z"
      },
      {
        "duration": 4175,
        "start_time": "2022-01-29T10:52:33.897Z"
      },
      {
        "duration": 294,
        "start_time": "2022-01-29T10:52:43.203Z"
      },
      {
        "duration": 3994,
        "start_time": "2022-01-29T10:52:55.357Z"
      },
      {
        "duration": 437,
        "start_time": "2022-01-29T10:53:01.284Z"
      },
      {
        "duration": 39829,
        "start_time": "2022-01-29T10:53:21.822Z"
      },
      {
        "duration": 39122,
        "start_time": "2022-01-29T10:54:22.820Z"
      },
      {
        "duration": 88,
        "start_time": "2022-01-29T11:18:23.588Z"
      },
      {
        "duration": 12,
        "start_time": "2022-01-29T11:18:31.410Z"
      },
      {
        "duration": 4393,
        "start_time": "2022-01-29T11:18:52.660Z"
      },
      {
        "duration": 3269,
        "start_time": "2022-01-29T11:19:18.847Z"
      },
      {
        "duration": 9,
        "start_time": "2022-01-29T11:19:33.434Z"
      },
      {
        "duration": 4736,
        "start_time": "2022-01-29T11:19:38.295Z"
      },
      {
        "duration": 7,
        "start_time": "2022-01-29T11:19:58.863Z"
      },
      {
        "duration": 4254,
        "start_time": "2022-01-29T11:20:07.123Z"
      },
      {
        "duration": 8,
        "start_time": "2022-01-29T11:20:35.277Z"
      },
      {
        "duration": 4587,
        "start_time": "2022-01-29T11:20:35.986Z"
      },
      {
        "duration": 8,
        "start_time": "2022-01-29T11:21:23.395Z"
      },
      {
        "duration": 4302,
        "start_time": "2022-01-29T11:21:24.509Z"
      },
      {
        "duration": 8,
        "start_time": "2022-01-29T11:21:36.888Z"
      },
      {
        "duration": 4184,
        "start_time": "2022-01-29T11:21:38.615Z"
      },
      {
        "duration": 8,
        "start_time": "2022-01-29T11:23:33.658Z"
      },
      {
        "duration": 4134,
        "start_time": "2022-01-29T11:23:35.105Z"
      },
      {
        "duration": 9,
        "start_time": "2022-01-29T11:24:13.431Z"
      },
      {
        "duration": 5024,
        "start_time": "2022-01-29T11:24:14.828Z"
      },
      {
        "duration": 8,
        "start_time": "2022-01-29T11:26:33.392Z"
      },
      {
        "duration": 4093,
        "start_time": "2022-01-29T11:26:34.712Z"
      },
      {
        "duration": 8,
        "start_time": "2022-01-29T11:27:20.135Z"
      },
      {
        "duration": 4359,
        "start_time": "2022-01-29T11:27:20.998Z"
      },
      {
        "duration": 9,
        "start_time": "2022-01-29T11:27:48.178Z"
      },
      {
        "duration": 4100,
        "start_time": "2022-01-29T11:27:49.288Z"
      },
      {
        "duration": 8,
        "start_time": "2022-01-29T11:29:42.868Z"
      },
      {
        "duration": 4506,
        "start_time": "2022-01-29T11:29:44.299Z"
      },
      {
        "duration": 12,
        "start_time": "2022-01-29T11:34:01.587Z"
      },
      {
        "duration": 4538,
        "start_time": "2022-01-29T11:34:02.589Z"
      },
      {
        "duration": 8,
        "start_time": "2022-01-29T11:34:51.586Z"
      },
      {
        "duration": 4460,
        "start_time": "2022-01-29T11:34:55.643Z"
      },
      {
        "duration": 9,
        "start_time": "2022-01-29T11:36:49.927Z"
      },
      {
        "duration": 4335,
        "start_time": "2022-01-29T11:36:51.129Z"
      },
      {
        "duration": 247,
        "start_time": "2022-01-29T11:37:19.483Z"
      },
      {
        "duration": 6,
        "start_time": "2022-01-29T11:37:38.827Z"
      },
      {
        "duration": 6,
        "start_time": "2022-01-29T11:38:47.060Z"
      },
      {
        "duration": 10,
        "start_time": "2022-01-29T11:39:08.938Z"
      },
      {
        "duration": 4590,
        "start_time": "2022-01-29T11:39:12.464Z"
      },
      {
        "duration": 10,
        "start_time": "2022-01-29T11:39:42.507Z"
      },
      {
        "duration": 4517,
        "start_time": "2022-01-29T11:39:43.583Z"
      },
      {
        "duration": 8,
        "start_time": "2022-01-29T11:40:59.808Z"
      },
      {
        "duration": 4368,
        "start_time": "2022-01-29T11:41:03.649Z"
      },
      {
        "duration": 729,
        "start_time": "2022-01-29T11:46:22.860Z"
      },
      {
        "duration": 9,
        "start_time": "2022-01-29T11:46:36.377Z"
      },
      {
        "duration": 4657,
        "start_time": "2022-01-29T11:52:45.267Z"
      },
      {
        "duration": 4862,
        "start_time": "2022-01-29T11:52:49.927Z"
      },
      {
        "duration": 5042,
        "start_time": "2022-01-29T11:54:20.964Z"
      },
      {
        "duration": 472,
        "start_time": "2022-01-29T11:54:26.009Z"
      },
      {
        "duration": 31,
        "start_time": "2022-01-29T11:54:26.484Z"
      },
      {
        "duration": 2636,
        "start_time": "2022-01-29T11:54:26.518Z"
      },
      {
        "duration": 215,
        "start_time": "2022-01-29T11:54:29.156Z"
      },
      {
        "duration": 25,
        "start_time": "2022-01-29T11:54:29.373Z"
      },
      {
        "duration": 40,
        "start_time": "2022-01-29T11:54:29.401Z"
      },
      {
        "duration": 37,
        "start_time": "2022-01-29T11:54:29.446Z"
      },
      {
        "duration": 11,
        "start_time": "2022-01-29T11:54:29.487Z"
      },
      {
        "duration": 38,
        "start_time": "2022-01-29T11:54:29.501Z"
      },
      {
        "duration": 131,
        "start_time": "2022-01-29T11:54:29.542Z"
      },
      {
        "duration": 192,
        "start_time": "2022-01-29T11:54:29.677Z"
      },
      {
        "duration": 36,
        "start_time": "2022-01-29T11:54:29.872Z"
      },
      {
        "duration": 12,
        "start_time": "2022-01-29T11:54:29.911Z"
      },
      {
        "duration": 7,
        "start_time": "2022-01-29T11:54:29.925Z"
      },
      {
        "duration": 36,
        "start_time": "2022-01-29T11:54:29.934Z"
      },
      {
        "duration": 8,
        "start_time": "2022-01-29T11:54:29.972Z"
      },
      {
        "duration": 12,
        "start_time": "2022-01-29T11:54:29.982Z"
      },
      {
        "duration": 9,
        "start_time": "2022-01-29T11:54:29.997Z"
      },
      {
        "duration": 4319,
        "start_time": "2022-01-29T11:54:30.009Z"
      },
      {
        "duration": 4361,
        "start_time": "2022-01-29T11:54:34.330Z"
      },
      {
        "duration": 4300,
        "start_time": "2022-01-29T11:54:38.694Z"
      },
      {
        "duration": 5284,
        "start_time": "2022-01-29T12:16:31.057Z"
      },
      {
        "duration": 497,
        "start_time": "2022-01-29T12:16:36.345Z"
      },
      {
        "duration": 44,
        "start_time": "2022-01-29T12:16:36.845Z"
      },
      {
        "duration": 2822,
        "start_time": "2022-01-29T12:16:36.892Z"
      },
      {
        "duration": 245,
        "start_time": "2022-01-29T12:16:39.717Z"
      },
      {
        "duration": 29,
        "start_time": "2022-01-29T12:16:39.969Z"
      },
      {
        "duration": 42,
        "start_time": "2022-01-29T12:16:40.001Z"
      },
      {
        "duration": 19,
        "start_time": "2022-01-29T12:16:40.070Z"
      },
      {
        "duration": 15,
        "start_time": "2022-01-29T12:16:40.093Z"
      },
      {
        "duration": 37,
        "start_time": "2022-01-29T12:16:40.111Z"
      },
      {
        "duration": 22,
        "start_time": "2022-01-29T12:16:40.171Z"
      },
      {
        "duration": 106,
        "start_time": "2022-01-29T12:16:40.271Z"
      },
      {
        "duration": 46,
        "start_time": "2022-01-29T12:16:40.381Z"
      },
      {
        "duration": 15,
        "start_time": "2022-01-29T12:16:40.430Z"
      },
      {
        "duration": 23,
        "start_time": "2022-01-29T12:16:40.448Z"
      },
      {
        "duration": 12,
        "start_time": "2022-01-29T12:16:40.475Z"
      },
      {
        "duration": 6,
        "start_time": "2022-01-29T12:16:40.489Z"
      },
      {
        "duration": 16,
        "start_time": "2022-01-29T12:16:40.497Z"
      },
      {
        "duration": 9,
        "start_time": "2022-01-29T12:16:40.516Z"
      },
      {
        "duration": 4605,
        "start_time": "2022-01-29T12:16:40.527Z"
      },
      {
        "duration": 4554,
        "start_time": "2022-01-29T12:16:45.135Z"
      },
      {
        "duration": 4595,
        "start_time": "2022-01-29T12:16:49.692Z"
      },
      {
        "duration": 128328,
        "start_time": "2022-01-29T14:46:40.798Z"
      },
      {
        "duration": 401,
        "start_time": "2022-01-29T14:49:00.891Z"
      },
      {
        "duration": 26,
        "start_time": "2022-01-29T14:49:02.647Z"
      },
      {
        "duration": 1572,
        "start_time": "2022-01-29T14:49:02.907Z"
      },
      {
        "duration": 129,
        "start_time": "2022-01-29T14:49:10.449Z"
      },
      {
        "duration": 19,
        "start_time": "2022-01-29T14:49:11.230Z"
      },
      {
        "duration": 32,
        "start_time": "2022-01-29T14:49:12.422Z"
      },
      {
        "duration": 11,
        "start_time": "2022-01-29T14:49:13.292Z"
      },
      {
        "duration": 7,
        "start_time": "2022-01-29T14:49:13.915Z"
      },
      {
        "duration": 59,
        "start_time": "2022-01-29T14:49:14.506Z"
      },
      {
        "duration": 75,
        "start_time": "2022-01-29T14:49:14.986Z"
      },
      {
        "duration": 6,
        "start_time": "2022-01-29T14:49:15.437Z"
      },
      {
        "duration": 25,
        "start_time": "2022-01-29T14:49:15.667Z"
      },
      {
        "duration": 9,
        "start_time": "2022-01-29T14:49:15.880Z"
      },
      {
        "duration": 3,
        "start_time": "2022-01-29T14:49:17.255Z"
      },
      {
        "duration": 3,
        "start_time": "2022-01-29T14:49:17.719Z"
      },
      {
        "duration": 3,
        "start_time": "2022-01-29T14:49:18.897Z"
      },
      {
        "duration": 9,
        "start_time": "2022-01-29T14:49:20.770Z"
      },
      {
        "duration": 7,
        "start_time": "2022-01-29T14:49:20.983Z"
      },
      {
        "duration": 2502,
        "start_time": "2022-01-29T14:49:22.311Z"
      },
      {
        "duration": 2600,
        "start_time": "2022-01-29T14:49:24.815Z"
      },
      {
        "duration": 2679,
        "start_time": "2022-01-29T14:49:27.417Z"
      },
      {
        "duration": 12,
        "start_time": "2022-01-29T14:50:02.674Z"
      },
      {
        "duration": 7,
        "start_time": "2022-01-29T16:01:19.550Z"
      },
      {
        "duration": 43621,
        "start_time": "2022-01-29T16:01:24.590Z"
      },
      {
        "duration": 419,
        "start_time": "2022-01-29T16:02:08.214Z"
      },
      {
        "duration": 27,
        "start_time": "2022-01-29T16:02:08.635Z"
      },
      {
        "duration": 1975,
        "start_time": "2022-01-29T16:02:08.664Z"
      },
      {
        "duration": 146,
        "start_time": "2022-01-29T16:02:10.641Z"
      },
      {
        "duration": 30,
        "start_time": "2022-01-29T16:02:10.789Z"
      },
      {
        "duration": 34,
        "start_time": "2022-01-29T16:02:10.821Z"
      },
      {
        "duration": 10,
        "start_time": "2022-01-29T16:02:10.858Z"
      },
      {
        "duration": 31,
        "start_time": "2022-01-29T16:02:10.870Z"
      },
      {
        "duration": 35,
        "start_time": "2022-01-29T16:02:10.907Z"
      },
      {
        "duration": 63,
        "start_time": "2022-01-29T16:02:10.944Z"
      },
      {
        "duration": 92,
        "start_time": "2022-01-29T16:02:11.010Z"
      },
      {
        "duration": 132,
        "start_time": "2022-01-29T16:02:11.109Z"
      },
      {
        "duration": 10,
        "start_time": "2022-01-29T16:02:11.243Z"
      },
      {
        "duration": 7,
        "start_time": "2022-01-29T16:02:11.255Z"
      },
      {
        "duration": 16,
        "start_time": "2022-01-29T16:02:11.263Z"
      },
      {
        "duration": 5,
        "start_time": "2022-01-29T16:02:11.281Z"
      },
      {
        "duration": 15,
        "start_time": "2022-01-29T16:02:11.288Z"
      },
      {
        "duration": 10,
        "start_time": "2022-01-29T16:02:11.307Z"
      },
      {
        "duration": 1217,
        "start_time": "2022-01-29T16:02:11.319Z"
      },
      {
        "duration": 496,
        "start_time": "2022-01-29T16:02:12.042Z"
      },
      {
        "duration": 495,
        "start_time": "2022-01-29T16:02:12.045Z"
      },
      {
        "duration": 4,
        "start_time": "2022-01-29T16:03:08.814Z"
      },
      {
        "duration": 10,
        "start_time": "2022-01-29T16:03:13.846Z"
      },
      {
        "duration": 7,
        "start_time": "2022-01-29T16:03:14.712Z"
      },
      {
        "duration": 3123,
        "start_time": "2022-01-29T16:03:18.777Z"
      },
      {
        "duration": 2988,
        "start_time": "2022-01-29T16:03:24.895Z"
      },
      {
        "duration": 2999,
        "start_time": "2022-01-29T16:03:27.885Z"
      },
      {
        "duration": 7,
        "start_time": "2022-01-29T16:05:20.773Z"
      },
      {
        "duration": 3037,
        "start_time": "2022-01-29T16:05:23.310Z"
      },
      {
        "duration": 3051,
        "start_time": "2022-01-29T16:05:26.349Z"
      },
      {
        "duration": 3008,
        "start_time": "2022-01-29T16:05:29.404Z"
      },
      {
        "duration": 7,
        "start_time": "2022-01-29T16:06:50.066Z"
      },
      {
        "duration": 2827,
        "start_time": "2022-01-29T16:06:51.920Z"
      },
      {
        "duration": 2826,
        "start_time": "2022-01-29T16:06:54.749Z"
      },
      {
        "duration": 2825,
        "start_time": "2022-01-29T16:06:57.577Z"
      },
      {
        "duration": 332,
        "start_time": "2022-01-30T08:21:04.995Z"
      },
      {
        "duration": 7130,
        "start_time": "2022-01-30T08:21:17.525Z"
      },
      {
        "duration": 910,
        "start_time": "2022-01-30T08:21:24.658Z"
      },
      {
        "duration": 25,
        "start_time": "2022-01-30T08:21:25.572Z"
      },
      {
        "duration": 1590,
        "start_time": "2022-01-30T08:21:25.598Z"
      },
      {
        "duration": 121,
        "start_time": "2022-01-30T08:21:27.190Z"
      },
      {
        "duration": 17,
        "start_time": "2022-01-30T08:21:27.313Z"
      },
      {
        "duration": 35,
        "start_time": "2022-01-30T08:21:27.333Z"
      },
      {
        "duration": 9,
        "start_time": "2022-01-30T08:21:27.370Z"
      },
      {
        "duration": 18,
        "start_time": "2022-01-30T08:21:27.380Z"
      },
      {
        "duration": 26,
        "start_time": "2022-01-30T08:21:27.400Z"
      },
      {
        "duration": 40,
        "start_time": "2022-01-30T08:21:27.428Z"
      },
      {
        "duration": 200,
        "start_time": "2022-01-30T08:21:27.471Z"
      },
      {
        "duration": 35,
        "start_time": "2022-01-30T08:21:27.673Z"
      },
      {
        "duration": 8,
        "start_time": "2022-01-30T08:21:27.709Z"
      },
      {
        "duration": 4,
        "start_time": "2022-01-30T08:21:27.719Z"
      },
      {
        "duration": 6,
        "start_time": "2022-01-30T08:21:27.724Z"
      },
      {
        "duration": 4,
        "start_time": "2022-01-30T08:21:27.732Z"
      },
      {
        "duration": 24,
        "start_time": "2022-01-30T08:21:27.738Z"
      },
      {
        "duration": 9,
        "start_time": "2022-01-30T08:21:27.765Z"
      },
      {
        "duration": 356,
        "start_time": "2022-01-30T08:21:27.775Z"
      },
      {
        "duration": 838,
        "start_time": "2022-01-30T08:21:27.295Z"
      },
      {
        "duration": 836,
        "start_time": "2022-01-30T08:21:27.299Z"
      },
      {
        "duration": 833,
        "start_time": "2022-01-30T08:21:27.303Z"
      },
      {
        "duration": 89,
        "start_time": "2022-01-30T08:23:20.919Z"
      },
      {
        "duration": 2293,
        "start_time": "2022-01-30T08:23:38.794Z"
      },
      {
        "duration": 6,
        "start_time": "2022-01-30T08:24:44.524Z"
      },
      {
        "duration": 5,
        "start_time": "2022-01-30T08:25:03.093Z"
      },
      {
        "duration": 6,
        "start_time": "2022-01-30T08:28:16.615Z"
      },
      {
        "duration": 5,
        "start_time": "2022-01-30T08:28:32.075Z"
      },
      {
        "duration": 5,
        "start_time": "2022-01-30T08:28:56.583Z"
      },
      {
        "duration": 9,
        "start_time": "2022-01-30T08:34:36.917Z"
      },
      {
        "duration": 7,
        "start_time": "2022-01-30T08:34:37.385Z"
      },
      {
        "duration": 2591,
        "start_time": "2022-01-30T08:34:40.016Z"
      },
      {
        "duration": 2604,
        "start_time": "2022-01-30T08:34:42.608Z"
      },
      {
        "duration": 2618,
        "start_time": "2022-01-30T08:34:45.214Z"
      },
      {
        "duration": 9583,
        "start_time": "2022-01-30T13:00:26.288Z"
      },
      {
        "duration": 1002,
        "start_time": "2022-01-30T13:00:35.874Z"
      },
      {
        "duration": 36,
        "start_time": "2022-01-30T13:00:36.880Z"
      },
      {
        "duration": 2847,
        "start_time": "2022-01-30T13:00:36.919Z"
      },
      {
        "duration": 209,
        "start_time": "2022-01-30T13:00:39.769Z"
      },
      {
        "duration": 23,
        "start_time": "2022-01-30T13:00:39.980Z"
      },
      {
        "duration": 57,
        "start_time": "2022-01-30T13:00:40.006Z"
      },
      {
        "duration": 12,
        "start_time": "2022-01-30T13:00:40.067Z"
      },
      {
        "duration": 11,
        "start_time": "2022-01-30T13:00:40.083Z"
      },
      {
        "duration": 52,
        "start_time": "2022-01-30T13:00:40.096Z"
      },
      {
        "duration": 18,
        "start_time": "2022-01-30T13:00:40.150Z"
      },
      {
        "duration": 99,
        "start_time": "2022-01-30T13:00:40.250Z"
      },
      {
        "duration": 39,
        "start_time": "2022-01-30T13:00:40.353Z"
      },
      {
        "duration": 13,
        "start_time": "2022-01-30T13:00:40.395Z"
      },
      {
        "duration": 5,
        "start_time": "2022-01-30T13:00:40.411Z"
      },
      {
        "duration": 7,
        "start_time": "2022-01-30T13:00:40.450Z"
      },
      {
        "duration": 6,
        "start_time": "2022-01-30T13:00:40.459Z"
      },
      {
        "duration": 15,
        "start_time": "2022-01-30T13:00:40.467Z"
      },
      {
        "duration": 9,
        "start_time": "2022-01-30T13:00:40.484Z"
      },
      {
        "duration": 4508,
        "start_time": "2022-01-30T13:00:40.496Z"
      },
      {
        "duration": 4590,
        "start_time": "2022-01-30T13:00:45.008Z"
      },
      {
        "duration": 4308,
        "start_time": "2022-01-30T13:00:49.601Z"
      },
      {
        "duration": 5,
        "start_time": "2022-01-30T13:02:25.128Z"
      },
      {
        "duration": 421,
        "start_time": "2022-01-30T13:02:40.659Z"
      },
      {
        "duration": 421,
        "start_time": "2022-01-30T13:04:19.428Z"
      },
      {
        "duration": 6,
        "start_time": "2022-01-30T13:04:35.256Z"
      },
      {
        "duration": 14,
        "start_time": "2022-01-30T13:04:42.912Z"
      },
      {
        "duration": 6,
        "start_time": "2022-01-30T13:05:32.905Z"
      },
      {
        "duration": 303,
        "start_time": "2022-01-30T13:05:50.895Z"
      },
      {
        "duration": 328,
        "start_time": "2022-01-30T13:06:01.936Z"
      },
      {
        "duration": 310,
        "start_time": "2022-01-30T13:06:18.928Z"
      },
      {
        "duration": 22,
        "start_time": "2022-01-30T13:06:33.966Z"
      },
      {
        "duration": 16,
        "start_time": "2022-01-30T13:07:07.134Z"
      },
      {
        "duration": 9,
        "start_time": "2022-01-30T13:07:37.756Z"
      },
      {
        "duration": 19,
        "start_time": "2022-01-30T13:13:16.530Z"
      },
      {
        "duration": 5,
        "start_time": "2022-01-30T13:13:24.523Z"
      },
      {
        "duration": 15,
        "start_time": "2022-01-30T13:13:25.395Z"
      },
      {
        "duration": 10,
        "start_time": "2022-01-30T13:14:17.067Z"
      },
      {
        "duration": 6,
        "start_time": "2022-01-30T13:18:53.936Z"
      },
      {
        "duration": 447,
        "start_time": "2022-01-30T13:18:55.740Z"
      },
      {
        "duration": 301,
        "start_time": "2022-01-30T13:19:04.516Z"
      },
      {
        "duration": 6,
        "start_time": "2022-01-30T13:20:06.552Z"
      },
      {
        "duration": 310,
        "start_time": "2022-01-30T13:20:07.576Z"
      },
      {
        "duration": 6,
        "start_time": "2022-01-30T13:20:23.168Z"
      },
      {
        "duration": 302,
        "start_time": "2022-01-30T13:20:24.380Z"
      },
      {
        "duration": 6,
        "start_time": "2022-01-30T13:22:16.692Z"
      },
      {
        "duration": 6,
        "start_time": "2022-01-30T13:22:18.705Z"
      },
      {
        "duration": 306,
        "start_time": "2022-01-30T13:22:21.913Z"
      },
      {
        "duration": 351,
        "start_time": "2022-01-30T13:22:41.782Z"
      },
      {
        "duration": 319,
        "start_time": "2022-01-30T13:23:30.760Z"
      },
      {
        "duration": 20,
        "start_time": "2022-01-30T13:23:45.488Z"
      },
      {
        "duration": 303,
        "start_time": "2022-01-30T13:24:48.039Z"
      },
      {
        "duration": 8,
        "start_time": "2022-01-30T13:24:54.213Z"
      },
      {
        "duration": 9,
        "start_time": "2022-01-30T13:24:54.649Z"
      },
      {
        "duration": 306,
        "start_time": "2022-01-30T13:24:55.097Z"
      },
      {
        "duration": 21,
        "start_time": "2022-01-30T13:27:47.532Z"
      },
      {
        "duration": 6,
        "start_time": "2022-01-30T13:27:55.179Z"
      },
      {
        "duration": 7,
        "start_time": "2022-01-30T13:27:55.837Z"
      },
      {
        "duration": 29,
        "start_time": "2022-01-30T13:27:56.526Z"
      },
      {
        "duration": 17,
        "start_time": "2022-01-30T13:29:09.524Z"
      },
      {
        "duration": 5,
        "start_time": "2022-01-30T13:29:38.798Z"
      },
      {
        "duration": 24,
        "start_time": "2022-01-30T13:29:52.099Z"
      },
      {
        "duration": 6,
        "start_time": "2022-01-30T13:30:10.092Z"
      },
      {
        "duration": 14,
        "start_time": "2022-01-30T13:30:10.802Z"
      },
      {
        "duration": 6,
        "start_time": "2022-01-30T13:30:11.615Z"
      },
      {
        "duration": 32,
        "start_time": "2022-01-30T13:30:12.346Z"
      },
      {
        "duration": 16,
        "start_time": "2022-01-30T13:30:21.570Z"
      },
      {
        "duration": 10,
        "start_time": "2022-01-30T13:30:38.427Z"
      },
      {
        "duration": 4,
        "start_time": "2022-01-30T13:31:20.794Z"
      },
      {
        "duration": 17,
        "start_time": "2022-01-30T13:31:25.529Z"
      },
      {
        "duration": 6,
        "start_time": "2022-01-30T13:31:31.069Z"
      },
      {
        "duration": 7,
        "start_time": "2022-01-30T13:31:31.678Z"
      },
      {
        "duration": 4,
        "start_time": "2022-01-30T13:31:32.227Z"
      },
      {
        "duration": 14,
        "start_time": "2022-01-30T13:31:32.875Z"
      },
      {
        "duration": 5,
        "start_time": "2022-01-30T13:32:14.966Z"
      },
      {
        "duration": 16,
        "start_time": "2022-01-30T13:32:16.371Z"
      },
      {
        "duration": 19,
        "start_time": "2022-01-30T13:32:36.169Z"
      },
      {
        "duration": 8,
        "start_time": "2022-01-30T13:32:43.556Z"
      },
      {
        "duration": 6,
        "start_time": "2022-01-30T13:38:41.587Z"
      },
      {
        "duration": 10,
        "start_time": "2022-01-30T13:38:43.675Z"
      },
      {
        "duration": 4,
        "start_time": "2022-01-30T13:38:46.669Z"
      },
      {
        "duration": 5,
        "start_time": "2022-01-30T13:38:49.528Z"
      },
      {
        "duration": 9,
        "start_time": "2022-01-30T13:38:55.558Z"
      },
      {
        "duration": 11,
        "start_time": "2022-01-30T13:39:26.410Z"
      },
      {
        "duration": 6,
        "start_time": "2022-01-30T13:42:50.045Z"
      },
      {
        "duration": 6,
        "start_time": "2022-01-30T13:42:53.548Z"
      },
      {
        "duration": 4,
        "start_time": "2022-01-30T13:42:56.243Z"
      },
      {
        "duration": 6,
        "start_time": "2022-01-30T13:42:58.578Z"
      },
      {
        "duration": 26,
        "start_time": "2022-01-30T13:43:04.753Z"
      },
      {
        "duration": 6,
        "start_time": "2022-01-30T13:43:41.769Z"
      },
      {
        "duration": 7,
        "start_time": "2022-01-30T13:43:48.911Z"
      },
      {
        "duration": 11,
        "start_time": "2022-01-30T13:44:05.343Z"
      },
      {
        "duration": 5572,
        "start_time": "2022-01-30T13:51:31.502Z"
      },
      {
        "duration": 457,
        "start_time": "2022-01-30T13:51:37.077Z"
      },
      {
        "duration": 36,
        "start_time": "2022-01-30T13:51:37.537Z"
      },
      {
        "duration": 2462,
        "start_time": "2022-01-30T13:51:37.576Z"
      },
      {
        "duration": 195,
        "start_time": "2022-01-30T13:51:40.041Z"
      },
      {
        "duration": 22,
        "start_time": "2022-01-30T13:51:40.247Z"
      },
      {
        "duration": 38,
        "start_time": "2022-01-30T13:51:40.271Z"
      },
      {
        "duration": 12,
        "start_time": "2022-01-30T13:51:40.313Z"
      },
      {
        "duration": 9,
        "start_time": "2022-01-30T13:51:40.348Z"
      },
      {
        "duration": 33,
        "start_time": "2022-01-30T13:51:40.360Z"
      },
      {
        "duration": 157,
        "start_time": "2022-01-30T13:51:40.396Z"
      },
      {
        "duration": 97,
        "start_time": "2022-01-30T13:51:40.557Z"
      },
      {
        "duration": 127,
        "start_time": "2022-01-30T13:51:40.657Z"
      },
      {
        "duration": 12,
        "start_time": "2022-01-30T13:51:40.786Z"
      },
      {
        "duration": 8,
        "start_time": "2022-01-30T13:51:40.800Z"
      },
      {
        "duration": 39,
        "start_time": "2022-01-30T13:51:40.811Z"
      },
      {
        "duration": 19,
        "start_time": "2022-01-30T13:51:40.852Z"
      },
      {
        "duration": 19,
        "start_time": "2022-01-30T13:51:40.873Z"
      },
      {
        "duration": 17,
        "start_time": "2022-01-30T13:51:40.895Z"
      },
      {
        "duration": 5474,
        "start_time": "2022-01-30T13:51:40.914Z"
      },
      {
        "duration": 5282,
        "start_time": "2022-01-30T13:51:46.390Z"
      },
      {
        "duration": 5208,
        "start_time": "2022-01-30T13:51:51.674Z"
      },
      {
        "duration": 6020,
        "start_time": "2022-01-30T13:54:28.202Z"
      },
      {
        "duration": 482,
        "start_time": "2022-01-30T13:54:34.225Z"
      },
      {
        "duration": 43,
        "start_time": "2022-01-30T13:54:34.711Z"
      },
      {
        "duration": 3263,
        "start_time": "2022-01-30T13:54:34.756Z"
      },
      {
        "duration": 265,
        "start_time": "2022-01-30T13:54:38.022Z"
      },
      {
        "duration": 217,
        "start_time": "2022-01-30T13:54:38.291Z"
      },
      {
        "duration": 53,
        "start_time": "2022-01-30T13:54:38.511Z"
      },
      {
        "duration": 20,
        "start_time": "2022-01-30T13:54:38.569Z"
      },
      {
        "duration": 13,
        "start_time": "2022-01-30T13:54:38.592Z"
      },
      {
        "duration": 48,
        "start_time": "2022-01-30T13:54:38.607Z"
      },
      {
        "duration": 294,
        "start_time": "2022-01-30T13:54:38.657Z"
      },
      {
        "duration": 100,
        "start_time": "2022-01-30T13:54:38.956Z"
      },
      {
        "duration": 104,
        "start_time": "2022-01-30T13:54:39.060Z"
      },
      {
        "duration": 18,
        "start_time": "2022-01-30T13:54:39.167Z"
      },
      {
        "duration": 6,
        "start_time": "2022-01-30T13:54:39.188Z"
      },
      {
        "duration": 10,
        "start_time": "2022-01-30T13:54:39.197Z"
      },
      {
        "duration": 39,
        "start_time": "2022-01-30T13:54:39.210Z"
      },
      {
        "duration": 12,
        "start_time": "2022-01-30T13:54:39.252Z"
      },
      {
        "duration": 5437,
        "start_time": "2022-01-30T13:54:39.267Z"
      },
      {
        "duration": 7644,
        "start_time": "2022-01-30T13:54:44.706Z"
      },
      {
        "duration": 5650,
        "start_time": "2022-01-30T13:54:52.358Z"
      },
      {
        "duration": 5705,
        "start_time": "2022-01-30T13:55:56.567Z"
      },
      {
        "duration": 584,
        "start_time": "2022-01-30T13:56:02.275Z"
      },
      {
        "duration": 35,
        "start_time": "2022-01-30T13:56:02.863Z"
      },
      {
        "duration": 2737,
        "start_time": "2022-01-30T13:56:02.901Z"
      },
      {
        "duration": 232,
        "start_time": "2022-01-30T13:56:05.641Z"
      },
      {
        "duration": 24,
        "start_time": "2022-01-30T13:56:05.877Z"
      },
      {
        "duration": 74,
        "start_time": "2022-01-30T13:56:05.904Z"
      },
      {
        "duration": 14,
        "start_time": "2022-01-30T13:56:05.983Z"
      },
      {
        "duration": 20,
        "start_time": "2022-01-30T13:56:06.001Z"
      },
      {
        "duration": 50,
        "start_time": "2022-01-30T13:56:06.024Z"
      },
      {
        "duration": 79,
        "start_time": "2022-01-30T13:56:06.077Z"
      },
      {
        "duration": 200,
        "start_time": "2022-01-30T13:56:06.160Z"
      },
      {
        "duration": 45,
        "start_time": "2022-01-30T13:56:06.362Z"
      },
      {
        "duration": 16,
        "start_time": "2022-01-30T13:56:06.409Z"
      },
      {
        "duration": 22,
        "start_time": "2022-01-30T13:56:06.428Z"
      },
      {
        "duration": 14,
        "start_time": "2022-01-30T13:56:06.453Z"
      },
      {
        "duration": 10,
        "start_time": "2022-01-30T13:56:06.470Z"
      },
      {
        "duration": 12,
        "start_time": "2022-01-30T13:56:06.483Z"
      },
      {
        "duration": 6141,
        "start_time": "2022-01-30T13:56:06.498Z"
      },
      {
        "duration": 5860,
        "start_time": "2022-01-30T13:56:12.650Z"
      },
      {
        "duration": 5516,
        "start_time": "2022-01-30T13:56:18.513Z"
      }
    ],
    "kernelspec": {
      "display_name": "Python 3",
      "language": "python",
      "name": "python3"
    },
    "language_info": {
      "codemirror_mode": {
        "name": "ipython",
        "version": 3
      },
      "file_extension": ".py",
      "mimetype": "text/x-python",
      "name": "python",
      "nbconvert_exporter": "python",
      "pygments_lexer": "ipython3",
      "version": "3.7.8"
    },
    "toc": {
      "base_numbering": 1,
      "nav_menu": {},
      "number_sections": true,
      "sideBar": true,
      "skip_h1_title": true,
      "title_cell": "Table of Contents",
      "title_sidebar": "Contents",
      "toc_cell": false,
      "toc_position": {},
      "toc_section_display": true,
      "toc_window_display": true
    },
    "colab": {
      "name": "project_07.ipynb",
      "provenance": []
    }
  },
  "nbformat": 4,
  "nbformat_minor": 0
}