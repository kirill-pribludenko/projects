{
  "cells": [
    {
      "cell_type": "markdown",
      "metadata": {
        "id": "BeZQQ7AOvFMk"
      },
      "source": [
        "## Подготовка данных"
      ]
    },
    {
      "cell_type": "markdown",
      "metadata": {
        "id": "IQLFxYBuvFMl"
      },
      "source": [
        "### Данные от заказчика"
      ]
    },
    {
      "cell_type": "markdown",
      "metadata": {
        "id": "2utky3-ZvFMm"
      },
      "source": [
        "Импортируем необходимые библиотеки, модели. Загрузим данные и сделам обзор данных."
      ]
    },
    {
      "cell_type": "code",
      "execution_count": 1,
      "metadata": {
        "id": "tU52CsywvFMn",
        "outputId": "a0671cb7-c99c-425d-ef98-0c5fd4003aeb",
        "colab": {
          "base_uri": "https://localhost:8080/"
        }
      },
      "outputs": [
        {
          "output_type": "stream",
          "name": "stdout",
          "text": [
            "Looking in indexes: https://pypi.org/simple, https://us-python.pkg.dev/colab-wheels/public/simple/\n",
            "Requirement already satisfied: financialanalysis in /usr/local/lib/python3.7/dist-packages (1.2.0)\n",
            "Requirement already satisfied: numpy in /usr/local/lib/python3.7/dist-packages (from financialanalysis) (1.21.6)\n",
            "Requirement already satisfied: sklearn in /usr/local/lib/python3.7/dist-packages (from financialanalysis) (0.0)\n",
            "Requirement already satisfied: pandas in /usr/local/lib/python3.7/dist-packages (from financialanalysis) (1.3.5)\n",
            "Requirement already satisfied: pytz>=2017.3 in /usr/local/lib/python3.7/dist-packages (from pandas->financialanalysis) (2022.1)\n",
            "Requirement already satisfied: python-dateutil>=2.7.3 in /usr/local/lib/python3.7/dist-packages (from pandas->financialanalysis) (2.8.2)\n",
            "Requirement already satisfied: six>=1.5 in /usr/local/lib/python3.7/dist-packages (from python-dateutil>=2.7.3->pandas->financialanalysis) (1.15.0)\n",
            "Requirement already satisfied: scikit-learn in /usr/local/lib/python3.7/dist-packages (from sklearn->financialanalysis) (1.0.2)\n",
            "Requirement already satisfied: threadpoolctl>=2.0.0 in /usr/local/lib/python3.7/dist-packages (from scikit-learn->sklearn->financialanalysis) (3.1.0)\n",
            "Requirement already satisfied: joblib>=0.11 in /usr/local/lib/python3.7/dist-packages (from scikit-learn->sklearn->financialanalysis) (1.1.0)\n",
            "Requirement already satisfied: scipy>=1.1.0 in /usr/local/lib/python3.7/dist-packages (from scikit-learn->sklearn->financialanalysis) (1.4.1)\n",
            "Looking in indexes: https://pypi.org/simple, https://us-python.pkg.dev/colab-wheels/public/simple/\n",
            "Requirement already satisfied: catboost in /usr/local/lib/python3.7/dist-packages (1.0.6)\n",
            "Requirement already satisfied: scipy in /usr/local/lib/python3.7/dist-packages (from catboost) (1.4.1)\n",
            "Requirement already satisfied: six in /usr/local/lib/python3.7/dist-packages (from catboost) (1.15.0)\n",
            "Requirement already satisfied: pandas>=0.24.0 in /usr/local/lib/python3.7/dist-packages (from catboost) (1.3.5)\n",
            "Requirement already satisfied: graphviz in /usr/local/lib/python3.7/dist-packages (from catboost) (0.10.1)\n",
            "Requirement already satisfied: plotly in /usr/local/lib/python3.7/dist-packages (from catboost) (5.5.0)\n",
            "Requirement already satisfied: numpy>=1.16.0 in /usr/local/lib/python3.7/dist-packages (from catboost) (1.21.6)\n",
            "Requirement already satisfied: matplotlib in /usr/local/lib/python3.7/dist-packages (from catboost) (3.2.2)\n",
            "Requirement already satisfied: python-dateutil>=2.7.3 in /usr/local/lib/python3.7/dist-packages (from pandas>=0.24.0->catboost) (2.8.2)\n",
            "Requirement already satisfied: pytz>=2017.3 in /usr/local/lib/python3.7/dist-packages (from pandas>=0.24.0->catboost) (2022.1)\n",
            "Requirement already satisfied: cycler>=0.10 in /usr/local/lib/python3.7/dist-packages (from matplotlib->catboost) (0.11.0)\n",
            "Requirement already satisfied: pyparsing!=2.0.4,!=2.1.2,!=2.1.6,>=2.0.1 in /usr/local/lib/python3.7/dist-packages (from matplotlib->catboost) (3.0.9)\n",
            "Requirement already satisfied: kiwisolver>=1.0.1 in /usr/local/lib/python3.7/dist-packages (from matplotlib->catboost) (1.4.3)\n",
            "Requirement already satisfied: typing-extensions in /usr/local/lib/python3.7/dist-packages (from kiwisolver>=1.0.1->matplotlib->catboost) (4.1.1)\n",
            "Requirement already satisfied: tenacity>=6.2.0 in /usr/local/lib/python3.7/dist-packages (from plotly->catboost) (8.0.1)\n"
          ]
        }
      ],
      "source": [
        "!pip install financialanalysis\n",
        "!pip install catboost"
      ]
    },
    {
      "cell_type": "code",
      "execution_count": 2,
      "metadata": {
        "id": "2HoIfku0vFMq"
      },
      "outputs": [],
      "source": [
        "import pandas as pd\n",
        "import numpy as np\n",
        "import matplotlib.pyplot as plt\n",
        "import financialanalysis as fa\n",
        "import time\n",
        "\n",
        "from sklearn.model_selection import train_test_split, cross_validate, GridSearchCV\n",
        "from sklearn.preprocessing import StandardScaler\n",
        "from sklearn.pipeline import Pipeline\n",
        "from sklearn.metrics import mean_squared_error, r2_score\n",
        "from tqdm.notebook import tqdm\n",
        "\n",
        "from sklearn.dummy import DummyRegressor\n",
        "from sklearn.linear_model import LinearRegression\n",
        "from sklearn.ensemble import RandomForestRegressor\n",
        "import catboost as cb\n",
        "import lightgbm as lgb"
      ]
    },
    {
      "cell_type": "code",
      "execution_count": 3,
      "metadata": {
        "id": "V9tlNWdVvFMs"
      },
      "outputs": [],
      "source": [
        "df_original = pd.read_csv('/content/autos.csv')"
      ]
    },
    {
      "cell_type": "markdown",
      "metadata": {
        "id": "zU9CO3DAvFMs"
      },
      "source": [
        "Описание от Заказчика\n",
        "**Признаки:**\n",
        "- `DateCrawled` — дата скачивания анкеты из базы\n",
        "- `VehicleType` — тип автомобильного кузова\n",
        "- `RegistrationYear` — год регистрации автомобиля\n",
        "- `Gearbox` — тип коробки передач\n",
        "- `Power` — мощность (л. с.)\n",
        "- `Model` — модель автомобиля\n",
        "- `Kilometer` — пробег (км)\n",
        "- `RegistrationMonth` — месяц регистрации автомобиля\n",
        "- `FuelType` — тип топлива\n",
        "- `Brand` — марка автомобиля\n",
        "- `NotRepaired` — была машина в ремонте или нет\n",
        "- `DateCreated` — дата создания анкеты\n",
        "- `NumberOfPictures` — количество фотографий автомобиля\n",
        "- `PostalCode` — почтовый индекс владельца анкеты (пользователя)\n",
        "- `LastSeen` — дата последней активности пользователя\n",
        "\n",
        "\n",
        "**Целевой признак:**\n",
        "- `Price` — цена (евро)"
      ]
    },
    {
      "cell_type": "code",
      "execution_count": 4,
      "metadata": {
        "id": "Ge4p24JvvFMt",
        "outputId": "08e6c46d-45b3-4734-a4a0-72aba620ec93",
        "colab": {
          "base_uri": "https://localhost:8080/",
          "height": 551
        }
      },
      "outputs": [
        {
          "output_type": "execute_result",
          "data": {
            "text/plain": [
              "                                     0                    1  \\\n",
              "DateCrawled        2016-03-24 11:52:17  2016-03-24 10:58:45   \n",
              "Price                              480                18300   \n",
              "VehicleType                        NaN                coupe   \n",
              "RegistrationYear                  1993                 2011   \n",
              "Gearbox                         manual               manual   \n",
              "Power                                0                  190   \n",
              "Model                             golf                  NaN   \n",
              "Kilometer                       150000               125000   \n",
              "RegistrationMonth                    0                    5   \n",
              "FuelType                        petrol             gasoline   \n",
              "Brand                       volkswagen                 audi   \n",
              "NotRepaired                        NaN                  yes   \n",
              "DateCreated        2016-03-24 00:00:00  2016-03-24 00:00:00   \n",
              "NumberOfPictures                     0                    0   \n",
              "PostalCode                       70435                66954   \n",
              "LastSeen           2016-04-07 03:16:57  2016-04-07 01:46:50   \n",
              "\n",
              "                                     2                    3  \\\n",
              "DateCrawled        2016-03-14 12:52:21  2016-03-17 16:54:04   \n",
              "Price                             9800                 1500   \n",
              "VehicleType                        suv                small   \n",
              "RegistrationYear                  2004                 2001   \n",
              "Gearbox                           auto               manual   \n",
              "Power                              163                   75   \n",
              "Model                            grand                 golf   \n",
              "Kilometer                       125000               150000   \n",
              "RegistrationMonth                    8                    6   \n",
              "FuelType                      gasoline               petrol   \n",
              "Brand                             jeep           volkswagen   \n",
              "NotRepaired                        NaN                   no   \n",
              "DateCreated        2016-03-14 00:00:00  2016-03-17 00:00:00   \n",
              "NumberOfPictures                     0                    0   \n",
              "PostalCode                       90480                91074   \n",
              "LastSeen           2016-04-05 12:47:46  2016-03-17 17:40:17   \n",
              "\n",
              "                                     4  \n",
              "DateCrawled        2016-03-31 17:25:20  \n",
              "Price                             3600  \n",
              "VehicleType                      small  \n",
              "RegistrationYear                  2008  \n",
              "Gearbox                         manual  \n",
              "Power                               69  \n",
              "Model                            fabia  \n",
              "Kilometer                        90000  \n",
              "RegistrationMonth                    7  \n",
              "FuelType                      gasoline  \n",
              "Brand                            skoda  \n",
              "NotRepaired                         no  \n",
              "DateCreated        2016-03-31 00:00:00  \n",
              "NumberOfPictures                     0  \n",
              "PostalCode                       60437  \n",
              "LastSeen           2016-04-06 10:17:21  "
            ],
            "text/html": [
              "\n",
              "  <div id=\"df-bceec2c5-83f3-4e5e-978b-9cbb03b8304d\">\n",
              "    <div class=\"colab-df-container\">\n",
              "      <div>\n",
              "<style scoped>\n",
              "    .dataframe tbody tr th:only-of-type {\n",
              "        vertical-align: middle;\n",
              "    }\n",
              "\n",
              "    .dataframe tbody tr th {\n",
              "        vertical-align: top;\n",
              "    }\n",
              "\n",
              "    .dataframe thead th {\n",
              "        text-align: right;\n",
              "    }\n",
              "</style>\n",
              "<table border=\"1\" class=\"dataframe\">\n",
              "  <thead>\n",
              "    <tr style=\"text-align: right;\">\n",
              "      <th></th>\n",
              "      <th>0</th>\n",
              "      <th>1</th>\n",
              "      <th>2</th>\n",
              "      <th>3</th>\n",
              "      <th>4</th>\n",
              "    </tr>\n",
              "  </thead>\n",
              "  <tbody>\n",
              "    <tr>\n",
              "      <th>DateCrawled</th>\n",
              "      <td>2016-03-24 11:52:17</td>\n",
              "      <td>2016-03-24 10:58:45</td>\n",
              "      <td>2016-03-14 12:52:21</td>\n",
              "      <td>2016-03-17 16:54:04</td>\n",
              "      <td>2016-03-31 17:25:20</td>\n",
              "    </tr>\n",
              "    <tr>\n",
              "      <th>Price</th>\n",
              "      <td>480</td>\n",
              "      <td>18300</td>\n",
              "      <td>9800</td>\n",
              "      <td>1500</td>\n",
              "      <td>3600</td>\n",
              "    </tr>\n",
              "    <tr>\n",
              "      <th>VehicleType</th>\n",
              "      <td>NaN</td>\n",
              "      <td>coupe</td>\n",
              "      <td>suv</td>\n",
              "      <td>small</td>\n",
              "      <td>small</td>\n",
              "    </tr>\n",
              "    <tr>\n",
              "      <th>RegistrationYear</th>\n",
              "      <td>1993</td>\n",
              "      <td>2011</td>\n",
              "      <td>2004</td>\n",
              "      <td>2001</td>\n",
              "      <td>2008</td>\n",
              "    </tr>\n",
              "    <tr>\n",
              "      <th>Gearbox</th>\n",
              "      <td>manual</td>\n",
              "      <td>manual</td>\n",
              "      <td>auto</td>\n",
              "      <td>manual</td>\n",
              "      <td>manual</td>\n",
              "    </tr>\n",
              "    <tr>\n",
              "      <th>Power</th>\n",
              "      <td>0</td>\n",
              "      <td>190</td>\n",
              "      <td>163</td>\n",
              "      <td>75</td>\n",
              "      <td>69</td>\n",
              "    </tr>\n",
              "    <tr>\n",
              "      <th>Model</th>\n",
              "      <td>golf</td>\n",
              "      <td>NaN</td>\n",
              "      <td>grand</td>\n",
              "      <td>golf</td>\n",
              "      <td>fabia</td>\n",
              "    </tr>\n",
              "    <tr>\n",
              "      <th>Kilometer</th>\n",
              "      <td>150000</td>\n",
              "      <td>125000</td>\n",
              "      <td>125000</td>\n",
              "      <td>150000</td>\n",
              "      <td>90000</td>\n",
              "    </tr>\n",
              "    <tr>\n",
              "      <th>RegistrationMonth</th>\n",
              "      <td>0</td>\n",
              "      <td>5</td>\n",
              "      <td>8</td>\n",
              "      <td>6</td>\n",
              "      <td>7</td>\n",
              "    </tr>\n",
              "    <tr>\n",
              "      <th>FuelType</th>\n",
              "      <td>petrol</td>\n",
              "      <td>gasoline</td>\n",
              "      <td>gasoline</td>\n",
              "      <td>petrol</td>\n",
              "      <td>gasoline</td>\n",
              "    </tr>\n",
              "    <tr>\n",
              "      <th>Brand</th>\n",
              "      <td>volkswagen</td>\n",
              "      <td>audi</td>\n",
              "      <td>jeep</td>\n",
              "      <td>volkswagen</td>\n",
              "      <td>skoda</td>\n",
              "    </tr>\n",
              "    <tr>\n",
              "      <th>NotRepaired</th>\n",
              "      <td>NaN</td>\n",
              "      <td>yes</td>\n",
              "      <td>NaN</td>\n",
              "      <td>no</td>\n",
              "      <td>no</td>\n",
              "    </tr>\n",
              "    <tr>\n",
              "      <th>DateCreated</th>\n",
              "      <td>2016-03-24 00:00:00</td>\n",
              "      <td>2016-03-24 00:00:00</td>\n",
              "      <td>2016-03-14 00:00:00</td>\n",
              "      <td>2016-03-17 00:00:00</td>\n",
              "      <td>2016-03-31 00:00:00</td>\n",
              "    </tr>\n",
              "    <tr>\n",
              "      <th>NumberOfPictures</th>\n",
              "      <td>0</td>\n",
              "      <td>0</td>\n",
              "      <td>0</td>\n",
              "      <td>0</td>\n",
              "      <td>0</td>\n",
              "    </tr>\n",
              "    <tr>\n",
              "      <th>PostalCode</th>\n",
              "      <td>70435</td>\n",
              "      <td>66954</td>\n",
              "      <td>90480</td>\n",
              "      <td>91074</td>\n",
              "      <td>60437</td>\n",
              "    </tr>\n",
              "    <tr>\n",
              "      <th>LastSeen</th>\n",
              "      <td>2016-04-07 03:16:57</td>\n",
              "      <td>2016-04-07 01:46:50</td>\n",
              "      <td>2016-04-05 12:47:46</td>\n",
              "      <td>2016-03-17 17:40:17</td>\n",
              "      <td>2016-04-06 10:17:21</td>\n",
              "    </tr>\n",
              "  </tbody>\n",
              "</table>\n",
              "</div>\n",
              "      <button class=\"colab-df-convert\" onclick=\"convertToInteractive('df-bceec2c5-83f3-4e5e-978b-9cbb03b8304d')\"\n",
              "              title=\"Convert this dataframe to an interactive table.\"\n",
              "              style=\"display:none;\">\n",
              "        \n",
              "  <svg xmlns=\"http://www.w3.org/2000/svg\" height=\"24px\"viewBox=\"0 0 24 24\"\n",
              "       width=\"24px\">\n",
              "    <path d=\"M0 0h24v24H0V0z\" fill=\"none\"/>\n",
              "    <path d=\"M18.56 5.44l.94 2.06.94-2.06 2.06-.94-2.06-.94-.94-2.06-.94 2.06-2.06.94zm-11 1L8.5 8.5l.94-2.06 2.06-.94-2.06-.94L8.5 2.5l-.94 2.06-2.06.94zm10 10l.94 2.06.94-2.06 2.06-.94-2.06-.94-.94-2.06-.94 2.06-2.06.94z\"/><path d=\"M17.41 7.96l-1.37-1.37c-.4-.4-.92-.59-1.43-.59-.52 0-1.04.2-1.43.59L10.3 9.45l-7.72 7.72c-.78.78-.78 2.05 0 2.83L4 21.41c.39.39.9.59 1.41.59.51 0 1.02-.2 1.41-.59l7.78-7.78 2.81-2.81c.8-.78.8-2.07 0-2.86zM5.41 20L4 18.59l7.72-7.72 1.47 1.35L5.41 20z\"/>\n",
              "  </svg>\n",
              "      </button>\n",
              "      \n",
              "  <style>\n",
              "    .colab-df-container {\n",
              "      display:flex;\n",
              "      flex-wrap:wrap;\n",
              "      gap: 12px;\n",
              "    }\n",
              "\n",
              "    .colab-df-convert {\n",
              "      background-color: #E8F0FE;\n",
              "      border: none;\n",
              "      border-radius: 50%;\n",
              "      cursor: pointer;\n",
              "      display: none;\n",
              "      fill: #1967D2;\n",
              "      height: 32px;\n",
              "      padding: 0 0 0 0;\n",
              "      width: 32px;\n",
              "    }\n",
              "\n",
              "    .colab-df-convert:hover {\n",
              "      background-color: #E2EBFA;\n",
              "      box-shadow: 0px 1px 2px rgba(60, 64, 67, 0.3), 0px 1px 3px 1px rgba(60, 64, 67, 0.15);\n",
              "      fill: #174EA6;\n",
              "    }\n",
              "\n",
              "    [theme=dark] .colab-df-convert {\n",
              "      background-color: #3B4455;\n",
              "      fill: #D2E3FC;\n",
              "    }\n",
              "\n",
              "    [theme=dark] .colab-df-convert:hover {\n",
              "      background-color: #434B5C;\n",
              "      box-shadow: 0px 1px 3px 1px rgba(0, 0, 0, 0.15);\n",
              "      filter: drop-shadow(0px 1px 2px rgba(0, 0, 0, 0.3));\n",
              "      fill: #FFFFFF;\n",
              "    }\n",
              "  </style>\n",
              "\n",
              "      <script>\n",
              "        const buttonEl =\n",
              "          document.querySelector('#df-bceec2c5-83f3-4e5e-978b-9cbb03b8304d button.colab-df-convert');\n",
              "        buttonEl.style.display =\n",
              "          google.colab.kernel.accessAllowed ? 'block' : 'none';\n",
              "\n",
              "        async function convertToInteractive(key) {\n",
              "          const element = document.querySelector('#df-bceec2c5-83f3-4e5e-978b-9cbb03b8304d');\n",
              "          const dataTable =\n",
              "            await google.colab.kernel.invokeFunction('convertToInteractive',\n",
              "                                                     [key], {});\n",
              "          if (!dataTable) return;\n",
              "\n",
              "          const docLinkHtml = 'Like what you see? Visit the ' +\n",
              "            '<a target=\"_blank\" href=https://colab.research.google.com/notebooks/data_table.ipynb>data table notebook</a>'\n",
              "            + ' to learn more about interactive tables.';\n",
              "          element.innerHTML = '';\n",
              "          dataTable['output_type'] = 'display_data';\n",
              "          await google.colab.output.renderOutput(dataTable, element);\n",
              "          const docLink = document.createElement('div');\n",
              "          docLink.innerHTML = docLinkHtml;\n",
              "          element.appendChild(docLink);\n",
              "        }\n",
              "      </script>\n",
              "    </div>\n",
              "  </div>\n",
              "  "
            ]
          },
          "metadata": {},
          "execution_count": 4
        }
      ],
      "source": [
        "df_original.head().T"
      ]
    },
    {
      "cell_type": "markdown",
      "metadata": {
        "id": "1WdAgf5NvFMt"
      },
      "source": [
        "Очевидно, что некоторые столбцы лишние, то есть не несут ни какой смысловой нагрузки для задачи определения цены автомобиля. Некоторые столбцы предоставляют половинчатую информацию. Поэтому предлагается сделать следующие преобразования:\n",
        "1. Удалить столбцы: `DateCrawled`, `PostalCode`, `LastSeen`. Так как Почтовый код и данные даты не влияют на стоимость автомобиля.\n",
        "2. Объединить стобцы `RegistrationYear` & `RegistrationMonth` в один `RegistrationDate`\n",
        "\n",
        "Далее необходимо будет подготовить данные:\n",
        "- изменить названия столбцов\n",
        "- заполнить пропуски\n",
        "- удалить дубликаты, если они есть\n",
        "- преобразовать данные\n",
        "- разбить на тренировочную и тестовую выборки\n",
        "\n",
        "Колонки будем рассматривать в следующем порядке значимости: **data, brand, model, vehicle_type, fuel_type, power, kilometer, not_repaired, number_of_pictures, price**"
      ]
    },
    {
      "cell_type": "markdown",
      "metadata": {
        "id": "au6LceDKvFMv"
      },
      "source": [
        "### EDA"
      ]
    },
    {
      "cell_type": "markdown",
      "metadata": {
        "id": "4ECXyTTevFMv"
      },
      "source": [
        "#### data columns"
      ]
    },
    {
      "cell_type": "code",
      "execution_count": 5,
      "metadata": {
        "id": "etLbZ4YBvFMv"
      },
      "outputs": [],
      "source": [
        "df = df_original.drop(['DateCrawled', 'PostalCode', 'LastSeen'], axis=1)"
      ]
    },
    {
      "cell_type": "markdown",
      "metadata": {
        "id": "bzRl0seWvFMw"
      },
      "source": [
        "Меняем названия столбцов в таблице"
      ]
    },
    {
      "cell_type": "code",
      "execution_count": 6,
      "metadata": {
        "id": "VnG2wv6tvFMw"
      },
      "outputs": [],
      "source": [
        "df.columns = ['price', 'vehicle_type', 'registration_year', 'gearbox', 'power', 'model',\n",
        "       'kilometer', 'registration_month', 'fuel_type', 'brand', 'not_repaired',\n",
        "       'date_created', 'number_of_pictures']"
      ]
    },
    {
      "cell_type": "markdown",
      "metadata": {
        "id": "cinpfzq4vFMx"
      },
      "source": [
        "Объеденим столбцы Регистрации"
      ]
    },
    {
      "cell_type": "code",
      "execution_count": 7,
      "metadata": {
        "id": "uVUPFo6RvFMy",
        "outputId": "7ed093f4-3afd-475d-84cc-e290fad29be0",
        "colab": {
          "base_uri": "https://localhost:8080/"
        }
      },
      "outputs": [
        {
          "output_type": "execute_result",
          "data": {
            "text/plain": [
              "array([ 0,  5,  8,  6,  7, 10, 12, 11,  2,  3,  1,  4,  9])"
            ]
          },
          "metadata": {},
          "execution_count": 7
        }
      ],
      "source": [
        "df['registration_month'].unique()"
      ]
    },
    {
      "cell_type": "markdown",
      "metadata": {
        "id": "_BCifU8OvFMy"
      },
      "source": [
        "Но сначала избавимся от нулевых значений, так как не бывает 0 месяца, заменим данный параметр месяцем **1**"
      ]
    },
    {
      "cell_type": "code",
      "execution_count": 8,
      "metadata": {
        "id": "NLfOHksqvFMy"
      },
      "outputs": [],
      "source": [
        "df['registration_month'] = df['registration_month'].replace(0, 1)"
      ]
    },
    {
      "cell_type": "code",
      "execution_count": 9,
      "metadata": {
        "id": "0jZGyEU9vFMy",
        "outputId": "6858e666-71af-4d77-d03b-bfd3515b9b91",
        "colab": {
          "base_uri": "https://localhost:8080/"
        }
      },
      "outputs": [
        {
          "output_type": "execute_result",
          "data": {
            "text/plain": [
              "registration_year     0\n",
              "registration_month    0\n",
              "dtype: int64"
            ]
          },
          "metadata": {},
          "execution_count": 9
        }
      ],
      "source": [
        "df[['registration_year', 'registration_month']].isna().sum()"
      ]
    },
    {
      "cell_type": "code",
      "execution_count": 10,
      "metadata": {
        "id": "ZiOkkH4XvFMz",
        "outputId": "d4ada326-e4ef-4c4f-daed-278e5b5ef326",
        "colab": {
          "base_uri": "https://localhost:8080/"
        }
      },
      "outputs": [
        {
          "output_type": "execute_result",
          "data": {
            "text/plain": [
              "count    354369.000000\n",
              "mean       2004.234448\n",
              "std          90.227958\n",
              "min        1000.000000\n",
              "25%        1999.000000\n",
              "50%        2003.000000\n",
              "75%        2008.000000\n",
              "max        9999.000000\n",
              "Name: registration_year, dtype: float64"
            ]
          },
          "metadata": {},
          "execution_count": 10
        }
      ],
      "source": [
        "df['registration_year'].describe()"
      ]
    },
    {
      "cell_type": "markdown",
      "metadata": {
        "id": "EZZNDlKavFMz"
      },
      "source": [
        "Кто-то продает стариные кареты и машины из будущего =) посмотрим сколько таких продавцов. Диапазон ограничим с одной стороны 1870 годом (появление первой машины Маркуса), а с другой сегодняшним годом 2022."
      ]
    },
    {
      "cell_type": "code",
      "execution_count": 11,
      "metadata": {
        "id": "gfnpu1vCvFM0",
        "outputId": "2ff02d64-e57d-46df-9e2d-011f1ec8c14f",
        "colab": {
          "base_uri": "https://localhost:8080/",
          "height": 424
        }
      },
      "outputs": [
        {
          "output_type": "execute_result",
          "data": {
            "text/plain": [
              "        price vehicle_type  registration_year gearbox  power   model  \\\n",
              "622         0          NaN               1111     NaN      0     NaN   \n",
              "12946      49          NaN               5000     NaN      0    golf   \n",
              "15147       0          NaN               9999     NaN      0     NaN   \n",
              "15870    1700          NaN               3200     NaN      0     NaN   \n",
              "16062     190          NaN               1000     NaN      0  mondeo   \n",
              "...       ...          ...                ...     ...    ...     ...   \n",
              "340548      0          NaN               3500  manual     75     NaN   \n",
              "340759    700          NaN               1600  manual   1600      a3   \n",
              "341791      1          NaN               3000     NaN      0  zafira   \n",
              "348830      1          NaN               1000     NaN   1000     NaN   \n",
              "351682  11500          NaN               1800     NaN     16   other   \n",
              "\n",
              "        kilometer  registration_month fuel_type           brand not_repaired  \\\n",
              "622          5000                   1       NaN            opel          NaN   \n",
              "12946        5000                  12       NaN      volkswagen          NaN   \n",
              "15147       10000                   1       NaN  sonstige_autos          NaN   \n",
              "15870        5000                   1       NaN  sonstige_autos          NaN   \n",
              "16062        5000                   1       NaN            ford          NaN   \n",
              "...           ...                 ...       ...             ...          ...   \n",
              "340548       5000                   3    petrol  sonstige_autos          NaN   \n",
              "340759     150000                   4    petrol            audi           no   \n",
              "341791       5000                   1       NaN            opel          NaN   \n",
              "348830     150000                   1       NaN  sonstige_autos          NaN   \n",
              "351682       5000                   6    petrol            fiat          NaN   \n",
              "\n",
              "               date_created  number_of_pictures  \n",
              "622     2016-03-16 00:00:00                   0  \n",
              "12946   2016-03-29 00:00:00                   0  \n",
              "15147   2016-03-13 00:00:00                   0  \n",
              "15870   2016-04-02 00:00:00                   0  \n",
              "16062   2016-03-29 00:00:00                   0  \n",
              "...                     ...                 ...  \n",
              "340548  2016-04-02 00:00:00                   0  \n",
              "340759  2016-04-04 00:00:00                   0  \n",
              "341791  2016-03-28 00:00:00                   0  \n",
              "348830  2016-03-21 00:00:00                   0  \n",
              "351682  2016-03-11 00:00:00                   0  \n",
              "\n",
              "[171 rows x 13 columns]"
            ],
            "text/html": [
              "\n",
              "  <div id=\"df-0cb59cd7-86da-4344-b678-db45ce13aa10\">\n",
              "    <div class=\"colab-df-container\">\n",
              "      <div>\n",
              "<style scoped>\n",
              "    .dataframe tbody tr th:only-of-type {\n",
              "        vertical-align: middle;\n",
              "    }\n",
              "\n",
              "    .dataframe tbody tr th {\n",
              "        vertical-align: top;\n",
              "    }\n",
              "\n",
              "    .dataframe thead th {\n",
              "        text-align: right;\n",
              "    }\n",
              "</style>\n",
              "<table border=\"1\" class=\"dataframe\">\n",
              "  <thead>\n",
              "    <tr style=\"text-align: right;\">\n",
              "      <th></th>\n",
              "      <th>price</th>\n",
              "      <th>vehicle_type</th>\n",
              "      <th>registration_year</th>\n",
              "      <th>gearbox</th>\n",
              "      <th>power</th>\n",
              "      <th>model</th>\n",
              "      <th>kilometer</th>\n",
              "      <th>registration_month</th>\n",
              "      <th>fuel_type</th>\n",
              "      <th>brand</th>\n",
              "      <th>not_repaired</th>\n",
              "      <th>date_created</th>\n",
              "      <th>number_of_pictures</th>\n",
              "    </tr>\n",
              "  </thead>\n",
              "  <tbody>\n",
              "    <tr>\n",
              "      <th>622</th>\n",
              "      <td>0</td>\n",
              "      <td>NaN</td>\n",
              "      <td>1111</td>\n",
              "      <td>NaN</td>\n",
              "      <td>0</td>\n",
              "      <td>NaN</td>\n",
              "      <td>5000</td>\n",
              "      <td>1</td>\n",
              "      <td>NaN</td>\n",
              "      <td>opel</td>\n",
              "      <td>NaN</td>\n",
              "      <td>2016-03-16 00:00:00</td>\n",
              "      <td>0</td>\n",
              "    </tr>\n",
              "    <tr>\n",
              "      <th>12946</th>\n",
              "      <td>49</td>\n",
              "      <td>NaN</td>\n",
              "      <td>5000</td>\n",
              "      <td>NaN</td>\n",
              "      <td>0</td>\n",
              "      <td>golf</td>\n",
              "      <td>5000</td>\n",
              "      <td>12</td>\n",
              "      <td>NaN</td>\n",
              "      <td>volkswagen</td>\n",
              "      <td>NaN</td>\n",
              "      <td>2016-03-29 00:00:00</td>\n",
              "      <td>0</td>\n",
              "    </tr>\n",
              "    <tr>\n",
              "      <th>15147</th>\n",
              "      <td>0</td>\n",
              "      <td>NaN</td>\n",
              "      <td>9999</td>\n",
              "      <td>NaN</td>\n",
              "      <td>0</td>\n",
              "      <td>NaN</td>\n",
              "      <td>10000</td>\n",
              "      <td>1</td>\n",
              "      <td>NaN</td>\n",
              "      <td>sonstige_autos</td>\n",
              "      <td>NaN</td>\n",
              "      <td>2016-03-13 00:00:00</td>\n",
              "      <td>0</td>\n",
              "    </tr>\n",
              "    <tr>\n",
              "      <th>15870</th>\n",
              "      <td>1700</td>\n",
              "      <td>NaN</td>\n",
              "      <td>3200</td>\n",
              "      <td>NaN</td>\n",
              "      <td>0</td>\n",
              "      <td>NaN</td>\n",
              "      <td>5000</td>\n",
              "      <td>1</td>\n",
              "      <td>NaN</td>\n",
              "      <td>sonstige_autos</td>\n",
              "      <td>NaN</td>\n",
              "      <td>2016-04-02 00:00:00</td>\n",
              "      <td>0</td>\n",
              "    </tr>\n",
              "    <tr>\n",
              "      <th>16062</th>\n",
              "      <td>190</td>\n",
              "      <td>NaN</td>\n",
              "      <td>1000</td>\n",
              "      <td>NaN</td>\n",
              "      <td>0</td>\n",
              "      <td>mondeo</td>\n",
              "      <td>5000</td>\n",
              "      <td>1</td>\n",
              "      <td>NaN</td>\n",
              "      <td>ford</td>\n",
              "      <td>NaN</td>\n",
              "      <td>2016-03-29 00:00:00</td>\n",
              "      <td>0</td>\n",
              "    </tr>\n",
              "    <tr>\n",
              "      <th>...</th>\n",
              "      <td>...</td>\n",
              "      <td>...</td>\n",
              "      <td>...</td>\n",
              "      <td>...</td>\n",
              "      <td>...</td>\n",
              "      <td>...</td>\n",
              "      <td>...</td>\n",
              "      <td>...</td>\n",
              "      <td>...</td>\n",
              "      <td>...</td>\n",
              "      <td>...</td>\n",
              "      <td>...</td>\n",
              "      <td>...</td>\n",
              "    </tr>\n",
              "    <tr>\n",
              "      <th>340548</th>\n",
              "      <td>0</td>\n",
              "      <td>NaN</td>\n",
              "      <td>3500</td>\n",
              "      <td>manual</td>\n",
              "      <td>75</td>\n",
              "      <td>NaN</td>\n",
              "      <td>5000</td>\n",
              "      <td>3</td>\n",
              "      <td>petrol</td>\n",
              "      <td>sonstige_autos</td>\n",
              "      <td>NaN</td>\n",
              "      <td>2016-04-02 00:00:00</td>\n",
              "      <td>0</td>\n",
              "    </tr>\n",
              "    <tr>\n",
              "      <th>340759</th>\n",
              "      <td>700</td>\n",
              "      <td>NaN</td>\n",
              "      <td>1600</td>\n",
              "      <td>manual</td>\n",
              "      <td>1600</td>\n",
              "      <td>a3</td>\n",
              "      <td>150000</td>\n",
              "      <td>4</td>\n",
              "      <td>petrol</td>\n",
              "      <td>audi</td>\n",
              "      <td>no</td>\n",
              "      <td>2016-04-04 00:00:00</td>\n",
              "      <td>0</td>\n",
              "    </tr>\n",
              "    <tr>\n",
              "      <th>341791</th>\n",
              "      <td>1</td>\n",
              "      <td>NaN</td>\n",
              "      <td>3000</td>\n",
              "      <td>NaN</td>\n",
              "      <td>0</td>\n",
              "      <td>zafira</td>\n",
              "      <td>5000</td>\n",
              "      <td>1</td>\n",
              "      <td>NaN</td>\n",
              "      <td>opel</td>\n",
              "      <td>NaN</td>\n",
              "      <td>2016-03-28 00:00:00</td>\n",
              "      <td>0</td>\n",
              "    </tr>\n",
              "    <tr>\n",
              "      <th>348830</th>\n",
              "      <td>1</td>\n",
              "      <td>NaN</td>\n",
              "      <td>1000</td>\n",
              "      <td>NaN</td>\n",
              "      <td>1000</td>\n",
              "      <td>NaN</td>\n",
              "      <td>150000</td>\n",
              "      <td>1</td>\n",
              "      <td>NaN</td>\n",
              "      <td>sonstige_autos</td>\n",
              "      <td>NaN</td>\n",
              "      <td>2016-03-21 00:00:00</td>\n",
              "      <td>0</td>\n",
              "    </tr>\n",
              "    <tr>\n",
              "      <th>351682</th>\n",
              "      <td>11500</td>\n",
              "      <td>NaN</td>\n",
              "      <td>1800</td>\n",
              "      <td>NaN</td>\n",
              "      <td>16</td>\n",
              "      <td>other</td>\n",
              "      <td>5000</td>\n",
              "      <td>6</td>\n",
              "      <td>petrol</td>\n",
              "      <td>fiat</td>\n",
              "      <td>NaN</td>\n",
              "      <td>2016-03-11 00:00:00</td>\n",
              "      <td>0</td>\n",
              "    </tr>\n",
              "  </tbody>\n",
              "</table>\n",
              "<p>171 rows × 13 columns</p>\n",
              "</div>\n",
              "      <button class=\"colab-df-convert\" onclick=\"convertToInteractive('df-0cb59cd7-86da-4344-b678-db45ce13aa10')\"\n",
              "              title=\"Convert this dataframe to an interactive table.\"\n",
              "              style=\"display:none;\">\n",
              "        \n",
              "  <svg xmlns=\"http://www.w3.org/2000/svg\" height=\"24px\"viewBox=\"0 0 24 24\"\n",
              "       width=\"24px\">\n",
              "    <path d=\"M0 0h24v24H0V0z\" fill=\"none\"/>\n",
              "    <path d=\"M18.56 5.44l.94 2.06.94-2.06 2.06-.94-2.06-.94-.94-2.06-.94 2.06-2.06.94zm-11 1L8.5 8.5l.94-2.06 2.06-.94-2.06-.94L8.5 2.5l-.94 2.06-2.06.94zm10 10l.94 2.06.94-2.06 2.06-.94-2.06-.94-.94-2.06-.94 2.06-2.06.94z\"/><path d=\"M17.41 7.96l-1.37-1.37c-.4-.4-.92-.59-1.43-.59-.52 0-1.04.2-1.43.59L10.3 9.45l-7.72 7.72c-.78.78-.78 2.05 0 2.83L4 21.41c.39.39.9.59 1.41.59.51 0 1.02-.2 1.41-.59l7.78-7.78 2.81-2.81c.8-.78.8-2.07 0-2.86zM5.41 20L4 18.59l7.72-7.72 1.47 1.35L5.41 20z\"/>\n",
              "  </svg>\n",
              "      </button>\n",
              "      \n",
              "  <style>\n",
              "    .colab-df-container {\n",
              "      display:flex;\n",
              "      flex-wrap:wrap;\n",
              "      gap: 12px;\n",
              "    }\n",
              "\n",
              "    .colab-df-convert {\n",
              "      background-color: #E8F0FE;\n",
              "      border: none;\n",
              "      border-radius: 50%;\n",
              "      cursor: pointer;\n",
              "      display: none;\n",
              "      fill: #1967D2;\n",
              "      height: 32px;\n",
              "      padding: 0 0 0 0;\n",
              "      width: 32px;\n",
              "    }\n",
              "\n",
              "    .colab-df-convert:hover {\n",
              "      background-color: #E2EBFA;\n",
              "      box-shadow: 0px 1px 2px rgba(60, 64, 67, 0.3), 0px 1px 3px 1px rgba(60, 64, 67, 0.15);\n",
              "      fill: #174EA6;\n",
              "    }\n",
              "\n",
              "    [theme=dark] .colab-df-convert {\n",
              "      background-color: #3B4455;\n",
              "      fill: #D2E3FC;\n",
              "    }\n",
              "\n",
              "    [theme=dark] .colab-df-convert:hover {\n",
              "      background-color: #434B5C;\n",
              "      box-shadow: 0px 1px 3px 1px rgba(0, 0, 0, 0.15);\n",
              "      filter: drop-shadow(0px 1px 2px rgba(0, 0, 0, 0.3));\n",
              "      fill: #FFFFFF;\n",
              "    }\n",
              "  </style>\n",
              "\n",
              "      <script>\n",
              "        const buttonEl =\n",
              "          document.querySelector('#df-0cb59cd7-86da-4344-b678-db45ce13aa10 button.colab-df-convert');\n",
              "        buttonEl.style.display =\n",
              "          google.colab.kernel.accessAllowed ? 'block' : 'none';\n",
              "\n",
              "        async function convertToInteractive(key) {\n",
              "          const element = document.querySelector('#df-0cb59cd7-86da-4344-b678-db45ce13aa10');\n",
              "          const dataTable =\n",
              "            await google.colab.kernel.invokeFunction('convertToInteractive',\n",
              "                                                     [key], {});\n",
              "          if (!dataTable) return;\n",
              "\n",
              "          const docLinkHtml = 'Like what you see? Visit the ' +\n",
              "            '<a target=\"_blank\" href=https://colab.research.google.com/notebooks/data_table.ipynb>data table notebook</a>'\n",
              "            + ' to learn more about interactive tables.';\n",
              "          element.innerHTML = '';\n",
              "          dataTable['output_type'] = 'display_data';\n",
              "          await google.colab.output.renderOutput(dataTable, element);\n",
              "          const docLink = document.createElement('div');\n",
              "          docLink.innerHTML = docLinkHtml;\n",
              "          element.appendChild(docLink);\n",
              "        }\n",
              "      </script>\n",
              "    </div>\n",
              "  </div>\n",
              "  "
            ]
          },
          "metadata": {},
          "execution_count": 11
        }
      ],
      "source": [
        "df.query('registration_year >= 2022 | registration_year <= 1870')"
      ]
    },
    {
      "cell_type": "markdown",
      "metadata": {
        "id": "hCvfsRO_vFM0"
      },
      "source": [
        "Можно смело удалять данные записи"
      ]
    },
    {
      "cell_type": "code",
      "execution_count": 12,
      "metadata": {
        "id": "NB-OaOjvvFM1"
      },
      "outputs": [],
      "source": [
        "df_del = df.query('registration_year >= 2022 | registration_year <= 1870')\n",
        "df = df.drop(df_del.index).reset_index(drop=True)"
      ]
    },
    {
      "cell_type": "code",
      "execution_count": 13,
      "metadata": {
        "scrolled": true,
        "id": "9_U7S6X6vFM1"
      },
      "outputs": [],
      "source": [
        "# Создадим новую таблицу времени, для удобства и простоты создания колонки с датой\n",
        "# потому что спустя пару часов гугления сложить две колонки так и не получилось\n",
        "df_time = pd.DataFrame() \n",
        "df_time['day'] = np.ones(len(df['registration_month']))\n",
        "df_time['month'] = df['registration_month']\n",
        "df_time['year'] = df['registration_year']\n",
        "df['registration_date'] = pd.to_datetime(df_time)"
      ]
    },
    {
      "cell_type": "code",
      "execution_count": 14,
      "metadata": {
        "id": "PBhIsgSVvFM1"
      },
      "outputs": [],
      "source": [
        "df = df.drop(['registration_month', 'registration_year'], axis=1)"
      ]
    },
    {
      "cell_type": "markdown",
      "metadata": {
        "id": "GUfF2qs0vFM1"
      },
      "source": [
        "Преобразуем в дату еще один столбец"
      ]
    },
    {
      "cell_type": "code",
      "execution_count": 15,
      "metadata": {
        "id": "h-CNfe9nvFM2"
      },
      "outputs": [],
      "source": [
        "df['date_created'] = pd.to_datetime(df['date_created'], format='%Y.%m.%d')"
      ]
    },
    {
      "cell_type": "code",
      "execution_count": 16,
      "metadata": {
        "id": "sRUbm-KRvFM2",
        "outputId": "7d20b979-1e2f-4078-e289-b7a3298f6d67",
        "colab": {
          "base_uri": "https://localhost:8080/"
        }
      },
      "outputs": [
        {
          "output_type": "stream",
          "name": "stdout",
          "text": [
            "<class 'pandas.core.frame.DataFrame'>\n",
            "RangeIndex: 354198 entries, 0 to 354197\n",
            "Data columns (total 12 columns):\n",
            " #   Column              Non-Null Count   Dtype         \n",
            "---  ------              --------------   -----         \n",
            " 0   price               354198 non-null  int64         \n",
            " 1   vehicle_type        316879 non-null  object        \n",
            " 2   gearbox             334503 non-null  object        \n",
            " 3   power               354198 non-null  int64         \n",
            " 4   model               334568 non-null  object        \n",
            " 5   kilometer           354198 non-null  int64         \n",
            " 6   fuel_type           321431 non-null  object        \n",
            " 7   brand               354198 non-null  object        \n",
            " 8   not_repaired        283191 non-null  object        \n",
            " 9   date_created        354198 non-null  datetime64[ns]\n",
            " 10  number_of_pictures  354198 non-null  int64         \n",
            " 11  registration_date   354198 non-null  datetime64[ns]\n",
            "dtypes: datetime64[ns](2), int64(4), object(6)\n",
            "memory usage: 32.4+ MB\n"
          ]
        }
      ],
      "source": [
        "df.info()"
      ]
    },
    {
      "cell_type": "markdown",
      "metadata": {
        "id": "Ap9HUAQHvFM3"
      },
      "source": [
        "#### brand"
      ]
    },
    {
      "cell_type": "code",
      "execution_count": 17,
      "metadata": {
        "id": "VO-hrWC7vFM3",
        "outputId": "db7d7cc4-205a-4b98-edf4-08036d99ccf6",
        "colab": {
          "base_uri": "https://localhost:8080/"
        }
      },
      "outputs": [
        {
          "output_type": "execute_result",
          "data": {
            "text/plain": [
              "volkswagen        76977\n",
              "opel              39913\n",
              "bmw               36902\n",
              "mercedes_benz     32034\n",
              "audi              29451\n",
              "ford              25174\n",
              "renault           17923\n",
              "peugeot           10996\n",
              "fiat               9637\n",
              "seat               6906\n",
              "mazda              5609\n",
              "skoda              5498\n",
              "smart              5246\n",
              "citroen            5145\n",
              "nissan             4941\n",
              "toyota             4606\n",
              "hyundai            3586\n",
              "sonstige_autos     3338\n",
              "volvo              3210\n",
              "mini               3201\n",
              "mitsubishi         3019\n",
              "honda              2817\n",
              "kia                2465\n",
              "suzuki             2323\n",
              "alfa_romeo         2312\n",
              "chevrolet          1752\n",
              "chrysler           1438\n",
              "dacia               900\n",
              "daihatsu            806\n",
              "subaru              759\n",
              "porsche             756\n",
              "jeep                676\n",
              "trabant             585\n",
              "land_rover          544\n",
              "daewoo              542\n",
              "saab                525\n",
              "jaguar              505\n",
              "rover               485\n",
              "lancia              471\n",
              "lada                225\n",
              "Name: brand, dtype: int64"
            ]
          },
          "metadata": {},
          "execution_count": 17
        }
      ],
      "source": [
        "df['brand'].value_counts(dropna=False)"
      ]
    },
    {
      "cell_type": "markdown",
      "metadata": {
        "id": "e8B75HZQvFM3"
      },
      "source": [
        "С этим столбцом все ОК, явных дублей - нет, пропусков тоже."
      ]
    },
    {
      "cell_type": "markdown",
      "metadata": {
        "id": "va5jsHhLvFM4"
      },
      "source": [
        "#### model"
      ]
    },
    {
      "cell_type": "code",
      "execution_count": 18,
      "metadata": {
        "id": "WS0QLP9cvFM4",
        "outputId": "70fc4b72-f593-4108-df0e-04c0eb849339",
        "colab": {
          "base_uri": "https://localhost:8080/"
        }
      },
      "outputs": [
        {
          "output_type": "execute_result",
          "data": {
            "text/plain": [
              "19630"
            ]
          },
          "metadata": {},
          "execution_count": 18
        }
      ],
      "source": [
        "df['model'].isna().sum()"
      ]
    },
    {
      "cell_type": "markdown",
      "metadata": {
        "id": "79t6-xqgvFM4"
      },
      "source": [
        "Временно заполним пропуски значением 'nan' для сортировки списка уникальных значений"
      ]
    },
    {
      "cell_type": "code",
      "execution_count": 19,
      "metadata": {
        "id": "kG9XUAMBvFM5"
      },
      "outputs": [],
      "source": [
        "df['model'] = df['model'].fillna('nan')"
      ]
    },
    {
      "cell_type": "code",
      "execution_count": 20,
      "metadata": {
        "id": "st9z0Nq3vFM5",
        "outputId": "0e999763-f526-426d-8162-20b061acb836",
        "colab": {
          "base_uri": "https://localhost:8080/"
        }
      },
      "outputs": [
        {
          "output_type": "execute_result",
          "data": {
            "text/plain": [
              "['100',\n",
              " '145',\n",
              " '147',\n",
              " '156',\n",
              " '159',\n",
              " '1_reihe',\n",
              " '1er',\n",
              " '200',\n",
              " '2_reihe',\n",
              " '300c',\n",
              " '3_reihe',\n",
              " '3er',\n",
              " '4_reihe',\n",
              " '500',\n",
              " '5_reihe',\n",
              " '5er',\n",
              " '601',\n",
              " '6_reihe',\n",
              " '6er',\n",
              " '7er',\n",
              " '80',\n",
              " '850',\n",
              " '90',\n",
              " '900',\n",
              " '9000',\n",
              " '911',\n",
              " 'a1',\n",
              " 'a2',\n",
              " 'a3',\n",
              " 'a4',\n",
              " 'a5',\n",
              " 'a6',\n",
              " 'a8',\n",
              " 'a_klasse',\n",
              " 'accord',\n",
              " 'agila',\n",
              " 'alhambra',\n",
              " 'almera',\n",
              " 'altea',\n",
              " 'amarok',\n",
              " 'antara',\n",
              " 'arosa',\n",
              " 'astra',\n",
              " 'auris',\n",
              " 'avensis',\n",
              " 'aveo',\n",
              " 'aygo',\n",
              " 'b_klasse',\n",
              " 'b_max',\n",
              " 'beetle',\n",
              " 'berlingo',\n",
              " 'bora',\n",
              " 'boxster',\n",
              " 'bravo',\n",
              " 'c1',\n",
              " 'c2',\n",
              " 'c3',\n",
              " 'c4',\n",
              " 'c5',\n",
              " 'c_klasse',\n",
              " 'c_max',\n",
              " 'c_reihe',\n",
              " 'caddy',\n",
              " 'calibra',\n",
              " 'captiva',\n",
              " 'carisma',\n",
              " 'carnival',\n",
              " 'cayenne',\n",
              " 'cc',\n",
              " 'ceed',\n",
              " 'charade',\n",
              " 'cherokee',\n",
              " 'citigo',\n",
              " 'civic',\n",
              " 'cl',\n",
              " 'clio',\n",
              " 'clk',\n",
              " 'clubman',\n",
              " 'colt',\n",
              " 'combo',\n",
              " 'cooper',\n",
              " 'cordoba',\n",
              " 'corolla',\n",
              " 'corsa',\n",
              " 'cr_reihe',\n",
              " 'croma',\n",
              " 'crossfire',\n",
              " 'cuore',\n",
              " 'cx_reihe',\n",
              " 'defender',\n",
              " 'delta',\n",
              " 'discovery',\n",
              " 'doblo',\n",
              " 'ducato',\n",
              " 'duster',\n",
              " 'e_klasse',\n",
              " 'elefantino',\n",
              " 'eos',\n",
              " 'escort',\n",
              " 'espace',\n",
              " 'exeo',\n",
              " 'fabia',\n",
              " 'fiesta',\n",
              " 'focus',\n",
              " 'forester',\n",
              " 'forfour',\n",
              " 'fortwo',\n",
              " 'fox',\n",
              " 'freelander',\n",
              " 'fusion',\n",
              " 'g_klasse',\n",
              " 'galant',\n",
              " 'galaxy',\n",
              " 'getz',\n",
              " 'gl',\n",
              " 'glk',\n",
              " 'golf',\n",
              " 'grand',\n",
              " 'i3',\n",
              " 'i_reihe',\n",
              " 'ibiza',\n",
              " 'impreza',\n",
              " 'insignia',\n",
              " 'jazz',\n",
              " 'jetta',\n",
              " 'jimny',\n",
              " 'juke',\n",
              " 'justy',\n",
              " 'ka',\n",
              " 'kadett',\n",
              " 'kaefer',\n",
              " 'kalina',\n",
              " 'kalos',\n",
              " 'kangoo',\n",
              " 'kappa',\n",
              " 'kuga',\n",
              " 'laguna',\n",
              " 'lancer',\n",
              " 'lanos',\n",
              " 'legacy',\n",
              " 'leon',\n",
              " 'lodgy',\n",
              " 'logan',\n",
              " 'lupo',\n",
              " 'lybra',\n",
              " 'm_klasse',\n",
              " 'm_reihe',\n",
              " 'materia',\n",
              " 'matiz',\n",
              " 'megane',\n",
              " 'meriva',\n",
              " 'micra',\n",
              " 'mii',\n",
              " 'modus',\n",
              " 'mondeo',\n",
              " 'move',\n",
              " 'musa',\n",
              " 'mustang',\n",
              " 'mx_reihe',\n",
              " 'nan',\n",
              " 'navara',\n",
              " 'niva',\n",
              " 'note',\n",
              " 'nubira',\n",
              " 'octavia',\n",
              " 'omega',\n",
              " 'one',\n",
              " 'other',\n",
              " 'outlander',\n",
              " 'pajero',\n",
              " 'panda',\n",
              " 'passat',\n",
              " 'phaeton',\n",
              " 'picanto',\n",
              " 'polo',\n",
              " 'primera',\n",
              " 'ptcruiser',\n",
              " 'punto',\n",
              " 'q3',\n",
              " 'q5',\n",
              " 'q7',\n",
              " 'qashqai',\n",
              " 'r19',\n",
              " 'range_rover',\n",
              " 'range_rover_evoque',\n",
              " 'range_rover_sport',\n",
              " 'rangerover',\n",
              " 'rav',\n",
              " 'rio',\n",
              " 'roadster',\n",
              " 'roomster',\n",
              " 'rx_reihe',\n",
              " 's60',\n",
              " 's_klasse',\n",
              " 's_max',\n",
              " 's_type',\n",
              " 'samara',\n",
              " 'sandero',\n",
              " 'santa',\n",
              " 'scenic',\n",
              " 'scirocco',\n",
              " 'seicento',\n",
              " 'serie_1',\n",
              " 'serie_2',\n",
              " 'serie_3',\n",
              " 'sharan',\n",
              " 'signum',\n",
              " 'sirion',\n",
              " 'sl',\n",
              " 'slk',\n",
              " 'sorento',\n",
              " 'spark',\n",
              " 'spider',\n",
              " 'sportage',\n",
              " 'sprinter',\n",
              " 'stilo',\n",
              " 'superb',\n",
              " 'swift',\n",
              " 'terios',\n",
              " 'tigra',\n",
              " 'tiguan',\n",
              " 'toledo',\n",
              " 'touareg',\n",
              " 'touran',\n",
              " 'transit',\n",
              " 'transporter',\n",
              " 'tt',\n",
              " 'tucson',\n",
              " 'twingo',\n",
              " 'up',\n",
              " 'v40',\n",
              " 'v50',\n",
              " 'v60',\n",
              " 'v70',\n",
              " 'v_klasse',\n",
              " 'vectra',\n",
              " 'verso',\n",
              " 'viano',\n",
              " 'vito',\n",
              " 'vivaro',\n",
              " 'voyager',\n",
              " 'wrangler',\n",
              " 'x_reihe',\n",
              " 'x_trail',\n",
              " 'x_type',\n",
              " 'xc_reihe',\n",
              " 'yaris',\n",
              " 'yeti',\n",
              " 'ypsilon',\n",
              " 'z_reihe',\n",
              " 'zafira']"
            ]
          },
          "metadata": {},
          "execution_count": 20
        }
      ],
      "source": [
        "sorted(df['model'].unique())"
      ]
    },
    {
      "cell_type": "markdown",
      "metadata": {
        "id": "12EiqcVfvFM6"
      },
      "source": [
        "С виду все в порядке, за исключением названий названий range_rover и rangerover. Приведем все к одному виду. А временные nan заменим на группу other"
      ]
    },
    {
      "cell_type": "code",
      "execution_count": 21,
      "metadata": {
        "id": "YsRuLMpmvFM6"
      },
      "outputs": [],
      "source": [
        "df['model'] = df['model'].replace('rangerover', 'range_rover')\n",
        "df['model'] = df['model'].replace('nan', 'other')"
      ]
    },
    {
      "cell_type": "markdown",
      "metadata": {
        "id": "EGDnOE9gvFM6"
      },
      "source": [
        "#### vehicle_type"
      ]
    },
    {
      "cell_type": "code",
      "execution_count": 22,
      "metadata": {
        "id": "BvOSXL-zvFM6",
        "outputId": "d96e77e3-cbbb-44a1-9fd0-7757feb4b291",
        "colab": {
          "base_uri": "https://localhost:8080/"
        }
      },
      "outputs": [
        {
          "output_type": "execute_result",
          "data": {
            "text/plain": [
              "sedan          91457\n",
              "small          79831\n",
              "wagon          65166\n",
              "NaN            37319\n",
              "bus            28775\n",
              "convertible    20203\n",
              "coupe          16163\n",
              "suv            11996\n",
              "other           3288\n",
              "Name: vehicle_type, dtype: int64"
            ]
          },
          "metadata": {},
          "execution_count": 22
        }
      ],
      "source": [
        "df['vehicle_type'].value_counts(dropna=False)"
      ]
    },
    {
      "cell_type": "markdown",
      "metadata": {
        "id": "fvpe-6eavFM6"
      },
      "source": [
        "Так как одна и таже модель автомобиля может быть в разных корпусах, то за полнить данные пропуски не возможно, не к чему привязаться. Поэтому отнесем все не заполненые пропуски к типу `other`"
      ]
    },
    {
      "cell_type": "code",
      "execution_count": 23,
      "metadata": {
        "id": "ettcOjJTvFM7"
      },
      "outputs": [],
      "source": [
        "df['vehicle_type'] = df['vehicle_type'].fillna('other')"
      ]
    },
    {
      "cell_type": "code",
      "execution_count": 24,
      "metadata": {
        "id": "OoCBb8SCvFM7",
        "outputId": "2703ce9f-859d-4b6b-e17c-4b97c3a2973b",
        "colab": {
          "base_uri": "https://localhost:8080/"
        }
      },
      "outputs": [
        {
          "output_type": "execute_result",
          "data": {
            "text/plain": [
              "0"
            ]
          },
          "metadata": {},
          "execution_count": 24
        }
      ],
      "source": [
        "df['vehicle_type'].isna().sum()"
      ]
    },
    {
      "cell_type": "markdown",
      "metadata": {
        "id": "tTiVM8XYvFM7"
      },
      "source": [
        "#### gearbox"
      ]
    },
    {
      "cell_type": "code",
      "execution_count": 25,
      "metadata": {
        "id": "TvRWPnWWvFM8",
        "outputId": "e6388945-3cad-4762-9941-c4bcff5afb0d",
        "colab": {
          "base_uri": "https://localhost:8080/"
        }
      },
      "outputs": [
        {
          "output_type": "execute_result",
          "data": {
            "text/plain": [
              "manual    268225\n",
              "auto       66278\n",
              "NaN        19695\n",
              "Name: gearbox, dtype: int64"
            ]
          },
          "metadata": {},
          "execution_count": 25
        }
      ],
      "source": [
        "df['gearbox'].value_counts(dropna=False)"
      ]
    },
    {
      "cell_type": "markdown",
      "metadata": {
        "id": "TU7hLuj7vFM8"
      },
      "source": [
        "Создадим функцию для обработки пропусков, она будет искать строки с пропущенным значением колонки, сравнивать есть ли для других таких же моделей машины эти данные, при наличии заполнять пропуски самыми частым значением. Так же функция сделает список обьявлений list_to_delete кандидатов на удаление, где не получилось заполнить пропуск."
      ]
    },
    {
      "cell_type": "code",
      "execution_count": 26,
      "metadata": {
        "id": "DzVNqTvgvFM8"
      },
      "outputs": [],
      "source": [
        "list_to_delete = []"
      ]
    },
    {
      "cell_type": "code",
      "execution_count": 27,
      "metadata": {
        "id": "6mV7v3iDvFM8"
      },
      "outputs": [],
      "source": [
        "def fill_empty (table, column_fill, column_search):\n",
        "    '''\n",
        "    Функция на вход принимает таблицу table, формирует list_unique, содержащий в колонке column_fill \n",
        "    пустые значения для строк, где значения column_search присутствуют. Далее идет поиск значения \n",
        "    для заполнения пропусков\n",
        "    '''\n",
        "    # формируем список моделей с пропущенными значениями, за исключением other\n",
        "    list_unique = table.loc[table[column_fill].isnull(), column_search].unique()\n",
        "    list_unique = np.setdiff1d(list_unique,['other'])\n",
        "    \n",
        "    \n",
        "    for i in range(len(list_unique)): # цикл по всем моделям\n",
        "         \n",
        "        temp = table.loc[table[column_search] == list_unique[i], :]  # создаем времянный срез, содержащий значение для заполнения пропусков\n",
        "        value_for_replace = temp[~pd.isnull(temp[column_fill])][column_fill].unique() # поиск значения для заполнения\n",
        "        \n",
        "        if len(value_for_replace) >= 1: # если значений больше одного, берез самое частое\n",
        "            value_for_replace = temp[~pd.isnull(temp[column_fill])][column_fill].value_counts(normalize=True).index[0]\n",
        "            table.loc[(table[column_search] == list_unique[i]), column_fill] = (table.loc[(df[column_search] == list_unique[i]), column_fill]\n",
        "                                                                                .fillna(value_for_replace))\n",
        "        else: # если нет значений\n",
        "            \n",
        "            list_to_delete.append(list_unique[i])\n",
        "            continue"
      ]
    },
    {
      "cell_type": "code",
      "execution_count": 28,
      "metadata": {
        "id": "FlpsqDYfvFM9"
      },
      "outputs": [],
      "source": [
        "fill_empty(df, 'gearbox', 'model')"
      ]
    },
    {
      "cell_type": "markdown",
      "metadata": {
        "id": "qE1bXudNvFM9"
      },
      "source": [
        "Оценим количество строк для удаления"
      ]
    },
    {
      "cell_type": "code",
      "execution_count": 29,
      "metadata": {
        "id": "AhJZUla8vFM-",
        "outputId": "62f092a6-76d2-42b5-d6e1-abd3a315c1bf",
        "colab": {
          "base_uri": "https://localhost:8080/"
        }
      },
      "outputs": [
        {
          "output_type": "execute_result",
          "data": {
            "text/plain": [
              "0"
            ]
          },
          "metadata": {},
          "execution_count": 29
        }
      ],
      "source": [
        "len(list_to_delete)"
      ]
    },
    {
      "cell_type": "markdown",
      "metadata": {
        "id": "30Hk5AWOvFM-"
      },
      "source": [
        "Отлично проверим, что осталось не заполненым"
      ]
    },
    {
      "cell_type": "code",
      "execution_count": 30,
      "metadata": {
        "id": "beyvzLZCvFM-",
        "outputId": "4cac3295-0e64-48f3-99df-f5585d400ddf",
        "colab": {
          "base_uri": "https://localhost:8080/",
          "height": 206
        }
      },
      "outputs": [
        {
          "output_type": "execute_result",
          "data": {
            "text/plain": [
              "     price vehicle_type gearbox  power  model  kilometer fuel_type  \\\n",
              "115      0        small     NaN      0  other       5000    petrol   \n",
              "151   6799        small     NaN     60  other      20000    petrol   \n",
              "154      0        other     NaN      0  other       5000       NaN   \n",
              "161   1495        wagon     NaN     64  other     150000  gasoline   \n",
              "186  14000        sedan     NaN    235  other     150000       NaN   \n",
              "\n",
              "          brand not_repaired date_created  number_of_pictures  \\\n",
              "115  volkswagen          NaN   2016-03-20                   0   \n",
              "151  volkswagen           no   2016-03-27                   0   \n",
              "154        fiat          NaN   2016-03-22                   0   \n",
              "161  volkswagen          NaN   2016-03-28                   0   \n",
              "186         bmw           no   2016-02-12                   0   \n",
              "\n",
              "    registration_date  \n",
              "115        1999-01-01  \n",
              "151        2009-05-01  \n",
              "154        2006-01-01  \n",
              "161        2001-09-01  \n",
              "186        2008-01-01  "
            ],
            "text/html": [
              "\n",
              "  <div id=\"df-47247a17-c287-49e7-88c8-4d54ebde33fc\">\n",
              "    <div class=\"colab-df-container\">\n",
              "      <div>\n",
              "<style scoped>\n",
              "    .dataframe tbody tr th:only-of-type {\n",
              "        vertical-align: middle;\n",
              "    }\n",
              "\n",
              "    .dataframe tbody tr th {\n",
              "        vertical-align: top;\n",
              "    }\n",
              "\n",
              "    .dataframe thead th {\n",
              "        text-align: right;\n",
              "    }\n",
              "</style>\n",
              "<table border=\"1\" class=\"dataframe\">\n",
              "  <thead>\n",
              "    <tr style=\"text-align: right;\">\n",
              "      <th></th>\n",
              "      <th>price</th>\n",
              "      <th>vehicle_type</th>\n",
              "      <th>gearbox</th>\n",
              "      <th>power</th>\n",
              "      <th>model</th>\n",
              "      <th>kilometer</th>\n",
              "      <th>fuel_type</th>\n",
              "      <th>brand</th>\n",
              "      <th>not_repaired</th>\n",
              "      <th>date_created</th>\n",
              "      <th>number_of_pictures</th>\n",
              "      <th>registration_date</th>\n",
              "    </tr>\n",
              "  </thead>\n",
              "  <tbody>\n",
              "    <tr>\n",
              "      <th>115</th>\n",
              "      <td>0</td>\n",
              "      <td>small</td>\n",
              "      <td>NaN</td>\n",
              "      <td>0</td>\n",
              "      <td>other</td>\n",
              "      <td>5000</td>\n",
              "      <td>petrol</td>\n",
              "      <td>volkswagen</td>\n",
              "      <td>NaN</td>\n",
              "      <td>2016-03-20</td>\n",
              "      <td>0</td>\n",
              "      <td>1999-01-01</td>\n",
              "    </tr>\n",
              "    <tr>\n",
              "      <th>151</th>\n",
              "      <td>6799</td>\n",
              "      <td>small</td>\n",
              "      <td>NaN</td>\n",
              "      <td>60</td>\n",
              "      <td>other</td>\n",
              "      <td>20000</td>\n",
              "      <td>petrol</td>\n",
              "      <td>volkswagen</td>\n",
              "      <td>no</td>\n",
              "      <td>2016-03-27</td>\n",
              "      <td>0</td>\n",
              "      <td>2009-05-01</td>\n",
              "    </tr>\n",
              "    <tr>\n",
              "      <th>154</th>\n",
              "      <td>0</td>\n",
              "      <td>other</td>\n",
              "      <td>NaN</td>\n",
              "      <td>0</td>\n",
              "      <td>other</td>\n",
              "      <td>5000</td>\n",
              "      <td>NaN</td>\n",
              "      <td>fiat</td>\n",
              "      <td>NaN</td>\n",
              "      <td>2016-03-22</td>\n",
              "      <td>0</td>\n",
              "      <td>2006-01-01</td>\n",
              "    </tr>\n",
              "    <tr>\n",
              "      <th>161</th>\n",
              "      <td>1495</td>\n",
              "      <td>wagon</td>\n",
              "      <td>NaN</td>\n",
              "      <td>64</td>\n",
              "      <td>other</td>\n",
              "      <td>150000</td>\n",
              "      <td>gasoline</td>\n",
              "      <td>volkswagen</td>\n",
              "      <td>NaN</td>\n",
              "      <td>2016-03-28</td>\n",
              "      <td>0</td>\n",
              "      <td>2001-09-01</td>\n",
              "    </tr>\n",
              "    <tr>\n",
              "      <th>186</th>\n",
              "      <td>14000</td>\n",
              "      <td>sedan</td>\n",
              "      <td>NaN</td>\n",
              "      <td>235</td>\n",
              "      <td>other</td>\n",
              "      <td>150000</td>\n",
              "      <td>NaN</td>\n",
              "      <td>bmw</td>\n",
              "      <td>no</td>\n",
              "      <td>2016-02-12</td>\n",
              "      <td>0</td>\n",
              "      <td>2008-01-01</td>\n",
              "    </tr>\n",
              "  </tbody>\n",
              "</table>\n",
              "</div>\n",
              "      <button class=\"colab-df-convert\" onclick=\"convertToInteractive('df-47247a17-c287-49e7-88c8-4d54ebde33fc')\"\n",
              "              title=\"Convert this dataframe to an interactive table.\"\n",
              "              style=\"display:none;\">\n",
              "        \n",
              "  <svg xmlns=\"http://www.w3.org/2000/svg\" height=\"24px\"viewBox=\"0 0 24 24\"\n",
              "       width=\"24px\">\n",
              "    <path d=\"M0 0h24v24H0V0z\" fill=\"none\"/>\n",
              "    <path d=\"M18.56 5.44l.94 2.06.94-2.06 2.06-.94-2.06-.94-.94-2.06-.94 2.06-2.06.94zm-11 1L8.5 8.5l.94-2.06 2.06-.94-2.06-.94L8.5 2.5l-.94 2.06-2.06.94zm10 10l.94 2.06.94-2.06 2.06-.94-2.06-.94-.94-2.06-.94 2.06-2.06.94z\"/><path d=\"M17.41 7.96l-1.37-1.37c-.4-.4-.92-.59-1.43-.59-.52 0-1.04.2-1.43.59L10.3 9.45l-7.72 7.72c-.78.78-.78 2.05 0 2.83L4 21.41c.39.39.9.59 1.41.59.51 0 1.02-.2 1.41-.59l7.78-7.78 2.81-2.81c.8-.78.8-2.07 0-2.86zM5.41 20L4 18.59l7.72-7.72 1.47 1.35L5.41 20z\"/>\n",
              "  </svg>\n",
              "      </button>\n",
              "      \n",
              "  <style>\n",
              "    .colab-df-container {\n",
              "      display:flex;\n",
              "      flex-wrap:wrap;\n",
              "      gap: 12px;\n",
              "    }\n",
              "\n",
              "    .colab-df-convert {\n",
              "      background-color: #E8F0FE;\n",
              "      border: none;\n",
              "      border-radius: 50%;\n",
              "      cursor: pointer;\n",
              "      display: none;\n",
              "      fill: #1967D2;\n",
              "      height: 32px;\n",
              "      padding: 0 0 0 0;\n",
              "      width: 32px;\n",
              "    }\n",
              "\n",
              "    .colab-df-convert:hover {\n",
              "      background-color: #E2EBFA;\n",
              "      box-shadow: 0px 1px 2px rgba(60, 64, 67, 0.3), 0px 1px 3px 1px rgba(60, 64, 67, 0.15);\n",
              "      fill: #174EA6;\n",
              "    }\n",
              "\n",
              "    [theme=dark] .colab-df-convert {\n",
              "      background-color: #3B4455;\n",
              "      fill: #D2E3FC;\n",
              "    }\n",
              "\n",
              "    [theme=dark] .colab-df-convert:hover {\n",
              "      background-color: #434B5C;\n",
              "      box-shadow: 0px 1px 3px 1px rgba(0, 0, 0, 0.15);\n",
              "      filter: drop-shadow(0px 1px 2px rgba(0, 0, 0, 0.3));\n",
              "      fill: #FFFFFF;\n",
              "    }\n",
              "  </style>\n",
              "\n",
              "      <script>\n",
              "        const buttonEl =\n",
              "          document.querySelector('#df-47247a17-c287-49e7-88c8-4d54ebde33fc button.colab-df-convert');\n",
              "        buttonEl.style.display =\n",
              "          google.colab.kernel.accessAllowed ? 'block' : 'none';\n",
              "\n",
              "        async function convertToInteractive(key) {\n",
              "          const element = document.querySelector('#df-47247a17-c287-49e7-88c8-4d54ebde33fc');\n",
              "          const dataTable =\n",
              "            await google.colab.kernel.invokeFunction('convertToInteractive',\n",
              "                                                     [key], {});\n",
              "          if (!dataTable) return;\n",
              "\n",
              "          const docLinkHtml = 'Like what you see? Visit the ' +\n",
              "            '<a target=\"_blank\" href=https://colab.research.google.com/notebooks/data_table.ipynb>data table notebook</a>'\n",
              "            + ' to learn more about interactive tables.';\n",
              "          element.innerHTML = '';\n",
              "          dataTable['output_type'] = 'display_data';\n",
              "          await google.colab.output.renderOutput(dataTable, element);\n",
              "          const docLink = document.createElement('div');\n",
              "          docLink.innerHTML = docLinkHtml;\n",
              "          element.appendChild(docLink);\n",
              "        }\n",
              "      </script>\n",
              "    </div>\n",
              "  </div>\n",
              "  "
            ]
          },
          "metadata": {},
          "execution_count": 30
        }
      ],
      "source": [
        "df[df['gearbox'].isnull()].head()"
      ]
    },
    {
      "cell_type": "markdown",
      "metadata": {
        "id": "8C0se71lvFM-"
      },
      "source": [
        "Остались не заполненым строки неопределенных моделей. Чтобы не возникало ошибок алгоритмов при обучении, заполним оставшиеся пропуски значением `unknown`"
      ]
    },
    {
      "cell_type": "code",
      "execution_count": 31,
      "metadata": {
        "id": "rYdLxUlXvFM_"
      },
      "outputs": [],
      "source": [
        "df['gearbox'] = df['gearbox'].fillna('unknown')"
      ]
    },
    {
      "cell_type": "code",
      "execution_count": 32,
      "metadata": {
        "id": "vXXsWqwAvFM_",
        "outputId": "52a9f210-19ea-4e20-a183-c435f5a15804",
        "colab": {
          "base_uri": "https://localhost:8080/"
        }
      },
      "outputs": [
        {
          "output_type": "execute_result",
          "data": {
            "text/plain": [
              "0"
            ]
          },
          "metadata": {},
          "execution_count": 32
        }
      ],
      "source": [
        "df['gearbox'].isna().sum()"
      ]
    },
    {
      "cell_type": "markdown",
      "metadata": {
        "id": "asQkMVVLvFM_"
      },
      "source": [
        "#### fuel_type"
      ]
    },
    {
      "cell_type": "code",
      "execution_count": 33,
      "metadata": {
        "id": "43yNuDzxvFM_",
        "outputId": "47949943-5643-4ec4-e5b7-5f596ecbf5b3",
        "colab": {
          "base_uri": "https://localhost:8080/"
        }
      },
      "outputs": [
        {
          "output_type": "execute_result",
          "data": {
            "text/plain": [
              "petrol      216318\n",
              "gasoline     98713\n",
              "NaN          32767\n",
              "lpg           5310\n",
              "cng            564\n",
              "hybrid         233\n",
              "other          203\n",
              "electric        90\n",
              "Name: fuel_type, dtype: int64"
            ]
          },
          "metadata": {},
          "execution_count": 33
        }
      ],
      "source": [
        "df['fuel_type'].value_counts(dropna=False)"
      ]
    },
    {
      "cell_type": "markdown",
      "metadata": {
        "id": "d0ZMwsBTvFM_"
      },
      "source": [
        "Тоже большое количество пропусков =( В теории на автомобиле можно установить любой тип двигателя, но будем считать, что машины продаются в заводской комплектации. Если бы какой-то \"кулибин\" продавал переделанный автомобиль, он бы это указал. Поэтому воспользуемся прошлой функцией для заполнения пропусков, то есть на одних и тех же моделях ставят одинаковый тип двигателя."
      ]
    },
    {
      "cell_type": "code",
      "execution_count": 34,
      "metadata": {
        "id": "ptMXzSQKvFNA"
      },
      "outputs": [],
      "source": [
        "list_to_delete = []"
      ]
    },
    {
      "cell_type": "code",
      "execution_count": 35,
      "metadata": {
        "id": "LAT6nPK6vFNA"
      },
      "outputs": [],
      "source": [
        "fill_empty(df, 'fuel_type', 'model')"
      ]
    },
    {
      "cell_type": "markdown",
      "metadata": {
        "id": "EZSPIeNwvFNA"
      },
      "source": [
        "Оценим количество строк для удаления"
      ]
    },
    {
      "cell_type": "code",
      "execution_count": 36,
      "metadata": {
        "id": "1a71iZrjvFNA",
        "outputId": "d8f64d71-1ae1-4b01-f281-921b20c6225e",
        "colab": {
          "base_uri": "https://localhost:8080/"
        }
      },
      "outputs": [
        {
          "output_type": "execute_result",
          "data": {
            "text/plain": [
              "0"
            ]
          },
          "metadata": {},
          "execution_count": 36
        }
      ],
      "source": [
        "len(list_to_delete)"
      ]
    },
    {
      "cell_type": "markdown",
      "metadata": {
        "id": "Y2eD-GXlvFNA"
      },
      "source": [
        "Посмотрим сколько осталось пропусков и у каких моделей"
      ]
    },
    {
      "cell_type": "code",
      "execution_count": 37,
      "metadata": {
        "id": "cziN-SlRvFNB",
        "outputId": "60b7e65d-7578-4e91-908a-2fdb15b2a8e9",
        "colab": {
          "base_uri": "https://localhost:8080/"
        }
      },
      "outputs": [
        {
          "output_type": "execute_result",
          "data": {
            "text/plain": [
              "petrol      235348\n",
              "gasoline    103401\n",
              "NaN           9049\n",
              "lpg           5310\n",
              "cng            564\n",
              "hybrid         233\n",
              "other          203\n",
              "electric        90\n",
              "Name: fuel_type, dtype: int64"
            ]
          },
          "metadata": {},
          "execution_count": 37
        }
      ],
      "source": [
        "df['fuel_type'].value_counts(dropna=False)"
      ]
    },
    {
      "cell_type": "code",
      "execution_count": 38,
      "metadata": {
        "id": "Txir4VICvFNB",
        "outputId": "a5ea4936-257c-4b68-f899-770392387419",
        "colab": {
          "base_uri": "https://localhost:8080/",
          "height": 49
        }
      },
      "outputs": [
        {
          "output_type": "execute_result",
          "data": {
            "text/plain": [
              "Empty DataFrame\n",
              "Columns: [price, vehicle_type, gearbox, power, model, kilometer, fuel_type, brand, not_repaired, date_created, number_of_pictures, registration_date]\n",
              "Index: []"
            ],
            "text/html": [
              "\n",
              "  <div id=\"df-ddea8e25-6d9a-465f-9859-0e12310725c4\">\n",
              "    <div class=\"colab-df-container\">\n",
              "      <div>\n",
              "<style scoped>\n",
              "    .dataframe tbody tr th:only-of-type {\n",
              "        vertical-align: middle;\n",
              "    }\n",
              "\n",
              "    .dataframe tbody tr th {\n",
              "        vertical-align: top;\n",
              "    }\n",
              "\n",
              "    .dataframe thead th {\n",
              "        text-align: right;\n",
              "    }\n",
              "</style>\n",
              "<table border=\"1\" class=\"dataframe\">\n",
              "  <thead>\n",
              "    <tr style=\"text-align: right;\">\n",
              "      <th></th>\n",
              "      <th>price</th>\n",
              "      <th>vehicle_type</th>\n",
              "      <th>gearbox</th>\n",
              "      <th>power</th>\n",
              "      <th>model</th>\n",
              "      <th>kilometer</th>\n",
              "      <th>fuel_type</th>\n",
              "      <th>brand</th>\n",
              "      <th>not_repaired</th>\n",
              "      <th>date_created</th>\n",
              "      <th>number_of_pictures</th>\n",
              "      <th>registration_date</th>\n",
              "    </tr>\n",
              "  </thead>\n",
              "  <tbody>\n",
              "  </tbody>\n",
              "</table>\n",
              "</div>\n",
              "      <button class=\"colab-df-convert\" onclick=\"convertToInteractive('df-ddea8e25-6d9a-465f-9859-0e12310725c4')\"\n",
              "              title=\"Convert this dataframe to an interactive table.\"\n",
              "              style=\"display:none;\">\n",
              "        \n",
              "  <svg xmlns=\"http://www.w3.org/2000/svg\" height=\"24px\"viewBox=\"0 0 24 24\"\n",
              "       width=\"24px\">\n",
              "    <path d=\"M0 0h24v24H0V0z\" fill=\"none\"/>\n",
              "    <path d=\"M18.56 5.44l.94 2.06.94-2.06 2.06-.94-2.06-.94-.94-2.06-.94 2.06-2.06.94zm-11 1L8.5 8.5l.94-2.06 2.06-.94-2.06-.94L8.5 2.5l-.94 2.06-2.06.94zm10 10l.94 2.06.94-2.06 2.06-.94-2.06-.94-.94-2.06-.94 2.06-2.06.94z\"/><path d=\"M17.41 7.96l-1.37-1.37c-.4-.4-.92-.59-1.43-.59-.52 0-1.04.2-1.43.59L10.3 9.45l-7.72 7.72c-.78.78-.78 2.05 0 2.83L4 21.41c.39.39.9.59 1.41.59.51 0 1.02-.2 1.41-.59l7.78-7.78 2.81-2.81c.8-.78.8-2.07 0-2.86zM5.41 20L4 18.59l7.72-7.72 1.47 1.35L5.41 20z\"/>\n",
              "  </svg>\n",
              "      </button>\n",
              "      \n",
              "  <style>\n",
              "    .colab-df-container {\n",
              "      display:flex;\n",
              "      flex-wrap:wrap;\n",
              "      gap: 12px;\n",
              "    }\n",
              "\n",
              "    .colab-df-convert {\n",
              "      background-color: #E8F0FE;\n",
              "      border: none;\n",
              "      border-radius: 50%;\n",
              "      cursor: pointer;\n",
              "      display: none;\n",
              "      fill: #1967D2;\n",
              "      height: 32px;\n",
              "      padding: 0 0 0 0;\n",
              "      width: 32px;\n",
              "    }\n",
              "\n",
              "    .colab-df-convert:hover {\n",
              "      background-color: #E2EBFA;\n",
              "      box-shadow: 0px 1px 2px rgba(60, 64, 67, 0.3), 0px 1px 3px 1px rgba(60, 64, 67, 0.15);\n",
              "      fill: #174EA6;\n",
              "    }\n",
              "\n",
              "    [theme=dark] .colab-df-convert {\n",
              "      background-color: #3B4455;\n",
              "      fill: #D2E3FC;\n",
              "    }\n",
              "\n",
              "    [theme=dark] .colab-df-convert:hover {\n",
              "      background-color: #434B5C;\n",
              "      box-shadow: 0px 1px 3px 1px rgba(0, 0, 0, 0.15);\n",
              "      filter: drop-shadow(0px 1px 2px rgba(0, 0, 0, 0.3));\n",
              "      fill: #FFFFFF;\n",
              "    }\n",
              "  </style>\n",
              "\n",
              "      <script>\n",
              "        const buttonEl =\n",
              "          document.querySelector('#df-ddea8e25-6d9a-465f-9859-0e12310725c4 button.colab-df-convert');\n",
              "        buttonEl.style.display =\n",
              "          google.colab.kernel.accessAllowed ? 'block' : 'none';\n",
              "\n",
              "        async function convertToInteractive(key) {\n",
              "          const element = document.querySelector('#df-ddea8e25-6d9a-465f-9859-0e12310725c4');\n",
              "          const dataTable =\n",
              "            await google.colab.kernel.invokeFunction('convertToInteractive',\n",
              "                                                     [key], {});\n",
              "          if (!dataTable) return;\n",
              "\n",
              "          const docLinkHtml = 'Like what you see? Visit the ' +\n",
              "            '<a target=\"_blank\" href=https://colab.research.google.com/notebooks/data_table.ipynb>data table notebook</a>'\n",
              "            + ' to learn more about interactive tables.';\n",
              "          element.innerHTML = '';\n",
              "          dataTable['output_type'] = 'display_data';\n",
              "          await google.colab.output.renderOutput(dataTable, element);\n",
              "          const docLink = document.createElement('div');\n",
              "          docLink.innerHTML = docLinkHtml;\n",
              "          element.appendChild(docLink);\n",
              "        }\n",
              "      </script>\n",
              "    </div>\n",
              "  </div>\n",
              "  "
            ]
          },
          "metadata": {},
          "execution_count": 38
        }
      ],
      "source": [
        "df[(df['fuel_type'].isnull()) & (df['model'] != 'other')].head()"
      ]
    },
    {
      "cell_type": "markdown",
      "metadata": {
        "id": "9fm6EJVdvFNB"
      },
      "source": [
        "Снова очень много строк с неизвестными моделями автомобилей, поэтому все пропуски снова заполним `unknown`"
      ]
    },
    {
      "cell_type": "code",
      "execution_count": 39,
      "metadata": {
        "id": "WQk7leXnvFNB"
      },
      "outputs": [],
      "source": [
        "df['fuel_type'] = df['fuel_type'].fillna('unknown')"
      ]
    },
    {
      "cell_type": "markdown",
      "metadata": {
        "id": "tvSv2csavFNB"
      },
      "source": [
        "#### power"
      ]
    },
    {
      "cell_type": "code",
      "execution_count": 40,
      "metadata": {
        "id": "jqJmoCokvFNC",
        "outputId": "6d3a2f13-fd5d-4afe-860e-c52ae72b0a92",
        "colab": {
          "base_uri": "https://localhost:8080/"
        }
      },
      "outputs": [
        {
          "output_type": "execute_result",
          "data": {
            "text/plain": [
              "count    354198.000000\n",
              "mean        110.078242\n",
              "std         189.536766\n",
              "min           0.000000\n",
              "25%          69.000000\n",
              "50%         105.000000\n",
              "75%         143.000000\n",
              "max       20000.000000\n",
              "Name: power, dtype: float64"
            ]
          },
          "metadata": {},
          "execution_count": 40
        }
      ],
      "source": [
        "df['power'].describe()"
      ]
    },
    {
      "cell_type": "markdown",
      "metadata": {
        "id": "V7eTRKtAvFNC"
      },
      "source": [
        "Хо-хо есть машины с 0 лошадей под капотом, а есть с ОЧЕНЬ большим их количеством. Проверим эти строки, так как очень они похожи на выбросы"
      ]
    },
    {
      "cell_type": "code",
      "execution_count": 41,
      "metadata": {
        "id": "wcbCIJqivFNC",
        "outputId": "6b7d5636-20e5-4371-e484-b3cba42c0e6e",
        "colab": {
          "base_uri": "https://localhost:8080/",
          "height": 424
        }
      },
      "outputs": [
        {
          "output_type": "execute_result",
          "data": {
            "text/plain": [
              "        price vehicle_type  gearbox  power     model  kilometer fuel_type  \\\n",
              "0         480        other   manual      0      golf     150000    petrol   \n",
              "15        450        small   manual      0        ka       5000    petrol   \n",
              "32        245        sedan   manual      0      golf     150000    petrol   \n",
              "37       1500        other   manual      0    kangoo     150000  gasoline   \n",
              "40          0        other   manual      0     corsa     150000    petrol   \n",
              "...       ...          ...      ...    ...       ...        ...       ...   \n",
              "354175   2600        other     auto      0  c_klasse     150000    petrol   \n",
              "354189   3999        wagon   manual      3       3er     150000  gasoline   \n",
              "354192   1150          bus   manual      0    zafira     150000    petrol   \n",
              "354193      0        other   manual      0      colt     150000    petrol   \n",
              "354194   2200        other  unknown      0     other      20000   unknown   \n",
              "\n",
              "                 brand not_repaired date_created  number_of_pictures  \\\n",
              "0           volkswagen          NaN   2016-03-24                   0   \n",
              "15                ford          NaN   2016-03-11                   0   \n",
              "32          volkswagen           no   2016-03-15                   0   \n",
              "37             renault           no   2016-03-28                   0   \n",
              "40                opel          NaN   2016-03-26                   0   \n",
              "...                ...          ...          ...                 ...   \n",
              "354175   mercedes_benz          NaN   2016-03-07                   0   \n",
              "354189             bmw           no   2016-04-02                   0   \n",
              "354192            opel           no   2016-03-27                   0   \n",
              "354193      mitsubishi          yes   2016-03-21                   0   \n",
              "354194  sonstige_autos          NaN   2016-03-14                   0   \n",
              "\n",
              "       registration_date  \n",
              "0             1993-01-01  \n",
              "15            1910-01-01  \n",
              "32            1994-02-01  \n",
              "37            2016-01-01  \n",
              "40            1990-01-01  \n",
              "...                  ...  \n",
              "354175        2005-09-01  \n",
              "354189        2005-05-01  \n",
              "354192        2000-03-01  \n",
              "354193        2005-07-01  \n",
              "354194        2005-01-01  \n",
              "\n",
              "[41483 rows x 12 columns]"
            ],
            "text/html": [
              "\n",
              "  <div id=\"df-8cf8ed7c-6261-4119-8475-4c2337b36ff0\">\n",
              "    <div class=\"colab-df-container\">\n",
              "      <div>\n",
              "<style scoped>\n",
              "    .dataframe tbody tr th:only-of-type {\n",
              "        vertical-align: middle;\n",
              "    }\n",
              "\n",
              "    .dataframe tbody tr th {\n",
              "        vertical-align: top;\n",
              "    }\n",
              "\n",
              "    .dataframe thead th {\n",
              "        text-align: right;\n",
              "    }\n",
              "</style>\n",
              "<table border=\"1\" class=\"dataframe\">\n",
              "  <thead>\n",
              "    <tr style=\"text-align: right;\">\n",
              "      <th></th>\n",
              "      <th>price</th>\n",
              "      <th>vehicle_type</th>\n",
              "      <th>gearbox</th>\n",
              "      <th>power</th>\n",
              "      <th>model</th>\n",
              "      <th>kilometer</th>\n",
              "      <th>fuel_type</th>\n",
              "      <th>brand</th>\n",
              "      <th>not_repaired</th>\n",
              "      <th>date_created</th>\n",
              "      <th>number_of_pictures</th>\n",
              "      <th>registration_date</th>\n",
              "    </tr>\n",
              "  </thead>\n",
              "  <tbody>\n",
              "    <tr>\n",
              "      <th>0</th>\n",
              "      <td>480</td>\n",
              "      <td>other</td>\n",
              "      <td>manual</td>\n",
              "      <td>0</td>\n",
              "      <td>golf</td>\n",
              "      <td>150000</td>\n",
              "      <td>petrol</td>\n",
              "      <td>volkswagen</td>\n",
              "      <td>NaN</td>\n",
              "      <td>2016-03-24</td>\n",
              "      <td>0</td>\n",
              "      <td>1993-01-01</td>\n",
              "    </tr>\n",
              "    <tr>\n",
              "      <th>15</th>\n",
              "      <td>450</td>\n",
              "      <td>small</td>\n",
              "      <td>manual</td>\n",
              "      <td>0</td>\n",
              "      <td>ka</td>\n",
              "      <td>5000</td>\n",
              "      <td>petrol</td>\n",
              "      <td>ford</td>\n",
              "      <td>NaN</td>\n",
              "      <td>2016-03-11</td>\n",
              "      <td>0</td>\n",
              "      <td>1910-01-01</td>\n",
              "    </tr>\n",
              "    <tr>\n",
              "      <th>32</th>\n",
              "      <td>245</td>\n",
              "      <td>sedan</td>\n",
              "      <td>manual</td>\n",
              "      <td>0</td>\n",
              "      <td>golf</td>\n",
              "      <td>150000</td>\n",
              "      <td>petrol</td>\n",
              "      <td>volkswagen</td>\n",
              "      <td>no</td>\n",
              "      <td>2016-03-15</td>\n",
              "      <td>0</td>\n",
              "      <td>1994-02-01</td>\n",
              "    </tr>\n",
              "    <tr>\n",
              "      <th>37</th>\n",
              "      <td>1500</td>\n",
              "      <td>other</td>\n",
              "      <td>manual</td>\n",
              "      <td>0</td>\n",
              "      <td>kangoo</td>\n",
              "      <td>150000</td>\n",
              "      <td>gasoline</td>\n",
              "      <td>renault</td>\n",
              "      <td>no</td>\n",
              "      <td>2016-03-28</td>\n",
              "      <td>0</td>\n",
              "      <td>2016-01-01</td>\n",
              "    </tr>\n",
              "    <tr>\n",
              "      <th>40</th>\n",
              "      <td>0</td>\n",
              "      <td>other</td>\n",
              "      <td>manual</td>\n",
              "      <td>0</td>\n",
              "      <td>corsa</td>\n",
              "      <td>150000</td>\n",
              "      <td>petrol</td>\n",
              "      <td>opel</td>\n",
              "      <td>NaN</td>\n",
              "      <td>2016-03-26</td>\n",
              "      <td>0</td>\n",
              "      <td>1990-01-01</td>\n",
              "    </tr>\n",
              "    <tr>\n",
              "      <th>...</th>\n",
              "      <td>...</td>\n",
              "      <td>...</td>\n",
              "      <td>...</td>\n",
              "      <td>...</td>\n",
              "      <td>...</td>\n",
              "      <td>...</td>\n",
              "      <td>...</td>\n",
              "      <td>...</td>\n",
              "      <td>...</td>\n",
              "      <td>...</td>\n",
              "      <td>...</td>\n",
              "      <td>...</td>\n",
              "    </tr>\n",
              "    <tr>\n",
              "      <th>354175</th>\n",
              "      <td>2600</td>\n",
              "      <td>other</td>\n",
              "      <td>auto</td>\n",
              "      <td>0</td>\n",
              "      <td>c_klasse</td>\n",
              "      <td>150000</td>\n",
              "      <td>petrol</td>\n",
              "      <td>mercedes_benz</td>\n",
              "      <td>NaN</td>\n",
              "      <td>2016-03-07</td>\n",
              "      <td>0</td>\n",
              "      <td>2005-09-01</td>\n",
              "    </tr>\n",
              "    <tr>\n",
              "      <th>354189</th>\n",
              "      <td>3999</td>\n",
              "      <td>wagon</td>\n",
              "      <td>manual</td>\n",
              "      <td>3</td>\n",
              "      <td>3er</td>\n",
              "      <td>150000</td>\n",
              "      <td>gasoline</td>\n",
              "      <td>bmw</td>\n",
              "      <td>no</td>\n",
              "      <td>2016-04-02</td>\n",
              "      <td>0</td>\n",
              "      <td>2005-05-01</td>\n",
              "    </tr>\n",
              "    <tr>\n",
              "      <th>354192</th>\n",
              "      <td>1150</td>\n",
              "      <td>bus</td>\n",
              "      <td>manual</td>\n",
              "      <td>0</td>\n",
              "      <td>zafira</td>\n",
              "      <td>150000</td>\n",
              "      <td>petrol</td>\n",
              "      <td>opel</td>\n",
              "      <td>no</td>\n",
              "      <td>2016-03-27</td>\n",
              "      <td>0</td>\n",
              "      <td>2000-03-01</td>\n",
              "    </tr>\n",
              "    <tr>\n",
              "      <th>354193</th>\n",
              "      <td>0</td>\n",
              "      <td>other</td>\n",
              "      <td>manual</td>\n",
              "      <td>0</td>\n",
              "      <td>colt</td>\n",
              "      <td>150000</td>\n",
              "      <td>petrol</td>\n",
              "      <td>mitsubishi</td>\n",
              "      <td>yes</td>\n",
              "      <td>2016-03-21</td>\n",
              "      <td>0</td>\n",
              "      <td>2005-07-01</td>\n",
              "    </tr>\n",
              "    <tr>\n",
              "      <th>354194</th>\n",
              "      <td>2200</td>\n",
              "      <td>other</td>\n",
              "      <td>unknown</td>\n",
              "      <td>0</td>\n",
              "      <td>other</td>\n",
              "      <td>20000</td>\n",
              "      <td>unknown</td>\n",
              "      <td>sonstige_autos</td>\n",
              "      <td>NaN</td>\n",
              "      <td>2016-03-14</td>\n",
              "      <td>0</td>\n",
              "      <td>2005-01-01</td>\n",
              "    </tr>\n",
              "  </tbody>\n",
              "</table>\n",
              "<p>41483 rows × 12 columns</p>\n",
              "</div>\n",
              "      <button class=\"colab-df-convert\" onclick=\"convertToInteractive('df-8cf8ed7c-6261-4119-8475-4c2337b36ff0')\"\n",
              "              title=\"Convert this dataframe to an interactive table.\"\n",
              "              style=\"display:none;\">\n",
              "        \n",
              "  <svg xmlns=\"http://www.w3.org/2000/svg\" height=\"24px\"viewBox=\"0 0 24 24\"\n",
              "       width=\"24px\">\n",
              "    <path d=\"M0 0h24v24H0V0z\" fill=\"none\"/>\n",
              "    <path d=\"M18.56 5.44l.94 2.06.94-2.06 2.06-.94-2.06-.94-.94-2.06-.94 2.06-2.06.94zm-11 1L8.5 8.5l.94-2.06 2.06-.94-2.06-.94L8.5 2.5l-.94 2.06-2.06.94zm10 10l.94 2.06.94-2.06 2.06-.94-2.06-.94-.94-2.06-.94 2.06-2.06.94z\"/><path d=\"M17.41 7.96l-1.37-1.37c-.4-.4-.92-.59-1.43-.59-.52 0-1.04.2-1.43.59L10.3 9.45l-7.72 7.72c-.78.78-.78 2.05 0 2.83L4 21.41c.39.39.9.59 1.41.59.51 0 1.02-.2 1.41-.59l7.78-7.78 2.81-2.81c.8-.78.8-2.07 0-2.86zM5.41 20L4 18.59l7.72-7.72 1.47 1.35L5.41 20z\"/>\n",
              "  </svg>\n",
              "      </button>\n",
              "      \n",
              "  <style>\n",
              "    .colab-df-container {\n",
              "      display:flex;\n",
              "      flex-wrap:wrap;\n",
              "      gap: 12px;\n",
              "    }\n",
              "\n",
              "    .colab-df-convert {\n",
              "      background-color: #E8F0FE;\n",
              "      border: none;\n",
              "      border-radius: 50%;\n",
              "      cursor: pointer;\n",
              "      display: none;\n",
              "      fill: #1967D2;\n",
              "      height: 32px;\n",
              "      padding: 0 0 0 0;\n",
              "      width: 32px;\n",
              "    }\n",
              "\n",
              "    .colab-df-convert:hover {\n",
              "      background-color: #E2EBFA;\n",
              "      box-shadow: 0px 1px 2px rgba(60, 64, 67, 0.3), 0px 1px 3px 1px rgba(60, 64, 67, 0.15);\n",
              "      fill: #174EA6;\n",
              "    }\n",
              "\n",
              "    [theme=dark] .colab-df-convert {\n",
              "      background-color: #3B4455;\n",
              "      fill: #D2E3FC;\n",
              "    }\n",
              "\n",
              "    [theme=dark] .colab-df-convert:hover {\n",
              "      background-color: #434B5C;\n",
              "      box-shadow: 0px 1px 3px 1px rgba(0, 0, 0, 0.15);\n",
              "      filter: drop-shadow(0px 1px 2px rgba(0, 0, 0, 0.3));\n",
              "      fill: #FFFFFF;\n",
              "    }\n",
              "  </style>\n",
              "\n",
              "      <script>\n",
              "        const buttonEl =\n",
              "          document.querySelector('#df-8cf8ed7c-6261-4119-8475-4c2337b36ff0 button.colab-df-convert');\n",
              "        buttonEl.style.display =\n",
              "          google.colab.kernel.accessAllowed ? 'block' : 'none';\n",
              "\n",
              "        async function convertToInteractive(key) {\n",
              "          const element = document.querySelector('#df-8cf8ed7c-6261-4119-8475-4c2337b36ff0');\n",
              "          const dataTable =\n",
              "            await google.colab.kernel.invokeFunction('convertToInteractive',\n",
              "                                                     [key], {});\n",
              "          if (!dataTable) return;\n",
              "\n",
              "          const docLinkHtml = 'Like what you see? Visit the ' +\n",
              "            '<a target=\"_blank\" href=https://colab.research.google.com/notebooks/data_table.ipynb>data table notebook</a>'\n",
              "            + ' to learn more about interactive tables.';\n",
              "          element.innerHTML = '';\n",
              "          dataTable['output_type'] = 'display_data';\n",
              "          await google.colab.output.renderOutput(dataTable, element);\n",
              "          const docLink = document.createElement('div');\n",
              "          docLink.innerHTML = docLinkHtml;\n",
              "          element.appendChild(docLink);\n",
              "        }\n",
              "      </script>\n",
              "    </div>\n",
              "  </div>\n",
              "  "
            ]
          },
          "metadata": {},
          "execution_count": 41
        }
      ],
      "source": [
        "df.query('power >= 501 | power <= 30')"
      ]
    },
    {
      "cell_type": "markdown",
      "metadata": {
        "id": "jCc75xmLvFNC"
      },
      "source": [
        "Собственно, все значения попавшие в данный диапазон предлагается заменить средним для определенной модели и коробки. Напишем еще одну функцию для замены значений."
      ]
    },
    {
      "cell_type": "code",
      "execution_count": 42,
      "metadata": {
        "id": "zB1J8KD1vFND"
      },
      "outputs": [],
      "source": [
        "def replace_zero (table, column_fill, column_search):\n",
        "    '''\n",
        "    Функция на вход принимает таблицу table, формирует series_to_fill, содержащий в колонке \n",
        "    column_fill пустые значения для строк, где значения column_search присутствуют. Далее \n",
        "    идет поиск значения для заполнения пропусков\n",
        "    '''\n",
        "    for number in [30, 501]:\n",
        "        if number == 30:\n",
        "            \n",
        "            # формируем список моделей с пропущенными значениями, за исключением other\n",
        "            list_unique = table.loc[table[column_fill] < number, column_search].unique()\n",
        "            list_unique = np.setdiff1d(list_unique,['other'])\n",
        "\n",
        "            for gearbox in ['auto', 'manual']: # цикл для одного вида коробки\n",
        "                temp_all_model = table.loc[table['gearbox'] == gearbox, :]\n",
        "                                \n",
        "                for i in range(len(list_unique)): # цикл по всем моделям\n",
        "                    # создаем времянный срез, содержащий значение для заполнения пропусков\n",
        "                    temp_one_model = temp_all_model.loc[temp_all_model[column_search] == list_unique[i], :]\n",
        "                    # условие если нет такой модели и коробки в природе\n",
        "                    if temp_one_model.shape[0] == 0:\n",
        "                        continue\n",
        "                    # условие если все значения маленькие для данной модели\n",
        "                    elif temp_one_model[temp_one_model[column_fill] > number][column_fill].count() == 0:\n",
        "                        continue\n",
        "                    else:\n",
        "                        # поиск значения для заполнения\n",
        "                        value_for_replace = round(temp_one_model.loc[temp_one_model[column_fill] >= number, column_fill].mean())\n",
        "                        table.loc[((table['gearbox'] == gearbox) &  # замена значения в исходной таблице\n",
        "                                   (table[column_fill] < number) &  \n",
        "                                   (table[column_search] == list_unique[i])), column_fill] = value_for_replace\n",
        "                    \n",
        "        if number == 501:\n",
        "            \n",
        "            # формируем список моделей с пропущенными значениями, за исключением other\n",
        "            list_unique = table.loc[table[column_fill] > number, column_search].unique()\n",
        "            list_unique = np.setdiff1d(list_unique,['other'])\n",
        "\n",
        "            for gearbox in ['auto', 'manual']: # цикл для одного вида коробки\n",
        "                temp_all_model = table.loc[table['gearbox'] == gearbox, :]\n",
        "                \n",
        "                for i in range(len(list_unique)): # цикл по всем моделям\n",
        "                    # создаем времянный срез, содержащий значение для заполнения пропусков\n",
        "                    temp_one_model = temp_all_model.loc[temp_all_model[column_search] == list_unique[i], :]  \n",
        "                    # условие ели нет такой модели и коробки в природе\n",
        "                    if temp_one_model.shape[0] == 0:\n",
        "                        continue\n",
        "                    # условие если все значения большие для данной модели\n",
        "                    elif temp_one_model[temp_one_model[column_fill] < number][column_fill].count() == 0:\n",
        "                        continue\n",
        "                    else:\n",
        "                        # поиск значения для заполнения\n",
        "                        value_for_replace = round(temp_one_model.loc[temp_one_model[column_fill] <= number, column_fill].mean()) \n",
        "                        table.loc[((table['gearbox'] == gearbox) &  # замена значения в исходной таблице\n",
        "                                   (table[column_fill] > number) &  \n",
        "                                   (table[column_search] == list_unique[i])), column_fill] = value_for_replace"
      ]
    },
    {
      "cell_type": "code",
      "execution_count": 43,
      "metadata": {
        "id": "Xr3j7m1NvFND"
      },
      "outputs": [],
      "source": [
        "replace_zero(df, 'power', 'model')"
      ]
    },
    {
      "cell_type": "markdown",
      "metadata": {
        "id": "JQCM0hTfvFNE"
      },
      "source": [
        "Проверим, что осталось после нашей функции"
      ]
    },
    {
      "cell_type": "code",
      "execution_count": 44,
      "metadata": {
        "id": "u91jUfkwvFNE",
        "outputId": "a9dd94a2-ed4d-4ac1-f38a-42e856c5f011",
        "colab": {
          "base_uri": "https://localhost:8080/",
          "height": 424
        }
      },
      "outputs": [
        {
          "output_type": "execute_result",
          "data": {
            "text/plain": [
              "        price vehicle_type  gearbox  power  model  kilometer fuel_type  \\\n",
              "115         0        small  unknown      0  other       5000    petrol   \n",
              "154         0        other  unknown      0  other       5000   unknown   \n",
              "160       500        small   manual      0  other     150000    petrol   \n",
              "162       300        small   manual      0  other     150000    petrol   \n",
              "177       300          bus   manual      0  other     150000    petrol   \n",
              "...       ...          ...      ...    ...    ...        ...       ...   \n",
              "353991   1500        other  unknown      0  other     150000   unknown   \n",
              "354045    790        other   manual      0  other     150000    petrol   \n",
              "354131   5990          bus     auto      0  other      70000    petrol   \n",
              "354167    180        other  unknown      0  other     125000    petrol   \n",
              "354194   2200        other  unknown      0  other      20000   unknown   \n",
              "\n",
              "                 brand not_repaired date_created  number_of_pictures  \\\n",
              "115         volkswagen          NaN   2016-03-20                   0   \n",
              "154               fiat          NaN   2016-03-22                   0   \n",
              "160            renault           no   2016-03-19                   0   \n",
              "162         mitsubishi          NaN   2016-03-30                   0   \n",
              "177               opel          NaN   2016-03-22                   0   \n",
              "...                ...          ...          ...                 ...   \n",
              "353991      volkswagen          NaN   2016-03-07                   0   \n",
              "354045         renault          NaN   2016-03-19                   0   \n",
              "354131       chevrolet          NaN   2016-03-12                   0   \n",
              "354167            opel          NaN   2016-03-31                   0   \n",
              "354194  sonstige_autos          NaN   2016-03-14                   0   \n",
              "\n",
              "       registration_date  \n",
              "115           1999-01-01  \n",
              "154           2006-01-01  \n",
              "160           1999-01-01  \n",
              "162           1994-07-01  \n",
              "177           1997-07-01  \n",
              "...                  ...  \n",
              "353991        1995-01-01  \n",
              "354045        1990-01-01  \n",
              "354131        1984-04-01  \n",
              "354167        1995-03-01  \n",
              "354194        2005-01-01  \n",
              "\n",
              "[9995 rows x 12 columns]"
            ],
            "text/html": [
              "\n",
              "  <div id=\"df-c2e4e397-2ddf-487c-be4b-f0579e86c6b9\">\n",
              "    <div class=\"colab-df-container\">\n",
              "      <div>\n",
              "<style scoped>\n",
              "    .dataframe tbody tr th:only-of-type {\n",
              "        vertical-align: middle;\n",
              "    }\n",
              "\n",
              "    .dataframe tbody tr th {\n",
              "        vertical-align: top;\n",
              "    }\n",
              "\n",
              "    .dataframe thead th {\n",
              "        text-align: right;\n",
              "    }\n",
              "</style>\n",
              "<table border=\"1\" class=\"dataframe\">\n",
              "  <thead>\n",
              "    <tr style=\"text-align: right;\">\n",
              "      <th></th>\n",
              "      <th>price</th>\n",
              "      <th>vehicle_type</th>\n",
              "      <th>gearbox</th>\n",
              "      <th>power</th>\n",
              "      <th>model</th>\n",
              "      <th>kilometer</th>\n",
              "      <th>fuel_type</th>\n",
              "      <th>brand</th>\n",
              "      <th>not_repaired</th>\n",
              "      <th>date_created</th>\n",
              "      <th>number_of_pictures</th>\n",
              "      <th>registration_date</th>\n",
              "    </tr>\n",
              "  </thead>\n",
              "  <tbody>\n",
              "    <tr>\n",
              "      <th>115</th>\n",
              "      <td>0</td>\n",
              "      <td>small</td>\n",
              "      <td>unknown</td>\n",
              "      <td>0</td>\n",
              "      <td>other</td>\n",
              "      <td>5000</td>\n",
              "      <td>petrol</td>\n",
              "      <td>volkswagen</td>\n",
              "      <td>NaN</td>\n",
              "      <td>2016-03-20</td>\n",
              "      <td>0</td>\n",
              "      <td>1999-01-01</td>\n",
              "    </tr>\n",
              "    <tr>\n",
              "      <th>154</th>\n",
              "      <td>0</td>\n",
              "      <td>other</td>\n",
              "      <td>unknown</td>\n",
              "      <td>0</td>\n",
              "      <td>other</td>\n",
              "      <td>5000</td>\n",
              "      <td>unknown</td>\n",
              "      <td>fiat</td>\n",
              "      <td>NaN</td>\n",
              "      <td>2016-03-22</td>\n",
              "      <td>0</td>\n",
              "      <td>2006-01-01</td>\n",
              "    </tr>\n",
              "    <tr>\n",
              "      <th>160</th>\n",
              "      <td>500</td>\n",
              "      <td>small</td>\n",
              "      <td>manual</td>\n",
              "      <td>0</td>\n",
              "      <td>other</td>\n",
              "      <td>150000</td>\n",
              "      <td>petrol</td>\n",
              "      <td>renault</td>\n",
              "      <td>no</td>\n",
              "      <td>2016-03-19</td>\n",
              "      <td>0</td>\n",
              "      <td>1999-01-01</td>\n",
              "    </tr>\n",
              "    <tr>\n",
              "      <th>162</th>\n",
              "      <td>300</td>\n",
              "      <td>small</td>\n",
              "      <td>manual</td>\n",
              "      <td>0</td>\n",
              "      <td>other</td>\n",
              "      <td>150000</td>\n",
              "      <td>petrol</td>\n",
              "      <td>mitsubishi</td>\n",
              "      <td>NaN</td>\n",
              "      <td>2016-03-30</td>\n",
              "      <td>0</td>\n",
              "      <td>1994-07-01</td>\n",
              "    </tr>\n",
              "    <tr>\n",
              "      <th>177</th>\n",
              "      <td>300</td>\n",
              "      <td>bus</td>\n",
              "      <td>manual</td>\n",
              "      <td>0</td>\n",
              "      <td>other</td>\n",
              "      <td>150000</td>\n",
              "      <td>petrol</td>\n",
              "      <td>opel</td>\n",
              "      <td>NaN</td>\n",
              "      <td>2016-03-22</td>\n",
              "      <td>0</td>\n",
              "      <td>1997-07-01</td>\n",
              "    </tr>\n",
              "    <tr>\n",
              "      <th>...</th>\n",
              "      <td>...</td>\n",
              "      <td>...</td>\n",
              "      <td>...</td>\n",
              "      <td>...</td>\n",
              "      <td>...</td>\n",
              "      <td>...</td>\n",
              "      <td>...</td>\n",
              "      <td>...</td>\n",
              "      <td>...</td>\n",
              "      <td>...</td>\n",
              "      <td>...</td>\n",
              "      <td>...</td>\n",
              "    </tr>\n",
              "    <tr>\n",
              "      <th>353991</th>\n",
              "      <td>1500</td>\n",
              "      <td>other</td>\n",
              "      <td>unknown</td>\n",
              "      <td>0</td>\n",
              "      <td>other</td>\n",
              "      <td>150000</td>\n",
              "      <td>unknown</td>\n",
              "      <td>volkswagen</td>\n",
              "      <td>NaN</td>\n",
              "      <td>2016-03-07</td>\n",
              "      <td>0</td>\n",
              "      <td>1995-01-01</td>\n",
              "    </tr>\n",
              "    <tr>\n",
              "      <th>354045</th>\n",
              "      <td>790</td>\n",
              "      <td>other</td>\n",
              "      <td>manual</td>\n",
              "      <td>0</td>\n",
              "      <td>other</td>\n",
              "      <td>150000</td>\n",
              "      <td>petrol</td>\n",
              "      <td>renault</td>\n",
              "      <td>NaN</td>\n",
              "      <td>2016-03-19</td>\n",
              "      <td>0</td>\n",
              "      <td>1990-01-01</td>\n",
              "    </tr>\n",
              "    <tr>\n",
              "      <th>354131</th>\n",
              "      <td>5990</td>\n",
              "      <td>bus</td>\n",
              "      <td>auto</td>\n",
              "      <td>0</td>\n",
              "      <td>other</td>\n",
              "      <td>70000</td>\n",
              "      <td>petrol</td>\n",
              "      <td>chevrolet</td>\n",
              "      <td>NaN</td>\n",
              "      <td>2016-03-12</td>\n",
              "      <td>0</td>\n",
              "      <td>1984-04-01</td>\n",
              "    </tr>\n",
              "    <tr>\n",
              "      <th>354167</th>\n",
              "      <td>180</td>\n",
              "      <td>other</td>\n",
              "      <td>unknown</td>\n",
              "      <td>0</td>\n",
              "      <td>other</td>\n",
              "      <td>125000</td>\n",
              "      <td>petrol</td>\n",
              "      <td>opel</td>\n",
              "      <td>NaN</td>\n",
              "      <td>2016-03-31</td>\n",
              "      <td>0</td>\n",
              "      <td>1995-03-01</td>\n",
              "    </tr>\n",
              "    <tr>\n",
              "      <th>354194</th>\n",
              "      <td>2200</td>\n",
              "      <td>other</td>\n",
              "      <td>unknown</td>\n",
              "      <td>0</td>\n",
              "      <td>other</td>\n",
              "      <td>20000</td>\n",
              "      <td>unknown</td>\n",
              "      <td>sonstige_autos</td>\n",
              "      <td>NaN</td>\n",
              "      <td>2016-03-14</td>\n",
              "      <td>0</td>\n",
              "      <td>2005-01-01</td>\n",
              "    </tr>\n",
              "  </tbody>\n",
              "</table>\n",
              "<p>9995 rows × 12 columns</p>\n",
              "</div>\n",
              "      <button class=\"colab-df-convert\" onclick=\"convertToInteractive('df-c2e4e397-2ddf-487c-be4b-f0579e86c6b9')\"\n",
              "              title=\"Convert this dataframe to an interactive table.\"\n",
              "              style=\"display:none;\">\n",
              "        \n",
              "  <svg xmlns=\"http://www.w3.org/2000/svg\" height=\"24px\"viewBox=\"0 0 24 24\"\n",
              "       width=\"24px\">\n",
              "    <path d=\"M0 0h24v24H0V0z\" fill=\"none\"/>\n",
              "    <path d=\"M18.56 5.44l.94 2.06.94-2.06 2.06-.94-2.06-.94-.94-2.06-.94 2.06-2.06.94zm-11 1L8.5 8.5l.94-2.06 2.06-.94-2.06-.94L8.5 2.5l-.94 2.06-2.06.94zm10 10l.94 2.06.94-2.06 2.06-.94-2.06-.94-.94-2.06-.94 2.06-2.06.94z\"/><path d=\"M17.41 7.96l-1.37-1.37c-.4-.4-.92-.59-1.43-.59-.52 0-1.04.2-1.43.59L10.3 9.45l-7.72 7.72c-.78.78-.78 2.05 0 2.83L4 21.41c.39.39.9.59 1.41.59.51 0 1.02-.2 1.41-.59l7.78-7.78 2.81-2.81c.8-.78.8-2.07 0-2.86zM5.41 20L4 18.59l7.72-7.72 1.47 1.35L5.41 20z\"/>\n",
              "  </svg>\n",
              "      </button>\n",
              "      \n",
              "  <style>\n",
              "    .colab-df-container {\n",
              "      display:flex;\n",
              "      flex-wrap:wrap;\n",
              "      gap: 12px;\n",
              "    }\n",
              "\n",
              "    .colab-df-convert {\n",
              "      background-color: #E8F0FE;\n",
              "      border: none;\n",
              "      border-radius: 50%;\n",
              "      cursor: pointer;\n",
              "      display: none;\n",
              "      fill: #1967D2;\n",
              "      height: 32px;\n",
              "      padding: 0 0 0 0;\n",
              "      width: 32px;\n",
              "    }\n",
              "\n",
              "    .colab-df-convert:hover {\n",
              "      background-color: #E2EBFA;\n",
              "      box-shadow: 0px 1px 2px rgba(60, 64, 67, 0.3), 0px 1px 3px 1px rgba(60, 64, 67, 0.15);\n",
              "      fill: #174EA6;\n",
              "    }\n",
              "\n",
              "    [theme=dark] .colab-df-convert {\n",
              "      background-color: #3B4455;\n",
              "      fill: #D2E3FC;\n",
              "    }\n",
              "\n",
              "    [theme=dark] .colab-df-convert:hover {\n",
              "      background-color: #434B5C;\n",
              "      box-shadow: 0px 1px 3px 1px rgba(0, 0, 0, 0.15);\n",
              "      filter: drop-shadow(0px 1px 2px rgba(0, 0, 0, 0.3));\n",
              "      fill: #FFFFFF;\n",
              "    }\n",
              "  </style>\n",
              "\n",
              "      <script>\n",
              "        const buttonEl =\n",
              "          document.querySelector('#df-c2e4e397-2ddf-487c-be4b-f0579e86c6b9 button.colab-df-convert');\n",
              "        buttonEl.style.display =\n",
              "          google.colab.kernel.accessAllowed ? 'block' : 'none';\n",
              "\n",
              "        async function convertToInteractive(key) {\n",
              "          const element = document.querySelector('#df-c2e4e397-2ddf-487c-be4b-f0579e86c6b9');\n",
              "          const dataTable =\n",
              "            await google.colab.kernel.invokeFunction('convertToInteractive',\n",
              "                                                     [key], {});\n",
              "          if (!dataTable) return;\n",
              "\n",
              "          const docLinkHtml = 'Like what you see? Visit the ' +\n",
              "            '<a target=\"_blank\" href=https://colab.research.google.com/notebooks/data_table.ipynb>data table notebook</a>'\n",
              "            + ' to learn more about interactive tables.';\n",
              "          element.innerHTML = '';\n",
              "          dataTable['output_type'] = 'display_data';\n",
              "          await google.colab.output.renderOutput(dataTable, element);\n",
              "          const docLink = document.createElement('div');\n",
              "          docLink.innerHTML = docLinkHtml;\n",
              "          element.appendChild(docLink);\n",
              "        }\n",
              "      </script>\n",
              "    </div>\n",
              "  </div>\n",
              "  "
            ]
          },
          "metadata": {},
          "execution_count": 44
        }
      ],
      "source": [
        "df.query('power >= 501 | power <= 30')"
      ]
    },
    {
      "cell_type": "markdown",
      "metadata": {
        "id": "X2z_Oz3FvFNF"
      },
      "source": [
        "Удалим оставшиеся значения, так как не может быть мощность двигателя 0 или больше 500 л.с."
      ]
    },
    {
      "cell_type": "code",
      "execution_count": 45,
      "metadata": {
        "id": "YZeZ8PTmvFNF"
      },
      "outputs": [],
      "source": [
        "list_to_delete = df.query('power >= 501 | power <= 30').index"
      ]
    },
    {
      "cell_type": "code",
      "execution_count": 46,
      "metadata": {
        "id": "db1y-zoBvFNF"
      },
      "outputs": [],
      "source": [
        "df = df.drop(list_to_delete).reset_index(drop=True)"
      ]
    },
    {
      "cell_type": "markdown",
      "metadata": {
        "id": "V0KWPY6WvFNG"
      },
      "source": [
        "#### kilometer"
      ]
    },
    {
      "cell_type": "code",
      "execution_count": 47,
      "metadata": {
        "id": "XRVzdgAIvFNG",
        "outputId": "eeeba0a1-8f5a-4f2b-dba5-b07cf201ab0f",
        "colab": {
          "base_uri": "https://localhost:8080/",
          "height": 282
        }
      },
      "outputs": [
        {
          "output_type": "execute_result",
          "data": {
            "text/plain": [
              "<matplotlib.axes._subplots.AxesSubplot at 0x7f0c10198d90>"
            ]
          },
          "metadata": {},
          "execution_count": 47
        },
        {
          "output_type": "display_data",
          "data": {
            "text/plain": [
              "<Figure size 432x288 with 1 Axes>"
            ],
            "image/png": "[encoded data removed]"
          },
          "metadata": {
            "needs_background": "light"
          }
        }
      ],
      "source": [
        "df['kilometer'].hist()"
      ]
    },
    {
      "cell_type": "code",
      "execution_count": 48,
      "metadata": {
        "id": "cnS6u6GavFNG",
        "outputId": "a1647fdb-d86e-47e3-ecc0-aa0872d34825",
        "colab": {
          "base_uri": "https://localhost:8080/"
        }
      },
      "outputs": [
        {
          "output_type": "execute_result",
          "data": {
            "text/plain": [
              "count    344203.000000\n",
              "mean     128798.877407\n",
              "std       37033.159481\n",
              "min        5000.000000\n",
              "25%      125000.000000\n",
              "50%      150000.000000\n",
              "75%      150000.000000\n",
              "max      150000.000000\n",
              "Name: kilometer, dtype: float64"
            ]
          },
          "metadata": {},
          "execution_count": 48
        }
      ],
      "source": [
        "df['kilometer'].describe()"
      ]
    },
    {
      "cell_type": "code",
      "execution_count": 49,
      "metadata": {
        "id": "7Emqh1GSvFNH",
        "outputId": "c5fb738d-ccf1-4c0b-bc0e-15ef569419aa",
        "colab": {
          "base_uri": "https://localhost:8080/"
        }
      },
      "outputs": [
        {
          "output_type": "execute_result",
          "data": {
            "text/plain": [
              "0"
            ]
          },
          "metadata": {},
          "execution_count": 49
        }
      ],
      "source": [
        "df['kilometer'].isna().sum()"
      ]
    },
    {
      "cell_type": "markdown",
      "metadata": {
        "id": "zddeV-RHvFNH"
      },
      "source": [
        "На лицо явный перекос значений, такого распределения не может быть. Думаю оно связано, с ограничением сайта объявлений на максимально вводимое значения для пройденого километража, в нашем случае это 150 000 км. Очень жаль, что так получилось, потому что это важный признак для стоимости машины. Оставим его как есть."
      ]
    },
    {
      "cell_type": "markdown",
      "metadata": {
        "id": "Q2Pb0CYGvFNH"
      },
      "source": [
        "#### not_repaired"
      ]
    },
    {
      "cell_type": "code",
      "execution_count": 50,
      "metadata": {
        "id": "uV-h2JqSvFNH",
        "outputId": "edd73cb6-ce5a-450c-de84-0b380b000152",
        "colab": {
          "base_uri": "https://localhost:8080/"
        }
      },
      "outputs": [
        {
          "output_type": "execute_result",
          "data": {
            "text/plain": [
              "no     244190\n",
              "NaN     65085\n",
              "yes     34928\n",
              "Name: not_repaired, dtype: int64"
            ]
          },
          "metadata": {},
          "execution_count": 50
        }
      ],
      "source": [
        "df['not_repaired'].value_counts(dropna=False)"
      ]
    },
    {
      "cell_type": "markdown",
      "metadata": {
        "id": "WVma8C2gvFNI"
      },
      "source": [
        "Пропуски в данном столбце точно ни как не получится заполнить, и так как признак категориальный, то расширим диапазон значений, заполнив пропуски значением `unknow`"
      ]
    },
    {
      "cell_type": "code",
      "execution_count": 51,
      "metadata": {
        "id": "KqraKCabvFNI"
      },
      "outputs": [],
      "source": [
        "df['not_repaired'] = df['not_repaired'].fillna('unknown')"
      ]
    },
    {
      "cell_type": "markdown",
      "metadata": {
        "id": "HHZWyf6nvFNI"
      },
      "source": [
        "#### number_of_pictures"
      ]
    },
    {
      "cell_type": "code",
      "execution_count": 52,
      "metadata": {
        "id": "Dt4UlFaHvFNJ",
        "outputId": "6406f7dd-46c5-4f62-ff4a-45a6ddf1e753",
        "colab": {
          "base_uri": "https://localhost:8080/"
        }
      },
      "outputs": [
        {
          "output_type": "execute_result",
          "data": {
            "text/plain": [
              "0    344203\n",
              "Name: number_of_pictures, dtype: int64"
            ]
          },
          "metadata": {},
          "execution_count": 52
        }
      ],
      "source": [
        "df['number_of_pictures'].value_counts(dropna=False)"
      ]
    },
    {
      "cell_type": "markdown",
      "metadata": {
        "id": "01WxTTR_vFNJ"
      },
      "source": [
        "Удалим данный столбец, так как ни какой полезной информации он не несет"
      ]
    },
    {
      "cell_type": "code",
      "execution_count": 53,
      "metadata": {
        "id": "p6Oq6xmUvFNJ"
      },
      "outputs": [],
      "source": [
        "df = df.drop(['number_of_pictures'], axis=1)"
      ]
    },
    {
      "cell_type": "markdown",
      "metadata": {
        "id": "1sCAB2gMvFNK"
      },
      "source": [
        "#### price"
      ]
    },
    {
      "cell_type": "code",
      "execution_count": 54,
      "metadata": {
        "id": "N6NJZuk9vFNK",
        "outputId": "2971e7b2-ebbe-4005-cffc-f5499b146fa4",
        "colab": {
          "base_uri": "https://localhost:8080/"
        }
      },
      "outputs": [
        {
          "output_type": "execute_result",
          "data": {
            "text/plain": [
              "count    344203.000000\n",
              "mean       4481.432503\n",
              "std        4526.093329\n",
              "min           0.000000\n",
              "25%        1100.000000\n",
              "50%        2800.000000\n",
              "75%        6500.000000\n",
              "max       20000.000000\n",
              "Name: price, dtype: float64"
            ]
          },
          "metadata": {},
          "execution_count": 54
        }
      ],
      "source": [
        "df['price'].describe()"
      ]
    },
    {
      "cell_type": "markdown",
      "metadata": {
        "id": "Qmtve_LWvFNL"
      },
      "source": [
        "Нулевой цены или около нулевой не может быть, проверим данные строки"
      ]
    },
    {
      "cell_type": "code",
      "execution_count": 55,
      "metadata": {
        "id": "_oN6B4KPvFNL",
        "outputId": "70152304-8076-4e76-8e48-ebf9095590a0",
        "colab": {
          "base_uri": "https://localhost:8080/"
        }
      },
      "outputs": [
        {
          "output_type": "execute_result",
          "data": {
            "text/plain": [
              "0.03525535802999974"
            ]
          },
          "metadata": {},
          "execution_count": 55
        }
      ],
      "source": [
        "df[df['price'] <= 100]['price'].count() / len(df['price'])"
      ]
    },
    {
      "cell_type": "markdown",
      "metadata": {
        "id": "kYTxTum4vFNL"
      },
      "source": [
        "3,5% в рамках допустимого, поэтому предлагается удалить эти данные"
      ]
    },
    {
      "cell_type": "code",
      "execution_count": 56,
      "metadata": {
        "id": "yeJPHDM-vFNL"
      },
      "outputs": [],
      "source": [
        "df = df.drop(index=df[df['price'] <= 100]['price'].index).reset_index(drop=True)"
      ]
    },
    {
      "cell_type": "code",
      "execution_count": 57,
      "metadata": {
        "scrolled": true,
        "id": "Te_69pIkvFNM",
        "outputId": "97cf9fa4-cc87-4a5e-f96a-607845f8735d",
        "colab": {
          "base_uri": "https://localhost:8080/",
          "height": 282
        }
      },
      "outputs": [
        {
          "output_type": "execute_result",
          "data": {
            "text/plain": [
              "<matplotlib.axes._subplots.AxesSubplot at 0x7f0c100d94d0>"
            ]
          },
          "metadata": {},
          "execution_count": 57
        },
        {
          "output_type": "display_data",
          "data": {
            "text/plain": [
              "<Figure size 432x288 with 1 Axes>"
            ],
            "image/png": "[encoded data removed]"
          },
          "metadata": {
            "needs_background": "light"
          }
        }
      ],
      "source": [
        "df['price'].hist(bins=30)"
      ]
    },
    {
      "cell_type": "code",
      "execution_count": 58,
      "metadata": {
        "id": "DJz9EUoyvFNM",
        "outputId": "6cd5985f-1781-4014-b2a1-d948e79b91b1",
        "colab": {
          "base_uri": "https://localhost:8080/"
        }
      },
      "outputs": [
        {
          "output_type": "stream",
          "name": "stdout",
          "text": [
            "<class 'pandas.core.frame.DataFrame'>\n",
            "RangeIndex: 332068 entries, 0 to 332067\n",
            "Data columns (total 11 columns):\n",
            " #   Column             Non-Null Count   Dtype         \n",
            "---  ------             --------------   -----         \n",
            " 0   price              332068 non-null  int64         \n",
            " 1   vehicle_type       332068 non-null  object        \n",
            " 2   gearbox            332068 non-null  object        \n",
            " 3   power              332068 non-null  int64         \n",
            " 4   model              332068 non-null  object        \n",
            " 5   kilometer          332068 non-null  int64         \n",
            " 6   fuel_type          332068 non-null  object        \n",
            " 7   brand              332068 non-null  object        \n",
            " 8   not_repaired       332068 non-null  object        \n",
            " 9   date_created       332068 non-null  datetime64[ns]\n",
            " 10  registration_date  332068 non-null  datetime64[ns]\n",
            "dtypes: datetime64[ns](2), int64(3), object(6)\n",
            "memory usage: 27.9+ MB\n"
          ]
        }
      ],
      "source": [
        "df.info()"
      ]
    },
    {
      "cell_type": "markdown",
      "metadata": {
        "id": "l-PBD5ypvFNM"
      },
      "source": [
        "---"
      ]
    },
    {
      "cell_type": "markdown",
      "metadata": {
        "id": "LWwQKLenvFNM"
      },
      "source": [
        "Последний шаг - проверим на дубликаты"
      ]
    },
    {
      "cell_type": "code",
      "execution_count": 59,
      "metadata": {
        "id": "YiJnyiJzvFNM",
        "outputId": "d9258b4f-690e-4fbf-83f3-5bf037b391a0",
        "colab": {
          "base_uri": "https://localhost:8080/"
        }
      },
      "outputs": [
        {
          "output_type": "execute_result",
          "data": {
            "text/plain": [
              "11657"
            ]
          },
          "metadata": {},
          "execution_count": 59
        }
      ],
      "source": [
        "df.duplicated().sum()"
      ]
    },
    {
      "cell_type": "code",
      "execution_count": 60,
      "metadata": {
        "id": "XnvY4cs5vFNN"
      },
      "outputs": [],
      "source": [
        "df = df.drop_duplicates().reset_index(drop = True)"
      ]
    },
    {
      "cell_type": "markdown",
      "metadata": {
        "id": "06wxWktFvFNN"
      },
      "source": [
        "#### Вывод"
      ]
    },
    {
      "cell_type": "markdown",
      "metadata": {
        "id": "panbYCg3vFNN"
      },
      "source": [
        "Подготовили данные, а именно - удалили ненужные столбцы, объединили столбцы с датой, заполнили пропуски, исправили выбросы. Остались последние манипуляции по подготовке данных - это разбиение на трейн, тест выборки; масшатбирование количественных признаков, преобразование категориальных признаков."
      ]
    },
    {
      "cell_type": "markdown",
      "metadata": {
        "id": "HiaYhpDBvFNO"
      },
      "source": [
        "### Подготовка данных для обучения"
      ]
    },
    {
      "cell_type": "markdown",
      "metadata": {
        "id": "xCbgsfUsvFNO"
      },
      "source": [
        "Так как в разные алгоритым будем подавать разные наборы данных, то обозначим их индексами 1 и 2. Данные с индексом 1 подготовим для алгоритма LinearRegression & RandomForest с индексом 2 для остальных."
      ]
    },
    {
      "cell_type": "code",
      "execution_count": 61,
      "metadata": {
        "id": "-JYM3ZlnvFNO"
      },
      "outputs": [],
      "source": [
        "df_1 = df.copy()\n",
        "df_2 = df.copy()"
      ]
    },
    {
      "cell_type": "markdown",
      "metadata": {
        "id": "jUB8aBscvFNP"
      },
      "source": [
        "#### Преобразование категориальных столбцов и столбцов Даты"
      ]
    },
    {
      "cell_type": "code",
      "execution_count": 62,
      "metadata": {
        "id": "98cWgFKvvFNP",
        "outputId": "029f6179-6c1a-4af0-9f51-c6e2f90ca439",
        "colab": {
          "base_uri": "https://localhost:8080/"
        }
      },
      "outputs": [
        {
          "output_type": "stream",
          "name": "stdout",
          "text": [
            "<class 'pandas.core.frame.DataFrame'>\n",
            "RangeIndex: 320411 entries, 0 to 320410\n",
            "Data columns (total 11 columns):\n",
            " #   Column             Non-Null Count   Dtype         \n",
            "---  ------             --------------   -----         \n",
            " 0   price              320411 non-null  int64         \n",
            " 1   vehicle_type       320411 non-null  object        \n",
            " 2   gearbox            320411 non-null  object        \n",
            " 3   power              320411 non-null  int64         \n",
            " 4   model              320411 non-null  object        \n",
            " 5   kilometer          320411 non-null  int64         \n",
            " 6   fuel_type          320411 non-null  object        \n",
            " 7   brand              320411 non-null  object        \n",
            " 8   not_repaired       320411 non-null  object        \n",
            " 9   date_created       320411 non-null  datetime64[ns]\n",
            " 10  registration_date  320411 non-null  datetime64[ns]\n",
            "dtypes: datetime64[ns](2), int64(3), object(6)\n",
            "memory usage: 26.9+ MB\n"
          ]
        }
      ],
      "source": [
        "df_2.info()"
      ]
    },
    {
      "cell_type": "code",
      "execution_count": 63,
      "metadata": {
        "id": "-312VdRYvFNQ"
      },
      "outputs": [],
      "source": [
        "cat_data = ['vehicle_type','gearbox', 'model', 'fuel_type', 'brand', 'not_repaired']"
      ]
    },
    {
      "cell_type": "markdown",
      "metadata": {
        "id": "U4xzgDo_vFNQ"
      },
      "source": [
        "Преобразуем категориальные признаки"
      ]
    },
    {
      "cell_type": "code",
      "execution_count": 64,
      "metadata": {
        "id": "P-C2dfP9vFNR"
      },
      "outputs": [],
      "source": [
        "df_1 = pd.get_dummies(data=df_1,columns=cat_data, drop_first=True)"
      ]
    },
    {
      "cell_type": "code",
      "execution_count": 65,
      "metadata": {
        "id": "jbjGLO2TvFNR"
      },
      "outputs": [],
      "source": [
        "df_2[cat_data] = df_2[cat_data].astype('category')"
      ]
    },
    {
      "cell_type": "markdown",
      "metadata": {
        "id": "Dzj_4bgmvFNR"
      },
      "source": [
        "Так как столбцы с типом ДАТА нельзя напрямую подать в модели, поэтому преобразуем данные столбцы в численные значения, и масштабируем их вместе количественными столбцами"
      ]
    },
    {
      "cell_type": "code",
      "execution_count": 66,
      "metadata": {
        "id": "AoBTXDPsvFNS"
      },
      "outputs": [],
      "source": [
        "# Change data columns\n",
        "temp_list = df_1['registration_date'].to_list()\n",
        "temp_list = np.array(fa.datetimeToFloatyear(temp_list)) # for example, 2020-07-01 becomes 2020.49589041\n",
        "df_1['registration_date'] = temp_list\n",
        "# Change data columns\n",
        "temp_list = df_2['registration_date'].to_list()\n",
        "temp_list = np.array(fa.datetimeToFloatyear(temp_list)) # for example, 2020-07-01 becomes 2020.49589041\n",
        "df_2['registration_date'] = temp_list"
      ]
    },
    {
      "cell_type": "code",
      "execution_count": 67,
      "metadata": {
        "id": "gz0e9cBFvFNS"
      },
      "outputs": [],
      "source": [
        "# Change data columns\n",
        "temp_list = df_1['date_created'].to_list()\n",
        "temp_list = np.array(fa.datetimeToFloatyear(temp_list)) # for example, 2020-07-01 becomes 2020.49589041\n",
        "df_1['date_created'] = temp_list\n",
        "# Change data columns\n",
        "temp_list = df_2['date_created'].to_list()\n",
        "temp_list = np.array(fa.datetimeToFloatyear(temp_list)) # for example, 2020-07-01 becomes 2020.49589041\n",
        "df_2['date_created'] = temp_list"
      ]
    },
    {
      "cell_type": "code",
      "execution_count": 68,
      "metadata": {
        "id": "OrGOBxJXvFNT"
      },
      "outputs": [],
      "source": [
        "num_data = ['power','kilometer', 'date_created', 'registration_date']"
      ]
    },
    {
      "cell_type": "code",
      "execution_count": 69,
      "metadata": {
        "id": "1TypGX7gvFNT",
        "outputId": "a6ea2c6c-3dcb-4b8a-862a-65d107dd3889",
        "colab": {
          "base_uri": "https://localhost:8080/"
        }
      },
      "outputs": [
        {
          "output_type": "stream",
          "name": "stdout",
          "text": [
            "<class 'pandas.core.frame.DataFrame'>\n",
            "RangeIndex: 320411 entries, 0 to 320410\n",
            "Columns: 309 entries, price to not_repaired_yes\n",
            "dtypes: float64(2), int64(3), uint8(304)\n",
            "memory usage: 105.1 MB\n"
          ]
        }
      ],
      "source": [
        "df_1.info()"
      ]
    },
    {
      "cell_type": "code",
      "execution_count": 70,
      "metadata": {
        "id": "dl5IhseSvFNU",
        "outputId": "2415d9d2-864d-41e0-c11b-a2035eecf2aa",
        "colab": {
          "base_uri": "https://localhost:8080/"
        }
      },
      "outputs": [
        {
          "output_type": "stream",
          "name": "stdout",
          "text": [
            "<class 'pandas.core.frame.DataFrame'>\n",
            "RangeIndex: 320411 entries, 0 to 320410\n",
            "Data columns (total 11 columns):\n",
            " #   Column             Non-Null Count   Dtype   \n",
            "---  ------             --------------   -----   \n",
            " 0   price              320411 non-null  int64   \n",
            " 1   vehicle_type       320411 non-null  category\n",
            " 2   gearbox            320411 non-null  category\n",
            " 3   power              320411 non-null  int64   \n",
            " 4   model              320411 non-null  category\n",
            " 5   kilometer          320411 non-null  int64   \n",
            " 6   fuel_type          320411 non-null  category\n",
            " 7   brand              320411 non-null  category\n",
            " 8   not_repaired       320411 non-null  category\n",
            " 9   date_created       320411 non-null  float64 \n",
            " 10  registration_date  320411 non-null  float64 \n",
            "dtypes: category(6), float64(2), int64(3)\n",
            "memory usage: 14.4 MB\n"
          ]
        }
      ],
      "source": [
        "df_2.info()"
      ]
    },
    {
      "cell_type": "markdown",
      "metadata": {
        "id": "L8pAz50kvFNU"
      },
      "source": [
        "#### Разбиение на подвыборки"
      ]
    },
    {
      "cell_type": "markdown",
      "metadata": {
        "id": "hLxY75ddvFNU"
      },
      "source": [
        "Разобьем выборку на две части: тренировочную (75%) и тестовую (25%)"
      ]
    },
    {
      "cell_type": "code",
      "execution_count": 71,
      "metadata": {
        "id": "QZ0cHg1lvFNV"
      },
      "outputs": [],
      "source": [
        "df_train_1, df_test_1 = train_test_split(df_1, test_size=0.25, random_state=101)\n",
        "df_train_2, df_test_2 = train_test_split(df_2, test_size=0.25, random_state=101)"
      ]
    },
    {
      "cell_type": "markdown",
      "metadata": {
        "id": "Ws8z4oN7vFNV"
      },
      "source": [
        "Проверка"
      ]
    },
    {
      "cell_type": "code",
      "execution_count": 72,
      "metadata": {
        "id": "Ev66j54FvFNV",
        "outputId": "1bf77b13-fc04-43ee-c465-36af376c2dfe",
        "colab": {
          "base_uri": "https://localhost:8080/",
          "height": 86
        }
      },
      "outputs": [
        {
          "output_type": "display_data",
          "data": {
            "text/plain": [
              "(240308, 309)"
            ]
          },
          "metadata": {}
        },
        {
          "output_type": "display_data",
          "data": {
            "text/plain": [
              "(80103, 309)"
            ]
          },
          "metadata": {}
        },
        {
          "output_type": "display_data",
          "data": {
            "text/plain": [
              "(240308, 11)"
            ]
          },
          "metadata": {}
        },
        {
          "output_type": "display_data",
          "data": {
            "text/plain": [
              "(80103, 11)"
            ]
          },
          "metadata": {}
        }
      ],
      "source": [
        "display(df_train_1.shape)\n",
        "display(df_test_1.shape)\n",
        "display(df_train_2.shape)\n",
        "display(df_test_2.shape)"
      ]
    },
    {
      "cell_type": "markdown",
      "metadata": {
        "id": "sl1cJY-pvFNW"
      },
      "source": [
        "Данные для обучения"
      ]
    },
    {
      "cell_type": "code",
      "execution_count": 73,
      "metadata": {
        "id": "OHcobaLQvFNW"
      },
      "outputs": [],
      "source": [
        "features_train_1 = df_train_1.drop(['price'], axis=1)\n",
        "target_train_1 = df_train_1['price']\n",
        "features_train_2 = df_train_2.drop(['price'], axis=1)\n",
        "target_train_2 = df_train_2['price']"
      ]
    },
    {
      "cell_type": "markdown",
      "metadata": {
        "id": "1en7l3qZvFNX"
      },
      "source": [
        "Данные для тестирования"
      ]
    },
    {
      "cell_type": "code",
      "execution_count": 74,
      "metadata": {
        "id": "MUSrgaXdvFNX"
      },
      "outputs": [],
      "source": [
        "features_test_1 = df_test_1.drop(['price'], axis=1)\n",
        "target_test_1 = df_test_1['price']\n",
        "features_test_2 = df_test_2.drop(['price'], axis=1)\n",
        "target_test_2 = df_test_2['price']"
      ]
    },
    {
      "cell_type": "markdown",
      "metadata": {
        "id": "ghMwTfdevFNX"
      },
      "source": [
        "#### Преобразование количественных столбцов"
      ]
    },
    {
      "cell_type": "markdown",
      "metadata": {
        "id": "XidKainpvFNY"
      },
      "source": [
        "Масштабируем количественные признаки"
      ]
    },
    {
      "cell_type": "code",
      "execution_count": 75,
      "metadata": {
        "id": "i5Ir86PqvFNY"
      },
      "outputs": [],
      "source": [
        "scaler = StandardScaler()\n",
        "scaler.fit(features_train_1[num_data]) \n",
        "features_train_1[num_data] = scaler.transform(features_train_1[num_data])\n",
        "features_test_1[num_data] = scaler.transform(features_test_1[num_data])\n",
        "features_train_2[num_data] = scaler.transform(features_train_2[num_data])\n",
        "features_test_2[num_data] = scaler.transform(features_test_2[num_data])"
      ]
    },
    {
      "cell_type": "markdown",
      "metadata": {
        "id": "_FlcabUlvFNY"
      },
      "source": [
        "### Вывод"
      ]
    },
    {
      "cell_type": "markdown",
      "metadata": {
        "id": "jEW50EP8vFNZ"
      },
      "source": [
        "Произвели полную подготовку данных для обучения, теперь перейдем к поиску лучшей и быстрейшей модели"
      ]
    },
    {
      "cell_type": "markdown",
      "metadata": {
        "id": "mIrJV7YwvFNZ"
      },
      "source": [
        "## Обучение моделей"
      ]
    },
    {
      "cell_type": "markdown",
      "metadata": {
        "id": "bbH39buBvFNa"
      },
      "source": [
        "Будем рассматривать 4 вида моделей: LinearRegression, RandomForest, CatBoost, LightGBM. В качестве метрики будет **RMSE**. Сначала с помощью **GridSearchCV** найдем оптимальные параметры, выбирем лучшие модели и далее будем оценивать их по показетелю метрики и потраченному времени на обучение и предсказание."
      ]
    },
    {
      "cell_type": "markdown",
      "metadata": {
        "id": "d7BZ3ZO0vFNa"
      },
      "source": [
        "Так как в самой простой модели LinearRegression, нет параметров для настройки, их поиск осуществлять не будем."
      ]
    },
    {
      "cell_type": "markdown",
      "metadata": {
        "id": "nJk7IJjlvFNa"
      },
      "source": [
        "### Модель - RandomForest"
      ]
    },
    {
      "cell_type": "code",
      "execution_count": 76,
      "metadata": {
        "id": "RtGKuCmnvFNb"
      },
      "outputs": [],
      "source": [
        "result_df = pd.DataFrame(columns=['RMSE', 'R2'])\n",
        "result_df.index.name='name_ml'"
      ]
    },
    {
      "cell_type": "code",
      "execution_count": 77,
      "metadata": {
        "scrolled": true,
        "id": "NdFBCKWgvFNb",
        "outputId": "ec2c0692-1cc7-4d42-e603-a82ca33bfa9b",
        "colab": {
          "base_uri": "https://localhost:8080/",
          "height": 216
        }
      },
      "outputs": [
        {
          "output_type": "stream",
          "name": "stdout",
          "text": [
            "Best parameters set found on development set:\n",
            "{'max_depth': 4, 'n_estimators': 60}\n",
            "\n",
            "******************************************************************************************\n"
          ]
        },
        {
          "output_type": "display_data",
          "data": {
            "text/plain": [
              "                 RMSE    R2\n",
              "name_ml                    \n",
              "RandomForest  2643.12  0.66"
            ],
            "text/html": [
              "\n",
              "  <div id=\"df-0a1663da-0527-4f1e-84f5-7836bd34d05d\">\n",
              "    <div class=\"colab-df-container\">\n",
              "      <div>\n",
              "<style scoped>\n",
              "    .dataframe tbody tr th:only-of-type {\n",
              "        vertical-align: middle;\n",
              "    }\n",
              "\n",
              "    .dataframe tbody tr th {\n",
              "        vertical-align: top;\n",
              "    }\n",
              "\n",
              "    .dataframe thead th {\n",
              "        text-align: right;\n",
              "    }\n",
              "</style>\n",
              "<table border=\"1\" class=\"dataframe\">\n",
              "  <thead>\n",
              "    <tr style=\"text-align: right;\">\n",
              "      <th></th>\n",
              "      <th>RMSE</th>\n",
              "      <th>R2</th>\n",
              "    </tr>\n",
              "    <tr>\n",
              "      <th>name_ml</th>\n",
              "      <th></th>\n",
              "      <th></th>\n",
              "    </tr>\n",
              "  </thead>\n",
              "  <tbody>\n",
              "    <tr>\n",
              "      <th>RandomForest</th>\n",
              "      <td>2643.12</td>\n",
              "      <td>0.66</td>\n",
              "    </tr>\n",
              "  </tbody>\n",
              "</table>\n",
              "</div>\n",
              "      <button class=\"colab-df-convert\" onclick=\"convertToInteractive('df-0a1663da-0527-4f1e-84f5-7836bd34d05d')\"\n",
              "              title=\"Convert this dataframe to an interactive table.\"\n",
              "              style=\"display:none;\">\n",
              "        \n",
              "  <svg xmlns=\"http://www.w3.org/2000/svg\" height=\"24px\"viewBox=\"0 0 24 24\"\n",
              "       width=\"24px\">\n",
              "    <path d=\"M0 0h24v24H0V0z\" fill=\"none\"/>\n",
              "    <path d=\"M18.56 5.44l.94 2.06.94-2.06 2.06-.94-2.06-.94-.94-2.06-.94 2.06-2.06.94zm-11 1L8.5 8.5l.94-2.06 2.06-.94-2.06-.94L8.5 2.5l-.94 2.06-2.06.94zm10 10l.94 2.06.94-2.06 2.06-.94-2.06-.94-.94-2.06-.94 2.06-2.06.94z\"/><path d=\"M17.41 7.96l-1.37-1.37c-.4-.4-.92-.59-1.43-.59-.52 0-1.04.2-1.43.59L10.3 9.45l-7.72 7.72c-.78.78-.78 2.05 0 2.83L4 21.41c.39.39.9.59 1.41.59.51 0 1.02-.2 1.41-.59l7.78-7.78 2.81-2.81c.8-.78.8-2.07 0-2.86zM5.41 20L4 18.59l7.72-7.72 1.47 1.35L5.41 20z\"/>\n",
              "  </svg>\n",
              "      </button>\n",
              "      \n",
              "  <style>\n",
              "    .colab-df-container {\n",
              "      display:flex;\n",
              "      flex-wrap:wrap;\n",
              "      gap: 12px;\n",
              "    }\n",
              "\n",
              "    .colab-df-convert {\n",
              "      background-color: #E8F0FE;\n",
              "      border: none;\n",
              "      border-radius: 50%;\n",
              "      cursor: pointer;\n",
              "      display: none;\n",
              "      fill: #1967D2;\n",
              "      height: 32px;\n",
              "      padding: 0 0 0 0;\n",
              "      width: 32px;\n",
              "    }\n",
              "\n",
              "    .colab-df-convert:hover {\n",
              "      background-color: #E2EBFA;\n",
              "      box-shadow: 0px 1px 2px rgba(60, 64, 67, 0.3), 0px 1px 3px 1px rgba(60, 64, 67, 0.15);\n",
              "      fill: #174EA6;\n",
              "    }\n",
              "\n",
              "    [theme=dark] .colab-df-convert {\n",
              "      background-color: #3B4455;\n",
              "      fill: #D2E3FC;\n",
              "    }\n",
              "\n",
              "    [theme=dark] .colab-df-convert:hover {\n",
              "      background-color: #434B5C;\n",
              "      box-shadow: 0px 1px 3px 1px rgba(0, 0, 0, 0.15);\n",
              "      filter: drop-shadow(0px 1px 2px rgba(0, 0, 0, 0.3));\n",
              "      fill: #FFFFFF;\n",
              "    }\n",
              "  </style>\n",
              "\n",
              "      <script>\n",
              "        const buttonEl =\n",
              "          document.querySelector('#df-0a1663da-0527-4f1e-84f5-7836bd34d05d button.colab-df-convert');\n",
              "        buttonEl.style.display =\n",
              "          google.colab.kernel.accessAllowed ? 'block' : 'none';\n",
              "\n",
              "        async function convertToInteractive(key) {\n",
              "          const element = document.querySelector('#df-0a1663da-0527-4f1e-84f5-7836bd34d05d');\n",
              "          const dataTable =\n",
              "            await google.colab.kernel.invokeFunction('convertToInteractive',\n",
              "                                                     [key], {});\n",
              "          if (!dataTable) return;\n",
              "\n",
              "          const docLinkHtml = 'Like what you see? Visit the ' +\n",
              "            '<a target=\"_blank\" href=https://colab.research.google.com/notebooks/data_table.ipynb>data table notebook</a>'\n",
              "            + ' to learn more about interactive tables.';\n",
              "          element.innerHTML = '';\n",
              "          dataTable['output_type'] = 'display_data';\n",
              "          await google.colab.output.renderOutput(dataTable, element);\n",
              "          const docLink = document.createElement('div');\n",
              "          docLink.innerHTML = docLinkHtml;\n",
              "          element.appendChild(docLink);\n",
              "        }\n",
              "      </script>\n",
              "    </div>\n",
              "  </div>\n",
              "  "
            ]
          },
          "metadata": {}
        },
        {
          "output_type": "stream",
          "name": "stdout",
          "text": [
            "CPU times: user 1min 34s, sys: 1.07 s, total: 1min 35s\n",
            "Wall time: 11min 44s\n"
          ]
        }
      ],
      "source": [
        "%%time\n",
        "#Время выполнения ячеки около 12 минут\n",
        "tuned_parameters = {\"n_estimators\": list(range(60,101,20)), \n",
        "                    \"max_depth\"   : list(range(2,5,1))}\n",
        "\n",
        "scoring = ('neg_root_mean_squared_error')\n",
        "rf_model = RandomForestRegressor(random_state=101)\n",
        "\n",
        "rand_forest = GridSearchCV(rf_model, param_grid=tuned_parameters, scoring=scoring, cv=2, n_jobs=-1)\n",
        "rand_forest.fit(features_train_1, target_train_1)\n",
        "print(\"Best parameters set found on development set:\")\n",
        "print(rand_forest.best_params_)\n",
        "print('')\n",
        "print('***'*30)\n",
        "rand_pred = rand_forest.predict(features_test_1)\n",
        "result_df.loc['RandomForest'] = [round(mean_squared_error(target_test_1, rand_pred, squared=False), 2), \n",
        "                                 round(r2_score(target_test_1, rand_pred), 2)]\n",
        "display(result_df)"
      ]
    },
    {
      "cell_type": "markdown",
      "metadata": {
        "id": "JYLorvGsvFNi"
      },
      "source": [
        "Дополниельно построим график \"Зависимости времени обучения от параметров модели\""
      ]
    },
    {
      "cell_type": "code",
      "execution_count": 78,
      "metadata": {
        "id": "yOJbV-xOvFNi",
        "outputId": "4eb85095-b06f-4b98-b4c0-a5409bcdcc7b",
        "colab": {
          "base_uri": "https://localhost:8080/",
          "height": 332
        }
      },
      "outputs": [
        {
          "output_type": "execute_result",
          "data": {
            "text/plain": [
              "   Ср.время обучения  Ср.время предсказания  Парам. Глубины  Кол-во деревьев\n",
              "0          31.631311               0.434898             2.0             60.0\n",
              "1          41.907028               0.488762             2.0             80.0\n",
              "2          51.809744               0.600171             2.0            100.0\n",
              "3          48.703421               0.545274             3.0             60.0\n",
              "4          66.613106               0.623325             3.0             80.0\n",
              "5          83.015251               0.767823             3.0            100.0\n",
              "6          69.324884               0.553742             4.0             60.0\n",
              "7          97.968976               0.681703             4.0             80.0\n",
              "8         115.648988               0.900402             4.0            100.0"
            ],
            "text/html": [
              "\n",
              "  <div id=\"df-109ae371-50b7-4800-8342-c495a10e0a08\">\n",
              "    <div class=\"colab-df-container\">\n",
              "      <div>\n",
              "<style scoped>\n",
              "    .dataframe tbody tr th:only-of-type {\n",
              "        vertical-align: middle;\n",
              "    }\n",
              "\n",
              "    .dataframe tbody tr th {\n",
              "        vertical-align: top;\n",
              "    }\n",
              "\n",
              "    .dataframe thead th {\n",
              "        text-align: right;\n",
              "    }\n",
              "</style>\n",
              "<table border=\"1\" class=\"dataframe\">\n",
              "  <thead>\n",
              "    <tr style=\"text-align: right;\">\n",
              "      <th></th>\n",
              "      <th>Ср.время обучения</th>\n",
              "      <th>Ср.время предсказания</th>\n",
              "      <th>Парам. Глубины</th>\n",
              "      <th>Кол-во деревьев</th>\n",
              "    </tr>\n",
              "  </thead>\n",
              "  <tbody>\n",
              "    <tr>\n",
              "      <th>0</th>\n",
              "      <td>31.631311</td>\n",
              "      <td>0.434898</td>\n",
              "      <td>2.0</td>\n",
              "      <td>60.0</td>\n",
              "    </tr>\n",
              "    <tr>\n",
              "      <th>1</th>\n",
              "      <td>41.907028</td>\n",
              "      <td>0.488762</td>\n",
              "      <td>2.0</td>\n",
              "      <td>80.0</td>\n",
              "    </tr>\n",
              "    <tr>\n",
              "      <th>2</th>\n",
              "      <td>51.809744</td>\n",
              "      <td>0.600171</td>\n",
              "      <td>2.0</td>\n",
              "      <td>100.0</td>\n",
              "    </tr>\n",
              "    <tr>\n",
              "      <th>3</th>\n",
              "      <td>48.703421</td>\n",
              "      <td>0.545274</td>\n",
              "      <td>3.0</td>\n",
              "      <td>60.0</td>\n",
              "    </tr>\n",
              "    <tr>\n",
              "      <th>4</th>\n",
              "      <td>66.613106</td>\n",
              "      <td>0.623325</td>\n",
              "      <td>3.0</td>\n",
              "      <td>80.0</td>\n",
              "    </tr>\n",
              "    <tr>\n",
              "      <th>5</th>\n",
              "      <td>83.015251</td>\n",
              "      <td>0.767823</td>\n",
              "      <td>3.0</td>\n",
              "      <td>100.0</td>\n",
              "    </tr>\n",
              "    <tr>\n",
              "      <th>6</th>\n",
              "      <td>69.324884</td>\n",
              "      <td>0.553742</td>\n",
              "      <td>4.0</td>\n",
              "      <td>60.0</td>\n",
              "    </tr>\n",
              "    <tr>\n",
              "      <th>7</th>\n",
              "      <td>97.968976</td>\n",
              "      <td>0.681703</td>\n",
              "      <td>4.0</td>\n",
              "      <td>80.0</td>\n",
              "    </tr>\n",
              "    <tr>\n",
              "      <th>8</th>\n",
              "      <td>115.648988</td>\n",
              "      <td>0.900402</td>\n",
              "      <td>4.0</td>\n",
              "      <td>100.0</td>\n",
              "    </tr>\n",
              "  </tbody>\n",
              "</table>\n",
              "</div>\n",
              "      <button class=\"colab-df-convert\" onclick=\"convertToInteractive('df-109ae371-50b7-4800-8342-c495a10e0a08')\"\n",
              "              title=\"Convert this dataframe to an interactive table.\"\n",
              "              style=\"display:none;\">\n",
              "        \n",
              "  <svg xmlns=\"http://www.w3.org/2000/svg\" height=\"24px\"viewBox=\"0 0 24 24\"\n",
              "       width=\"24px\">\n",
              "    <path d=\"M0 0h24v24H0V0z\" fill=\"none\"/>\n",
              "    <path d=\"M18.56 5.44l.94 2.06.94-2.06 2.06-.94-2.06-.94-.94-2.06-.94 2.06-2.06.94zm-11 1L8.5 8.5l.94-2.06 2.06-.94-2.06-.94L8.5 2.5l-.94 2.06-2.06.94zm10 10l.94 2.06.94-2.06 2.06-.94-2.06-.94-.94-2.06-.94 2.06-2.06.94z\"/><path d=\"M17.41 7.96l-1.37-1.37c-.4-.4-.92-.59-1.43-.59-.52 0-1.04.2-1.43.59L10.3 9.45l-7.72 7.72c-.78.78-.78 2.05 0 2.83L4 21.41c.39.39.9.59 1.41.59.51 0 1.02-.2 1.41-.59l7.78-7.78 2.81-2.81c.8-.78.8-2.07 0-2.86zM5.41 20L4 18.59l7.72-7.72 1.47 1.35L5.41 20z\"/>\n",
              "  </svg>\n",
              "      </button>\n",
              "      \n",
              "  <style>\n",
              "    .colab-df-container {\n",
              "      display:flex;\n",
              "      flex-wrap:wrap;\n",
              "      gap: 12px;\n",
              "    }\n",
              "\n",
              "    .colab-df-convert {\n",
              "      background-color: #E8F0FE;\n",
              "      border: none;\n",
              "      border-radius: 50%;\n",
              "      cursor: pointer;\n",
              "      display: none;\n",
              "      fill: #1967D2;\n",
              "      height: 32px;\n",
              "      padding: 0 0 0 0;\n",
              "      width: 32px;\n",
              "    }\n",
              "\n",
              "    .colab-df-convert:hover {\n",
              "      background-color: #E2EBFA;\n",
              "      box-shadow: 0px 1px 2px rgba(60, 64, 67, 0.3), 0px 1px 3px 1px rgba(60, 64, 67, 0.15);\n",
              "      fill: #174EA6;\n",
              "    }\n",
              "\n",
              "    [theme=dark] .colab-df-convert {\n",
              "      background-color: #3B4455;\n",
              "      fill: #D2E3FC;\n",
              "    }\n",
              "\n",
              "    [theme=dark] .colab-df-convert:hover {\n",
              "      background-color: #434B5C;\n",
              "      box-shadow: 0px 1px 3px 1px rgba(0, 0, 0, 0.15);\n",
              "      filter: drop-shadow(0px 1px 2px rgba(0, 0, 0, 0.3));\n",
              "      fill: #FFFFFF;\n",
              "    }\n",
              "  </style>\n",
              "\n",
              "      <script>\n",
              "        const buttonEl =\n",
              "          document.querySelector('#df-109ae371-50b7-4800-8342-c495a10e0a08 button.colab-df-convert');\n",
              "        buttonEl.style.display =\n",
              "          google.colab.kernel.accessAllowed ? 'block' : 'none';\n",
              "\n",
              "        async function convertToInteractive(key) {\n",
              "          const element = document.querySelector('#df-109ae371-50b7-4800-8342-c495a10e0a08');\n",
              "          const dataTable =\n",
              "            await google.colab.kernel.invokeFunction('convertToInteractive',\n",
              "                                                     [key], {});\n",
              "          if (!dataTable) return;\n",
              "\n",
              "          const docLinkHtml = 'Like what you see? Visit the ' +\n",
              "            '<a target=\"_blank\" href=https://colab.research.google.com/notebooks/data_table.ipynb>data table notebook</a>'\n",
              "            + ' to learn more about interactive tables.';\n",
              "          element.innerHTML = '';\n",
              "          dataTable['output_type'] = 'display_data';\n",
              "          await google.colab.output.renderOutput(dataTable, element);\n",
              "          const docLink = document.createElement('div');\n",
              "          docLink.innerHTML = docLinkHtml;\n",
              "          element.appendChild(docLink);\n",
              "        }\n",
              "      </script>\n",
              "    </div>\n",
              "  </div>\n",
              "  "
            ]
          },
          "metadata": {},
          "execution_count": 78
        }
      ],
      "source": [
        "RF_cv_results = pd.DataFrame(data=[rand_forest.cv_results_['mean_fit_time'],\n",
        "                                   rand_forest.cv_results_['mean_score_time'],\n",
        "                                   rand_forest.cv_results_['param_max_depth'].data,\n",
        "                                   rand_forest.cv_results_['param_n_estimators'].data]).T\n",
        "RF_cv_results.columns = ['Ср.время обучения', 'Ср.время предсказания', 'Парам. Глубины', 'Кол-во деревьев']\n",
        "RF_cv_results"
      ]
    },
    {
      "cell_type": "code",
      "execution_count": 79,
      "metadata": {
        "id": "cUKtYXaZvFNi",
        "outputId": "12558daa-a820-4802-b378-4bfeec3599b4",
        "colab": {
          "base_uri": "https://localhost:8080/",
          "height": 295
        }
      },
      "outputs": [
        {
          "output_type": "display_data",
          "data": {
            "text/plain": [
              "<Figure size 432x288 with 1 Axes>"
            ],
            "image/png": "[encoded data removed]"
          },
          "metadata": {
            "needs_background": "light"
          }
        }
      ],
      "source": [
        "plt.title('Зависимость времени обучения и предсказания от параметров модели')\n",
        "plt.xlabel('Параметр')\n",
        "plt.ylabel('Время')\n",
        "x=list(range(60,101,20))\n",
        "y1=list(RF_cv_results['Ср.время обучения'][:3])\n",
        "y2=list(RF_cv_results['Ср.время обучения'][3:6])\n",
        "y3=list(RF_cv_results['Ср.время обучения'][6:])\n",
        "plt.plot(x,y1, label='max_depth = 2')\n",
        "plt.plot(x,y2, label='max_depth = 3')\n",
        "plt.plot(x,y3, label='max_depth = 4')\n",
        "plt.legend(frameon=True)\n",
        "plt.grid()\n",
        "plt.show()"
      ]
    },
    {
      "cell_type": "markdown",
      "metadata": {
        "id": "7RHRNlXivFNj"
      },
      "source": [
        "Как видно из графика с увеличением количества деревьев время обучения увеличивается, а чем больше глубина, тем круче наклон прямой, то есть время обучения еще быстрее увеличивается."
      ]
    },
    {
      "cell_type": "markdown",
      "metadata": {
        "id": "mMPiMWwavFNj"
      },
      "source": [
        "### Модель - CatBoost"
      ]
    },
    {
      "cell_type": "markdown",
      "metadata": {
        "id": "TtJscQR-vFNj"
      },
      "source": [
        "Выделем категориальные признаки"
      ]
    },
    {
      "cell_type": "code",
      "execution_count": 80,
      "metadata": {
        "scrolled": true,
        "id": "TSRqrY2fvFNj",
        "outputId": "c46e368d-2df2-4293-8da4-fa1738862058",
        "colab": {
          "base_uri": "https://localhost:8080/",
          "height": 248
        }
      },
      "outputs": [
        {
          "output_type": "stream",
          "name": "stdout",
          "text": [
            "Best parameters set found on development set:\n",
            "{'depth': 10, 'iterations': 100}\n",
            "\n",
            "******************************************************************************************\n"
          ]
        },
        {
          "output_type": "display_data",
          "data": {
            "text/plain": [
              "                 RMSE    R2\n",
              "name_ml                    \n",
              "RandomForest  2643.12  0.66\n",
              "CatBoost      1623.51  0.87"
            ],
            "text/html": [
              "\n",
              "  <div id=\"df-05b5e895-50f0-40bb-8760-bee0f2f520a1\">\n",
              "    <div class=\"colab-df-container\">\n",
              "      <div>\n",
              "<style scoped>\n",
              "    .dataframe tbody tr th:only-of-type {\n",
              "        vertical-align: middle;\n",
              "    }\n",
              "\n",
              "    .dataframe tbody tr th {\n",
              "        vertical-align: top;\n",
              "    }\n",
              "\n",
              "    .dataframe thead th {\n",
              "        text-align: right;\n",
              "    }\n",
              "</style>\n",
              "<table border=\"1\" class=\"dataframe\">\n",
              "  <thead>\n",
              "    <tr style=\"text-align: right;\">\n",
              "      <th></th>\n",
              "      <th>RMSE</th>\n",
              "      <th>R2</th>\n",
              "    </tr>\n",
              "    <tr>\n",
              "      <th>name_ml</th>\n",
              "      <th></th>\n",
              "      <th></th>\n",
              "    </tr>\n",
              "  </thead>\n",
              "  <tbody>\n",
              "    <tr>\n",
              "      <th>RandomForest</th>\n",
              "      <td>2643.12</td>\n",
              "      <td>0.66</td>\n",
              "    </tr>\n",
              "    <tr>\n",
              "      <th>CatBoost</th>\n",
              "      <td>1623.51</td>\n",
              "      <td>0.87</td>\n",
              "    </tr>\n",
              "  </tbody>\n",
              "</table>\n",
              "</div>\n",
              "      <button class=\"colab-df-convert\" onclick=\"convertToInteractive('df-05b5e895-50f0-40bb-8760-bee0f2f520a1')\"\n",
              "              title=\"Convert this dataframe to an interactive table.\"\n",
              "              style=\"display:none;\">\n",
              "        \n",
              "  <svg xmlns=\"http://www.w3.org/2000/svg\" height=\"24px\"viewBox=\"0 0 24 24\"\n",
              "       width=\"24px\">\n",
              "    <path d=\"M0 0h24v24H0V0z\" fill=\"none\"/>\n",
              "    <path d=\"M18.56 5.44l.94 2.06.94-2.06 2.06-.94-2.06-.94-.94-2.06-.94 2.06-2.06.94zm-11 1L8.5 8.5l.94-2.06 2.06-.94-2.06-.94L8.5 2.5l-.94 2.06-2.06.94zm10 10l.94 2.06.94-2.06 2.06-.94-2.06-.94-.94-2.06-.94 2.06-2.06.94z\"/><path d=\"M17.41 7.96l-1.37-1.37c-.4-.4-.92-.59-1.43-.59-.52 0-1.04.2-1.43.59L10.3 9.45l-7.72 7.72c-.78.78-.78 2.05 0 2.83L4 21.41c.39.39.9.59 1.41.59.51 0 1.02-.2 1.41-.59l7.78-7.78 2.81-2.81c.8-.78.8-2.07 0-2.86zM5.41 20L4 18.59l7.72-7.72 1.47 1.35L5.41 20z\"/>\n",
              "  </svg>\n",
              "      </button>\n",
              "      \n",
              "  <style>\n",
              "    .colab-df-container {\n",
              "      display:flex;\n",
              "      flex-wrap:wrap;\n",
              "      gap: 12px;\n",
              "    }\n",
              "\n",
              "    .colab-df-convert {\n",
              "      background-color: #E8F0FE;\n",
              "      border: none;\n",
              "      border-radius: 50%;\n",
              "      cursor: pointer;\n",
              "      display: none;\n",
              "      fill: #1967D2;\n",
              "      height: 32px;\n",
              "      padding: 0 0 0 0;\n",
              "      width: 32px;\n",
              "    }\n",
              "\n",
              "    .colab-df-convert:hover {\n",
              "      background-color: #E2EBFA;\n",
              "      box-shadow: 0px 1px 2px rgba(60, 64, 67, 0.3), 0px 1px 3px 1px rgba(60, 64, 67, 0.15);\n",
              "      fill: #174EA6;\n",
              "    }\n",
              "\n",
              "    [theme=dark] .colab-df-convert {\n",
              "      background-color: #3B4455;\n",
              "      fill: #D2E3FC;\n",
              "    }\n",
              "\n",
              "    [theme=dark] .colab-df-convert:hover {\n",
              "      background-color: #434B5C;\n",
              "      box-shadow: 0px 1px 3px 1px rgba(0, 0, 0, 0.15);\n",
              "      filter: drop-shadow(0px 1px 2px rgba(0, 0, 0, 0.3));\n",
              "      fill: #FFFFFF;\n",
              "    }\n",
              "  </style>\n",
              "\n",
              "      <script>\n",
              "        const buttonEl =\n",
              "          document.querySelector('#df-05b5e895-50f0-40bb-8760-bee0f2f520a1 button.colab-df-convert');\n",
              "        buttonEl.style.display =\n",
              "          google.colab.kernel.accessAllowed ? 'block' : 'none';\n",
              "\n",
              "        async function convertToInteractive(key) {\n",
              "          const element = document.querySelector('#df-05b5e895-50f0-40bb-8760-bee0f2f520a1');\n",
              "          const dataTable =\n",
              "            await google.colab.kernel.invokeFunction('convertToInteractive',\n",
              "                                                     [key], {});\n",
              "          if (!dataTable) return;\n",
              "\n",
              "          const docLinkHtml = 'Like what you see? Visit the ' +\n",
              "            '<a target=\"_blank\" href=https://colab.research.google.com/notebooks/data_table.ipynb>data table notebook</a>'\n",
              "            + ' to learn more about interactive tables.';\n",
              "          element.innerHTML = '';\n",
              "          dataTable['output_type'] = 'display_data';\n",
              "          await google.colab.output.renderOutput(dataTable, element);\n",
              "          const docLink = document.createElement('div');\n",
              "          docLink.innerHTML = docLinkHtml;\n",
              "          element.appendChild(docLink);\n",
              "        }\n",
              "      </script>\n",
              "    </div>\n",
              "  </div>\n",
              "  "
            ]
          },
          "metadata": {}
        },
        {
          "output_type": "stream",
          "name": "stdout",
          "text": [
            "CPU times: user 33.4 s, sys: 784 ms, total: 34.2 s\n",
            "Wall time: 2min 5s\n"
          ]
        }
      ],
      "source": [
        "%%time\n",
        "#Время выполнения ячеки около 2 минут\n",
        "tuned_parameters = {'depth'         : [6,8,10],\n",
        "                    'iterations'    : list(range(60,101,20))\n",
        "                   }\n",
        "\n",
        "cat_model = cb.CatBoostRegressor(random_seed=101, \n",
        "                                 early_stopping_rounds=20, \n",
        "                                 loss_function = 'RMSE',\n",
        "                                 cat_features = cat_data,\n",
        "                                 silent=True)\n",
        "\n",
        "CBR = GridSearchCV(cat_model, param_grid=tuned_parameters, cv=2, n_jobs=-1)\n",
        "CBR.fit(features_train_2, target_train_2, eval_set=(features_test_2, target_test_2))\n",
        "\n",
        "print(\"Best parameters set found on development set:\")\n",
        "print(CBR.best_params_)\n",
        "print('')\n",
        "print('***'*30)\n",
        "cat_pred = CBR.predict(features_test_2)\n",
        "result_df.loc['CatBoost'] = [round(mean_squared_error(target_test_2, cat_pred, squared=False), 2), \n",
        "                                 round(r2_score(target_test_2, cat_pred), 2)]\n",
        "display(result_df)"
      ]
    },
    {
      "cell_type": "markdown",
      "metadata": {
        "id": "Q5Vik_1evFNk"
      },
      "source": [
        "Дополниельно построим график \"Зависимости времени обучения от параметров модели\""
      ]
    },
    {
      "cell_type": "code",
      "execution_count": 81,
      "metadata": {
        "id": "1tyRPxVTvFNk",
        "outputId": "511e091c-d0be-4aaf-88b1-42ef18c94281",
        "colab": {
          "base_uri": "https://localhost:8080/",
          "height": 332
        }
      },
      "outputs": [
        {
          "output_type": "execute_result",
          "data": {
            "text/plain": [
              "   Ср.время обучения  Ср.время предсказания  Парам. Глубины  Кол-во деревьев\n",
              "0           6.719495               0.196237             6.0             60.0\n",
              "1           8.401988               0.203418             6.0             80.0\n",
              "2          10.350692               0.214130             6.0            100.0\n",
              "3           8.850306               0.211669             8.0             60.0\n",
              "4          10.969969               0.227143             8.0             80.0\n",
              "5          14.047703               0.220290             8.0            100.0\n",
              "6          11.582977               0.241197            10.0             60.0\n",
              "7          14.997450               0.239998            10.0             80.0\n",
              "8          18.812773               0.206936            10.0            100.0"
            ],
            "text/html": [
              "\n",
              "  <div id=\"df-77f1ce3c-37e5-411b-aa8d-bb8f724620cb\">\n",
              "    <div class=\"colab-df-container\">\n",
              "      <div>\n",
              "<style scoped>\n",
              "    .dataframe tbody tr th:only-of-type {\n",
              "        vertical-align: middle;\n",
              "    }\n",
              "\n",
              "    .dataframe tbody tr th {\n",
              "        vertical-align: top;\n",
              "    }\n",
              "\n",
              "    .dataframe thead th {\n",
              "        text-align: right;\n",
              "    }\n",
              "</style>\n",
              "<table border=\"1\" class=\"dataframe\">\n",
              "  <thead>\n",
              "    <tr style=\"text-align: right;\">\n",
              "      <th></th>\n",
              "      <th>Ср.время обучения</th>\n",
              "      <th>Ср.время предсказания</th>\n",
              "      <th>Парам. Глубины</th>\n",
              "      <th>Кол-во деревьев</th>\n",
              "    </tr>\n",
              "  </thead>\n",
              "  <tbody>\n",
              "    <tr>\n",
              "      <th>0</th>\n",
              "      <td>6.719495</td>\n",
              "      <td>0.196237</td>\n",
              "      <td>6.0</td>\n",
              "      <td>60.0</td>\n",
              "    </tr>\n",
              "    <tr>\n",
              "      <th>1</th>\n",
              "      <td>8.401988</td>\n",
              "      <td>0.203418</td>\n",
              "      <td>6.0</td>\n",
              "      <td>80.0</td>\n",
              "    </tr>\n",
              "    <tr>\n",
              "      <th>2</th>\n",
              "      <td>10.350692</td>\n",
              "      <td>0.214130</td>\n",
              "      <td>6.0</td>\n",
              "      <td>100.0</td>\n",
              "    </tr>\n",
              "    <tr>\n",
              "      <th>3</th>\n",
              "      <td>8.850306</td>\n",
              "      <td>0.211669</td>\n",
              "      <td>8.0</td>\n",
              "      <td>60.0</td>\n",
              "    </tr>\n",
              "    <tr>\n",
              "      <th>4</th>\n",
              "      <td>10.969969</td>\n",
              "      <td>0.227143</td>\n",
              "      <td>8.0</td>\n",
              "      <td>80.0</td>\n",
              "    </tr>\n",
              "    <tr>\n",
              "      <th>5</th>\n",
              "      <td>14.047703</td>\n",
              "      <td>0.220290</td>\n",
              "      <td>8.0</td>\n",
              "      <td>100.0</td>\n",
              "    </tr>\n",
              "    <tr>\n",
              "      <th>6</th>\n",
              "      <td>11.582977</td>\n",
              "      <td>0.241197</td>\n",
              "      <td>10.0</td>\n",
              "      <td>60.0</td>\n",
              "    </tr>\n",
              "    <tr>\n",
              "      <th>7</th>\n",
              "      <td>14.997450</td>\n",
              "      <td>0.239998</td>\n",
              "      <td>10.0</td>\n",
              "      <td>80.0</td>\n",
              "    </tr>\n",
              "    <tr>\n",
              "      <th>8</th>\n",
              "      <td>18.812773</td>\n",
              "      <td>0.206936</td>\n",
              "      <td>10.0</td>\n",
              "      <td>100.0</td>\n",
              "    </tr>\n",
              "  </tbody>\n",
              "</table>\n",
              "</div>\n",
              "      <button class=\"colab-df-convert\" onclick=\"convertToInteractive('df-77f1ce3c-37e5-411b-aa8d-bb8f724620cb')\"\n",
              "              title=\"Convert this dataframe to an interactive table.\"\n",
              "              style=\"display:none;\">\n",
              "        \n",
              "  <svg xmlns=\"http://www.w3.org/2000/svg\" height=\"24px\"viewBox=\"0 0 24 24\"\n",
              "       width=\"24px\">\n",
              "    <path d=\"M0 0h24v24H0V0z\" fill=\"none\"/>\n",
              "    <path d=\"M18.56 5.44l.94 2.06.94-2.06 2.06-.94-2.06-.94-.94-2.06-.94 2.06-2.06.94zm-11 1L8.5 8.5l.94-2.06 2.06-.94-2.06-.94L8.5 2.5l-.94 2.06-2.06.94zm10 10l.94 2.06.94-2.06 2.06-.94-2.06-.94-.94-2.06-.94 2.06-2.06.94z\"/><path d=\"M17.41 7.96l-1.37-1.37c-.4-.4-.92-.59-1.43-.59-.52 0-1.04.2-1.43.59L10.3 9.45l-7.72 7.72c-.78.78-.78 2.05 0 2.83L4 21.41c.39.39.9.59 1.41.59.51 0 1.02-.2 1.41-.59l7.78-7.78 2.81-2.81c.8-.78.8-2.07 0-2.86zM5.41 20L4 18.59l7.72-7.72 1.47 1.35L5.41 20z\"/>\n",
              "  </svg>\n",
              "      </button>\n",
              "      \n",
              "  <style>\n",
              "    .colab-df-container {\n",
              "      display:flex;\n",
              "      flex-wrap:wrap;\n",
              "      gap: 12px;\n",
              "    }\n",
              "\n",
              "    .colab-df-convert {\n",
              "      background-color: #E8F0FE;\n",
              "      border: none;\n",
              "      border-radius: 50%;\n",
              "      cursor: pointer;\n",
              "      display: none;\n",
              "      fill: #1967D2;\n",
              "      height: 32px;\n",
              "      padding: 0 0 0 0;\n",
              "      width: 32px;\n",
              "    }\n",
              "\n",
              "    .colab-df-convert:hover {\n",
              "      background-color: #E2EBFA;\n",
              "      box-shadow: 0px 1px 2px rgba(60, 64, 67, 0.3), 0px 1px 3px 1px rgba(60, 64, 67, 0.15);\n",
              "      fill: #174EA6;\n",
              "    }\n",
              "\n",
              "    [theme=dark] .colab-df-convert {\n",
              "      background-color: #3B4455;\n",
              "      fill: #D2E3FC;\n",
              "    }\n",
              "\n",
              "    [theme=dark] .colab-df-convert:hover {\n",
              "      background-color: #434B5C;\n",
              "      box-shadow: 0px 1px 3px 1px rgba(0, 0, 0, 0.15);\n",
              "      filter: drop-shadow(0px 1px 2px rgba(0, 0, 0, 0.3));\n",
              "      fill: #FFFFFF;\n",
              "    }\n",
              "  </style>\n",
              "\n",
              "      <script>\n",
              "        const buttonEl =\n",
              "          document.querySelector('#df-77f1ce3c-37e5-411b-aa8d-bb8f724620cb button.colab-df-convert');\n",
              "        buttonEl.style.display =\n",
              "          google.colab.kernel.accessAllowed ? 'block' : 'none';\n",
              "\n",
              "        async function convertToInteractive(key) {\n",
              "          const element = document.querySelector('#df-77f1ce3c-37e5-411b-aa8d-bb8f724620cb');\n",
              "          const dataTable =\n",
              "            await google.colab.kernel.invokeFunction('convertToInteractive',\n",
              "                                                     [key], {});\n",
              "          if (!dataTable) return;\n",
              "\n",
              "          const docLinkHtml = 'Like what you see? Visit the ' +\n",
              "            '<a target=\"_blank\" href=https://colab.research.google.com/notebooks/data_table.ipynb>data table notebook</a>'\n",
              "            + ' to learn more about interactive tables.';\n",
              "          element.innerHTML = '';\n",
              "          dataTable['output_type'] = 'display_data';\n",
              "          await google.colab.output.renderOutput(dataTable, element);\n",
              "          const docLink = document.createElement('div');\n",
              "          docLink.innerHTML = docLinkHtml;\n",
              "          element.appendChild(docLink);\n",
              "        }\n",
              "      </script>\n",
              "    </div>\n",
              "  </div>\n",
              "  "
            ]
          },
          "metadata": {},
          "execution_count": 81
        }
      ],
      "source": [
        "CBR_cv_results = pd.DataFrame(data=[CBR.cv_results_['mean_fit_time'],\n",
        "                                   CBR.cv_results_['mean_score_time'],\n",
        "                                   CBR.cv_results_['param_depth'].data,\n",
        "                                   CBR.cv_results_['param_iterations'].data]).T\n",
        "CBR_cv_results.columns = ['Ср.время обучения', 'Ср.время предсказания', 'Парам. Глубины', 'Кол-во деревьев']\n",
        "CBR_cv_results"
      ]
    },
    {
      "cell_type": "code",
      "execution_count": 82,
      "metadata": {
        "id": "clyMuKAzvFNl",
        "outputId": "9b5a6a4c-da9f-4591-b403-e6daae65eac5",
        "colab": {
          "base_uri": "https://localhost:8080/",
          "height": 295
        }
      },
      "outputs": [
        {
          "output_type": "display_data",
          "data": {
            "text/plain": [
              "<Figure size 432x288 with 1 Axes>"
            ],
            "image/png": "[encoded data removed]"
          },
          "metadata": {
            "needs_background": "light"
          }
        }
      ],
      "source": [
        "plt.title('Зависимость времени обучения и предсказания от параметров модели')\n",
        "plt.xlabel('Параметр')\n",
        "plt.ylabel('Время')\n",
        "x=list(range(60,101,20))\n",
        "y1=list(CBR_cv_results['Ср.время обучения'][:3])\n",
        "y2=list(CBR_cv_results['Ср.время обучения'][3:6])\n",
        "y3=list(CBR_cv_results['Ср.время обучения'][6:])\n",
        "plt.plot(x,y1, label='depth = 6')\n",
        "plt.plot(x,y2, label='depth = 8')\n",
        "plt.plot(x,y3, label='depth = 10')\n",
        "plt.legend(frameon=True)\n",
        "plt.grid()\n",
        "plt.show()"
      ]
    },
    {
      "cell_type": "markdown",
      "metadata": {
        "id": "Bh9_RTYTvFNl"
      },
      "source": [
        "По данной модели можно сделать аналогичные выводы, за исключением того что нет явного различия в углах наклона прямых. То есть время обучения для различной глубины деревьев будет одинаково расти для одних и тех же значений количества деревьев. Плюс на данном графике видно, что время обучение в два раза меньше по сравнению с моделью Random Forest."
      ]
    },
    {
      "cell_type": "markdown",
      "metadata": {
        "id": "TYZnS6lqvFNl"
      },
      "source": [
        "### Модель - LightGBM"
      ]
    },
    {
      "cell_type": "code",
      "execution_count": 83,
      "metadata": {
        "scrolled": true,
        "id": "igdT7ukIvFNm",
        "outputId": "b4761323-6eb3-4198-f72f-34ca7cf848f4",
        "colab": {
          "base_uri": "https://localhost:8080/",
          "height": 279
        }
      },
      "outputs": [
        {
          "output_type": "stream",
          "name": "stdout",
          "text": [
            "Best parameters set found on development set:\n",
            "{'max_depth': 10, 'n_estimators': 100}\n",
            "\n",
            "******************************************************************************************\n"
          ]
        },
        {
          "output_type": "display_data",
          "data": {
            "text/plain": [
              "                 RMSE    R2\n",
              "name_ml                    \n",
              "RandomForest  2643.12  0.66\n",
              "CatBoost      1623.51  0.87\n",
              "LGB           1636.76  0.87"
            ],
            "text/html": [
              "\n",
              "  <div id=\"df-773982aa-f404-4612-ac79-1ffcceeb0734\">\n",
              "    <div class=\"colab-df-container\">\n",
              "      <div>\n",
              "<style scoped>\n",
              "    .dataframe tbody tr th:only-of-type {\n",
              "        vertical-align: middle;\n",
              "    }\n",
              "\n",
              "    .dataframe tbody tr th {\n",
              "        vertical-align: top;\n",
              "    }\n",
              "\n",
              "    .dataframe thead th {\n",
              "        text-align: right;\n",
              "    }\n",
              "</style>\n",
              "<table border=\"1\" class=\"dataframe\">\n",
              "  <thead>\n",
              "    <tr style=\"text-align: right;\">\n",
              "      <th></th>\n",
              "      <th>RMSE</th>\n",
              "      <th>R2</th>\n",
              "    </tr>\n",
              "    <tr>\n",
              "      <th>name_ml</th>\n",
              "      <th></th>\n",
              "      <th></th>\n",
              "    </tr>\n",
              "  </thead>\n",
              "  <tbody>\n",
              "    <tr>\n",
              "      <th>RandomForest</th>\n",
              "      <td>2643.12</td>\n",
              "      <td>0.66</td>\n",
              "    </tr>\n",
              "    <tr>\n",
              "      <th>CatBoost</th>\n",
              "      <td>1623.51</td>\n",
              "      <td>0.87</td>\n",
              "    </tr>\n",
              "    <tr>\n",
              "      <th>LGB</th>\n",
              "      <td>1636.76</td>\n",
              "      <td>0.87</td>\n",
              "    </tr>\n",
              "  </tbody>\n",
              "</table>\n",
              "</div>\n",
              "      <button class=\"colab-df-convert\" onclick=\"convertToInteractive('df-773982aa-f404-4612-ac79-1ffcceeb0734')\"\n",
              "              title=\"Convert this dataframe to an interactive table.\"\n",
              "              style=\"display:none;\">\n",
              "        \n",
              "  <svg xmlns=\"http://www.w3.org/2000/svg\" height=\"24px\"viewBox=\"0 0 24 24\"\n",
              "       width=\"24px\">\n",
              "    <path d=\"M0 0h24v24H0V0z\" fill=\"none\"/>\n",
              "    <path d=\"M18.56 5.44l.94 2.06.94-2.06 2.06-.94-2.06-.94-.94-2.06-.94 2.06-2.06.94zm-11 1L8.5 8.5l.94-2.06 2.06-.94-2.06-.94L8.5 2.5l-.94 2.06-2.06.94zm10 10l.94 2.06.94-2.06 2.06-.94-2.06-.94-.94-2.06-.94 2.06-2.06.94z\"/><path d=\"M17.41 7.96l-1.37-1.37c-.4-.4-.92-.59-1.43-.59-.52 0-1.04.2-1.43.59L10.3 9.45l-7.72 7.72c-.78.78-.78 2.05 0 2.83L4 21.41c.39.39.9.59 1.41.59.51 0 1.02-.2 1.41-.59l7.78-7.78 2.81-2.81c.8-.78.8-2.07 0-2.86zM5.41 20L4 18.59l7.72-7.72 1.47 1.35L5.41 20z\"/>\n",
              "  </svg>\n",
              "      </button>\n",
              "      \n",
              "  <style>\n",
              "    .colab-df-container {\n",
              "      display:flex;\n",
              "      flex-wrap:wrap;\n",
              "      gap: 12px;\n",
              "    }\n",
              "\n",
              "    .colab-df-convert {\n",
              "      background-color: #E8F0FE;\n",
              "      border: none;\n",
              "      border-radius: 50%;\n",
              "      cursor: pointer;\n",
              "      display: none;\n",
              "      fill: #1967D2;\n",
              "      height: 32px;\n",
              "      padding: 0 0 0 0;\n",
              "      width: 32px;\n",
              "    }\n",
              "\n",
              "    .colab-df-convert:hover {\n",
              "      background-color: #E2EBFA;\n",
              "      box-shadow: 0px 1px 2px rgba(60, 64, 67, 0.3), 0px 1px 3px 1px rgba(60, 64, 67, 0.15);\n",
              "      fill: #174EA6;\n",
              "    }\n",
              "\n",
              "    [theme=dark] .colab-df-convert {\n",
              "      background-color: #3B4455;\n",
              "      fill: #D2E3FC;\n",
              "    }\n",
              "\n",
              "    [theme=dark] .colab-df-convert:hover {\n",
              "      background-color: #434B5C;\n",
              "      box-shadow: 0px 1px 3px 1px rgba(0, 0, 0, 0.15);\n",
              "      filter: drop-shadow(0px 1px 2px rgba(0, 0, 0, 0.3));\n",
              "      fill: #FFFFFF;\n",
              "    }\n",
              "  </style>\n",
              "\n",
              "      <script>\n",
              "        const buttonEl =\n",
              "          document.querySelector('#df-773982aa-f404-4612-ac79-1ffcceeb0734 button.colab-df-convert');\n",
              "        buttonEl.style.display =\n",
              "          google.colab.kernel.accessAllowed ? 'block' : 'none';\n",
              "\n",
              "        async function convertToInteractive(key) {\n",
              "          const element = document.querySelector('#df-773982aa-f404-4612-ac79-1ffcceeb0734');\n",
              "          const dataTable =\n",
              "            await google.colab.kernel.invokeFunction('convertToInteractive',\n",
              "                                                     [key], {});\n",
              "          if (!dataTable) return;\n",
              "\n",
              "          const docLinkHtml = 'Like what you see? Visit the ' +\n",
              "            '<a target=\"_blank\" href=https://colab.research.google.com/notebooks/data_table.ipynb>data table notebook</a>'\n",
              "            + ' to learn more about interactive tables.';\n",
              "          element.innerHTML = '';\n",
              "          dataTable['output_type'] = 'display_data';\n",
              "          await google.colab.output.renderOutput(dataTable, element);\n",
              "          const docLink = document.createElement('div');\n",
              "          docLink.innerHTML = docLinkHtml;\n",
              "          element.appendChild(docLink);\n",
              "        }\n",
              "      </script>\n",
              "    </div>\n",
              "  </div>\n",
              "  "
            ]
          },
          "metadata": {}
        },
        {
          "output_type": "stream",
          "name": "stdout",
          "text": [
            "CPU times: user 7.46 s, sys: 223 ms, total: 7.68 s\n",
            "Wall time: 36.5 s\n"
          ]
        }
      ],
      "source": [
        "%%time\n",
        "#Время выполнения ячеки около 1 минуты\n",
        "tuned_parameters = {'max_depth'         : [6,8,10],\n",
        "                    'n_estimators'      : list(range(60,101,20))\n",
        "                   }\n",
        "\n",
        "lgb_model = lgb.LGBMRegressor(metric ='rmse', \n",
        "                              random_state=101,\n",
        "                              feature_fraction=0.8, #LightGBM will select 80% of features before training each tree\n",
        "                              bagging_fraction=0.8, #like feature_fraction, but this will randomly select part of data \n",
        "                                                    #without resampling\n",
        "                              bagging_freq=5)       #frequency for bagging, 0 means disable bagging; k means perform \n",
        "                                                    #bagging at every k iteration. Every k-th iteration, LightGBM will \n",
        "                                                    #randomly select bagging_fraction * 100 % of the data to use for the \n",
        "                                                    #next k iterations\n",
        "\n",
        "LGB = GridSearchCV(lgb_model, param_grid=tuned_parameters, cv=2, n_jobs=-1)\n",
        "LGB.fit(features_train_2, target_train_2)\n",
        "\n",
        "print(\"Best parameters set found on development set:\")\n",
        "print(LGB.best_params_)\n",
        "print('')\n",
        "print('***'*30)\n",
        "lgb_pred = LGB.predict(features_test_2)\n",
        "result_df.loc['LGB'] = [round(mean_squared_error(target_test_2, lgb_pred, squared=False), 2), \n",
        "                                 round(r2_score(target_test_2, lgb_pred), 2)]\n",
        "display(result_df)"
      ]
    },
    {
      "cell_type": "markdown",
      "metadata": {
        "id": "7REeYP6rvFNm"
      },
      "source": [
        "Дополниельно построим график \"Зависимости времени обучения от параметров модели\""
      ]
    },
    {
      "cell_type": "code",
      "execution_count": 84,
      "metadata": {
        "id": "Pry0ii68vFNn",
        "outputId": "39049992-aac6-47df-dce5-082aeb93a7f0",
        "colab": {
          "base_uri": "https://localhost:8080/",
          "height": 332
        }
      },
      "outputs": [
        {
          "output_type": "execute_result",
          "data": {
            "text/plain": [
              "   Ср.время обучения  Ср.время предсказания  Парам. Глубины  Кол-во деревьев\n",
              "0           1.837874               0.906518             6.0             60.0\n",
              "1           2.198384               1.205790             6.0             80.0\n",
              "2           2.607201               1.482062             6.0            100.0\n",
              "3           1.849121               0.971029             8.0             60.0\n",
              "4           2.359701               1.296555             8.0             80.0\n",
              "5           2.715163               1.616722             8.0            100.0\n",
              "6           1.871435               0.983496            10.0             60.0\n",
              "7           2.414750               1.301771            10.0             80.0\n",
              "8           2.741692               1.512269            10.0            100.0"
            ],
            "text/html": [
              "\n",
              "  <div id=\"df-2285b139-2dd3-4643-83df-899fee58722f\">\n",
              "    <div class=\"colab-df-container\">\n",
              "      <div>\n",
              "<style scoped>\n",
              "    .dataframe tbody tr th:only-of-type {\n",
              "        vertical-align: middle;\n",
              "    }\n",
              "\n",
              "    .dataframe tbody tr th {\n",
              "        vertical-align: top;\n",
              "    }\n",
              "\n",
              "    .dataframe thead th {\n",
              "        text-align: right;\n",
              "    }\n",
              "</style>\n",
              "<table border=\"1\" class=\"dataframe\">\n",
              "  <thead>\n",
              "    <tr style=\"text-align: right;\">\n",
              "      <th></th>\n",
              "      <th>Ср.время обучения</th>\n",
              "      <th>Ср.время предсказания</th>\n",
              "      <th>Парам. Глубины</th>\n",
              "      <th>Кол-во деревьев</th>\n",
              "    </tr>\n",
              "  </thead>\n",
              "  <tbody>\n",
              "    <tr>\n",
              "      <th>0</th>\n",
              "      <td>1.837874</td>\n",
              "      <td>0.906518</td>\n",
              "      <td>6.0</td>\n",
              "      <td>60.0</td>\n",
              "    </tr>\n",
              "    <tr>\n",
              "      <th>1</th>\n",
              "      <td>2.198384</td>\n",
              "      <td>1.205790</td>\n",
              "      <td>6.0</td>\n",
              "      <td>80.0</td>\n",
              "    </tr>\n",
              "    <tr>\n",
              "      <th>2</th>\n",
              "      <td>2.607201</td>\n",
              "      <td>1.482062</td>\n",
              "      <td>6.0</td>\n",
              "      <td>100.0</td>\n",
              "    </tr>\n",
              "    <tr>\n",
              "      <th>3</th>\n",
              "      <td>1.849121</td>\n",
              "      <td>0.971029</td>\n",
              "      <td>8.0</td>\n",
              "      <td>60.0</td>\n",
              "    </tr>\n",
              "    <tr>\n",
              "      <th>4</th>\n",
              "      <td>2.359701</td>\n",
              "      <td>1.296555</td>\n",
              "      <td>8.0</td>\n",
              "      <td>80.0</td>\n",
              "    </tr>\n",
              "    <tr>\n",
              "      <th>5</th>\n",
              "      <td>2.715163</td>\n",
              "      <td>1.616722</td>\n",
              "      <td>8.0</td>\n",
              "      <td>100.0</td>\n",
              "    </tr>\n",
              "    <tr>\n",
              "      <th>6</th>\n",
              "      <td>1.871435</td>\n",
              "      <td>0.983496</td>\n",
              "      <td>10.0</td>\n",
              "      <td>60.0</td>\n",
              "    </tr>\n",
              "    <tr>\n",
              "      <th>7</th>\n",
              "      <td>2.414750</td>\n",
              "      <td>1.301771</td>\n",
              "      <td>10.0</td>\n",
              "      <td>80.0</td>\n",
              "    </tr>\n",
              "    <tr>\n",
              "      <th>8</th>\n",
              "      <td>2.741692</td>\n",
              "      <td>1.512269</td>\n",
              "      <td>10.0</td>\n",
              "      <td>100.0</td>\n",
              "    </tr>\n",
              "  </tbody>\n",
              "</table>\n",
              "</div>\n",
              "      <button class=\"colab-df-convert\" onclick=\"convertToInteractive('df-2285b139-2dd3-4643-83df-899fee58722f')\"\n",
              "              title=\"Convert this dataframe to an interactive table.\"\n",
              "              style=\"display:none;\">\n",
              "        \n",
              "  <svg xmlns=\"http://www.w3.org/2000/svg\" height=\"24px\"viewBox=\"0 0 24 24\"\n",
              "       width=\"24px\">\n",
              "    <path d=\"M0 0h24v24H0V0z\" fill=\"none\"/>\n",
              "    <path d=\"M18.56 5.44l.94 2.06.94-2.06 2.06-.94-2.06-.94-.94-2.06-.94 2.06-2.06.94zm-11 1L8.5 8.5l.94-2.06 2.06-.94-2.06-.94L8.5 2.5l-.94 2.06-2.06.94zm10 10l.94 2.06.94-2.06 2.06-.94-2.06-.94-.94-2.06-.94 2.06-2.06.94z\"/><path d=\"M17.41 7.96l-1.37-1.37c-.4-.4-.92-.59-1.43-.59-.52 0-1.04.2-1.43.59L10.3 9.45l-7.72 7.72c-.78.78-.78 2.05 0 2.83L4 21.41c.39.39.9.59 1.41.59.51 0 1.02-.2 1.41-.59l7.78-7.78 2.81-2.81c.8-.78.8-2.07 0-2.86zM5.41 20L4 18.59l7.72-7.72 1.47 1.35L5.41 20z\"/>\n",
              "  </svg>\n",
              "      </button>\n",
              "      \n",
              "  <style>\n",
              "    .colab-df-container {\n",
              "      display:flex;\n",
              "      flex-wrap:wrap;\n",
              "      gap: 12px;\n",
              "    }\n",
              "\n",
              "    .colab-df-convert {\n",
              "      background-color: #E8F0FE;\n",
              "      border: none;\n",
              "      border-radius: 50%;\n",
              "      cursor: pointer;\n",
              "      display: none;\n",
              "      fill: #1967D2;\n",
              "      height: 32px;\n",
              "      padding: 0 0 0 0;\n",
              "      width: 32px;\n",
              "    }\n",
              "\n",
              "    .colab-df-convert:hover {\n",
              "      background-color: #E2EBFA;\n",
              "      box-shadow: 0px 1px 2px rgba(60, 64, 67, 0.3), 0px 1px 3px 1px rgba(60, 64, 67, 0.15);\n",
              "      fill: #174EA6;\n",
              "    }\n",
              "\n",
              "    [theme=dark] .colab-df-convert {\n",
              "      background-color: #3B4455;\n",
              "      fill: #D2E3FC;\n",
              "    }\n",
              "\n",
              "    [theme=dark] .colab-df-convert:hover {\n",
              "      background-color: #434B5C;\n",
              "      box-shadow: 0px 1px 3px 1px rgba(0, 0, 0, 0.15);\n",
              "      filter: drop-shadow(0px 1px 2px rgba(0, 0, 0, 0.3));\n",
              "      fill: #FFFFFF;\n",
              "    }\n",
              "  </style>\n",
              "\n",
              "      <script>\n",
              "        const buttonEl =\n",
              "          document.querySelector('#df-2285b139-2dd3-4643-83df-899fee58722f button.colab-df-convert');\n",
              "        buttonEl.style.display =\n",
              "          google.colab.kernel.accessAllowed ? 'block' : 'none';\n",
              "\n",
              "        async function convertToInteractive(key) {\n",
              "          const element = document.querySelector('#df-2285b139-2dd3-4643-83df-899fee58722f');\n",
              "          const dataTable =\n",
              "            await google.colab.kernel.invokeFunction('convertToInteractive',\n",
              "                                                     [key], {});\n",
              "          if (!dataTable) return;\n",
              "\n",
              "          const docLinkHtml = 'Like what you see? Visit the ' +\n",
              "            '<a target=\"_blank\" href=https://colab.research.google.com/notebooks/data_table.ipynb>data table notebook</a>'\n",
              "            + ' to learn more about interactive tables.';\n",
              "          element.innerHTML = '';\n",
              "          dataTable['output_type'] = 'display_data';\n",
              "          await google.colab.output.renderOutput(dataTable, element);\n",
              "          const docLink = document.createElement('div');\n",
              "          docLink.innerHTML = docLinkHtml;\n",
              "          element.appendChild(docLink);\n",
              "        }\n",
              "      </script>\n",
              "    </div>\n",
              "  </div>\n",
              "  "
            ]
          },
          "metadata": {},
          "execution_count": 84
        }
      ],
      "source": [
        "LGB_cv_results = pd.DataFrame(data=[LGB.cv_results_['mean_fit_time'],\n",
        "                                   LGB.cv_results_['mean_score_time'],\n",
        "                                   LGB.cv_results_['param_max_depth'].data,\n",
        "                                   LGB.cv_results_['param_n_estimators'].data]).T\n",
        "LGB_cv_results.columns = ['Ср.время обучения', 'Ср.время предсказания', 'Парам. Глубины', 'Кол-во деревьев']\n",
        "LGB_cv_results"
      ]
    },
    {
      "cell_type": "code",
      "execution_count": 85,
      "metadata": {
        "id": "_G6R9Jp4vFNn",
        "outputId": "9a93d25a-9a4d-4d9c-e007-f69596329e65",
        "colab": {
          "base_uri": "https://localhost:8080/",
          "height": 295
        }
      },
      "outputs": [
        {
          "output_type": "display_data",
          "data": {
            "text/plain": [
              "<Figure size 432x288 with 1 Axes>"
            ],
            "image/png": "[encoded data removed]"
          },
          "metadata": {
            "needs_background": "light"
          }
        }
      ],
      "source": [
        "plt.title('Зависимость времени обучения и предсказания от параметров модели')\n",
        "plt.xlabel('Параметр')\n",
        "plt.ylabel('Время')\n",
        "x=list(range(60,101,20))\n",
        "y1=list(LGB_cv_results['Ср.время обучения'][:3])\n",
        "y2=list(LGB_cv_results['Ср.время обучения'][3:6])\n",
        "y3=list(LGB_cv_results['Ср.время обучения'][6:])\n",
        "plt.plot(x,y1, label='max_depth = 6')\n",
        "plt.plot(x,y2, label='max_depth = 8')\n",
        "plt.plot(x,y3, label='max_depth = 10')\n",
        "plt.legend(frameon=True)\n",
        "plt.grid()\n",
        "plt.show()"
      ]
    },
    {
      "cell_type": "markdown",
      "metadata": {
        "id": "RBIDLTXcvFNo"
      },
      "source": [
        "Полученные данные довольно интересны, но их нельзя в прямую сравнить с прошлыми данными, так как \"из коробочки\" данный алгоритм очень долго считает(более получаса, дальше терпение кончилось). Поэтому были задействованы параметры для ускорения расчетов, соответственно \"турбо-режим\" для Catboost применен не был."
      ]
    },
    {
      "cell_type": "markdown",
      "metadata": {
        "id": "FN_js0_0vFNq"
      },
      "source": [
        "### Вывод"
      ]
    },
    {
      "cell_type": "markdown",
      "metadata": {
        "id": "C9na1kf7vFNr"
      },
      "source": [
        "Посмотрим на наши значения метрик для всех алгоритмов и построим график"
      ]
    },
    {
      "cell_type": "code",
      "execution_count": 86,
      "metadata": {
        "id": "7nm9BBAGvFNr",
        "outputId": "08f391ac-67ba-4a2d-fd02-6a1c787dccc5",
        "colab": {
          "base_uri": "https://localhost:8080/",
          "height": 175
        }
      },
      "outputs": [
        {
          "output_type": "execute_result",
          "data": {
            "text/plain": [
              "                 RMSE    R2\n",
              "name_ml                    \n",
              "RandomForest  2643.12  0.66\n",
              "CatBoost      1623.51  0.87\n",
              "LGB           1636.76  0.87"
            ],
            "text/html": [
              "\n",
              "  <div id=\"df-9443df73-fbd8-4661-a04b-6da1429634ac\">\n",
              "    <div class=\"colab-df-container\">\n",
              "      <div>\n",
              "<style scoped>\n",
              "    .dataframe tbody tr th:only-of-type {\n",
              "        vertical-align: middle;\n",
              "    }\n",
              "\n",
              "    .dataframe tbody tr th {\n",
              "        vertical-align: top;\n",
              "    }\n",
              "\n",
              "    .dataframe thead th {\n",
              "        text-align: right;\n",
              "    }\n",
              "</style>\n",
              "<table border=\"1\" class=\"dataframe\">\n",
              "  <thead>\n",
              "    <tr style=\"text-align: right;\">\n",
              "      <th></th>\n",
              "      <th>RMSE</th>\n",
              "      <th>R2</th>\n",
              "    </tr>\n",
              "    <tr>\n",
              "      <th>name_ml</th>\n",
              "      <th></th>\n",
              "      <th></th>\n",
              "    </tr>\n",
              "  </thead>\n",
              "  <tbody>\n",
              "    <tr>\n",
              "      <th>RandomForest</th>\n",
              "      <td>2643.12</td>\n",
              "      <td>0.66</td>\n",
              "    </tr>\n",
              "    <tr>\n",
              "      <th>CatBoost</th>\n",
              "      <td>1623.51</td>\n",
              "      <td>0.87</td>\n",
              "    </tr>\n",
              "    <tr>\n",
              "      <th>LGB</th>\n",
              "      <td>1636.76</td>\n",
              "      <td>0.87</td>\n",
              "    </tr>\n",
              "  </tbody>\n",
              "</table>\n",
              "</div>\n",
              "      <button class=\"colab-df-convert\" onclick=\"convertToInteractive('df-9443df73-fbd8-4661-a04b-6da1429634ac')\"\n",
              "              title=\"Convert this dataframe to an interactive table.\"\n",
              "              style=\"display:none;\">\n",
              "        \n",
              "  <svg xmlns=\"http://www.w3.org/2000/svg\" height=\"24px\"viewBox=\"0 0 24 24\"\n",
              "       width=\"24px\">\n",
              "    <path d=\"M0 0h24v24H0V0z\" fill=\"none\"/>\n",
              "    <path d=\"M18.56 5.44l.94 2.06.94-2.06 2.06-.94-2.06-.94-.94-2.06-.94 2.06-2.06.94zm-11 1L8.5 8.5l.94-2.06 2.06-.94-2.06-.94L8.5 2.5l-.94 2.06-2.06.94zm10 10l.94 2.06.94-2.06 2.06-.94-2.06-.94-.94-2.06-.94 2.06-2.06.94z\"/><path d=\"M17.41 7.96l-1.37-1.37c-.4-.4-.92-.59-1.43-.59-.52 0-1.04.2-1.43.59L10.3 9.45l-7.72 7.72c-.78.78-.78 2.05 0 2.83L4 21.41c.39.39.9.59 1.41.59.51 0 1.02-.2 1.41-.59l7.78-7.78 2.81-2.81c.8-.78.8-2.07 0-2.86zM5.41 20L4 18.59l7.72-7.72 1.47 1.35L5.41 20z\"/>\n",
              "  </svg>\n",
              "      </button>\n",
              "      \n",
              "  <style>\n",
              "    .colab-df-container {\n",
              "      display:flex;\n",
              "      flex-wrap:wrap;\n",
              "      gap: 12px;\n",
              "    }\n",
              "\n",
              "    .colab-df-convert {\n",
              "      background-color: #E8F0FE;\n",
              "      border: none;\n",
              "      border-radius: 50%;\n",
              "      cursor: pointer;\n",
              "      display: none;\n",
              "      fill: #1967D2;\n",
              "      height: 32px;\n",
              "      padding: 0 0 0 0;\n",
              "      width: 32px;\n",
              "    }\n",
              "\n",
              "    .colab-df-convert:hover {\n",
              "      background-color: #E2EBFA;\n",
              "      box-shadow: 0px 1px 2px rgba(60, 64, 67, 0.3), 0px 1px 3px 1px rgba(60, 64, 67, 0.15);\n",
              "      fill: #174EA6;\n",
              "    }\n",
              "\n",
              "    [theme=dark] .colab-df-convert {\n",
              "      background-color: #3B4455;\n",
              "      fill: #D2E3FC;\n",
              "    }\n",
              "\n",
              "    [theme=dark] .colab-df-convert:hover {\n",
              "      background-color: #434B5C;\n",
              "      box-shadow: 0px 1px 3px 1px rgba(0, 0, 0, 0.15);\n",
              "      filter: drop-shadow(0px 1px 2px rgba(0, 0, 0, 0.3));\n",
              "      fill: #FFFFFF;\n",
              "    }\n",
              "  </style>\n",
              "\n",
              "      <script>\n",
              "        const buttonEl =\n",
              "          document.querySelector('#df-9443df73-fbd8-4661-a04b-6da1429634ac button.colab-df-convert');\n",
              "        buttonEl.style.display =\n",
              "          google.colab.kernel.accessAllowed ? 'block' : 'none';\n",
              "\n",
              "        async function convertToInteractive(key) {\n",
              "          const element = document.querySelector('#df-9443df73-fbd8-4661-a04b-6da1429634ac');\n",
              "          const dataTable =\n",
              "            await google.colab.kernel.invokeFunction('convertToInteractive',\n",
              "                                                     [key], {});\n",
              "          if (!dataTable) return;\n",
              "\n",
              "          const docLinkHtml = 'Like what you see? Visit the ' +\n",
              "            '<a target=\"_blank\" href=https://colab.research.google.com/notebooks/data_table.ipynb>data table notebook</a>'\n",
              "            + ' to learn more about interactive tables.';\n",
              "          element.innerHTML = '';\n",
              "          dataTable['output_type'] = 'display_data';\n",
              "          await google.colab.output.renderOutput(dataTable, element);\n",
              "          const docLink = document.createElement('div');\n",
              "          docLink.innerHTML = docLinkHtml;\n",
              "          element.appendChild(docLink);\n",
              "        }\n",
              "      </script>\n",
              "    </div>\n",
              "  </div>\n",
              "  "
            ]
          },
          "metadata": {},
          "execution_count": 86
        }
      ],
      "source": [
        "result_df"
      ]
    },
    {
      "cell_type": "code",
      "execution_count": 87,
      "metadata": {
        "id": "YlkEIAEfvFNr",
        "outputId": "f157aeda-7e87-42a1-822d-b38c08af4557",
        "colab": {
          "base_uri": "https://localhost:8080/",
          "height": 295
        }
      },
      "outputs": [
        {
          "output_type": "display_data",
          "data": {
            "text/plain": [
              "<Figure size 432x288 with 1 Axes>"
            ],
            "image/png": "[encoded data removed]"
          },
          "metadata": {
            "needs_background": "light"
          }
        }
      ],
      "source": [
        "result_df['RMSE'].plot(kind='bar')\n",
        "plt.title('Значения RMSE')\n",
        "plt.xlabel('Алгоритмы')\n",
        "plt.ylabel('Значение')\n",
        "plt.xticks(range(len(result_df['RMSE'])), labels=result_df.index, rotation=0)\n",
        "plt.grid()\n",
        "plt.show()"
      ]
    },
    {
      "cell_type": "markdown",
      "metadata": {
        "id": "y6YBZMoQvFNr"
      },
      "source": [
        "Как видно из графика лучшее значении метрики у Catboost."
      ]
    },
    {
      "cell_type": "markdown",
      "metadata": {
        "id": "hgm3i0OqvFNs"
      },
      "source": [
        "## Анализ моделей"
      ]
    },
    {
      "cell_type": "markdown",
      "metadata": {
        "id": "e1vn2Df5vFNs"
      },
      "source": [
        "Теперь используем лучшие виды моделей из прошлого пункта, для определения лучшей модели для данного заказчика. Будем смотреть на время обучения, предсказания таргета и на значение метрики"
      ]
    },
    {
      "cell_type": "code",
      "execution_count": 88,
      "metadata": {
        "id": "q5eaDbrfvFNs",
        "outputId": "11a0b55d-4514-4e40-d339-270eb8ea2f6e",
        "colab": {
          "referenced_widgets": [
            "2bac078ae454468f9e67fe66e6c22b83",
            "a1e757e501e2453691b0546b8e0fa7b5",
            "e4c079fc4a364d2c849805533500530d",
            "833a548a61194578bf05b2d02b8f2251",
            "1c103cfa8f414f43804f3a39d32df684",
            "9a96cf61e0c140159fb991382f581330",
            "301eeb5354604b1dbdabf8c3fefc5995",
            "e93a35dbf47449b4a50dd35a0a12a9ab",
            "df51821aa5124659943275f972929456",
            "d734ec332994446ca4d0e36092f1fcd7",
            "64931a7f02734363a49264e383ebd753"
          ],
          "base_uri": "https://localhost:8080/",
          "height": 270
        }
      },
      "outputs": [
        {
          "output_type": "display_data",
          "data": {
            "text/plain": [
              "  0%|          | 0/5 [00:00<?, ?it/s]"
            ],
            "application/vnd.jupyter.widget-view+json": {
              "version_major": 2,
              "version_minor": 0,
              "model_id": "2bac078ae454468f9e67fe66e6c22b83"
            }
          },
          "metadata": {}
        },
        {
          "output_type": "display_data",
          "data": {
            "text/plain": [
              "                   Обучение (сек)  Предсказание (сек)  \\\n",
              "Модель                                                  \n",
              "Linear Regression        8.505829            0.117572   \n",
              "RandomForest           102.084048            0.278028   \n",
              "CatBoost                23.699039            0.189571   \n",
              "LightGBM                 4.328901            0.486665   \n",
              "Dummy                    0.006277            0.000516   \n",
              "\n",
              "                   Среднее RMSE на валидации  Среднее R2 на валидации  \n",
              "Модель                                                                 \n",
              "Linear Regression                2611.044717                 0.669351  \n",
              "RandomForest                     2643.115564                 0.661179  \n",
              "CatBoost                         1621.313639                 0.872511  \n",
              "LightGBM                         1636.764690                 0.870070  \n",
              "Dummy                            4849.356081                -0.140529  "
            ],
            "text/html": [
              "\n",
              "  <div id=\"df-f00c6971-ed88-40a5-bb89-26bdf12b38bf\">\n",
              "    <div class=\"colab-df-container\">\n",
              "      <div>\n",
              "<style scoped>\n",
              "    .dataframe tbody tr th:only-of-type {\n",
              "        vertical-align: middle;\n",
              "    }\n",
              "\n",
              "    .dataframe tbody tr th {\n",
              "        vertical-align: top;\n",
              "    }\n",
              "\n",
              "    .dataframe thead th {\n",
              "        text-align: right;\n",
              "    }\n",
              "</style>\n",
              "<table border=\"1\" class=\"dataframe\">\n",
              "  <thead>\n",
              "    <tr style=\"text-align: right;\">\n",
              "      <th></th>\n",
              "      <th>Обучение (сек)</th>\n",
              "      <th>Предсказание (сек)</th>\n",
              "      <th>Среднее RMSE на валидации</th>\n",
              "      <th>Среднее R2 на валидации</th>\n",
              "    </tr>\n",
              "    <tr>\n",
              "      <th>Модель</th>\n",
              "      <th></th>\n",
              "      <th></th>\n",
              "      <th></th>\n",
              "      <th></th>\n",
              "    </tr>\n",
              "  </thead>\n",
              "  <tbody>\n",
              "    <tr>\n",
              "      <th>Linear Regression</th>\n",
              "      <td>8.505829</td>\n",
              "      <td>0.117572</td>\n",
              "      <td>2611.044717</td>\n",
              "      <td>0.669351</td>\n",
              "    </tr>\n",
              "    <tr>\n",
              "      <th>RandomForest</th>\n",
              "      <td>102.084048</td>\n",
              "      <td>0.278028</td>\n",
              "      <td>2643.115564</td>\n",
              "      <td>0.661179</td>\n",
              "    </tr>\n",
              "    <tr>\n",
              "      <th>CatBoost</th>\n",
              "      <td>23.699039</td>\n",
              "      <td>0.189571</td>\n",
              "      <td>1621.313639</td>\n",
              "      <td>0.872511</td>\n",
              "    </tr>\n",
              "    <tr>\n",
              "      <th>LightGBM</th>\n",
              "      <td>4.328901</td>\n",
              "      <td>0.486665</td>\n",
              "      <td>1636.764690</td>\n",
              "      <td>0.870070</td>\n",
              "    </tr>\n",
              "    <tr>\n",
              "      <th>Dummy</th>\n",
              "      <td>0.006277</td>\n",
              "      <td>0.000516</td>\n",
              "      <td>4849.356081</td>\n",
              "      <td>-0.140529</td>\n",
              "    </tr>\n",
              "  </tbody>\n",
              "</table>\n",
              "</div>\n",
              "      <button class=\"colab-df-convert\" onclick=\"convertToInteractive('df-f00c6971-ed88-40a5-bb89-26bdf12b38bf')\"\n",
              "              title=\"Convert this dataframe to an interactive table.\"\n",
              "              style=\"display:none;\">\n",
              "        \n",
              "  <svg xmlns=\"http://www.w3.org/2000/svg\" height=\"24px\"viewBox=\"0 0 24 24\"\n",
              "       width=\"24px\">\n",
              "    <path d=\"M0 0h24v24H0V0z\" fill=\"none\"/>\n",
              "    <path d=\"M18.56 5.44l.94 2.06.94-2.06 2.06-.94-2.06-.94-.94-2.06-.94 2.06-2.06.94zm-11 1L8.5 8.5l.94-2.06 2.06-.94-2.06-.94L8.5 2.5l-.94 2.06-2.06.94zm10 10l.94 2.06.94-2.06 2.06-.94-2.06-.94-.94-2.06-.94 2.06-2.06.94z\"/><path d=\"M17.41 7.96l-1.37-1.37c-.4-.4-.92-.59-1.43-.59-.52 0-1.04.2-1.43.59L10.3 9.45l-7.72 7.72c-.78.78-.78 2.05 0 2.83L4 21.41c.39.39.9.59 1.41.59.51 0 1.02-.2 1.41-.59l7.78-7.78 2.81-2.81c.8-.78.8-2.07 0-2.86zM5.41 20L4 18.59l7.72-7.72 1.47 1.35L5.41 20z\"/>\n",
              "  </svg>\n",
              "      </button>\n",
              "      \n",
              "  <style>\n",
              "    .colab-df-container {\n",
              "      display:flex;\n",
              "      flex-wrap:wrap;\n",
              "      gap: 12px;\n",
              "    }\n",
              "\n",
              "    .colab-df-convert {\n",
              "      background-color: #E8F0FE;\n",
              "      border: none;\n",
              "      border-radius: 50%;\n",
              "      cursor: pointer;\n",
              "      display: none;\n",
              "      fill: #1967D2;\n",
              "      height: 32px;\n",
              "      padding: 0 0 0 0;\n",
              "      width: 32px;\n",
              "    }\n",
              "\n",
              "    .colab-df-convert:hover {\n",
              "      background-color: #E2EBFA;\n",
              "      box-shadow: 0px 1px 2px rgba(60, 64, 67, 0.3), 0px 1px 3px 1px rgba(60, 64, 67, 0.15);\n",
              "      fill: #174EA6;\n",
              "    }\n",
              "\n",
              "    [theme=dark] .colab-df-convert {\n",
              "      background-color: #3B4455;\n",
              "      fill: #D2E3FC;\n",
              "    }\n",
              "\n",
              "    [theme=dark] .colab-df-convert:hover {\n",
              "      background-color: #434B5C;\n",
              "      box-shadow: 0px 1px 3px 1px rgba(0, 0, 0, 0.15);\n",
              "      filter: drop-shadow(0px 1px 2px rgba(0, 0, 0, 0.3));\n",
              "      fill: #FFFFFF;\n",
              "    }\n",
              "  </style>\n",
              "\n",
              "      <script>\n",
              "        const buttonEl =\n",
              "          document.querySelector('#df-f00c6971-ed88-40a5-bb89-26bdf12b38bf button.colab-df-convert');\n",
              "        buttonEl.style.display =\n",
              "          google.colab.kernel.accessAllowed ? 'block' : 'none';\n",
              "\n",
              "        async function convertToInteractive(key) {\n",
              "          const element = document.querySelector('#df-f00c6971-ed88-40a5-bb89-26bdf12b38bf');\n",
              "          const dataTable =\n",
              "            await google.colab.kernel.invokeFunction('convertToInteractive',\n",
              "                                                     [key], {});\n",
              "          if (!dataTable) return;\n",
              "\n",
              "          const docLinkHtml = 'Like what you see? Visit the ' +\n",
              "            '<a target=\"_blank\" href=https://colab.research.google.com/notebooks/data_table.ipynb>data table notebook</a>'\n",
              "            + ' to learn more about interactive tables.';\n",
              "          element.innerHTML = '';\n",
              "          dataTable['output_type'] = 'display_data';\n",
              "          await google.colab.output.renderOutput(dataTable, element);\n",
              "          const docLink = document.createElement('div');\n",
              "          docLink.innerHTML = docLinkHtml;\n",
              "          element.appendChild(docLink);\n",
              "        }\n",
              "      </script>\n",
              "    </div>\n",
              "  </div>\n",
              "  "
            ]
          },
          "metadata": {}
        }
      ],
      "source": [
        "# Сформируем перечень моделей, которые будут обучены\n",
        "models = [\n",
        "    ('Linear Regression', 1, LinearRegression()),\n",
        "    ('RandomForest', 1, rand_forest.best_estimator_),\n",
        "    ('CatBoost', 2, CBR.best_estimator_),\n",
        "    ('LightGBM', 2, LGB.best_estimator_),\n",
        "    ('Dummy', 1, DummyRegressor(strategy=\"median\"))\n",
        "]\n",
        "\n",
        "# Итоговая таблица\n",
        "results = pd.DataFrame(columns=['Обучение (сек)', 'Предсказание (сек)', 'Среднее RMSE на валидации', 'Среднее R2 на валидации'])\n",
        "results.index.name = 'Модель'\n",
        "\n",
        "# Проведем выбор лучшей модели\n",
        "for name, data, model in tqdm(models):\n",
        "    if data == 1:\n",
        "        features_train = features_train_1\n",
        "        target_train = target_train_1\n",
        "        features_test = features_test_1\n",
        "        target_test = target_test_1\n",
        "    else:\n",
        "        features_train = features_train_2\n",
        "        target_train = target_train_2\n",
        "        features_test = features_test_2\n",
        "        target_test = target_test_2\n",
        "    \n",
        "    start_time = time.time()\n",
        "    model.fit(features_train, target_train)\n",
        "    time_1 = time.time() - start_time\n",
        "    \n",
        "    start_time = time.time()\n",
        "    predict = model.predict(features_test)\n",
        "    time_2 = time.time() - start_time\n",
        "    \n",
        "    results.loc[name]=[time_1, time_2, mean_squared_error(target_test, predict, squared=False), r2_score(target_test, predict)]\n",
        "    \n",
        "    if name == \"Dummy\": # Сравнения с болванкой\n",
        "        dummy = DummyRegressor(strategy=\"median\")\n",
        "        \n",
        "        start_time = time.time()\n",
        "        dummy.fit(features_train, target_train)\n",
        "        time_1 = time.time() - start_time\n",
        "        \n",
        "        start_time = time.time()\n",
        "        predict = dummy.predict(features_test)\n",
        "        time_2 = time.time() - start_time\n",
        "        \n",
        "        results.loc[name]=[time_1, time_2, mean_squared_error(target_test, predict, squared=False), r2_score(target_test, predict)]\n",
        "\n",
        "# Выведем результаты\n",
        "display(results)"
      ]
    },
    {
      "cell_type": "markdown",
      "metadata": {
        "id": "-bR85o7bvFNt"
      },
      "source": [
        "---"
      ]
    },
    {
      "cell_type": "markdown",
      "metadata": {
        "id": "YiMlosSivFNv"
      },
      "source": [
        "## Вывод"
      ]
    },
    {
      "cell_type": "markdown",
      "metadata": {
        "id": "7s22C5atvFNv"
      },
      "source": [
        "В ходе работы было выполнено:\n",
        "- подготовка и очистка данных\n",
        "- преобразование и подготовка данных для обучения моделей\n",
        "- подбор гиперпараметров моделей и построение графиков зависимостей времени обучения от гиперпараметров моделей\n",
        "- произведено сравнение лучших моделей между собой, а так же с сравнение их с константной моделью\n",
        "- выявлена лучшая модель **Catboost**"
      ]
    }
  ],
  "metadata": {
    "ExecuteTimeLog": [
      {
        "duration": 1977,
        "start_time": "2022-03-09T14:37:45.843Z"
      },
      {
        "duration": 1523,
        "start_time": "2022-03-09T14:37:49.333Z"
      },
      {
        "duration": 164,
        "start_time": "2022-03-09T14:40:01.332Z"
      },
      {
        "duration": 1058,
        "start_time": "2022-03-09T14:42:14.357Z"
      },
      {
        "duration": 25,
        "start_time": "2022-03-09T14:43:25.314Z"
      },
      {
        "duration": 23859,
        "start_time": "2022-03-09T14:43:55.269Z"
      },
      {
        "duration": 18,
        "start_time": "2022-03-09T14:44:24.984Z"
      },
      {
        "duration": 1499,
        "start_time": "2022-03-09T18:19:08.512Z"
      },
      {
        "duration": 1155,
        "start_time": "2022-03-09T18:19:11.273Z"
      },
      {
        "duration": 23,
        "start_time": "2022-03-09T18:19:15.929Z"
      },
      {
        "duration": 51,
        "start_time": "2022-03-09T18:19:20.383Z"
      },
      {
        "duration": 412,
        "start_time": "2022-03-09T18:21:29.876Z"
      },
      {
        "duration": 248,
        "start_time": "2022-03-09T18:21:44.684Z"
      },
      {
        "duration": 8,
        "start_time": "2022-03-09T18:21:54.449Z"
      },
      {
        "duration": 4,
        "start_time": "2022-03-09T18:22:54.833Z"
      },
      {
        "duration": 8,
        "start_time": "2022-03-09T18:24:46.820Z"
      },
      {
        "duration": 272,
        "start_time": "2022-03-09T18:25:10.829Z"
      },
      {
        "duration": 249,
        "start_time": "2022-03-09T18:25:32.803Z"
      },
      {
        "duration": 313,
        "start_time": "2022-03-09T18:25:49.511Z"
      },
      {
        "duration": 4,
        "start_time": "2022-03-09T18:32:44.726Z"
      },
      {
        "duration": 1134,
        "start_time": "2022-03-09T18:32:48.020Z"
      },
      {
        "duration": 1527,
        "start_time": "2022-03-09T18:32:57.066Z"
      },
      {
        "duration": 1089,
        "start_time": "2022-03-09T18:32:58.596Z"
      },
      {
        "duration": 22,
        "start_time": "2022-03-09T18:32:59.695Z"
      },
      {
        "duration": 44,
        "start_time": "2022-03-09T18:32:59.751Z"
      },
      {
        "duration": 8,
        "start_time": "2022-03-09T18:32:59.798Z"
      },
      {
        "duration": 428,
        "start_time": "2022-03-09T18:32:59.810Z"
      },
      {
        "duration": -263,
        "start_time": "2022-03-09T18:33:00.503Z"
      },
      {
        "duration": -323,
        "start_time": "2022-03-09T18:33:00.565Z"
      },
      {
        "duration": 5,
        "start_time": "2022-03-09T18:34:19.073Z"
      },
      {
        "duration": 6,
        "start_time": "2022-03-09T18:35:10.326Z"
      },
      {
        "duration": 8,
        "start_time": "2022-03-09T18:35:20.535Z"
      },
      {
        "duration": 7,
        "start_time": "2022-03-09T18:35:32.065Z"
      },
      {
        "duration": 9,
        "start_time": "2022-03-09T18:42:33.532Z"
      },
      {
        "duration": 7,
        "start_time": "2022-03-09T18:43:15.532Z"
      },
      {
        "duration": 7,
        "start_time": "2022-03-09T18:43:28.415Z"
      },
      {
        "duration": 7,
        "start_time": "2022-03-09T18:43:30.400Z"
      },
      {
        "duration": 20,
        "start_time": "2022-03-09T18:46:55.355Z"
      },
      {
        "duration": 19,
        "start_time": "2022-03-09T18:47:05.284Z"
      },
      {
        "duration": 41,
        "start_time": "2022-03-09T18:47:46.559Z"
      },
      {
        "duration": 4,
        "start_time": "2022-03-09T18:47:48.037Z"
      },
      {
        "duration": 8,
        "start_time": "2022-03-09T18:47:50.474Z"
      },
      {
        "duration": 24,
        "start_time": "2022-03-09T18:47:51.148Z"
      },
      {
        "duration": 18,
        "start_time": "2022-03-09T18:47:51.956Z"
      },
      {
        "duration": 3203,
        "start_time": "2022-03-09T18:48:15.911Z"
      },
      {
        "duration": 22,
        "start_time": "2022-03-09T19:04:24.175Z"
      },
      {
        "duration": 20,
        "start_time": "2022-03-09T19:04:27.347Z"
      },
      {
        "duration": 22,
        "start_time": "2022-03-09T19:04:43.928Z"
      },
      {
        "duration": 21,
        "start_time": "2022-03-09T19:04:46.722Z"
      },
      {
        "duration": 46,
        "start_time": "2022-03-09T19:06:03.320Z"
      },
      {
        "duration": 5,
        "start_time": "2022-03-09T19:06:04.579Z"
      },
      {
        "duration": 9,
        "start_time": "2022-03-09T19:06:06.985Z"
      },
      {
        "duration": 251,
        "start_time": "2022-03-09T19:06:31.903Z"
      },
      {
        "duration": 262,
        "start_time": "2022-03-09T19:06:41.591Z"
      },
      {
        "duration": 13,
        "start_time": "2022-03-09T19:06:46.180Z"
      },
      {
        "duration": 14,
        "start_time": "2022-03-09T19:07:00.080Z"
      },
      {
        "duration": 8,
        "start_time": "2022-03-09T19:07:07.235Z"
      },
      {
        "duration": 6,
        "start_time": "2022-03-09T19:07:13.431Z"
      },
      {
        "duration": 6,
        "start_time": "2022-03-09T19:07:20.432Z"
      },
      {
        "duration": 294,
        "start_time": "2022-03-09T19:08:17.014Z"
      },
      {
        "duration": 289,
        "start_time": "2022-03-09T19:10:21.373Z"
      },
      {
        "duration": 29,
        "start_time": "2022-03-09T19:10:27.796Z"
      },
      {
        "duration": 20,
        "start_time": "2022-03-09T19:10:29.684Z"
      },
      {
        "duration": 29,
        "start_time": "2022-03-09T19:11:03.046Z"
      },
      {
        "duration": 25,
        "start_time": "2022-03-09T19:11:04.787Z"
      },
      {
        "duration": 40,
        "start_time": "2022-03-09T19:11:09.161Z"
      },
      {
        "duration": 4,
        "start_time": "2022-03-09T19:11:10.096Z"
      },
      {
        "duration": 9,
        "start_time": "2022-03-09T19:11:11.646Z"
      },
      {
        "duration": 1832,
        "start_time": "2022-03-09T19:11:12.124Z"
      },
      {
        "duration": 1745,
        "start_time": "2022-03-09T19:11:34.949Z"
      },
      {
        "duration": 3464,
        "start_time": "2022-03-09T19:11:49.676Z"
      },
      {
        "duration": 13,
        "start_time": "2022-03-09T19:13:50.822Z"
      },
      {
        "duration": 3224,
        "start_time": "2022-03-09T19:13:56.209Z"
      },
      {
        "duration": 114,
        "start_time": "2022-03-09T19:15:13.928Z"
      },
      {
        "duration": 16,
        "start_time": "2022-03-09T19:16:04.368Z"
      },
      {
        "duration": 20,
        "start_time": "2022-03-09T19:16:08.133Z"
      },
      {
        "duration": 42,
        "start_time": "2022-03-09T19:16:12.354Z"
      },
      {
        "duration": 5,
        "start_time": "2022-03-09T19:16:13.287Z"
      },
      {
        "duration": 8,
        "start_time": "2022-03-09T19:16:15.104Z"
      },
      {
        "duration": 19,
        "start_time": "2022-03-09T19:16:18.371Z"
      },
      {
        "duration": 20,
        "start_time": "2022-03-09T19:16:41.353Z"
      },
      {
        "duration": 312,
        "start_time": "2022-03-09T19:17:12.071Z"
      },
      {
        "duration": 8,
        "start_time": "2022-03-09T19:18:01.644Z"
      },
      {
        "duration": 229,
        "start_time": "2022-03-09T19:18:12.244Z"
      },
      {
        "duration": 75,
        "start_time": "2022-03-09T19:18:23.641Z"
      },
      {
        "duration": 7,
        "start_time": "2022-03-09T19:18:27.960Z"
      },
      {
        "duration": 46,
        "start_time": "2022-03-09T19:19:08.140Z"
      },
      {
        "duration": 5,
        "start_time": "2022-03-09T19:19:09.182Z"
      },
      {
        "duration": 7,
        "start_time": "2022-03-09T19:19:13.580Z"
      },
      {
        "duration": 15,
        "start_time": "2022-03-09T19:19:56.795Z"
      },
      {
        "duration": 21,
        "start_time": "2022-03-09T19:20:58.219Z"
      },
      {
        "duration": 307,
        "start_time": "2022-03-09T19:23:51.883Z"
      },
      {
        "duration": 332,
        "start_time": "2022-03-09T19:24:00.711Z"
      },
      {
        "duration": 373,
        "start_time": "2022-03-09T19:24:08.308Z"
      },
      {
        "duration": 248,
        "start_time": "2022-03-09T19:24:31.903Z"
      },
      {
        "duration": 5,
        "start_time": "2022-03-09T19:26:16.925Z"
      },
      {
        "duration": 11,
        "start_time": "2022-03-09T19:26:50.997Z"
      },
      {
        "duration": 338,
        "start_time": "2022-03-09T19:32:38.108Z"
      },
      {
        "duration": 278,
        "start_time": "2022-03-09T19:33:03.773Z"
      },
      {
        "duration": 89,
        "start_time": "2022-03-09T19:33:58.278Z"
      },
      {
        "duration": 35,
        "start_time": "2022-03-09T19:34:40.570Z"
      },
      {
        "duration": 16,
        "start_time": "2022-03-09T19:35:04.036Z"
      },
      {
        "duration": 42,
        "start_time": "2022-03-09T19:35:12.613Z"
      },
      {
        "duration": 14,
        "start_time": "2022-03-09T19:37:09.789Z"
      },
      {
        "duration": 252,
        "start_time": "2022-03-09T19:37:34.954Z"
      },
      {
        "duration": 24,
        "start_time": "2022-03-09T19:37:42.029Z"
      },
      {
        "duration": 15,
        "start_time": "2022-03-09T19:37:52.221Z"
      },
      {
        "duration": 36,
        "start_time": "2022-03-09T19:38:06.568Z"
      },
      {
        "duration": 6371,
        "start_time": "2022-03-09T19:41:34.473Z"
      },
      {
        "duration": 250,
        "start_time": "2022-03-09T19:42:05.320Z"
      },
      {
        "duration": 254,
        "start_time": "2022-03-09T19:42:22.409Z"
      },
      {
        "duration": 252,
        "start_time": "2022-03-09T19:42:44.939Z"
      },
      {
        "duration": 251,
        "start_time": "2022-03-09T19:43:13.828Z"
      },
      {
        "duration": 310,
        "start_time": "2022-03-09T19:43:26.355Z"
      },
      {
        "duration": 259,
        "start_time": "2022-03-09T19:43:39.869Z"
      },
      {
        "duration": 248,
        "start_time": "2022-03-09T19:44:03.495Z"
      },
      {
        "duration": 237,
        "start_time": "2022-03-09T19:44:21.021Z"
      },
      {
        "duration": 295,
        "start_time": "2022-03-09T19:44:30.493Z"
      },
      {
        "duration": 268,
        "start_time": "2022-03-09T19:44:52.589Z"
      },
      {
        "duration": 287,
        "start_time": "2022-03-09T19:45:19.336Z"
      },
      {
        "duration": 572,
        "start_time": "2022-03-09T19:45:23.778Z"
      },
      {
        "duration": 8,
        "start_time": "2022-03-09T19:45:29.281Z"
      },
      {
        "duration": 299,
        "start_time": "2022-03-09T19:46:02.905Z"
      },
      {
        "duration": 279,
        "start_time": "2022-03-09T19:46:07.640Z"
      },
      {
        "duration": 39,
        "start_time": "2022-03-09T19:46:37.818Z"
      },
      {
        "duration": 12,
        "start_time": "2022-03-09T19:47:31.298Z"
      },
      {
        "duration": 328,
        "start_time": "2022-03-09T19:47:48.927Z"
      },
      {
        "duration": 66,
        "start_time": "2022-03-09T19:47:56.550Z"
      },
      {
        "duration": 22,
        "start_time": "2022-03-09T19:48:09.256Z"
      },
      {
        "duration": 20,
        "start_time": "2022-03-09T19:48:13.211Z"
      },
      {
        "duration": 1218,
        "start_time": "2022-03-09T19:48:48.463Z"
      },
      {
        "duration": 1706,
        "start_time": "2022-03-09T19:50:18.050Z"
      },
      {
        "duration": 1209,
        "start_time": "2022-03-09T19:50:19.758Z"
      },
      {
        "duration": 23,
        "start_time": "2022-03-09T19:50:20.971Z"
      },
      {
        "duration": 71,
        "start_time": "2022-03-09T19:50:20.997Z"
      },
      {
        "duration": 4,
        "start_time": "2022-03-09T19:50:21.071Z"
      },
      {
        "duration": 9,
        "start_time": "2022-03-09T19:50:21.077Z"
      },
      {
        "duration": 21,
        "start_time": "2022-03-09T19:50:21.089Z"
      },
      {
        "duration": 55,
        "start_time": "2022-03-09T19:50:21.113Z"
      },
      {
        "duration": 55,
        "start_time": "2022-03-09T19:50:21.171Z"
      },
      {
        "duration": 122,
        "start_time": "2022-03-09T19:50:21.229Z"
      },
      {
        "duration": 27,
        "start_time": "2022-03-09T19:50:21.354Z"
      },
      {
        "duration": 625,
        "start_time": "2022-03-09T19:50:21.383Z"
      },
      {
        "duration": -253,
        "start_time": "2022-03-09T19:50:22.264Z"
      },
      {
        "duration": -254,
        "start_time": "2022-03-09T19:50:22.267Z"
      },
      {
        "duration": 50,
        "start_time": "2022-03-09T19:53:23.405Z"
      },
      {
        "duration": 5,
        "start_time": "2022-03-09T19:53:25.624Z"
      },
      {
        "duration": 7,
        "start_time": "2022-03-09T19:53:26.957Z"
      },
      {
        "duration": 310,
        "start_time": "2022-03-09T19:53:27.767Z"
      },
      {
        "duration": 63,
        "start_time": "2022-03-09T19:53:43.351Z"
      },
      {
        "duration": 21,
        "start_time": "2022-03-09T19:53:44.991Z"
      },
      {
        "duration": 46,
        "start_time": "2022-03-09T19:53:50.746Z"
      },
      {
        "duration": 71,
        "start_time": "2022-03-09T19:53:56.732Z"
      },
      {
        "duration": 61,
        "start_time": "2022-03-09T19:53:58.195Z"
      },
      {
        "duration": 8,
        "start_time": "2022-03-09T19:54:01.647Z"
      },
      {
        "duration": 53,
        "start_time": "2022-03-09T19:54:51.587Z"
      },
      {
        "duration": 17,
        "start_time": "2022-03-09T19:55:05.309Z"
      },
      {
        "duration": 1475,
        "start_time": "2022-03-09T19:57:41.743Z"
      },
      {
        "duration": 1053,
        "start_time": "2022-03-09T19:57:43.221Z"
      },
      {
        "duration": 22,
        "start_time": "2022-03-09T19:57:44.277Z"
      },
      {
        "duration": 79,
        "start_time": "2022-03-09T19:57:44.303Z"
      },
      {
        "duration": 6,
        "start_time": "2022-03-09T19:57:44.384Z"
      },
      {
        "duration": 9,
        "start_time": "2022-03-09T19:57:44.392Z"
      },
      {
        "duration": 98,
        "start_time": "2022-03-09T19:57:44.403Z"
      },
      {
        "duration": 22,
        "start_time": "2022-03-09T19:57:44.505Z"
      },
      {
        "duration": 79,
        "start_time": "2022-03-09T19:57:44.530Z"
      },
      {
        "duration": 88,
        "start_time": "2022-03-09T19:57:44.611Z"
      },
      {
        "duration": 69,
        "start_time": "2022-03-09T19:57:44.701Z"
      },
      {
        "duration": 6,
        "start_time": "2022-03-09T19:57:44.773Z"
      },
      {
        "duration": 147,
        "start_time": "2022-03-09T19:57:44.781Z"
      },
      {
        "duration": 46,
        "start_time": "2022-03-09T19:57:44.930Z"
      },
      {
        "duration": 17,
        "start_time": "2022-03-09T19:57:44.979Z"
      },
      {
        "duration": 4,
        "start_time": "2022-03-09T19:57:44.998Z"
      },
      {
        "duration": 45,
        "start_time": "2022-03-09T19:57:45.006Z"
      },
      {
        "duration": 1543,
        "start_time": "2022-03-09T19:59:15.756Z"
      },
      {
        "duration": 1125,
        "start_time": "2022-03-09T19:59:17.302Z"
      },
      {
        "duration": 35,
        "start_time": "2022-03-09T19:59:18.430Z"
      },
      {
        "duration": 48,
        "start_time": "2022-03-09T19:59:18.468Z"
      },
      {
        "duration": 36,
        "start_time": "2022-03-09T19:59:18.519Z"
      },
      {
        "duration": 10,
        "start_time": "2022-03-09T19:59:18.559Z"
      },
      {
        "duration": 21,
        "start_time": "2022-03-09T19:59:18.572Z"
      },
      {
        "duration": 66,
        "start_time": "2022-03-09T19:59:18.597Z"
      },
      {
        "duration": 41,
        "start_time": "2022-03-09T19:59:18.666Z"
      },
      {
        "duration": 111,
        "start_time": "2022-03-09T19:59:18.709Z"
      },
      {
        "duration": 40,
        "start_time": "2022-03-09T19:59:18.822Z"
      },
      {
        "duration": 463,
        "start_time": "2022-03-09T19:59:18.864Z"
      },
      {
        "duration": -246,
        "start_time": "2022-03-09T19:59:19.577Z"
      },
      {
        "duration": -246,
        "start_time": "2022-03-09T19:59:19.579Z"
      },
      {
        "duration": -247,
        "start_time": "2022-03-09T19:59:19.583Z"
      },
      {
        "duration": -247,
        "start_time": "2022-03-09T19:59:19.585Z"
      },
      {
        "duration": -245,
        "start_time": "2022-03-09T19:59:19.586Z"
      },
      {
        "duration": 291,
        "start_time": "2022-03-09T20:05:04.286Z"
      },
      {
        "duration": 94,
        "start_time": "2022-03-09T20:05:49.305Z"
      },
      {
        "duration": 140,
        "start_time": "2022-03-09T20:05:52.869Z"
      },
      {
        "duration": 39,
        "start_time": "2022-03-09T20:06:03.271Z"
      },
      {
        "duration": 18,
        "start_time": "2022-03-09T20:06:06.413Z"
      },
      {
        "duration": 1737,
        "start_time": "2022-03-09T20:06:43.460Z"
      },
      {
        "duration": 1183,
        "start_time": "2022-03-09T20:06:45.200Z"
      },
      {
        "duration": 26,
        "start_time": "2022-03-09T20:06:46.387Z"
      },
      {
        "duration": 76,
        "start_time": "2022-03-09T20:06:46.416Z"
      },
      {
        "duration": 7,
        "start_time": "2022-03-09T20:06:46.495Z"
      },
      {
        "duration": 12,
        "start_time": "2022-03-09T20:06:46.505Z"
      },
      {
        "duration": 46,
        "start_time": "2022-03-09T20:06:46.520Z"
      },
      {
        "duration": 22,
        "start_time": "2022-03-09T20:06:46.570Z"
      },
      {
        "duration": 76,
        "start_time": "2022-03-09T20:06:46.595Z"
      },
      {
        "duration": 101,
        "start_time": "2022-03-09T20:06:46.674Z"
      },
      {
        "duration": 25,
        "start_time": "2022-03-09T20:06:46.778Z"
      },
      {
        "duration": 48,
        "start_time": "2022-03-09T20:06:46.805Z"
      },
      {
        "duration": 128,
        "start_time": "2022-03-09T20:06:46.856Z"
      },
      {
        "duration": 150,
        "start_time": "2022-03-09T20:06:46.986Z"
      },
      {
        "duration": 52,
        "start_time": "2022-03-09T20:06:47.139Z"
      },
      {
        "duration": 21,
        "start_time": "2022-03-09T20:06:47.194Z"
      },
      {
        "duration": 18,
        "start_time": "2022-03-09T20:06:47.217Z"
      },
      {
        "duration": 9,
        "start_time": "2022-03-09T20:06:47.252Z"
      },
      {
        "duration": 1523,
        "start_time": "2022-03-10T05:14:09.675Z"
      },
      {
        "duration": 1034,
        "start_time": "2022-03-10T05:14:11.201Z"
      },
      {
        "duration": 27,
        "start_time": "2022-03-10T05:14:12.241Z"
      },
      {
        "duration": 41,
        "start_time": "2022-03-10T05:14:12.271Z"
      },
      {
        "duration": 6,
        "start_time": "2022-03-10T05:14:12.314Z"
      },
      {
        "duration": 35,
        "start_time": "2022-03-10T05:14:12.322Z"
      },
      {
        "duration": 19,
        "start_time": "2022-03-10T05:14:12.361Z"
      },
      {
        "duration": 21,
        "start_time": "2022-03-10T05:14:12.383Z"
      },
      {
        "duration": 66,
        "start_time": "2022-03-10T05:14:12.406Z"
      },
      {
        "duration": 87,
        "start_time": "2022-03-10T05:14:12.475Z"
      },
      {
        "duration": 20,
        "start_time": "2022-03-10T05:14:12.564Z"
      },
      {
        "duration": 18,
        "start_time": "2022-03-10T05:14:12.587Z"
      },
      {
        "duration": 115,
        "start_time": "2022-03-10T05:14:12.608Z"
      },
      {
        "duration": 135,
        "start_time": "2022-03-10T05:14:12.725Z"
      },
      {
        "duration": 38,
        "start_time": "2022-03-10T05:14:12.862Z"
      },
      {
        "duration": 20,
        "start_time": "2022-03-10T05:14:12.902Z"
      },
      {
        "duration": 5,
        "start_time": "2022-03-10T05:14:12.924Z"
      },
      {
        "duration": 3,
        "start_time": "2022-03-10T05:14:12.952Z"
      },
      {
        "duration": 43,
        "start_time": "2022-03-10T05:18:28.864Z"
      },
      {
        "duration": 4,
        "start_time": "2022-03-10T05:18:30.236Z"
      },
      {
        "duration": 7,
        "start_time": "2022-03-10T05:18:31.544Z"
      },
      {
        "duration": 19,
        "start_time": "2022-03-10T05:18:32.884Z"
      },
      {
        "duration": 20,
        "start_time": "2022-03-10T05:18:34.894Z"
      },
      {
        "duration": 47,
        "start_time": "2022-03-10T05:18:37.420Z"
      },
      {
        "duration": 70,
        "start_time": "2022-03-10T05:18:39.734Z"
      },
      {
        "duration": 16,
        "start_time": "2022-03-10T05:18:41.196Z"
      },
      {
        "duration": 20,
        "start_time": "2022-03-10T05:18:42.147Z"
      },
      {
        "duration": 523,
        "start_time": "2022-03-10T05:18:47.363Z"
      },
      {
        "duration": 1786,
        "start_time": "2022-03-10T05:18:57.141Z"
      },
      {
        "duration": 1816,
        "start_time": "2022-03-10T05:20:01.629Z"
      },
      {
        "duration": 303,
        "start_time": "2022-03-10T05:20:25.942Z"
      },
      {
        "duration": 487,
        "start_time": "2022-03-10T05:24:16.668Z"
      },
      {
        "duration": 20,
        "start_time": "2022-03-10T05:24:43.856Z"
      },
      {
        "duration": 156,
        "start_time": "2022-03-10T05:24:47.781Z"
      },
      {
        "duration": 20,
        "start_time": "2022-03-10T05:24:48.677Z"
      },
      {
        "duration": 274,
        "start_time": "2022-03-10T05:28:49.452Z"
      },
      {
        "duration": 30,
        "start_time": "2022-03-10T05:29:07.906Z"
      },
      {
        "duration": 3,
        "start_time": "2022-03-10T05:29:11.848Z"
      },
      {
        "duration": 8,
        "start_time": "2022-03-10T05:29:13.217Z"
      },
      {
        "duration": 20,
        "start_time": "2022-03-10T05:29:14.484Z"
      },
      {
        "duration": 20,
        "start_time": "2022-03-10T05:29:17.167Z"
      },
      {
        "duration": 42,
        "start_time": "2022-03-10T05:29:20.407Z"
      },
      {
        "duration": 71,
        "start_time": "2022-03-10T05:29:34.342Z"
      },
      {
        "duration": 16,
        "start_time": "2022-03-10T05:29:35.348Z"
      },
      {
        "duration": 10,
        "start_time": "2022-03-10T05:29:36.871Z"
      },
      {
        "duration": 117,
        "start_time": "2022-03-10T05:29:38.633Z"
      },
      {
        "duration": 47,
        "start_time": "2022-03-10T05:29:43.009Z"
      },
      {
        "duration": 17,
        "start_time": "2022-03-10T05:29:43.667Z"
      },
      {
        "duration": 1442,
        "start_time": "2022-03-10T05:32:50.955Z"
      },
      {
        "duration": 1025,
        "start_time": "2022-03-10T05:32:52.400Z"
      },
      {
        "duration": 29,
        "start_time": "2022-03-10T05:32:53.428Z"
      },
      {
        "duration": 42,
        "start_time": "2022-03-10T05:32:53.460Z"
      },
      {
        "duration": 10,
        "start_time": "2022-03-10T05:32:53.505Z"
      },
      {
        "duration": 9,
        "start_time": "2022-03-10T05:32:53.517Z"
      },
      {
        "duration": 40,
        "start_time": "2022-03-10T05:32:53.528Z"
      },
      {
        "duration": 20,
        "start_time": "2022-03-10T05:32:53.571Z"
      },
      {
        "duration": 60,
        "start_time": "2022-03-10T05:32:53.593Z"
      },
      {
        "duration": 77,
        "start_time": "2022-03-10T05:32:53.655Z"
      },
      {
        "duration": 33,
        "start_time": "2022-03-10T05:32:53.734Z"
      },
      {
        "duration": 20,
        "start_time": "2022-03-10T05:32:53.769Z"
      },
      {
        "duration": 13,
        "start_time": "2022-03-10T05:32:53.791Z"
      },
      {
        "duration": 155,
        "start_time": "2022-03-10T05:32:53.806Z"
      },
      {
        "duration": 38,
        "start_time": "2022-03-10T05:32:53.963Z"
      },
      {
        "duration": 20,
        "start_time": "2022-03-10T05:32:54.003Z"
      },
      {
        "duration": 27,
        "start_time": "2022-03-10T05:32:54.025Z"
      },
      {
        "duration": 7,
        "start_time": "2022-03-10T05:32:54.055Z"
      },
      {
        "duration": 44,
        "start_time": "2022-03-10T05:34:20.295Z"
      },
      {
        "duration": 4,
        "start_time": "2022-03-10T05:34:21.235Z"
      },
      {
        "duration": 9,
        "start_time": "2022-03-10T05:34:21.828Z"
      },
      {
        "duration": 19,
        "start_time": "2022-03-10T05:34:22.150Z"
      },
      {
        "duration": 20,
        "start_time": "2022-03-10T05:34:22.486Z"
      },
      {
        "duration": 35,
        "start_time": "2022-03-10T05:34:24.307Z"
      },
      {
        "duration": 68,
        "start_time": "2022-03-10T05:34:29.992Z"
      },
      {
        "duration": 15,
        "start_time": "2022-03-10T05:34:31.179Z"
      },
      {
        "duration": 19,
        "start_time": "2022-03-10T05:34:31.912Z"
      },
      {
        "duration": 77,
        "start_time": "2022-03-10T05:34:37.522Z"
      },
      {
        "duration": 8,
        "start_time": "2022-03-10T05:34:43.285Z"
      },
      {
        "duration": 9,
        "start_time": "2022-03-10T05:34:59.003Z"
      },
      {
        "duration": 1180,
        "start_time": "2022-03-10T05:36:15.011Z"
      },
      {
        "duration": 245,
        "start_time": "2022-03-10T05:38:01.565Z"
      },
      {
        "duration": 1014,
        "start_time": "2022-03-10T05:38:10.372Z"
      },
      {
        "duration": 1053,
        "start_time": "2022-03-10T05:38:30.948Z"
      },
      {
        "duration": 289,
        "start_time": "2022-03-10T05:41:50.371Z"
      },
      {
        "duration": 290,
        "start_time": "2022-03-10T05:42:07.176Z"
      },
      {
        "duration": 282,
        "start_time": "2022-03-10T05:42:14.095Z"
      },
      {
        "duration": 256,
        "start_time": "2022-03-10T05:42:22.682Z"
      },
      {
        "duration": 119,
        "start_time": "2022-03-10T05:42:33.533Z"
      },
      {
        "duration": 245,
        "start_time": "2022-03-10T05:42:40.103Z"
      },
      {
        "duration": 8,
        "start_time": "2022-03-10T05:42:56.633Z"
      },
      {
        "duration": 243,
        "start_time": "2022-03-10T05:43:02.453Z"
      },
      {
        "duration": 50,
        "start_time": "2022-03-10T05:43:07.035Z"
      },
      {
        "duration": 52,
        "start_time": "2022-03-10T05:43:28.964Z"
      },
      {
        "duration": 1017,
        "start_time": "2022-03-10T05:43:43.513Z"
      },
      {
        "duration": 39,
        "start_time": "2022-03-10T05:47:56.759Z"
      },
      {
        "duration": 4,
        "start_time": "2022-03-10T05:47:58.800Z"
      },
      {
        "duration": 8,
        "start_time": "2022-03-10T05:48:01.388Z"
      },
      {
        "duration": 282,
        "start_time": "2022-03-10T05:48:04.894Z"
      },
      {
        "duration": 20608,
        "start_time": "2022-03-10T05:49:05.113Z"
      },
      {
        "duration": 48,
        "start_time": "2022-03-10T05:50:10.743Z"
      },
      {
        "duration": 52,
        "start_time": "2022-03-10T05:50:35.591Z"
      },
      {
        "duration": 5,
        "start_time": "2022-03-10T05:50:37.093Z"
      },
      {
        "duration": 7,
        "start_time": "2022-03-10T05:50:45.172Z"
      },
      {
        "duration": 274,
        "start_time": "2022-03-10T05:51:43.884Z"
      },
      {
        "duration": 3209,
        "start_time": "2022-03-10T05:52:15.915Z"
      },
      {
        "duration": 54,
        "start_time": "2022-03-10T05:53:01.874Z"
      },
      {
        "duration": 47,
        "start_time": "2022-03-10T05:53:29.525Z"
      },
      {
        "duration": 51,
        "start_time": "2022-03-10T05:53:59.637Z"
      },
      {
        "duration": 3186,
        "start_time": "2022-03-10T05:54:08.441Z"
      },
      {
        "duration": 35,
        "start_time": "2022-03-10T06:04:52.683Z"
      },
      {
        "duration": 52,
        "start_time": "2022-03-10T06:05:08.561Z"
      },
      {
        "duration": 5,
        "start_time": "2022-03-10T06:05:10.189Z"
      },
      {
        "duration": 7,
        "start_time": "2022-03-10T06:05:12.528Z"
      },
      {
        "duration": 21,
        "start_time": "2022-03-10T06:05:13.473Z"
      },
      {
        "duration": 36,
        "start_time": "2022-03-10T06:05:16.560Z"
      },
      {
        "duration": 68,
        "start_time": "2022-03-10T06:05:19.148Z"
      },
      {
        "duration": 88,
        "start_time": "2022-03-10T06:05:20.528Z"
      },
      {
        "duration": 29,
        "start_time": "2022-03-10T06:05:22.629Z"
      },
      {
        "duration": 19,
        "start_time": "2022-03-10T06:05:30.983Z"
      },
      {
        "duration": 114,
        "start_time": "2022-03-10T06:06:26.110Z"
      },
      {
        "duration": 58,
        "start_time": "2022-03-10T06:12:51.240Z"
      },
      {
        "duration": 19,
        "start_time": "2022-03-10T06:12:54.206Z"
      },
      {
        "duration": 85,
        "start_time": "2022-03-10T06:13:19.127Z"
      },
      {
        "duration": 194,
        "start_time": "2022-03-10T06:13:24.388Z"
      },
      {
        "duration": 20,
        "start_time": "2022-03-10T06:13:25.503Z"
      },
      {
        "duration": 1479,
        "start_time": "2022-03-10T06:13:46.217Z"
      },
      {
        "duration": 1054,
        "start_time": "2022-03-10T06:13:47.699Z"
      },
      {
        "duration": 21,
        "start_time": "2022-03-10T06:13:48.759Z"
      },
      {
        "duration": 50,
        "start_time": "2022-03-10T06:13:48.782Z"
      },
      {
        "duration": 4,
        "start_time": "2022-03-10T06:13:48.850Z"
      },
      {
        "duration": 14,
        "start_time": "2022-03-10T06:13:48.856Z"
      },
      {
        "duration": 24,
        "start_time": "2022-03-10T06:13:48.874Z"
      },
      {
        "duration": 54,
        "start_time": "2022-03-10T06:13:48.901Z"
      },
      {
        "duration": 76,
        "start_time": "2022-03-10T06:13:48.957Z"
      },
      {
        "duration": 135,
        "start_time": "2022-03-10T06:13:49.035Z"
      },
      {
        "duration": 52,
        "start_time": "2022-03-10T06:13:49.172Z"
      },
      {
        "duration": 79,
        "start_time": "2022-03-10T06:13:49.227Z"
      },
      {
        "duration": 18,
        "start_time": "2022-03-10T06:13:49.308Z"
      },
      {
        "duration": 5,
        "start_time": "2022-03-10T06:13:49.328Z"
      },
      {
        "duration": 3,
        "start_time": "2022-03-10T06:13:49.352Z"
      },
      {
        "duration": 1424,
        "start_time": "2022-03-10T06:14:23.459Z"
      },
      {
        "duration": 1017,
        "start_time": "2022-03-10T06:14:24.886Z"
      },
      {
        "duration": 20,
        "start_time": "2022-03-10T06:14:25.906Z"
      },
      {
        "duration": 60,
        "start_time": "2022-03-10T06:14:25.929Z"
      },
      {
        "duration": 5,
        "start_time": "2022-03-10T06:14:25.992Z"
      },
      {
        "duration": 10,
        "start_time": "2022-03-10T06:14:25.999Z"
      },
      {
        "duration": 45,
        "start_time": "2022-03-10T06:14:26.011Z"
      },
      {
        "duration": 40,
        "start_time": "2022-03-10T06:14:26.059Z"
      },
      {
        "duration": 91,
        "start_time": "2022-03-10T06:14:26.102Z"
      },
      {
        "duration": 128,
        "start_time": "2022-03-10T06:14:26.195Z"
      },
      {
        "duration": 58,
        "start_time": "2022-03-10T06:14:26.325Z"
      },
      {
        "duration": 101,
        "start_time": "2022-03-10T06:14:26.385Z"
      },
      {
        "duration": 18,
        "start_time": "2022-03-10T06:14:26.488Z"
      },
      {
        "duration": 7,
        "start_time": "2022-03-10T06:14:26.508Z"
      },
      {
        "duration": 9,
        "start_time": "2022-03-10T06:14:26.517Z"
      },
      {
        "duration": 100,
        "start_time": "2022-03-10T06:17:27.696Z"
      },
      {
        "duration": 103,
        "start_time": "2022-03-10T06:18:15.840Z"
      },
      {
        "duration": 306,
        "start_time": "2022-03-10T06:18:39.325Z"
      },
      {
        "duration": 1622,
        "start_time": "2022-03-10T06:18:58.544Z"
      },
      {
        "duration": 23,
        "start_time": "2022-03-10T06:19:16.889Z"
      },
      {
        "duration": 79,
        "start_time": "2022-03-10T06:20:04.189Z"
      },
      {
        "duration": 559,
        "start_time": "2022-03-10T06:20:52.556Z"
      },
      {
        "duration": 42,
        "start_time": "2022-03-10T06:21:58.639Z"
      },
      {
        "duration": 306,
        "start_time": "2022-03-10T06:24:17.585Z"
      },
      {
        "duration": 1480,
        "start_time": "2022-03-10T06:24:29.417Z"
      },
      {
        "duration": 1018,
        "start_time": "2022-03-10T06:24:31.991Z"
      },
      {
        "duration": 21,
        "start_time": "2022-03-10T06:24:35.155Z"
      },
      {
        "duration": 43,
        "start_time": "2022-03-10T06:24:39.230Z"
      },
      {
        "duration": 4,
        "start_time": "2022-03-10T06:24:40.803Z"
      },
      {
        "duration": 7,
        "start_time": "2022-03-10T06:24:43.328Z"
      },
      {
        "duration": 7,
        "start_time": "2022-03-10T06:24:44.133Z"
      },
      {
        "duration": 10,
        "start_time": "2022-03-10T06:25:08.158Z"
      },
      {
        "duration": 23,
        "start_time": "2022-03-10T06:25:22.697Z"
      },
      {
        "duration": 118,
        "start_time": "2022-03-10T06:25:30.324Z"
      },
      {
        "duration": 1482,
        "start_time": "2022-03-10T06:26:17.944Z"
      },
      {
        "duration": 1075,
        "start_time": "2022-03-10T06:26:19.428Z"
      },
      {
        "duration": 20,
        "start_time": "2022-03-10T06:26:20.506Z"
      },
      {
        "duration": 63,
        "start_time": "2022-03-10T06:26:20.529Z"
      },
      {
        "duration": 4,
        "start_time": "2022-03-10T06:26:20.595Z"
      },
      {
        "duration": 10,
        "start_time": "2022-03-10T06:26:20.602Z"
      },
      {
        "duration": 10,
        "start_time": "2022-03-10T06:26:20.615Z"
      },
      {
        "duration": 22,
        "start_time": "2022-03-10T06:26:20.652Z"
      },
      {
        "duration": 47,
        "start_time": "2022-03-10T06:26:20.676Z"
      },
      {
        "duration": 96,
        "start_time": "2022-03-10T06:26:20.726Z"
      },
      {
        "duration": 135,
        "start_time": "2022-03-10T06:26:20.825Z"
      },
      {
        "duration": 53,
        "start_time": "2022-03-10T06:26:20.963Z"
      },
      {
        "duration": 111,
        "start_time": "2022-03-10T06:26:21.018Z"
      },
      {
        "duration": 120,
        "start_time": "2022-03-10T06:26:21.131Z"
      },
      {
        "duration": 21,
        "start_time": "2022-03-10T06:26:21.253Z"
      },
      {
        "duration": 41,
        "start_time": "2022-03-10T06:26:21.276Z"
      },
      {
        "duration": 4,
        "start_time": "2022-03-10T06:26:21.319Z"
      },
      {
        "duration": 8,
        "start_time": "2022-03-10T06:26:21.352Z"
      },
      {
        "duration": 1552,
        "start_time": "2022-03-10T06:27:49.560Z"
      },
      {
        "duration": 1063,
        "start_time": "2022-03-10T06:27:51.114Z"
      },
      {
        "duration": 22,
        "start_time": "2022-03-10T06:27:52.181Z"
      },
      {
        "duration": 65,
        "start_time": "2022-03-10T06:27:52.205Z"
      },
      {
        "duration": 5,
        "start_time": "2022-03-10T06:27:52.273Z"
      },
      {
        "duration": 13,
        "start_time": "2022-03-10T06:27:52.281Z"
      },
      {
        "duration": 10,
        "start_time": "2022-03-10T06:27:52.297Z"
      },
      {
        "duration": 49,
        "start_time": "2022-03-10T06:27:52.311Z"
      },
      {
        "duration": 41,
        "start_time": "2022-03-10T06:27:52.363Z"
      },
      {
        "duration": 97,
        "start_time": "2022-03-10T06:27:52.407Z"
      },
      {
        "duration": 138,
        "start_time": "2022-03-10T06:27:52.507Z"
      },
      {
        "duration": 4,
        "start_time": "2022-03-10T06:27:52.648Z"
      },
      {
        "duration": 108,
        "start_time": "2022-03-10T06:27:52.654Z"
      },
      {
        "duration": 113,
        "start_time": "2022-03-10T06:27:52.765Z"
      },
      {
        "duration": 38,
        "start_time": "2022-03-10T06:27:52.881Z"
      },
      {
        "duration": 45,
        "start_time": "2022-03-10T06:27:52.922Z"
      },
      {
        "duration": 44,
        "start_time": "2022-03-10T06:27:52.969Z"
      },
      {
        "duration": 4,
        "start_time": "2022-03-10T06:27:53.015Z"
      },
      {
        "duration": 30,
        "start_time": "2022-03-10T06:27:53.021Z"
      },
      {
        "duration": 21,
        "start_time": "2022-03-10T06:29:31.215Z"
      },
      {
        "duration": 101,
        "start_time": "2022-03-10T06:34:33.946Z"
      },
      {
        "duration": 1457,
        "start_time": "2022-03-10T06:34:43.946Z"
      },
      {
        "duration": 1029,
        "start_time": "2022-03-10T06:34:45.405Z"
      },
      {
        "duration": 25,
        "start_time": "2022-03-10T06:34:46.437Z"
      },
      {
        "duration": 45,
        "start_time": "2022-03-10T06:34:46.465Z"
      },
      {
        "duration": 6,
        "start_time": "2022-03-10T06:34:46.512Z"
      },
      {
        "duration": 33,
        "start_time": "2022-03-10T06:34:46.521Z"
      },
      {
        "duration": 11,
        "start_time": "2022-03-10T06:34:46.556Z"
      },
      {
        "duration": 21,
        "start_time": "2022-03-10T06:34:46.572Z"
      },
      {
        "duration": 75,
        "start_time": "2022-03-10T06:34:46.596Z"
      },
      {
        "duration": 90,
        "start_time": "2022-03-10T06:34:46.673Z"
      },
      {
        "duration": 131,
        "start_time": "2022-03-10T06:34:46.766Z"
      },
      {
        "duration": 126,
        "start_time": "2022-03-10T06:34:46.899Z"
      },
      {
        "duration": 29,
        "start_time": "2022-03-10T06:34:47.027Z"
      },
      {
        "duration": 3,
        "start_time": "2022-03-10T06:34:47.059Z"
      },
      {
        "duration": 120,
        "start_time": "2022-03-10T06:34:47.065Z"
      },
      {
        "duration": 120,
        "start_time": "2022-03-10T06:34:47.188Z"
      },
      {
        "duration": 50,
        "start_time": "2022-03-10T06:34:47.311Z"
      },
      {
        "duration": 23,
        "start_time": "2022-03-10T06:34:47.365Z"
      },
      {
        "duration": 74,
        "start_time": "2022-03-10T06:34:47.390Z"
      },
      {
        "duration": 4,
        "start_time": "2022-03-10T06:34:47.468Z"
      },
      {
        "duration": 7,
        "start_time": "2022-03-10T06:34:47.475Z"
      },
      {
        "duration": 1515,
        "start_time": "2022-03-10T06:40:14.994Z"
      },
      {
        "duration": 1040,
        "start_time": "2022-03-10T06:40:16.512Z"
      },
      {
        "duration": 20,
        "start_time": "2022-03-10T06:40:17.555Z"
      },
      {
        "duration": 44,
        "start_time": "2022-03-10T06:40:17.578Z"
      },
      {
        "duration": 32,
        "start_time": "2022-03-10T06:40:17.625Z"
      },
      {
        "duration": 7,
        "start_time": "2022-03-10T06:40:17.660Z"
      },
      {
        "duration": 11,
        "start_time": "2022-03-10T06:40:17.670Z"
      },
      {
        "duration": 21,
        "start_time": "2022-03-10T06:40:17.685Z"
      },
      {
        "duration": 67,
        "start_time": "2022-03-10T06:40:17.709Z"
      },
      {
        "duration": 135,
        "start_time": "2022-03-10T06:40:17.779Z"
      },
      {
        "duration": 121,
        "start_time": "2022-03-10T06:40:17.916Z"
      },
      {
        "duration": 68,
        "start_time": "2022-03-10T06:40:18.039Z"
      },
      {
        "duration": 14,
        "start_time": "2022-03-10T06:40:18.109Z"
      },
      {
        "duration": 3,
        "start_time": "2022-03-10T06:40:18.126Z"
      },
      {
        "duration": 103,
        "start_time": "2022-03-10T06:40:18.151Z"
      },
      {
        "duration": 118,
        "start_time": "2022-03-10T06:40:18.256Z"
      },
      {
        "duration": 18,
        "start_time": "2022-03-10T06:40:18.377Z"
      },
      {
        "duration": 21,
        "start_time": "2022-03-10T06:40:18.397Z"
      },
      {
        "duration": 69,
        "start_time": "2022-03-10T06:40:18.420Z"
      },
      {
        "duration": 3,
        "start_time": "2022-03-10T06:40:18.492Z"
      },
      {
        "duration": 7,
        "start_time": "2022-03-10T06:40:18.498Z"
      },
      {
        "duration": 1432,
        "start_time": "2022-03-10T06:40:55.357Z"
      },
      {
        "duration": 991,
        "start_time": "2022-03-10T06:40:56.791Z"
      },
      {
        "duration": 20,
        "start_time": "2022-03-10T06:40:57.785Z"
      },
      {
        "duration": 60,
        "start_time": "2022-03-10T06:40:57.808Z"
      },
      {
        "duration": 4,
        "start_time": "2022-03-10T06:40:57.871Z"
      },
      {
        "duration": 9,
        "start_time": "2022-03-10T06:40:57.878Z"
      },
      {
        "duration": 11,
        "start_time": "2022-03-10T06:40:57.889Z"
      },
      {
        "duration": 53,
        "start_time": "2022-03-10T06:40:57.905Z"
      },
      {
        "duration": 41,
        "start_time": "2022-03-10T06:40:57.960Z"
      },
      {
        "duration": 152,
        "start_time": "2022-03-10T06:40:58.004Z"
      },
      {
        "duration": 133,
        "start_time": "2022-03-10T06:40:58.159Z"
      },
      {
        "duration": 74,
        "start_time": "2022-03-10T06:40:58.295Z"
      },
      {
        "duration": 53,
        "start_time": "2022-03-10T06:40:58.371Z"
      },
      {
        "duration": 108,
        "start_time": "2022-03-10T06:40:58.427Z"
      },
      {
        "duration": 118,
        "start_time": "2022-03-10T06:40:58.537Z"
      },
      {
        "duration": 24,
        "start_time": "2022-03-10T06:40:58.658Z"
      },
      {
        "duration": 73,
        "start_time": "2022-03-10T06:40:58.684Z"
      },
      {
        "duration": 4,
        "start_time": "2022-03-10T06:40:58.760Z"
      },
      {
        "duration": 8,
        "start_time": "2022-03-10T06:40:58.766Z"
      },
      {
        "duration": 1436,
        "start_time": "2022-03-10T09:26:40.768Z"
      },
      {
        "duration": 1068,
        "start_time": "2022-03-10T09:26:42.207Z"
      },
      {
        "duration": 20,
        "start_time": "2022-03-10T09:26:43.278Z"
      },
      {
        "duration": 63,
        "start_time": "2022-03-10T09:26:43.301Z"
      },
      {
        "duration": 7,
        "start_time": "2022-03-10T09:26:43.366Z"
      },
      {
        "duration": 9,
        "start_time": "2022-03-10T09:26:43.375Z"
      },
      {
        "duration": 11,
        "start_time": "2022-03-10T09:26:43.386Z"
      },
      {
        "duration": 57,
        "start_time": "2022-03-10T09:26:43.400Z"
      },
      {
        "duration": 52,
        "start_time": "2022-03-10T09:26:43.461Z"
      },
      {
        "duration": 167,
        "start_time": "2022-03-10T09:26:43.516Z"
      },
      {
        "duration": 161,
        "start_time": "2022-03-10T09:26:43.686Z"
      },
      {
        "duration": 84,
        "start_time": "2022-03-10T09:26:43.852Z"
      },
      {
        "duration": 60,
        "start_time": "2022-03-10T09:26:43.953Z"
      },
      {
        "duration": 115,
        "start_time": "2022-03-10T09:26:44.015Z"
      },
      {
        "duration": 109,
        "start_time": "2022-03-10T09:26:44.132Z"
      },
      {
        "duration": 24,
        "start_time": "2022-03-10T09:26:44.252Z"
      },
      {
        "duration": 42,
        "start_time": "2022-03-10T09:26:44.280Z"
      },
      {
        "duration": 3,
        "start_time": "2022-03-10T09:26:44.352Z"
      },
      {
        "duration": 11,
        "start_time": "2022-03-10T09:26:44.357Z"
      },
      {
        "duration": 23,
        "start_time": "2022-03-10T09:41:45.158Z"
      },
      {
        "duration": 39,
        "start_time": "2022-03-10T09:41:58.705Z"
      },
      {
        "duration": 5,
        "start_time": "2022-03-10T09:44:04.095Z"
      },
      {
        "duration": 39,
        "start_time": "2022-03-10T09:46:14.974Z"
      },
      {
        "duration": 20,
        "start_time": "2022-03-10T09:46:24.891Z"
      },
      {
        "duration": 10,
        "start_time": "2022-03-10T09:46:50.180Z"
      },
      {
        "duration": 16,
        "start_time": "2022-03-10T09:46:58.716Z"
      },
      {
        "duration": 15,
        "start_time": "2022-03-10T09:47:07.583Z"
      },
      {
        "duration": 16,
        "start_time": "2022-03-10T09:47:21.518Z"
      },
      {
        "duration": 15,
        "start_time": "2022-03-10T09:47:45.116Z"
      },
      {
        "duration": 16,
        "start_time": "2022-03-10T09:50:56.002Z"
      },
      {
        "duration": 108,
        "start_time": "2022-03-10T09:51:48.245Z"
      },
      {
        "duration": 701,
        "start_time": "2022-03-10T09:52:15.205Z"
      },
      {
        "duration": 373,
        "start_time": "2022-03-10T09:52:48.087Z"
      },
      {
        "duration": 367,
        "start_time": "2022-03-10T09:53:02.304Z"
      },
      {
        "duration": 650,
        "start_time": "2022-03-10T09:53:12.081Z"
      },
      {
        "duration": 439,
        "start_time": "2022-03-10T09:53:38.121Z"
      },
      {
        "duration": 45,
        "start_time": "2022-03-10T09:56:31.696Z"
      },
      {
        "duration": 41,
        "start_time": "2022-03-10T09:56:37.464Z"
      },
      {
        "duration": 41,
        "start_time": "2022-03-10T09:56:42.558Z"
      },
      {
        "duration": 49,
        "start_time": "2022-03-10T09:56:48.132Z"
      },
      {
        "duration": 126,
        "start_time": "2022-03-10T11:50:48.025Z"
      },
      {
        "duration": 29,
        "start_time": "2022-03-10T11:51:28.180Z"
      },
      {
        "duration": 40,
        "start_time": "2022-03-10T11:51:36.369Z"
      },
      {
        "duration": 42,
        "start_time": "2022-03-10T12:23:28.651Z"
      },
      {
        "duration": 6,
        "start_time": "2022-03-10T12:24:12.213Z"
      },
      {
        "duration": 182,
        "start_time": "2022-03-10T12:26:34.172Z"
      },
      {
        "duration": 61,
        "start_time": "2022-03-10T12:28:09.201Z"
      },
      {
        "duration": 19,
        "start_time": "2022-03-10T12:33:29.264Z"
      },
      {
        "duration": 12,
        "start_time": "2022-03-10T12:42:21.045Z"
      },
      {
        "duration": 4,
        "start_time": "2022-03-10T12:42:27.161Z"
      },
      {
        "duration": 13,
        "start_time": "2022-03-10T12:42:27.930Z"
      },
      {
        "duration": 19,
        "start_time": "2022-03-10T12:45:54.080Z"
      },
      {
        "duration": 21,
        "start_time": "2022-03-10T12:46:05.131Z"
      },
      {
        "duration": 25,
        "start_time": "2022-03-10T12:46:24.352Z"
      },
      {
        "duration": 1616,
        "start_time": "2022-03-10T12:47:04.222Z"
      },
      {
        "duration": 1202,
        "start_time": "2022-03-10T12:47:05.841Z"
      },
      {
        "duration": 26,
        "start_time": "2022-03-10T12:47:07.046Z"
      },
      {
        "duration": 45,
        "start_time": "2022-03-10T12:47:07.075Z"
      },
      {
        "duration": 30,
        "start_time": "2022-03-10T12:47:07.124Z"
      },
      {
        "duration": 10,
        "start_time": "2022-03-10T12:47:07.163Z"
      },
      {
        "duration": 19,
        "start_time": "2022-03-10T12:47:07.175Z"
      },
      {
        "duration": 20,
        "start_time": "2022-03-10T12:47:07.200Z"
      },
      {
        "duration": 45,
        "start_time": "2022-03-10T12:47:07.251Z"
      },
      {
        "duration": 138,
        "start_time": "2022-03-10T12:47:07.299Z"
      },
      {
        "duration": 143,
        "start_time": "2022-03-10T12:47:07.439Z"
      },
      {
        "duration": 87,
        "start_time": "2022-03-10T12:47:07.584Z"
      },
      {
        "duration": 52,
        "start_time": "2022-03-10T12:47:07.673Z"
      },
      {
        "duration": 121,
        "start_time": "2022-03-10T12:47:07.728Z"
      },
      {
        "duration": 130,
        "start_time": "2022-03-10T12:47:07.852Z"
      },
      {
        "duration": 24,
        "start_time": "2022-03-10T12:47:07.985Z"
      },
      {
        "duration": 41,
        "start_time": "2022-03-10T12:47:08.012Z"
      },
      {
        "duration": 133,
        "start_time": "2022-03-10T12:47:08.056Z"
      },
      {
        "duration": 414,
        "start_time": "2022-03-10T12:47:08.191Z"
      },
      {
        "duration": 56,
        "start_time": "2022-03-10T12:47:08.607Z"
      },
      {
        "duration": 27,
        "start_time": "2022-03-10T12:47:08.667Z"
      },
      {
        "duration": 9,
        "start_time": "2022-03-10T12:47:08.697Z"
      },
      {
        "duration": 59,
        "start_time": "2022-03-10T12:47:08.712Z"
      },
      {
        "duration": 24,
        "start_time": "2022-03-10T12:47:15.071Z"
      },
      {
        "duration": 23,
        "start_time": "2022-03-10T12:48:15.306Z"
      },
      {
        "duration": 53,
        "start_time": "2022-03-10T12:48:35.727Z"
      },
      {
        "duration": 80,
        "start_time": "2022-03-10T12:50:17.655Z"
      },
      {
        "duration": 23,
        "start_time": "2022-03-10T12:50:25.216Z"
      },
      {
        "duration": 18,
        "start_time": "2022-03-10T12:50:39.130Z"
      },
      {
        "duration": 47,
        "start_time": "2022-03-10T12:51:44.756Z"
      },
      {
        "duration": 56,
        "start_time": "2022-03-10T12:52:11.468Z"
      },
      {
        "duration": 26,
        "start_time": "2022-03-10T12:59:52.133Z"
      },
      {
        "duration": 20,
        "start_time": "2022-03-10T13:00:12.366Z"
      },
      {
        "duration": 1179,
        "start_time": "2022-03-11T08:58:11.238Z"
      },
      {
        "duration": 755,
        "start_time": "2022-03-11T08:58:12.419Z"
      },
      {
        "duration": 14,
        "start_time": "2022-03-11T08:58:13.176Z"
      },
      {
        "duration": 39,
        "start_time": "2022-03-11T08:58:13.192Z"
      },
      {
        "duration": 7,
        "start_time": "2022-03-11T08:58:13.233Z"
      },
      {
        "duration": 8,
        "start_time": "2022-03-11T08:58:13.241Z"
      },
      {
        "duration": 14,
        "start_time": "2022-03-11T08:58:13.251Z"
      },
      {
        "duration": 17,
        "start_time": "2022-03-11T08:58:13.267Z"
      },
      {
        "duration": 23,
        "start_time": "2022-03-11T08:58:13.285Z"
      },
      {
        "duration": 123,
        "start_time": "2022-03-11T08:58:13.309Z"
      },
      {
        "duration": 107,
        "start_time": "2022-03-11T08:58:13.433Z"
      },
      {
        "duration": 54,
        "start_time": "2022-03-11T08:58:13.541Z"
      },
      {
        "duration": 34,
        "start_time": "2022-03-11T08:58:13.597Z"
      },
      {
        "duration": 85,
        "start_time": "2022-03-11T08:58:13.633Z"
      },
      {
        "duration": 97,
        "start_time": "2022-03-11T08:58:13.720Z"
      },
      {
        "duration": 39,
        "start_time": "2022-03-11T08:58:18.164Z"
      },
      {
        "duration": 310,
        "start_time": "2022-03-11T08:58:41.158Z"
      },
      {
        "duration": 12062,
        "start_time": "2022-03-11T08:58:51.546Z"
      },
      {
        "duration": 22,
        "start_time": "2022-03-11T08:59:17.829Z"
      },
      {
        "duration": 212,
        "start_time": "2022-03-11T09:00:28.281Z"
      },
      {
        "duration": 214,
        "start_time": "2022-03-11T09:00:33.795Z"
      },
      {
        "duration": 210,
        "start_time": "2022-03-11T09:01:46.231Z"
      },
      {
        "duration": 23,
        "start_time": "2022-03-11T09:02:26.699Z"
      },
      {
        "duration": 20,
        "start_time": "2022-03-11T09:04:46.362Z"
      },
      {
        "duration": 21,
        "start_time": "2022-03-11T09:04:47.378Z"
      },
      {
        "duration": 22,
        "start_time": "2022-03-11T09:04:55.862Z"
      },
      {
        "duration": 4766,
        "start_time": "2022-03-11T11:08:28.269Z"
      },
      {
        "duration": 5261,
        "start_time": "2022-03-11T11:08:35.027Z"
      },
      {
        "duration": 1169,
        "start_time": "2022-03-11T11:09:27.262Z"
      },
      {
        "duration": 793,
        "start_time": "2022-03-11T11:09:29.354Z"
      },
      {
        "duration": 16,
        "start_time": "2022-03-11T11:09:32.479Z"
      },
      {
        "duration": 34,
        "start_time": "2022-03-11T11:09:36.068Z"
      },
      {
        "duration": 3,
        "start_time": "2022-03-11T11:09:37.598Z"
      },
      {
        "duration": 85,
        "start_time": "2022-03-11T11:10:00.858Z"
      },
      {
        "duration": 6,
        "start_time": "2022-03-11T11:10:08.537Z"
      },
      {
        "duration": 6,
        "start_time": "2022-03-11T11:10:13.527Z"
      },
      {
        "duration": 9,
        "start_time": "2022-03-11T11:10:14.874Z"
      },
      {
        "duration": 20,
        "start_time": "2022-03-11T11:10:17.089Z"
      },
      {
        "duration": 25,
        "start_time": "2022-03-11T11:10:31.912Z"
      },
      {
        "duration": 96,
        "start_time": "2022-03-11T11:10:36.627Z"
      },
      {
        "duration": 95,
        "start_time": "2022-03-11T11:10:38.881Z"
      },
      {
        "duration": 47,
        "start_time": "2022-03-11T11:10:51.284Z"
      },
      {
        "duration": 37,
        "start_time": "2022-03-11T11:10:53.840Z"
      },
      {
        "duration": 71,
        "start_time": "2022-03-11T11:10:55.295Z"
      },
      {
        "duration": 83,
        "start_time": "2022-03-11T11:10:56.008Z"
      },
      {
        "duration": 19,
        "start_time": "2022-03-11T11:11:13.495Z"
      },
      {
        "duration": 51,
        "start_time": "2022-03-11T11:12:36.437Z"
      },
      {
        "duration": 37,
        "start_time": "2022-03-11T11:13:08.134Z"
      },
      {
        "duration": 16,
        "start_time": "2022-03-11T11:14:36.931Z"
      },
      {
        "duration": 19,
        "start_time": "2022-03-11T11:14:45.922Z"
      },
      {
        "duration": 21,
        "start_time": "2022-03-11T11:14:48.013Z"
      },
      {
        "duration": 38,
        "start_time": "2022-03-11T11:18:40.956Z"
      },
      {
        "duration": 42,
        "start_time": "2022-03-11T11:20:20.582Z"
      },
      {
        "duration": 38,
        "start_time": "2022-03-11T11:20:35.090Z"
      },
      {
        "duration": 83,
        "start_time": "2022-03-11T11:21:31.831Z"
      },
      {
        "duration": 53,
        "start_time": "2022-03-11T11:21:44.160Z"
      },
      {
        "duration": 87,
        "start_time": "2022-03-11T11:26:00.885Z"
      },
      {
        "duration": 130,
        "start_time": "2022-03-11T11:26:58.686Z"
      },
      {
        "duration": 137,
        "start_time": "2022-03-11T11:27:12.691Z"
      },
      {
        "duration": 41,
        "start_time": "2022-03-11T11:28:21.213Z"
      },
      {
        "duration": 39,
        "start_time": "2022-03-11T11:28:38.781Z"
      },
      {
        "duration": 13,
        "start_time": "2022-03-11T11:31:13.465Z"
      },
      {
        "duration": 23,
        "start_time": "2022-03-11T11:39:54.215Z"
      },
      {
        "duration": 36,
        "start_time": "2022-03-11T11:40:15.415Z"
      },
      {
        "duration": 20,
        "start_time": "2022-03-11T11:40:27.744Z"
      },
      {
        "duration": 17,
        "start_time": "2022-03-11T11:40:29.339Z"
      },
      {
        "duration": 32,
        "start_time": "2022-03-11T11:45:54.101Z"
      },
      {
        "duration": 16,
        "start_time": "2022-03-11T11:52:18.264Z"
      },
      {
        "duration": 3124,
        "start_time": "2022-03-11T11:52:19.775Z"
      },
      {
        "duration": 6,
        "start_time": "2022-03-11T11:52:41.083Z"
      },
      {
        "duration": 3089,
        "start_time": "2022-03-11T11:52:55.246Z"
      },
      {
        "duration": 18,
        "start_time": "2022-03-11T11:53:33.832Z"
      },
      {
        "duration": 4,
        "start_time": "2022-03-11T11:53:34.586Z"
      },
      {
        "duration": 37,
        "start_time": "2022-03-11T11:53:40.502Z"
      },
      {
        "duration": 33,
        "start_time": "2022-03-11T12:04:20.927Z"
      },
      {
        "duration": 182,
        "start_time": "2022-03-11T12:04:28.989Z"
      },
      {
        "duration": 5,
        "start_time": "2022-03-11T12:04:53.791Z"
      },
      {
        "duration": 6,
        "start_time": "2022-03-11T12:04:58.504Z"
      },
      {
        "duration": 6,
        "start_time": "2022-03-11T12:05:22.950Z"
      },
      {
        "duration": 8,
        "start_time": "2022-03-11T12:06:01.278Z"
      },
      {
        "duration": 5,
        "start_time": "2022-03-11T12:06:32.949Z"
      },
      {
        "duration": 6,
        "start_time": "2022-03-11T12:06:42.958Z"
      },
      {
        "duration": 3,
        "start_time": "2022-03-11T12:06:45.504Z"
      },
      {
        "duration": 6,
        "start_time": "2022-03-11T12:07:00.005Z"
      },
      {
        "duration": 4,
        "start_time": "2022-03-11T12:07:02.379Z"
      },
      {
        "duration": 6,
        "start_time": "2022-03-11T12:07:31.576Z"
      },
      {
        "duration": 4,
        "start_time": "2022-03-11T12:07:34.087Z"
      },
      {
        "duration": 6,
        "start_time": "2022-03-11T12:07:43.542Z"
      },
      {
        "duration": 4,
        "start_time": "2022-03-11T12:07:44.422Z"
      },
      {
        "duration": 5,
        "start_time": "2022-03-11T12:12:27.037Z"
      },
      {
        "duration": 4,
        "start_time": "2022-03-11T12:12:28.696Z"
      },
      {
        "duration": 193,
        "start_time": "2022-03-11T12:14:25.206Z"
      },
      {
        "duration": 4,
        "start_time": "2022-03-11T12:14:34.015Z"
      },
      {
        "duration": 6,
        "start_time": "2022-03-11T12:18:10.982Z"
      },
      {
        "duration": 4,
        "start_time": "2022-03-11T12:18:12.429Z"
      },
      {
        "duration": 4,
        "start_time": "2022-03-11T12:18:29.064Z"
      },
      {
        "duration": 6,
        "start_time": "2022-03-11T12:18:39.046Z"
      },
      {
        "duration": 6,
        "start_time": "2022-03-11T12:18:41.489Z"
      },
      {
        "duration": 5,
        "start_time": "2022-03-11T12:18:41.968Z"
      },
      {
        "duration": 6,
        "start_time": "2022-03-11T12:18:55.154Z"
      },
      {
        "duration": 6,
        "start_time": "2022-03-11T12:18:57.728Z"
      },
      {
        "duration": 5,
        "start_time": "2022-03-11T12:18:58.143Z"
      },
      {
        "duration": 6,
        "start_time": "2022-03-11T12:19:05.786Z"
      },
      {
        "duration": 4,
        "start_time": "2022-03-11T12:19:06.482Z"
      },
      {
        "duration": 7,
        "start_time": "2022-03-11T12:19:12.768Z"
      },
      {
        "duration": 4,
        "start_time": "2022-03-11T12:19:13.540Z"
      },
      {
        "duration": 7,
        "start_time": "2022-03-11T12:19:27.453Z"
      },
      {
        "duration": 3,
        "start_time": "2022-03-11T12:19:28.264Z"
      },
      {
        "duration": 194,
        "start_time": "2022-03-11T12:23:12.634Z"
      },
      {
        "duration": 408,
        "start_time": "2022-03-11T12:23:30.900Z"
      },
      {
        "duration": 295,
        "start_time": "2022-03-11T12:23:41.540Z"
      },
      {
        "duration": 24,
        "start_time": "2022-03-11T12:23:53.369Z"
      },
      {
        "duration": 15,
        "start_time": "2022-03-11T12:24:03.561Z"
      },
      {
        "duration": 7,
        "start_time": "2022-03-11T12:24:42.146Z"
      },
      {
        "duration": 15,
        "start_time": "2022-03-11T12:24:44.257Z"
      },
      {
        "duration": 3,
        "start_time": "2022-03-11T12:24:51.144Z"
      },
      {
        "duration": 17,
        "start_time": "2022-03-11T12:25:37.878Z"
      },
      {
        "duration": 5,
        "start_time": "2022-03-11T12:25:38.996Z"
      },
      {
        "duration": 34,
        "start_time": "2022-03-11T12:25:40.118Z"
      },
      {
        "duration": 7,
        "start_time": "2022-03-11T12:26:03.908Z"
      },
      {
        "duration": 4,
        "start_time": "2022-03-11T12:26:04.675Z"
      },
      {
        "duration": 7,
        "start_time": "2022-03-11T12:27:05.159Z"
      },
      {
        "duration": 15,
        "start_time": "2022-03-11T12:27:06.100Z"
      },
      {
        "duration": 5,
        "start_time": "2022-03-11T12:27:14.322Z"
      },
      {
        "duration": 38,
        "start_time": "2022-03-11T12:27:20.491Z"
      },
      {
        "duration": 8,
        "start_time": "2022-03-11T12:27:30.166Z"
      },
      {
        "duration": 4,
        "start_time": "2022-03-11T12:27:30.706Z"
      },
      {
        "duration": 9,
        "start_time": "2022-03-11T12:27:38.700Z"
      },
      {
        "duration": 15,
        "start_time": "2022-03-11T12:27:41.266Z"
      },
      {
        "duration": 2,
        "start_time": "2022-03-11T12:28:34.260Z"
      },
      {
        "duration": 75,
        "start_time": "2022-03-11T12:28:35.451Z"
      },
      {
        "duration": 60,
        "start_time": "2022-03-11T12:28:47.133Z"
      },
      {
        "duration": 6,
        "start_time": "2022-03-11T12:29:43.373Z"
      },
      {
        "duration": 426375,
        "start_time": "2022-03-11T12:30:10.990Z"
      },
      {
        "duration": 1166,
        "start_time": "2022-03-11T12:38:15.355Z"
      },
      {
        "duration": 802,
        "start_time": "2022-03-11T12:38:16.524Z"
      },
      {
        "duration": 16,
        "start_time": "2022-03-11T12:38:17.329Z"
      },
      {
        "duration": 33,
        "start_time": "2022-03-11T12:38:17.359Z"
      },
      {
        "duration": 5,
        "start_time": "2022-03-11T12:38:17.394Z"
      },
      {
        "duration": 8,
        "start_time": "2022-03-11T12:38:17.400Z"
      },
      {
        "duration": 7,
        "start_time": "2022-03-11T12:38:17.410Z"
      },
      {
        "duration": 39,
        "start_time": "2022-03-11T12:38:17.421Z"
      },
      {
        "duration": 18,
        "start_time": "2022-03-11T12:38:17.462Z"
      },
      {
        "duration": 25,
        "start_time": "2022-03-11T12:38:17.482Z"
      },
      {
        "duration": 115,
        "start_time": "2022-03-11T12:38:17.509Z"
      },
      {
        "duration": 59,
        "start_time": "2022-03-11T12:38:17.626Z"
      },
      {
        "duration": 37,
        "start_time": "2022-03-11T12:38:17.686Z"
      },
      {
        "duration": 76,
        "start_time": "2022-03-11T12:38:17.725Z"
      },
      {
        "duration": 98,
        "start_time": "2022-03-11T12:38:17.803Z"
      },
      {
        "duration": 34,
        "start_time": "2022-03-11T12:38:17.903Z"
      },
      {
        "duration": 30,
        "start_time": "2022-03-11T12:38:17.939Z"
      },
      {
        "duration": 21,
        "start_time": "2022-03-11T12:38:17.970Z"
      },
      {
        "duration": 24,
        "start_time": "2022-03-11T12:38:17.993Z"
      },
      {
        "duration": 22,
        "start_time": "2022-03-11T12:38:18.019Z"
      },
      {
        "duration": 44,
        "start_time": "2022-03-11T12:38:18.060Z"
      },
      {
        "duration": 19,
        "start_time": "2022-03-11T12:38:18.106Z"
      },
      {
        "duration": 31,
        "start_time": "2022-03-11T12:38:18.129Z"
      },
      {
        "duration": 35,
        "start_time": "2022-03-11T12:38:18.162Z"
      },
      {
        "duration": 3,
        "start_time": "2022-03-11T12:38:18.199Z"
      },
      {
        "duration": 12,
        "start_time": "2022-03-11T12:38:18.204Z"
      },
      {
        "duration": 27,
        "start_time": "2022-03-11T12:38:18.218Z"
      },
      {
        "duration": 14,
        "start_time": "2022-03-11T12:38:18.247Z"
      },
      {
        "duration": 37,
        "start_time": "2022-03-11T12:38:18.262Z"
      },
      {
        "duration": 7,
        "start_time": "2022-03-11T12:38:18.300Z"
      },
      {
        "duration": 3,
        "start_time": "2022-03-11T12:38:18.309Z"
      },
      {
        "duration": 9,
        "start_time": "2022-03-11T12:38:18.314Z"
      },
      {
        "duration": 44,
        "start_time": "2022-03-11T12:38:18.325Z"
      },
      {
        "duration": 1329175,
        "start_time": "2022-03-11T12:38:27.424Z"
      },
      {
        "duration": 5,
        "start_time": "2022-03-11T13:00:44.212Z"
      },
      {
        "duration": 33,
        "start_time": "2022-03-11T13:03:42.786Z"
      },
      {
        "duration": 38,
        "start_time": "2022-03-11T13:22:49.239Z"
      },
      {
        "duration": 32,
        "start_time": "2022-03-11T13:23:05.827Z"
      },
      {
        "duration": 37,
        "start_time": "2022-03-11T13:23:14.207Z"
      },
      {
        "duration": 36,
        "start_time": "2022-03-11T13:23:17.148Z"
      },
      {
        "duration": 33,
        "start_time": "2022-03-11T13:23:22.338Z"
      },
      {
        "duration": 24,
        "start_time": "2022-03-11T13:23:55.863Z"
      },
      {
        "duration": 9,
        "start_time": "2022-03-11T13:36:51.048Z"
      },
      {
        "duration": 5,
        "start_time": "2022-03-11T13:37:35.163Z"
      },
      {
        "duration": 3101,
        "start_time": "2022-03-11T13:37:42.112Z"
      },
      {
        "duration": 38,
        "start_time": "2022-03-11T13:37:53.045Z"
      },
      {
        "duration": 36,
        "start_time": "2022-03-11T13:38:27.988Z"
      },
      {
        "duration": 16,
        "start_time": "2022-03-11T13:39:05.435Z"
      },
      {
        "duration": 4,
        "start_time": "2022-03-11T13:39:06.369Z"
      },
      {
        "duration": 16,
        "start_time": "2022-03-11T13:39:25.409Z"
      },
      {
        "duration": 4,
        "start_time": "2022-03-11T13:39:26.514Z"
      },
      {
        "duration": 1341,
        "start_time": "2022-03-11T13:39:47.661Z"
      },
      {
        "duration": 791,
        "start_time": "2022-03-11T13:39:49.004Z"
      },
      {
        "duration": 13,
        "start_time": "2022-03-11T13:39:49.797Z"
      },
      {
        "duration": 33,
        "start_time": "2022-03-11T13:39:49.812Z"
      },
      {
        "duration": 3,
        "start_time": "2022-03-11T13:39:49.859Z"
      },
      {
        "duration": 7,
        "start_time": "2022-03-11T13:39:49.864Z"
      },
      {
        "duration": 6,
        "start_time": "2022-03-11T13:39:49.873Z"
      },
      {
        "duration": 7,
        "start_time": "2022-03-11T13:39:49.881Z"
      },
      {
        "duration": 18,
        "start_time": "2022-03-11T13:39:49.890Z"
      },
      {
        "duration": 60,
        "start_time": "2022-03-11T13:39:49.910Z"
      },
      {
        "duration": 100,
        "start_time": "2022-03-11T13:39:49.971Z"
      },
      {
        "duration": 49,
        "start_time": "2022-03-11T13:39:50.073Z"
      },
      {
        "duration": 45,
        "start_time": "2022-03-11T13:39:50.124Z"
      },
      {
        "duration": 71,
        "start_time": "2022-03-11T13:39:50.171Z"
      },
      {
        "duration": 96,
        "start_time": "2022-03-11T13:39:50.244Z"
      },
      {
        "duration": 41,
        "start_time": "2022-03-11T13:39:50.342Z"
      },
      {
        "duration": 17,
        "start_time": "2022-03-11T13:39:50.384Z"
      },
      {
        "duration": 19,
        "start_time": "2022-03-11T13:39:50.403Z"
      },
      {
        "duration": 40,
        "start_time": "2022-03-11T13:39:50.424Z"
      },
      {
        "duration": 22,
        "start_time": "2022-03-11T13:39:50.466Z"
      },
      {
        "duration": 34,
        "start_time": "2022-03-11T13:39:50.490Z"
      },
      {
        "duration": 46,
        "start_time": "2022-03-11T13:39:50.526Z"
      },
      {
        "duration": 16,
        "start_time": "2022-03-11T13:39:50.577Z"
      },
      {
        "duration": 35,
        "start_time": "2022-03-11T13:39:50.596Z"
      },
      {
        "duration": 26,
        "start_time": "2022-03-11T13:39:50.633Z"
      },
      {
        "duration": 9,
        "start_time": "2022-03-11T13:39:50.661Z"
      },
      {
        "duration": 32,
        "start_time": "2022-03-11T13:39:50.672Z"
      },
      {
        "duration": 6,
        "start_time": "2022-03-11T13:39:50.706Z"
      },
      {
        "duration": 62,
        "start_time": "2022-03-11T13:39:50.713Z"
      },
      {
        "duration": 8,
        "start_time": "2022-03-11T13:39:50.777Z"
      },
      {
        "duration": 7,
        "start_time": "2022-03-11T13:39:50.787Z"
      },
      {
        "duration": 11,
        "start_time": "2022-03-11T13:39:50.796Z"
      },
      {
        "duration": 15,
        "start_time": "2022-03-11T13:39:50.808Z"
      },
      {
        "duration": 3,
        "start_time": "2022-03-11T13:39:50.825Z"
      },
      {
        "duration": 4947,
        "start_time": "2022-03-11T13:39:50.830Z"
      },
      {
        "duration": 836,
        "start_time": "2022-03-11T13:39:54.944Z"
      },
      {
        "duration": 826,
        "start_time": "2022-03-11T13:39:54.955Z"
      },
      {
        "duration": 824,
        "start_time": "2022-03-11T13:39:54.958Z"
      },
      {
        "duration": 822,
        "start_time": "2022-03-11T13:39:54.961Z"
      },
      {
        "duration": 819,
        "start_time": "2022-03-11T13:39:54.965Z"
      },
      {
        "duration": 816,
        "start_time": "2022-03-11T13:39:54.969Z"
      },
      {
        "duration": 813,
        "start_time": "2022-03-11T13:39:54.973Z"
      },
      {
        "duration": 811,
        "start_time": "2022-03-11T13:39:54.976Z"
      },
      {
        "duration": 19,
        "start_time": "2022-03-11T13:42:25.970Z"
      },
      {
        "duration": 7,
        "start_time": "2022-03-11T13:42:26.721Z"
      },
      {
        "duration": 4,
        "start_time": "2022-03-11T13:42:41.761Z"
      },
      {
        "duration": 192,
        "start_time": "2022-03-11T13:43:41.613Z"
      },
      {
        "duration": 17,
        "start_time": "2022-03-11T13:44:25.096Z"
      },
      {
        "duration": 2905,
        "start_time": "2022-03-11T13:44:25.571Z"
      },
      {
        "duration": 21,
        "start_time": "2022-03-11T13:44:45.218Z"
      },
      {
        "duration": 5,
        "start_time": "2022-03-11T13:44:45.927Z"
      },
      {
        "duration": 16,
        "start_time": "2022-03-11T13:45:03.086Z"
      },
      {
        "duration": 4,
        "start_time": "2022-03-11T13:45:04.853Z"
      },
      {
        "duration": 4,
        "start_time": "2022-03-11T13:45:16.458Z"
      },
      {
        "duration": 4,
        "start_time": "2022-03-11T13:45:20.735Z"
      },
      {
        "duration": 5,
        "start_time": "2022-03-11T13:47:32.851Z"
      },
      {
        "duration": 200,
        "start_time": "2022-03-11T13:48:22.088Z"
      },
      {
        "duration": 217,
        "start_time": "2022-03-11T13:49:30.365Z"
      },
      {
        "duration": 1240,
        "start_time": "2022-03-11T16:41:34.819Z"
      },
      {
        "duration": 856,
        "start_time": "2022-03-11T16:41:36.061Z"
      },
      {
        "duration": 15,
        "start_time": "2022-03-11T16:41:36.919Z"
      },
      {
        "duration": 44,
        "start_time": "2022-03-11T16:41:36.936Z"
      },
      {
        "duration": 6,
        "start_time": "2022-03-11T16:41:36.982Z"
      },
      {
        "duration": 11,
        "start_time": "2022-03-11T16:41:36.989Z"
      },
      {
        "duration": 9,
        "start_time": "2022-03-11T16:41:37.002Z"
      },
      {
        "duration": 10,
        "start_time": "2022-03-11T16:41:37.014Z"
      },
      {
        "duration": 27,
        "start_time": "2022-03-11T16:41:37.026Z"
      },
      {
        "duration": 44,
        "start_time": "2022-03-11T16:41:37.054Z"
      },
      {
        "duration": 112,
        "start_time": "2022-03-11T16:41:37.100Z"
      },
      {
        "duration": 53,
        "start_time": "2022-03-11T16:41:37.214Z"
      },
      {
        "duration": 41,
        "start_time": "2022-03-11T16:41:37.269Z"
      },
      {
        "duration": 85,
        "start_time": "2022-03-11T16:41:37.312Z"
      },
      {
        "duration": 97,
        "start_time": "2022-03-11T16:41:37.399Z"
      },
      {
        "duration": 39,
        "start_time": "2022-03-11T16:41:37.497Z"
      },
      {
        "duration": 20,
        "start_time": "2022-03-11T16:41:37.539Z"
      },
      {
        "duration": 21,
        "start_time": "2022-03-11T16:41:37.577Z"
      },
      {
        "duration": 24,
        "start_time": "2022-03-11T16:41:37.600Z"
      },
      {
        "duration": 24,
        "start_time": "2022-03-11T16:41:37.626Z"
      },
      {
        "duration": 63,
        "start_time": "2022-03-11T16:41:37.652Z"
      },
      {
        "duration": 29,
        "start_time": "2022-03-11T16:41:37.716Z"
      },
      {
        "duration": 31,
        "start_time": "2022-03-11T16:41:37.748Z"
      },
      {
        "duration": 37,
        "start_time": "2022-03-11T16:41:37.781Z"
      },
      {
        "duration": 19,
        "start_time": "2022-03-11T16:41:48.474Z"
      },
      {
        "duration": 354,
        "start_time": "2022-03-11T16:41:49.438Z"
      },
      {
        "duration": 4,
        "start_time": "2022-03-11T16:47:47.670Z"
      },
      {
        "duration": 4,
        "start_time": "2022-03-11T16:50:16.099Z"
      },
      {
        "duration": 5,
        "start_time": "2022-03-11T16:57:14.720Z"
      },
      {
        "duration": 4,
        "start_time": "2022-03-11T16:57:32.892Z"
      },
      {
        "duration": 4,
        "start_time": "2022-03-11T17:00:52.511Z"
      },
      {
        "duration": 259,
        "start_time": "2022-03-11T17:01:30.080Z"
      },
      {
        "duration": 4,
        "start_time": "2022-03-11T17:01:45.906Z"
      },
      {
        "duration": 5,
        "start_time": "2022-03-11T17:01:50.643Z"
      },
      {
        "duration": 51,
        "start_time": "2022-03-11T17:01:57.114Z"
      },
      {
        "duration": 34,
        "start_time": "2022-03-11T17:02:19.104Z"
      },
      {
        "duration": 5,
        "start_time": "2022-03-11T17:02:26.024Z"
      },
      {
        "duration": 4,
        "start_time": "2022-03-11T17:02:30.366Z"
      },
      {
        "duration": 38,
        "start_time": "2022-03-11T17:02:35.609Z"
      },
      {
        "duration": 11,
        "start_time": "2022-03-11T17:02:52.406Z"
      },
      {
        "duration": 4,
        "start_time": "2022-03-11T17:02:53.218Z"
      },
      {
        "duration": 15,
        "start_time": "2022-03-11T17:03:14.265Z"
      },
      {
        "duration": 13,
        "start_time": "2022-03-11T17:03:17.672Z"
      },
      {
        "duration": 17,
        "start_time": "2022-03-11T17:03:18.972Z"
      },
      {
        "duration": 3,
        "start_time": "2022-03-11T17:03:26.558Z"
      },
      {
        "duration": 7,
        "start_time": "2022-03-11T17:03:27.859Z"
      },
      {
        "duration": 560,
        "start_time": "2022-03-11T17:03:43.967Z"
      },
      {
        "duration": 5,
        "start_time": "2022-03-11T17:04:05.614Z"
      },
      {
        "duration": 566,
        "start_time": "2022-03-11T17:04:09.316Z"
      },
      {
        "duration": 6,
        "start_time": "2022-03-11T17:04:49.802Z"
      },
      {
        "duration": 14613,
        "start_time": "2022-03-11T17:04:54.611Z"
      },
      {
        "duration": 5,
        "start_time": "2022-03-11T17:05:34.009Z"
      },
      {
        "duration": 37,
        "start_time": "2022-03-11T17:06:11.654Z"
      },
      {
        "duration": 37,
        "start_time": "2022-03-11T17:07:21.456Z"
      },
      {
        "duration": 4,
        "start_time": "2022-03-11T17:08:50.765Z"
      },
      {
        "duration": 28,
        "start_time": "2022-03-11T17:10:56.997Z"
      },
      {
        "duration": 21,
        "start_time": "2022-03-11T17:13:30.151Z"
      },
      {
        "duration": 27,
        "start_time": "2022-03-11T17:13:30.844Z"
      },
      {
        "duration": 38,
        "start_time": "2022-03-11T17:15:01.761Z"
      },
      {
        "duration": 15273,
        "start_time": "2022-03-11T17:21:24.610Z"
      },
      {
        "duration": 4,
        "start_time": "2022-03-11T17:22:07.287Z"
      },
      {
        "duration": 44,
        "start_time": "2022-03-11T17:22:21.019Z"
      },
      {
        "duration": 32,
        "start_time": "2022-03-11T17:22:48.896Z"
      },
      {
        "duration": 64,
        "start_time": "2022-03-11T17:23:48.657Z"
      },
      {
        "duration": 43,
        "start_time": "2022-03-11T17:23:57.593Z"
      },
      {
        "duration": 40,
        "start_time": "2022-03-11T17:24:17.463Z"
      },
      {
        "duration": 249,
        "start_time": "2022-03-11T17:26:29.568Z"
      },
      {
        "duration": 21,
        "start_time": "2022-03-11T17:26:39.987Z"
      },
      {
        "duration": 30,
        "start_time": "2022-03-11T17:28:52.789Z"
      },
      {
        "duration": 25,
        "start_time": "2022-03-11T17:29:59.601Z"
      },
      {
        "duration": 26,
        "start_time": "2022-03-11T17:31:12.071Z"
      },
      {
        "duration": 37,
        "start_time": "2022-03-11T17:31:50.760Z"
      },
      {
        "duration": 21,
        "start_time": "2022-03-11T17:33:10.827Z"
      },
      {
        "duration": 29,
        "start_time": "2022-03-11T17:33:47.507Z"
      },
      {
        "duration": 25,
        "start_time": "2022-03-11T17:33:55.224Z"
      },
      {
        "duration": 63,
        "start_time": "2022-03-11T17:35:46.463Z"
      },
      {
        "duration": 25,
        "start_time": "2022-03-11T17:36:30.475Z"
      },
      {
        "duration": 28,
        "start_time": "2022-03-11T17:37:05.522Z"
      },
      {
        "duration": 25,
        "start_time": "2022-03-11T17:37:13.379Z"
      },
      {
        "duration": 35,
        "start_time": "2022-03-11T17:38:26.768Z"
      },
      {
        "duration": 43,
        "start_time": "2022-03-11T17:40:44.652Z"
      },
      {
        "duration": 18,
        "start_time": "2022-03-11T18:00:38.245Z"
      },
      {
        "duration": 12,
        "start_time": "2022-03-11T18:00:54.103Z"
      },
      {
        "duration": 29,
        "start_time": "2022-03-11T18:02:18.730Z"
      },
      {
        "duration": 13,
        "start_time": "2022-03-11T18:02:33.221Z"
      },
      {
        "duration": 37,
        "start_time": "2022-03-11T18:03:51.262Z"
      },
      {
        "duration": 36,
        "start_time": "2022-03-11T18:04:09.873Z"
      },
      {
        "duration": 28,
        "start_time": "2022-03-11T18:06:17.969Z"
      },
      {
        "duration": 22,
        "start_time": "2022-03-11T18:06:47.617Z"
      },
      {
        "duration": 12,
        "start_time": "2022-03-11T18:07:01.288Z"
      },
      {
        "duration": 4,
        "start_time": "2022-03-11T18:10:06.461Z"
      },
      {
        "duration": 9,
        "start_time": "2022-03-11T18:11:08.565Z"
      },
      {
        "duration": 1203,
        "start_time": "2022-03-12T14:37:54.978Z"
      },
      {
        "duration": 888,
        "start_time": "2022-03-12T14:37:56.183Z"
      },
      {
        "duration": 28,
        "start_time": "2022-03-12T14:37:57.073Z"
      },
      {
        "duration": 35,
        "start_time": "2022-03-12T14:37:57.103Z"
      },
      {
        "duration": 6,
        "start_time": "2022-03-12T14:37:57.140Z"
      },
      {
        "duration": 14,
        "start_time": "2022-03-12T14:37:57.147Z"
      },
      {
        "duration": 10,
        "start_time": "2022-03-12T14:37:57.170Z"
      },
      {
        "duration": 22,
        "start_time": "2022-03-12T14:37:57.184Z"
      },
      {
        "duration": 30,
        "start_time": "2022-03-12T14:37:57.208Z"
      },
      {
        "duration": 37,
        "start_time": "2022-03-12T14:37:57.240Z"
      },
      {
        "duration": 95,
        "start_time": "2022-03-12T14:37:57.279Z"
      },
      {
        "duration": 60,
        "start_time": "2022-03-12T14:37:57.375Z"
      },
      {
        "duration": 34,
        "start_time": "2022-03-12T14:37:57.437Z"
      },
      {
        "duration": 84,
        "start_time": "2022-03-12T14:37:57.473Z"
      },
      {
        "duration": 92,
        "start_time": "2022-03-12T14:37:57.559Z"
      },
      {
        "duration": 37,
        "start_time": "2022-03-12T14:37:57.653Z"
      },
      {
        "duration": 24,
        "start_time": "2022-03-12T14:37:57.692Z"
      },
      {
        "duration": 21,
        "start_time": "2022-03-12T14:37:57.718Z"
      },
      {
        "duration": 23,
        "start_time": "2022-03-12T14:37:57.742Z"
      },
      {
        "duration": 53,
        "start_time": "2022-03-12T14:37:57.767Z"
      },
      {
        "duration": 36,
        "start_time": "2022-03-12T14:37:57.822Z"
      },
      {
        "duration": 44,
        "start_time": "2022-03-12T14:37:57.860Z"
      },
      {
        "duration": 19,
        "start_time": "2022-03-12T14:37:57.907Z"
      },
      {
        "duration": 40,
        "start_time": "2022-03-12T14:37:57.928Z"
      },
      {
        "duration": 21,
        "start_time": "2022-03-12T14:37:57.969Z"
      },
      {
        "duration": 11,
        "start_time": "2022-03-12T14:37:57.992Z"
      },
      {
        "duration": 14096,
        "start_time": "2022-03-12T14:37:58.005Z"
      },
      {
        "duration": 4,
        "start_time": "2022-03-12T14:38:12.104Z"
      },
      {
        "duration": 8,
        "start_time": "2022-03-12T14:38:12.110Z"
      },
      {
        "duration": 10,
        "start_time": "2022-03-12T14:38:12.120Z"
      },
      {
        "duration": 48,
        "start_time": "2022-03-12T14:38:12.133Z"
      },
      {
        "duration": 34,
        "start_time": "2022-03-12T14:38:12.183Z"
      },
      {
        "duration": 19,
        "start_time": "2022-03-12T14:38:12.219Z"
      },
      {
        "duration": 39,
        "start_time": "2022-03-12T14:38:12.239Z"
      },
      {
        "duration": 25,
        "start_time": "2022-03-12T14:38:12.279Z"
      },
      {
        "duration": 13811,
        "start_time": "2022-03-12T14:38:12.305Z"
      },
      {
        "duration": 4,
        "start_time": "2022-03-12T14:38:26.118Z"
      },
      {
        "duration": 38,
        "start_time": "2022-03-12T14:38:26.124Z"
      },
      {
        "duration": 59,
        "start_time": "2022-03-12T14:38:26.164Z"
      },
      {
        "duration": 22,
        "start_time": "2022-03-12T14:38:26.225Z"
      },
      {
        "duration": 21,
        "start_time": "2022-03-12T14:38:26.249Z"
      },
      {
        "duration": 58,
        "start_time": "2022-03-12T14:38:26.272Z"
      },
      {
        "duration": 4,
        "start_time": "2022-03-12T14:45:00.256Z"
      },
      {
        "duration": 3,
        "start_time": "2022-03-12T14:45:14.458Z"
      },
      {
        "duration": 300,
        "start_time": "2022-03-12T14:45:35.376Z"
      },
      {
        "duration": 4,
        "start_time": "2022-03-12T14:45:46.677Z"
      },
      {
        "duration": 9,
        "start_time": "2022-03-12T14:46:17.687Z"
      },
      {
        "duration": 3,
        "start_time": "2022-03-12T14:46:22.164Z"
      },
      {
        "duration": 5,
        "start_time": "2022-03-12T14:46:23.159Z"
      },
      {
        "duration": 4,
        "start_time": "2022-03-12T14:46:32.807Z"
      },
      {
        "duration": 20,
        "start_time": "2022-03-12T14:47:50.128Z"
      },
      {
        "duration": 41,
        "start_time": "2022-03-12T14:47:53.837Z"
      },
      {
        "duration": 29,
        "start_time": "2022-03-12T14:52:02.067Z"
      },
      {
        "duration": 38,
        "start_time": "2022-03-12T14:52:04.237Z"
      },
      {
        "duration": 28,
        "start_time": "2022-03-12T14:52:27.224Z"
      },
      {
        "duration": 31,
        "start_time": "2022-03-12T14:52:43.357Z"
      },
      {
        "duration": 8,
        "start_time": "2022-03-12T14:54:27.345Z"
      },
      {
        "duration": 8,
        "start_time": "2022-03-12T14:54:47.066Z"
      },
      {
        "duration": 6,
        "start_time": "2022-03-12T14:55:06.759Z"
      },
      {
        "duration": 7,
        "start_time": "2022-03-12T14:55:45.175Z"
      },
      {
        "duration": 6,
        "start_time": "2022-03-12T14:58:42.035Z"
      },
      {
        "duration": 6,
        "start_time": "2022-03-12T14:58:53.050Z"
      },
      {
        "duration": 7,
        "start_time": "2022-03-12T14:59:13.726Z"
      },
      {
        "duration": 6,
        "start_time": "2022-03-12T14:59:25.842Z"
      },
      {
        "duration": 6,
        "start_time": "2022-03-12T14:59:27.418Z"
      },
      {
        "duration": 7,
        "start_time": "2022-03-12T15:21:13.941Z"
      },
      {
        "duration": 510,
        "start_time": "2022-03-12T15:22:05.913Z"
      },
      {
        "duration": 4,
        "start_time": "2022-03-12T15:32:33.804Z"
      },
      {
        "duration": 10,
        "start_time": "2022-03-12T15:32:37.315Z"
      },
      {
        "duration": 242,
        "start_time": "2022-03-12T15:32:54.389Z"
      },
      {
        "duration": 4,
        "start_time": "2022-03-12T15:34:12.308Z"
      },
      {
        "duration": 4,
        "start_time": "2022-03-12T15:34:21.399Z"
      },
      {
        "duration": 87,
        "start_time": "2022-03-12T15:38:10.581Z"
      },
      {
        "duration": 8,
        "start_time": "2022-03-12T15:38:28.855Z"
      },
      {
        "duration": 733,
        "start_time": "2022-03-12T15:38:37.307Z"
      },
      {
        "duration": 89,
        "start_time": "2022-03-12T15:38:41.847Z"
      },
      {
        "duration": 7,
        "start_time": "2022-03-12T15:41:23.469Z"
      },
      {
        "duration": 4,
        "start_time": "2022-03-12T15:41:35.642Z"
      },
      {
        "duration": 29,
        "start_time": "2022-03-12T15:41:40.513Z"
      },
      {
        "duration": 29,
        "start_time": "2022-03-12T15:41:41.932Z"
      },
      {
        "duration": 6,
        "start_time": "2022-03-12T15:41:49.122Z"
      },
      {
        "duration": 25,
        "start_time": "2022-03-12T15:42:41.410Z"
      },
      {
        "duration": 40,
        "start_time": "2022-03-12T15:44:52.539Z"
      },
      {
        "duration": 40,
        "start_time": "2022-03-12T15:46:48.352Z"
      },
      {
        "duration": 10,
        "start_time": "2022-03-12T15:49:11.238Z"
      },
      {
        "duration": 886,
        "start_time": "2022-03-12T15:49:19.725Z"
      },
      {
        "duration": 30,
        "start_time": "2022-03-12T15:49:24.471Z"
      },
      {
        "duration": 4,
        "start_time": "2022-03-12T15:55:43.246Z"
      },
      {
        "duration": 7,
        "start_time": "2022-03-12T15:57:12.204Z"
      },
      {
        "duration": 8,
        "start_time": "2022-03-12T16:02:09.966Z"
      },
      {
        "duration": 4926,
        "start_time": "2022-03-12T16:02:30.447Z"
      },
      {
        "duration": 1494,
        "start_time": "2022-03-12T16:04:17.636Z"
      },
      {
        "duration": 886,
        "start_time": "2022-03-12T16:04:19.132Z"
      },
      {
        "duration": 1038,
        "start_time": "2022-03-12T16:04:20.021Z"
      },
      {
        "duration": 1124,
        "start_time": "2022-03-12T16:04:21.061Z"
      },
      {
        "duration": 582,
        "start_time": "2022-03-12T16:04:22.187Z"
      },
      {
        "duration": 1677,
        "start_time": "2022-03-12T16:04:22.770Z"
      },
      {
        "duration": 464,
        "start_time": "2022-03-12T16:04:24.448Z"
      },
      {
        "duration": 541,
        "start_time": "2022-03-12T16:04:24.915Z"
      },
      {
        "duration": 728,
        "start_time": "2022-03-12T16:04:25.459Z"
      },
      {
        "duration": 1339,
        "start_time": "2022-03-12T16:04:26.190Z"
      },
      {
        "duration": 1555,
        "start_time": "2022-03-12T16:04:27.531Z"
      },
      {
        "duration": 245,
        "start_time": "2022-03-12T16:04:29.088Z"
      },
      {
        "duration": 478,
        "start_time": "2022-03-12T16:04:29.335Z"
      },
      {
        "duration": 713,
        "start_time": "2022-03-12T16:04:29.815Z"
      },
      {
        "duration": 830,
        "start_time": "2022-03-12T16:04:30.530Z"
      },
      {
        "duration": 1660,
        "start_time": "2022-03-12T16:04:31.362Z"
      },
      {
        "duration": 1050,
        "start_time": "2022-03-12T16:04:33.025Z"
      },
      {
        "duration": 1840,
        "start_time": "2022-03-12T16:04:34.077Z"
      },
      {
        "duration": 927,
        "start_time": "2022-03-12T16:04:35.919Z"
      },
      {
        "duration": 1036,
        "start_time": "2022-03-12T16:04:36.848Z"
      },
      {
        "duration": 574,
        "start_time": "2022-03-12T16:04:37.886Z"
      },
      {
        "duration": 245,
        "start_time": "2022-03-12T16:04:38.461Z"
      },
      {
        "duration": 1093,
        "start_time": "2022-03-12T16:04:38.708Z"
      },
      {
        "duration": 1040,
        "start_time": "2022-03-12T16:04:39.803Z"
      },
      {
        "duration": 1364,
        "start_time": "2022-03-12T16:04:40.846Z"
      },
      {
        "duration": 963,
        "start_time": "2022-03-12T16:04:42.212Z"
      },
      {
        "duration": 15654,
        "start_time": "2022-03-12T16:04:43.179Z"
      },
      {
        "duration": 4,
        "start_time": "2022-03-12T16:04:58.835Z"
      },
      {
        "duration": 780,
        "start_time": "2022-03-12T16:04:58.841Z"
      },
      {
        "duration": 535,
        "start_time": "2022-03-12T16:04:59.624Z"
      },
      {
        "duration": 157,
        "start_time": "2022-03-12T16:05:00.162Z"
      },
      {
        "duration": 297,
        "start_time": "2022-03-12T16:05:00.321Z"
      },
      {
        "duration": 1742,
        "start_time": "2022-03-12T16:05:00.620Z"
      },
      {
        "duration": 1790,
        "start_time": "2022-03-12T16:05:02.364Z"
      },
      {
        "duration": 1155,
        "start_time": "2022-03-12T16:05:04.155Z"
      },
      {
        "duration": 15421,
        "start_time": "2022-03-12T16:05:05.312Z"
      },
      {
        "duration": 4,
        "start_time": "2022-03-12T16:05:20.735Z"
      },
      {
        "duration": 1714,
        "start_time": "2022-03-12T16:05:20.741Z"
      },
      {
        "duration": 471,
        "start_time": "2022-03-12T16:05:22.458Z"
      },
      {
        "duration": 583,
        "start_time": "2022-03-12T16:05:22.931Z"
      },
      {
        "duration": 452,
        "start_time": "2022-03-12T16:05:23.516Z"
      },
      {
        "duration": 1594,
        "start_time": "2022-03-12T16:05:23.970Z"
      },
      {
        "duration": 891,
        "start_time": "2022-03-12T16:05:25.566Z"
      },
      {
        "duration": 5553,
        "start_time": "2022-03-12T16:05:51.783Z"
      },
      {
        "duration": 32,
        "start_time": "2022-03-12T16:06:16.680Z"
      },
      {
        "duration": 292,
        "start_time": "2022-03-12T16:07:01.140Z"
      },
      {
        "duration": 8,
        "start_time": "2022-03-12T16:07:07.825Z"
      },
      {
        "duration": 713,
        "start_time": "2022-03-12T16:07:08.527Z"
      },
      {
        "duration": 1334,
        "start_time": "2022-03-12T16:07:09.242Z"
      },
      {
        "duration": 29,
        "start_time": "2022-03-12T16:07:14.756Z"
      },
      {
        "duration": 14,
        "start_time": "2022-03-12T16:07:16.715Z"
      },
      {
        "duration": 4,
        "start_time": "2022-03-12T16:07:25.010Z"
      },
      {
        "duration": 10,
        "start_time": "2022-03-12T16:07:43.128Z"
      },
      {
        "duration": 10,
        "start_time": "2022-03-12T16:07:47.276Z"
      },
      {
        "duration": 11,
        "start_time": "2022-03-12T16:07:52.406Z"
      },
      {
        "duration": 12,
        "start_time": "2022-03-12T16:08:02.783Z"
      },
      {
        "duration": 11,
        "start_time": "2022-03-12T16:08:09.153Z"
      },
      {
        "duration": 30,
        "start_time": "2022-03-12T16:08:17.548Z"
      },
      {
        "duration": 889,
        "start_time": "2022-03-12T16:08:18.664Z"
      },
      {
        "duration": 41,
        "start_time": "2022-03-12T16:08:36.418Z"
      },
      {
        "duration": 1039,
        "start_time": "2022-03-12T16:08:37.564Z"
      },
      {
        "duration": 5,
        "start_time": "2022-03-12T16:08:51.608Z"
      },
      {
        "duration": 6,
        "start_time": "2022-03-12T16:08:57.245Z"
      },
      {
        "duration": 42,
        "start_time": "2022-03-12T16:09:27.576Z"
      },
      {
        "duration": 46,
        "start_time": "2022-03-12T16:09:40.149Z"
      },
      {
        "duration": 8,
        "start_time": "2022-03-12T16:09:59.136Z"
      },
      {
        "duration": 54,
        "start_time": "2022-03-12T16:11:03.682Z"
      },
      {
        "duration": 43,
        "start_time": "2022-03-12T16:11:38.011Z"
      },
      {
        "duration": 9,
        "start_time": "2022-03-12T16:14:38.647Z"
      },
      {
        "duration": 5163,
        "start_time": "2022-03-12T16:14:44.568Z"
      },
      {
        "duration": 10,
        "start_time": "2022-03-12T16:15:35.000Z"
      },
      {
        "duration": 1231,
        "start_time": "2022-03-12T16:15:41.783Z"
      },
      {
        "duration": 63,
        "start_time": "2022-03-12T16:15:45.224Z"
      },
      {
        "duration": 1212,
        "start_time": "2022-03-12T16:15:51.077Z"
      },
      {
        "duration": 43,
        "start_time": "2022-03-12T16:15:53.359Z"
      },
      {
        "duration": 10,
        "start_time": "2022-03-12T16:16:53.654Z"
      },
      {
        "duration": 3874,
        "start_time": "2022-03-12T16:16:59.674Z"
      },
      {
        "duration": 33,
        "start_time": "2022-03-12T16:17:05.973Z"
      },
      {
        "duration": 910,
        "start_time": "2022-03-12T16:17:12.842Z"
      },
      {
        "duration": 32,
        "start_time": "2022-03-12T16:17:14.931Z"
      },
      {
        "duration": 9,
        "start_time": "2022-03-12T16:19:27.637Z"
      },
      {
        "duration": 1259,
        "start_time": "2022-03-12T16:19:33.116Z"
      },
      {
        "duration": 9,
        "start_time": "2022-03-12T17:12:30.740Z"
      },
      {
        "duration": 1042,
        "start_time": "2022-03-12T17:12:39.590Z"
      },
      {
        "duration": 287,
        "start_time": "2022-03-12T17:14:09.056Z"
      },
      {
        "duration": 1356,
        "start_time": "2022-03-12T17:14:29.746Z"
      },
      {
        "duration": 2029,
        "start_time": "2022-03-12T17:14:31.104Z"
      },
      {
        "duration": 1101,
        "start_time": "2022-03-12T17:14:33.136Z"
      },
      {
        "duration": 2513,
        "start_time": "2022-03-12T17:14:34.240Z"
      },
      {
        "duration": 2123,
        "start_time": "2022-03-12T17:14:36.754Z"
      },
      {
        "duration": 4833,
        "start_time": "2022-03-12T17:14:38.879Z"
      },
      {
        "duration": 2145,
        "start_time": "2022-03-12T17:14:43.714Z"
      },
      {
        "duration": 2623,
        "start_time": "2022-03-12T17:14:45.863Z"
      },
      {
        "duration": 1519,
        "start_time": "2022-03-12T17:14:48.489Z"
      },
      {
        "duration": 6963,
        "start_time": "2022-03-12T17:14:50.010Z"
      },
      {
        "duration": 1710,
        "start_time": "2022-03-12T17:14:56.975Z"
      },
      {
        "duration": 2932,
        "start_time": "2022-03-12T17:14:58.687Z"
      },
      {
        "duration": 2822,
        "start_time": "2022-03-12T17:15:01.622Z"
      },
      {
        "duration": 2133,
        "start_time": "2022-03-12T17:15:04.446Z"
      },
      {
        "duration": 2352,
        "start_time": "2022-03-12T17:15:06.581Z"
      },
      {
        "duration": 2395,
        "start_time": "2022-03-12T17:15:08.934Z"
      },
      {
        "duration": 1347,
        "start_time": "2022-03-12T17:15:11.331Z"
      },
      {
        "duration": 760,
        "start_time": "2022-03-12T17:15:12.679Z"
      },
      {
        "duration": 709,
        "start_time": "2022-03-12T17:15:13.441Z"
      },
      {
        "duration": 1682,
        "start_time": "2022-03-12T17:15:14.152Z"
      },
      {
        "duration": 86,
        "start_time": "2022-03-12T17:15:15.835Z"
      },
      {
        "duration": -76,
        "start_time": "2022-03-12T17:15:16.000Z"
      },
      {
        "duration": -78,
        "start_time": "2022-03-12T17:15:16.003Z"
      },
      {
        "duration": -82,
        "start_time": "2022-03-12T17:15:16.008Z"
      },
      {
        "duration": -85,
        "start_time": "2022-03-12T17:15:16.012Z"
      },
      {
        "duration": -88,
        "start_time": "2022-03-12T17:15:16.016Z"
      },
      {
        "duration": -90,
        "start_time": "2022-03-12T17:15:16.019Z"
      },
      {
        "duration": -92,
        "start_time": "2022-03-12T17:15:16.022Z"
      },
      {
        "duration": -95,
        "start_time": "2022-03-12T17:15:16.026Z"
      },
      {
        "duration": -98,
        "start_time": "2022-03-12T17:15:16.030Z"
      },
      {
        "duration": -101,
        "start_time": "2022-03-12T17:15:16.034Z"
      },
      {
        "duration": -103,
        "start_time": "2022-03-12T17:15:16.037Z"
      },
      {
        "duration": -106,
        "start_time": "2022-03-12T17:15:16.041Z"
      },
      {
        "duration": -108,
        "start_time": "2022-03-12T17:15:16.044Z"
      },
      {
        "duration": -111,
        "start_time": "2022-03-12T17:15:16.048Z"
      },
      {
        "duration": -114,
        "start_time": "2022-03-12T17:15:16.051Z"
      },
      {
        "duration": -117,
        "start_time": "2022-03-12T17:15:16.055Z"
      },
      {
        "duration": -119,
        "start_time": "2022-03-12T17:15:16.058Z"
      },
      {
        "duration": -122,
        "start_time": "2022-03-12T17:15:16.062Z"
      },
      {
        "duration": -124,
        "start_time": "2022-03-12T17:15:16.065Z"
      },
      {
        "duration": -127,
        "start_time": "2022-03-12T17:15:16.069Z"
      },
      {
        "duration": -129,
        "start_time": "2022-03-12T17:15:16.072Z"
      },
      {
        "duration": -131,
        "start_time": "2022-03-12T17:15:16.075Z"
      },
      {
        "duration": 4,
        "start_time": "2022-03-12T17:16:00.663Z"
      },
      {
        "duration": 3113,
        "start_time": "2022-03-12T17:16:00.669Z"
      },
      {
        "duration": 168,
        "start_time": "2022-03-12T17:16:03.784Z"
      },
      {
        "duration": 1173,
        "start_time": "2022-03-12T17:16:03.954Z"
      },
      {
        "duration": 484,
        "start_time": "2022-03-12T17:16:05.129Z"
      },
      {
        "duration": 882,
        "start_time": "2022-03-12T17:16:05.615Z"
      },
      {
        "duration": 640,
        "start_time": "2022-03-12T17:16:06.500Z"
      },
      {
        "duration": 1339,
        "start_time": "2022-03-12T17:16:07.143Z"
      },
      {
        "duration": 558,
        "start_time": "2022-03-12T17:16:08.485Z"
      },
      {
        "duration": 389,
        "start_time": "2022-03-12T17:16:09.045Z"
      },
      {
        "duration": 667,
        "start_time": "2022-03-12T17:16:09.436Z"
      },
      {
        "duration": 638,
        "start_time": "2022-03-12T17:16:10.105Z"
      },
      {
        "duration": 628,
        "start_time": "2022-03-12T17:16:10.745Z"
      },
      {
        "duration": 582,
        "start_time": "2022-03-12T17:16:11.375Z"
      },
      {
        "duration": 1275,
        "start_time": "2022-03-12T17:16:11.959Z"
      },
      {
        "duration": 1086,
        "start_time": "2022-03-12T17:16:13.236Z"
      },
      {
        "duration": 572,
        "start_time": "2022-03-12T17:16:14.324Z"
      },
      {
        "duration": 1217,
        "start_time": "2022-03-12T17:16:14.897Z"
      },
      {
        "duration": 1135,
        "start_time": "2022-03-12T17:16:16.118Z"
      },
      {
        "duration": 1021,
        "start_time": "2022-03-12T17:16:17.255Z"
      },
      {
        "duration": 1185,
        "start_time": "2022-03-12T17:16:18.278Z"
      },
      {
        "duration": 1324,
        "start_time": "2022-03-12T17:16:19.465Z"
      },
      {
        "duration": 923,
        "start_time": "2022-03-12T17:16:20.791Z"
      },
      {
        "duration": 626,
        "start_time": "2022-03-12T17:16:21.715Z"
      },
      {
        "duration": 1744,
        "start_time": "2022-03-12T17:16:22.343Z"
      },
      {
        "duration": 932,
        "start_time": "2022-03-12T17:16:24.089Z"
      },
      {
        "duration": 14836,
        "start_time": "2022-03-12T17:16:25.023Z"
      },
      {
        "duration": 4,
        "start_time": "2022-03-12T17:16:39.861Z"
      },
      {
        "duration": 415,
        "start_time": "2022-03-12T17:16:39.866Z"
      },
      {
        "duration": 960,
        "start_time": "2022-03-12T17:16:40.283Z"
      },
      {
        "duration": 809,
        "start_time": "2022-03-12T17:16:41.245Z"
      },
      {
        "duration": 1227,
        "start_time": "2022-03-12T17:16:42.056Z"
      },
      {
        "duration": 1130,
        "start_time": "2022-03-12T17:16:43.284Z"
      },
      {
        "duration": 1145,
        "start_time": "2022-03-12T17:16:44.416Z"
      },
      {
        "duration": 674,
        "start_time": "2022-03-12T17:16:45.564Z"
      },
      {
        "duration": 14736,
        "start_time": "2022-03-12T17:16:46.240Z"
      },
      {
        "duration": 4,
        "start_time": "2022-03-12T17:17:00.978Z"
      },
      {
        "duration": 1283,
        "start_time": "2022-03-12T17:17:00.984Z"
      },
      {
        "duration": 1497,
        "start_time": "2022-03-12T17:17:02.269Z"
      },
      {
        "duration": 2095,
        "start_time": "2022-03-12T17:17:03.768Z"
      },
      {
        "duration": 813,
        "start_time": "2022-03-12T17:17:05.865Z"
      },
      {
        "duration": 873,
        "start_time": "2022-03-12T17:17:06.680Z"
      },
      {
        "duration": 1983,
        "start_time": "2022-03-12T17:17:07.555Z"
      },
      {
        "duration": 1292,
        "start_time": "2022-03-12T17:17:24.389Z"
      },
      {
        "duration": 32,
        "start_time": "2022-03-12T17:18:41.592Z"
      },
      {
        "duration": 9,
        "start_time": "2022-03-12T17:23:05.838Z"
      },
      {
        "duration": 20,
        "start_time": "2022-03-12T17:23:13.897Z"
      },
      {
        "duration": 3,
        "start_time": "2022-03-12T17:23:35.631Z"
      },
      {
        "duration": 3,
        "start_time": "2022-03-12T17:23:42.041Z"
      },
      {
        "duration": 10,
        "start_time": "2022-03-12T17:23:57.609Z"
      },
      {
        "duration": 5727,
        "start_time": "2022-03-12T17:24:02.982Z"
      },
      {
        "duration": 3,
        "start_time": "2022-03-12T17:24:35.670Z"
      },
      {
        "duration": 1274,
        "start_time": "2022-03-12T17:25:03.210Z"
      },
      {
        "duration": 1049,
        "start_time": "2022-03-12T17:25:04.486Z"
      },
      {
        "duration": 16,
        "start_time": "2022-03-12T17:25:05.537Z"
      },
      {
        "duration": 535,
        "start_time": "2022-03-12T17:25:05.556Z"
      },
      {
        "duration": 266,
        "start_time": "2022-03-12T17:25:06.093Z"
      },
      {
        "duration": 495,
        "start_time": "2022-03-12T17:25:06.361Z"
      },
      {
        "duration": 204,
        "start_time": "2022-03-12T17:25:06.858Z"
      },
      {
        "duration": 357,
        "start_time": "2022-03-12T17:25:07.064Z"
      },
      {
        "duration": 802,
        "start_time": "2022-03-12T17:25:07.424Z"
      },
      {
        "duration": 924,
        "start_time": "2022-03-12T17:25:08.228Z"
      },
      {
        "duration": 348,
        "start_time": "2022-03-12T17:25:09.154Z"
      },
      {
        "duration": 426,
        "start_time": "2022-03-12T17:25:09.504Z"
      },
      {
        "duration": 595,
        "start_time": "2022-03-12T17:25:09.933Z"
      },
      {
        "duration": 310,
        "start_time": "2022-03-12T17:25:10.530Z"
      },
      {
        "duration": 150,
        "start_time": "2022-03-12T17:25:10.842Z"
      },
      {
        "duration": 425,
        "start_time": "2022-03-12T17:25:10.994Z"
      },
      {
        "duration": 1329,
        "start_time": "2022-03-12T17:25:11.422Z"
      },
      {
        "duration": 1340,
        "start_time": "2022-03-12T17:25:12.754Z"
      },
      {
        "duration": 314,
        "start_time": "2022-03-12T17:25:14.096Z"
      },
      {
        "duration": 847,
        "start_time": "2022-03-12T17:25:14.412Z"
      },
      {
        "duration": 745,
        "start_time": "2022-03-12T17:25:15.261Z"
      },
      {
        "duration": 1129,
        "start_time": "2022-03-12T17:25:16.008Z"
      },
      {
        "duration": 763,
        "start_time": "2022-03-12T17:25:17.138Z"
      },
      {
        "duration": 814,
        "start_time": "2022-03-12T17:25:17.902Z"
      },
      {
        "duration": 694,
        "start_time": "2022-03-12T17:25:18.717Z"
      },
      {
        "duration": 891,
        "start_time": "2022-03-12T17:25:19.414Z"
      },
      {
        "duration": 15118,
        "start_time": "2022-03-12T17:25:20.308Z"
      },
      {
        "duration": 4,
        "start_time": "2022-03-12T17:25:35.428Z"
      },
      {
        "duration": 1030,
        "start_time": "2022-03-12T17:25:35.433Z"
      },
      {
        "duration": 1478,
        "start_time": "2022-03-12T17:25:36.465Z"
      },
      {
        "duration": 1565,
        "start_time": "2022-03-12T17:25:37.945Z"
      },
      {
        "duration": 1520,
        "start_time": "2022-03-12T17:25:39.512Z"
      },
      {
        "duration": 835,
        "start_time": "2022-03-12T17:25:41.034Z"
      },
      {
        "duration": 842,
        "start_time": "2022-03-12T17:25:41.870Z"
      },
      {
        "duration": 949,
        "start_time": "2022-03-12T17:25:42.714Z"
      },
      {
        "duration": 15738,
        "start_time": "2022-03-12T17:25:43.665Z"
      },
      {
        "duration": 5,
        "start_time": "2022-03-12T17:25:59.406Z"
      },
      {
        "duration": 2357,
        "start_time": "2022-03-12T17:25:59.413Z"
      },
      {
        "duration": 1174,
        "start_time": "2022-03-12T17:26:01.773Z"
      },
      {
        "duration": 1763,
        "start_time": "2022-03-12T17:26:02.950Z"
      },
      {
        "duration": 1473,
        "start_time": "2022-03-12T17:26:04.714Z"
      },
      {
        "duration": 897,
        "start_time": "2022-03-12T17:26:06.189Z"
      },
      {
        "duration": 498,
        "start_time": "2022-03-12T17:26:07.089Z"
      },
      {
        "duration": 3,
        "start_time": "2022-03-12T17:26:16.224Z"
      },
      {
        "duration": 83,
        "start_time": "2022-03-12T17:26:17.796Z"
      },
      {
        "duration": 4,
        "start_time": "2022-03-12T17:26:20.489Z"
      },
      {
        "duration": 15,
        "start_time": "2022-03-12T17:27:07.666Z"
      },
      {
        "duration": 4,
        "start_time": "2022-03-12T17:27:17.111Z"
      },
      {
        "duration": 1509,
        "start_time": "2022-03-12T17:27:19.205Z"
      },
      {
        "duration": 5,
        "start_time": "2022-03-12T17:27:24.508Z"
      },
      {
        "duration": 8,
        "start_time": "2022-03-12T17:28:05.887Z"
      },
      {
        "duration": 4,
        "start_time": "2022-03-12T17:28:09.901Z"
      },
      {
        "duration": 4,
        "start_time": "2022-03-12T17:28:14.725Z"
      },
      {
        "duration": 29,
        "start_time": "2022-03-12T17:28:20.201Z"
      },
      {
        "duration": 18,
        "start_time": "2022-03-12T17:28:25.052Z"
      },
      {
        "duration": 6,
        "start_time": "2022-03-12T17:28:45.983Z"
      },
      {
        "duration": 221,
        "start_time": "2022-03-12T17:28:51.214Z"
      },
      {
        "duration": 7,
        "start_time": "2022-03-12T17:29:51.507Z"
      },
      {
        "duration": 11,
        "start_time": "2022-03-12T17:32:17.049Z"
      },
      {
        "duration": 1190,
        "start_time": "2022-03-12T17:32:28.784Z"
      },
      {
        "duration": 7,
        "start_time": "2022-03-12T17:32:41.415Z"
      },
      {
        "duration": 1273,
        "start_time": "2022-03-12T17:34:11.000Z"
      },
      {
        "duration": 4000,
        "start_time": "2022-03-12T17:34:12.276Z"
      },
      {
        "duration": 1503,
        "start_time": "2022-03-12T17:34:16.279Z"
      },
      {
        "duration": 3121,
        "start_time": "2022-03-12T17:34:17.784Z"
      },
      {
        "duration": 1178,
        "start_time": "2022-03-12T17:34:20.907Z"
      },
      {
        "duration": 782,
        "start_time": "2022-03-12T17:34:22.087Z"
      },
      {
        "duration": 920,
        "start_time": "2022-03-12T17:34:22.871Z"
      },
      {
        "duration": 471,
        "start_time": "2022-03-12T17:34:23.794Z"
      },
      {
        "duration": 1134,
        "start_time": "2022-03-12T17:34:24.267Z"
      },
      {
        "duration": 484,
        "start_time": "2022-03-12T17:34:25.403Z"
      },
      {
        "duration": 808,
        "start_time": "2022-03-12T17:34:25.889Z"
      },
      {
        "duration": 191,
        "start_time": "2022-03-12T17:34:26.699Z"
      },
      {
        "duration": 884,
        "start_time": "2022-03-12T17:34:26.892Z"
      },
      {
        "duration": 2391,
        "start_time": "2022-03-12T17:34:27.778Z"
      },
      {
        "duration": 1058,
        "start_time": "2022-03-12T17:34:30.171Z"
      },
      {
        "duration": 766,
        "start_time": "2022-03-12T17:34:31.232Z"
      },
      {
        "duration": 1948,
        "start_time": "2022-03-12T17:34:32.000Z"
      },
      {
        "duration": 1547,
        "start_time": "2022-03-12T17:34:33.950Z"
      },
      {
        "duration": 1660,
        "start_time": "2022-03-12T17:34:35.499Z"
      },
      {
        "duration": 1464,
        "start_time": "2022-03-12T17:34:37.162Z"
      },
      {
        "duration": 1929,
        "start_time": "2022-03-12T17:34:38.628Z"
      },
      {
        "duration": 1090,
        "start_time": "2022-03-12T17:34:40.559Z"
      },
      {
        "duration": 1163,
        "start_time": "2022-03-12T17:34:41.653Z"
      },
      {
        "duration": 839,
        "start_time": "2022-03-12T17:34:42.818Z"
      },
      {
        "duration": 862,
        "start_time": "2022-03-12T17:34:43.659Z"
      },
      {
        "duration": 1313,
        "start_time": "2022-03-12T17:34:44.523Z"
      },
      {
        "duration": 15108,
        "start_time": "2022-03-12T17:34:45.837Z"
      },
      {
        "duration": 4,
        "start_time": "2022-03-12T17:35:00.947Z"
      },
      {
        "duration": 5374,
        "start_time": "2022-03-12T17:35:00.953Z"
      },
      {
        "duration": 3018,
        "start_time": "2022-03-12T17:35:06.329Z"
      },
      {
        "duration": 1903,
        "start_time": "2022-03-12T17:35:09.349Z"
      },
      {
        "duration": 3948,
        "start_time": "2022-03-12T17:35:11.253Z"
      },
      {
        "duration": 3858,
        "start_time": "2022-03-12T17:35:15.203Z"
      },
      {
        "duration": 1674,
        "start_time": "2022-03-12T17:35:19.063Z"
      },
      {
        "duration": 2041,
        "start_time": "2022-03-12T17:35:20.739Z"
      },
      {
        "duration": 19808,
        "start_time": "2022-03-12T17:35:22.783Z"
      },
      {
        "duration": 9,
        "start_time": "2022-03-12T17:35:42.593Z"
      },
      {
        "duration": 4759,
        "start_time": "2022-03-12T17:35:42.605Z"
      },
      {
        "duration": 3657,
        "start_time": "2022-03-12T17:35:47.366Z"
      },
      {
        "duration": 2947,
        "start_time": "2022-03-12T17:35:51.025Z"
      },
      {
        "duration": 6043,
        "start_time": "2022-03-12T17:35:53.974Z"
      },
      {
        "duration": 6101,
        "start_time": "2022-03-12T17:36:00.020Z"
      },
      {
        "duration": 5516,
        "start_time": "2022-03-12T17:36:06.123Z"
      },
      {
        "duration": 3,
        "start_time": "2022-03-12T17:36:25.814Z"
      },
      {
        "duration": 3354,
        "start_time": "2022-03-12T17:36:28.569Z"
      },
      {
        "duration": 3,
        "start_time": "2022-03-12T17:36:36.785Z"
      },
      {
        "duration": 10,
        "start_time": "2022-03-12T17:37:37.282Z"
      },
      {
        "duration": 3,
        "start_time": "2022-03-12T17:37:44.422Z"
      },
      {
        "duration": 41451,
        "start_time": "2022-03-12T17:37:46.207Z"
      },
      {
        "duration": 22,
        "start_time": "2022-03-12T17:38:32.190Z"
      },
      {
        "duration": 29,
        "start_time": "2022-03-12T17:38:42.800Z"
      },
      {
        "duration": 13,
        "start_time": "2022-03-12T17:46:39.964Z"
      },
      {
        "duration": 4,
        "start_time": "2022-03-12T17:46:44.889Z"
      },
      {
        "duration": 65,
        "start_time": "2022-03-12T17:46:57.003Z"
      },
      {
        "duration": 84,
        "start_time": "2022-03-12T17:47:34.590Z"
      },
      {
        "duration": 16,
        "start_time": "2022-03-12T17:48:19.450Z"
      },
      {
        "duration": 8,
        "start_time": "2022-03-12T17:48:34.287Z"
      },
      {
        "duration": 203,
        "start_time": "2022-03-12T17:48:56.511Z"
      },
      {
        "duration": 17,
        "start_time": "2022-03-12T17:49:10.098Z"
      },
      {
        "duration": 7,
        "start_time": "2022-03-12T17:49:40.933Z"
      },
      {
        "duration": 37,
        "start_time": "2022-03-12T17:53:43.808Z"
      },
      {
        "duration": 22,
        "start_time": "2022-03-12T17:55:03.362Z"
      },
      {
        "duration": 8,
        "start_time": "2022-03-12T17:55:06.468Z"
      },
      {
        "duration": 24,
        "start_time": "2022-03-12T17:55:11.360Z"
      },
      {
        "duration": 194,
        "start_time": "2022-03-12T17:55:15.068Z"
      },
      {
        "duration": 13,
        "start_time": "2022-03-12T17:55:18.321Z"
      },
      {
        "duration": 84,
        "start_time": "2022-03-12T17:55:33.519Z"
      },
      {
        "duration": 239,
        "start_time": "2022-03-12T17:55:35.193Z"
      },
      {
        "duration": 79,
        "start_time": "2022-03-12T17:55:39.695Z"
      },
      {
        "duration": 115,
        "start_time": "2022-03-12T17:56:53.334Z"
      },
      {
        "duration": 117,
        "start_time": "2022-03-12T17:58:10.186Z"
      },
      {
        "duration": 148,
        "start_time": "2022-03-12T17:58:43.217Z"
      },
      {
        "duration": 402,
        "start_time": "2022-03-13T08:04:09.713Z"
      },
      {
        "duration": 2354,
        "start_time": "2022-03-13T08:04:18.726Z"
      },
      {
        "duration": 6530,
        "start_time": "2022-03-13T08:04:21.083Z"
      },
      {
        "duration": 29,
        "start_time": "2022-03-13T08:04:27.617Z"
      },
      {
        "duration": 48,
        "start_time": "2022-03-13T08:04:27.649Z"
      },
      {
        "duration": 33,
        "start_time": "2022-03-13T08:04:27.700Z"
      },
      {
        "duration": 11,
        "start_time": "2022-03-13T08:04:27.736Z"
      },
      {
        "duration": 9,
        "start_time": "2022-03-13T08:04:27.750Z"
      },
      {
        "duration": 11,
        "start_time": "2022-03-13T08:04:27.765Z"
      },
      {
        "duration": 69,
        "start_time": "2022-03-13T08:04:27.780Z"
      },
      {
        "duration": 38,
        "start_time": "2022-03-13T08:04:27.852Z"
      },
      {
        "duration": 147,
        "start_time": "2022-03-13T08:04:27.892Z"
      },
      {
        "duration": 64,
        "start_time": "2022-03-13T08:04:28.042Z"
      },
      {
        "duration": 65,
        "start_time": "2022-03-13T08:04:28.108Z"
      },
      {
        "duration": 115,
        "start_time": "2022-03-13T08:04:28.175Z"
      },
      {
        "duration": 113,
        "start_time": "2022-03-13T08:04:28.293Z"
      },
      {
        "duration": 55,
        "start_time": "2022-03-13T08:04:28.408Z"
      },
      {
        "duration": 21,
        "start_time": "2022-03-13T08:04:28.465Z"
      },
      {
        "duration": 51,
        "start_time": "2022-03-13T08:04:28.489Z"
      },
      {
        "duration": 31,
        "start_time": "2022-03-13T08:04:28.543Z"
      },
      {
        "duration": 34,
        "start_time": "2022-03-13T08:04:28.577Z"
      },
      {
        "duration": 46,
        "start_time": "2022-03-13T08:04:28.633Z"
      },
      {
        "duration": 28,
        "start_time": "2022-03-13T08:04:28.681Z"
      },
      {
        "duration": 21,
        "start_time": "2022-03-13T08:04:28.737Z"
      },
      {
        "duration": 43,
        "start_time": "2022-03-13T08:04:28.762Z"
      },
      {
        "duration": 25,
        "start_time": "2022-03-13T08:04:28.808Z"
      },
      {
        "duration": 8,
        "start_time": "2022-03-13T08:04:28.836Z"
      },
      {
        "duration": 18178,
        "start_time": "2022-03-13T08:04:28.847Z"
      },
      {
        "duration": 7,
        "start_time": "2022-03-13T08:04:47.027Z"
      },
      {
        "duration": 40,
        "start_time": "2022-03-13T08:04:47.036Z"
      },
      {
        "duration": 27,
        "start_time": "2022-03-13T08:04:47.078Z"
      },
      {
        "duration": 19,
        "start_time": "2022-03-13T08:04:47.133Z"
      },
      {
        "duration": 47,
        "start_time": "2022-03-13T08:04:47.154Z"
      },
      {
        "duration": 3,
        "start_time": "2022-03-13T08:04:47.203Z"
      },
      {
        "duration": 18073,
        "start_time": "2022-03-13T08:04:47.232Z"
      },
      {
        "duration": 5,
        "start_time": "2022-03-13T08:05:05.307Z"
      },
      {
        "duration": 55,
        "start_time": "2022-03-13T08:05:05.314Z"
      },
      {
        "duration": 64,
        "start_time": "2022-03-13T08:05:05.372Z"
      },
      {
        "duration": 28,
        "start_time": "2022-03-13T08:05:05.439Z"
      },
      {
        "duration": 23,
        "start_time": "2022-03-13T08:05:05.470Z"
      },
      {
        "duration": 77,
        "start_time": "2022-03-13T08:05:05.496Z"
      },
      {
        "duration": 13,
        "start_time": "2022-03-13T08:05:05.575Z"
      },
      {
        "duration": 49960,
        "start_time": "2022-03-13T08:05:05.591Z"
      },
      {
        "duration": 41,
        "start_time": "2022-03-13T08:05:55.554Z"
      },
      {
        "duration": 36,
        "start_time": "2022-03-13T08:05:55.597Z"
      },
      {
        "duration": 112,
        "start_time": "2022-03-13T08:05:55.635Z"
      },
      {
        "duration": 314,
        "start_time": "2022-03-13T08:05:55.749Z"
      },
      {
        "duration": 17,
        "start_time": "2022-03-13T08:05:56.066Z"
      },
      {
        "duration": 5,
        "start_time": "2022-03-13T08:05:56.085Z"
      },
      {
        "duration": 66,
        "start_time": "2022-03-13T08:05:56.093Z"
      },
      {
        "duration": 28,
        "start_time": "2022-03-13T08:05:56.161Z"
      },
      {
        "duration": 13,
        "start_time": "2022-03-13T08:05:56.191Z"
      },
      {
        "duration": 42,
        "start_time": "2022-03-13T08:05:56.233Z"
      },
      {
        "duration": 23,
        "start_time": "2022-03-13T08:05:56.277Z"
      },
      {
        "duration": 43,
        "start_time": "2022-03-13T08:05:56.303Z"
      },
      {
        "duration": 131,
        "start_time": "2022-03-13T08:05:56.349Z"
      },
      {
        "duration": 386,
        "start_time": "2022-03-13T08:05:56.482Z"
      },
      {
        "duration": 104,
        "start_time": "2022-03-13T08:05:56.871Z"
      },
      {
        "duration": 176,
        "start_time": "2022-03-13T08:05:56.978Z"
      },
      {
        "duration": 224,
        "start_time": "2022-03-13T08:05:57.156Z"
      },
      {
        "duration": 4,
        "start_time": "2022-03-13T08:05:57.382Z"
      },
      {
        "duration": 7,
        "start_time": "2022-03-13T08:05:57.388Z"
      },
      {
        "duration": 110,
        "start_time": "2022-03-13T08:05:57.398Z"
      },
      {
        "duration": 92,
        "start_time": "2022-03-13T08:16:20.153Z"
      },
      {
        "duration": 3,
        "start_time": "2022-03-13T08:18:12.805Z"
      },
      {
        "duration": 1118,
        "start_time": "2022-03-13T08:18:39.195Z"
      },
      {
        "duration": 125,
        "start_time": "2022-03-13T08:18:57.524Z"
      },
      {
        "duration": 18,
        "start_time": "2022-03-13T08:19:29.013Z"
      },
      {
        "duration": 1314,
        "start_time": "2022-03-13T08:20:19.308Z"
      },
      {
        "duration": 10,
        "start_time": "2022-03-13T08:20:24.243Z"
      },
      {
        "duration": 73,
        "start_time": "2022-03-13T08:20:50.790Z"
      },
      {
        "duration": 26,
        "start_time": "2022-03-13T08:20:52.445Z"
      },
      {
        "duration": 27,
        "start_time": "2022-03-13T08:20:53.861Z"
      },
      {
        "duration": 4,
        "start_time": "2022-03-13T08:21:31.845Z"
      },
      {
        "duration": 131,
        "start_time": "2022-03-13T08:22:19.460Z"
      },
      {
        "duration": 502,
        "start_time": "2022-03-13T09:06:22.975Z"
      },
      {
        "duration": 343,
        "start_time": "2022-03-13T09:06:56.975Z"
      },
      {
        "duration": 324,
        "start_time": "2022-03-13T09:07:59.352Z"
      },
      {
        "duration": 13,
        "start_time": "2022-03-13T09:08:45.215Z"
      },
      {
        "duration": 338,
        "start_time": "2022-03-13T09:08:49.288Z"
      },
      {
        "duration": 366,
        "start_time": "2022-03-13T09:09:50.477Z"
      },
      {
        "duration": 6,
        "start_time": "2022-03-13T09:10:34.501Z"
      },
      {
        "duration": 403,
        "start_time": "2022-03-13T09:10:37.989Z"
      },
      {
        "duration": 468,
        "start_time": "2022-03-13T09:10:52.971Z"
      },
      {
        "duration": 389,
        "start_time": "2022-03-13T09:13:41.548Z"
      },
      {
        "duration": 396,
        "start_time": "2022-03-13T09:19:36.773Z"
      },
      {
        "duration": 9,
        "start_time": "2022-03-13T09:19:54.343Z"
      },
      {
        "duration": 418,
        "start_time": "2022-03-13T09:19:57.699Z"
      },
      {
        "duration": 456,
        "start_time": "2022-03-13T09:21:36.533Z"
      },
      {
        "duration": 434,
        "start_time": "2022-03-13T09:25:06.725Z"
      },
      {
        "duration": 367,
        "start_time": "2022-03-13T09:25:38.671Z"
      },
      {
        "duration": 454,
        "start_time": "2022-03-13T09:29:30.990Z"
      },
      {
        "duration": 349,
        "start_time": "2022-03-13T09:29:46.837Z"
      },
      {
        "duration": 9,
        "start_time": "2022-03-13T09:30:15.461Z"
      },
      {
        "duration": 9,
        "start_time": "2022-03-13T09:30:21.848Z"
      },
      {
        "duration": 6087,
        "start_time": "2022-03-13T09:30:50.805Z"
      },
      {
        "duration": 4844,
        "start_time": "2022-03-13T09:37:46.158Z"
      },
      {
        "duration": 342,
        "start_time": "2022-03-13T09:54:09.693Z"
      },
      {
        "duration": 4873,
        "start_time": "2022-03-13T09:54:21.127Z"
      },
      {
        "duration": 18,
        "start_time": "2022-03-13T10:56:01.471Z"
      },
      {
        "duration": 1365,
        "start_time": "2022-03-13T10:58:03.358Z"
      },
      {
        "duration": 325,
        "start_time": "2022-03-13T10:58:11.650Z"
      },
      {
        "duration": 307,
        "start_time": "2022-03-13T10:58:47.493Z"
      },
      {
        "duration": 7232,
        "start_time": "2022-03-13T10:59:43.510Z"
      },
      {
        "duration": 11,
        "start_time": "2022-03-13T11:00:17.811Z"
      },
      {
        "duration": 311,
        "start_time": "2022-03-13T11:00:26.490Z"
      },
      {
        "duration": 3249,
        "start_time": "2022-03-13T11:00:35.428Z"
      },
      {
        "duration": 348,
        "start_time": "2022-03-13T11:00:49.100Z"
      },
      {
        "duration": 4,
        "start_time": "2022-03-13T11:01:20.297Z"
      },
      {
        "duration": 328,
        "start_time": "2022-03-13T11:02:52.352Z"
      },
      {
        "duration": 1384,
        "start_time": "2022-03-13T11:03:00.641Z"
      },
      {
        "duration": 3513,
        "start_time": "2022-03-13T11:03:03.135Z"
      },
      {
        "duration": 7,
        "start_time": "2022-03-13T11:03:09.032Z"
      },
      {
        "duration": 4471,
        "start_time": "2022-03-13T11:04:21.151Z"
      },
      {
        "duration": 38,
        "start_time": "2022-03-13T11:04:51.846Z"
      },
      {
        "duration": 3,
        "start_time": "2022-03-13T11:05:13.513Z"
      },
      {
        "duration": 3236,
        "start_time": "2022-03-13T11:05:51.933Z"
      },
      {
        "duration": 1502,
        "start_time": "2022-03-13T11:05:55.173Z"
      },
      {
        "duration": 1088,
        "start_time": "2022-03-13T11:05:56.678Z"
      },
      {
        "duration": 20,
        "start_time": "2022-03-13T11:05:57.769Z"
      },
      {
        "duration": 63,
        "start_time": "2022-03-13T11:05:57.791Z"
      },
      {
        "duration": 4,
        "start_time": "2022-03-13T11:05:57.856Z"
      },
      {
        "duration": 9,
        "start_time": "2022-03-13T11:05:57.863Z"
      },
      {
        "duration": 7,
        "start_time": "2022-03-13T11:05:57.876Z"
      },
      {
        "duration": 48,
        "start_time": "2022-03-13T11:05:57.886Z"
      },
      {
        "duration": 23,
        "start_time": "2022-03-13T11:05:57.937Z"
      },
      {
        "duration": 44,
        "start_time": "2022-03-13T11:05:57.962Z"
      },
      {
        "duration": 136,
        "start_time": "2022-03-13T11:05:58.032Z"
      },
      {
        "duration": 74,
        "start_time": "2022-03-13T11:05:58.171Z"
      },
      {
        "duration": 54,
        "start_time": "2022-03-13T11:05:58.247Z"
      },
      {
        "duration": 128,
        "start_time": "2022-03-13T11:05:58.304Z"
      },
      {
        "duration": 121,
        "start_time": "2022-03-13T11:05:58.435Z"
      },
      {
        "duration": 49,
        "start_time": "2022-03-13T11:05:58.559Z"
      },
      {
        "duration": 37,
        "start_time": "2022-03-13T11:05:58.611Z"
      },
      {
        "duration": 27,
        "start_time": "2022-03-13T11:05:58.651Z"
      },
      {
        "duration": 55,
        "start_time": "2022-03-13T11:05:58.681Z"
      },
      {
        "duration": 36,
        "start_time": "2022-03-13T11:05:58.738Z"
      },
      {
        "duration": 62,
        "start_time": "2022-03-13T11:05:58.776Z"
      },
      {
        "duration": 28,
        "start_time": "2022-03-13T11:05:58.844Z"
      },
      {
        "duration": 20,
        "start_time": "2022-03-13T11:05:58.876Z"
      },
      {
        "duration": 73,
        "start_time": "2022-03-13T11:05:58.898Z"
      },
      {
        "duration": 4,
        "start_time": "2022-03-13T11:05:58.974Z"
      },
      {
        "duration": 27,
        "start_time": "2022-03-13T11:05:58.980Z"
      },
      {
        "duration": 19634,
        "start_time": "2022-03-13T11:05:59.010Z"
      },
      {
        "duration": 5,
        "start_time": "2022-03-13T11:06:18.647Z"
      },
      {
        "duration": 41,
        "start_time": "2022-03-13T11:06:18.654Z"
      },
      {
        "duration": 51,
        "start_time": "2022-03-13T11:06:18.698Z"
      },
      {
        "duration": 25,
        "start_time": "2022-03-13T11:06:18.752Z"
      },
      {
        "duration": 64,
        "start_time": "2022-03-13T11:06:18.779Z"
      },
      {
        "duration": 4,
        "start_time": "2022-03-13T11:06:18.845Z"
      },
      {
        "duration": 17733,
        "start_time": "2022-03-13T11:06:18.851Z"
      },
      {
        "duration": 5,
        "start_time": "2022-03-13T11:06:36.587Z"
      },
      {
        "duration": 65,
        "start_time": "2022-03-13T11:06:36.595Z"
      },
      {
        "duration": 51,
        "start_time": "2022-03-13T11:06:36.662Z"
      },
      {
        "duration": 42,
        "start_time": "2022-03-13T11:06:36.715Z"
      },
      {
        "duration": 21,
        "start_time": "2022-03-13T11:06:36.760Z"
      },
      {
        "duration": 73,
        "start_time": "2022-03-13T11:06:36.783Z"
      },
      {
        "duration": 14,
        "start_time": "2022-03-13T11:06:36.858Z"
      },
      {
        "duration": 48970,
        "start_time": "2022-03-13T11:06:36.874Z"
      },
      {
        "duration": 44,
        "start_time": "2022-03-13T11:07:25.846Z"
      },
      {
        "duration": 46,
        "start_time": "2022-03-13T11:07:25.893Z"
      },
      {
        "duration": 103,
        "start_time": "2022-03-13T11:07:25.942Z"
      },
      {
        "duration": 314,
        "start_time": "2022-03-13T11:07:26.048Z"
      },
      {
        "duration": 18,
        "start_time": "2022-03-13T11:07:26.364Z"
      },
      {
        "duration": 5,
        "start_time": "2022-03-13T11:07:26.384Z"
      },
      {
        "duration": 74,
        "start_time": "2022-03-13T11:07:26.392Z"
      },
      {
        "duration": 32,
        "start_time": "2022-03-13T11:07:26.468Z"
      },
      {
        "duration": 36,
        "start_time": "2022-03-13T11:07:26.503Z"
      },
      {
        "duration": 38,
        "start_time": "2022-03-13T11:07:26.542Z"
      },
      {
        "duration": 22,
        "start_time": "2022-03-13T11:07:26.582Z"
      },
      {
        "duration": 39,
        "start_time": "2022-03-13T11:07:26.606Z"
      },
      {
        "duration": 128,
        "start_time": "2022-03-13T11:07:26.647Z"
      },
      {
        "duration": 386,
        "start_time": "2022-03-13T11:07:26.778Z"
      },
      {
        "duration": 103,
        "start_time": "2022-03-13T11:07:27.166Z"
      },
      {
        "duration": 176,
        "start_time": "2022-03-13T11:07:27.271Z"
      },
      {
        "duration": 229,
        "start_time": "2022-03-13T11:07:27.449Z"
      },
      {
        "duration": 102,
        "start_time": "2022-03-13T11:07:27.680Z"
      },
      {
        "duration": 4,
        "start_time": "2022-03-13T11:07:27.784Z"
      },
      {
        "duration": 769,
        "start_time": "2022-03-13T11:07:27.790Z"
      },
      {
        "duration": 1516,
        "start_time": "2022-03-13T11:07:28.561Z"
      },
      {
        "duration": 8,
        "start_time": "2022-03-13T11:07:30.080Z"
      },
      {
        "duration": 99,
        "start_time": "2022-03-13T11:07:30.090Z"
      },
      {
        "duration": 27,
        "start_time": "2022-03-13T11:07:30.191Z"
      },
      {
        "duration": 27,
        "start_time": "2022-03-13T11:07:30.235Z"
      },
      {
        "duration": 104,
        "start_time": "2022-03-13T11:07:30.265Z"
      },
      {
        "duration": -223,
        "start_time": "2022-03-13T11:07:30.594Z"
      },
      {
        "duration": -226,
        "start_time": "2022-03-13T11:07:30.599Z"
      },
      {
        "duration": -232,
        "start_time": "2022-03-13T11:07:30.606Z"
      },
      {
        "duration": 4392,
        "start_time": "2022-03-13T11:07:41.560Z"
      },
      {
        "duration": 4244,
        "start_time": "2022-03-13T11:07:46.899Z"
      },
      {
        "duration": 3,
        "start_time": "2022-03-13T11:07:51.950Z"
      },
      {
        "duration": 2404,
        "start_time": "2022-03-13T11:07:55.550Z"
      },
      {
        "duration": 37,
        "start_time": "2022-03-13T11:08:21.539Z"
      },
      {
        "duration": 7,
        "start_time": "2022-03-13T11:09:28.017Z"
      },
      {
        "duration": 3163,
        "start_time": "2022-03-13T11:11:22.895Z"
      },
      {
        "duration": 1434,
        "start_time": "2022-03-13T11:11:26.061Z"
      },
      {
        "duration": 1111,
        "start_time": "2022-03-13T11:11:27.499Z"
      },
      {
        "duration": 28,
        "start_time": "2022-03-13T11:11:28.613Z"
      },
      {
        "duration": 46,
        "start_time": "2022-03-13T11:11:28.644Z"
      },
      {
        "duration": 4,
        "start_time": "2022-03-13T11:11:28.693Z"
      },
      {
        "duration": 36,
        "start_time": "2022-03-13T11:11:28.700Z"
      },
      {
        "duration": 7,
        "start_time": "2022-03-13T11:11:28.740Z"
      },
      {
        "duration": 11,
        "start_time": "2022-03-13T11:11:28.750Z"
      },
      {
        "duration": 26,
        "start_time": "2022-03-13T11:11:28.764Z"
      },
      {
        "duration": 72,
        "start_time": "2022-03-13T11:11:28.792Z"
      },
      {
        "duration": 153,
        "start_time": "2022-03-13T11:11:28.866Z"
      },
      {
        "duration": 73,
        "start_time": "2022-03-13T11:11:29.021Z"
      },
      {
        "duration": 71,
        "start_time": "2022-03-13T11:11:29.097Z"
      },
      {
        "duration": 105,
        "start_time": "2022-03-13T11:11:29.171Z"
      },
      {
        "duration": 114,
        "start_time": "2022-03-13T11:11:29.278Z"
      },
      {
        "duration": 59,
        "start_time": "2022-03-13T11:11:29.395Z"
      },
      {
        "duration": 25,
        "start_time": "2022-03-13T11:11:29.456Z"
      },
      {
        "duration": 49,
        "start_time": "2022-03-13T11:11:29.483Z"
      },
      {
        "duration": 31,
        "start_time": "2022-03-13T11:11:29.535Z"
      },
      {
        "duration": 33,
        "start_time": "2022-03-13T11:11:29.569Z"
      },
      {
        "duration": 64,
        "start_time": "2022-03-13T11:11:29.605Z"
      },
      {
        "duration": 27,
        "start_time": "2022-03-13T11:11:29.675Z"
      },
      {
        "duration": 41,
        "start_time": "2022-03-13T11:11:29.706Z"
      },
      {
        "duration": 45,
        "start_time": "2022-03-13T11:11:29.749Z"
      },
      {
        "duration": 3,
        "start_time": "2022-03-13T11:11:29.797Z"
      },
      {
        "duration": 32,
        "start_time": "2022-03-13T11:11:29.802Z"
      },
      {
        "duration": 18462,
        "start_time": "2022-03-13T11:11:29.836Z"
      },
      {
        "duration": 6,
        "start_time": "2022-03-13T11:11:48.300Z"
      },
      {
        "duration": 58,
        "start_time": "2022-03-13T11:11:48.308Z"
      },
      {
        "duration": 26,
        "start_time": "2022-03-13T11:11:48.368Z"
      },
      {
        "duration": 43,
        "start_time": "2022-03-13T11:11:48.397Z"
      },
      {
        "duration": 49,
        "start_time": "2022-03-13T11:11:48.443Z"
      },
      {
        "duration": 4,
        "start_time": "2022-03-13T11:11:48.495Z"
      },
      {
        "duration": 18359,
        "start_time": "2022-03-13T11:11:48.532Z"
      },
      {
        "duration": 5,
        "start_time": "2022-03-13T11:12:06.893Z"
      },
      {
        "duration": 65,
        "start_time": "2022-03-13T11:12:06.900Z"
      },
      {
        "duration": 49,
        "start_time": "2022-03-13T11:12:06.968Z"
      },
      {
        "duration": 35,
        "start_time": "2022-03-13T11:12:07.020Z"
      },
      {
        "duration": 21,
        "start_time": "2022-03-13T11:12:07.058Z"
      },
      {
        "duration": 75,
        "start_time": "2022-03-13T11:12:07.082Z"
      },
      {
        "duration": 13,
        "start_time": "2022-03-13T11:12:07.159Z"
      },
      {
        "duration": 50207,
        "start_time": "2022-03-13T11:12:07.175Z"
      },
      {
        "duration": 54,
        "start_time": "2022-03-13T11:12:57.384Z"
      },
      {
        "duration": 17,
        "start_time": "2022-03-13T11:12:57.441Z"
      },
      {
        "duration": 115,
        "start_time": "2022-03-13T11:12:57.461Z"
      },
      {
        "duration": 321,
        "start_time": "2022-03-13T11:12:57.578Z"
      },
      {
        "duration": 33,
        "start_time": "2022-03-13T11:12:57.901Z"
      },
      {
        "duration": 6,
        "start_time": "2022-03-13T11:12:57.937Z"
      },
      {
        "duration": 46,
        "start_time": "2022-03-13T11:12:57.945Z"
      },
      {
        "duration": 52,
        "start_time": "2022-03-13T11:12:57.994Z"
      },
      {
        "duration": 11,
        "start_time": "2022-03-13T11:12:58.049Z"
      },
      {
        "duration": 38,
        "start_time": "2022-03-13T11:12:58.062Z"
      },
      {
        "duration": 51,
        "start_time": "2022-03-13T11:12:58.102Z"
      },
      {
        "duration": 16,
        "start_time": "2022-03-13T11:12:58.155Z"
      },
      {
        "duration": 145,
        "start_time": "2022-03-13T11:12:58.173Z"
      },
      {
        "duration": 381,
        "start_time": "2022-03-13T11:12:58.320Z"
      },
      {
        "duration": 103,
        "start_time": "2022-03-13T11:12:58.704Z"
      },
      {
        "duration": 191,
        "start_time": "2022-03-13T11:12:58.810Z"
      },
      {
        "duration": 239,
        "start_time": "2022-03-13T11:12:59.004Z"
      },
      {
        "duration": 104,
        "start_time": "2022-03-13T11:12:59.246Z"
      },
      {
        "duration": 5,
        "start_time": "2022-03-13T11:12:59.353Z"
      },
      {
        "duration": 862,
        "start_time": "2022-03-13T11:12:59.361Z"
      },
      {
        "duration": 4457,
        "start_time": "2022-03-13T11:13:00.226Z"
      },
      {
        "duration": 4287,
        "start_time": "2022-03-13T11:13:04.685Z"
      },
      {
        "duration": 3,
        "start_time": "2022-03-13T11:13:08.975Z"
      },
      {
        "duration": 1417,
        "start_time": "2022-03-13T11:13:08.980Z"
      },
      {
        "duration": 10,
        "start_time": "2022-03-13T11:13:10.404Z"
      },
      {
        "duration": 74,
        "start_time": "2022-03-13T11:13:10.434Z"
      },
      {
        "duration": 34,
        "start_time": "2022-03-13T11:13:10.510Z"
      },
      {
        "duration": 23,
        "start_time": "2022-03-13T11:13:10.547Z"
      },
      {
        "duration": 267,
        "start_time": "2022-03-13T11:13:10.573Z"
      },
      {
        "duration": 20878,
        "start_time": "2022-03-13T11:13:25.257Z"
      },
      {
        "duration": 86,
        "start_time": "2022-03-13T11:13:49.177Z"
      },
      {
        "duration": 7,
        "start_time": "2022-03-13T11:13:54.106Z"
      },
      {
        "duration": 458,
        "start_time": "2022-03-13T11:13:57.705Z"
      },
      {
        "duration": 6749,
        "start_time": "2022-03-13T11:14:36.244Z"
      },
      {
        "duration": 371,
        "start_time": "2022-03-13T11:14:56.271Z"
      },
      {
        "duration": 6587,
        "start_time": "2022-03-13T11:15:57.368Z"
      },
      {
        "duration": 1946,
        "start_time": "2022-03-13T11:16:03.958Z"
      },
      {
        "duration": 1114,
        "start_time": "2022-03-13T11:16:05.907Z"
      },
      {
        "duration": 25,
        "start_time": "2022-03-13T11:16:07.024Z"
      },
      {
        "duration": 53,
        "start_time": "2022-03-13T11:16:07.052Z"
      },
      {
        "duration": 25,
        "start_time": "2022-03-13T11:16:07.107Z"
      },
      {
        "duration": 18,
        "start_time": "2022-03-13T11:16:07.135Z"
      },
      {
        "duration": 12,
        "start_time": "2022-03-13T11:16:07.156Z"
      },
      {
        "duration": 12,
        "start_time": "2022-03-13T11:16:07.171Z"
      },
      {
        "duration": 48,
        "start_time": "2022-03-13T11:16:07.185Z"
      },
      {
        "duration": 40,
        "start_time": "2022-03-13T11:16:07.236Z"
      },
      {
        "duration": 153,
        "start_time": "2022-03-13T11:16:07.279Z"
      },
      {
        "duration": 66,
        "start_time": "2022-03-13T11:16:07.434Z"
      },
      {
        "duration": 69,
        "start_time": "2022-03-13T11:16:07.503Z"
      },
      {
        "duration": 115,
        "start_time": "2022-03-13T11:16:07.574Z"
      },
      {
        "duration": 108,
        "start_time": "2022-03-13T11:16:07.692Z"
      },
      {
        "duration": 52,
        "start_time": "2022-03-13T11:16:07.802Z"
      },
      {
        "duration": 25,
        "start_time": "2022-03-13T11:16:07.856Z"
      },
      {
        "duration": 33,
        "start_time": "2022-03-13T11:16:07.883Z"
      },
      {
        "duration": 30,
        "start_time": "2022-03-13T11:16:07.933Z"
      },
      {
        "duration": 33,
        "start_time": "2022-03-13T11:16:07.965Z"
      },
      {
        "duration": 67,
        "start_time": "2022-03-13T11:16:08.001Z"
      },
      {
        "duration": 27,
        "start_time": "2022-03-13T11:16:08.074Z"
      },
      {
        "duration": 42,
        "start_time": "2022-03-13T11:16:08.105Z"
      },
      {
        "duration": 51,
        "start_time": "2022-03-13T11:16:08.150Z"
      },
      {
        "duration": 3,
        "start_time": "2022-03-13T11:16:08.204Z"
      },
      {
        "duration": 25,
        "start_time": "2022-03-13T11:16:08.209Z"
      },
      {
        "duration": 19559,
        "start_time": "2022-03-13T11:16:08.237Z"
      },
      {
        "duration": 5,
        "start_time": "2022-03-13T11:16:27.798Z"
      },
      {
        "duration": 58,
        "start_time": "2022-03-13T11:16:27.805Z"
      },
      {
        "duration": 28,
        "start_time": "2022-03-13T11:16:27.866Z"
      },
      {
        "duration": 41,
        "start_time": "2022-03-13T11:16:27.896Z"
      },
      {
        "duration": 45,
        "start_time": "2022-03-13T11:16:27.940Z"
      },
      {
        "duration": 4,
        "start_time": "2022-03-13T11:16:27.987Z"
      },
      {
        "duration": 18209,
        "start_time": "2022-03-13T11:16:27.993Z"
      },
      {
        "duration": 6,
        "start_time": "2022-03-13T11:16:46.204Z"
      },
      {
        "duration": 62,
        "start_time": "2022-03-13T11:16:46.212Z"
      },
      {
        "duration": 60,
        "start_time": "2022-03-13T11:16:46.276Z"
      },
      {
        "duration": 25,
        "start_time": "2022-03-13T11:16:46.339Z"
      },
      {
        "duration": 21,
        "start_time": "2022-03-13T11:16:46.367Z"
      },
      {
        "duration": 75,
        "start_time": "2022-03-13T11:16:46.391Z"
      },
      {
        "duration": 13,
        "start_time": "2022-03-13T11:16:46.469Z"
      },
      {
        "duration": 50229,
        "start_time": "2022-03-13T11:16:46.485Z"
      },
      {
        "duration": 56,
        "start_time": "2022-03-13T11:17:36.717Z"
      },
      {
        "duration": 16,
        "start_time": "2022-03-13T11:17:36.775Z"
      },
      {
        "duration": 118,
        "start_time": "2022-03-13T11:17:36.793Z"
      },
      {
        "duration": 309,
        "start_time": "2022-03-13T11:17:36.913Z"
      },
      {
        "duration": 18,
        "start_time": "2022-03-13T11:17:37.232Z"
      },
      {
        "duration": 5,
        "start_time": "2022-03-13T11:17:37.253Z"
      },
      {
        "duration": 43,
        "start_time": "2022-03-13T11:17:37.260Z"
      },
      {
        "duration": 27,
        "start_time": "2022-03-13T11:17:37.332Z"
      },
      {
        "duration": 11,
        "start_time": "2022-03-13T11:17:37.362Z"
      },
      {
        "duration": 63,
        "start_time": "2022-03-13T11:17:37.376Z"
      },
      {
        "duration": 22,
        "start_time": "2022-03-13T11:17:37.441Z"
      },
      {
        "duration": 15,
        "start_time": "2022-03-13T11:17:37.466Z"
      },
      {
        "duration": 150,
        "start_time": "2022-03-13T11:17:37.484Z"
      },
      {
        "duration": 438,
        "start_time": "2022-03-13T11:17:37.637Z"
      },
      {
        "duration": 108,
        "start_time": "2022-03-13T11:17:38.077Z"
      },
      {
        "duration": 174,
        "start_time": "2022-03-13T11:17:38.188Z"
      },
      {
        "duration": 224,
        "start_time": "2022-03-13T11:17:38.365Z"
      },
      {
        "duration": 100,
        "start_time": "2022-03-13T11:17:38.591Z"
      },
      {
        "duration": 4,
        "start_time": "2022-03-13T11:17:38.693Z"
      },
      {
        "duration": 817,
        "start_time": "2022-03-13T11:17:38.699Z"
      },
      {
        "duration": 4513,
        "start_time": "2022-03-13T11:17:39.519Z"
      },
      {
        "duration": 4908,
        "start_time": "2022-03-13T11:17:44.035Z"
      },
      {
        "duration": 4,
        "start_time": "2022-03-13T11:17:48.945Z"
      },
      {
        "duration": 1517,
        "start_time": "2022-03-13T11:17:48.952Z"
      },
      {
        "duration": 10,
        "start_time": "2022-03-13T11:17:50.476Z"
      },
      {
        "duration": 101,
        "start_time": "2022-03-13T11:17:50.489Z"
      },
      {
        "duration": 24,
        "start_time": "2022-03-13T11:17:50.592Z"
      },
      {
        "duration": 33,
        "start_time": "2022-03-13T11:17:50.619Z"
      },
      {
        "duration": 279,
        "start_time": "2022-03-13T11:17:50.655Z"
      },
      {
        "duration": 3,
        "start_time": "2022-03-13T11:17:50.936Z"
      },
      {
        "duration": 21395,
        "start_time": "2022-03-13T11:17:50.942Z"
      },
      {
        "duration": 295,
        "start_time": "2022-03-13T11:18:12.341Z"
      },
      {
        "duration": 94,
        "start_time": "2022-03-13T11:18:12.641Z"
      },
      {
        "duration": 15,
        "start_time": "2022-03-13T11:18:12.737Z"
      },
      {
        "duration": 3,
        "start_time": "2022-03-13T11:18:12.754Z"
      },
      {
        "duration": 5,
        "start_time": "2022-03-13T11:18:12.759Z"
      },
      {
        "duration": 9,
        "start_time": "2022-03-13T11:21:53.018Z"
      },
      {
        "duration": 93686,
        "start_time": "2022-03-13T11:22:15.471Z"
      },
      {
        "duration": 109788,
        "start_time": "2022-03-13T11:24:07.781Z"
      },
      {
        "duration": 96198,
        "start_time": "2022-03-13T11:26:49.337Z"
      },
      {
        "duration": 13438,
        "start_time": "2022-03-13T13:47:33.788Z"
      },
      {
        "duration": 2153,
        "start_time": "2022-03-13T13:47:47.228Z"
      },
      {
        "duration": 1118,
        "start_time": "2022-03-13T13:47:49.384Z"
      },
      {
        "duration": 23,
        "start_time": "2022-03-13T13:47:50.504Z"
      },
      {
        "duration": 75,
        "start_time": "2022-03-13T13:47:50.529Z"
      },
      {
        "duration": 5,
        "start_time": "2022-03-13T13:47:50.607Z"
      },
      {
        "duration": 13,
        "start_time": "2022-03-13T13:47:50.615Z"
      },
      {
        "duration": 8,
        "start_time": "2022-03-13T13:47:50.634Z"
      },
      {
        "duration": 13,
        "start_time": "2022-03-13T13:47:50.646Z"
      },
      {
        "duration": 28,
        "start_time": "2022-03-13T13:47:50.687Z"
      },
      {
        "duration": 76,
        "start_time": "2022-03-13T13:47:50.718Z"
      },
      {
        "duration": 171,
        "start_time": "2022-03-13T13:47:50.797Z"
      },
      {
        "duration": 75,
        "start_time": "2022-03-13T13:47:50.971Z"
      },
      {
        "duration": 60,
        "start_time": "2022-03-13T13:47:51.049Z"
      },
      {
        "duration": 110,
        "start_time": "2022-03-13T13:47:51.111Z"
      },
      {
        "duration": 123,
        "start_time": "2022-03-13T13:47:51.224Z"
      },
      {
        "duration": 50,
        "start_time": "2022-03-13T13:47:51.349Z"
      },
      {
        "duration": 31,
        "start_time": "2022-03-13T13:47:51.401Z"
      },
      {
        "duration": 28,
        "start_time": "2022-03-13T13:47:51.434Z"
      },
      {
        "duration": 46,
        "start_time": "2022-03-13T13:47:51.465Z"
      },
      {
        "duration": 35,
        "start_time": "2022-03-13T13:47:51.514Z"
      },
      {
        "duration": 77,
        "start_time": "2022-03-13T13:47:51.551Z"
      },
      {
        "duration": 26,
        "start_time": "2022-03-13T13:47:51.635Z"
      },
      {
        "duration": 43,
        "start_time": "2022-03-13T13:47:51.665Z"
      },
      {
        "duration": 51,
        "start_time": "2022-03-13T13:47:51.710Z"
      },
      {
        "duration": 23,
        "start_time": "2022-03-13T13:47:51.765Z"
      },
      {
        "duration": 12,
        "start_time": "2022-03-13T13:47:51.791Z"
      },
      {
        "duration": 32308,
        "start_time": "2022-03-13T13:47:51.806Z"
      },
      {
        "duration": 6,
        "start_time": "2022-03-13T13:48:24.117Z"
      },
      {
        "duration": 62,
        "start_time": "2022-03-13T13:48:24.125Z"
      },
      {
        "duration": 25,
        "start_time": "2022-03-13T13:48:24.190Z"
      },
      {
        "duration": 20,
        "start_time": "2022-03-13T13:48:24.218Z"
      },
      {
        "duration": 77,
        "start_time": "2022-03-13T13:48:24.241Z"
      },
      {
        "duration": 3,
        "start_time": "2022-03-13T13:48:24.320Z"
      },
      {
        "duration": 19395,
        "start_time": "2022-03-13T13:48:24.325Z"
      },
      {
        "duration": 12,
        "start_time": "2022-03-13T13:48:43.724Z"
      },
      {
        "duration": 65,
        "start_time": "2022-03-13T13:48:43.738Z"
      },
      {
        "duration": 104,
        "start_time": "2022-03-13T13:48:43.806Z"
      },
      {
        "duration": 44,
        "start_time": "2022-03-13T13:48:43.914Z"
      },
      {
        "duration": 51,
        "start_time": "2022-03-13T13:48:43.962Z"
      },
      {
        "duration": 48,
        "start_time": "2022-03-13T13:48:44.016Z"
      },
      {
        "duration": 30,
        "start_time": "2022-03-13T13:48:44.067Z"
      },
      {
        "duration": 53191,
        "start_time": "2022-03-13T13:48:44.100Z"
      },
      {
        "duration": 45,
        "start_time": "2022-03-13T13:49:37.294Z"
      },
      {
        "duration": 45,
        "start_time": "2022-03-13T13:49:37.342Z"
      },
      {
        "duration": 106,
        "start_time": "2022-03-13T13:49:37.389Z"
      },
      {
        "duration": 323,
        "start_time": "2022-03-13T13:49:37.497Z"
      },
      {
        "duration": 22,
        "start_time": "2022-03-13T13:49:37.823Z"
      },
      {
        "duration": 8,
        "start_time": "2022-03-13T13:49:37.847Z"
      },
      {
        "duration": 76,
        "start_time": "2022-03-13T13:49:37.886Z"
      },
      {
        "duration": 43,
        "start_time": "2022-03-13T13:49:37.966Z"
      },
      {
        "duration": 13,
        "start_time": "2022-03-13T13:49:38.012Z"
      },
      {
        "duration": 75,
        "start_time": "2022-03-13T13:49:38.027Z"
      },
      {
        "duration": 21,
        "start_time": "2022-03-13T13:49:38.105Z"
      },
      {
        "duration": 16,
        "start_time": "2022-03-13T13:49:38.129Z"
      },
      {
        "duration": 150,
        "start_time": "2022-03-13T13:49:38.148Z"
      },
      {
        "duration": 387,
        "start_time": "2022-03-13T13:49:38.300Z"
      },
      {
        "duration": 107,
        "start_time": "2022-03-13T13:49:38.689Z"
      },
      {
        "duration": 176,
        "start_time": "2022-03-13T13:49:38.799Z"
      },
      {
        "duration": 242,
        "start_time": "2022-03-13T13:49:38.978Z"
      },
      {
        "duration": 97,
        "start_time": "2022-03-13T13:49:39.223Z"
      },
      {
        "duration": 4,
        "start_time": "2022-03-13T13:49:39.322Z"
      },
      {
        "duration": 1328,
        "start_time": "2022-03-13T13:49:39.329Z"
      },
      {
        "duration": 4939,
        "start_time": "2022-03-13T13:49:40.659Z"
      },
      {
        "duration": 6556,
        "start_time": "2022-03-13T13:49:45.601Z"
      },
      {
        "duration": 4,
        "start_time": "2022-03-13T13:49:52.161Z"
      },
      {
        "duration": 1590,
        "start_time": "2022-03-13T13:49:52.168Z"
      },
      {
        "duration": 22,
        "start_time": "2022-03-13T13:49:53.768Z"
      },
      {
        "duration": 71,
        "start_time": "2022-03-13T13:49:53.793Z"
      },
      {
        "duration": 31,
        "start_time": "2022-03-13T13:49:53.887Z"
      },
      {
        "duration": 30,
        "start_time": "2022-03-13T13:49:53.921Z"
      },
      {
        "duration": 366,
        "start_time": "2022-03-13T13:49:53.954Z"
      },
      {
        "duration": 3,
        "start_time": "2022-03-13T13:49:54.322Z"
      },
      {
        "duration": 30557,
        "start_time": "2022-03-13T13:49:54.330Z"
      },
      {
        "duration": 20,
        "start_time": "2022-03-13T13:50:24.890Z"
      },
      {
        "duration": 74,
        "start_time": "2022-03-13T13:50:24.913Z"
      },
      {
        "duration": 129,
        "start_time": "2022-03-13T13:50:24.989Z"
      },
      {
        "duration": 2445,
        "start_time": "2022-03-13T13:50:25.121Z"
      },
      {
        "duration": 18,
        "start_time": "2022-03-13T13:50:27.569Z"
      },
      {
        "duration": 69,
        "start_time": "2022-03-13T13:50:27.590Z"
      },
      {
        "duration": 27,
        "start_time": "2022-03-13T13:50:27.686Z"
      },
      {
        "duration": 30972,
        "start_time": "2022-03-13T13:50:27.716Z"
      },
      {
        "duration": 9,
        "start_time": "2022-03-13T13:50:58.691Z"
      },
      {
        "duration": 89,
        "start_time": "2022-03-13T13:50:58.703Z"
      },
      {
        "duration": 3,
        "start_time": "2022-03-13T13:50:58.796Z"
      },
      {
        "duration": 432,
        "start_time": "2022-03-13T13:55:08.394Z"
      },
      {
        "duration": 111822,
        "start_time": "2022-03-13T13:55:41.482Z"
      },
      {
        "duration": 50621,
        "start_time": "2022-03-13T13:58:45.168Z"
      },
      {
        "duration": 15458,
        "start_time": "2022-03-13T14:00:28.993Z"
      },
      {
        "duration": 53635,
        "start_time": "2022-03-13T14:02:03.955Z"
      },
      {
        "duration": 68004,
        "start_time": "2022-03-13T14:04:34.377Z"
      },
      {
        "duration": 58903,
        "start_time": "2022-03-13T14:06:22.600Z"
      },
      {
        "duration": 62962,
        "start_time": "2022-03-13T14:10:21.628Z"
      },
      {
        "duration": 11,
        "start_time": "2022-03-13T14:16:21.268Z"
      },
      {
        "duration": 10,
        "start_time": "2022-03-13T14:16:22.294Z"
      },
      {
        "duration": 6,
        "start_time": "2022-03-13T14:16:53.656Z"
      },
      {
        "duration": 7,
        "start_time": "2022-03-13T14:17:05.114Z"
      },
      {
        "duration": 47608,
        "start_time": "2022-03-13T14:21:34.294Z"
      },
      {
        "duration": 12,
        "start_time": "2022-03-13T14:24:22.128Z"
      },
      {
        "duration": 44877,
        "start_time": "2022-03-13T14:25:12.124Z"
      },
      {
        "duration": 7,
        "start_time": "2022-03-13T14:26:36.349Z"
      },
      {
        "duration": 7,
        "start_time": "2022-03-13T14:26:42.473Z"
      },
      {
        "duration": 7,
        "start_time": "2022-03-13T14:26:55.278Z"
      },
      {
        "duration": 8,
        "start_time": "2022-03-13T14:27:03.642Z"
      },
      {
        "duration": 46388,
        "start_time": "2022-03-13T14:28:58.502Z"
      },
      {
        "duration": 25002,
        "start_time": "2022-03-13T14:29:44.893Z"
      },
      {
        "duration": 98,
        "start_time": "2022-03-13T14:30:09.899Z"
      },
      {
        "duration": 30,
        "start_time": "2022-03-13T14:30:09.999Z"
      },
      {
        "duration": 6236,
        "start_time": "2022-03-13T14:35:06.607Z"
      },
      {
        "duration": 1979,
        "start_time": "2022-03-13T14:35:12.846Z"
      },
      {
        "duration": 1137,
        "start_time": "2022-03-13T14:35:14.832Z"
      },
      {
        "duration": 25,
        "start_time": "2022-03-13T14:35:15.971Z"
      },
      {
        "duration": 47,
        "start_time": "2022-03-13T14:35:15.998Z"
      },
      {
        "duration": 11,
        "start_time": "2022-03-13T14:35:16.047Z"
      },
      {
        "duration": 29,
        "start_time": "2022-03-13T14:35:16.062Z"
      },
      {
        "duration": 9,
        "start_time": "2022-03-13T14:35:16.094Z"
      },
      {
        "duration": 13,
        "start_time": "2022-03-13T14:35:16.106Z"
      },
      {
        "duration": 24,
        "start_time": "2022-03-13T14:35:16.121Z"
      },
      {
        "duration": 40,
        "start_time": "2022-03-13T14:35:16.188Z"
      },
      {
        "duration": 152,
        "start_time": "2022-03-13T14:35:16.230Z"
      },
      {
        "duration": 69,
        "start_time": "2022-03-13T14:35:16.386Z"
      },
      {
        "duration": 71,
        "start_time": "2022-03-13T14:35:16.458Z"
      },
      {
        "duration": 113,
        "start_time": "2022-03-13T14:35:16.531Z"
      },
      {
        "duration": 116,
        "start_time": "2022-03-13T14:35:16.646Z"
      },
      {
        "duration": 55,
        "start_time": "2022-03-13T14:35:16.765Z"
      },
      {
        "duration": 24,
        "start_time": "2022-03-13T14:35:16.822Z"
      },
      {
        "duration": 49,
        "start_time": "2022-03-13T14:35:16.848Z"
      },
      {
        "duration": 31,
        "start_time": "2022-03-13T14:35:16.899Z"
      },
      {
        "duration": 54,
        "start_time": "2022-03-13T14:35:16.933Z"
      },
      {
        "duration": 45,
        "start_time": "2022-03-13T14:35:16.993Z"
      },
      {
        "duration": 53,
        "start_time": "2022-03-13T14:35:17.042Z"
      },
      {
        "duration": 22,
        "start_time": "2022-03-13T14:35:17.097Z"
      },
      {
        "duration": 66,
        "start_time": "2022-03-13T14:35:17.121Z"
      },
      {
        "duration": 4,
        "start_time": "2022-03-13T14:35:17.189Z"
      },
      {
        "duration": 9,
        "start_time": "2022-03-13T14:35:17.195Z"
      },
      {
        "duration": 18964,
        "start_time": "2022-03-13T14:35:17.207Z"
      },
      {
        "duration": 5,
        "start_time": "2022-03-13T14:35:36.174Z"
      },
      {
        "duration": 46,
        "start_time": "2022-03-13T14:35:36.181Z"
      },
      {
        "duration": 57,
        "start_time": "2022-03-13T14:35:36.230Z"
      },
      {
        "duration": 22,
        "start_time": "2022-03-13T14:35:36.290Z"
      },
      {
        "duration": 75,
        "start_time": "2022-03-13T14:35:36.315Z"
      },
      {
        "duration": 4,
        "start_time": "2022-03-13T14:35:36.393Z"
      },
      {
        "duration": 19500,
        "start_time": "2022-03-13T14:35:36.400Z"
      },
      {
        "duration": 5,
        "start_time": "2022-03-13T14:35:55.903Z"
      },
      {
        "duration": 49,
        "start_time": "2022-03-13T14:35:55.910Z"
      },
      {
        "duration": 70,
        "start_time": "2022-03-13T14:35:55.962Z"
      },
      {
        "duration": 25,
        "start_time": "2022-03-13T14:35:56.034Z"
      },
      {
        "duration": 38,
        "start_time": "2022-03-13T14:35:56.062Z"
      },
      {
        "duration": 46,
        "start_time": "2022-03-13T14:35:56.102Z"
      },
      {
        "duration": 37,
        "start_time": "2022-03-13T14:35:56.151Z"
      },
      {
        "duration": 52943,
        "start_time": "2022-03-13T14:35:56.191Z"
      },
      {
        "duration": 57,
        "start_time": "2022-03-13T14:36:49.137Z"
      },
      {
        "duration": 17,
        "start_time": "2022-03-13T14:36:49.197Z"
      },
      {
        "duration": 119,
        "start_time": "2022-03-13T14:36:49.216Z"
      },
      {
        "duration": 321,
        "start_time": "2022-03-13T14:36:49.337Z"
      },
      {
        "duration": 35,
        "start_time": "2022-03-13T14:36:49.661Z"
      },
      {
        "duration": 6,
        "start_time": "2022-03-13T14:36:49.698Z"
      },
      {
        "duration": 85,
        "start_time": "2022-03-13T14:36:49.707Z"
      },
      {
        "duration": 28,
        "start_time": "2022-03-13T14:36:49.794Z"
      },
      {
        "duration": 12,
        "start_time": "2022-03-13T14:36:49.825Z"
      },
      {
        "duration": 73,
        "start_time": "2022-03-13T14:36:49.839Z"
      },
      {
        "duration": 23,
        "start_time": "2022-03-13T14:36:49.915Z"
      },
      {
        "duration": 16,
        "start_time": "2022-03-13T14:36:49.940Z"
      },
      {
        "duration": 150,
        "start_time": "2022-03-13T14:36:49.959Z"
      },
      {
        "duration": 382,
        "start_time": "2022-03-13T14:36:50.111Z"
      },
      {
        "duration": 106,
        "start_time": "2022-03-13T14:36:50.496Z"
      },
      {
        "duration": 171,
        "start_time": "2022-03-13T14:36:50.605Z"
      },
      {
        "duration": 239,
        "start_time": "2022-03-13T14:36:50.778Z"
      },
      {
        "duration": 100,
        "start_time": "2022-03-13T14:36:51.020Z"
      },
      {
        "duration": 4,
        "start_time": "2022-03-13T14:36:51.122Z"
      },
      {
        "duration": 1077,
        "start_time": "2022-03-13T14:36:51.128Z"
      },
      {
        "duration": 4413,
        "start_time": "2022-03-13T14:36:52.208Z"
      },
      {
        "duration": 4341,
        "start_time": "2022-03-13T14:36:56.624Z"
      },
      {
        "duration": 5,
        "start_time": "2022-03-13T14:37:00.967Z"
      },
      {
        "duration": 1104,
        "start_time": "2022-03-13T14:37:00.992Z"
      },
      {
        "duration": 6,
        "start_time": "2022-03-13T14:37:02.099Z"
      },
      {
        "duration": 93,
        "start_time": "2022-03-13T14:37:02.108Z"
      },
      {
        "duration": 52,
        "start_time": "2022-03-13T14:37:02.204Z"
      },
      {
        "duration": 567,
        "start_time": "2022-03-13T14:37:02.258Z"
      },
      {
        "duration": -611,
        "start_time": "2022-03-13T14:37:03.439Z"
      },
      {
        "duration": -613,
        "start_time": "2022-03-13T14:37:03.443Z"
      },
      {
        "duration": -616,
        "start_time": "2022-03-13T14:37:03.447Z"
      },
      {
        "duration": -618,
        "start_time": "2022-03-13T14:37:03.451Z"
      },
      {
        "duration": -620,
        "start_time": "2022-03-13T14:37:03.455Z"
      },
      {
        "duration": 6138,
        "start_time": "2022-03-13T14:37:50.795Z"
      },
      {
        "duration": 2047,
        "start_time": "2022-03-13T14:37:56.936Z"
      },
      {
        "duration": 1101,
        "start_time": "2022-03-13T14:37:58.986Z"
      },
      {
        "duration": 21,
        "start_time": "2022-03-13T14:38:00.091Z"
      },
      {
        "duration": 46,
        "start_time": "2022-03-13T14:38:00.114Z"
      },
      {
        "duration": 4,
        "start_time": "2022-03-13T14:38:00.187Z"
      },
      {
        "duration": 12,
        "start_time": "2022-03-13T14:38:00.195Z"
      },
      {
        "duration": 9,
        "start_time": "2022-03-13T14:38:00.212Z"
      },
      {
        "duration": 20,
        "start_time": "2022-03-13T14:38:00.225Z"
      },
      {
        "duration": 58,
        "start_time": "2022-03-13T14:38:00.248Z"
      },
      {
        "duration": 43,
        "start_time": "2022-03-13T14:38:00.308Z"
      },
      {
        "duration": 159,
        "start_time": "2022-03-13T14:38:00.353Z"
      },
      {
        "duration": 76,
        "start_time": "2022-03-13T14:38:00.514Z"
      },
      {
        "duration": 55,
        "start_time": "2022-03-13T14:38:00.593Z"
      },
      {
        "duration": 121,
        "start_time": "2022-03-13T14:38:00.650Z"
      },
      {
        "duration": 118,
        "start_time": "2022-03-13T14:38:00.773Z"
      },
      {
        "duration": 47,
        "start_time": "2022-03-13T14:38:00.894Z"
      },
      {
        "duration": 45,
        "start_time": "2022-03-13T14:38:00.943Z"
      },
      {
        "duration": 43,
        "start_time": "2022-03-13T14:38:00.990Z"
      },
      {
        "duration": 67,
        "start_time": "2022-03-13T14:38:01.036Z"
      },
      {
        "duration": 45,
        "start_time": "2022-03-13T14:38:01.105Z"
      },
      {
        "duration": 51,
        "start_time": "2022-03-13T14:38:01.152Z"
      },
      {
        "duration": 31,
        "start_time": "2022-03-13T14:38:01.209Z"
      },
      {
        "duration": 22,
        "start_time": "2022-03-13T14:38:01.244Z"
      },
      {
        "duration": 45,
        "start_time": "2022-03-13T14:38:01.287Z"
      },
      {
        "duration": 6,
        "start_time": "2022-03-13T14:38:01.334Z"
      },
      {
        "duration": 9,
        "start_time": "2022-03-13T14:38:01.342Z"
      },
      {
        "duration": 18912,
        "start_time": "2022-03-13T14:38:01.353Z"
      },
      {
        "duration": 5,
        "start_time": "2022-03-13T14:38:20.268Z"
      },
      {
        "duration": 40,
        "start_time": "2022-03-13T14:38:20.286Z"
      },
      {
        "duration": 27,
        "start_time": "2022-03-13T14:38:20.328Z"
      },
      {
        "duration": 46,
        "start_time": "2022-03-13T14:38:20.357Z"
      },
      {
        "duration": 46,
        "start_time": "2022-03-13T14:38:20.405Z"
      },
      {
        "duration": 3,
        "start_time": "2022-03-13T14:38:20.453Z"
      },
      {
        "duration": 18662,
        "start_time": "2022-03-13T14:38:20.459Z"
      },
      {
        "duration": 5,
        "start_time": "2022-03-13T14:38:39.124Z"
      },
      {
        "duration": 64,
        "start_time": "2022-03-13T14:38:39.132Z"
      },
      {
        "duration": 49,
        "start_time": "2022-03-13T14:38:39.199Z"
      },
      {
        "duration": 42,
        "start_time": "2022-03-13T14:38:39.251Z"
      },
      {
        "duration": 22,
        "start_time": "2022-03-13T14:38:39.296Z"
      },
      {
        "duration": 68,
        "start_time": "2022-03-13T14:38:39.320Z"
      },
      {
        "duration": 13,
        "start_time": "2022-03-13T14:38:39.391Z"
      },
      {
        "duration": 50733,
        "start_time": "2022-03-13T14:38:39.407Z"
      },
      {
        "duration": 63,
        "start_time": "2022-03-13T14:39:30.142Z"
      },
      {
        "duration": 19,
        "start_time": "2022-03-13T14:39:30.208Z"
      },
      {
        "duration": 129,
        "start_time": "2022-03-13T14:39:30.230Z"
      },
      {
        "duration": 339,
        "start_time": "2022-03-13T14:39:30.362Z"
      },
      {
        "duration": 18,
        "start_time": "2022-03-13T14:39:30.703Z"
      },
      {
        "duration": 5,
        "start_time": "2022-03-13T14:39:30.724Z"
      },
      {
        "duration": 76,
        "start_time": "2022-03-13T14:39:30.732Z"
      },
      {
        "duration": 30,
        "start_time": "2022-03-13T14:39:30.810Z"
      },
      {
        "duration": 32,
        "start_time": "2022-03-13T14:39:30.843Z"
      },
      {
        "duration": 76,
        "start_time": "2022-03-13T14:39:30.877Z"
      },
      {
        "duration": 25,
        "start_time": "2022-03-13T14:39:30.955Z"
      },
      {
        "duration": 16,
        "start_time": "2022-03-13T14:39:30.982Z"
      },
      {
        "duration": 144,
        "start_time": "2022-03-13T14:39:31.001Z"
      },
      {
        "duration": 563,
        "start_time": "2022-03-13T14:39:31.147Z"
      },
      {
        "duration": 112,
        "start_time": "2022-03-13T14:39:31.713Z"
      },
      {
        "duration": 192,
        "start_time": "2022-03-13T14:39:31.829Z"
      },
      {
        "duration": 250,
        "start_time": "2022-03-13T14:39:32.024Z"
      },
      {
        "duration": 114,
        "start_time": "2022-03-13T14:39:32.277Z"
      },
      {
        "duration": 4,
        "start_time": "2022-03-13T14:39:32.393Z"
      },
      {
        "duration": 1149,
        "start_time": "2022-03-13T14:39:32.400Z"
      },
      {
        "duration": 4530,
        "start_time": "2022-03-13T14:39:33.552Z"
      },
      {
        "duration": 4429,
        "start_time": "2022-03-13T14:39:38.086Z"
      },
      {
        "duration": 3,
        "start_time": "2022-03-13T14:39:42.518Z"
      },
      {
        "duration": 1144,
        "start_time": "2022-03-13T14:39:42.523Z"
      },
      {
        "duration": 13,
        "start_time": "2022-03-13T14:39:43.675Z"
      },
      {
        "duration": 96,
        "start_time": "2022-03-13T14:39:43.691Z"
      },
      {
        "duration": 52,
        "start_time": "2022-03-13T14:39:43.789Z"
      },
      {
        "duration": 277,
        "start_time": "2022-03-13T14:39:43.844Z"
      },
      {
        "duration": 47865,
        "start_time": "2022-03-13T14:39:44.124Z"
      },
      {
        "duration": 21995,
        "start_time": "2022-03-13T14:40:31.992Z"
      },
      {
        "duration": 104,
        "start_time": "2022-03-13T14:40:53.991Z"
      },
      {
        "duration": 14,
        "start_time": "2022-03-13T14:40:54.098Z"
      },
      {
        "duration": 4,
        "start_time": "2022-03-13T14:40:54.114Z"
      },
      {
        "duration": 13,
        "start_time": "2022-03-13T14:43:54.851Z"
      },
      {
        "duration": 10,
        "start_time": "2022-03-13T14:43:56.363Z"
      },
      {
        "duration": 14107,
        "start_time": "2022-03-14T05:31:21.475Z"
      },
      {
        "duration": 2594,
        "start_time": "2022-03-14T05:31:35.585Z"
      },
      {
        "duration": 6739,
        "start_time": "2022-03-14T05:31:38.183Z"
      },
      {
        "duration": 21,
        "start_time": "2022-03-14T05:31:44.925Z"
      },
      {
        "duration": 44,
        "start_time": "2022-03-14T05:31:44.948Z"
      },
      {
        "duration": 7,
        "start_time": "2022-03-14T05:31:44.995Z"
      },
      {
        "duration": 18,
        "start_time": "2022-03-14T05:31:45.004Z"
      },
      {
        "duration": 9,
        "start_time": "2022-03-14T05:31:45.026Z"
      },
      {
        "duration": 10,
        "start_time": "2022-03-14T05:31:45.037Z"
      },
      {
        "duration": 21,
        "start_time": "2022-03-14T05:31:45.049Z"
      },
      {
        "duration": 88,
        "start_time": "2022-03-14T05:31:45.073Z"
      },
      {
        "duration": 220,
        "start_time": "2022-03-14T05:31:45.163Z"
      },
      {
        "duration": 72,
        "start_time": "2022-03-14T05:31:45.386Z"
      },
      {
        "duration": 108,
        "start_time": "2022-03-14T05:31:45.460Z"
      },
      {
        "duration": 171,
        "start_time": "2022-03-14T05:31:45.571Z"
      },
      {
        "duration": 116,
        "start_time": "2022-03-14T05:31:45.745Z"
      },
      {
        "duration": 45,
        "start_time": "2022-03-14T05:31:45.863Z"
      },
      {
        "duration": 40,
        "start_time": "2022-03-14T05:31:45.910Z"
      },
      {
        "duration": 28,
        "start_time": "2022-03-14T05:31:45.953Z"
      },
      {
        "duration": 54,
        "start_time": "2022-03-14T05:31:45.983Z"
      },
      {
        "duration": 34,
        "start_time": "2022-03-14T05:31:46.040Z"
      },
      {
        "duration": 62,
        "start_time": "2022-03-14T05:31:46.077Z"
      },
      {
        "duration": 25,
        "start_time": "2022-03-14T05:31:46.145Z"
      },
      {
        "duration": 20,
        "start_time": "2022-03-14T05:31:46.173Z"
      },
      {
        "duration": 74,
        "start_time": "2022-03-14T05:31:46.196Z"
      },
      {
        "duration": 5,
        "start_time": "2022-03-14T05:31:46.273Z"
      },
      {
        "duration": 9,
        "start_time": "2022-03-14T05:31:46.281Z"
      },
      {
        "duration": 17725,
        "start_time": "2022-03-14T05:31:46.293Z"
      },
      {
        "duration": 4,
        "start_time": "2022-03-14T05:32:04.021Z"
      },
      {
        "duration": 40,
        "start_time": "2022-03-14T05:32:04.033Z"
      },
      {
        "duration": 25,
        "start_time": "2022-03-14T05:32:04.076Z"
      },
      {
        "duration": 44,
        "start_time": "2022-03-14T05:32:04.104Z"
      },
      {
        "duration": 46,
        "start_time": "2022-03-14T05:32:04.151Z"
      },
      {
        "duration": 3,
        "start_time": "2022-03-14T05:32:04.200Z"
      },
      {
        "duration": 17624,
        "start_time": "2022-03-14T05:32:04.233Z"
      },
      {
        "duration": 7,
        "start_time": "2022-03-14T05:32:21.859Z"
      },
      {
        "duration": 73,
        "start_time": "2022-03-14T05:32:21.869Z"
      },
      {
        "duration": 49,
        "start_time": "2022-03-14T05:32:21.944Z"
      },
      {
        "duration": 46,
        "start_time": "2022-03-14T05:32:21.997Z"
      },
      {
        "duration": 24,
        "start_time": "2022-03-14T05:32:22.045Z"
      },
      {
        "duration": 78,
        "start_time": "2022-03-14T05:32:22.072Z"
      },
      {
        "duration": 15,
        "start_time": "2022-03-14T05:32:22.153Z"
      },
      {
        "duration": 47822,
        "start_time": "2022-03-14T05:32:22.171Z"
      },
      {
        "duration": 55,
        "start_time": "2022-03-14T05:33:09.995Z"
      },
      {
        "duration": 17,
        "start_time": "2022-03-14T05:33:10.053Z"
      },
      {
        "duration": 118,
        "start_time": "2022-03-14T05:33:10.072Z"
      },
      {
        "duration": 311,
        "start_time": "2022-03-14T05:33:10.193Z"
      },
      {
        "duration": 30,
        "start_time": "2022-03-14T05:33:10.506Z"
      },
      {
        "duration": 6,
        "start_time": "2022-03-14T05:33:10.538Z"
      },
      {
        "duration": 42,
        "start_time": "2022-03-14T05:33:10.546Z"
      },
      {
        "duration": 47,
        "start_time": "2022-03-14T05:33:10.591Z"
      },
      {
        "duration": 12,
        "start_time": "2022-03-14T05:33:10.640Z"
      },
      {
        "duration": 40,
        "start_time": "2022-03-14T05:33:10.654Z"
      },
      {
        "duration": 57,
        "start_time": "2022-03-14T05:33:10.697Z"
      },
      {
        "duration": 18,
        "start_time": "2022-03-14T05:33:10.757Z"
      },
      {
        "duration": 154,
        "start_time": "2022-03-14T05:33:10.778Z"
      },
      {
        "duration": 393,
        "start_time": "2022-03-14T05:33:10.935Z"
      },
      {
        "duration": 111,
        "start_time": "2022-03-14T05:33:11.334Z"
      },
      {
        "duration": 172,
        "start_time": "2022-03-14T05:33:11.448Z"
      },
      {
        "duration": 231,
        "start_time": "2022-03-14T05:33:11.623Z"
      },
      {
        "duration": 98,
        "start_time": "2022-03-14T05:33:11.857Z"
      },
      {
        "duration": 4,
        "start_time": "2022-03-14T05:33:11.958Z"
      },
      {
        "duration": 745,
        "start_time": "2022-03-14T05:33:11.966Z"
      },
      {
        "duration": 4720,
        "start_time": "2022-03-14T05:33:12.713Z"
      },
      {
        "duration": 4279,
        "start_time": "2022-03-14T05:33:17.436Z"
      },
      {
        "duration": 4,
        "start_time": "2022-03-14T05:33:21.717Z"
      },
      {
        "duration": 1096,
        "start_time": "2022-03-14T05:33:21.731Z"
      },
      {
        "duration": 7,
        "start_time": "2022-03-14T05:33:22.837Z"
      },
      {
        "duration": 88,
        "start_time": "2022-03-14T05:33:22.847Z"
      },
      {
        "duration": 50,
        "start_time": "2022-03-14T05:33:22.938Z"
      },
      {
        "duration": 263,
        "start_time": "2022-03-14T05:33:22.991Z"
      },
      {
        "duration": 42788,
        "start_time": "2022-03-14T05:33:23.257Z"
      },
      {
        "duration": 20485,
        "start_time": "2022-03-14T05:34:06.048Z"
      },
      {
        "duration": 103,
        "start_time": "2022-03-14T05:34:26.538Z"
      },
      {
        "duration": 9,
        "start_time": "2022-03-14T05:34:26.644Z"
      },
      {
        "duration": 13,
        "start_time": "2022-03-14T05:34:26.655Z"
      },
      {
        "duration": 8,
        "start_time": "2022-03-14T05:34:26.670Z"
      },
      {
        "duration": 41389,
        "start_time": "2022-03-14T05:38:30.157Z"
      },
      {
        "duration": 5,
        "start_time": "2022-03-14T05:54:29.009Z"
      },
      {
        "duration": 414,
        "start_time": "2022-03-14T05:55:03.927Z"
      },
      {
        "duration": 11,
        "start_time": "2022-03-14T05:55:13.503Z"
      },
      {
        "duration": 15,
        "start_time": "2022-03-14T05:55:16.472Z"
      },
      {
        "duration": 11,
        "start_time": "2022-03-14T05:55:17.419Z"
      },
      {
        "duration": 3,
        "start_time": "2022-03-14T06:02:54.251Z"
      },
      {
        "duration": 435,
        "start_time": "2022-03-14T06:05:35.202Z"
      },
      {
        "duration": 396,
        "start_time": "2022-03-14T06:33:19.063Z"
      },
      {
        "duration": 1076,
        "start_time": "2022-03-14T06:34:00.895Z"
      },
      {
        "duration": 9,
        "start_time": "2022-03-14T06:34:37.907Z"
      },
      {
        "duration": 380,
        "start_time": "2022-03-14T06:36:52.106Z"
      },
      {
        "duration": 41,
        "start_time": "2022-03-14T06:37:39.273Z"
      },
      {
        "duration": 6,
        "start_time": "2022-03-14T06:37:47.311Z"
      },
      {
        "duration": 102154,
        "start_time": "2022-03-14T06:37:53.069Z"
      },
      {
        "duration": 2012186,
        "start_time": "2022-03-14T06:39:46.962Z"
      },
      {
        "duration": 62600,
        "start_time": "2022-03-14T07:14:54.020Z"
      },
      {
        "duration": 59016,
        "start_time": "2022-03-14T07:16:22.414Z"
      },
      {
        "duration": 57926,
        "start_time": "2022-03-14T07:18:04.120Z"
      },
      {
        "duration": 10,
        "start_time": "2022-03-14T07:19:50.938Z"
      },
      {
        "duration": 33524,
        "start_time": "2022-03-14T07:21:29.630Z"
      },
      {
        "duration": 248,
        "start_time": "2022-03-14T07:22:09.869Z"
      },
      {
        "duration": 4659086,
        "start_time": "2022-03-14T07:22:24.938Z"
      },
      {
        "duration": 604839,
        "start_time": "2022-03-14T08:41:33.988Z"
      },
      {
        "duration": 317,
        "start_time": "2022-03-14T08:59:15.305Z"
      },
      {
        "duration": 10,
        "start_time": "2022-03-14T08:59:25.169Z"
      },
      {
        "duration": 36,
        "start_time": "2022-03-14T08:59:45.982Z"
      },
      {
        "duration": 6,
        "start_time": "2022-03-14T09:03:56.778Z"
      },
      {
        "duration": 21,
        "start_time": "2022-03-14T09:04:12.196Z"
      },
      {
        "duration": 15,
        "start_time": "2022-03-14T09:08:26.050Z"
      },
      {
        "duration": 5,
        "start_time": "2022-03-14T09:09:12.562Z"
      },
      {
        "duration": 9,
        "start_time": "2022-03-14T09:09:13.750Z"
      },
      {
        "duration": 318,
        "start_time": "2022-03-14T09:12:31.721Z"
      },
      {
        "duration": 313,
        "start_time": "2022-03-14T09:12:46.207Z"
      },
      {
        "duration": 114,
        "start_time": "2022-03-14T09:13:37.068Z"
      },
      {
        "duration": 159,
        "start_time": "2022-03-14T09:14:36.565Z"
      },
      {
        "duration": 315,
        "start_time": "2022-03-14T09:15:18.816Z"
      },
      {
        "duration": 7,
        "start_time": "2022-03-14T09:18:09.019Z"
      },
      {
        "duration": 313,
        "start_time": "2022-03-14T09:18:24.216Z"
      },
      {
        "duration": 330,
        "start_time": "2022-03-14T09:18:28.046Z"
      },
      {
        "duration": 5,
        "start_time": "2022-03-14T09:18:34.845Z"
      },
      {
        "duration": 6,
        "start_time": "2022-03-14T09:19:03.676Z"
      },
      {
        "duration": 407,
        "start_time": "2022-03-14T09:19:12.609Z"
      },
      {
        "duration": 6,
        "start_time": "2022-03-14T09:19:41.666Z"
      },
      {
        "duration": 363,
        "start_time": "2022-03-14T09:19:59.557Z"
      },
      {
        "duration": 6,
        "start_time": "2022-03-14T09:20:32.203Z"
      },
      {
        "duration": 6,
        "start_time": "2022-03-14T09:20:43.281Z"
      },
      {
        "duration": 6,
        "start_time": "2022-03-14T09:21:01.546Z"
      },
      {
        "duration": 15,
        "start_time": "2022-03-14T09:21:18.952Z"
      },
      {
        "duration": 1315,
        "start_time": "2022-03-14T09:22:19.259Z"
      },
      {
        "duration": 6,
        "start_time": "2022-03-14T09:22:28.069Z"
      },
      {
        "duration": 5,
        "start_time": "2022-03-14T09:22:28.778Z"
      },
      {
        "duration": 17,
        "start_time": "2022-03-14T09:22:32.526Z"
      },
      {
        "duration": 13,
        "start_time": "2022-03-14T09:23:36.118Z"
      },
      {
        "duration": 5,
        "start_time": "2022-03-14T09:23:46.236Z"
      },
      {
        "duration": 434,
        "start_time": "2022-03-14T09:24:07.504Z"
      },
      {
        "duration": 14,
        "start_time": "2022-03-14T09:33:08.727Z"
      },
      {
        "duration": 377,
        "start_time": "2022-03-14T09:33:59.155Z"
      },
      {
        "duration": 860,
        "start_time": "2022-03-14T09:37:01.708Z"
      },
      {
        "duration": 7,
        "start_time": "2022-03-14T09:37:16.759Z"
      },
      {
        "duration": 109,
        "start_time": "2022-03-14T09:37:38.720Z"
      },
      {
        "duration": 5,
        "start_time": "2022-03-14T09:37:42.378Z"
      },
      {
        "duration": 785,
        "start_time": "2022-03-14T09:43:02.593Z"
      },
      {
        "duration": 678,
        "start_time": "2022-03-14T09:43:27.193Z"
      },
      {
        "duration": 607,
        "start_time": "2022-03-14T09:46:31.928Z"
      },
      {
        "duration": 639,
        "start_time": "2022-03-14T09:46:47.711Z"
      },
      {
        "duration": 641,
        "start_time": "2022-03-14T09:47:49.385Z"
      },
      {
        "duration": 308,
        "start_time": "2022-03-14T09:48:09.466Z"
      },
      {
        "duration": 487,
        "start_time": "2022-03-14T09:49:12.302Z"
      },
      {
        "duration": 449,
        "start_time": "2022-03-14T09:50:19.464Z"
      },
      {
        "duration": 800392,
        "start_time": "2022-03-14T09:56:28.212Z"
      },
      {
        "duration": 29,
        "start_time": "2022-03-14T10:09:48.607Z"
      },
      {
        "duration": 715,
        "start_time": "2022-03-14T10:09:48.640Z"
      },
      {
        "duration": 116,
        "start_time": "2022-03-14T10:15:22.376Z"
      },
      {
        "duration": 7,
        "start_time": "2022-03-14T10:15:25.674Z"
      },
      {
        "duration": 6,
        "start_time": "2022-03-14T10:15:32.078Z"
      },
      {
        "duration": 334,
        "start_time": "2022-03-14T10:15:43.492Z"
      },
      {
        "duration": 337,
        "start_time": "2022-03-14T10:16:21.842Z"
      },
      {
        "duration": 316,
        "start_time": "2022-03-14T10:19:34.177Z"
      },
      {
        "duration": 7,
        "start_time": "2022-03-14T10:19:58.421Z"
      },
      {
        "duration": 10,
        "start_time": "2022-03-14T10:20:46.310Z"
      },
      {
        "duration": 253,
        "start_time": "2022-03-14T10:25:30.040Z"
      },
      {
        "duration": 88121,
        "start_time": "2022-03-14T10:27:09.634Z"
      },
      {
        "duration": 5,
        "start_time": "2022-03-14T10:31:49.891Z"
      },
      {
        "duration": 5,
        "start_time": "2022-03-14T10:32:15.909Z"
      },
      {
        "duration": 6,
        "start_time": "2022-03-14T10:32:33.583Z"
      },
      {
        "duration": 315,
        "start_time": "2022-03-14T10:32:40.526Z"
      },
      {
        "duration": 5,
        "start_time": "2022-03-14T10:34:15.416Z"
      },
      {
        "duration": 278014,
        "start_time": "2022-03-14T10:34:51.247Z"
      },
      {
        "duration": 13,
        "start_time": "2022-03-14T10:40:21.410Z"
      },
      {
        "duration": 9406,
        "start_time": "2022-03-14T10:40:54.130Z"
      },
      {
        "duration": 8679,
        "start_time": "2022-03-14T10:41:31.496Z"
      },
      {
        "duration": 8307,
        "start_time": "2022-03-14T10:42:12.319Z"
      },
      {
        "duration": 6,
        "start_time": "2022-03-14T10:42:40.288Z"
      },
      {
        "duration": 6,
        "start_time": "2022-03-14T10:43:07.792Z"
      },
      {
        "duration": 6,
        "start_time": "2022-03-14T10:43:13.054Z"
      },
      {
        "duration": 321,
        "start_time": "2022-03-14T10:43:25.908Z"
      },
      {
        "duration": 6,
        "start_time": "2022-03-14T10:43:31.543Z"
      },
      {
        "duration": 8064,
        "start_time": "2022-03-14T10:43:47.886Z"
      },
      {
        "duration": 320,
        "start_time": "2022-03-14T10:44:09.383Z"
      },
      {
        "duration": 301,
        "start_time": "2022-03-14T10:44:23.688Z"
      },
      {
        "duration": 6,
        "start_time": "2022-03-14T10:44:45.200Z"
      },
      {
        "duration": 8892,
        "start_time": "2022-03-14T10:44:56.655Z"
      },
      {
        "duration": 236,
        "start_time": "2022-03-14T10:45:16.457Z"
      },
      {
        "duration": 233,
        "start_time": "2022-03-14T10:45:23.019Z"
      },
      {
        "duration": 399,
        "start_time": "2022-03-14T11:44:11.857Z"
      },
      {
        "duration": 324,
        "start_time": "2022-03-14T11:45:19.546Z"
      },
      {
        "duration": 382,
        "start_time": "2022-03-14T11:45:50.534Z"
      },
      {
        "duration": 24,
        "start_time": "2022-03-14T11:46:40.495Z"
      },
      {
        "duration": 115,
        "start_time": "2022-03-14T11:50:38.646Z"
      },
      {
        "duration": 57238,
        "start_time": "2022-03-14T11:50:45.657Z"
      },
      {
        "duration": 125,
        "start_time": "2022-03-14T11:52:52.040Z"
      },
      {
        "duration": 25268,
        "start_time": "2022-03-14T11:52:58.625Z"
      },
      {
        "duration": 24956,
        "start_time": "2022-03-14T11:53:49.125Z"
      },
      {
        "duration": 24986,
        "start_time": "2022-03-14T11:54:55.365Z"
      },
      {
        "duration": 105783,
        "start_time": "2022-03-14T11:56:09.084Z"
      },
      {
        "duration": 880609,
        "start_time": "2022-03-14T12:52:30.954Z"
      },
      {
        "duration": 16,
        "start_time": "2022-03-14T13:09:33.340Z"
      },
      {
        "duration": 127,
        "start_time": "2022-03-14T13:15:44.449Z"
      },
      {
        "duration": 450586,
        "start_time": "2022-03-14T13:16:10.883Z"
      },
      {
        "duration": 10,
        "start_time": "2022-03-14T13:27:02.206Z"
      },
      {
        "duration": 17,
        "start_time": "2022-03-14T13:27:44.305Z"
      },
      {
        "duration": 360,
        "start_time": "2022-03-14T13:27:56.391Z"
      },
      {
        "duration": 10,
        "start_time": "2022-03-14T13:37:40.240Z"
      },
      {
        "duration": 241,
        "start_time": "2022-03-14T13:37:44.143Z"
      },
      {
        "duration": 57,
        "start_time": "2022-03-14T13:45:50.471Z"
      },
      {
        "duration": 438759,
        "start_time": "2022-03-14T13:51:01.426Z"
      },
      {
        "duration": 1110749,
        "start_time": "2022-03-14T13:59:33.963Z"
      },
      {
        "duration": 1604463,
        "start_time": "2022-03-14T14:25:50.417Z"
      },
      {
        "duration": 10502,
        "start_time": "2022-03-14T17:00:46.707Z"
      },
      {
        "duration": 1539,
        "start_time": "2022-03-14T17:00:57.211Z"
      },
      {
        "duration": 10153,
        "start_time": "2022-03-14T17:00:58.752Z"
      },
      {
        "duration": 14,
        "start_time": "2022-03-14T17:01:08.907Z"
      },
      {
        "duration": 28,
        "start_time": "2022-03-14T17:01:08.922Z"
      },
      {
        "duration": 4,
        "start_time": "2022-03-14T17:01:08.952Z"
      },
      {
        "duration": 9,
        "start_time": "2022-03-14T17:01:08.958Z"
      },
      {
        "duration": 5,
        "start_time": "2022-03-14T17:01:08.970Z"
      },
      {
        "duration": 6,
        "start_time": "2022-03-14T17:01:08.977Z"
      },
      {
        "duration": 17,
        "start_time": "2022-03-14T17:01:09.001Z"
      },
      {
        "duration": 23,
        "start_time": "2022-03-14T17:01:09.019Z"
      },
      {
        "duration": 94,
        "start_time": "2022-03-14T17:01:09.043Z"
      },
      {
        "duration": 42,
        "start_time": "2022-03-14T17:01:09.138Z"
      },
      {
        "duration": 39,
        "start_time": "2022-03-14T17:01:09.181Z"
      },
      {
        "duration": 60,
        "start_time": "2022-03-14T17:01:09.222Z"
      },
      {
        "duration": 90,
        "start_time": "2022-03-14T17:01:09.284Z"
      },
      {
        "duration": 39,
        "start_time": "2022-03-14T17:01:09.376Z"
      },
      {
        "duration": 15,
        "start_time": "2022-03-14T17:01:09.416Z"
      },
      {
        "duration": 18,
        "start_time": "2022-03-14T17:01:09.432Z"
      },
      {
        "duration": 19,
        "start_time": "2022-03-14T17:01:09.451Z"
      },
      {
        "duration": 39,
        "start_time": "2022-03-14T17:01:09.472Z"
      },
      {
        "duration": 30,
        "start_time": "2022-03-14T17:01:09.512Z"
      },
      {
        "duration": 16,
        "start_time": "2022-03-14T17:01:09.546Z"
      },
      {
        "duration": 37,
        "start_time": "2022-03-14T17:01:09.564Z"
      },
      {
        "duration": 32,
        "start_time": "2022-03-14T17:01:09.602Z"
      },
      {
        "duration": 2,
        "start_time": "2022-03-14T17:01:09.636Z"
      },
      {
        "duration": 6,
        "start_time": "2022-03-14T17:01:09.640Z"
      },
      {
        "duration": 14931,
        "start_time": "2022-03-14T17:01:09.648Z"
      },
      {
        "duration": 4,
        "start_time": "2022-03-14T17:01:24.581Z"
      },
      {
        "duration": 38,
        "start_time": "2022-03-14T17:01:24.587Z"
      },
      {
        "duration": 17,
        "start_time": "2022-03-14T17:01:24.626Z"
      },
      {
        "duration": 22,
        "start_time": "2022-03-14T17:01:24.645Z"
      },
      {
        "duration": 45,
        "start_time": "2022-03-14T17:01:24.668Z"
      },
      {
        "duration": 3,
        "start_time": "2022-03-14T17:01:24.716Z"
      },
      {
        "duration": 11995,
        "start_time": "2022-03-14T17:01:24.720Z"
      },
      {
        "duration": 4,
        "start_time": "2022-03-14T17:01:36.716Z"
      },
      {
        "duration": 66,
        "start_time": "2022-03-14T17:01:36.721Z"
      },
      {
        "duration": 72,
        "start_time": "2022-03-14T17:01:36.788Z"
      },
      {
        "duration": 33,
        "start_time": "2022-03-14T17:01:36.862Z"
      },
      {
        "duration": 21,
        "start_time": "2022-03-14T17:01:36.901Z"
      },
      {
        "duration": 35,
        "start_time": "2022-03-14T17:01:36.923Z"
      },
      {
        "duration": 7,
        "start_time": "2022-03-14T17:01:36.960Z"
      },
      {
        "duration": 33803,
        "start_time": "2022-03-14T17:01:36.969Z"
      },
      {
        "duration": 37,
        "start_time": "2022-03-14T17:02:10.774Z"
      },
      {
        "duration": 15,
        "start_time": "2022-03-14T17:02:10.813Z"
      },
      {
        "duration": 72,
        "start_time": "2022-03-14T17:02:10.831Z"
      },
      {
        "duration": 173,
        "start_time": "2022-03-14T17:02:10.905Z"
      },
      {
        "duration": 22,
        "start_time": "2022-03-14T17:02:11.080Z"
      },
      {
        "duration": 5,
        "start_time": "2022-03-14T17:02:11.104Z"
      },
      {
        "duration": 52,
        "start_time": "2022-03-14T17:02:11.110Z"
      },
      {
        "duration": 39,
        "start_time": "2022-03-14T17:02:11.164Z"
      },
      {
        "duration": 7,
        "start_time": "2022-03-14T17:02:11.204Z"
      },
      {
        "duration": 20,
        "start_time": "2022-03-14T17:02:11.213Z"
      },
      {
        "duration": 20,
        "start_time": "2022-03-14T17:02:11.234Z"
      },
      {
        "duration": 9,
        "start_time": "2022-03-14T17:02:11.255Z"
      },
      {
        "duration": 102,
        "start_time": "2022-03-14T17:02:11.266Z"
      },
      {
        "duration": 213,
        "start_time": "2022-03-14T17:02:11.370Z"
      },
      {
        "duration": 76,
        "start_time": "2022-03-14T17:02:11.585Z"
      },
      {
        "duration": 123,
        "start_time": "2022-03-14T17:02:11.663Z"
      },
      {
        "duration": 144,
        "start_time": "2022-03-14T17:02:11.787Z"
      },
      {
        "duration": 76,
        "start_time": "2022-03-14T17:02:11.933Z"
      },
      {
        "duration": 6,
        "start_time": "2022-03-14T17:02:12.011Z"
      },
      {
        "duration": 555,
        "start_time": "2022-03-14T17:02:12.020Z"
      },
      {
        "duration": 4336,
        "start_time": "2022-03-14T17:02:12.577Z"
      },
      {
        "duration": 4276,
        "start_time": "2022-03-14T17:02:16.915Z"
      },
      {
        "duration": 10,
        "start_time": "2022-03-14T17:02:21.192Z"
      },
      {
        "duration": 980,
        "start_time": "2022-03-14T17:02:21.204Z"
      },
      {
        "duration": 12,
        "start_time": "2022-03-14T17:02:22.190Z"
      },
      {
        "duration": 63,
        "start_time": "2022-03-14T17:02:22.204Z"
      },
      {
        "duration": 61,
        "start_time": "2022-03-14T17:02:22.268Z"
      },
      {
        "duration": 188,
        "start_time": "2022-03-14T17:02:22.331Z"
      },
      {
        "duration": 6,
        "start_time": "2022-03-14T17:02:22.520Z"
      },
      {
        "duration": 676615,
        "start_time": "2022-03-14T17:02:22.528Z"
      },
      {
        "duration": 10,
        "start_time": "2022-03-14T17:13:39.144Z"
      },
      {
        "duration": 210,
        "start_time": "2022-03-14T17:13:39.156Z"
      },
      {
        "duration": 308352,
        "start_time": "2022-03-14T17:13:39.367Z"
      },
      {
        "duration": 10,
        "start_time": "2022-03-14T17:18:47.721Z"
      },
      {
        "duration": 221,
        "start_time": "2022-03-14T17:18:47.733Z"
      },
      {
        "duration": 67232,
        "start_time": "2022-03-14T17:22:22.883Z"
      },
      {
        "duration": 67313,
        "start_time": "2022-03-14T17:23:37.176Z"
      },
      {
        "duration": 308,
        "start_time": "2022-03-14T17:24:44.491Z"
      },
      {
        "duration": -325,
        "start_time": "2022-03-14T17:24:45.126Z"
      },
      {
        "duration": -331,
        "start_time": "2022-03-14T17:24:45.133Z"
      },
      {
        "duration": 197,
        "start_time": "2022-03-14T17:24:49.457Z"
      },
      {
        "duration": 349,
        "start_time": "2022-03-14T17:26:05.335Z"
      },
      {
        "duration": 86901,
        "start_time": "2022-03-14T17:32:46.930Z"
      },
      {
        "duration": 288,
        "start_time": "2022-03-14T17:39:54.691Z"
      },
      {
        "duration": 7,
        "start_time": "2022-03-14T17:40:10.576Z"
      },
      {
        "duration": 10,
        "start_time": "2022-03-14T17:40:27.070Z"
      },
      {
        "duration": 182,
        "start_time": "2022-03-14T17:40:35.040Z"
      },
      {
        "duration": 175698,
        "start_time": "2022-03-14T17:40:59.838Z"
      },
      {
        "duration": 10,
        "start_time": "2022-03-14T17:44:53.766Z"
      },
      {
        "duration": 181,
        "start_time": "2022-03-14T17:45:06.958Z"
      },
      {
        "duration": 381434,
        "start_time": "2022-03-14T17:45:45.480Z"
      },
      {
        "duration": 11,
        "start_time": "2022-03-14T17:54:01.073Z"
      },
      {
        "duration": 237,
        "start_time": "2022-03-14T17:54:05.335Z"
      },
      {
        "duration": 4,
        "start_time": "2022-03-14T17:55:52.334Z"
      },
      {
        "duration": 7,
        "start_time": "2022-03-14T17:58:31.371Z"
      },
      {
        "duration": 188,
        "start_time": "2022-03-14T17:58:40.261Z"
      },
      {
        "duration": 282,
        "start_time": "2022-03-14T18:00:43.314Z"
      },
      {
        "duration": 4,
        "start_time": "2022-03-14T18:02:25.261Z"
      },
      {
        "duration": 299,
        "start_time": "2022-03-14T18:02:32.758Z"
      },
      {
        "duration": 4,
        "start_time": "2022-03-14T18:02:37.257Z"
      },
      {
        "duration": 100577,
        "start_time": "2022-03-14T18:03:25.048Z"
      },
      {
        "duration": 307,
        "start_time": "2022-03-14T18:05:05.626Z"
      },
      {
        "duration": -267,
        "start_time": "2022-03-14T18:05:06.201Z"
      },
      {
        "duration": 11,
        "start_time": "2022-03-14T18:06:24.200Z"
      },
      {
        "duration": 10,
        "start_time": "2022-03-14T18:06:26.308Z"
      },
      {
        "duration": 4349,
        "start_time": "2022-03-14T18:08:10.925Z"
      },
      {
        "duration": 1718,
        "start_time": "2022-03-14T18:08:15.276Z"
      },
      {
        "duration": 722,
        "start_time": "2022-03-14T18:08:16.996Z"
      },
      {
        "duration": 16,
        "start_time": "2022-03-14T18:08:17.719Z"
      },
      {
        "duration": 428,
        "start_time": "2022-03-14T18:08:17.737Z"
      },
      {
        "duration": 296,
        "start_time": "2022-03-14T18:08:18.167Z"
      },
      {
        "duration": 149,
        "start_time": "2022-03-14T18:08:18.465Z"
      },
      {
        "duration": 175,
        "start_time": "2022-03-14T18:08:18.617Z"
      },
      {
        "duration": 184,
        "start_time": "2022-03-14T18:08:18.794Z"
      },
      {
        "duration": 466,
        "start_time": "2022-03-14T18:08:18.979Z"
      },
      {
        "duration": 286,
        "start_time": "2022-03-14T18:08:19.447Z"
      },
      {
        "duration": 489,
        "start_time": "2022-03-14T18:08:19.735Z"
      },
      {
        "duration": 230,
        "start_time": "2022-03-14T18:08:20.226Z"
      },
      {
        "duration": 170,
        "start_time": "2022-03-14T18:08:20.458Z"
      },
      {
        "duration": 468,
        "start_time": "2022-03-14T18:08:20.630Z"
      },
      {
        "duration": 343,
        "start_time": "2022-03-14T18:08:21.100Z"
      },
      {
        "duration": 438,
        "start_time": "2022-03-14T18:08:21.445Z"
      },
      {
        "duration": 364,
        "start_time": "2022-03-14T18:08:21.885Z"
      },
      {
        "duration": 202,
        "start_time": "2022-03-14T18:08:22.251Z"
      },
      {
        "duration": 197,
        "start_time": "2022-03-14T18:08:22.455Z"
      },
      {
        "duration": 237,
        "start_time": "2022-03-14T18:08:22.653Z"
      },
      {
        "duration": 396,
        "start_time": "2022-03-14T18:08:22.891Z"
      },
      {
        "duration": 168,
        "start_time": "2022-03-14T18:08:23.292Z"
      },
      {
        "duration": 205,
        "start_time": "2022-03-14T18:08:23.463Z"
      },
      {
        "duration": 180,
        "start_time": "2022-03-14T18:08:23.670Z"
      },
      {
        "duration": 317,
        "start_time": "2022-03-14T18:08:23.852Z"
      },
      {
        "duration": 237,
        "start_time": "2022-03-14T18:08:24.171Z"
      },
      {
        "duration": 12537,
        "start_time": "2022-03-14T18:08:24.410Z"
      },
      {
        "duration": 4,
        "start_time": "2022-03-14T18:08:36.949Z"
      },
      {
        "duration": 402,
        "start_time": "2022-03-14T18:08:36.955Z"
      },
      {
        "duration": 148,
        "start_time": "2022-03-14T18:08:37.359Z"
      },
      {
        "duration": 252,
        "start_time": "2022-03-14T18:08:37.508Z"
      },
      {
        "duration": 203,
        "start_time": "2022-03-14T18:08:37.761Z"
      },
      {
        "duration": 188,
        "start_time": "2022-03-14T18:08:37.966Z"
      },
      {
        "duration": 12117,
        "start_time": "2022-03-14T18:08:38.156Z"
      },
      {
        "duration": 3,
        "start_time": "2022-03-14T18:08:50.275Z"
      },
      {
        "duration": 231,
        "start_time": "2022-03-14T18:08:50.280Z"
      },
      {
        "duration": 250,
        "start_time": "2022-03-14T18:08:50.513Z"
      },
      {
        "duration": 335,
        "start_time": "2022-03-14T18:08:50.765Z"
      },
      {
        "duration": 192,
        "start_time": "2022-03-14T18:08:51.102Z"
      },
      {
        "duration": 391,
        "start_time": "2022-03-14T18:08:51.295Z"
      },
      {
        "duration": 85,
        "start_time": "2022-03-14T18:08:51.688Z"
      },
      {
        "duration": 33743,
        "start_time": "2022-03-14T18:08:51.775Z"
      },
      {
        "duration": 26,
        "start_time": "2022-03-14T18:09:25.519Z"
      },
      {
        "duration": 194,
        "start_time": "2022-03-14T18:09:25.546Z"
      },
      {
        "duration": 227,
        "start_time": "2022-03-14T18:09:25.741Z"
      },
      {
        "duration": 300,
        "start_time": "2022-03-14T18:09:25.969Z"
      },
      {
        "duration": 112,
        "start_time": "2022-03-14T18:09:26.271Z"
      },
      {
        "duration": 152,
        "start_time": "2022-03-14T18:09:26.384Z"
      },
      {
        "duration": 194,
        "start_time": "2022-03-14T18:09:26.538Z"
      },
      {
        "duration": 195,
        "start_time": "2022-03-14T18:09:26.733Z"
      },
      {
        "duration": 156,
        "start_time": "2022-03-14T18:09:26.929Z"
      },
      {
        "duration": 132,
        "start_time": "2022-03-14T18:09:27.086Z"
      },
      {
        "duration": 174,
        "start_time": "2022-03-14T18:09:27.220Z"
      },
      {
        "duration": 93,
        "start_time": "2022-03-14T18:09:27.396Z"
      },
      {
        "duration": 162,
        "start_time": "2022-03-14T18:09:27.490Z"
      },
      {
        "duration": 310,
        "start_time": "2022-03-14T18:09:27.653Z"
      },
      {
        "duration": 70,
        "start_time": "2022-03-14T18:09:27.965Z"
      },
      {
        "duration": 107,
        "start_time": "2022-03-14T18:09:28.037Z"
      },
      {
        "duration": 143,
        "start_time": "2022-03-14T18:09:28.145Z"
      },
      {
        "duration": 66,
        "start_time": "2022-03-14T18:09:28.290Z"
      },
      {
        "duration": 259,
        "start_time": "2022-03-14T18:09:28.358Z"
      },
      {
        "duration": 786,
        "start_time": "2022-03-14T18:09:28.619Z"
      },
      {
        "duration": 2824,
        "start_time": "2022-03-14T18:09:29.406Z"
      },
      {
        "duration": 2721,
        "start_time": "2022-03-14T18:09:32.232Z"
      },
      {
        "duration": 2,
        "start_time": "2022-03-14T18:09:34.954Z"
      },
      {
        "duration": 1290,
        "start_time": "2022-03-14T18:09:34.958Z"
      },
      {
        "duration": 5,
        "start_time": "2022-03-14T18:09:36.253Z"
      },
      {
        "duration": 253,
        "start_time": "2022-03-14T18:09:36.261Z"
      },
      {
        "duration": 174,
        "start_time": "2022-03-14T18:09:36.516Z"
      },
      {
        "duration": 409,
        "start_time": "2022-03-14T18:09:36.692Z"
      },
      {
        "duration": 6,
        "start_time": "2022-03-14T18:09:37.103Z"
      },
      {
        "duration": 620338,
        "start_time": "2022-03-14T18:09:37.111Z"
      },
      {
        "duration": 10,
        "start_time": "2022-03-14T18:19:57.451Z"
      },
      {
        "duration": 581,
        "start_time": "2022-03-14T18:19:57.465Z"
      },
      {
        "duration": 883625,
        "start_time": "2022-03-14T18:19:58.048Z"
      },
      {
        "duration": 298,
        "start_time": "2022-03-14T18:34:41.675Z"
      },
      {
        "duration": -282,
        "start_time": "2022-03-14T18:34:42.257Z"
      },
      {
        "duration": -287,
        "start_time": "2022-03-14T18:34:42.263Z"
      },
      {
        "duration": -291,
        "start_time": "2022-03-14T18:34:42.268Z"
      },
      {
        "duration": -295,
        "start_time": "2022-03-14T18:34:42.273Z"
      },
      {
        "duration": -300,
        "start_time": "2022-03-14T18:34:42.278Z"
      },
      {
        "duration": -304,
        "start_time": "2022-03-14T18:34:42.283Z"
      },
      {
        "duration": -308,
        "start_time": "2022-03-14T18:34:42.288Z"
      },
      {
        "duration": -312,
        "start_time": "2022-03-14T18:34:42.293Z"
      },
      {
        "duration": -317,
        "start_time": "2022-03-14T18:34:42.299Z"
      },
      {
        "duration": -321,
        "start_time": "2022-03-14T18:34:42.304Z"
      },
      {
        "duration": 4674,
        "start_time": "2022-03-14T18:36:02.318Z"
      },
      {
        "duration": 1879,
        "start_time": "2022-03-14T18:36:06.994Z"
      },
      {
        "duration": 690,
        "start_time": "2022-03-14T18:36:08.875Z"
      },
      {
        "duration": 477,
        "start_time": "2022-03-14T18:36:09.567Z"
      },
      {
        "duration": 712,
        "start_time": "2022-03-14T18:36:10.045Z"
      },
      {
        "duration": 325,
        "start_time": "2022-03-14T18:36:10.758Z"
      },
      {
        "duration": 261,
        "start_time": "2022-03-14T18:36:11.085Z"
      },
      {
        "duration": 1542,
        "start_time": "2022-03-14T18:36:11.349Z"
      },
      {
        "duration": 406,
        "start_time": "2022-03-14T18:36:12.893Z"
      },
      {
        "duration": 360,
        "start_time": "2022-03-14T18:36:13.300Z"
      },
      {
        "duration": 339,
        "start_time": "2022-03-14T18:36:13.662Z"
      },
      {
        "duration": 624,
        "start_time": "2022-03-14T18:36:14.003Z"
      },
      {
        "duration": 981,
        "start_time": "2022-03-14T18:36:14.629Z"
      },
      {
        "duration": 894,
        "start_time": "2022-03-14T18:36:15.611Z"
      },
      {
        "duration": 1184,
        "start_time": "2022-03-14T18:36:16.506Z"
      },
      {
        "duration": 588,
        "start_time": "2022-03-14T18:36:17.692Z"
      },
      {
        "duration": 1083,
        "start_time": "2022-03-14T18:36:18.282Z"
      },
      {
        "duration": 591,
        "start_time": "2022-03-14T18:36:19.367Z"
      },
      {
        "duration": 634,
        "start_time": "2022-03-14T18:36:19.959Z"
      },
      {
        "duration": 1157,
        "start_time": "2022-03-14T18:36:20.595Z"
      },
      {
        "duration": 694,
        "start_time": "2022-03-14T18:36:21.754Z"
      },
      {
        "duration": 274,
        "start_time": "2022-03-14T18:36:22.450Z"
      },
      {
        "duration": 1060,
        "start_time": "2022-03-14T18:36:22.728Z"
      },
      {
        "duration": 522,
        "start_time": "2022-03-14T18:36:23.790Z"
      },
      {
        "duration": 522,
        "start_time": "2022-03-14T18:36:24.314Z"
      },
      {
        "duration": 571,
        "start_time": "2022-03-14T18:36:24.838Z"
      },
      {
        "duration": 203,
        "start_time": "2022-03-14T18:36:25.410Z"
      },
      {
        "duration": 15595,
        "start_time": "2022-03-14T18:36:25.615Z"
      },
      {
        "duration": 4,
        "start_time": "2022-03-14T18:36:41.212Z"
      },
      {
        "duration": 1253,
        "start_time": "2022-03-14T18:36:41.218Z"
      },
      {
        "duration": 364,
        "start_time": "2022-03-14T18:36:42.474Z"
      },
      {
        "duration": 1364,
        "start_time": "2022-03-14T18:36:42.840Z"
      },
      {
        "duration": 589,
        "start_time": "2022-03-14T18:36:44.206Z"
      },
      {
        "duration": 1495,
        "start_time": "2022-03-14T18:36:44.797Z"
      },
      {
        "duration": 21634,
        "start_time": "2022-03-14T18:36:46.293Z"
      },
      {
        "duration": 4,
        "start_time": "2022-03-14T18:37:07.929Z"
      },
      {
        "duration": 1298,
        "start_time": "2022-03-14T18:37:07.934Z"
      },
      {
        "duration": 553,
        "start_time": "2022-03-14T18:37:09.233Z"
      },
      {
        "duration": 318,
        "start_time": "2022-03-14T18:37:09.788Z"
      },
      {
        "duration": 876,
        "start_time": "2022-03-14T18:37:10.108Z"
      },
      {
        "duration": 898,
        "start_time": "2022-03-14T18:37:10.986Z"
      },
      {
        "duration": 371,
        "start_time": "2022-03-14T18:37:11.886Z"
      },
      {
        "duration": 37951,
        "start_time": "2022-03-14T18:37:12.259Z"
      },
      {
        "duration": 24,
        "start_time": "2022-03-14T18:37:50.212Z"
      },
      {
        "duration": 813,
        "start_time": "2022-03-14T18:37:50.238Z"
      },
      {
        "duration": 1043,
        "start_time": "2022-03-14T18:37:51.053Z"
      },
      {
        "duration": 922,
        "start_time": "2022-03-14T18:37:52.098Z"
      },
      {
        "duration": 648,
        "start_time": "2022-03-14T18:37:53.022Z"
      },
      {
        "duration": 1064,
        "start_time": "2022-03-14T18:37:53.671Z"
      },
      {
        "duration": 791,
        "start_time": "2022-03-14T18:37:54.737Z"
      },
      {
        "duration": 1249,
        "start_time": "2022-03-14T18:37:55.529Z"
      },
      {
        "duration": 695,
        "start_time": "2022-03-14T18:37:56.780Z"
      },
      {
        "duration": 6661,
        "start_time": "2022-03-14T18:37:57.476Z"
      },
      {
        "duration": 881,
        "start_time": "2022-03-14T18:38:04.138Z"
      },
      {
        "duration": 924,
        "start_time": "2022-03-14T18:38:05.021Z"
      },
      {
        "duration": 1319,
        "start_time": "2022-03-14T18:38:05.947Z"
      },
      {
        "duration": 2057,
        "start_time": "2022-03-14T18:38:07.268Z"
      },
      {
        "duration": 388,
        "start_time": "2022-03-14T18:38:09.327Z"
      },
      {
        "duration": 1165,
        "start_time": "2022-03-14T18:38:09.717Z"
      },
      {
        "duration": 681,
        "start_time": "2022-03-14T18:38:10.884Z"
      },
      {
        "duration": 734,
        "start_time": "2022-03-14T18:38:11.567Z"
      },
      {
        "duration": 922,
        "start_time": "2022-03-14T18:38:12.303Z"
      },
      {
        "duration": 1266,
        "start_time": "2022-03-14T18:38:13.227Z"
      },
      {
        "duration": 3551,
        "start_time": "2022-03-14T18:38:14.495Z"
      },
      {
        "duration": 2556,
        "start_time": "2022-03-14T18:38:18.048Z"
      },
      {
        "duration": 3,
        "start_time": "2022-03-14T18:38:20.605Z"
      },
      {
        "duration": 2347,
        "start_time": "2022-03-14T18:38:20.610Z"
      },
      {
        "duration": 449,
        "start_time": "2022-03-14T18:38:22.962Z"
      },
      {
        "duration": 1038,
        "start_time": "2022-03-14T18:38:23.413Z"
      },
      {
        "duration": 1688,
        "start_time": "2022-03-14T18:38:24.453Z"
      },
      {
        "duration": 5059,
        "start_time": "2022-03-14T18:38:26.143Z"
      },
      {
        "duration": 1870,
        "start_time": "2022-03-14T18:38:31.203Z"
      },
      {
        "duration": 813593,
        "start_time": "2022-03-14T18:38:33.075Z"
      },
      {
        "duration": 10,
        "start_time": "2022-03-14T18:52:06.669Z"
      },
      {
        "duration": 454,
        "start_time": "2022-03-14T18:52:06.681Z"
      },
      {
        "duration": 854377,
        "start_time": "2022-03-14T18:52:07.137Z"
      },
      {
        "duration": 11,
        "start_time": "2022-03-14T19:06:21.515Z"
      },
      {
        "duration": 4260,
        "start_time": "2022-03-14T19:06:21.527Z"
      },
      {
        "duration": 218128,
        "start_time": "2022-03-14T19:06:25.789Z"
      },
      {
        "duration": 4,
        "start_time": "2022-03-14T19:10:03.919Z"
      },
      {
        "duration": 518,
        "start_time": "2022-03-14T19:10:03.924Z"
      },
      {
        "duration": 1439,
        "start_time": "2022-03-14T19:10:04.443Z"
      },
      {
        "duration": 921,
        "start_time": "2022-03-14T19:10:05.884Z"
      },
      {
        "duration": 1351,
        "start_time": "2022-03-14T19:10:06.806Z"
      },
      {
        "duration": 225,
        "start_time": "2022-03-16T06:19:22.589Z"
      },
      {
        "duration": 13145,
        "start_time": "2022-03-16T06:19:40.461Z"
      },
      {
        "duration": 1928,
        "start_time": "2022-03-16T06:19:53.610Z"
      },
      {
        "duration": 1128,
        "start_time": "2022-03-16T06:19:55.541Z"
      },
      {
        "duration": 21,
        "start_time": "2022-03-16T06:19:56.674Z"
      },
      {
        "duration": 58,
        "start_time": "2022-03-16T06:19:56.698Z"
      },
      {
        "duration": 22,
        "start_time": "2022-03-16T06:19:56.759Z"
      },
      {
        "duration": 30,
        "start_time": "2022-03-16T06:19:56.784Z"
      },
      {
        "duration": 13,
        "start_time": "2022-03-16T06:19:56.818Z"
      },
      {
        "duration": 28,
        "start_time": "2022-03-16T06:19:56.834Z"
      },
      {
        "duration": 33,
        "start_time": "2022-03-16T06:19:56.864Z"
      },
      {
        "duration": 41,
        "start_time": "2022-03-16T06:19:56.900Z"
      },
      {
        "duration": 145,
        "start_time": "2022-03-16T06:19:56.943Z"
      },
      {
        "duration": 93,
        "start_time": "2022-03-16T06:19:57.091Z"
      },
      {
        "duration": 64,
        "start_time": "2022-03-16T06:19:57.187Z"
      },
      {
        "duration": 134,
        "start_time": "2022-03-16T06:19:57.254Z"
      },
      {
        "duration": 115,
        "start_time": "2022-03-16T06:19:57.391Z"
      },
      {
        "duration": 47,
        "start_time": "2022-03-16T06:19:57.509Z"
      },
      {
        "duration": 21,
        "start_time": "2022-03-16T06:19:57.574Z"
      },
      {
        "duration": 28,
        "start_time": "2022-03-16T06:19:57.598Z"
      },
      {
        "duration": 54,
        "start_time": "2022-03-16T06:19:57.629Z"
      },
      {
        "duration": 35,
        "start_time": "2022-03-16T06:19:57.686Z"
      },
      {
        "duration": 67,
        "start_time": "2022-03-16T06:19:57.724Z"
      },
      {
        "duration": 29,
        "start_time": "2022-03-16T06:19:57.799Z"
      },
      {
        "duration": 47,
        "start_time": "2022-03-16T06:19:57.833Z"
      },
      {
        "duration": 55,
        "start_time": "2022-03-16T06:19:57.883Z"
      },
      {
        "duration": 5,
        "start_time": "2022-03-16T06:19:57.941Z"
      },
      {
        "duration": 27,
        "start_time": "2022-03-16T06:19:57.949Z"
      },
      {
        "duration": 19041,
        "start_time": "2022-03-16T06:19:57.979Z"
      },
      {
        "duration": 5,
        "start_time": "2022-03-16T06:20:17.023Z"
      },
      {
        "duration": 60,
        "start_time": "2022-03-16T06:20:17.030Z"
      },
      {
        "duration": 28,
        "start_time": "2022-03-16T06:20:17.093Z"
      },
      {
        "duration": 32,
        "start_time": "2022-03-16T06:20:17.123Z"
      },
      {
        "duration": 46,
        "start_time": "2022-03-16T06:20:17.173Z"
      },
      {
        "duration": 7,
        "start_time": "2022-03-16T06:20:17.222Z"
      },
      {
        "duration": 18384,
        "start_time": "2022-03-16T06:20:17.232Z"
      },
      {
        "duration": 6,
        "start_time": "2022-03-16T06:20:35.619Z"
      },
      {
        "duration": 65,
        "start_time": "2022-03-16T06:20:35.628Z"
      },
      {
        "duration": 62,
        "start_time": "2022-03-16T06:20:35.696Z"
      },
      {
        "duration": 36,
        "start_time": "2022-03-16T06:20:35.761Z"
      },
      {
        "duration": 29,
        "start_time": "2022-03-16T06:20:35.799Z"
      },
      {
        "duration": 75,
        "start_time": "2022-03-16T06:20:35.830Z"
      },
      {
        "duration": 14,
        "start_time": "2022-03-16T06:20:35.907Z"
      },
      {
        "duration": 50618,
        "start_time": "2022-03-16T06:20:35.923Z"
      },
      {
        "duration": 58,
        "start_time": "2022-03-16T06:21:26.544Z"
      },
      {
        "duration": 20,
        "start_time": "2022-03-16T06:21:26.605Z"
      },
      {
        "duration": 132,
        "start_time": "2022-03-16T06:21:26.628Z"
      },
      {
        "duration": 334,
        "start_time": "2022-03-16T06:21:26.763Z"
      },
      {
        "duration": 19,
        "start_time": "2022-03-16T06:21:27.099Z"
      },
      {
        "duration": 6,
        "start_time": "2022-03-16T06:21:27.121Z"
      },
      {
        "duration": 74,
        "start_time": "2022-03-16T06:21:27.129Z"
      },
      {
        "duration": 28,
        "start_time": "2022-03-16T06:21:27.206Z"
      },
      {
        "duration": 11,
        "start_time": "2022-03-16T06:21:27.237Z"
      },
      {
        "duration": 60,
        "start_time": "2022-03-16T06:21:27.251Z"
      },
      {
        "duration": 21,
        "start_time": "2022-03-16T06:21:27.314Z"
      },
      {
        "duration": 40,
        "start_time": "2022-03-16T06:21:27.338Z"
      },
      {
        "duration": 130,
        "start_time": "2022-03-16T06:21:27.380Z"
      },
      {
        "duration": 382,
        "start_time": "2022-03-16T06:21:27.513Z"
      },
      {
        "duration": 103,
        "start_time": "2022-03-16T06:21:27.898Z"
      },
      {
        "duration": 191,
        "start_time": "2022-03-16T06:21:28.003Z"
      },
      {
        "duration": 235,
        "start_time": "2022-03-16T06:21:28.197Z"
      },
      {
        "duration": 98,
        "start_time": "2022-03-16T06:21:28.435Z"
      },
      {
        "duration": 4,
        "start_time": "2022-03-16T06:21:28.536Z"
      },
      {
        "duration": 1388,
        "start_time": "2022-03-16T06:21:28.542Z"
      },
      {
        "duration": 4614,
        "start_time": "2022-03-16T06:21:29.932Z"
      },
      {
        "duration": 4301,
        "start_time": "2022-03-16T06:21:34.549Z"
      },
      {
        "duration": 3,
        "start_time": "2022-03-16T06:21:38.853Z"
      },
      {
        "duration": 1367,
        "start_time": "2022-03-16T06:21:38.859Z"
      },
      {
        "duration": 8,
        "start_time": "2022-03-16T06:21:40.238Z"
      },
      {
        "duration": 104,
        "start_time": "2022-03-16T06:21:40.249Z"
      },
      {
        "duration": 42,
        "start_time": "2022-03-16T06:21:40.356Z"
      },
      {
        "duration": 273,
        "start_time": "2022-03-16T06:21:40.400Z"
      },
      {
        "duration": 8,
        "start_time": "2022-03-16T06:21:40.675Z"
      },
      {
        "duration": 1122333,
        "start_time": "2022-03-16T06:21:40.685Z"
      },
      {
        "duration": 18,
        "start_time": "2022-03-16T06:40:23.021Z"
      },
      {
        "duration": 367,
        "start_time": "2022-03-16T06:40:23.042Z"
      },
      {
        "duration": 3,
        "start_time": "2022-03-16T06:40:23.413Z"
      },
      {
        "duration": 450280,
        "start_time": "2022-03-16T06:40:23.419Z"
      },
      {
        "duration": 89,
        "start_time": "2022-03-16T06:47:53.702Z"
      },
      {
        "duration": 373,
        "start_time": "2022-03-16T06:47:53.795Z"
      },
      {
        "duration": 225512,
        "start_time": "2022-03-16T06:47:54.174Z"
      },
      {
        "duration": 17,
        "start_time": "2022-03-16T06:51:39.689Z"
      },
      {
        "duration": 372,
        "start_time": "2022-03-16T06:51:39.708Z"
      },
      {
        "duration": 12,
        "start_time": "2022-03-16T06:51:40.083Z"
      },
      {
        "duration": 332,
        "start_time": "2022-03-16T06:51:40.098Z"
      },
      {
        "duration": 75366,
        "start_time": "2022-03-16T06:51:40.433Z"
      },
      {
        "duration": 20,
        "start_time": "2022-03-16T06:52:55.802Z"
      },
      {
        "duration": 56,
        "start_time": "2022-03-16T06:52:55.824Z"
      },
      {
        "duration": 2739,
        "start_time": "2022-03-16T07:13:26.364Z"
      },
      {
        "duration": 7,
        "start_time": "2022-03-16T07:13:49.834Z"
      },
      {
        "duration": 164,
        "start_time": "2022-03-16T07:15:00.935Z"
      },
      {
        "duration": 61,
        "start_time": "2022-03-16T07:15:12.321Z"
      },
      {
        "duration": 35,
        "start_time": "2022-03-16T07:33:40.815Z"
      },
      {
        "duration": 9,
        "start_time": "2022-03-16T07:51:00.806Z"
      },
      {
        "duration": 258,
        "start_time": "2022-03-16T07:51:15.377Z"
      },
      {
        "duration": 175,
        "start_time": "2022-03-16T07:52:04.869Z"
      },
      {
        "duration": 207,
        "start_time": "2022-03-16T07:52:36.627Z"
      },
      {
        "duration": 188,
        "start_time": "2022-03-16T07:52:51.077Z"
      },
      {
        "duration": 185,
        "start_time": "2022-03-16T08:10:35.311Z"
      },
      {
        "duration": 200,
        "start_time": "2022-03-16T08:12:17.759Z"
      },
      {
        "duration": 3504226,
        "start_time": "2022-03-16T08:12:30.889Z"
      },
      {
        "duration": 58,
        "start_time": "2022-03-16T09:10:55.118Z"
      },
      {
        "duration": 13836,
        "start_time": "2022-03-16T09:11:38.985Z"
      },
      {
        "duration": 5,
        "start_time": "2022-03-16T09:12:15.985Z"
      },
      {
        "duration": 6,
        "start_time": "2022-03-16T09:12:25.637Z"
      },
      {
        "duration": 12,
        "start_time": "2022-03-16T09:12:35.252Z"
      },
      {
        "duration": 88,
        "start_time": "2022-03-16T09:12:53.657Z"
      },
      {
        "duration": 205,
        "start_time": "2022-03-16T09:13:47.173Z"
      },
      {
        "duration": 372,
        "start_time": "2022-03-16T09:13:51.732Z"
      },
      {
        "duration": 197,
        "start_time": "2022-03-16T09:14:01.728Z"
      },
      {
        "duration": 5,
        "start_time": "2022-03-16T09:14:16.801Z"
      },
      {
        "duration": 59,
        "start_time": "2022-03-16T09:14:31.616Z"
      },
      {
        "duration": 234,
        "start_time": "2022-03-16T09:36:47.779Z"
      },
      {
        "duration": 7421,
        "start_time": "2022-03-16T09:37:23.351Z"
      },
      {
        "duration": 2084,
        "start_time": "2022-03-16T09:37:30.775Z"
      },
      {
        "duration": 1201,
        "start_time": "2022-03-16T09:37:32.862Z"
      },
      {
        "duration": 31,
        "start_time": "2022-03-16T09:37:34.066Z"
      },
      {
        "duration": 55,
        "start_time": "2022-03-16T09:37:34.100Z"
      },
      {
        "duration": 13,
        "start_time": "2022-03-16T09:37:34.175Z"
      },
      {
        "duration": 14,
        "start_time": "2022-03-16T09:37:34.191Z"
      },
      {
        "duration": 10,
        "start_time": "2022-03-16T09:37:34.211Z"
      },
      {
        "duration": 12,
        "start_time": "2022-03-16T09:37:34.224Z"
      },
      {
        "duration": 56,
        "start_time": "2022-03-16T09:37:34.239Z"
      },
      {
        "duration": 41,
        "start_time": "2022-03-16T09:37:34.297Z"
      },
      {
        "duration": 160,
        "start_time": "2022-03-16T09:37:34.341Z"
      },
      {
        "duration": 76,
        "start_time": "2022-03-16T09:37:34.504Z"
      },
      {
        "duration": 58,
        "start_time": "2022-03-16T09:37:34.583Z"
      },
      {
        "duration": 130,
        "start_time": "2022-03-16T09:37:34.643Z"
      },
      {
        "duration": 120,
        "start_time": "2022-03-16T09:37:34.776Z"
      },
      {
        "duration": 47,
        "start_time": "2022-03-16T09:37:34.899Z"
      },
      {
        "duration": 40,
        "start_time": "2022-03-16T09:37:34.948Z"
      },
      {
        "duration": 28,
        "start_time": "2022-03-16T09:37:34.990Z"
      },
      {
        "duration": 61,
        "start_time": "2022-03-16T09:37:35.020Z"
      },
      {
        "duration": 35,
        "start_time": "2022-03-16T09:37:35.084Z"
      },
      {
        "duration": 57,
        "start_time": "2022-03-16T09:37:35.122Z"
      },
      {
        "duration": 29,
        "start_time": "2022-03-16T09:37:35.186Z"
      },
      {
        "duration": 21,
        "start_time": "2022-03-16T09:37:35.219Z"
      },
      {
        "duration": 57,
        "start_time": "2022-03-16T09:37:35.273Z"
      },
      {
        "duration": 4,
        "start_time": "2022-03-16T09:37:35.334Z"
      },
      {
        "duration": 37,
        "start_time": "2022-03-16T09:37:35.341Z"
      },
      {
        "duration": 31751,
        "start_time": "2022-03-16T09:37:35.381Z"
      },
      {
        "duration": 6,
        "start_time": "2022-03-16T09:38:07.135Z"
      },
      {
        "duration": 57,
        "start_time": "2022-03-16T09:38:07.144Z"
      },
      {
        "duration": 27,
        "start_time": "2022-03-16T09:38:07.204Z"
      },
      {
        "duration": 50,
        "start_time": "2022-03-16T09:38:07.234Z"
      },
      {
        "duration": 52,
        "start_time": "2022-03-16T09:38:07.287Z"
      },
      {
        "duration": 4,
        "start_time": "2022-03-16T09:38:07.342Z"
      },
      {
        "duration": 18843,
        "start_time": "2022-03-16T09:38:07.348Z"
      },
      {
        "duration": 5,
        "start_time": "2022-03-16T09:38:26.194Z"
      },
      {
        "duration": 50,
        "start_time": "2022-03-16T09:38:26.202Z"
      },
      {
        "duration": 66,
        "start_time": "2022-03-16T09:38:26.255Z"
      },
      {
        "duration": 56,
        "start_time": "2022-03-16T09:38:26.324Z"
      },
      {
        "duration": 24,
        "start_time": "2022-03-16T09:38:26.382Z"
      },
      {
        "duration": 69,
        "start_time": "2022-03-16T09:38:26.409Z"
      },
      {
        "duration": 14,
        "start_time": "2022-03-16T09:38:26.480Z"
      },
      {
        "duration": 54271,
        "start_time": "2022-03-16T09:38:26.497Z"
      },
      {
        "duration": 44,
        "start_time": "2022-03-16T09:39:20.773Z"
      },
      {
        "duration": 20,
        "start_time": "2022-03-16T09:39:20.819Z"
      },
      {
        "duration": 133,
        "start_time": "2022-03-16T09:39:20.841Z"
      },
      {
        "duration": 334,
        "start_time": "2022-03-16T09:39:20.977Z"
      },
      {
        "duration": 20,
        "start_time": "2022-03-16T09:39:21.314Z"
      },
      {
        "duration": 7,
        "start_time": "2022-03-16T09:39:21.336Z"
      },
      {
        "duration": 69,
        "start_time": "2022-03-16T09:39:21.346Z"
      },
      {
        "duration": 28,
        "start_time": "2022-03-16T09:39:21.418Z"
      },
      {
        "duration": 33,
        "start_time": "2022-03-16T09:39:21.449Z"
      },
      {
        "duration": 42,
        "start_time": "2022-03-16T09:39:21.485Z"
      },
      {
        "duration": 55,
        "start_time": "2022-03-16T09:39:21.529Z"
      },
      {
        "duration": 19,
        "start_time": "2022-03-16T09:39:21.586Z"
      },
      {
        "duration": 145,
        "start_time": "2022-03-16T09:39:21.608Z"
      },
      {
        "duration": 389,
        "start_time": "2022-03-16T09:39:21.756Z"
      },
      {
        "duration": 105,
        "start_time": "2022-03-16T09:39:22.148Z"
      },
      {
        "duration": 183,
        "start_time": "2022-03-16T09:39:22.255Z"
      },
      {
        "duration": 234,
        "start_time": "2022-03-16T09:39:22.441Z"
      },
      {
        "duration": 101,
        "start_time": "2022-03-16T09:39:22.677Z"
      },
      {
        "duration": 4,
        "start_time": "2022-03-16T09:39:22.780Z"
      },
      {
        "duration": 1506,
        "start_time": "2022-03-16T09:39:22.786Z"
      },
      {
        "duration": 4673,
        "start_time": "2022-03-16T09:39:24.295Z"
      },
      {
        "duration": 4363,
        "start_time": "2022-03-16T09:39:28.970Z"
      },
      {
        "duration": 3,
        "start_time": "2022-03-16T09:39:33.335Z"
      },
      {
        "duration": 1101,
        "start_time": "2022-03-16T09:39:33.340Z"
      },
      {
        "duration": 7,
        "start_time": "2022-03-16T09:39:34.447Z"
      },
      {
        "duration": 101,
        "start_time": "2022-03-16T09:39:34.456Z"
      },
      {
        "duration": 43,
        "start_time": "2022-03-16T09:39:34.560Z"
      },
      {
        "duration": 279,
        "start_time": "2022-03-16T09:39:34.606Z"
      },
      {
        "duration": 8,
        "start_time": "2022-03-16T09:39:34.888Z"
      },
      {
        "duration": 1128526,
        "start_time": "2022-03-16T09:39:34.899Z"
      },
      {
        "duration": 18,
        "start_time": "2022-03-16T09:58:23.428Z"
      },
      {
        "duration": 458,
        "start_time": "2022-03-16T09:58:23.449Z"
      },
      {
        "duration": 66,
        "start_time": "2022-03-16T09:58:23.911Z"
      },
      {
        "duration": 280,
        "start_time": "2022-03-16T09:58:23.981Z"
      },
      {
        "duration": 199,
        "start_time": "2022-03-16T10:02:57.737Z"
      },
      {
        "duration": 197,
        "start_time": "2022-03-16T10:03:16.734Z"
      },
      {
        "duration": 223,
        "start_time": "2022-03-16T10:13:56.067Z"
      },
      {
        "duration": 170,
        "start_time": "2022-03-16T11:23:45.483Z"
      },
      {
        "duration": 6136,
        "start_time": "2022-03-16T11:24:31.857Z"
      },
      {
        "duration": 1997,
        "start_time": "2022-03-16T11:24:37.996Z"
      },
      {
        "duration": 1213,
        "start_time": "2022-03-16T11:24:39.997Z"
      },
      {
        "duration": 23,
        "start_time": "2022-03-16T11:24:41.213Z"
      },
      {
        "duration": 62,
        "start_time": "2022-03-16T11:24:41.239Z"
      },
      {
        "duration": 9,
        "start_time": "2022-03-16T11:24:41.303Z"
      },
      {
        "duration": 10,
        "start_time": "2022-03-16T11:24:41.315Z"
      },
      {
        "duration": 8,
        "start_time": "2022-03-16T11:24:41.329Z"
      },
      {
        "duration": 44,
        "start_time": "2022-03-16T11:24:41.340Z"
      },
      {
        "duration": 23,
        "start_time": "2022-03-16T11:24:41.387Z"
      },
      {
        "duration": 62,
        "start_time": "2022-03-16T11:24:41.413Z"
      },
      {
        "duration": 145,
        "start_time": "2022-03-16T11:24:41.478Z"
      },
      {
        "duration": 75,
        "start_time": "2022-03-16T11:24:41.626Z"
      },
      {
        "duration": 55,
        "start_time": "2022-03-16T11:24:41.703Z"
      },
      {
        "duration": 103,
        "start_time": "2022-03-16T11:24:41.773Z"
      },
      {
        "duration": 119,
        "start_time": "2022-03-16T11:24:41.879Z"
      },
      {
        "duration": 47,
        "start_time": "2022-03-16T11:24:42.000Z"
      },
      {
        "duration": 40,
        "start_time": "2022-03-16T11:24:42.049Z"
      },
      {
        "duration": 31,
        "start_time": "2022-03-16T11:24:42.091Z"
      },
      {
        "duration": 54,
        "start_time": "2022-03-16T11:24:42.125Z"
      },
      {
        "duration": 36,
        "start_time": "2022-03-16T11:24:42.181Z"
      },
      {
        "duration": 57,
        "start_time": "2022-03-16T11:24:42.219Z"
      },
      {
        "duration": 27,
        "start_time": "2022-03-16T11:24:42.282Z"
      },
      {
        "duration": 21,
        "start_time": "2022-03-16T11:24:42.313Z"
      },
      {
        "duration": 74,
        "start_time": "2022-03-16T11:24:42.337Z"
      },
      {
        "duration": 7,
        "start_time": "2022-03-16T11:24:42.414Z"
      },
      {
        "duration": 12,
        "start_time": "2022-03-16T11:24:42.424Z"
      },
      {
        "duration": 19135,
        "start_time": "2022-03-16T11:24:42.438Z"
      },
      {
        "duration": 6,
        "start_time": "2022-03-16T11:25:01.576Z"
      },
      {
        "duration": 50,
        "start_time": "2022-03-16T11:25:01.586Z"
      },
      {
        "duration": 49,
        "start_time": "2022-03-16T11:25:01.639Z"
      },
      {
        "duration": 24,
        "start_time": "2022-03-16T11:25:01.690Z"
      },
      {
        "duration": 65,
        "start_time": "2022-03-16T11:25:01.717Z"
      },
      {
        "duration": 6,
        "start_time": "2022-03-16T11:25:01.785Z"
      },
      {
        "duration": 18563,
        "start_time": "2022-03-16T11:25:01.793Z"
      },
      {
        "duration": 17,
        "start_time": "2022-03-16T11:25:20.358Z"
      },
      {
        "duration": 49,
        "start_time": "2022-03-16T11:25:20.378Z"
      },
      {
        "duration": 79,
        "start_time": "2022-03-16T11:25:20.431Z"
      },
      {
        "duration": 28,
        "start_time": "2022-03-16T11:25:20.512Z"
      },
      {
        "duration": 46,
        "start_time": "2022-03-16T11:25:20.543Z"
      },
      {
        "duration": 49,
        "start_time": "2022-03-16T11:25:20.592Z"
      },
      {
        "duration": 39,
        "start_time": "2022-03-16T11:25:20.644Z"
      },
      {
        "duration": 50279,
        "start_time": "2022-03-16T11:25:20.686Z"
      },
      {
        "duration": 42,
        "start_time": "2022-03-16T11:26:10.968Z"
      },
      {
        "duration": 19,
        "start_time": "2022-03-16T11:26:11.013Z"
      },
      {
        "duration": 138,
        "start_time": "2022-03-16T11:26:11.035Z"
      },
      {
        "duration": 335,
        "start_time": "2022-03-16T11:26:11.176Z"
      },
      {
        "duration": 19,
        "start_time": "2022-03-16T11:26:11.513Z"
      },
      {
        "duration": 6,
        "start_time": "2022-03-16T11:26:11.534Z"
      },
      {
        "duration": 67,
        "start_time": "2022-03-16T11:26:11.543Z"
      },
      {
        "duration": 27,
        "start_time": "2022-03-16T11:26:11.613Z"
      },
      {
        "duration": 32,
        "start_time": "2022-03-16T11:26:11.643Z"
      },
      {
        "duration": 39,
        "start_time": "2022-03-16T11:26:11.677Z"
      },
      {
        "duration": 23,
        "start_time": "2022-03-16T11:26:11.719Z"
      },
      {
        "duration": 19,
        "start_time": "2022-03-16T11:26:11.774Z"
      },
      {
        "duration": 149,
        "start_time": "2022-03-16T11:26:11.796Z"
      },
      {
        "duration": 397,
        "start_time": "2022-03-16T11:26:11.948Z"
      },
      {
        "duration": 111,
        "start_time": "2022-03-16T11:26:12.349Z"
      },
      {
        "duration": 172,
        "start_time": "2022-03-16T11:26:12.472Z"
      },
      {
        "duration": 239,
        "start_time": "2022-03-16T11:26:12.646Z"
      },
      {
        "duration": 102,
        "start_time": "2022-03-16T11:26:12.887Z"
      },
      {
        "duration": 3,
        "start_time": "2022-03-16T11:26:12.992Z"
      },
      {
        "duration": 1444,
        "start_time": "2022-03-16T11:26:12.998Z"
      },
      {
        "duration": 4689,
        "start_time": "2022-03-16T11:26:14.444Z"
      },
      {
        "duration": 4437,
        "start_time": "2022-03-16T11:26:19.136Z"
      },
      {
        "duration": 4,
        "start_time": "2022-03-16T11:26:23.576Z"
      },
      {
        "duration": 1144,
        "start_time": "2022-03-16T11:26:23.583Z"
      },
      {
        "duration": 6,
        "start_time": "2022-03-16T11:26:24.734Z"
      },
      {
        "duration": 108,
        "start_time": "2022-03-16T11:26:24.743Z"
      },
      {
        "duration": 45,
        "start_time": "2022-03-16T11:26:24.854Z"
      },
      {
        "duration": 295,
        "start_time": "2022-03-16T11:26:24.902Z"
      },
      {
        "duration": 300,
        "start_time": "2022-03-16T11:28:47.275Z"
      },
      {
        "duration": 198,
        "start_time": "2022-03-16T11:28:57.605Z"
      },
      {
        "duration": 217,
        "start_time": "2022-03-16T11:37:06.826Z"
      },
      {
        "duration": 5997,
        "start_time": "2022-03-16T12:27:31.279Z"
      },
      {
        "duration": 2000,
        "start_time": "2022-03-16T12:27:37.279Z"
      },
      {
        "duration": 1145,
        "start_time": "2022-03-16T12:27:39.282Z"
      },
      {
        "duration": 24,
        "start_time": "2022-03-16T12:27:40.430Z"
      },
      {
        "duration": 57,
        "start_time": "2022-03-16T12:27:40.457Z"
      },
      {
        "duration": 8,
        "start_time": "2022-03-16T12:27:40.517Z"
      },
      {
        "duration": 13,
        "start_time": "2022-03-16T12:27:40.527Z"
      },
      {
        "duration": 30,
        "start_time": "2022-03-16T12:27:40.544Z"
      },
      {
        "duration": 13,
        "start_time": "2022-03-16T12:27:40.578Z"
      },
      {
        "duration": 22,
        "start_time": "2022-03-16T12:27:40.594Z"
      },
      {
        "duration": 86,
        "start_time": "2022-03-16T12:27:40.619Z"
      },
      {
        "duration": 155,
        "start_time": "2022-03-16T12:27:40.708Z"
      },
      {
        "duration": 78,
        "start_time": "2022-03-16T12:27:40.866Z"
      },
      {
        "duration": 74,
        "start_time": "2022-03-16T12:27:40.947Z"
      },
      {
        "duration": 117,
        "start_time": "2022-03-16T12:27:41.024Z"
      },
      {
        "duration": 121,
        "start_time": "2022-03-16T12:27:41.144Z"
      },
      {
        "duration": 54,
        "start_time": "2022-03-16T12:27:41.267Z"
      },
      {
        "duration": 21,
        "start_time": "2022-03-16T12:27:41.324Z"
      },
      {
        "duration": 27,
        "start_time": "2022-03-16T12:27:41.373Z"
      },
      {
        "duration": 32,
        "start_time": "2022-03-16T12:27:41.402Z"
      },
      {
        "duration": 59,
        "start_time": "2022-03-16T12:27:41.436Z"
      },
      {
        "duration": 44,
        "start_time": "2022-03-16T12:27:41.498Z"
      },
      {
        "duration": 47,
        "start_time": "2022-03-16T12:27:41.548Z"
      },
      {
        "duration": 22,
        "start_time": "2022-03-16T12:27:41.599Z"
      },
      {
        "duration": 66,
        "start_time": "2022-03-16T12:27:41.623Z"
      },
      {
        "duration": 4,
        "start_time": "2022-03-16T12:27:41.692Z"
      },
      {
        "duration": 11,
        "start_time": "2022-03-16T12:27:41.699Z"
      },
      {
        "duration": 18595,
        "start_time": "2022-03-16T12:27:41.712Z"
      },
      {
        "duration": 5,
        "start_time": "2022-03-16T12:28:00.310Z"
      },
      {
        "duration": 57,
        "start_time": "2022-03-16T12:28:00.317Z"
      },
      {
        "duration": 26,
        "start_time": "2022-03-16T12:28:00.377Z"
      },
      {
        "duration": 28,
        "start_time": "2022-03-16T12:28:00.406Z"
      },
      {
        "duration": 65,
        "start_time": "2022-03-16T12:28:00.437Z"
      },
      {
        "duration": 21,
        "start_time": "2022-03-16T12:28:00.504Z"
      },
      {
        "duration": 18456,
        "start_time": "2022-03-16T12:28:00.528Z"
      },
      {
        "duration": 6,
        "start_time": "2022-03-16T12:28:18.987Z"
      },
      {
        "duration": 59,
        "start_time": "2022-03-16T12:28:18.996Z"
      },
      {
        "duration": 65,
        "start_time": "2022-03-16T12:28:19.058Z"
      },
      {
        "duration": 47,
        "start_time": "2022-03-16T12:28:19.126Z"
      },
      {
        "duration": 24,
        "start_time": "2022-03-16T12:28:19.176Z"
      },
      {
        "duration": 71,
        "start_time": "2022-03-16T12:28:19.202Z"
      },
      {
        "duration": 13,
        "start_time": "2022-03-16T12:28:19.276Z"
      },
      {
        "duration": 51012,
        "start_time": "2022-03-16T12:28:19.291Z"
      },
      {
        "duration": 44,
        "start_time": "2022-03-16T12:29:10.306Z"
      },
      {
        "duration": 36,
        "start_time": "2022-03-16T12:29:10.354Z"
      },
      {
        "duration": 122,
        "start_time": "2022-03-16T12:29:10.393Z"
      },
      {
        "duration": 330,
        "start_time": "2022-03-16T12:29:10.518Z"
      },
      {
        "duration": 26,
        "start_time": "2022-03-16T12:29:10.851Z"
      },
      {
        "duration": 6,
        "start_time": "2022-03-16T12:29:10.879Z"
      },
      {
        "duration": 65,
        "start_time": "2022-03-16T12:29:10.887Z"
      },
      {
        "duration": 43,
        "start_time": "2022-03-16T12:29:10.954Z"
      },
      {
        "duration": 13,
        "start_time": "2022-03-16T12:29:10.999Z"
      },
      {
        "duration": 59,
        "start_time": "2022-03-16T12:29:11.015Z"
      },
      {
        "duration": 21,
        "start_time": "2022-03-16T12:29:11.077Z"
      },
      {
        "duration": 22,
        "start_time": "2022-03-16T12:29:11.100Z"
      },
      {
        "duration": 148,
        "start_time": "2022-03-16T12:29:11.125Z"
      },
      {
        "duration": 385,
        "start_time": "2022-03-16T12:29:11.275Z"
      },
      {
        "duration": 118,
        "start_time": "2022-03-16T12:29:11.663Z"
      },
      {
        "duration": 178,
        "start_time": "2022-03-16T12:29:11.784Z"
      },
      {
        "duration": 243,
        "start_time": "2022-03-16T12:29:11.964Z"
      },
      {
        "duration": 97,
        "start_time": "2022-03-16T12:29:12.210Z"
      },
      {
        "duration": 4,
        "start_time": "2022-03-16T12:29:12.309Z"
      },
      {
        "duration": 1490,
        "start_time": "2022-03-16T12:29:12.316Z"
      },
      {
        "duration": 4458,
        "start_time": "2022-03-16T12:29:13.808Z"
      },
      {
        "duration": 4361,
        "start_time": "2022-03-16T12:29:18.268Z"
      },
      {
        "duration": 4,
        "start_time": "2022-03-16T12:29:22.631Z"
      },
      {
        "duration": 1147,
        "start_time": "2022-03-16T12:29:22.637Z"
      },
      {
        "duration": 8,
        "start_time": "2022-03-16T12:29:23.793Z"
      },
      {
        "duration": 113,
        "start_time": "2022-03-16T12:29:23.804Z"
      },
      {
        "duration": 31,
        "start_time": "2022-03-16T12:29:23.920Z"
      },
      {
        "duration": 280,
        "start_time": "2022-03-16T12:29:23.954Z"
      },
      {
        "duration": 8,
        "start_time": "2022-03-16T12:29:24.236Z"
      },
      {
        "duration": 6229,
        "start_time": "2022-03-16T12:40:51.127Z"
      },
      {
        "duration": 2171,
        "start_time": "2022-03-16T12:40:57.359Z"
      },
      {
        "duration": 1152,
        "start_time": "2022-03-16T12:40:59.533Z"
      },
      {
        "duration": 25,
        "start_time": "2022-03-16T12:41:00.688Z"
      },
      {
        "duration": 68,
        "start_time": "2022-03-16T12:41:00.716Z"
      },
      {
        "duration": 10,
        "start_time": "2022-03-16T12:41:00.787Z"
      },
      {
        "duration": 12,
        "start_time": "2022-03-16T12:41:00.800Z"
      },
      {
        "duration": 19,
        "start_time": "2022-03-16T12:41:00.817Z"
      },
      {
        "duration": 33,
        "start_time": "2022-03-16T12:41:00.840Z"
      },
      {
        "duration": 24,
        "start_time": "2022-03-16T12:41:00.875Z"
      },
      {
        "duration": 42,
        "start_time": "2022-03-16T12:41:00.902Z"
      },
      {
        "duration": 137,
        "start_time": "2022-03-16T12:41:00.974Z"
      },
      {
        "duration": 74,
        "start_time": "2022-03-16T12:41:01.114Z"
      },
      {
        "duration": 53,
        "start_time": "2022-03-16T12:41:01.190Z"
      },
      {
        "duration": 124,
        "start_time": "2022-03-16T12:41:01.246Z"
      },
      {
        "duration": 123,
        "start_time": "2022-03-16T12:41:01.374Z"
      },
      {
        "duration": 46,
        "start_time": "2022-03-16T12:41:01.500Z"
      },
      {
        "duration": 39,
        "start_time": "2022-03-16T12:41:01.549Z"
      },
      {
        "duration": 45,
        "start_time": "2022-03-16T12:41:01.591Z"
      },
      {
        "duration": 42,
        "start_time": "2022-03-16T12:41:01.639Z"
      },
      {
        "duration": 36,
        "start_time": "2022-03-16T12:41:01.684Z"
      },
      {
        "duration": 62,
        "start_time": "2022-03-16T12:41:01.723Z"
      },
      {
        "duration": 41,
        "start_time": "2022-03-16T12:41:01.796Z"
      },
      {
        "duration": 57,
        "start_time": "2022-03-16T12:41:01.842Z"
      },
      {
        "duration": 95,
        "start_time": "2022-03-16T12:41:01.902Z"
      },
      {
        "duration": 9,
        "start_time": "2022-03-16T12:41:02.000Z"
      },
      {
        "duration": 14,
        "start_time": "2022-03-16T12:41:02.012Z"
      },
      {
        "duration": 18621,
        "start_time": "2022-03-16T12:41:02.028Z"
      },
      {
        "duration": 4,
        "start_time": "2022-03-16T12:41:20.652Z"
      },
      {
        "duration": 37,
        "start_time": "2022-03-16T12:41:20.674Z"
      },
      {
        "duration": 25,
        "start_time": "2022-03-16T12:41:20.714Z"
      },
      {
        "duration": 41,
        "start_time": "2022-03-16T12:41:20.741Z"
      },
      {
        "duration": 44,
        "start_time": "2022-03-16T12:41:20.785Z"
      },
      {
        "duration": 4,
        "start_time": "2022-03-16T12:41:20.832Z"
      },
      {
        "duration": 19063,
        "start_time": "2022-03-16T12:41:20.838Z"
      },
      {
        "duration": 5,
        "start_time": "2022-03-16T12:41:39.903Z"
      },
      {
        "duration": 97,
        "start_time": "2022-03-16T12:41:39.911Z"
      },
      {
        "duration": 92,
        "start_time": "2022-03-16T12:41:40.011Z"
      },
      {
        "duration": 39,
        "start_time": "2022-03-16T12:41:40.106Z"
      },
      {
        "duration": 33,
        "start_time": "2022-03-16T12:41:40.147Z"
      },
      {
        "duration": 45,
        "start_time": "2022-03-16T12:41:40.183Z"
      },
      {
        "duration": 42,
        "start_time": "2022-03-16T12:41:40.231Z"
      },
      {
        "duration": 52289,
        "start_time": "2022-03-16T12:41:40.275Z"
      },
      {
        "duration": 52,
        "start_time": "2022-03-16T12:42:32.566Z"
      },
      {
        "duration": 17,
        "start_time": "2022-03-16T12:42:32.621Z"
      },
      {
        "duration": 133,
        "start_time": "2022-03-16T12:42:32.640Z"
      },
      {
        "duration": 332,
        "start_time": "2022-03-16T12:42:32.775Z"
      },
      {
        "duration": 21,
        "start_time": "2022-03-16T12:42:33.109Z"
      },
      {
        "duration": 7,
        "start_time": "2022-03-16T12:42:33.133Z"
      },
      {
        "duration": 74,
        "start_time": "2022-03-16T12:42:33.142Z"
      },
      {
        "duration": 30,
        "start_time": "2022-03-16T12:42:33.218Z"
      },
      {
        "duration": 29,
        "start_time": "2022-03-16T12:42:33.251Z"
      },
      {
        "duration": 46,
        "start_time": "2022-03-16T12:42:33.283Z"
      },
      {
        "duration": 58,
        "start_time": "2022-03-16T12:42:33.332Z"
      },
      {
        "duration": 17,
        "start_time": "2022-03-16T12:42:33.393Z"
      },
      {
        "duration": 147,
        "start_time": "2022-03-16T12:42:33.413Z"
      },
      {
        "duration": 388,
        "start_time": "2022-03-16T12:42:33.562Z"
      },
      {
        "duration": 103,
        "start_time": "2022-03-16T12:42:33.952Z"
      },
      {
        "duration": 182,
        "start_time": "2022-03-16T12:42:34.057Z"
      },
      {
        "duration": 225,
        "start_time": "2022-03-16T12:42:34.242Z"
      },
      {
        "duration": 102,
        "start_time": "2022-03-16T12:42:34.473Z"
      },
      {
        "duration": 381,
        "start_time": "2022-03-16T12:42:34.578Z"
      },
      {
        "duration": 92,
        "start_time": "2022-03-16T12:47:20.819Z"
      },
      {
        "duration": 39,
        "start_time": "2022-03-16T12:47:27.652Z"
      },
      {
        "duration": 183,
        "start_time": "2022-03-16T12:47:42.479Z"
      },
      {
        "duration": 96,
        "start_time": "2022-03-16T12:47:48.153Z"
      },
      {
        "duration": 184,
        "start_time": "2022-03-16T12:49:54.051Z"
      },
      {
        "duration": 3,
        "start_time": "2022-03-16T12:50:33.741Z"
      },
      {
        "duration": 1433,
        "start_time": "2022-03-16T12:50:35.081Z"
      },
      {
        "duration": 118,
        "start_time": "2022-03-16T12:50:40.496Z"
      },
      {
        "duration": 1727,
        "start_time": "2022-03-16T12:51:09.475Z"
      },
      {
        "duration": 18,
        "start_time": "2022-03-16T12:51:17.128Z"
      },
      {
        "duration": 483,
        "start_time": "2022-03-16T12:51:29.309Z"
      },
      {
        "duration": 372,
        "start_time": "2022-03-16T12:53:55.211Z"
      },
      {
        "duration": 6,
        "start_time": "2022-03-16T12:54:15.211Z"
      },
      {
        "duration": 7507,
        "start_time": "2022-03-16T12:55:11.609Z"
      },
      {
        "duration": 2183,
        "start_time": "2022-03-16T12:55:19.120Z"
      },
      {
        "duration": 1207,
        "start_time": "2022-03-16T12:55:21.307Z"
      },
      {
        "duration": 36,
        "start_time": "2022-03-16T12:55:22.518Z"
      },
      {
        "duration": 52,
        "start_time": "2022-03-16T12:55:22.574Z"
      },
      {
        "duration": 10,
        "start_time": "2022-03-16T12:55:22.629Z"
      },
      {
        "duration": 36,
        "start_time": "2022-03-16T12:55:22.642Z"
      },
      {
        "duration": 10,
        "start_time": "2022-03-16T12:55:22.680Z"
      },
      {
        "duration": 13,
        "start_time": "2022-03-16T12:55:22.695Z"
      },
      {
        "duration": 25,
        "start_time": "2022-03-16T12:55:22.712Z"
      },
      {
        "duration": 82,
        "start_time": "2022-03-16T12:55:22.739Z"
      },
      {
        "duration": 151,
        "start_time": "2022-03-16T12:55:22.824Z"
      },
      {
        "duration": 70,
        "start_time": "2022-03-16T12:55:22.978Z"
      },
      {
        "duration": 67,
        "start_time": "2022-03-16T12:55:23.050Z"
      },
      {
        "duration": 131,
        "start_time": "2022-03-16T12:55:23.120Z"
      },
      {
        "duration": 120,
        "start_time": "2022-03-16T12:55:23.253Z"
      },
      {
        "duration": 47,
        "start_time": "2022-03-16T12:55:23.375Z"
      },
      {
        "duration": 61,
        "start_time": "2022-03-16T12:55:23.426Z"
      },
      {
        "duration": 30,
        "start_time": "2022-03-16T12:55:23.489Z"
      },
      {
        "duration": 52,
        "start_time": "2022-03-16T12:55:23.522Z"
      },
      {
        "duration": 35,
        "start_time": "2022-03-16T12:55:23.577Z"
      },
      {
        "duration": 62,
        "start_time": "2022-03-16T12:55:23.614Z"
      },
      {
        "duration": 29,
        "start_time": "2022-03-16T12:55:23.678Z"
      },
      {
        "duration": 28,
        "start_time": "2022-03-16T12:55:23.709Z"
      },
      {
        "duration": 111,
        "start_time": "2022-03-16T12:55:23.740Z"
      },
      {
        "duration": 20,
        "start_time": "2022-03-16T12:55:23.854Z"
      },
      {
        "duration": 9,
        "start_time": "2022-03-16T12:55:23.883Z"
      },
      {
        "duration": 19828,
        "start_time": "2022-03-16T12:55:23.897Z"
      },
      {
        "duration": 7,
        "start_time": "2022-03-16T12:55:43.727Z"
      },
      {
        "duration": 63,
        "start_time": "2022-03-16T12:55:43.736Z"
      },
      {
        "duration": 81,
        "start_time": "2022-03-16T12:55:43.801Z"
      },
      {
        "duration": 30,
        "start_time": "2022-03-16T12:55:43.886Z"
      },
      {
        "duration": 55,
        "start_time": "2022-03-16T12:55:43.920Z"
      },
      {
        "duration": 5,
        "start_time": "2022-03-16T12:55:43.977Z"
      },
      {
        "duration": 19695,
        "start_time": "2022-03-16T12:55:43.985Z"
      },
      {
        "duration": 6,
        "start_time": "2022-03-16T12:56:03.683Z"
      },
      {
        "duration": 55,
        "start_time": "2022-03-16T12:56:03.693Z"
      },
      {
        "duration": 52,
        "start_time": "2022-03-16T12:56:03.774Z"
      },
      {
        "duration": 51,
        "start_time": "2022-03-16T12:56:03.829Z"
      },
      {
        "duration": 22,
        "start_time": "2022-03-16T12:56:03.883Z"
      },
      {
        "duration": 68,
        "start_time": "2022-03-16T12:56:03.908Z"
      },
      {
        "duration": 14,
        "start_time": "2022-03-16T12:56:03.979Z"
      },
      {
        "duration": 53962,
        "start_time": "2022-03-16T12:56:03.996Z"
      },
      {
        "duration": 49,
        "start_time": "2022-03-16T12:56:57.961Z"
      },
      {
        "duration": 17,
        "start_time": "2022-03-16T12:56:58.013Z"
      },
      {
        "duration": 129,
        "start_time": "2022-03-16T12:56:58.033Z"
      },
      {
        "duration": 342,
        "start_time": "2022-03-16T12:56:58.165Z"
      },
      {
        "duration": 20,
        "start_time": "2022-03-16T12:56:58.509Z"
      },
      {
        "duration": 7,
        "start_time": "2022-03-16T12:56:58.532Z"
      },
      {
        "duration": 45,
        "start_time": "2022-03-16T12:56:58.573Z"
      },
      {
        "duration": 52,
        "start_time": "2022-03-16T12:56:58.622Z"
      },
      {
        "duration": 12,
        "start_time": "2022-03-16T12:56:58.676Z"
      },
      {
        "duration": 38,
        "start_time": "2022-03-16T12:56:58.691Z"
      },
      {
        "duration": 51,
        "start_time": "2022-03-16T12:56:58.732Z"
      },
      {
        "duration": 14,
        "start_time": "2022-03-16T12:56:58.786Z"
      },
      {
        "duration": 151,
        "start_time": "2022-03-16T12:56:58.803Z"
      },
      {
        "duration": 511,
        "start_time": "2022-03-16T12:56:58.958Z"
      },
      {
        "duration": 171,
        "start_time": "2022-03-16T12:56:59.474Z"
      },
      {
        "duration": 256,
        "start_time": "2022-03-16T12:56:59.648Z"
      },
      {
        "duration": 314,
        "start_time": "2022-03-16T12:56:59.907Z"
      },
      {
        "duration": 99,
        "start_time": "2022-03-16T12:57:00.224Z"
      },
      {
        "duration": 9,
        "start_time": "2022-03-16T12:57:00.326Z"
      },
      {
        "duration": 75,
        "start_time": "2022-03-16T12:57:00.338Z"
      },
      {
        "duration": 272,
        "start_time": "2022-03-16T12:58:13.336Z"
      },
      {
        "duration": 19,
        "start_time": "2022-03-16T12:58:20.600Z"
      },
      {
        "duration": 1152,
        "start_time": "2022-03-16T12:58:33.961Z"
      },
      {
        "duration": 117,
        "start_time": "2022-03-16T12:58:41.348Z"
      },
      {
        "duration": 191,
        "start_time": "2022-03-16T12:59:39.183Z"
      },
      {
        "duration": 7585,
        "start_time": "2022-03-16T12:59:46.411Z"
      },
      {
        "duration": 48,
        "start_time": "2022-03-16T12:59:57.021Z"
      },
      {
        "duration": 4395,
        "start_time": "2022-03-16T13:00:34.688Z"
      },
      {
        "duration": 4479,
        "start_time": "2022-03-16T13:00:39.923Z"
      },
      {
        "duration": 4,
        "start_time": "2022-03-16T13:00:50.204Z"
      },
      {
        "duration": 833,
        "start_time": "2022-03-16T13:00:57.634Z"
      },
      {
        "duration": 7,
        "start_time": "2022-03-16T13:00:59.644Z"
      },
      {
        "duration": 91,
        "start_time": "2022-03-16T13:01:02.295Z"
      },
      {
        "duration": 50,
        "start_time": "2022-03-16T13:01:04.345Z"
      },
      {
        "duration": 282,
        "start_time": "2022-03-16T13:01:12.032Z"
      },
      {
        "duration": 13203,
        "start_time": "2022-03-16T13:08:23.695Z"
      },
      {
        "duration": 6,
        "start_time": "2022-03-16T13:08:57.215Z"
      },
      {
        "duration": 675005,
        "start_time": "2022-03-16T13:09:17.359Z"
      },
      {
        "duration": 21286,
        "start_time": "2022-03-16T13:22:00.140Z"
      },
      {
        "duration": 16084,
        "start_time": "2022-03-16T13:24:17.541Z"
      },
      {
        "duration": 42733,
        "start_time": "2022-03-16T13:25:55.409Z"
      },
      {
        "duration": 12,
        "start_time": "2022-03-16T13:38:20.319Z"
      },
      {
        "duration": 4,
        "start_time": "2022-03-16T13:38:42.759Z"
      },
      {
        "duration": 5,
        "start_time": "2022-03-16T13:39:13.196Z"
      },
      {
        "duration": 16433,
        "start_time": "2022-03-16T13:39:40.807Z"
      },
      {
        "duration": 5960,
        "start_time": "2022-03-16T13:40:20.565Z"
      },
      {
        "duration": 193433,
        "start_time": "2022-03-16T13:45:36.201Z"
      },
      {
        "duration": 381391,
        "start_time": "2022-03-16T13:49:25.420Z"
      },
      {
        "duration": 10,
        "start_time": "2022-03-16T13:56:02.170Z"
      },
      {
        "duration": 7,
        "start_time": "2022-03-16T13:56:16.789Z"
      },
      {
        "duration": 15,
        "start_time": "2022-03-16T13:56:24.459Z"
      },
      {
        "duration": 18,
        "start_time": "2022-03-16T13:58:34.339Z"
      },
      {
        "duration": 356,
        "start_time": "2022-03-16T13:58:37.507Z"
      },
      {
        "duration": 858955,
        "start_time": "2022-03-16T13:59:02.737Z"
      },
      {
        "duration": 7746,
        "start_time": "2022-03-16T14:14:19.732Z"
      },
      {
        "duration": 3641,
        "start_time": "2022-03-16T14:14:27.481Z"
      },
      {
        "duration": 1288,
        "start_time": "2022-03-16T14:14:31.125Z"
      },
      {
        "duration": 25,
        "start_time": "2022-03-16T14:14:32.416Z"
      },
      {
        "duration": 112,
        "start_time": "2022-03-16T14:14:32.443Z"
      },
      {
        "duration": 26,
        "start_time": "2022-03-16T14:14:32.557Z"
      },
      {
        "duration": 46,
        "start_time": "2022-03-16T14:14:32.586Z"
      },
      {
        "duration": 63,
        "start_time": "2022-03-16T14:14:32.638Z"
      },
      {
        "duration": 67,
        "start_time": "2022-03-16T14:14:32.704Z"
      },
      {
        "duration": 58,
        "start_time": "2022-03-16T14:14:32.774Z"
      },
      {
        "duration": 61,
        "start_time": "2022-03-16T14:14:32.835Z"
      },
      {
        "duration": 148,
        "start_time": "2022-03-16T14:14:32.899Z"
      },
      {
        "duration": 81,
        "start_time": "2022-03-16T14:14:33.049Z"
      },
      {
        "duration": 65,
        "start_time": "2022-03-16T14:14:33.133Z"
      },
      {
        "duration": 117,
        "start_time": "2022-03-16T14:14:33.201Z"
      },
      {
        "duration": 118,
        "start_time": "2022-03-16T14:14:33.321Z"
      },
      {
        "duration": 55,
        "start_time": "2022-03-16T14:14:33.441Z"
      },
      {
        "duration": 27,
        "start_time": "2022-03-16T14:14:33.499Z"
      },
      {
        "duration": 47,
        "start_time": "2022-03-16T14:14:33.528Z"
      },
      {
        "duration": 32,
        "start_time": "2022-03-16T14:14:33.578Z"
      },
      {
        "duration": 35,
        "start_time": "2022-03-16T14:14:33.613Z"
      },
      {
        "duration": 52,
        "start_time": "2022-03-16T14:14:33.673Z"
      },
      {
        "duration": 29,
        "start_time": "2022-03-16T14:14:33.730Z"
      },
      {
        "duration": 20,
        "start_time": "2022-03-16T14:14:33.776Z"
      },
      {
        "duration": 49,
        "start_time": "2022-03-16T14:14:33.799Z"
      },
      {
        "duration": 23,
        "start_time": "2022-03-16T14:14:33.850Z"
      },
      {
        "duration": 13,
        "start_time": "2022-03-16T14:14:33.876Z"
      },
      {
        "duration": 18810,
        "start_time": "2022-03-16T14:14:33.891Z"
      },
      {
        "duration": 5,
        "start_time": "2022-03-16T14:14:52.704Z"
      },
      {
        "duration": 61,
        "start_time": "2022-03-16T14:14:52.712Z"
      },
      {
        "duration": 28,
        "start_time": "2022-03-16T14:14:52.775Z"
      },
      {
        "duration": 44,
        "start_time": "2022-03-16T14:14:52.805Z"
      },
      {
        "duration": 71,
        "start_time": "2022-03-16T14:14:52.852Z"
      },
      {
        "duration": 14,
        "start_time": "2022-03-16T14:14:52.926Z"
      },
      {
        "duration": 19486,
        "start_time": "2022-03-16T14:14:52.943Z"
      },
      {
        "duration": 5,
        "start_time": "2022-03-16T14:15:12.432Z"
      },
      {
        "duration": 68,
        "start_time": "2022-03-16T14:15:12.441Z"
      },
      {
        "duration": 62,
        "start_time": "2022-03-16T14:15:12.513Z"
      },
      {
        "duration": 29,
        "start_time": "2022-03-16T14:15:12.578Z"
      },
      {
        "duration": 36,
        "start_time": "2022-03-16T14:15:12.610Z"
      },
      {
        "duration": 68,
        "start_time": "2022-03-16T14:15:12.649Z"
      },
      {
        "duration": 14,
        "start_time": "2022-03-16T14:15:12.721Z"
      },
      {
        "duration": 51677,
        "start_time": "2022-03-16T14:15:12.738Z"
      },
      {
        "duration": 64,
        "start_time": "2022-03-16T14:16:04.418Z"
      },
      {
        "duration": 20,
        "start_time": "2022-03-16T14:16:04.485Z"
      },
      {
        "duration": 129,
        "start_time": "2022-03-16T14:16:04.507Z"
      },
      {
        "duration": 333,
        "start_time": "2022-03-16T14:16:04.639Z"
      },
      {
        "duration": 19,
        "start_time": "2022-03-16T14:16:04.975Z"
      },
      {
        "duration": 17,
        "start_time": "2022-03-16T14:16:04.996Z"
      },
      {
        "duration": 59,
        "start_time": "2022-03-16T14:16:05.016Z"
      },
      {
        "duration": 50,
        "start_time": "2022-03-16T14:16:05.077Z"
      },
      {
        "duration": 28,
        "start_time": "2022-03-16T14:16:05.129Z"
      },
      {
        "duration": 42,
        "start_time": "2022-03-16T14:16:05.159Z"
      },
      {
        "duration": 26,
        "start_time": "2022-03-16T14:16:05.204Z"
      },
      {
        "duration": 42,
        "start_time": "2022-03-16T14:16:05.233Z"
      },
      {
        "duration": 137,
        "start_time": "2022-03-16T14:16:05.278Z"
      },
      {
        "duration": 403,
        "start_time": "2022-03-16T14:16:05.418Z"
      },
      {
        "duration": 104,
        "start_time": "2022-03-16T14:16:05.823Z"
      },
      {
        "duration": 191,
        "start_time": "2022-03-16T14:16:05.930Z"
      },
      {
        "duration": 232,
        "start_time": "2022-03-16T14:16:06.123Z"
      },
      {
        "duration": 92,
        "start_time": "2022-03-16T14:16:06.358Z"
      },
      {
        "duration": 20,
        "start_time": "2022-03-16T14:16:06.452Z"
      },
      {
        "duration": 1349,
        "start_time": "2022-03-16T14:16:06.475Z"
      },
      {
        "duration": 291,
        "start_time": "2022-03-16T14:16:07.827Z"
      },
      {
        "duration": 8173,
        "start_time": "2022-03-16T14:16:08.120Z"
      },
      {
        "duration": 87,
        "start_time": "2022-03-16T14:16:16.296Z"
      },
      {
        "duration": 4927,
        "start_time": "2022-03-16T14:16:16.386Z"
      },
      {
        "duration": 5103,
        "start_time": "2022-03-16T14:16:21.322Z"
      },
      {
        "duration": 4,
        "start_time": "2022-03-16T14:16:26.429Z"
      },
      {
        "duration": 933,
        "start_time": "2022-03-16T14:16:26.436Z"
      },
      {
        "duration": 10,
        "start_time": "2022-03-16T14:16:27.374Z"
      },
      {
        "duration": 128,
        "start_time": "2022-03-16T14:16:27.387Z"
      },
      {
        "duration": 68,
        "start_time": "2022-03-16T14:16:27.518Z"
      },
      {
        "duration": 307,
        "start_time": "2022-03-16T14:16:27.589Z"
      },
      {
        "duration": 7,
        "start_time": "2022-03-16T14:16:27.898Z"
      },
      {
        "duration": 1310639,
        "start_time": "2022-03-16T14:16:27.908Z"
      },
      {
        "duration": 26,
        "start_time": "2022-03-16T14:38:18.549Z"
      },
      {
        "duration": 388,
        "start_time": "2022-03-16T14:38:18.578Z"
      },
      {
        "duration": 867523,
        "start_time": "2022-03-16T14:38:18.976Z"
      },
      {
        "duration": 17,
        "start_time": "2022-03-16T14:52:46.501Z"
      },
      {
        "duration": 405,
        "start_time": "2022-03-16T14:52:46.520Z"
      },
      {
        "duration": 5,
        "start_time": "2022-03-16T14:52:46.927Z"
      },
      {
        "duration": 386763,
        "start_time": "2022-03-16T14:52:46.934Z"
      },
      {
        "duration": 16,
        "start_time": "2022-03-16T14:59:13.699Z"
      },
      {
        "duration": 410,
        "start_time": "2022-03-16T14:59:13.718Z"
      },
      {
        "duration": 9,
        "start_time": "2022-03-16T14:59:14.131Z"
      },
      {
        "duration": 271,
        "start_time": "2022-03-16T14:59:14.142Z"
      },
      {
        "duration": 106491,
        "start_time": "2022-03-16T14:59:14.416Z"
      },
      {
        "duration": 15,
        "start_time": "2022-03-16T15:01:00.910Z"
      },
      {
        "duration": 58,
        "start_time": "2022-03-16T15:01:00.927Z"
      },
      {
        "duration": 30869,
        "start_time": "2022-03-17T10:53:30.413Z"
      },
      {
        "duration": 5053,
        "start_time": "2022-03-17T10:54:01.285Z"
      },
      {
        "duration": 14044,
        "start_time": "2022-03-17T10:54:06.344Z"
      },
      {
        "duration": 25,
        "start_time": "2022-03-17T10:54:20.391Z"
      },
      {
        "duration": 58,
        "start_time": "2022-03-17T10:54:20.418Z"
      },
      {
        "duration": 7,
        "start_time": "2022-03-17T10:54:20.478Z"
      },
      {
        "duration": 11,
        "start_time": "2022-03-17T10:54:20.488Z"
      },
      {
        "duration": 41,
        "start_time": "2022-03-17T10:54:20.502Z"
      },
      {
        "duration": 14,
        "start_time": "2022-03-17T10:54:20.545Z"
      },
      {
        "duration": 28,
        "start_time": "2022-03-17T10:54:20.563Z"
      },
      {
        "duration": 67,
        "start_time": "2022-03-17T10:54:20.593Z"
      },
      {
        "duration": 147,
        "start_time": "2022-03-17T10:54:20.665Z"
      },
      {
        "duration": 76,
        "start_time": "2022-03-17T10:54:20.815Z"
      },
      {
        "duration": 61,
        "start_time": "2022-03-17T10:54:20.893Z"
      },
      {
        "duration": 116,
        "start_time": "2022-03-17T10:54:20.956Z"
      },
      {
        "duration": 121,
        "start_time": "2022-03-17T10:54:21.074Z"
      },
      {
        "duration": 63,
        "start_time": "2022-03-17T10:54:21.198Z"
      },
      {
        "duration": 25,
        "start_time": "2022-03-17T10:54:21.263Z"
      },
      {
        "duration": 32,
        "start_time": "2022-03-17T10:54:21.291Z"
      },
      {
        "duration": 40,
        "start_time": "2022-03-17T10:54:21.344Z"
      },
      {
        "duration": 61,
        "start_time": "2022-03-17T10:54:21.387Z"
      },
      {
        "duration": 48,
        "start_time": "2022-03-17T10:54:21.450Z"
      },
      {
        "duration": 51,
        "start_time": "2022-03-17T10:54:21.501Z"
      },
      {
        "duration": 23,
        "start_time": "2022-03-17T10:54:21.554Z"
      },
      {
        "duration": 66,
        "start_time": "2022-03-17T10:54:21.579Z"
      },
      {
        "duration": 4,
        "start_time": "2022-03-17T10:54:21.648Z"
      },
      {
        "duration": 9,
        "start_time": "2022-03-17T10:54:21.655Z"
      },
      {
        "duration": 29117,
        "start_time": "2022-03-17T10:54:21.672Z"
      },
      {
        "duration": 9,
        "start_time": "2022-03-17T10:54:50.791Z"
      },
      {
        "duration": 59,
        "start_time": "2022-03-17T10:54:50.802Z"
      },
      {
        "duration": 29,
        "start_time": "2022-03-17T10:54:50.863Z"
      },
      {
        "duration": 27,
        "start_time": "2022-03-17T10:54:50.894Z"
      },
      {
        "duration": 49,
        "start_time": "2022-03-17T10:54:50.942Z"
      },
      {
        "duration": 6,
        "start_time": "2022-03-17T10:54:50.994Z"
      },
      {
        "duration": 21983,
        "start_time": "2022-03-17T10:54:51.002Z"
      },
      {
        "duration": 5,
        "start_time": "2022-03-17T10:55:12.987Z"
      },
      {
        "duration": 71,
        "start_time": "2022-03-17T10:55:12.995Z"
      },
      {
        "duration": 108,
        "start_time": "2022-03-17T10:55:13.071Z"
      },
      {
        "duration": 37,
        "start_time": "2022-03-17T10:55:13.181Z"
      },
      {
        "duration": 46,
        "start_time": "2022-03-17T10:55:13.220Z"
      },
      {
        "duration": 49,
        "start_time": "2022-03-17T10:55:13.269Z"
      },
      {
        "duration": 16,
        "start_time": "2022-03-17T10:55:13.344Z"
      },
      {
        "duration": 58544,
        "start_time": "2022-03-17T10:55:13.363Z"
      },
      {
        "duration": 57,
        "start_time": "2022-03-17T10:56:11.909Z"
      },
      {
        "duration": 17,
        "start_time": "2022-03-17T10:56:11.968Z"
      },
      {
        "duration": 125,
        "start_time": "2022-03-17T10:56:11.987Z"
      },
      {
        "duration": 284,
        "start_time": "2022-03-17T10:56:12.114Z"
      },
      {
        "duration": 20,
        "start_time": "2022-03-17T10:56:12.401Z"
      },
      {
        "duration": 24,
        "start_time": "2022-03-17T10:56:12.424Z"
      },
      {
        "duration": 47,
        "start_time": "2022-03-17T10:56:12.450Z"
      },
      {
        "duration": 57,
        "start_time": "2022-03-17T10:56:12.499Z"
      },
      {
        "duration": 19,
        "start_time": "2022-03-17T10:56:12.561Z"
      },
      {
        "duration": 59,
        "start_time": "2022-03-17T10:56:12.584Z"
      },
      {
        "duration": 25,
        "start_time": "2022-03-17T10:56:12.645Z"
      },
      {
        "duration": 16,
        "start_time": "2022-03-17T10:56:12.672Z"
      },
      {
        "duration": 161,
        "start_time": "2022-03-17T10:56:12.690Z"
      },
      {
        "duration": 306,
        "start_time": "2022-03-17T10:56:12.853Z"
      },
      {
        "duration": 119,
        "start_time": "2022-03-17T10:56:13.163Z"
      },
      {
        "duration": 244,
        "start_time": "2022-03-17T10:56:13.284Z"
      },
      {
        "duration": 303,
        "start_time": "2022-03-17T10:56:13.531Z"
      },
      {
        "duration": 29,
        "start_time": "2022-03-17T11:12:37.951Z"
      },
      {
        "duration": 103,
        "start_time": "2022-03-17T11:12:41.648Z"
      },
      {
        "duration": 5,
        "start_time": "2022-03-17T11:12:48.470Z"
      },
      {
        "duration": 176,
        "start_time": "2022-03-17T11:12:56.952Z"
      },
      {
        "duration": 4,
        "start_time": "2022-03-17T11:13:15.632Z"
      },
      {
        "duration": 1426,
        "start_time": "2022-03-17T11:13:22.452Z"
      },
      {
        "duration": 193,
        "start_time": "2022-03-17T11:14:34.120Z"
      },
      {
        "duration": 4,
        "start_time": "2022-03-17T11:15:14.571Z"
      },
      {
        "duration": 384,
        "start_time": "2022-03-17T11:15:27.860Z"
      },
      {
        "duration": 51,
        "start_time": "2022-03-17T11:15:31.945Z"
      },
      {
        "duration": 36,
        "start_time": "2022-03-17T11:15:45.795Z"
      },
      {
        "duration": 6215,
        "start_time": "2022-03-17T11:17:28.853Z"
      },
      {
        "duration": 9955,
        "start_time": "2022-03-17T11:17:35.071Z"
      },
      {
        "duration": 4,
        "start_time": "2022-03-17T11:17:45.028Z"
      },
      {
        "duration": 30,
        "start_time": "2022-03-17T11:17:53.476Z"
      },
      {
        "duration": 35,
        "start_time": "2022-03-17T11:18:02.347Z"
      },
      {
        "duration": 1065,
        "start_time": "2022-03-17T11:19:01.005Z"
      },
      {
        "duration": 11,
        "start_time": "2022-03-17T11:19:02.092Z"
      },
      {
        "duration": 103,
        "start_time": "2022-03-17T11:20:16.431Z"
      },
      {
        "duration": 48,
        "start_time": "2022-03-17T11:20:17.924Z"
      },
      {
        "duration": 537,
        "start_time": "2022-03-17T11:21:35.731Z"
      },
      {
        "duration": 6,
        "start_time": "2022-03-17T11:21:46.492Z"
      },
      {
        "duration": 1343230,
        "start_time": "2022-03-17T11:22:17.380Z"
      },
      {
        "duration": 40,
        "start_time": "2022-03-17T11:44:40.613Z"
      },
      {
        "duration": 398,
        "start_time": "2022-03-17T11:44:40.656Z"
      },
      {
        "duration": 419245,
        "start_time": "2022-03-17T11:44:41.058Z"
      },
      {
        "duration": 42,
        "start_time": "2022-03-17T11:51:40.305Z"
      },
      {
        "duration": 334,
        "start_time": "2022-03-17T11:51:40.350Z"
      },
      {
        "duration": 2119964,
        "start_time": "2022-03-17T11:51:40.686Z"
      },
      {
        "duration": 19,
        "start_time": "2022-03-17T12:27:00.652Z"
      },
      {
        "duration": 364,
        "start_time": "2022-03-17T12:27:00.674Z"
      },
      {
        "duration": 10,
        "start_time": "2022-03-17T12:27:01.045Z"
      },
      {
        "duration": 213,
        "start_time": "2022-03-17T12:27:01.058Z"
      },
      {
        "duration": 1070,
        "start_time": "2022-03-17T12:27:01.274Z"
      },
      {
        "duration": 0,
        "start_time": "2022-03-17T12:27:02.347Z"
      },
      {
        "duration": 218,
        "start_time": "2022-03-17T12:33:01.365Z"
      },
      {
        "duration": 57,
        "start_time": "2022-03-17T12:33:28.059Z"
      },
      {
        "duration": 6,
        "start_time": "2022-03-17T12:33:33.428Z"
      },
      {
        "duration": 406108,
        "start_time": "2022-03-17T12:33:37.257Z"
      },
      {
        "duration": 12,
        "start_time": "2022-03-17T12:40:23.367Z"
      },
      {
        "duration": 32,
        "start_time": "2022-03-17T12:49:32.018Z"
      },
      {
        "duration": 33,
        "start_time": "2022-03-17T12:49:50.719Z"
      }
    ],
    "kernelspec": {
      "display_name": "Python 3 (ipykernel)",
      "language": "python",
      "name": "python3"
    },
    "language_info": {
      "codemirror_mode": {
        "name": "ipython",
        "version": 3
      },
      "file_extension": ".py",
      "mimetype": "text/x-python",
      "name": "python",
      "nbconvert_exporter": "python",
      "pygments_lexer": "ipython3",
      "version": "3.9.5"
    },
    "toc": {
      "base_numbering": 1,
      "nav_menu": {},
      "number_sections": true,
      "sideBar": true,
      "skip_h1_title": true,
      "title_cell": "Table of Contents",
      "title_sidebar": "Contents",
      "toc_cell": false,
      "toc_position": {
        "height": "calc(100% - 180px)",
        "left": "10px",
        "top": "150px",
        "width": "366.391px"
      },
      "toc_section_display": true,
      "toc_window_display": false
    },
    "colab": {
      "name": "project_10.ipynb",
      "provenance": []
    },
    "widgets": {
      "application/vnd.jupyter.widget-state+json": {
        "2bac078ae454468f9e67fe66e6c22b83": {
          "model_module": "@jupyter-widgets/controls",
          "model_name": "HBoxModel",
          "model_module_version": "1.5.0",
          "state": {
            "_dom_classes": [],
            "_model_module": "@jupyter-widgets/controls",
            "_model_module_version": "1.5.0",
            "_model_name": "HBoxModel",
            "_view_count": null,
            "_view_module": "@jupyter-widgets/controls",
            "_view_module_version": "1.5.0",
            "_view_name": "HBoxView",
            "box_style": "",
            "children": [
              "IPY_MODEL_a1e757e501e2453691b0546b8e0fa7b5",
              "IPY_MODEL_e4c079fc4a364d2c849805533500530d",
              "IPY_MODEL_833a548a61194578bf05b2d02b8f2251"
            ],
            "layout": "IPY_MODEL_1c103cfa8f414f43804f3a39d32df684"
          }
        },
        "a1e757e501e2453691b0546b8e0fa7b5": {
          "model_module": "@jupyter-widgets/controls",
          "model_name": "HTMLModel",
          "model_module_version": "1.5.0",
          "state": {
            "_dom_classes": [],
            "_model_module": "@jupyter-widgets/controls",
            "_model_module_version": "1.5.0",
            "_model_name": "HTMLModel",
            "_view_count": null,
            "_view_module": "@jupyter-widgets/controls",
            "_view_module_version": "1.5.0",
            "_view_name": "HTMLView",
            "description": "",
            "description_tooltip": null,
            "layout": "IPY_MODEL_9a96cf61e0c140159fb991382f581330",
            "placeholder": "​",
            "style": "IPY_MODEL_301eeb5354604b1dbdabf8c3fefc5995",
            "value": "100%"
          }
        },
        "e4c079fc4a364d2c849805533500530d": {
          "model_module": "@jupyter-widgets/controls",
          "model_name": "FloatProgressModel",
          "model_module_version": "1.5.0",
          "state": {
            "_dom_classes": [],
            "_model_module": "@jupyter-widgets/controls",
            "_model_module_version": "1.5.0",
            "_model_name": "FloatProgressModel",
            "_view_count": null,
            "_view_module": "@jupyter-widgets/controls",
            "_view_module_version": "1.5.0",
            "_view_name": "ProgressView",
            "bar_style": "success",
            "description": "",
            "description_tooltip": null,
            "layout": "IPY_MODEL_e93a35dbf47449b4a50dd35a0a12a9ab",
            "max": 5,
            "min": 0,
            "orientation": "horizontal",
            "style": "IPY_MODEL_df51821aa5124659943275f972929456",
            "value": 5
          }
        },
        "833a548a61194578bf05b2d02b8f2251": {
          "model_module": "@jupyter-widgets/controls",
          "model_name": "HTMLModel",
          "model_module_version": "1.5.0",
          "state": {
            "_dom_classes": [],
            "_model_module": "@jupyter-widgets/controls",
            "_model_module_version": "1.5.0",
            "_model_name": "HTMLModel",
            "_view_count": null,
            "_view_module": "@jupyter-widgets/controls",
            "_view_module_version": "1.5.0",
            "_view_name": "HTMLView",
            "description": "",
            "description_tooltip": null,
            "layout": "IPY_MODEL_d734ec332994446ca4d0e36092f1fcd7",
            "placeholder": "​",
            "style": "IPY_MODEL_64931a7f02734363a49264e383ebd753",
            "value": " 5/5 [02:19&lt;00:00, 29.49s/it]"
          }
        },
        "1c103cfa8f414f43804f3a39d32df684": {
          "model_module": "@jupyter-widgets/base",
          "model_name": "LayoutModel",
          "model_module_version": "1.2.0",
          "state": {
            "_model_module": "@jupyter-widgets/base",
            "_model_module_version": "1.2.0",
            "_model_name": "LayoutModel",
            "_view_count": null,
            "_view_module": "@jupyter-widgets/base",
            "_view_module_version": "1.2.0",
            "_view_name": "LayoutView",
            "align_content": null,
            "align_items": null,
            "align_self": null,
            "border": null,
            "bottom": null,
            "display": null,
            "flex": null,
            "flex_flow": null,
            "grid_area": null,
            "grid_auto_columns": null,
            "grid_auto_flow": null,
            "grid_auto_rows": null,
            "grid_column": null,
            "grid_gap": null,
            "grid_row": null,
            "grid_template_areas": null,
            "grid_template_columns": null,
            "grid_template_rows": null,
            "height": null,
            "justify_content": null,
            "justify_items": null,
            "left": null,
            "margin": null,
            "max_height": null,
            "max_width": null,
            "min_height": null,
            "min_width": null,
            "object_fit": null,
            "object_position": null,
            "order": null,
            "overflow": null,
            "overflow_x": null,
            "overflow_y": null,
            "padding": null,
            "right": null,
            "top": null,
            "visibility": null,
            "width": null
          }
        },
        "9a96cf61e0c140159fb991382f581330": {
          "model_module": "@jupyter-widgets/base",
          "model_name": "LayoutModel",
          "model_module_version": "1.2.0",
          "state": {
            "_model_module": "@jupyter-widgets/base",
            "_model_module_version": "1.2.0",
            "_model_name": "LayoutModel",
            "_view_count": null,
            "_view_module": "@jupyter-widgets/base",
            "_view_module_version": "1.2.0",
            "_view_name": "LayoutView",
            "align_content": null,
            "align_items": null,
            "align_self": null,
            "border": null,
            "bottom": null,
            "display": null,
            "flex": null,
            "flex_flow": null,
            "grid_area": null,
            "grid_auto_columns": null,
            "grid_auto_flow": null,
            "grid_auto_rows": null,
            "grid_column": null,
            "grid_gap": null,
            "grid_row": null,
            "grid_template_areas": null,
            "grid_template_columns": null,
            "grid_template_rows": null,
            "height": null,
            "justify_content": null,
            "justify_items": null,
            "left": null,
            "margin": null,
            "max_height": null,
            "max_width": null,
            "min_height": null,
            "min_width": null,
            "object_fit": null,
            "object_position": null,
            "order": null,
            "overflow": null,
            "overflow_x": null,
            "overflow_y": null,
            "padding": null,
            "right": null,
            "top": null,
            "visibility": null,
            "width": null
          }
        },
        "301eeb5354604b1dbdabf8c3fefc5995": {
          "model_module": "@jupyter-widgets/controls",
          "model_name": "DescriptionStyleModel",
          "model_module_version": "1.5.0",
          "state": {
            "_model_module": "@jupyter-widgets/controls",
            "_model_module_version": "1.5.0",
            "_model_name": "DescriptionStyleModel",
            "_view_count": null,
            "_view_module": "@jupyter-widgets/base",
            "_view_module_version": "1.2.0",
            "_view_name": "StyleView",
            "description_width": ""
          }
        },
        "e93a35dbf47449b4a50dd35a0a12a9ab": {
          "model_module": "@jupyter-widgets/base",
          "model_name": "LayoutModel",
          "model_module_version": "1.2.0",
          "state": {
            "_model_module": "@jupyter-widgets/base",
            "_model_module_version": "1.2.0",
            "_model_name": "LayoutModel",
            "_view_count": null,
            "_view_module": "@jupyter-widgets/base",
            "_view_module_version": "1.2.0",
            "_view_name": "LayoutView",
            "align_content": null,
            "align_items": null,
            "align_self": null,
            "border": null,
            "bottom": null,
            "display": null,
            "flex": null,
            "flex_flow": null,
            "grid_area": null,
            "grid_auto_columns": null,
            "grid_auto_flow": null,
            "grid_auto_rows": null,
            "grid_column": null,
            "grid_gap": null,
            "grid_row": null,
            "grid_template_areas": null,
            "grid_template_columns": null,
            "grid_template_rows": null,
            "height": null,
            "justify_content": null,
            "justify_items": null,
            "left": null,
            "margin": null,
            "max_height": null,
            "max_width": null,
            "min_height": null,
            "min_width": null,
            "object_fit": null,
            "object_position": null,
            "order": null,
            "overflow": null,
            "overflow_x": null,
            "overflow_y": null,
            "padding": null,
            "right": null,
            "top": null,
            "visibility": null,
            "width": null
          }
        },
        "df51821aa5124659943275f972929456": {
          "model_module": "@jupyter-widgets/controls",
          "model_name": "ProgressStyleModel",
          "model_module_version": "1.5.0",
          "state": {
            "_model_module": "@jupyter-widgets/controls",
            "_model_module_version": "1.5.0",
            "_model_name": "ProgressStyleModel",
            "_view_count": null,
            "_view_module": "@jupyter-widgets/base",
            "_view_module_version": "1.2.0",
            "_view_name": "StyleView",
            "bar_color": null,
            "description_width": ""
          }
        },
        "d734ec332994446ca4d0e36092f1fcd7": {
          "model_module": "@jupyter-widgets/base",
          "model_name": "LayoutModel",
          "model_module_version": "1.2.0",
          "state": {
            "_model_module": "@jupyter-widgets/base",
            "_model_module_version": "1.2.0",
            "_model_name": "LayoutModel",
            "_view_count": null,
            "_view_module": "@jupyter-widgets/base",
            "_view_module_version": "1.2.0",
            "_view_name": "LayoutView",
            "align_content": null,
            "align_items": null,
            "align_self": null,
            "border": null,
            "bottom": null,
            "display": null,
            "flex": null,
            "flex_flow": null,
            "grid_area": null,
            "grid_auto_columns": null,
            "grid_auto_flow": null,
            "grid_auto_rows": null,
            "grid_column": null,
            "grid_gap": null,
            "grid_row": null,
            "grid_template_areas": null,
            "grid_template_columns": null,
            "grid_template_rows": null,
            "height": null,
            "justify_content": null,
            "justify_items": null,
            "left": null,
            "margin": null,
            "max_height": null,
            "max_width": null,
            "min_height": null,
            "min_width": null,
            "object_fit": null,
            "object_position": null,
            "order": null,
            "overflow": null,
            "overflow_x": null,
            "overflow_y": null,
            "padding": null,
            "right": null,
            "top": null,
            "visibility": null,
            "width": null
          }
        },
        "64931a7f02734363a49264e383ebd753": {
          "model_module": "@jupyter-widgets/controls",
          "model_name": "DescriptionStyleModel",
          "model_module_version": "1.5.0",
          "state": {
            "_model_module": "@jupyter-widgets/controls",
            "_model_module_version": "1.5.0",
            "_model_name": "DescriptionStyleModel",
            "_view_count": null,
            "_view_module": "@jupyter-widgets/base",
            "_view_module_version": "1.2.0",
            "_view_name": "StyleView",
            "description_width": ""
          }
        }
      }
    }
  },
  "nbformat": 4,
  "nbformat_minor": 0
}