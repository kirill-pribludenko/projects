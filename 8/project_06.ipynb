{
  "cells": [
    {
      "cell_type": "markdown",
      "metadata": {
        "id": "TtHNsOuzUPmg"
      },
      "source": [
        "## Подготовка данных"
      ]
    },
    {
      "cell_type": "markdown",
      "metadata": {
        "id": "edVl8hSiUPmh"
      },
      "source": [
        "Импортируем необходимые библиотеки и модули для работы"
      ]
    },
    {
      "cell_type": "code",
      "source": [
        "!pip install catboost"
      ],
      "metadata": {
        "colab": {
          "base_uri": "https://localhost:8080/"
        },
        "id": "DaF3yz0NhPpK",
        "outputId": "00eb45ba-1a8f-4749-c1c4-53a6cf79bcfb"
      },
      "execution_count": 1,
      "outputs": [
        {
          "output_type": "stream",
          "name": "stdout",
          "text": [
            "Looking in indexes: https://pypi.org/simple, https://us-python.pkg.dev/colab-wheels/public/simple/\n",
            "Requirement already satisfied: catboost in /usr/local/lib/python3.7/dist-packages (1.0.6)\n",
            "Requirement already satisfied: scipy in /usr/local/lib/python3.7/dist-packages (from catboost) (1.4.1)\n",
            "Requirement already satisfied: numpy>=1.16.0 in /usr/local/lib/python3.7/dist-packages (from catboost) (1.21.6)\n",
            "Requirement already satisfied: graphviz in /usr/local/lib/python3.7/dist-packages (from catboost) (0.10.1)\n",
            "Requirement already satisfied: six in /usr/local/lib/python3.7/dist-packages (from catboost) (1.15.0)\n",
            "Requirement already satisfied: pandas>=0.24.0 in /usr/local/lib/python3.7/dist-packages (from catboost) (1.3.5)\n",
            "Requirement already satisfied: matplotlib in /usr/local/lib/python3.7/dist-packages (from catboost) (3.2.2)\n",
            "Requirement already satisfied: plotly in /usr/local/lib/python3.7/dist-packages (from catboost) (5.5.0)\n",
            "Requirement already satisfied: pytz>=2017.3 in /usr/local/lib/python3.7/dist-packages (from pandas>=0.24.0->catboost) (2022.1)\n",
            "Requirement already satisfied: python-dateutil>=2.7.3 in /usr/local/lib/python3.7/dist-packages (from pandas>=0.24.0->catboost) (2.8.2)\n",
            "Requirement already satisfied: kiwisolver>=1.0.1 in /usr/local/lib/python3.7/dist-packages (from matplotlib->catboost) (1.4.3)\n",
            "Requirement already satisfied: pyparsing!=2.0.4,!=2.1.2,!=2.1.6,>=2.0.1 in /usr/local/lib/python3.7/dist-packages (from matplotlib->catboost) (3.0.9)\n",
            "Requirement already satisfied: cycler>=0.10 in /usr/local/lib/python3.7/dist-packages (from matplotlib->catboost) (0.11.0)\n",
            "Requirement already satisfied: typing-extensions in /usr/local/lib/python3.7/dist-packages (from kiwisolver>=1.0.1->matplotlib->catboost) (4.1.1)\n",
            "Requirement already satisfied: tenacity>=6.2.0 in /usr/local/lib/python3.7/dist-packages (from plotly->catboost) (8.0.1)\n"
          ]
        }
      ]
    },
    {
      "cell_type": "code",
      "execution_count": 2,
      "metadata": {
        "id": "r7N0Z00NUPmi"
      },
      "outputs": [],
      "source": [
        "import pandas as pd\n",
        "import numpy as np\n",
        "import matplotlib.pyplot as plt\n",
        "from sklearn.ensemble import RandomForestClassifier\n",
        "from sklearn.svm import SVC\n",
        "from catboost import CatBoostClassifier, Pool, cv\n",
        "from sklearn.dummy import DummyClassifier\n",
        "from sklearn.utils import shuffle\n",
        "from sklearn.model_selection import GridSearchCV\n",
        "from sklearn.metrics import classification_report, f1_score, roc_curve, roc_auc_score\n",
        "from sklearn.model_selection import train_test_split\n",
        "from sklearn.preprocessing import StandardScaler"
      ]
    },
    {
      "cell_type": "markdown",
      "metadata": {
        "id": "slhNEIBMUPmn"
      },
      "source": [
        "Загрузим данные и сделаем небольшой обзор данных, при необходимости их подготовим для дальнейшего исследования"
      ]
    },
    {
      "cell_type": "code",
      "execution_count": 3,
      "metadata": {
        "id": "CjWm1KI5UPmo"
      },
      "outputs": [],
      "source": [
        "df = pd.read_csv('/content/Churn.csv')"
      ]
    },
    {
      "cell_type": "code",
      "execution_count": 4,
      "metadata": {
        "id": "X2zUkeLsUPmo",
        "outputId": "b7d1e089-5377-40c3-84a7-4f0b5428c81d",
        "colab": {
          "base_uri": "https://localhost:8080/",
          "height": 206
        }
      },
      "outputs": [
        {
          "output_type": "execute_result",
          "data": {
            "text/plain": [
              "   RowNumber  CustomerId   Surname  CreditScore Geography  Gender  Age  \\\n",
              "0          1    15634602  Hargrave          619    France  Female   42   \n",
              "1          2    15647311      Hill          608     Spain  Female   41   \n",
              "2          3    15619304      Onio          502    France  Female   42   \n",
              "3          4    15701354      Boni          699    France  Female   39   \n",
              "4          5    15737888  Mitchell          850     Spain  Female   43   \n",
              "\n",
              "   Tenure    Balance  NumOfProducts  HasCrCard  IsActiveMember  \\\n",
              "0     2.0       0.00              1          1               1   \n",
              "1     1.0   83807.86              1          0               1   \n",
              "2     8.0  159660.80              3          1               0   \n",
              "3     1.0       0.00              2          0               0   \n",
              "4     2.0  125510.82              1          1               1   \n",
              "\n",
              "   EstimatedSalary  Exited  \n",
              "0        101348.88       1  \n",
              "1        112542.58       0  \n",
              "2        113931.57       1  \n",
              "3         93826.63       0  \n",
              "4         79084.10       0  "
            ],
            "text/html": [
              "\n",
              "  <div id=\"df-cd5a657e-c01d-4877-97f4-3b326d9a14de\">\n",
              "    <div class=\"colab-df-container\">\n",
              "      <div>\n",
              "<style scoped>\n",
              "    .dataframe tbody tr th:only-of-type {\n",
              "        vertical-align: middle;\n",
              "    }\n",
              "\n",
              "    .dataframe tbody tr th {\n",
              "        vertical-align: top;\n",
              "    }\n",
              "\n",
              "    .dataframe thead th {\n",
              "        text-align: right;\n",
              "    }\n",
              "</style>\n",
              "<table border=\"1\" class=\"dataframe\">\n",
              "  <thead>\n",
              "    <tr style=\"text-align: right;\">\n",
              "      <th></th>\n",
              "      <th>RowNumber</th>\n",
              "      <th>CustomerId</th>\n",
              "      <th>Surname</th>\n",
              "      <th>CreditScore</th>\n",
              "      <th>Geography</th>\n",
              "      <th>Gender</th>\n",
              "      <th>Age</th>\n",
              "      <th>Tenure</th>\n",
              "      <th>Balance</th>\n",
              "      <th>NumOfProducts</th>\n",
              "      <th>HasCrCard</th>\n",
              "      <th>IsActiveMember</th>\n",
              "      <th>EstimatedSalary</th>\n",
              "      <th>Exited</th>\n",
              "    </tr>\n",
              "  </thead>\n",
              "  <tbody>\n",
              "    <tr>\n",
              "      <th>0</th>\n",
              "      <td>1</td>\n",
              "      <td>15634602</td>\n",
              "      <td>Hargrave</td>\n",
              "      <td>619</td>\n",
              "      <td>France</td>\n",
              "      <td>Female</td>\n",
              "      <td>42</td>\n",
              "      <td>2.0</td>\n",
              "      <td>0.00</td>\n",
              "      <td>1</td>\n",
              "      <td>1</td>\n",
              "      <td>1</td>\n",
              "      <td>101348.88</td>\n",
              "      <td>1</td>\n",
              "    </tr>\n",
              "    <tr>\n",
              "      <th>1</th>\n",
              "      <td>2</td>\n",
              "      <td>15647311</td>\n",
              "      <td>Hill</td>\n",
              "      <td>608</td>\n",
              "      <td>Spain</td>\n",
              "      <td>Female</td>\n",
              "      <td>41</td>\n",
              "      <td>1.0</td>\n",
              "      <td>83807.86</td>\n",
              "      <td>1</td>\n",
              "      <td>0</td>\n",
              "      <td>1</td>\n",
              "      <td>112542.58</td>\n",
              "      <td>0</td>\n",
              "    </tr>\n",
              "    <tr>\n",
              "      <th>2</th>\n",
              "      <td>3</td>\n",
              "      <td>15619304</td>\n",
              "      <td>Onio</td>\n",
              "      <td>502</td>\n",
              "      <td>France</td>\n",
              "      <td>Female</td>\n",
              "      <td>42</td>\n",
              "      <td>8.0</td>\n",
              "      <td>159660.80</td>\n",
              "      <td>3</td>\n",
              "      <td>1</td>\n",
              "      <td>0</td>\n",
              "      <td>113931.57</td>\n",
              "      <td>1</td>\n",
              "    </tr>\n",
              "    <tr>\n",
              "      <th>3</th>\n",
              "      <td>4</td>\n",
              "      <td>15701354</td>\n",
              "      <td>Boni</td>\n",
              "      <td>699</td>\n",
              "      <td>France</td>\n",
              "      <td>Female</td>\n",
              "      <td>39</td>\n",
              "      <td>1.0</td>\n",
              "      <td>0.00</td>\n",
              "      <td>2</td>\n",
              "      <td>0</td>\n",
              "      <td>0</td>\n",
              "      <td>93826.63</td>\n",
              "      <td>0</td>\n",
              "    </tr>\n",
              "    <tr>\n",
              "      <th>4</th>\n",
              "      <td>5</td>\n",
              "      <td>15737888</td>\n",
              "      <td>Mitchell</td>\n",
              "      <td>850</td>\n",
              "      <td>Spain</td>\n",
              "      <td>Female</td>\n",
              "      <td>43</td>\n",
              "      <td>2.0</td>\n",
              "      <td>125510.82</td>\n",
              "      <td>1</td>\n",
              "      <td>1</td>\n",
              "      <td>1</td>\n",
              "      <td>79084.10</td>\n",
              "      <td>0</td>\n",
              "    </tr>\n",
              "  </tbody>\n",
              "</table>\n",
              "</div>\n",
              "      <button class=\"colab-df-convert\" onclick=\"convertToInteractive('df-cd5a657e-c01d-4877-97f4-3b326d9a14de')\"\n",
              "              title=\"Convert this dataframe to an interactive table.\"\n",
              "              style=\"display:none;\">\n",
              "        \n",
              "  <svg xmlns=\"http://www.w3.org/2000/svg\" height=\"24px\"viewBox=\"0 0 24 24\"\n",
              "       width=\"24px\">\n",
              "    <path d=\"M0 0h24v24H0V0z\" fill=\"none\"/>\n",
              "    <path d=\"M18.56 5.44l.94 2.06.94-2.06 2.06-.94-2.06-.94-.94-2.06-.94 2.06-2.06.94zm-11 1L8.5 8.5l.94-2.06 2.06-.94-2.06-.94L8.5 2.5l-.94 2.06-2.06.94zm10 10l.94 2.06.94-2.06 2.06-.94-2.06-.94-.94-2.06-.94 2.06-2.06.94z\"/><path d=\"M17.41 7.96l-1.37-1.37c-.4-.4-.92-.59-1.43-.59-.52 0-1.04.2-1.43.59L10.3 9.45l-7.72 7.72c-.78.78-.78 2.05 0 2.83L4 21.41c.39.39.9.59 1.41.59.51 0 1.02-.2 1.41-.59l7.78-7.78 2.81-2.81c.8-.78.8-2.07 0-2.86zM5.41 20L4 18.59l7.72-7.72 1.47 1.35L5.41 20z\"/>\n",
              "  </svg>\n",
              "      </button>\n",
              "      \n",
              "  <style>\n",
              "    .colab-df-container {\n",
              "      display:flex;\n",
              "      flex-wrap:wrap;\n",
              "      gap: 12px;\n",
              "    }\n",
              "\n",
              "    .colab-df-convert {\n",
              "      background-color: #E8F0FE;\n",
              "      border: none;\n",
              "      border-radius: 50%;\n",
              "      cursor: pointer;\n",
              "      display: none;\n",
              "      fill: #1967D2;\n",
              "      height: 32px;\n",
              "      padding: 0 0 0 0;\n",
              "      width: 32px;\n",
              "    }\n",
              "\n",
              "    .colab-df-convert:hover {\n",
              "      background-color: #E2EBFA;\n",
              "      box-shadow: 0px 1px 2px rgba(60, 64, 67, 0.3), 0px 1px 3px 1px rgba(60, 64, 67, 0.15);\n",
              "      fill: #174EA6;\n",
              "    }\n",
              "\n",
              "    [theme=dark] .colab-df-convert {\n",
              "      background-color: #3B4455;\n",
              "      fill: #D2E3FC;\n",
              "    }\n",
              "\n",
              "    [theme=dark] .colab-df-convert:hover {\n",
              "      background-color: #434B5C;\n",
              "      box-shadow: 0px 1px 3px 1px rgba(0, 0, 0, 0.15);\n",
              "      filter: drop-shadow(0px 1px 2px rgba(0, 0, 0, 0.3));\n",
              "      fill: #FFFFFF;\n",
              "    }\n",
              "  </style>\n",
              "\n",
              "      <script>\n",
              "        const buttonEl =\n",
              "          document.querySelector('#df-cd5a657e-c01d-4877-97f4-3b326d9a14de button.colab-df-convert');\n",
              "        buttonEl.style.display =\n",
              "          google.colab.kernel.accessAllowed ? 'block' : 'none';\n",
              "\n",
              "        async function convertToInteractive(key) {\n",
              "          const element = document.querySelector('#df-cd5a657e-c01d-4877-97f4-3b326d9a14de');\n",
              "          const dataTable =\n",
              "            await google.colab.kernel.invokeFunction('convertToInteractive',\n",
              "                                                     [key], {});\n",
              "          if (!dataTable) return;\n",
              "\n",
              "          const docLinkHtml = 'Like what you see? Visit the ' +\n",
              "            '<a target=\"_blank\" href=https://colab.research.google.com/notebooks/data_table.ipynb>data table notebook</a>'\n",
              "            + ' to learn more about interactive tables.';\n",
              "          element.innerHTML = '';\n",
              "          dataTable['output_type'] = 'display_data';\n",
              "          await google.colab.output.renderOutput(dataTable, element);\n",
              "          const docLink = document.createElement('div');\n",
              "          docLink.innerHTML = docLinkHtml;\n",
              "          element.appendChild(docLink);\n",
              "        }\n",
              "      </script>\n",
              "    </div>\n",
              "  </div>\n",
              "  "
            ]
          },
          "metadata": {},
          "execution_count": 4
        }
      ],
      "source": [
        "df.head()"
      ]
    },
    {
      "cell_type": "markdown",
      "metadata": {
        "id": "68DvW85rUPmq"
      },
      "source": [
        "Описание данных:\n",
        "* `RowNumber` — индекс строки в данных\n",
        "* `CustomerId` — уникальный идентификатор клиента\n",
        "* `Surname` — фамилия\n",
        "* `CreditScore` — кредитный рейтинг\n",
        "* `Geography` — страна проживания\n",
        "* `Gender` — пол\n",
        "* `Age` — возраст\n",
        "* `Tenure` — сколько лет человек является клиентом банка\n",
        "* `Balance` — баланс на счёте\n",
        "* `NumOfProducts` — количество продуктов банка, используемых клиентом\n",
        "* `HasCrCard` — наличие кредитной карты\n",
        "* `IsActiveMember` — активность клиента\n",
        "* `EstimatedSalary` — предполагаемая зарплата\n",
        "* `Exited` — факт ухода клиента"
      ]
    },
    {
      "cell_type": "code",
      "execution_count": 5,
      "metadata": {
        "id": "47KZ1XnfUPmq",
        "outputId": "b9141187-da74-406c-e501-0c97582760ea",
        "colab": {
          "base_uri": "https://localhost:8080/"
        }
      },
      "outputs": [
        {
          "output_type": "stream",
          "name": "stdout",
          "text": [
            "<class 'pandas.core.frame.DataFrame'>\n",
            "RangeIndex: 10000 entries, 0 to 9999\n",
            "Data columns (total 14 columns):\n",
            " #   Column           Non-Null Count  Dtype  \n",
            "---  ------           --------------  -----  \n",
            " 0   RowNumber        10000 non-null  int64  \n",
            " 1   CustomerId       10000 non-null  int64  \n",
            " 2   Surname          10000 non-null  object \n",
            " 3   CreditScore      10000 non-null  int64  \n",
            " 4   Geography        10000 non-null  object \n",
            " 5   Gender           10000 non-null  object \n",
            " 6   Age              10000 non-null  int64  \n",
            " 7   Tenure           9091 non-null   float64\n",
            " 8   Balance          10000 non-null  float64\n",
            " 9   NumOfProducts    10000 non-null  int64  \n",
            " 10  HasCrCard        10000 non-null  int64  \n",
            " 11  IsActiveMember   10000 non-null  int64  \n",
            " 12  EstimatedSalary  10000 non-null  float64\n",
            " 13  Exited           10000 non-null  int64  \n",
            "dtypes: float64(3), int64(8), object(3)\n",
            "memory usage: 1.1+ MB\n"
          ]
        }
      ],
      "source": [
        "df.info()"
      ]
    },
    {
      "cell_type": "markdown",
      "metadata": {
        "id": "VvJ7pelgUPmr"
      },
      "source": [
        "Переименуем названия столбцов для удобства, а так же избавимся от части столбцов **RowNumber**, **Surname**, **CustomerID**, которые для нашего исследования не несут смысловой нагрузки."
      ]
    },
    {
      "cell_type": "code",
      "execution_count": 6,
      "metadata": {
        "id": "ak0vHnYNUPmr"
      },
      "outputs": [],
      "source": [
        "df1 = df.drop(['RowNumber','Surname', 'CustomerId'],axis=1)"
      ]
    },
    {
      "cell_type": "code",
      "execution_count": 7,
      "metadata": {
        "id": "3izKV9JmUPms"
      },
      "outputs": [],
      "source": [
        "df1.columns = ['credit_score', 'geography', 'gender', 'age', 'tenure',\n",
        "       'balance', 'num_of_products', 'has_cr_card', 'is_active_member',\n",
        "       'estimated_salary', 'exited']"
      ]
    },
    {
      "cell_type": "markdown",
      "metadata": {
        "id": "oEeSPejbUPmt"
      },
      "source": [
        "Видно, что в столбце `tenure` есть пропуски, необходимо их заполнить, потому что удалить данные нельзя из-за их количества (около 10% от общего кол-ва данных)"
      ]
    },
    {
      "cell_type": "code",
      "execution_count": 8,
      "metadata": {
        "id": "QkHFLI2vUPmt",
        "outputId": "15a9dc17-6ffe-4661-e500-fa964208d873",
        "colab": {
          "base_uri": "https://localhost:8080/"
        }
      },
      "outputs": [
        {
          "output_type": "execute_result",
          "data": {
            "text/plain": [
              "1.0     0.0952\n",
              "2.0     0.0950\n",
              "8.0     0.0933\n",
              "3.0     0.0928\n",
              "5.0     0.0927\n",
              "7.0     0.0925\n",
              "NaN     0.0909\n",
              "4.0     0.0885\n",
              "9.0     0.0882\n",
              "6.0     0.0881\n",
              "10.0    0.0446\n",
              "0.0     0.0382\n",
              "Name: tenure, dtype: float64"
            ]
          },
          "metadata": {},
          "execution_count": 8
        }
      ],
      "source": [
        "df1['tenure'].value_counts(normalize=True, dropna=False)"
      ]
    },
    {
      "cell_type": "markdown",
      "metadata": {
        "id": "aZTOPOoXUPmt"
      },
      "source": [
        "Из распределения данной величины видно, что данные распределены равномерно за исключением значений **0** и **10**. Поэтому предлагается заполнить половину пропусков значением **0**, другую половину значением **10**"
      ]
    },
    {
      "cell_type": "code",
      "execution_count": 9,
      "metadata": {
        "id": "Kjxt2563UPmu"
      },
      "outputs": [],
      "source": [
        "df1 = df1.fillna(0, limit=df1['tenure'].isna().sum()//2) #Только половину пропусков заполняем 0"
      ]
    },
    {
      "cell_type": "code",
      "execution_count": 10,
      "metadata": {
        "id": "_sGiQor3UPmu"
      },
      "outputs": [],
      "source": [
        "df1 = df1.fillna(10)"
      ]
    },
    {
      "cell_type": "markdown",
      "metadata": {
        "id": "-W2FWYJwUPmv"
      },
      "source": [
        "Проверяем"
      ]
    },
    {
      "cell_type": "code",
      "execution_count": 11,
      "metadata": {
        "id": "Yj8G0QI-UPmv",
        "outputId": "07e70b7d-2e94-4263-8e21-94a39ffa48bf",
        "colab": {
          "base_uri": "https://localhost:8080/",
          "height": 282
        }
      },
      "outputs": [
        {
          "output_type": "execute_result",
          "data": {
            "text/plain": [
              "<matplotlib.axes._subplots.AxesSubplot at 0x7f39cf6f7f50>"
            ]
          },
          "metadata": {},
          "execution_count": 11
        },
        {
          "output_type": "display_data",
          "data": {
            "text/plain": [
              "<Figure size 432x288 with 1 Axes>"
            ],
            "image/png": "[encoded data removed]"
          },
          "metadata": {
            "needs_background": "light"
          }
        }
      ],
      "source": [
        "df1['tenure'].hist(bins=11)"
      ]
    },
    {
      "cell_type": "code",
      "execution_count": 12,
      "metadata": {
        "id": "XQtGCtR7UPmv",
        "outputId": "4a905a7b-5045-4a31-d101-39a45cf324ca",
        "colab": {
          "base_uri": "https://localhost:8080/"
        }
      },
      "outputs": [
        {
          "output_type": "stream",
          "name": "stdout",
          "text": [
            "<class 'pandas.core.frame.DataFrame'>\n",
            "RangeIndex: 10000 entries, 0 to 9999\n",
            "Data columns (total 11 columns):\n",
            " #   Column            Non-Null Count  Dtype  \n",
            "---  ------            --------------  -----  \n",
            " 0   credit_score      10000 non-null  int64  \n",
            " 1   geography         10000 non-null  object \n",
            " 2   gender            10000 non-null  object \n",
            " 3   age               10000 non-null  int64  \n",
            " 4   tenure            10000 non-null  float64\n",
            " 5   balance           10000 non-null  float64\n",
            " 6   num_of_products   10000 non-null  int64  \n",
            " 7   has_cr_card       10000 non-null  int64  \n",
            " 8   is_active_member  10000 non-null  int64  \n",
            " 9   estimated_salary  10000 non-null  float64\n",
            " 10  exited            10000 non-null  int64  \n",
            "dtypes: float64(3), int64(6), object(2)\n",
            "memory usage: 859.5+ KB\n"
          ]
        }
      ],
      "source": [
        "df1.info()"
      ]
    },
    {
      "cell_type": "markdown",
      "metadata": {
        "id": "QhIMkN7vUPmy"
      },
      "source": [
        "Проверим на дубликаты"
      ]
    },
    {
      "cell_type": "code",
      "execution_count": 13,
      "metadata": {
        "id": "7hfsDm2wUPmy",
        "outputId": "23e3dd33-4406-468c-c94e-62c560e303a0",
        "colab": {
          "base_uri": "https://localhost:8080/"
        }
      },
      "outputs": [
        {
          "output_type": "execute_result",
          "data": {
            "text/plain": [
              "0"
            ]
          },
          "metadata": {},
          "execution_count": 13
        }
      ],
      "source": [
        "df1.duplicated().sum()"
      ]
    },
    {
      "cell_type": "markdown",
      "metadata": {
        "id": "ndtUUCrsUPmz"
      },
      "source": [
        "### Вывод\n",
        "Сделали обзор данных и подготовили их к дальнейшему исследованию"
      ]
    },
    {
      "cell_type": "markdown",
      "metadata": {
        "id": "ZiYDyJrsUPmz"
      },
      "source": [
        "## Исследование задачи"
      ]
    },
    {
      "cell_type": "markdown",
      "metadata": {
        "id": "62GvGWT1UPmz"
      },
      "source": [
        "### Последние приготовления"
      ]
    },
    {
      "cell_type": "markdown",
      "metadata": {
        "id": "xY1F8oT8UPm0"
      },
      "source": [
        "Проверим как распределен целевой признак, который мы будем предсказывать с помощью машинного обучения"
      ]
    },
    {
      "cell_type": "code",
      "execution_count": 14,
      "metadata": {
        "id": "RqRWxTbSUPm0",
        "outputId": "5abd5c44-85e4-4a05-d4d3-ed70d5613bc1",
        "colab": {
          "base_uri": "https://localhost:8080/"
        }
      },
      "outputs": [
        {
          "output_type": "execute_result",
          "data": {
            "text/plain": [
              "0    0.7963\n",
              "1    0.2037\n",
              "Name: exited, dtype: float64"
            ]
          },
          "metadata": {},
          "execution_count": 14
        }
      ],
      "source": [
        "df1['exited'].value_counts(normalize=True)"
      ]
    },
    {
      "cell_type": "markdown",
      "metadata": {
        "id": "-316wqWrUPm0"
      },
      "source": [
        "На лицо дисбаланс классов. Согласно условиям исследования сделаем предсказания, не обращая на это внимание. Но сначала до конца подготовим данные для анализа. \n",
        "\n",
        "Для этого:\n",
        "* преобразуем категориальные признаки, \n",
        "* разделим выборку на 3 части: тренировочную(60%), валидационную(20%) и тестовую(20%),\n",
        "* масштабируем количественные признаки."
      ]
    },
    {
      "cell_type": "markdown",
      "metadata": {
        "id": "S7iJjHjNUPm1"
      },
      "source": [
        "Преобразуем категориальные признаки"
      ]
    },
    {
      "cell_type": "code",
      "execution_count": 15,
      "metadata": {
        "id": "5tV-ap0TUPm1"
      },
      "outputs": [],
      "source": [
        "cat_data = ['geography','gender', 'num_of_products', 'has_cr_card', 'is_active_member']\n",
        "num_data = ['credit_score','age','estimated_salary','balance','tenure']"
      ]
    },
    {
      "cell_type": "code",
      "execution_count": 16,
      "metadata": {
        "id": "I5ggig_sUPm1"
      },
      "outputs": [],
      "source": [
        "df1 = pd.get_dummies(data=df1,columns=cat_data, drop_first=True)"
      ]
    },
    {
      "cell_type": "markdown",
      "metadata": {
        "id": "LIGMYqorUPm1"
      },
      "source": [
        "Разобьем выборку на три части: тренировочную (60%), валидационную (20%) и тестовую (20%)"
      ]
    },
    {
      "cell_type": "code",
      "execution_count": 17,
      "metadata": {
        "id": "-W7WA-JMUPm1"
      },
      "outputs": [],
      "source": [
        "df_train, df_temp = train_test_split(df1, test_size=0.4, random_state=101)\n",
        "df_valid, df_test = train_test_split(df_temp, test_size=0.5, random_state=101)"
      ]
    },
    {
      "cell_type": "markdown",
      "metadata": {
        "id": "rhTMXT23UPm2"
      },
      "source": [
        "Проверка"
      ]
    },
    {
      "cell_type": "code",
      "execution_count": 18,
      "metadata": {
        "id": "4Fa4Va5_UPm2",
        "outputId": "a048c524-450c-4242-bb2a-d05e70b2d9f6",
        "colab": {
          "base_uri": "https://localhost:8080/",
          "height": 69
        }
      },
      "outputs": [
        {
          "output_type": "display_data",
          "data": {
            "text/plain": [
              "(6000, 14)"
            ]
          },
          "metadata": {}
        },
        {
          "output_type": "display_data",
          "data": {
            "text/plain": [
              "(2000, 14)"
            ]
          },
          "metadata": {}
        },
        {
          "output_type": "display_data",
          "data": {
            "text/plain": [
              "(2000, 14)"
            ]
          },
          "metadata": {}
        }
      ],
      "source": [
        "display(df_train.shape)\n",
        "display(df_valid.shape)\n",
        "display(df_test.shape)"
      ]
    },
    {
      "cell_type": "markdown",
      "metadata": {
        "id": "P2IpVcU8UPm3"
      },
      "source": [
        "Данные для обучения"
      ]
    },
    {
      "cell_type": "code",
      "execution_count": 19,
      "metadata": {
        "id": "nwTjvOdZUPm3"
      },
      "outputs": [],
      "source": [
        "features_train = df_train.drop(['exited'], axis=1)\n",
        "target_train = df_train['exited']"
      ]
    },
    {
      "cell_type": "markdown",
      "metadata": {
        "id": "QONNOSBsUPm3"
      },
      "source": [
        "Данные для валидации"
      ]
    },
    {
      "cell_type": "code",
      "execution_count": 20,
      "metadata": {
        "id": "hsH05Nt8UPm3"
      },
      "outputs": [],
      "source": [
        "features_valid = df_valid.drop(['exited'], axis=1)\n",
        "target_valid = df_valid['exited']"
      ]
    },
    {
      "cell_type": "markdown",
      "metadata": {
        "id": "LwvfyxphUPm3"
      },
      "source": [
        "Данные для тестирования"
      ]
    },
    {
      "cell_type": "code",
      "execution_count": 21,
      "metadata": {
        "id": "N3TASXzZUPm4"
      },
      "outputs": [],
      "source": [
        "features_test = df_test.drop(['exited'], axis=1)\n",
        "target_test = df_test['exited']"
      ]
    },
    {
      "cell_type": "markdown",
      "metadata": {
        "id": "zWwbXjy9UPm4"
      },
      "source": [
        "Масштабируем количественные признаки"
      ]
    },
    {
      "cell_type": "code",
      "execution_count": 22,
      "metadata": {
        "id": "rAPif9qZUPm4"
      },
      "outputs": [],
      "source": [
        "scaler = StandardScaler()\n",
        "scaler.fit(features_train[num_data]) \n",
        "features_train[num_data] = scaler.transform(features_train[num_data])\n",
        "features_valid[num_data] = scaler.transform(features_valid[num_data])\n",
        "features_test[num_data] = scaler.transform(features_test[num_data])"
      ]
    },
    {
      "cell_type": "markdown",
      "metadata": {
        "id": "pAcnPraUUPm6"
      },
      "source": [
        "Рассмотрим, как справится с не балансированными классами разные алгоритмы машинного обучения - **RandomForest, SVM, CatBoost**"
      ]
    },
    {
      "cell_type": "markdown",
      "metadata": {
        "id": "W-bSiOEMUPm6"
      },
      "source": [
        "### RandomForest"
      ]
    },
    {
      "cell_type": "markdown",
      "metadata": {
        "id": "-39nFUd7UPm6"
      },
      "source": [
        "Для подбора гиперпараметров воспользуемся **GridSearchCV**"
      ]
    },
    {
      "cell_type": "code",
      "execution_count": 23,
      "metadata": {
        "id": "jGKCLZEOUPm6",
        "outputId": "583ec74d-bd58-4487-f04f-eb685aecac04",
        "colab": {
          "base_uri": "https://localhost:8080/"
        }
      },
      "outputs": [
        {
          "output_type": "stream",
          "name": "stdout",
          "text": [
            "Best parameters set found on development set:\n",
            "{'criterion': 'gini', 'max_depth': 12, 'n_estimators': 60}\n",
            "\n",
            "Grid scores on development set:\n",
            "0.454 (+/-0.028) for {'criterion': 'gini', 'max_depth': 5, 'n_estimators': 60}\n",
            "0.446 (+/-0.022) for {'criterion': 'gini', 'max_depth': 5, 'n_estimators': 80}\n",
            "0.444 (+/-0.031) for {'criterion': 'gini', 'max_depth': 5, 'n_estimators': 100}\n",
            "0.447 (+/-0.035) for {'criterion': 'gini', 'max_depth': 5, 'n_estimators': 120}\n",
            "0.502 (+/-0.032) for {'criterion': 'gini', 'max_depth': 6, 'n_estimators': 60}\n",
            "0.498 (+/-0.017) for {'criterion': 'gini', 'max_depth': 6, 'n_estimators': 80}\n",
            "0.500 (+/-0.024) for {'criterion': 'gini', 'max_depth': 6, 'n_estimators': 100}\n",
            "0.505 (+/-0.025) for {'criterion': 'gini', 'max_depth': 6, 'n_estimators': 120}\n",
            "0.544 (+/-0.020) for {'criterion': 'gini', 'max_depth': 7, 'n_estimators': 60}\n",
            "0.539 (+/-0.027) for {'criterion': 'gini', 'max_depth': 7, 'n_estimators': 80}\n",
            "0.537 (+/-0.023) for {'criterion': 'gini', 'max_depth': 7, 'n_estimators': 100}\n",
            "0.543 (+/-0.038) for {'criterion': 'gini', 'max_depth': 7, 'n_estimators': 120}\n",
            "0.546 (+/-0.032) for {'criterion': 'gini', 'max_depth': 8, 'n_estimators': 60}\n",
            "0.543 (+/-0.034) for {'criterion': 'gini', 'max_depth': 8, 'n_estimators': 80}\n",
            "0.547 (+/-0.033) for {'criterion': 'gini', 'max_depth': 8, 'n_estimators': 100}\n",
            "0.552 (+/-0.034) for {'criterion': 'gini', 'max_depth': 8, 'n_estimators': 120}\n",
            "0.556 (+/-0.019) for {'criterion': 'gini', 'max_depth': 9, 'n_estimators': 60}\n",
            "0.553 (+/-0.025) for {'criterion': 'gini', 'max_depth': 9, 'n_estimators': 80}\n",
            "0.558 (+/-0.028) for {'criterion': 'gini', 'max_depth': 9, 'n_estimators': 100}\n",
            "0.557 (+/-0.031) for {'criterion': 'gini', 'max_depth': 9, 'n_estimators': 120}\n",
            "0.561 (+/-0.035) for {'criterion': 'gini', 'max_depth': 10, 'n_estimators': 60}\n",
            "0.557 (+/-0.037) for {'criterion': 'gini', 'max_depth': 10, 'n_estimators': 80}\n",
            "0.557 (+/-0.031) for {'criterion': 'gini', 'max_depth': 10, 'n_estimators': 100}\n",
            "0.558 (+/-0.034) for {'criterion': 'gini', 'max_depth': 10, 'n_estimators': 120}\n",
            "0.558 (+/-0.037) for {'criterion': 'gini', 'max_depth': 11, 'n_estimators': 60}\n",
            "0.561 (+/-0.031) for {'criterion': 'gini', 'max_depth': 11, 'n_estimators': 80}\n",
            "0.557 (+/-0.028) for {'criterion': 'gini', 'max_depth': 11, 'n_estimators': 100}\n",
            "0.562 (+/-0.037) for {'criterion': 'gini', 'max_depth': 11, 'n_estimators': 120}\n",
            "0.565 (+/-0.021) for {'criterion': 'gini', 'max_depth': 12, 'n_estimators': 60}\n",
            "0.560 (+/-0.034) for {'criterion': 'gini', 'max_depth': 12, 'n_estimators': 80}\n",
            "0.564 (+/-0.023) for {'criterion': 'gini', 'max_depth': 12, 'n_estimators': 100}\n",
            "0.561 (+/-0.022) for {'criterion': 'gini', 'max_depth': 12, 'n_estimators': 120}\n",
            "0.430 (+/-0.039) for {'criterion': 'entropy', 'max_depth': 5, 'n_estimators': 60}\n",
            "0.424 (+/-0.047) for {'criterion': 'entropy', 'max_depth': 5, 'n_estimators': 80}\n",
            "0.423 (+/-0.052) for {'criterion': 'entropy', 'max_depth': 5, 'n_estimators': 100}\n",
            "0.426 (+/-0.066) for {'criterion': 'entropy', 'max_depth': 5, 'n_estimators': 120}\n",
            "0.484 (+/-0.036) for {'criterion': 'entropy', 'max_depth': 6, 'n_estimators': 60}\n",
            "0.474 (+/-0.040) for {'criterion': 'entropy', 'max_depth': 6, 'n_estimators': 80}\n",
            "0.479 (+/-0.036) for {'criterion': 'entropy', 'max_depth': 6, 'n_estimators': 100}\n",
            "0.479 (+/-0.034) for {'criterion': 'entropy', 'max_depth': 6, 'n_estimators': 120}\n",
            "0.537 (+/-0.028) for {'criterion': 'entropy', 'max_depth': 7, 'n_estimators': 60}\n",
            "0.519 (+/-0.027) for {'criterion': 'entropy', 'max_depth': 7, 'n_estimators': 80}\n",
            "0.518 (+/-0.032) for {'criterion': 'entropy', 'max_depth': 7, 'n_estimators': 100}\n",
            "0.520 (+/-0.033) for {'criterion': 'entropy', 'max_depth': 7, 'n_estimators': 120}\n",
            "0.538 (+/-0.028) for {'criterion': 'entropy', 'max_depth': 8, 'n_estimators': 60}\n",
            "0.547 (+/-0.031) for {'criterion': 'entropy', 'max_depth': 8, 'n_estimators': 80}\n",
            "0.547 (+/-0.028) for {'criterion': 'entropy', 'max_depth': 8, 'n_estimators': 100}\n",
            "0.547 (+/-0.028) for {'criterion': 'entropy', 'max_depth': 8, 'n_estimators': 120}\n",
            "0.553 (+/-0.027) for {'criterion': 'entropy', 'max_depth': 9, 'n_estimators': 60}\n",
            "0.547 (+/-0.040) for {'criterion': 'entropy', 'max_depth': 9, 'n_estimators': 80}\n",
            "0.553 (+/-0.028) for {'criterion': 'entropy', 'max_depth': 9, 'n_estimators': 100}\n",
            "0.552 (+/-0.024) for {'criterion': 'entropy', 'max_depth': 9, 'n_estimators': 120}\n",
            "0.555 (+/-0.027) for {'criterion': 'entropy', 'max_depth': 10, 'n_estimators': 60}\n",
            "0.556 (+/-0.028) for {'criterion': 'entropy', 'max_depth': 10, 'n_estimators': 80}\n",
            "0.558 (+/-0.020) for {'criterion': 'entropy', 'max_depth': 10, 'n_estimators': 100}\n",
            "0.555 (+/-0.029) for {'criterion': 'entropy', 'max_depth': 10, 'n_estimators': 120}\n",
            "0.554 (+/-0.030) for {'criterion': 'entropy', 'max_depth': 11, 'n_estimators': 60}\n",
            "0.557 (+/-0.025) for {'criterion': 'entropy', 'max_depth': 11, 'n_estimators': 80}\n",
            "0.554 (+/-0.022) for {'criterion': 'entropy', 'max_depth': 11, 'n_estimators': 100}\n",
            "0.559 (+/-0.025) for {'criterion': 'entropy', 'max_depth': 11, 'n_estimators': 120}\n",
            "0.558 (+/-0.035) for {'criterion': 'entropy', 'max_depth': 12, 'n_estimators': 60}\n",
            "0.554 (+/-0.031) for {'criterion': 'entropy', 'max_depth': 12, 'n_estimators': 80}\n",
            "0.558 (+/-0.019) for {'criterion': 'entropy', 'max_depth': 12, 'n_estimators': 100}\n",
            "0.560 (+/-0.017) for {'criterion': 'entropy', 'max_depth': 12, 'n_estimators': 120}\n",
            "\n",
            "Detailed classification report:\n",
            "              precision    recall  f1-score   support\n",
            "\n",
            "           0       0.88      0.96      0.92      1596\n",
            "           1       0.77      0.49      0.60       404\n",
            "\n",
            "    accuracy                           0.87      2000\n",
            "   macro avg       0.82      0.73      0.76      2000\n",
            "weighted avg       0.86      0.87      0.85      2000\n",
            "\n"
          ]
        }
      ],
      "source": [
        "#Время выполнения ячеки около пары минут\n",
        "tuned_parameters = {\"n_estimators\": list(range(60,121,20)), \n",
        "                    \"max_depth\": list(range(5,13,1)), \n",
        "                    \"criterion\": ['gini', 'entropy']}\n",
        "\n",
        "rand_forest = GridSearchCV(RandomForestClassifier(random_state=101), \n",
        "                   tuned_parameters, scoring='f1', cv=5)\n",
        "rand_forest.fit(features_train, target_train)\n",
        "print(\"Best parameters set found on development set:\")\n",
        "print(rand_forest.best_params_)\n",
        "print()\n",
        "print(\"Grid scores on development set:\")\n",
        "means = rand_forest.cv_results_[\"mean_test_score\"]\n",
        "stds = rand_forest.cv_results_[\"std_test_score\"]\n",
        "for mean, std, params in zip(means, stds, rand_forest.cv_results_[\"params\"]):\n",
        "    print(\"%0.3f (+/-%0.03f) for %r\" % (mean, std * 2, params))\n",
        "print()\n",
        "\n",
        "print(\"Detailed classification report:\")\n",
        "target_pred = rand_forest.predict(features_valid)\n",
        "print(classification_report(target_valid, target_pred))"
      ]
    },
    {
      "cell_type": "markdown",
      "metadata": {
        "id": "SGO8LRkTUPm7"
      },
      "source": [
        "Как видно из итоговой таблицы метрик, полнота меньше 0,5 для класса \"1\". То есть модель слабо предсказывает данный класс. Что в свою очередь уменьшает значение итоговой метрики **F-1**. Посмотрим далее, как она изменится для случая с сбалансированными классами."
      ]
    },
    {
      "cell_type": "markdown",
      "metadata": {
        "id": "s4sgZETmUPm8"
      },
      "source": [
        "Создадим итоговую таблицу с ключевыми метриками и будем ее наполнять по ходу исследования"
      ]
    },
    {
      "cell_type": "code",
      "execution_count": 24,
      "metadata": {
        "id": "aS_GHo0BUPm8"
      },
      "outputs": [],
      "source": [
        "#заново создаем отчет, чтобы иметь вывод в словарь, для простого доступа к содержимому\n",
        "rand_forest_report = classification_report(target_valid, target_pred, output_dict=True)"
      ]
    },
    {
      "cell_type": "code",
      "execution_count": 25,
      "metadata": {
        "id": "Xn8m8WrpUPm8"
      },
      "outputs": [],
      "source": [
        "result_df = pd.DataFrame(columns=['name_ml', 'f1_valid_NB', 'f1_valid_B', 'f1_test_B'])"
      ]
    },
    {
      "cell_type": "code",
      "execution_count": 26,
      "metadata": {
        "id": "mXOwo_L4UPm8"
      },
      "outputs": [],
      "source": [
        "result_df.loc[0]=['RandomForest', round(rand_forest_report['1']['f1-score'], 2), 0, 0]"
      ]
    },
    {
      "cell_type": "code",
      "execution_count": 27,
      "metadata": {
        "id": "coTUmB47UPm-",
        "outputId": "2c51251d-83f1-43ca-ad63-6a28883e5d86",
        "colab": {
          "base_uri": "https://localhost:8080/",
          "height": 81
        }
      },
      "outputs": [
        {
          "output_type": "execute_result",
          "data": {
            "text/plain": [
              "        name_ml  f1_valid_NB f1_valid_B f1_test_B\n",
              "0  RandomForest          0.6          0         0"
            ],
            "text/html": [
              "\n",
              "  <div id=\"df-47b2ea5e-b8f2-4205-8278-a64a7d1ac25d\">\n",
              "    <div class=\"colab-df-container\">\n",
              "      <div>\n",
              "<style scoped>\n",
              "    .dataframe tbody tr th:only-of-type {\n",
              "        vertical-align: middle;\n",
              "    }\n",
              "\n",
              "    .dataframe tbody tr th {\n",
              "        vertical-align: top;\n",
              "    }\n",
              "\n",
              "    .dataframe thead th {\n",
              "        text-align: right;\n",
              "    }\n",
              "</style>\n",
              "<table border=\"1\" class=\"dataframe\">\n",
              "  <thead>\n",
              "    <tr style=\"text-align: right;\">\n",
              "      <th></th>\n",
              "      <th>name_ml</th>\n",
              "      <th>f1_valid_NB</th>\n",
              "      <th>f1_valid_B</th>\n",
              "      <th>f1_test_B</th>\n",
              "    </tr>\n",
              "  </thead>\n",
              "  <tbody>\n",
              "    <tr>\n",
              "      <th>0</th>\n",
              "      <td>RandomForest</td>\n",
              "      <td>0.6</td>\n",
              "      <td>0</td>\n",
              "      <td>0</td>\n",
              "    </tr>\n",
              "  </tbody>\n",
              "</table>\n",
              "</div>\n",
              "      <button class=\"colab-df-convert\" onclick=\"convertToInteractive('df-47b2ea5e-b8f2-4205-8278-a64a7d1ac25d')\"\n",
              "              title=\"Convert this dataframe to an interactive table.\"\n",
              "              style=\"display:none;\">\n",
              "        \n",
              "  <svg xmlns=\"http://www.w3.org/2000/svg\" height=\"24px\"viewBox=\"0 0 24 24\"\n",
              "       width=\"24px\">\n",
              "    <path d=\"M0 0h24v24H0V0z\" fill=\"none\"/>\n",
              "    <path d=\"M18.56 5.44l.94 2.06.94-2.06 2.06-.94-2.06-.94-.94-2.06-.94 2.06-2.06.94zm-11 1L8.5 8.5l.94-2.06 2.06-.94-2.06-.94L8.5 2.5l-.94 2.06-2.06.94zm10 10l.94 2.06.94-2.06 2.06-.94-2.06-.94-.94-2.06-.94 2.06-2.06.94z\"/><path d=\"M17.41 7.96l-1.37-1.37c-.4-.4-.92-.59-1.43-.59-.52 0-1.04.2-1.43.59L10.3 9.45l-7.72 7.72c-.78.78-.78 2.05 0 2.83L4 21.41c.39.39.9.59 1.41.59.51 0 1.02-.2 1.41-.59l7.78-7.78 2.81-2.81c.8-.78.8-2.07 0-2.86zM5.41 20L4 18.59l7.72-7.72 1.47 1.35L5.41 20z\"/>\n",
              "  </svg>\n",
              "      </button>\n",
              "      \n",
              "  <style>\n",
              "    .colab-df-container {\n",
              "      display:flex;\n",
              "      flex-wrap:wrap;\n",
              "      gap: 12px;\n",
              "    }\n",
              "\n",
              "    .colab-df-convert {\n",
              "      background-color: #E8F0FE;\n",
              "      border: none;\n",
              "      border-radius: 50%;\n",
              "      cursor: pointer;\n",
              "      display: none;\n",
              "      fill: #1967D2;\n",
              "      height: 32px;\n",
              "      padding: 0 0 0 0;\n",
              "      width: 32px;\n",
              "    }\n",
              "\n",
              "    .colab-df-convert:hover {\n",
              "      background-color: #E2EBFA;\n",
              "      box-shadow: 0px 1px 2px rgba(60, 64, 67, 0.3), 0px 1px 3px 1px rgba(60, 64, 67, 0.15);\n",
              "      fill: #174EA6;\n",
              "    }\n",
              "\n",
              "    [theme=dark] .colab-df-convert {\n",
              "      background-color: #3B4455;\n",
              "      fill: #D2E3FC;\n",
              "    }\n",
              "\n",
              "    [theme=dark] .colab-df-convert:hover {\n",
              "      background-color: #434B5C;\n",
              "      box-shadow: 0px 1px 3px 1px rgba(0, 0, 0, 0.15);\n",
              "      filter: drop-shadow(0px 1px 2px rgba(0, 0, 0, 0.3));\n",
              "      fill: #FFFFFF;\n",
              "    }\n",
              "  </style>\n",
              "\n",
              "      <script>\n",
              "        const buttonEl =\n",
              "          document.querySelector('#df-47b2ea5e-b8f2-4205-8278-a64a7d1ac25d button.colab-df-convert');\n",
              "        buttonEl.style.display =\n",
              "          google.colab.kernel.accessAllowed ? 'block' : 'none';\n",
              "\n",
              "        async function convertToInteractive(key) {\n",
              "          const element = document.querySelector('#df-47b2ea5e-b8f2-4205-8278-a64a7d1ac25d');\n",
              "          const dataTable =\n",
              "            await google.colab.kernel.invokeFunction('convertToInteractive',\n",
              "                                                     [key], {});\n",
              "          if (!dataTable) return;\n",
              "\n",
              "          const docLinkHtml = 'Like what you see? Visit the ' +\n",
              "            '<a target=\"_blank\" href=https://colab.research.google.com/notebooks/data_table.ipynb>data table notebook</a>'\n",
              "            + ' to learn more about interactive tables.';\n",
              "          element.innerHTML = '';\n",
              "          dataTable['output_type'] = 'display_data';\n",
              "          await google.colab.output.renderOutput(dataTable, element);\n",
              "          const docLink = document.createElement('div');\n",
              "          docLink.innerHTML = docLinkHtml;\n",
              "          element.appendChild(docLink);\n",
              "        }\n",
              "      </script>\n",
              "    </div>\n",
              "  </div>\n",
              "  "
            ]
          },
          "metadata": {},
          "execution_count": 27
        }
      ],
      "source": [
        "result_df"
      ]
    },
    {
      "cell_type": "markdown",
      "metadata": {
        "id": "na6_k6UYUPm_"
      },
      "source": [
        "### SVM"
      ]
    },
    {
      "cell_type": "markdown",
      "metadata": {
        "id": "p0sgpnx-UPm_"
      },
      "source": [
        "Аналогично для подбора лучших параметров воспользуемся **GridSearchCV**"
      ]
    },
    {
      "cell_type": "code",
      "execution_count": 28,
      "metadata": {
        "id": "U5LyqJ6QUPm_",
        "outputId": "3dab0728-d621-4f15-937f-2a008282dd94",
        "colab": {
          "base_uri": "https://localhost:8080/"
        }
      },
      "outputs": [
        {
          "output_type": "stream",
          "name": "stdout",
          "text": [
            "Best parameters set found on development set:\n",
            "{'C': 10.0, 'gamma': 0.1}\n",
            "\n",
            "Grid scores on development set:\n",
            "0.796 (+/-0.001) for {'C': 0.001, 'gamma': 1e-05}\n",
            "0.796 (+/-0.001) for {'C': 0.001, 'gamma': 0.0001}\n",
            "0.796 (+/-0.001) for {'C': 0.001, 'gamma': 0.001}\n",
            "0.796 (+/-0.001) for {'C': 0.001, 'gamma': 0.01}\n",
            "0.796 (+/-0.001) for {'C': 0.001, 'gamma': 0.1}\n",
            "0.796 (+/-0.001) for {'C': 0.001, 'gamma': 1.0}\n",
            "0.796 (+/-0.001) for {'C': 0.001, 'gamma': 10.0}\n",
            "0.796 (+/-0.001) for {'C': 0.001, 'gamma': 100.0}\n",
            "0.796 (+/-0.001) for {'C': 0.01, 'gamma': 1e-05}\n",
            "0.796 (+/-0.001) for {'C': 0.01, 'gamma': 0.0001}\n",
            "0.796 (+/-0.001) for {'C': 0.01, 'gamma': 0.001}\n",
            "0.796 (+/-0.001) for {'C': 0.01, 'gamma': 0.01}\n",
            "0.796 (+/-0.001) for {'C': 0.01, 'gamma': 0.1}\n",
            "0.796 (+/-0.001) for {'C': 0.01, 'gamma': 1.0}\n",
            "0.796 (+/-0.001) for {'C': 0.01, 'gamma': 10.0}\n",
            "0.796 (+/-0.001) for {'C': 0.01, 'gamma': 100.0}\n",
            "0.796 (+/-0.001) for {'C': 0.1, 'gamma': 1e-05}\n",
            "0.796 (+/-0.001) for {'C': 0.1, 'gamma': 0.0001}\n",
            "0.796 (+/-0.001) for {'C': 0.1, 'gamma': 0.001}\n",
            "0.796 (+/-0.001) for {'C': 0.1, 'gamma': 0.01}\n",
            "0.810 (+/-0.008) for {'C': 0.1, 'gamma': 0.1}\n",
            "0.796 (+/-0.001) for {'C': 0.1, 'gamma': 1.0}\n",
            "0.796 (+/-0.001) for {'C': 0.1, 'gamma': 10.0}\n",
            "0.796 (+/-0.001) for {'C': 0.1, 'gamma': 100.0}\n",
            "0.796 (+/-0.001) for {'C': 1.0, 'gamma': 1e-05}\n",
            "0.796 (+/-0.001) for {'C': 1.0, 'gamma': 0.0001}\n",
            "0.796 (+/-0.001) for {'C': 1.0, 'gamma': 0.001}\n",
            "0.813 (+/-0.012) for {'C': 1.0, 'gamma': 0.01}\n",
            "0.854 (+/-0.008) for {'C': 1.0, 'gamma': 0.1}\n",
            "0.825 (+/-0.011) for {'C': 1.0, 'gamma': 1.0}\n",
            "0.796 (+/-0.001) for {'C': 1.0, 'gamma': 10.0}\n",
            "0.796 (+/-0.001) for {'C': 1.0, 'gamma': 100.0}\n",
            "0.796 (+/-0.001) for {'C': 10.0, 'gamma': 1e-05}\n",
            "0.796 (+/-0.001) for {'C': 10.0, 'gamma': 0.0001}\n",
            "0.812 (+/-0.011) for {'C': 10.0, 'gamma': 0.001}\n",
            "0.842 (+/-0.015) for {'C': 10.0, 'gamma': 0.01}\n",
            "0.857 (+/-0.007) for {'C': 10.0, 'gamma': 0.1}\n",
            "0.795 (+/-0.025) for {'C': 10.0, 'gamma': 1.0}\n",
            "0.795 (+/-0.001) for {'C': 10.0, 'gamma': 10.0}\n",
            "0.796 (+/-0.001) for {'C': 10.0, 'gamma': 100.0}\n",
            "0.796 (+/-0.001) for {'C': 100.0, 'gamma': 1e-05}\n",
            "0.812 (+/-0.011) for {'C': 100.0, 'gamma': 0.0001}\n",
            "0.819 (+/-0.011) for {'C': 100.0, 'gamma': 0.001}\n",
            "0.853 (+/-0.008) for {'C': 100.0, 'gamma': 0.01}\n",
            "0.844 (+/-0.010) for {'C': 100.0, 'gamma': 0.1}\n",
            "0.793 (+/-0.027) for {'C': 100.0, 'gamma': 1.0}\n",
            "0.795 (+/-0.001) for {'C': 100.0, 'gamma': 10.0}\n",
            "0.796 (+/-0.001) for {'C': 100.0, 'gamma': 100.0}\n",
            "0.812 (+/-0.011) for {'C': 1000.0, 'gamma': 1e-05}\n",
            "0.819 (+/-0.011) for {'C': 1000.0, 'gamma': 0.0001}\n",
            "0.842 (+/-0.014) for {'C': 1000.0, 'gamma': 0.001}\n",
            "0.855 (+/-0.008) for {'C': 1000.0, 'gamma': 0.01}\n",
            "0.801 (+/-0.023) for {'C': 1000.0, 'gamma': 0.1}\n",
            "0.793 (+/-0.027) for {'C': 1000.0, 'gamma': 1.0}\n",
            "0.795 (+/-0.001) for {'C': 1000.0, 'gamma': 10.0}\n",
            "0.796 (+/-0.001) for {'C': 1000.0, 'gamma': 100.0}\n",
            "\n",
            "Detailed classification report:\n",
            "              precision    recall  f1-score   support\n",
            "\n",
            "           0       0.88      0.97      0.92      1596\n",
            "           1       0.80      0.47      0.59       404\n",
            "\n",
            "    accuracy                           0.87      2000\n",
            "   macro avg       0.84      0.72      0.75      2000\n",
            "weighted avg       0.86      0.87      0.85      2000\n",
            "\n"
          ]
        }
      ],
      "source": [
        "#Время выполнения ячеки около 7-10 минут\n",
        "tuned_parameters = {\"C\": np.logspace(-3, 3, num=7), \n",
        "                    \"gamma\": np.logspace(-5, 2, num=8)}\n",
        "\n",
        "svm = GridSearchCV(SVC(kernel='rbf', random_state=101), \n",
        "                    tuned_parameters, cv=5)\n",
        "svm.fit(features_train, target_train)\n",
        "print(\"Best parameters set found on development set:\")\n",
        "print(svm.best_params_)\n",
        "print()\n",
        "print(\"Grid scores on development set:\")\n",
        "means = svm.cv_results_[\"mean_test_score\"]\n",
        "stds = svm.cv_results_[\"std_test_score\"]\n",
        "for mean, std, params in zip(means, stds, svm.cv_results_[\"params\"]):\n",
        "    print(\"%0.3f (+/-%0.03f) for %r\" % (mean, std * 2, params))\n",
        "print()\n",
        "\n",
        "print(\"Detailed classification report:\")\n",
        "target_pred = svm.predict(features_valid)\n",
        "print(classification_report(target_valid, target_pred))"
      ]
    },
    {
      "cell_type": "markdown",
      "metadata": {
        "id": "CLftqmSKUPm_"
      },
      "source": [
        "Как видно из итоговой таблицы метрик, полнота меньше 0,5 для класса \"1\". То есть модель слабо предсказывает данный класс. Что в свою очередь уменьшает значение итоговой метрики **F-1**. Посмотрим далее, как она изменится для случая с сбалансированными классами. Однако значение метрики уже удовлетворяет условию исследования. Результат занесем в итоговую таблицу"
      ]
    },
    {
      "cell_type": "code",
      "execution_count": 29,
      "metadata": {
        "id": "3ypv-VCTUPnA"
      },
      "outputs": [],
      "source": [
        "#заново создаем отчет, чтобы иметь вывод в словарь, для простого доступа к содержимому\n",
        "svm_report = classification_report(target_valid, target_pred, output_dict=True)"
      ]
    },
    {
      "cell_type": "code",
      "execution_count": 30,
      "metadata": {
        "id": "DwSf2pi-UPnA"
      },
      "outputs": [],
      "source": [
        "result_df.loc[1]=['SVM', round(svm_report['1']['f1-score'], 2), 0, 0]"
      ]
    },
    {
      "cell_type": "code",
      "execution_count": 31,
      "metadata": {
        "scrolled": true,
        "id": "qxTjaJ8BUPnA",
        "outputId": "47c544d3-1016-4969-df6f-e58e50fe3574",
        "colab": {
          "base_uri": "https://localhost:8080/",
          "height": 112
        }
      },
      "outputs": [
        {
          "output_type": "execute_result",
          "data": {
            "text/plain": [
              "        name_ml  f1_valid_NB f1_valid_B f1_test_B\n",
              "0  RandomForest         0.60          0         0\n",
              "1           SVM         0.59          0         0"
            ],
            "text/html": [
              "\n",
              "  <div id=\"df-813a5e3d-dfc2-4332-9a72-2ef570f3a26e\">\n",
              "    <div class=\"colab-df-container\">\n",
              "      <div>\n",
              "<style scoped>\n",
              "    .dataframe tbody tr th:only-of-type {\n",
              "        vertical-align: middle;\n",
              "    }\n",
              "\n",
              "    .dataframe tbody tr th {\n",
              "        vertical-align: top;\n",
              "    }\n",
              "\n",
              "    .dataframe thead th {\n",
              "        text-align: right;\n",
              "    }\n",
              "</style>\n",
              "<table border=\"1\" class=\"dataframe\">\n",
              "  <thead>\n",
              "    <tr style=\"text-align: right;\">\n",
              "      <th></th>\n",
              "      <th>name_ml</th>\n",
              "      <th>f1_valid_NB</th>\n",
              "      <th>f1_valid_B</th>\n",
              "      <th>f1_test_B</th>\n",
              "    </tr>\n",
              "  </thead>\n",
              "  <tbody>\n",
              "    <tr>\n",
              "      <th>0</th>\n",
              "      <td>RandomForest</td>\n",
              "      <td>0.60</td>\n",
              "      <td>0</td>\n",
              "      <td>0</td>\n",
              "    </tr>\n",
              "    <tr>\n",
              "      <th>1</th>\n",
              "      <td>SVM</td>\n",
              "      <td>0.59</td>\n",
              "      <td>0</td>\n",
              "      <td>0</td>\n",
              "    </tr>\n",
              "  </tbody>\n",
              "</table>\n",
              "</div>\n",
              "      <button class=\"colab-df-convert\" onclick=\"convertToInteractive('df-813a5e3d-dfc2-4332-9a72-2ef570f3a26e')\"\n",
              "              title=\"Convert this dataframe to an interactive table.\"\n",
              "              style=\"display:none;\">\n",
              "        \n",
              "  <svg xmlns=\"http://www.w3.org/2000/svg\" height=\"24px\"viewBox=\"0 0 24 24\"\n",
              "       width=\"24px\">\n",
              "    <path d=\"M0 0h24v24H0V0z\" fill=\"none\"/>\n",
              "    <path d=\"M18.56 5.44l.94 2.06.94-2.06 2.06-.94-2.06-.94-.94-2.06-.94 2.06-2.06.94zm-11 1L8.5 8.5l.94-2.06 2.06-.94-2.06-.94L8.5 2.5l-.94 2.06-2.06.94zm10 10l.94 2.06.94-2.06 2.06-.94-2.06-.94-.94-2.06-.94 2.06-2.06.94z\"/><path d=\"M17.41 7.96l-1.37-1.37c-.4-.4-.92-.59-1.43-.59-.52 0-1.04.2-1.43.59L10.3 9.45l-7.72 7.72c-.78.78-.78 2.05 0 2.83L4 21.41c.39.39.9.59 1.41.59.51 0 1.02-.2 1.41-.59l7.78-7.78 2.81-2.81c.8-.78.8-2.07 0-2.86zM5.41 20L4 18.59l7.72-7.72 1.47 1.35L5.41 20z\"/>\n",
              "  </svg>\n",
              "      </button>\n",
              "      \n",
              "  <style>\n",
              "    .colab-df-container {\n",
              "      display:flex;\n",
              "      flex-wrap:wrap;\n",
              "      gap: 12px;\n",
              "    }\n",
              "\n",
              "    .colab-df-convert {\n",
              "      background-color: #E8F0FE;\n",
              "      border: none;\n",
              "      border-radius: 50%;\n",
              "      cursor: pointer;\n",
              "      display: none;\n",
              "      fill: #1967D2;\n",
              "      height: 32px;\n",
              "      padding: 0 0 0 0;\n",
              "      width: 32px;\n",
              "    }\n",
              "\n",
              "    .colab-df-convert:hover {\n",
              "      background-color: #E2EBFA;\n",
              "      box-shadow: 0px 1px 2px rgba(60, 64, 67, 0.3), 0px 1px 3px 1px rgba(60, 64, 67, 0.15);\n",
              "      fill: #174EA6;\n",
              "    }\n",
              "\n",
              "    [theme=dark] .colab-df-convert {\n",
              "      background-color: #3B4455;\n",
              "      fill: #D2E3FC;\n",
              "    }\n",
              "\n",
              "    [theme=dark] .colab-df-convert:hover {\n",
              "      background-color: #434B5C;\n",
              "      box-shadow: 0px 1px 3px 1px rgba(0, 0, 0, 0.15);\n",
              "      filter: drop-shadow(0px 1px 2px rgba(0, 0, 0, 0.3));\n",
              "      fill: #FFFFFF;\n",
              "    }\n",
              "  </style>\n",
              "\n",
              "      <script>\n",
              "        const buttonEl =\n",
              "          document.querySelector('#df-813a5e3d-dfc2-4332-9a72-2ef570f3a26e button.colab-df-convert');\n",
              "        buttonEl.style.display =\n",
              "          google.colab.kernel.accessAllowed ? 'block' : 'none';\n",
              "\n",
              "        async function convertToInteractive(key) {\n",
              "          const element = document.querySelector('#df-813a5e3d-dfc2-4332-9a72-2ef570f3a26e');\n",
              "          const dataTable =\n",
              "            await google.colab.kernel.invokeFunction('convertToInteractive',\n",
              "                                                     [key], {});\n",
              "          if (!dataTable) return;\n",
              "\n",
              "          const docLinkHtml = 'Like what you see? Visit the ' +\n",
              "            '<a target=\"_blank\" href=https://colab.research.google.com/notebooks/data_table.ipynb>data table notebook</a>'\n",
              "            + ' to learn more about interactive tables.';\n",
              "          element.innerHTML = '';\n",
              "          dataTable['output_type'] = 'display_data';\n",
              "          await google.colab.output.renderOutput(dataTable, element);\n",
              "          const docLink = document.createElement('div');\n",
              "          docLink.innerHTML = docLinkHtml;\n",
              "          element.appendChild(docLink);\n",
              "        }\n",
              "      </script>\n",
              "    </div>\n",
              "  </div>\n",
              "  "
            ]
          },
          "metadata": {},
          "execution_count": 31
        }
      ],
      "source": [
        "result_df"
      ]
    },
    {
      "cell_type": "markdown",
      "metadata": {
        "id": "tKTHWGt4UPnA"
      },
      "source": [
        "### CatBoost"
      ]
    },
    {
      "cell_type": "markdown",
      "metadata": {
        "id": "QADsrpKrUPnB"
      },
      "source": [
        "Рассмотрим последний алгоритм"
      ]
    },
    {
      "cell_type": "code",
      "execution_count": 32,
      "metadata": {
        "id": "ZQMj87vvUPnB"
      },
      "outputs": [],
      "source": [
        "cat_data = ['geography_Germany', 'geography_Spain', 'gender_Male',\n",
        "       'num_of_products_2', 'num_of_products_3', 'num_of_products_4',\n",
        "       'has_cr_card_1', 'is_active_member_1']"
      ]
    },
    {
      "cell_type": "code",
      "execution_count": 33,
      "metadata": {
        "colab": {
          "base_uri": "https://localhost:8080/"
        },
        "id": "37ll_thKUPnB",
        "outputId": "37fbcfe4-65d0-42b3-af85-ae061f585348"
      },
      "outputs": [
        {
          "output_type": "stream",
          "name": "stdout",
          "text": [
            "Training on fold [0/5]\n",
            "\n",
            "bestTest = 0.3344414054\n",
            "bestIteration = 54\n",
            "\n",
            "Training on fold [1/5]\n",
            "\n",
            "bestTest = 0.3387912433\n",
            "bestIteration = 27\n",
            "\n",
            "Training on fold [2/5]\n",
            "\n",
            "bestTest = 0.343788843\n",
            "bestIteration = 35\n",
            "\n",
            "Training on fold [3/5]\n",
            "\n",
            "bestTest = 0.3306530227\n",
            "bestIteration = 47\n",
            "\n",
            "Training on fold [4/5]\n",
            "\n",
            "bestTest = 0.3651961864\n",
            "bestIteration = 35\n",
            "\n",
            "Detailed classification report:\n",
            "              precision    recall  f1-score   support\n",
            "\n",
            "           0       0.89      0.96      0.92      1596\n",
            "           1       0.77      0.51      0.61       404\n",
            "\n",
            "    accuracy                           0.87      2000\n",
            "   macro avg       0.83      0.73      0.77      2000\n",
            "weighted avg       0.86      0.87      0.86      2000\n",
            "\n"
          ]
        }
      ],
      "source": [
        "model_cat = CatBoostClassifier(random_seed=101,\n",
        "                               learning_rate=0.15,\n",
        "                               loss_function = 'Logloss',\n",
        "                               silent=True, \n",
        "                               early_stopping_rounds=20)\n",
        "\n",
        "model_cat.fit(features_train, target_train, eval_set=(features_valid, target_valid))\n",
        "\n",
        "params = model_cat.get_params()\n",
        "\n",
        "cv_data = cv(\n",
        "    params=params,\n",
        "    pool=Pool(features_train, target_train, cat_features=cat_data),\n",
        "    fold_count=5, # Разбивка выборки на 5 кусочков\n",
        "    shuffle=True, # Перемешаем данные\n",
        "    partition_random_seed=0,\n",
        "    stratified=True\n",
        ")\n",
        "\n",
        "print(\"Detailed classification report:\")\n",
        "target_pred = model_cat.predict(features_valid)\n",
        "print(classification_report(target_valid, target_pred))"
      ]
    },
    {
      "cell_type": "code",
      "execution_count": 34,
      "metadata": {
        "id": "lcrYL9uQUPnB"
      },
      "outputs": [],
      "source": [
        "#заново создаем отчет, чтобы иметь вывод в словарь, для простого доступа к содержимому\n",
        "cat_report = classification_report(target_valid, target_pred, output_dict=True)"
      ]
    },
    {
      "cell_type": "code",
      "execution_count": 35,
      "metadata": {
        "id": "fsT3dxF_UPnC"
      },
      "outputs": [],
      "source": [
        "result_df.loc[2]=['CatBoost', round(cat_report['1']['f1-score'], 2), 0, 0]"
      ]
    },
    {
      "cell_type": "code",
      "execution_count": 36,
      "metadata": {
        "scrolled": true,
        "id": "tApA9Mi6UPnC",
        "colab": {
          "base_uri": "https://localhost:8080/",
          "height": 143
        },
        "outputId": "8fa8849b-fd6a-456c-9216-9f482bab71c6"
      },
      "outputs": [
        {
          "output_type": "execute_result",
          "data": {
            "text/plain": [
              "        name_ml  f1_valid_NB f1_valid_B f1_test_B\n",
              "0  RandomForest         0.60          0         0\n",
              "1           SVM         0.59          0         0\n",
              "2      CatBoost         0.61          0         0"
            ],
            "text/html": [
              "\n",
              "  <div id=\"df-512da1b3-bd3d-40fc-acb3-11f27f170b02\">\n",
              "    <div class=\"colab-df-container\">\n",
              "      <div>\n",
              "<style scoped>\n",
              "    .dataframe tbody tr th:only-of-type {\n",
              "        vertical-align: middle;\n",
              "    }\n",
              "\n",
              "    .dataframe tbody tr th {\n",
              "        vertical-align: top;\n",
              "    }\n",
              "\n",
              "    .dataframe thead th {\n",
              "        text-align: right;\n",
              "    }\n",
              "</style>\n",
              "<table border=\"1\" class=\"dataframe\">\n",
              "  <thead>\n",
              "    <tr style=\"text-align: right;\">\n",
              "      <th></th>\n",
              "      <th>name_ml</th>\n",
              "      <th>f1_valid_NB</th>\n",
              "      <th>f1_valid_B</th>\n",
              "      <th>f1_test_B</th>\n",
              "    </tr>\n",
              "  </thead>\n",
              "  <tbody>\n",
              "    <tr>\n",
              "      <th>0</th>\n",
              "      <td>RandomForest</td>\n",
              "      <td>0.60</td>\n",
              "      <td>0</td>\n",
              "      <td>0</td>\n",
              "    </tr>\n",
              "    <tr>\n",
              "      <th>1</th>\n",
              "      <td>SVM</td>\n",
              "      <td>0.59</td>\n",
              "      <td>0</td>\n",
              "      <td>0</td>\n",
              "    </tr>\n",
              "    <tr>\n",
              "      <th>2</th>\n",
              "      <td>CatBoost</td>\n",
              "      <td>0.61</td>\n",
              "      <td>0</td>\n",
              "      <td>0</td>\n",
              "    </tr>\n",
              "  </tbody>\n",
              "</table>\n",
              "</div>\n",
              "      <button class=\"colab-df-convert\" onclick=\"convertToInteractive('df-512da1b3-bd3d-40fc-acb3-11f27f170b02')\"\n",
              "              title=\"Convert this dataframe to an interactive table.\"\n",
              "              style=\"display:none;\">\n",
              "        \n",
              "  <svg xmlns=\"http://www.w3.org/2000/svg\" height=\"24px\"viewBox=\"0 0 24 24\"\n",
              "       width=\"24px\">\n",
              "    <path d=\"M0 0h24v24H0V0z\" fill=\"none\"/>\n",
              "    <path d=\"M18.56 5.44l.94 2.06.94-2.06 2.06-.94-2.06-.94-.94-2.06-.94 2.06-2.06.94zm-11 1L8.5 8.5l.94-2.06 2.06-.94-2.06-.94L8.5 2.5l-.94 2.06-2.06.94zm10 10l.94 2.06.94-2.06 2.06-.94-2.06-.94-.94-2.06-.94 2.06-2.06.94z\"/><path d=\"M17.41 7.96l-1.37-1.37c-.4-.4-.92-.59-1.43-.59-.52 0-1.04.2-1.43.59L10.3 9.45l-7.72 7.72c-.78.78-.78 2.05 0 2.83L4 21.41c.39.39.9.59 1.41.59.51 0 1.02-.2 1.41-.59l7.78-7.78 2.81-2.81c.8-.78.8-2.07 0-2.86zM5.41 20L4 18.59l7.72-7.72 1.47 1.35L5.41 20z\"/>\n",
              "  </svg>\n",
              "      </button>\n",
              "      \n",
              "  <style>\n",
              "    .colab-df-container {\n",
              "      display:flex;\n",
              "      flex-wrap:wrap;\n",
              "      gap: 12px;\n",
              "    }\n",
              "\n",
              "    .colab-df-convert {\n",
              "      background-color: #E8F0FE;\n",
              "      border: none;\n",
              "      border-radius: 50%;\n",
              "      cursor: pointer;\n",
              "      display: none;\n",
              "      fill: #1967D2;\n",
              "      height: 32px;\n",
              "      padding: 0 0 0 0;\n",
              "      width: 32px;\n",
              "    }\n",
              "\n",
              "    .colab-df-convert:hover {\n",
              "      background-color: #E2EBFA;\n",
              "      box-shadow: 0px 1px 2px rgba(60, 64, 67, 0.3), 0px 1px 3px 1px rgba(60, 64, 67, 0.15);\n",
              "      fill: #174EA6;\n",
              "    }\n",
              "\n",
              "    [theme=dark] .colab-df-convert {\n",
              "      background-color: #3B4455;\n",
              "      fill: #D2E3FC;\n",
              "    }\n",
              "\n",
              "    [theme=dark] .colab-df-convert:hover {\n",
              "      background-color: #434B5C;\n",
              "      box-shadow: 0px 1px 3px 1px rgba(0, 0, 0, 0.15);\n",
              "      filter: drop-shadow(0px 1px 2px rgba(0, 0, 0, 0.3));\n",
              "      fill: #FFFFFF;\n",
              "    }\n",
              "  </style>\n",
              "\n",
              "      <script>\n",
              "        const buttonEl =\n",
              "          document.querySelector('#df-512da1b3-bd3d-40fc-acb3-11f27f170b02 button.colab-df-convert');\n",
              "        buttonEl.style.display =\n",
              "          google.colab.kernel.accessAllowed ? 'block' : 'none';\n",
              "\n",
              "        async function convertToInteractive(key) {\n",
              "          const element = document.querySelector('#df-512da1b3-bd3d-40fc-acb3-11f27f170b02');\n",
              "          const dataTable =\n",
              "            await google.colab.kernel.invokeFunction('convertToInteractive',\n",
              "                                                     [key], {});\n",
              "          if (!dataTable) return;\n",
              "\n",
              "          const docLinkHtml = 'Like what you see? Visit the ' +\n",
              "            '<a target=\"_blank\" href=https://colab.research.google.com/notebooks/data_table.ipynb>data table notebook</a>'\n",
              "            + ' to learn more about interactive tables.';\n",
              "          element.innerHTML = '';\n",
              "          dataTable['output_type'] = 'display_data';\n",
              "          await google.colab.output.renderOutput(dataTable, element);\n",
              "          const docLink = document.createElement('div');\n",
              "          docLink.innerHTML = docLinkHtml;\n",
              "          element.appendChild(docLink);\n",
              "        }\n",
              "      </script>\n",
              "    </div>\n",
              "  </div>\n",
              "  "
            ]
          },
          "metadata": {},
          "execution_count": 36
        }
      ],
      "source": [
        "result_df"
      ]
    },
    {
      "cell_type": "markdown",
      "metadata": {
        "id": "_dVjyTl0UPnC"
      },
      "source": [
        "### Вывод"
      ]
    },
    {
      "cell_type": "markdown",
      "metadata": {
        "id": "rZPg0NypUPnC"
      },
      "source": [
        "Проверили, как модели предсказывают значение с небалансированными классами, результаты занесли в таблицу. Лучшим, пока является **CatBoost**. В следующем пункте сделаем баланс классов, и посмотрим, как изменится значение **F-1 меры**"
      ]
    },
    {
      "cell_type": "markdown",
      "metadata": {
        "id": "Ph6HvTFUUPnD"
      },
      "source": [
        "## Борьба с дисбалансом"
      ]
    },
    {
      "cell_type": "markdown",
      "metadata": {
        "id": "4K1UerGiUPnE"
      },
      "source": [
        "Отбалансируем классы и сравним с прошлыми значения **F-1**. В ручную сбалансируем классы, путем **upsampling** и **downsampling**, количество отрицательных ответов уменьшим в 2 раза и количество положительных увеличим в 2 раза. Тем самым приведем количество 0 и 1 к примерно равному количеству."
      ]
    },
    {
      "cell_type": "code",
      "execution_count": 37,
      "metadata": {
        "id": "pzWw2FmkUPnE",
        "outputId": "a074a2e4-adb8-43d1-8044-62bccf103e85",
        "colab": {
          "base_uri": "https://localhost:8080/"
        }
      },
      "outputs": [
        {
          "output_type": "execute_result",
          "data": {
            "text/plain": [
              "0    4776\n",
              "1    1224\n",
              "Name: exited, dtype: int64"
            ]
          },
          "metadata": {},
          "execution_count": 37
        }
      ],
      "source": [
        "target_train.value_counts()"
      ]
    },
    {
      "cell_type": "code",
      "execution_count": 38,
      "metadata": {
        "id": "93B_Q8lhUPnF"
      },
      "outputs": [],
      "source": [
        "def updownsample(features, target, up_rate, down_rate):\n",
        "    features_zeros = features[target == 0]\n",
        "    features_ones = features[target == 1]\n",
        "    target_zeros = target[target == 0]\n",
        "    target_ones = target[target == 1]\n",
        "\n",
        "    features_updownsampled = pd.concat([features_zeros.sample(frac=1/down_rate, \n",
        "                                        random_state=101)] + [features_ones] * up_rate)\n",
        "    target_updownsampled = pd.concat([target_zeros.sample(frac=1/down_rate, random_state=101)] \n",
        "                             + [target_ones] * up_rate)\n",
        "    \n",
        "    features_updownsampled, target_updownsampled = shuffle(features_updownsampled, \n",
        "                                                    target_updownsampled, random_state=101)\n",
        "       \n",
        "    return features_updownsampled, target_updownsampled"
      ]
    },
    {
      "cell_type": "code",
      "execution_count": 39,
      "metadata": {
        "id": "zM3e70MeUPnF"
      },
      "outputs": [],
      "source": [
        "features_mixed, target_mixed = updownsample(features_train, target_train, 2, 2)"
      ]
    },
    {
      "cell_type": "markdown",
      "metadata": {
        "id": "TciYC0a1UPnG"
      },
      "source": [
        "Проверка"
      ]
    },
    {
      "cell_type": "code",
      "execution_count": 40,
      "metadata": {
        "id": "n_Q9ZnTEUPnG",
        "outputId": "6060949b-3656-4cc6-b40d-bc0cf8289e48",
        "colab": {
          "base_uri": "https://localhost:8080/"
        }
      },
      "outputs": [
        {
          "output_type": "execute_result",
          "data": {
            "text/plain": [
              "1    2448\n",
              "0    2388\n",
              "Name: exited, dtype: int64"
            ]
          },
          "metadata": {},
          "execution_count": 40
        }
      ],
      "source": [
        "target_mixed.value_counts()"
      ]
    },
    {
      "cell_type": "markdown",
      "metadata": {
        "id": "Sqw-ulfXUPnG"
      },
      "source": [
        "Теперь осталось проверить, как повлияла наша ручная балансировка на изменение метрики **F-1**"
      ]
    },
    {
      "cell_type": "markdown",
      "metadata": {
        "id": "4cOzWyHdUPnH"
      },
      "source": [
        "### RandomForest"
      ]
    },
    {
      "cell_type": "code",
      "execution_count": 41,
      "metadata": {
        "id": "Uy0leku6UPnH",
        "outputId": "04df2faf-8a21-4c10-ce05-c9b5db075872",
        "colab": {
          "base_uri": "https://localhost:8080/"
        }
      },
      "outputs": [
        {
          "output_type": "stream",
          "name": "stdout",
          "text": [
            "Detailed classification report:\n",
            "              precision    recall  f1-score   support\n",
            "\n",
            "           0       0.92      0.83      0.88      1596\n",
            "           1       0.52      0.72      0.61       404\n",
            "\n",
            "    accuracy                           0.81      2000\n",
            "   macro avg       0.72      0.78      0.74      2000\n",
            "weighted avg       0.84      0.81      0.82      2000\n",
            "\n"
          ]
        }
      ],
      "source": [
        "rand_forest.best_estimator_.fit(features_mixed, target_mixed)\n",
        "print(\"Detailed classification report:\")\n",
        "target_pred = rand_forest.predict(features_valid)\n",
        "print(classification_report(target_valid, target_pred))"
      ]
    },
    {
      "cell_type": "code",
      "execution_count": 42,
      "metadata": {
        "id": "43Rr9AQNUPnH"
      },
      "outputs": [],
      "source": [
        "#заново создаем отчет, чтобы иметь вывод в словарь, для простого доступа к содержимому\n",
        "rand_forest_report = classification_report(target_valid, target_pred, output_dict=True)"
      ]
    },
    {
      "cell_type": "code",
      "execution_count": 43,
      "metadata": {
        "id": "zVh-5HGdUPnH"
      },
      "outputs": [],
      "source": [
        "result_df.loc[0, 'f1_valid_B'] = round(rand_forest_report['1']['f1-score'],2)"
      ]
    },
    {
      "cell_type": "code",
      "execution_count": 44,
      "metadata": {
        "id": "mkwJUMnVUPnH",
        "outputId": "2cb317b8-7bcb-48f8-d6cc-b73209f1369a",
        "colab": {
          "base_uri": "https://localhost:8080/",
          "height": 143
        }
      },
      "outputs": [
        {
          "output_type": "execute_result",
          "data": {
            "text/plain": [
              "        name_ml  f1_valid_NB f1_valid_B f1_test_B\n",
              "0  RandomForest         0.60       0.61         0\n",
              "1           SVM         0.59          0         0\n",
              "2      CatBoost         0.61          0         0"
            ],
            "text/html": [
              "\n",
              "  <div id=\"df-c0c07c8f-30a6-4fd2-85cb-b7371e9335f4\">\n",
              "    <div class=\"colab-df-container\">\n",
              "      <div>\n",
              "<style scoped>\n",
              "    .dataframe tbody tr th:only-of-type {\n",
              "        vertical-align: middle;\n",
              "    }\n",
              "\n",
              "    .dataframe tbody tr th {\n",
              "        vertical-align: top;\n",
              "    }\n",
              "\n",
              "    .dataframe thead th {\n",
              "        text-align: right;\n",
              "    }\n",
              "</style>\n",
              "<table border=\"1\" class=\"dataframe\">\n",
              "  <thead>\n",
              "    <tr style=\"text-align: right;\">\n",
              "      <th></th>\n",
              "      <th>name_ml</th>\n",
              "      <th>f1_valid_NB</th>\n",
              "      <th>f1_valid_B</th>\n",
              "      <th>f1_test_B</th>\n",
              "    </tr>\n",
              "  </thead>\n",
              "  <tbody>\n",
              "    <tr>\n",
              "      <th>0</th>\n",
              "      <td>RandomForest</td>\n",
              "      <td>0.60</td>\n",
              "      <td>0.61</td>\n",
              "      <td>0</td>\n",
              "    </tr>\n",
              "    <tr>\n",
              "      <th>1</th>\n",
              "      <td>SVM</td>\n",
              "      <td>0.59</td>\n",
              "      <td>0</td>\n",
              "      <td>0</td>\n",
              "    </tr>\n",
              "    <tr>\n",
              "      <th>2</th>\n",
              "      <td>CatBoost</td>\n",
              "      <td>0.61</td>\n",
              "      <td>0</td>\n",
              "      <td>0</td>\n",
              "    </tr>\n",
              "  </tbody>\n",
              "</table>\n",
              "</div>\n",
              "      <button class=\"colab-df-convert\" onclick=\"convertToInteractive('df-c0c07c8f-30a6-4fd2-85cb-b7371e9335f4')\"\n",
              "              title=\"Convert this dataframe to an interactive table.\"\n",
              "              style=\"display:none;\">\n",
              "        \n",
              "  <svg xmlns=\"http://www.w3.org/2000/svg\" height=\"24px\"viewBox=\"0 0 24 24\"\n",
              "       width=\"24px\">\n",
              "    <path d=\"M0 0h24v24H0V0z\" fill=\"none\"/>\n",
              "    <path d=\"M18.56 5.44l.94 2.06.94-2.06 2.06-.94-2.06-.94-.94-2.06-.94 2.06-2.06.94zm-11 1L8.5 8.5l.94-2.06 2.06-.94-2.06-.94L8.5 2.5l-.94 2.06-2.06.94zm10 10l.94 2.06.94-2.06 2.06-.94-2.06-.94-.94-2.06-.94 2.06-2.06.94z\"/><path d=\"M17.41 7.96l-1.37-1.37c-.4-.4-.92-.59-1.43-.59-.52 0-1.04.2-1.43.59L10.3 9.45l-7.72 7.72c-.78.78-.78 2.05 0 2.83L4 21.41c.39.39.9.59 1.41.59.51 0 1.02-.2 1.41-.59l7.78-7.78 2.81-2.81c.8-.78.8-2.07 0-2.86zM5.41 20L4 18.59l7.72-7.72 1.47 1.35L5.41 20z\"/>\n",
              "  </svg>\n",
              "      </button>\n",
              "      \n",
              "  <style>\n",
              "    .colab-df-container {\n",
              "      display:flex;\n",
              "      flex-wrap:wrap;\n",
              "      gap: 12px;\n",
              "    }\n",
              "\n",
              "    .colab-df-convert {\n",
              "      background-color: #E8F0FE;\n",
              "      border: none;\n",
              "      border-radius: 50%;\n",
              "      cursor: pointer;\n",
              "      display: none;\n",
              "      fill: #1967D2;\n",
              "      height: 32px;\n",
              "      padding: 0 0 0 0;\n",
              "      width: 32px;\n",
              "    }\n",
              "\n",
              "    .colab-df-convert:hover {\n",
              "      background-color: #E2EBFA;\n",
              "      box-shadow: 0px 1px 2px rgba(60, 64, 67, 0.3), 0px 1px 3px 1px rgba(60, 64, 67, 0.15);\n",
              "      fill: #174EA6;\n",
              "    }\n",
              "\n",
              "    [theme=dark] .colab-df-convert {\n",
              "      background-color: #3B4455;\n",
              "      fill: #D2E3FC;\n",
              "    }\n",
              "\n",
              "    [theme=dark] .colab-df-convert:hover {\n",
              "      background-color: #434B5C;\n",
              "      box-shadow: 0px 1px 3px 1px rgba(0, 0, 0, 0.15);\n",
              "      filter: drop-shadow(0px 1px 2px rgba(0, 0, 0, 0.3));\n",
              "      fill: #FFFFFF;\n",
              "    }\n",
              "  </style>\n",
              "\n",
              "      <script>\n",
              "        const buttonEl =\n",
              "          document.querySelector('#df-c0c07c8f-30a6-4fd2-85cb-b7371e9335f4 button.colab-df-convert');\n",
              "        buttonEl.style.display =\n",
              "          google.colab.kernel.accessAllowed ? 'block' : 'none';\n",
              "\n",
              "        async function convertToInteractive(key) {\n",
              "          const element = document.querySelector('#df-c0c07c8f-30a6-4fd2-85cb-b7371e9335f4');\n",
              "          const dataTable =\n",
              "            await google.colab.kernel.invokeFunction('convertToInteractive',\n",
              "                                                     [key], {});\n",
              "          if (!dataTable) return;\n",
              "\n",
              "          const docLinkHtml = 'Like what you see? Visit the ' +\n",
              "            '<a target=\"_blank\" href=https://colab.research.google.com/notebooks/data_table.ipynb>data table notebook</a>'\n",
              "            + ' to learn more about interactive tables.';\n",
              "          element.innerHTML = '';\n",
              "          dataTable['output_type'] = 'display_data';\n",
              "          await google.colab.output.renderOutput(dataTable, element);\n",
              "          const docLink = document.createElement('div');\n",
              "          docLink.innerHTML = docLinkHtml;\n",
              "          element.appendChild(docLink);\n",
              "        }\n",
              "      </script>\n",
              "    </div>\n",
              "  </div>\n",
              "  "
            ]
          },
          "metadata": {},
          "execution_count": 44
        }
      ],
      "source": [
        "result_df"
      ]
    },
    {
      "cell_type": "markdown",
      "metadata": {
        "id": "Rn63EvFkUPnI"
      },
      "source": [
        "После балансировки значение метрики улучшилось на 0,01."
      ]
    },
    {
      "cell_type": "markdown",
      "metadata": {
        "id": "b8fa__eEUPnI"
      },
      "source": [
        "### SVM"
      ]
    },
    {
      "cell_type": "code",
      "execution_count": 45,
      "metadata": {
        "id": "jAy6PTdsUPnK",
        "outputId": "df8c6e95-d135-4ac9-9e5f-b57bf1928089",
        "colab": {
          "base_uri": "https://localhost:8080/"
        }
      },
      "outputs": [
        {
          "output_type": "stream",
          "name": "stdout",
          "text": [
            "Detailed classification report:\n",
            "              precision    recall  f1-score   support\n",
            "\n",
            "           0       0.93      0.78      0.85      1596\n",
            "           1       0.46      0.77      0.58       404\n",
            "\n",
            "    accuracy                           0.77      2000\n",
            "   macro avg       0.70      0.77      0.71      2000\n",
            "weighted avg       0.84      0.77      0.79      2000\n",
            "\n"
          ]
        }
      ],
      "source": [
        "svm.best_estimator_.fit(features_mixed, target_mixed)\n",
        "print(\"Detailed classification report:\")\n",
        "target_pred = svm.predict(features_valid)\n",
        "print(classification_report(target_valid, target_pred))"
      ]
    },
    {
      "cell_type": "code",
      "execution_count": 46,
      "metadata": {
        "id": "BOtwWBkTUPnL"
      },
      "outputs": [],
      "source": [
        "#заново создаем отчет, чтобы иметь вывод в словарь, для простого доступа к содержимому\n",
        "svm_report = classification_report(target_valid, target_pred, output_dict=True)"
      ]
    },
    {
      "cell_type": "code",
      "execution_count": 47,
      "metadata": {
        "id": "Mj7m0pnmUPnL"
      },
      "outputs": [],
      "source": [
        "result_df.loc[1, 'f1_valid_B'] = round(svm_report['1']['f1-score'],2)"
      ]
    },
    {
      "cell_type": "code",
      "execution_count": 48,
      "metadata": {
        "id": "tWWosfZCUPnL",
        "outputId": "70acc319-22d8-4180-fb32-3abd52ddd6d0",
        "colab": {
          "base_uri": "https://localhost:8080/",
          "height": 143
        }
      },
      "outputs": [
        {
          "output_type": "execute_result",
          "data": {
            "text/plain": [
              "        name_ml  f1_valid_NB f1_valid_B f1_test_B\n",
              "0  RandomForest         0.60       0.61         0\n",
              "1           SVM         0.59       0.58         0\n",
              "2      CatBoost         0.61          0         0"
            ],
            "text/html": [
              "\n",
              "  <div id=\"df-4ac0e1d7-df78-4460-994b-30ec3a5c9ee2\">\n",
              "    <div class=\"colab-df-container\">\n",
              "      <div>\n",
              "<style scoped>\n",
              "    .dataframe tbody tr th:only-of-type {\n",
              "        vertical-align: middle;\n",
              "    }\n",
              "\n",
              "    .dataframe tbody tr th {\n",
              "        vertical-align: top;\n",
              "    }\n",
              "\n",
              "    .dataframe thead th {\n",
              "        text-align: right;\n",
              "    }\n",
              "</style>\n",
              "<table border=\"1\" class=\"dataframe\">\n",
              "  <thead>\n",
              "    <tr style=\"text-align: right;\">\n",
              "      <th></th>\n",
              "      <th>name_ml</th>\n",
              "      <th>f1_valid_NB</th>\n",
              "      <th>f1_valid_B</th>\n",
              "      <th>f1_test_B</th>\n",
              "    </tr>\n",
              "  </thead>\n",
              "  <tbody>\n",
              "    <tr>\n",
              "      <th>0</th>\n",
              "      <td>RandomForest</td>\n",
              "      <td>0.60</td>\n",
              "      <td>0.61</td>\n",
              "      <td>0</td>\n",
              "    </tr>\n",
              "    <tr>\n",
              "      <th>1</th>\n",
              "      <td>SVM</td>\n",
              "      <td>0.59</td>\n",
              "      <td>0.58</td>\n",
              "      <td>0</td>\n",
              "    </tr>\n",
              "    <tr>\n",
              "      <th>2</th>\n",
              "      <td>CatBoost</td>\n",
              "      <td>0.61</td>\n",
              "      <td>0</td>\n",
              "      <td>0</td>\n",
              "    </tr>\n",
              "  </tbody>\n",
              "</table>\n",
              "</div>\n",
              "      <button class=\"colab-df-convert\" onclick=\"convertToInteractive('df-4ac0e1d7-df78-4460-994b-30ec3a5c9ee2')\"\n",
              "              title=\"Convert this dataframe to an interactive table.\"\n",
              "              style=\"display:none;\">\n",
              "        \n",
              "  <svg xmlns=\"http://www.w3.org/2000/svg\" height=\"24px\"viewBox=\"0 0 24 24\"\n",
              "       width=\"24px\">\n",
              "    <path d=\"M0 0h24v24H0V0z\" fill=\"none\"/>\n",
              "    <path d=\"M18.56 5.44l.94 2.06.94-2.06 2.06-.94-2.06-.94-.94-2.06-.94 2.06-2.06.94zm-11 1L8.5 8.5l.94-2.06 2.06-.94-2.06-.94L8.5 2.5l-.94 2.06-2.06.94zm10 10l.94 2.06.94-2.06 2.06-.94-2.06-.94-.94-2.06-.94 2.06-2.06.94z\"/><path d=\"M17.41 7.96l-1.37-1.37c-.4-.4-.92-.59-1.43-.59-.52 0-1.04.2-1.43.59L10.3 9.45l-7.72 7.72c-.78.78-.78 2.05 0 2.83L4 21.41c.39.39.9.59 1.41.59.51 0 1.02-.2 1.41-.59l7.78-7.78 2.81-2.81c.8-.78.8-2.07 0-2.86zM5.41 20L4 18.59l7.72-7.72 1.47 1.35L5.41 20z\"/>\n",
              "  </svg>\n",
              "      </button>\n",
              "      \n",
              "  <style>\n",
              "    .colab-df-container {\n",
              "      display:flex;\n",
              "      flex-wrap:wrap;\n",
              "      gap: 12px;\n",
              "    }\n",
              "\n",
              "    .colab-df-convert {\n",
              "      background-color: #E8F0FE;\n",
              "      border: none;\n",
              "      border-radius: 50%;\n",
              "      cursor: pointer;\n",
              "      display: none;\n",
              "      fill: #1967D2;\n",
              "      height: 32px;\n",
              "      padding: 0 0 0 0;\n",
              "      width: 32px;\n",
              "    }\n",
              "\n",
              "    .colab-df-convert:hover {\n",
              "      background-color: #E2EBFA;\n",
              "      box-shadow: 0px 1px 2px rgba(60, 64, 67, 0.3), 0px 1px 3px 1px rgba(60, 64, 67, 0.15);\n",
              "      fill: #174EA6;\n",
              "    }\n",
              "\n",
              "    [theme=dark] .colab-df-convert {\n",
              "      background-color: #3B4455;\n",
              "      fill: #D2E3FC;\n",
              "    }\n",
              "\n",
              "    [theme=dark] .colab-df-convert:hover {\n",
              "      background-color: #434B5C;\n",
              "      box-shadow: 0px 1px 3px 1px rgba(0, 0, 0, 0.15);\n",
              "      filter: drop-shadow(0px 1px 2px rgba(0, 0, 0, 0.3));\n",
              "      fill: #FFFFFF;\n",
              "    }\n",
              "  </style>\n",
              "\n",
              "      <script>\n",
              "        const buttonEl =\n",
              "          document.querySelector('#df-4ac0e1d7-df78-4460-994b-30ec3a5c9ee2 button.colab-df-convert');\n",
              "        buttonEl.style.display =\n",
              "          google.colab.kernel.accessAllowed ? 'block' : 'none';\n",
              "\n",
              "        async function convertToInteractive(key) {\n",
              "          const element = document.querySelector('#df-4ac0e1d7-df78-4460-994b-30ec3a5c9ee2');\n",
              "          const dataTable =\n",
              "            await google.colab.kernel.invokeFunction('convertToInteractive',\n",
              "                                                     [key], {});\n",
              "          if (!dataTable) return;\n",
              "\n",
              "          const docLinkHtml = 'Like what you see? Visit the ' +\n",
              "            '<a target=\"_blank\" href=https://colab.research.google.com/notebooks/data_table.ipynb>data table notebook</a>'\n",
              "            + ' to learn more about interactive tables.';\n",
              "          element.innerHTML = '';\n",
              "          dataTable['output_type'] = 'display_data';\n",
              "          await google.colab.output.renderOutput(dataTable, element);\n",
              "          const docLink = document.createElement('div');\n",
              "          docLink.innerHTML = docLinkHtml;\n",
              "          element.appendChild(docLink);\n",
              "        }\n",
              "      </script>\n",
              "    </div>\n",
              "  </div>\n",
              "  "
            ]
          },
          "metadata": {},
          "execution_count": 48
        }
      ],
      "source": [
        "result_df"
      ]
    },
    {
      "cell_type": "markdown",
      "metadata": {
        "id": "qnjKm6NvUPnM"
      },
      "source": [
        "После балансировки значение метрики ухудшилось на 0,01."
      ]
    },
    {
      "cell_type": "markdown",
      "metadata": {
        "id": "FVZevW3NUPnM"
      },
      "source": [
        "### Catboost"
      ]
    },
    {
      "cell_type": "code",
      "execution_count": 49,
      "metadata": {
        "id": "-4bW2JGZUPnM",
        "outputId": "3f5c21a6-2dc3-4e31-ea56-4e82e31d56b1",
        "colab": {
          "base_uri": "https://localhost:8080/"
        }
      },
      "outputs": [
        {
          "output_type": "stream",
          "name": "stdout",
          "text": [
            "Detailed classification report:\n",
            "              precision    recall  f1-score   support\n",
            "\n",
            "           0       0.93      0.81      0.86      1596\n",
            "           1       0.50      0.77      0.61       404\n",
            "\n",
            "    accuracy                           0.80      2000\n",
            "   macro avg       0.72      0.79      0.74      2000\n",
            "weighted avg       0.85      0.80      0.81      2000\n",
            "\n"
          ]
        }
      ],
      "source": [
        "model_cat.fit(features_mixed, target_mixed, eval_set=(features_valid, target_valid))\n",
        "print(\"Detailed classification report:\")\n",
        "target_pred = model_cat.predict(features_valid)\n",
        "print(classification_report(target_valid, target_pred))"
      ]
    },
    {
      "cell_type": "code",
      "execution_count": 50,
      "metadata": {
        "id": "HMjqAxQ0UPnM"
      },
      "outputs": [],
      "source": [
        "#заново создаем отчет, чтобы иметь вывод в словарь, для простого доступа к содержимому\n",
        "cat_report = classification_report(target_valid, target_pred, output_dict=True)"
      ]
    },
    {
      "cell_type": "code",
      "execution_count": 51,
      "metadata": {
        "id": "07QawNpjUPnN"
      },
      "outputs": [],
      "source": [
        "result_df.loc[2, 'f1_valid_B'] = round(cat_report['1']['f1-score'],2)"
      ]
    },
    {
      "cell_type": "code",
      "execution_count": 52,
      "metadata": {
        "id": "eHeV-cmNUPnN",
        "outputId": "de6f031a-2702-4b84-d907-854b5e2e247a",
        "colab": {
          "base_uri": "https://localhost:8080/",
          "height": 143
        }
      },
      "outputs": [
        {
          "output_type": "execute_result",
          "data": {
            "text/plain": [
              "        name_ml  f1_valid_NB f1_valid_B f1_test_B\n",
              "0  RandomForest         0.60       0.61         0\n",
              "1           SVM         0.59       0.58         0\n",
              "2      CatBoost         0.61       0.61         0"
            ],
            "text/html": [
              "\n",
              "  <div id=\"df-879894b6-922b-439e-a0b1-4e7e1c2be40a\">\n",
              "    <div class=\"colab-df-container\">\n",
              "      <div>\n",
              "<style scoped>\n",
              "    .dataframe tbody tr th:only-of-type {\n",
              "        vertical-align: middle;\n",
              "    }\n",
              "\n",
              "    .dataframe tbody tr th {\n",
              "        vertical-align: top;\n",
              "    }\n",
              "\n",
              "    .dataframe thead th {\n",
              "        text-align: right;\n",
              "    }\n",
              "</style>\n",
              "<table border=\"1\" class=\"dataframe\">\n",
              "  <thead>\n",
              "    <tr style=\"text-align: right;\">\n",
              "      <th></th>\n",
              "      <th>name_ml</th>\n",
              "      <th>f1_valid_NB</th>\n",
              "      <th>f1_valid_B</th>\n",
              "      <th>f1_test_B</th>\n",
              "    </tr>\n",
              "  </thead>\n",
              "  <tbody>\n",
              "    <tr>\n",
              "      <th>0</th>\n",
              "      <td>RandomForest</td>\n",
              "      <td>0.60</td>\n",
              "      <td>0.61</td>\n",
              "      <td>0</td>\n",
              "    </tr>\n",
              "    <tr>\n",
              "      <th>1</th>\n",
              "      <td>SVM</td>\n",
              "      <td>0.59</td>\n",
              "      <td>0.58</td>\n",
              "      <td>0</td>\n",
              "    </tr>\n",
              "    <tr>\n",
              "      <th>2</th>\n",
              "      <td>CatBoost</td>\n",
              "      <td>0.61</td>\n",
              "      <td>0.61</td>\n",
              "      <td>0</td>\n",
              "    </tr>\n",
              "  </tbody>\n",
              "</table>\n",
              "</div>\n",
              "      <button class=\"colab-df-convert\" onclick=\"convertToInteractive('df-879894b6-922b-439e-a0b1-4e7e1c2be40a')\"\n",
              "              title=\"Convert this dataframe to an interactive table.\"\n",
              "              style=\"display:none;\">\n",
              "        \n",
              "  <svg xmlns=\"http://www.w3.org/2000/svg\" height=\"24px\"viewBox=\"0 0 24 24\"\n",
              "       width=\"24px\">\n",
              "    <path d=\"M0 0h24v24H0V0z\" fill=\"none\"/>\n",
              "    <path d=\"M18.56 5.44l.94 2.06.94-2.06 2.06-.94-2.06-.94-.94-2.06-.94 2.06-2.06.94zm-11 1L8.5 8.5l.94-2.06 2.06-.94-2.06-.94L8.5 2.5l-.94 2.06-2.06.94zm10 10l.94 2.06.94-2.06 2.06-.94-2.06-.94-.94-2.06-.94 2.06-2.06.94z\"/><path d=\"M17.41 7.96l-1.37-1.37c-.4-.4-.92-.59-1.43-.59-.52 0-1.04.2-1.43.59L10.3 9.45l-7.72 7.72c-.78.78-.78 2.05 0 2.83L4 21.41c.39.39.9.59 1.41.59.51 0 1.02-.2 1.41-.59l7.78-7.78 2.81-2.81c.8-.78.8-2.07 0-2.86zM5.41 20L4 18.59l7.72-7.72 1.47 1.35L5.41 20z\"/>\n",
              "  </svg>\n",
              "      </button>\n",
              "      \n",
              "  <style>\n",
              "    .colab-df-container {\n",
              "      display:flex;\n",
              "      flex-wrap:wrap;\n",
              "      gap: 12px;\n",
              "    }\n",
              "\n",
              "    .colab-df-convert {\n",
              "      background-color: #E8F0FE;\n",
              "      border: none;\n",
              "      border-radius: 50%;\n",
              "      cursor: pointer;\n",
              "      display: none;\n",
              "      fill: #1967D2;\n",
              "      height: 32px;\n",
              "      padding: 0 0 0 0;\n",
              "      width: 32px;\n",
              "    }\n",
              "\n",
              "    .colab-df-convert:hover {\n",
              "      background-color: #E2EBFA;\n",
              "      box-shadow: 0px 1px 2px rgba(60, 64, 67, 0.3), 0px 1px 3px 1px rgba(60, 64, 67, 0.15);\n",
              "      fill: #174EA6;\n",
              "    }\n",
              "\n",
              "    [theme=dark] .colab-df-convert {\n",
              "      background-color: #3B4455;\n",
              "      fill: #D2E3FC;\n",
              "    }\n",
              "\n",
              "    [theme=dark] .colab-df-convert:hover {\n",
              "      background-color: #434B5C;\n",
              "      box-shadow: 0px 1px 3px 1px rgba(0, 0, 0, 0.15);\n",
              "      filter: drop-shadow(0px 1px 2px rgba(0, 0, 0, 0.3));\n",
              "      fill: #FFFFFF;\n",
              "    }\n",
              "  </style>\n",
              "\n",
              "      <script>\n",
              "        const buttonEl =\n",
              "          document.querySelector('#df-879894b6-922b-439e-a0b1-4e7e1c2be40a button.colab-df-convert');\n",
              "        buttonEl.style.display =\n",
              "          google.colab.kernel.accessAllowed ? 'block' : 'none';\n",
              "\n",
              "        async function convertToInteractive(key) {\n",
              "          const element = document.querySelector('#df-879894b6-922b-439e-a0b1-4e7e1c2be40a');\n",
              "          const dataTable =\n",
              "            await google.colab.kernel.invokeFunction('convertToInteractive',\n",
              "                                                     [key], {});\n",
              "          if (!dataTable) return;\n",
              "\n",
              "          const docLinkHtml = 'Like what you see? Visit the ' +\n",
              "            '<a target=\"_blank\" href=https://colab.research.google.com/notebooks/data_table.ipynb>data table notebook</a>'\n",
              "            + ' to learn more about interactive tables.';\n",
              "          element.innerHTML = '';\n",
              "          dataTable['output_type'] = 'display_data';\n",
              "          await google.colab.output.renderOutput(dataTable, element);\n",
              "          const docLink = document.createElement('div');\n",
              "          docLink.innerHTML = docLinkHtml;\n",
              "          element.appendChild(docLink);\n",
              "        }\n",
              "      </script>\n",
              "    </div>\n",
              "  </div>\n",
              "  "
            ]
          },
          "metadata": {},
          "execution_count": 52
        }
      ],
      "source": [
        "result_df"
      ]
    },
    {
      "cell_type": "markdown",
      "metadata": {
        "id": "vg2hIF8pUPnN"
      },
      "source": [
        "После балансировки значение метрики не изменилось."
      ]
    },
    {
      "cell_type": "markdown",
      "metadata": {
        "id": "ILTVXAtSUPnN"
      },
      "source": [
        "### Вывод"
      ]
    },
    {
      "cell_type": "markdown",
      "metadata": {
        "id": "Hw_1zMgqUPnN"
      },
      "source": [
        "Отбалансировали классы путем изменения количественного состава. Обучили модели на новых сбалансированных данных. Значения метрики **F-1** улучшилось только для Случайного Леса, для остальных алгоритмов результаты балансировки привели к ухудшению или неизменности меры **F-1**. Проверим, как ведут себя наши модели на тестовой выборке."
      ]
    },
    {
      "cell_type": "markdown",
      "metadata": {
        "id": "YlK6mrCwUPnO"
      },
      "source": [
        "## Тестирование модели"
      ]
    },
    {
      "cell_type": "markdown",
      "metadata": {
        "id": "awMaDYCNUPnO"
      },
      "source": [
        "### RandomForest"
      ]
    },
    {
      "cell_type": "markdown",
      "metadata": {
        "id": "KXLZUKoCUPnO"
      },
      "source": [
        "Проверим как наша модель справится с тестовой выборкой."
      ]
    },
    {
      "cell_type": "code",
      "execution_count": 53,
      "metadata": {
        "id": "JjAZAG2zUPnO",
        "outputId": "f66fab59-a12a-411c-b25f-9b9e100e38aa",
        "colab": {
          "base_uri": "https://localhost:8080/"
        }
      },
      "outputs": [
        {
          "output_type": "stream",
          "name": "stdout",
          "text": [
            "Detailed classification report:\n",
            "              precision    recall  f1-score   support\n",
            "\n",
            "           0       0.92      0.84      0.88      1591\n",
            "           1       0.54      0.73      0.62       409\n",
            "\n",
            "    accuracy                           0.82      2000\n",
            "   macro avg       0.73      0.79      0.75      2000\n",
            "weighted avg       0.85      0.82      0.83      2000\n",
            "\n"
          ]
        }
      ],
      "source": [
        "print(\"Detailed classification report:\")\n",
        "target_pred = rand_forest.predict(features_test)\n",
        "print(classification_report(target_test, target_pred))"
      ]
    },
    {
      "cell_type": "markdown",
      "metadata": {
        "id": "7RzQ-s4uUPnP"
      },
      "source": [
        "Отличный результат, модель на не знакомых данных улучшила свою метрику."
      ]
    },
    {
      "cell_type": "code",
      "execution_count": 54,
      "metadata": {
        "id": "Qd3Igs2_UPnP"
      },
      "outputs": [],
      "source": [
        "#заново создаем отчет, чтобы иметь вывод в словарь, для простого доступа к содержимому\n",
        "rand_forest_report = classification_report(target_test, target_pred, output_dict=True)"
      ]
    },
    {
      "cell_type": "code",
      "execution_count": 55,
      "metadata": {
        "id": "jidXbj5TUPnP"
      },
      "outputs": [],
      "source": [
        "result_df.loc[0, 'f1_test_B'] = round(rand_forest_report['1']['f1-score'],2)"
      ]
    },
    {
      "cell_type": "code",
      "execution_count": 56,
      "metadata": {
        "id": "UuOiuVqcUPnQ",
        "outputId": "8fae1f35-0f77-457f-d66f-cf56559ac51f",
        "colab": {
          "base_uri": "https://localhost:8080/",
          "height": 143
        }
      },
      "outputs": [
        {
          "output_type": "execute_result",
          "data": {
            "text/plain": [
              "        name_ml  f1_valid_NB f1_valid_B f1_test_B\n",
              "0  RandomForest         0.60       0.61      0.62\n",
              "1           SVM         0.59       0.58         0\n",
              "2      CatBoost         0.61       0.61         0"
            ],
            "text/html": [
              "\n",
              "  <div id=\"df-8fb42836-fde4-4179-9d05-84d7ccdfcb17\">\n",
              "    <div class=\"colab-df-container\">\n",
              "      <div>\n",
              "<style scoped>\n",
              "    .dataframe tbody tr th:only-of-type {\n",
              "        vertical-align: middle;\n",
              "    }\n",
              "\n",
              "    .dataframe tbody tr th {\n",
              "        vertical-align: top;\n",
              "    }\n",
              "\n",
              "    .dataframe thead th {\n",
              "        text-align: right;\n",
              "    }\n",
              "</style>\n",
              "<table border=\"1\" class=\"dataframe\">\n",
              "  <thead>\n",
              "    <tr style=\"text-align: right;\">\n",
              "      <th></th>\n",
              "      <th>name_ml</th>\n",
              "      <th>f1_valid_NB</th>\n",
              "      <th>f1_valid_B</th>\n",
              "      <th>f1_test_B</th>\n",
              "    </tr>\n",
              "  </thead>\n",
              "  <tbody>\n",
              "    <tr>\n",
              "      <th>0</th>\n",
              "      <td>RandomForest</td>\n",
              "      <td>0.60</td>\n",
              "      <td>0.61</td>\n",
              "      <td>0.62</td>\n",
              "    </tr>\n",
              "    <tr>\n",
              "      <th>1</th>\n",
              "      <td>SVM</td>\n",
              "      <td>0.59</td>\n",
              "      <td>0.58</td>\n",
              "      <td>0</td>\n",
              "    </tr>\n",
              "    <tr>\n",
              "      <th>2</th>\n",
              "      <td>CatBoost</td>\n",
              "      <td>0.61</td>\n",
              "      <td>0.61</td>\n",
              "      <td>0</td>\n",
              "    </tr>\n",
              "  </tbody>\n",
              "</table>\n",
              "</div>\n",
              "      <button class=\"colab-df-convert\" onclick=\"convertToInteractive('df-8fb42836-fde4-4179-9d05-84d7ccdfcb17')\"\n",
              "              title=\"Convert this dataframe to an interactive table.\"\n",
              "              style=\"display:none;\">\n",
              "        \n",
              "  <svg xmlns=\"http://www.w3.org/2000/svg\" height=\"24px\"viewBox=\"0 0 24 24\"\n",
              "       width=\"24px\">\n",
              "    <path d=\"M0 0h24v24H0V0z\" fill=\"none\"/>\n",
              "    <path d=\"M18.56 5.44l.94 2.06.94-2.06 2.06-.94-2.06-.94-.94-2.06-.94 2.06-2.06.94zm-11 1L8.5 8.5l.94-2.06 2.06-.94-2.06-.94L8.5 2.5l-.94 2.06-2.06.94zm10 10l.94 2.06.94-2.06 2.06-.94-2.06-.94-.94-2.06-.94 2.06-2.06.94z\"/><path d=\"M17.41 7.96l-1.37-1.37c-.4-.4-.92-.59-1.43-.59-.52 0-1.04.2-1.43.59L10.3 9.45l-7.72 7.72c-.78.78-.78 2.05 0 2.83L4 21.41c.39.39.9.59 1.41.59.51 0 1.02-.2 1.41-.59l7.78-7.78 2.81-2.81c.8-.78.8-2.07 0-2.86zM5.41 20L4 18.59l7.72-7.72 1.47 1.35L5.41 20z\"/>\n",
              "  </svg>\n",
              "      </button>\n",
              "      \n",
              "  <style>\n",
              "    .colab-df-container {\n",
              "      display:flex;\n",
              "      flex-wrap:wrap;\n",
              "      gap: 12px;\n",
              "    }\n",
              "\n",
              "    .colab-df-convert {\n",
              "      background-color: #E8F0FE;\n",
              "      border: none;\n",
              "      border-radius: 50%;\n",
              "      cursor: pointer;\n",
              "      display: none;\n",
              "      fill: #1967D2;\n",
              "      height: 32px;\n",
              "      padding: 0 0 0 0;\n",
              "      width: 32px;\n",
              "    }\n",
              "\n",
              "    .colab-df-convert:hover {\n",
              "      background-color: #E2EBFA;\n",
              "      box-shadow: 0px 1px 2px rgba(60, 64, 67, 0.3), 0px 1px 3px 1px rgba(60, 64, 67, 0.15);\n",
              "      fill: #174EA6;\n",
              "    }\n",
              "\n",
              "    [theme=dark] .colab-df-convert {\n",
              "      background-color: #3B4455;\n",
              "      fill: #D2E3FC;\n",
              "    }\n",
              "\n",
              "    [theme=dark] .colab-df-convert:hover {\n",
              "      background-color: #434B5C;\n",
              "      box-shadow: 0px 1px 3px 1px rgba(0, 0, 0, 0.15);\n",
              "      filter: drop-shadow(0px 1px 2px rgba(0, 0, 0, 0.3));\n",
              "      fill: #FFFFFF;\n",
              "    }\n",
              "  </style>\n",
              "\n",
              "      <script>\n",
              "        const buttonEl =\n",
              "          document.querySelector('#df-8fb42836-fde4-4179-9d05-84d7ccdfcb17 button.colab-df-convert');\n",
              "        buttonEl.style.display =\n",
              "          google.colab.kernel.accessAllowed ? 'block' : 'none';\n",
              "\n",
              "        async function convertToInteractive(key) {\n",
              "          const element = document.querySelector('#df-8fb42836-fde4-4179-9d05-84d7ccdfcb17');\n",
              "          const dataTable =\n",
              "            await google.colab.kernel.invokeFunction('convertToInteractive',\n",
              "                                                     [key], {});\n",
              "          if (!dataTable) return;\n",
              "\n",
              "          const docLinkHtml = 'Like what you see? Visit the ' +\n",
              "            '<a target=\"_blank\" href=https://colab.research.google.com/notebooks/data_table.ipynb>data table notebook</a>'\n",
              "            + ' to learn more about interactive tables.';\n",
              "          element.innerHTML = '';\n",
              "          dataTable['output_type'] = 'display_data';\n",
              "          await google.colab.output.renderOutput(dataTable, element);\n",
              "          const docLink = document.createElement('div');\n",
              "          docLink.innerHTML = docLinkHtml;\n",
              "          element.appendChild(docLink);\n",
              "        }\n",
              "      </script>\n",
              "    </div>\n",
              "  </div>\n",
              "  "
            ]
          },
          "metadata": {},
          "execution_count": 56
        }
      ],
      "source": [
        "result_df"
      ]
    },
    {
      "cell_type": "markdown",
      "metadata": {
        "id": "WQV2LZoWUPnQ"
      },
      "source": [
        "Дополнительно построим и посчитаем **AUC-ROC**"
      ]
    },
    {
      "cell_type": "code",
      "execution_count": 57,
      "metadata": {
        "scrolled": false,
        "id": "GtD3S73eUPnQ",
        "outputId": "9533edef-02b7-48f1-a2fc-711d341ebd63",
        "colab": {
          "base_uri": "https://localhost:8080/",
          "height": 330
        }
      },
      "outputs": [
        {
          "output_type": "display_data",
          "data": {
            "text/plain": [
              "<Figure size 432x288 with 1 Axes>"
            ],
            "image/png": "[encoded data removed]"
          },
          "metadata": {
            "needs_background": "light"
          }
        },
        {
          "output_type": "stream",
          "name": "stdout",
          "text": [
            "\n",
            "Площадь под ROC-кривой, AUC-ROC = 0.864382321708756\n"
          ]
        }
      ],
      "source": [
        "probabilities_test = rand_forest.best_estimator_.predict_proba(features_test)\n",
        "probabilities_one_test = probabilities_test[:, 1]\n",
        "\n",
        "fpr, tpr, thresholds = roc_curve(target_test, probabilities_one_test)\n",
        "\n",
        "plt.figure()\n",
        "\n",
        "plt.plot(fpr, tpr)\n",
        "plt.xlim([0.0, 1.0])\n",
        "plt.ylim([0.0, 1.0])\n",
        "plt.xlabel('False Positive Rate')\n",
        "plt.ylabel('True Positive Rate')\n",
        "plt.title('ROC-кривая')\n",
        "\n",
        "# ROC-кривая случайной модели (выглядит как прямая)\n",
        "plt.plot([0, 1], [0, 1], linestyle='--')\n",
        "\n",
        "plt.show()\n",
        "\n",
        "print()\n",
        "auc_roc = roc_auc_score(target_test, probabilities_one_test)\n",
        "print('Площадь под ROC-кривой, AUC-ROC =', auc_roc)"
      ]
    },
    {
      "cell_type": "markdown",
      "metadata": {
        "id": "mdaTpDSaUPnQ"
      },
      "source": [
        "### SVM"
      ]
    },
    {
      "cell_type": "markdown",
      "metadata": {
        "id": "LufPU2yOUPnR"
      },
      "source": [
        "Перейдем к следующему алгоритму"
      ]
    },
    {
      "cell_type": "code",
      "execution_count": 58,
      "metadata": {
        "id": "0aLT-PMYUPnR",
        "outputId": "57c7fc18-f148-4b63-fbd4-1d3f5861fdfd",
        "colab": {
          "base_uri": "https://localhost:8080/"
        }
      },
      "outputs": [
        {
          "output_type": "stream",
          "name": "stdout",
          "text": [
            "Detailed classification report:\n",
            "              precision    recall  f1-score   support\n",
            "\n",
            "           0       0.92      0.78      0.84      1591\n",
            "           1       0.46      0.73      0.57       409\n",
            "\n",
            "    accuracy                           0.77      2000\n",
            "   macro avg       0.69      0.76      0.71      2000\n",
            "weighted avg       0.83      0.77      0.79      2000\n",
            "\n"
          ]
        }
      ],
      "source": [
        "print(\"Detailed classification report:\")\n",
        "target_pred = svm.predict(features_test)\n",
        "print(classification_report(target_test, target_pred))"
      ]
    },
    {
      "cell_type": "markdown",
      "metadata": {
        "id": "U1kb8zLEUPnR"
      },
      "source": [
        "Значение метрики ухудшилось и, к сожалению, оно меньше требуемого значения."
      ]
    },
    {
      "cell_type": "code",
      "execution_count": 59,
      "metadata": {
        "id": "LjIvicz4UPnS"
      },
      "outputs": [],
      "source": [
        "#заново создаем отчет, чтобы иметь вывод в словарь, для простого доступа к содержимому\n",
        "svm_report = classification_report(target_test, target_pred, output_dict=True)"
      ]
    },
    {
      "cell_type": "code",
      "execution_count": 60,
      "metadata": {
        "id": "CuVS9vs8UPnS"
      },
      "outputs": [],
      "source": [
        "result_df.loc[1, 'f1_test_B'] = round(svm_report['1']['f1-score'],2)"
      ]
    },
    {
      "cell_type": "code",
      "execution_count": 61,
      "metadata": {
        "id": "5AXZ7eIYUPnS",
        "outputId": "72fb4198-9866-4452-fcbc-0fd11c432013",
        "colab": {
          "base_uri": "https://localhost:8080/",
          "height": 143
        }
      },
      "outputs": [
        {
          "output_type": "execute_result",
          "data": {
            "text/plain": [
              "        name_ml  f1_valid_NB f1_valid_B f1_test_B\n",
              "0  RandomForest         0.60       0.61      0.62\n",
              "1           SVM         0.59       0.58      0.57\n",
              "2      CatBoost         0.61       0.61         0"
            ],
            "text/html": [
              "\n",
              "  <div id=\"df-3d49409e-f374-4db9-bf56-b5f9089b1592\">\n",
              "    <div class=\"colab-df-container\">\n",
              "      <div>\n",
              "<style scoped>\n",
              "    .dataframe tbody tr th:only-of-type {\n",
              "        vertical-align: middle;\n",
              "    }\n",
              "\n",
              "    .dataframe tbody tr th {\n",
              "        vertical-align: top;\n",
              "    }\n",
              "\n",
              "    .dataframe thead th {\n",
              "        text-align: right;\n",
              "    }\n",
              "</style>\n",
              "<table border=\"1\" class=\"dataframe\">\n",
              "  <thead>\n",
              "    <tr style=\"text-align: right;\">\n",
              "      <th></th>\n",
              "      <th>name_ml</th>\n",
              "      <th>f1_valid_NB</th>\n",
              "      <th>f1_valid_B</th>\n",
              "      <th>f1_test_B</th>\n",
              "    </tr>\n",
              "  </thead>\n",
              "  <tbody>\n",
              "    <tr>\n",
              "      <th>0</th>\n",
              "      <td>RandomForest</td>\n",
              "      <td>0.60</td>\n",
              "      <td>0.61</td>\n",
              "      <td>0.62</td>\n",
              "    </tr>\n",
              "    <tr>\n",
              "      <th>1</th>\n",
              "      <td>SVM</td>\n",
              "      <td>0.59</td>\n",
              "      <td>0.58</td>\n",
              "      <td>0.57</td>\n",
              "    </tr>\n",
              "    <tr>\n",
              "      <th>2</th>\n",
              "      <td>CatBoost</td>\n",
              "      <td>0.61</td>\n",
              "      <td>0.61</td>\n",
              "      <td>0</td>\n",
              "    </tr>\n",
              "  </tbody>\n",
              "</table>\n",
              "</div>\n",
              "      <button class=\"colab-df-convert\" onclick=\"convertToInteractive('df-3d49409e-f374-4db9-bf56-b5f9089b1592')\"\n",
              "              title=\"Convert this dataframe to an interactive table.\"\n",
              "              style=\"display:none;\">\n",
              "        \n",
              "  <svg xmlns=\"http://www.w3.org/2000/svg\" height=\"24px\"viewBox=\"0 0 24 24\"\n",
              "       width=\"24px\">\n",
              "    <path d=\"M0 0h24v24H0V0z\" fill=\"none\"/>\n",
              "    <path d=\"M18.56 5.44l.94 2.06.94-2.06 2.06-.94-2.06-.94-.94-2.06-.94 2.06-2.06.94zm-11 1L8.5 8.5l.94-2.06 2.06-.94-2.06-.94L8.5 2.5l-.94 2.06-2.06.94zm10 10l.94 2.06.94-2.06 2.06-.94-2.06-.94-.94-2.06-.94 2.06-2.06.94z\"/><path d=\"M17.41 7.96l-1.37-1.37c-.4-.4-.92-.59-1.43-.59-.52 0-1.04.2-1.43.59L10.3 9.45l-7.72 7.72c-.78.78-.78 2.05 0 2.83L4 21.41c.39.39.9.59 1.41.59.51 0 1.02-.2 1.41-.59l7.78-7.78 2.81-2.81c.8-.78.8-2.07 0-2.86zM5.41 20L4 18.59l7.72-7.72 1.47 1.35L5.41 20z\"/>\n",
              "  </svg>\n",
              "      </button>\n",
              "      \n",
              "  <style>\n",
              "    .colab-df-container {\n",
              "      display:flex;\n",
              "      flex-wrap:wrap;\n",
              "      gap: 12px;\n",
              "    }\n",
              "\n",
              "    .colab-df-convert {\n",
              "      background-color: #E8F0FE;\n",
              "      border: none;\n",
              "      border-radius: 50%;\n",
              "      cursor: pointer;\n",
              "      display: none;\n",
              "      fill: #1967D2;\n",
              "      height: 32px;\n",
              "      padding: 0 0 0 0;\n",
              "      width: 32px;\n",
              "    }\n",
              "\n",
              "    .colab-df-convert:hover {\n",
              "      background-color: #E2EBFA;\n",
              "      box-shadow: 0px 1px 2px rgba(60, 64, 67, 0.3), 0px 1px 3px 1px rgba(60, 64, 67, 0.15);\n",
              "      fill: #174EA6;\n",
              "    }\n",
              "\n",
              "    [theme=dark] .colab-df-convert {\n",
              "      background-color: #3B4455;\n",
              "      fill: #D2E3FC;\n",
              "    }\n",
              "\n",
              "    [theme=dark] .colab-df-convert:hover {\n",
              "      background-color: #434B5C;\n",
              "      box-shadow: 0px 1px 3px 1px rgba(0, 0, 0, 0.15);\n",
              "      filter: drop-shadow(0px 1px 2px rgba(0, 0, 0, 0.3));\n",
              "      fill: #FFFFFF;\n",
              "    }\n",
              "  </style>\n",
              "\n",
              "      <script>\n",
              "        const buttonEl =\n",
              "          document.querySelector('#df-3d49409e-f374-4db9-bf56-b5f9089b1592 button.colab-df-convert');\n",
              "        buttonEl.style.display =\n",
              "          google.colab.kernel.accessAllowed ? 'block' : 'none';\n",
              "\n",
              "        async function convertToInteractive(key) {\n",
              "          const element = document.querySelector('#df-3d49409e-f374-4db9-bf56-b5f9089b1592');\n",
              "          const dataTable =\n",
              "            await google.colab.kernel.invokeFunction('convertToInteractive',\n",
              "                                                     [key], {});\n",
              "          if (!dataTable) return;\n",
              "\n",
              "          const docLinkHtml = 'Like what you see? Visit the ' +\n",
              "            '<a target=\"_blank\" href=https://colab.research.google.com/notebooks/data_table.ipynb>data table notebook</a>'\n",
              "            + ' to learn more about interactive tables.';\n",
              "          element.innerHTML = '';\n",
              "          dataTable['output_type'] = 'display_data';\n",
              "          await google.colab.output.renderOutput(dataTable, element);\n",
              "          const docLink = document.createElement('div');\n",
              "          docLink.innerHTML = docLinkHtml;\n",
              "          element.appendChild(docLink);\n",
              "        }\n",
              "      </script>\n",
              "    </div>\n",
              "  </div>\n",
              "  "
            ]
          },
          "metadata": {},
          "execution_count": 61
        }
      ],
      "source": [
        "result_df"
      ]
    },
    {
      "cell_type": "markdown",
      "metadata": {
        "id": "WDs0ynhtUPnT"
      },
      "source": [
        "Дополнительно построим и посчитаем **AUC-ROC**"
      ]
    },
    {
      "cell_type": "markdown",
      "metadata": {
        "id": "-3c9jec0UPnT"
      },
      "source": [
        "Включим опцию **probability** и заново обучим модель, так как по умолчанию она выключена"
      ]
    },
    {
      "cell_type": "code",
      "execution_count": 62,
      "metadata": {
        "id": "nJQp3khMUPnT"
      },
      "outputs": [],
      "source": [
        "svm = SVC(C=10.0, cache_size=200, class_weight=None, coef0=0.0,\n",
        "    decision_function_shape='ovr', degree=3, gamma=0.1, kernel='rbf',\n",
        "    max_iter=-1, probability=True, random_state=101, shrinking=True, tol=0.001,\n",
        "    verbose=False)"
      ]
    },
    {
      "cell_type": "code",
      "execution_count": 63,
      "metadata": {
        "scrolled": true,
        "id": "1JyEiWWdUPnU",
        "outputId": "7503f78b-eff2-4567-b9e5-82dad2244bee",
        "colab": {
          "base_uri": "https://localhost:8080/",
          "height": 330
        }
      },
      "outputs": [
        {
          "output_type": "display_data",
          "data": {
            "text/plain": [
              "<Figure size 432x288 with 1 Axes>"
            ],
            "image/png": "[encoded data removed]"
          },
          "metadata": {
            "needs_background": "light"
          }
        },
        {
          "output_type": "stream",
          "name": "stdout",
          "text": [
            "\n",
            "Площадь под ROC-кривой, AUC-ROC = 0.8378301540296196\n"
          ]
        }
      ],
      "source": [
        "svm.fit(features_mixed, target_mixed)\n",
        "probabilities_test = svm.predict_proba(features_test)\n",
        "probabilities_one_test = probabilities_test[:, 1]\n",
        "\n",
        "fpr, tpr, thresholds = roc_curve(target_test, probabilities_one_test)\n",
        "\n",
        "plt.figure()\n",
        "\n",
        "plt.plot(fpr, tpr)\n",
        "plt.xlim([0.0, 1.0])\n",
        "plt.ylim([0.0, 1.0])\n",
        "plt.xlabel('False Positive Rate')\n",
        "plt.ylabel('True Positive Rate')\n",
        "plt.title('ROC-кривая')\n",
        "\n",
        "# ROC-кривая случайной модели (выглядит как прямая)\n",
        "plt.plot([0, 1], [0, 1], linestyle='--')\n",
        "\n",
        "plt.show()\n",
        "\n",
        "print()\n",
        "auc_roc = roc_auc_score(target_test, probabilities_one_test)\n",
        "print('Площадь под ROC-кривой, AUC-ROC =', auc_roc)"
      ]
    },
    {
      "cell_type": "markdown",
      "metadata": {
        "id": "amX-AZw3UPnU"
      },
      "source": [
        "### CatBoost"
      ]
    },
    {
      "cell_type": "markdown",
      "metadata": {
        "id": "tvSbApboUPnU"
      },
      "source": [
        "Проверим последний алгоритм на тестовой выборке"
      ]
    },
    {
      "cell_type": "code",
      "execution_count": 64,
      "metadata": {
        "id": "crg9_TGmUPnW",
        "outputId": "6ccdfbf8-ce35-49a7-a37c-da9cbdbfd4d7",
        "colab": {
          "base_uri": "https://localhost:8080/"
        }
      },
      "outputs": [
        {
          "output_type": "stream",
          "name": "stdout",
          "text": [
            "Detailed classification report:\n",
            "              precision    recall  f1-score   support\n",
            "\n",
            "           0       0.92      0.81      0.86      1591\n",
            "           1       0.50      0.74      0.60       409\n",
            "\n",
            "    accuracy                           0.80      2000\n",
            "   macro avg       0.71      0.77      0.73      2000\n",
            "weighted avg       0.84      0.80      0.81      2000\n",
            "\n"
          ]
        }
      ],
      "source": [
        "print(\"Detailed classification report:\")\n",
        "target_pred = model_cat.predict(features_test)\n",
        "print(classification_report(target_test, target_pred))"
      ]
    },
    {
      "cell_type": "code",
      "execution_count": 65,
      "metadata": {
        "id": "_DGeKL-kUPnX"
      },
      "outputs": [],
      "source": [
        "#заново создаем отчет, чтобы иметь вывод в словарь, для простого доступа к содержимому\n",
        "cat_report = classification_report(target_test, target_pred, output_dict=True)"
      ]
    },
    {
      "cell_type": "code",
      "execution_count": 66,
      "metadata": {
        "id": "G3w5aMw6UPnX"
      },
      "outputs": [],
      "source": [
        "result_df.loc[2, 'f1_test_B'] = round(cat_report['1']['f1-score'],2)"
      ]
    },
    {
      "cell_type": "code",
      "execution_count": 67,
      "metadata": {
        "id": "iFQOrtsrUPnX",
        "outputId": "3a962740-b688-438e-dd8c-53e6b6078843",
        "colab": {
          "base_uri": "https://localhost:8080/",
          "height": 143
        }
      },
      "outputs": [
        {
          "output_type": "execute_result",
          "data": {
            "text/plain": [
              "        name_ml  f1_valid_NB f1_valid_B f1_test_B\n",
              "0  RandomForest         0.60       0.61      0.62\n",
              "1           SVM         0.59       0.58      0.57\n",
              "2      CatBoost         0.61       0.61       0.6"
            ],
            "text/html": [
              "\n",
              "  <div id=\"df-c1b82a36-ad62-45eb-a4f6-71801e3d7c8a\">\n",
              "    <div class=\"colab-df-container\">\n",
              "      <div>\n",
              "<style scoped>\n",
              "    .dataframe tbody tr th:only-of-type {\n",
              "        vertical-align: middle;\n",
              "    }\n",
              "\n",
              "    .dataframe tbody tr th {\n",
              "        vertical-align: top;\n",
              "    }\n",
              "\n",
              "    .dataframe thead th {\n",
              "        text-align: right;\n",
              "    }\n",
              "</style>\n",
              "<table border=\"1\" class=\"dataframe\">\n",
              "  <thead>\n",
              "    <tr style=\"text-align: right;\">\n",
              "      <th></th>\n",
              "      <th>name_ml</th>\n",
              "      <th>f1_valid_NB</th>\n",
              "      <th>f1_valid_B</th>\n",
              "      <th>f1_test_B</th>\n",
              "    </tr>\n",
              "  </thead>\n",
              "  <tbody>\n",
              "    <tr>\n",
              "      <th>0</th>\n",
              "      <td>RandomForest</td>\n",
              "      <td>0.60</td>\n",
              "      <td>0.61</td>\n",
              "      <td>0.62</td>\n",
              "    </tr>\n",
              "    <tr>\n",
              "      <th>1</th>\n",
              "      <td>SVM</td>\n",
              "      <td>0.59</td>\n",
              "      <td>0.58</td>\n",
              "      <td>0.57</td>\n",
              "    </tr>\n",
              "    <tr>\n",
              "      <th>2</th>\n",
              "      <td>CatBoost</td>\n",
              "      <td>0.61</td>\n",
              "      <td>0.61</td>\n",
              "      <td>0.6</td>\n",
              "    </tr>\n",
              "  </tbody>\n",
              "</table>\n",
              "</div>\n",
              "      <button class=\"colab-df-convert\" onclick=\"convertToInteractive('df-c1b82a36-ad62-45eb-a4f6-71801e3d7c8a')\"\n",
              "              title=\"Convert this dataframe to an interactive table.\"\n",
              "              style=\"display:none;\">\n",
              "        \n",
              "  <svg xmlns=\"http://www.w3.org/2000/svg\" height=\"24px\"viewBox=\"0 0 24 24\"\n",
              "       width=\"24px\">\n",
              "    <path d=\"M0 0h24v24H0V0z\" fill=\"none\"/>\n",
              "    <path d=\"M18.56 5.44l.94 2.06.94-2.06 2.06-.94-2.06-.94-.94-2.06-.94 2.06-2.06.94zm-11 1L8.5 8.5l.94-2.06 2.06-.94-2.06-.94L8.5 2.5l-.94 2.06-2.06.94zm10 10l.94 2.06.94-2.06 2.06-.94-2.06-.94-.94-2.06-.94 2.06-2.06.94z\"/><path d=\"M17.41 7.96l-1.37-1.37c-.4-.4-.92-.59-1.43-.59-.52 0-1.04.2-1.43.59L10.3 9.45l-7.72 7.72c-.78.78-.78 2.05 0 2.83L4 21.41c.39.39.9.59 1.41.59.51 0 1.02-.2 1.41-.59l7.78-7.78 2.81-2.81c.8-.78.8-2.07 0-2.86zM5.41 20L4 18.59l7.72-7.72 1.47 1.35L5.41 20z\"/>\n",
              "  </svg>\n",
              "      </button>\n",
              "      \n",
              "  <style>\n",
              "    .colab-df-container {\n",
              "      display:flex;\n",
              "      flex-wrap:wrap;\n",
              "      gap: 12px;\n",
              "    }\n",
              "\n",
              "    .colab-df-convert {\n",
              "      background-color: #E8F0FE;\n",
              "      border: none;\n",
              "      border-radius: 50%;\n",
              "      cursor: pointer;\n",
              "      display: none;\n",
              "      fill: #1967D2;\n",
              "      height: 32px;\n",
              "      padding: 0 0 0 0;\n",
              "      width: 32px;\n",
              "    }\n",
              "\n",
              "    .colab-df-convert:hover {\n",
              "      background-color: #E2EBFA;\n",
              "      box-shadow: 0px 1px 2px rgba(60, 64, 67, 0.3), 0px 1px 3px 1px rgba(60, 64, 67, 0.15);\n",
              "      fill: #174EA6;\n",
              "    }\n",
              "\n",
              "    [theme=dark] .colab-df-convert {\n",
              "      background-color: #3B4455;\n",
              "      fill: #D2E3FC;\n",
              "    }\n",
              "\n",
              "    [theme=dark] .colab-df-convert:hover {\n",
              "      background-color: #434B5C;\n",
              "      box-shadow: 0px 1px 3px 1px rgba(0, 0, 0, 0.15);\n",
              "      filter: drop-shadow(0px 1px 2px rgba(0, 0, 0, 0.3));\n",
              "      fill: #FFFFFF;\n",
              "    }\n",
              "  </style>\n",
              "\n",
              "      <script>\n",
              "        const buttonEl =\n",
              "          document.querySelector('#df-c1b82a36-ad62-45eb-a4f6-71801e3d7c8a button.colab-df-convert');\n",
              "        buttonEl.style.display =\n",
              "          google.colab.kernel.accessAllowed ? 'block' : 'none';\n",
              "\n",
              "        async function convertToInteractive(key) {\n",
              "          const element = document.querySelector('#df-c1b82a36-ad62-45eb-a4f6-71801e3d7c8a');\n",
              "          const dataTable =\n",
              "            await google.colab.kernel.invokeFunction('convertToInteractive',\n",
              "                                                     [key], {});\n",
              "          if (!dataTable) return;\n",
              "\n",
              "          const docLinkHtml = 'Like what you see? Visit the ' +\n",
              "            '<a target=\"_blank\" href=https://colab.research.google.com/notebooks/data_table.ipynb>data table notebook</a>'\n",
              "            + ' to learn more about interactive tables.';\n",
              "          element.innerHTML = '';\n",
              "          dataTable['output_type'] = 'display_data';\n",
              "          await google.colab.output.renderOutput(dataTable, element);\n",
              "          const docLink = document.createElement('div');\n",
              "          docLink.innerHTML = docLinkHtml;\n",
              "          element.appendChild(docLink);\n",
              "        }\n",
              "      </script>\n",
              "    </div>\n",
              "  </div>\n",
              "  "
            ]
          },
          "metadata": {},
          "execution_count": 67
        }
      ],
      "source": [
        "result_df"
      ]
    },
    {
      "cell_type": "markdown",
      "metadata": {
        "id": "0Vz9tujrUPnX"
      },
      "source": [
        "Дополнительно построим и посчитаем **AUC-ROC**"
      ]
    },
    {
      "cell_type": "code",
      "execution_count": 68,
      "metadata": {
        "scrolled": false,
        "id": "v1-pv2McUPnY",
        "outputId": "1fcd4083-46c8-4133-927c-74a019968e6e",
        "colab": {
          "base_uri": "https://localhost:8080/",
          "height": 330
        }
      },
      "outputs": [
        {
          "output_type": "display_data",
          "data": {
            "text/plain": [
              "<Figure size 432x288 with 1 Axes>"
            ],
            "image/png": "[encoded data removed]"
          },
          "metadata": {
            "needs_background": "light"
          }
        },
        {
          "output_type": "stream",
          "name": "stdout",
          "text": [
            "\n",
            "Площадь под ROC-кривой, AUC-ROC = 0.8613595115556791\n"
          ]
        }
      ],
      "source": [
        "probabilities_test = model_cat.predict_proba(features_test)\n",
        "probabilities_one_test = probabilities_test[:, 1]\n",
        "\n",
        "fpr, tpr, thresholds = roc_curve(target_test, probabilities_one_test)\n",
        "\n",
        "plt.figure()\n",
        "\n",
        "plt.plot(fpr, tpr)\n",
        "plt.xlim([0.0, 1.0])\n",
        "plt.ylim([0.0, 1.0])\n",
        "plt.xlabel('False Positive Rate')\n",
        "plt.ylabel('True Positive Rate')\n",
        "plt.title('ROC-кривая')\n",
        "\n",
        "# ROC-кривая случайной модели (выглядит как прямая)\n",
        "plt.plot([0, 1], [0, 1], linestyle='--')\n",
        "\n",
        "plt.show()\n",
        "\n",
        "print()\n",
        "auc_roc = roc_auc_score(target_test, probabilities_one_test)\n",
        "print('Площадь под ROC-кривой, AUC-ROC =', auc_roc)"
      ]
    },
    {
      "cell_type": "markdown",
      "metadata": {
        "id": "UE7ZFJ-rUPnZ"
      },
      "source": [
        "### Тест на адекватность"
      ]
    },
    {
      "cell_type": "markdown",
      "metadata": {
        "id": "uZxS7rh6UPnZ"
      },
      "source": [
        "Дополнительно проверим наши модели на адекватность"
      ]
    },
    {
      "cell_type": "markdown",
      "metadata": {
        "id": "4WSxJZXtUPna"
      },
      "source": [
        "Сначала проверим для случая равных классов"
      ]
    },
    {
      "cell_type": "code",
      "execution_count": 69,
      "metadata": {
        "id": "3LjeLuldUPna",
        "outputId": "d2778f39-4683-42db-df8f-6385d216b618",
        "colab": {
          "base_uri": "https://localhost:8080/"
        }
      },
      "outputs": [
        {
          "output_type": "stream",
          "name": "stdout",
          "text": [
            "Detailed classification report:\n",
            "              precision    recall  f1-score   support\n",
            "\n",
            "           0       0.79      0.49      0.61      1591\n",
            "           1       0.20      0.50      0.29       409\n",
            "\n",
            "    accuracy                           0.49      2000\n",
            "   macro avg       0.50      0.50      0.45      2000\n",
            "weighted avg       0.67      0.49      0.54      2000\n",
            "\n"
          ]
        }
      ],
      "source": [
        "dummy1 = DummyClassifier(strategy='uniform', random_state=101).fit(features_mixed, target_mixed)\n",
        "print(\"Detailed classification report:\")\n",
        "target_pred = dummy1.predict(features_test)\n",
        "print(classification_report(target_test, target_pred))"
      ]
    },
    {
      "cell_type": "markdown",
      "metadata": {
        "id": "M0hfN-kRUPnb"
      },
      "source": [
        "Отлично, наши модели намного лучше случайной модели с равными классами"
      ]
    },
    {
      "cell_type": "markdown",
      "metadata": {
        "id": "CBwTjTyzUPnb"
      },
      "source": [
        "А теперь проверим для случая доминирования одного из классов. В этом случае обучать модель будем на исходных данных, а не сбалансированных mixed таблицах."
      ]
    },
    {
      "cell_type": "code",
      "execution_count": 70,
      "metadata": {
        "id": "g3cIR2j-UPnb",
        "outputId": "78d4f4f1-7c94-41ea-9f51-bd29b9ef9604",
        "colab": {
          "base_uri": "https://localhost:8080/"
        }
      },
      "outputs": [
        {
          "output_type": "stream",
          "name": "stdout",
          "text": [
            "Detailed classification report:\n",
            "              precision    recall  f1-score   support\n",
            "\n",
            "           0       0.00      0.00      0.00      1591\n",
            "           1       0.20      1.00      0.34       409\n",
            "\n",
            "    accuracy                           0.20      2000\n",
            "   macro avg       0.10      0.50      0.17      2000\n",
            "weighted avg       0.04      0.20      0.07      2000\n",
            "\n"
          ]
        },
        {
          "output_type": "stream",
          "name": "stderr",
          "text": [
            "/usr/local/lib/python3.7/dist-packages/sklearn/metrics/_classification.py:1318: UndefinedMetricWarning: Precision and F-score are ill-defined and being set to 0.0 in labels with no predicted samples. Use `zero_division` parameter to control this behavior.\n",
            "  _warn_prf(average, modifier, msg_start, len(result))\n",
            "/usr/local/lib/python3.7/dist-packages/sklearn/metrics/_classification.py:1318: UndefinedMetricWarning: Precision and F-score are ill-defined and being set to 0.0 in labels with no predicted samples. Use `zero_division` parameter to control this behavior.\n",
            "  _warn_prf(average, modifier, msg_start, len(result))\n",
            "/usr/local/lib/python3.7/dist-packages/sklearn/metrics/_classification.py:1318: UndefinedMetricWarning: Precision and F-score are ill-defined and being set to 0.0 in labels with no predicted samples. Use `zero_division` parameter to control this behavior.\n",
            "  _warn_prf(average, modifier, msg_start, len(result))\n"
          ]
        }
      ],
      "source": [
        "dummy2 = DummyClassifier(strategy='constant', constant=[1],\n",
        "                         random_state=101).fit(features_train, target_train)\n",
        "print(\"Detailed classification report:\")\n",
        "target_pred = dummy2.predict(features_test)\n",
        "print(classification_report(target_test, target_pred))"
      ]
    },
    {
      "cell_type": "markdown",
      "metadata": {
        "id": "lxrFpzt_UPnc"
      },
      "source": [
        "Так как мы указали **1** для предсказаний, то **0** не заполнялся и выдается *Warning*"
      ]
    },
    {
      "cell_type": "markdown",
      "metadata": {
        "id": "jSH56VM-UPnd"
      },
      "source": [
        "## Вывод"
      ]
    },
    {
      "cell_type": "markdown",
      "metadata": {
        "id": "JpSt9ftYUPnd"
      },
      "source": [
        "На основе исторических данных предоставленных банком, обучили модели для предсказывания оттока клиентов лучше всех с данной задачей справился алгоритм **RandomForest** c результатом **F-1 = 0.62**, на удивление запасной моделью является **CatBoost** на несбалансированных данных показал результат **F-1 = 0.61**. Что и требовалось получить в данной работе."
      ]
    },
    {
      "cell_type": "code",
      "execution_count": 71,
      "metadata": {
        "id": "cn1HYlfOUPnd",
        "outputId": "b95b30e4-9787-48e3-bb79-17741a50ad1c",
        "colab": {
          "base_uri": "https://localhost:8080/",
          "height": 143
        }
      },
      "outputs": [
        {
          "output_type": "execute_result",
          "data": {
            "text/plain": [
              "        name_ml  f1_valid_NB f1_valid_B f1_test_B\n",
              "0  RandomForest         0.60       0.61      0.62\n",
              "1           SVM         0.59       0.58      0.57\n",
              "2      CatBoost         0.61       0.61       0.6"
            ],
            "text/html": [
              "\n",
              "  <div id=\"df-5f798979-315f-456f-9990-1d88a72297bc\">\n",
              "    <div class=\"colab-df-container\">\n",
              "      <div>\n",
              "<style scoped>\n",
              "    .dataframe tbody tr th:only-of-type {\n",
              "        vertical-align: middle;\n",
              "    }\n",
              "\n",
              "    .dataframe tbody tr th {\n",
              "        vertical-align: top;\n",
              "    }\n",
              "\n",
              "    .dataframe thead th {\n",
              "        text-align: right;\n",
              "    }\n",
              "</style>\n",
              "<table border=\"1\" class=\"dataframe\">\n",
              "  <thead>\n",
              "    <tr style=\"text-align: right;\">\n",
              "      <th></th>\n",
              "      <th>name_ml</th>\n",
              "      <th>f1_valid_NB</th>\n",
              "      <th>f1_valid_B</th>\n",
              "      <th>f1_test_B</th>\n",
              "    </tr>\n",
              "  </thead>\n",
              "  <tbody>\n",
              "    <tr>\n",
              "      <th>0</th>\n",
              "      <td>RandomForest</td>\n",
              "      <td>0.60</td>\n",
              "      <td>0.61</td>\n",
              "      <td>0.62</td>\n",
              "    </tr>\n",
              "    <tr>\n",
              "      <th>1</th>\n",
              "      <td>SVM</td>\n",
              "      <td>0.59</td>\n",
              "      <td>0.58</td>\n",
              "      <td>0.57</td>\n",
              "    </tr>\n",
              "    <tr>\n",
              "      <th>2</th>\n",
              "      <td>CatBoost</td>\n",
              "      <td>0.61</td>\n",
              "      <td>0.61</td>\n",
              "      <td>0.6</td>\n",
              "    </tr>\n",
              "  </tbody>\n",
              "</table>\n",
              "</div>\n",
              "      <button class=\"colab-df-convert\" onclick=\"convertToInteractive('df-5f798979-315f-456f-9990-1d88a72297bc')\"\n",
              "              title=\"Convert this dataframe to an interactive table.\"\n",
              "              style=\"display:none;\">\n",
              "        \n",
              "  <svg xmlns=\"http://www.w3.org/2000/svg\" height=\"24px\"viewBox=\"0 0 24 24\"\n",
              "       width=\"24px\">\n",
              "    <path d=\"M0 0h24v24H0V0z\" fill=\"none\"/>\n",
              "    <path d=\"M18.56 5.44l.94 2.06.94-2.06 2.06-.94-2.06-.94-.94-2.06-.94 2.06-2.06.94zm-11 1L8.5 8.5l.94-2.06 2.06-.94-2.06-.94L8.5 2.5l-.94 2.06-2.06.94zm10 10l.94 2.06.94-2.06 2.06-.94-2.06-.94-.94-2.06-.94 2.06-2.06.94z\"/><path d=\"M17.41 7.96l-1.37-1.37c-.4-.4-.92-.59-1.43-.59-.52 0-1.04.2-1.43.59L10.3 9.45l-7.72 7.72c-.78.78-.78 2.05 0 2.83L4 21.41c.39.39.9.59 1.41.59.51 0 1.02-.2 1.41-.59l7.78-7.78 2.81-2.81c.8-.78.8-2.07 0-2.86zM5.41 20L4 18.59l7.72-7.72 1.47 1.35L5.41 20z\"/>\n",
              "  </svg>\n",
              "      </button>\n",
              "      \n",
              "  <style>\n",
              "    .colab-df-container {\n",
              "      display:flex;\n",
              "      flex-wrap:wrap;\n",
              "      gap: 12px;\n",
              "    }\n",
              "\n",
              "    .colab-df-convert {\n",
              "      background-color: #E8F0FE;\n",
              "      border: none;\n",
              "      border-radius: 50%;\n",
              "      cursor: pointer;\n",
              "      display: none;\n",
              "      fill: #1967D2;\n",
              "      height: 32px;\n",
              "      padding: 0 0 0 0;\n",
              "      width: 32px;\n",
              "    }\n",
              "\n",
              "    .colab-df-convert:hover {\n",
              "      background-color: #E2EBFA;\n",
              "      box-shadow: 0px 1px 2px rgba(60, 64, 67, 0.3), 0px 1px 3px 1px rgba(60, 64, 67, 0.15);\n",
              "      fill: #174EA6;\n",
              "    }\n",
              "\n",
              "    [theme=dark] .colab-df-convert {\n",
              "      background-color: #3B4455;\n",
              "      fill: #D2E3FC;\n",
              "    }\n",
              "\n",
              "    [theme=dark] .colab-df-convert:hover {\n",
              "      background-color: #434B5C;\n",
              "      box-shadow: 0px 1px 3px 1px rgba(0, 0, 0, 0.15);\n",
              "      filter: drop-shadow(0px 1px 2px rgba(0, 0, 0, 0.3));\n",
              "      fill: #FFFFFF;\n",
              "    }\n",
              "  </style>\n",
              "\n",
              "      <script>\n",
              "        const buttonEl =\n",
              "          document.querySelector('#df-5f798979-315f-456f-9990-1d88a72297bc button.colab-df-convert');\n",
              "        buttonEl.style.display =\n",
              "          google.colab.kernel.accessAllowed ? 'block' : 'none';\n",
              "\n",
              "        async function convertToInteractive(key) {\n",
              "          const element = document.querySelector('#df-5f798979-315f-456f-9990-1d88a72297bc');\n",
              "          const dataTable =\n",
              "            await google.colab.kernel.invokeFunction('convertToInteractive',\n",
              "                                                     [key], {});\n",
              "          if (!dataTable) return;\n",
              "\n",
              "          const docLinkHtml = 'Like what you see? Visit the ' +\n",
              "            '<a target=\"_blank\" href=https://colab.research.google.com/notebooks/data_table.ipynb>data table notebook</a>'\n",
              "            + ' to learn more about interactive tables.';\n",
              "          element.innerHTML = '';\n",
              "          dataTable['output_type'] = 'display_data';\n",
              "          await google.colab.output.renderOutput(dataTable, element);\n",
              "          const docLink = document.createElement('div');\n",
              "          docLink.innerHTML = docLinkHtml;\n",
              "          element.appendChild(docLink);\n",
              "        }\n",
              "      </script>\n",
              "    </div>\n",
              "  </div>\n",
              "  "
            ]
          },
          "metadata": {},
          "execution_count": 71
        }
      ],
      "source": [
        "result_df"
      ]
    },
    {
      "cell_type": "code",
      "execution_count": 72,
      "metadata": {
        "id": "gFF5DqFvUPne",
        "outputId": "a1080e20-d281-4351-ccc7-ca43d16d6589",
        "colab": {
          "base_uri": "https://localhost:8080/",
          "height": 295
        }
      },
      "outputs": [
        {
          "output_type": "display_data",
          "data": {
            "text/plain": [
              "<Figure size 432x288 with 1 Axes>"
            ],
            "image/png": "[encoded data removed]"
          },
          "metadata": {
            "needs_background": "light"
          }
        }
      ],
      "source": [
        "result_df.plot(kind='bar')\n",
        "plt.title('Значение F-1 меры')\n",
        "plt.xlabel('Алгоритмы')\n",
        "plt.ylabel('Значение')\n",
        "plt.xticks(range(len(result_df['name_ml'])), labels=result_df['name_ml'], rotation=0)\n",
        "plt.ylim(0.55,0.65)\n",
        "plt.grid()\n",
        "plt.show()"
      ]
    },
    {
      "cell_type": "code",
      "execution_count": 72,
      "metadata": {
        "id": "aMuHWgPaUPnf"
      },
      "outputs": [],
      "source": [
        ""
      ]
    }
  ],
  "metadata": {
    "ExecuteTimeLog": [
      {
        "duration": 871,
        "start_time": "2022-01-12T13:05:50.314Z"
      },
      {
        "duration": 35,
        "start_time": "2022-01-12T13:06:31.189Z"
      },
      {
        "duration": 22,
        "start_time": "2022-01-12T13:06:40.490Z"
      },
      {
        "duration": 15,
        "start_time": "2022-01-12T13:07:48.494Z"
      },
      {
        "duration": 9,
        "start_time": "2022-01-12T13:40:50.360Z"
      },
      {
        "duration": 856,
        "start_time": "2022-01-12T13:41:06.581Z"
      },
      {
        "duration": 7,
        "start_time": "2022-01-12T13:46:32.589Z"
      },
      {
        "duration": 8,
        "start_time": "2022-01-12T14:00:50.794Z"
      },
      {
        "duration": 14,
        "start_time": "2022-01-12T14:01:14.404Z"
      },
      {
        "duration": 1410,
        "start_time": "2022-01-12T14:06:37.437Z"
      },
      {
        "duration": 7,
        "start_time": "2022-01-12T14:07:41.653Z"
      },
      {
        "duration": 5,
        "start_time": "2022-01-12T14:07:52.774Z"
      },
      {
        "duration": 4,
        "start_time": "2022-01-12T14:09:25.801Z"
      },
      {
        "duration": 355,
        "start_time": "2022-01-12T14:09:33.209Z"
      },
      {
        "duration": 10,
        "start_time": "2022-01-12T14:09:37.386Z"
      },
      {
        "duration": 290,
        "start_time": "2022-01-12T14:10:18.525Z"
      },
      {
        "duration": 281,
        "start_time": "2022-01-12T14:14:04.071Z"
      },
      {
        "duration": 296,
        "start_time": "2022-01-12T14:14:16.809Z"
      },
      {
        "duration": 8,
        "start_time": "2022-01-12T14:14:43.405Z"
      },
      {
        "duration": 316,
        "start_time": "2022-01-12T14:14:59.847Z"
      },
      {
        "duration": 264,
        "start_time": "2022-01-12T14:15:03.624Z"
      },
      {
        "duration": 10,
        "start_time": "2022-01-12T14:15:21.317Z"
      },
      {
        "duration": 31,
        "start_time": "2022-01-12T14:18:55.553Z"
      },
      {
        "duration": 324,
        "start_time": "2022-01-12T14:19:09.581Z"
      },
      {
        "duration": 32,
        "start_time": "2022-01-12T14:19:19.460Z"
      },
      {
        "duration": 12,
        "start_time": "2022-01-12T14:25:48.908Z"
      },
      {
        "duration": 13,
        "start_time": "2022-01-12T14:26:05.939Z"
      },
      {
        "duration": 34,
        "start_time": "2022-01-12T14:26:16.811Z"
      },
      {
        "duration": 6,
        "start_time": "2022-01-12T14:26:45.770Z"
      },
      {
        "duration": 8,
        "start_time": "2022-01-12T14:27:02.932Z"
      },
      {
        "duration": 6,
        "start_time": "2022-01-12T14:27:12.707Z"
      },
      {
        "duration": 6,
        "start_time": "2022-01-12T14:27:24.703Z"
      },
      {
        "duration": 6,
        "start_time": "2022-01-12T14:27:31.656Z"
      },
      {
        "duration": 278,
        "start_time": "2022-01-12T14:27:47.816Z"
      },
      {
        "duration": 8,
        "start_time": "2022-01-12T14:27:58.160Z"
      },
      {
        "duration": 28,
        "start_time": "2022-01-12T14:28:06.516Z"
      },
      {
        "duration": 7,
        "start_time": "2022-01-12T14:28:38.797Z"
      },
      {
        "duration": 265,
        "start_time": "2022-01-12T14:28:55.455Z"
      },
      {
        "duration": 12,
        "start_time": "2022-01-12T14:29:29.961Z"
      },
      {
        "duration": 9,
        "start_time": "2022-01-12T14:32:32.904Z"
      },
      {
        "duration": 14,
        "start_time": "2022-01-12T14:34:01.805Z"
      },
      {
        "duration": 8,
        "start_time": "2022-01-12T14:49:12.719Z"
      },
      {
        "duration": 867,
        "start_time": "2022-01-13T05:34:24.758Z"
      },
      {
        "duration": 358,
        "start_time": "2022-01-13T05:34:25.627Z"
      },
      {
        "duration": 26,
        "start_time": "2022-01-13T05:34:25.989Z"
      },
      {
        "duration": 15,
        "start_time": "2022-01-13T05:34:26.018Z"
      },
      {
        "duration": 25,
        "start_time": "2022-01-13T05:34:26.035Z"
      },
      {
        "duration": 7,
        "start_time": "2022-01-13T05:34:26.063Z"
      },
      {
        "duration": 18,
        "start_time": "2022-01-13T05:34:26.072Z"
      },
      {
        "duration": 8,
        "start_time": "2022-01-13T05:34:26.095Z"
      },
      {
        "duration": 7,
        "start_time": "2022-01-13T05:34:26.106Z"
      },
      {
        "duration": 325,
        "start_time": "2022-01-13T05:34:26.115Z"
      },
      {
        "duration": 19,
        "start_time": "2022-01-13T05:34:26.442Z"
      },
      {
        "duration": 12,
        "start_time": "2022-01-13T05:34:26.464Z"
      },
      {
        "duration": 11,
        "start_time": "2022-01-13T05:34:26.479Z"
      },
      {
        "duration": 334,
        "start_time": "2022-01-13T05:42:04.502Z"
      },
      {
        "duration": 4,
        "start_time": "2022-01-13T05:42:13.829Z"
      },
      {
        "duration": 17,
        "start_time": "2022-01-13T05:43:15.067Z"
      },
      {
        "duration": 567,
        "start_time": "2022-01-13T05:45:59.091Z"
      },
      {
        "duration": 21,
        "start_time": "2022-01-13T05:46:07.823Z"
      },
      {
        "duration": 523,
        "start_time": "2022-01-13T05:46:56.899Z"
      },
      {
        "duration": 836,
        "start_time": "2022-01-13T05:47:10.609Z"
      },
      {
        "duration": 36,
        "start_time": "2022-01-13T05:47:11.447Z"
      },
      {
        "duration": 22,
        "start_time": "2022-01-13T05:47:11.486Z"
      },
      {
        "duration": 12,
        "start_time": "2022-01-13T05:47:11.511Z"
      },
      {
        "duration": 5,
        "start_time": "2022-01-13T05:47:11.526Z"
      },
      {
        "duration": 5,
        "start_time": "2022-01-13T05:47:11.559Z"
      },
      {
        "duration": 16,
        "start_time": "2022-01-13T05:47:11.566Z"
      },
      {
        "duration": 8,
        "start_time": "2022-01-13T05:47:11.585Z"
      },
      {
        "duration": 7,
        "start_time": "2022-01-13T05:47:11.595Z"
      },
      {
        "duration": 301,
        "start_time": "2022-01-13T05:47:11.605Z"
      },
      {
        "duration": 11,
        "start_time": "2022-01-13T05:47:11.908Z"
      },
      {
        "duration": 38,
        "start_time": "2022-01-13T05:47:11.922Z"
      },
      {
        "duration": 10,
        "start_time": "2022-01-13T05:47:11.963Z"
      },
      {
        "duration": 4,
        "start_time": "2022-01-13T05:47:11.975Z"
      },
      {
        "duration": 20,
        "start_time": "2022-01-13T05:47:11.981Z"
      },
      {
        "duration": 544,
        "start_time": "2022-01-13T05:47:12.003Z"
      },
      {
        "duration": 21,
        "start_time": "2022-01-13T05:47:12.549Z"
      },
      {
        "duration": 1013,
        "start_time": "2022-01-13T05:50:30.244Z"
      },
      {
        "duration": 37,
        "start_time": "2022-01-13T05:50:31.260Z"
      },
      {
        "duration": 25,
        "start_time": "2022-01-13T05:50:31.300Z"
      },
      {
        "duration": 12,
        "start_time": "2022-01-13T05:50:31.328Z"
      },
      {
        "duration": 7,
        "start_time": "2022-01-13T05:50:31.358Z"
      },
      {
        "duration": 11,
        "start_time": "2022-01-13T05:50:31.368Z"
      },
      {
        "duration": 13,
        "start_time": "2022-01-13T05:50:31.382Z"
      },
      {
        "duration": 11,
        "start_time": "2022-01-13T05:50:31.399Z"
      },
      {
        "duration": 8,
        "start_time": "2022-01-13T05:50:31.413Z"
      },
      {
        "duration": 348,
        "start_time": "2022-01-13T05:50:31.424Z"
      },
      {
        "duration": 10,
        "start_time": "2022-01-13T05:50:31.774Z"
      },
      {
        "duration": 12,
        "start_time": "2022-01-13T05:50:31.787Z"
      },
      {
        "duration": 8,
        "start_time": "2022-01-13T05:50:31.801Z"
      },
      {
        "duration": 4,
        "start_time": "2022-01-13T05:50:31.811Z"
      },
      {
        "duration": 18,
        "start_time": "2022-01-13T05:50:31.818Z"
      },
      {
        "duration": 640,
        "start_time": "2022-01-13T05:50:31.839Z"
      },
      {
        "duration": 19,
        "start_time": "2022-01-13T05:50:32.481Z"
      },
      {
        "duration": 917,
        "start_time": "2022-01-13T05:57:07.912Z"
      },
      {
        "duration": 36,
        "start_time": "2022-01-13T05:57:08.832Z"
      },
      {
        "duration": 22,
        "start_time": "2022-01-13T05:57:08.871Z"
      },
      {
        "duration": 12,
        "start_time": "2022-01-13T05:57:08.896Z"
      },
      {
        "duration": 6,
        "start_time": "2022-01-13T05:57:08.910Z"
      },
      {
        "duration": 8,
        "start_time": "2022-01-13T05:57:08.918Z"
      },
      {
        "duration": 37,
        "start_time": "2022-01-13T05:57:08.928Z"
      },
      {
        "duration": 8,
        "start_time": "2022-01-13T05:57:08.969Z"
      },
      {
        "duration": 6,
        "start_time": "2022-01-13T05:57:08.979Z"
      },
      {
        "duration": 298,
        "start_time": "2022-01-13T05:57:08.987Z"
      },
      {
        "duration": 11,
        "start_time": "2022-01-13T05:57:09.287Z"
      },
      {
        "duration": 13,
        "start_time": "2022-01-13T05:57:09.300Z"
      },
      {
        "duration": 8,
        "start_time": "2022-01-13T05:57:09.315Z"
      },
      {
        "duration": 35,
        "start_time": "2022-01-13T05:57:09.325Z"
      },
      {
        "duration": 19,
        "start_time": "2022-01-13T05:57:09.363Z"
      },
      {
        "duration": 574,
        "start_time": "2022-01-13T05:57:09.385Z"
      },
      {
        "duration": 22,
        "start_time": "2022-01-13T05:57:09.962Z"
      },
      {
        "duration": 9,
        "start_time": "2022-01-13T05:57:09.986Z"
      },
      {
        "duration": 6,
        "start_time": "2022-01-13T05:57:09.997Z"
      },
      {
        "duration": 7,
        "start_time": "2022-01-13T05:57:10.005Z"
      },
      {
        "duration": 46,
        "start_time": "2022-01-13T05:57:10.014Z"
      },
      {
        "duration": 6,
        "start_time": "2022-01-13T06:52:02.776Z"
      },
      {
        "duration": 5,
        "start_time": "2022-01-13T06:52:27.434Z"
      },
      {
        "duration": 637,
        "start_time": "2022-01-13T06:55:46.093Z"
      },
      {
        "duration": 41159,
        "start_time": "2022-01-13T06:56:09.014Z"
      },
      {
        "duration": 259367,
        "start_time": "2022-01-13T06:57:20.236Z"
      },
      {
        "duration": 117,
        "start_time": "2022-01-13T07:14:30.476Z"
      },
      {
        "duration": 6,
        "start_time": "2022-01-13T07:14:35.730Z"
      },
      {
        "duration": 175797,
        "start_time": "2022-01-13T07:17:55.553Z"
      },
      {
        "duration": 176143,
        "start_time": "2022-01-13T07:22:06.057Z"
      },
      {
        "duration": 456,
        "start_time": "2022-01-13T07:39:10.951Z"
      },
      {
        "duration": 13211,
        "start_time": "2022-01-13T07:39:24.736Z"
      },
      {
        "duration": 177446,
        "start_time": "2022-01-13T07:41:45.735Z"
      },
      {
        "duration": 178990,
        "start_time": "2022-01-13T08:10:44.015Z"
      },
      {
        "duration": 445,
        "start_time": "2022-01-13T08:32:33.971Z"
      },
      {
        "duration": 301,
        "start_time": "2022-01-13T08:44:53.238Z"
      },
      {
        "duration": 663,
        "start_time": "2022-01-13T08:47:00.203Z"
      },
      {
        "duration": 319,
        "start_time": "2022-01-13T08:47:24.153Z"
      },
      {
        "duration": 366,
        "start_time": "2022-01-13T08:48:33.777Z"
      },
      {
        "duration": 309,
        "start_time": "2022-01-13T08:48:46.550Z"
      },
      {
        "duration": 314,
        "start_time": "2022-01-13T08:49:18.814Z"
      },
      {
        "duration": 301,
        "start_time": "2022-01-13T08:49:40.239Z"
      },
      {
        "duration": 175550,
        "start_time": "2022-01-13T09:11:56.431Z"
      },
      {
        "duration": 6,
        "start_time": "2022-01-13T09:22:52.635Z"
      },
      {
        "duration": 61,
        "start_time": "2022-01-13T09:25:07.627Z"
      },
      {
        "duration": 949,
        "start_time": "2022-01-13T09:28:00.177Z"
      },
      {
        "duration": 39,
        "start_time": "2022-01-13T09:28:01.129Z"
      },
      {
        "duration": 28,
        "start_time": "2022-01-13T09:28:01.175Z"
      },
      {
        "duration": 13,
        "start_time": "2022-01-13T09:28:01.206Z"
      },
      {
        "duration": 39,
        "start_time": "2022-01-13T09:28:01.221Z"
      },
      {
        "duration": 5,
        "start_time": "2022-01-13T09:28:01.263Z"
      },
      {
        "duration": 25,
        "start_time": "2022-01-13T09:28:01.273Z"
      },
      {
        "duration": 9,
        "start_time": "2022-01-13T09:28:01.301Z"
      },
      {
        "duration": 12,
        "start_time": "2022-01-13T09:28:01.313Z"
      },
      {
        "duration": 334,
        "start_time": "2022-01-13T09:28:01.327Z"
      },
      {
        "duration": 13,
        "start_time": "2022-01-13T09:28:01.664Z"
      },
      {
        "duration": 25,
        "start_time": "2022-01-13T09:28:01.680Z"
      },
      {
        "duration": 10,
        "start_time": "2022-01-13T09:28:01.708Z"
      },
      {
        "duration": 7,
        "start_time": "2022-01-13T09:28:01.721Z"
      },
      {
        "duration": 52,
        "start_time": "2022-01-13T09:28:01.730Z"
      },
      {
        "duration": 566,
        "start_time": "2022-01-13T09:28:01.785Z"
      },
      {
        "duration": 28,
        "start_time": "2022-01-13T09:28:02.354Z"
      },
      {
        "duration": 8,
        "start_time": "2022-01-13T09:28:02.384Z"
      },
      {
        "duration": 8,
        "start_time": "2022-01-13T09:28:02.395Z"
      },
      {
        "duration": 10,
        "start_time": "2022-01-13T09:28:02.406Z"
      },
      {
        "duration": 42,
        "start_time": "2022-01-13T09:28:02.419Z"
      },
      {
        "duration": 178092,
        "start_time": "2022-01-13T09:28:02.467Z"
      },
      {
        "duration": 317,
        "start_time": "2022-01-13T09:31:00.562Z"
      },
      {
        "duration": 571,
        "start_time": "2022-01-13T09:31:00.881Z"
      },
      {
        "duration": 391,
        "start_time": "2022-01-13T09:31:47.164Z"
      },
      {
        "duration": 7,
        "start_time": "2022-01-13T09:32:09.302Z"
      },
      {
        "duration": 5,
        "start_time": "2022-01-13T09:45:23.067Z"
      },
      {
        "duration": 175849,
        "start_time": "2022-01-13T09:46:10.130Z"
      },
      {
        "duration": 5,
        "start_time": "2022-01-13T09:52:10.609Z"
      },
      {
        "duration": 179085,
        "start_time": "2022-01-13T09:52:14.610Z"
      },
      {
        "duration": 6,
        "start_time": "2022-01-13T10:13:07.289Z"
      },
      {
        "duration": 892,
        "start_time": "2022-01-13T10:13:10.621Z"
      },
      {
        "duration": 895,
        "start_time": "2022-01-13T10:20:18.787Z"
      },
      {
        "duration": 883,
        "start_time": "2022-01-13T10:20:26.058Z"
      },
      {
        "duration": 9,
        "start_time": "2022-01-13T11:01:13.143Z"
      },
      {
        "duration": 9,
        "start_time": "2022-01-13T11:01:18.476Z"
      },
      {
        "duration": 1180,
        "start_time": "2022-01-13T11:20:01.420Z"
      },
      {
        "duration": 49602,
        "start_time": "2022-01-13T11:20:46.262Z"
      },
      {
        "duration": 176270,
        "start_time": "2022-01-13T11:22:11.021Z"
      },
      {
        "duration": 822,
        "start_time": "2022-01-13T11:25:07.295Z"
      },
      {
        "duration": 176464,
        "start_time": "2022-01-13T11:25:54.416Z"
      },
      {
        "duration": 892,
        "start_time": "2022-01-13T11:29:55.620Z"
      },
      {
        "duration": 36,
        "start_time": "2022-01-13T11:29:56.514Z"
      },
      {
        "duration": 23,
        "start_time": "2022-01-13T11:29:56.555Z"
      },
      {
        "duration": 14,
        "start_time": "2022-01-13T11:29:56.581Z"
      },
      {
        "duration": 6,
        "start_time": "2022-01-13T11:29:56.597Z"
      },
      {
        "duration": 5,
        "start_time": "2022-01-13T11:29:56.605Z"
      },
      {
        "duration": 55,
        "start_time": "2022-01-13T11:29:56.614Z"
      },
      {
        "duration": 9,
        "start_time": "2022-01-13T11:29:56.672Z"
      },
      {
        "duration": 6,
        "start_time": "2022-01-13T11:29:56.684Z"
      },
      {
        "duration": 301,
        "start_time": "2022-01-13T11:29:56.692Z"
      },
      {
        "duration": 11,
        "start_time": "2022-01-13T11:29:56.996Z"
      },
      {
        "duration": 15,
        "start_time": "2022-01-13T11:29:57.009Z"
      },
      {
        "duration": 459,
        "start_time": "2022-01-13T11:29:57.026Z"
      },
      {
        "duration": 2799,
        "start_time": "2022-01-13T11:29:54.689Z"
      },
      {
        "duration": 2798,
        "start_time": "2022-01-13T11:29:54.692Z"
      },
      {
        "duration": 2790,
        "start_time": "2022-01-13T11:29:54.702Z"
      },
      {
        "duration": 2787,
        "start_time": "2022-01-13T11:29:54.706Z"
      },
      {
        "duration": 2786,
        "start_time": "2022-01-13T11:29:54.709Z"
      },
      {
        "duration": 2783,
        "start_time": "2022-01-13T11:29:54.713Z"
      },
      {
        "duration": 2780,
        "start_time": "2022-01-13T11:29:54.718Z"
      },
      {
        "duration": 2778,
        "start_time": "2022-01-13T11:29:54.721Z"
      },
      {
        "duration": 2776,
        "start_time": "2022-01-13T11:29:54.725Z"
      },
      {
        "duration": 2773,
        "start_time": "2022-01-13T11:29:54.729Z"
      },
      {
        "duration": 2772,
        "start_time": "2022-01-13T11:29:54.732Z"
      },
      {
        "duration": 2770,
        "start_time": "2022-01-13T11:29:54.735Z"
      },
      {
        "duration": 2769,
        "start_time": "2022-01-13T11:29:54.738Z"
      },
      {
        "duration": 841,
        "start_time": "2022-01-13T11:31:20.908Z"
      },
      {
        "duration": 38,
        "start_time": "2022-01-13T11:31:21.752Z"
      },
      {
        "duration": 24,
        "start_time": "2022-01-13T11:31:21.792Z"
      },
      {
        "duration": 13,
        "start_time": "2022-01-13T11:31:21.819Z"
      },
      {
        "duration": 26,
        "start_time": "2022-01-13T11:31:21.834Z"
      },
      {
        "duration": 20,
        "start_time": "2022-01-13T11:31:21.863Z"
      },
      {
        "duration": 30,
        "start_time": "2022-01-13T11:31:21.886Z"
      },
      {
        "duration": 9,
        "start_time": "2022-01-13T11:31:21.919Z"
      },
      {
        "duration": 19,
        "start_time": "2022-01-13T11:31:21.931Z"
      },
      {
        "duration": 285,
        "start_time": "2022-01-13T11:31:21.953Z"
      },
      {
        "duration": 23,
        "start_time": "2022-01-13T11:31:22.241Z"
      },
      {
        "duration": 13,
        "start_time": "2022-01-13T11:31:22.266Z"
      },
      {
        "duration": 9,
        "start_time": "2022-01-13T11:31:22.281Z"
      },
      {
        "duration": 6,
        "start_time": "2022-01-13T11:31:22.293Z"
      },
      {
        "duration": 20,
        "start_time": "2022-01-13T11:31:22.301Z"
      },
      {
        "duration": 592,
        "start_time": "2022-01-13T11:31:22.323Z"
      },
      {
        "duration": 23,
        "start_time": "2022-01-13T11:31:22.918Z"
      },
      {
        "duration": 20,
        "start_time": "2022-01-13T11:31:22.944Z"
      },
      {
        "duration": 5,
        "start_time": "2022-01-13T11:31:22.967Z"
      },
      {
        "duration": 7,
        "start_time": "2022-01-13T11:31:22.975Z"
      },
      {
        "duration": 5,
        "start_time": "2022-01-13T11:31:22.985Z"
      },
      {
        "duration": 179024,
        "start_time": "2022-01-13T11:31:22.993Z"
      },
      {
        "duration": 317,
        "start_time": "2022-01-13T11:34:22.021Z"
      },
      {
        "duration": 5,
        "start_time": "2022-01-13T11:34:22.340Z"
      },
      {
        "duration": 914,
        "start_time": "2022-01-13T11:34:22.360Z"
      },
      {
        "duration": 9,
        "start_time": "2022-01-13T11:34:23.276Z"
      },
      {
        "duration": 25220,
        "start_time": "2022-01-13T11:35:42.591Z"
      },
      {
        "duration": 8,
        "start_time": "2022-01-13T11:36:13.343Z"
      },
      {
        "duration": 7,
        "start_time": "2022-01-13T11:50:27.308Z"
      },
      {
        "duration": 836,
        "start_time": "2022-01-13T11:50:29.644Z"
      },
      {
        "duration": 6,
        "start_time": "2022-01-13T11:51:05.720Z"
      },
      {
        "duration": 15,
        "start_time": "2022-01-13T11:51:06.838Z"
      },
      {
        "duration": 8,
        "start_time": "2022-01-13T11:51:09.073Z"
      },
      {
        "duration": 8,
        "start_time": "2022-01-13T11:51:18.803Z"
      },
      {
        "duration": 5,
        "start_time": "2022-01-13T11:54:25.313Z"
      },
      {
        "duration": 691,
        "start_time": "2022-01-13T11:54:47.271Z"
      },
      {
        "duration": 5,
        "start_time": "2022-01-13T11:55:48.185Z"
      },
      {
        "duration": 810,
        "start_time": "2022-01-13T11:55:50.269Z"
      },
      {
        "duration": 8,
        "start_time": "2022-01-13T11:55:58.436Z"
      },
      {
        "duration": 723,
        "start_time": "2022-01-13T11:55:59.240Z"
      },
      {
        "duration": 693,
        "start_time": "2022-01-13T11:57:14.931Z"
      },
      {
        "duration": 6,
        "start_time": "2022-01-13T11:57:24.921Z"
      },
      {
        "duration": 1048,
        "start_time": "2022-01-13T12:01:53.467Z"
      },
      {
        "duration": 1064,
        "start_time": "2022-01-13T12:02:13.283Z"
      },
      {
        "duration": 6,
        "start_time": "2022-01-13T12:02:17.906Z"
      },
      {
        "duration": 680,
        "start_time": "2022-01-13T12:03:23.428Z"
      },
      {
        "duration": 6,
        "start_time": "2022-01-13T12:03:51.604Z"
      },
      {
        "duration": 16,
        "start_time": "2022-01-13T12:03:52.456Z"
      },
      {
        "duration": 8,
        "start_time": "2022-01-13T12:03:57.170Z"
      },
      {
        "duration": 691,
        "start_time": "2022-01-13T12:04:28.989Z"
      },
      {
        "duration": 60,
        "start_time": "2022-01-13T12:08:26.641Z"
      },
      {
        "duration": 116,
        "start_time": "2022-01-13T12:09:41.072Z"
      },
      {
        "duration": 160,
        "start_time": "2022-01-13T12:17:22.666Z"
      },
      {
        "duration": 180,
        "start_time": "2022-01-13T12:17:44.216Z"
      },
      {
        "duration": 223,
        "start_time": "2022-01-13T12:25:51.343Z"
      },
      {
        "duration": 451,
        "start_time": "2022-01-13T12:26:10.339Z"
      },
      {
        "duration": 365,
        "start_time": "2022-01-13T13:24:35.065Z"
      },
      {
        "duration": 15,
        "start_time": "2022-01-13T13:24:59.265Z"
      },
      {
        "duration": 19,
        "start_time": "2022-01-13T13:29:12.897Z"
      },
      {
        "duration": 13,
        "start_time": "2022-01-13T13:30:28.795Z"
      },
      {
        "duration": 915,
        "start_time": "2022-01-13T13:30:36.050Z"
      },
      {
        "duration": 36,
        "start_time": "2022-01-13T13:30:36.968Z"
      },
      {
        "duration": 22,
        "start_time": "2022-01-13T13:30:37.010Z"
      },
      {
        "duration": 30,
        "start_time": "2022-01-13T13:30:37.035Z"
      },
      {
        "duration": 6,
        "start_time": "2022-01-13T13:30:37.068Z"
      },
      {
        "duration": 7,
        "start_time": "2022-01-13T13:30:37.076Z"
      },
      {
        "duration": 17,
        "start_time": "2022-01-13T13:30:37.086Z"
      },
      {
        "duration": 7,
        "start_time": "2022-01-13T13:30:37.107Z"
      },
      {
        "duration": 47,
        "start_time": "2022-01-13T13:30:37.117Z"
      },
      {
        "duration": 301,
        "start_time": "2022-01-13T13:30:37.167Z"
      },
      {
        "duration": 11,
        "start_time": "2022-01-13T13:30:37.470Z"
      },
      {
        "duration": 12,
        "start_time": "2022-01-13T13:30:37.483Z"
      },
      {
        "duration": 8,
        "start_time": "2022-01-13T13:30:37.497Z"
      },
      {
        "duration": 4,
        "start_time": "2022-01-13T13:30:37.507Z"
      },
      {
        "duration": 60,
        "start_time": "2022-01-13T13:30:37.513Z"
      },
      {
        "duration": 580,
        "start_time": "2022-01-13T13:30:37.575Z"
      },
      {
        "duration": 23,
        "start_time": "2022-01-13T13:30:38.159Z"
      },
      {
        "duration": 9,
        "start_time": "2022-01-13T13:30:38.184Z"
      },
      {
        "duration": 5,
        "start_time": "2022-01-13T13:30:38.196Z"
      },
      {
        "duration": 6,
        "start_time": "2022-01-13T13:30:38.204Z"
      },
      {
        "duration": 47,
        "start_time": "2022-01-13T13:30:38.213Z"
      },
      {
        "duration": 175151,
        "start_time": "2022-01-13T13:30:38.265Z"
      },
      {
        "duration": 341,
        "start_time": "2022-01-13T13:33:33.418Z"
      },
      {
        "duration": 5,
        "start_time": "2022-01-13T13:33:33.762Z"
      },
      {
        "duration": 900,
        "start_time": "2022-01-13T13:33:33.770Z"
      },
      {
        "duration": 7,
        "start_time": "2022-01-13T13:33:34.672Z"
      },
      {
        "duration": 6,
        "start_time": "2022-01-13T13:33:34.682Z"
      },
      {
        "duration": 16,
        "start_time": "2022-01-13T13:33:34.691Z"
      },
      {
        "duration": 7,
        "start_time": "2022-01-13T13:33:34.710Z"
      },
      {
        "duration": 5,
        "start_time": "2022-01-13T13:33:34.760Z"
      },
      {
        "duration": 701,
        "start_time": "2022-01-13T13:33:34.767Z"
      },
      {
        "duration": 61,
        "start_time": "2022-01-13T13:33:35.471Z"
      },
      {
        "duration": 35,
        "start_time": "2022-01-13T13:33:35.534Z"
      },
      {
        "duration": 14,
        "start_time": "2022-01-13T13:33:35.571Z"
      },
      {
        "duration": 506,
        "start_time": "2022-01-13T14:13:31.040Z"
      },
      {
        "duration": 367489,
        "start_time": "2022-01-13T14:13:42.560Z"
      },
      {
        "duration": 510,
        "start_time": "2022-01-13T14:27:37.884Z"
      },
      {
        "duration": 177601,
        "start_time": "2022-01-13T14:28:28.040Z"
      },
      {
        "duration": 57,
        "start_time": "2022-01-13T14:31:37.057Z"
      },
      {
        "duration": 5,
        "start_time": "2022-01-13T14:31:41.739Z"
      },
      {
        "duration": 17,
        "start_time": "2022-01-13T14:31:58.058Z"
      },
      {
        "duration": 5,
        "start_time": "2022-01-13T14:32:02.903Z"
      },
      {
        "duration": 5,
        "start_time": "2022-01-13T14:32:12.100Z"
      },
      {
        "duration": 4,
        "start_time": "2022-01-13T14:33:19.170Z"
      },
      {
        "duration": 6,
        "start_time": "2022-01-13T14:34:20.413Z"
      },
      {
        "duration": 6,
        "start_time": "2022-01-13T14:34:29.367Z"
      },
      {
        "duration": 381,
        "start_time": "2022-01-13T14:34:58.101Z"
      },
      {
        "duration": 8,
        "start_time": "2022-01-13T14:35:03.603Z"
      },
      {
        "duration": 8,
        "start_time": "2022-01-13T14:35:04.402Z"
      },
      {
        "duration": 12,
        "start_time": "2022-01-13T14:35:05.147Z"
      },
      {
        "duration": 11,
        "start_time": "2022-01-13T14:40:03.765Z"
      },
      {
        "duration": 8,
        "start_time": "2022-01-13T14:40:07.862Z"
      },
      {
        "duration": 430,
        "start_time": "2022-01-13T14:42:09.938Z"
      },
      {
        "duration": 5,
        "start_time": "2022-01-13T14:42:19.242Z"
      },
      {
        "duration": 177552,
        "start_time": "2022-01-13T14:43:18.920Z"
      },
      {
        "duration": 6,
        "start_time": "2022-01-13T14:46:16.475Z"
      },
      {
        "duration": 11,
        "start_time": "2022-01-13T14:48:52.617Z"
      },
      {
        "duration": 6,
        "start_time": "2022-01-13T14:48:54.250Z"
      },
      {
        "duration": 5,
        "start_time": "2022-01-13T14:48:59.167Z"
      },
      {
        "duration": 52,
        "start_time": "2022-01-13T14:49:06.137Z"
      },
      {
        "duration": 5,
        "start_time": "2022-01-13T14:49:13.918Z"
      },
      {
        "duration": 5,
        "start_time": "2022-01-13T14:49:26.611Z"
      },
      {
        "duration": 4,
        "start_time": "2022-01-13T14:50:57.932Z"
      },
      {
        "duration": 34,
        "start_time": "2022-01-13T14:50:57.939Z"
      },
      {
        "duration": 26,
        "start_time": "2022-01-13T14:50:57.976Z"
      },
      {
        "duration": 17,
        "start_time": "2022-01-13T14:50:58.006Z"
      },
      {
        "duration": 35,
        "start_time": "2022-01-13T14:50:58.026Z"
      },
      {
        "duration": 9,
        "start_time": "2022-01-13T14:50:58.063Z"
      },
      {
        "duration": 9,
        "start_time": "2022-01-13T14:50:58.076Z"
      },
      {
        "duration": 8,
        "start_time": "2022-01-13T14:50:58.088Z"
      },
      {
        "duration": 9,
        "start_time": "2022-01-13T14:50:58.099Z"
      },
      {
        "duration": 334,
        "start_time": "2022-01-13T14:50:58.111Z"
      },
      {
        "duration": 21,
        "start_time": "2022-01-13T14:50:58.448Z"
      },
      {
        "duration": 17,
        "start_time": "2022-01-13T14:50:58.472Z"
      },
      {
        "duration": 10,
        "start_time": "2022-01-13T14:50:58.493Z"
      },
      {
        "duration": 6,
        "start_time": "2022-01-13T14:50:58.506Z"
      },
      {
        "duration": 59,
        "start_time": "2022-01-13T14:50:58.514Z"
      },
      {
        "duration": 22,
        "start_time": "2022-01-13T14:50:58.576Z"
      },
      {
        "duration": 13,
        "start_time": "2022-01-13T14:50:58.600Z"
      },
      {
        "duration": 45,
        "start_time": "2022-01-13T14:50:58.615Z"
      },
      {
        "duration": 5,
        "start_time": "2022-01-13T14:50:58.666Z"
      },
      {
        "duration": 9,
        "start_time": "2022-01-13T14:50:58.674Z"
      },
      {
        "duration": 8,
        "start_time": "2022-01-13T14:50:58.685Z"
      },
      {
        "duration": 185685,
        "start_time": "2022-01-13T14:50:58.695Z"
      },
      {
        "duration": 11,
        "start_time": "2022-01-13T14:54:04.383Z"
      },
      {
        "duration": 7,
        "start_time": "2022-01-13T14:54:04.397Z"
      },
      {
        "duration": 10,
        "start_time": "2022-01-13T14:54:04.407Z"
      },
      {
        "duration": 42,
        "start_time": "2022-01-13T14:54:04.419Z"
      },
      {
        "duration": 646,
        "start_time": "2022-01-14T05:24:11.140Z"
      },
      {
        "duration": 28,
        "start_time": "2022-01-14T05:24:11.788Z"
      },
      {
        "duration": 15,
        "start_time": "2022-01-14T05:24:11.818Z"
      },
      {
        "duration": 9,
        "start_time": "2022-01-14T05:24:11.835Z"
      },
      {
        "duration": 3,
        "start_time": "2022-01-14T05:24:11.846Z"
      },
      {
        "duration": 9,
        "start_time": "2022-01-14T05:24:11.851Z"
      },
      {
        "duration": 9,
        "start_time": "2022-01-14T05:24:11.862Z"
      },
      {
        "duration": 27,
        "start_time": "2022-01-14T05:24:11.874Z"
      },
      {
        "duration": 4,
        "start_time": "2022-01-14T05:24:11.903Z"
      },
      {
        "duration": 200,
        "start_time": "2022-01-14T05:24:11.909Z"
      },
      {
        "duration": 7,
        "start_time": "2022-01-14T05:24:12.111Z"
      },
      {
        "duration": 8,
        "start_time": "2022-01-14T05:24:12.120Z"
      },
      {
        "duration": 5,
        "start_time": "2022-01-14T05:24:12.130Z"
      },
      {
        "duration": 4,
        "start_time": "2022-01-14T05:24:12.137Z"
      },
      {
        "duration": 13,
        "start_time": "2022-01-14T05:24:12.142Z"
      },
      {
        "duration": 514,
        "start_time": "2022-01-14T05:24:12.156Z"
      },
      {
        "duration": 16,
        "start_time": "2022-01-14T05:24:12.672Z"
      },
      {
        "duration": 12,
        "start_time": "2022-01-14T05:24:12.689Z"
      },
      {
        "duration": 3,
        "start_time": "2022-01-14T05:24:12.703Z"
      },
      {
        "duration": 5,
        "start_time": "2022-01-14T05:24:12.708Z"
      },
      {
        "duration": 5,
        "start_time": "2022-01-14T05:24:12.715Z"
      },
      {
        "duration": 116129,
        "start_time": "2022-01-14T05:24:12.721Z"
      },
      {
        "duration": 8,
        "start_time": "2022-01-14T05:26:08.853Z"
      },
      {
        "duration": 5,
        "start_time": "2022-01-14T05:26:08.863Z"
      },
      {
        "duration": 8,
        "start_time": "2022-01-14T05:26:08.869Z"
      },
      {
        "duration": 23,
        "start_time": "2022-01-14T05:26:08.878Z"
      },
      {
        "duration": 243454,
        "start_time": "2022-01-14T05:26:08.903Z"
      },
      {
        "duration": 112,
        "start_time": "2022-01-14T05:30:12.359Z"
      },
      {
        "duration": 5,
        "start_time": "2022-01-14T05:30:12.473Z"
      },
      {
        "duration": 7,
        "start_time": "2022-01-14T05:30:12.479Z"
      },
      {
        "duration": 14,
        "start_time": "2022-01-14T05:30:12.488Z"
      },
      {
        "duration": 11,
        "start_time": "2022-01-14T05:30:12.504Z"
      },
      {
        "duration": 388,
        "start_time": "2022-01-14T05:30:12.517Z"
      },
      {
        "duration": 2420,
        "start_time": "2022-01-14T05:30:10.487Z"
      },
      {
        "duration": 2415,
        "start_time": "2022-01-14T05:30:10.493Z"
      },
      {
        "duration": 2412,
        "start_time": "2022-01-14T05:30:10.498Z"
      },
      {
        "duration": 2408,
        "start_time": "2022-01-14T05:30:10.503Z"
      },
      {
        "duration": 2394,
        "start_time": "2022-01-14T05:30:10.518Z"
      },
      {
        "duration": 2391,
        "start_time": "2022-01-14T05:30:10.522Z"
      },
      {
        "duration": 2387,
        "start_time": "2022-01-14T05:30:10.527Z"
      },
      {
        "duration": 2384,
        "start_time": "2022-01-14T05:30:10.531Z"
      },
      {
        "duration": 2381,
        "start_time": "2022-01-14T05:30:10.535Z"
      },
      {
        "duration": 2377,
        "start_time": "2022-01-14T05:30:10.540Z"
      },
      {
        "duration": 2372,
        "start_time": "2022-01-14T05:30:10.546Z"
      },
      {
        "duration": 2369,
        "start_time": "2022-01-14T05:30:10.550Z"
      },
      {
        "duration": 9,
        "start_time": "2022-01-14T05:30:52.511Z"
      },
      {
        "duration": 7,
        "start_time": "2022-01-14T05:31:15.368Z"
      },
      {
        "duration": 8,
        "start_time": "2022-01-14T05:31:16.059Z"
      },
      {
        "duration": 8,
        "start_time": "2022-01-14T05:32:00.277Z"
      },
      {
        "duration": 6,
        "start_time": "2022-01-14T05:32:03.774Z"
      },
      {
        "duration": 9,
        "start_time": "2022-01-14T05:32:04.303Z"
      },
      {
        "duration": 338,
        "start_time": "2022-01-14T05:36:42.212Z"
      },
      {
        "duration": 4,
        "start_time": "2022-01-14T05:37:24.786Z"
      },
      {
        "duration": 16,
        "start_time": "2022-01-14T05:37:33.914Z"
      },
      {
        "duration": 257,
        "start_time": "2022-01-14T05:37:42.010Z"
      },
      {
        "duration": 6,
        "start_time": "2022-01-14T05:37:46.103Z"
      },
      {
        "duration": 120710,
        "start_time": "2022-01-14T05:38:23.760Z"
      },
      {
        "duration": 13,
        "start_time": "2022-01-14T05:43:04.719Z"
      },
      {
        "duration": 276,
        "start_time": "2022-01-14T05:57:17.952Z"
      },
      {
        "duration": 5,
        "start_time": "2022-01-14T05:58:05.218Z"
      },
      {
        "duration": 4,
        "start_time": "2022-01-14T05:58:31.492Z"
      },
      {
        "duration": 3,
        "start_time": "2022-01-14T05:59:07.889Z"
      },
      {
        "duration": 13454,
        "start_time": "2022-01-14T05:59:12.146Z"
      },
      {
        "duration": 12501,
        "start_time": "2022-01-14T06:00:47.414Z"
      },
      {
        "duration": 10943,
        "start_time": "2022-01-14T06:01:24.449Z"
      },
      {
        "duration": 11396,
        "start_time": "2022-01-14T06:05:42.791Z"
      },
      {
        "duration": 13708,
        "start_time": "2022-01-14T06:09:20.845Z"
      },
      {
        "duration": 9,
        "start_time": "2022-01-14T06:10:10.231Z"
      },
      {
        "duration": 6,
        "start_time": "2022-01-14T06:10:47.885Z"
      },
      {
        "duration": 8,
        "start_time": "2022-01-14T06:10:48.705Z"
      },
      {
        "duration": 6,
        "start_time": "2022-01-14T08:36:30.202Z"
      },
      {
        "duration": 5,
        "start_time": "2022-01-14T08:36:42.481Z"
      },
      {
        "duration": 12,
        "start_time": "2022-01-14T08:36:43.690Z"
      },
      {
        "duration": 6,
        "start_time": "2022-01-14T08:36:45.204Z"
      },
      {
        "duration": 502,
        "start_time": "2022-01-14T08:42:59.022Z"
      },
      {
        "duration": 8,
        "start_time": "2022-01-14T08:43:20.047Z"
      },
      {
        "duration": 12,
        "start_time": "2022-01-14T08:43:32.145Z"
      },
      {
        "duration": 5,
        "start_time": "2022-01-14T08:43:32.788Z"
      },
      {
        "duration": 8,
        "start_time": "2022-01-14T08:43:33.418Z"
      },
      {
        "duration": 8,
        "start_time": "2022-01-14T08:43:34.078Z"
      },
      {
        "duration": 710,
        "start_time": "2022-01-14T08:43:51.199Z"
      },
      {
        "duration": 30,
        "start_time": "2022-01-14T08:43:51.913Z"
      },
      {
        "duration": 16,
        "start_time": "2022-01-14T08:43:51.945Z"
      },
      {
        "duration": 9,
        "start_time": "2022-01-14T08:43:51.963Z"
      },
      {
        "duration": 5,
        "start_time": "2022-01-14T08:43:51.973Z"
      },
      {
        "duration": 20,
        "start_time": "2022-01-14T08:43:51.979Z"
      },
      {
        "duration": 11,
        "start_time": "2022-01-14T08:43:52.002Z"
      },
      {
        "duration": 6,
        "start_time": "2022-01-14T08:43:52.016Z"
      },
      {
        "duration": 5,
        "start_time": "2022-01-14T08:43:52.024Z"
      },
      {
        "duration": 246,
        "start_time": "2022-01-14T08:43:52.031Z"
      },
      {
        "duration": 7,
        "start_time": "2022-01-14T08:43:52.279Z"
      },
      {
        "duration": 20,
        "start_time": "2022-01-14T08:43:52.288Z"
      },
      {
        "duration": 6,
        "start_time": "2022-01-14T08:43:52.309Z"
      },
      {
        "duration": 7,
        "start_time": "2022-01-14T08:43:52.317Z"
      },
      {
        "duration": 33,
        "start_time": "2022-01-14T08:43:52.325Z"
      },
      {
        "duration": 479,
        "start_time": "2022-01-14T08:43:52.360Z"
      },
      {
        "duration": 16,
        "start_time": "2022-01-14T08:43:52.841Z"
      },
      {
        "duration": 10,
        "start_time": "2022-01-14T08:43:52.859Z"
      },
      {
        "duration": 13,
        "start_time": "2022-01-14T08:43:52.871Z"
      },
      {
        "duration": 25,
        "start_time": "2022-01-14T08:43:52.886Z"
      },
      {
        "duration": 12,
        "start_time": "2022-01-14T08:43:52.913Z"
      },
      {
        "duration": 127396,
        "start_time": "2022-01-14T08:43:52.929Z"
      },
      {
        "duration": 8,
        "start_time": "2022-01-14T08:46:00.327Z"
      },
      {
        "duration": 9,
        "start_time": "2022-01-14T08:46:00.337Z"
      },
      {
        "duration": 11,
        "start_time": "2022-01-14T08:46:00.347Z"
      },
      {
        "duration": 11,
        "start_time": "2022-01-14T08:46:00.360Z"
      },
      {
        "duration": 268005,
        "start_time": "2022-01-14T08:46:00.373Z"
      },
      {
        "duration": 20,
        "start_time": "2022-01-14T08:50:28.380Z"
      },
      {
        "duration": 11,
        "start_time": "2022-01-14T08:50:28.403Z"
      },
      {
        "duration": 12,
        "start_time": "2022-01-14T08:50:28.416Z"
      },
      {
        "duration": 4,
        "start_time": "2022-01-14T08:50:28.430Z"
      },
      {
        "duration": 6080,
        "start_time": "2022-01-14T08:50:28.435Z"
      },
      {
        "duration": 2207,
        "start_time": "2022-01-14T08:50:32.311Z"
      },
      {
        "duration": 2184,
        "start_time": "2022-01-14T08:50:32.336Z"
      },
      {
        "duration": 2174,
        "start_time": "2022-01-14T08:50:32.347Z"
      },
      {
        "duration": 2164,
        "start_time": "2022-01-14T08:50:32.359Z"
      },
      {
        "duration": 2154,
        "start_time": "2022-01-14T08:50:32.370Z"
      },
      {
        "duration": 2147,
        "start_time": "2022-01-14T08:50:32.379Z"
      },
      {
        "duration": 2140,
        "start_time": "2022-01-14T08:50:32.387Z"
      },
      {
        "duration": 2135,
        "start_time": "2022-01-14T08:50:32.394Z"
      },
      {
        "duration": 2130,
        "start_time": "2022-01-14T08:50:32.400Z"
      },
      {
        "duration": 2111,
        "start_time": "2022-01-14T08:50:32.420Z"
      },
      {
        "duration": 2107,
        "start_time": "2022-01-14T08:50:32.426Z"
      },
      {
        "duration": 2103,
        "start_time": "2022-01-14T08:50:32.431Z"
      },
      {
        "duration": 2095,
        "start_time": "2022-01-14T08:50:32.439Z"
      },
      {
        "duration": 2090,
        "start_time": "2022-01-14T08:50:32.446Z"
      },
      {
        "duration": 2084,
        "start_time": "2022-01-14T08:50:32.453Z"
      },
      {
        "duration": 2079,
        "start_time": "2022-01-14T08:50:32.459Z"
      },
      {
        "duration": 2073,
        "start_time": "2022-01-14T08:50:32.466Z"
      },
      {
        "duration": 5416,
        "start_time": "2022-01-14T08:52:22.134Z"
      },
      {
        "duration": 5376,
        "start_time": "2022-01-14T08:52:47.951Z"
      },
      {
        "duration": 265384,
        "start_time": "2022-01-14T08:56:57.695Z"
      },
      {
        "duration": 10,
        "start_time": "2022-01-14T09:02:22.237Z"
      },
      {
        "duration": 6,
        "start_time": "2022-01-14T09:02:22.936Z"
      },
      {
        "duration": 8,
        "start_time": "2022-01-14T09:02:23.646Z"
      },
      {
        "duration": 3,
        "start_time": "2022-01-14T09:02:28.403Z"
      },
      {
        "duration": 6945,
        "start_time": "2022-01-14T09:02:29.622Z"
      },
      {
        "duration": 5599,
        "start_time": "2022-01-14T09:03:14.779Z"
      },
      {
        "duration": 5539,
        "start_time": "2022-01-14T09:04:37.679Z"
      },
      {
        "duration": 20183,
        "start_time": "2022-01-14T09:05:24.630Z"
      },
      {
        "duration": 12,
        "start_time": "2022-01-14T09:06:47.915Z"
      },
      {
        "duration": 6,
        "start_time": "2022-01-14T09:06:49.116Z"
      },
      {
        "duration": 14,
        "start_time": "2022-01-14T09:06:49.904Z"
      },
      {
        "duration": 7,
        "start_time": "2022-01-14T09:11:03.848Z"
      },
      {
        "duration": 5,
        "start_time": "2022-01-14T09:11:04.548Z"
      },
      {
        "duration": 11,
        "start_time": "2022-01-14T09:11:06.286Z"
      },
      {
        "duration": 6,
        "start_time": "2022-01-14T09:11:07.823Z"
      },
      {
        "duration": 544,
        "start_time": "2022-01-14T09:11:12.736Z"
      },
      {
        "duration": 8,
        "start_time": "2022-01-14T09:11:14.761Z"
      },
      {
        "duration": 7,
        "start_time": "2022-01-14T09:11:15.662Z"
      },
      {
        "duration": 8,
        "start_time": "2022-01-14T09:11:16.548Z"
      },
      {
        "duration": 1124,
        "start_time": "2022-01-14T09:11:29.410Z"
      },
      {
        "duration": 1112,
        "start_time": "2022-01-14T09:11:36.472Z"
      },
      {
        "duration": 10,
        "start_time": "2022-01-14T09:11:43.226Z"
      },
      {
        "duration": 8,
        "start_time": "2022-01-14T09:11:45.330Z"
      },
      {
        "duration": 9,
        "start_time": "2022-01-14T09:11:46.864Z"
      },
      {
        "duration": 4911,
        "start_time": "2022-01-14T09:12:10.761Z"
      },
      {
        "duration": 10,
        "start_time": "2022-01-14T09:12:28.958Z"
      },
      {
        "duration": 6,
        "start_time": "2022-01-14T09:12:29.938Z"
      },
      {
        "duration": 10,
        "start_time": "2022-01-14T09:12:30.613Z"
      },
      {
        "duration": 3,
        "start_time": "2022-01-14T09:19:28.675Z"
      },
      {
        "duration": 7,
        "start_time": "2022-01-14T09:19:33.713Z"
      },
      {
        "duration": 7,
        "start_time": "2022-01-14T09:24:25.705Z"
      },
      {
        "duration": 6,
        "start_time": "2022-01-14T09:24:27.949Z"
      },
      {
        "duration": 8,
        "start_time": "2022-01-14T09:24:28.417Z"
      },
      {
        "duration": 7,
        "start_time": "2022-01-14T09:24:43.782Z"
      },
      {
        "duration": 8,
        "start_time": "2022-01-14T09:24:44.341Z"
      },
      {
        "duration": 8,
        "start_time": "2022-01-14T09:24:50.141Z"
      },
      {
        "duration": 17,
        "start_time": "2022-01-14T09:24:50.599Z"
      },
      {
        "duration": 8,
        "start_time": "2022-01-14T09:24:56.386Z"
      },
      {
        "duration": 9,
        "start_time": "2022-01-14T09:24:56.825Z"
      },
      {
        "duration": 8,
        "start_time": "2022-01-14T09:25:01.626Z"
      },
      {
        "duration": 13,
        "start_time": "2022-01-14T09:25:02.095Z"
      },
      {
        "duration": 11,
        "start_time": "2022-01-14T09:25:13.863Z"
      },
      {
        "duration": 8,
        "start_time": "2022-01-14T09:25:15.014Z"
      },
      {
        "duration": 9,
        "start_time": "2022-01-14T09:25:15.578Z"
      },
      {
        "duration": 10,
        "start_time": "2022-01-14T09:25:22.821Z"
      },
      {
        "duration": 272,
        "start_time": "2022-01-14T09:27:20.784Z"
      },
      {
        "duration": 44,
        "start_time": "2022-01-14T09:28:14.936Z"
      },
      {
        "duration": 10,
        "start_time": "2022-01-14T09:28:27.959Z"
      },
      {
        "duration": 274,
        "start_time": "2022-01-14T09:28:29.404Z"
      },
      {
        "duration": 273,
        "start_time": "2022-01-14T09:43:58.344Z"
      },
      {
        "duration": 7542,
        "start_time": "2022-01-14T09:44:28.804Z"
      },
      {
        "duration": 4,
        "start_time": "2022-01-14T09:44:43.954Z"
      },
      {
        "duration": 3,
        "start_time": "2022-01-14T09:44:58.875Z"
      },
      {
        "duration": 11,
        "start_time": "2022-01-14T09:45:34.109Z"
      },
      {
        "duration": 10,
        "start_time": "2022-01-14T09:46:55.781Z"
      },
      {
        "duration": 10,
        "start_time": "2022-01-14T09:46:56.646Z"
      },
      {
        "duration": 9,
        "start_time": "2022-01-14T09:47:29.019Z"
      },
      {
        "duration": 5,
        "start_time": "2022-01-14T09:47:29.602Z"
      },
      {
        "duration": 4,
        "start_time": "2022-01-14T09:47:30.160Z"
      },
      {
        "duration": 8,
        "start_time": "2022-01-14T09:47:30.736Z"
      },
      {
        "duration": 11,
        "start_time": "2022-01-14T09:47:31.526Z"
      },
      {
        "duration": 5,
        "start_time": "2022-01-14T09:49:03.439Z"
      },
      {
        "duration": 10,
        "start_time": "2022-01-14T09:49:38.964Z"
      },
      {
        "duration": 3,
        "start_time": "2022-01-14T09:49:39.597Z"
      },
      {
        "duration": 3,
        "start_time": "2022-01-14T09:49:40.282Z"
      },
      {
        "duration": 7,
        "start_time": "2022-01-14T09:49:41.133Z"
      },
      {
        "duration": 10,
        "start_time": "2022-01-14T09:49:42.037Z"
      },
      {
        "duration": 329,
        "start_time": "2022-01-14T09:51:26.962Z"
      },
      {
        "duration": 267,
        "start_time": "2022-01-14T09:51:37.875Z"
      },
      {
        "duration": 131,
        "start_time": "2022-01-14T11:11:27.105Z"
      },
      {
        "duration": 8,
        "start_time": "2022-01-14T11:12:01.878Z"
      },
      {
        "duration": 9,
        "start_time": "2022-01-14T11:12:08.490Z"
      },
      {
        "duration": 6,
        "start_time": "2022-01-14T11:12:12.080Z"
      },
      {
        "duration": 10,
        "start_time": "2022-01-14T11:12:13.624Z"
      },
      {
        "duration": 6,
        "start_time": "2022-01-14T11:14:00.616Z"
      },
      {
        "duration": 12,
        "start_time": "2022-01-14T11:14:01.147Z"
      },
      {
        "duration": 349,
        "start_time": "2022-01-14T11:14:37.515Z"
      },
      {
        "duration": 286,
        "start_time": "2022-01-14T11:15:19.238Z"
      },
      {
        "duration": 342,
        "start_time": "2022-01-14T11:15:39.645Z"
      },
      {
        "duration": 6,
        "start_time": "2022-01-14T11:16:49.198Z"
      },
      {
        "duration": 3,
        "start_time": "2022-01-14T11:17:08.327Z"
      },
      {
        "duration": 349,
        "start_time": "2022-01-14T11:17:51.309Z"
      },
      {
        "duration": 3,
        "start_time": "2022-01-14T11:18:09.333Z"
      },
      {
        "duration": 4303,
        "start_time": "2022-01-14T11:19:07.402Z"
      },
      {
        "duration": 4341,
        "start_time": "2022-01-14T11:19:23.616Z"
      },
      {
        "duration": 13,
        "start_time": "2022-01-14T11:20:48.172Z"
      },
      {
        "duration": 12,
        "start_time": "2022-01-14T11:21:27.690Z"
      },
      {
        "duration": 8,
        "start_time": "2022-01-14T11:21:28.592Z"
      },
      {
        "duration": 12,
        "start_time": "2022-01-14T11:21:31.119Z"
      },
      {
        "duration": 201,
        "start_time": "2022-01-14T11:21:59.804Z"
      },
      {
        "duration": 11,
        "start_time": "2022-01-14T11:23:10.757Z"
      },
      {
        "duration": 11,
        "start_time": "2022-01-14T11:23:30.270Z"
      },
      {
        "duration": 7,
        "start_time": "2022-01-14T11:23:42.369Z"
      },
      {
        "duration": 11,
        "start_time": "2022-01-14T11:23:50.317Z"
      },
      {
        "duration": 12,
        "start_time": "2022-01-14T11:24:42.180Z"
      },
      {
        "duration": 9,
        "start_time": "2022-01-14T11:24:43.763Z"
      },
      {
        "duration": 10,
        "start_time": "2022-01-14T11:24:57.005Z"
      },
      {
        "duration": 3,
        "start_time": "2022-01-14T11:25:09.975Z"
      },
      {
        "duration": 5,
        "start_time": "2022-01-14T11:25:15.385Z"
      },
      {
        "duration": 8,
        "start_time": "2022-01-14T11:29:17.756Z"
      },
      {
        "duration": 5,
        "start_time": "2022-01-14T11:29:18.364Z"
      },
      {
        "duration": 11,
        "start_time": "2022-01-14T11:29:19.539Z"
      },
      {
        "duration": 331,
        "start_time": "2022-01-14T11:34:56.235Z"
      },
      {
        "duration": 346,
        "start_time": "2022-01-14T11:35:37.787Z"
      },
      {
        "duration": 7,
        "start_time": "2022-01-14T11:36:02.022Z"
      },
      {
        "duration": 7,
        "start_time": "2022-01-14T11:36:06.299Z"
      },
      {
        "duration": 11,
        "start_time": "2022-01-14T11:36:08.184Z"
      },
      {
        "duration": 355,
        "start_time": "2022-01-14T11:36:46.732Z"
      },
      {
        "duration": 568,
        "start_time": "2022-01-14T11:38:44.016Z"
      },
      {
        "duration": 366,
        "start_time": "2022-01-14T11:39:13.045Z"
      },
      {
        "duration": 5,
        "start_time": "2022-01-14T11:42:55.795Z"
      },
      {
        "duration": 6,
        "start_time": "2022-01-14T11:43:35.280Z"
      },
      {
        "duration": 7,
        "start_time": "2022-01-14T11:43:45.960Z"
      },
      {
        "duration": 8,
        "start_time": "2022-01-14T11:43:51.205Z"
      },
      {
        "duration": 6,
        "start_time": "2022-01-14T11:43:55.983Z"
      },
      {
        "duration": 277,
        "start_time": "2022-01-14T11:48:47.576Z"
      },
      {
        "duration": 5,
        "start_time": "2022-01-14T11:48:57.572Z"
      },
      {
        "duration": 6,
        "start_time": "2022-01-14T11:49:26.647Z"
      },
      {
        "duration": 5,
        "start_time": "2022-01-14T11:49:39.727Z"
      },
      {
        "duration": 5,
        "start_time": "2022-01-14T11:49:51.454Z"
      },
      {
        "duration": 5,
        "start_time": "2022-01-14T11:50:00.957Z"
      },
      {
        "duration": 5,
        "start_time": "2022-01-14T11:50:11.350Z"
      },
      {
        "duration": 11,
        "start_time": "2022-01-14T11:52:33.581Z"
      },
      {
        "duration": 5,
        "start_time": "2022-01-14T11:55:28.882Z"
      },
      {
        "duration": 5,
        "start_time": "2022-01-14T11:55:33.293Z"
      },
      {
        "duration": 316,
        "start_time": "2022-01-14T11:59:47.692Z"
      },
      {
        "duration": 5,
        "start_time": "2022-01-14T12:06:40.893Z"
      },
      {
        "duration": 5,
        "start_time": "2022-01-14T12:07:12.411Z"
      },
      {
        "duration": 307,
        "start_time": "2022-01-14T12:11:16.960Z"
      },
      {
        "duration": 494,
        "start_time": "2022-01-14T12:11:26.646Z"
      },
      {
        "duration": 5,
        "start_time": "2022-01-14T12:12:23.592Z"
      },
      {
        "duration": 540,
        "start_time": "2022-01-14T12:12:28.994Z"
      },
      {
        "duration": 5,
        "start_time": "2022-01-14T12:13:19.204Z"
      },
      {
        "duration": 378,
        "start_time": "2022-01-14T12:19:10.476Z"
      },
      {
        "duration": 1355,
        "start_time": "2022-01-14T12:20:23.619Z"
      },
      {
        "duration": 497,
        "start_time": "2022-01-14T12:25:34.696Z"
      },
      {
        "duration": 267,
        "start_time": "2022-01-14T12:29:07.394Z"
      },
      {
        "duration": 281,
        "start_time": "2022-01-14T12:36:58.318Z"
      },
      {
        "duration": 6,
        "start_time": "2022-01-14T12:37:03.966Z"
      },
      {
        "duration": 6,
        "start_time": "2022-01-14T12:37:05.440Z"
      },
      {
        "duration": 7,
        "start_time": "2022-01-14T12:37:07.446Z"
      },
      {
        "duration": 7,
        "start_time": "2022-01-14T12:38:08.530Z"
      },
      {
        "duration": 7,
        "start_time": "2022-01-14T12:38:09.665Z"
      },
      {
        "duration": 7,
        "start_time": "2022-01-14T12:38:38.415Z"
      },
      {
        "duration": 8,
        "start_time": "2022-01-14T12:38:39.136Z"
      },
      {
        "duration": 8,
        "start_time": "2022-01-14T12:40:35.792Z"
      },
      {
        "duration": 282,
        "start_time": "2022-01-14T12:41:10.054Z"
      },
      {
        "duration": 5686,
        "start_time": "2022-01-14T12:41:17.137Z"
      },
      {
        "duration": 12,
        "start_time": "2022-01-14T12:41:45.551Z"
      },
      {
        "duration": 282,
        "start_time": "2022-01-14T12:42:14.511Z"
      },
      {
        "duration": 5082,
        "start_time": "2022-01-14T12:42:22.474Z"
      },
      {
        "duration": 6482,
        "start_time": "2022-01-14T12:42:32.549Z"
      },
      {
        "duration": 8,
        "start_time": "2022-01-14T12:42:44.259Z"
      },
      {
        "duration": 6983,
        "start_time": "2022-01-14T12:42:52.238Z"
      },
      {
        "duration": 5421,
        "start_time": "2022-01-14T12:44:10.196Z"
      },
      {
        "duration": 3,
        "start_time": "2022-01-14T12:45:22.654Z"
      },
      {
        "duration": 96,
        "start_time": "2022-01-14T12:45:34.308Z"
      },
      {
        "duration": 4,
        "start_time": "2022-01-14T12:45:38.933Z"
      },
      {
        "duration": 8,
        "start_time": "2022-01-14T12:45:41.588Z"
      },
      {
        "duration": 4,
        "start_time": "2022-01-14T12:46:01.416Z"
      },
      {
        "duration": 9,
        "start_time": "2022-01-14T12:46:02.015Z"
      },
      {
        "duration": 4,
        "start_time": "2022-01-14T12:46:49.931Z"
      },
      {
        "duration": 8,
        "start_time": "2022-01-14T12:46:50.690Z"
      },
      {
        "duration": 4,
        "start_time": "2022-01-14T12:47:25.255Z"
      },
      {
        "duration": 9,
        "start_time": "2022-01-14T12:47:26.467Z"
      },
      {
        "duration": 4,
        "start_time": "2022-01-14T12:48:01.497Z"
      },
      {
        "duration": 8,
        "start_time": "2022-01-14T12:48:02.226Z"
      },
      {
        "duration": 4,
        "start_time": "2022-01-14T12:48:29.113Z"
      },
      {
        "duration": 8,
        "start_time": "2022-01-14T12:48:29.753Z"
      },
      {
        "duration": 3,
        "start_time": "2022-01-14T12:48:49.400Z"
      },
      {
        "duration": 8,
        "start_time": "2022-01-14T12:48:53.270Z"
      },
      {
        "duration": 4,
        "start_time": "2022-01-14T12:49:15.001Z"
      },
      {
        "duration": 8,
        "start_time": "2022-01-14T12:49:15.759Z"
      },
      {
        "duration": 8,
        "start_time": "2022-01-14T12:50:28.590Z"
      },
      {
        "duration": 8,
        "start_time": "2022-01-14T12:50:45.549Z"
      },
      {
        "duration": 212,
        "start_time": "2022-01-14T12:50:49.475Z"
      },
      {
        "duration": 203,
        "start_time": "2022-01-14T12:51:00.171Z"
      },
      {
        "duration": 202,
        "start_time": "2022-01-14T12:51:40.581Z"
      },
      {
        "duration": 706,
        "start_time": "2022-01-14T12:51:52.798Z"
      },
      {
        "duration": 30,
        "start_time": "2022-01-14T12:51:53.506Z"
      },
      {
        "duration": 16,
        "start_time": "2022-01-14T12:51:53.538Z"
      },
      {
        "duration": 9,
        "start_time": "2022-01-14T12:51:53.556Z"
      },
      {
        "duration": 4,
        "start_time": "2022-01-14T12:51:53.567Z"
      },
      {
        "duration": 24,
        "start_time": "2022-01-14T12:51:53.572Z"
      },
      {
        "duration": 16,
        "start_time": "2022-01-14T12:51:53.597Z"
      },
      {
        "duration": 9,
        "start_time": "2022-01-14T12:51:53.615Z"
      },
      {
        "duration": 18,
        "start_time": "2022-01-14T12:51:53.627Z"
      },
      {
        "duration": 211,
        "start_time": "2022-01-14T12:51:53.648Z"
      },
      {
        "duration": 8,
        "start_time": "2022-01-14T12:51:53.861Z"
      },
      {
        "duration": 22,
        "start_time": "2022-01-14T12:51:53.870Z"
      },
      {
        "duration": 7,
        "start_time": "2022-01-14T12:51:53.899Z"
      },
      {
        "duration": 21,
        "start_time": "2022-01-14T12:51:53.907Z"
      },
      {
        "duration": 21,
        "start_time": "2022-01-14T12:51:53.930Z"
      },
      {
        "duration": 442,
        "start_time": "2022-01-14T12:51:53.953Z"
      },
      {
        "duration": 20,
        "start_time": "2022-01-14T12:51:54.397Z"
      },
      {
        "duration": 8,
        "start_time": "2022-01-14T12:51:54.418Z"
      },
      {
        "duration": 5,
        "start_time": "2022-01-14T12:51:54.428Z"
      },
      {
        "duration": 6,
        "start_time": "2022-01-14T12:51:54.435Z"
      },
      {
        "duration": 6,
        "start_time": "2022-01-14T12:51:54.442Z"
      },
      {
        "duration": 121138,
        "start_time": "2022-01-14T12:51:54.450Z"
      },
      {
        "duration": 14,
        "start_time": "2022-01-14T12:53:55.590Z"
      },
      {
        "duration": 5,
        "start_time": "2022-01-14T12:53:55.606Z"
      },
      {
        "duration": 7,
        "start_time": "2022-01-14T12:53:55.613Z"
      },
      {
        "duration": 10,
        "start_time": "2022-01-14T12:53:55.622Z"
      },
      {
        "duration": 251366,
        "start_time": "2022-01-14T12:53:55.637Z"
      },
      {
        "duration": 10,
        "start_time": "2022-01-14T12:58:07.005Z"
      },
      {
        "duration": 7,
        "start_time": "2022-01-14T12:58:07.017Z"
      },
      {
        "duration": 10,
        "start_time": "2022-01-14T12:58:07.026Z"
      },
      {
        "duration": 4,
        "start_time": "2022-01-14T12:58:07.038Z"
      },
      {
        "duration": 3592,
        "start_time": "2022-01-14T12:58:07.044Z"
      },
      {
        "duration": 2654,
        "start_time": "2022-01-14T12:58:07.984Z"
      },
      {
        "duration": 2651,
        "start_time": "2022-01-14T12:58:07.988Z"
      },
      {
        "duration": 2646,
        "start_time": "2022-01-14T12:58:07.993Z"
      },
      {
        "duration": 2641,
        "start_time": "2022-01-14T12:58:08.000Z"
      },
      {
        "duration": 2638,
        "start_time": "2022-01-14T12:58:08.004Z"
      },
      {
        "duration": 2633,
        "start_time": "2022-01-14T12:58:08.010Z"
      },
      {
        "duration": 2629,
        "start_time": "2022-01-14T12:58:08.014Z"
      },
      {
        "duration": 2625,
        "start_time": "2022-01-14T12:58:08.020Z"
      },
      {
        "duration": 2622,
        "start_time": "2022-01-14T12:58:08.024Z"
      },
      {
        "duration": 2618,
        "start_time": "2022-01-14T12:58:08.029Z"
      },
      {
        "duration": 2615,
        "start_time": "2022-01-14T12:58:08.033Z"
      },
      {
        "duration": 2612,
        "start_time": "2022-01-14T12:58:08.037Z"
      },
      {
        "duration": 2607,
        "start_time": "2022-01-14T12:58:08.043Z"
      },
      {
        "duration": 2604,
        "start_time": "2022-01-14T12:58:08.047Z"
      },
      {
        "duration": 2601,
        "start_time": "2022-01-14T12:58:08.051Z"
      },
      {
        "duration": 2597,
        "start_time": "2022-01-14T12:58:08.056Z"
      },
      {
        "duration": 2594,
        "start_time": "2022-01-14T12:58:08.060Z"
      },
      {
        "duration": 2590,
        "start_time": "2022-01-14T12:58:08.065Z"
      },
      {
        "duration": 2586,
        "start_time": "2022-01-14T12:58:08.069Z"
      },
      {
        "duration": 2583,
        "start_time": "2022-01-14T12:58:08.073Z"
      },
      {
        "duration": 2580,
        "start_time": "2022-01-14T12:58:08.077Z"
      },
      {
        "duration": 2578,
        "start_time": "2022-01-14T12:58:08.081Z"
      },
      {
        "duration": 2573,
        "start_time": "2022-01-14T12:58:08.086Z"
      },
      {
        "duration": 2571,
        "start_time": "2022-01-14T12:58:08.090Z"
      },
      {
        "duration": 2566,
        "start_time": "2022-01-14T12:58:08.095Z"
      },
      {
        "duration": 2563,
        "start_time": "2022-01-14T12:58:08.099Z"
      },
      {
        "duration": 2559,
        "start_time": "2022-01-14T12:58:08.104Z"
      },
      {
        "duration": 2556,
        "start_time": "2022-01-14T12:58:08.108Z"
      },
      {
        "duration": 2553,
        "start_time": "2022-01-14T12:58:08.112Z"
      },
      {
        "duration": 2550,
        "start_time": "2022-01-14T12:58:08.116Z"
      },
      {
        "duration": 2547,
        "start_time": "2022-01-14T12:58:08.120Z"
      },
      {
        "duration": 2544,
        "start_time": "2022-01-14T12:58:08.124Z"
      },
      {
        "duration": 2541,
        "start_time": "2022-01-14T12:58:08.128Z"
      },
      {
        "duration": 2538,
        "start_time": "2022-01-14T12:58:08.132Z"
      },
      {
        "duration": 2535,
        "start_time": "2022-01-14T12:58:08.136Z"
      },
      {
        "duration": 2531,
        "start_time": "2022-01-14T12:58:08.140Z"
      },
      {
        "duration": 2528,
        "start_time": "2022-01-14T12:58:08.144Z"
      },
      {
        "duration": 2525,
        "start_time": "2022-01-14T12:58:08.148Z"
      },
      {
        "duration": 2522,
        "start_time": "2022-01-14T12:58:08.153Z"
      },
      {
        "duration": 2541,
        "start_time": "2022-01-14T12:58:08.157Z"
      },
      {
        "duration": 21611,
        "start_time": "2022-01-14T13:08:51.774Z"
      },
      {
        "duration": 15910,
        "start_time": "2022-01-14T13:09:32.730Z"
      },
      {
        "duration": 10,
        "start_time": "2022-01-14T13:09:48.642Z"
      },
      {
        "duration": 7,
        "start_time": "2022-01-14T13:09:48.653Z"
      },
      {
        "duration": 10,
        "start_time": "2022-01-14T13:09:48.661Z"
      },
      {
        "duration": 9,
        "start_time": "2022-01-14T13:09:48.672Z"
      },
      {
        "duration": 6,
        "start_time": "2022-01-14T13:09:48.682Z"
      },
      {
        "duration": 14,
        "start_time": "2022-01-14T13:09:48.690Z"
      },
      {
        "duration": 6,
        "start_time": "2022-01-14T13:09:48.706Z"
      },
      {
        "duration": 480,
        "start_time": "2022-01-14T13:09:48.714Z"
      },
      {
        "duration": 10,
        "start_time": "2022-01-14T13:09:49.195Z"
      },
      {
        "duration": 4,
        "start_time": "2022-01-14T13:09:49.206Z"
      },
      {
        "duration": 24,
        "start_time": "2022-01-14T13:09:49.212Z"
      },
      {
        "duration": 1004,
        "start_time": "2022-01-14T13:09:49.238Z"
      },
      {
        "duration": 9,
        "start_time": "2022-01-14T13:09:50.244Z"
      },
      {
        "duration": 5,
        "start_time": "2022-01-14T13:09:50.254Z"
      },
      {
        "duration": 17,
        "start_time": "2022-01-14T13:09:50.261Z"
      },
      {
        "duration": 3938,
        "start_time": "2022-01-14T13:09:50.280Z"
      },
      {
        "duration": 9,
        "start_time": "2022-01-14T13:09:54.220Z"
      },
      {
        "duration": 4,
        "start_time": "2022-01-14T13:09:54.231Z"
      },
      {
        "duration": 19,
        "start_time": "2022-01-14T13:09:54.236Z"
      },
      {
        "duration": 52,
        "start_time": "2022-01-14T13:09:54.256Z"
      },
      {
        "duration": 4,
        "start_time": "2022-01-14T13:09:54.310Z"
      },
      {
        "duration": 10,
        "start_time": "2022-01-14T13:09:54.317Z"
      },
      {
        "duration": 4,
        "start_time": "2022-01-14T13:09:54.329Z"
      },
      {
        "duration": 11,
        "start_time": "2022-01-14T13:09:54.335Z"
      },
      {
        "duration": 236,
        "start_time": "2022-01-14T13:09:54.348Z"
      },
      {
        "duration": 137,
        "start_time": "2022-01-14T13:09:54.586Z"
      },
      {
        "duration": 8,
        "start_time": "2022-01-14T13:09:54.725Z"
      },
      {
        "duration": 4,
        "start_time": "2022-01-14T13:09:54.735Z"
      },
      {
        "duration": 11,
        "start_time": "2022-01-14T13:09:54.741Z"
      },
      {
        "duration": 4,
        "start_time": "2022-01-14T13:09:54.754Z"
      },
      {
        "duration": 4190,
        "start_time": "2022-01-14T13:09:54.760Z"
      },
      {
        "duration": 12,
        "start_time": "2022-01-14T13:09:58.952Z"
      },
      {
        "duration": 9,
        "start_time": "2022-01-14T13:09:58.966Z"
      },
      {
        "duration": 3,
        "start_time": "2022-01-14T13:09:58.977Z"
      },
      {
        "duration": 23,
        "start_time": "2022-01-14T13:09:58.982Z"
      },
      {
        "duration": 208,
        "start_time": "2022-01-14T13:09:59.006Z"
      },
      {
        "duration": 10,
        "start_time": "2022-01-14T13:09:59.216Z"
      },
      {
        "duration": 10,
        "start_time": "2022-01-14T13:09:59.228Z"
      },
      {
        "duration": 8,
        "start_time": "2022-01-14T13:09:59.239Z"
      },
      {
        "duration": 234,
        "start_time": "2022-01-14T13:09:59.249Z"
      },
      {
        "duration": 9,
        "start_time": "2022-01-14T13:16:20.910Z"
      },
      {
        "duration": 756,
        "start_time": "2022-01-14T13:25:01.939Z"
      },
      {
        "duration": 32,
        "start_time": "2022-01-14T13:25:02.696Z"
      },
      {
        "duration": 17,
        "start_time": "2022-01-14T13:25:02.731Z"
      },
      {
        "duration": 9,
        "start_time": "2022-01-14T13:25:02.750Z"
      },
      {
        "duration": 4,
        "start_time": "2022-01-14T13:25:02.760Z"
      },
      {
        "duration": 5,
        "start_time": "2022-01-14T13:25:02.766Z"
      },
      {
        "duration": 31,
        "start_time": "2022-01-14T13:25:02.773Z"
      },
      {
        "duration": 11,
        "start_time": "2022-01-14T13:25:02.809Z"
      },
      {
        "duration": 5,
        "start_time": "2022-01-14T13:25:02.822Z"
      },
      {
        "duration": 241,
        "start_time": "2022-01-14T13:25:02.829Z"
      },
      {
        "duration": 8,
        "start_time": "2022-01-14T13:25:03.072Z"
      },
      {
        "duration": 30,
        "start_time": "2022-01-14T13:25:03.082Z"
      },
      {
        "duration": 8,
        "start_time": "2022-01-14T13:25:03.115Z"
      },
      {
        "duration": 3,
        "start_time": "2022-01-14T13:25:03.125Z"
      },
      {
        "duration": 15,
        "start_time": "2022-01-14T13:25:03.130Z"
      },
      {
        "duration": 540,
        "start_time": "2022-01-14T13:25:03.147Z"
      },
      {
        "duration": 23,
        "start_time": "2022-01-14T13:25:03.688Z"
      },
      {
        "duration": 6,
        "start_time": "2022-01-14T13:25:03.713Z"
      },
      {
        "duration": 9,
        "start_time": "2022-01-14T13:25:03.722Z"
      },
      {
        "duration": 6,
        "start_time": "2022-01-14T13:25:03.732Z"
      },
      {
        "duration": 9,
        "start_time": "2022-01-14T13:25:03.740Z"
      },
      {
        "duration": 131114,
        "start_time": "2022-01-14T13:25:03.750Z"
      },
      {
        "duration": 8,
        "start_time": "2022-01-14T13:27:14.868Z"
      },
      {
        "duration": 23,
        "start_time": "2022-01-14T13:27:14.882Z"
      },
      {
        "duration": 15,
        "start_time": "2022-01-14T13:27:14.910Z"
      },
      {
        "duration": 12,
        "start_time": "2022-01-14T13:27:14.927Z"
      },
      {
        "duration": 273079,
        "start_time": "2022-01-14T13:27:14.940Z"
      },
      {
        "duration": 9,
        "start_time": "2022-01-14T13:31:48.021Z"
      },
      {
        "duration": 17,
        "start_time": "2022-01-14T13:31:48.032Z"
      },
      {
        "duration": 29,
        "start_time": "2022-01-14T13:31:48.050Z"
      },
      {
        "duration": 28,
        "start_time": "2022-01-14T13:31:48.081Z"
      },
      {
        "duration": 21320,
        "start_time": "2022-01-14T13:31:48.112Z"
      },
      {
        "duration": 9,
        "start_time": "2022-01-14T13:32:09.434Z"
      },
      {
        "duration": 7,
        "start_time": "2022-01-14T13:32:09.444Z"
      },
      {
        "duration": 16,
        "start_time": "2022-01-14T13:32:09.453Z"
      },
      {
        "duration": 7,
        "start_time": "2022-01-14T13:32:09.471Z"
      },
      {
        "duration": 5,
        "start_time": "2022-01-14T13:32:09.479Z"
      },
      {
        "duration": 23,
        "start_time": "2022-01-14T13:32:09.485Z"
      },
      {
        "duration": 7,
        "start_time": "2022-01-14T13:32:09.511Z"
      },
      {
        "duration": 519,
        "start_time": "2022-01-14T13:32:09.519Z"
      },
      {
        "duration": 9,
        "start_time": "2022-01-14T13:32:10.039Z"
      },
      {
        "duration": 5,
        "start_time": "2022-01-14T13:32:10.049Z"
      },
      {
        "duration": 13,
        "start_time": "2022-01-14T13:32:10.055Z"
      },
      {
        "duration": 1110,
        "start_time": "2022-01-14T13:32:10.070Z"
      },
      {
        "duration": 8,
        "start_time": "2022-01-14T13:32:11.182Z"
      },
      {
        "duration": 5,
        "start_time": "2022-01-14T13:32:11.198Z"
      },
      {
        "duration": 17,
        "start_time": "2022-01-14T13:32:11.206Z"
      },
      {
        "duration": 4321,
        "start_time": "2022-01-14T13:32:11.225Z"
      },
      {
        "duration": 11,
        "start_time": "2022-01-14T13:32:15.548Z"
      },
      {
        "duration": 5,
        "start_time": "2022-01-14T13:32:15.561Z"
      },
      {
        "duration": 11,
        "start_time": "2022-01-14T13:32:15.567Z"
      },
      {
        "duration": 48,
        "start_time": "2022-01-14T13:32:15.580Z"
      },
      {
        "duration": 9,
        "start_time": "2022-01-14T13:32:15.631Z"
      },
      {
        "duration": 5,
        "start_time": "2022-01-14T13:32:15.642Z"
      },
      {
        "duration": 12,
        "start_time": "2022-01-14T13:32:15.649Z"
      },
      {
        "duration": 252,
        "start_time": "2022-01-14T13:32:15.663Z"
      },
      {
        "duration": 147,
        "start_time": "2022-01-14T13:32:15.918Z"
      },
      {
        "duration": 8,
        "start_time": "2022-01-14T13:32:16.067Z"
      },
      {
        "duration": 5,
        "start_time": "2022-01-14T13:32:16.077Z"
      },
      {
        "duration": 24,
        "start_time": "2022-01-14T13:32:16.083Z"
      },
      {
        "duration": 10,
        "start_time": "2022-01-14T13:32:16.110Z"
      },
      {
        "duration": 4708,
        "start_time": "2022-01-14T13:32:16.122Z"
      },
      {
        "duration": 15,
        "start_time": "2022-01-14T13:32:20.832Z"
      },
      {
        "duration": 11,
        "start_time": "2022-01-14T13:32:20.850Z"
      },
      {
        "duration": 4,
        "start_time": "2022-01-14T13:32:20.863Z"
      },
      {
        "duration": 33,
        "start_time": "2022-01-14T13:32:20.872Z"
      },
      {
        "duration": 235,
        "start_time": "2022-01-14T13:32:20.908Z"
      },
      {
        "duration": 11,
        "start_time": "2022-01-14T13:32:21.145Z"
      },
      {
        "duration": 12,
        "start_time": "2022-01-14T13:32:21.158Z"
      },
      {
        "duration": 32,
        "start_time": "2022-01-14T13:32:21.171Z"
      },
      {
        "duration": 257,
        "start_time": "2022-01-14T13:32:21.206Z"
      },
      {
        "duration": 1693,
        "start_time": "2022-01-16T07:26:16.549Z"
      },
      {
        "duration": 138,
        "start_time": "2022-01-16T07:26:18.245Z"
      },
      {
        "duration": 25,
        "start_time": "2022-01-16T07:26:18.385Z"
      },
      {
        "duration": 14,
        "start_time": "2022-01-16T07:26:18.414Z"
      },
      {
        "duration": 28,
        "start_time": "2022-01-16T07:26:18.431Z"
      },
      {
        "duration": 5,
        "start_time": "2022-01-16T07:26:18.462Z"
      },
      {
        "duration": 13,
        "start_time": "2022-01-16T07:26:18.470Z"
      },
      {
        "duration": 9,
        "start_time": "2022-01-16T07:26:18.489Z"
      },
      {
        "duration": 7,
        "start_time": "2022-01-16T07:26:18.502Z"
      },
      {
        "duration": 361,
        "start_time": "2022-01-16T07:26:18.512Z"
      },
      {
        "duration": 14,
        "start_time": "2022-01-16T07:26:18.876Z"
      },
      {
        "duration": 13,
        "start_time": "2022-01-16T07:26:18.892Z"
      },
      {
        "duration": 8,
        "start_time": "2022-01-16T07:26:18.907Z"
      },
      {
        "duration": 41,
        "start_time": "2022-01-16T07:26:18.917Z"
      },
      {
        "duration": 20,
        "start_time": "2022-01-16T07:26:18.961Z"
      },
      {
        "duration": 11,
        "start_time": "2022-01-16T07:26:18.983Z"
      },
      {
        "duration": 10,
        "start_time": "2022-01-16T07:26:18.996Z"
      },
      {
        "duration": 6,
        "start_time": "2022-01-16T07:26:19.009Z"
      },
      {
        "duration": 8,
        "start_time": "2022-01-16T07:26:19.058Z"
      },
      {
        "duration": 7,
        "start_time": "2022-01-16T07:26:19.069Z"
      },
      {
        "duration": 33,
        "start_time": "2022-01-16T07:26:19.078Z"
      },
      {
        "duration": 174745,
        "start_time": "2022-01-16T07:26:19.114Z"
      },
      {
        "duration": 11,
        "start_time": "2022-01-16T07:29:13.865Z"
      },
      {
        "duration": 7,
        "start_time": "2022-01-16T07:29:13.880Z"
      },
      {
        "duration": 9,
        "start_time": "2022-01-16T07:29:13.890Z"
      },
      {
        "duration": 17,
        "start_time": "2022-01-16T07:29:13.901Z"
      },
      {
        "duration": 213369,
        "start_time": "2022-01-16T07:29:13.920Z"
      },
      {
        "duration": 287,
        "start_time": "2022-01-16T07:32:47.005Z"
      },
      {
        "duration": 282,
        "start_time": "2022-01-16T07:32:47.011Z"
      },
      {
        "duration": 274,
        "start_time": "2022-01-16T07:32:47.020Z"
      },
      {
        "duration": 269,
        "start_time": "2022-01-16T07:32:47.027Z"
      },
      {
        "duration": 265,
        "start_time": "2022-01-16T07:32:47.032Z"
      },
      {
        "duration": 259,
        "start_time": "2022-01-16T07:32:47.040Z"
      },
      {
        "duration": 257,
        "start_time": "2022-01-16T07:32:47.044Z"
      },
      {
        "duration": 253,
        "start_time": "2022-01-16T07:32:47.049Z"
      },
      {
        "duration": 250,
        "start_time": "2022-01-16T07:32:47.054Z"
      },
      {
        "duration": 248,
        "start_time": "2022-01-16T07:32:47.058Z"
      },
      {
        "duration": 244,
        "start_time": "2022-01-16T07:32:47.063Z"
      },
      {
        "duration": 241,
        "start_time": "2022-01-16T07:32:47.068Z"
      },
      {
        "duration": 238,
        "start_time": "2022-01-16T07:32:47.072Z"
      },
      {
        "duration": 235,
        "start_time": "2022-01-16T07:32:47.077Z"
      },
      {
        "duration": 231,
        "start_time": "2022-01-16T07:32:47.082Z"
      },
      {
        "duration": 228,
        "start_time": "2022-01-16T07:32:47.087Z"
      },
      {
        "duration": 224,
        "start_time": "2022-01-16T07:32:47.092Z"
      },
      {
        "duration": 221,
        "start_time": "2022-01-16T07:32:47.097Z"
      },
      {
        "duration": 206,
        "start_time": "2022-01-16T07:32:47.113Z"
      },
      {
        "duration": 203,
        "start_time": "2022-01-16T07:32:47.118Z"
      },
      {
        "duration": 200,
        "start_time": "2022-01-16T07:32:47.123Z"
      },
      {
        "duration": 184,
        "start_time": "2022-01-16T07:32:47.140Z"
      },
      {
        "duration": 178,
        "start_time": "2022-01-16T07:32:47.147Z"
      },
      {
        "duration": 205,
        "start_time": "2022-01-16T07:32:47.153Z"
      },
      {
        "duration": 202,
        "start_time": "2022-01-16T07:32:47.158Z"
      },
      {
        "duration": 198,
        "start_time": "2022-01-16T07:32:47.163Z"
      },
      {
        "duration": 196,
        "start_time": "2022-01-16T07:32:47.167Z"
      },
      {
        "duration": 193,
        "start_time": "2022-01-16T07:32:47.172Z"
      },
      {
        "duration": 190,
        "start_time": "2022-01-16T07:32:47.176Z"
      },
      {
        "duration": 187,
        "start_time": "2022-01-16T07:32:47.181Z"
      },
      {
        "duration": 183,
        "start_time": "2022-01-16T07:32:47.186Z"
      },
      {
        "duration": 179,
        "start_time": "2022-01-16T07:32:47.192Z"
      },
      {
        "duration": 176,
        "start_time": "2022-01-16T07:32:47.196Z"
      },
      {
        "duration": 173,
        "start_time": "2022-01-16T07:32:47.201Z"
      },
      {
        "duration": 169,
        "start_time": "2022-01-16T07:32:47.206Z"
      },
      {
        "duration": 166,
        "start_time": "2022-01-16T07:32:47.211Z"
      },
      {
        "duration": 151,
        "start_time": "2022-01-16T07:32:47.227Z"
      },
      {
        "duration": 148,
        "start_time": "2022-01-16T07:32:47.232Z"
      },
      {
        "duration": 61,
        "start_time": "2022-01-16T07:32:47.321Z"
      },
      {
        "duration": 48,
        "start_time": "2022-01-16T07:32:47.335Z"
      },
      {
        "duration": 46,
        "start_time": "2022-01-16T07:32:47.339Z"
      },
      {
        "duration": 42,
        "start_time": "2022-01-16T07:32:47.344Z"
      },
      {
        "duration": -27,
        "start_time": "2022-01-16T07:32:47.415Z"
      },
      {
        "duration": -57,
        "start_time": "2022-01-16T07:32:47.447Z"
      },
      {
        "duration": 1522,
        "start_time": "2022-01-16T07:33:28.734Z"
      },
      {
        "duration": 36,
        "start_time": "2022-01-16T07:33:30.260Z"
      },
      {
        "duration": 23,
        "start_time": "2022-01-16T07:33:30.299Z"
      },
      {
        "duration": 12,
        "start_time": "2022-01-16T07:33:30.325Z"
      },
      {
        "duration": 6,
        "start_time": "2022-01-16T07:33:30.359Z"
      },
      {
        "duration": 9,
        "start_time": "2022-01-16T07:33:30.367Z"
      },
      {
        "duration": 12,
        "start_time": "2022-01-16T07:33:30.378Z"
      },
      {
        "duration": 7,
        "start_time": "2022-01-16T07:33:30.394Z"
      },
      {
        "duration": 6,
        "start_time": "2022-01-16T07:33:30.405Z"
      },
      {
        "duration": 318,
        "start_time": "2022-01-16T07:33:30.413Z"
      },
      {
        "duration": 25,
        "start_time": "2022-01-16T07:33:30.734Z"
      },
      {
        "duration": 13,
        "start_time": "2022-01-16T07:33:30.762Z"
      },
      {
        "duration": 9,
        "start_time": "2022-01-16T07:33:30.777Z"
      },
      {
        "duration": 5,
        "start_time": "2022-01-16T07:33:30.788Z"
      },
      {
        "duration": 22,
        "start_time": "2022-01-16T07:33:30.795Z"
      },
      {
        "duration": 45,
        "start_time": "2022-01-16T07:33:30.820Z"
      },
      {
        "duration": 9,
        "start_time": "2022-01-16T07:33:30.868Z"
      },
      {
        "duration": 7,
        "start_time": "2022-01-16T07:33:30.880Z"
      },
      {
        "duration": 13,
        "start_time": "2022-01-16T07:33:30.890Z"
      },
      {
        "duration": 9,
        "start_time": "2022-01-16T07:33:30.906Z"
      },
      {
        "duration": 68,
        "start_time": "2022-01-16T07:33:30.918Z"
      },
      {
        "duration": 175036,
        "start_time": "2022-01-16T07:33:30.988Z"
      },
      {
        "duration": 28,
        "start_time": "2022-01-16T07:36:26.031Z"
      },
      {
        "duration": 8,
        "start_time": "2022-01-16T07:36:26.064Z"
      },
      {
        "duration": 10,
        "start_time": "2022-01-16T07:36:26.074Z"
      },
      {
        "duration": 13,
        "start_time": "2022-01-16T07:36:26.086Z"
      },
      {
        "duration": 360080,
        "start_time": "2022-01-16T07:36:26.101Z"
      },
      {
        "duration": 13,
        "start_time": "2022-01-16T07:42:26.184Z"
      },
      {
        "duration": 10,
        "start_time": "2022-01-16T07:42:26.200Z"
      },
      {
        "duration": 46,
        "start_time": "2022-01-16T07:42:26.213Z"
      },
      {
        "duration": 4,
        "start_time": "2022-01-16T07:42:26.262Z"
      },
      {
        "duration": 23476,
        "start_time": "2022-01-16T07:42:26.269Z"
      },
      {
        "duration": 15,
        "start_time": "2022-01-16T07:42:49.748Z"
      },
      {
        "duration": 11,
        "start_time": "2022-01-16T07:42:49.765Z"
      },
      {
        "duration": 15,
        "start_time": "2022-01-16T07:42:49.779Z"
      },
      {
        "duration": 10,
        "start_time": "2022-01-16T07:42:49.797Z"
      },
      {
        "duration": 8,
        "start_time": "2022-01-16T07:42:49.810Z"
      },
      {
        "duration": 15,
        "start_time": "2022-01-16T07:42:49.860Z"
      },
      {
        "duration": 7,
        "start_time": "2022-01-16T07:42:49.878Z"
      },
      {
        "duration": 460,
        "start_time": "2022-01-16T07:42:49.888Z"
      },
      {
        "duration": 18,
        "start_time": "2022-01-16T07:42:50.351Z"
      },
      {
        "duration": 6,
        "start_time": "2022-01-16T07:42:50.371Z"
      },
      {
        "duration": 14,
        "start_time": "2022-01-16T07:42:50.380Z"
      },
      {
        "duration": 1962,
        "start_time": "2022-01-16T07:42:50.397Z"
      },
      {
        "duration": 16,
        "start_time": "2022-01-16T07:42:52.362Z"
      },
      {
        "duration": 6,
        "start_time": "2022-01-16T07:42:52.381Z"
      },
      {
        "duration": 22,
        "start_time": "2022-01-16T07:42:52.390Z"
      },
      {
        "duration": 5383,
        "start_time": "2022-01-16T07:42:52.415Z"
      },
      {
        "duration": 13,
        "start_time": "2022-01-16T07:42:57.801Z"
      },
      {
        "duration": 6,
        "start_time": "2022-01-16T07:42:57.816Z"
      },
      {
        "duration": 47,
        "start_time": "2022-01-16T07:42:57.825Z"
      },
      {
        "duration": 47,
        "start_time": "2022-01-16T07:42:57.875Z"
      },
      {
        "duration": 42,
        "start_time": "2022-01-16T07:42:57.926Z"
      },
      {
        "duration": 7,
        "start_time": "2022-01-16T07:42:57.972Z"
      },
      {
        "duration": 16,
        "start_time": "2022-01-16T07:42:57.982Z"
      },
      {
        "duration": 426,
        "start_time": "2022-01-16T07:42:58.001Z"
      },
      {
        "duration": 178,
        "start_time": "2022-01-16T07:42:58.429Z"
      },
      {
        "duration": 11,
        "start_time": "2022-01-16T07:42:58.610Z"
      },
      {
        "duration": 5,
        "start_time": "2022-01-16T07:42:58.623Z"
      },
      {
        "duration": 32,
        "start_time": "2022-01-16T07:42:58.630Z"
      },
      {
        "duration": 4,
        "start_time": "2022-01-16T07:42:58.665Z"
      },
      {
        "duration": 6968,
        "start_time": "2022-01-16T07:42:58.671Z"
      },
      {
        "duration": 33,
        "start_time": "2022-01-16T07:43:05.641Z"
      },
      {
        "duration": 12,
        "start_time": "2022-01-16T07:43:05.677Z"
      },
      {
        "duration": 5,
        "start_time": "2022-01-16T07:43:05.691Z"
      },
      {
        "duration": 12,
        "start_time": "2022-01-16T07:43:05.698Z"
      },
      {
        "duration": 314,
        "start_time": "2022-01-16T07:43:05.712Z"
      },
      {
        "duration": 27,
        "start_time": "2022-01-16T07:43:06.033Z"
      },
      {
        "duration": 15,
        "start_time": "2022-01-16T07:43:06.063Z"
      },
      {
        "duration": 11,
        "start_time": "2022-01-16T07:43:06.081Z"
      },
      {
        "duration": 323,
        "start_time": "2022-01-16T07:43:06.095Z"
      }
    ],
    "kernelspec": {
      "display_name": "Python 3",
      "language": "python",
      "name": "python3"
    },
    "language_info": {
      "codemirror_mode": {
        "name": "ipython",
        "version": 3
      },
      "file_extension": ".py",
      "mimetype": "text/x-python",
      "name": "python",
      "nbconvert_exporter": "python",
      "pygments_lexer": "ipython3",
      "version": "3.7.8"
    },
    "toc": {
      "base_numbering": 1,
      "nav_menu": {},
      "number_sections": true,
      "sideBar": true,
      "skip_h1_title": true,
      "title_cell": "Содержание",
      "title_sidebar": "Contents",
      "toc_cell": true,
      "toc_position": {
        "height": "calc(100% - 180px)",
        "left": "10px",
        "top": "150px",
        "width": "238.396px"
      },
      "toc_section_display": true,
      "toc_window_display": false
    },
    "colab": {
      "name": "project_06.ipynb",
      "provenance": []
    }
  },
  "nbformat": 4,
  "nbformat_minor": 0
}