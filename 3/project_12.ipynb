{
  "cells": [
    {
      "cell_type": "markdown",
      "metadata": {
        "id": "dGWVTCzROmhx"
      },
      "source": [
        "# Вступление"
      ]
    },
    {
      "cell_type": "markdown",
      "metadata": {
        "id": "CBpYKeihOqBB"
      },
      "source": [
        "В данной работе рассмотрим нужно было рассмотреть один из вариантов, но я решил разобрать оба варианта решения:\n",
        "* Классический вариант - в данном варианте преобразуем текст с помощью **TfidfVectorizer**, а в качестве классификатора будем использовать **Catboost**;\n",
        "* Гибридный вариант - с использованием нейронной сети BERT для формирования признаков и классичиской моделью: **LogisticRegression**, в качестве классификатора;\n",
        "\n",
        "И в конце сравним какой из вариантов показывает лучший результат.\n",
        "\n",
        "**ПРИМЕЧАНИЕ:** так как работа носит учебный характер, то все манипуляции с данными будут проводится в усеченном варианте, то есть будет браться часть датасета для обучения и тестирования (2 000 записей). А так же в целях экономии времени не будет проводится углубденный поиск/подбор гиперпараметров для максимилизации итоговой метрики."
      ]
    },
    {
      "cell_type": "markdown",
      "metadata": {
        "id": "jsfjVH8wxon7"
      },
      "source": [
        "## Подготовка"
      ]
    },
    {
      "cell_type": "markdown",
      "metadata": {
        "id": "74jmx1gPTm2_"
      },
      "source": [
        "Установим и загрузим необходимые библиотеки для работы"
      ]
    },
    {
      "cell_type": "code",
      "execution_count": 2,
      "metadata": {
        "colab": {
          "base_uri": "https://localhost:8080/"
        },
        "id": "pj4UXALbU9fD",
        "outputId": "ff7900ae-0ae8-46a6-b16d-2e34ccfbb04c",
        "trusted": false
      },
      "outputs": [
        {
          "output_type": "stream",
          "name": "stdout",
          "text": [
            "Looking in indexes: https://pypi.org/simple, https://us-python.pkg.dev/colab-wheels/public/simple/\n",
            "Requirement already satisfied: transformers in /usr/local/lib/python3.7/dist-packages (4.20.1)\n",
            "Requirement already satisfied: filelock in /usr/local/lib/python3.7/dist-packages (from transformers) (3.7.1)\n",
            "Requirement already satisfied: regex!=2019.12.17 in /usr/local/lib/python3.7/dist-packages (from transformers) (2022.6.2)\n",
            "Requirement already satisfied: tqdm>=4.27 in /usr/local/lib/python3.7/dist-packages (from transformers) (4.64.0)\n",
            "Requirement already satisfied: packaging>=20.0 in /usr/local/lib/python3.7/dist-packages (from transformers) (21.3)\n",
            "Requirement already satisfied: numpy>=1.17 in /usr/local/lib/python3.7/dist-packages (from transformers) (1.21.6)\n",
            "Requirement already satisfied: pyyaml>=5.1 in /usr/local/lib/python3.7/dist-packages (from transformers) (6.0)\n",
            "Requirement already satisfied: requests in /usr/local/lib/python3.7/dist-packages (from transformers) (2.23.0)\n",
            "Requirement already satisfied: huggingface-hub<1.0,>=0.1.0 in /usr/local/lib/python3.7/dist-packages (from transformers) (0.8.1)\n",
            "Requirement already satisfied: tokenizers!=0.11.3,<0.13,>=0.11.1 in /usr/local/lib/python3.7/dist-packages (from transformers) (0.12.1)\n",
            "Requirement already satisfied: importlib-metadata in /usr/local/lib/python3.7/dist-packages (from transformers) (4.11.4)\n",
            "Requirement already satisfied: typing-extensions>=3.7.4.3 in /usr/local/lib/python3.7/dist-packages (from huggingface-hub<1.0,>=0.1.0->transformers) (4.1.1)\n",
            "Requirement already satisfied: pyparsing!=3.0.5,>=2.0.2 in /usr/local/lib/python3.7/dist-packages (from packaging>=20.0->transformers) (3.0.9)\n",
            "Requirement already satisfied: zipp>=0.5 in /usr/local/lib/python3.7/dist-packages (from importlib-metadata->transformers) (3.8.0)\n",
            "Requirement already satisfied: urllib3!=1.25.0,!=1.25.1,<1.26,>=1.21.1 in /usr/local/lib/python3.7/dist-packages (from requests->transformers) (1.24.3)\n",
            "Requirement already satisfied: chardet<4,>=3.0.2 in /usr/local/lib/python3.7/dist-packages (from requests->transformers) (3.0.4)\n",
            "Requirement already satisfied: certifi>=2017.4.17 in /usr/local/lib/python3.7/dist-packages (from requests->transformers) (2022.6.15)\n",
            "Requirement already satisfied: idna<3,>=2.5 in /usr/local/lib/python3.7/dist-packages (from requests->transformers) (2.10)\n",
            "Looking in indexes: https://pypi.org/simple, https://us-python.pkg.dev/colab-wheels/public/simple/\n",
            "Requirement already satisfied: catboost in /usr/local/lib/python3.7/dist-packages (1.0.6)\n",
            "Requirement already satisfied: matplotlib in /usr/local/lib/python3.7/dist-packages (from catboost) (3.2.2)\n",
            "Requirement already satisfied: plotly in /usr/local/lib/python3.7/dist-packages (from catboost) (5.5.0)\n",
            "Requirement already satisfied: scipy in /usr/local/lib/python3.7/dist-packages (from catboost) (1.4.1)\n",
            "Requirement already satisfied: pandas>=0.24.0 in /usr/local/lib/python3.7/dist-packages (from catboost) (1.3.5)\n",
            "Requirement already satisfied: six in /usr/local/lib/python3.7/dist-packages (from catboost) (1.15.0)\n",
            "Requirement already satisfied: graphviz in /usr/local/lib/python3.7/dist-packages (from catboost) (0.10.1)\n",
            "Requirement already satisfied: numpy>=1.16.0 in /usr/local/lib/python3.7/dist-packages (from catboost) (1.21.6)\n",
            "Requirement already satisfied: pytz>=2017.3 in /usr/local/lib/python3.7/dist-packages (from pandas>=0.24.0->catboost) (2022.1)\n",
            "Requirement already satisfied: python-dateutil>=2.7.3 in /usr/local/lib/python3.7/dist-packages (from pandas>=0.24.0->catboost) (2.8.2)\n",
            "Requirement already satisfied: pyparsing!=2.0.4,!=2.1.2,!=2.1.6,>=2.0.1 in /usr/local/lib/python3.7/dist-packages (from matplotlib->catboost) (3.0.9)\n",
            "Requirement already satisfied: kiwisolver>=1.0.1 in /usr/local/lib/python3.7/dist-packages (from matplotlib->catboost) (1.4.3)\n",
            "Requirement already satisfied: cycler>=0.10 in /usr/local/lib/python3.7/dist-packages (from matplotlib->catboost) (0.11.0)\n",
            "Requirement already satisfied: typing-extensions in /usr/local/lib/python3.7/dist-packages (from kiwisolver>=1.0.1->matplotlib->catboost) (4.1.1)\n",
            "Requirement already satisfied: tenacity>=6.2.0 in /usr/local/lib/python3.7/dist-packages (from plotly->catboost) (8.0.1)\n"
          ]
        }
      ],
      "source": [
        "!pip install transformers\n",
        "!pip install catboost"
      ]
    },
    {
      "cell_type": "code",
      "execution_count": 3,
      "metadata": {
        "id": "5pSTFsHOTHEX",
        "trusted": false
      },
      "outputs": [],
      "source": [
        "import pandas as pd\n",
        "import numpy as np\n",
        "import re\n",
        "\n",
        "import matplotlib.pyplot as plt\n",
        "import seaborn as sns\n",
        "\n",
        "import nltk\n",
        "from nltk.stem import WordNetLemmatizer\n",
        "from nltk.corpus import stopwords as nltk_stopwords\n",
        "from tqdm import notebook\n",
        "\n",
        "from sklearn.feature_extraction.text import TfidfVectorizer\n",
        "from sklearn.model_selection import GridSearchCV, train_test_split\n",
        "from sklearn.metrics import f1_score, classification_report, confusion_matrix\n",
        "\n",
        "\n",
        "from sklearn.linear_model import LogisticRegression\n",
        "from catboost import CatBoostClassifier\n",
        "import torch\n",
        "import transformers\n",
        "from torch.utils.data import Dataset, DataLoader\n",
        "from transformers import DistilBertTokenizer, DistilBertModel"
      ]
    },
    {
      "cell_type": "code",
      "execution_count": 4,
      "metadata": {
        "id": "23oYhCkNTOEz",
        "trusted": false
      },
      "outputs": [],
      "source": [
        "df_orig = pd.read_csv('/content/toxic_comments.csv')"
      ]
    },
    {
      "cell_type": "markdown",
      "metadata": {
        "id": "VQZ9EaVDygVK"
      },
      "source": [
        "Посмотрим на наши данные"
      ]
    },
    {
      "cell_type": "code",
      "execution_count": 5,
      "metadata": {
        "colab": {
          "base_uri": "https://localhost:8080/",
          "height": 363
        },
        "id": "m16w66MCZA7L",
        "outputId": "b0103ef6-d9ef-4766-f81f-daa97396d652",
        "trusted": false
      },
      "outputs": [
        {
          "output_type": "execute_result",
          "data": {
            "text/plain": [
              "                                                text  toxic\n",
              "0  Explanation\\nWhy the edits made under my usern...      0\n",
              "1  D'aww! He matches this background colour I'm s...      0\n",
              "2  Hey man, I'm really not trying to edit war. It...      0\n",
              "3  \"\\nMore\\nI can't make any real suggestions on ...      0\n",
              "4  You, sir, are my hero. Any chance you remember...      0\n",
              "5  \"\\n\\nCongratulations from me as well, use the ...      0\n",
              "6       COCKSUCKER BEFORE YOU PISS AROUND ON MY WORK      1\n",
              "7  Your vandalism to the Matt Shirvington article...      0\n",
              "8  Sorry if the word 'nonsense' was offensive to ...      0\n",
              "9  alignment on this subject and which are contra...      0"
            ],
            "text/html": [
              "\n",
              "  <div id=\"df-1c6bf0f4-ecdc-475a-bcc8-d04d292f25b9\">\n",
              "    <div class=\"colab-df-container\">\n",
              "      <div>\n",
              "<style scoped>\n",
              "    .dataframe tbody tr th:only-of-type {\n",
              "        vertical-align: middle;\n",
              "    }\n",
              "\n",
              "    .dataframe tbody tr th {\n",
              "        vertical-align: top;\n",
              "    }\n",
              "\n",
              "    .dataframe thead th {\n",
              "        text-align: right;\n",
              "    }\n",
              "</style>\n",
              "<table border=\"1\" class=\"dataframe\">\n",
              "  <thead>\n",
              "    <tr style=\"text-align: right;\">\n",
              "      <th></th>\n",
              "      <th>text</th>\n",
              "      <th>toxic</th>\n",
              "    </tr>\n",
              "  </thead>\n",
              "  <tbody>\n",
              "    <tr>\n",
              "      <th>0</th>\n",
              "      <td>Explanation\\nWhy the edits made under my usern...</td>\n",
              "      <td>0</td>\n",
              "    </tr>\n",
              "    <tr>\n",
              "      <th>1</th>\n",
              "      <td>D'aww! He matches this background colour I'm s...</td>\n",
              "      <td>0</td>\n",
              "    </tr>\n",
              "    <tr>\n",
              "      <th>2</th>\n",
              "      <td>Hey man, I'm really not trying to edit war. It...</td>\n",
              "      <td>0</td>\n",
              "    </tr>\n",
              "    <tr>\n",
              "      <th>3</th>\n",
              "      <td>\"\\nMore\\nI can't make any real suggestions on ...</td>\n",
              "      <td>0</td>\n",
              "    </tr>\n",
              "    <tr>\n",
              "      <th>4</th>\n",
              "      <td>You, sir, are my hero. Any chance you remember...</td>\n",
              "      <td>0</td>\n",
              "    </tr>\n",
              "    <tr>\n",
              "      <th>5</th>\n",
              "      <td>\"\\n\\nCongratulations from me as well, use the ...</td>\n",
              "      <td>0</td>\n",
              "    </tr>\n",
              "    <tr>\n",
              "      <th>6</th>\n",
              "      <td>COCKSUCKER BEFORE YOU PISS AROUND ON MY WORK</td>\n",
              "      <td>1</td>\n",
              "    </tr>\n",
              "    <tr>\n",
              "      <th>7</th>\n",
              "      <td>Your vandalism to the Matt Shirvington article...</td>\n",
              "      <td>0</td>\n",
              "    </tr>\n",
              "    <tr>\n",
              "      <th>8</th>\n",
              "      <td>Sorry if the word 'nonsense' was offensive to ...</td>\n",
              "      <td>0</td>\n",
              "    </tr>\n",
              "    <tr>\n",
              "      <th>9</th>\n",
              "      <td>alignment on this subject and which are contra...</td>\n",
              "      <td>0</td>\n",
              "    </tr>\n",
              "  </tbody>\n",
              "</table>\n",
              "</div>\n",
              "      <button class=\"colab-df-convert\" onclick=\"convertToInteractive('df-1c6bf0f4-ecdc-475a-bcc8-d04d292f25b9')\"\n",
              "              title=\"Convert this dataframe to an interactive table.\"\n",
              "              style=\"display:none;\">\n",
              "        \n",
              "  <svg xmlns=\"http://www.w3.org/2000/svg\" height=\"24px\"viewBox=\"0 0 24 24\"\n",
              "       width=\"24px\">\n",
              "    <path d=\"M0 0h24v24H0V0z\" fill=\"none\"/>\n",
              "    <path d=\"M18.56 5.44l.94 2.06.94-2.06 2.06-.94-2.06-.94-.94-2.06-.94 2.06-2.06.94zm-11 1L8.5 8.5l.94-2.06 2.06-.94-2.06-.94L8.5 2.5l-.94 2.06-2.06.94zm10 10l.94 2.06.94-2.06 2.06-.94-2.06-.94-.94-2.06-.94 2.06-2.06.94z\"/><path d=\"M17.41 7.96l-1.37-1.37c-.4-.4-.92-.59-1.43-.59-.52 0-1.04.2-1.43.59L10.3 9.45l-7.72 7.72c-.78.78-.78 2.05 0 2.83L4 21.41c.39.39.9.59 1.41.59.51 0 1.02-.2 1.41-.59l7.78-7.78 2.81-2.81c.8-.78.8-2.07 0-2.86zM5.41 20L4 18.59l7.72-7.72 1.47 1.35L5.41 20z\"/>\n",
              "  </svg>\n",
              "      </button>\n",
              "      \n",
              "  <style>\n",
              "    .colab-df-container {\n",
              "      display:flex;\n",
              "      flex-wrap:wrap;\n",
              "      gap: 12px;\n",
              "    }\n",
              "\n",
              "    .colab-df-convert {\n",
              "      background-color: #E8F0FE;\n",
              "      border: none;\n",
              "      border-radius: 50%;\n",
              "      cursor: pointer;\n",
              "      display: none;\n",
              "      fill: #1967D2;\n",
              "      height: 32px;\n",
              "      padding: 0 0 0 0;\n",
              "      width: 32px;\n",
              "    }\n",
              "\n",
              "    .colab-df-convert:hover {\n",
              "      background-color: #E2EBFA;\n",
              "      box-shadow: 0px 1px 2px rgba(60, 64, 67, 0.3), 0px 1px 3px 1px rgba(60, 64, 67, 0.15);\n",
              "      fill: #174EA6;\n",
              "    }\n",
              "\n",
              "    [theme=dark] .colab-df-convert {\n",
              "      background-color: #3B4455;\n",
              "      fill: #D2E3FC;\n",
              "    }\n",
              "\n",
              "    [theme=dark] .colab-df-convert:hover {\n",
              "      background-color: #434B5C;\n",
              "      box-shadow: 0px 1px 3px 1px rgba(0, 0, 0, 0.15);\n",
              "      filter: drop-shadow(0px 1px 2px rgba(0, 0, 0, 0.3));\n",
              "      fill: #FFFFFF;\n",
              "    }\n",
              "  </style>\n",
              "\n",
              "      <script>\n",
              "        const buttonEl =\n",
              "          document.querySelector('#df-1c6bf0f4-ecdc-475a-bcc8-d04d292f25b9 button.colab-df-convert');\n",
              "        buttonEl.style.display =\n",
              "          google.colab.kernel.accessAllowed ? 'block' : 'none';\n",
              "\n",
              "        async function convertToInteractive(key) {\n",
              "          const element = document.querySelector('#df-1c6bf0f4-ecdc-475a-bcc8-d04d292f25b9');\n",
              "          const dataTable =\n",
              "            await google.colab.kernel.invokeFunction('convertToInteractive',\n",
              "                                                     [key], {});\n",
              "          if (!dataTable) return;\n",
              "\n",
              "          const docLinkHtml = 'Like what you see? Visit the ' +\n",
              "            '<a target=\"_blank\" href=https://colab.research.google.com/notebooks/data_table.ipynb>data table notebook</a>'\n",
              "            + ' to learn more about interactive tables.';\n",
              "          element.innerHTML = '';\n",
              "          dataTable['output_type'] = 'display_data';\n",
              "          await google.colab.output.renderOutput(dataTable, element);\n",
              "          const docLink = document.createElement('div');\n",
              "          docLink.innerHTML = docLinkHtml;\n",
              "          element.appendChild(docLink);\n",
              "        }\n",
              "      </script>\n",
              "    </div>\n",
              "  </div>\n",
              "  "
            ]
          },
          "metadata": {},
          "execution_count": 5
        }
      ],
      "source": [
        "df_orig.head(10)"
      ]
    },
    {
      "cell_type": "markdown",
      "metadata": {
        "id": "qvU_hj1cSiXr"
      },
      "source": [
        "Сначала сделаем предпреобразование наших данных"
      ]
    },
    {
      "cell_type": "code",
      "execution_count": 6,
      "metadata": {
        "id": "X_WMwTBCSreu",
        "trusted": false
      },
      "outputs": [],
      "source": [
        "def lemmatize(text):\n",
        "    lem = WordNetLemmatizer()\n",
        "    clear_text = ' '.join(re.sub(r'[^a-zA-Z\\']', ' ', text).split()).lower().split()\n",
        "    lemm_list = [lem.lemmatize(word) for word in clear_text]\n",
        "    ready_text = \" \".join(lemm_list)\n",
        "        \n",
        "    return ready_text"
      ]
    },
    {
      "cell_type": "code",
      "execution_count": 7,
      "metadata": {
        "colab": {
          "base_uri": "https://localhost:8080/"
        },
        "id": "FOLYzKnFBKx_",
        "outputId": "917bd3a7-2ad1-4311-d245-c7918fcd409b",
        "trusted": false
      },
      "outputs": [
        {
          "output_type": "stream",
          "name": "stderr",
          "text": [
            "[nltk_data] Downloading package wordnet to /root/nltk_data...\n",
            "[nltk_data]   Package wordnet is already up-to-date!\n",
            "[nltk_data] Downloading package stopwords to /root/nltk_data...\n",
            "[nltk_data]   Package stopwords is already up-to-date!\n",
            "[nltk_data] Downloading package omw-1.4 to /root/nltk_data...\n",
            "[nltk_data]   Package omw-1.4 is already up-to-date!\n"
          ]
        }
      ],
      "source": [
        "nltk.download('wordnet')\n",
        "nltk.download('stopwords')\n",
        "nltk.download('omw-1.4')\n",
        "stopwords = set(nltk_stopwords.words('english'))"
      ]
    },
    {
      "cell_type": "markdown",
      "metadata": {
        "id": "PuGqqcZsm6DJ"
      },
      "source": [
        "Возьмем часть данных, как писалось выше. И дополнительно сбалансируем классы, для корректной работы алгоритмов.\n",
        "\n",
        "Если выборку не сбалансировать, то в нее может попасть очень малое количество положительных таргетов. И некоторые модели не сумеют найти закономерности, показав 0 метрику."
      ]
    },
    {
      "cell_type": "code",
      "execution_count": 8,
      "metadata": {
        "id": "7KOVUn-YDKcj",
        "trusted": false,
        "colab": {
          "base_uri": "https://localhost:8080/",
          "height": 206
        },
        "outputId": "ca86268f-3bbf-405b-e116-44b39bb495b6"
      },
      "outputs": [
        {
          "output_type": "execute_result",
          "data": {
            "text/plain": [
              "                                                text  toxic  \\\n",
              "0  Also, please follow tajik and khosrow's edits....      0   \n",
              "1  Also, I have the fucking rights to advertise m...      1   \n",
              "2  Original Arabic lyrics and transliteration dif...      0   \n",
              "3  |I Done a lot of constructive edits in my shor...      0   \n",
              "4  You were the one to attack first retard. As fo...      1   \n",
              "\n",
              "                                           pure_text  \n",
              "0  also please follow tajik and khosrow's edits t...  \n",
              "1  also i have the fucking right to advertise my ...  \n",
              "2  original arabic lyric and transliteration diff...  \n",
              "3  i done a lot of constructive edits in my short...  \n",
              "4  you were the one to attack first retard a for ...  "
            ],
            "text/html": [
              "\n",
              "  <div id=\"df-ea279645-c27a-4470-a8f9-09f00910f39b\">\n",
              "    <div class=\"colab-df-container\">\n",
              "      <div>\n",
              "<style scoped>\n",
              "    .dataframe tbody tr th:only-of-type {\n",
              "        vertical-align: middle;\n",
              "    }\n",
              "\n",
              "    .dataframe tbody tr th {\n",
              "        vertical-align: top;\n",
              "    }\n",
              "\n",
              "    .dataframe thead th {\n",
              "        text-align: right;\n",
              "    }\n",
              "</style>\n",
              "<table border=\"1\" class=\"dataframe\">\n",
              "  <thead>\n",
              "    <tr style=\"text-align: right;\">\n",
              "      <th></th>\n",
              "      <th>text</th>\n",
              "      <th>toxic</th>\n",
              "      <th>pure_text</th>\n",
              "    </tr>\n",
              "  </thead>\n",
              "  <tbody>\n",
              "    <tr>\n",
              "      <th>0</th>\n",
              "      <td>Also, please follow tajik and khosrow's edits....</td>\n",
              "      <td>0</td>\n",
              "      <td>also please follow tajik and khosrow's edits t...</td>\n",
              "    </tr>\n",
              "    <tr>\n",
              "      <th>1</th>\n",
              "      <td>Also, I have the fucking rights to advertise m...</td>\n",
              "      <td>1</td>\n",
              "      <td>also i have the fucking right to advertise my ...</td>\n",
              "    </tr>\n",
              "    <tr>\n",
              "      <th>2</th>\n",
              "      <td>Original Arabic lyrics and transliteration dif...</td>\n",
              "      <td>0</td>\n",
              "      <td>original arabic lyric and transliteration diff...</td>\n",
              "    </tr>\n",
              "    <tr>\n",
              "      <th>3</th>\n",
              "      <td>|I Done a lot of constructive edits in my shor...</td>\n",
              "      <td>0</td>\n",
              "      <td>i done a lot of constructive edits in my short...</td>\n",
              "    </tr>\n",
              "    <tr>\n",
              "      <th>4</th>\n",
              "      <td>You were the one to attack first retard. As fo...</td>\n",
              "      <td>1</td>\n",
              "      <td>you were the one to attack first retard a for ...</td>\n",
              "    </tr>\n",
              "  </tbody>\n",
              "</table>\n",
              "</div>\n",
              "      <button class=\"colab-df-convert\" onclick=\"convertToInteractive('df-ea279645-c27a-4470-a8f9-09f00910f39b')\"\n",
              "              title=\"Convert this dataframe to an interactive table.\"\n",
              "              style=\"display:none;\">\n",
              "        \n",
              "  <svg xmlns=\"http://www.w3.org/2000/svg\" height=\"24px\"viewBox=\"0 0 24 24\"\n",
              "       width=\"24px\">\n",
              "    <path d=\"M0 0h24v24H0V0z\" fill=\"none\"/>\n",
              "    <path d=\"M18.56 5.44l.94 2.06.94-2.06 2.06-.94-2.06-.94-.94-2.06-.94 2.06-2.06.94zm-11 1L8.5 8.5l.94-2.06 2.06-.94-2.06-.94L8.5 2.5l-.94 2.06-2.06.94zm10 10l.94 2.06.94-2.06 2.06-.94-2.06-.94-.94-2.06-.94 2.06-2.06.94z\"/><path d=\"M17.41 7.96l-1.37-1.37c-.4-.4-.92-.59-1.43-.59-.52 0-1.04.2-1.43.59L10.3 9.45l-7.72 7.72c-.78.78-.78 2.05 0 2.83L4 21.41c.39.39.9.59 1.41.59.51 0 1.02-.2 1.41-.59l7.78-7.78 2.81-2.81c.8-.78.8-2.07 0-2.86zM5.41 20L4 18.59l7.72-7.72 1.47 1.35L5.41 20z\"/>\n",
              "  </svg>\n",
              "      </button>\n",
              "      \n",
              "  <style>\n",
              "    .colab-df-container {\n",
              "      display:flex;\n",
              "      flex-wrap:wrap;\n",
              "      gap: 12px;\n",
              "    }\n",
              "\n",
              "    .colab-df-convert {\n",
              "      background-color: #E8F0FE;\n",
              "      border: none;\n",
              "      border-radius: 50%;\n",
              "      cursor: pointer;\n",
              "      display: none;\n",
              "      fill: #1967D2;\n",
              "      height: 32px;\n",
              "      padding: 0 0 0 0;\n",
              "      width: 32px;\n",
              "    }\n",
              "\n",
              "    .colab-df-convert:hover {\n",
              "      background-color: #E2EBFA;\n",
              "      box-shadow: 0px 1px 2px rgba(60, 64, 67, 0.3), 0px 1px 3px 1px rgba(60, 64, 67, 0.15);\n",
              "      fill: #174EA6;\n",
              "    }\n",
              "\n",
              "    [theme=dark] .colab-df-convert {\n",
              "      background-color: #3B4455;\n",
              "      fill: #D2E3FC;\n",
              "    }\n",
              "\n",
              "    [theme=dark] .colab-df-convert:hover {\n",
              "      background-color: #434B5C;\n",
              "      box-shadow: 0px 1px 3px 1px rgba(0, 0, 0, 0.15);\n",
              "      filter: drop-shadow(0px 1px 2px rgba(0, 0, 0, 0.3));\n",
              "      fill: #FFFFFF;\n",
              "    }\n",
              "  </style>\n",
              "\n",
              "      <script>\n",
              "        const buttonEl =\n",
              "          document.querySelector('#df-ea279645-c27a-4470-a8f9-09f00910f39b button.colab-df-convert');\n",
              "        buttonEl.style.display =\n",
              "          google.colab.kernel.accessAllowed ? 'block' : 'none';\n",
              "\n",
              "        async function convertToInteractive(key) {\n",
              "          const element = document.querySelector('#df-ea279645-c27a-4470-a8f9-09f00910f39b');\n",
              "          const dataTable =\n",
              "            await google.colab.kernel.invokeFunction('convertToInteractive',\n",
              "                                                     [key], {});\n",
              "          if (!dataTable) return;\n",
              "\n",
              "          const docLinkHtml = 'Like what you see? Visit the ' +\n",
              "            '<a target=\"_blank\" href=https://colab.research.google.com/notebooks/data_table.ipynb>data table notebook</a>'\n",
              "            + ' to learn more about interactive tables.';\n",
              "          element.innerHTML = '';\n",
              "          dataTable['output_type'] = 'display_data';\n",
              "          await google.colab.output.renderOutput(dataTable, element);\n",
              "          const docLink = document.createElement('div');\n",
              "          docLink.innerHTML = docLinkHtml;\n",
              "          element.appendChild(docLink);\n",
              "        }\n",
              "      </script>\n",
              "    </div>\n",
              "  </div>\n",
              "  "
            ]
          },
          "metadata": {},
          "execution_count": 8
        }
      ],
      "source": [
        "df_sample = df_orig.sample(n=2000, weights=1./df_orig.groupby('toxic')['toxic'].transform('count'), random_state=101).reset_index(drop=True)\n",
        "df_sample['pure_text'] = df_sample['text'].apply(lambda x: lemmatize(x))\n",
        "df_sample.head()"
      ]
    },
    {
      "cell_type": "code",
      "execution_count": 9,
      "metadata": {
        "colab": {
          "base_uri": "https://localhost:8080/"
        },
        "id": "OG5_np5jd1_g",
        "outputId": "47db28f9-b6c6-424b-f250-9e8a16a635bd",
        "trusted": false
      },
      "outputs": [
        {
          "output_type": "execute_result",
          "data": {
            "text/plain": [
              "0    0.5125\n",
              "1    0.4875\n",
              "Name: toxic, dtype: float64"
            ]
          },
          "metadata": {},
          "execution_count": 9
        }
      ],
      "source": [
        "df_sample['toxic'].value_counts(normalize=True)"
      ]
    },
    {
      "cell_type": "code",
      "source": [
        "# для 1, 2 варианта\n",
        "df_1 = df_sample.copy() \n",
        "df_2 = df_sample.copy()"
      ],
      "metadata": {
        "id": "LvMz0FqRQHnt"
      },
      "execution_count": 10,
      "outputs": []
    },
    {
      "cell_type": "markdown",
      "metadata": {
        "id": "CuN5FZ_0xt5f"
      },
      "source": [
        "# Обучение моделей"
      ]
    },
    {
      "cell_type": "markdown",
      "metadata": {
        "id": "rTP_2veTP3xB"
      },
      "source": [
        "## Вариант 1"
      ]
    },
    {
      "cell_type": "markdown",
      "metadata": {
        "id": "LIGMYqorUPm1"
      },
      "source": [
        "Разобьем выборку на три части: тренировочную (80%), валидационную (10%) и тестовую (10%)"
      ]
    },
    {
      "cell_type": "code",
      "execution_count": 11,
      "metadata": {
        "id": "-W7WA-JMUPm1",
        "trusted": false
      },
      "outputs": [],
      "source": [
        "df_train1, df_temp = train_test_split(df_1, test_size=0.2, random_state=101)\n",
        "df_valid1, df_test1 = train_test_split(df_temp, test_size=0.5, random_state=101)"
      ]
    },
    {
      "cell_type": "markdown",
      "metadata": {
        "id": "rhTMXT23UPm2"
      },
      "source": [
        "Проверка"
      ]
    },
    {
      "cell_type": "code",
      "execution_count": 12,
      "metadata": {
        "colab": {
          "base_uri": "https://localhost:8080/"
        },
        "id": "4Fa4Va5_UPm2",
        "outputId": "4ac24b72-a915-4b78-ca61-87434b000702",
        "trusted": false
      },
      "outputs": [
        {
          "output_type": "stream",
          "name": "stdout",
          "text": [
            "(1600, 3) (200, 3) (200, 3)\n"
          ]
        }
      ],
      "source": [
        "print(df_train1.shape, df_valid1.shape, df_test1.shape)"
      ]
    },
    {
      "cell_type": "markdown",
      "metadata": {
        "id": "I4WIn18hkZa6"
      },
      "source": [
        "Избавимся от стоп-слов и инициализируем **TfidfVectorizer**"
      ]
    },
    {
      "cell_type": "code",
      "execution_count": 13,
      "metadata": {
        "id": "pet4hJchhIK9",
        "trusted": false
      },
      "outputs": [],
      "source": [
        "count_tf_idf = TfidfVectorizer(stop_words=stopwords)"
      ]
    },
    {
      "cell_type": "markdown",
      "metadata": {
        "id": "P2IpVcU8UPm3"
      },
      "source": [
        "Данные для обучения"
      ]
    },
    {
      "cell_type": "code",
      "execution_count": 14,
      "metadata": {
        "id": "nwTjvOdZUPm3",
        "trusted": false
      },
      "outputs": [],
      "source": [
        "features_train = df_train1.drop(['toxic'], axis=1)\n",
        "corpus = df_train1['pure_text'].values.astype('U')\n",
        "features_train1 = count_tf_idf.fit_transform(corpus)\n",
        "target_train1 = df_train1['toxic']"
      ]
    },
    {
      "cell_type": "markdown",
      "metadata": {
        "id": "QONNOSBsUPm3"
      },
      "source": [
        "Данные для валидации"
      ]
    },
    {
      "cell_type": "code",
      "execution_count": 15,
      "metadata": {
        "id": "hsH05Nt8UPm3",
        "trusted": false
      },
      "outputs": [],
      "source": [
        "features_valid1 = df_valid1.drop(['toxic'], axis=1)\n",
        "corpus = df_valid1['pure_text'].values.astype('U')\n",
        "features_valid1 = count_tf_idf.transform(corpus)\n",
        "target_valid1 = df_valid1['toxic']"
      ]
    },
    {
      "cell_type": "markdown",
      "metadata": {
        "id": "LwvfyxphUPm3"
      },
      "source": [
        "Данные для тестирования"
      ]
    },
    {
      "cell_type": "code",
      "execution_count": 16,
      "metadata": {
        "id": "N3TASXzZUPm4",
        "trusted": false
      },
      "outputs": [],
      "source": [
        "features_test1 = df_test1.drop(['toxic'], axis=1)\n",
        "corpus = df_test1['pure_text'].values.astype('U')\n",
        "features_test1 = count_tf_idf.transform(corpus)\n",
        "target_test1 = df_test1['toxic']"
      ]
    },
    {
      "cell_type": "markdown",
      "metadata": {
        "id": "s4sgZETmUPm8"
      },
      "source": [
        "Создадим итоговую таблицу с ключевой метрикой и будем ее наполнять по ходу исследования"
      ]
    },
    {
      "cell_type": "code",
      "execution_count": 17,
      "metadata": {
        "id": "Xn8m8WrpUPm8",
        "trusted": false
      },
      "outputs": [],
      "source": [
        "result_df = pd.DataFrame(columns=['name_ml', 'F1_valid', 'F1_test'])"
      ]
    },
    {
      "cell_type": "code",
      "execution_count": 18,
      "metadata": {
        "colab": {
          "base_uri": "https://localhost:8080/"
        },
        "id": "x6bLP8-TP9ad",
        "outputId": "fe5eb4e0-5fcf-4b6c-fe3f-6878b43a7849",
        "trusted": false
      },
      "outputs": [
        {
          "output_type": "stream",
          "name": "stdout",
          "text": [
            "************************************************************************************************************************\n",
            "\n",
            "Best parameters set found on development set:\n",
            "{'depth': 8, 'iterations': 60}\n",
            "\n",
            "\n",
            "Detailed classification report:\n",
            "              precision    recall  f1-score   support\n",
            "\n",
            "           0       0.81      0.92      0.86       100\n",
            "           1       0.91      0.79      0.84       100\n",
            "\n",
            "    accuracy                           0.85       200\n",
            "   macro avg       0.86      0.85      0.85       200\n",
            "weighted avg       0.86      0.85      0.85       200\n",
            "\n",
            "CPU times: user 21.9 s, sys: 836 ms, total: 22.7 s\n",
            "Wall time: 1min 17s\n"
          ]
        }
      ],
      "source": [
        "%%time\n",
        "#Время выполнения ячеки около 3 минут\n",
        "cat = CatBoostClassifier(random_seed=101, \n",
        "                               early_stopping_rounds=20, \n",
        "                               eval_metric='F1',\n",
        "                               silent=True)\n",
        "\n",
        "tuned_parameters = {'depth'         : [8,10],\n",
        "                    'iterations'    : [60,100]\n",
        "                   }\n",
        "\n",
        "best_cat = GridSearchCV(cat, param_grid=tuned_parameters, cv=2, n_jobs=-1)\n",
        "best_cat.fit(features_train1, target_train1, eval_set=(features_valid1, target_valid1))\n",
        "target_pred1 = best_cat.predict(features_valid1)\n",
        "\n",
        "print('***'*40)\n",
        "print()\n",
        "print(\"Best parameters set found on development set:\")\n",
        "print(best_cat.best_params_)\n",
        "print()\n",
        "print()\n",
        "print(\"Detailed classification report:\")\n",
        "print(classification_report(target_valid1, target_pred1))"
      ]
    },
    {
      "cell_type": "code",
      "execution_count": 19,
      "metadata": {
        "colab": {
          "base_uri": "https://localhost:8080/",
          "height": 81
        },
        "id": "aS_GHo0BUPm8",
        "outputId": "119a2a64-18cf-4e16-855d-880d76536cb7",
        "trusted": false
      },
      "outputs": [
        {
          "output_type": "execute_result",
          "data": {
            "text/plain": [
              "             name_ml  F1_valid F1_test\n",
              "0  TF-IDF + Catboost      0.84       0"
            ],
            "text/html": [
              "\n",
              "  <div id=\"df-cac448b2-2ba8-4f23-b5ea-86d47feeaa0d\">\n",
              "    <div class=\"colab-df-container\">\n",
              "      <div>\n",
              "<style scoped>\n",
              "    .dataframe tbody tr th:only-of-type {\n",
              "        vertical-align: middle;\n",
              "    }\n",
              "\n",
              "    .dataframe tbody tr th {\n",
              "        vertical-align: top;\n",
              "    }\n",
              "\n",
              "    .dataframe thead th {\n",
              "        text-align: right;\n",
              "    }\n",
              "</style>\n",
              "<table border=\"1\" class=\"dataframe\">\n",
              "  <thead>\n",
              "    <tr style=\"text-align: right;\">\n",
              "      <th></th>\n",
              "      <th>name_ml</th>\n",
              "      <th>F1_valid</th>\n",
              "      <th>F1_test</th>\n",
              "    </tr>\n",
              "  </thead>\n",
              "  <tbody>\n",
              "    <tr>\n",
              "      <th>0</th>\n",
              "      <td>TF-IDF + Catboost</td>\n",
              "      <td>0.84</td>\n",
              "      <td>0</td>\n",
              "    </tr>\n",
              "  </tbody>\n",
              "</table>\n",
              "</div>\n",
              "      <button class=\"colab-df-convert\" onclick=\"convertToInteractive('df-cac448b2-2ba8-4f23-b5ea-86d47feeaa0d')\"\n",
              "              title=\"Convert this dataframe to an interactive table.\"\n",
              "              style=\"display:none;\">\n",
              "        \n",
              "  <svg xmlns=\"http://www.w3.org/2000/svg\" height=\"24px\"viewBox=\"0 0 24 24\"\n",
              "       width=\"24px\">\n",
              "    <path d=\"M0 0h24v24H0V0z\" fill=\"none\"/>\n",
              "    <path d=\"M18.56 5.44l.94 2.06.94-2.06 2.06-.94-2.06-.94-.94-2.06-.94 2.06-2.06.94zm-11 1L8.5 8.5l.94-2.06 2.06-.94-2.06-.94L8.5 2.5l-.94 2.06-2.06.94zm10 10l.94 2.06.94-2.06 2.06-.94-2.06-.94-.94-2.06-.94 2.06-2.06.94z\"/><path d=\"M17.41 7.96l-1.37-1.37c-.4-.4-.92-.59-1.43-.59-.52 0-1.04.2-1.43.59L10.3 9.45l-7.72 7.72c-.78.78-.78 2.05 0 2.83L4 21.41c.39.39.9.59 1.41.59.51 0 1.02-.2 1.41-.59l7.78-7.78 2.81-2.81c.8-.78.8-2.07 0-2.86zM5.41 20L4 18.59l7.72-7.72 1.47 1.35L5.41 20z\"/>\n",
              "  </svg>\n",
              "      </button>\n",
              "      \n",
              "  <style>\n",
              "    .colab-df-container {\n",
              "      display:flex;\n",
              "      flex-wrap:wrap;\n",
              "      gap: 12px;\n",
              "    }\n",
              "\n",
              "    .colab-df-convert {\n",
              "      background-color: #E8F0FE;\n",
              "      border: none;\n",
              "      border-radius: 50%;\n",
              "      cursor: pointer;\n",
              "      display: none;\n",
              "      fill: #1967D2;\n",
              "      height: 32px;\n",
              "      padding: 0 0 0 0;\n",
              "      width: 32px;\n",
              "    }\n",
              "\n",
              "    .colab-df-convert:hover {\n",
              "      background-color: #E2EBFA;\n",
              "      box-shadow: 0px 1px 2px rgba(60, 64, 67, 0.3), 0px 1px 3px 1px rgba(60, 64, 67, 0.15);\n",
              "      fill: #174EA6;\n",
              "    }\n",
              "\n",
              "    [theme=dark] .colab-df-convert {\n",
              "      background-color: #3B4455;\n",
              "      fill: #D2E3FC;\n",
              "    }\n",
              "\n",
              "    [theme=dark] .colab-df-convert:hover {\n",
              "      background-color: #434B5C;\n",
              "      box-shadow: 0px 1px 3px 1px rgba(0, 0, 0, 0.15);\n",
              "      filter: drop-shadow(0px 1px 2px rgba(0, 0, 0, 0.3));\n",
              "      fill: #FFFFFF;\n",
              "    }\n",
              "  </style>\n",
              "\n",
              "      <script>\n",
              "        const buttonEl =\n",
              "          document.querySelector('#df-cac448b2-2ba8-4f23-b5ea-86d47feeaa0d button.colab-df-convert');\n",
              "        buttonEl.style.display =\n",
              "          google.colab.kernel.accessAllowed ? 'block' : 'none';\n",
              "\n",
              "        async function convertToInteractive(key) {\n",
              "          const element = document.querySelector('#df-cac448b2-2ba8-4f23-b5ea-86d47feeaa0d');\n",
              "          const dataTable =\n",
              "            await google.colab.kernel.invokeFunction('convertToInteractive',\n",
              "                                                     [key], {});\n",
              "          if (!dataTable) return;\n",
              "\n",
              "          const docLinkHtml = 'Like what you see? Visit the ' +\n",
              "            '<a target=\"_blank\" href=https://colab.research.google.com/notebooks/data_table.ipynb>data table notebook</a>'\n",
              "            + ' to learn more about interactive tables.';\n",
              "          element.innerHTML = '';\n",
              "          dataTable['output_type'] = 'display_data';\n",
              "          await google.colab.output.renderOutput(dataTable, element);\n",
              "          const docLink = document.createElement('div');\n",
              "          docLink.innerHTML = docLinkHtml;\n",
              "          element.appendChild(docLink);\n",
              "        }\n",
              "      </script>\n",
              "    </div>\n",
              "  </div>\n",
              "  "
            ]
          },
          "metadata": {},
          "execution_count": 19
        }
      ],
      "source": [
        "#заново создаем отчет, чтобы иметь вывод в словарь, для простого доступа к содержимому\n",
        "cat_report = classification_report(target_valid1, target_pred1, output_dict=True)\n",
        "result_df.loc[0]=['TF-IDF + Catboost', round(cat_report['1']['f1-score'], 2), 0]\n",
        "result_df"
      ]
    },
    {
      "cell_type": "markdown",
      "metadata": {
        "id": "_3bUmea9ksJ1"
      },
      "source": [
        "Отлично, рассмотрим следующий вариант"
      ]
    },
    {
      "cell_type": "markdown",
      "metadata": {
        "id": "mIlJIvd5P3oD"
      },
      "source": [
        "## Вариант 2"
      ]
    },
    {
      "cell_type": "markdown",
      "metadata": {
        "id": "weLlbXMbsFCL"
      },
      "source": [
        "Инициализируем токенайзер."
      ]
    },
    {
      "cell_type": "code",
      "execution_count": 20,
      "metadata": {
        "colab": {
          "base_uri": "https://localhost:8080/",
          "height": 113,
          "referenced_widgets": [
            "7b7aad2c7edc473e954d3ace844c1924",
            "99251d8d6d3944e5bc1ad9f945221781",
            "af4c0f934a50485296f4ec13d46a3625",
            "29819b5f259949b1a0a8c70f69889fe8",
            "eda9db4a385d4c57ac0fd50e3da4b7a7",
            "d9177ea134f8460ebd6cf1ad689318a3",
            "3fbbc8b306db4ce59dd86a527c9ccc1b",
            "b5bc57e0774941d7805a42911cd9f013",
            "0de443816cd040d1b0de6258f4236ba7",
            "2e2215c5a3f441a9b550cfd06cebfa78",
            "18c5c3af0aff46d9a451645f9a375d4a",
            "dba1c8dc6e52499fb22466cb2838ee54",
            "462763fdc04443d6a92b0e45711581db",
            "b006d3883ebf413cbaf1a26b77ba995f",
            "6a3518dd4eec4fcb80e45717485d0b5e",
            "8a3a534c27044d37b42cfc6fa6e7dfa7",
            "d15de19918fd4fee90b049548bc2f1e4",
            "01640401c8904a0280849287b78a5c7d",
            "cc6e26045f54443dbf30a6cf6ab24703",
            "d89c3877b9cc476f994c0a0c22abadbf",
            "92ca57b8cd484c76820c107cff2be52e",
            "24a431d95b0843ab95329ce0ce5e7d83",
            "566d7bb2a0104ad9abb97d81603d39ee",
            "7f028c2ca973466aaa40a78e3f42aa15",
            "69008c102fcb4f4fb83addd00d51e6c9",
            "c8eddfb8df7c459596d5579cc5ea3f66",
            "e020c0033bb94286b7ef1609da54d504",
            "329c540f4ddd4362b1b155a9b6ac6c53",
            "b847032e8a52417a877f6888990400cc",
            "898f9a2176f34cf398618df9982c778e",
            "06d35a42af3947078f91412a9d7b27c9",
            "dca48dcfbc6f45bdaa94d65fa4f661e1",
            "a491e618646f4c3f89eed439a22d963f"
          ]
        },
        "id": "52UG5cckrqxt",
        "outputId": "33bd6902-33cc-4108-866b-09d2972e8210",
        "trusted": false
      },
      "outputs": [
        {
          "output_type": "display_data",
          "data": {
            "text/plain": [
              "Downloading:   0%|          | 0.00/226k [00:00<?, ?B/s]"
            ],
            "application/vnd.jupyter.widget-view+json": {
              "version_major": 2,
              "version_minor": 0,
              "model_id": "7b7aad2c7edc473e954d3ace844c1924"
            }
          },
          "metadata": {}
        },
        {
          "output_type": "display_data",
          "data": {
            "text/plain": [
              "Downloading:   0%|          | 0.00/28.0 [00:00<?, ?B/s]"
            ],
            "application/vnd.jupyter.widget-view+json": {
              "version_major": 2,
              "version_minor": 0,
              "model_id": "dba1c8dc6e52499fb22466cb2838ee54"
            }
          },
          "metadata": {}
        },
        {
          "output_type": "display_data",
          "data": {
            "text/plain": [
              "Downloading:   0%|          | 0.00/483 [00:00<?, ?B/s]"
            ],
            "application/vnd.jupyter.widget-view+json": {
              "version_major": 2,
              "version_minor": 0,
              "model_id": "566d7bb2a0104ad9abb97d81603d39ee"
            }
          },
          "metadata": {}
        }
      ],
      "source": [
        "tokenizer = DistilBertTokenizer.from_pretrained('distilbert-base-uncased')"
      ]
    },
    {
      "cell_type": "markdown",
      "metadata": {
        "id": "4iwKZ395Msmj"
      },
      "source": [
        "Преобразуем текст в номера токенов"
      ]
    },
    {
      "cell_type": "code",
      "execution_count": 21,
      "metadata": {
        "id": "CwI6Jj84sqxi",
        "trusted": false
      },
      "outputs": [],
      "source": [
        "tokenized = df_2['pure_text'].apply(lambda x: tokenizer.encode(x, max_length = 512, truncation=True, add_special_tokens=True))"
      ]
    },
    {
      "cell_type": "markdown",
      "metadata": {
        "id": "1iD-zs3jGepq"
      },
      "source": [
        "Дополним нулями вектора до максимальной длины и создадим маску"
      ]
    },
    {
      "cell_type": "code",
      "execution_count": 22,
      "metadata": {
        "id": "su7mgqDEEdbN",
        "trusted": false
      },
      "outputs": [],
      "source": [
        "padded = np.array([i + [0]*(512 - len(i)) for i in tokenized.values])"
      ]
    },
    {
      "cell_type": "code",
      "execution_count": 23,
      "metadata": {
        "id": "A3yd2YrcEh7E",
        "trusted": false
      },
      "outputs": [],
      "source": [
        "attention_mask = np.where(padded != 0, 1, 0)"
      ]
    },
    {
      "cell_type": "markdown",
      "metadata": {
        "id": "J5IzEgOHGl8N"
      },
      "source": [
        "Инициализируем модель"
      ]
    },
    {
      "cell_type": "code",
      "execution_count": 24,
      "metadata": {
        "colab": {
          "base_uri": "https://localhost:8080/",
          "height": 121,
          "referenced_widgets": [
            "6e225f12cacc4075b7759d2ecfffeda1",
            "88a83385b0cc42ffbcf586ed0dd24a42",
            "77a6a5b465c34823bc0cb84add5685c0",
            "407e54b462044d9faa4d95a49d948ad6",
            "e78b7e56887448149d8e5d6e4fde72b7",
            "6f2e966e800149d8a49183525bdb1f6c",
            "948f7496b63240bea6606ffd5698d97c",
            "b8b144824bf94a9e99ddac9e0a119755",
            "59714f32e80846879b8c75725dcb48c5",
            "238105aa1d104bc3955c47c8c041111b",
            "2806e1d98d4046b288e72ff93e12ce7a"
          ]
        },
        "id": "TtUIeev64hSs",
        "outputId": "95d61715-a0d0-4b93-8829-0a3569d98126",
        "trusted": false
      },
      "outputs": [
        {
          "output_type": "display_data",
          "data": {
            "text/plain": [
              "Downloading:   0%|          | 0.00/256M [00:00<?, ?B/s]"
            ],
            "application/vnd.jupyter.widget-view+json": {
              "version_major": 2,
              "version_minor": 0,
              "model_id": "6e225f12cacc4075b7759d2ecfffeda1"
            }
          },
          "metadata": {}
        },
        {
          "output_type": "stream",
          "name": "stderr",
          "text": [
            "Some weights of the model checkpoint at distilbert-base-uncased were not used when initializing DistilBertModel: ['vocab_transform.weight', 'vocab_projector.bias', 'vocab_projector.weight', 'vocab_transform.bias', 'vocab_layer_norm.bias', 'vocab_layer_norm.weight']\n",
            "- This IS expected if you are initializing DistilBertModel from the checkpoint of a model trained on another task or with another architecture (e.g. initializing a BertForSequenceClassification model from a BertForPreTraining model).\n",
            "- This IS NOT expected if you are initializing DistilBertModel from the checkpoint of a model that you expect to be exactly identical (initializing a BertForSequenceClassification model from a BertForSequenceClassification model).\n"
          ]
        }
      ],
      "source": [
        "model = DistilBertModel.from_pretrained(\"distilbert-base-uncased\")"
      ]
    },
    {
      "cell_type": "code",
      "execution_count": 25,
      "metadata": {
        "colab": {
          "base_uri": "https://localhost:8080/",
          "height": 49,
          "referenced_widgets": [
            "8daab28878e34d48ac0e19a934eee7c9",
            "146acb7b72494e6e9367adcf03ef61f8",
            "f8bc6fa7b75448afaa7622db0a9a375a",
            "301c613a50a34082bcdfa60f5f8c2b51",
            "6ffd7215b02246beb6c0888e16b21ff3",
            "c1dc7c8d430d45f9ae07589ad5582b4b",
            "2f70d280652c4573a0e7b867dbcd74d8",
            "505b258e6dd2451f955ae0663a72059b",
            "ca8753d72d0c43a2809a902c5c8a02b2",
            "098f064dc4a243239a73eadc1c9ad0ac",
            "47bc55907ae348c3819da11730a5ca4a"
          ]
        },
        "id": "NrCgFCrPzP83",
        "outputId": "0025c296-5a67-4f55-b301-9b5fefbc865f",
        "trusted": false
      },
      "outputs": [
        {
          "output_type": "display_data",
          "data": {
            "text/plain": [
              "  0%|          | 0/10 [00:00<?, ?it/s]"
            ],
            "application/vnd.jupyter.widget-view+json": {
              "version_major": 2,
              "version_minor": 0,
              "model_id": "8daab28878e34d48ac0e19a934eee7c9"
            }
          },
          "metadata": {}
        }
      ],
      "source": [
        "# Время выполнения - примерно 20 минут\n",
        "batch_size = 200\n",
        "embeddings = []\n",
        "\n",
        "for i in notebook.tqdm(range(padded.shape[0] // batch_size)):\n",
        "        # Преобразуем данные в формат тензоров\n",
        "        batch = torch.LongTensor(padded[batch_size*i:batch_size*(i+1)]) \n",
        "        attention_mask_batch = torch.LongTensor(attention_mask[batch_size*i:batch_size*(i+1)])\n",
        "        \n",
        "        # Для ускорения используем no_grad() те без градиентов\n",
        "        with torch.no_grad():\n",
        "            # Чтобы получить эмбеддинги для батча, передадим модели данные и маску\n",
        "            batch_embeddings = model(batch, attention_mask=attention_mask_batch)\n",
        "        # Из полученного тензора извлечём нужные элементы и добавим в список всех эмбеддингов\n",
        "        embeddings.append(batch_embeddings[0][:,0,:].numpy())"
      ]
    },
    {
      "cell_type": "code",
      "execution_count": 26,
      "metadata": {
        "id": "2enCKsUlQUDy",
        "trusted": false
      },
      "outputs": [],
      "source": [
        "df_2_ready = pd.DataFrame(np.concatenate(embeddings))\n",
        "df_2_ready['toxic'] = df_2['toxic']"
      ]
    },
    {
      "cell_type": "markdown",
      "metadata": {
        "id": "TH-LJXkwOwSD"
      },
      "source": [
        "Разобьем выборку на три части: тренировочную (80%), валидационную (10%) и тестовую (10%)"
      ]
    },
    {
      "cell_type": "code",
      "execution_count": 27,
      "metadata": {
        "id": "CoK_dLkGOwSE",
        "trusted": false
      },
      "outputs": [],
      "source": [
        "df_train2, df_temp = train_test_split(df_2_ready, test_size=0.2, random_state=101)\n",
        "df_valid2, df_test2 = train_test_split(df_temp, test_size=0.5, random_state=101)"
      ]
    },
    {
      "cell_type": "markdown",
      "metadata": {
        "id": "M7NcrbpdOwSF"
      },
      "source": [
        "Проверка"
      ]
    },
    {
      "cell_type": "code",
      "execution_count": 28,
      "metadata": {
        "colab": {
          "base_uri": "https://localhost:8080/"
        },
        "id": "9Bni467AOwSG",
        "outputId": "9ad1d2a8-a581-4be7-d5cb-b0b5af78b6e7",
        "trusted": false
      },
      "outputs": [
        {
          "output_type": "stream",
          "name": "stdout",
          "text": [
            "(1600, 769) (200, 769) (200, 769)\n"
          ]
        }
      ],
      "source": [
        "print(df_train2.shape, df_valid2.shape, df_test2.shape)"
      ]
    },
    {
      "cell_type": "markdown",
      "metadata": {
        "id": "vmRPJb8aOwSH"
      },
      "source": [
        "Данные для обучения"
      ]
    },
    {
      "cell_type": "code",
      "execution_count": 29,
      "metadata": {
        "id": "fX5MSIsBOwSJ",
        "trusted": false
      },
      "outputs": [],
      "source": [
        "features_train2 = df_train2.drop(['toxic'], axis=1)\n",
        "target_train2 = df_train2['toxic']"
      ]
    },
    {
      "cell_type": "markdown",
      "metadata": {
        "id": "6t-a38UdOwSJ"
      },
      "source": [
        "Данные для валидации"
      ]
    },
    {
      "cell_type": "code",
      "execution_count": 30,
      "metadata": {
        "id": "kB-i4wgIOwSK",
        "trusted": false
      },
      "outputs": [],
      "source": [
        "features_valid2 = df_valid2.drop(['toxic'], axis=1)\n",
        "target_valid2 = df_valid2['toxic']"
      ]
    },
    {
      "cell_type": "markdown",
      "metadata": {
        "id": "gN5da25_OwSL"
      },
      "source": [
        "Данные для тестирования"
      ]
    },
    {
      "cell_type": "code",
      "execution_count": 31,
      "metadata": {
        "id": "iwpgH_aeOwSL",
        "trusted": false
      },
      "outputs": [],
      "source": [
        "features_test2 = df_test2.drop(['toxic'], axis=1)\n",
        "target_test2 = df_test2['toxic']"
      ]
    },
    {
      "cell_type": "markdown",
      "metadata": {
        "id": "C90U1ynBUY7S"
      },
      "source": [
        "Посмотрим, как с новыми признаками проявит себя **LogisticRegression**"
      ]
    },
    {
      "cell_type": "code",
      "execution_count": 32,
      "metadata": {
        "colab": {
          "base_uri": "https://localhost:8080/"
        },
        "id": "f_jTMAPlSsGu",
        "outputId": "2bfc2cc6-7df3-418e-ca1e-ceb866c9c157",
        "trusted": false
      },
      "outputs": [
        {
          "output_type": "stream",
          "name": "stdout",
          "text": [
            "************************************************************************************************************************\n",
            "\n",
            "Best parameters set found on development set:\n",
            "{'C': 0.4, 'solver': 'sag'}\n",
            "\n",
            "\n",
            "Detailed classification report:\n",
            "              precision    recall  f1-score   support\n",
            "\n",
            "           0       0.86      0.93      0.89       100\n",
            "           1       0.92      0.85      0.89       100\n",
            "\n",
            "    accuracy                           0.89       200\n",
            "   macro avg       0.89      0.89      0.89       200\n",
            "weighted avg       0.89      0.89      0.89       200\n",
            "\n",
            "CPU times: user 1.53 s, sys: 773 ms, total: 2.3 s\n",
            "Wall time: 6.73 s\n"
          ]
        },
        {
          "output_type": "stream",
          "name": "stderr",
          "text": [
            "/usr/local/lib/python3.7/dist-packages/sklearn/linear_model/_sag.py:354: ConvergenceWarning: The max_iter was reached which means the coef_ did not converge\n",
            "  ConvergenceWarning,\n"
          ]
        }
      ],
      "source": [
        "%%time\n",
        "#Время выполнения ячеки около 1 минут\n",
        "logreg = LogisticRegression(random_state=101)\n",
        "\n",
        "tuned_parameters = {\"C\": [0.4, 0.9],\n",
        "                    \"solver\": ['sag', 'saga']\n",
        "                   }\n",
        "\n",
        "best_logreg = GridSearchCV(logreg, param_grid=tuned_parameters, cv=2, n_jobs=-1)\n",
        "best_logreg.fit(features_train2, target_train2)\n",
        "target_pred2 = best_logreg.predict(features_valid2)\n",
        "\n",
        "print('***'*40)\n",
        "print()\n",
        "print(\"Best parameters set found on development set:\")\n",
        "print(best_logreg.best_params_)\n",
        "print()\n",
        "print()\n",
        "print(\"Detailed classification report:\")\n",
        "print(classification_report(target_valid2, target_pred2))"
      ]
    },
    {
      "cell_type": "code",
      "execution_count": 33,
      "metadata": {
        "colab": {
          "base_uri": "https://localhost:8080/",
          "height": 112
        },
        "id": "XIsc_5OJUGEX",
        "outputId": "c02f994b-b337-4ead-bc87-4d32509abc60",
        "trusted": false
      },
      "outputs": [
        {
          "output_type": "execute_result",
          "data": {
            "text/plain": [
              "             name_ml  F1_valid F1_test\n",
              "0  TF-IDF + Catboost      0.84       0\n",
              "1      BERT + LogReg      0.89       0"
            ],
            "text/html": [
              "\n",
              "  <div id=\"df-969a34a6-2abd-473d-9c8f-46c0e6c897f2\">\n",
              "    <div class=\"colab-df-container\">\n",
              "      <div>\n",
              "<style scoped>\n",
              "    .dataframe tbody tr th:only-of-type {\n",
              "        vertical-align: middle;\n",
              "    }\n",
              "\n",
              "    .dataframe tbody tr th {\n",
              "        vertical-align: top;\n",
              "    }\n",
              "\n",
              "    .dataframe thead th {\n",
              "        text-align: right;\n",
              "    }\n",
              "</style>\n",
              "<table border=\"1\" class=\"dataframe\">\n",
              "  <thead>\n",
              "    <tr style=\"text-align: right;\">\n",
              "      <th></th>\n",
              "      <th>name_ml</th>\n",
              "      <th>F1_valid</th>\n",
              "      <th>F1_test</th>\n",
              "    </tr>\n",
              "  </thead>\n",
              "  <tbody>\n",
              "    <tr>\n",
              "      <th>0</th>\n",
              "      <td>TF-IDF + Catboost</td>\n",
              "      <td>0.84</td>\n",
              "      <td>0</td>\n",
              "    </tr>\n",
              "    <tr>\n",
              "      <th>1</th>\n",
              "      <td>BERT + LogReg</td>\n",
              "      <td>0.89</td>\n",
              "      <td>0</td>\n",
              "    </tr>\n",
              "  </tbody>\n",
              "</table>\n",
              "</div>\n",
              "      <button class=\"colab-df-convert\" onclick=\"convertToInteractive('df-969a34a6-2abd-473d-9c8f-46c0e6c897f2')\"\n",
              "              title=\"Convert this dataframe to an interactive table.\"\n",
              "              style=\"display:none;\">\n",
              "        \n",
              "  <svg xmlns=\"http://www.w3.org/2000/svg\" height=\"24px\"viewBox=\"0 0 24 24\"\n",
              "       width=\"24px\">\n",
              "    <path d=\"M0 0h24v24H0V0z\" fill=\"none\"/>\n",
              "    <path d=\"M18.56 5.44l.94 2.06.94-2.06 2.06-.94-2.06-.94-.94-2.06-.94 2.06-2.06.94zm-11 1L8.5 8.5l.94-2.06 2.06-.94-2.06-.94L8.5 2.5l-.94 2.06-2.06.94zm10 10l.94 2.06.94-2.06 2.06-.94-2.06-.94-.94-2.06-.94 2.06-2.06.94z\"/><path d=\"M17.41 7.96l-1.37-1.37c-.4-.4-.92-.59-1.43-.59-.52 0-1.04.2-1.43.59L10.3 9.45l-7.72 7.72c-.78.78-.78 2.05 0 2.83L4 21.41c.39.39.9.59 1.41.59.51 0 1.02-.2 1.41-.59l7.78-7.78 2.81-2.81c.8-.78.8-2.07 0-2.86zM5.41 20L4 18.59l7.72-7.72 1.47 1.35L5.41 20z\"/>\n",
              "  </svg>\n",
              "      </button>\n",
              "      \n",
              "  <style>\n",
              "    .colab-df-container {\n",
              "      display:flex;\n",
              "      flex-wrap:wrap;\n",
              "      gap: 12px;\n",
              "    }\n",
              "\n",
              "    .colab-df-convert {\n",
              "      background-color: #E8F0FE;\n",
              "      border: none;\n",
              "      border-radius: 50%;\n",
              "      cursor: pointer;\n",
              "      display: none;\n",
              "      fill: #1967D2;\n",
              "      height: 32px;\n",
              "      padding: 0 0 0 0;\n",
              "      width: 32px;\n",
              "    }\n",
              "\n",
              "    .colab-df-convert:hover {\n",
              "      background-color: #E2EBFA;\n",
              "      box-shadow: 0px 1px 2px rgba(60, 64, 67, 0.3), 0px 1px 3px 1px rgba(60, 64, 67, 0.15);\n",
              "      fill: #174EA6;\n",
              "    }\n",
              "\n",
              "    [theme=dark] .colab-df-convert {\n",
              "      background-color: #3B4455;\n",
              "      fill: #D2E3FC;\n",
              "    }\n",
              "\n",
              "    [theme=dark] .colab-df-convert:hover {\n",
              "      background-color: #434B5C;\n",
              "      box-shadow: 0px 1px 3px 1px rgba(0, 0, 0, 0.15);\n",
              "      filter: drop-shadow(0px 1px 2px rgba(0, 0, 0, 0.3));\n",
              "      fill: #FFFFFF;\n",
              "    }\n",
              "  </style>\n",
              "\n",
              "      <script>\n",
              "        const buttonEl =\n",
              "          document.querySelector('#df-969a34a6-2abd-473d-9c8f-46c0e6c897f2 button.colab-df-convert');\n",
              "        buttonEl.style.display =\n",
              "          google.colab.kernel.accessAllowed ? 'block' : 'none';\n",
              "\n",
              "        async function convertToInteractive(key) {\n",
              "          const element = document.querySelector('#df-969a34a6-2abd-473d-9c8f-46c0e6c897f2');\n",
              "          const dataTable =\n",
              "            await google.colab.kernel.invokeFunction('convertToInteractive',\n",
              "                                                     [key], {});\n",
              "          if (!dataTable) return;\n",
              "\n",
              "          const docLinkHtml = 'Like what you see? Visit the ' +\n",
              "            '<a target=\"_blank\" href=https://colab.research.google.com/notebooks/data_table.ipynb>data table notebook</a>'\n",
              "            + ' to learn more about interactive tables.';\n",
              "          element.innerHTML = '';\n",
              "          dataTable['output_type'] = 'display_data';\n",
              "          await google.colab.output.renderOutput(dataTable, element);\n",
              "          const docLink = document.createElement('div');\n",
              "          docLink.innerHTML = docLinkHtml;\n",
              "          element.appendChild(docLink);\n",
              "        }\n",
              "      </script>\n",
              "    </div>\n",
              "  </div>\n",
              "  "
            ]
          },
          "metadata": {},
          "execution_count": 33
        }
      ],
      "source": [
        "#заново создаем отчет, чтобы иметь вывод в словарь, для простого доступа к содержимому\n",
        "logreg_report = classification_report(target_valid2, target_pred2, output_dict=True)\n",
        "result_df.loc[1]=['BERT + LogReg', round(logreg_report['1']['f1-score'], 2), 0]\n",
        "result_df"
      ]
    },
    {
      "cell_type": "markdown",
      "metadata": {
        "id": "6UGs_i3XnULI"
      },
      "source": [
        "----"
      ]
    },
    {
      "cell_type": "markdown",
      "metadata": {
        "id": "YlK6mrCwUPnO"
      },
      "source": [
        "# Тестирование моделей"
      ]
    },
    {
      "cell_type": "markdown",
      "metadata": {
        "id": "amX-AZw3UPnU"
      },
      "source": [
        "### Вариант 1"
      ]
    },
    {
      "cell_type": "markdown",
      "metadata": {
        "id": "tvSbApboUPnU"
      },
      "source": [
        "Проверка на тестовой выборке"
      ]
    },
    {
      "cell_type": "code",
      "execution_count": 34,
      "metadata": {
        "colab": {
          "base_uri": "https://localhost:8080/"
        },
        "id": "crg9_TGmUPnW",
        "outputId": "eb33414d-589d-4158-e858-69c7093005cd",
        "trusted": false
      },
      "outputs": [
        {
          "output_type": "stream",
          "name": "stdout",
          "text": [
            "Detailed classification report:\n",
            "              precision    recall  f1-score   support\n",
            "\n",
            "           0       0.78      0.96      0.86        98\n",
            "           1       0.95      0.74      0.83       102\n",
            "\n",
            "    accuracy                           0.84       200\n",
            "   macro avg       0.86      0.85      0.84       200\n",
            "weighted avg       0.86      0.84      0.84       200\n",
            "\n"
          ]
        }
      ],
      "source": [
        "print(\"Detailed classification report:\")\n",
        "target_pred1 = best_cat.predict(features_test1)\n",
        "print(classification_report(target_test1, target_pred1))"
      ]
    },
    {
      "cell_type": "code",
      "execution_count": 35,
      "metadata": {
        "colab": {
          "base_uri": "https://localhost:8080/",
          "height": 112
        },
        "id": "_DGeKL-kUPnX",
        "outputId": "bbe0104a-359d-4b8f-ee34-c626fa8d1df9",
        "trusted": false
      },
      "outputs": [
        {
          "output_type": "execute_result",
          "data": {
            "text/plain": [
              "             name_ml  F1_valid F1_test\n",
              "0  TF-IDF + Catboost      0.84    0.83\n",
              "1      BERT + LogReg      0.89       0"
            ],
            "text/html": [
              "\n",
              "  <div id=\"df-01d9c820-b7bc-4bdc-acaa-24789d51cda9\">\n",
              "    <div class=\"colab-df-container\">\n",
              "      <div>\n",
              "<style scoped>\n",
              "    .dataframe tbody tr th:only-of-type {\n",
              "        vertical-align: middle;\n",
              "    }\n",
              "\n",
              "    .dataframe tbody tr th {\n",
              "        vertical-align: top;\n",
              "    }\n",
              "\n",
              "    .dataframe thead th {\n",
              "        text-align: right;\n",
              "    }\n",
              "</style>\n",
              "<table border=\"1\" class=\"dataframe\">\n",
              "  <thead>\n",
              "    <tr style=\"text-align: right;\">\n",
              "      <th></th>\n",
              "      <th>name_ml</th>\n",
              "      <th>F1_valid</th>\n",
              "      <th>F1_test</th>\n",
              "    </tr>\n",
              "  </thead>\n",
              "  <tbody>\n",
              "    <tr>\n",
              "      <th>0</th>\n",
              "      <td>TF-IDF + Catboost</td>\n",
              "      <td>0.84</td>\n",
              "      <td>0.83</td>\n",
              "    </tr>\n",
              "    <tr>\n",
              "      <th>1</th>\n",
              "      <td>BERT + LogReg</td>\n",
              "      <td>0.89</td>\n",
              "      <td>0</td>\n",
              "    </tr>\n",
              "  </tbody>\n",
              "</table>\n",
              "</div>\n",
              "      <button class=\"colab-df-convert\" onclick=\"convertToInteractive('df-01d9c820-b7bc-4bdc-acaa-24789d51cda9')\"\n",
              "              title=\"Convert this dataframe to an interactive table.\"\n",
              "              style=\"display:none;\">\n",
              "        \n",
              "  <svg xmlns=\"http://www.w3.org/2000/svg\" height=\"24px\"viewBox=\"0 0 24 24\"\n",
              "       width=\"24px\">\n",
              "    <path d=\"M0 0h24v24H0V0z\" fill=\"none\"/>\n",
              "    <path d=\"M18.56 5.44l.94 2.06.94-2.06 2.06-.94-2.06-.94-.94-2.06-.94 2.06-2.06.94zm-11 1L8.5 8.5l.94-2.06 2.06-.94-2.06-.94L8.5 2.5l-.94 2.06-2.06.94zm10 10l.94 2.06.94-2.06 2.06-.94-2.06-.94-.94-2.06-.94 2.06-2.06.94z\"/><path d=\"M17.41 7.96l-1.37-1.37c-.4-.4-.92-.59-1.43-.59-.52 0-1.04.2-1.43.59L10.3 9.45l-7.72 7.72c-.78.78-.78 2.05 0 2.83L4 21.41c.39.39.9.59 1.41.59.51 0 1.02-.2 1.41-.59l7.78-7.78 2.81-2.81c.8-.78.8-2.07 0-2.86zM5.41 20L4 18.59l7.72-7.72 1.47 1.35L5.41 20z\"/>\n",
              "  </svg>\n",
              "      </button>\n",
              "      \n",
              "  <style>\n",
              "    .colab-df-container {\n",
              "      display:flex;\n",
              "      flex-wrap:wrap;\n",
              "      gap: 12px;\n",
              "    }\n",
              "\n",
              "    .colab-df-convert {\n",
              "      background-color: #E8F0FE;\n",
              "      border: none;\n",
              "      border-radius: 50%;\n",
              "      cursor: pointer;\n",
              "      display: none;\n",
              "      fill: #1967D2;\n",
              "      height: 32px;\n",
              "      padding: 0 0 0 0;\n",
              "      width: 32px;\n",
              "    }\n",
              "\n",
              "    .colab-df-convert:hover {\n",
              "      background-color: #E2EBFA;\n",
              "      box-shadow: 0px 1px 2px rgba(60, 64, 67, 0.3), 0px 1px 3px 1px rgba(60, 64, 67, 0.15);\n",
              "      fill: #174EA6;\n",
              "    }\n",
              "\n",
              "    [theme=dark] .colab-df-convert {\n",
              "      background-color: #3B4455;\n",
              "      fill: #D2E3FC;\n",
              "    }\n",
              "\n",
              "    [theme=dark] .colab-df-convert:hover {\n",
              "      background-color: #434B5C;\n",
              "      box-shadow: 0px 1px 3px 1px rgba(0, 0, 0, 0.15);\n",
              "      filter: drop-shadow(0px 1px 2px rgba(0, 0, 0, 0.3));\n",
              "      fill: #FFFFFF;\n",
              "    }\n",
              "  </style>\n",
              "\n",
              "      <script>\n",
              "        const buttonEl =\n",
              "          document.querySelector('#df-01d9c820-b7bc-4bdc-acaa-24789d51cda9 button.colab-df-convert');\n",
              "        buttonEl.style.display =\n",
              "          google.colab.kernel.accessAllowed ? 'block' : 'none';\n",
              "\n",
              "        async function convertToInteractive(key) {\n",
              "          const element = document.querySelector('#df-01d9c820-b7bc-4bdc-acaa-24789d51cda9');\n",
              "          const dataTable =\n",
              "            await google.colab.kernel.invokeFunction('convertToInteractive',\n",
              "                                                     [key], {});\n",
              "          if (!dataTable) return;\n",
              "\n",
              "          const docLinkHtml = 'Like what you see? Visit the ' +\n",
              "            '<a target=\"_blank\" href=https://colab.research.google.com/notebooks/data_table.ipynb>data table notebook</a>'\n",
              "            + ' to learn more about interactive tables.';\n",
              "          element.innerHTML = '';\n",
              "          dataTable['output_type'] = 'display_data';\n",
              "          await google.colab.output.renderOutput(dataTable, element);\n",
              "          const docLink = document.createElement('div');\n",
              "          docLink.innerHTML = docLinkHtml;\n",
              "          element.appendChild(docLink);\n",
              "        }\n",
              "      </script>\n",
              "    </div>\n",
              "  </div>\n",
              "  "
            ]
          },
          "metadata": {},
          "execution_count": 35
        }
      ],
      "source": [
        "#заново создаем отчет, чтобы иметь вывод в словарь, для простого доступа к содержимому\n",
        "cat_report = classification_report(target_test1, target_pred1, output_dict=True)\n",
        "result_df.loc[0, 'F1_test'] = round(cat_report['1']['f1-score'], 2)\n",
        "result_df"
      ]
    },
    {
      "cell_type": "markdown",
      "metadata": {
        "id": "snoAa1tjKRry"
      },
      "source": [
        "### Вариант 2"
      ]
    },
    {
      "cell_type": "markdown",
      "metadata": {
        "id": "pGq-F_J2KRr7"
      },
      "source": [
        "Проверим, как **LogisticRegression** справится на тестовой выборке"
      ]
    },
    {
      "cell_type": "code",
      "execution_count": 36,
      "metadata": {
        "colab": {
          "base_uri": "https://localhost:8080/"
        },
        "id": "uLcOmtCcKRr8",
        "outputId": "12119faa-b4e7-4180-f79c-deea4b2a097b",
        "trusted": false
      },
      "outputs": [
        {
          "output_type": "stream",
          "name": "stdout",
          "text": [
            "Detailed classification report:\n",
            "              precision    recall  f1-score   support\n",
            "\n",
            "           0       0.88      0.93      0.90        98\n",
            "           1       0.93      0.87      0.90       102\n",
            "\n",
            "    accuracy                           0.90       200\n",
            "   macro avg       0.90      0.90      0.90       200\n",
            "weighted avg       0.90      0.90      0.90       200\n",
            "\n"
          ]
        }
      ],
      "source": [
        "print(\"Detailed classification report:\")\n",
        "target_pred2 = best_logreg.predict(features_test2)\n",
        "print(classification_report(target_test2, target_pred2))"
      ]
    },
    {
      "cell_type": "code",
      "execution_count": 37,
      "metadata": {
        "colab": {
          "base_uri": "https://localhost:8080/",
          "height": 112
        },
        "id": "lW_AOYohKRr8",
        "outputId": "254ff0f4-d791-46c8-bf6f-ea8c5d4b0b79",
        "trusted": false
      },
      "outputs": [
        {
          "output_type": "execute_result",
          "data": {
            "text/plain": [
              "             name_ml  F1_valid F1_test\n",
              "0  TF-IDF + Catboost      0.84    0.83\n",
              "1      BERT + LogReg      0.89     0.9"
            ],
            "text/html": [
              "\n",
              "  <div id=\"df-bc97c46b-2393-45ed-a7e2-fe4201c92043\">\n",
              "    <div class=\"colab-df-container\">\n",
              "      <div>\n",
              "<style scoped>\n",
              "    .dataframe tbody tr th:only-of-type {\n",
              "        vertical-align: middle;\n",
              "    }\n",
              "\n",
              "    .dataframe tbody tr th {\n",
              "        vertical-align: top;\n",
              "    }\n",
              "\n",
              "    .dataframe thead th {\n",
              "        text-align: right;\n",
              "    }\n",
              "</style>\n",
              "<table border=\"1\" class=\"dataframe\">\n",
              "  <thead>\n",
              "    <tr style=\"text-align: right;\">\n",
              "      <th></th>\n",
              "      <th>name_ml</th>\n",
              "      <th>F1_valid</th>\n",
              "      <th>F1_test</th>\n",
              "    </tr>\n",
              "  </thead>\n",
              "  <tbody>\n",
              "    <tr>\n",
              "      <th>0</th>\n",
              "      <td>TF-IDF + Catboost</td>\n",
              "      <td>0.84</td>\n",
              "      <td>0.83</td>\n",
              "    </tr>\n",
              "    <tr>\n",
              "      <th>1</th>\n",
              "      <td>BERT + LogReg</td>\n",
              "      <td>0.89</td>\n",
              "      <td>0.9</td>\n",
              "    </tr>\n",
              "  </tbody>\n",
              "</table>\n",
              "</div>\n",
              "      <button class=\"colab-df-convert\" onclick=\"convertToInteractive('df-bc97c46b-2393-45ed-a7e2-fe4201c92043')\"\n",
              "              title=\"Convert this dataframe to an interactive table.\"\n",
              "              style=\"display:none;\">\n",
              "        \n",
              "  <svg xmlns=\"http://www.w3.org/2000/svg\" height=\"24px\"viewBox=\"0 0 24 24\"\n",
              "       width=\"24px\">\n",
              "    <path d=\"M0 0h24v24H0V0z\" fill=\"none\"/>\n",
              "    <path d=\"M18.56 5.44l.94 2.06.94-2.06 2.06-.94-2.06-.94-.94-2.06-.94 2.06-2.06.94zm-11 1L8.5 8.5l.94-2.06 2.06-.94-2.06-.94L8.5 2.5l-.94 2.06-2.06.94zm10 10l.94 2.06.94-2.06 2.06-.94-2.06-.94-.94-2.06-.94 2.06-2.06.94z\"/><path d=\"M17.41 7.96l-1.37-1.37c-.4-.4-.92-.59-1.43-.59-.52 0-1.04.2-1.43.59L10.3 9.45l-7.72 7.72c-.78.78-.78 2.05 0 2.83L4 21.41c.39.39.9.59 1.41.59.51 0 1.02-.2 1.41-.59l7.78-7.78 2.81-2.81c.8-.78.8-2.07 0-2.86zM5.41 20L4 18.59l7.72-7.72 1.47 1.35L5.41 20z\"/>\n",
              "  </svg>\n",
              "      </button>\n",
              "      \n",
              "  <style>\n",
              "    .colab-df-container {\n",
              "      display:flex;\n",
              "      flex-wrap:wrap;\n",
              "      gap: 12px;\n",
              "    }\n",
              "\n",
              "    .colab-df-convert {\n",
              "      background-color: #E8F0FE;\n",
              "      border: none;\n",
              "      border-radius: 50%;\n",
              "      cursor: pointer;\n",
              "      display: none;\n",
              "      fill: #1967D2;\n",
              "      height: 32px;\n",
              "      padding: 0 0 0 0;\n",
              "      width: 32px;\n",
              "    }\n",
              "\n",
              "    .colab-df-convert:hover {\n",
              "      background-color: #E2EBFA;\n",
              "      box-shadow: 0px 1px 2px rgba(60, 64, 67, 0.3), 0px 1px 3px 1px rgba(60, 64, 67, 0.15);\n",
              "      fill: #174EA6;\n",
              "    }\n",
              "\n",
              "    [theme=dark] .colab-df-convert {\n",
              "      background-color: #3B4455;\n",
              "      fill: #D2E3FC;\n",
              "    }\n",
              "\n",
              "    [theme=dark] .colab-df-convert:hover {\n",
              "      background-color: #434B5C;\n",
              "      box-shadow: 0px 1px 3px 1px rgba(0, 0, 0, 0.15);\n",
              "      filter: drop-shadow(0px 1px 2px rgba(0, 0, 0, 0.3));\n",
              "      fill: #FFFFFF;\n",
              "    }\n",
              "  </style>\n",
              "\n",
              "      <script>\n",
              "        const buttonEl =\n",
              "          document.querySelector('#df-bc97c46b-2393-45ed-a7e2-fe4201c92043 button.colab-df-convert');\n",
              "        buttonEl.style.display =\n",
              "          google.colab.kernel.accessAllowed ? 'block' : 'none';\n",
              "\n",
              "        async function convertToInteractive(key) {\n",
              "          const element = document.querySelector('#df-bc97c46b-2393-45ed-a7e2-fe4201c92043');\n",
              "          const dataTable =\n",
              "            await google.colab.kernel.invokeFunction('convertToInteractive',\n",
              "                                                     [key], {});\n",
              "          if (!dataTable) return;\n",
              "\n",
              "          const docLinkHtml = 'Like what you see? Visit the ' +\n",
              "            '<a target=\"_blank\" href=https://colab.research.google.com/notebooks/data_table.ipynb>data table notebook</a>'\n",
              "            + ' to learn more about interactive tables.';\n",
              "          element.innerHTML = '';\n",
              "          dataTable['output_type'] = 'display_data';\n",
              "          await google.colab.output.renderOutput(dataTable, element);\n",
              "          const docLink = document.createElement('div');\n",
              "          docLink.innerHTML = docLinkHtml;\n",
              "          element.appendChild(docLink);\n",
              "        }\n",
              "      </script>\n",
              "    </div>\n",
              "  </div>\n",
              "  "
            ]
          },
          "metadata": {},
          "execution_count": 37
        }
      ],
      "source": [
        "#заново создаем отчет, чтобы иметь вывод в словарь, для простого доступа к содержимому\n",
        "logreg_report = classification_report(target_test2, target_pred2, output_dict=True)\n",
        "result_df.loc[1, 'F1_test'] = round(logreg_report['1']['f1-score'], 2)\n",
        "result_df"
      ]
    },
    {
      "cell_type": "markdown",
      "metadata": {
        "id": "ibt6xzexxwpR"
      },
      "source": [
        "# Выводы"
      ]
    },
    {
      "cell_type": "code",
      "execution_count": 38,
      "metadata": {
        "colab": {
          "base_uri": "https://localhost:8080/",
          "height": 112
        },
        "id": "cn1HYlfOUPnd",
        "outputId": "ddbc9766-14a1-49dc-b240-21533d92eb0f",
        "trusted": false
      },
      "outputs": [
        {
          "output_type": "execute_result",
          "data": {
            "text/plain": [
              "             name_ml  F1_valid F1_test\n",
              "0  TF-IDF + Catboost      0.84    0.83\n",
              "1      BERT + LogReg      0.89     0.9"
            ],
            "text/html": [
              "\n",
              "  <div id=\"df-d074edf4-3d2a-4b76-b2c6-66aefe9d6b94\">\n",
              "    <div class=\"colab-df-container\">\n",
              "      <div>\n",
              "<style scoped>\n",
              "    .dataframe tbody tr th:only-of-type {\n",
              "        vertical-align: middle;\n",
              "    }\n",
              "\n",
              "    .dataframe tbody tr th {\n",
              "        vertical-align: top;\n",
              "    }\n",
              "\n",
              "    .dataframe thead th {\n",
              "        text-align: right;\n",
              "    }\n",
              "</style>\n",
              "<table border=\"1\" class=\"dataframe\">\n",
              "  <thead>\n",
              "    <tr style=\"text-align: right;\">\n",
              "      <th></th>\n",
              "      <th>name_ml</th>\n",
              "      <th>F1_valid</th>\n",
              "      <th>F1_test</th>\n",
              "    </tr>\n",
              "  </thead>\n",
              "  <tbody>\n",
              "    <tr>\n",
              "      <th>0</th>\n",
              "      <td>TF-IDF + Catboost</td>\n",
              "      <td>0.84</td>\n",
              "      <td>0.83</td>\n",
              "    </tr>\n",
              "    <tr>\n",
              "      <th>1</th>\n",
              "      <td>BERT + LogReg</td>\n",
              "      <td>0.89</td>\n",
              "      <td>0.9</td>\n",
              "    </tr>\n",
              "  </tbody>\n",
              "</table>\n",
              "</div>\n",
              "      <button class=\"colab-df-convert\" onclick=\"convertToInteractive('df-d074edf4-3d2a-4b76-b2c6-66aefe9d6b94')\"\n",
              "              title=\"Convert this dataframe to an interactive table.\"\n",
              "              style=\"display:none;\">\n",
              "        \n",
              "  <svg xmlns=\"http://www.w3.org/2000/svg\" height=\"24px\"viewBox=\"0 0 24 24\"\n",
              "       width=\"24px\">\n",
              "    <path d=\"M0 0h24v24H0V0z\" fill=\"none\"/>\n",
              "    <path d=\"M18.56 5.44l.94 2.06.94-2.06 2.06-.94-2.06-.94-.94-2.06-.94 2.06-2.06.94zm-11 1L8.5 8.5l.94-2.06 2.06-.94-2.06-.94L8.5 2.5l-.94 2.06-2.06.94zm10 10l.94 2.06.94-2.06 2.06-.94-2.06-.94-.94-2.06-.94 2.06-2.06.94z\"/><path d=\"M17.41 7.96l-1.37-1.37c-.4-.4-.92-.59-1.43-.59-.52 0-1.04.2-1.43.59L10.3 9.45l-7.72 7.72c-.78.78-.78 2.05 0 2.83L4 21.41c.39.39.9.59 1.41.59.51 0 1.02-.2 1.41-.59l7.78-7.78 2.81-2.81c.8-.78.8-2.07 0-2.86zM5.41 20L4 18.59l7.72-7.72 1.47 1.35L5.41 20z\"/>\n",
              "  </svg>\n",
              "      </button>\n",
              "      \n",
              "  <style>\n",
              "    .colab-df-container {\n",
              "      display:flex;\n",
              "      flex-wrap:wrap;\n",
              "      gap: 12px;\n",
              "    }\n",
              "\n",
              "    .colab-df-convert {\n",
              "      background-color: #E8F0FE;\n",
              "      border: none;\n",
              "      border-radius: 50%;\n",
              "      cursor: pointer;\n",
              "      display: none;\n",
              "      fill: #1967D2;\n",
              "      height: 32px;\n",
              "      padding: 0 0 0 0;\n",
              "      width: 32px;\n",
              "    }\n",
              "\n",
              "    .colab-df-convert:hover {\n",
              "      background-color: #E2EBFA;\n",
              "      box-shadow: 0px 1px 2px rgba(60, 64, 67, 0.3), 0px 1px 3px 1px rgba(60, 64, 67, 0.15);\n",
              "      fill: #174EA6;\n",
              "    }\n",
              "\n",
              "    [theme=dark] .colab-df-convert {\n",
              "      background-color: #3B4455;\n",
              "      fill: #D2E3FC;\n",
              "    }\n",
              "\n",
              "    [theme=dark] .colab-df-convert:hover {\n",
              "      background-color: #434B5C;\n",
              "      box-shadow: 0px 1px 3px 1px rgba(0, 0, 0, 0.15);\n",
              "      filter: drop-shadow(0px 1px 2px rgba(0, 0, 0, 0.3));\n",
              "      fill: #FFFFFF;\n",
              "    }\n",
              "  </style>\n",
              "\n",
              "      <script>\n",
              "        const buttonEl =\n",
              "          document.querySelector('#df-d074edf4-3d2a-4b76-b2c6-66aefe9d6b94 button.colab-df-convert');\n",
              "        buttonEl.style.display =\n",
              "          google.colab.kernel.accessAllowed ? 'block' : 'none';\n",
              "\n",
              "        async function convertToInteractive(key) {\n",
              "          const element = document.querySelector('#df-d074edf4-3d2a-4b76-b2c6-66aefe9d6b94');\n",
              "          const dataTable =\n",
              "            await google.colab.kernel.invokeFunction('convertToInteractive',\n",
              "                                                     [key], {});\n",
              "          if (!dataTable) return;\n",
              "\n",
              "          const docLinkHtml = 'Like what you see? Visit the ' +\n",
              "            '<a target=\"_blank\" href=https://colab.research.google.com/notebooks/data_table.ipynb>data table notebook</a>'\n",
              "            + ' to learn more about interactive tables.';\n",
              "          element.innerHTML = '';\n",
              "          dataTable['output_type'] = 'display_data';\n",
              "          await google.colab.output.renderOutput(dataTable, element);\n",
              "          const docLink = document.createElement('div');\n",
              "          docLink.innerHTML = docLinkHtml;\n",
              "          element.appendChild(docLink);\n",
              "        }\n",
              "      </script>\n",
              "    </div>\n",
              "  </div>\n",
              "  "
            ]
          },
          "metadata": {},
          "execution_count": 38
        }
      ],
      "source": [
        "result_df"
      ]
    },
    {
      "cell_type": "code",
      "execution_count": 39,
      "metadata": {
        "colab": {
          "base_uri": "https://localhost:8080/",
          "height": 295
        },
        "id": "gFF5DqFvUPne",
        "outputId": "a48084c9-1998-459f-c705-6cd84328ea89",
        "trusted": false
      },
      "outputs": [
        {
          "output_type": "display_data",
          "data": {
            "text/plain": [
              "<Figure size 432x288 with 1 Axes>"
            ],
            "image/png": "[encoded data removed]"
          },
          "metadata": {
            "needs_background": "light"
          }
        }
      ],
      "source": [
        "result_df.plot(kind='bar')\n",
        "plt.title('Значение F-1 меры')\n",
        "plt.xlabel('Алгоритмы')\n",
        "plt.ylabel('Значение')\n",
        "plt.xticks(range(len(result_df['name_ml'])), labels=result_df['name_ml'], rotation=0)\n",
        "plt.ylim(0,1)\n",
        "plt.grid()\n",
        "plt.show()"
      ]
    },
    {
      "cell_type": "markdown",
      "metadata": {
        "id": "JpSt9ftYUPnd"
      },
      "source": [
        "На основе предоставленных данных было рассмотрено два разных подхода для определения \"токсичности\" текстов пользователей в интернет магазине \"Викишоп\". Лучшие значения метрики показал Вариант 2 на основе **BERT & LogisticRegression** c результатом **F-1 = 0.9**."
      ]
    },
    {
      "cell_type": "code",
      "source": [
        ""
      ],
      "metadata": {
        "id": "7Q0XTqxgG2VN"
      },
      "execution_count": null,
      "outputs": []
    }
  ],
  "metadata": {
    "ExecuteTimeLog": [
      {
        "duration": 14732,
        "start_time": "2022-04-09T10:54:08.969Z"
      },
      {
        "duration": 66694,
        "start_time": "2022-04-09T10:54:23.703Z"
      },
      {
        "duration": 339,
        "start_time": "2022-04-09T10:55:30.400Z"
      },
      {
        "duration": 0,
        "start_time": "2022-04-09T10:55:30.896Z"
      },
      {
        "duration": 0,
        "start_time": "2022-04-09T10:55:30.897Z"
      },
      {
        "duration": 0,
        "start_time": "2022-04-09T10:55:30.899Z"
      },
      {
        "duration": 0,
        "start_time": "2022-04-09T10:55:30.900Z"
      },
      {
        "duration": 0,
        "start_time": "2022-04-09T10:55:30.901Z"
      },
      {
        "duration": 0,
        "start_time": "2022-04-09T10:55:30.908Z"
      },
      {
        "duration": 0,
        "start_time": "2022-04-09T10:55:30.909Z"
      },
      {
        "duration": 0,
        "start_time": "2022-04-09T10:55:30.910Z"
      },
      {
        "duration": 0,
        "start_time": "2022-04-09T10:55:30.911Z"
      },
      {
        "duration": 0,
        "start_time": "2022-04-09T10:55:30.912Z"
      },
      {
        "duration": 0,
        "start_time": "2022-04-09T10:55:30.914Z"
      },
      {
        "duration": 0,
        "start_time": "2022-04-09T10:55:30.915Z"
      },
      {
        "duration": 0,
        "start_time": "2022-04-09T10:55:30.916Z"
      },
      {
        "duration": 0,
        "start_time": "2022-04-09T10:55:30.918Z"
      },
      {
        "duration": 0,
        "start_time": "2022-04-09T10:55:30.919Z"
      },
      {
        "duration": 0,
        "start_time": "2022-04-09T10:55:30.920Z"
      },
      {
        "duration": 0,
        "start_time": "2022-04-09T10:55:30.922Z"
      },
      {
        "duration": 0,
        "start_time": "2022-04-09T10:55:30.923Z"
      },
      {
        "duration": 0,
        "start_time": "2022-04-09T10:55:30.925Z"
      },
      {
        "duration": 0,
        "start_time": "2022-04-09T10:55:30.926Z"
      },
      {
        "duration": 0,
        "start_time": "2022-04-09T10:55:30.928Z"
      },
      {
        "duration": 0,
        "start_time": "2022-04-09T10:55:30.929Z"
      },
      {
        "duration": 0,
        "start_time": "2022-04-09T10:55:30.931Z"
      },
      {
        "duration": 0,
        "start_time": "2022-04-09T10:55:30.932Z"
      },
      {
        "duration": 0,
        "start_time": "2022-04-09T10:55:30.933Z"
      },
      {
        "duration": 0,
        "start_time": "2022-04-09T10:55:30.934Z"
      },
      {
        "duration": 0,
        "start_time": "2022-04-09T10:55:30.936Z"
      },
      {
        "duration": 0,
        "start_time": "2022-04-09T10:55:30.938Z"
      },
      {
        "duration": 0,
        "start_time": "2022-04-09T10:55:30.939Z"
      },
      {
        "duration": 0,
        "start_time": "2022-04-09T10:55:30.940Z"
      },
      {
        "duration": 0,
        "start_time": "2022-04-09T10:55:30.942Z"
      },
      {
        "duration": 0,
        "start_time": "2022-04-09T10:55:30.943Z"
      },
      {
        "duration": 0,
        "start_time": "2022-04-09T10:55:30.944Z"
      },
      {
        "duration": 0,
        "start_time": "2022-04-09T10:55:30.945Z"
      },
      {
        "duration": 0,
        "start_time": "2022-04-09T10:55:31.008Z"
      },
      {
        "duration": 0,
        "start_time": "2022-04-09T10:55:31.010Z"
      },
      {
        "duration": 0,
        "start_time": "2022-04-09T10:55:31.010Z"
      },
      {
        "duration": 0,
        "start_time": "2022-04-09T10:55:31.012Z"
      },
      {
        "duration": 0,
        "start_time": "2022-04-09T10:55:31.014Z"
      },
      {
        "duration": 0,
        "start_time": "2022-04-09T10:55:31.016Z"
      },
      {
        "duration": 0,
        "start_time": "2022-04-09T10:55:31.017Z"
      },
      {
        "duration": 0,
        "start_time": "2022-04-09T10:55:31.019Z"
      },
      {
        "duration": 0,
        "start_time": "2022-04-09T10:55:31.020Z"
      },
      {
        "duration": 0,
        "start_time": "2022-04-09T10:55:31.021Z"
      },
      {
        "duration": 0,
        "start_time": "2022-04-09T10:55:31.022Z"
      },
      {
        "duration": 0,
        "start_time": "2022-04-09T10:55:31.024Z"
      },
      {
        "duration": 0,
        "start_time": "2022-04-09T10:55:31.026Z"
      },
      {
        "duration": 0,
        "start_time": "2022-04-09T10:55:31.027Z"
      },
      {
        "duration": 25,
        "start_time": "2022-04-09T10:56:26.117Z"
      },
      {
        "duration": 0,
        "start_time": "2022-04-09T10:56:26.144Z"
      },
      {
        "duration": 18,
        "start_time": "2022-04-09T10:56:26.169Z"
      },
      {
        "duration": 0,
        "start_time": "2022-04-09T10:56:26.190Z"
      },
      {
        "duration": 0,
        "start_time": "2022-04-09T10:56:26.191Z"
      },
      {
        "duration": 0,
        "start_time": "2022-04-09T10:56:26.192Z"
      },
      {
        "duration": 0,
        "start_time": "2022-04-09T10:56:26.194Z"
      },
      {
        "duration": 33,
        "start_time": "2022-04-09T10:56:26.196Z"
      },
      {
        "duration": 0,
        "start_time": "2022-04-09T10:56:26.231Z"
      },
      {
        "duration": 0,
        "start_time": "2022-04-09T10:56:26.232Z"
      },
      {
        "duration": 0,
        "start_time": "2022-04-09T10:56:26.234Z"
      },
      {
        "duration": 0,
        "start_time": "2022-04-09T10:56:26.235Z"
      },
      {
        "duration": 0,
        "start_time": "2022-04-09T10:56:26.236Z"
      },
      {
        "duration": 0,
        "start_time": "2022-04-09T10:56:26.237Z"
      },
      {
        "duration": 0,
        "start_time": "2022-04-09T10:56:26.238Z"
      },
      {
        "duration": 0,
        "start_time": "2022-04-09T10:56:26.239Z"
      },
      {
        "duration": 0,
        "start_time": "2022-04-09T10:56:26.241Z"
      },
      {
        "duration": 0,
        "start_time": "2022-04-09T10:56:26.242Z"
      },
      {
        "duration": 0,
        "start_time": "2022-04-09T10:56:26.243Z"
      },
      {
        "duration": 72,
        "start_time": "2022-04-09T10:56:26.246Z"
      },
      {
        "duration": 0,
        "start_time": "2022-04-09T10:56:26.321Z"
      },
      {
        "duration": 0,
        "start_time": "2022-04-09T10:56:26.323Z"
      },
      {
        "duration": 0,
        "start_time": "2022-04-09T10:56:26.325Z"
      },
      {
        "duration": 0,
        "start_time": "2022-04-09T10:56:26.327Z"
      },
      {
        "duration": 0,
        "start_time": "2022-04-09T10:56:26.328Z"
      },
      {
        "duration": 0,
        "start_time": "2022-04-09T10:56:26.330Z"
      },
      {
        "duration": 0,
        "start_time": "2022-04-09T10:56:26.331Z"
      },
      {
        "duration": 0,
        "start_time": "2022-04-09T10:56:26.333Z"
      },
      {
        "duration": 1,
        "start_time": "2022-04-09T10:56:26.334Z"
      },
      {
        "duration": 0,
        "start_time": "2022-04-09T10:56:26.336Z"
      },
      {
        "duration": 0,
        "start_time": "2022-04-09T10:56:26.337Z"
      },
      {
        "duration": 0,
        "start_time": "2022-04-09T10:56:26.339Z"
      },
      {
        "duration": 0,
        "start_time": "2022-04-09T10:56:26.340Z"
      },
      {
        "duration": 0,
        "start_time": "2022-04-09T10:56:26.341Z"
      },
      {
        "duration": 0,
        "start_time": "2022-04-09T10:56:26.343Z"
      },
      {
        "duration": 0,
        "start_time": "2022-04-09T10:56:26.344Z"
      },
      {
        "duration": 0,
        "start_time": "2022-04-09T10:56:26.346Z"
      },
      {
        "duration": 0,
        "start_time": "2022-04-09T10:56:26.347Z"
      },
      {
        "duration": 0,
        "start_time": "2022-04-09T10:56:26.348Z"
      },
      {
        "duration": 0,
        "start_time": "2022-04-09T10:56:26.349Z"
      },
      {
        "duration": 75,
        "start_time": "2022-04-09T10:56:26.352Z"
      },
      {
        "duration": 0,
        "start_time": "2022-04-09T10:56:26.429Z"
      },
      {
        "duration": 0,
        "start_time": "2022-04-09T10:56:26.430Z"
      },
      {
        "duration": 0,
        "start_time": "2022-04-09T10:56:26.431Z"
      },
      {
        "duration": 0,
        "start_time": "2022-04-09T10:56:26.432Z"
      },
      {
        "duration": 0,
        "start_time": "2022-04-09T10:56:26.434Z"
      },
      {
        "duration": 0,
        "start_time": "2022-04-09T10:56:26.435Z"
      },
      {
        "duration": 0,
        "start_time": "2022-04-09T10:56:26.436Z"
      },
      {
        "duration": 0,
        "start_time": "2022-04-09T10:56:26.437Z"
      },
      {
        "duration": 0,
        "start_time": "2022-04-09T10:56:26.438Z"
      },
      {
        "duration": 7033,
        "start_time": "2022-04-09T10:56:38.717Z"
      },
      {
        "duration": 12,
        "start_time": "2022-04-09T10:56:46.585Z"
      },
      {
        "duration": 14674,
        "start_time": "2022-04-09T10:57:06.414Z"
      },
      {
        "duration": 61692,
        "start_time": "2022-04-09T10:57:21.091Z"
      },
      {
        "duration": 333,
        "start_time": "2022-04-09T10:58:22.785Z"
      },
      {
        "duration": 23,
        "start_time": "2022-04-09T10:58:34.910Z"
      },
      {
        "duration": 0,
        "start_time": "2022-04-09T10:58:34.935Z"
      },
      {
        "duration": 0,
        "start_time": "2022-04-09T10:58:34.936Z"
      },
      {
        "duration": 0,
        "start_time": "2022-04-09T10:58:34.937Z"
      },
      {
        "duration": 0,
        "start_time": "2022-04-09T10:58:34.938Z"
      },
      {
        "duration": 0,
        "start_time": "2022-04-09T10:58:34.939Z"
      },
      {
        "duration": 0,
        "start_time": "2022-04-09T10:58:35.132Z"
      },
      {
        "duration": 19,
        "start_time": "2022-04-09T10:58:35.136Z"
      },
      {
        "duration": 0,
        "start_time": "2022-04-09T10:58:35.157Z"
      },
      {
        "duration": 0,
        "start_time": "2022-04-09T10:58:35.158Z"
      },
      {
        "duration": 0,
        "start_time": "2022-04-09T10:58:35.159Z"
      },
      {
        "duration": 0,
        "start_time": "2022-04-09T10:58:35.160Z"
      },
      {
        "duration": 0,
        "start_time": "2022-04-09T10:58:35.162Z"
      },
      {
        "duration": 0,
        "start_time": "2022-04-09T10:58:35.163Z"
      },
      {
        "duration": 0,
        "start_time": "2022-04-09T10:58:35.164Z"
      },
      {
        "duration": 0,
        "start_time": "2022-04-09T10:58:35.164Z"
      },
      {
        "duration": 0,
        "start_time": "2022-04-09T10:58:35.165Z"
      },
      {
        "duration": 0,
        "start_time": "2022-04-09T10:58:35.167Z"
      },
      {
        "duration": 0,
        "start_time": "2022-04-09T10:58:35.168Z"
      },
      {
        "duration": 0,
        "start_time": "2022-04-09T10:58:35.169Z"
      },
      {
        "duration": 1,
        "start_time": "2022-04-09T10:58:35.169Z"
      },
      {
        "duration": 0,
        "start_time": "2022-04-09T10:58:35.171Z"
      },
      {
        "duration": 0,
        "start_time": "2022-04-09T10:58:35.209Z"
      },
      {
        "duration": 0,
        "start_time": "2022-04-09T10:58:35.210Z"
      },
      {
        "duration": 0,
        "start_time": "2022-04-09T10:58:35.211Z"
      },
      {
        "duration": 0,
        "start_time": "2022-04-09T10:58:35.212Z"
      },
      {
        "duration": 0,
        "start_time": "2022-04-09T10:58:35.214Z"
      },
      {
        "duration": 0,
        "start_time": "2022-04-09T10:58:35.215Z"
      },
      {
        "duration": 0,
        "start_time": "2022-04-09T10:58:35.216Z"
      },
      {
        "duration": 0,
        "start_time": "2022-04-09T10:58:35.217Z"
      },
      {
        "duration": 0,
        "start_time": "2022-04-09T10:58:35.218Z"
      },
      {
        "duration": 0,
        "start_time": "2022-04-09T10:58:35.220Z"
      },
      {
        "duration": 0,
        "start_time": "2022-04-09T10:58:35.221Z"
      },
      {
        "duration": 0,
        "start_time": "2022-04-09T10:58:35.221Z"
      },
      {
        "duration": 0,
        "start_time": "2022-04-09T10:58:35.222Z"
      },
      {
        "duration": 0,
        "start_time": "2022-04-09T10:58:35.223Z"
      },
      {
        "duration": 0,
        "start_time": "2022-04-09T10:58:35.224Z"
      },
      {
        "duration": 0,
        "start_time": "2022-04-09T10:58:35.225Z"
      },
      {
        "duration": 0,
        "start_time": "2022-04-09T10:58:35.226Z"
      },
      {
        "duration": 0,
        "start_time": "2022-04-09T10:58:35.227Z"
      },
      {
        "duration": 0,
        "start_time": "2022-04-09T10:58:35.227Z"
      },
      {
        "duration": 0,
        "start_time": "2022-04-09T10:58:35.228Z"
      },
      {
        "duration": 0,
        "start_time": "2022-04-09T10:58:35.229Z"
      },
      {
        "duration": 0,
        "start_time": "2022-04-09T10:58:35.230Z"
      },
      {
        "duration": 0,
        "start_time": "2022-04-09T10:58:35.231Z"
      },
      {
        "duration": 0,
        "start_time": "2022-04-09T10:58:35.232Z"
      },
      {
        "duration": 0,
        "start_time": "2022-04-09T10:58:35.233Z"
      },
      {
        "duration": 1,
        "start_time": "2022-04-09T10:58:35.233Z"
      },
      {
        "duration": 0,
        "start_time": "2022-04-09T10:58:35.235Z"
      },
      {
        "duration": 0,
        "start_time": "2022-04-09T10:58:35.236Z"
      },
      {
        "duration": 22,
        "start_time": "2022-04-09T10:58:47.190Z"
      },
      {
        "duration": 0,
        "start_time": "2022-04-09T10:58:47.214Z"
      },
      {
        "duration": 0,
        "start_time": "2022-04-09T10:58:47.214Z"
      },
      {
        "duration": 0,
        "start_time": "2022-04-09T10:58:47.216Z"
      },
      {
        "duration": 0,
        "start_time": "2022-04-09T10:58:47.217Z"
      },
      {
        "duration": 0,
        "start_time": "2022-04-09T10:58:47.218Z"
      },
      {
        "duration": 0,
        "start_time": "2022-04-09T10:58:47.219Z"
      },
      {
        "duration": 0,
        "start_time": "2022-04-09T10:58:47.220Z"
      },
      {
        "duration": 18,
        "start_time": "2022-04-09T10:58:47.221Z"
      },
      {
        "duration": 0,
        "start_time": "2022-04-09T10:58:47.240Z"
      },
      {
        "duration": 0,
        "start_time": "2022-04-09T10:58:47.242Z"
      },
      {
        "duration": 0,
        "start_time": "2022-04-09T10:58:47.243Z"
      },
      {
        "duration": 0,
        "start_time": "2022-04-09T10:58:47.244Z"
      },
      {
        "duration": 0,
        "start_time": "2022-04-09T10:58:47.245Z"
      },
      {
        "duration": 104,
        "start_time": "2022-04-09T10:58:47.249Z"
      },
      {
        "duration": 17,
        "start_time": "2022-04-09T10:58:47.356Z"
      },
      {
        "duration": 0,
        "start_time": "2022-04-09T10:58:47.376Z"
      },
      {
        "duration": 0,
        "start_time": "2022-04-09T10:58:47.378Z"
      },
      {
        "duration": 0,
        "start_time": "2022-04-09T10:58:47.379Z"
      },
      {
        "duration": 0,
        "start_time": "2022-04-09T10:58:47.380Z"
      },
      {
        "duration": 0,
        "start_time": "2022-04-09T10:58:47.382Z"
      },
      {
        "duration": 0,
        "start_time": "2022-04-09T10:58:47.383Z"
      },
      {
        "duration": 0,
        "start_time": "2022-04-09T10:58:47.384Z"
      },
      {
        "duration": 0,
        "start_time": "2022-04-09T10:58:47.386Z"
      },
      {
        "duration": 0,
        "start_time": "2022-04-09T10:58:47.387Z"
      },
      {
        "duration": 0,
        "start_time": "2022-04-09T10:58:47.389Z"
      },
      {
        "duration": 0,
        "start_time": "2022-04-09T10:58:47.390Z"
      },
      {
        "duration": 0,
        "start_time": "2022-04-09T10:58:47.390Z"
      },
      {
        "duration": 0,
        "start_time": "2022-04-09T10:58:47.391Z"
      },
      {
        "duration": 0,
        "start_time": "2022-04-09T10:58:47.392Z"
      },
      {
        "duration": 1,
        "start_time": "2022-04-09T10:58:47.408Z"
      },
      {
        "duration": 0,
        "start_time": "2022-04-09T10:58:47.410Z"
      },
      {
        "duration": 0,
        "start_time": "2022-04-09T10:58:47.411Z"
      },
      {
        "duration": 0,
        "start_time": "2022-04-09T10:58:47.412Z"
      },
      {
        "duration": 0,
        "start_time": "2022-04-09T10:58:47.412Z"
      },
      {
        "duration": 0,
        "start_time": "2022-04-09T10:58:47.413Z"
      },
      {
        "duration": 0,
        "start_time": "2022-04-09T10:58:47.414Z"
      },
      {
        "duration": 0,
        "start_time": "2022-04-09T10:58:47.414Z"
      },
      {
        "duration": 0,
        "start_time": "2022-04-09T10:58:47.415Z"
      },
      {
        "duration": 0,
        "start_time": "2022-04-09T10:58:47.416Z"
      },
      {
        "duration": 0,
        "start_time": "2022-04-09T10:58:47.417Z"
      },
      {
        "duration": 0,
        "start_time": "2022-04-09T10:58:47.418Z"
      },
      {
        "duration": 0,
        "start_time": "2022-04-09T10:58:47.419Z"
      },
      {
        "duration": 0,
        "start_time": "2022-04-09T10:58:47.420Z"
      },
      {
        "duration": 1,
        "start_time": "2022-04-09T10:58:47.420Z"
      },
      {
        "duration": 0,
        "start_time": "2022-04-09T10:58:47.422Z"
      },
      {
        "duration": 0,
        "start_time": "2022-04-09T10:58:47.423Z"
      },
      {
        "duration": 0,
        "start_time": "2022-04-09T10:58:47.424Z"
      },
      {
        "duration": 0,
        "start_time": "2022-04-09T10:58:47.425Z"
      },
      {
        "duration": 0,
        "start_time": "2022-04-09T10:58:47.425Z"
      },
      {
        "duration": 1803,
        "start_time": "2022-04-09T10:59:10.994Z"
      },
      {
        "duration": 3192,
        "start_time": "2022-04-09T10:59:17.185Z"
      },
      {
        "duration": 11,
        "start_time": "2022-04-09T10:59:20.379Z"
      },
      {
        "duration": 21,
        "start_time": "2022-04-09T10:59:20.392Z"
      },
      {
        "duration": 201,
        "start_time": "2022-04-09T10:59:20.415Z"
      },
      {
        "duration": 1326,
        "start_time": "2022-04-09T10:59:20.617Z"
      },
      {
        "duration": 6,
        "start_time": "2022-04-09T10:59:21.945Z"
      },
      {
        "duration": 6,
        "start_time": "2022-04-09T10:59:21.953Z"
      },
      {
        "duration": 4,
        "start_time": "2022-04-09T10:59:21.961Z"
      },
      {
        "duration": 4,
        "start_time": "2022-04-09T10:59:21.967Z"
      },
      {
        "duration": 142,
        "start_time": "2022-04-09T10:59:21.973Z"
      },
      {
        "duration": 16,
        "start_time": "2022-04-09T10:59:22.116Z"
      },
      {
        "duration": 18,
        "start_time": "2022-04-09T10:59:22.134Z"
      },
      {
        "duration": 5,
        "start_time": "2022-04-09T10:59:22.153Z"
      },
      {
        "duration": 101470,
        "start_time": "2022-04-09T10:59:22.159Z"
      },
      {
        "duration": 15,
        "start_time": "2022-04-09T11:01:03.631Z"
      },
      {
        "duration": 7546,
        "start_time": "2022-04-09T11:01:03.647Z"
      },
      {
        "duration": 1790,
        "start_time": "2022-04-09T11:01:11.195Z"
      },
      {
        "duration": 97,
        "start_time": "2022-04-09T11:01:12.987Z"
      },
      {
        "duration": 10,
        "start_time": "2022-04-09T11:01:13.086Z"
      },
      {
        "duration": 23925,
        "start_time": "2022-04-09T11:01:13.097Z"
      },
      {
        "duration": 14678,
        "start_time": "2022-04-09T11:04:55.631Z"
      },
      {
        "duration": 60070,
        "start_time": "2022-04-09T11:05:10.312Z"
      },
      {
        "duration": 2021,
        "start_time": "2022-04-09T11:07:13.633Z"
      },
      {
        "duration": 14,
        "start_time": "2022-04-09T11:07:30.609Z"
      },
      {
        "duration": 4,
        "start_time": "2022-04-09T11:09:26.698Z"
      },
      {
        "duration": 14697,
        "start_time": "2022-04-09T11:16:53.496Z"
      },
      {
        "duration": 70754,
        "start_time": "2022-04-09T11:17:08.195Z"
      },
      {
        "duration": 3,
        "start_time": "2022-04-09T11:18:18.950Z"
      },
      {
        "duration": 3618,
        "start_time": "2022-04-09T11:18:18.956Z"
      },
      {
        "duration": 12,
        "start_time": "2022-04-09T11:18:22.576Z"
      },
      {
        "duration": 4,
        "start_time": "2022-04-09T11:18:22.590Z"
      },
      {
        "duration": 14546,
        "start_time": "2022-04-09T13:10:29.879Z"
      },
      {
        "duration": 72844,
        "start_time": "2022-04-09T13:11:21.924Z"
      },
      {
        "duration": 345,
        "start_time": "2022-04-09T13:12:34.769Z"
      }
    ],
    "colab": {
      "collapsed_sections": [],
      "machine_shape": "hm",
      "name": "project_12.ipynb",
      "provenance": []
    },
    "kernelspec": {
      "display_name": "Python 3 (ipykernel)",
      "language": "python",
      "name": "python3"
    },
    "language_info": {
      "codemirror_mode": {
        "name": "ipython",
        "version": 3
      },
      "file_extension": ".py",
      "mimetype": "text/x-python",
      "name": "python",
      "nbconvert_exporter": "python",
      "pygments_lexer": "ipython3",
      "version": "3.9.5"
    },
    "toc": {
      "base_numbering": 1,
      "nav_menu": {},
      "number_sections": true,
      "sideBar": true,
      "skip_h1_title": true,
      "title_cell": "Table of Contents",
      "title_sidebar": "Contents",
      "toc_cell": false,
      "toc_position": {},
      "toc_section_display": true,
      "toc_window_display": true
    },
    "widgets": {
      "application/vnd.jupyter.widget-state+json": {
        "7b7aad2c7edc473e954d3ace844c1924": {
          "model_module": "@jupyter-widgets/controls",
          "model_name": "HBoxModel",
          "model_module_version": "1.5.0",
          "state": {
            "_dom_classes": [],
            "_model_module": "@jupyter-widgets/controls",
            "_model_module_version": "1.5.0",
            "_model_name": "HBoxModel",
            "_view_count": null,
            "_view_module": "@jupyter-widgets/controls",
            "_view_module_version": "1.5.0",
            "_view_name": "HBoxView",
            "box_style": "",
            "children": [
              "IPY_MODEL_99251d8d6d3944e5bc1ad9f945221781",
              "IPY_MODEL_af4c0f934a50485296f4ec13d46a3625",
              "IPY_MODEL_29819b5f259949b1a0a8c70f69889fe8"
            ],
            "layout": "IPY_MODEL_eda9db4a385d4c57ac0fd50e3da4b7a7"
          }
        },
        "99251d8d6d3944e5bc1ad9f945221781": {
          "model_module": "@jupyter-widgets/controls",
          "model_name": "HTMLModel",
          "model_module_version": "1.5.0",
          "state": {
            "_dom_classes": [],
            "_model_module": "@jupyter-widgets/controls",
            "_model_module_version": "1.5.0",
            "_model_name": "HTMLModel",
            "_view_count": null,
            "_view_module": "@jupyter-widgets/controls",
            "_view_module_version": "1.5.0",
            "_view_name": "HTMLView",
            "description": "",
            "description_tooltip": null,
            "layout": "IPY_MODEL_d9177ea134f8460ebd6cf1ad689318a3",
            "placeholder": "​",
            "style": "IPY_MODEL_3fbbc8b306db4ce59dd86a527c9ccc1b",
            "value": "Downloading: 100%"
          }
        },
        "af4c0f934a50485296f4ec13d46a3625": {
          "model_module": "@jupyter-widgets/controls",
          "model_name": "FloatProgressModel",
          "model_module_version": "1.5.0",
          "state": {
            "_dom_classes": [],
            "_model_module": "@jupyter-widgets/controls",
            "_model_module_version": "1.5.0",
            "_model_name": "FloatProgressModel",
            "_view_count": null,
            "_view_module": "@jupyter-widgets/controls",
            "_view_module_version": "1.5.0",
            "_view_name": "ProgressView",
            "bar_style": "success",
            "description": "",
            "description_tooltip": null,
            "layout": "IPY_MODEL_b5bc57e0774941d7805a42911cd9f013",
            "max": 231508,
            "min": 0,
            "orientation": "horizontal",
            "style": "IPY_MODEL_0de443816cd040d1b0de6258f4236ba7",
            "value": 231508
          }
        },
        "29819b5f259949b1a0a8c70f69889fe8": {
          "model_module": "@jupyter-widgets/controls",
          "model_name": "HTMLModel",
          "model_module_version": "1.5.0",
          "state": {
            "_dom_classes": [],
            "_model_module": "@jupyter-widgets/controls",
            "_model_module_version": "1.5.0",
            "_model_name": "HTMLModel",
            "_view_count": null,
            "_view_module": "@jupyter-widgets/controls",
            "_view_module_version": "1.5.0",
            "_view_name": "HTMLView",
            "description": "",
            "description_tooltip": null,
            "layout": "IPY_MODEL_2e2215c5a3f441a9b550cfd06cebfa78",
            "placeholder": "​",
            "style": "IPY_MODEL_18c5c3af0aff46d9a451645f9a375d4a",
            "value": " 226k/226k [00:00&lt;00:00, 2.01MB/s]"
          }
        },
        "eda9db4a385d4c57ac0fd50e3da4b7a7": {
          "model_module": "@jupyter-widgets/base",
          "model_name": "LayoutModel",
          "model_module_version": "1.2.0",
          "state": {
            "_model_module": "@jupyter-widgets/base",
            "_model_module_version": "1.2.0",
            "_model_name": "LayoutModel",
            "_view_count": null,
            "_view_module": "@jupyter-widgets/base",
            "_view_module_version": "1.2.0",
            "_view_name": "LayoutView",
            "align_content": null,
            "align_items": null,
            "align_self": null,
            "border": null,
            "bottom": null,
            "display": null,
            "flex": null,
            "flex_flow": null,
            "grid_area": null,
            "grid_auto_columns": null,
            "grid_auto_flow": null,
            "grid_auto_rows": null,
            "grid_column": null,
            "grid_gap": null,
            "grid_row": null,
            "grid_template_areas": null,
            "grid_template_columns": null,
            "grid_template_rows": null,
            "height": null,
            "justify_content": null,
            "justify_items": null,
            "left": null,
            "margin": null,
            "max_height": null,
            "max_width": null,
            "min_height": null,
            "min_width": null,
            "object_fit": null,
            "object_position": null,
            "order": null,
            "overflow": null,
            "overflow_x": null,
            "overflow_y": null,
            "padding": null,
            "right": null,
            "top": null,
            "visibility": null,
            "width": null
          }
        },
        "d9177ea134f8460ebd6cf1ad689318a3": {
          "model_module": "@jupyter-widgets/base",
          "model_name": "LayoutModel",
          "model_module_version": "1.2.0",
          "state": {
            "_model_module": "@jupyter-widgets/base",
            "_model_module_version": "1.2.0",
            "_model_name": "LayoutModel",
            "_view_count": null,
            "_view_module": "@jupyter-widgets/base",
            "_view_module_version": "1.2.0",
            "_view_name": "LayoutView",
            "align_content": null,
            "align_items": null,
            "align_self": null,
            "border": null,
            "bottom": null,
            "display": null,
            "flex": null,
            "flex_flow": null,
            "grid_area": null,
            "grid_auto_columns": null,
            "grid_auto_flow": null,
            "grid_auto_rows": null,
            "grid_column": null,
            "grid_gap": null,
            "grid_row": null,
            "grid_template_areas": null,
            "grid_template_columns": null,
            "grid_template_rows": null,
            "height": null,
            "justify_content": null,
            "justify_items": null,
            "left": null,
            "margin": null,
            "max_height": null,
            "max_width": null,
            "min_height": null,
            "min_width": null,
            "object_fit": null,
            "object_position": null,
            "order": null,
            "overflow": null,
            "overflow_x": null,
            "overflow_y": null,
            "padding": null,
            "right": null,
            "top": null,
            "visibility": null,
            "width": null
          }
        },
        "3fbbc8b306db4ce59dd86a527c9ccc1b": {
          "model_module": "@jupyter-widgets/controls",
          "model_name": "DescriptionStyleModel",
          "model_module_version": "1.5.0",
          "state": {
            "_model_module": "@jupyter-widgets/controls",
            "_model_module_version": "1.5.0",
            "_model_name": "DescriptionStyleModel",
            "_view_count": null,
            "_view_module": "@jupyter-widgets/base",
            "_view_module_version": "1.2.0",
            "_view_name": "StyleView",
            "description_width": ""
          }
        },
        "b5bc57e0774941d7805a42911cd9f013": {
          "model_module": "@jupyter-widgets/base",
          "model_name": "LayoutModel",
          "model_module_version": "1.2.0",
          "state": {
            "_model_module": "@jupyter-widgets/base",
            "_model_module_version": "1.2.0",
            "_model_name": "LayoutModel",
            "_view_count": null,
            "_view_module": "@jupyter-widgets/base",
            "_view_module_version": "1.2.0",
            "_view_name": "LayoutView",
            "align_content": null,
            "align_items": null,
            "align_self": null,
            "border": null,
            "bottom": null,
            "display": null,
            "flex": null,
            "flex_flow": null,
            "grid_area": null,
            "grid_auto_columns": null,
            "grid_auto_flow": null,
            "grid_auto_rows": null,
            "grid_column": null,
            "grid_gap": null,
            "grid_row": null,
            "grid_template_areas": null,
            "grid_template_columns": null,
            "grid_template_rows": null,
            "height": null,
            "justify_content": null,
            "justify_items": null,
            "left": null,
            "margin": null,
            "max_height": null,
            "max_width": null,
            "min_height": null,
            "min_width": null,
            "object_fit": null,
            "object_position": null,
            "order": null,
            "overflow": null,
            "overflow_x": null,
            "overflow_y": null,
            "padding": null,
            "right": null,
            "top": null,
            "visibility": null,
            "width": null
          }
        },
        "0de443816cd040d1b0de6258f4236ba7": {
          "model_module": "@jupyter-widgets/controls",
          "model_name": "ProgressStyleModel",
          "model_module_version": "1.5.0",
          "state": {
            "_model_module": "@jupyter-widgets/controls",
            "_model_module_version": "1.5.0",
            "_model_name": "ProgressStyleModel",
            "_view_count": null,
            "_view_module": "@jupyter-widgets/base",
            "_view_module_version": "1.2.0",
            "_view_name": "StyleView",
            "bar_color": null,
            "description_width": ""
          }
        },
        "2e2215c5a3f441a9b550cfd06cebfa78": {
          "model_module": "@jupyter-widgets/base",
          "model_name": "LayoutModel",
          "model_module_version": "1.2.0",
          "state": {
            "_model_module": "@jupyter-widgets/base",
            "_model_module_version": "1.2.0",
            "_model_name": "LayoutModel",
            "_view_count": null,
            "_view_module": "@jupyter-widgets/base",
            "_view_module_version": "1.2.0",
            "_view_name": "LayoutView",
            "align_content": null,
            "align_items": null,
            "align_self": null,
            "border": null,
            "bottom": null,
            "display": null,
            "flex": null,
            "flex_flow": null,
            "grid_area": null,
            "grid_auto_columns": null,
            "grid_auto_flow": null,
            "grid_auto_rows": null,
            "grid_column": null,
            "grid_gap": null,
            "grid_row": null,
            "grid_template_areas": null,
            "grid_template_columns": null,
            "grid_template_rows": null,
            "height": null,
            "justify_content": null,
            "justify_items": null,
            "left": null,
            "margin": null,
            "max_height": null,
            "max_width": null,
            "min_height": null,
            "min_width": null,
            "object_fit": null,
            "object_position": null,
            "order": null,
            "overflow": null,
            "overflow_x": null,
            "overflow_y": null,
            "padding": null,
            "right": null,
            "top": null,
            "visibility": null,
            "width": null
          }
        },
        "18c5c3af0aff46d9a451645f9a375d4a": {
          "model_module": "@jupyter-widgets/controls",
          "model_name": "DescriptionStyleModel",
          "model_module_version": "1.5.0",
          "state": {
            "_model_module": "@jupyter-widgets/controls",
            "_model_module_version": "1.5.0",
            "_model_name": "DescriptionStyleModel",
            "_view_count": null,
            "_view_module": "@jupyter-widgets/base",
            "_view_module_version": "1.2.0",
            "_view_name": "StyleView",
            "description_width": ""
          }
        },
        "dba1c8dc6e52499fb22466cb2838ee54": {
          "model_module": "@jupyter-widgets/controls",
          "model_name": "HBoxModel",
          "model_module_version": "1.5.0",
          "state": {
            "_dom_classes": [],
            "_model_module": "@jupyter-widgets/controls",
            "_model_module_version": "1.5.0",
            "_model_name": "HBoxModel",
            "_view_count": null,
            "_view_module": "@jupyter-widgets/controls",
            "_view_module_version": "1.5.0",
            "_view_name": "HBoxView",
            "box_style": "",
            "children": [
              "IPY_MODEL_462763fdc04443d6a92b0e45711581db",
              "IPY_MODEL_b006d3883ebf413cbaf1a26b77ba995f",
              "IPY_MODEL_6a3518dd4eec4fcb80e45717485d0b5e"
            ],
            "layout": "IPY_MODEL_8a3a534c27044d37b42cfc6fa6e7dfa7"
          }
        },
        "462763fdc04443d6a92b0e45711581db": {
          "model_module": "@jupyter-widgets/controls",
          "model_name": "HTMLModel",
          "model_module_version": "1.5.0",
          "state": {
            "_dom_classes": [],
            "_model_module": "@jupyter-widgets/controls",
            "_model_module_version": "1.5.0",
            "_model_name": "HTMLModel",
            "_view_count": null,
            "_view_module": "@jupyter-widgets/controls",
            "_view_module_version": "1.5.0",
            "_view_name": "HTMLView",
            "description": "",
            "description_tooltip": null,
            "layout": "IPY_MODEL_d15de19918fd4fee90b049548bc2f1e4",
            "placeholder": "​",
            "style": "IPY_MODEL_01640401c8904a0280849287b78a5c7d",
            "value": "Downloading: 100%"
          }
        },
        "b006d3883ebf413cbaf1a26b77ba995f": {
          "model_module": "@jupyter-widgets/controls",
          "model_name": "FloatProgressModel",
          "model_module_version": "1.5.0",
          "state": {
            "_dom_classes": [],
            "_model_module": "@jupyter-widgets/controls",
            "_model_module_version": "1.5.0",
            "_model_name": "FloatProgressModel",
            "_view_count": null,
            "_view_module": "@jupyter-widgets/controls",
            "_view_module_version": "1.5.0",
            "_view_name": "ProgressView",
            "bar_style": "success",
            "description": "",
            "description_tooltip": null,
            "layout": "IPY_MODEL_cc6e26045f54443dbf30a6cf6ab24703",
            "max": 28,
            "min": 0,
            "orientation": "horizontal",
            "style": "IPY_MODEL_d89c3877b9cc476f994c0a0c22abadbf",
            "value": 28
          }
        },
        "6a3518dd4eec4fcb80e45717485d0b5e": {
          "model_module": "@jupyter-widgets/controls",
          "model_name": "HTMLModel",
          "model_module_version": "1.5.0",
          "state": {
            "_dom_classes": [],
            "_model_module": "@jupyter-widgets/controls",
            "_model_module_version": "1.5.0",
            "_model_name": "HTMLModel",
            "_view_count": null,
            "_view_module": "@jupyter-widgets/controls",
            "_view_module_version": "1.5.0",
            "_view_name": "HTMLView",
            "description": "",
            "description_tooltip": null,
            "layout": "IPY_MODEL_92ca57b8cd484c76820c107cff2be52e",
            "placeholder": "​",
            "style": "IPY_MODEL_24a431d95b0843ab95329ce0ce5e7d83",
            "value": " 28.0/28.0 [00:00&lt;00:00, 580B/s]"
          }
        },
        "8a3a534c27044d37b42cfc6fa6e7dfa7": {
          "model_module": "@jupyter-widgets/base",
          "model_name": "LayoutModel",
          "model_module_version": "1.2.0",
          "state": {
            "_model_module": "@jupyter-widgets/base",
            "_model_module_version": "1.2.0",
            "_model_name": "LayoutModel",
            "_view_count": null,
            "_view_module": "@jupyter-widgets/base",
            "_view_module_version": "1.2.0",
            "_view_name": "LayoutView",
            "align_content": null,
            "align_items": null,
            "align_self": null,
            "border": null,
            "bottom": null,
            "display": null,
            "flex": null,
            "flex_flow": null,
            "grid_area": null,
            "grid_auto_columns": null,
            "grid_auto_flow": null,
            "grid_auto_rows": null,
            "grid_column": null,
            "grid_gap": null,
            "grid_row": null,
            "grid_template_areas": null,
            "grid_template_columns": null,
            "grid_template_rows": null,
            "height": null,
            "justify_content": null,
            "justify_items": null,
            "left": null,
            "margin": null,
            "max_height": null,
            "max_width": null,
            "min_height": null,
            "min_width": null,
            "object_fit": null,
            "object_position": null,
            "order": null,
            "overflow": null,
            "overflow_x": null,
            "overflow_y": null,
            "padding": null,
            "right": null,
            "top": null,
            "visibility": null,
            "width": null
          }
        },
        "d15de19918fd4fee90b049548bc2f1e4": {
          "model_module": "@jupyter-widgets/base",
          "model_name": "LayoutModel",
          "model_module_version": "1.2.0",
          "state": {
            "_model_module": "@jupyter-widgets/base",
            "_model_module_version": "1.2.0",
            "_model_name": "LayoutModel",
            "_view_count": null,
            "_view_module": "@jupyter-widgets/base",
            "_view_module_version": "1.2.0",
            "_view_name": "LayoutView",
            "align_content": null,
            "align_items": null,
            "align_self": null,
            "border": null,
            "bottom": null,
            "display": null,
            "flex": null,
            "flex_flow": null,
            "grid_area": null,
            "grid_auto_columns": null,
            "grid_auto_flow": null,
            "grid_auto_rows": null,
            "grid_column": null,
            "grid_gap": null,
            "grid_row": null,
            "grid_template_areas": null,
            "grid_template_columns": null,
            "grid_template_rows": null,
            "height": null,
            "justify_content": null,
            "justify_items": null,
            "left": null,
            "margin": null,
            "max_height": null,
            "max_width": null,
            "min_height": null,
            "min_width": null,
            "object_fit": null,
            "object_position": null,
            "order": null,
            "overflow": null,
            "overflow_x": null,
            "overflow_y": null,
            "padding": null,
            "right": null,
            "top": null,
            "visibility": null,
            "width": null
          }
        },
        "01640401c8904a0280849287b78a5c7d": {
          "model_module": "@jupyter-widgets/controls",
          "model_name": "DescriptionStyleModel",
          "model_module_version": "1.5.0",
          "state": {
            "_model_module": "@jupyter-widgets/controls",
            "_model_module_version": "1.5.0",
            "_model_name": "DescriptionStyleModel",
            "_view_count": null,
            "_view_module": "@jupyter-widgets/base",
            "_view_module_version": "1.2.0",
            "_view_name": "StyleView",
            "description_width": ""
          }
        },
        "cc6e26045f54443dbf30a6cf6ab24703": {
          "model_module": "@jupyter-widgets/base",
          "model_name": "LayoutModel",
          "model_module_version": "1.2.0",
          "state": {
            "_model_module": "@jupyter-widgets/base",
            "_model_module_version": "1.2.0",
            "_model_name": "LayoutModel",
            "_view_count": null,
            "_view_module": "@jupyter-widgets/base",
            "_view_module_version": "1.2.0",
            "_view_name": "LayoutView",
            "align_content": null,
            "align_items": null,
            "align_self": null,
            "border": null,
            "bottom": null,
            "display": null,
            "flex": null,
            "flex_flow": null,
            "grid_area": null,
            "grid_auto_columns": null,
            "grid_auto_flow": null,
            "grid_auto_rows": null,
            "grid_column": null,
            "grid_gap": null,
            "grid_row": null,
            "grid_template_areas": null,
            "grid_template_columns": null,
            "grid_template_rows": null,
            "height": null,
            "justify_content": null,
            "justify_items": null,
            "left": null,
            "margin": null,
            "max_height": null,
            "max_width": null,
            "min_height": null,
            "min_width": null,
            "object_fit": null,
            "object_position": null,
            "order": null,
            "overflow": null,
            "overflow_x": null,
            "overflow_y": null,
            "padding": null,
            "right": null,
            "top": null,
            "visibility": null,
            "width": null
          }
        },
        "d89c3877b9cc476f994c0a0c22abadbf": {
          "model_module": "@jupyter-widgets/controls",
          "model_name": "ProgressStyleModel",
          "model_module_version": "1.5.0",
          "state": {
            "_model_module": "@jupyter-widgets/controls",
            "_model_module_version": "1.5.0",
            "_model_name": "ProgressStyleModel",
            "_view_count": null,
            "_view_module": "@jupyter-widgets/base",
            "_view_module_version": "1.2.0",
            "_view_name": "StyleView",
            "bar_color": null,
            "description_width": ""
          }
        },
        "92ca57b8cd484c76820c107cff2be52e": {
          "model_module": "@jupyter-widgets/base",
          "model_name": "LayoutModel",
          "model_module_version": "1.2.0",
          "state": {
            "_model_module": "@jupyter-widgets/base",
            "_model_module_version": "1.2.0",
            "_model_name": "LayoutModel",
            "_view_count": null,
            "_view_module": "@jupyter-widgets/base",
            "_view_module_version": "1.2.0",
            "_view_name": "LayoutView",
            "align_content": null,
            "align_items": null,
            "align_self": null,
            "border": null,
            "bottom": null,
            "display": null,
            "flex": null,
            "flex_flow": null,
            "grid_area": null,
            "grid_auto_columns": null,
            "grid_auto_flow": null,
            "grid_auto_rows": null,
            "grid_column": null,
            "grid_gap": null,
            "grid_row": null,
            "grid_template_areas": null,
            "grid_template_columns": null,
            "grid_template_rows": null,
            "height": null,
            "justify_content": null,
            "justify_items": null,
            "left": null,
            "margin": null,
            "max_height": null,
            "max_width": null,
            "min_height": null,
            "min_width": null,
            "object_fit": null,
            "object_position": null,
            "order": null,
            "overflow": null,
            "overflow_x": null,
            "overflow_y": null,
            "padding": null,
            "right": null,
            "top": null,
            "visibility": null,
            "width": null
          }
        },
        "24a431d95b0843ab95329ce0ce5e7d83": {
          "model_module": "@jupyter-widgets/controls",
          "model_name": "DescriptionStyleModel",
          "model_module_version": "1.5.0",
          "state": {
            "_model_module": "@jupyter-widgets/controls",
            "_model_module_version": "1.5.0",
            "_model_name": "DescriptionStyleModel",
            "_view_count": null,
            "_view_module": "@jupyter-widgets/base",
            "_view_module_version": "1.2.0",
            "_view_name": "StyleView",
            "description_width": ""
          }
        },
        "566d7bb2a0104ad9abb97d81603d39ee": {
          "model_module": "@jupyter-widgets/controls",
          "model_name": "HBoxModel",
          "model_module_version": "1.5.0",
          "state": {
            "_dom_classes": [],
            "_model_module": "@jupyter-widgets/controls",
            "_model_module_version": "1.5.0",
            "_model_name": "HBoxModel",
            "_view_count": null,
            "_view_module": "@jupyter-widgets/controls",
            "_view_module_version": "1.5.0",
            "_view_name": "HBoxView",
            "box_style": "",
            "children": [
              "IPY_MODEL_7f028c2ca973466aaa40a78e3f42aa15",
              "IPY_MODEL_69008c102fcb4f4fb83addd00d51e6c9",
              "IPY_MODEL_c8eddfb8df7c459596d5579cc5ea3f66"
            ],
            "layout": "IPY_MODEL_e020c0033bb94286b7ef1609da54d504"
          }
        },
        "7f028c2ca973466aaa40a78e3f42aa15": {
          "model_module": "@jupyter-widgets/controls",
          "model_name": "HTMLModel",
          "model_module_version": "1.5.0",
          "state": {
            "_dom_classes": [],
            "_model_module": "@jupyter-widgets/controls",
            "_model_module_version": "1.5.0",
            "_model_name": "HTMLModel",
            "_view_count": null,
            "_view_module": "@jupyter-widgets/controls",
            "_view_module_version": "1.5.0",
            "_view_name": "HTMLView",
            "description": "",
            "description_tooltip": null,
            "layout": "IPY_MODEL_329c540f4ddd4362b1b155a9b6ac6c53",
            "placeholder": "​",
            "style": "IPY_MODEL_b847032e8a52417a877f6888990400cc",
            "value": "Downloading: 100%"
          }
        },
        "69008c102fcb4f4fb83addd00d51e6c9": {
          "model_module": "@jupyter-widgets/controls",
          "model_name": "FloatProgressModel",
          "model_module_version": "1.5.0",
          "state": {
            "_dom_classes": [],
            "_model_module": "@jupyter-widgets/controls",
            "_model_module_version": "1.5.0",
            "_model_name": "FloatProgressModel",
            "_view_count": null,
            "_view_module": "@jupyter-widgets/controls",
            "_view_module_version": "1.5.0",
            "_view_name": "ProgressView",
            "bar_style": "success",
            "description": "",
            "description_tooltip": null,
            "layout": "IPY_MODEL_898f9a2176f34cf398618df9982c778e",
            "max": 483,
            "min": 0,
            "orientation": "horizontal",
            "style": "IPY_MODEL_06d35a42af3947078f91412a9d7b27c9",
            "value": 483
          }
        },
        "c8eddfb8df7c459596d5579cc5ea3f66": {
          "model_module": "@jupyter-widgets/controls",
          "model_name": "HTMLModel",
          "model_module_version": "1.5.0",
          "state": {
            "_dom_classes": [],
            "_model_module": "@jupyter-widgets/controls",
            "_model_module_version": "1.5.0",
            "_model_name": "HTMLModel",
            "_view_count": null,
            "_view_module": "@jupyter-widgets/controls",
            "_view_module_version": "1.5.0",
            "_view_name": "HTMLView",
            "description": "",
            "description_tooltip": null,
            "layout": "IPY_MODEL_dca48dcfbc6f45bdaa94d65fa4f661e1",
            "placeholder": "​",
            "style": "IPY_MODEL_a491e618646f4c3f89eed439a22d963f",
            "value": " 483/483 [00:00&lt;00:00, 15.6kB/s]"
          }
        },
        "e020c0033bb94286b7ef1609da54d504": {
          "model_module": "@jupyter-widgets/base",
          "model_name": "LayoutModel",
          "model_module_version": "1.2.0",
          "state": {
            "_model_module": "@jupyter-widgets/base",
            "_model_module_version": "1.2.0",
            "_model_name": "LayoutModel",
            "_view_count": null,
            "_view_module": "@jupyter-widgets/base",
            "_view_module_version": "1.2.0",
            "_view_name": "LayoutView",
            "align_content": null,
            "align_items": null,
            "align_self": null,
            "border": null,
            "bottom": null,
            "display": null,
            "flex": null,
            "flex_flow": null,
            "grid_area": null,
            "grid_auto_columns": null,
            "grid_auto_flow": null,
            "grid_auto_rows": null,
            "grid_column": null,
            "grid_gap": null,
            "grid_row": null,
            "grid_template_areas": null,
            "grid_template_columns": null,
            "grid_template_rows": null,
            "height": null,
            "justify_content": null,
            "justify_items": null,
            "left": null,
            "margin": null,
            "max_height": null,
            "max_width": null,
            "min_height": null,
            "min_width": null,
            "object_fit": null,
            "object_position": null,
            "order": null,
            "overflow": null,
            "overflow_x": null,
            "overflow_y": null,
            "padding": null,
            "right": null,
            "top": null,
            "visibility": null,
            "width": null
          }
        },
        "329c540f4ddd4362b1b155a9b6ac6c53": {
          "model_module": "@jupyter-widgets/base",
          "model_name": "LayoutModel",
          "model_module_version": "1.2.0",
          "state": {
            "_model_module": "@jupyter-widgets/base",
            "_model_module_version": "1.2.0",
            "_model_name": "LayoutModel",
            "_view_count": null,
            "_view_module": "@jupyter-widgets/base",
            "_view_module_version": "1.2.0",
            "_view_name": "LayoutView",
            "align_content": null,
            "align_items": null,
            "align_self": null,
            "border": null,
            "bottom": null,
            "display": null,
            "flex": null,
            "flex_flow": null,
            "grid_area": null,
            "grid_auto_columns": null,
            "grid_auto_flow": null,
            "grid_auto_rows": null,
            "grid_column": null,
            "grid_gap": null,
            "grid_row": null,
            "grid_template_areas": null,
            "grid_template_columns": null,
            "grid_template_rows": null,
            "height": null,
            "justify_content": null,
            "justify_items": null,
            "left": null,
            "margin": null,
            "max_height": null,
            "max_width": null,
            "min_height": null,
            "min_width": null,
            "object_fit": null,
            "object_position": null,
            "order": null,
            "overflow": null,
            "overflow_x": null,
            "overflow_y": null,
            "padding": null,
            "right": null,
            "top": null,
            "visibility": null,
            "width": null
          }
        },
        "b847032e8a52417a877f6888990400cc": {
          "model_module": "@jupyter-widgets/controls",
          "model_name": "DescriptionStyleModel",
          "model_module_version": "1.5.0",
          "state": {
            "_model_module": "@jupyter-widgets/controls",
            "_model_module_version": "1.5.0",
            "_model_name": "DescriptionStyleModel",
            "_view_count": null,
            "_view_module": "@jupyter-widgets/base",
            "_view_module_version": "1.2.0",
            "_view_name": "StyleView",
            "description_width": ""
          }
        },
        "898f9a2176f34cf398618df9982c778e": {
          "model_module": "@jupyter-widgets/base",
          "model_name": "LayoutModel",
          "model_module_version": "1.2.0",
          "state": {
            "_model_module": "@jupyter-widgets/base",
            "_model_module_version": "1.2.0",
            "_model_name": "LayoutModel",
            "_view_count": null,
            "_view_module": "@jupyter-widgets/base",
            "_view_module_version": "1.2.0",
            "_view_name": "LayoutView",
            "align_content": null,
            "align_items": null,
            "align_self": null,
            "border": null,
            "bottom": null,
            "display": null,
            "flex": null,
            "flex_flow": null,
            "grid_area": null,
            "grid_auto_columns": null,
            "grid_auto_flow": null,
            "grid_auto_rows": null,
            "grid_column": null,
            "grid_gap": null,
            "grid_row": null,
            "grid_template_areas": null,
            "grid_template_columns": null,
            "grid_template_rows": null,
            "height": null,
            "justify_content": null,
            "justify_items": null,
            "left": null,
            "margin": null,
            "max_height": null,
            "max_width": null,
            "min_height": null,
            "min_width": null,
            "object_fit": null,
            "object_position": null,
            "order": null,
            "overflow": null,
            "overflow_x": null,
            "overflow_y": null,
            "padding": null,
            "right": null,
            "top": null,
            "visibility": null,
            "width": null
          }
        },
        "06d35a42af3947078f91412a9d7b27c9": {
          "model_module": "@jupyter-widgets/controls",
          "model_name": "ProgressStyleModel",
          "model_module_version": "1.5.0",
          "state": {
            "_model_module": "@jupyter-widgets/controls",
            "_model_module_version": "1.5.0",
            "_model_name": "ProgressStyleModel",
            "_view_count": null,
            "_view_module": "@jupyter-widgets/base",
            "_view_module_version": "1.2.0",
            "_view_name": "StyleView",
            "bar_color": null,
            "description_width": ""
          }
        },
        "dca48dcfbc6f45bdaa94d65fa4f661e1": {
          "model_module": "@jupyter-widgets/base",
          "model_name": "LayoutModel",
          "model_module_version": "1.2.0",
          "state": {
            "_model_module": "@jupyter-widgets/base",
            "_model_module_version": "1.2.0",
            "_model_name": "LayoutModel",
            "_view_count": null,
            "_view_module": "@jupyter-widgets/base",
            "_view_module_version": "1.2.0",
            "_view_name": "LayoutView",
            "align_content": null,
            "align_items": null,
            "align_self": null,
            "border": null,
            "bottom": null,
            "display": null,
            "flex": null,
            "flex_flow": null,
            "grid_area": null,
            "grid_auto_columns": null,
            "grid_auto_flow": null,
            "grid_auto_rows": null,
            "grid_column": null,
            "grid_gap": null,
            "grid_row": null,
            "grid_template_areas": null,
            "grid_template_columns": null,
            "grid_template_rows": null,
            "height": null,
            "justify_content": null,
            "justify_items": null,
            "left": null,
            "margin": null,
            "max_height": null,
            "max_width": null,
            "min_height": null,
            "min_width": null,
            "object_fit": null,
            "object_position": null,
            "order": null,
            "overflow": null,
            "overflow_x": null,
            "overflow_y": null,
            "padding": null,
            "right": null,
            "top": null,
            "visibility": null,
            "width": null
          }
        },
        "a491e618646f4c3f89eed439a22d963f": {
          "model_module": "@jupyter-widgets/controls",
          "model_name": "DescriptionStyleModel",
          "model_module_version": "1.5.0",
          "state": {
            "_model_module": "@jupyter-widgets/controls",
            "_model_module_version": "1.5.0",
            "_model_name": "DescriptionStyleModel",
            "_view_count": null,
            "_view_module": "@jupyter-widgets/base",
            "_view_module_version": "1.2.0",
            "_view_name": "StyleView",
            "description_width": ""
          }
        },
        "6e225f12cacc4075b7759d2ecfffeda1": {
          "model_module": "@jupyter-widgets/controls",
          "model_name": "HBoxModel",
          "model_module_version": "1.5.0",
          "state": {
            "_dom_classes": [],
            "_model_module": "@jupyter-widgets/controls",
            "_model_module_version": "1.5.0",
            "_model_name": "HBoxModel",
            "_view_count": null,
            "_view_module": "@jupyter-widgets/controls",
            "_view_module_version": "1.5.0",
            "_view_name": "HBoxView",
            "box_style": "",
            "children": [
              "IPY_MODEL_88a83385b0cc42ffbcf586ed0dd24a42",
              "IPY_MODEL_77a6a5b465c34823bc0cb84add5685c0",
              "IPY_MODEL_407e54b462044d9faa4d95a49d948ad6"
            ],
            "layout": "IPY_MODEL_e78b7e56887448149d8e5d6e4fde72b7"
          }
        },
        "88a83385b0cc42ffbcf586ed0dd24a42": {
          "model_module": "@jupyter-widgets/controls",
          "model_name": "HTMLModel",
          "model_module_version": "1.5.0",
          "state": {
            "_dom_classes": [],
            "_model_module": "@jupyter-widgets/controls",
            "_model_module_version": "1.5.0",
            "_model_name": "HTMLModel",
            "_view_count": null,
            "_view_module": "@jupyter-widgets/controls",
            "_view_module_version": "1.5.0",
            "_view_name": "HTMLView",
            "description": "",
            "description_tooltip": null,
            "layout": "IPY_MODEL_6f2e966e800149d8a49183525bdb1f6c",
            "placeholder": "​",
            "style": "IPY_MODEL_948f7496b63240bea6606ffd5698d97c",
            "value": "Downloading: 100%"
          }
        },
        "77a6a5b465c34823bc0cb84add5685c0": {
          "model_module": "@jupyter-widgets/controls",
          "model_name": "FloatProgressModel",
          "model_module_version": "1.5.0",
          "state": {
            "_dom_classes": [],
            "_model_module": "@jupyter-widgets/controls",
            "_model_module_version": "1.5.0",
            "_model_name": "FloatProgressModel",
            "_view_count": null,
            "_view_module": "@jupyter-widgets/controls",
            "_view_module_version": "1.5.0",
            "_view_name": "ProgressView",
            "bar_style": "success",
            "description": "",
            "description_tooltip": null,
            "layout": "IPY_MODEL_b8b144824bf94a9e99ddac9e0a119755",
            "max": 267967963,
            "min": 0,
            "orientation": "horizontal",
            "style": "IPY_MODEL_59714f32e80846879b8c75725dcb48c5",
            "value": 267967963
          }
        },
        "407e54b462044d9faa4d95a49d948ad6": {
          "model_module": "@jupyter-widgets/controls",
          "model_name": "HTMLModel",
          "model_module_version": "1.5.0",
          "state": {
            "_dom_classes": [],
            "_model_module": "@jupyter-widgets/controls",
            "_model_module_version": "1.5.0",
            "_model_name": "HTMLModel",
            "_view_count": null,
            "_view_module": "@jupyter-widgets/controls",
            "_view_module_version": "1.5.0",
            "_view_name": "HTMLView",
            "description": "",
            "description_tooltip": null,
            "layout": "IPY_MODEL_238105aa1d104bc3955c47c8c041111b",
            "placeholder": "​",
            "style": "IPY_MODEL_2806e1d98d4046b288e72ff93e12ce7a",
            "value": " 256M/256M [00:05&lt;00:00, 51.0MB/s]"
          }
        },
        "e78b7e56887448149d8e5d6e4fde72b7": {
          "model_module": "@jupyter-widgets/base",
          "model_name": "LayoutModel",
          "model_module_version": "1.2.0",
          "state": {
            "_model_module": "@jupyter-widgets/base",
            "_model_module_version": "1.2.0",
            "_model_name": "LayoutModel",
            "_view_count": null,
            "_view_module": "@jupyter-widgets/base",
            "_view_module_version": "1.2.0",
            "_view_name": "LayoutView",
            "align_content": null,
            "align_items": null,
            "align_self": null,
            "border": null,
            "bottom": null,
            "display": null,
            "flex": null,
            "flex_flow": null,
            "grid_area": null,
            "grid_auto_columns": null,
            "grid_auto_flow": null,
            "grid_auto_rows": null,
            "grid_column": null,
            "grid_gap": null,
            "grid_row": null,
            "grid_template_areas": null,
            "grid_template_columns": null,
            "grid_template_rows": null,
            "height": null,
            "justify_content": null,
            "justify_items": null,
            "left": null,
            "margin": null,
            "max_height": null,
            "max_width": null,
            "min_height": null,
            "min_width": null,
            "object_fit": null,
            "object_position": null,
            "order": null,
            "overflow": null,
            "overflow_x": null,
            "overflow_y": null,
            "padding": null,
            "right": null,
            "top": null,
            "visibility": null,
            "width": null
          }
        },
        "6f2e966e800149d8a49183525bdb1f6c": {
          "model_module": "@jupyter-widgets/base",
          "model_name": "LayoutModel",
          "model_module_version": "1.2.0",
          "state": {
            "_model_module": "@jupyter-widgets/base",
            "_model_module_version": "1.2.0",
            "_model_name": "LayoutModel",
            "_view_count": null,
            "_view_module": "@jupyter-widgets/base",
            "_view_module_version": "1.2.0",
            "_view_name": "LayoutView",
            "align_content": null,
            "align_items": null,
            "align_self": null,
            "border": null,
            "bottom": null,
            "display": null,
            "flex": null,
            "flex_flow": null,
            "grid_area": null,
            "grid_auto_columns": null,
            "grid_auto_flow": null,
            "grid_auto_rows": null,
            "grid_column": null,
            "grid_gap": null,
            "grid_row": null,
            "grid_template_areas": null,
            "grid_template_columns": null,
            "grid_template_rows": null,
            "height": null,
            "justify_content": null,
            "justify_items": null,
            "left": null,
            "margin": null,
            "max_height": null,
            "max_width": null,
            "min_height": null,
            "min_width": null,
            "object_fit": null,
            "object_position": null,
            "order": null,
            "overflow": null,
            "overflow_x": null,
            "overflow_y": null,
            "padding": null,
            "right": null,
            "top": null,
            "visibility": null,
            "width": null
          }
        },
        "948f7496b63240bea6606ffd5698d97c": {
          "model_module": "@jupyter-widgets/controls",
          "model_name": "DescriptionStyleModel",
          "model_module_version": "1.5.0",
          "state": {
            "_model_module": "@jupyter-widgets/controls",
            "_model_module_version": "1.5.0",
            "_model_name": "DescriptionStyleModel",
            "_view_count": null,
            "_view_module": "@jupyter-widgets/base",
            "_view_module_version": "1.2.0",
            "_view_name": "StyleView",
            "description_width": ""
          }
        },
        "b8b144824bf94a9e99ddac9e0a119755": {
          "model_module": "@jupyter-widgets/base",
          "model_name": "LayoutModel",
          "model_module_version": "1.2.0",
          "state": {
            "_model_module": "@jupyter-widgets/base",
            "_model_module_version": "1.2.0",
            "_model_name": "LayoutModel",
            "_view_count": null,
            "_view_module": "@jupyter-widgets/base",
            "_view_module_version": "1.2.0",
            "_view_name": "LayoutView",
            "align_content": null,
            "align_items": null,
            "align_self": null,
            "border": null,
            "bottom": null,
            "display": null,
            "flex": null,
            "flex_flow": null,
            "grid_area": null,
            "grid_auto_columns": null,
            "grid_auto_flow": null,
            "grid_auto_rows": null,
            "grid_column": null,
            "grid_gap": null,
            "grid_row": null,
            "grid_template_areas": null,
            "grid_template_columns": null,
            "grid_template_rows": null,
            "height": null,
            "justify_content": null,
            "justify_items": null,
            "left": null,
            "margin": null,
            "max_height": null,
            "max_width": null,
            "min_height": null,
            "min_width": null,
            "object_fit": null,
            "object_position": null,
            "order": null,
            "overflow": null,
            "overflow_x": null,
            "overflow_y": null,
            "padding": null,
            "right": null,
            "top": null,
            "visibility": null,
            "width": null
          }
        },
        "59714f32e80846879b8c75725dcb48c5": {
          "model_module": "@jupyter-widgets/controls",
          "model_name": "ProgressStyleModel",
          "model_module_version": "1.5.0",
          "state": {
            "_model_module": "@jupyter-widgets/controls",
            "_model_module_version": "1.5.0",
            "_model_name": "ProgressStyleModel",
            "_view_count": null,
            "_view_module": "@jupyter-widgets/base",
            "_view_module_version": "1.2.0",
            "_view_name": "StyleView",
            "bar_color": null,
            "description_width": ""
          }
        },
        "238105aa1d104bc3955c47c8c041111b": {
          "model_module": "@jupyter-widgets/base",
          "model_name": "LayoutModel",
          "model_module_version": "1.2.0",
          "state": {
            "_model_module": "@jupyter-widgets/base",
            "_model_module_version": "1.2.0",
            "_model_name": "LayoutModel",
            "_view_count": null,
            "_view_module": "@jupyter-widgets/base",
            "_view_module_version": "1.2.0",
            "_view_name": "LayoutView",
            "align_content": null,
            "align_items": null,
            "align_self": null,
            "border": null,
            "bottom": null,
            "display": null,
            "flex": null,
            "flex_flow": null,
            "grid_area": null,
            "grid_auto_columns": null,
            "grid_auto_flow": null,
            "grid_auto_rows": null,
            "grid_column": null,
            "grid_gap": null,
            "grid_row": null,
            "grid_template_areas": null,
            "grid_template_columns": null,
            "grid_template_rows": null,
            "height": null,
            "justify_content": null,
            "justify_items": null,
            "left": null,
            "margin": null,
            "max_height": null,
            "max_width": null,
            "min_height": null,
            "min_width": null,
            "object_fit": null,
            "object_position": null,
            "order": null,
            "overflow": null,
            "overflow_x": null,
            "overflow_y": null,
            "padding": null,
            "right": null,
            "top": null,
            "visibility": null,
            "width": null
          }
        },
        "2806e1d98d4046b288e72ff93e12ce7a": {
          "model_module": "@jupyter-widgets/controls",
          "model_name": "DescriptionStyleModel",
          "model_module_version": "1.5.0",
          "state": {
            "_model_module": "@jupyter-widgets/controls",
            "_model_module_version": "1.5.0",
            "_model_name": "DescriptionStyleModel",
            "_view_count": null,
            "_view_module": "@jupyter-widgets/base",
            "_view_module_version": "1.2.0",
            "_view_name": "StyleView",
            "description_width": ""
          }
        },
        "8daab28878e34d48ac0e19a934eee7c9": {
          "model_module": "@jupyter-widgets/controls",
          "model_name": "HBoxModel",
          "model_module_version": "1.5.0",
          "state": {
            "_dom_classes": [],
            "_model_module": "@jupyter-widgets/controls",
            "_model_module_version": "1.5.0",
            "_model_name": "HBoxModel",
            "_view_count": null,
            "_view_module": "@jupyter-widgets/controls",
            "_view_module_version": "1.5.0",
            "_view_name": "HBoxView",
            "box_style": "",
            "children": [
              "IPY_MODEL_146acb7b72494e6e9367adcf03ef61f8",
              "IPY_MODEL_f8bc6fa7b75448afaa7622db0a9a375a",
              "IPY_MODEL_301c613a50a34082bcdfa60f5f8c2b51"
            ],
            "layout": "IPY_MODEL_6ffd7215b02246beb6c0888e16b21ff3"
          }
        },
        "146acb7b72494e6e9367adcf03ef61f8": {
          "model_module": "@jupyter-widgets/controls",
          "model_name": "HTMLModel",
          "model_module_version": "1.5.0",
          "state": {
            "_dom_classes": [],
            "_model_module": "@jupyter-widgets/controls",
            "_model_module_version": "1.5.0",
            "_model_name": "HTMLModel",
            "_view_count": null,
            "_view_module": "@jupyter-widgets/controls",
            "_view_module_version": "1.5.0",
            "_view_name": "HTMLView",
            "description": "",
            "description_tooltip": null,
            "layout": "IPY_MODEL_c1dc7c8d430d45f9ae07589ad5582b4b",
            "placeholder": "​",
            "style": "IPY_MODEL_2f70d280652c4573a0e7b867dbcd74d8",
            "value": "100%"
          }
        },
        "f8bc6fa7b75448afaa7622db0a9a375a": {
          "model_module": "@jupyter-widgets/controls",
          "model_name": "FloatProgressModel",
          "model_module_version": "1.5.0",
          "state": {
            "_dom_classes": [],
            "_model_module": "@jupyter-widgets/controls",
            "_model_module_version": "1.5.0",
            "_model_name": "FloatProgressModel",
            "_view_count": null,
            "_view_module": "@jupyter-widgets/controls",
            "_view_module_version": "1.5.0",
            "_view_name": "ProgressView",
            "bar_style": "success",
            "description": "",
            "description_tooltip": null,
            "layout": "IPY_MODEL_505b258e6dd2451f955ae0663a72059b",
            "max": 10,
            "min": 0,
            "orientation": "horizontal",
            "style": "IPY_MODEL_ca8753d72d0c43a2809a902c5c8a02b2",
            "value": 10
          }
        },
        "301c613a50a34082bcdfa60f5f8c2b51": {
          "model_module": "@jupyter-widgets/controls",
          "model_name": "HTMLModel",
          "model_module_version": "1.5.0",
          "state": {
            "_dom_classes": [],
            "_model_module": "@jupyter-widgets/controls",
            "_model_module_version": "1.5.0",
            "_model_name": "HTMLModel",
            "_view_count": null,
            "_view_module": "@jupyter-widgets/controls",
            "_view_module_version": "1.5.0",
            "_view_name": "HTMLView",
            "description": "",
            "description_tooltip": null,
            "layout": "IPY_MODEL_098f064dc4a243239a73eadc1c9ad0ac",
            "placeholder": "​",
            "style": "IPY_MODEL_47bc55907ae348c3819da11730a5ca4a",
            "value": " 10/10 [17:20&lt;00:00, 102.21s/it]"
          }
        },
        "6ffd7215b02246beb6c0888e16b21ff3": {
          "model_module": "@jupyter-widgets/base",
          "model_name": "LayoutModel",
          "model_module_version": "1.2.0",
          "state": {
            "_model_module": "@jupyter-widgets/base",
            "_model_module_version": "1.2.0",
            "_model_name": "LayoutModel",
            "_view_count": null,
            "_view_module": "@jupyter-widgets/base",
            "_view_module_version": "1.2.0",
            "_view_name": "LayoutView",
            "align_content": null,
            "align_items": null,
            "align_self": null,
            "border": null,
            "bottom": null,
            "display": null,
            "flex": null,
            "flex_flow": null,
            "grid_area": null,
            "grid_auto_columns": null,
            "grid_auto_flow": null,
            "grid_auto_rows": null,
            "grid_column": null,
            "grid_gap": null,
            "grid_row": null,
            "grid_template_areas": null,
            "grid_template_columns": null,
            "grid_template_rows": null,
            "height": null,
            "justify_content": null,
            "justify_items": null,
            "left": null,
            "margin": null,
            "max_height": null,
            "max_width": null,
            "min_height": null,
            "min_width": null,
            "object_fit": null,
            "object_position": null,
            "order": null,
            "overflow": null,
            "overflow_x": null,
            "overflow_y": null,
            "padding": null,
            "right": null,
            "top": null,
            "visibility": null,
            "width": null
          }
        },
        "c1dc7c8d430d45f9ae07589ad5582b4b": {
          "model_module": "@jupyter-widgets/base",
          "model_name": "LayoutModel",
          "model_module_version": "1.2.0",
          "state": {
            "_model_module": "@jupyter-widgets/base",
            "_model_module_version": "1.2.0",
            "_model_name": "LayoutModel",
            "_view_count": null,
            "_view_module": "@jupyter-widgets/base",
            "_view_module_version": "1.2.0",
            "_view_name": "LayoutView",
            "align_content": null,
            "align_items": null,
            "align_self": null,
            "border": null,
            "bottom": null,
            "display": null,
            "flex": null,
            "flex_flow": null,
            "grid_area": null,
            "grid_auto_columns": null,
            "grid_auto_flow": null,
            "grid_auto_rows": null,
            "grid_column": null,
            "grid_gap": null,
            "grid_row": null,
            "grid_template_areas": null,
            "grid_template_columns": null,
            "grid_template_rows": null,
            "height": null,
            "justify_content": null,
            "justify_items": null,
            "left": null,
            "margin": null,
            "max_height": null,
            "max_width": null,
            "min_height": null,
            "min_width": null,
            "object_fit": null,
            "object_position": null,
            "order": null,
            "overflow": null,
            "overflow_x": null,
            "overflow_y": null,
            "padding": null,
            "right": null,
            "top": null,
            "visibility": null,
            "width": null
          }
        },
        "2f70d280652c4573a0e7b867dbcd74d8": {
          "model_module": "@jupyter-widgets/controls",
          "model_name": "DescriptionStyleModel",
          "model_module_version": "1.5.0",
          "state": {
            "_model_module": "@jupyter-widgets/controls",
            "_model_module_version": "1.5.0",
            "_model_name": "DescriptionStyleModel",
            "_view_count": null,
            "_view_module": "@jupyter-widgets/base",
            "_view_module_version": "1.2.0",
            "_view_name": "StyleView",
            "description_width": ""
          }
        },
        "505b258e6dd2451f955ae0663a72059b": {
          "model_module": "@jupyter-widgets/base",
          "model_name": "LayoutModel",
          "model_module_version": "1.2.0",
          "state": {
            "_model_module": "@jupyter-widgets/base",
            "_model_module_version": "1.2.0",
            "_model_name": "LayoutModel",
            "_view_count": null,
            "_view_module": "@jupyter-widgets/base",
            "_view_module_version": "1.2.0",
            "_view_name": "LayoutView",
            "align_content": null,
            "align_items": null,
            "align_self": null,
            "border": null,
            "bottom": null,
            "display": null,
            "flex": null,
            "flex_flow": null,
            "grid_area": null,
            "grid_auto_columns": null,
            "grid_auto_flow": null,
            "grid_auto_rows": null,
            "grid_column": null,
            "grid_gap": null,
            "grid_row": null,
            "grid_template_areas": null,
            "grid_template_columns": null,
            "grid_template_rows": null,
            "height": null,
            "justify_content": null,
            "justify_items": null,
            "left": null,
            "margin": null,
            "max_height": null,
            "max_width": null,
            "min_height": null,
            "min_width": null,
            "object_fit": null,
            "object_position": null,
            "order": null,
            "overflow": null,
            "overflow_x": null,
            "overflow_y": null,
            "padding": null,
            "right": null,
            "top": null,
            "visibility": null,
            "width": null
          }
        },
        "ca8753d72d0c43a2809a902c5c8a02b2": {
          "model_module": "@jupyter-widgets/controls",
          "model_name": "ProgressStyleModel",
          "model_module_version": "1.5.0",
          "state": {
            "_model_module": "@jupyter-widgets/controls",
            "_model_module_version": "1.5.0",
            "_model_name": "ProgressStyleModel",
            "_view_count": null,
            "_view_module": "@jupyter-widgets/base",
            "_view_module_version": "1.2.0",
            "_view_name": "StyleView",
            "bar_color": null,
            "description_width": ""
          }
        },
        "098f064dc4a243239a73eadc1c9ad0ac": {
          "model_module": "@jupyter-widgets/base",
          "model_name": "LayoutModel",
          "model_module_version": "1.2.0",
          "state": {
            "_model_module": "@jupyter-widgets/base",
            "_model_module_version": "1.2.0",
            "_model_name": "LayoutModel",
            "_view_count": null,
            "_view_module": "@jupyter-widgets/base",
            "_view_module_version": "1.2.0",
            "_view_name": "LayoutView",
            "align_content": null,
            "align_items": null,
            "align_self": null,
            "border": null,
            "bottom": null,
            "display": null,
            "flex": null,
            "flex_flow": null,
            "grid_area": null,
            "grid_auto_columns": null,
            "grid_auto_flow": null,
            "grid_auto_rows": null,
            "grid_column": null,
            "grid_gap": null,
            "grid_row": null,
            "grid_template_areas": null,
            "grid_template_columns": null,
            "grid_template_rows": null,
            "height": null,
            "justify_content": null,
            "justify_items": null,
            "left": null,
            "margin": null,
            "max_height": null,
            "max_width": null,
            "min_height": null,
            "min_width": null,
            "object_fit": null,
            "object_position": null,
            "order": null,
            "overflow": null,
            "overflow_x": null,
            "overflow_y": null,
            "padding": null,
            "right": null,
            "top": null,
            "visibility": null,
            "width": null
          }
        },
        "47bc55907ae348c3819da11730a5ca4a": {
          "model_module": "@jupyter-widgets/controls",
          "model_name": "DescriptionStyleModel",
          "model_module_version": "1.5.0",
          "state": {
            "_model_module": "@jupyter-widgets/controls",
            "_model_module_version": "1.5.0",
            "_model_name": "DescriptionStyleModel",
            "_view_count": null,
            "_view_module": "@jupyter-widgets/base",
            "_view_module_version": "1.2.0",
            "_view_name": "StyleView",
            "description_width": ""
          }
        }
      }
    }
  },
  "nbformat": 4,
  "nbformat_minor": 0
}