{
  "cells": [
    {
      "cell_type": "markdown",
      "source": [
        "# Введение"
      ],
      "metadata": {
        "id": "avdbpkuHOMie"
      }
    },
    {
      "cell_type": "markdown",
      "source": [
        "Данный проект был разобран мной в качестве выпускного во время обучения в Яндекс-Практикуме. Проект не сложный, основная его трудность приблеженность к реальным условиям. Когда Заказчик ставит задачу и скидывает \"все что есть\", в этом месте важно понять задачу и как ее решать, а так же какие данные для этого нужны. В процессе работы приходилось уточнять задачу с Тим-лидом и Заказчиком. Часть 2 начинается как раз с краткого резюме после такой встречи."
      ],
      "metadata": {
        "id": "a-jBBVUNQ1b4"
      }
    },
    {
      "cell_type": "markdown",
      "metadata": {
        "id": "aFSm3LG75J3k"
      },
      "source": [
        "# Часть 1 Первичный обзор"
      ]
    },
    {
      "cell_type": "markdown",
      "metadata": {
        "id": "7uJ1QXGWzDP5"
      },
      "source": [
        "## Загрузка данных и инструментов"
      ]
    },
    {
      "cell_type": "code",
      "execution_count": 2,
      "metadata": {
        "colab": {
          "base_uri": "https://localhost:8080/"
        },
        "id": "Ld_yCLEbvy2O",
        "outputId": "2c21129b-f2f5-40cf-8589-5a822c2f306f"
      },
      "outputs": [
        {
          "output_type": "stream",
          "name": "stdout",
          "text": [
            "Looking in indexes: https://pypi.org/simple, https://us-python.pkg.dev/colab-wheels/public/simple/\n",
            "Collecting catboost\n",
            "  Downloading catboost-1.0.6-cp37-none-manylinux1_x86_64.whl (76.6 MB)\n",
            "\u001b[K     |████████████████████████████████| 76.6 MB 89 kB/s \n",
            "\u001b[?25hRequirement already satisfied: plotly in /usr/local/lib/python3.7/dist-packages (from catboost) (5.5.0)\n",
            "Requirement already satisfied: numpy>=1.16.0 in /usr/local/lib/python3.7/dist-packages (from catboost) (1.21.6)\n",
            "Requirement already satisfied: scipy in /usr/local/lib/python3.7/dist-packages (from catboost) (1.4.1)\n",
            "Requirement already satisfied: pandas>=0.24.0 in /usr/local/lib/python3.7/dist-packages (from catboost) (1.3.5)\n",
            "Requirement already satisfied: matplotlib in /usr/local/lib/python3.7/dist-packages (from catboost) (3.2.2)\n",
            "Requirement already satisfied: six in /usr/local/lib/python3.7/dist-packages (from catboost) (1.15.0)\n",
            "Requirement already satisfied: graphviz in /usr/local/lib/python3.7/dist-packages (from catboost) (0.10.1)\n",
            "Requirement already satisfied: python-dateutil>=2.7.3 in /usr/local/lib/python3.7/dist-packages (from pandas>=0.24.0->catboost) (2.8.2)\n",
            "Requirement already satisfied: pytz>=2017.3 in /usr/local/lib/python3.7/dist-packages (from pandas>=0.24.0->catboost) (2022.1)\n",
            "Requirement already satisfied: kiwisolver>=1.0.1 in /usr/local/lib/python3.7/dist-packages (from matplotlib->catboost) (1.4.3)\n",
            "Requirement already satisfied: pyparsing!=2.0.4,!=2.1.2,!=2.1.6,>=2.0.1 in /usr/local/lib/python3.7/dist-packages (from matplotlib->catboost) (3.0.9)\n",
            "Requirement already satisfied: cycler>=0.10 in /usr/local/lib/python3.7/dist-packages (from matplotlib->catboost) (0.11.0)\n",
            "Requirement already satisfied: typing-extensions in /usr/local/lib/python3.7/dist-packages (from kiwisolver>=1.0.1->matplotlib->catboost) (4.1.1)\n",
            "Requirement already satisfied: tenacity>=6.2.0 in /usr/local/lib/python3.7/dist-packages (from plotly->catboost) (8.0.1)\n",
            "Installing collected packages: catboost\n",
            "Successfully installed catboost-1.0.6\n",
            "Looking in indexes: https://pypi.org/simple, https://us-python.pkg.dev/colab-wheels/public/simple/\n",
            "Collecting optuna\n",
            "  Downloading optuna-2.10.1-py3-none-any.whl (308 kB)\n",
            "\u001b[K     |████████████████████████████████| 308 kB 26.0 MB/s \n",
            "\u001b[?25hRequirement already satisfied: PyYAML in /usr/local/lib/python3.7/dist-packages (from optuna) (3.13)\n",
            "Requirement already satisfied: tqdm in /usr/local/lib/python3.7/dist-packages (from optuna) (4.64.0)\n",
            "Requirement already satisfied: sqlalchemy>=1.1.0 in /usr/local/lib/python3.7/dist-packages (from optuna) (1.4.37)\n",
            "Collecting cmaes>=0.8.2\n",
            "  Downloading cmaes-0.8.2-py3-none-any.whl (15 kB)\n",
            "Requirement already satisfied: scipy!=1.4.0 in /usr/local/lib/python3.7/dist-packages (from optuna) (1.4.1)\n",
            "Collecting alembic\n",
            "  Downloading alembic-1.8.0-py3-none-any.whl (209 kB)\n",
            "\u001b[K     |████████████████████████████████| 209 kB 52.3 MB/s \n",
            "\u001b[?25hRequirement already satisfied: packaging>=20.0 in /usr/local/lib/python3.7/dist-packages (from optuna) (21.3)\n",
            "Requirement already satisfied: numpy in /usr/local/lib/python3.7/dist-packages (from optuna) (1.21.6)\n",
            "Collecting colorlog\n",
            "  Downloading colorlog-6.6.0-py2.py3-none-any.whl (11 kB)\n",
            "Collecting cliff\n",
            "  Downloading cliff-3.10.1-py3-none-any.whl (81 kB)\n",
            "\u001b[K     |████████████████████████████████| 81 kB 10.6 MB/s \n",
            "\u001b[?25hRequirement already satisfied: pyparsing!=3.0.5,>=2.0.2 in /usr/local/lib/python3.7/dist-packages (from packaging>=20.0->optuna) (3.0.9)\n",
            "Requirement already satisfied: importlib-metadata in /usr/local/lib/python3.7/dist-packages (from sqlalchemy>=1.1.0->optuna) (4.11.4)\n",
            "Requirement already satisfied: greenlet!=0.4.17 in /usr/local/lib/python3.7/dist-packages (from sqlalchemy>=1.1.0->optuna) (1.1.2)\n",
            "Requirement already satisfied: importlib-resources in /usr/local/lib/python3.7/dist-packages (from alembic->optuna) (5.7.1)\n",
            "Collecting Mako\n",
            "  Downloading Mako-1.2.0-py3-none-any.whl (78 kB)\n",
            "\u001b[K     |████████████████████████████████| 78 kB 5.5 MB/s \n",
            "\u001b[?25hRequirement already satisfied: PrettyTable>=0.7.2 in /usr/local/lib/python3.7/dist-packages (from cliff->optuna) (3.3.0)\n",
            "Collecting stevedore>=2.0.1\n",
            "  Downloading stevedore-3.5.0-py3-none-any.whl (49 kB)\n",
            "\u001b[K     |████████████████████████████████| 49 kB 6.6 MB/s \n",
            "\u001b[?25hCollecting cmd2>=1.0.0\n",
            "  Downloading cmd2-2.4.1-py3-none-any.whl (146 kB)\n",
            "\u001b[K     |████████████████████████████████| 146 kB 47.3 MB/s \n",
            "\u001b[?25hCollecting pbr!=2.1.0,>=2.0.0\n",
            "  Downloading pbr-5.9.0-py2.py3-none-any.whl (112 kB)\n",
            "\u001b[K     |████████████████████████████████| 112 kB 41.6 MB/s \n",
            "\u001b[?25hCollecting autopage>=0.4.0\n",
            "  Downloading autopage-0.5.1-py3-none-any.whl (29 kB)\n",
            "Requirement already satisfied: wcwidth>=0.1.7 in /usr/local/lib/python3.7/dist-packages (from cmd2>=1.0.0->cliff->optuna) (0.2.5)\n",
            "Requirement already satisfied: attrs>=16.3.0 in /usr/local/lib/python3.7/dist-packages (from cmd2>=1.0.0->cliff->optuna) (21.4.0)\n",
            "Collecting pyperclip>=1.6\n",
            "  Downloading pyperclip-1.8.2.tar.gz (20 kB)\n",
            "Requirement already satisfied: typing-extensions in /usr/local/lib/python3.7/dist-packages (from cmd2>=1.0.0->cliff->optuna) (4.1.1)\n",
            "Requirement already satisfied: zipp>=0.5 in /usr/local/lib/python3.7/dist-packages (from importlib-metadata->sqlalchemy>=1.1.0->optuna) (3.8.0)\n",
            "Requirement already satisfied: MarkupSafe>=0.9.2 in /usr/local/lib/python3.7/dist-packages (from Mako->alembic->optuna) (2.0.1)\n",
            "Building wheels for collected packages: pyperclip\n",
            "  Building wheel for pyperclip (setup.py) ... \u001b[?25l\u001b[?25hdone\n",
            "  Created wheel for pyperclip: filename=pyperclip-1.8.2-py3-none-any.whl size=11137 sha256=bd607584d14721f4dd528c47246e30e04516d02aafd32e4d0ec16f2f77ef1c82\n",
            "  Stored in directory: /root/.cache/pip/wheels/9f/18/84/8f69f8b08169c7bae2dde6bd7daf0c19fca8c8e500ee620a28\n",
            "Successfully built pyperclip\n",
            "Installing collected packages: pyperclip, pbr, stevedore, Mako, cmd2, autopage, colorlog, cmaes, cliff, alembic, optuna\n",
            "Successfully installed Mako-1.2.0 alembic-1.8.0 autopage-0.5.1 cliff-3.10.1 cmaes-0.8.2 cmd2-2.4.1 colorlog-6.6.0 optuna-2.10.1 pbr-5.9.0 pyperclip-1.8.2 stevedore-3.5.0\n"
          ]
        }
      ],
      "source": [
        "!pip install catboost\n",
        "!pip install optuna"
      ]
    },
    {
      "cell_type": "code",
      "execution_count": 3,
      "metadata": {
        "id": "FRZ9_FMQ0gjJ"
      },
      "outputs": [],
      "source": [
        "import pandas as pd\n",
        "import numpy as np\n",
        "\n",
        "import matplotlib.pyplot as plt\n",
        "import matplotlib.dates as mdates\n",
        "import seaborn as sns\n",
        "\n",
        "from sklearn.preprocessing import StandardScaler\n",
        "\n",
        "from sklearn.metrics import mean_absolute_error\n",
        "from sklearn.linear_model import LinearRegression\n",
        "from sklearn.ensemble import RandomForestRegressor\n",
        "import catboost as cb\n",
        "import optuna"
      ]
    },
    {
      "cell_type": "code",
      "execution_count": 4,
      "metadata": {
        "id": "oEl9OKF3yvBf"
      },
      "outputs": [],
      "source": [
        "df_arc = pd.read_csv('/content/final_steel/data_arc.csv')\n",
        "df_bulk = pd.read_csv('/content/final_steel/data_bulk.csv')\n",
        "df_bulk_time = pd.read_csv('/content/final_steel/data_bulk_time.csv')\n",
        "df_gas = pd.read_csv('/content/final_steel/data_gas.csv')\n",
        "df_temp = pd.read_csv('/content/final_steel/data_temp.csv')\n",
        "df_wire = pd.read_csv('/content/final_steel/data_wire.csv')\n",
        "df_wire_time = pd.read_csv('/content/final_steel/data_wire_time.csv')"
      ]
    },
    {
      "cell_type": "markdown",
      "metadata": {
        "id": "YcTkCDw00vMl"
      },
      "source": [
        "## Обзор данных"
      ]
    },
    {
      "cell_type": "markdown",
      "source": [
        "Произведем обзор полученных данных, по ходу будем сразу проводить предобработку и анализ данных"
      ],
      "metadata": {
        "id": "-e37_M5WOYK3"
      }
    },
    {
      "cell_type": "markdown",
      "metadata": {
        "id": "cZ29wqjC1kZl"
      },
      "source": [
        " ### df_arc"
      ]
    },
    {
      "cell_type": "code",
      "execution_count": 5,
      "metadata": {
        "colab": {
          "base_uri": "https://localhost:8080/",
          "height": 206
        },
        "id": "Z0P8ohRj0dqI",
        "outputId": "db253566-14d3-4cd9-a5d9-e5dcc2761cad"
      },
      "outputs": [
        {
          "output_type": "execute_result",
          "data": {
            "text/plain": [
              "   key Начало нагрева дугой  Конец нагрева дугой  Активная мощность  \\\n",
              "0    1  2019-05-03 11:02:14  2019-05-03 11:06:02           0.976059   \n",
              "1    1  2019-05-03 11:07:28  2019-05-03 11:10:33           0.805607   \n",
              "2    1  2019-05-03 11:11:44  2019-05-03 11:14:36           0.744363   \n",
              "3    1  2019-05-03 11:18:14  2019-05-03 11:24:19           1.659363   \n",
              "4    1  2019-05-03 11:26:09  2019-05-03 11:28:37           0.692755   \n",
              "\n",
              "   Реактивная мощность  \n",
              "0             0.687084  \n",
              "1             0.520285  \n",
              "2             0.498805  \n",
              "3             1.062669  \n",
              "4             0.414397  "
            ],
            "text/html": [
              "\n",
              "  <div id=\"df-9637305d-9621-4614-8de1-f3348ba65e33\">\n",
              "    <div class=\"colab-df-container\">\n",
              "      <div>\n",
              "<style scoped>\n",
              "    .dataframe tbody tr th:only-of-type {\n",
              "        vertical-align: middle;\n",
              "    }\n",
              "\n",
              "    .dataframe tbody tr th {\n",
              "        vertical-align: top;\n",
              "    }\n",
              "\n",
              "    .dataframe thead th {\n",
              "        text-align: right;\n",
              "    }\n",
              "</style>\n",
              "<table border=\"1\" class=\"dataframe\">\n",
              "  <thead>\n",
              "    <tr style=\"text-align: right;\">\n",
              "      <th></th>\n",
              "      <th>key</th>\n",
              "      <th>Начало нагрева дугой</th>\n",
              "      <th>Конец нагрева дугой</th>\n",
              "      <th>Активная мощность</th>\n",
              "      <th>Реактивная мощность</th>\n",
              "    </tr>\n",
              "  </thead>\n",
              "  <tbody>\n",
              "    <tr>\n",
              "      <th>0</th>\n",
              "      <td>1</td>\n",
              "      <td>2019-05-03 11:02:14</td>\n",
              "      <td>2019-05-03 11:06:02</td>\n",
              "      <td>0.976059</td>\n",
              "      <td>0.687084</td>\n",
              "    </tr>\n",
              "    <tr>\n",
              "      <th>1</th>\n",
              "      <td>1</td>\n",
              "      <td>2019-05-03 11:07:28</td>\n",
              "      <td>2019-05-03 11:10:33</td>\n",
              "      <td>0.805607</td>\n",
              "      <td>0.520285</td>\n",
              "    </tr>\n",
              "    <tr>\n",
              "      <th>2</th>\n",
              "      <td>1</td>\n",
              "      <td>2019-05-03 11:11:44</td>\n",
              "      <td>2019-05-03 11:14:36</td>\n",
              "      <td>0.744363</td>\n",
              "      <td>0.498805</td>\n",
              "    </tr>\n",
              "    <tr>\n",
              "      <th>3</th>\n",
              "      <td>1</td>\n",
              "      <td>2019-05-03 11:18:14</td>\n",
              "      <td>2019-05-03 11:24:19</td>\n",
              "      <td>1.659363</td>\n",
              "      <td>1.062669</td>\n",
              "    </tr>\n",
              "    <tr>\n",
              "      <th>4</th>\n",
              "      <td>1</td>\n",
              "      <td>2019-05-03 11:26:09</td>\n",
              "      <td>2019-05-03 11:28:37</td>\n",
              "      <td>0.692755</td>\n",
              "      <td>0.414397</td>\n",
              "    </tr>\n",
              "  </tbody>\n",
              "</table>\n",
              "</div>\n",
              "      <button class=\"colab-df-convert\" onclick=\"convertToInteractive('df-9637305d-9621-4614-8de1-f3348ba65e33')\"\n",
              "              title=\"Convert this dataframe to an interactive table.\"\n",
              "              style=\"display:none;\">\n",
              "        \n",
              "  <svg xmlns=\"http://www.w3.org/2000/svg\" height=\"24px\"viewBox=\"0 0 24 24\"\n",
              "       width=\"24px\">\n",
              "    <path d=\"M0 0h24v24H0V0z\" fill=\"none\"/>\n",
              "    <path d=\"M18.56 5.44l.94 2.06.94-2.06 2.06-.94-2.06-.94-.94-2.06-.94 2.06-2.06.94zm-11 1L8.5 8.5l.94-2.06 2.06-.94-2.06-.94L8.5 2.5l-.94 2.06-2.06.94zm10 10l.94 2.06.94-2.06 2.06-.94-2.06-.94-.94-2.06-.94 2.06-2.06.94z\"/><path d=\"M17.41 7.96l-1.37-1.37c-.4-.4-.92-.59-1.43-.59-.52 0-1.04.2-1.43.59L10.3 9.45l-7.72 7.72c-.78.78-.78 2.05 0 2.83L4 21.41c.39.39.9.59 1.41.59.51 0 1.02-.2 1.41-.59l7.78-7.78 2.81-2.81c.8-.78.8-2.07 0-2.86zM5.41 20L4 18.59l7.72-7.72 1.47 1.35L5.41 20z\"/>\n",
              "  </svg>\n",
              "      </button>\n",
              "      \n",
              "  <style>\n",
              "    .colab-df-container {\n",
              "      display:flex;\n",
              "      flex-wrap:wrap;\n",
              "      gap: 12px;\n",
              "    }\n",
              "\n",
              "    .colab-df-convert {\n",
              "      background-color: #E8F0FE;\n",
              "      border: none;\n",
              "      border-radius: 50%;\n",
              "      cursor: pointer;\n",
              "      display: none;\n",
              "      fill: #1967D2;\n",
              "      height: 32px;\n",
              "      padding: 0 0 0 0;\n",
              "      width: 32px;\n",
              "    }\n",
              "\n",
              "    .colab-df-convert:hover {\n",
              "      background-color: #E2EBFA;\n",
              "      box-shadow: 0px 1px 2px rgba(60, 64, 67, 0.3), 0px 1px 3px 1px rgba(60, 64, 67, 0.15);\n",
              "      fill: #174EA6;\n",
              "    }\n",
              "\n",
              "    [theme=dark] .colab-df-convert {\n",
              "      background-color: #3B4455;\n",
              "      fill: #D2E3FC;\n",
              "    }\n",
              "\n",
              "    [theme=dark] .colab-df-convert:hover {\n",
              "      background-color: #434B5C;\n",
              "      box-shadow: 0px 1px 3px 1px rgba(0, 0, 0, 0.15);\n",
              "      filter: drop-shadow(0px 1px 2px rgba(0, 0, 0, 0.3));\n",
              "      fill: #FFFFFF;\n",
              "    }\n",
              "  </style>\n",
              "\n",
              "      <script>\n",
              "        const buttonEl =\n",
              "          document.querySelector('#df-9637305d-9621-4614-8de1-f3348ba65e33 button.colab-df-convert');\n",
              "        buttonEl.style.display =\n",
              "          google.colab.kernel.accessAllowed ? 'block' : 'none';\n",
              "\n",
              "        async function convertToInteractive(key) {\n",
              "          const element = document.querySelector('#df-9637305d-9621-4614-8de1-f3348ba65e33');\n",
              "          const dataTable =\n",
              "            await google.colab.kernel.invokeFunction('convertToInteractive',\n",
              "                                                     [key], {});\n",
              "          if (!dataTable) return;\n",
              "\n",
              "          const docLinkHtml = 'Like what you see? Visit the ' +\n",
              "            '<a target=\"_blank\" href=https://colab.research.google.com/notebooks/data_table.ipynb>data table notebook</a>'\n",
              "            + ' to learn more about interactive tables.';\n",
              "          element.innerHTML = '';\n",
              "          dataTable['output_type'] = 'display_data';\n",
              "          await google.colab.output.renderOutput(dataTable, element);\n",
              "          const docLink = document.createElement('div');\n",
              "          docLink.innerHTML = docLinkHtml;\n",
              "          element.appendChild(docLink);\n",
              "        }\n",
              "      </script>\n",
              "    </div>\n",
              "  </div>\n",
              "  "
            ]
          },
          "metadata": {},
          "execution_count": 5
        }
      ],
      "source": [
        "df_arc.head()"
      ]
    },
    {
      "cell_type": "code",
      "execution_count": 6,
      "metadata": {
        "colab": {
          "base_uri": "https://localhost:8080/"
        },
        "id": "yJ1A5N3-05ga",
        "outputId": "11a667a0-a0b4-410f-e087-8dfb2490a113"
      },
      "outputs": [
        {
          "output_type": "stream",
          "name": "stdout",
          "text": [
            "<class 'pandas.core.frame.DataFrame'>\n",
            "RangeIndex: 14876 entries, 0 to 14875\n",
            "Data columns (total 5 columns):\n",
            " #   Column                Non-Null Count  Dtype  \n",
            "---  ------                --------------  -----  \n",
            " 0   key                   14876 non-null  int64  \n",
            " 1   Начало нагрева дугой  14876 non-null  object \n",
            " 2   Конец нагрева дугой   14876 non-null  object \n",
            " 3   Активная мощность     14876 non-null  float64\n",
            " 4   Реактивная мощность   14876 non-null  float64\n",
            "dtypes: float64(2), int64(1), object(2)\n",
            "memory usage: 581.2+ KB\n"
          ]
        }
      ],
      "source": [
        "df_arc.info()"
      ]
    },
    {
      "cell_type": "markdown",
      "source": [
        "TODO:\n",
        "1. изменить названия столбцов на англ.тип и строчные буквы\n",
        "2. изменить тип данных\n",
        "3. проверить на дубликаты"
      ],
      "metadata": {
        "id": "RaVTYXgWOn_9"
      }
    },
    {
      "cell_type": "markdown",
      "metadata": {
        "id": "HjtbMa-RCVVg"
      },
      "source": [
        "Переименование столбцов"
      ]
    },
    {
      "cell_type": "code",
      "execution_count": 7,
      "metadata": {
        "id": "ZOHrEYJ6_zEy"
      },
      "outputs": [],
      "source": [
        "df_arc.columns = ['key', 'start_heat', 'end_heat', 'real_power', 'reactiv_power']"
      ]
    },
    {
      "cell_type": "markdown",
      "metadata": {
        "id": "cs2B3IgHCYeK"
      },
      "source": [
        "Изменения типа столбцов"
      ]
    },
    {
      "cell_type": "code",
      "execution_count": 8,
      "metadata": {
        "id": "8KoMktKqA8MJ"
      },
      "outputs": [],
      "source": [
        "df_arc['start_heat'] = df_arc['start_heat'].astype('datetime64')\n",
        "df_arc['end_heat'] = df_arc['end_heat'].astype('datetime64')"
      ]
    },
    {
      "cell_type": "markdown",
      "metadata": {
        "id": "Dl0ER7dSCepp"
      },
      "source": [
        "Проверка на дубликаты"
      ]
    },
    {
      "cell_type": "code",
      "execution_count": 9,
      "metadata": {
        "colab": {
          "base_uri": "https://localhost:8080/"
        },
        "id": "Ptvfye96_zEy",
        "outputId": "45febc3a-eb63-4dc0-efe6-a9e3fb011ccb"
      },
      "outputs": [
        {
          "output_type": "execute_result",
          "data": {
            "text/plain": [
              "0"
            ]
          },
          "metadata": {},
          "execution_count": 9
        }
      ],
      "source": [
        "df_arc.duplicated().sum()"
      ]
    },
    {
      "cell_type": "markdown",
      "metadata": {
        "id": "t_91sDWAEwDJ"
      },
      "source": [
        "Построим пару графиков для того, чтобы лучше понимать наши данные."
      ]
    },
    {
      "cell_type": "code",
      "execution_count": 10,
      "metadata": {
        "id": "c8c2MLe_Q74n"
      },
      "outputs": [],
      "source": [
        "def plot_time(x,y, title):\n",
        "  '''\n",
        "  Функция для построения времянных графиков via matplotlib,\n",
        "  где x - времянной ряд,\n",
        "      y - изменяемая величина\n",
        "  '''\n",
        "  fig, ax = plt.subplots(constrained_layout=True)\n",
        "  locator = mdates.AutoDateLocator()\n",
        "  formatter = mdates.ConciseDateFormatter(locator)\n",
        "  ax.xaxis.set_major_locator(locator)\n",
        "  ax.xaxis.set_major_formatter(formatter)\n",
        "  ax.set_title(title)\n",
        "  ax.plot(x, y)"
      ]
    },
    {
      "cell_type": "code",
      "execution_count": 11,
      "metadata": {
        "colab": {
          "base_uri": "https://localhost:8080/",
          "height": 313
        },
        "id": "J7lA-NYHME02",
        "outputId": "2f41f158-c795-45d8-b9ba-52bc914e53fc"
      },
      "outputs": [
        {
          "output_type": "display_data",
          "data": {
            "text/plain": [
              "<Figure size 432x288 with 1 Axes>"
            ],
            "image/png": "[encoded data removed]"
          },
          "metadata": {
            "needs_background": "light"
          }
        }
      ],
      "source": [
        "x = df_arc['start_heat']\n",
        "y = df_arc['key']\n",
        "title = 'Значение k распределенное по времени'\n",
        "plot_time(x, y, title)"
      ]
    },
    {
      "cell_type": "code",
      "execution_count": 12,
      "metadata": {
        "colab": {
          "base_uri": "https://localhost:8080/",
          "height": 626
        },
        "id": "nCfymamZE3my",
        "outputId": "291354b0-1cc6-457b-eed0-8ad8832fc933"
      },
      "outputs": [
        {
          "output_type": "display_data",
          "data": {
            "text/plain": [
              "<Figure size 1152x648 with 1 Axes>"
            ],
            "image/png": "[encoded data removed]"
          },
          "metadata": {
            "needs_background": "light"
          }
        },
        {
          "output_type": "stream",
          "name": "stdout",
          "text": [
            "\n",
            "Среднее k: 4.628500311138768 (оранжевая линия)\n",
            "Медианное k: 4.0 (красная линия)\n"
          ]
        }
      ],
      "source": [
        "#Calculating parameters\n",
        "values = df_arc.groupby(['key'])['key'].count()\n",
        "mean = values.mean()\n",
        "median = values.median()\n",
        "bins = len(values.unique())\n",
        "\n",
        "#Plotting\n",
        "plt.figure(figsize=(16,9))\n",
        "plt.hist(values, bins=bins, linewidth=0.5, edgecolor='black')\n",
        "plt.xlabel('Значение k - номер партии', fontsize=16)\n",
        "plt.ylabel('Количество', fontsize=16)\n",
        "plt.title('Гистограмма распределения Значений k', fontsize=16)\n",
        "plt.axvline(x=mean, color='orange', label='MEAN')\n",
        "plt.axvline(x=median, color='red', label='MEDIAN')\n",
        "plt.legend()\n",
        "plt.grid()\n",
        "plt.show()\n",
        "\n",
        "#Text\n",
        "print()\n",
        "print(\"Среднее k:\", mean, '(оранжевая линия)')\n",
        "print(\"Медианное k:\", median, '(красная линия)')"
      ]
    },
    {
      "cell_type": "markdown",
      "metadata": {
        "id": "e6S7QSEo_zEy"
      },
      "source": [
        "Как видно из графиков, в промежутке между 9 и 16 сият \"брешь в данных\", то есть они не непрерывные. А так же у значения k \"жирный хвост\", то есть очень много выбросов в правой части нормального распределения k-значения. Увеличим масштаб интересующего нас места, а далее посмотрим на табличные данные"
      ]
    },
    {
      "cell_type": "code",
      "execution_count": 13,
      "metadata": {
        "colab": {
          "base_uri": "https://localhost:8080/",
          "height": 313
        },
        "id": "24uDC6FeQGIf",
        "outputId": "db0cddc2-c7eb-49f0-9bf2-4785251de509"
      },
      "outputs": [
        {
          "output_type": "display_data",
          "data": {
            "text/plain": [
              "<Figure size 432x288 with 1 Axes>"
            ],
            "image/png": "[encoded data removed]"
          },
          "metadata": {
            "needs_background": "light"
          }
        }
      ],
      "source": [
        "x = df_arc.query('\"2019-07-16\" >= start_heat >= \"2019-07-09\"')['start_heat']\n",
        "y = df_arc.query('\"2019-07-16\" >= start_heat >= \"2019-07-09\"')['key']\n",
        "title = 'Значение k распределенное по времени'\n",
        "plot_time(x, y, title)"
      ]
    },
    {
      "cell_type": "code",
      "execution_count": 14,
      "metadata": {
        "colab": {
          "base_uri": "https://localhost:8080/",
          "height": 300
        },
        "id": "FNFb9Fc5RqwC",
        "outputId": "e0636df0-c2cb-4715-f8fa-86b6787c35e2"
      },
      "outputs": [
        {
          "output_type": "execute_result",
          "data": {
            "text/plain": [
              "       key          start_heat            end_heat  real_power  reactiv_power\n",
              "8728  1899 2019-07-10 00:35:25 2019-07-10 00:37:32    0.416167       0.361145\n",
              "8729  1899 2019-07-10 00:44:50 2019-07-10 00:53:11    2.071217       1.714313\n",
              "8730  1899 2019-07-10 00:54:37 2019-07-10 00:57:52    0.872728       0.612388\n",
              "8731  1899 2019-07-10 00:59:13 2019-07-10 01:02:36    0.910008       0.616204\n",
              "8732  1899 2019-07-10 01:04:59 2019-07-10 01:05:55    0.242389       0.179130\n",
              "8733  1900 2019-07-14 23:17:28 2019-07-14 23:18:44    0.261596       0.203939\n",
              "8734  1900 2019-07-14 23:23:26 2019-07-14 23:27:21    0.770129       0.573527\n",
              "8735  1900 2019-07-14 23:51:38 2019-07-14 23:56:09    0.908687       0.813689"
            ],
            "text/html": [
              "\n",
              "  <div id=\"df-ef70a72e-d8ff-4d31-a8b9-c9b719d11df4\">\n",
              "    <div class=\"colab-df-container\">\n",
              "      <div>\n",
              "<style scoped>\n",
              "    .dataframe tbody tr th:only-of-type {\n",
              "        vertical-align: middle;\n",
              "    }\n",
              "\n",
              "    .dataframe tbody tr th {\n",
              "        vertical-align: top;\n",
              "    }\n",
              "\n",
              "    .dataframe thead th {\n",
              "        text-align: right;\n",
              "    }\n",
              "</style>\n",
              "<table border=\"1\" class=\"dataframe\">\n",
              "  <thead>\n",
              "    <tr style=\"text-align: right;\">\n",
              "      <th></th>\n",
              "      <th>key</th>\n",
              "      <th>start_heat</th>\n",
              "      <th>end_heat</th>\n",
              "      <th>real_power</th>\n",
              "      <th>reactiv_power</th>\n",
              "    </tr>\n",
              "  </thead>\n",
              "  <tbody>\n",
              "    <tr>\n",
              "      <th>8728</th>\n",
              "      <td>1899</td>\n",
              "      <td>2019-07-10 00:35:25</td>\n",
              "      <td>2019-07-10 00:37:32</td>\n",
              "      <td>0.416167</td>\n",
              "      <td>0.361145</td>\n",
              "    </tr>\n",
              "    <tr>\n",
              "      <th>8729</th>\n",
              "      <td>1899</td>\n",
              "      <td>2019-07-10 00:44:50</td>\n",
              "      <td>2019-07-10 00:53:11</td>\n",
              "      <td>2.071217</td>\n",
              "      <td>1.714313</td>\n",
              "    </tr>\n",
              "    <tr>\n",
              "      <th>8730</th>\n",
              "      <td>1899</td>\n",
              "      <td>2019-07-10 00:54:37</td>\n",
              "      <td>2019-07-10 00:57:52</td>\n",
              "      <td>0.872728</td>\n",
              "      <td>0.612388</td>\n",
              "    </tr>\n",
              "    <tr>\n",
              "      <th>8731</th>\n",
              "      <td>1899</td>\n",
              "      <td>2019-07-10 00:59:13</td>\n",
              "      <td>2019-07-10 01:02:36</td>\n",
              "      <td>0.910008</td>\n",
              "      <td>0.616204</td>\n",
              "    </tr>\n",
              "    <tr>\n",
              "      <th>8732</th>\n",
              "      <td>1899</td>\n",
              "      <td>2019-07-10 01:04:59</td>\n",
              "      <td>2019-07-10 01:05:55</td>\n",
              "      <td>0.242389</td>\n",
              "      <td>0.179130</td>\n",
              "    </tr>\n",
              "    <tr>\n",
              "      <th>8733</th>\n",
              "      <td>1900</td>\n",
              "      <td>2019-07-14 23:17:28</td>\n",
              "      <td>2019-07-14 23:18:44</td>\n",
              "      <td>0.261596</td>\n",
              "      <td>0.203939</td>\n",
              "    </tr>\n",
              "    <tr>\n",
              "      <th>8734</th>\n",
              "      <td>1900</td>\n",
              "      <td>2019-07-14 23:23:26</td>\n",
              "      <td>2019-07-14 23:27:21</td>\n",
              "      <td>0.770129</td>\n",
              "      <td>0.573527</td>\n",
              "    </tr>\n",
              "    <tr>\n",
              "      <th>8735</th>\n",
              "      <td>1900</td>\n",
              "      <td>2019-07-14 23:51:38</td>\n",
              "      <td>2019-07-14 23:56:09</td>\n",
              "      <td>0.908687</td>\n",
              "      <td>0.813689</td>\n",
              "    </tr>\n",
              "  </tbody>\n",
              "</table>\n",
              "</div>\n",
              "      <button class=\"colab-df-convert\" onclick=\"convertToInteractive('df-ef70a72e-d8ff-4d31-a8b9-c9b719d11df4')\"\n",
              "              title=\"Convert this dataframe to an interactive table.\"\n",
              "              style=\"display:none;\">\n",
              "        \n",
              "  <svg xmlns=\"http://www.w3.org/2000/svg\" height=\"24px\"viewBox=\"0 0 24 24\"\n",
              "       width=\"24px\">\n",
              "    <path d=\"M0 0h24v24H0V0z\" fill=\"none\"/>\n",
              "    <path d=\"M18.56 5.44l.94 2.06.94-2.06 2.06-.94-2.06-.94-.94-2.06-.94 2.06-2.06.94zm-11 1L8.5 8.5l.94-2.06 2.06-.94-2.06-.94L8.5 2.5l-.94 2.06-2.06.94zm10 10l.94 2.06.94-2.06 2.06-.94-2.06-.94-.94-2.06-.94 2.06-2.06.94z\"/><path d=\"M17.41 7.96l-1.37-1.37c-.4-.4-.92-.59-1.43-.59-.52 0-1.04.2-1.43.59L10.3 9.45l-7.72 7.72c-.78.78-.78 2.05 0 2.83L4 21.41c.39.39.9.59 1.41.59.51 0 1.02-.2 1.41-.59l7.78-7.78 2.81-2.81c.8-.78.8-2.07 0-2.86zM5.41 20L4 18.59l7.72-7.72 1.47 1.35L5.41 20z\"/>\n",
              "  </svg>\n",
              "      </button>\n",
              "      \n",
              "  <style>\n",
              "    .colab-df-container {\n",
              "      display:flex;\n",
              "      flex-wrap:wrap;\n",
              "      gap: 12px;\n",
              "    }\n",
              "\n",
              "    .colab-df-convert {\n",
              "      background-color: #E8F0FE;\n",
              "      border: none;\n",
              "      border-radius: 50%;\n",
              "      cursor: pointer;\n",
              "      display: none;\n",
              "      fill: #1967D2;\n",
              "      height: 32px;\n",
              "      padding: 0 0 0 0;\n",
              "      width: 32px;\n",
              "    }\n",
              "\n",
              "    .colab-df-convert:hover {\n",
              "      background-color: #E2EBFA;\n",
              "      box-shadow: 0px 1px 2px rgba(60, 64, 67, 0.3), 0px 1px 3px 1px rgba(60, 64, 67, 0.15);\n",
              "      fill: #174EA6;\n",
              "    }\n",
              "\n",
              "    [theme=dark] .colab-df-convert {\n",
              "      background-color: #3B4455;\n",
              "      fill: #D2E3FC;\n",
              "    }\n",
              "\n",
              "    [theme=dark] .colab-df-convert:hover {\n",
              "      background-color: #434B5C;\n",
              "      box-shadow: 0px 1px 3px 1px rgba(0, 0, 0, 0.15);\n",
              "      filter: drop-shadow(0px 1px 2px rgba(0, 0, 0, 0.3));\n",
              "      fill: #FFFFFF;\n",
              "    }\n",
              "  </style>\n",
              "\n",
              "      <script>\n",
              "        const buttonEl =\n",
              "          document.querySelector('#df-ef70a72e-d8ff-4d31-a8b9-c9b719d11df4 button.colab-df-convert');\n",
              "        buttonEl.style.display =\n",
              "          google.colab.kernel.accessAllowed ? 'block' : 'none';\n",
              "\n",
              "        async function convertToInteractive(key) {\n",
              "          const element = document.querySelector('#df-ef70a72e-d8ff-4d31-a8b9-c9b719d11df4');\n",
              "          const dataTable =\n",
              "            await google.colab.kernel.invokeFunction('convertToInteractive',\n",
              "                                                     [key], {});\n",
              "          if (!dataTable) return;\n",
              "\n",
              "          const docLinkHtml = 'Like what you see? Visit the ' +\n",
              "            '<a target=\"_blank\" href=https://colab.research.google.com/notebooks/data_table.ipynb>data table notebook</a>'\n",
              "            + ' to learn more about interactive tables.';\n",
              "          element.innerHTML = '';\n",
              "          dataTable['output_type'] = 'display_data';\n",
              "          await google.colab.output.renderOutput(dataTable, element);\n",
              "          const docLink = document.createElement('div');\n",
              "          docLink.innerHTML = docLinkHtml;\n",
              "          element.appendChild(docLink);\n",
              "        }\n",
              "      </script>\n",
              "    </div>\n",
              "  </div>\n",
              "  "
            ]
          },
          "metadata": {},
          "execution_count": 14
        }
      ],
      "source": [
        "df_arc.query('\"2019-07-15\" > start_heat > \"2019-07-10\"')"
      ]
    },
    {
      "cell_type": "markdown",
      "metadata": {
        "id": "7vjQ3MloTg8S"
      },
      "source": [
        "4 дня пропавших данных, надо будет это учесть при дальнейшем анализе. Далее посмотрим на выбросы в распределении значения k. Для определения границ возможных принимаемых значений будем руководствоваться правилом трех сигм, для этого напишем функцию."
      ]
    },
    {
      "cell_type": "code",
      "execution_count": 15,
      "metadata": {
        "colab": {
          "base_uri": "https://localhost:8080/"
        },
        "id": "fbLLTSioTxlC",
        "outputId": "aed5e890-6738-41f7-ab2c-6681b9116dd2"
      },
      "outputs": [
        {
          "output_type": "execute_result",
          "data": {
            "text/plain": [
              "count    3214.000000\n",
              "mean        4.628500\n",
              "std         1.608647\n",
              "min         1.000000\n",
              "25%         4.000000\n",
              "50%         4.000000\n",
              "75%         6.000000\n",
              "max        16.000000\n",
              "Name: key, dtype: float64"
            ]
          },
          "metadata": {},
          "execution_count": 15
        }
      ],
      "source": [
        "value_k = df_arc.groupby(['key'])['key'].count()\n",
        "value_k.describe()"
      ]
    },
    {
      "cell_type": "code",
      "execution_count": 16,
      "metadata": {
        "id": "1_pripZhoHPF"
      },
      "outputs": [],
      "source": [
        "def three_sigma(series):\n",
        "    return list([round(series.mean() - 3 * series.std(), 2), round(series.mean() + 3 * series.std(), 2)])"
      ]
    },
    {
      "cell_type": "code",
      "execution_count": 17,
      "metadata": {
        "colab": {
          "base_uri": "https://localhost:8080/"
        },
        "id": "7dc3OQoSoMoh",
        "outputId": "ab8e8eb9-0845-46db-be3c-f7481f500a15"
      },
      "outputs": [
        {
          "output_type": "stream",
          "name": "stdout",
          "text": [
            "Для текущей выборки k должно находится в пределах: -0.2 - 9.45\n"
          ]
        }
      ],
      "source": [
        "list_range_k = three_sigma(value_k)\n",
        "\n",
        "print('Для текущей выборки k должно находится в пределах:', list_range_k[0], '-', list_range_k[1])"
      ]
    },
    {
      "cell_type": "markdown",
      "metadata": {
        "id": "UB4k6UBrstx8"
      },
      "source": [
        "Пока изменять данные не будем, оставим этот вопрос на обсуждение с Тим-лидом."
      ]
    },
    {
      "cell_type": "code",
      "execution_count": 18,
      "metadata": {
        "colab": {
          "base_uri": "https://localhost:8080/"
        },
        "id": "x68fVg0Ftv2z",
        "outputId": "9564604f-c780-4802-b069-ed8db481b107"
      },
      "outputs": [
        {
          "output_type": "stream",
          "name": "stdout",
          "text": [
            "<class 'pandas.core.frame.DataFrame'>\n",
            "RangeIndex: 14876 entries, 0 to 14875\n",
            "Data columns (total 5 columns):\n",
            " #   Column         Non-Null Count  Dtype         \n",
            "---  ------         --------------  -----         \n",
            " 0   key            14876 non-null  int64         \n",
            " 1   start_heat     14876 non-null  datetime64[ns]\n",
            " 2   end_heat       14876 non-null  datetime64[ns]\n",
            " 3   real_power     14876 non-null  float64       \n",
            " 4   reactiv_power  14876 non-null  float64       \n",
            "dtypes: datetime64[ns](2), float64(2), int64(1)\n",
            "memory usage: 581.2 KB\n"
          ]
        }
      ],
      "source": [
        "df_arc.info()"
      ]
    },
    {
      "cell_type": "markdown",
      "metadata": {
        "id": "W-gKcgXFtUMl"
      },
      "source": [
        "Двигаемся дальше"
      ]
    },
    {
      "cell_type": "markdown",
      "metadata": {
        "id": "WSWIeO3J3G3t"
      },
      "source": [
        " ### df_bulk\n"
      ]
    },
    {
      "cell_type": "code",
      "execution_count": 19,
      "metadata": {
        "colab": {
          "base_uri": "https://localhost:8080/",
          "height": 206
        },
        "id": "madK2O2_3G3t",
        "outputId": "663272a4-1533-4a0f-fd44-ffb38e250206"
      },
      "outputs": [
        {
          "output_type": "execute_result",
          "data": {
            "text/plain": [
              "   key  Bulk 1  Bulk 2  Bulk 3  Bulk 4  Bulk 5  Bulk 6  Bulk 7  Bulk 8  \\\n",
              "0    1     NaN     NaN     NaN    43.0     NaN     NaN     NaN     NaN   \n",
              "1    2     NaN     NaN     NaN    73.0     NaN     NaN     NaN     NaN   \n",
              "2    3     NaN     NaN     NaN    34.0     NaN     NaN     NaN     NaN   \n",
              "3    4     NaN     NaN     NaN    81.0     NaN     NaN     NaN     NaN   \n",
              "4    5     NaN     NaN     NaN    78.0     NaN     NaN     NaN     NaN   \n",
              "\n",
              "   Bulk 9  Bulk 10  Bulk 11  Bulk 12  Bulk 13  Bulk 14  Bulk 15  \n",
              "0     NaN      NaN      NaN    206.0      NaN    150.0    154.0  \n",
              "1     NaN      NaN      NaN    206.0      NaN    149.0    154.0  \n",
              "2     NaN      NaN      NaN    205.0      NaN    152.0    153.0  \n",
              "3     NaN      NaN      NaN    207.0      NaN    153.0    154.0  \n",
              "4     NaN      NaN      NaN    203.0      NaN    151.0    152.0  "
            ],
            "text/html": [
              "\n",
              "  <div id=\"df-18ca51fc-a30a-4550-bed6-42e156b9ba51\">\n",
              "    <div class=\"colab-df-container\">\n",
              "      <div>\n",
              "<style scoped>\n",
              "    .dataframe tbody tr th:only-of-type {\n",
              "        vertical-align: middle;\n",
              "    }\n",
              "\n",
              "    .dataframe tbody tr th {\n",
              "        vertical-align: top;\n",
              "    }\n",
              "\n",
              "    .dataframe thead th {\n",
              "        text-align: right;\n",
              "    }\n",
              "</style>\n",
              "<table border=\"1\" class=\"dataframe\">\n",
              "  <thead>\n",
              "    <tr style=\"text-align: right;\">\n",
              "      <th></th>\n",
              "      <th>key</th>\n",
              "      <th>Bulk 1</th>\n",
              "      <th>Bulk 2</th>\n",
              "      <th>Bulk 3</th>\n",
              "      <th>Bulk 4</th>\n",
              "      <th>Bulk 5</th>\n",
              "      <th>Bulk 6</th>\n",
              "      <th>Bulk 7</th>\n",
              "      <th>Bulk 8</th>\n",
              "      <th>Bulk 9</th>\n",
              "      <th>Bulk 10</th>\n",
              "      <th>Bulk 11</th>\n",
              "      <th>Bulk 12</th>\n",
              "      <th>Bulk 13</th>\n",
              "      <th>Bulk 14</th>\n",
              "      <th>Bulk 15</th>\n",
              "    </tr>\n",
              "  </thead>\n",
              "  <tbody>\n",
              "    <tr>\n",
              "      <th>0</th>\n",
              "      <td>1</td>\n",
              "      <td>NaN</td>\n",
              "      <td>NaN</td>\n",
              "      <td>NaN</td>\n",
              "      <td>43.0</td>\n",
              "      <td>NaN</td>\n",
              "      <td>NaN</td>\n",
              "      <td>NaN</td>\n",
              "      <td>NaN</td>\n",
              "      <td>NaN</td>\n",
              "      <td>NaN</td>\n",
              "      <td>NaN</td>\n",
              "      <td>206.0</td>\n",
              "      <td>NaN</td>\n",
              "      <td>150.0</td>\n",
              "      <td>154.0</td>\n",
              "    </tr>\n",
              "    <tr>\n",
              "      <th>1</th>\n",
              "      <td>2</td>\n",
              "      <td>NaN</td>\n",
              "      <td>NaN</td>\n",
              "      <td>NaN</td>\n",
              "      <td>73.0</td>\n",
              "      <td>NaN</td>\n",
              "      <td>NaN</td>\n",
              "      <td>NaN</td>\n",
              "      <td>NaN</td>\n",
              "      <td>NaN</td>\n",
              "      <td>NaN</td>\n",
              "      <td>NaN</td>\n",
              "      <td>206.0</td>\n",
              "      <td>NaN</td>\n",
              "      <td>149.0</td>\n",
              "      <td>154.0</td>\n",
              "    </tr>\n",
              "    <tr>\n",
              "      <th>2</th>\n",
              "      <td>3</td>\n",
              "      <td>NaN</td>\n",
              "      <td>NaN</td>\n",
              "      <td>NaN</td>\n",
              "      <td>34.0</td>\n",
              "      <td>NaN</td>\n",
              "      <td>NaN</td>\n",
              "      <td>NaN</td>\n",
              "      <td>NaN</td>\n",
              "      <td>NaN</td>\n",
              "      <td>NaN</td>\n",
              "      <td>NaN</td>\n",
              "      <td>205.0</td>\n",
              "      <td>NaN</td>\n",
              "      <td>152.0</td>\n",
              "      <td>153.0</td>\n",
              "    </tr>\n",
              "    <tr>\n",
              "      <th>3</th>\n",
              "      <td>4</td>\n",
              "      <td>NaN</td>\n",
              "      <td>NaN</td>\n",
              "      <td>NaN</td>\n",
              "      <td>81.0</td>\n",
              "      <td>NaN</td>\n",
              "      <td>NaN</td>\n",
              "      <td>NaN</td>\n",
              "      <td>NaN</td>\n",
              "      <td>NaN</td>\n",
              "      <td>NaN</td>\n",
              "      <td>NaN</td>\n",
              "      <td>207.0</td>\n",
              "      <td>NaN</td>\n",
              "      <td>153.0</td>\n",
              "      <td>154.0</td>\n",
              "    </tr>\n",
              "    <tr>\n",
              "      <th>4</th>\n",
              "      <td>5</td>\n",
              "      <td>NaN</td>\n",
              "      <td>NaN</td>\n",
              "      <td>NaN</td>\n",
              "      <td>78.0</td>\n",
              "      <td>NaN</td>\n",
              "      <td>NaN</td>\n",
              "      <td>NaN</td>\n",
              "      <td>NaN</td>\n",
              "      <td>NaN</td>\n",
              "      <td>NaN</td>\n",
              "      <td>NaN</td>\n",
              "      <td>203.0</td>\n",
              "      <td>NaN</td>\n",
              "      <td>151.0</td>\n",
              "      <td>152.0</td>\n",
              "    </tr>\n",
              "  </tbody>\n",
              "</table>\n",
              "</div>\n",
              "      <button class=\"colab-df-convert\" onclick=\"convertToInteractive('df-18ca51fc-a30a-4550-bed6-42e156b9ba51')\"\n",
              "              title=\"Convert this dataframe to an interactive table.\"\n",
              "              style=\"display:none;\">\n",
              "        \n",
              "  <svg xmlns=\"http://www.w3.org/2000/svg\" height=\"24px\"viewBox=\"0 0 24 24\"\n",
              "       width=\"24px\">\n",
              "    <path d=\"M0 0h24v24H0V0z\" fill=\"none\"/>\n",
              "    <path d=\"M18.56 5.44l.94 2.06.94-2.06 2.06-.94-2.06-.94-.94-2.06-.94 2.06-2.06.94zm-11 1L8.5 8.5l.94-2.06 2.06-.94-2.06-.94L8.5 2.5l-.94 2.06-2.06.94zm10 10l.94 2.06.94-2.06 2.06-.94-2.06-.94-.94-2.06-.94 2.06-2.06.94z\"/><path d=\"M17.41 7.96l-1.37-1.37c-.4-.4-.92-.59-1.43-.59-.52 0-1.04.2-1.43.59L10.3 9.45l-7.72 7.72c-.78.78-.78 2.05 0 2.83L4 21.41c.39.39.9.59 1.41.59.51 0 1.02-.2 1.41-.59l7.78-7.78 2.81-2.81c.8-.78.8-2.07 0-2.86zM5.41 20L4 18.59l7.72-7.72 1.47 1.35L5.41 20z\"/>\n",
              "  </svg>\n",
              "      </button>\n",
              "      \n",
              "  <style>\n",
              "    .colab-df-container {\n",
              "      display:flex;\n",
              "      flex-wrap:wrap;\n",
              "      gap: 12px;\n",
              "    }\n",
              "\n",
              "    .colab-df-convert {\n",
              "      background-color: #E8F0FE;\n",
              "      border: none;\n",
              "      border-radius: 50%;\n",
              "      cursor: pointer;\n",
              "      display: none;\n",
              "      fill: #1967D2;\n",
              "      height: 32px;\n",
              "      padding: 0 0 0 0;\n",
              "      width: 32px;\n",
              "    }\n",
              "\n",
              "    .colab-df-convert:hover {\n",
              "      background-color: #E2EBFA;\n",
              "      box-shadow: 0px 1px 2px rgba(60, 64, 67, 0.3), 0px 1px 3px 1px rgba(60, 64, 67, 0.15);\n",
              "      fill: #174EA6;\n",
              "    }\n",
              "\n",
              "    [theme=dark] .colab-df-convert {\n",
              "      background-color: #3B4455;\n",
              "      fill: #D2E3FC;\n",
              "    }\n",
              "\n",
              "    [theme=dark] .colab-df-convert:hover {\n",
              "      background-color: #434B5C;\n",
              "      box-shadow: 0px 1px 3px 1px rgba(0, 0, 0, 0.15);\n",
              "      filter: drop-shadow(0px 1px 2px rgba(0, 0, 0, 0.3));\n",
              "      fill: #FFFFFF;\n",
              "    }\n",
              "  </style>\n",
              "\n",
              "      <script>\n",
              "        const buttonEl =\n",
              "          document.querySelector('#df-18ca51fc-a30a-4550-bed6-42e156b9ba51 button.colab-df-convert');\n",
              "        buttonEl.style.display =\n",
              "          google.colab.kernel.accessAllowed ? 'block' : 'none';\n",
              "\n",
              "        async function convertToInteractive(key) {\n",
              "          const element = document.querySelector('#df-18ca51fc-a30a-4550-bed6-42e156b9ba51');\n",
              "          const dataTable =\n",
              "            await google.colab.kernel.invokeFunction('convertToInteractive',\n",
              "                                                     [key], {});\n",
              "          if (!dataTable) return;\n",
              "\n",
              "          const docLinkHtml = 'Like what you see? Visit the ' +\n",
              "            '<a target=\"_blank\" href=https://colab.research.google.com/notebooks/data_table.ipynb>data table notebook</a>'\n",
              "            + ' to learn more about interactive tables.';\n",
              "          element.innerHTML = '';\n",
              "          dataTable['output_type'] = 'display_data';\n",
              "          await google.colab.output.renderOutput(dataTable, element);\n",
              "          const docLink = document.createElement('div');\n",
              "          docLink.innerHTML = docLinkHtml;\n",
              "          element.appendChild(docLink);\n",
              "        }\n",
              "      </script>\n",
              "    </div>\n",
              "  </div>\n",
              "  "
            ]
          },
          "metadata": {},
          "execution_count": 19
        }
      ],
      "source": [
        "df_bulk.head()"
      ]
    },
    {
      "cell_type": "code",
      "execution_count": 20,
      "metadata": {
        "colab": {
          "base_uri": "https://localhost:8080/"
        },
        "id": "lhML5AAk3G3u",
        "outputId": "57b6389c-7013-4974-f500-796cda2eb251"
      },
      "outputs": [
        {
          "output_type": "stream",
          "name": "stdout",
          "text": [
            "<class 'pandas.core.frame.DataFrame'>\n",
            "RangeIndex: 3129 entries, 0 to 3128\n",
            "Data columns (total 16 columns):\n",
            " #   Column   Non-Null Count  Dtype  \n",
            "---  ------   --------------  -----  \n",
            " 0   key      3129 non-null   int64  \n",
            " 1   Bulk 1   252 non-null    float64\n",
            " 2   Bulk 2   22 non-null     float64\n",
            " 3   Bulk 3   1298 non-null   float64\n",
            " 4   Bulk 4   1014 non-null   float64\n",
            " 5   Bulk 5   77 non-null     float64\n",
            " 6   Bulk 6   576 non-null    float64\n",
            " 7   Bulk 7   25 non-null     float64\n",
            " 8   Bulk 8   1 non-null      float64\n",
            " 9   Bulk 9   19 non-null     float64\n",
            " 10  Bulk 10  176 non-null    float64\n",
            " 11  Bulk 11  177 non-null    float64\n",
            " 12  Bulk 12  2450 non-null   float64\n",
            " 13  Bulk 13  18 non-null     float64\n",
            " 14  Bulk 14  2806 non-null   float64\n",
            " 15  Bulk 15  2248 non-null   float64\n",
            "dtypes: float64(15), int64(1)\n",
            "memory usage: 391.2 KB\n"
          ]
        }
      ],
      "source": [
        "df_bulk.info()"
      ]
    },
    {
      "cell_type": "markdown",
      "metadata": {
        "id": "MVnWrscg3G3v"
      },
      "source": [
        "TODO:\n",
        "1. изменить названия столбцов на англ.тип и строчные буквы\n",
        "2. проверить на дубликаты"
      ]
    },
    {
      "cell_type": "markdown",
      "metadata": {
        "id": "3JNbGz2Jwnao"
      },
      "source": [
        "Напишем короткую функцию для приведения названий столбцов к нужному виду, и содержание столбцов к нужному типу, а так же заполнению пропусков."
      ]
    },
    {
      "cell_type": "code",
      "execution_count": 21,
      "metadata": {
        "id": "QcwkR5cl5poX"
      },
      "outputs": [],
      "source": [
        "def prepare_table(table, time_flag=0):\n",
        "  '''\n",
        "  Функция изменяет названия столбцов, приводит столбцы к нужному типу (если в\n",
        "  таблице есть колонки с датами, и заполняет пропуски\n",
        "  ''' \n",
        "  \n",
        "  new_table = table.copy()\n",
        "  new_table.columns = ['_'.join(str(x).lower().split()) for x in new_table.columns]\n",
        "\n",
        "  if time_flag == 0:\n",
        "    new_table = new_table.fillna(0)\n",
        "\n",
        "  elif time_flag == 1:\n",
        "    list_to_change_type = set(new_table.columns) - set(['key'])\n",
        "    list_to_change_type = list(list_to_change_type)\n",
        "    new_table[list_to_change_type] = new_table[list_to_change_type].astype('datetime64[ns]')\n",
        "    new_table = new_table.fillna(pd.NaT)\n",
        "  \n",
        "  return new_table"
      ]
    },
    {
      "cell_type": "code",
      "execution_count": 22,
      "metadata": {
        "id": "1YnMxt0CxZdE"
      },
      "outputs": [],
      "source": [
        "df_bulk = prepare_table(df_bulk)"
      ]
    },
    {
      "cell_type": "code",
      "execution_count": 23,
      "metadata": {
        "colab": {
          "base_uri": "https://localhost:8080/"
        },
        "id": "fsz2xY7xTUwI",
        "outputId": "8b921f15-93c8-49c9-8847-8df3fd6417a6"
      },
      "outputs": [
        {
          "output_type": "execute_result",
          "data": {
            "text/plain": [
              "0"
            ]
          },
          "metadata": {},
          "execution_count": 23
        }
      ],
      "source": [
        "df_bulk.duplicated().sum()"
      ]
    },
    {
      "cell_type": "markdown",
      "metadata": {
        "id": "aolQjWNP1Ya-"
      },
      "source": [
        "Проверка"
      ]
    },
    {
      "cell_type": "code",
      "execution_count": 24,
      "metadata": {
        "colab": {
          "base_uri": "https://localhost:8080/"
        },
        "id": "r57qSL3v_zEz",
        "outputId": "a7926573-983e-4390-ec18-88b4ea8ff76e"
      },
      "outputs": [
        {
          "output_type": "stream",
          "name": "stdout",
          "text": [
            "<class 'pandas.core.frame.DataFrame'>\n",
            "RangeIndex: 3129 entries, 0 to 3128\n",
            "Data columns (total 16 columns):\n",
            " #   Column   Non-Null Count  Dtype  \n",
            "---  ------   --------------  -----  \n",
            " 0   key      3129 non-null   int64  \n",
            " 1   bulk_1   3129 non-null   float64\n",
            " 2   bulk_2   3129 non-null   float64\n",
            " 3   bulk_3   3129 non-null   float64\n",
            " 4   bulk_4   3129 non-null   float64\n",
            " 5   bulk_5   3129 non-null   float64\n",
            " 6   bulk_6   3129 non-null   float64\n",
            " 7   bulk_7   3129 non-null   float64\n",
            " 8   bulk_8   3129 non-null   float64\n",
            " 9   bulk_9   3129 non-null   float64\n",
            " 10  bulk_10  3129 non-null   float64\n",
            " 11  bulk_11  3129 non-null   float64\n",
            " 12  bulk_12  3129 non-null   float64\n",
            " 13  bulk_13  3129 non-null   float64\n",
            " 14  bulk_14  3129 non-null   float64\n",
            " 15  bulk_15  3129 non-null   float64\n",
            "dtypes: float64(15), int64(1)\n",
            "memory usage: 391.2 KB\n"
          ]
        }
      ],
      "source": [
        "df_bulk.info()"
      ]
    },
    {
      "cell_type": "markdown",
      "metadata": {
        "id": "iHFdzGhS3LcL"
      },
      "source": [
        " ### df_bulk_time"
      ]
    },
    {
      "cell_type": "code",
      "execution_count": 25,
      "metadata": {
        "colab": {
          "base_uri": "https://localhost:8080/",
          "height": 206
        },
        "id": "jK0oGmOl3LcM",
        "outputId": "a779eb23-d4d7-44fa-8aaf-27a9c5c76a65"
      },
      "outputs": [
        {
          "output_type": "execute_result",
          "data": {
            "text/plain": [
              "   key Bulk 1 Bulk 2 Bulk 3               Bulk 4 Bulk 5 Bulk 6 Bulk 7 Bulk 8  \\\n",
              "0    1    NaN    NaN    NaN  2019-05-03 11:21:30    NaN    NaN    NaN    NaN   \n",
              "1    2    NaN    NaN    NaN  2019-05-03 11:46:38    NaN    NaN    NaN    NaN   \n",
              "2    3    NaN    NaN    NaN  2019-05-03 12:31:06    NaN    NaN    NaN    NaN   \n",
              "3    4    NaN    NaN    NaN  2019-05-03 12:48:43    NaN    NaN    NaN    NaN   \n",
              "4    5    NaN    NaN    NaN  2019-05-03 13:18:50    NaN    NaN    NaN    NaN   \n",
              "\n",
              "  Bulk 9 Bulk 10 Bulk 11              Bulk 12 Bulk 13              Bulk 14  \\\n",
              "0    NaN     NaN     NaN  2019-05-03 11:03:52     NaN  2019-05-03 11:03:52   \n",
              "1    NaN     NaN     NaN  2019-05-03 11:40:20     NaN  2019-05-03 11:40:20   \n",
              "2    NaN     NaN     NaN  2019-05-03 12:09:40     NaN  2019-05-03 12:09:40   \n",
              "3    NaN     NaN     NaN  2019-05-03 12:41:24     NaN  2019-05-03 12:41:24   \n",
              "4    NaN     NaN     NaN  2019-05-03 13:12:56     NaN  2019-05-03 13:12:56   \n",
              "\n",
              "               Bulk 15  \n",
              "0  2019-05-03 11:03:52  \n",
              "1  2019-05-03 11:40:20  \n",
              "2  2019-05-03 12:09:40  \n",
              "3  2019-05-03 12:41:24  \n",
              "4  2019-05-03 13:12:56  "
            ],
            "text/html": [
              "\n",
              "  <div id=\"df-efdbb9dc-bd8d-403d-8fa3-ef1976cc1dc7\">\n",
              "    <div class=\"colab-df-container\">\n",
              "      <div>\n",
              "<style scoped>\n",
              "    .dataframe tbody tr th:only-of-type {\n",
              "        vertical-align: middle;\n",
              "    }\n",
              "\n",
              "    .dataframe tbody tr th {\n",
              "        vertical-align: top;\n",
              "    }\n",
              "\n",
              "    .dataframe thead th {\n",
              "        text-align: right;\n",
              "    }\n",
              "</style>\n",
              "<table border=\"1\" class=\"dataframe\">\n",
              "  <thead>\n",
              "    <tr style=\"text-align: right;\">\n",
              "      <th></th>\n",
              "      <th>key</th>\n",
              "      <th>Bulk 1</th>\n",
              "      <th>Bulk 2</th>\n",
              "      <th>Bulk 3</th>\n",
              "      <th>Bulk 4</th>\n",
              "      <th>Bulk 5</th>\n",
              "      <th>Bulk 6</th>\n",
              "      <th>Bulk 7</th>\n",
              "      <th>Bulk 8</th>\n",
              "      <th>Bulk 9</th>\n",
              "      <th>Bulk 10</th>\n",
              "      <th>Bulk 11</th>\n",
              "      <th>Bulk 12</th>\n",
              "      <th>Bulk 13</th>\n",
              "      <th>Bulk 14</th>\n",
              "      <th>Bulk 15</th>\n",
              "    </tr>\n",
              "  </thead>\n",
              "  <tbody>\n",
              "    <tr>\n",
              "      <th>0</th>\n",
              "      <td>1</td>\n",
              "      <td>NaN</td>\n",
              "      <td>NaN</td>\n",
              "      <td>NaN</td>\n",
              "      <td>2019-05-03 11:21:30</td>\n",
              "      <td>NaN</td>\n",
              "      <td>NaN</td>\n",
              "      <td>NaN</td>\n",
              "      <td>NaN</td>\n",
              "      <td>NaN</td>\n",
              "      <td>NaN</td>\n",
              "      <td>NaN</td>\n",
              "      <td>2019-05-03 11:03:52</td>\n",
              "      <td>NaN</td>\n",
              "      <td>2019-05-03 11:03:52</td>\n",
              "      <td>2019-05-03 11:03:52</td>\n",
              "    </tr>\n",
              "    <tr>\n",
              "      <th>1</th>\n",
              "      <td>2</td>\n",
              "      <td>NaN</td>\n",
              "      <td>NaN</td>\n",
              "      <td>NaN</td>\n",
              "      <td>2019-05-03 11:46:38</td>\n",
              "      <td>NaN</td>\n",
              "      <td>NaN</td>\n",
              "      <td>NaN</td>\n",
              "      <td>NaN</td>\n",
              "      <td>NaN</td>\n",
              "      <td>NaN</td>\n",
              "      <td>NaN</td>\n",
              "      <td>2019-05-03 11:40:20</td>\n",
              "      <td>NaN</td>\n",
              "      <td>2019-05-03 11:40:20</td>\n",
              "      <td>2019-05-03 11:40:20</td>\n",
              "    </tr>\n",
              "    <tr>\n",
              "      <th>2</th>\n",
              "      <td>3</td>\n",
              "      <td>NaN</td>\n",
              "      <td>NaN</td>\n",
              "      <td>NaN</td>\n",
              "      <td>2019-05-03 12:31:06</td>\n",
              "      <td>NaN</td>\n",
              "      <td>NaN</td>\n",
              "      <td>NaN</td>\n",
              "      <td>NaN</td>\n",
              "      <td>NaN</td>\n",
              "      <td>NaN</td>\n",
              "      <td>NaN</td>\n",
              "      <td>2019-05-03 12:09:40</td>\n",
              "      <td>NaN</td>\n",
              "      <td>2019-05-03 12:09:40</td>\n",
              "      <td>2019-05-03 12:09:40</td>\n",
              "    </tr>\n",
              "    <tr>\n",
              "      <th>3</th>\n",
              "      <td>4</td>\n",
              "      <td>NaN</td>\n",
              "      <td>NaN</td>\n",
              "      <td>NaN</td>\n",
              "      <td>2019-05-03 12:48:43</td>\n",
              "      <td>NaN</td>\n",
              "      <td>NaN</td>\n",
              "      <td>NaN</td>\n",
              "      <td>NaN</td>\n",
              "      <td>NaN</td>\n",
              "      <td>NaN</td>\n",
              "      <td>NaN</td>\n",
              "      <td>2019-05-03 12:41:24</td>\n",
              "      <td>NaN</td>\n",
              "      <td>2019-05-03 12:41:24</td>\n",
              "      <td>2019-05-03 12:41:24</td>\n",
              "    </tr>\n",
              "    <tr>\n",
              "      <th>4</th>\n",
              "      <td>5</td>\n",
              "      <td>NaN</td>\n",
              "      <td>NaN</td>\n",
              "      <td>NaN</td>\n",
              "      <td>2019-05-03 13:18:50</td>\n",
              "      <td>NaN</td>\n",
              "      <td>NaN</td>\n",
              "      <td>NaN</td>\n",
              "      <td>NaN</td>\n",
              "      <td>NaN</td>\n",
              "      <td>NaN</td>\n",
              "      <td>NaN</td>\n",
              "      <td>2019-05-03 13:12:56</td>\n",
              "      <td>NaN</td>\n",
              "      <td>2019-05-03 13:12:56</td>\n",
              "      <td>2019-05-03 13:12:56</td>\n",
              "    </tr>\n",
              "  </tbody>\n",
              "</table>\n",
              "</div>\n",
              "      <button class=\"colab-df-convert\" onclick=\"convertToInteractive('df-efdbb9dc-bd8d-403d-8fa3-ef1976cc1dc7')\"\n",
              "              title=\"Convert this dataframe to an interactive table.\"\n",
              "              style=\"display:none;\">\n",
              "        \n",
              "  <svg xmlns=\"http://www.w3.org/2000/svg\" height=\"24px\"viewBox=\"0 0 24 24\"\n",
              "       width=\"24px\">\n",
              "    <path d=\"M0 0h24v24H0V0z\" fill=\"none\"/>\n",
              "    <path d=\"M18.56 5.44l.94 2.06.94-2.06 2.06-.94-2.06-.94-.94-2.06-.94 2.06-2.06.94zm-11 1L8.5 8.5l.94-2.06 2.06-.94-2.06-.94L8.5 2.5l-.94 2.06-2.06.94zm10 10l.94 2.06.94-2.06 2.06-.94-2.06-.94-.94-2.06-.94 2.06-2.06.94z\"/><path d=\"M17.41 7.96l-1.37-1.37c-.4-.4-.92-.59-1.43-.59-.52 0-1.04.2-1.43.59L10.3 9.45l-7.72 7.72c-.78.78-.78 2.05 0 2.83L4 21.41c.39.39.9.59 1.41.59.51 0 1.02-.2 1.41-.59l7.78-7.78 2.81-2.81c.8-.78.8-2.07 0-2.86zM5.41 20L4 18.59l7.72-7.72 1.47 1.35L5.41 20z\"/>\n",
              "  </svg>\n",
              "      </button>\n",
              "      \n",
              "  <style>\n",
              "    .colab-df-container {\n",
              "      display:flex;\n",
              "      flex-wrap:wrap;\n",
              "      gap: 12px;\n",
              "    }\n",
              "\n",
              "    .colab-df-convert {\n",
              "      background-color: #E8F0FE;\n",
              "      border: none;\n",
              "      border-radius: 50%;\n",
              "      cursor: pointer;\n",
              "      display: none;\n",
              "      fill: #1967D2;\n",
              "      height: 32px;\n",
              "      padding: 0 0 0 0;\n",
              "      width: 32px;\n",
              "    }\n",
              "\n",
              "    .colab-df-convert:hover {\n",
              "      background-color: #E2EBFA;\n",
              "      box-shadow: 0px 1px 2px rgba(60, 64, 67, 0.3), 0px 1px 3px 1px rgba(60, 64, 67, 0.15);\n",
              "      fill: #174EA6;\n",
              "    }\n",
              "\n",
              "    [theme=dark] .colab-df-convert {\n",
              "      background-color: #3B4455;\n",
              "      fill: #D2E3FC;\n",
              "    }\n",
              "\n",
              "    [theme=dark] .colab-df-convert:hover {\n",
              "      background-color: #434B5C;\n",
              "      box-shadow: 0px 1px 3px 1px rgba(0, 0, 0, 0.15);\n",
              "      filter: drop-shadow(0px 1px 2px rgba(0, 0, 0, 0.3));\n",
              "      fill: #FFFFFF;\n",
              "    }\n",
              "  </style>\n",
              "\n",
              "      <script>\n",
              "        const buttonEl =\n",
              "          document.querySelector('#df-efdbb9dc-bd8d-403d-8fa3-ef1976cc1dc7 button.colab-df-convert');\n",
              "        buttonEl.style.display =\n",
              "          google.colab.kernel.accessAllowed ? 'block' : 'none';\n",
              "\n",
              "        async function convertToInteractive(key) {\n",
              "          const element = document.querySelector('#df-efdbb9dc-bd8d-403d-8fa3-ef1976cc1dc7');\n",
              "          const dataTable =\n",
              "            await google.colab.kernel.invokeFunction('convertToInteractive',\n",
              "                                                     [key], {});\n",
              "          if (!dataTable) return;\n",
              "\n",
              "          const docLinkHtml = 'Like what you see? Visit the ' +\n",
              "            '<a target=\"_blank\" href=https://colab.research.google.com/notebooks/data_table.ipynb>data table notebook</a>'\n",
              "            + ' to learn more about interactive tables.';\n",
              "          element.innerHTML = '';\n",
              "          dataTable['output_type'] = 'display_data';\n",
              "          await google.colab.output.renderOutput(dataTable, element);\n",
              "          const docLink = document.createElement('div');\n",
              "          docLink.innerHTML = docLinkHtml;\n",
              "          element.appendChild(docLink);\n",
              "        }\n",
              "      </script>\n",
              "    </div>\n",
              "  </div>\n",
              "  "
            ]
          },
          "metadata": {},
          "execution_count": 25
        }
      ],
      "source": [
        "df_bulk_time.head()"
      ]
    },
    {
      "cell_type": "code",
      "execution_count": 26,
      "metadata": {
        "colab": {
          "base_uri": "https://localhost:8080/"
        },
        "id": "T_xKenJm3LcM",
        "outputId": "d8ce350a-5e92-48e9-fef8-bba33f262d59"
      },
      "outputs": [
        {
          "output_type": "stream",
          "name": "stdout",
          "text": [
            "<class 'pandas.core.frame.DataFrame'>\n",
            "RangeIndex: 3129 entries, 0 to 3128\n",
            "Data columns (total 16 columns):\n",
            " #   Column   Non-Null Count  Dtype \n",
            "---  ------   --------------  ----- \n",
            " 0   key      3129 non-null   int64 \n",
            " 1   Bulk 1   252 non-null    object\n",
            " 2   Bulk 2   22 non-null     object\n",
            " 3   Bulk 3   1298 non-null   object\n",
            " 4   Bulk 4   1014 non-null   object\n",
            " 5   Bulk 5   77 non-null     object\n",
            " 6   Bulk 6   576 non-null    object\n",
            " 7   Bulk 7   25 non-null     object\n",
            " 8   Bulk 8   1 non-null      object\n",
            " 9   Bulk 9   19 non-null     object\n",
            " 10  Bulk 10  176 non-null    object\n",
            " 11  Bulk 11  177 non-null    object\n",
            " 12  Bulk 12  2450 non-null   object\n",
            " 13  Bulk 13  18 non-null     object\n",
            " 14  Bulk 14  2806 non-null   object\n",
            " 15  Bulk 15  2248 non-null   object\n",
            "dtypes: int64(1), object(15)\n",
            "memory usage: 391.2+ KB\n"
          ]
        }
      ],
      "source": [
        "df_bulk_time.info()"
      ]
    },
    {
      "cell_type": "markdown",
      "metadata": {
        "id": "x7usYD293LcN"
      },
      "source": [
        "TODO:\n",
        "1. изменить названия столбцов на англ.тип и строчные буквы\n",
        "2. преобразовать тип столбцов к дате\n",
        "3. проверить на дубликаты\n",
        "4. Пропуски аналогично"
      ]
    },
    {
      "cell_type": "code",
      "execution_count": 27,
      "metadata": {
        "id": "ayh8apNv3V1L"
      },
      "outputs": [],
      "source": [
        "df_bulk_time = prepare_table(df_bulk_time, 1)"
      ]
    },
    {
      "cell_type": "code",
      "execution_count": 28,
      "metadata": {
        "colab": {
          "base_uri": "https://localhost:8080/"
        },
        "id": "dencRpDvTYwd",
        "outputId": "d630798b-4ffb-45c3-edfb-b2683ec9e75d"
      },
      "outputs": [
        {
          "output_type": "execute_result",
          "data": {
            "text/plain": [
              "0"
            ]
          },
          "metadata": {},
          "execution_count": 28
        }
      ],
      "source": [
        "df_bulk_time.duplicated().sum()"
      ]
    },
    {
      "cell_type": "code",
      "execution_count": 29,
      "metadata": {
        "colab": {
          "base_uri": "https://localhost:8080/"
        },
        "id": "jhcvfIHI_zE0",
        "outputId": "b441c48d-8354-4ce9-e7bf-55561dbb1b97"
      },
      "outputs": [
        {
          "output_type": "stream",
          "name": "stdout",
          "text": [
            "<class 'pandas.core.frame.DataFrame'>\n",
            "RangeIndex: 3129 entries, 0 to 3128\n",
            "Data columns (total 16 columns):\n",
            " #   Column   Non-Null Count  Dtype         \n",
            "---  ------   --------------  -----         \n",
            " 0   key      3129 non-null   int64         \n",
            " 1   bulk_1   252 non-null    datetime64[ns]\n",
            " 2   bulk_2   22 non-null     datetime64[ns]\n",
            " 3   bulk_3   1298 non-null   datetime64[ns]\n",
            " 4   bulk_4   1014 non-null   datetime64[ns]\n",
            " 5   bulk_5   77 non-null     datetime64[ns]\n",
            " 6   bulk_6   576 non-null    datetime64[ns]\n",
            " 7   bulk_7   25 non-null     datetime64[ns]\n",
            " 8   bulk_8   1 non-null      datetime64[ns]\n",
            " 9   bulk_9   19 non-null     datetime64[ns]\n",
            " 10  bulk_10  176 non-null    datetime64[ns]\n",
            " 11  bulk_11  177 non-null    datetime64[ns]\n",
            " 12  bulk_12  2450 non-null   datetime64[ns]\n",
            " 13  bulk_13  18 non-null     datetime64[ns]\n",
            " 14  bulk_14  2806 non-null   datetime64[ns]\n",
            " 15  bulk_15  2248 non-null   datetime64[ns]\n",
            "dtypes: datetime64[ns](15), int64(1)\n",
            "memory usage: 391.2 KB\n"
          ]
        }
      ],
      "source": [
        "df_bulk_time.info()"
      ]
    },
    {
      "cell_type": "markdown",
      "metadata": {
        "id": "S3cgjj1D3M_M"
      },
      "source": [
        " ### df_gas"
      ]
    },
    {
      "cell_type": "code",
      "execution_count": 30,
      "metadata": {
        "colab": {
          "base_uri": "https://localhost:8080/",
          "height": 206
        },
        "id": "tpTYyn_k3M_M",
        "outputId": "a10f27dd-e8b2-4f53-bf8d-95cbb6189d22"
      },
      "outputs": [
        {
          "output_type": "execute_result",
          "data": {
            "text/plain": [
              "   key      Газ 1\n",
              "0    1  29.749986\n",
              "1    2  12.555561\n",
              "2    3  28.554793\n",
              "3    4  18.841219\n",
              "4    5   5.413692"
            ],
            "text/html": [
              "\n",
              "  <div id=\"df-3c4d83c1-583d-41a6-ac68-0dba307a371c\">\n",
              "    <div class=\"colab-df-container\">\n",
              "      <div>\n",
              "<style scoped>\n",
              "    .dataframe tbody tr th:only-of-type {\n",
              "        vertical-align: middle;\n",
              "    }\n",
              "\n",
              "    .dataframe tbody tr th {\n",
              "        vertical-align: top;\n",
              "    }\n",
              "\n",
              "    .dataframe thead th {\n",
              "        text-align: right;\n",
              "    }\n",
              "</style>\n",
              "<table border=\"1\" class=\"dataframe\">\n",
              "  <thead>\n",
              "    <tr style=\"text-align: right;\">\n",
              "      <th></th>\n",
              "      <th>key</th>\n",
              "      <th>Газ 1</th>\n",
              "    </tr>\n",
              "  </thead>\n",
              "  <tbody>\n",
              "    <tr>\n",
              "      <th>0</th>\n",
              "      <td>1</td>\n",
              "      <td>29.749986</td>\n",
              "    </tr>\n",
              "    <tr>\n",
              "      <th>1</th>\n",
              "      <td>2</td>\n",
              "      <td>12.555561</td>\n",
              "    </tr>\n",
              "    <tr>\n",
              "      <th>2</th>\n",
              "      <td>3</td>\n",
              "      <td>28.554793</td>\n",
              "    </tr>\n",
              "    <tr>\n",
              "      <th>3</th>\n",
              "      <td>4</td>\n",
              "      <td>18.841219</td>\n",
              "    </tr>\n",
              "    <tr>\n",
              "      <th>4</th>\n",
              "      <td>5</td>\n",
              "      <td>5.413692</td>\n",
              "    </tr>\n",
              "  </tbody>\n",
              "</table>\n",
              "</div>\n",
              "      <button class=\"colab-df-convert\" onclick=\"convertToInteractive('df-3c4d83c1-583d-41a6-ac68-0dba307a371c')\"\n",
              "              title=\"Convert this dataframe to an interactive table.\"\n",
              "              style=\"display:none;\">\n",
              "        \n",
              "  <svg xmlns=\"http://www.w3.org/2000/svg\" height=\"24px\"viewBox=\"0 0 24 24\"\n",
              "       width=\"24px\">\n",
              "    <path d=\"M0 0h24v24H0V0z\" fill=\"none\"/>\n",
              "    <path d=\"M18.56 5.44l.94 2.06.94-2.06 2.06-.94-2.06-.94-.94-2.06-.94 2.06-2.06.94zm-11 1L8.5 8.5l.94-2.06 2.06-.94-2.06-.94L8.5 2.5l-.94 2.06-2.06.94zm10 10l.94 2.06.94-2.06 2.06-.94-2.06-.94-.94-2.06-.94 2.06-2.06.94z\"/><path d=\"M17.41 7.96l-1.37-1.37c-.4-.4-.92-.59-1.43-.59-.52 0-1.04.2-1.43.59L10.3 9.45l-7.72 7.72c-.78.78-.78 2.05 0 2.83L4 21.41c.39.39.9.59 1.41.59.51 0 1.02-.2 1.41-.59l7.78-7.78 2.81-2.81c.8-.78.8-2.07 0-2.86zM5.41 20L4 18.59l7.72-7.72 1.47 1.35L5.41 20z\"/>\n",
              "  </svg>\n",
              "      </button>\n",
              "      \n",
              "  <style>\n",
              "    .colab-df-container {\n",
              "      display:flex;\n",
              "      flex-wrap:wrap;\n",
              "      gap: 12px;\n",
              "    }\n",
              "\n",
              "    .colab-df-convert {\n",
              "      background-color: #E8F0FE;\n",
              "      border: none;\n",
              "      border-radius: 50%;\n",
              "      cursor: pointer;\n",
              "      display: none;\n",
              "      fill: #1967D2;\n",
              "      height: 32px;\n",
              "      padding: 0 0 0 0;\n",
              "      width: 32px;\n",
              "    }\n",
              "\n",
              "    .colab-df-convert:hover {\n",
              "      background-color: #E2EBFA;\n",
              "      box-shadow: 0px 1px 2px rgba(60, 64, 67, 0.3), 0px 1px 3px 1px rgba(60, 64, 67, 0.15);\n",
              "      fill: #174EA6;\n",
              "    }\n",
              "\n",
              "    [theme=dark] .colab-df-convert {\n",
              "      background-color: #3B4455;\n",
              "      fill: #D2E3FC;\n",
              "    }\n",
              "\n",
              "    [theme=dark] .colab-df-convert:hover {\n",
              "      background-color: #434B5C;\n",
              "      box-shadow: 0px 1px 3px 1px rgba(0, 0, 0, 0.15);\n",
              "      filter: drop-shadow(0px 1px 2px rgba(0, 0, 0, 0.3));\n",
              "      fill: #FFFFFF;\n",
              "    }\n",
              "  </style>\n",
              "\n",
              "      <script>\n",
              "        const buttonEl =\n",
              "          document.querySelector('#df-3c4d83c1-583d-41a6-ac68-0dba307a371c button.colab-df-convert');\n",
              "        buttonEl.style.display =\n",
              "          google.colab.kernel.accessAllowed ? 'block' : 'none';\n",
              "\n",
              "        async function convertToInteractive(key) {\n",
              "          const element = document.querySelector('#df-3c4d83c1-583d-41a6-ac68-0dba307a371c');\n",
              "          const dataTable =\n",
              "            await google.colab.kernel.invokeFunction('convertToInteractive',\n",
              "                                                     [key], {});\n",
              "          if (!dataTable) return;\n",
              "\n",
              "          const docLinkHtml = 'Like what you see? Visit the ' +\n",
              "            '<a target=\"_blank\" href=https://colab.research.google.com/notebooks/data_table.ipynb>data table notebook</a>'\n",
              "            + ' to learn more about interactive tables.';\n",
              "          element.innerHTML = '';\n",
              "          dataTable['output_type'] = 'display_data';\n",
              "          await google.colab.output.renderOutput(dataTable, element);\n",
              "          const docLink = document.createElement('div');\n",
              "          docLink.innerHTML = docLinkHtml;\n",
              "          element.appendChild(docLink);\n",
              "        }\n",
              "      </script>\n",
              "    </div>\n",
              "  </div>\n",
              "  "
            ]
          },
          "metadata": {},
          "execution_count": 30
        }
      ],
      "source": [
        "df_gas.head()"
      ]
    },
    {
      "cell_type": "code",
      "execution_count": 31,
      "metadata": {
        "colab": {
          "base_uri": "https://localhost:8080/"
        },
        "id": "JHcCu8Wr3M_M",
        "outputId": "64e1477e-7def-4fa4-8db9-bd23b2af1dcc"
      },
      "outputs": [
        {
          "output_type": "stream",
          "name": "stdout",
          "text": [
            "<class 'pandas.core.frame.DataFrame'>\n",
            "RangeIndex: 3239 entries, 0 to 3238\n",
            "Data columns (total 2 columns):\n",
            " #   Column  Non-Null Count  Dtype  \n",
            "---  ------  --------------  -----  \n",
            " 0   key     3239 non-null   int64  \n",
            " 1   Газ 1   3239 non-null   float64\n",
            "dtypes: float64(1), int64(1)\n",
            "memory usage: 50.7 KB\n"
          ]
        }
      ],
      "source": [
        "df_gas.info()"
      ]
    },
    {
      "cell_type": "markdown",
      "metadata": {
        "id": "KCUCAQui3M_N"
      },
      "source": [
        "Пропусков нет, TODO:\n",
        "1. изменить названия столбцов на англ.тип и строчные буквы\n",
        "2. проверить на дубликаты"
      ]
    },
    {
      "cell_type": "code",
      "execution_count": 32,
      "metadata": {
        "id": "QSgDUgmvA8jg"
      },
      "outputs": [],
      "source": [
        "df_gas.columns = ['key', 'gas_1']"
      ]
    },
    {
      "cell_type": "code",
      "execution_count": 33,
      "metadata": {
        "colab": {
          "base_uri": "https://localhost:8080/"
        },
        "id": "UuKPPjeDTe5p",
        "outputId": "9d649ebe-8868-4aac-f7e8-23f5ee259d03"
      },
      "outputs": [
        {
          "output_type": "execute_result",
          "data": {
            "text/plain": [
              "0"
            ]
          },
          "metadata": {},
          "execution_count": 33
        }
      ],
      "source": [
        "df_gas.duplicated().sum()"
      ]
    },
    {
      "cell_type": "code",
      "execution_count": 34,
      "metadata": {
        "colab": {
          "base_uri": "https://localhost:8080/"
        },
        "id": "6yvU4uhQ_zE0",
        "outputId": "a6c4492b-9d82-4e46-b315-99d01c010af8"
      },
      "outputs": [
        {
          "output_type": "stream",
          "name": "stdout",
          "text": [
            "<class 'pandas.core.frame.DataFrame'>\n",
            "RangeIndex: 3239 entries, 0 to 3238\n",
            "Data columns (total 2 columns):\n",
            " #   Column  Non-Null Count  Dtype  \n",
            "---  ------  --------------  -----  \n",
            " 0   key     3239 non-null   int64  \n",
            " 1   gas_1   3239 non-null   float64\n",
            "dtypes: float64(1), int64(1)\n",
            "memory usage: 50.7 KB\n"
          ]
        }
      ],
      "source": [
        "df_gas.info()"
      ]
    },
    {
      "cell_type": "markdown",
      "metadata": {
        "id": "lH9CyCwHBcVY"
      },
      "source": [
        "Очень странно, что значений k в данной таблице на 100+ больше, чем в других. Проверим каких значений k нет в диапазоне от 1 до 3241 для каждой таблицы"
      ]
    },
    {
      "cell_type": "code",
      "execution_count": 35,
      "metadata": {
        "id": "BvX5swwHIIT4"
      },
      "outputs": [],
      "source": [
        "list_k_all = list(range(1,3242))\n",
        "tables = [df_arc, df_bulk, df_bulk_time, df_gas, df_wire, df_wire_time, df_temp]\n",
        "tables_names = ['df_arc', 'df_bulk', 'df_bulk_time', 'df_gas', 'df_wire', 'df_wire_time', 'df_temp']"
      ]
    },
    {
      "cell_type": "code",
      "execution_count": 36,
      "metadata": {
        "colab": {
          "base_uri": "https://localhost:8080/"
        },
        "id": "7TuKDCNUIrk8",
        "outputId": "c7e985bc-2348-4d8f-bd87-0d3cfa392dc1"
      },
      "outputs": [
        {
          "output_type": "stream",
          "name": "stdout",
          "text": [
            "В Таблице  df_arc \tне хватает: 27 k-значений\n",
            "В Таблице  df_bulk \tне хватает: 112 k-значений\n",
            "В Таблице  df_bulk_time \tне хватает: 112 k-значений\n",
            "В Таблице  df_gas \tне хватает: 2 k-значений\n",
            "В Таблице  df_wire \tне хватает: 160 k-значений\n",
            "В Таблице  df_wire_time \tне хватает: 160 k-значений\n",
            "В Таблице  df_temp \tне хватает: 25 k-значений\n"
          ]
        }
      ],
      "source": [
        "list_temp = []\n",
        "dict_dif = {}\n",
        "for table, name in zip(tables, tables_names):\n",
        "  list_temp = table['key'].to_list()\n",
        "  dif = [x for x in list_temp + list_k_all if x not in list_temp or x not in list_k_all]\n",
        "  dict_dif[name] = dif\n",
        "  print('В Таблице ', name, '\\tне хватает:', len(dif), 'k-значений')"
      ]
    },
    {
      "cell_type": "markdown",
      "metadata": {
        "id": "1_S6NtfE_zE0"
      },
      "source": [
        "Отлично, нашли еще одну аномалию в данных, что с ней делать мы решим дальше."
      ]
    },
    {
      "cell_type": "markdown",
      "metadata": {
        "id": "U7SlKZcf3KO3"
      },
      "source": [
        " ### df_temp"
      ]
    },
    {
      "cell_type": "code",
      "execution_count": 37,
      "metadata": {
        "colab": {
          "base_uri": "https://localhost:8080/",
          "height": 206
        },
        "id": "bt2RQk5Y3KO3",
        "outputId": "8ec4c221-0b8a-4c1c-ee5d-cc668c437741"
      },
      "outputs": [
        {
          "output_type": "execute_result",
          "data": {
            "text/plain": [
              "   key         Время замера  Температура\n",
              "0    1  2019-05-03 11:16:18       1571.0\n",
              "1    1  2019-05-03 11:25:53       1604.0\n",
              "2    1  2019-05-03 11:29:11       1618.0\n",
              "3    1  2019-05-03 11:30:01       1601.0\n",
              "4    1  2019-05-03 11:30:39       1613.0"
            ],
            "text/html": [
              "\n",
              "  <div id=\"df-de2ea54e-2115-4fac-859a-3d2a6245c834\">\n",
              "    <div class=\"colab-df-container\">\n",
              "      <div>\n",
              "<style scoped>\n",
              "    .dataframe tbody tr th:only-of-type {\n",
              "        vertical-align: middle;\n",
              "    }\n",
              "\n",
              "    .dataframe tbody tr th {\n",
              "        vertical-align: top;\n",
              "    }\n",
              "\n",
              "    .dataframe thead th {\n",
              "        text-align: right;\n",
              "    }\n",
              "</style>\n",
              "<table border=\"1\" class=\"dataframe\">\n",
              "  <thead>\n",
              "    <tr style=\"text-align: right;\">\n",
              "      <th></th>\n",
              "      <th>key</th>\n",
              "      <th>Время замера</th>\n",
              "      <th>Температура</th>\n",
              "    </tr>\n",
              "  </thead>\n",
              "  <tbody>\n",
              "    <tr>\n",
              "      <th>0</th>\n",
              "      <td>1</td>\n",
              "      <td>2019-05-03 11:16:18</td>\n",
              "      <td>1571.0</td>\n",
              "    </tr>\n",
              "    <tr>\n",
              "      <th>1</th>\n",
              "      <td>1</td>\n",
              "      <td>2019-05-03 11:25:53</td>\n",
              "      <td>1604.0</td>\n",
              "    </tr>\n",
              "    <tr>\n",
              "      <th>2</th>\n",
              "      <td>1</td>\n",
              "      <td>2019-05-03 11:29:11</td>\n",
              "      <td>1618.0</td>\n",
              "    </tr>\n",
              "    <tr>\n",
              "      <th>3</th>\n",
              "      <td>1</td>\n",
              "      <td>2019-05-03 11:30:01</td>\n",
              "      <td>1601.0</td>\n",
              "    </tr>\n",
              "    <tr>\n",
              "      <th>4</th>\n",
              "      <td>1</td>\n",
              "      <td>2019-05-03 11:30:39</td>\n",
              "      <td>1613.0</td>\n",
              "    </tr>\n",
              "  </tbody>\n",
              "</table>\n",
              "</div>\n",
              "      <button class=\"colab-df-convert\" onclick=\"convertToInteractive('df-de2ea54e-2115-4fac-859a-3d2a6245c834')\"\n",
              "              title=\"Convert this dataframe to an interactive table.\"\n",
              "              style=\"display:none;\">\n",
              "        \n",
              "  <svg xmlns=\"http://www.w3.org/2000/svg\" height=\"24px\"viewBox=\"0 0 24 24\"\n",
              "       width=\"24px\">\n",
              "    <path d=\"M0 0h24v24H0V0z\" fill=\"none\"/>\n",
              "    <path d=\"M18.56 5.44l.94 2.06.94-2.06 2.06-.94-2.06-.94-.94-2.06-.94 2.06-2.06.94zm-11 1L8.5 8.5l.94-2.06 2.06-.94-2.06-.94L8.5 2.5l-.94 2.06-2.06.94zm10 10l.94 2.06.94-2.06 2.06-.94-2.06-.94-.94-2.06-.94 2.06-2.06.94z\"/><path d=\"M17.41 7.96l-1.37-1.37c-.4-.4-.92-.59-1.43-.59-.52 0-1.04.2-1.43.59L10.3 9.45l-7.72 7.72c-.78.78-.78 2.05 0 2.83L4 21.41c.39.39.9.59 1.41.59.51 0 1.02-.2 1.41-.59l7.78-7.78 2.81-2.81c.8-.78.8-2.07 0-2.86zM5.41 20L4 18.59l7.72-7.72 1.47 1.35L5.41 20z\"/>\n",
              "  </svg>\n",
              "      </button>\n",
              "      \n",
              "  <style>\n",
              "    .colab-df-container {\n",
              "      display:flex;\n",
              "      flex-wrap:wrap;\n",
              "      gap: 12px;\n",
              "    }\n",
              "\n",
              "    .colab-df-convert {\n",
              "      background-color: #E8F0FE;\n",
              "      border: none;\n",
              "      border-radius: 50%;\n",
              "      cursor: pointer;\n",
              "      display: none;\n",
              "      fill: #1967D2;\n",
              "      height: 32px;\n",
              "      padding: 0 0 0 0;\n",
              "      width: 32px;\n",
              "    }\n",
              "\n",
              "    .colab-df-convert:hover {\n",
              "      background-color: #E2EBFA;\n",
              "      box-shadow: 0px 1px 2px rgba(60, 64, 67, 0.3), 0px 1px 3px 1px rgba(60, 64, 67, 0.15);\n",
              "      fill: #174EA6;\n",
              "    }\n",
              "\n",
              "    [theme=dark] .colab-df-convert {\n",
              "      background-color: #3B4455;\n",
              "      fill: #D2E3FC;\n",
              "    }\n",
              "\n",
              "    [theme=dark] .colab-df-convert:hover {\n",
              "      background-color: #434B5C;\n",
              "      box-shadow: 0px 1px 3px 1px rgba(0, 0, 0, 0.15);\n",
              "      filter: drop-shadow(0px 1px 2px rgba(0, 0, 0, 0.3));\n",
              "      fill: #FFFFFF;\n",
              "    }\n",
              "  </style>\n",
              "\n",
              "      <script>\n",
              "        const buttonEl =\n",
              "          document.querySelector('#df-de2ea54e-2115-4fac-859a-3d2a6245c834 button.colab-df-convert');\n",
              "        buttonEl.style.display =\n",
              "          google.colab.kernel.accessAllowed ? 'block' : 'none';\n",
              "\n",
              "        async function convertToInteractive(key) {\n",
              "          const element = document.querySelector('#df-de2ea54e-2115-4fac-859a-3d2a6245c834');\n",
              "          const dataTable =\n",
              "            await google.colab.kernel.invokeFunction('convertToInteractive',\n",
              "                                                     [key], {});\n",
              "          if (!dataTable) return;\n",
              "\n",
              "          const docLinkHtml = 'Like what you see? Visit the ' +\n",
              "            '<a target=\"_blank\" href=https://colab.research.google.com/notebooks/data_table.ipynb>data table notebook</a>'\n",
              "            + ' to learn more about interactive tables.';\n",
              "          element.innerHTML = '';\n",
              "          dataTable['output_type'] = 'display_data';\n",
              "          await google.colab.output.renderOutput(dataTable, element);\n",
              "          const docLink = document.createElement('div');\n",
              "          docLink.innerHTML = docLinkHtml;\n",
              "          element.appendChild(docLink);\n",
              "        }\n",
              "      </script>\n",
              "    </div>\n",
              "  </div>\n",
              "  "
            ]
          },
          "metadata": {},
          "execution_count": 37
        }
      ],
      "source": [
        "df_temp.head()"
      ]
    },
    {
      "cell_type": "code",
      "execution_count": 38,
      "metadata": {
        "colab": {
          "base_uri": "https://localhost:8080/",
          "height": 363
        },
        "id": "M2Z7rkxnLhj8",
        "outputId": "c1f09fd0-1304-4250-8761-b6ec854b3750"
      },
      "outputs": [
        {
          "output_type": "execute_result",
          "data": {
            "text/plain": [
              "        key         Время замера  Температура\n",
              "12268  2500  2019-08-06 03:24:43          NaN\n",
              "12269  2500  2019-08-06 03:25:16          NaN\n",
              "12270  2500  2019-08-06 03:28:21          NaN\n",
              "12272  2501  2019-08-06 04:01:59          NaN\n",
              "12273  2501  2019-08-06 04:14:35          NaN\n",
              "12274  2501  2019-08-06 04:22:14          NaN\n",
              "12275  2501  2019-08-06 04:31:14          NaN\n",
              "12277  2502  2019-08-06 04:46:04          NaN\n",
              "12278  2502  2019-08-06 04:52:32          NaN\n",
              "12279  2502  2019-08-06 04:57:30          NaN"
            ],
            "text/html": [
              "\n",
              "  <div id=\"df-501ddfa7-0dd2-4b94-9469-d5cc4d518b19\">\n",
              "    <div class=\"colab-df-container\">\n",
              "      <div>\n",
              "<style scoped>\n",
              "    .dataframe tbody tr th:only-of-type {\n",
              "        vertical-align: middle;\n",
              "    }\n",
              "\n",
              "    .dataframe tbody tr th {\n",
              "        vertical-align: top;\n",
              "    }\n",
              "\n",
              "    .dataframe thead th {\n",
              "        text-align: right;\n",
              "    }\n",
              "</style>\n",
              "<table border=\"1\" class=\"dataframe\">\n",
              "  <thead>\n",
              "    <tr style=\"text-align: right;\">\n",
              "      <th></th>\n",
              "      <th>key</th>\n",
              "      <th>Время замера</th>\n",
              "      <th>Температура</th>\n",
              "    </tr>\n",
              "  </thead>\n",
              "  <tbody>\n",
              "    <tr>\n",
              "      <th>12268</th>\n",
              "      <td>2500</td>\n",
              "      <td>2019-08-06 03:24:43</td>\n",
              "      <td>NaN</td>\n",
              "    </tr>\n",
              "    <tr>\n",
              "      <th>12269</th>\n",
              "      <td>2500</td>\n",
              "      <td>2019-08-06 03:25:16</td>\n",
              "      <td>NaN</td>\n",
              "    </tr>\n",
              "    <tr>\n",
              "      <th>12270</th>\n",
              "      <td>2500</td>\n",
              "      <td>2019-08-06 03:28:21</td>\n",
              "      <td>NaN</td>\n",
              "    </tr>\n",
              "    <tr>\n",
              "      <th>12272</th>\n",
              "      <td>2501</td>\n",
              "      <td>2019-08-06 04:01:59</td>\n",
              "      <td>NaN</td>\n",
              "    </tr>\n",
              "    <tr>\n",
              "      <th>12273</th>\n",
              "      <td>2501</td>\n",
              "      <td>2019-08-06 04:14:35</td>\n",
              "      <td>NaN</td>\n",
              "    </tr>\n",
              "    <tr>\n",
              "      <th>12274</th>\n",
              "      <td>2501</td>\n",
              "      <td>2019-08-06 04:22:14</td>\n",
              "      <td>NaN</td>\n",
              "    </tr>\n",
              "    <tr>\n",
              "      <th>12275</th>\n",
              "      <td>2501</td>\n",
              "      <td>2019-08-06 04:31:14</td>\n",
              "      <td>NaN</td>\n",
              "    </tr>\n",
              "    <tr>\n",
              "      <th>12277</th>\n",
              "      <td>2502</td>\n",
              "      <td>2019-08-06 04:46:04</td>\n",
              "      <td>NaN</td>\n",
              "    </tr>\n",
              "    <tr>\n",
              "      <th>12278</th>\n",
              "      <td>2502</td>\n",
              "      <td>2019-08-06 04:52:32</td>\n",
              "      <td>NaN</td>\n",
              "    </tr>\n",
              "    <tr>\n",
              "      <th>12279</th>\n",
              "      <td>2502</td>\n",
              "      <td>2019-08-06 04:57:30</td>\n",
              "      <td>NaN</td>\n",
              "    </tr>\n",
              "  </tbody>\n",
              "</table>\n",
              "</div>\n",
              "      <button class=\"colab-df-convert\" onclick=\"convertToInteractive('df-501ddfa7-0dd2-4b94-9469-d5cc4d518b19')\"\n",
              "              title=\"Convert this dataframe to an interactive table.\"\n",
              "              style=\"display:none;\">\n",
              "        \n",
              "  <svg xmlns=\"http://www.w3.org/2000/svg\" height=\"24px\"viewBox=\"0 0 24 24\"\n",
              "       width=\"24px\">\n",
              "    <path d=\"M0 0h24v24H0V0z\" fill=\"none\"/>\n",
              "    <path d=\"M18.56 5.44l.94 2.06.94-2.06 2.06-.94-2.06-.94-.94-2.06-.94 2.06-2.06.94zm-11 1L8.5 8.5l.94-2.06 2.06-.94-2.06-.94L8.5 2.5l-.94 2.06-2.06.94zm10 10l.94 2.06.94-2.06 2.06-.94-2.06-.94-.94-2.06-.94 2.06-2.06.94z\"/><path d=\"M17.41 7.96l-1.37-1.37c-.4-.4-.92-.59-1.43-.59-.52 0-1.04.2-1.43.59L10.3 9.45l-7.72 7.72c-.78.78-.78 2.05 0 2.83L4 21.41c.39.39.9.59 1.41.59.51 0 1.02-.2 1.41-.59l7.78-7.78 2.81-2.81c.8-.78.8-2.07 0-2.86zM5.41 20L4 18.59l7.72-7.72 1.47 1.35L5.41 20z\"/>\n",
              "  </svg>\n",
              "      </button>\n",
              "      \n",
              "  <style>\n",
              "    .colab-df-container {\n",
              "      display:flex;\n",
              "      flex-wrap:wrap;\n",
              "      gap: 12px;\n",
              "    }\n",
              "\n",
              "    .colab-df-convert {\n",
              "      background-color: #E8F0FE;\n",
              "      border: none;\n",
              "      border-radius: 50%;\n",
              "      cursor: pointer;\n",
              "      display: none;\n",
              "      fill: #1967D2;\n",
              "      height: 32px;\n",
              "      padding: 0 0 0 0;\n",
              "      width: 32px;\n",
              "    }\n",
              "\n",
              "    .colab-df-convert:hover {\n",
              "      background-color: #E2EBFA;\n",
              "      box-shadow: 0px 1px 2px rgba(60, 64, 67, 0.3), 0px 1px 3px 1px rgba(60, 64, 67, 0.15);\n",
              "      fill: #174EA6;\n",
              "    }\n",
              "\n",
              "    [theme=dark] .colab-df-convert {\n",
              "      background-color: #3B4455;\n",
              "      fill: #D2E3FC;\n",
              "    }\n",
              "\n",
              "    [theme=dark] .colab-df-convert:hover {\n",
              "      background-color: #434B5C;\n",
              "      box-shadow: 0px 1px 3px 1px rgba(0, 0, 0, 0.15);\n",
              "      filter: drop-shadow(0px 1px 2px rgba(0, 0, 0, 0.3));\n",
              "      fill: #FFFFFF;\n",
              "    }\n",
              "  </style>\n",
              "\n",
              "      <script>\n",
              "        const buttonEl =\n",
              "          document.querySelector('#df-501ddfa7-0dd2-4b94-9469-d5cc4d518b19 button.colab-df-convert');\n",
              "        buttonEl.style.display =\n",
              "          google.colab.kernel.accessAllowed ? 'block' : 'none';\n",
              "\n",
              "        async function convertToInteractive(key) {\n",
              "          const element = document.querySelector('#df-501ddfa7-0dd2-4b94-9469-d5cc4d518b19');\n",
              "          const dataTable =\n",
              "            await google.colab.kernel.invokeFunction('convertToInteractive',\n",
              "                                                     [key], {});\n",
              "          if (!dataTable) return;\n",
              "\n",
              "          const docLinkHtml = 'Like what you see? Visit the ' +\n",
              "            '<a target=\"_blank\" href=https://colab.research.google.com/notebooks/data_table.ipynb>data table notebook</a>'\n",
              "            + ' to learn more about interactive tables.';\n",
              "          element.innerHTML = '';\n",
              "          dataTable['output_type'] = 'display_data';\n",
              "          await google.colab.output.renderOutput(dataTable, element);\n",
              "          const docLink = document.createElement('div');\n",
              "          docLink.innerHTML = docLinkHtml;\n",
              "          element.appendChild(docLink);\n",
              "        }\n",
              "      </script>\n",
              "    </div>\n",
              "  </div>\n",
              "  "
            ]
          },
          "metadata": {},
          "execution_count": 38
        }
      ],
      "source": [
        "df_temp[df_temp['Температура'].isnull()].head(10)"
      ]
    },
    {
      "cell_type": "code",
      "execution_count": 39,
      "metadata": {
        "colab": {
          "base_uri": "https://localhost:8080/"
        },
        "id": "SGb-tL1l3KO4",
        "outputId": "84018fec-e4d3-4531-8666-10e65cb64061"
      },
      "outputs": [
        {
          "output_type": "stream",
          "name": "stdout",
          "text": [
            "<class 'pandas.core.frame.DataFrame'>\n",
            "RangeIndex: 15907 entries, 0 to 15906\n",
            "Data columns (total 3 columns):\n",
            " #   Column        Non-Null Count  Dtype  \n",
            "---  ------        --------------  -----  \n",
            " 0   key           15907 non-null  int64  \n",
            " 1   Время замера  15907 non-null  object \n",
            " 2   Температура   13006 non-null  float64\n",
            "dtypes: float64(1), int64(1), object(1)\n",
            "memory usage: 372.9+ KB\n"
          ]
        }
      ],
      "source": [
        "df_temp.info()"
      ]
    },
    {
      "cell_type": "markdown",
      "metadata": {
        "id": "1uRiA_Hq3KO4"
      },
      "source": [
        "TODO:\n",
        "1. изменить названия столбцов на англ.тип и строчные буквы\n",
        "2. преобразовать тип 2 столбца к дате\n",
        "3. проверить на дубликаты"
      ]
    },
    {
      "cell_type": "code",
      "execution_count": 40,
      "metadata": {
        "id": "QmvXw44WTktJ"
      },
      "outputs": [],
      "source": [
        "df_temp.columns = ['key', 'time_measure', 'temp']"
      ]
    },
    {
      "cell_type": "code",
      "execution_count": 41,
      "metadata": {
        "id": "4wYIHL-FTyTV"
      },
      "outputs": [],
      "source": [
        "df_temp['time_measure'] = df_temp['time_measure'].astype('datetime64')"
      ]
    },
    {
      "cell_type": "code",
      "execution_count": 42,
      "metadata": {
        "colab": {
          "base_uri": "https://localhost:8080/"
        },
        "id": "0ag5qCFjTh3Z",
        "outputId": "ecee824c-5855-441a-85fd-7b1b14c5f597"
      },
      "outputs": [
        {
          "output_type": "execute_result",
          "data": {
            "text/plain": [
              "0"
            ]
          },
          "metadata": {},
          "execution_count": 42
        }
      ],
      "source": [
        "df_temp.duplicated().sum()"
      ]
    },
    {
      "cell_type": "code",
      "execution_count": 43,
      "metadata": {
        "colab": {
          "base_uri": "https://localhost:8080/"
        },
        "id": "yjY4DIZ4_zE1",
        "outputId": "efaa5bf6-9dee-46ac-ff63-579a3622b4aa"
      },
      "outputs": [
        {
          "output_type": "stream",
          "name": "stdout",
          "text": [
            "<class 'pandas.core.frame.DataFrame'>\n",
            "RangeIndex: 15907 entries, 0 to 15906\n",
            "Data columns (total 3 columns):\n",
            " #   Column        Non-Null Count  Dtype         \n",
            "---  ------        --------------  -----         \n",
            " 0   key           15907 non-null  int64         \n",
            " 1   time_measure  15907 non-null  datetime64[ns]\n",
            " 2   temp          13006 non-null  float64       \n",
            "dtypes: datetime64[ns](1), float64(1), int64(1)\n",
            "memory usage: 372.9 KB\n"
          ]
        }
      ],
      "source": [
        "df_temp.info()"
      ]
    },
    {
      "cell_type": "markdown",
      "metadata": {
        "id": "O-dTTAk6_zE1"
      },
      "source": [
        "Судя по заданию, это и есть наш таргет, который необходимо предсказывать.\n",
        "Пропуски удалим"
      ]
    },
    {
      "cell_type": "code",
      "execution_count": 44,
      "metadata": {
        "id": "p7sN-QriX08v"
      },
      "outputs": [],
      "source": [
        "df_temp = df_temp.loc[df_temp['key'] < 2500, :]"
      ]
    },
    {
      "cell_type": "markdown",
      "metadata": {
        "id": "_owo0eYo3aXE"
      },
      "source": [
        " ### df_wire"
      ]
    },
    {
      "cell_type": "code",
      "execution_count": 45,
      "metadata": {
        "colab": {
          "base_uri": "https://localhost:8080/",
          "height": 206
        },
        "id": "mYJc1Gsr3aXF",
        "outputId": "b16fcb41-8d69-49c2-a44d-a54c4e4c26aa"
      },
      "outputs": [
        {
          "output_type": "execute_result",
          "data": {
            "text/plain": [
              "   key     Wire 1   Wire 2  Wire 3  Wire 4  Wire 5  Wire 6  Wire 7  Wire 8  \\\n",
              "0    1  60.059998      NaN     NaN     NaN     NaN     NaN     NaN     NaN   \n",
              "1    2  96.052315      NaN     NaN     NaN     NaN     NaN     NaN     NaN   \n",
              "2    3  91.160157      NaN     NaN     NaN     NaN     NaN     NaN     NaN   \n",
              "3    4  89.063515      NaN     NaN     NaN     NaN     NaN     NaN     NaN   \n",
              "4    5  89.238236  9.11456     NaN     NaN     NaN     NaN     NaN     NaN   \n",
              "\n",
              "   Wire 9  \n",
              "0     NaN  \n",
              "1     NaN  \n",
              "2     NaN  \n",
              "3     NaN  \n",
              "4     NaN  "
            ],
            "text/html": [
              "\n",
              "  <div id=\"df-fab3c73c-7576-47d5-813d-1bb65866732f\">\n",
              "    <div class=\"colab-df-container\">\n",
              "      <div>\n",
              "<style scoped>\n",
              "    .dataframe tbody tr th:only-of-type {\n",
              "        vertical-align: middle;\n",
              "    }\n",
              "\n",
              "    .dataframe tbody tr th {\n",
              "        vertical-align: top;\n",
              "    }\n",
              "\n",
              "    .dataframe thead th {\n",
              "        text-align: right;\n",
              "    }\n",
              "</style>\n",
              "<table border=\"1\" class=\"dataframe\">\n",
              "  <thead>\n",
              "    <tr style=\"text-align: right;\">\n",
              "      <th></th>\n",
              "      <th>key</th>\n",
              "      <th>Wire 1</th>\n",
              "      <th>Wire 2</th>\n",
              "      <th>Wire 3</th>\n",
              "      <th>Wire 4</th>\n",
              "      <th>Wire 5</th>\n",
              "      <th>Wire 6</th>\n",
              "      <th>Wire 7</th>\n",
              "      <th>Wire 8</th>\n",
              "      <th>Wire 9</th>\n",
              "    </tr>\n",
              "  </thead>\n",
              "  <tbody>\n",
              "    <tr>\n",
              "      <th>0</th>\n",
              "      <td>1</td>\n",
              "      <td>60.059998</td>\n",
              "      <td>NaN</td>\n",
              "      <td>NaN</td>\n",
              "      <td>NaN</td>\n",
              "      <td>NaN</td>\n",
              "      <td>NaN</td>\n",
              "      <td>NaN</td>\n",
              "      <td>NaN</td>\n",
              "      <td>NaN</td>\n",
              "    </tr>\n",
              "    <tr>\n",
              "      <th>1</th>\n",
              "      <td>2</td>\n",
              "      <td>96.052315</td>\n",
              "      <td>NaN</td>\n",
              "      <td>NaN</td>\n",
              "      <td>NaN</td>\n",
              "      <td>NaN</td>\n",
              "      <td>NaN</td>\n",
              "      <td>NaN</td>\n",
              "      <td>NaN</td>\n",
              "      <td>NaN</td>\n",
              "    </tr>\n",
              "    <tr>\n",
              "      <th>2</th>\n",
              "      <td>3</td>\n",
              "      <td>91.160157</td>\n",
              "      <td>NaN</td>\n",
              "      <td>NaN</td>\n",
              "      <td>NaN</td>\n",
              "      <td>NaN</td>\n",
              "      <td>NaN</td>\n",
              "      <td>NaN</td>\n",
              "      <td>NaN</td>\n",
              "      <td>NaN</td>\n",
              "    </tr>\n",
              "    <tr>\n",
              "      <th>3</th>\n",
              "      <td>4</td>\n",
              "      <td>89.063515</td>\n",
              "      <td>NaN</td>\n",
              "      <td>NaN</td>\n",
              "      <td>NaN</td>\n",
              "      <td>NaN</td>\n",
              "      <td>NaN</td>\n",
              "      <td>NaN</td>\n",
              "      <td>NaN</td>\n",
              "      <td>NaN</td>\n",
              "    </tr>\n",
              "    <tr>\n",
              "      <th>4</th>\n",
              "      <td>5</td>\n",
              "      <td>89.238236</td>\n",
              "      <td>9.11456</td>\n",
              "      <td>NaN</td>\n",
              "      <td>NaN</td>\n",
              "      <td>NaN</td>\n",
              "      <td>NaN</td>\n",
              "      <td>NaN</td>\n",
              "      <td>NaN</td>\n",
              "      <td>NaN</td>\n",
              "    </tr>\n",
              "  </tbody>\n",
              "</table>\n",
              "</div>\n",
              "      <button class=\"colab-df-convert\" onclick=\"convertToInteractive('df-fab3c73c-7576-47d5-813d-1bb65866732f')\"\n",
              "              title=\"Convert this dataframe to an interactive table.\"\n",
              "              style=\"display:none;\">\n",
              "        \n",
              "  <svg xmlns=\"http://www.w3.org/2000/svg\" height=\"24px\"viewBox=\"0 0 24 24\"\n",
              "       width=\"24px\">\n",
              "    <path d=\"M0 0h24v24H0V0z\" fill=\"none\"/>\n",
              "    <path d=\"M18.56 5.44l.94 2.06.94-2.06 2.06-.94-2.06-.94-.94-2.06-.94 2.06-2.06.94zm-11 1L8.5 8.5l.94-2.06 2.06-.94-2.06-.94L8.5 2.5l-.94 2.06-2.06.94zm10 10l.94 2.06.94-2.06 2.06-.94-2.06-.94-.94-2.06-.94 2.06-2.06.94z\"/><path d=\"M17.41 7.96l-1.37-1.37c-.4-.4-.92-.59-1.43-.59-.52 0-1.04.2-1.43.59L10.3 9.45l-7.72 7.72c-.78.78-.78 2.05 0 2.83L4 21.41c.39.39.9.59 1.41.59.51 0 1.02-.2 1.41-.59l7.78-7.78 2.81-2.81c.8-.78.8-2.07 0-2.86zM5.41 20L4 18.59l7.72-7.72 1.47 1.35L5.41 20z\"/>\n",
              "  </svg>\n",
              "      </button>\n",
              "      \n",
              "  <style>\n",
              "    .colab-df-container {\n",
              "      display:flex;\n",
              "      flex-wrap:wrap;\n",
              "      gap: 12px;\n",
              "    }\n",
              "\n",
              "    .colab-df-convert {\n",
              "      background-color: #E8F0FE;\n",
              "      border: none;\n",
              "      border-radius: 50%;\n",
              "      cursor: pointer;\n",
              "      display: none;\n",
              "      fill: #1967D2;\n",
              "      height: 32px;\n",
              "      padding: 0 0 0 0;\n",
              "      width: 32px;\n",
              "    }\n",
              "\n",
              "    .colab-df-convert:hover {\n",
              "      background-color: #E2EBFA;\n",
              "      box-shadow: 0px 1px 2px rgba(60, 64, 67, 0.3), 0px 1px 3px 1px rgba(60, 64, 67, 0.15);\n",
              "      fill: #174EA6;\n",
              "    }\n",
              "\n",
              "    [theme=dark] .colab-df-convert {\n",
              "      background-color: #3B4455;\n",
              "      fill: #D2E3FC;\n",
              "    }\n",
              "\n",
              "    [theme=dark] .colab-df-convert:hover {\n",
              "      background-color: #434B5C;\n",
              "      box-shadow: 0px 1px 3px 1px rgba(0, 0, 0, 0.15);\n",
              "      filter: drop-shadow(0px 1px 2px rgba(0, 0, 0, 0.3));\n",
              "      fill: #FFFFFF;\n",
              "    }\n",
              "  </style>\n",
              "\n",
              "      <script>\n",
              "        const buttonEl =\n",
              "          document.querySelector('#df-fab3c73c-7576-47d5-813d-1bb65866732f button.colab-df-convert');\n",
              "        buttonEl.style.display =\n",
              "          google.colab.kernel.accessAllowed ? 'block' : 'none';\n",
              "\n",
              "        async function convertToInteractive(key) {\n",
              "          const element = document.querySelector('#df-fab3c73c-7576-47d5-813d-1bb65866732f');\n",
              "          const dataTable =\n",
              "            await google.colab.kernel.invokeFunction('convertToInteractive',\n",
              "                                                     [key], {});\n",
              "          if (!dataTable) return;\n",
              "\n",
              "          const docLinkHtml = 'Like what you see? Visit the ' +\n",
              "            '<a target=\"_blank\" href=https://colab.research.google.com/notebooks/data_table.ipynb>data table notebook</a>'\n",
              "            + ' to learn more about interactive tables.';\n",
              "          element.innerHTML = '';\n",
              "          dataTable['output_type'] = 'display_data';\n",
              "          await google.colab.output.renderOutput(dataTable, element);\n",
              "          const docLink = document.createElement('div');\n",
              "          docLink.innerHTML = docLinkHtml;\n",
              "          element.appendChild(docLink);\n",
              "        }\n",
              "      </script>\n",
              "    </div>\n",
              "  </div>\n",
              "  "
            ]
          },
          "metadata": {},
          "execution_count": 45
        }
      ],
      "source": [
        "df_wire.head()"
      ]
    },
    {
      "cell_type": "code",
      "execution_count": 46,
      "metadata": {
        "colab": {
          "base_uri": "https://localhost:8080/"
        },
        "id": "OUazlq0G3aXG",
        "outputId": "eaa6ffa1-d895-4716-8d96-6095656c5797"
      },
      "outputs": [
        {
          "output_type": "stream",
          "name": "stdout",
          "text": [
            "<class 'pandas.core.frame.DataFrame'>\n",
            "RangeIndex: 3081 entries, 0 to 3080\n",
            "Data columns (total 10 columns):\n",
            " #   Column  Non-Null Count  Dtype  \n",
            "---  ------  --------------  -----  \n",
            " 0   key     3081 non-null   int64  \n",
            " 1   Wire 1  3055 non-null   float64\n",
            " 2   Wire 2  1079 non-null   float64\n",
            " 3   Wire 3  63 non-null     float64\n",
            " 4   Wire 4  14 non-null     float64\n",
            " 5   Wire 5  1 non-null      float64\n",
            " 6   Wire 6  73 non-null     float64\n",
            " 7   Wire 7  11 non-null     float64\n",
            " 8   Wire 8  19 non-null     float64\n",
            " 9   Wire 9  29 non-null     float64\n",
            "dtypes: float64(9), int64(1)\n",
            "memory usage: 240.8 KB\n"
          ]
        }
      ],
      "source": [
        "df_wire.info()"
      ]
    },
    {
      "cell_type": "markdown",
      "metadata": {
        "id": "NkT6TTCt3aXH"
      },
      "source": [
        "TODO:\n",
        "1. изменить названия столбцов на англ.тип и строчные буквы\n",
        "2. проверить на дубликаты"
      ]
    },
    {
      "cell_type": "code",
      "execution_count": 47,
      "metadata": {
        "id": "QMbr38X8_zE2"
      },
      "outputs": [],
      "source": [
        "df_wire = prepare_table(df_wire)"
      ]
    },
    {
      "cell_type": "code",
      "execution_count": 48,
      "metadata": {
        "colab": {
          "base_uri": "https://localhost:8080/"
        },
        "id": "mWDTwHQbUU2S",
        "outputId": "fa1120b9-f897-4225-a5c1-52c7e884e7f5"
      },
      "outputs": [
        {
          "output_type": "execute_result",
          "data": {
            "text/plain": [
              "0"
            ]
          },
          "metadata": {},
          "execution_count": 48
        }
      ],
      "source": [
        "df_wire.duplicated().sum()"
      ]
    },
    {
      "cell_type": "code",
      "execution_count": 49,
      "metadata": {
        "colab": {
          "base_uri": "https://localhost:8080/"
        },
        "id": "EI4TWfiv_zE2",
        "outputId": "3cbd2343-2016-476d-bbfc-0e428ccf5e33"
      },
      "outputs": [
        {
          "output_type": "stream",
          "name": "stdout",
          "text": [
            "<class 'pandas.core.frame.DataFrame'>\n",
            "RangeIndex: 3081 entries, 0 to 3080\n",
            "Data columns (total 10 columns):\n",
            " #   Column  Non-Null Count  Dtype  \n",
            "---  ------  --------------  -----  \n",
            " 0   key     3081 non-null   int64  \n",
            " 1   wire_1  3081 non-null   float64\n",
            " 2   wire_2  3081 non-null   float64\n",
            " 3   wire_3  3081 non-null   float64\n",
            " 4   wire_4  3081 non-null   float64\n",
            " 5   wire_5  3081 non-null   float64\n",
            " 6   wire_6  3081 non-null   float64\n",
            " 7   wire_7  3081 non-null   float64\n",
            " 8   wire_8  3081 non-null   float64\n",
            " 9   wire_9  3081 non-null   float64\n",
            "dtypes: float64(9), int64(1)\n",
            "memory usage: 240.8 KB\n"
          ]
        }
      ],
      "source": [
        "df_wire.info()"
      ]
    },
    {
      "cell_type": "markdown",
      "metadata": {
        "id": "f4FhIyt33Zxa"
      },
      "source": [
        " ### df_wire_time"
      ]
    },
    {
      "cell_type": "code",
      "execution_count": 50,
      "metadata": {
        "colab": {
          "base_uri": "https://localhost:8080/",
          "height": 206
        },
        "id": "YQa7tqoa3Zxb",
        "outputId": "22ed507a-f1b3-486b-812c-e3e4109104aa"
      },
      "outputs": [
        {
          "output_type": "execute_result",
          "data": {
            "text/plain": [
              "   key               Wire 1               Wire 2 Wire 3 Wire 4 Wire 5 Wire 6  \\\n",
              "0    1  2019-05-03 11:11:41                  NaN    NaN    NaN    NaN    NaN   \n",
              "1    2  2019-05-03 11:46:10                  NaN    NaN    NaN    NaN    NaN   \n",
              "2    3  2019-05-03 12:13:47                  NaN    NaN    NaN    NaN    NaN   \n",
              "3    4  2019-05-03 12:48:05                  NaN    NaN    NaN    NaN    NaN   \n",
              "4    5  2019-05-03 13:18:15  2019-05-03 13:32:06    NaN    NaN    NaN    NaN   \n",
              "\n",
              "  Wire 7 Wire 8 Wire 9  \n",
              "0    NaN    NaN    NaN  \n",
              "1    NaN    NaN    NaN  \n",
              "2    NaN    NaN    NaN  \n",
              "3    NaN    NaN    NaN  \n",
              "4    NaN    NaN    NaN  "
            ],
            "text/html": [
              "\n",
              "  <div id=\"df-d8debb43-0923-41d6-9846-ef423dbf1406\">\n",
              "    <div class=\"colab-df-container\">\n",
              "      <div>\n",
              "<style scoped>\n",
              "    .dataframe tbody tr th:only-of-type {\n",
              "        vertical-align: middle;\n",
              "    }\n",
              "\n",
              "    .dataframe tbody tr th {\n",
              "        vertical-align: top;\n",
              "    }\n",
              "\n",
              "    .dataframe thead th {\n",
              "        text-align: right;\n",
              "    }\n",
              "</style>\n",
              "<table border=\"1\" class=\"dataframe\">\n",
              "  <thead>\n",
              "    <tr style=\"text-align: right;\">\n",
              "      <th></th>\n",
              "      <th>key</th>\n",
              "      <th>Wire 1</th>\n",
              "      <th>Wire 2</th>\n",
              "      <th>Wire 3</th>\n",
              "      <th>Wire 4</th>\n",
              "      <th>Wire 5</th>\n",
              "      <th>Wire 6</th>\n",
              "      <th>Wire 7</th>\n",
              "      <th>Wire 8</th>\n",
              "      <th>Wire 9</th>\n",
              "    </tr>\n",
              "  </thead>\n",
              "  <tbody>\n",
              "    <tr>\n",
              "      <th>0</th>\n",
              "      <td>1</td>\n",
              "      <td>2019-05-03 11:11:41</td>\n",
              "      <td>NaN</td>\n",
              "      <td>NaN</td>\n",
              "      <td>NaN</td>\n",
              "      <td>NaN</td>\n",
              "      <td>NaN</td>\n",
              "      <td>NaN</td>\n",
              "      <td>NaN</td>\n",
              "      <td>NaN</td>\n",
              "    </tr>\n",
              "    <tr>\n",
              "      <th>1</th>\n",
              "      <td>2</td>\n",
              "      <td>2019-05-03 11:46:10</td>\n",
              "      <td>NaN</td>\n",
              "      <td>NaN</td>\n",
              "      <td>NaN</td>\n",
              "      <td>NaN</td>\n",
              "      <td>NaN</td>\n",
              "      <td>NaN</td>\n",
              "      <td>NaN</td>\n",
              "      <td>NaN</td>\n",
              "    </tr>\n",
              "    <tr>\n",
              "      <th>2</th>\n",
              "      <td>3</td>\n",
              "      <td>2019-05-03 12:13:47</td>\n",
              "      <td>NaN</td>\n",
              "      <td>NaN</td>\n",
              "      <td>NaN</td>\n",
              "      <td>NaN</td>\n",
              "      <td>NaN</td>\n",
              "      <td>NaN</td>\n",
              "      <td>NaN</td>\n",
              "      <td>NaN</td>\n",
              "    </tr>\n",
              "    <tr>\n",
              "      <th>3</th>\n",
              "      <td>4</td>\n",
              "      <td>2019-05-03 12:48:05</td>\n",
              "      <td>NaN</td>\n",
              "      <td>NaN</td>\n",
              "      <td>NaN</td>\n",
              "      <td>NaN</td>\n",
              "      <td>NaN</td>\n",
              "      <td>NaN</td>\n",
              "      <td>NaN</td>\n",
              "      <td>NaN</td>\n",
              "    </tr>\n",
              "    <tr>\n",
              "      <th>4</th>\n",
              "      <td>5</td>\n",
              "      <td>2019-05-03 13:18:15</td>\n",
              "      <td>2019-05-03 13:32:06</td>\n",
              "      <td>NaN</td>\n",
              "      <td>NaN</td>\n",
              "      <td>NaN</td>\n",
              "      <td>NaN</td>\n",
              "      <td>NaN</td>\n",
              "      <td>NaN</td>\n",
              "      <td>NaN</td>\n",
              "    </tr>\n",
              "  </tbody>\n",
              "</table>\n",
              "</div>\n",
              "      <button class=\"colab-df-convert\" onclick=\"convertToInteractive('df-d8debb43-0923-41d6-9846-ef423dbf1406')\"\n",
              "              title=\"Convert this dataframe to an interactive table.\"\n",
              "              style=\"display:none;\">\n",
              "        \n",
              "  <svg xmlns=\"http://www.w3.org/2000/svg\" height=\"24px\"viewBox=\"0 0 24 24\"\n",
              "       width=\"24px\">\n",
              "    <path d=\"M0 0h24v24H0V0z\" fill=\"none\"/>\n",
              "    <path d=\"M18.56 5.44l.94 2.06.94-2.06 2.06-.94-2.06-.94-.94-2.06-.94 2.06-2.06.94zm-11 1L8.5 8.5l.94-2.06 2.06-.94-2.06-.94L8.5 2.5l-.94 2.06-2.06.94zm10 10l.94 2.06.94-2.06 2.06-.94-2.06-.94-.94-2.06-.94 2.06-2.06.94z\"/><path d=\"M17.41 7.96l-1.37-1.37c-.4-.4-.92-.59-1.43-.59-.52 0-1.04.2-1.43.59L10.3 9.45l-7.72 7.72c-.78.78-.78 2.05 0 2.83L4 21.41c.39.39.9.59 1.41.59.51 0 1.02-.2 1.41-.59l7.78-7.78 2.81-2.81c.8-.78.8-2.07 0-2.86zM5.41 20L4 18.59l7.72-7.72 1.47 1.35L5.41 20z\"/>\n",
              "  </svg>\n",
              "      </button>\n",
              "      \n",
              "  <style>\n",
              "    .colab-df-container {\n",
              "      display:flex;\n",
              "      flex-wrap:wrap;\n",
              "      gap: 12px;\n",
              "    }\n",
              "\n",
              "    .colab-df-convert {\n",
              "      background-color: #E8F0FE;\n",
              "      border: none;\n",
              "      border-radius: 50%;\n",
              "      cursor: pointer;\n",
              "      display: none;\n",
              "      fill: #1967D2;\n",
              "      height: 32px;\n",
              "      padding: 0 0 0 0;\n",
              "      width: 32px;\n",
              "    }\n",
              "\n",
              "    .colab-df-convert:hover {\n",
              "      background-color: #E2EBFA;\n",
              "      box-shadow: 0px 1px 2px rgba(60, 64, 67, 0.3), 0px 1px 3px 1px rgba(60, 64, 67, 0.15);\n",
              "      fill: #174EA6;\n",
              "    }\n",
              "\n",
              "    [theme=dark] .colab-df-convert {\n",
              "      background-color: #3B4455;\n",
              "      fill: #D2E3FC;\n",
              "    }\n",
              "\n",
              "    [theme=dark] .colab-df-convert:hover {\n",
              "      background-color: #434B5C;\n",
              "      box-shadow: 0px 1px 3px 1px rgba(0, 0, 0, 0.15);\n",
              "      filter: drop-shadow(0px 1px 2px rgba(0, 0, 0, 0.3));\n",
              "      fill: #FFFFFF;\n",
              "    }\n",
              "  </style>\n",
              "\n",
              "      <script>\n",
              "        const buttonEl =\n",
              "          document.querySelector('#df-d8debb43-0923-41d6-9846-ef423dbf1406 button.colab-df-convert');\n",
              "        buttonEl.style.display =\n",
              "          google.colab.kernel.accessAllowed ? 'block' : 'none';\n",
              "\n",
              "        async function convertToInteractive(key) {\n",
              "          const element = document.querySelector('#df-d8debb43-0923-41d6-9846-ef423dbf1406');\n",
              "          const dataTable =\n",
              "            await google.colab.kernel.invokeFunction('convertToInteractive',\n",
              "                                                     [key], {});\n",
              "          if (!dataTable) return;\n",
              "\n",
              "          const docLinkHtml = 'Like what you see? Visit the ' +\n",
              "            '<a target=\"_blank\" href=https://colab.research.google.com/notebooks/data_table.ipynb>data table notebook</a>'\n",
              "            + ' to learn more about interactive tables.';\n",
              "          element.innerHTML = '';\n",
              "          dataTable['output_type'] = 'display_data';\n",
              "          await google.colab.output.renderOutput(dataTable, element);\n",
              "          const docLink = document.createElement('div');\n",
              "          docLink.innerHTML = docLinkHtml;\n",
              "          element.appendChild(docLink);\n",
              "        }\n",
              "      </script>\n",
              "    </div>\n",
              "  </div>\n",
              "  "
            ]
          },
          "metadata": {},
          "execution_count": 50
        }
      ],
      "source": [
        "df_wire_time.head()"
      ]
    },
    {
      "cell_type": "code",
      "execution_count": 51,
      "metadata": {
        "colab": {
          "base_uri": "https://localhost:8080/"
        },
        "id": "1eO0Sstv3Zxc",
        "outputId": "cba89edf-690a-4bc1-f157-0fdb8b9e603a"
      },
      "outputs": [
        {
          "output_type": "stream",
          "name": "stdout",
          "text": [
            "<class 'pandas.core.frame.DataFrame'>\n",
            "RangeIndex: 3081 entries, 0 to 3080\n",
            "Data columns (total 10 columns):\n",
            " #   Column  Non-Null Count  Dtype \n",
            "---  ------  --------------  ----- \n",
            " 0   key     3081 non-null   int64 \n",
            " 1   Wire 1  3055 non-null   object\n",
            " 2   Wire 2  1079 non-null   object\n",
            " 3   Wire 3  63 non-null     object\n",
            " 4   Wire 4  14 non-null     object\n",
            " 5   Wire 5  1 non-null      object\n",
            " 6   Wire 6  73 non-null     object\n",
            " 7   Wire 7  11 non-null     object\n",
            " 8   Wire 8  19 non-null     object\n",
            " 9   Wire 9  29 non-null     object\n",
            "dtypes: int64(1), object(9)\n",
            "memory usage: 240.8+ KB\n"
          ]
        }
      ],
      "source": [
        "df_wire_time.info()"
      ]
    },
    {
      "cell_type": "markdown",
      "metadata": {
        "id": "MGJ890qZ3Zxd"
      },
      "source": [
        "TODO:\n",
        "1. изменить названия столбцов на англ.тип и строчные буквы\n",
        "2. преобразовать тип столбцов к дате\n",
        "3. проверить на дубликаты\n",
        "4. пропуски"
      ]
    },
    {
      "cell_type": "code",
      "execution_count": 52,
      "metadata": {
        "id": "VbQBc1jGUcQj"
      },
      "outputs": [],
      "source": [
        "df_wire_time = prepare_table(df_wire_time, 1)"
      ]
    },
    {
      "cell_type": "code",
      "execution_count": 53,
      "metadata": {
        "colab": {
          "base_uri": "https://localhost:8080/"
        },
        "id": "xSzQm-IyUdTV",
        "outputId": "462aa566-1099-45db-a4f3-c30128b8a707"
      },
      "outputs": [
        {
          "output_type": "execute_result",
          "data": {
            "text/plain": [
              "0"
            ]
          },
          "metadata": {},
          "execution_count": 53
        }
      ],
      "source": [
        "df_wire_time.duplicated().sum()"
      ]
    },
    {
      "cell_type": "code",
      "execution_count": 54,
      "metadata": {
        "colab": {
          "base_uri": "https://localhost:8080/"
        },
        "id": "MiWLaxHW_zE3",
        "outputId": "f798c816-fab1-4619-9599-c9ce2e11b33e"
      },
      "outputs": [
        {
          "output_type": "stream",
          "name": "stdout",
          "text": [
            "<class 'pandas.core.frame.DataFrame'>\n",
            "RangeIndex: 3081 entries, 0 to 3080\n",
            "Data columns (total 10 columns):\n",
            " #   Column  Non-Null Count  Dtype         \n",
            "---  ------  --------------  -----         \n",
            " 0   key     3081 non-null   int64         \n",
            " 1   wire_1  3055 non-null   datetime64[ns]\n",
            " 2   wire_2  1079 non-null   datetime64[ns]\n",
            " 3   wire_3  63 non-null     datetime64[ns]\n",
            " 4   wire_4  14 non-null     datetime64[ns]\n",
            " 5   wire_5  1 non-null      datetime64[ns]\n",
            " 6   wire_6  73 non-null     datetime64[ns]\n",
            " 7   wire_7  11 non-null     datetime64[ns]\n",
            " 8   wire_8  19 non-null     datetime64[ns]\n",
            " 9   wire_9  29 non-null     datetime64[ns]\n",
            "dtypes: datetime64[ns](9), int64(1)\n",
            "memory usage: 240.8 KB\n"
          ]
        }
      ],
      "source": [
        "df_wire_time.info()"
      ]
    },
    {
      "cell_type": "markdown",
      "metadata": {
        "id": "tG2iRfh07jTq"
      },
      "source": [
        "### Вывод"
      ]
    },
    {
      "cell_type": "markdown",
      "metadata": {
        "id": "nh-OQHKJ7Bnm"
      },
      "source": [
        "Первично данные осмотрены, выявлены места, требующие уточнений.\n",
        "Не удобно работать с такой кучей таблиц, их надо как-то объединить.\n",
        "\n",
        "---"
      ]
    },
    {
      "cell_type": "markdown",
      "metadata": {
        "id": "Usgs4_kJ5C5D"
      },
      "source": [
        "# Часть 2 Доочищение данных и формирование итоговой таблицы"
      ]
    },
    {
      "cell_type": "markdown",
      "source": [
        "Итак после обсуждения задачи с Тим-лидом и Заказчиком, пришла ясность в данной задаче, нужно сформировать итоговую таблицу, которая будет содержать: начальную температуру, прилагаемую активную мощность, присадки, конечную температуру(таргет). Вся изюминка в том, что данные по присадкам разбросаны по времени, и есть множество записей, когда присдаки добавляли до начальной температуры или после конечной. Такие данные надо обнулить. Так же есть множество промежуточных температур, которые для данной задачи являются излишними. И задача не сводится к времянным рядам, как изначально подсказывала интуиция.\n",
        "\n",
        "Вопросы, которые возникли в первой части:\n",
        "1. Что делать с разрывом в 4 дня в данных ?\n",
        "  - не обращать на него внимание, это задача обычная регрессия.\n",
        "\n",
        "2. Что делать с выбрасами k?\n",
        "  - оставить, как есть. Такие данные от Заказчика, и это не выбросы.\n",
        "\n",
        "3. Что делать с разным количество k ?\n",
        "  - удалить \"лишние\", отталкиваться от таблицы температур. В этом случае удалиться 2 партии из df_arc и максимум 25 значений из других таблиц. То что в таблицах \"присадок\" нет нужного количества данных неважно, допустим, что часть партий была изначально хорошего химического состава и их только обработали газом."
      ],
      "metadata": {
        "id": "2w_f_PtEl-KN"
      }
    },
    {
      "cell_type": "markdown",
      "metadata": {
        "id": "mB_O1XbXMxdc"
      },
      "source": [
        "## df_temp"
      ]
    },
    {
      "cell_type": "markdown",
      "metadata": {
        "id": "r61WnNlR5QL6"
      },
      "source": [
        "Итак нужно доочищать данные, а так же свести все в одну таблицу. Этим и займемся, начнем с таблицы df_temp, но сначала разберемся с разными значениями k в данной таблице и в таблице df_arc"
      ]
    },
    {
      "cell_type": "code",
      "execution_count": 55,
      "metadata": {
        "colab": {
          "base_uri": "https://localhost:8080/"
        },
        "id": "1_3L_PZvJ1wp",
        "outputId": "e74984b2-28ca-4c69-a840-715ed44f3aab"
      },
      "outputs": [
        {
          "output_type": "execute_result",
          "data": {
            "text/plain": [
              "{195, 279}"
            ]
          },
          "metadata": {},
          "execution_count": 55
        }
      ],
      "source": [
        "set(dict_dif['df_arc']) - set(dict_dif['df_temp'])"
      ]
    },
    {
      "cell_type": "code",
      "execution_count": 56,
      "metadata": {
        "colab": {
          "base_uri": "https://localhost:8080/",
          "height": 81
        },
        "id": "aH1lzn9eJ1tx",
        "outputId": "9a9cdd61-ae99-4a52-a810-0be164183eab"
      },
      "outputs": [
        {
          "output_type": "execute_result",
          "data": {
            "text/plain": [
              "      key        time_measure    temp\n",
              "1100  195 2019-05-10 14:10:23  1583.0"
            ],
            "text/html": [
              "\n",
              "  <div id=\"df-b9d28b31-47fb-4da2-8ed5-6ffc0cc7f89e\">\n",
              "    <div class=\"colab-df-container\">\n",
              "      <div>\n",
              "<style scoped>\n",
              "    .dataframe tbody tr th:only-of-type {\n",
              "        vertical-align: middle;\n",
              "    }\n",
              "\n",
              "    .dataframe tbody tr th {\n",
              "        vertical-align: top;\n",
              "    }\n",
              "\n",
              "    .dataframe thead th {\n",
              "        text-align: right;\n",
              "    }\n",
              "</style>\n",
              "<table border=\"1\" class=\"dataframe\">\n",
              "  <thead>\n",
              "    <tr style=\"text-align: right;\">\n",
              "      <th></th>\n",
              "      <th>key</th>\n",
              "      <th>time_measure</th>\n",
              "      <th>temp</th>\n",
              "    </tr>\n",
              "  </thead>\n",
              "  <tbody>\n",
              "    <tr>\n",
              "      <th>1100</th>\n",
              "      <td>195</td>\n",
              "      <td>2019-05-10 14:10:23</td>\n",
              "      <td>1583.0</td>\n",
              "    </tr>\n",
              "  </tbody>\n",
              "</table>\n",
              "</div>\n",
              "      <button class=\"colab-df-convert\" onclick=\"convertToInteractive('df-b9d28b31-47fb-4da2-8ed5-6ffc0cc7f89e')\"\n",
              "              title=\"Convert this dataframe to an interactive table.\"\n",
              "              style=\"display:none;\">\n",
              "        \n",
              "  <svg xmlns=\"http://www.w3.org/2000/svg\" height=\"24px\"viewBox=\"0 0 24 24\"\n",
              "       width=\"24px\">\n",
              "    <path d=\"M0 0h24v24H0V0z\" fill=\"none\"/>\n",
              "    <path d=\"M18.56 5.44l.94 2.06.94-2.06 2.06-.94-2.06-.94-.94-2.06-.94 2.06-2.06.94zm-11 1L8.5 8.5l.94-2.06 2.06-.94-2.06-.94L8.5 2.5l-.94 2.06-2.06.94zm10 10l.94 2.06.94-2.06 2.06-.94-2.06-.94-.94-2.06-.94 2.06-2.06.94z\"/><path d=\"M17.41 7.96l-1.37-1.37c-.4-.4-.92-.59-1.43-.59-.52 0-1.04.2-1.43.59L10.3 9.45l-7.72 7.72c-.78.78-.78 2.05 0 2.83L4 21.41c.39.39.9.59 1.41.59.51 0 1.02-.2 1.41-.59l7.78-7.78 2.81-2.81c.8-.78.8-2.07 0-2.86zM5.41 20L4 18.59l7.72-7.72 1.47 1.35L5.41 20z\"/>\n",
              "  </svg>\n",
              "      </button>\n",
              "      \n",
              "  <style>\n",
              "    .colab-df-container {\n",
              "      display:flex;\n",
              "      flex-wrap:wrap;\n",
              "      gap: 12px;\n",
              "    }\n",
              "\n",
              "    .colab-df-convert {\n",
              "      background-color: #E8F0FE;\n",
              "      border: none;\n",
              "      border-radius: 50%;\n",
              "      cursor: pointer;\n",
              "      display: none;\n",
              "      fill: #1967D2;\n",
              "      height: 32px;\n",
              "      padding: 0 0 0 0;\n",
              "      width: 32px;\n",
              "    }\n",
              "\n",
              "    .colab-df-convert:hover {\n",
              "      background-color: #E2EBFA;\n",
              "      box-shadow: 0px 1px 2px rgba(60, 64, 67, 0.3), 0px 1px 3px 1px rgba(60, 64, 67, 0.15);\n",
              "      fill: #174EA6;\n",
              "    }\n",
              "\n",
              "    [theme=dark] .colab-df-convert {\n",
              "      background-color: #3B4455;\n",
              "      fill: #D2E3FC;\n",
              "    }\n",
              "\n",
              "    [theme=dark] .colab-df-convert:hover {\n",
              "      background-color: #434B5C;\n",
              "      box-shadow: 0px 1px 3px 1px rgba(0, 0, 0, 0.15);\n",
              "      filter: drop-shadow(0px 1px 2px rgba(0, 0, 0, 0.3));\n",
              "      fill: #FFFFFF;\n",
              "    }\n",
              "  </style>\n",
              "\n",
              "      <script>\n",
              "        const buttonEl =\n",
              "          document.querySelector('#df-b9d28b31-47fb-4da2-8ed5-6ffc0cc7f89e button.colab-df-convert');\n",
              "        buttonEl.style.display =\n",
              "          google.colab.kernel.accessAllowed ? 'block' : 'none';\n",
              "\n",
              "        async function convertToInteractive(key) {\n",
              "          const element = document.querySelector('#df-b9d28b31-47fb-4da2-8ed5-6ffc0cc7f89e');\n",
              "          const dataTable =\n",
              "            await google.colab.kernel.invokeFunction('convertToInteractive',\n",
              "                                                     [key], {});\n",
              "          if (!dataTable) return;\n",
              "\n",
              "          const docLinkHtml = 'Like what you see? Visit the ' +\n",
              "            '<a target=\"_blank\" href=https://colab.research.google.com/notebooks/data_table.ipynb>data table notebook</a>'\n",
              "            + ' to learn more about interactive tables.';\n",
              "          element.innerHTML = '';\n",
              "          dataTable['output_type'] = 'display_data';\n",
              "          await google.colab.output.renderOutput(dataTable, element);\n",
              "          const docLink = document.createElement('div');\n",
              "          docLink.innerHTML = docLinkHtml;\n",
              "          element.appendChild(docLink);\n",
              "        }\n",
              "      </script>\n",
              "    </div>\n",
              "  </div>\n",
              "  "
            ]
          },
          "metadata": {},
          "execution_count": 56
        }
      ],
      "source": [
        "df_temp[df_temp['key'] == 195]"
      ]
    },
    {
      "cell_type": "code",
      "execution_count": 57,
      "metadata": {
        "colab": {
          "base_uri": "https://localhost:8080/",
          "height": 81
        },
        "id": "XbHnalsaMhxO",
        "outputId": "a7addbaf-84dd-4135-e431-a2129cec5098"
      },
      "outputs": [
        {
          "output_type": "execute_result",
          "data": {
            "text/plain": [
              "      key        time_measure    temp\n",
              "1554  279 2019-05-13 23:07:28  1603.0"
            ],
            "text/html": [
              "\n",
              "  <div id=\"df-86a4fd43-84fd-41e1-84cc-4fe65fcad1a1\">\n",
              "    <div class=\"colab-df-container\">\n",
              "      <div>\n",
              "<style scoped>\n",
              "    .dataframe tbody tr th:only-of-type {\n",
              "        vertical-align: middle;\n",
              "    }\n",
              "\n",
              "    .dataframe tbody tr th {\n",
              "        vertical-align: top;\n",
              "    }\n",
              "\n",
              "    .dataframe thead th {\n",
              "        text-align: right;\n",
              "    }\n",
              "</style>\n",
              "<table border=\"1\" class=\"dataframe\">\n",
              "  <thead>\n",
              "    <tr style=\"text-align: right;\">\n",
              "      <th></th>\n",
              "      <th>key</th>\n",
              "      <th>time_measure</th>\n",
              "      <th>temp</th>\n",
              "    </tr>\n",
              "  </thead>\n",
              "  <tbody>\n",
              "    <tr>\n",
              "      <th>1554</th>\n",
              "      <td>279</td>\n",
              "      <td>2019-05-13 23:07:28</td>\n",
              "      <td>1603.0</td>\n",
              "    </tr>\n",
              "  </tbody>\n",
              "</table>\n",
              "</div>\n",
              "      <button class=\"colab-df-convert\" onclick=\"convertToInteractive('df-86a4fd43-84fd-41e1-84cc-4fe65fcad1a1')\"\n",
              "              title=\"Convert this dataframe to an interactive table.\"\n",
              "              style=\"display:none;\">\n",
              "        \n",
              "  <svg xmlns=\"http://www.w3.org/2000/svg\" height=\"24px\"viewBox=\"0 0 24 24\"\n",
              "       width=\"24px\">\n",
              "    <path d=\"M0 0h24v24H0V0z\" fill=\"none\"/>\n",
              "    <path d=\"M18.56 5.44l.94 2.06.94-2.06 2.06-.94-2.06-.94-.94-2.06-.94 2.06-2.06.94zm-11 1L8.5 8.5l.94-2.06 2.06-.94-2.06-.94L8.5 2.5l-.94 2.06-2.06.94zm10 10l.94 2.06.94-2.06 2.06-.94-2.06-.94-.94-2.06-.94 2.06-2.06.94z\"/><path d=\"M17.41 7.96l-1.37-1.37c-.4-.4-.92-.59-1.43-.59-.52 0-1.04.2-1.43.59L10.3 9.45l-7.72 7.72c-.78.78-.78 2.05 0 2.83L4 21.41c.39.39.9.59 1.41.59.51 0 1.02-.2 1.41-.59l7.78-7.78 2.81-2.81c.8-.78.8-2.07 0-2.86zM5.41 20L4 18.59l7.72-7.72 1.47 1.35L5.41 20z\"/>\n",
              "  </svg>\n",
              "      </button>\n",
              "      \n",
              "  <style>\n",
              "    .colab-df-container {\n",
              "      display:flex;\n",
              "      flex-wrap:wrap;\n",
              "      gap: 12px;\n",
              "    }\n",
              "\n",
              "    .colab-df-convert {\n",
              "      background-color: #E8F0FE;\n",
              "      border: none;\n",
              "      border-radius: 50%;\n",
              "      cursor: pointer;\n",
              "      display: none;\n",
              "      fill: #1967D2;\n",
              "      height: 32px;\n",
              "      padding: 0 0 0 0;\n",
              "      width: 32px;\n",
              "    }\n",
              "\n",
              "    .colab-df-convert:hover {\n",
              "      background-color: #E2EBFA;\n",
              "      box-shadow: 0px 1px 2px rgba(60, 64, 67, 0.3), 0px 1px 3px 1px rgba(60, 64, 67, 0.15);\n",
              "      fill: #174EA6;\n",
              "    }\n",
              "\n",
              "    [theme=dark] .colab-df-convert {\n",
              "      background-color: #3B4455;\n",
              "      fill: #D2E3FC;\n",
              "    }\n",
              "\n",
              "    [theme=dark] .colab-df-convert:hover {\n",
              "      background-color: #434B5C;\n",
              "      box-shadow: 0px 1px 3px 1px rgba(0, 0, 0, 0.15);\n",
              "      filter: drop-shadow(0px 1px 2px rgba(0, 0, 0, 0.3));\n",
              "      fill: #FFFFFF;\n",
              "    }\n",
              "  </style>\n",
              "\n",
              "      <script>\n",
              "        const buttonEl =\n",
              "          document.querySelector('#df-86a4fd43-84fd-41e1-84cc-4fe65fcad1a1 button.colab-df-convert');\n",
              "        buttonEl.style.display =\n",
              "          google.colab.kernel.accessAllowed ? 'block' : 'none';\n",
              "\n",
              "        async function convertToInteractive(key) {\n",
              "          const element = document.querySelector('#df-86a4fd43-84fd-41e1-84cc-4fe65fcad1a1');\n",
              "          const dataTable =\n",
              "            await google.colab.kernel.invokeFunction('convertToInteractive',\n",
              "                                                     [key], {});\n",
              "          if (!dataTable) return;\n",
              "\n",
              "          const docLinkHtml = 'Like what you see? Visit the ' +\n",
              "            '<a target=\"_blank\" href=https://colab.research.google.com/notebooks/data_table.ipynb>data table notebook</a>'\n",
              "            + ' to learn more about interactive tables.';\n",
              "          element.innerHTML = '';\n",
              "          dataTable['output_type'] = 'display_data';\n",
              "          await google.colab.output.renderOutput(dataTable, element);\n",
              "          const docLink = document.createElement('div');\n",
              "          docLink.innerHTML = docLinkHtml;\n",
              "          element.appendChild(docLink);\n",
              "        }\n",
              "      </script>\n",
              "    </div>\n",
              "  </div>\n",
              "  "
            ]
          },
          "metadata": {},
          "execution_count": 57
        }
      ],
      "source": [
        "df_temp[df_temp['key'] == 279]"
      ]
    },
    {
      "cell_type": "markdown",
      "metadata": {
        "id": "oKQL9535MtWl"
      },
      "source": [
        "Как видно для данных значений партий есть только начальная температура, а так как эти данные относятся к выборке train, то предлагается их удалить из-за не полноты данных."
      ]
    },
    {
      "cell_type": "code",
      "execution_count": 58,
      "metadata": {
        "id": "JAGHkiMKJ1qf"
      },
      "outputs": [],
      "source": [
        "df_temp = df_temp.drop(index=[df_temp[df_temp['key'] == 195].index[0], df_temp[df_temp['key'] == 279].index[0]])"
      ]
    },
    {
      "cell_type": "markdown",
      "metadata": {
        "id": "v2Ncoyyaa-r-"
      },
      "source": [
        "Теперь удалим промежуточные значения температур, оставим только начальную и конечную"
      ]
    },
    {
      "cell_type": "code",
      "execution_count": 59,
      "metadata": {
        "id": "YpvgnnMR6COZ"
      },
      "outputs": [],
      "source": [
        "keys = df_temp['key'].unique()\n",
        "list_to_delete = []\n",
        "\n",
        "for key in keys:\n",
        "  list_to_delete += list(set(df_temp[df_temp['key'] == key].index) - set([df_temp[df_temp['key'] == key].idxmin().values[1], df_temp[df_temp['key'] == key].idxmax().values[1]]))"
      ]
    },
    {
      "cell_type": "markdown",
      "metadata": {
        "id": "zio66n-q_Mop"
      },
      "source": [
        "Список \"лишних\" строк в таблице получили, теперь удалим их."
      ]
    },
    {
      "cell_type": "code",
      "execution_count": 60,
      "metadata": {
        "id": "hAi66V6r9yhy",
        "colab": {
          "base_uri": "https://localhost:8080/",
          "height": 206
        },
        "outputId": "3130783d-81a7-461b-8174-9036209664bb"
      },
      "outputs": [
        {
          "output_type": "execute_result",
          "data": {
            "text/plain": [
              "    key        time_measure    temp\n",
              "0     1 2019-05-03 11:16:18  1571.0\n",
              "4     1 2019-05-03 11:30:39  1613.0\n",
              "5     2 2019-05-03 11:37:27  1581.0\n",
              "10    2 2019-05-03 11:59:12  1602.0\n",
              "11    3 2019-05-03 12:13:17  1596.0"
            ],
            "text/html": [
              "\n",
              "  <div id=\"df-4669f06a-0258-4bc4-a477-3524012d951a\">\n",
              "    <div class=\"colab-df-container\">\n",
              "      <div>\n",
              "<style scoped>\n",
              "    .dataframe tbody tr th:only-of-type {\n",
              "        vertical-align: middle;\n",
              "    }\n",
              "\n",
              "    .dataframe tbody tr th {\n",
              "        vertical-align: top;\n",
              "    }\n",
              "\n",
              "    .dataframe thead th {\n",
              "        text-align: right;\n",
              "    }\n",
              "</style>\n",
              "<table border=\"1\" class=\"dataframe\">\n",
              "  <thead>\n",
              "    <tr style=\"text-align: right;\">\n",
              "      <th></th>\n",
              "      <th>key</th>\n",
              "      <th>time_measure</th>\n",
              "      <th>temp</th>\n",
              "    </tr>\n",
              "  </thead>\n",
              "  <tbody>\n",
              "    <tr>\n",
              "      <th>0</th>\n",
              "      <td>1</td>\n",
              "      <td>2019-05-03 11:16:18</td>\n",
              "      <td>1571.0</td>\n",
              "    </tr>\n",
              "    <tr>\n",
              "      <th>4</th>\n",
              "      <td>1</td>\n",
              "      <td>2019-05-03 11:30:39</td>\n",
              "      <td>1613.0</td>\n",
              "    </tr>\n",
              "    <tr>\n",
              "      <th>5</th>\n",
              "      <td>2</td>\n",
              "      <td>2019-05-03 11:37:27</td>\n",
              "      <td>1581.0</td>\n",
              "    </tr>\n",
              "    <tr>\n",
              "      <th>10</th>\n",
              "      <td>2</td>\n",
              "      <td>2019-05-03 11:59:12</td>\n",
              "      <td>1602.0</td>\n",
              "    </tr>\n",
              "    <tr>\n",
              "      <th>11</th>\n",
              "      <td>3</td>\n",
              "      <td>2019-05-03 12:13:17</td>\n",
              "      <td>1596.0</td>\n",
              "    </tr>\n",
              "  </tbody>\n",
              "</table>\n",
              "</div>\n",
              "      <button class=\"colab-df-convert\" onclick=\"convertToInteractive('df-4669f06a-0258-4bc4-a477-3524012d951a')\"\n",
              "              title=\"Convert this dataframe to an interactive table.\"\n",
              "              style=\"display:none;\">\n",
              "        \n",
              "  <svg xmlns=\"http://www.w3.org/2000/svg\" height=\"24px\"viewBox=\"0 0 24 24\"\n",
              "       width=\"24px\">\n",
              "    <path d=\"M0 0h24v24H0V0z\" fill=\"none\"/>\n",
              "    <path d=\"M18.56 5.44l.94 2.06.94-2.06 2.06-.94-2.06-.94-.94-2.06-.94 2.06-2.06.94zm-11 1L8.5 8.5l.94-2.06 2.06-.94-2.06-.94L8.5 2.5l-.94 2.06-2.06.94zm10 10l.94 2.06.94-2.06 2.06-.94-2.06-.94-.94-2.06-.94 2.06-2.06.94z\"/><path d=\"M17.41 7.96l-1.37-1.37c-.4-.4-.92-.59-1.43-.59-.52 0-1.04.2-1.43.59L10.3 9.45l-7.72 7.72c-.78.78-.78 2.05 0 2.83L4 21.41c.39.39.9.59 1.41.59.51 0 1.02-.2 1.41-.59l7.78-7.78 2.81-2.81c.8-.78.8-2.07 0-2.86zM5.41 20L4 18.59l7.72-7.72 1.47 1.35L5.41 20z\"/>\n",
              "  </svg>\n",
              "      </button>\n",
              "      \n",
              "  <style>\n",
              "    .colab-df-container {\n",
              "      display:flex;\n",
              "      flex-wrap:wrap;\n",
              "      gap: 12px;\n",
              "    }\n",
              "\n",
              "    .colab-df-convert {\n",
              "      background-color: #E8F0FE;\n",
              "      border: none;\n",
              "      border-radius: 50%;\n",
              "      cursor: pointer;\n",
              "      display: none;\n",
              "      fill: #1967D2;\n",
              "      height: 32px;\n",
              "      padding: 0 0 0 0;\n",
              "      width: 32px;\n",
              "    }\n",
              "\n",
              "    .colab-df-convert:hover {\n",
              "      background-color: #E2EBFA;\n",
              "      box-shadow: 0px 1px 2px rgba(60, 64, 67, 0.3), 0px 1px 3px 1px rgba(60, 64, 67, 0.15);\n",
              "      fill: #174EA6;\n",
              "    }\n",
              "\n",
              "    [theme=dark] .colab-df-convert {\n",
              "      background-color: #3B4455;\n",
              "      fill: #D2E3FC;\n",
              "    }\n",
              "\n",
              "    [theme=dark] .colab-df-convert:hover {\n",
              "      background-color: #434B5C;\n",
              "      box-shadow: 0px 1px 3px 1px rgba(0, 0, 0, 0.15);\n",
              "      filter: drop-shadow(0px 1px 2px rgba(0, 0, 0, 0.3));\n",
              "      fill: #FFFFFF;\n",
              "    }\n",
              "  </style>\n",
              "\n",
              "      <script>\n",
              "        const buttonEl =\n",
              "          document.querySelector('#df-4669f06a-0258-4bc4-a477-3524012d951a button.colab-df-convert');\n",
              "        buttonEl.style.display =\n",
              "          google.colab.kernel.accessAllowed ? 'block' : 'none';\n",
              "\n",
              "        async function convertToInteractive(key) {\n",
              "          const element = document.querySelector('#df-4669f06a-0258-4bc4-a477-3524012d951a');\n",
              "          const dataTable =\n",
              "            await google.colab.kernel.invokeFunction('convertToInteractive',\n",
              "                                                     [key], {});\n",
              "          if (!dataTable) return;\n",
              "\n",
              "          const docLinkHtml = 'Like what you see? Visit the ' +\n",
              "            '<a target=\"_blank\" href=https://colab.research.google.com/notebooks/data_table.ipynb>data table notebook</a>'\n",
              "            + ' to learn more about interactive tables.';\n",
              "          element.innerHTML = '';\n",
              "          dataTable['output_type'] = 'display_data';\n",
              "          await google.colab.output.renderOutput(dataTable, element);\n",
              "          const docLink = document.createElement('div');\n",
              "          docLink.innerHTML = docLinkHtml;\n",
              "          element.appendChild(docLink);\n",
              "        }\n",
              "      </script>\n",
              "    </div>\n",
              "  </div>\n",
              "  "
            ]
          },
          "metadata": {},
          "execution_count": 60
        }
      ],
      "source": [
        "df_temp = df_temp.drop(index=list_to_delete)\n",
        "df_temp.head()"
      ]
    },
    {
      "cell_type": "markdown",
      "metadata": {
        "id": "1uCn0BsWCQCN"
      },
      "source": [
        "Отлично удалили лишние данные, теперь четко видно начальную и конечные температуры. Создадим итоговую таблицу df и начнем ее наполнять"
      ]
    },
    {
      "cell_type": "code",
      "execution_count": 61,
      "metadata": {
        "id": "PAWIG6eJDb6Z"
      },
      "outputs": [],
      "source": [
        "df = pd.DataFrame()"
      ]
    },
    {
      "cell_type": "code",
      "execution_count": 62,
      "metadata": {
        "id": "Al388R88BY71"
      },
      "outputs": [],
      "source": [
        "df['target'] = df_temp['temp'].values[1::2]"
      ]
    },
    {
      "cell_type": "code",
      "execution_count": 63,
      "metadata": {
        "id": "qlfSTQxEDat1"
      },
      "outputs": [],
      "source": [
        "df['start_temp'] = df_temp['temp'].values[0::2]"
      ]
    },
    {
      "cell_type": "code",
      "execution_count": 64,
      "metadata": {
        "id": "G3TndsLmDk0d"
      },
      "outputs": [],
      "source": [
        "df['key'] = df_temp['key'].unique()"
      ]
    },
    {
      "cell_type": "markdown",
      "metadata": {
        "id": "QGrBoyiXQ50R"
      },
      "source": [
        "Посмотрим, что получилось"
      ]
    },
    {
      "cell_type": "code",
      "execution_count": 65,
      "metadata": {
        "colab": {
          "base_uri": "https://localhost:8080/",
          "height": 206
        },
        "id": "CrPgZIssDvW7",
        "outputId": "b85143d1-d1fe-4e17-8e96-f8ad6ef39db2"
      },
      "outputs": [
        {
          "output_type": "execute_result",
          "data": {
            "text/plain": [
              "   target  start_temp  key\n",
              "0  1613.0      1571.0    1\n",
              "1  1602.0      1581.0    2\n",
              "2  1599.0      1596.0    3\n",
              "3  1625.0      1601.0    4\n",
              "4  1602.0      1576.0    5"
            ],
            "text/html": [
              "\n",
              "  <div id=\"df-6cb40442-9160-4178-a6fb-642bcafea7bd\">\n",
              "    <div class=\"colab-df-container\">\n",
              "      <div>\n",
              "<style scoped>\n",
              "    .dataframe tbody tr th:only-of-type {\n",
              "        vertical-align: middle;\n",
              "    }\n",
              "\n",
              "    .dataframe tbody tr th {\n",
              "        vertical-align: top;\n",
              "    }\n",
              "\n",
              "    .dataframe thead th {\n",
              "        text-align: right;\n",
              "    }\n",
              "</style>\n",
              "<table border=\"1\" class=\"dataframe\">\n",
              "  <thead>\n",
              "    <tr style=\"text-align: right;\">\n",
              "      <th></th>\n",
              "      <th>target</th>\n",
              "      <th>start_temp</th>\n",
              "      <th>key</th>\n",
              "    </tr>\n",
              "  </thead>\n",
              "  <tbody>\n",
              "    <tr>\n",
              "      <th>0</th>\n",
              "      <td>1613.0</td>\n",
              "      <td>1571.0</td>\n",
              "      <td>1</td>\n",
              "    </tr>\n",
              "    <tr>\n",
              "      <th>1</th>\n",
              "      <td>1602.0</td>\n",
              "      <td>1581.0</td>\n",
              "      <td>2</td>\n",
              "    </tr>\n",
              "    <tr>\n",
              "      <th>2</th>\n",
              "      <td>1599.0</td>\n",
              "      <td>1596.0</td>\n",
              "      <td>3</td>\n",
              "    </tr>\n",
              "    <tr>\n",
              "      <th>3</th>\n",
              "      <td>1625.0</td>\n",
              "      <td>1601.0</td>\n",
              "      <td>4</td>\n",
              "    </tr>\n",
              "    <tr>\n",
              "      <th>4</th>\n",
              "      <td>1602.0</td>\n",
              "      <td>1576.0</td>\n",
              "      <td>5</td>\n",
              "    </tr>\n",
              "  </tbody>\n",
              "</table>\n",
              "</div>\n",
              "      <button class=\"colab-df-convert\" onclick=\"convertToInteractive('df-6cb40442-9160-4178-a6fb-642bcafea7bd')\"\n",
              "              title=\"Convert this dataframe to an interactive table.\"\n",
              "              style=\"display:none;\">\n",
              "        \n",
              "  <svg xmlns=\"http://www.w3.org/2000/svg\" height=\"24px\"viewBox=\"0 0 24 24\"\n",
              "       width=\"24px\">\n",
              "    <path d=\"M0 0h24v24H0V0z\" fill=\"none\"/>\n",
              "    <path d=\"M18.56 5.44l.94 2.06.94-2.06 2.06-.94-2.06-.94-.94-2.06-.94 2.06-2.06.94zm-11 1L8.5 8.5l.94-2.06 2.06-.94-2.06-.94L8.5 2.5l-.94 2.06-2.06.94zm10 10l.94 2.06.94-2.06 2.06-.94-2.06-.94-.94-2.06-.94 2.06-2.06.94z\"/><path d=\"M17.41 7.96l-1.37-1.37c-.4-.4-.92-.59-1.43-.59-.52 0-1.04.2-1.43.59L10.3 9.45l-7.72 7.72c-.78.78-.78 2.05 0 2.83L4 21.41c.39.39.9.59 1.41.59.51 0 1.02-.2 1.41-.59l7.78-7.78 2.81-2.81c.8-.78.8-2.07 0-2.86zM5.41 20L4 18.59l7.72-7.72 1.47 1.35L5.41 20z\"/>\n",
              "  </svg>\n",
              "      </button>\n",
              "      \n",
              "  <style>\n",
              "    .colab-df-container {\n",
              "      display:flex;\n",
              "      flex-wrap:wrap;\n",
              "      gap: 12px;\n",
              "    }\n",
              "\n",
              "    .colab-df-convert {\n",
              "      background-color: #E8F0FE;\n",
              "      border: none;\n",
              "      border-radius: 50%;\n",
              "      cursor: pointer;\n",
              "      display: none;\n",
              "      fill: #1967D2;\n",
              "      height: 32px;\n",
              "      padding: 0 0 0 0;\n",
              "      width: 32px;\n",
              "    }\n",
              "\n",
              "    .colab-df-convert:hover {\n",
              "      background-color: #E2EBFA;\n",
              "      box-shadow: 0px 1px 2px rgba(60, 64, 67, 0.3), 0px 1px 3px 1px rgba(60, 64, 67, 0.15);\n",
              "      fill: #174EA6;\n",
              "    }\n",
              "\n",
              "    [theme=dark] .colab-df-convert {\n",
              "      background-color: #3B4455;\n",
              "      fill: #D2E3FC;\n",
              "    }\n",
              "\n",
              "    [theme=dark] .colab-df-convert:hover {\n",
              "      background-color: #434B5C;\n",
              "      box-shadow: 0px 1px 3px 1px rgba(0, 0, 0, 0.15);\n",
              "      filter: drop-shadow(0px 1px 2px rgba(0, 0, 0, 0.3));\n",
              "      fill: #FFFFFF;\n",
              "    }\n",
              "  </style>\n",
              "\n",
              "      <script>\n",
              "        const buttonEl =\n",
              "          document.querySelector('#df-6cb40442-9160-4178-a6fb-642bcafea7bd button.colab-df-convert');\n",
              "        buttonEl.style.display =\n",
              "          google.colab.kernel.accessAllowed ? 'block' : 'none';\n",
              "\n",
              "        async function convertToInteractive(key) {\n",
              "          const element = document.querySelector('#df-6cb40442-9160-4178-a6fb-642bcafea7bd');\n",
              "          const dataTable =\n",
              "            await google.colab.kernel.invokeFunction('convertToInteractive',\n",
              "                                                     [key], {});\n",
              "          if (!dataTable) return;\n",
              "\n",
              "          const docLinkHtml = 'Like what you see? Visit the ' +\n",
              "            '<a target=\"_blank\" href=https://colab.research.google.com/notebooks/data_table.ipynb>data table notebook</a>'\n",
              "            + ' to learn more about interactive tables.';\n",
              "          element.innerHTML = '';\n",
              "          dataTable['output_type'] = 'display_data';\n",
              "          await google.colab.output.renderOutput(dataTable, element);\n",
              "          const docLink = document.createElement('div');\n",
              "          docLink.innerHTML = docLinkHtml;\n",
              "          element.appendChild(docLink);\n",
              "        }\n",
              "      </script>\n",
              "    </div>\n",
              "  </div>\n",
              "  "
            ]
          },
          "metadata": {},
          "execution_count": 65
        }
      ],
      "source": [
        "df.head()"
      ]
    },
    {
      "cell_type": "markdown",
      "metadata": {
        "id": "iHHK_BXzdz7D"
      },
      "source": [
        "---"
      ]
    },
    {
      "cell_type": "markdown",
      "metadata": {
        "id": "xsa1l0U5NFcp"
      },
      "source": [
        "## df_arc"
      ]
    },
    {
      "cell_type": "markdown",
      "metadata": {
        "id": "XoIZVLrnwRI7"
      },
      "source": [
        "Отформатируем таблицу **df_arc** и добавим необходимые данные из нее в итоговую таблицу"
      ]
    },
    {
      "cell_type": "code",
      "execution_count": 66,
      "metadata": {
        "id": "XqSD4LOIw2dg"
      },
      "outputs": [],
      "source": [
        "list_add_before = []\n",
        "list_add_after = []\n",
        "keys = df_temp['key'].unique()\n",
        "time_col_arc = ['start_heat', 'end_heat']\n",
        "\n",
        "for key in keys:\n",
        "  for row_data, index_data in zip(df_arc[df_arc['key'] == key][time_col_arc].values, df_arc[df_arc['key'] == key][time_col_arc].index):\n",
        "    for value in row_data:\n",
        "      if value < df_temp[df_temp['key'] == key]['time_measure'].min():\n",
        "        list_add_before.append(index_data)\n",
        "      elif value > df_temp[df_temp['key'] == key]['time_measure'].max():\n",
        "        list_add_after.append(index_data)\n",
        "\n",
        "list_to_delete_2 = pd.Series(list_add_before + list_add_after).unique()"
      ]
    },
    {
      "cell_type": "code",
      "execution_count": 67,
      "metadata": {
        "id": "UBVdY5YwdjGz"
      },
      "outputs": [],
      "source": [
        "df_arc = df_arc.drop(index=list_to_delete_2)"
      ]
    },
    {
      "cell_type": "markdown",
      "metadata": {
        "id": "a3IQVh8Qf1DT"
      },
      "source": [
        "Лишние мощности удалили, которые были до начальной температуры и после нее. Теперь сгруппируем таблицу и присоединим сумму активных мощностей для каждой партии к итоговой таблице."
      ]
    },
    {
      "cell_type": "code",
      "execution_count": 68,
      "metadata": {
        "colab": {
          "base_uri": "https://localhost:8080/",
          "height": 363
        },
        "id": "ljiW6h9Kfx4_",
        "outputId": "3bd48d8b-0fd5-488b-efde-674c4c5b9fbf"
      },
      "outputs": [
        {
          "output_type": "execute_result",
          "data": {
            "text/plain": [
              "   key  real_power\n",
              "0    1    2.352117\n",
              "1    2    2.614535\n",
              "2    3    1.463829\n",
              "3    4    1.220955\n",
              "4    5    1.889121\n",
              "5    6    3.620968\n",
              "6    7    2.160290\n",
              "7    8    1.672854\n",
              "8    9    1.572590\n",
              "9   10    2.453327"
            ],
            "text/html": [
              "\n",
              "  <div id=\"df-6d51eea3-dde7-4eda-a2e1-b7884cbc4c62\">\n",
              "    <div class=\"colab-df-container\">\n",
              "      <div>\n",
              "<style scoped>\n",
              "    .dataframe tbody tr th:only-of-type {\n",
              "        vertical-align: middle;\n",
              "    }\n",
              "\n",
              "    .dataframe tbody tr th {\n",
              "        vertical-align: top;\n",
              "    }\n",
              "\n",
              "    .dataframe thead th {\n",
              "        text-align: right;\n",
              "    }\n",
              "</style>\n",
              "<table border=\"1\" class=\"dataframe\">\n",
              "  <thead>\n",
              "    <tr style=\"text-align: right;\">\n",
              "      <th></th>\n",
              "      <th>key</th>\n",
              "      <th>real_power</th>\n",
              "    </tr>\n",
              "  </thead>\n",
              "  <tbody>\n",
              "    <tr>\n",
              "      <th>0</th>\n",
              "      <td>1</td>\n",
              "      <td>2.352117</td>\n",
              "    </tr>\n",
              "    <tr>\n",
              "      <th>1</th>\n",
              "      <td>2</td>\n",
              "      <td>2.614535</td>\n",
              "    </tr>\n",
              "    <tr>\n",
              "      <th>2</th>\n",
              "      <td>3</td>\n",
              "      <td>1.463829</td>\n",
              "    </tr>\n",
              "    <tr>\n",
              "      <th>3</th>\n",
              "      <td>4</td>\n",
              "      <td>1.220955</td>\n",
              "    </tr>\n",
              "    <tr>\n",
              "      <th>4</th>\n",
              "      <td>5</td>\n",
              "      <td>1.889121</td>\n",
              "    </tr>\n",
              "    <tr>\n",
              "      <th>5</th>\n",
              "      <td>6</td>\n",
              "      <td>3.620968</td>\n",
              "    </tr>\n",
              "    <tr>\n",
              "      <th>6</th>\n",
              "      <td>7</td>\n",
              "      <td>2.160290</td>\n",
              "    </tr>\n",
              "    <tr>\n",
              "      <th>7</th>\n",
              "      <td>8</td>\n",
              "      <td>1.672854</td>\n",
              "    </tr>\n",
              "    <tr>\n",
              "      <th>8</th>\n",
              "      <td>9</td>\n",
              "      <td>1.572590</td>\n",
              "    </tr>\n",
              "    <tr>\n",
              "      <th>9</th>\n",
              "      <td>10</td>\n",
              "      <td>2.453327</td>\n",
              "    </tr>\n",
              "  </tbody>\n",
              "</table>\n",
              "</div>\n",
              "      <button class=\"colab-df-convert\" onclick=\"convertToInteractive('df-6d51eea3-dde7-4eda-a2e1-b7884cbc4c62')\"\n",
              "              title=\"Convert this dataframe to an interactive table.\"\n",
              "              style=\"display:none;\">\n",
              "        \n",
              "  <svg xmlns=\"http://www.w3.org/2000/svg\" height=\"24px\"viewBox=\"0 0 24 24\"\n",
              "       width=\"24px\">\n",
              "    <path d=\"M0 0h24v24H0V0z\" fill=\"none\"/>\n",
              "    <path d=\"M18.56 5.44l.94 2.06.94-2.06 2.06-.94-2.06-.94-.94-2.06-.94 2.06-2.06.94zm-11 1L8.5 8.5l.94-2.06 2.06-.94-2.06-.94L8.5 2.5l-.94 2.06-2.06.94zm10 10l.94 2.06.94-2.06 2.06-.94-2.06-.94-.94-2.06-.94 2.06-2.06.94z\"/><path d=\"M17.41 7.96l-1.37-1.37c-.4-.4-.92-.59-1.43-.59-.52 0-1.04.2-1.43.59L10.3 9.45l-7.72 7.72c-.78.78-.78 2.05 0 2.83L4 21.41c.39.39.9.59 1.41.59.51 0 1.02-.2 1.41-.59l7.78-7.78 2.81-2.81c.8-.78.8-2.07 0-2.86zM5.41 20L4 18.59l7.72-7.72 1.47 1.35L5.41 20z\"/>\n",
              "  </svg>\n",
              "      </button>\n",
              "      \n",
              "  <style>\n",
              "    .colab-df-container {\n",
              "      display:flex;\n",
              "      flex-wrap:wrap;\n",
              "      gap: 12px;\n",
              "    }\n",
              "\n",
              "    .colab-df-convert {\n",
              "      background-color: #E8F0FE;\n",
              "      border: none;\n",
              "      border-radius: 50%;\n",
              "      cursor: pointer;\n",
              "      display: none;\n",
              "      fill: #1967D2;\n",
              "      height: 32px;\n",
              "      padding: 0 0 0 0;\n",
              "      width: 32px;\n",
              "    }\n",
              "\n",
              "    .colab-df-convert:hover {\n",
              "      background-color: #E2EBFA;\n",
              "      box-shadow: 0px 1px 2px rgba(60, 64, 67, 0.3), 0px 1px 3px 1px rgba(60, 64, 67, 0.15);\n",
              "      fill: #174EA6;\n",
              "    }\n",
              "\n",
              "    [theme=dark] .colab-df-convert {\n",
              "      background-color: #3B4455;\n",
              "      fill: #D2E3FC;\n",
              "    }\n",
              "\n",
              "    [theme=dark] .colab-df-convert:hover {\n",
              "      background-color: #434B5C;\n",
              "      box-shadow: 0px 1px 3px 1px rgba(0, 0, 0, 0.15);\n",
              "      filter: drop-shadow(0px 1px 2px rgba(0, 0, 0, 0.3));\n",
              "      fill: #FFFFFF;\n",
              "    }\n",
              "  </style>\n",
              "\n",
              "      <script>\n",
              "        const buttonEl =\n",
              "          document.querySelector('#df-6d51eea3-dde7-4eda-a2e1-b7884cbc4c62 button.colab-df-convert');\n",
              "        buttonEl.style.display =\n",
              "          google.colab.kernel.accessAllowed ? 'block' : 'none';\n",
              "\n",
              "        async function convertToInteractive(key) {\n",
              "          const element = document.querySelector('#df-6d51eea3-dde7-4eda-a2e1-b7884cbc4c62');\n",
              "          const dataTable =\n",
              "            await google.colab.kernel.invokeFunction('convertToInteractive',\n",
              "                                                     [key], {});\n",
              "          if (!dataTable) return;\n",
              "\n",
              "          const docLinkHtml = 'Like what you see? Visit the ' +\n",
              "            '<a target=\"_blank\" href=https://colab.research.google.com/notebooks/data_table.ipynb>data table notebook</a>'\n",
              "            + ' to learn more about interactive tables.';\n",
              "          element.innerHTML = '';\n",
              "          dataTable['output_type'] = 'display_data';\n",
              "          await google.colab.output.renderOutput(dataTable, element);\n",
              "          const docLink = document.createElement('div');\n",
              "          docLink.innerHTML = docLinkHtml;\n",
              "          element.appendChild(docLink);\n",
              "        }\n",
              "      </script>\n",
              "    </div>\n",
              "  </div>\n",
              "  "
            ]
          },
          "metadata": {},
          "execution_count": 68
        }
      ],
      "source": [
        "df_arc_group = pd.DataFrame(df_arc.groupby('key')['real_power'].sum().reset_index())\n",
        "df_arc_group.head(10)"
      ]
    },
    {
      "cell_type": "markdown",
      "metadata": {
        "id": "IEXUfziFhLHM"
      },
      "source": [
        "Теперь присоединим эти данные к итоговой таблице"
      ]
    },
    {
      "cell_type": "code",
      "execution_count": 69,
      "metadata": {
        "colab": {
          "base_uri": "https://localhost:8080/",
          "height": 363
        },
        "id": "eYy9eB8vim3c",
        "outputId": "f9f8363d-499a-4fd2-f1cc-8c0018ddbb37"
      },
      "outputs": [
        {
          "output_type": "execute_result",
          "data": {
            "text/plain": [
              "   target  start_temp  key  real_power\n",
              "0  1613.0      1571.0    1    2.352117\n",
              "1  1602.0      1581.0    2    2.614535\n",
              "2  1599.0      1596.0    3    1.463829\n",
              "3  1625.0      1601.0    4    1.220955\n",
              "4  1602.0      1576.0    5    1.889121\n",
              "5  1596.0      1543.0    6    3.620968\n",
              "6  1599.0      1586.0    7    2.160290\n",
              "7  1598.0      1577.0    8    1.672854\n",
              "8  1592.0      1587.0    9    1.572590\n",
              "9  1593.0      1574.0   10    2.453327"
            ],
            "text/html": [
              "\n",
              "  <div id=\"df-b67eafb4-4511-493c-a725-4ef65983915f\">\n",
              "    <div class=\"colab-df-container\">\n",
              "      <div>\n",
              "<style scoped>\n",
              "    .dataframe tbody tr th:only-of-type {\n",
              "        vertical-align: middle;\n",
              "    }\n",
              "\n",
              "    .dataframe tbody tr th {\n",
              "        vertical-align: top;\n",
              "    }\n",
              "\n",
              "    .dataframe thead th {\n",
              "        text-align: right;\n",
              "    }\n",
              "</style>\n",
              "<table border=\"1\" class=\"dataframe\">\n",
              "  <thead>\n",
              "    <tr style=\"text-align: right;\">\n",
              "      <th></th>\n",
              "      <th>target</th>\n",
              "      <th>start_temp</th>\n",
              "      <th>key</th>\n",
              "      <th>real_power</th>\n",
              "    </tr>\n",
              "  </thead>\n",
              "  <tbody>\n",
              "    <tr>\n",
              "      <th>0</th>\n",
              "      <td>1613.0</td>\n",
              "      <td>1571.0</td>\n",
              "      <td>1</td>\n",
              "      <td>2.352117</td>\n",
              "    </tr>\n",
              "    <tr>\n",
              "      <th>1</th>\n",
              "      <td>1602.0</td>\n",
              "      <td>1581.0</td>\n",
              "      <td>2</td>\n",
              "      <td>2.614535</td>\n",
              "    </tr>\n",
              "    <tr>\n",
              "      <th>2</th>\n",
              "      <td>1599.0</td>\n",
              "      <td>1596.0</td>\n",
              "      <td>3</td>\n",
              "      <td>1.463829</td>\n",
              "    </tr>\n",
              "    <tr>\n",
              "      <th>3</th>\n",
              "      <td>1625.0</td>\n",
              "      <td>1601.0</td>\n",
              "      <td>4</td>\n",
              "      <td>1.220955</td>\n",
              "    </tr>\n",
              "    <tr>\n",
              "      <th>4</th>\n",
              "      <td>1602.0</td>\n",
              "      <td>1576.0</td>\n",
              "      <td>5</td>\n",
              "      <td>1.889121</td>\n",
              "    </tr>\n",
              "    <tr>\n",
              "      <th>5</th>\n",
              "      <td>1596.0</td>\n",
              "      <td>1543.0</td>\n",
              "      <td>6</td>\n",
              "      <td>3.620968</td>\n",
              "    </tr>\n",
              "    <tr>\n",
              "      <th>6</th>\n",
              "      <td>1599.0</td>\n",
              "      <td>1586.0</td>\n",
              "      <td>7</td>\n",
              "      <td>2.160290</td>\n",
              "    </tr>\n",
              "    <tr>\n",
              "      <th>7</th>\n",
              "      <td>1598.0</td>\n",
              "      <td>1577.0</td>\n",
              "      <td>8</td>\n",
              "      <td>1.672854</td>\n",
              "    </tr>\n",
              "    <tr>\n",
              "      <th>8</th>\n",
              "      <td>1592.0</td>\n",
              "      <td>1587.0</td>\n",
              "      <td>9</td>\n",
              "      <td>1.572590</td>\n",
              "    </tr>\n",
              "    <tr>\n",
              "      <th>9</th>\n",
              "      <td>1593.0</td>\n",
              "      <td>1574.0</td>\n",
              "      <td>10</td>\n",
              "      <td>2.453327</td>\n",
              "    </tr>\n",
              "  </tbody>\n",
              "</table>\n",
              "</div>\n",
              "      <button class=\"colab-df-convert\" onclick=\"convertToInteractive('df-b67eafb4-4511-493c-a725-4ef65983915f')\"\n",
              "              title=\"Convert this dataframe to an interactive table.\"\n",
              "              style=\"display:none;\">\n",
              "        \n",
              "  <svg xmlns=\"http://www.w3.org/2000/svg\" height=\"24px\"viewBox=\"0 0 24 24\"\n",
              "       width=\"24px\">\n",
              "    <path d=\"M0 0h24v24H0V0z\" fill=\"none\"/>\n",
              "    <path d=\"M18.56 5.44l.94 2.06.94-2.06 2.06-.94-2.06-.94-.94-2.06-.94 2.06-2.06.94zm-11 1L8.5 8.5l.94-2.06 2.06-.94-2.06-.94L8.5 2.5l-.94 2.06-2.06.94zm10 10l.94 2.06.94-2.06 2.06-.94-2.06-.94-.94-2.06-.94 2.06-2.06.94z\"/><path d=\"M17.41 7.96l-1.37-1.37c-.4-.4-.92-.59-1.43-.59-.52 0-1.04.2-1.43.59L10.3 9.45l-7.72 7.72c-.78.78-.78 2.05 0 2.83L4 21.41c.39.39.9.59 1.41.59.51 0 1.02-.2 1.41-.59l7.78-7.78 2.81-2.81c.8-.78.8-2.07 0-2.86zM5.41 20L4 18.59l7.72-7.72 1.47 1.35L5.41 20z\"/>\n",
              "  </svg>\n",
              "      </button>\n",
              "      \n",
              "  <style>\n",
              "    .colab-df-container {\n",
              "      display:flex;\n",
              "      flex-wrap:wrap;\n",
              "      gap: 12px;\n",
              "    }\n",
              "\n",
              "    .colab-df-convert {\n",
              "      background-color: #E8F0FE;\n",
              "      border: none;\n",
              "      border-radius: 50%;\n",
              "      cursor: pointer;\n",
              "      display: none;\n",
              "      fill: #1967D2;\n",
              "      height: 32px;\n",
              "      padding: 0 0 0 0;\n",
              "      width: 32px;\n",
              "    }\n",
              "\n",
              "    .colab-df-convert:hover {\n",
              "      background-color: #E2EBFA;\n",
              "      box-shadow: 0px 1px 2px rgba(60, 64, 67, 0.3), 0px 1px 3px 1px rgba(60, 64, 67, 0.15);\n",
              "      fill: #174EA6;\n",
              "    }\n",
              "\n",
              "    [theme=dark] .colab-df-convert {\n",
              "      background-color: #3B4455;\n",
              "      fill: #D2E3FC;\n",
              "    }\n",
              "\n",
              "    [theme=dark] .colab-df-convert:hover {\n",
              "      background-color: #434B5C;\n",
              "      box-shadow: 0px 1px 3px 1px rgba(0, 0, 0, 0.15);\n",
              "      filter: drop-shadow(0px 1px 2px rgba(0, 0, 0, 0.3));\n",
              "      fill: #FFFFFF;\n",
              "    }\n",
              "  </style>\n",
              "\n",
              "      <script>\n",
              "        const buttonEl =\n",
              "          document.querySelector('#df-b67eafb4-4511-493c-a725-4ef65983915f button.colab-df-convert');\n",
              "        buttonEl.style.display =\n",
              "          google.colab.kernel.accessAllowed ? 'block' : 'none';\n",
              "\n",
              "        async function convertToInteractive(key) {\n",
              "          const element = document.querySelector('#df-b67eafb4-4511-493c-a725-4ef65983915f');\n",
              "          const dataTable =\n",
              "            await google.colab.kernel.invokeFunction('convertToInteractive',\n",
              "                                                     [key], {});\n",
              "          if (!dataTable) return;\n",
              "\n",
              "          const docLinkHtml = 'Like what you see? Visit the ' +\n",
              "            '<a target=\"_blank\" href=https://colab.research.google.com/notebooks/data_table.ipynb>data table notebook</a>'\n",
              "            + ' to learn more about interactive tables.';\n",
              "          element.innerHTML = '';\n",
              "          dataTable['output_type'] = 'display_data';\n",
              "          await google.colab.output.renderOutput(dataTable, element);\n",
              "          const docLink = document.createElement('div');\n",
              "          docLink.innerHTML = docLinkHtml;\n",
              "          element.appendChild(docLink);\n",
              "        }\n",
              "      </script>\n",
              "    </div>\n",
              "  </div>\n",
              "  "
            ]
          },
          "metadata": {},
          "execution_count": 69
        }
      ],
      "source": [
        "df = df.merge(df_arc_group, how='left', on='key')\n",
        "df.head(10)"
      ]
    },
    {
      "cell_type": "markdown",
      "metadata": {
        "id": "br7pnj24jM58"
      },
      "source": [
        "Естественно образовались пропуски, так как значения партий разное в таблицах, пропуски заменим средней мощностью, а так же все выбросы."
      ]
    },
    {
      "cell_type": "code",
      "execution_count": 70,
      "metadata": {
        "colab": {
          "base_uri": "https://localhost:8080/"
        },
        "id": "qNKWtbWti1fk",
        "outputId": "ec8241b8-0ae0-41ef-f392-df288feadee3"
      },
      "outputs": [
        {
          "output_type": "execute_result",
          "data": {
            "text/plain": [
              "target         0\n",
              "start_temp     0\n",
              "key            0\n",
              "real_power    34\n",
              "dtype: int64"
            ]
          },
          "metadata": {},
          "execution_count": 70
        }
      ],
      "source": [
        "df.isna().sum()"
      ]
    },
    {
      "cell_type": "code",
      "execution_count": 71,
      "metadata": {
        "colab": {
          "base_uri": "https://localhost:8080/"
        },
        "id": "K4Iqr3-Sjyzs",
        "outputId": "b318195e-21ae-4cb7-f527-b0732656f87b"
      },
      "outputs": [
        {
          "output_type": "stream",
          "name": "stdout",
          "text": [
            "Для текущей выборки power должно находится в пределах: -1.57 - 6.66\n"
          ]
        }
      ],
      "source": [
        "list_range_power = three_sigma(df['real_power'])\n",
        "\n",
        "print('Для текущей выборки power должно находится в пределах:', list_range_power[0], '-', list_range_power[1])"
      ]
    },
    {
      "cell_type": "code",
      "execution_count": 72,
      "metadata": {
        "id": "w4pFPwaHkiCh"
      },
      "outputs": [],
      "source": [
        "new_mean_value_power = df['real_power'][df['real_power'] < list_range_power[1]].mean()\n",
        "df.loc[df['real_power'] > list_range_power[1], 'real_power'] = new_mean_value_power\n",
        "df['real_power'] = df['real_power'].fillna(new_mean_value_power)"
      ]
    },
    {
      "cell_type": "markdown",
      "metadata": {
        "id": "ePptLVFPm302"
      },
      "source": [
        "Проверка"
      ]
    },
    {
      "cell_type": "code",
      "execution_count": 73,
      "metadata": {
        "colab": {
          "base_uri": "https://localhost:8080/"
        },
        "id": "wf2GlKYdkiCi",
        "outputId": "817f84dc-a02e-4e86-f9ad-7285f452c56e"
      },
      "outputs": [
        {
          "output_type": "execute_result",
          "data": {
            "text/plain": [
              "target        0\n",
              "start_temp    0\n",
              "key           0\n",
              "real_power    0\n",
              "dtype: int64"
            ]
          },
          "metadata": {},
          "execution_count": 73
        }
      ],
      "source": [
        "df.isna().sum()"
      ]
    },
    {
      "cell_type": "markdown",
      "metadata": {
        "id": "yaHrqxXHwPyM"
      },
      "source": [
        "---"
      ]
    },
    {
      "cell_type": "markdown",
      "metadata": {
        "id": "WbbW6tkGNLnh"
      },
      "source": [
        "## df_gas"
      ]
    },
    {
      "cell_type": "markdown",
      "metadata": {
        "id": "SWCvJQ5znZU6"
      },
      "source": [
        "Теперь перейдем к таблице **df_gas**"
      ]
    },
    {
      "cell_type": "code",
      "execution_count": 74,
      "metadata": {
        "colab": {
          "base_uri": "https://localhost:8080/",
          "height": 206
        },
        "id": "Z43-OW6XuhM7",
        "outputId": "702882cb-6d76-489e-b729-2ee65c112f15"
      },
      "outputs": [
        {
          "output_type": "execute_result",
          "data": {
            "text/plain": [
              "   target  start_temp  key  real_power      gas_1\n",
              "0  1613.0      1571.0    1    2.352117  29.749986\n",
              "1  1602.0      1581.0    2    2.614535  12.555561\n",
              "2  1599.0      1596.0    3    1.463829  28.554793\n",
              "3  1625.0      1601.0    4    1.220955  18.841219\n",
              "4  1602.0      1576.0    5    1.889121   5.413692"
            ],
            "text/html": [
              "\n",
              "  <div id=\"df-e47a3ec6-4047-4eea-9bb9-5e99f586c6ad\">\n",
              "    <div class=\"colab-df-container\">\n",
              "      <div>\n",
              "<style scoped>\n",
              "    .dataframe tbody tr th:only-of-type {\n",
              "        vertical-align: middle;\n",
              "    }\n",
              "\n",
              "    .dataframe tbody tr th {\n",
              "        vertical-align: top;\n",
              "    }\n",
              "\n",
              "    .dataframe thead th {\n",
              "        text-align: right;\n",
              "    }\n",
              "</style>\n",
              "<table border=\"1\" class=\"dataframe\">\n",
              "  <thead>\n",
              "    <tr style=\"text-align: right;\">\n",
              "      <th></th>\n",
              "      <th>target</th>\n",
              "      <th>start_temp</th>\n",
              "      <th>key</th>\n",
              "      <th>real_power</th>\n",
              "      <th>gas_1</th>\n",
              "    </tr>\n",
              "  </thead>\n",
              "  <tbody>\n",
              "    <tr>\n",
              "      <th>0</th>\n",
              "      <td>1613.0</td>\n",
              "      <td>1571.0</td>\n",
              "      <td>1</td>\n",
              "      <td>2.352117</td>\n",
              "      <td>29.749986</td>\n",
              "    </tr>\n",
              "    <tr>\n",
              "      <th>1</th>\n",
              "      <td>1602.0</td>\n",
              "      <td>1581.0</td>\n",
              "      <td>2</td>\n",
              "      <td>2.614535</td>\n",
              "      <td>12.555561</td>\n",
              "    </tr>\n",
              "    <tr>\n",
              "      <th>2</th>\n",
              "      <td>1599.0</td>\n",
              "      <td>1596.0</td>\n",
              "      <td>3</td>\n",
              "      <td>1.463829</td>\n",
              "      <td>28.554793</td>\n",
              "    </tr>\n",
              "    <tr>\n",
              "      <th>3</th>\n",
              "      <td>1625.0</td>\n",
              "      <td>1601.0</td>\n",
              "      <td>4</td>\n",
              "      <td>1.220955</td>\n",
              "      <td>18.841219</td>\n",
              "    </tr>\n",
              "    <tr>\n",
              "      <th>4</th>\n",
              "      <td>1602.0</td>\n",
              "      <td>1576.0</td>\n",
              "      <td>5</td>\n",
              "      <td>1.889121</td>\n",
              "      <td>5.413692</td>\n",
              "    </tr>\n",
              "  </tbody>\n",
              "</table>\n",
              "</div>\n",
              "      <button class=\"colab-df-convert\" onclick=\"convertToInteractive('df-e47a3ec6-4047-4eea-9bb9-5e99f586c6ad')\"\n",
              "              title=\"Convert this dataframe to an interactive table.\"\n",
              "              style=\"display:none;\">\n",
              "        \n",
              "  <svg xmlns=\"http://www.w3.org/2000/svg\" height=\"24px\"viewBox=\"0 0 24 24\"\n",
              "       width=\"24px\">\n",
              "    <path d=\"M0 0h24v24H0V0z\" fill=\"none\"/>\n",
              "    <path d=\"M18.56 5.44l.94 2.06.94-2.06 2.06-.94-2.06-.94-.94-2.06-.94 2.06-2.06.94zm-11 1L8.5 8.5l.94-2.06 2.06-.94-2.06-.94L8.5 2.5l-.94 2.06-2.06.94zm10 10l.94 2.06.94-2.06 2.06-.94-2.06-.94-.94-2.06-.94 2.06-2.06.94z\"/><path d=\"M17.41 7.96l-1.37-1.37c-.4-.4-.92-.59-1.43-.59-.52 0-1.04.2-1.43.59L10.3 9.45l-7.72 7.72c-.78.78-.78 2.05 0 2.83L4 21.41c.39.39.9.59 1.41.59.51 0 1.02-.2 1.41-.59l7.78-7.78 2.81-2.81c.8-.78.8-2.07 0-2.86zM5.41 20L4 18.59l7.72-7.72 1.47 1.35L5.41 20z\"/>\n",
              "  </svg>\n",
              "      </button>\n",
              "      \n",
              "  <style>\n",
              "    .colab-df-container {\n",
              "      display:flex;\n",
              "      flex-wrap:wrap;\n",
              "      gap: 12px;\n",
              "    }\n",
              "\n",
              "    .colab-df-convert {\n",
              "      background-color: #E8F0FE;\n",
              "      border: none;\n",
              "      border-radius: 50%;\n",
              "      cursor: pointer;\n",
              "      display: none;\n",
              "      fill: #1967D2;\n",
              "      height: 32px;\n",
              "      padding: 0 0 0 0;\n",
              "      width: 32px;\n",
              "    }\n",
              "\n",
              "    .colab-df-convert:hover {\n",
              "      background-color: #E2EBFA;\n",
              "      box-shadow: 0px 1px 2px rgba(60, 64, 67, 0.3), 0px 1px 3px 1px rgba(60, 64, 67, 0.15);\n",
              "      fill: #174EA6;\n",
              "    }\n",
              "\n",
              "    [theme=dark] .colab-df-convert {\n",
              "      background-color: #3B4455;\n",
              "      fill: #D2E3FC;\n",
              "    }\n",
              "\n",
              "    [theme=dark] .colab-df-convert:hover {\n",
              "      background-color: #434B5C;\n",
              "      box-shadow: 0px 1px 3px 1px rgba(0, 0, 0, 0.15);\n",
              "      filter: drop-shadow(0px 1px 2px rgba(0, 0, 0, 0.3));\n",
              "      fill: #FFFFFF;\n",
              "    }\n",
              "  </style>\n",
              "\n",
              "      <script>\n",
              "        const buttonEl =\n",
              "          document.querySelector('#df-e47a3ec6-4047-4eea-9bb9-5e99f586c6ad button.colab-df-convert');\n",
              "        buttonEl.style.display =\n",
              "          google.colab.kernel.accessAllowed ? 'block' : 'none';\n",
              "\n",
              "        async function convertToInteractive(key) {\n",
              "          const element = document.querySelector('#df-e47a3ec6-4047-4eea-9bb9-5e99f586c6ad');\n",
              "          const dataTable =\n",
              "            await google.colab.kernel.invokeFunction('convertToInteractive',\n",
              "                                                     [key], {});\n",
              "          if (!dataTable) return;\n",
              "\n",
              "          const docLinkHtml = 'Like what you see? Visit the ' +\n",
              "            '<a target=\"_blank\" href=https://colab.research.google.com/notebooks/data_table.ipynb>data table notebook</a>'\n",
              "            + ' to learn more about interactive tables.';\n",
              "          element.innerHTML = '';\n",
              "          dataTable['output_type'] = 'display_data';\n",
              "          await google.colab.output.renderOutput(dataTable, element);\n",
              "          const docLink = document.createElement('div');\n",
              "          docLink.innerHTML = docLinkHtml;\n",
              "          element.appendChild(docLink);\n",
              "        }\n",
              "      </script>\n",
              "    </div>\n",
              "  </div>\n",
              "  "
            ]
          },
          "metadata": {},
          "execution_count": 74
        }
      ],
      "source": [
        "df = df.merge(df_gas, how='left', on='key')\n",
        "df.head()"
      ]
    },
    {
      "cell_type": "code",
      "execution_count": 75,
      "metadata": {
        "colab": {
          "base_uri": "https://localhost:8080/",
          "height": 283
        },
        "id": "xppQj0d0oEga",
        "outputId": "1c294528-da23-490b-a8b1-c45b6b3f72ca"
      },
      "outputs": [
        {
          "output_type": "execute_result",
          "data": {
            "text/plain": [
              "<matplotlib.axes._subplots.AxesSubplot at 0x7f54bc778710>"
            ]
          },
          "metadata": {},
          "execution_count": 75
        },
        {
          "output_type": "display_data",
          "data": {
            "text/plain": [
              "<Figure size 432x288 with 1 Axes>"
            ],
            "image/png": "[encoded data removed]"
          },
          "metadata": {
            "needs_background": "light"
          }
        }
      ],
      "source": [
        "df['gas_1'].plot(kind='box')"
      ]
    },
    {
      "cell_type": "code",
      "execution_count": 76,
      "metadata": {
        "colab": {
          "base_uri": "https://localhost:8080/"
        },
        "id": "oUAQLtWhn8BP",
        "outputId": "a22c8d7a-d0f9-45da-b0b4-74b1cb7f57ae"
      },
      "outputs": [
        {
          "output_type": "stream",
          "name": "stdout",
          "text": [
            "Для текущей выборки gas должно находится в пределах: -7.66 - 29.66\n"
          ]
        }
      ],
      "source": [
        "list_range_gas = three_sigma(df_gas['gas_1'])\n",
        "\n",
        "print('Для текущей выборки gas должно находится в пределах:', list_range_gas[0], '-', list_range_gas[1])"
      ]
    },
    {
      "cell_type": "code",
      "execution_count": 77,
      "metadata": {
        "colab": {
          "base_uri": "https://localhost:8080/"
        },
        "id": "NTmUXddkvH8H",
        "outputId": "ee0b5265-c89e-4fbb-ce6f-a3257dcced11"
      },
      "outputs": [
        {
          "output_type": "execute_result",
          "data": {
            "text/plain": [
              "2"
            ]
          },
          "metadata": {},
          "execution_count": 77
        }
      ],
      "source": [
        "df['gas_1'].isna().sum()"
      ]
    },
    {
      "cell_type": "code",
      "execution_count": 78,
      "metadata": {
        "id": "3KmanLzZuTTY"
      },
      "outputs": [],
      "source": [
        "new_mean_value_gas = df['gas_1'][df['gas_1'] < list_range_gas[1]].mean()\n",
        "df.loc[df['gas_1'] > list_range_gas[1], 'gas_1'] = new_mean_value_gas\n",
        "df['gas_1'] = df['gas_1'].fillna(new_mean_value_gas)"
      ]
    },
    {
      "cell_type": "markdown",
      "metadata": {
        "id": "-QZj6pUYvb6C"
      },
      "source": [
        "Проверка"
      ]
    },
    {
      "cell_type": "code",
      "execution_count": 79,
      "metadata": {
        "colab": {
          "base_uri": "https://localhost:8080/"
        },
        "id": "-jg-qmrjveFA",
        "outputId": "b1a64908-0273-4f9e-99ed-3d2926eb4b06"
      },
      "outputs": [
        {
          "output_type": "execute_result",
          "data": {
            "text/plain": [
              "target        0\n",
              "start_temp    0\n",
              "key           0\n",
              "real_power    0\n",
              "gas_1         0\n",
              "dtype: int64"
            ]
          },
          "metadata": {},
          "execution_count": 79
        }
      ],
      "source": [
        "df.isna().sum()"
      ]
    },
    {
      "cell_type": "markdown",
      "metadata": {
        "id": "mjv661QlnYCW"
      },
      "source": [
        "---"
      ]
    },
    {
      "cell_type": "markdown",
      "metadata": {
        "id": "xIjd7MxUNRuz"
      },
      "source": [
        "## df_bulk & df_bulk_time"
      ]
    },
    {
      "cell_type": "markdown",
      "metadata": {
        "id": "rfATucHUvxtR"
      },
      "source": [
        "Перейдем к таблицам **df_bulk & df_bulk_time**. Так принцип поиска, зануления данных, присоединения, а также заполнения пропусков для данной пары таблиц и для пары таблиц **df_wire & df_wire** одинаковый, то напишем функцию для этих операций"
      ]
    },
    {
      "cell_type": "code",
      "execution_count": 80,
      "metadata": {
        "id": "YlTx0swJv5uq"
      },
      "outputs": [],
      "source": [
        "def transform_table(input_tb_time, input_tb_data, search_tb_time, \n",
        "                    finish_tb, col_name, name):\n",
        "  '''\n",
        "  Функция делает четыре операции:\n",
        "  1. В search_tb_time для каждой партии key ищет границы интервала времени,\n",
        "  далее в таблице input_tb_time проверяет все значения на вхождение в данный \n",
        "  интервал, для той же партии k. Любые значения вне итервала записывает в словарь, \n",
        "  где ключ = индекс input_tb_time,\n",
        "  значение = название столбца.\n",
        "  2. Согласно полученого словаря в таблице input_tb_data зануляет данные, таблицы\n",
        "  input_tb_data и input_tb_time - одинаковые по размерам, различаются только \n",
        "  данными.\n",
        "  3. Суммирирует оставшиеся значения в input_tb_data для каждой партии и данный \n",
        "  столбец левым джойном присоединяет к finish_tb.\n",
        "  4. Заполняет пропуски нулями в finish_tb и возвращает ее.\n",
        "  '''\n",
        "  # Подготовка\n",
        "  dict_to_zero = {}\n",
        "  input_table_time = input_tb_time.copy()\n",
        "  input_table_data = input_tb_data.copy()\n",
        "  search_table_time = search_tb_time.copy()\n",
        "  finish_table = finish_tb.copy()\n",
        "  keys = input_table_time['key'].unique()  \n",
        "\n",
        "  # Операция 1 \n",
        "\n",
        "  for key in keys:\n",
        "    for row_data, index_data in zip(input_table_time[input_table_time['key'] == key][col_name].values, input_table_time[input_table_time['key'] == key][col_name].index):\n",
        "      dict_to_zero[index_data] = []\n",
        "      for value, i in zip(row_data, list(range(0, len(col_name)))):\n",
        "        if value < search_table_time[search_table_time['key'] == key]['time_measure'].min():\n",
        "          dict_to_zero[index_data].append(col_name[i])\n",
        "        elif value > search_table_time[search_table_time['key'] == key]['time_measure'].max():\n",
        "          dict_to_zero[index_data].append(col_name[i])\n",
        "\n",
        "  # Операция 2\n",
        "  for kluch in dict_to_zero:\n",
        "    if len(dict_to_zero[kluch]) != 0:\n",
        "      for col in dict_to_zero[kluch]:\n",
        "        input_table_data.loc[kluch, col] = 0\n",
        "    else:\n",
        "      None\n",
        "\n",
        "  # Операция 3\n",
        "\n",
        "  input_table_data[name + '_all'] = input_table_data[col_name].sum(axis=1)\n",
        "  finish_table = finish_table.merge(input_table_data[['key', name +'_all']], how='left', on='key')\n",
        "\n",
        "  # Операция 4\n",
        "  finish_table[name + '_all'] = finish_table[name + '_all'].fillna(0)\n",
        "\n",
        "  return finish_table"
      ]
    },
    {
      "cell_type": "code",
      "execution_count": 81,
      "metadata": {
        "id": "tgPDYJppR4az"
      },
      "outputs": [],
      "source": [
        "time_col_bulk = ['bulk_'+str(i) for i in range(1,16)]"
      ]
    },
    {
      "cell_type": "code",
      "execution_count": 82,
      "metadata": {
        "id": "AZ3Hla93YHRc"
      },
      "outputs": [],
      "source": [
        "df = transform_table(df_bulk_time, df_bulk, df_temp, df, time_col_bulk, 'bulk')"
      ]
    },
    {
      "cell_type": "markdown",
      "metadata": {
        "id": "swhmtYvA06kI"
      },
      "source": [
        "Проверка"
      ]
    },
    {
      "cell_type": "code",
      "execution_count": 83,
      "metadata": {
        "colab": {
          "base_uri": "https://localhost:8080/",
          "height": 206
        },
        "id": "dPqJh2x4RzJ5",
        "outputId": "30b7607e-595c-4478-ff3b-3b0f5aedd7c4"
      },
      "outputs": [
        {
          "output_type": "execute_result",
          "data": {
            "text/plain": [
              "   target  start_temp  key  real_power      gas_1  bulk_all\n",
              "0  1613.0      1571.0    1    2.352117  10.714820      43.0\n",
              "1  1602.0      1581.0    2    2.614535  12.555561     582.0\n",
              "2  1599.0      1596.0    3    1.463829  28.554793      34.0\n",
              "3  1625.0      1601.0    4    1.220955  18.841219       0.0\n",
              "4  1602.0      1576.0    5    1.889121   5.413692       0.0"
            ],
            "text/html": [
              "\n",
              "  <div id=\"df-abbe85b0-45f0-4623-b917-6f3ca3e426d7\">\n",
              "    <div class=\"colab-df-container\">\n",
              "      <div>\n",
              "<style scoped>\n",
              "    .dataframe tbody tr th:only-of-type {\n",
              "        vertical-align: middle;\n",
              "    }\n",
              "\n",
              "    .dataframe tbody tr th {\n",
              "        vertical-align: top;\n",
              "    }\n",
              "\n",
              "    .dataframe thead th {\n",
              "        text-align: right;\n",
              "    }\n",
              "</style>\n",
              "<table border=\"1\" class=\"dataframe\">\n",
              "  <thead>\n",
              "    <tr style=\"text-align: right;\">\n",
              "      <th></th>\n",
              "      <th>target</th>\n",
              "      <th>start_temp</th>\n",
              "      <th>key</th>\n",
              "      <th>real_power</th>\n",
              "      <th>gas_1</th>\n",
              "      <th>bulk_all</th>\n",
              "    </tr>\n",
              "  </thead>\n",
              "  <tbody>\n",
              "    <tr>\n",
              "      <th>0</th>\n",
              "      <td>1613.0</td>\n",
              "      <td>1571.0</td>\n",
              "      <td>1</td>\n",
              "      <td>2.352117</td>\n",
              "      <td>10.714820</td>\n",
              "      <td>43.0</td>\n",
              "    </tr>\n",
              "    <tr>\n",
              "      <th>1</th>\n",
              "      <td>1602.0</td>\n",
              "      <td>1581.0</td>\n",
              "      <td>2</td>\n",
              "      <td>2.614535</td>\n",
              "      <td>12.555561</td>\n",
              "      <td>582.0</td>\n",
              "    </tr>\n",
              "    <tr>\n",
              "      <th>2</th>\n",
              "      <td>1599.0</td>\n",
              "      <td>1596.0</td>\n",
              "      <td>3</td>\n",
              "      <td>1.463829</td>\n",
              "      <td>28.554793</td>\n",
              "      <td>34.0</td>\n",
              "    </tr>\n",
              "    <tr>\n",
              "      <th>3</th>\n",
              "      <td>1625.0</td>\n",
              "      <td>1601.0</td>\n",
              "      <td>4</td>\n",
              "      <td>1.220955</td>\n",
              "      <td>18.841219</td>\n",
              "      <td>0.0</td>\n",
              "    </tr>\n",
              "    <tr>\n",
              "      <th>4</th>\n",
              "      <td>1602.0</td>\n",
              "      <td>1576.0</td>\n",
              "      <td>5</td>\n",
              "      <td>1.889121</td>\n",
              "      <td>5.413692</td>\n",
              "      <td>0.0</td>\n",
              "    </tr>\n",
              "  </tbody>\n",
              "</table>\n",
              "</div>\n",
              "      <button class=\"colab-df-convert\" onclick=\"convertToInteractive('df-abbe85b0-45f0-4623-b917-6f3ca3e426d7')\"\n",
              "              title=\"Convert this dataframe to an interactive table.\"\n",
              "              style=\"display:none;\">\n",
              "        \n",
              "  <svg xmlns=\"http://www.w3.org/2000/svg\" height=\"24px\"viewBox=\"0 0 24 24\"\n",
              "       width=\"24px\">\n",
              "    <path d=\"M0 0h24v24H0V0z\" fill=\"none\"/>\n",
              "    <path d=\"M18.56 5.44l.94 2.06.94-2.06 2.06-.94-2.06-.94-.94-2.06-.94 2.06-2.06.94zm-11 1L8.5 8.5l.94-2.06 2.06-.94-2.06-.94L8.5 2.5l-.94 2.06-2.06.94zm10 10l.94 2.06.94-2.06 2.06-.94-2.06-.94-.94-2.06-.94 2.06-2.06.94z\"/><path d=\"M17.41 7.96l-1.37-1.37c-.4-.4-.92-.59-1.43-.59-.52 0-1.04.2-1.43.59L10.3 9.45l-7.72 7.72c-.78.78-.78 2.05 0 2.83L4 21.41c.39.39.9.59 1.41.59.51 0 1.02-.2 1.41-.59l7.78-7.78 2.81-2.81c.8-.78.8-2.07 0-2.86zM5.41 20L4 18.59l7.72-7.72 1.47 1.35L5.41 20z\"/>\n",
              "  </svg>\n",
              "      </button>\n",
              "      \n",
              "  <style>\n",
              "    .colab-df-container {\n",
              "      display:flex;\n",
              "      flex-wrap:wrap;\n",
              "      gap: 12px;\n",
              "    }\n",
              "\n",
              "    .colab-df-convert {\n",
              "      background-color: #E8F0FE;\n",
              "      border: none;\n",
              "      border-radius: 50%;\n",
              "      cursor: pointer;\n",
              "      display: none;\n",
              "      fill: #1967D2;\n",
              "      height: 32px;\n",
              "      padding: 0 0 0 0;\n",
              "      width: 32px;\n",
              "    }\n",
              "\n",
              "    .colab-df-convert:hover {\n",
              "      background-color: #E2EBFA;\n",
              "      box-shadow: 0px 1px 2px rgba(60, 64, 67, 0.3), 0px 1px 3px 1px rgba(60, 64, 67, 0.15);\n",
              "      fill: #174EA6;\n",
              "    }\n",
              "\n",
              "    [theme=dark] .colab-df-convert {\n",
              "      background-color: #3B4455;\n",
              "      fill: #D2E3FC;\n",
              "    }\n",
              "\n",
              "    [theme=dark] .colab-df-convert:hover {\n",
              "      background-color: #434B5C;\n",
              "      box-shadow: 0px 1px 3px 1px rgba(0, 0, 0, 0.15);\n",
              "      filter: drop-shadow(0px 1px 2px rgba(0, 0, 0, 0.3));\n",
              "      fill: #FFFFFF;\n",
              "    }\n",
              "  </style>\n",
              "\n",
              "      <script>\n",
              "        const buttonEl =\n",
              "          document.querySelector('#df-abbe85b0-45f0-4623-b917-6f3ca3e426d7 button.colab-df-convert');\n",
              "        buttonEl.style.display =\n",
              "          google.colab.kernel.accessAllowed ? 'block' : 'none';\n",
              "\n",
              "        async function convertToInteractive(key) {\n",
              "          const element = document.querySelector('#df-abbe85b0-45f0-4623-b917-6f3ca3e426d7');\n",
              "          const dataTable =\n",
              "            await google.colab.kernel.invokeFunction('convertToInteractive',\n",
              "                                                     [key], {});\n",
              "          if (!dataTable) return;\n",
              "\n",
              "          const docLinkHtml = 'Like what you see? Visit the ' +\n",
              "            '<a target=\"_blank\" href=https://colab.research.google.com/notebooks/data_table.ipynb>data table notebook</a>'\n",
              "            + ' to learn more about interactive tables.';\n",
              "          element.innerHTML = '';\n",
              "          dataTable['output_type'] = 'display_data';\n",
              "          await google.colab.output.renderOutput(dataTable, element);\n",
              "          const docLink = document.createElement('div');\n",
              "          docLink.innerHTML = docLinkHtml;\n",
              "          element.appendChild(docLink);\n",
              "        }\n",
              "      </script>\n",
              "    </div>\n",
              "  </div>\n",
              "  "
            ]
          },
          "metadata": {},
          "execution_count": 83
        }
      ],
      "source": [
        "df.head()"
      ]
    },
    {
      "cell_type": "code",
      "execution_count": 84,
      "metadata": {
        "colab": {
          "base_uri": "https://localhost:8080/"
        },
        "id": "PAF9YKGb08sb",
        "outputId": "3aaa66ff-8f56-4485-d09f-4669a50a6067"
      },
      "outputs": [
        {
          "output_type": "execute_result",
          "data": {
            "text/plain": [
              "target        0\n",
              "start_temp    0\n",
              "key           0\n",
              "real_power    0\n",
              "gas_1         0\n",
              "bulk_all      0\n",
              "dtype: int64"
            ]
          },
          "metadata": {},
          "execution_count": 84
        }
      ],
      "source": [
        "df.isna().sum()"
      ]
    },
    {
      "cell_type": "markdown",
      "metadata": {
        "id": "qBZjoI8ef_qH"
      },
      "source": [
        "Отлично, движемся дальше"
      ]
    },
    {
      "cell_type": "markdown",
      "metadata": {
        "id": "1__VGG9ZvxbI"
      },
      "source": [
        "---"
      ]
    },
    {
      "cell_type": "markdown",
      "metadata": {
        "id": "CQxbfS5kNWRs"
      },
      "source": [
        "## df_wire & df_wire_time"
      ]
    },
    {
      "cell_type": "code",
      "execution_count": 85,
      "metadata": {
        "id": "4AnEs1ZEgLiR"
      },
      "outputs": [],
      "source": [
        "time_col_wire = ['wire_'+str(i) for i in range(1,10)]"
      ]
    },
    {
      "cell_type": "code",
      "execution_count": 86,
      "metadata": {
        "id": "aZy7GyT8gLiR"
      },
      "outputs": [],
      "source": [
        "df = transform_table(df_wire_time, df_wire, df_temp, df, time_col_wire, 'wire')"
      ]
    },
    {
      "cell_type": "markdown",
      "metadata": {
        "id": "2fgKC9TMgLiU"
      },
      "source": [
        "Проверка"
      ]
    },
    {
      "cell_type": "code",
      "execution_count": 87,
      "metadata": {
        "colab": {
          "base_uri": "https://localhost:8080/",
          "height": 206
        },
        "id": "UWDdNYibgLiU",
        "outputId": "64947a61-6822-4b17-bb92-65488102ff80"
      },
      "outputs": [
        {
          "output_type": "execute_result",
          "data": {
            "text/plain": [
              "   target  start_temp  key  real_power      gas_1  bulk_all   wire_all\n",
              "0  1613.0      1571.0    1    2.352117  10.714820      43.0   0.000000\n",
              "1  1602.0      1581.0    2    2.614535  12.555561     582.0  96.052315\n",
              "2  1599.0      1596.0    3    1.463829  28.554793      34.0  91.160157\n",
              "3  1625.0      1601.0    4    1.220955  18.841219       0.0   0.000000\n",
              "4  1602.0      1576.0    5    1.889121   5.413692       0.0   9.114560"
            ],
            "text/html": [
              "\n",
              "  <div id=\"df-27d5fd87-a703-48b0-aedd-70ba9d64443f\">\n",
              "    <div class=\"colab-df-container\">\n",
              "      <div>\n",
              "<style scoped>\n",
              "    .dataframe tbody tr th:only-of-type {\n",
              "        vertical-align: middle;\n",
              "    }\n",
              "\n",
              "    .dataframe tbody tr th {\n",
              "        vertical-align: top;\n",
              "    }\n",
              "\n",
              "    .dataframe thead th {\n",
              "        text-align: right;\n",
              "    }\n",
              "</style>\n",
              "<table border=\"1\" class=\"dataframe\">\n",
              "  <thead>\n",
              "    <tr style=\"text-align: right;\">\n",
              "      <th></th>\n",
              "      <th>target</th>\n",
              "      <th>start_temp</th>\n",
              "      <th>key</th>\n",
              "      <th>real_power</th>\n",
              "      <th>gas_1</th>\n",
              "      <th>bulk_all</th>\n",
              "      <th>wire_all</th>\n",
              "    </tr>\n",
              "  </thead>\n",
              "  <tbody>\n",
              "    <tr>\n",
              "      <th>0</th>\n",
              "      <td>1613.0</td>\n",
              "      <td>1571.0</td>\n",
              "      <td>1</td>\n",
              "      <td>2.352117</td>\n",
              "      <td>10.714820</td>\n",
              "      <td>43.0</td>\n",
              "      <td>0.000000</td>\n",
              "    </tr>\n",
              "    <tr>\n",
              "      <th>1</th>\n",
              "      <td>1602.0</td>\n",
              "      <td>1581.0</td>\n",
              "      <td>2</td>\n",
              "      <td>2.614535</td>\n",
              "      <td>12.555561</td>\n",
              "      <td>582.0</td>\n",
              "      <td>96.052315</td>\n",
              "    </tr>\n",
              "    <tr>\n",
              "      <th>2</th>\n",
              "      <td>1599.0</td>\n",
              "      <td>1596.0</td>\n",
              "      <td>3</td>\n",
              "      <td>1.463829</td>\n",
              "      <td>28.554793</td>\n",
              "      <td>34.0</td>\n",
              "      <td>91.160157</td>\n",
              "    </tr>\n",
              "    <tr>\n",
              "      <th>3</th>\n",
              "      <td>1625.0</td>\n",
              "      <td>1601.0</td>\n",
              "      <td>4</td>\n",
              "      <td>1.220955</td>\n",
              "      <td>18.841219</td>\n",
              "      <td>0.0</td>\n",
              "      <td>0.000000</td>\n",
              "    </tr>\n",
              "    <tr>\n",
              "      <th>4</th>\n",
              "      <td>1602.0</td>\n",
              "      <td>1576.0</td>\n",
              "      <td>5</td>\n",
              "      <td>1.889121</td>\n",
              "      <td>5.413692</td>\n",
              "      <td>0.0</td>\n",
              "      <td>9.114560</td>\n",
              "    </tr>\n",
              "  </tbody>\n",
              "</table>\n",
              "</div>\n",
              "      <button class=\"colab-df-convert\" onclick=\"convertToInteractive('df-27d5fd87-a703-48b0-aedd-70ba9d64443f')\"\n",
              "              title=\"Convert this dataframe to an interactive table.\"\n",
              "              style=\"display:none;\">\n",
              "        \n",
              "  <svg xmlns=\"http://www.w3.org/2000/svg\" height=\"24px\"viewBox=\"0 0 24 24\"\n",
              "       width=\"24px\">\n",
              "    <path d=\"M0 0h24v24H0V0z\" fill=\"none\"/>\n",
              "    <path d=\"M18.56 5.44l.94 2.06.94-2.06 2.06-.94-2.06-.94-.94-2.06-.94 2.06-2.06.94zm-11 1L8.5 8.5l.94-2.06 2.06-.94-2.06-.94L8.5 2.5l-.94 2.06-2.06.94zm10 10l.94 2.06.94-2.06 2.06-.94-2.06-.94-.94-2.06-.94 2.06-2.06.94z\"/><path d=\"M17.41 7.96l-1.37-1.37c-.4-.4-.92-.59-1.43-.59-.52 0-1.04.2-1.43.59L10.3 9.45l-7.72 7.72c-.78.78-.78 2.05 0 2.83L4 21.41c.39.39.9.59 1.41.59.51 0 1.02-.2 1.41-.59l7.78-7.78 2.81-2.81c.8-.78.8-2.07 0-2.86zM5.41 20L4 18.59l7.72-7.72 1.47 1.35L5.41 20z\"/>\n",
              "  </svg>\n",
              "      </button>\n",
              "      \n",
              "  <style>\n",
              "    .colab-df-container {\n",
              "      display:flex;\n",
              "      flex-wrap:wrap;\n",
              "      gap: 12px;\n",
              "    }\n",
              "\n",
              "    .colab-df-convert {\n",
              "      background-color: #E8F0FE;\n",
              "      border: none;\n",
              "      border-radius: 50%;\n",
              "      cursor: pointer;\n",
              "      display: none;\n",
              "      fill: #1967D2;\n",
              "      height: 32px;\n",
              "      padding: 0 0 0 0;\n",
              "      width: 32px;\n",
              "    }\n",
              "\n",
              "    .colab-df-convert:hover {\n",
              "      background-color: #E2EBFA;\n",
              "      box-shadow: 0px 1px 2px rgba(60, 64, 67, 0.3), 0px 1px 3px 1px rgba(60, 64, 67, 0.15);\n",
              "      fill: #174EA6;\n",
              "    }\n",
              "\n",
              "    [theme=dark] .colab-df-convert {\n",
              "      background-color: #3B4455;\n",
              "      fill: #D2E3FC;\n",
              "    }\n",
              "\n",
              "    [theme=dark] .colab-df-convert:hover {\n",
              "      background-color: #434B5C;\n",
              "      box-shadow: 0px 1px 3px 1px rgba(0, 0, 0, 0.15);\n",
              "      filter: drop-shadow(0px 1px 2px rgba(0, 0, 0, 0.3));\n",
              "      fill: #FFFFFF;\n",
              "    }\n",
              "  </style>\n",
              "\n",
              "      <script>\n",
              "        const buttonEl =\n",
              "          document.querySelector('#df-27d5fd87-a703-48b0-aedd-70ba9d64443f button.colab-df-convert');\n",
              "        buttonEl.style.display =\n",
              "          google.colab.kernel.accessAllowed ? 'block' : 'none';\n",
              "\n",
              "        async function convertToInteractive(key) {\n",
              "          const element = document.querySelector('#df-27d5fd87-a703-48b0-aedd-70ba9d64443f');\n",
              "          const dataTable =\n",
              "            await google.colab.kernel.invokeFunction('convertToInteractive',\n",
              "                                                     [key], {});\n",
              "          if (!dataTable) return;\n",
              "\n",
              "          const docLinkHtml = 'Like what you see? Visit the ' +\n",
              "            '<a target=\"_blank\" href=https://colab.research.google.com/notebooks/data_table.ipynb>data table notebook</a>'\n",
              "            + ' to learn more about interactive tables.';\n",
              "          element.innerHTML = '';\n",
              "          dataTable['output_type'] = 'display_data';\n",
              "          await google.colab.output.renderOutput(dataTable, element);\n",
              "          const docLink = document.createElement('div');\n",
              "          docLink.innerHTML = docLinkHtml;\n",
              "          element.appendChild(docLink);\n",
              "        }\n",
              "      </script>\n",
              "    </div>\n",
              "  </div>\n",
              "  "
            ]
          },
          "metadata": {},
          "execution_count": 87
        }
      ],
      "source": [
        "df.head()"
      ]
    },
    {
      "cell_type": "code",
      "execution_count": 88,
      "metadata": {
        "colab": {
          "base_uri": "https://localhost:8080/"
        },
        "id": "U0kMzPjwgLiU",
        "outputId": "4ac44eab-f4ed-4468-e7b3-9b80c98f8c2a"
      },
      "outputs": [
        {
          "output_type": "execute_result",
          "data": {
            "text/plain": [
              "target        0\n",
              "start_temp    0\n",
              "key           0\n",
              "real_power    0\n",
              "gas_1         0\n",
              "bulk_all      0\n",
              "wire_all      0\n",
              "dtype: int64"
            ]
          },
          "metadata": {},
          "execution_count": 88
        }
      ],
      "source": [
        "df.isna().sum()"
      ]
    },
    {
      "cell_type": "markdown",
      "metadata": {
        "id": "kiWeFv1xg5_I"
      },
      "source": [
        "Приведем таблицу в приятный вид, когда таргет является последней колонкой и колонку key сделаем индексом"
      ]
    },
    {
      "cell_type": "code",
      "execution_count": 89,
      "metadata": {
        "colab": {
          "base_uri": "https://localhost:8080/",
          "height": 238
        },
        "id": "EkkzfalyhBpJ",
        "outputId": "131b9155-2406-434d-8cc3-c2687248c043"
      },
      "outputs": [
        {
          "output_type": "execute_result",
          "data": {
            "text/plain": [
              "     start_temp  real_power      gas_1  bulk_all   wire_all  target\n",
              "key                                                                \n",
              "1        1571.0    2.352117  10.714820      43.0   0.000000  1613.0\n",
              "2        1581.0    2.614535  12.555561     582.0  96.052315  1602.0\n",
              "3        1596.0    1.463829  28.554793      34.0  91.160157  1599.0\n",
              "4        1601.0    1.220955  18.841219       0.0   0.000000  1625.0\n",
              "5        1576.0    1.889121   5.413692       0.0   9.114560  1602.0"
            ],
            "text/html": [
              "\n",
              "  <div id=\"df-fee6601b-56f4-4344-8a24-dd9e756215b9\">\n",
              "    <div class=\"colab-df-container\">\n",
              "      <div>\n",
              "<style scoped>\n",
              "    .dataframe tbody tr th:only-of-type {\n",
              "        vertical-align: middle;\n",
              "    }\n",
              "\n",
              "    .dataframe tbody tr th {\n",
              "        vertical-align: top;\n",
              "    }\n",
              "\n",
              "    .dataframe thead th {\n",
              "        text-align: right;\n",
              "    }\n",
              "</style>\n",
              "<table border=\"1\" class=\"dataframe\">\n",
              "  <thead>\n",
              "    <tr style=\"text-align: right;\">\n",
              "      <th></th>\n",
              "      <th>start_temp</th>\n",
              "      <th>real_power</th>\n",
              "      <th>gas_1</th>\n",
              "      <th>bulk_all</th>\n",
              "      <th>wire_all</th>\n",
              "      <th>target</th>\n",
              "    </tr>\n",
              "    <tr>\n",
              "      <th>key</th>\n",
              "      <th></th>\n",
              "      <th></th>\n",
              "      <th></th>\n",
              "      <th></th>\n",
              "      <th></th>\n",
              "      <th></th>\n",
              "    </tr>\n",
              "  </thead>\n",
              "  <tbody>\n",
              "    <tr>\n",
              "      <th>1</th>\n",
              "      <td>1571.0</td>\n",
              "      <td>2.352117</td>\n",
              "      <td>10.714820</td>\n",
              "      <td>43.0</td>\n",
              "      <td>0.000000</td>\n",
              "      <td>1613.0</td>\n",
              "    </tr>\n",
              "    <tr>\n",
              "      <th>2</th>\n",
              "      <td>1581.0</td>\n",
              "      <td>2.614535</td>\n",
              "      <td>12.555561</td>\n",
              "      <td>582.0</td>\n",
              "      <td>96.052315</td>\n",
              "      <td>1602.0</td>\n",
              "    </tr>\n",
              "    <tr>\n",
              "      <th>3</th>\n",
              "      <td>1596.0</td>\n",
              "      <td>1.463829</td>\n",
              "      <td>28.554793</td>\n",
              "      <td>34.0</td>\n",
              "      <td>91.160157</td>\n",
              "      <td>1599.0</td>\n",
              "    </tr>\n",
              "    <tr>\n",
              "      <th>4</th>\n",
              "      <td>1601.0</td>\n",
              "      <td>1.220955</td>\n",
              "      <td>18.841219</td>\n",
              "      <td>0.0</td>\n",
              "      <td>0.000000</td>\n",
              "      <td>1625.0</td>\n",
              "    </tr>\n",
              "    <tr>\n",
              "      <th>5</th>\n",
              "      <td>1576.0</td>\n",
              "      <td>1.889121</td>\n",
              "      <td>5.413692</td>\n",
              "      <td>0.0</td>\n",
              "      <td>9.114560</td>\n",
              "      <td>1602.0</td>\n",
              "    </tr>\n",
              "  </tbody>\n",
              "</table>\n",
              "</div>\n",
              "      <button class=\"colab-df-convert\" onclick=\"convertToInteractive('df-fee6601b-56f4-4344-8a24-dd9e756215b9')\"\n",
              "              title=\"Convert this dataframe to an interactive table.\"\n",
              "              style=\"display:none;\">\n",
              "        \n",
              "  <svg xmlns=\"http://www.w3.org/2000/svg\" height=\"24px\"viewBox=\"0 0 24 24\"\n",
              "       width=\"24px\">\n",
              "    <path d=\"M0 0h24v24H0V0z\" fill=\"none\"/>\n",
              "    <path d=\"M18.56 5.44l.94 2.06.94-2.06 2.06-.94-2.06-.94-.94-2.06-.94 2.06-2.06.94zm-11 1L8.5 8.5l.94-2.06 2.06-.94-2.06-.94L8.5 2.5l-.94 2.06-2.06.94zm10 10l.94 2.06.94-2.06 2.06-.94-2.06-.94-.94-2.06-.94 2.06-2.06.94z\"/><path d=\"M17.41 7.96l-1.37-1.37c-.4-.4-.92-.59-1.43-.59-.52 0-1.04.2-1.43.59L10.3 9.45l-7.72 7.72c-.78.78-.78 2.05 0 2.83L4 21.41c.39.39.9.59 1.41.59.51 0 1.02-.2 1.41-.59l7.78-7.78 2.81-2.81c.8-.78.8-2.07 0-2.86zM5.41 20L4 18.59l7.72-7.72 1.47 1.35L5.41 20z\"/>\n",
              "  </svg>\n",
              "      </button>\n",
              "      \n",
              "  <style>\n",
              "    .colab-df-container {\n",
              "      display:flex;\n",
              "      flex-wrap:wrap;\n",
              "      gap: 12px;\n",
              "    }\n",
              "\n",
              "    .colab-df-convert {\n",
              "      background-color: #E8F0FE;\n",
              "      border: none;\n",
              "      border-radius: 50%;\n",
              "      cursor: pointer;\n",
              "      display: none;\n",
              "      fill: #1967D2;\n",
              "      height: 32px;\n",
              "      padding: 0 0 0 0;\n",
              "      width: 32px;\n",
              "    }\n",
              "\n",
              "    .colab-df-convert:hover {\n",
              "      background-color: #E2EBFA;\n",
              "      box-shadow: 0px 1px 2px rgba(60, 64, 67, 0.3), 0px 1px 3px 1px rgba(60, 64, 67, 0.15);\n",
              "      fill: #174EA6;\n",
              "    }\n",
              "\n",
              "    [theme=dark] .colab-df-convert {\n",
              "      background-color: #3B4455;\n",
              "      fill: #D2E3FC;\n",
              "    }\n",
              "\n",
              "    [theme=dark] .colab-df-convert:hover {\n",
              "      background-color: #434B5C;\n",
              "      box-shadow: 0px 1px 3px 1px rgba(0, 0, 0, 0.15);\n",
              "      filter: drop-shadow(0px 1px 2px rgba(0, 0, 0, 0.3));\n",
              "      fill: #FFFFFF;\n",
              "    }\n",
              "  </style>\n",
              "\n",
              "      <script>\n",
              "        const buttonEl =\n",
              "          document.querySelector('#df-fee6601b-56f4-4344-8a24-dd9e756215b9 button.colab-df-convert');\n",
              "        buttonEl.style.display =\n",
              "          google.colab.kernel.accessAllowed ? 'block' : 'none';\n",
              "\n",
              "        async function convertToInteractive(key) {\n",
              "          const element = document.querySelector('#df-fee6601b-56f4-4344-8a24-dd9e756215b9');\n",
              "          const dataTable =\n",
              "            await google.colab.kernel.invokeFunction('convertToInteractive',\n",
              "                                                     [key], {});\n",
              "          if (!dataTable) return;\n",
              "\n",
              "          const docLinkHtml = 'Like what you see? Visit the ' +\n",
              "            '<a target=\"_blank\" href=https://colab.research.google.com/notebooks/data_table.ipynb>data table notebook</a>'\n",
              "            + ' to learn more about interactive tables.';\n",
              "          element.innerHTML = '';\n",
              "          dataTable['output_type'] = 'display_data';\n",
              "          await google.colab.output.renderOutput(dataTable, element);\n",
              "          const docLink = document.createElement('div');\n",
              "          docLink.innerHTML = docLinkHtml;\n",
              "          element.appendChild(docLink);\n",
              "        }\n",
              "      </script>\n",
              "    </div>\n",
              "  </div>\n",
              "  "
            ]
          },
          "metadata": {},
          "execution_count": 89
        }
      ],
      "source": [
        "df = df[['key', 'start_temp', 'real_power', 'gas_1', 'bulk_all', 'wire_all', 'target']]\n",
        "df = df.set_index(['key'])\n",
        "df.head()"
      ]
    },
    {
      "cell_type": "markdown",
      "metadata": {
        "id": "QXhl39srb0Yq"
      },
      "source": [
        "Проверим на корреляцию наши данные"
      ]
    },
    {
      "cell_type": "code",
      "execution_count": 90,
      "metadata": {
        "colab": {
          "base_uri": "https://localhost:8080/",
          "height": 238
        },
        "id": "TqITs7hHbzju",
        "outputId": "2637a59a-5ea3-40e5-9bff-1a0ccbdf8807"
      },
      "outputs": [
        {
          "output_type": "execute_result",
          "data": {
            "text/plain": [
              "            start_temp  real_power     gas_1  bulk_all  wire_all    target\n",
              "start_temp    1.000000   -0.278500 -0.024765  0.019271  0.058410  0.376621\n",
              "real_power   -0.278500    1.000000  0.323521  0.498592  0.105091  0.268465\n",
              "gas_1        -0.024765    0.323521  1.000000  0.288202  0.204236 -0.028390\n",
              "bulk_all      0.019271    0.498592  0.288202  1.000000  0.226010  0.039851\n",
              "wire_all      0.058410    0.105091  0.204236  0.226010  1.000000 -0.154947\n",
              "target        0.376621    0.268465 -0.028390  0.039851 -0.154947  1.000000"
            ],
            "text/html": [
              "\n",
              "  <div id=\"df-df4c4492-a979-4ec5-885c-3348135dc4c8\">\n",
              "    <div class=\"colab-df-container\">\n",
              "      <div>\n",
              "<style scoped>\n",
              "    .dataframe tbody tr th:only-of-type {\n",
              "        vertical-align: middle;\n",
              "    }\n",
              "\n",
              "    .dataframe tbody tr th {\n",
              "        vertical-align: top;\n",
              "    }\n",
              "\n",
              "    .dataframe thead th {\n",
              "        text-align: right;\n",
              "    }\n",
              "</style>\n",
              "<table border=\"1\" class=\"dataframe\">\n",
              "  <thead>\n",
              "    <tr style=\"text-align: right;\">\n",
              "      <th></th>\n",
              "      <th>start_temp</th>\n",
              "      <th>real_power</th>\n",
              "      <th>gas_1</th>\n",
              "      <th>bulk_all</th>\n",
              "      <th>wire_all</th>\n",
              "      <th>target</th>\n",
              "    </tr>\n",
              "  </thead>\n",
              "  <tbody>\n",
              "    <tr>\n",
              "      <th>start_temp</th>\n",
              "      <td>1.000000</td>\n",
              "      <td>-0.278500</td>\n",
              "      <td>-0.024765</td>\n",
              "      <td>0.019271</td>\n",
              "      <td>0.058410</td>\n",
              "      <td>0.376621</td>\n",
              "    </tr>\n",
              "    <tr>\n",
              "      <th>real_power</th>\n",
              "      <td>-0.278500</td>\n",
              "      <td>1.000000</td>\n",
              "      <td>0.323521</td>\n",
              "      <td>0.498592</td>\n",
              "      <td>0.105091</td>\n",
              "      <td>0.268465</td>\n",
              "    </tr>\n",
              "    <tr>\n",
              "      <th>gas_1</th>\n",
              "      <td>-0.024765</td>\n",
              "      <td>0.323521</td>\n",
              "      <td>1.000000</td>\n",
              "      <td>0.288202</td>\n",
              "      <td>0.204236</td>\n",
              "      <td>-0.028390</td>\n",
              "    </tr>\n",
              "    <tr>\n",
              "      <th>bulk_all</th>\n",
              "      <td>0.019271</td>\n",
              "      <td>0.498592</td>\n",
              "      <td>0.288202</td>\n",
              "      <td>1.000000</td>\n",
              "      <td>0.226010</td>\n",
              "      <td>0.039851</td>\n",
              "    </tr>\n",
              "    <tr>\n",
              "      <th>wire_all</th>\n",
              "      <td>0.058410</td>\n",
              "      <td>0.105091</td>\n",
              "      <td>0.204236</td>\n",
              "      <td>0.226010</td>\n",
              "      <td>1.000000</td>\n",
              "      <td>-0.154947</td>\n",
              "    </tr>\n",
              "    <tr>\n",
              "      <th>target</th>\n",
              "      <td>0.376621</td>\n",
              "      <td>0.268465</td>\n",
              "      <td>-0.028390</td>\n",
              "      <td>0.039851</td>\n",
              "      <td>-0.154947</td>\n",
              "      <td>1.000000</td>\n",
              "    </tr>\n",
              "  </tbody>\n",
              "</table>\n",
              "</div>\n",
              "      <button class=\"colab-df-convert\" onclick=\"convertToInteractive('df-df4c4492-a979-4ec5-885c-3348135dc4c8')\"\n",
              "              title=\"Convert this dataframe to an interactive table.\"\n",
              "              style=\"display:none;\">\n",
              "        \n",
              "  <svg xmlns=\"http://www.w3.org/2000/svg\" height=\"24px\"viewBox=\"0 0 24 24\"\n",
              "       width=\"24px\">\n",
              "    <path d=\"M0 0h24v24H0V0z\" fill=\"none\"/>\n",
              "    <path d=\"M18.56 5.44l.94 2.06.94-2.06 2.06-.94-2.06-.94-.94-2.06-.94 2.06-2.06.94zm-11 1L8.5 8.5l.94-2.06 2.06-.94-2.06-.94L8.5 2.5l-.94 2.06-2.06.94zm10 10l.94 2.06.94-2.06 2.06-.94-2.06-.94-.94-2.06-.94 2.06-2.06.94z\"/><path d=\"M17.41 7.96l-1.37-1.37c-.4-.4-.92-.59-1.43-.59-.52 0-1.04.2-1.43.59L10.3 9.45l-7.72 7.72c-.78.78-.78 2.05 0 2.83L4 21.41c.39.39.9.59 1.41.59.51 0 1.02-.2 1.41-.59l7.78-7.78 2.81-2.81c.8-.78.8-2.07 0-2.86zM5.41 20L4 18.59l7.72-7.72 1.47 1.35L5.41 20z\"/>\n",
              "  </svg>\n",
              "      </button>\n",
              "      \n",
              "  <style>\n",
              "    .colab-df-container {\n",
              "      display:flex;\n",
              "      flex-wrap:wrap;\n",
              "      gap: 12px;\n",
              "    }\n",
              "\n",
              "    .colab-df-convert {\n",
              "      background-color: #E8F0FE;\n",
              "      border: none;\n",
              "      border-radius: 50%;\n",
              "      cursor: pointer;\n",
              "      display: none;\n",
              "      fill: #1967D2;\n",
              "      height: 32px;\n",
              "      padding: 0 0 0 0;\n",
              "      width: 32px;\n",
              "    }\n",
              "\n",
              "    .colab-df-convert:hover {\n",
              "      background-color: #E2EBFA;\n",
              "      box-shadow: 0px 1px 2px rgba(60, 64, 67, 0.3), 0px 1px 3px 1px rgba(60, 64, 67, 0.15);\n",
              "      fill: #174EA6;\n",
              "    }\n",
              "\n",
              "    [theme=dark] .colab-df-convert {\n",
              "      background-color: #3B4455;\n",
              "      fill: #D2E3FC;\n",
              "    }\n",
              "\n",
              "    [theme=dark] .colab-df-convert:hover {\n",
              "      background-color: #434B5C;\n",
              "      box-shadow: 0px 1px 3px 1px rgba(0, 0, 0, 0.15);\n",
              "      filter: drop-shadow(0px 1px 2px rgba(0, 0, 0, 0.3));\n",
              "      fill: #FFFFFF;\n",
              "    }\n",
              "  </style>\n",
              "\n",
              "      <script>\n",
              "        const buttonEl =\n",
              "          document.querySelector('#df-df4c4492-a979-4ec5-885c-3348135dc4c8 button.colab-df-convert');\n",
              "        buttonEl.style.display =\n",
              "          google.colab.kernel.accessAllowed ? 'block' : 'none';\n",
              "\n",
              "        async function convertToInteractive(key) {\n",
              "          const element = document.querySelector('#df-df4c4492-a979-4ec5-885c-3348135dc4c8');\n",
              "          const dataTable =\n",
              "            await google.colab.kernel.invokeFunction('convertToInteractive',\n",
              "                                                     [key], {});\n",
              "          if (!dataTable) return;\n",
              "\n",
              "          const docLinkHtml = 'Like what you see? Visit the ' +\n",
              "            '<a target=\"_blank\" href=https://colab.research.google.com/notebooks/data_table.ipynb>data table notebook</a>'\n",
              "            + ' to learn more about interactive tables.';\n",
              "          element.innerHTML = '';\n",
              "          dataTable['output_type'] = 'display_data';\n",
              "          await google.colab.output.renderOutput(dataTable, element);\n",
              "          const docLink = document.createElement('div');\n",
              "          docLink.innerHTML = docLinkHtml;\n",
              "          element.appendChild(docLink);\n",
              "        }\n",
              "      </script>\n",
              "    </div>\n",
              "  </div>\n",
              "  "
            ]
          },
          "metadata": {},
          "execution_count": 90
        }
      ],
      "source": [
        "df.corr()"
      ]
    },
    {
      "cell_type": "markdown",
      "metadata": {
        "id": "HQxZphzkcoLa"
      },
      "source": [
        "Наиболее сильно зависимость таргета видна от начальной температуры и мощности, остальные признаки практически не влияют на конечную температуру. Но это проверялась линейная зависимость, а возможно нелинейное воздействие на конечную температуру присадок."
      ]
    },
    {
      "cell_type": "markdown",
      "metadata": {
        "id": "bPMJ1zVINcMf"
      },
      "source": [
        "## Вывод"
      ]
    },
    {
      "cell_type": "markdown",
      "metadata": {
        "id": "w-kABv0LNfaa"
      },
      "source": [
        "Итак EDA этап закончен, по итогам сформирована итоговая таблица, включающая все необходимые отфильтрованные данные. Можно приступать к машинному обучению"
      ]
    },
    {
      "cell_type": "markdown",
      "metadata": {
        "id": "6YlGcdGHNekO"
      },
      "source": [
        "# Часть 3 Машинное обучение"
      ]
    },
    {
      "cell_type": "markdown",
      "metadata": {
        "id": "hu0Wd0iANn0I"
      },
      "source": [
        "## Разбиение и подготовка данных для обучения"
      ]
    },
    {
      "cell_type": "markdown",
      "metadata": {
        "id": "w188_rDNaigU"
      },
      "source": [
        "Полученный датасет разделим на три части: 60/20/20"
      ]
    },
    {
      "cell_type": "code",
      "execution_count": 91,
      "metadata": {
        "colab": {
          "base_uri": "https://localhost:8080/"
        },
        "id": "0JHy-0PpsJiM",
        "outputId": "970ee81e-0b04-427e-8a1f-40052671d23e"
      },
      "outputs": [
        {
          "output_type": "stream",
          "name": "stdout",
          "text": [
            "Train = (1483, 5) (1483,)\n",
            "Valid = (500, 5) (500,)\n",
            "Test  = (492, 5) (492,)\n"
          ]
        }
      ],
      "source": [
        "df_train = df.loc[:1499, :]\n",
        "df_valid = df.loc[1500:1999, :]\n",
        "df_test = df.loc[2000:, :]\n",
        "features_train = df_train.drop(['target'], axis=1)\n",
        "target_train = df_train['target']\n",
        "features_valid = df_valid.drop(['target'], axis=1)\n",
        "target_valid = df_valid['target']\n",
        "features_test = df_test.drop(['target'], axis=1)\n",
        "target_test = df_test['target']\n",
        "print('Train =', features_train.shape, target_train.shape)\n",
        "print('Valid =', features_valid.shape, target_valid.shape)\n",
        "print('Test  =', features_test.shape, target_test.shape)"
      ]
    },
    {
      "cell_type": "code",
      "execution_count": 92,
      "metadata": {
        "colab": {
          "base_uri": "https://localhost:8080/",
          "height": 238
        },
        "id": "jJw9LNULsX2T",
        "outputId": "29129b2c-98c1-4299-fa71-179ebbbca086"
      },
      "outputs": [
        {
          "output_type": "execute_result",
          "data": {
            "text/plain": [
              "      start_temp  real_power      gas_1  bulk_all    wire_all\n",
              "key                                                          \n",
              "1500      1596.0    4.988978  25.685625    1068.0  114.145203\n",
              "1501      1578.0    2.419567   8.872583     747.0    0.000000\n",
              "1502      1556.0    4.098190  16.384768     729.0  142.239765\n",
              "1503      1525.0    4.878081  18.652141     311.0   95.181835\n",
              "1504      1545.0    2.545666   9.607781     512.0  134.853682"
            ],
            "text/html": [
              "\n",
              "  <div id=\"df-b95f64cb-e99e-494c-9893-fa66d3c9528d\">\n",
              "    <div class=\"colab-df-container\">\n",
              "      <div>\n",
              "<style scoped>\n",
              "    .dataframe tbody tr th:only-of-type {\n",
              "        vertical-align: middle;\n",
              "    }\n",
              "\n",
              "    .dataframe tbody tr th {\n",
              "        vertical-align: top;\n",
              "    }\n",
              "\n",
              "    .dataframe thead th {\n",
              "        text-align: right;\n",
              "    }\n",
              "</style>\n",
              "<table border=\"1\" class=\"dataframe\">\n",
              "  <thead>\n",
              "    <tr style=\"text-align: right;\">\n",
              "      <th></th>\n",
              "      <th>start_temp</th>\n",
              "      <th>real_power</th>\n",
              "      <th>gas_1</th>\n",
              "      <th>bulk_all</th>\n",
              "      <th>wire_all</th>\n",
              "    </tr>\n",
              "    <tr>\n",
              "      <th>key</th>\n",
              "      <th></th>\n",
              "      <th></th>\n",
              "      <th></th>\n",
              "      <th></th>\n",
              "      <th></th>\n",
              "    </tr>\n",
              "  </thead>\n",
              "  <tbody>\n",
              "    <tr>\n",
              "      <th>1500</th>\n",
              "      <td>1596.0</td>\n",
              "      <td>4.988978</td>\n",
              "      <td>25.685625</td>\n",
              "      <td>1068.0</td>\n",
              "      <td>114.145203</td>\n",
              "    </tr>\n",
              "    <tr>\n",
              "      <th>1501</th>\n",
              "      <td>1578.0</td>\n",
              "      <td>2.419567</td>\n",
              "      <td>8.872583</td>\n",
              "      <td>747.0</td>\n",
              "      <td>0.000000</td>\n",
              "    </tr>\n",
              "    <tr>\n",
              "      <th>1502</th>\n",
              "      <td>1556.0</td>\n",
              "      <td>4.098190</td>\n",
              "      <td>16.384768</td>\n",
              "      <td>729.0</td>\n",
              "      <td>142.239765</td>\n",
              "    </tr>\n",
              "    <tr>\n",
              "      <th>1503</th>\n",
              "      <td>1525.0</td>\n",
              "      <td>4.878081</td>\n",
              "      <td>18.652141</td>\n",
              "      <td>311.0</td>\n",
              "      <td>95.181835</td>\n",
              "    </tr>\n",
              "    <tr>\n",
              "      <th>1504</th>\n",
              "      <td>1545.0</td>\n",
              "      <td>2.545666</td>\n",
              "      <td>9.607781</td>\n",
              "      <td>512.0</td>\n",
              "      <td>134.853682</td>\n",
              "    </tr>\n",
              "  </tbody>\n",
              "</table>\n",
              "</div>\n",
              "      <button class=\"colab-df-convert\" onclick=\"convertToInteractive('df-b95f64cb-e99e-494c-9893-fa66d3c9528d')\"\n",
              "              title=\"Convert this dataframe to an interactive table.\"\n",
              "              style=\"display:none;\">\n",
              "        \n",
              "  <svg xmlns=\"http://www.w3.org/2000/svg\" height=\"24px\"viewBox=\"0 0 24 24\"\n",
              "       width=\"24px\">\n",
              "    <path d=\"M0 0h24v24H0V0z\" fill=\"none\"/>\n",
              "    <path d=\"M18.56 5.44l.94 2.06.94-2.06 2.06-.94-2.06-.94-.94-2.06-.94 2.06-2.06.94zm-11 1L8.5 8.5l.94-2.06 2.06-.94-2.06-.94L8.5 2.5l-.94 2.06-2.06.94zm10 10l.94 2.06.94-2.06 2.06-.94-2.06-.94-.94-2.06-.94 2.06-2.06.94z\"/><path d=\"M17.41 7.96l-1.37-1.37c-.4-.4-.92-.59-1.43-.59-.52 0-1.04.2-1.43.59L10.3 9.45l-7.72 7.72c-.78.78-.78 2.05 0 2.83L4 21.41c.39.39.9.59 1.41.59.51 0 1.02-.2 1.41-.59l7.78-7.78 2.81-2.81c.8-.78.8-2.07 0-2.86zM5.41 20L4 18.59l7.72-7.72 1.47 1.35L5.41 20z\"/>\n",
              "  </svg>\n",
              "      </button>\n",
              "      \n",
              "  <style>\n",
              "    .colab-df-container {\n",
              "      display:flex;\n",
              "      flex-wrap:wrap;\n",
              "      gap: 12px;\n",
              "    }\n",
              "\n",
              "    .colab-df-convert {\n",
              "      background-color: #E8F0FE;\n",
              "      border: none;\n",
              "      border-radius: 50%;\n",
              "      cursor: pointer;\n",
              "      display: none;\n",
              "      fill: #1967D2;\n",
              "      height: 32px;\n",
              "      padding: 0 0 0 0;\n",
              "      width: 32px;\n",
              "    }\n",
              "\n",
              "    .colab-df-convert:hover {\n",
              "      background-color: #E2EBFA;\n",
              "      box-shadow: 0px 1px 2px rgba(60, 64, 67, 0.3), 0px 1px 3px 1px rgba(60, 64, 67, 0.15);\n",
              "      fill: #174EA6;\n",
              "    }\n",
              "\n",
              "    [theme=dark] .colab-df-convert {\n",
              "      background-color: #3B4455;\n",
              "      fill: #D2E3FC;\n",
              "    }\n",
              "\n",
              "    [theme=dark] .colab-df-convert:hover {\n",
              "      background-color: #434B5C;\n",
              "      box-shadow: 0px 1px 3px 1px rgba(0, 0, 0, 0.15);\n",
              "      filter: drop-shadow(0px 1px 2px rgba(0, 0, 0, 0.3));\n",
              "      fill: #FFFFFF;\n",
              "    }\n",
              "  </style>\n",
              "\n",
              "      <script>\n",
              "        const buttonEl =\n",
              "          document.querySelector('#df-b95f64cb-e99e-494c-9893-fa66d3c9528d button.colab-df-convert');\n",
              "        buttonEl.style.display =\n",
              "          google.colab.kernel.accessAllowed ? 'block' : 'none';\n",
              "\n",
              "        async function convertToInteractive(key) {\n",
              "          const element = document.querySelector('#df-b95f64cb-e99e-494c-9893-fa66d3c9528d');\n",
              "          const dataTable =\n",
              "            await google.colab.kernel.invokeFunction('convertToInteractive',\n",
              "                                                     [key], {});\n",
              "          if (!dataTable) return;\n",
              "\n",
              "          const docLinkHtml = 'Like what you see? Visit the ' +\n",
              "            '<a target=\"_blank\" href=https://colab.research.google.com/notebooks/data_table.ipynb>data table notebook</a>'\n",
              "            + ' to learn more about interactive tables.';\n",
              "          element.innerHTML = '';\n",
              "          dataTable['output_type'] = 'display_data';\n",
              "          await google.colab.output.renderOutput(dataTable, element);\n",
              "          const docLink = document.createElement('div');\n",
              "          docLink.innerHTML = docLinkHtml;\n",
              "          element.appendChild(docLink);\n",
              "        }\n",
              "      </script>\n",
              "    </div>\n",
              "  </div>\n",
              "  "
            ]
          },
          "metadata": {},
          "execution_count": 92
        }
      ],
      "source": [
        "features_valid.head()"
      ]
    },
    {
      "cell_type": "markdown",
      "source": [
        "Так как у нас только числовые признаки масштабируем их"
      ],
      "metadata": {
        "id": "htz3qIe0p8JJ"
      }
    },
    {
      "cell_type": "code",
      "execution_count": 93,
      "metadata": {
        "id": "YiQPf7ndsJW7"
      },
      "outputs": [],
      "source": [
        "scaler = StandardScaler()\n",
        "scaler.fit(features_train) \n",
        "features_train = scaler.transform(features_train)\n",
        "features_valid = scaler.transform(features_valid)\n",
        "features_test = scaler.transform(features_test)"
      ]
    },
    {
      "cell_type": "markdown",
      "metadata": {
        "id": "3cN1CUN8N-Ff"
      },
      "source": [
        "## Обучение моделей"
      ]
    },
    {
      "cell_type": "markdown",
      "metadata": {
        "id": "pgnOA1h2W7mu"
      },
      "source": [
        "Рассмотрим три модели:\n",
        "* Catboost\n",
        "* Linreg\n",
        "* RandomForest\n",
        "\n",
        "Сначала сравним показание метрики при стандартных настройках, потом выберем лучшую модель и через GridSearch/optuna постараемся улучшить метрику нашей выбранной модели. Результаты будем заносить в таблицу"
      ]
    },
    {
      "cell_type": "code",
      "execution_count": 94,
      "metadata": {
        "id": "SCEiy-Yfw0ys"
      },
      "outputs": [],
      "source": [
        "result_df = pd.DataFrame(columns=['MAE'])\n",
        "result_df.index.name='name_ml'"
      ]
    },
    {
      "cell_type": "markdown",
      "metadata": {
        "id": "rr4Ubffcvkk3"
      },
      "source": [
        "### CatBoost"
      ]
    },
    {
      "cell_type": "code",
      "execution_count": 95,
      "metadata": {
        "colab": {
          "base_uri": "https://localhost:8080/",
          "height": 112
        },
        "id": "Sz3A-Md9OBG2",
        "outputId": "f1720018-099b-48c7-c111-9a64ce80681a"
      },
      "outputs": [
        {
          "output_type": "display_data",
          "data": {
            "text/plain": [
              "            MAE\n",
              "name_ml        \n",
              "CatBoost  6.633"
            ],
            "text/html": [
              "\n",
              "  <div id=\"df-f1268d78-b0d5-4587-8455-a8dfaf16ec14\">\n",
              "    <div class=\"colab-df-container\">\n",
              "      <div>\n",
              "<style scoped>\n",
              "    .dataframe tbody tr th:only-of-type {\n",
              "        vertical-align: middle;\n",
              "    }\n",
              "\n",
              "    .dataframe tbody tr th {\n",
              "        vertical-align: top;\n",
              "    }\n",
              "\n",
              "    .dataframe thead th {\n",
              "        text-align: right;\n",
              "    }\n",
              "</style>\n",
              "<table border=\"1\" class=\"dataframe\">\n",
              "  <thead>\n",
              "    <tr style=\"text-align: right;\">\n",
              "      <th></th>\n",
              "      <th>MAE</th>\n",
              "    </tr>\n",
              "    <tr>\n",
              "      <th>name_ml</th>\n",
              "      <th></th>\n",
              "    </tr>\n",
              "  </thead>\n",
              "  <tbody>\n",
              "    <tr>\n",
              "      <th>CatBoost</th>\n",
              "      <td>6.633</td>\n",
              "    </tr>\n",
              "  </tbody>\n",
              "</table>\n",
              "</div>\n",
              "      <button class=\"colab-df-convert\" onclick=\"convertToInteractive('df-f1268d78-b0d5-4587-8455-a8dfaf16ec14')\"\n",
              "              title=\"Convert this dataframe to an interactive table.\"\n",
              "              style=\"display:none;\">\n",
              "        \n",
              "  <svg xmlns=\"http://www.w3.org/2000/svg\" height=\"24px\"viewBox=\"0 0 24 24\"\n",
              "       width=\"24px\">\n",
              "    <path d=\"M0 0h24v24H0V0z\" fill=\"none\"/>\n",
              "    <path d=\"M18.56 5.44l.94 2.06.94-2.06 2.06-.94-2.06-.94-.94-2.06-.94 2.06-2.06.94zm-11 1L8.5 8.5l.94-2.06 2.06-.94-2.06-.94L8.5 2.5l-.94 2.06-2.06.94zm10 10l.94 2.06.94-2.06 2.06-.94-2.06-.94-.94-2.06-.94 2.06-2.06.94z\"/><path d=\"M17.41 7.96l-1.37-1.37c-.4-.4-.92-.59-1.43-.59-.52 0-1.04.2-1.43.59L10.3 9.45l-7.72 7.72c-.78.78-.78 2.05 0 2.83L4 21.41c.39.39.9.59 1.41.59.51 0 1.02-.2 1.41-.59l7.78-7.78 2.81-2.81c.8-.78.8-2.07 0-2.86zM5.41 20L4 18.59l7.72-7.72 1.47 1.35L5.41 20z\"/>\n",
              "  </svg>\n",
              "      </button>\n",
              "      \n",
              "  <style>\n",
              "    .colab-df-container {\n",
              "      display:flex;\n",
              "      flex-wrap:wrap;\n",
              "      gap: 12px;\n",
              "    }\n",
              "\n",
              "    .colab-df-convert {\n",
              "      background-color: #E8F0FE;\n",
              "      border: none;\n",
              "      border-radius: 50%;\n",
              "      cursor: pointer;\n",
              "      display: none;\n",
              "      fill: #1967D2;\n",
              "      height: 32px;\n",
              "      padding: 0 0 0 0;\n",
              "      width: 32px;\n",
              "    }\n",
              "\n",
              "    .colab-df-convert:hover {\n",
              "      background-color: #E2EBFA;\n",
              "      box-shadow: 0px 1px 2px rgba(60, 64, 67, 0.3), 0px 1px 3px 1px rgba(60, 64, 67, 0.15);\n",
              "      fill: #174EA6;\n",
              "    }\n",
              "\n",
              "    [theme=dark] .colab-df-convert {\n",
              "      background-color: #3B4455;\n",
              "      fill: #D2E3FC;\n",
              "    }\n",
              "\n",
              "    [theme=dark] .colab-df-convert:hover {\n",
              "      background-color: #434B5C;\n",
              "      box-shadow: 0px 1px 3px 1px rgba(0, 0, 0, 0.15);\n",
              "      filter: drop-shadow(0px 1px 2px rgba(0, 0, 0, 0.3));\n",
              "      fill: #FFFFFF;\n",
              "    }\n",
              "  </style>\n",
              "\n",
              "      <script>\n",
              "        const buttonEl =\n",
              "          document.querySelector('#df-f1268d78-b0d5-4587-8455-a8dfaf16ec14 button.colab-df-convert');\n",
              "        buttonEl.style.display =\n",
              "          google.colab.kernel.accessAllowed ? 'block' : 'none';\n",
              "\n",
              "        async function convertToInteractive(key) {\n",
              "          const element = document.querySelector('#df-f1268d78-b0d5-4587-8455-a8dfaf16ec14');\n",
              "          const dataTable =\n",
              "            await google.colab.kernel.invokeFunction('convertToInteractive',\n",
              "                                                     [key], {});\n",
              "          if (!dataTable) return;\n",
              "\n",
              "          const docLinkHtml = 'Like what you see? Visit the ' +\n",
              "            '<a target=\"_blank\" href=https://colab.research.google.com/notebooks/data_table.ipynb>data table notebook</a>'\n",
              "            + ' to learn more about interactive tables.';\n",
              "          element.innerHTML = '';\n",
              "          dataTable['output_type'] = 'display_data';\n",
              "          await google.colab.output.renderOutput(dataTable, element);\n",
              "          const docLink = document.createElement('div');\n",
              "          docLink.innerHTML = docLinkHtml;\n",
              "          element.appendChild(docLink);\n",
              "        }\n",
              "      </script>\n",
              "    </div>\n",
              "  </div>\n",
              "  "
            ]
          },
          "metadata": {}
        }
      ],
      "source": [
        "cat_model = cb.CatBoostRegressor(random_seed=101, \n",
        "                                 early_stopping_rounds=20, \n",
        "                                 loss_function = 'MAE',\n",
        "                                 silent=True)\n",
        "\n",
        "cat_model.fit(features_train, target_train, eval_set=(features_valid, target_valid))\n",
        "cat_pred = cat_model.predict(features_valid)\n",
        "result_df.loc['CatBoost'] = [round(mean_absolute_error(target_valid, cat_pred), 3)]\n",
        "display(result_df)"
      ]
    },
    {
      "cell_type": "markdown",
      "metadata": {
        "id": "XqcbUKezfCC8"
      },
      "source": [
        "### Linreg"
      ]
    },
    {
      "cell_type": "code",
      "execution_count": 96,
      "metadata": {
        "colab": {
          "base_uri": "https://localhost:8080/",
          "height": 143
        },
        "id": "WpmV2vlwfPay",
        "outputId": "51ac0bfc-d4e7-4ab9-bd66-b119ccf1dcc2"
      },
      "outputs": [
        {
          "output_type": "display_data",
          "data": {
            "text/plain": [
              "            MAE\n",
              "name_ml        \n",
              "CatBoost  6.633\n",
              "LR        8.635"
            ],
            "text/html": [
              "\n",
              "  <div id=\"df-47fe3c93-e6fc-4796-9ef0-ab124f2d5e96\">\n",
              "    <div class=\"colab-df-container\">\n",
              "      <div>\n",
              "<style scoped>\n",
              "    .dataframe tbody tr th:only-of-type {\n",
              "        vertical-align: middle;\n",
              "    }\n",
              "\n",
              "    .dataframe tbody tr th {\n",
              "        vertical-align: top;\n",
              "    }\n",
              "\n",
              "    .dataframe thead th {\n",
              "        text-align: right;\n",
              "    }\n",
              "</style>\n",
              "<table border=\"1\" class=\"dataframe\">\n",
              "  <thead>\n",
              "    <tr style=\"text-align: right;\">\n",
              "      <th></th>\n",
              "      <th>MAE</th>\n",
              "    </tr>\n",
              "    <tr>\n",
              "      <th>name_ml</th>\n",
              "      <th></th>\n",
              "    </tr>\n",
              "  </thead>\n",
              "  <tbody>\n",
              "    <tr>\n",
              "      <th>CatBoost</th>\n",
              "      <td>6.633</td>\n",
              "    </tr>\n",
              "    <tr>\n",
              "      <th>LR</th>\n",
              "      <td>8.635</td>\n",
              "    </tr>\n",
              "  </tbody>\n",
              "</table>\n",
              "</div>\n",
              "      <button class=\"colab-df-convert\" onclick=\"convertToInteractive('df-47fe3c93-e6fc-4796-9ef0-ab124f2d5e96')\"\n",
              "              title=\"Convert this dataframe to an interactive table.\"\n",
              "              style=\"display:none;\">\n",
              "        \n",
              "  <svg xmlns=\"http://www.w3.org/2000/svg\" height=\"24px\"viewBox=\"0 0 24 24\"\n",
              "       width=\"24px\">\n",
              "    <path d=\"M0 0h24v24H0V0z\" fill=\"none\"/>\n",
              "    <path d=\"M18.56 5.44l.94 2.06.94-2.06 2.06-.94-2.06-.94-.94-2.06-.94 2.06-2.06.94zm-11 1L8.5 8.5l.94-2.06 2.06-.94-2.06-.94L8.5 2.5l-.94 2.06-2.06.94zm10 10l.94 2.06.94-2.06 2.06-.94-2.06-.94-.94-2.06-.94 2.06-2.06.94z\"/><path d=\"M17.41 7.96l-1.37-1.37c-.4-.4-.92-.59-1.43-.59-.52 0-1.04.2-1.43.59L10.3 9.45l-7.72 7.72c-.78.78-.78 2.05 0 2.83L4 21.41c.39.39.9.59 1.41.59.51 0 1.02-.2 1.41-.59l7.78-7.78 2.81-2.81c.8-.78.8-2.07 0-2.86zM5.41 20L4 18.59l7.72-7.72 1.47 1.35L5.41 20z\"/>\n",
              "  </svg>\n",
              "      </button>\n",
              "      \n",
              "  <style>\n",
              "    .colab-df-container {\n",
              "      display:flex;\n",
              "      flex-wrap:wrap;\n",
              "      gap: 12px;\n",
              "    }\n",
              "\n",
              "    .colab-df-convert {\n",
              "      background-color: #E8F0FE;\n",
              "      border: none;\n",
              "      border-radius: 50%;\n",
              "      cursor: pointer;\n",
              "      display: none;\n",
              "      fill: #1967D2;\n",
              "      height: 32px;\n",
              "      padding: 0 0 0 0;\n",
              "      width: 32px;\n",
              "    }\n",
              "\n",
              "    .colab-df-convert:hover {\n",
              "      background-color: #E2EBFA;\n",
              "      box-shadow: 0px 1px 2px rgba(60, 64, 67, 0.3), 0px 1px 3px 1px rgba(60, 64, 67, 0.15);\n",
              "      fill: #174EA6;\n",
              "    }\n",
              "\n",
              "    [theme=dark] .colab-df-convert {\n",
              "      background-color: #3B4455;\n",
              "      fill: #D2E3FC;\n",
              "    }\n",
              "\n",
              "    [theme=dark] .colab-df-convert:hover {\n",
              "      background-color: #434B5C;\n",
              "      box-shadow: 0px 1px 3px 1px rgba(0, 0, 0, 0.15);\n",
              "      filter: drop-shadow(0px 1px 2px rgba(0, 0, 0, 0.3));\n",
              "      fill: #FFFFFF;\n",
              "    }\n",
              "  </style>\n",
              "\n",
              "      <script>\n",
              "        const buttonEl =\n",
              "          document.querySelector('#df-47fe3c93-e6fc-4796-9ef0-ab124f2d5e96 button.colab-df-convert');\n",
              "        buttonEl.style.display =\n",
              "          google.colab.kernel.accessAllowed ? 'block' : 'none';\n",
              "\n",
              "        async function convertToInteractive(key) {\n",
              "          const element = document.querySelector('#df-47fe3c93-e6fc-4796-9ef0-ab124f2d5e96');\n",
              "          const dataTable =\n",
              "            await google.colab.kernel.invokeFunction('convertToInteractive',\n",
              "                                                     [key], {});\n",
              "          if (!dataTable) return;\n",
              "\n",
              "          const docLinkHtml = 'Like what you see? Visit the ' +\n",
              "            '<a target=\"_blank\" href=https://colab.research.google.com/notebooks/data_table.ipynb>data table notebook</a>'\n",
              "            + ' to learn more about interactive tables.';\n",
              "          element.innerHTML = '';\n",
              "          dataTable['output_type'] = 'display_data';\n",
              "          await google.colab.output.renderOutput(dataTable, element);\n",
              "          const docLink = document.createElement('div');\n",
              "          docLink.innerHTML = docLinkHtml;\n",
              "          element.appendChild(docLink);\n",
              "        }\n",
              "      </script>\n",
              "    </div>\n",
              "  </div>\n",
              "  "
            ]
          },
          "metadata": {}
        }
      ],
      "source": [
        "lr_model = LinearRegression()\n",
        "lr_model.fit(features_train, target_train)\n",
        "lr_pred = lr_model.predict(features_valid)\n",
        "result_df.loc['LR'] = [round(mean_absolute_error(target_valid, lr_pred), 3)]\n",
        "display(result_df)"
      ]
    },
    {
      "cell_type": "markdown",
      "metadata": {
        "id": "CSu9V5PPgFGH"
      },
      "source": [
        "### RandomForest"
      ]
    },
    {
      "cell_type": "code",
      "execution_count": 97,
      "metadata": {
        "colab": {
          "base_uri": "https://localhost:8080/",
          "height": 175
        },
        "id": "-sc7N2WegLBB",
        "outputId": "6522fc1a-b56b-41bf-fd00-d06da85eb81c"
      },
      "outputs": [
        {
          "output_type": "display_data",
          "data": {
            "text/plain": [
              "            MAE\n",
              "name_ml        \n",
              "CatBoost  6.633\n",
              "LR        8.635\n",
              "RF        6.901"
            ],
            "text/html": [
              "\n",
              "  <div id=\"df-b9ee8b85-1823-4aa1-acea-41fdbfef774b\">\n",
              "    <div class=\"colab-df-container\">\n",
              "      <div>\n",
              "<style scoped>\n",
              "    .dataframe tbody tr th:only-of-type {\n",
              "        vertical-align: middle;\n",
              "    }\n",
              "\n",
              "    .dataframe tbody tr th {\n",
              "        vertical-align: top;\n",
              "    }\n",
              "\n",
              "    .dataframe thead th {\n",
              "        text-align: right;\n",
              "    }\n",
              "</style>\n",
              "<table border=\"1\" class=\"dataframe\">\n",
              "  <thead>\n",
              "    <tr style=\"text-align: right;\">\n",
              "      <th></th>\n",
              "      <th>MAE</th>\n",
              "    </tr>\n",
              "    <tr>\n",
              "      <th>name_ml</th>\n",
              "      <th></th>\n",
              "    </tr>\n",
              "  </thead>\n",
              "  <tbody>\n",
              "    <tr>\n",
              "      <th>CatBoost</th>\n",
              "      <td>6.633</td>\n",
              "    </tr>\n",
              "    <tr>\n",
              "      <th>LR</th>\n",
              "      <td>8.635</td>\n",
              "    </tr>\n",
              "    <tr>\n",
              "      <th>RF</th>\n",
              "      <td>6.901</td>\n",
              "    </tr>\n",
              "  </tbody>\n",
              "</table>\n",
              "</div>\n",
              "      <button class=\"colab-df-convert\" onclick=\"convertToInteractive('df-b9ee8b85-1823-4aa1-acea-41fdbfef774b')\"\n",
              "              title=\"Convert this dataframe to an interactive table.\"\n",
              "              style=\"display:none;\">\n",
              "        \n",
              "  <svg xmlns=\"http://www.w3.org/2000/svg\" height=\"24px\"viewBox=\"0 0 24 24\"\n",
              "       width=\"24px\">\n",
              "    <path d=\"M0 0h24v24H0V0z\" fill=\"none\"/>\n",
              "    <path d=\"M18.56 5.44l.94 2.06.94-2.06 2.06-.94-2.06-.94-.94-2.06-.94 2.06-2.06.94zm-11 1L8.5 8.5l.94-2.06 2.06-.94-2.06-.94L8.5 2.5l-.94 2.06-2.06.94zm10 10l.94 2.06.94-2.06 2.06-.94-2.06-.94-.94-2.06-.94 2.06-2.06.94z\"/><path d=\"M17.41 7.96l-1.37-1.37c-.4-.4-.92-.59-1.43-.59-.52 0-1.04.2-1.43.59L10.3 9.45l-7.72 7.72c-.78.78-.78 2.05 0 2.83L4 21.41c.39.39.9.59 1.41.59.51 0 1.02-.2 1.41-.59l7.78-7.78 2.81-2.81c.8-.78.8-2.07 0-2.86zM5.41 20L4 18.59l7.72-7.72 1.47 1.35L5.41 20z\"/>\n",
              "  </svg>\n",
              "      </button>\n",
              "      \n",
              "  <style>\n",
              "    .colab-df-container {\n",
              "      display:flex;\n",
              "      flex-wrap:wrap;\n",
              "      gap: 12px;\n",
              "    }\n",
              "\n",
              "    .colab-df-convert {\n",
              "      background-color: #E8F0FE;\n",
              "      border: none;\n",
              "      border-radius: 50%;\n",
              "      cursor: pointer;\n",
              "      display: none;\n",
              "      fill: #1967D2;\n",
              "      height: 32px;\n",
              "      padding: 0 0 0 0;\n",
              "      width: 32px;\n",
              "    }\n",
              "\n",
              "    .colab-df-convert:hover {\n",
              "      background-color: #E2EBFA;\n",
              "      box-shadow: 0px 1px 2px rgba(60, 64, 67, 0.3), 0px 1px 3px 1px rgba(60, 64, 67, 0.15);\n",
              "      fill: #174EA6;\n",
              "    }\n",
              "\n",
              "    [theme=dark] .colab-df-convert {\n",
              "      background-color: #3B4455;\n",
              "      fill: #D2E3FC;\n",
              "    }\n",
              "\n",
              "    [theme=dark] .colab-df-convert:hover {\n",
              "      background-color: #434B5C;\n",
              "      box-shadow: 0px 1px 3px 1px rgba(0, 0, 0, 0.15);\n",
              "      filter: drop-shadow(0px 1px 2px rgba(0, 0, 0, 0.3));\n",
              "      fill: #FFFFFF;\n",
              "    }\n",
              "  </style>\n",
              "\n",
              "      <script>\n",
              "        const buttonEl =\n",
              "          document.querySelector('#df-b9ee8b85-1823-4aa1-acea-41fdbfef774b button.colab-df-convert');\n",
              "        buttonEl.style.display =\n",
              "          google.colab.kernel.accessAllowed ? 'block' : 'none';\n",
              "\n",
              "        async function convertToInteractive(key) {\n",
              "          const element = document.querySelector('#df-b9ee8b85-1823-4aa1-acea-41fdbfef774b');\n",
              "          const dataTable =\n",
              "            await google.colab.kernel.invokeFunction('convertToInteractive',\n",
              "                                                     [key], {});\n",
              "          if (!dataTable) return;\n",
              "\n",
              "          const docLinkHtml = 'Like what you see? Visit the ' +\n",
              "            '<a target=\"_blank\" href=https://colab.research.google.com/notebooks/data_table.ipynb>data table notebook</a>'\n",
              "            + ' to learn more about interactive tables.';\n",
              "          element.innerHTML = '';\n",
              "          dataTable['output_type'] = 'display_data';\n",
              "          await google.colab.output.renderOutput(dataTable, element);\n",
              "          const docLink = document.createElement('div');\n",
              "          docLink.innerHTML = docLinkHtml;\n",
              "          element.appendChild(docLink);\n",
              "        }\n",
              "      </script>\n",
              "    </div>\n",
              "  </div>\n",
              "  "
            ]
          },
          "metadata": {}
        }
      ],
      "source": [
        "rf_model = RandomForestRegressor(criterion='absolute_error',\n",
        "                                 random_state = 101)\n",
        "rf_model.fit(features_train, target_train)\n",
        "rf_pred = rf_model.predict(features_valid)\n",
        "result_df.loc['RF'] = [round(mean_absolute_error(target_valid, rf_pred), 3)]\n",
        "display(result_df)"
      ]
    },
    {
      "cell_type": "markdown",
      "metadata": {
        "id": "1b-CPiyrgVgW"
      },
      "source": [
        "Как видно с данным набором лучше работает Catboost. Попробуем добиться еще прироста метркии подобрав параметры"
      ]
    },
    {
      "cell_type": "markdown",
      "metadata": {
        "id": "iNmQkZcyOBW-"
      },
      "source": [
        "## Выбор модели и улучшение метрики"
      ]
    },
    {
      "cell_type": "markdown",
      "metadata": {
        "id": "lI3N-jh2iguv"
      },
      "source": [
        "Для подбора параметров воспользуемся **optuna**"
      ]
    },
    {
      "cell_type": "code",
      "execution_count": 98,
      "metadata": {
        "id": "4bxyt4ztOTJP"
      },
      "outputs": [],
      "source": [
        "def objective(trial):\n",
        "    param = {}\n",
        "    param['learning_rate'] = trial.suggest_discrete_uniform(\"learning_rate\", 0.001, 0.02, 0.001)\n",
        "    param['depth'] = trial.suggest_int('depth', 9, 12)\n",
        "    param['l2_leaf_reg'] = trial.suggest_discrete_uniform('l2_leaf_reg', 1.0, 5.5, 0.5)\n",
        "    param['min_child_samples'] = trial.suggest_categorical('min_child_samples', [1, 4, 8, 16, 32])\n",
        "    param['grow_policy'] = 'Depthwise'\n",
        "    param['iterations'] = 10000\n",
        "    param['use_best_model'] = True\n",
        "    param['eval_metric'] = 'MAE'\n",
        "    param['od_type'] = 'iter'\n",
        "    param['od_wait'] = 20\n",
        "    param['random_state'] = 101\n",
        "    param['logging_level'] = 'Silent'\n",
        "    \n",
        "    regressor = cb.CatBoostRegressor(**param)\n",
        "\n",
        "    regressor.fit(features_train, target_train,\n",
        "                  eval_set=(features_valid, target_valid),\n",
        "                  early_stopping_rounds=20)\n",
        "    loss = mean_absolute_error(target_test, regressor.predict(features_test))\n",
        "    return loss"
      ]
    },
    {
      "cell_type": "code",
      "execution_count": 99,
      "metadata": {
        "colab": {
          "base_uri": "https://localhost:8080/"
        },
        "id": "cy6mO_LmiV7D",
        "outputId": "319ddb9b-54a9-4193-9bed-ed96a49c8aca",
        "scrolled": true
      },
      "outputs": [
        {
          "output_type": "stream",
          "name": "stderr",
          "text": [
            "\u001b[32m[I 2022-06-23 05:51:32,000]\u001b[0m A new study created in memory with name: catboost-seed101\u001b[0m\n",
            "/usr/local/lib/python3.7/dist-packages/optuna/study/study.py:397: FutureWarning: `n_jobs` argument has been deprecated in v2.7.0. This feature will be removed in v4.0.0. See https://github.com/optuna/optuna/releases/tag/v2.7.0.\n",
            "  FutureWarning,\n",
            "\u001b[32m[I 2022-06-23 05:52:06,656]\u001b[0m Trial 1 finished with value: 6.815256068008473 and parameters: {'learning_rate': 0.02, 'depth': 11, 'l2_leaf_reg': 4.5, 'min_child_samples': 1}. Best is trial 1 with value: 6.815256068008473.\u001b[0m\n",
            "\u001b[32m[I 2022-06-23 05:52:15,611]\u001b[0m Trial 2 finished with value: 6.6627185228853225 and parameters: {'learning_rate': 0.009000000000000001, 'depth': 9, 'l2_leaf_reg': 4.0, 'min_child_samples': 32}. Best is trial 2 with value: 6.6627185228853225.\u001b[0m\n",
            "\u001b[32m[I 2022-06-23 05:52:24,106]\u001b[0m Trial 0 finished with value: 6.801534296189211 and parameters: {'learning_rate': 0.016, 'depth': 12, 'l2_leaf_reg': 4.5, 'min_child_samples': 1}. Best is trial 2 with value: 6.6627185228853225.\u001b[0m\n",
            "\u001b[32m[I 2022-06-23 05:54:45,937]\u001b[0m Trial 4 finished with value: 6.682485794817937 and parameters: {'learning_rate': 0.002, 'depth': 11, 'l2_leaf_reg': 4.0, 'min_child_samples': 4}. Best is trial 2 with value: 6.6627185228853225.\u001b[0m\n",
            "\u001b[32m[I 2022-06-23 05:55:28,290]\u001b[0m Trial 5 finished with value: 6.653492511073654 and parameters: {'learning_rate': 0.002, 'depth': 12, 'l2_leaf_reg': 2.0, 'min_child_samples': 32}. Best is trial 5 with value: 6.653492511073654.\u001b[0m\n",
            "\u001b[32m[I 2022-06-23 05:55:36,157]\u001b[0m Trial 3 finished with value: 6.700499140649373 and parameters: {'learning_rate': 0.001, 'depth': 11, 'l2_leaf_reg': 1.0, 'min_child_samples': 4}. Best is trial 5 with value: 6.653492511073654.\u001b[0m\n",
            "\u001b[32m[I 2022-06-23 05:57:05,270]\u001b[0m Trial 7 finished with value: 6.725397066309512 and parameters: {'learning_rate': 0.004, 'depth': 12, 'l2_leaf_reg': 4.5, 'min_child_samples': 4}. Best is trial 5 with value: 6.653492511073654.\u001b[0m\n",
            "\u001b[32m[I 2022-06-23 05:57:24,144]\u001b[0m Trial 8 finished with value: 6.674848112252047 and parameters: {'learning_rate': 0.012, 'depth': 11, 'l2_leaf_reg': 5.5, 'min_child_samples': 8}. Best is trial 5 with value: 6.653492511073654.\u001b[0m\n",
            "\u001b[32m[I 2022-06-23 05:57:27,437]\u001b[0m Trial 6 finished with value: 6.711647074386512 and parameters: {'learning_rate': 0.003, 'depth': 12, 'l2_leaf_reg': 5.0, 'min_child_samples': 4}. Best is trial 5 with value: 6.653492511073654.\u001b[0m\n",
            "\u001b[32m[I 2022-06-23 05:57:37,757]\u001b[0m Trial 9 finished with value: 6.647701487428166 and parameters: {'learning_rate': 0.013000000000000001, 'depth': 12, 'l2_leaf_reg': 1.0, 'min_child_samples': 8}. Best is trial 9 with value: 6.647701487428166.\u001b[0m\n",
            "\u001b[32m[I 2022-06-23 05:57:48,816]\u001b[0m Trial 11 finished with value: 6.62456279253403 and parameters: {'learning_rate': 0.009000000000000001, 'depth': 9, 'l2_leaf_reg': 2.5, 'min_child_samples': 16}. Best is trial 11 with value: 6.62456279253403.\u001b[0m\n",
            "\u001b[32m[I 2022-06-23 05:57:59,219]\u001b[0m Trial 12 finished with value: 6.62456279253403 and parameters: {'learning_rate': 0.009000000000000001, 'depth': 9, 'l2_leaf_reg': 2.5, 'min_child_samples': 16}. Best is trial 11 with value: 6.62456279253403.\u001b[0m\n",
            "\u001b[32m[I 2022-06-23 05:58:14,359]\u001b[0m Trial 13 finished with value: 6.619366200308372 and parameters: {'learning_rate': 0.007, 'depth': 9, 'l2_leaf_reg': 2.5, 'min_child_samples': 16}. Best is trial 13 with value: 6.619366200308372.\u001b[0m\n",
            "\u001b[32m[I 2022-06-23 05:58:27,445]\u001b[0m Trial 14 finished with value: 6.670576388927385 and parameters: {'learning_rate': 0.007, 'depth': 10, 'l2_leaf_reg': 2.5, 'min_child_samples': 16}. Best is trial 13 with value: 6.619366200308372.\u001b[0m\n",
            "\u001b[32m[I 2022-06-23 05:58:42,480]\u001b[0m Trial 10 finished with value: 6.698625390986516 and parameters: {'learning_rate': 0.004, 'depth': 11, 'l2_leaf_reg': 5.5, 'min_child_samples': 4}. Best is trial 13 with value: 6.619366200308372.\u001b[0m\n",
            "\u001b[32m[I 2022-06-23 05:58:44,061]\u001b[0m Trial 15 finished with value: 6.619335287562292 and parameters: {'learning_rate': 0.006, 'depth': 9, 'l2_leaf_reg': 3.0, 'min_child_samples': 16}. Best is trial 15 with value: 6.619335287562292.\u001b[0m\n",
            "\u001b[32m[I 2022-06-23 05:58:54,985]\u001b[0m Trial 16 finished with value: 6.6132260240337795 and parameters: {'learning_rate': 0.007, 'depth': 9, 'l2_leaf_reg': 3.0, 'min_child_samples': 16}. Best is trial 16 with value: 6.6132260240337795.\u001b[0m\n",
            "\u001b[32m[I 2022-06-23 05:59:03,874]\u001b[0m Trial 17 finished with value: 6.615074307316358 and parameters: {'learning_rate': 0.006, 'depth': 10, 'l2_leaf_reg': 3.5, 'min_child_samples': 16}. Best is trial 16 with value: 6.6132260240337795.\u001b[0m\n",
            "\u001b[32m[I 2022-06-23 05:59:11,631]\u001b[0m Trial 19 finished with value: 6.649700796908855 and parameters: {'learning_rate': 0.014000000000000002, 'depth': 10, 'l2_leaf_reg': 3.5, 'min_child_samples': 16}. Best is trial 16 with value: 6.6132260240337795.\u001b[0m\n",
            "\u001b[32m[I 2022-06-23 05:59:13,916]\u001b[0m Trial 18 finished with value: 6.615074307316358 and parameters: {'learning_rate': 0.006, 'depth': 10, 'l2_leaf_reg': 3.5, 'min_child_samples': 16}. Best is trial 16 with value: 6.6132260240337795.\u001b[0m\n",
            "\u001b[32m[I 2022-06-23 05:59:23,900]\u001b[0m Trial 21 finished with value: 6.654432761031077 and parameters: {'learning_rate': 0.011, 'depth': 10, 'l2_leaf_reg': 1.5, 'min_child_samples': 16}. Best is trial 16 with value: 6.6132260240337795.\u001b[0m\n",
            "\u001b[32m[I 2022-06-23 05:59:34,110]\u001b[0m Trial 20 finished with value: 6.6073337109199475 and parameters: {'learning_rate': 0.005, 'depth': 10, 'l2_leaf_reg': 3.5, 'min_child_samples': 16}. Best is trial 20 with value: 6.6073337109199475.\u001b[0m\n",
            "\u001b[32m[I 2022-06-23 05:59:42,685]\u001b[0m Trial 22 finished with value: 6.615074307316358 and parameters: {'learning_rate': 0.006, 'depth': 10, 'l2_leaf_reg': 3.5, 'min_child_samples': 16}. Best is trial 20 with value: 6.6073337109199475.\u001b[0m\n",
            "\u001b[32m[I 2022-06-23 05:59:57,536]\u001b[0m Trial 23 finished with value: 6.6440759309841635 and parameters: {'learning_rate': 0.005, 'depth': 10, 'l2_leaf_reg': 3.0, 'min_child_samples': 16}. Best is trial 20 with value: 6.6073337109199475.\u001b[0m\n",
            "\u001b[32m[I 2022-06-23 06:00:06,705]\u001b[0m Trial 24 finished with value: 6.6440759309841635 and parameters: {'learning_rate': 0.005, 'depth': 10, 'l2_leaf_reg': 3.0, 'min_child_samples': 16}. Best is trial 20 with value: 6.6073337109199475.\u001b[0m\n",
            "\u001b[32m[I 2022-06-23 06:00:22,349]\u001b[0m Trial 26 finished with value: 6.629863661689063 and parameters: {'learning_rate': 0.008, 'depth': 9, 'l2_leaf_reg': 4.0, 'min_child_samples': 8}. Best is trial 20 with value: 6.6073337109199475.\u001b[0m\n",
            "\u001b[32m[I 2022-06-23 06:00:34,244]\u001b[0m Trial 25 finished with value: 6.657613140715708 and parameters: {'learning_rate': 0.008, 'depth': 9, 'l2_leaf_reg': 4.0, 'min_child_samples': 1}. Best is trial 20 with value: 6.6073337109199475.\u001b[0m\n",
            "\u001b[32m[I 2022-06-23 06:00:41,948]\u001b[0m Trial 28 finished with value: 6.660743079227791 and parameters: {'learning_rate': 0.010000000000000002, 'depth': 10, 'l2_leaf_reg': 2.0, 'min_child_samples': 32}. Best is trial 20 with value: 6.6073337109199475.\u001b[0m\n",
            "\u001b[32m[I 2022-06-23 06:00:59,025]\u001b[0m Trial 27 finished with value: 6.745735747153536 and parameters: {'learning_rate': 0.010000000000000002, 'depth': 10, 'l2_leaf_reg': 2.0, 'min_child_samples': 1}. Best is trial 20 with value: 6.6073337109199475.\u001b[0m\n",
            "\u001b[32m[I 2022-06-23 06:01:03,100]\u001b[0m Trial 29 finished with value: 6.682619924996958 and parameters: {'learning_rate': 0.004, 'depth': 10, 'l2_leaf_reg': 3.5, 'min_child_samples': 16}. Best is trial 20 with value: 6.6073337109199475.\u001b[0m\n",
            "\u001b[32m[I 2022-06-23 06:01:05,031]\u001b[0m Trial 30 finished with value: 6.6566473450760935 and parameters: {'learning_rate': 0.018000000000000002, 'depth': 9, 'l2_leaf_reg': 3.5, 'min_child_samples': 16}. Best is trial 20 with value: 6.6073337109199475.\u001b[0m\n",
            "\u001b[32m[I 2022-06-23 06:01:08,569]\u001b[0m Trial 31 finished with value: 6.639081095910484 and parameters: {'learning_rate': 0.018000000000000002, 'depth': 9, 'l2_leaf_reg': 3.0, 'min_child_samples': 16}. Best is trial 20 with value: 6.6073337109199475.\u001b[0m\n",
            "\u001b[32m[I 2022-06-23 06:01:20,387]\u001b[0m Trial 32 finished with value: 6.619193448986036 and parameters: {'learning_rate': 0.007, 'depth': 10, 'l2_leaf_reg': 3.0, 'min_child_samples': 16}. Best is trial 20 with value: 6.6073337109199475.\u001b[0m\n",
            "\u001b[32m[I 2022-06-23 06:01:28,517]\u001b[0m Trial 33 finished with value: 6.6625992580656765 and parameters: {'learning_rate': 0.006, 'depth': 10, 'l2_leaf_reg': 4.5, 'min_child_samples': 16}. Best is trial 20 with value: 6.6073337109199475.\u001b[0m\n",
            "\u001b[32m[I 2022-06-23 06:01:40,351]\u001b[0m Trial 34 finished with value: 6.655190563180441 and parameters: {'learning_rate': 0.006, 'depth': 11, 'l2_leaf_reg': 3.5, 'min_child_samples': 16}. Best is trial 20 with value: 6.6073337109199475.\u001b[0m\n",
            "\u001b[32m[I 2022-06-23 06:04:20,938]\u001b[0m Trial 35 finished with value: 6.732495097780106 and parameters: {'learning_rate': 0.003, 'depth': 11, 'l2_leaf_reg': 3.5, 'min_child_samples': 1}. Best is trial 20 with value: 6.6073337109199475.\u001b[0m\n",
            "\u001b[32m[I 2022-06-23 06:05:37,836]\u001b[0m Trial 37 finished with value: 6.667902279109603 and parameters: {'learning_rate': 0.001, 'depth': 10, 'l2_leaf_reg': 4.0, 'min_child_samples': 32}. Best is trial 20 with value: 6.6073337109199475.\u001b[0m\n",
            "\u001b[32m[I 2022-06-23 06:06:05,542]\u001b[0m Trial 38 finished with value: 6.619700663893971 and parameters: {'learning_rate': 0.005, 'depth': 11, 'l2_leaf_reg': 4.5, 'min_child_samples': 16}. Best is trial 20 with value: 6.6073337109199475.\u001b[0m\n",
            "\u001b[32m[I 2022-06-23 06:06:14,742]\u001b[0m Trial 39 finished with value: 6.693788161985069 and parameters: {'learning_rate': 0.008, 'depth': 10, 'l2_leaf_reg': 4.0, 'min_child_samples': 32}. Best is trial 20 with value: 6.6073337109199475.\u001b[0m\n",
            "\u001b[32m[I 2022-06-23 06:06:58,421]\u001b[0m Trial 40 finished with value: 6.652396676870918 and parameters: {'learning_rate': 0.003, 'depth': 9, 'l2_leaf_reg': 5.0, 'min_child_samples': 8}. Best is trial 20 with value: 6.6073337109199475.\u001b[0m\n",
            "\u001b[32m[I 2022-06-23 06:09:06,270]\u001b[0m Trial 36 finished with value: 6.72472807648199 and parameters: {'learning_rate': 0.001, 'depth': 11, 'l2_leaf_reg': 4.0, 'min_child_samples': 1}. Best is trial 20 with value: 6.6073337109199475.\u001b[0m\n"
          ]
        },
        {
          "output_type": "stream",
          "name": "stdout",
          "text": [
            "CPU times: user 32min 25s, sys: 1min 56s, total: 34min 21s\n",
            "Wall time: 17min 34s\n"
          ]
        }
      ],
      "source": [
        "%%time\n",
        "study = optuna.create_study(study_name=f'catboost-seed{101}')\n",
        "study.optimize(objective, n_trials=10000, n_jobs=-1, timeout=900)"
      ]
    },
    {
      "cell_type": "code",
      "execution_count": 100,
      "metadata": {
        "colab": {
          "base_uri": "https://localhost:8080/"
        },
        "id": "cX9DhCOQiV37",
        "outputId": "e1d6795a-edf4-4761-dcd9-1ad3852d0e6a"
      },
      "outputs": [
        {
          "output_type": "execute_result",
          "data": {
            "text/plain": [
              "6.6073337109199475"
            ]
          },
          "metadata": {},
          "execution_count": 100
        }
      ],
      "source": [
        "study.best_value"
      ]
    },
    {
      "cell_type": "code",
      "execution_count": 101,
      "metadata": {
        "colab": {
          "base_uri": "https://localhost:8080/"
        },
        "id": "ARFr5ihfiV0s",
        "outputId": "62ce8552-1b8d-46fa-8cf4-d582050932ea"
      },
      "outputs": [
        {
          "output_type": "execute_result",
          "data": {
            "text/plain": [
              "{'depth': 10,\n",
              " 'l2_leaf_reg': 3.5,\n",
              " 'learning_rate': 0.005,\n",
              " 'min_child_samples': 16}"
            ]
          },
          "metadata": {},
          "execution_count": 101
        }
      ],
      "source": [
        "study.best_params"
      ]
    },
    {
      "cell_type": "markdown",
      "metadata": {
        "id": "L5mdqCsZuUNc"
      },
      "source": [
        "Удалось улучшить метрику на 3 сотых на тестовой выборке."
      ]
    },
    {
      "cell_type": "markdown",
      "metadata": {
        "id": "MyfvKcbZOSwW"
      },
      "source": [
        "## Вывод"
      ]
    },
    {
      "cell_type": "markdown",
      "metadata": {
        "id": "DcO6tmhlOZsT"
      },
      "source": [
        "Рассмотрели три различных модели, лучшую метрику показал Catboost с результатом 6,6."
      ]
    },
    {
      "cell_type": "markdown",
      "metadata": {
        "id": "jUC7KsoONlB7"
      },
      "source": [
        "# Часть 4 Вывод"
      ]
    },
    {
      "cell_type": "markdown",
      "source": [
        "В данной работе необходимо было построить модель для предсказания температуры стали на выходе партии после добавления присадок с заданной погрешностью **MAE < 6.8**.\n",
        "\n",
        "Поставленную задачу удалось выполнить после тщательного исследовательского анализа данных и их подговтовки с помощью модели машинного обучения Catboost с результатом **MAE = 6.6**. Так же дополнительно были рассмотрены и другие модели машинного обучения: LinearRegression и RandomForest, но они показали худшие результаты.\n",
        "\n",
        "В ходе работы было выявленно, что наибольшая зависимость конечной температуры от начальной температуры и прилагаемой мощности к нагреву, что естественно и не противоречит логике с физикой.\n",
        "\n",
        "Так же в исследовательском этапе были найдены следующие явления, требующие своего внимания:\n",
        "- Отсутствие данных между 10 и 14 июля, об этом не было предупреждения от Заказчика. Но так как решение не было основано на времянных рядах, это никак не повлияло на результат.\n",
        "- Есть целая группа партий с большим количеством итераций по добавлению присадок и соответствующим нагревом. На мой взгляд стоит обратить на это пристальное внимание, так как тут есть, что оптимизировать, сократив тем самым издержки производства.\n",
        "- Так же большое количество данных об обработке газом, выбивается из средних/медианных значений.\n",
        "\n",
        "Основной трудностью на мой взгляд была не четко сформулированная задача Заказчиком, пришлось задавать множество уточняющих вопросов, чтобы понять какие данные нужны для решения поставленной задачи. Чуть меньшей проблемой, но ключевой для решения, было из представленного набора данных сформировать итоговую таблицу пригодную для машинного обучения."
      ],
      "metadata": {
        "id": "CaHVsmN9lYnT"
      }
    },
    {
      "cell_type": "code",
      "execution_count": 101,
      "metadata": {
        "id": "orRhlf2ojBG-"
      },
      "outputs": [],
      "source": [
        ""
      ]
    }
  ],
  "metadata": {
    "colab": {
      "collapsed_sections": [],
      "name": "project_16.ipynb",
      "provenance": []
    },
    "kernelspec": {
      "display_name": "Python 3 (ipykernel)",
      "language": "python",
      "name": "python3"
    },
    "language_info": {
      "codemirror_mode": {
        "name": "ipython",
        "version": 3
      },
      "file_extension": ".py",
      "mimetype": "text/x-python",
      "name": "python",
      "nbconvert_exporter": "python",
      "pygments_lexer": "ipython3",
      "version": "3.9.7"
    },
    "toc": {
      "base_numbering": 1,
      "nav_menu": {},
      "number_sections": true,
      "sideBar": true,
      "skip_h1_title": true,
      "title_cell": "Table of Contents",
      "title_sidebar": "Contents",
      "toc_cell": false,
      "toc_position": {},
      "toc_section_display": true,
      "toc_window_display": true
    }
  },
  "nbformat": 4,
  "nbformat_minor": 0
}