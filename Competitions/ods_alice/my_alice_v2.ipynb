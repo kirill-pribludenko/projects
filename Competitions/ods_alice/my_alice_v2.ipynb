{
 "cells": [
  {
   "cell_type": "code",
   "execution_count": 1,
   "id": "b5f7e464",
   "metadata": {
    "execution": {
     "iopub.execute_input": "2022-06-21T13:21:39.981495Z",
     "iopub.status.busy": "2022-06-21T13:21:39.980442Z",
     "iopub.status.idle": "2022-06-21T13:21:49.857002Z",
     "shell.execute_reply": "2022-06-21T13:21:49.855967Z"
    },
    "id": "EzGFudTy4lHl",
    "papermill": {
     "duration": 9.907592,
     "end_time": "2022-06-21T13:21:49.859633",
     "exception": false,
     "start_time": "2022-06-21T13:21:39.952041",
     "status": "completed"
    },
    "tags": []
   },
   "outputs": [],
   "source": [
    "# Импорт необходимых библиотек\n",
    "import pickle\n",
    "import numpy as np\n",
    "import pandas as pd\n",
    "import datetime\n",
    "import re\n",
    "\n",
    "from scipy.sparse import hstack\n",
    "from sklearn.model_selection import GridSearchCV, TimeSeriesSplit, train_test_split\n",
    "from sklearn.preprocessing import StandardScaler\n",
    "from sklearn.feature_extraction.text import TfidfVectorizer\n",
    "from sklearn.metrics import roc_auc_score\n",
    "from sklearn.linear_model import LogisticRegression\n",
    "\n",
    "from catboost import CatBoostClassifier\n",
    "import optuna\n",
    "\n",
    "import torch\n",
    "from transformers import DistilBertTokenizer, DistilBertModel"
   ]
  },
  {
   "cell_type": "markdown",
   "id": "632cfa6f",
   "metadata": {
    "id": "_SmM2vxu71h1",
    "papermill": {
     "duration": 0.023672,
     "end_time": "2022-06-21T13:21:49.909023",
     "exception": false,
     "start_time": "2022-06-21T13:21:49.885351",
     "status": "completed"
    },
    "tags": []
   },
   "source": [
    "# Вступление"
   ]
  },
  {
   "cell_type": "markdown",
   "id": "e8e32682",
   "metadata": {
    "id": "IIefnHDp77vi",
    "papermill": {
     "duration": 0.023963,
     "end_time": "2022-06-21T13:21:49.957859",
     "exception": false,
     "start_time": "2022-06-21T13:21:49.933896",
     "status": "completed"
    },
    "tags": []
   },
   "source": [
    "Данный ноутбук родился с целью доказать, что в соревновании Alice не этично было использовать другие модели, кроме LogReg. Так как это нарушает баланс справедливости, и не дает возможности новичкам побороться за призовые места. Основной идеей соревнования была борьба в способности генерировать признаки, а не во владении определенными моделями или инструментами. Цель работы не выжать максимум скора, а показать существенную разницу между различными вариантами. Чтож попробуем ее показать.\n",
    "\n",
    "Рассмотрим следующие варианты:\n",
    "1. TF-IDF + LogReg - классический вариант, который был рассмотрен в бейзлайне\n",
    "2. TF-IDF + Catboost - линейная модель заменяется на бустинг\n",
    "3. BERT + LogReg - признаки сайтов будем извлекать с помощью токенайзера берта, времянные признаки остаются без изменений.\n",
    "4. BERT + Catboost - линейная модель заменяется на бустинг\n",
    "\n",
    "Все предсказания будут загружены в песочницу и результаты будут сведены в одну таблицу.\n",
    "\n",
    "Не зависимо от результа, постараюсь оставлять как можно больше комментариев на русском. Возможно, новичкам пригодится, хотя я и сам только учусь.\n",
    "\n",
    "Поехали."
   ]
  },
  {
   "cell_type": "markdown",
   "id": "bebea9c4",
   "metadata": {
    "id": "2ItB-pYR4lHy",
    "papermill": {
     "duration": 0.024494,
     "end_time": "2022-06-21T13:21:50.008819",
     "exception": false,
     "start_time": "2022-06-21T13:21:49.984325",
     "status": "completed"
    },
    "tags": []
   },
   "source": [
    "#  Загрузка данных и генерация признаков"
   ]
  },
  {
   "cell_type": "markdown",
   "id": "77727a12",
   "metadata": {
    "id": "aSY6dug_JaEq",
    "papermill": {
     "duration": 0.023727,
     "end_time": "2022-06-21T13:21:50.056627",
     "exception": false,
     "start_time": "2022-06-21T13:21:50.032900",
     "status": "completed"
    },
    "tags": []
   },
   "source": [
    "Тут все стандартно"
   ]
  },
  {
   "cell_type": "code",
   "execution_count": 2,
   "id": "6cdc2785",
   "metadata": {
    "execution": {
     "iopub.execute_input": "2022-06-21T13:21:50.110852Z",
     "iopub.status.busy": "2022-06-21T13:21:50.109113Z",
     "iopub.status.idle": "2022-06-21T13:21:50.115184Z",
     "shell.execute_reply": "2022-06-21T13:21:50.114412Z"
    },
    "id": "GFXgfpAG4lHz",
    "papermill": {
     "duration": 0.035274,
     "end_time": "2022-06-21T13:21:50.117035",
     "exception": false,
     "start_time": "2022-06-21T13:21:50.081761",
     "status": "completed"
    },
    "tags": []
   },
   "outputs": [],
   "source": [
    "times = ['time'+str(i) for i in range(1, 11)]\n",
    "sites = ['site'+str(i) for i in range(1, 11)]"
   ]
  },
  {
   "cell_type": "code",
   "execution_count": 3,
   "id": "ba555423",
   "metadata": {
    "execution": {
     "iopub.execute_input": "2022-06-21T13:21:50.166964Z",
     "iopub.status.busy": "2022-06-21T13:21:50.166332Z",
     "iopub.status.idle": "2022-06-21T13:21:55.713967Z",
     "shell.execute_reply": "2022-06-21T13:21:55.712947Z"
    },
    "id": "X_uCMlVc4lH0",
    "papermill": {
     "duration": 5.575386,
     "end_time": "2022-06-21T13:21:55.716358",
     "exception": false,
     "start_time": "2022-06-21T13:21:50.140972",
     "status": "completed"
    },
    "tags": []
   },
   "outputs": [],
   "source": [
    "# Загрузка датасетов\n",
    "train_df = pd.read_csv('../input/ods-lincourse-alice/train.csv',\n",
    "                       index_col='session_id', parse_dates=times)\n",
    "\n",
    "test_df = pd.read_csv('../input/ods-lincourse-alice/test.csv',\n",
    "                      index_col='session_id', parse_dates=times)\n",
    "\n",
    "# Сортировка по времени\n",
    "train_df = train_df.sort_values(by='time1')\n",
    "\n",
    "# Заполняем пропуски нулями\n",
    "train_df[sites] = train_df[sites].fillna(0).astype('int')\n",
    "test_df[sites] = test_df[sites].fillna(0).astype('int')"
   ]
  },
  {
   "cell_type": "markdown",
   "id": "d11178db",
   "metadata": {
    "id": "b7YPxIC1JgeU",
    "papermill": {
     "duration": 0.023614,
     "end_time": "2022-06-21T13:21:55.763506",
     "exception": false,
     "start_time": "2022-06-21T13:21:55.739892",
     "status": "completed"
    },
    "tags": []
   },
   "source": [
    "Проверка, что загрузили. Советую проверять себя после каждого преобразования таблиц/таблицы, возможно с опытом в этом не будет необходимости, но так как я сам новичок, поэтому проверяю свои действия постоянно."
   ]
  },
  {
   "cell_type": "code",
   "execution_count": 4,
   "id": "59795959",
   "metadata": {
    "execution": {
     "iopub.execute_input": "2022-06-21T13:21:55.815750Z",
     "iopub.status.busy": "2022-06-21T13:21:55.815116Z",
     "iopub.status.idle": "2022-06-21T13:21:55.844003Z",
     "shell.execute_reply": "2022-06-21T13:21:55.843147Z"
    },
    "id": "kDjW5tYC4lH1",
    "outputId": "24c71bde-6dd7-442c-ae35-b06cd2154776",
    "papermill": {
     "duration": 0.059378,
     "end_time": "2022-06-21T13:21:55.847050",
     "exception": false,
     "start_time": "2022-06-21T13:21:55.787672",
     "status": "completed"
    },
    "tags": []
   },
   "outputs": [
    {
     "name": "stdout",
     "output_type": "stream",
     "text": [
      "<class 'pandas.core.frame.DataFrame'>\n",
      "Int64Index: 253561 entries, 27554 to 11690\n",
      "Data columns (total 21 columns):\n",
      " #   Column  Non-Null Count   Dtype         \n",
      "---  ------  --------------   -----         \n",
      " 0   site1   253561 non-null  int64         \n",
      " 1   time1   253561 non-null  datetime64[ns]\n",
      " 2   site2   253561 non-null  int64         \n",
      " 3   time2   250098 non-null  datetime64[ns]\n",
      " 4   site3   253561 non-null  int64         \n",
      " 5   time3   246919 non-null  datetime64[ns]\n",
      " 6   site4   253561 non-null  int64         \n",
      " 7   time4   244321 non-null  datetime64[ns]\n",
      " 8   site5   253561 non-null  int64         \n",
      " 9   time5   241829 non-null  datetime64[ns]\n",
      " 10  site6   253561 non-null  int64         \n",
      " 11  time6   239495 non-null  datetime64[ns]\n",
      " 12  site7   253561 non-null  int64         \n",
      " 13  time7   237297 non-null  datetime64[ns]\n",
      " 14  site8   253561 non-null  int64         \n",
      " 15  time8   235224 non-null  datetime64[ns]\n",
      " 16  site9   253561 non-null  int64         \n",
      " 17  time9   233084 non-null  datetime64[ns]\n",
      " 18  site10  253561 non-null  int64         \n",
      " 19  time10  231052 non-null  datetime64[ns]\n",
      " 20  target  253561 non-null  int64         \n",
      "dtypes: datetime64[ns](10), int64(11)\n",
      "memory usage: 42.6 MB\n"
     ]
    }
   ],
   "source": [
    "train_df.info()"
   ]
  },
  {
   "cell_type": "code",
   "execution_count": 5,
   "id": "ace50851",
   "metadata": {
    "execution": {
     "iopub.execute_input": "2022-06-21T13:21:55.900652Z",
     "iopub.status.busy": "2022-06-21T13:21:55.900087Z",
     "iopub.status.idle": "2022-06-21T13:21:55.943006Z",
     "shell.execute_reply": "2022-06-21T13:21:55.942264Z"
    },
    "id": "wAxWokZQApOj",
    "papermill": {
     "duration": 0.073344,
     "end_time": "2022-06-21T13:21:55.945098",
     "exception": false,
     "start_time": "2022-06-21T13:21:55.871754",
     "status": "completed"
    },
    "tags": []
   },
   "outputs": [],
   "source": [
    "# Загрузим словарь веб-сайтов\n",
    "with open(r\"../input/ods-lincourse-alice/site_dic.pkl\", \"rb\") as input_file:\n",
    "    site_dict = pickle.load(input_file)\n",
    "site_dict['Unknown'] = 0"
   ]
  },
  {
   "cell_type": "markdown",
   "id": "06e34763",
   "metadata": {
    "id": "pjWvf_kMBX_n",
    "papermill": {
     "duration": 0.024508,
     "end_time": "2022-06-21T13:21:55.994699",
     "exception": false,
     "start_time": "2022-06-21T13:21:55.970191",
     "status": "completed"
    },
    "tags": []
   },
   "source": [
    "## Выделение признаков из времянных меток"
   ]
  },
  {
   "cell_type": "markdown",
   "id": "b4fa5b39",
   "metadata": {
    "papermill": {
     "duration": 0.023702,
     "end_time": "2022-06-21T13:21:56.044824",
     "exception": false,
     "start_time": "2022-06-21T13:21:56.021122",
     "status": "completed"
    },
    "tags": []
   },
   "source": [
    "Целью работы не является максимальный скор, поэтому пачка извлеченных признаков ниже предствалена для примера. Вы можете использовать свои признаки.\n",
    "\n",
    "Выделим числовые признаки:\n",
    "* длина посещения одного сайта (секунды)\n",
    "* общее колиство проведенного времени за сесиию (секунды)\n",
    "* и другие\n",
    "\n",
    "\n",
    "А так же категориальные признаки, которые еще трансформируем get_dummies энкодером:\n",
    "* количество посещенных сайтов\n",
    "* номер часа\n",
    "* выходной или будний день\n",
    "* и другие"
   ]
  },
  {
   "cell_type": "code",
   "execution_count": 6,
   "id": "ce3e672f",
   "metadata": {
    "execution": {
     "iopub.execute_input": "2022-06-21T13:21:56.097975Z",
     "iopub.status.busy": "2022-06-21T13:21:56.096732Z",
     "iopub.status.idle": "2022-06-21T13:21:56.122709Z",
     "shell.execute_reply": "2022-06-21T13:21:56.121780Z"
    },
    "id": "NFCS2LumG6Y1",
    "papermill": {
     "duration": 0.055597,
     "end_time": "2022-06-21T13:21:56.124853",
     "exception": false,
     "start_time": "2022-06-21T13:21:56.069256",
     "status": "completed"
    },
    "tags": []
   },
   "outputs": [],
   "source": [
    "def add_num_ft (df):\n",
    "  '''\n",
    "  Функция выделяет числовые и категориальные признаки из времянных столбцов\n",
    "  датасета \n",
    "  '''\n",
    "  table = df.copy()\n",
    "\n",
    "  # ЧИСЛОВЫЕ ПРИЗНАКИ\n",
    "  # добавление времени посещения каждого сайта\n",
    "  for i in range(1,10):\n",
    "    table['diff_time'+str(i+1)+'-'+str(i)] = (table['time'+str(i+1)] - table['time'+str(i)]).apply(lambda x: x.seconds)\n",
    "  \n",
    "  # добавление общего времени сессии\n",
    "  diff_list = list(set(table.columns.to_list()) - set(times) - set(sites) - set(['target']))\n",
    "  table[diff_list] = table[diff_list].fillna(0).astype('int')\n",
    "  table['total_time'] = table[diff_list].sum(axis=1)\n",
    "\n",
    "  # отношение общего времени за сессию к медианному значению\n",
    "  table['ratio_total_time'] = table['total_time'] / table['total_time'].median()\n",
    "\n",
    "  # год и месяц в числовой форме\n",
    "  table['yyyymm'] = table['time1'].apply(lambda x: 100 * x.year + x.month).astype(np.int64)\n",
    "\n",
    "  # КАТЕГОРИАЛЬНЫЕ ПРИЗНАКИ\n",
    "  # общее количество посещенных сайтов\n",
    "  table['count_sites'] = table[sites].apply(lambda x: len(x.unique()), axis=1)\n",
    "\n",
    "  # номер часа\n",
    "  table['number_hour'] = table['time1'].apply(lambda x: x.hour)\n",
    "\n",
    "  # выходной или будний день\n",
    "  table['is_not_weekend'] = table['time1'].apply(lambda x: 1 if x.date().weekday() not in (5, 6) else 0)\n",
    "\n",
    "  # это понедельник\n",
    "  table['is_mon'] = table['time1'].apply(lambda x: x.dayofweek in [0]).astype(np.int64)\n",
    "\n",
    "  # это вторник\n",
    "  table['is_tue'] = table['time1'].apply(lambda x: x.dayofweek in [1]).astype(np.int64)\n",
    "\n",
    "  # это пятница\n",
    "  table['is_fri'] = table['time1'].apply(lambda x: x.dayofweek in [4]).astype(np.int64)\n",
    "\n",
    "  # онлайн дни Алис\n",
    "  table['online_day'] = table['time1'].apply(lambda x: x.dayofweek in [0,1,4,3,2]).astype(np.int64)\n",
    "\n",
    "  # У Алис короче общее время сессии\n",
    "  table['short'] = table['total_time'].map(lambda x: x < 39).astype(np.int64)\n",
    "\n",
    "  # У Алис короче время первого сайта\n",
    "  table['long'] = table['diff_time2-1'].map(lambda x: x > 8).astype(np.int64)\n",
    "\n",
    "  # Онлайн часы Алис\n",
    "\n",
    "  table['online_hour'] = table['time1'].apply(lambda x: x.hour in [9, 12, 13, 15, 16, 17, 18]).astype(np.int64)\n",
    "  \n",
    "  # # время дня - утро 6.00 - 12.00, день 12.00 - 18.00, \n",
    "  # #             вечер 18.00 - 22.00, ночь 22.00 - 6.00\n",
    "  \n",
    "  def period_of_day(time):\n",
    "    # возвращает период суток\n",
    "    t0 = time.round('T').time()\n",
    "    \n",
    "    t1 = datetime.time(6, 00)\n",
    "    t2 = datetime.time(12, 00)\n",
    "    t3 = datetime.time(18, 00)\n",
    "    t4 = datetime.time(22, 00)\n",
    "    \n",
    "    if t2 > t0 >= t1 :\n",
    "      return 1 # утро\n",
    "    elif t3 > t0 >= t2:\n",
    "      return 2 # день\n",
    "    elif t4 > t0 >= t3:\n",
    "      return 3 # вечер\n",
    "    else:\n",
    "      return 4 # ночь\n",
    "\n",
    "  table['period_of_day'] = table['time1'].apply(period_of_day)\n",
    "\n",
    "  # первый и последний сайт являются youtube\n",
    "  youtube_ids = []\n",
    "\n",
    "  for key in list(site_dict.keys()):\n",
    "    if 'youtube' in key:\n",
    "      youtube_ids.append(site_dict[key])\n",
    "  def is_site(x, l):\n",
    "    if x in l:\n",
    "      return 1 \n",
    "    return 0\n",
    "  \n",
    "  table['yb_start'] = table['site1'].apply(lambda x: is_site(x, youtube_ids))\n",
    "  table['yb_end'] = table['site10'].apply(lambda x: is_site(x, youtube_ids))\n",
    "\n",
    "  # убираем времянные колонки, они больше не нужны\n",
    "  col_list = sorted(list(set(table.columns.to_list()) - set(times)))\n",
    "  \n",
    "  return table[col_list]"
   ]
  },
  {
   "cell_type": "markdown",
   "id": "c8f78ffa",
   "metadata": {
    "id": "7YlroMvCSJ-x",
    "papermill": {
     "duration": 0.023931,
     "end_time": "2022-06-21T13:21:56.172656",
     "exception": false,
     "start_time": "2022-06-21T13:21:56.148725",
     "status": "completed"
    },
    "tags": []
   },
   "source": [
    "Применим нашу функцию к исходным датасетами"
   ]
  },
  {
   "cell_type": "code",
   "execution_count": 7,
   "id": "e7934584",
   "metadata": {
    "execution": {
     "iopub.execute_input": "2022-06-21T13:21:56.225409Z",
     "iopub.status.busy": "2022-06-21T13:21:56.224768Z",
     "iopub.status.idle": "2022-06-21T13:23:39.676701Z",
     "shell.execute_reply": "2022-06-21T13:23:39.675636Z"
    },
    "id": "9Iic0I89Zdsu",
    "outputId": "83b33727-481b-41bb-da58-da19019e171b",
    "papermill": {
     "duration": 103.505707,
     "end_time": "2022-06-21T13:23:39.703680",
     "exception": false,
     "start_time": "2022-06-21T13:21:56.197973",
     "status": "completed"
    },
    "tags": []
   },
   "outputs": [
    {
     "name": "stdout",
     "output_type": "stream",
     "text": [
      "(253561, 36) (82797, 35)\n"
     ]
    }
   ],
   "source": [
    "train_df_mod = add_num_ft(train_df)\n",
    "test_df_mod = add_num_ft(test_df)\n",
    "print(train_df_mod.shape, test_df_mod.shape)"
   ]
  },
  {
   "cell_type": "markdown",
   "id": "36f1c6a0",
   "metadata": {
    "id": "TdAaU5pgBcpn",
    "papermill": {
     "duration": 0.023805,
     "end_time": "2022-06-21T13:23:39.752389",
     "exception": false,
     "start_time": "2022-06-21T13:23:39.728584",
     "status": "completed"
    },
    "tags": []
   },
   "source": [
    "Отлично, получилось 25 колонок с новыми признаками ( -10шт на колонки сайтов и -1 на таргет). Теперь надо масштабировать значения для числовых колонок, и применить кодирование для категориальных"
   ]
  },
  {
   "cell_type": "code",
   "execution_count": 8,
   "id": "8c558daa",
   "metadata": {
    "execution": {
     "iopub.execute_input": "2022-06-21T13:23:39.803191Z",
     "iopub.status.busy": "2022-06-21T13:23:39.802821Z",
     "iopub.status.idle": "2022-06-21T13:23:39.807956Z",
     "shell.execute_reply": "2022-06-21T13:23:39.807129Z"
    },
    "id": "-jjvKF-fb98R",
    "papermill": {
     "duration": 0.032714,
     "end_time": "2022-06-21T13:23:39.809701",
     "exception": false,
     "start_time": "2022-06-21T13:23:39.776987",
     "status": "completed"
    },
    "tags": []
   },
   "outputs": [],
   "source": [
    "cat_col = ['count_sites', 'is_fri', 'is_mon', 'is_not_weekend', 'is_tue', \n",
    "           'long', 'number_hour', 'online_day', 'online_hour', 'period_of_day', \n",
    "           'short', 'yb_end', 'yb_start']\n",
    "num_col = ['diff_time10-9', 'diff_time2-1', 'diff_time3-2', 'diff_time4-3', \n",
    "           'diff_time5-4', 'diff_time6-5', 'diff_time7-6', 'diff_time8-7', \n",
    "           'diff_time9-8', 'total_time', 'ratio_total_time', 'yyyymm']"
   ]
  },
  {
   "cell_type": "code",
   "execution_count": 9,
   "id": "b804035d",
   "metadata": {
    "execution": {
     "iopub.execute_input": "2022-06-21T13:23:39.860342Z",
     "iopub.status.busy": "2022-06-21T13:23:39.859953Z",
     "iopub.status.idle": "2022-06-21T13:23:40.095835Z",
     "shell.execute_reply": "2022-06-21T13:23:40.094799Z"
    },
    "id": "w9hBYCExdEXJ",
    "papermill": {
     "duration": 0.263664,
     "end_time": "2022-06-21T13:23:40.098188",
     "exception": false,
     "start_time": "2022-06-21T13:23:39.834524",
     "status": "completed"
    },
    "tags": []
   },
   "outputs": [],
   "source": [
    "train_df_mod = pd.get_dummies(data=train_df_mod, columns=cat_col, drop_first=True)\n",
    "test_df_mod = pd.get_dummies(data=test_df_mod, columns=cat_col, drop_first=True)"
   ]
  },
  {
   "cell_type": "code",
   "execution_count": 10,
   "id": "0e11afc6",
   "metadata": {
    "execution": {
     "iopub.execute_input": "2022-06-21T13:23:40.149803Z",
     "iopub.status.busy": "2022-06-21T13:23:40.149380Z",
     "iopub.status.idle": "2022-06-21T13:23:40.415655Z",
     "shell.execute_reply": "2022-06-21T13:23:40.414483Z"
    },
    "id": "XebmIwoRKuLH",
    "papermill": {
     "duration": 0.295997,
     "end_time": "2022-06-21T13:23:40.418690",
     "exception": false,
     "start_time": "2022-06-21T13:23:40.122693",
     "status": "completed"
    },
    "tags": []
   },
   "outputs": [],
   "source": [
    "scaler = StandardScaler()\n",
    "scaler.fit(train_df_mod[num_col]) \n",
    "train_df_mod[num_col] = scaler.transform(train_df_mod[num_col])\n",
    "test_df_mod[num_col] = scaler.transform(test_df_mod[num_col])"
   ]
  },
  {
   "cell_type": "markdown",
   "id": "9981cd41",
   "metadata": {
    "id": "WPoF08_GZEbL",
    "papermill": {
     "duration": 0.029455,
     "end_time": "2022-06-21T13:23:40.477469",
     "exception": false,
     "start_time": "2022-06-21T13:23:40.448014",
     "status": "completed"
    },
    "tags": []
   },
   "source": [
    "Новые признаки сделали из времянных колонок и трансформировали их. Эти признаки будут постоянными во всех вариантах и не будут меняться.\n",
    "\n",
    "Дальше нужно извлечь признаки из колонок сайтов, вот тут будут применяться разные подходы и модели будут разные, поэтому ниже пойдет ветвление на варианты.\n",
    "\n",
    "Так же дополнительно, чтобы сократить время расчетов, возьмем выборку из тренировочного датасета, и попробуем сбалансировать ее."
   ]
  },
  {
   "cell_type": "code",
   "execution_count": 11,
   "id": "3e00f6e3",
   "metadata": {
    "execution": {
     "iopub.execute_input": "2022-06-21T13:23:40.529292Z",
     "iopub.status.busy": "2022-06-21T13:23:40.528343Z",
     "iopub.status.idle": "2022-06-21T13:23:40.575808Z",
     "shell.execute_reply": "2022-06-21T13:23:40.574823Z"
    },
    "id": "3xrjQDxegAu2",
    "papermill": {
     "duration": 0.075328,
     "end_time": "2022-06-21T13:23:40.578192",
     "exception": false,
     "start_time": "2022-06-21T13:23:40.502864",
     "status": "completed"
    },
    "tags": []
   },
   "outputs": [],
   "source": [
    "df_sample = train_df_mod.sample(n=3000, weights=1./train_df_mod.groupby('target')['target'].transform('count'), random_state=101).reset_index(drop=True)"
   ]
  },
  {
   "cell_type": "code",
   "execution_count": 12,
   "id": "2991407f",
   "metadata": {
    "execution": {
     "iopub.execute_input": "2022-06-21T13:23:40.629068Z",
     "iopub.status.busy": "2022-06-21T13:23:40.628687Z",
     "iopub.status.idle": "2022-06-21T13:23:40.638915Z",
     "shell.execute_reply": "2022-06-21T13:23:40.638334Z"
    },
    "id": "ljka117tgSeh",
    "outputId": "61b8c428-c03a-4f18-c7fe-1f38e151dc5c",
    "papermill": {
     "duration": 0.038474,
     "end_time": "2022-06-21T13:23:40.641096",
     "exception": false,
     "start_time": "2022-06-21T13:23:40.602622",
     "status": "completed"
    },
    "tags": []
   },
   "outputs": [
    {
     "data": {
      "text/plain": [
       "0    0.6\n",
       "1    0.4\n",
       "Name: target, dtype: float64"
      ]
     },
     "execution_count": 12,
     "metadata": {},
     "output_type": "execute_result"
    }
   ],
   "source": [
    "df_sample['target'].value_counts(normalize=True)"
   ]
  },
  {
   "cell_type": "markdown",
   "id": "f15da922",
   "metadata": {
    "id": "xnoJnPXNKxkZ",
    "papermill": {
     "duration": 0.024403,
     "end_time": "2022-06-21T13:23:40.690453",
     "exception": false,
     "start_time": "2022-06-21T13:23:40.666050",
     "status": "completed"
    },
    "tags": []
   },
   "source": [
    "Отлично в нашей выборке 40% Алис и 60% не Алис."
   ]
  },
  {
   "cell_type": "markdown",
   "id": "7ae5e2a4",
   "metadata": {
    "id": "huSxiVoO4Tr3",
    "papermill": {
     "duration": 0.023769,
     "end_time": "2022-06-21T13:23:40.738383",
     "exception": false,
     "start_time": "2022-06-21T13:23:40.714614",
     "status": "completed"
    },
    "tags": []
   },
   "source": [
    "# Обучение моделей"
   ]
  },
  {
   "cell_type": "markdown",
   "id": "d311eca2",
   "metadata": {
    "id": "CPqKikQ6BjKJ",
    "papermill": {
     "duration": 0.023725,
     "end_time": "2022-06-21T13:23:40.786269",
     "exception": false,
     "start_time": "2022-06-21T13:23:40.762544",
     "status": "completed"
    },
    "tags": []
   },
   "source": [
    "## Вариант 1\n",
    "TF-IDF + LogReg"
   ]
  },
  {
   "cell_type": "markdown",
   "id": "00e1657c",
   "metadata": {
    "id": "B16sAVxNhJ2K",
    "papermill": {
     "duration": 0.023841,
     "end_time": "2022-06-21T13:23:40.835042",
     "exception": false,
     "start_time": "2022-06-21T13:23:40.811201",
     "status": "completed"
    },
    "tags": []
   },
   "source": [
    "Нужно склеить наши посещенные сайты, чтобы их передать в TF-IDF"
   ]
  },
  {
   "cell_type": "code",
   "execution_count": 13,
   "id": "cce63292",
   "metadata": {
    "execution": {
     "iopub.execute_input": "2022-06-21T13:23:40.886310Z",
     "iopub.status.busy": "2022-06-21T13:23:40.885638Z",
     "iopub.status.idle": "2022-06-21T13:23:41.255276Z",
     "shell.execute_reply": "2022-06-21T13:23:41.254413Z"
    },
    "id": "atCbjwudhUOj",
    "papermill": {
     "duration": 0.398313,
     "end_time": "2022-06-21T13:23:41.257800",
     "exception": false,
     "start_time": "2022-06-21T13:23:40.859487",
     "status": "completed"
    },
    "tags": []
   },
   "outputs": [],
   "source": [
    "df_sample[sites].fillna(0).to_csv('train_sessions_text.txt', \n",
    "                                 sep=' ', index=None, header=None)\n",
    "test_df_mod[sites].fillna(0).to_csv('test_sessions_text.txt', \n",
    "                                sep=' ', index=None, header=None)"
   ]
  },
  {
   "cell_type": "markdown",
   "id": "4de57577",
   "metadata": {
    "id": "I4WIn18hkZa6",
    "papermill": {
     "duration": 0.024914,
     "end_time": "2022-06-21T13:23:41.307813",
     "exception": false,
     "start_time": "2022-06-21T13:23:41.282899",
     "status": "completed"
    },
    "tags": []
   },
   "source": [
    "Инициализируем **TfidfVectorizer**"
   ]
  },
  {
   "cell_type": "code",
   "execution_count": 14,
   "id": "ecbe6d7f",
   "metadata": {
    "execution": {
     "iopub.execute_input": "2022-06-21T13:23:41.359554Z",
     "iopub.status.busy": "2022-06-21T13:23:41.358126Z",
     "iopub.status.idle": "2022-06-21T13:23:41.363771Z",
     "shell.execute_reply": "2022-06-21T13:23:41.362846Z"
    },
    "id": "pet4hJchhIK9",
    "papermill": {
     "duration": 0.033214,
     "end_time": "2022-06-21T13:23:41.365710",
     "exception": false,
     "start_time": "2022-06-21T13:23:41.332496",
     "status": "completed"
    },
    "tags": []
   },
   "outputs": [],
   "source": [
    "count_tf_idf = TfidfVectorizer(ngram_range=(1,10), analyzer='char_wb', max_features=50000)"
   ]
  },
  {
   "cell_type": "code",
   "execution_count": 15,
   "id": "3f0562c5",
   "metadata": {
    "execution": {
     "iopub.execute_input": "2022-06-21T13:23:41.416995Z",
     "iopub.status.busy": "2022-06-21T13:23:41.416353Z",
     "iopub.status.idle": "2022-06-21T13:23:54.757857Z",
     "shell.execute_reply": "2022-06-21T13:23:54.756812Z"
    },
    "id": "wc1_dFbChULo",
    "papermill": {
     "duration": 13.370541,
     "end_time": "2022-06-21T13:23:54.760864",
     "exception": false,
     "start_time": "2022-06-21T13:23:41.390323",
     "status": "completed"
    },
    "tags": []
   },
   "outputs": [
    {
     "name": "stdout",
     "output_type": "stream",
     "text": [
      "(3000, 15667) (82797, 15667)\n"
     ]
    }
   ],
   "source": [
    "with open('train_sessions_text.txt') as inp_train_file:\n",
    "    X_train = count_tf_idf.fit_transform(inp_train_file)\n",
    "with open('test_sessions_text.txt') as inp_test_file:\n",
    "    X_test = count_tf_idf.transform(inp_test_file)\n",
    "\n",
    "print(X_train.shape, X_test.shape)"
   ]
  },
  {
   "cell_type": "markdown",
   "id": "d4fa9f8a",
   "metadata": {
    "id": "R2KEntjajOLD",
    "papermill": {
     "duration": 0.024888,
     "end_time": "2022-06-21T13:23:54.811637",
     "exception": false,
     "start_time": "2022-06-21T13:23:54.786749",
     "status": "completed"
    },
    "tags": []
   },
   "source": [
    "Теперь в данные матрицы добавим наши признаки извлеченные из столбцов времени"
   ]
  },
  {
   "cell_type": "code",
   "execution_count": 16,
   "id": "0553c372",
   "metadata": {
    "execution": {
     "iopub.execute_input": "2022-06-21T13:23:54.863262Z",
     "iopub.status.busy": "2022-06-21T13:23:54.862605Z",
     "iopub.status.idle": "2022-06-21T13:23:54.868042Z",
     "shell.execute_reply": "2022-06-21T13:23:54.867390Z"
    },
    "id": "dp-AJNQEkeib",
    "papermill": {
     "duration": 0.033593,
     "end_time": "2022-06-21T13:23:54.869934",
     "exception": false,
     "start_time": "2022-06-21T13:23:54.836341",
     "status": "completed"
    },
    "tags": []
   },
   "outputs": [],
   "source": [
    "def add_to_sparce_marix(table, X_sparse):\n",
    "    '''\n",
    "    Фукция добавления признаков к разряженой матрице\n",
    "    '''\n",
    "    col_list = sorted(list(set(table.columns.to_list()) - set(sites) - set(['target'])))\n",
    "    temp_array = table[col_list].values\n",
    "\n",
    "    return hstack([X_sparse, temp_array]).tocsr()"
   ]
  },
  {
   "cell_type": "code",
   "execution_count": 17,
   "id": "5b125985",
   "metadata": {
    "execution": {
     "iopub.execute_input": "2022-06-21T13:23:54.921132Z",
     "iopub.status.busy": "2022-06-21T13:23:54.920508Z",
     "iopub.status.idle": "2022-06-21T13:23:55.538180Z",
     "shell.execute_reply": "2022-06-21T13:23:55.536976Z"
    },
    "id": "JG-BgXENjNm_",
    "papermill": {
     "duration": 0.646283,
     "end_time": "2022-06-21T13:23:55.540895",
     "exception": false,
     "start_time": "2022-06-21T13:23:54.894612",
     "status": "completed"
    },
    "tags": []
   },
   "outputs": [
    {
     "name": "stdout",
     "output_type": "stream",
     "text": [
      "(3000, 15717) (82797, 15717)\n"
     ]
    }
   ],
   "source": [
    "X_full = add_to_sparce_marix(df_sample, X_train)\n",
    "X_test = add_to_sparce_marix(test_df_mod, X_test)\n",
    "\n",
    "print(X_full.shape, X_test.shape)"
   ]
  },
  {
   "cell_type": "markdown",
   "id": "e4f359d7",
   "metadata": {
    "id": "LIGMYqorUPm1",
    "papermill": {
     "duration": 0.024444,
     "end_time": "2022-06-21T13:23:55.590723",
     "exception": false,
     "start_time": "2022-06-21T13:23:55.566279",
     "status": "completed"
    },
    "tags": []
   },
   "source": [
    "Разобьем выборку на две части: тренировочную (70%), валидационную (30%)"
   ]
  },
  {
   "cell_type": "code",
   "execution_count": 18,
   "id": "771ede52",
   "metadata": {
    "execution": {
     "iopub.execute_input": "2022-06-21T13:23:55.641964Z",
     "iopub.status.busy": "2022-06-21T13:23:55.641595Z",
     "iopub.status.idle": "2022-06-21T13:23:55.645649Z",
     "shell.execute_reply": "2022-06-21T13:23:55.644695Z"
    },
    "id": "UsTEZSwGqWo-",
    "papermill": {
     "duration": 0.03213,
     "end_time": "2022-06-21T13:23:55.647593",
     "exception": false,
     "start_time": "2022-06-21T13:23:55.615463",
     "status": "completed"
    },
    "tags": []
   },
   "outputs": [],
   "source": [
    "border = len(df_sample)//100*70"
   ]
  },
  {
   "cell_type": "code",
   "execution_count": 19,
   "id": "11d3c4a4",
   "metadata": {
    "execution": {
     "iopub.execute_input": "2022-06-21T13:23:55.698683Z",
     "iopub.status.busy": "2022-06-21T13:23:55.698302Z",
     "iopub.status.idle": "2022-06-21T13:23:55.704797Z",
     "shell.execute_reply": "2022-06-21T13:23:55.703966Z"
    },
    "id": "-W7WA-JMUPm1",
    "papermill": {
     "duration": 0.034079,
     "end_time": "2022-06-21T13:23:55.706648",
     "exception": false,
     "start_time": "2022-06-21T13:23:55.672569",
     "status": "completed"
    },
    "tags": []
   },
   "outputs": [],
   "source": [
    "X_train = X_full[:border]\n",
    "X_valid = X_full[border:]\n",
    "y_full = df_sample['target'].values\n",
    "y_train = y_full[:border]\n",
    "y_valid = y_full[border:]"
   ]
  },
  {
   "cell_type": "markdown",
   "id": "0e7447a2",
   "metadata": {
    "id": "rhTMXT23UPm2",
    "papermill": {
     "duration": 0.024282,
     "end_time": "2022-06-21T13:23:55.755808",
     "exception": false,
     "start_time": "2022-06-21T13:23:55.731526",
     "status": "completed"
    },
    "tags": []
   },
   "source": [
    "Проверка"
   ]
  },
  {
   "cell_type": "code",
   "execution_count": 20,
   "id": "f202f259",
   "metadata": {
    "execution": {
     "iopub.execute_input": "2022-06-21T13:23:55.808178Z",
     "iopub.status.busy": "2022-06-21T13:23:55.807580Z",
     "iopub.status.idle": "2022-06-21T13:23:55.811935Z",
     "shell.execute_reply": "2022-06-21T13:23:55.811285Z"
    },
    "id": "4Fa4Va5_UPm2",
    "papermill": {
     "duration": 0.032315,
     "end_time": "2022-06-21T13:23:55.813776",
     "exception": false,
     "start_time": "2022-06-21T13:23:55.781461",
     "status": "completed"
    },
    "tags": []
   },
   "outputs": [
    {
     "name": "stdout",
     "output_type": "stream",
     "text": [
      "(2100, 15717) (900, 15717) (2100,) (900,)\n"
     ]
    }
   ],
   "source": [
    "print(X_train.shape, X_valid.shape, y_train.shape, y_valid.shape)"
   ]
  },
  {
   "cell_type": "markdown",
   "id": "410f1739",
   "metadata": {
    "id": "s4sgZETmUPm8",
    "papermill": {
     "duration": 0.024538,
     "end_time": "2022-06-21T13:23:55.863155",
     "exception": false,
     "start_time": "2022-06-21T13:23:55.838617",
     "status": "completed"
    },
    "tags": []
   },
   "source": [
    "Обучаем модель"
   ]
  },
  {
   "cell_type": "code",
   "execution_count": 21,
   "id": "08f00bcd",
   "metadata": {
    "execution": {
     "iopub.execute_input": "2022-06-21T13:23:55.914342Z",
     "iopub.status.busy": "2022-06-21T13:23:55.913721Z",
     "iopub.status.idle": "2022-06-21T13:23:55.917902Z",
     "shell.execute_reply": "2022-06-21T13:23:55.917166Z"
    },
    "id": "rcMiCrCNMBt9",
    "papermill": {
     "duration": 0.031741,
     "end_time": "2022-06-21T13:23:55.919637",
     "exception": false,
     "start_time": "2022-06-21T13:23:55.887896",
     "status": "completed"
    },
    "tags": []
   },
   "outputs": [],
   "source": [
    "tscv = TimeSeriesSplit(n_splits=10)"
   ]
  },
  {
   "cell_type": "code",
   "execution_count": 22,
   "id": "4378b716",
   "metadata": {
    "execution": {
     "iopub.execute_input": "2022-06-21T13:23:55.971730Z",
     "iopub.status.busy": "2022-06-21T13:23:55.971131Z",
     "iopub.status.idle": "2022-06-21T13:24:10.814864Z",
     "shell.execute_reply": "2022-06-21T13:24:10.813664Z"
    },
    "id": "x6bLP8-TP9ad",
    "outputId": "3364801e-8881-4927-d982-76ea787005e6",
    "papermill": {
     "duration": 14.873725,
     "end_time": "2022-06-21T13:24:10.818302",
     "exception": false,
     "start_time": "2022-06-21T13:23:55.944577",
     "status": "completed"
    },
    "tags": []
   },
   "outputs": [
    {
     "name": "stdout",
     "output_type": "stream",
     "text": [
      "************************************************************************************************************************\n",
      "\n",
      "Лучшие параметры:\n",
      "{'C': 12.915496650148826}\n",
      "\n",
      "0.9721228714741006\n",
      "CPU times: user 3.59 s, sys: 3.71 s, total: 7.3 s\n",
      "Wall time: 14.8 s\n"
     ]
    }
   ],
   "source": [
    "%%time\n",
    "logreg = LogisticRegression(solver='lbfgs', max_iter=1000, random_state=101)\n",
    "\n",
    "tuned_parameters = {\"C\": np.logspace(-2, 2, 10)}\n",
    "\n",
    "best_logreg = GridSearchCV(logreg, param_grid=tuned_parameters, scoring='roc_auc',\n",
    "                           cv=tscv, n_jobs=-1).fit(X_train, y_train)\n",
    "y_pred = best_logreg.predict_proba(X_valid)[:, 1]\n",
    "print('***'*40)\n",
    "print()\n",
    "print('Лучшие параметры:')\n",
    "print(best_logreg.best_params_)\n",
    "print()\n",
    "score = roc_auc_score(y_valid, y_pred)\n",
    "print(score)"
   ]
  },
  {
   "cell_type": "code",
   "execution_count": 23,
   "id": "ec2208d5",
   "metadata": {
    "execution": {
     "iopub.execute_input": "2022-06-21T13:24:10.943383Z",
     "iopub.status.busy": "2022-06-21T13:24:10.943028Z",
     "iopub.status.idle": "2022-06-21T13:24:10.948746Z",
     "shell.execute_reply": "2022-06-21T13:24:10.948103Z"
    },
    "id": "HIp7UQ6AEt21",
    "papermill": {
     "duration": 0.045683,
     "end_time": "2022-06-21T13:24:10.950536",
     "exception": false,
     "start_time": "2022-06-21T13:24:10.904853",
     "status": "completed"
    },
    "tags": []
   },
   "outputs": [],
   "source": [
    "# Функция для записи предсказаний\n",
    "def write_to_submission_file(predicted_labels, out_file,\n",
    "                             target='target', index_label=\"session_id\"):\n",
    "    predicted_df = pd.DataFrame(predicted_labels,\n",
    "                                index = range(1, predicted_labels.shape[0] + 1),\n",
    "                                columns=[target])\n",
    "    predicted_df.to_csv(out_file, index_label=index_label)"
   ]
  },
  {
   "cell_type": "code",
   "execution_count": 24,
   "id": "6463fb02",
   "metadata": {
    "execution": {
     "iopub.execute_input": "2022-06-21T13:24:11.002878Z",
     "iopub.status.busy": "2022-06-21T13:24:11.002329Z",
     "iopub.status.idle": "2022-06-21T13:24:11.342998Z",
     "shell.execute_reply": "2022-06-21T13:24:11.342037Z"
    },
    "id": "AlQRlw5eEt22",
    "papermill": {
     "duration": 0.369998,
     "end_time": "2022-06-21T13:24:11.345602",
     "exception": false,
     "start_time": "2022-06-21T13:24:10.975604",
     "status": "completed"
    },
    "tags": []
   },
   "outputs": [],
   "source": [
    "# Делаем предсказания для теста\n",
    "y_test = best_logreg.predict_proba(X_test)[:, 1]\n",
    "\n",
    "# Сохрание файла с предсказаниями\n",
    "write_to_submission_file(y_test, 'my_sub_var_1.csv')"
   ]
  },
  {
   "cell_type": "markdown",
   "id": "4837a9eb",
   "metadata": {
    "id": "epgj9xd-K_3l",
    "papermill": {
     "duration": 0.024946,
     "end_time": "2022-06-21T13:24:11.396020",
     "exception": false,
     "start_time": "2022-06-21T13:24:11.371074",
     "status": "completed"
    },
    "tags": []
   },
   "source": [
    "Создадим таблицу, куда будем заносить результаты"
   ]
  },
  {
   "cell_type": "code",
   "execution_count": 25,
   "id": "38193bf0",
   "metadata": {
    "execution": {
     "iopub.execute_input": "2022-06-21T13:24:11.447719Z",
     "iopub.status.busy": "2022-06-21T13:24:11.447311Z",
     "iopub.status.idle": "2022-06-21T13:24:11.455084Z",
     "shell.execute_reply": "2022-06-21T13:24:11.454278Z"
    },
    "id": "HHxGniMTK-Ef",
    "papermill": {
     "duration": 0.035845,
     "end_time": "2022-06-21T13:24:11.457009",
     "exception": false,
     "start_time": "2022-06-21T13:24:11.421164",
     "status": "completed"
    },
    "tags": []
   },
   "outputs": [],
   "source": [
    "result_df = pd.DataFrame(columns=['ML_name', 'ROC_AUC valid', 'ROC_AUC_public'])"
   ]
  },
  {
   "cell_type": "code",
   "execution_count": 26,
   "id": "8dbd820d",
   "metadata": {
    "execution": {
     "iopub.execute_input": "2022-06-21T13:24:11.509385Z",
     "iopub.status.busy": "2022-06-21T13:24:11.508984Z",
     "iopub.status.idle": "2022-06-21T13:24:11.527996Z",
     "shell.execute_reply": "2022-06-21T13:24:11.527405Z"
    },
    "id": "_WG1fiDeNDn7",
    "outputId": "93dd347b-1c5b-421b-cd99-0c7de2a81f46",
    "papermill": {
     "duration": 0.047194,
     "end_time": "2022-06-21T13:24:11.529663",
     "exception": false,
     "start_time": "2022-06-21T13:24:11.482469",
     "status": "completed"
    },
    "tags": []
   },
   "outputs": [
    {
     "data": {
      "text/html": [
       "<div>\n",
       "<style scoped>\n",
       "    .dataframe tbody tr th:only-of-type {\n",
       "        vertical-align: middle;\n",
       "    }\n",
       "\n",
       "    .dataframe tbody tr th {\n",
       "        vertical-align: top;\n",
       "    }\n",
       "\n",
       "    .dataframe thead th {\n",
       "        text-align: right;\n",
       "    }\n",
       "</style>\n",
       "<table border=\"1\" class=\"dataframe\">\n",
       "  <thead>\n",
       "    <tr style=\"text-align: right;\">\n",
       "      <th></th>\n",
       "      <th>ML_name</th>\n",
       "      <th>ROC_AUC valid</th>\n",
       "      <th>ROC_AUC_public</th>\n",
       "    </tr>\n",
       "  </thead>\n",
       "  <tbody>\n",
       "    <tr>\n",
       "      <th>0</th>\n",
       "      <td>TF-IDF + LogReg</td>\n",
       "      <td>0.972123</td>\n",
       "      <td>0,XXX</td>\n",
       "    </tr>\n",
       "  </tbody>\n",
       "</table>\n",
       "</div>"
      ],
      "text/plain": [
       "           ML_name  ROC_AUC valid ROC_AUC_public\n",
       "0  TF-IDF + LogReg       0.972123          0,XXX"
      ]
     },
     "execution_count": 26,
     "metadata": {},
     "output_type": "execute_result"
    }
   ],
   "source": [
    "result_df.loc[0]=['TF-IDF + LogReg', round(score, 6), '0,XXX'] # 0,XXX - значение полученное на паблике\n",
    "result_df.head()"
   ]
  },
  {
   "cell_type": "markdown",
   "id": "370a6408",
   "metadata": {
    "id": "rl30Fh93Bp-5",
    "papermill": {
     "duration": 0.025184,
     "end_time": "2022-06-21T13:24:11.580224",
     "exception": false,
     "start_time": "2022-06-21T13:24:11.555040",
     "status": "completed"
    },
    "tags": []
   },
   "source": [
    "## Вариант 2\n",
    "TF-IDF + Catboost"
   ]
  },
  {
   "cell_type": "markdown",
   "id": "693a0c76",
   "metadata": {
    "id": "yyOJCtqkMvWh",
    "papermill": {
     "duration": 0.025428,
     "end_time": "2022-06-21T13:24:11.630933",
     "exception": false,
     "start_time": "2022-06-21T13:24:11.605505",
     "status": "completed"
    },
    "tags": []
   },
   "source": [
    "В данном варианте заменим модель на бустинг, поддержим отечественного производителя =) и будем рассматривать Catboost. Никаких изменений данных, только меняем модель. Для подбора параметров воспользуемся **optuna**, она лучше, чем GridSearch или RandomSearch. Советую ее изучить и пользоваться ей."
   ]
  },
  {
   "cell_type": "code",
   "execution_count": 27,
   "id": "f5aa29e2",
   "metadata": {
    "execution": {
     "iopub.execute_input": "2022-06-21T13:24:11.684000Z",
     "iopub.status.busy": "2022-06-21T13:24:11.683264Z",
     "iopub.status.idle": "2022-06-21T13:24:11.691047Z",
     "shell.execute_reply": "2022-06-21T13:24:11.690454Z"
    },
    "id": "Dz92QdeR4enS",
    "papermill": {
     "duration": 0.036628,
     "end_time": "2022-06-21T13:24:11.692997",
     "exception": false,
     "start_time": "2022-06-21T13:24:11.656369",
     "status": "completed"
    },
    "tags": []
   },
   "outputs": [],
   "source": [
    "def objective(trial):\n",
    "\n",
    "  param = {\n",
    "        \"objective\": trial.suggest_categorical(\"objective\", [\"Logloss\", \"CrossEntropy\"]),\n",
    "        \"colsample_bylevel\": trial.suggest_float(\"colsample_bylevel\", 0.01, 0.1),\n",
    "        \"depth\": trial.suggest_int(\"depth\", 4, 12),\n",
    "        \"boosting_type\": trial.suggest_categorical(\"boosting_type\", [\"Ordered\", \"Plain\"]),\n",
    "        \"bootstrap_type\": trial.suggest_categorical(\"bootstrap_type\", [\"Bayesian\", \"Bernoulli\"]),\n",
    "        \"used_ram_limit\": \"16gb\",\n",
    "        \"eval_metric\": \"AUC\",\n",
    "        \"random_state\": 101,\n",
    "        \"logging_level\": \"Silent\"\n",
    "    }\n",
    "    \n",
    "  best_cat = CatBoostClassifier(**param)\n",
    "\n",
    "  best_cat.fit(X_train, y_train, eval_set=(X_valid, y_valid), early_stopping_rounds=20)\n",
    "  y_pred = best_cat.predict_proba(X_valid)[:, 1]\n",
    "  score = roc_auc_score(y_valid, y_pred)\n",
    "\n",
    "  return score"
   ]
  },
  {
   "cell_type": "markdown",
   "id": "393e8499",
   "metadata": {
    "papermill": {
     "duration": 0.02522,
     "end_time": "2022-06-21T13:24:11.743785",
     "exception": false,
     "start_time": "2022-06-21T13:24:11.718565",
     "status": "completed"
    },
    "tags": []
   },
   "source": [
    "Запускать поиск параметров не буду, они замимают пару часов. Возьмем параметры ниже."
   ]
  },
  {
   "cell_type": "code",
   "execution_count": 28,
   "id": "f3ead4ec",
   "metadata": {
    "execution": {
     "iopub.execute_input": "2022-06-21T13:24:11.796830Z",
     "iopub.status.busy": "2022-06-21T13:24:11.795843Z",
     "iopub.status.idle": "2022-06-21T13:24:11.800248Z",
     "shell.execute_reply": "2022-06-21T13:24:11.799199Z"
    },
    "id": "-ncB8p3v4hOF",
    "outputId": "5c0dd53d-be74-4930-d342-5ca21817cc53",
    "papermill": {
     "duration": 0.033084,
     "end_time": "2022-06-21T13:24:11.802296",
     "exception": false,
     "start_time": "2022-06-21T13:24:11.769212",
     "status": "completed"
    },
    "tags": []
   },
   "outputs": [],
   "source": [
    "# %%time\n",
    "# study = optuna.create_study(study_name=f'catboost-seed{101}')\n",
    "# study.optimize(objective, n_trials=100, n_jobs=-1, timeout=900)"
   ]
  },
  {
   "cell_type": "markdown",
   "id": "9aac8ebb",
   "metadata": {
    "id": "oP2Lx9hcMAW3",
    "papermill": {
     "duration": 0.025388,
     "end_time": "2022-06-21T13:24:11.854387",
     "exception": false,
     "start_time": "2022-06-21T13:24:11.828999",
     "status": "completed"
    },
    "tags": []
   },
   "source": [
    "Лучший скор:"
   ]
  },
  {
   "cell_type": "code",
   "execution_count": 29,
   "id": "67ca4223",
   "metadata": {
    "execution": {
     "iopub.execute_input": "2022-06-21T13:24:11.907199Z",
     "iopub.status.busy": "2022-06-21T13:24:11.906505Z",
     "iopub.status.idle": "2022-06-21T13:24:11.910546Z",
     "shell.execute_reply": "2022-06-21T13:24:11.909689Z"
    },
    "id": "lO9fcoBn4hK3",
    "outputId": "3d3592d8-f483-4ec6-c9da-1375fae29300",
    "papermill": {
     "duration": 0.032679,
     "end_time": "2022-06-21T13:24:11.912584",
     "exception": false,
     "start_time": "2022-06-21T13:24:11.879905",
     "status": "completed"
    },
    "tags": []
   },
   "outputs": [],
   "source": [
    "# study.best_value"
   ]
  },
  {
   "cell_type": "markdown",
   "id": "5cf7a2c4",
   "metadata": {
    "id": "e1GiUWO8MSbn",
    "papermill": {
     "duration": 0.025246,
     "end_time": "2022-06-21T13:24:11.963515",
     "exception": false,
     "start_time": "2022-06-21T13:24:11.938269",
     "status": "completed"
    },
    "tags": []
   },
   "source": [
    "Лучшие параметры:"
   ]
  },
  {
   "cell_type": "code",
   "execution_count": 30,
   "id": "c9b24b68",
   "metadata": {
    "execution": {
     "iopub.execute_input": "2022-06-21T13:24:12.016924Z",
     "iopub.status.busy": "2022-06-21T13:24:12.016296Z",
     "iopub.status.idle": "2022-06-21T13:24:12.019670Z",
     "shell.execute_reply": "2022-06-21T13:24:12.018997Z"
    },
    "id": "8djFsP8I4hHg",
    "outputId": "b1aa4e8b-d73b-49d7-a0e3-a83bacc4e845",
    "papermill": {
     "duration": 0.032549,
     "end_time": "2022-06-21T13:24:12.021618",
     "exception": false,
     "start_time": "2022-06-21T13:24:11.989069",
     "status": "completed"
    },
    "tags": []
   },
   "outputs": [],
   "source": [
    "# study.best_params"
   ]
  },
  {
   "cell_type": "code",
   "execution_count": 31,
   "id": "c7276bbe",
   "metadata": {
    "execution": {
     "iopub.execute_input": "2022-06-21T13:24:12.075723Z",
     "iopub.status.busy": "2022-06-21T13:24:12.075147Z",
     "iopub.status.idle": "2022-06-21T13:24:12.078949Z",
     "shell.execute_reply": "2022-06-21T13:24:12.078326Z"
    },
    "id": "CY8jPkqeertx",
    "papermill": {
     "duration": 0.032693,
     "end_time": "2022-06-21T13:24:12.080807",
     "exception": false,
     "start_time": "2022-06-21T13:24:12.048114",
     "status": "completed"
    },
    "tags": []
   },
   "outputs": [],
   "source": [
    "# В одной из итераций поиска параметров, подобрались параметры ниже\n",
    "# одни из лучших, кто не хочет ждать поиска может воспользоваться ими\n",
    "# {'boosting_type': 'Plain',\n",
    "#  'bootstrap_type': 'Bayesian',\n",
    "#  'colsample_bylevel': 0.07809096596254919,\n",
    "#  'depth': 4,\n",
    "#  'objective': 'CrossEntropy'}"
   ]
  },
  {
   "cell_type": "markdown",
   "id": "b6e1c447",
   "metadata": {
    "id": "mgHzJwGXMXwi",
    "papermill": {
     "duration": 0.025236,
     "end_time": "2022-06-21T13:24:12.131738",
     "exception": false,
     "start_time": "2022-06-21T13:24:12.106502",
     "status": "completed"
    },
    "tags": []
   },
   "source": [
    "Создадим заново параметры и обучим модель, чтобы сделать предсказания для теста. Использовать сразу лучшую модель из **optuna** для предсказаний (типа как в GridSearch), как-то можно, но заморочено и я не разобрался. Проще заново обучить модель с найдеными параметрами и сделать предсказания."
   ]
  },
  {
   "cell_type": "code",
   "execution_count": 32,
   "id": "95dd3840",
   "metadata": {
    "execution": {
     "iopub.execute_input": "2022-06-21T13:24:12.185204Z",
     "iopub.status.busy": "2022-06-21T13:24:12.184564Z",
     "iopub.status.idle": "2022-06-21T13:24:12.189125Z",
     "shell.execute_reply": "2022-06-21T13:24:12.188487Z"
    },
    "papermill": {
     "duration": 0.033514,
     "end_time": "2022-06-21T13:24:12.191078",
     "exception": false,
     "start_time": "2022-06-21T13:24:12.157564",
     "status": "completed"
    },
    "tags": []
   },
   "outputs": [],
   "source": [
    "best_params = {'boosting_type': 'Plain',\n",
    " 'bootstrap_type': 'Bayesian',\n",
    " 'colsample_bylevel': 0.07809096596254919,\n",
    " 'depth': 4,\n",
    " 'objective': 'CrossEntropy'}"
   ]
  },
  {
   "cell_type": "code",
   "execution_count": 33,
   "id": "9bcf9532",
   "metadata": {
    "execution": {
     "iopub.execute_input": "2022-06-21T13:24:12.244592Z",
     "iopub.status.busy": "2022-06-21T13:24:12.243971Z",
     "iopub.status.idle": "2022-06-21T13:24:12.248175Z",
     "shell.execute_reply": "2022-06-21T13:24:12.247490Z"
    },
    "id": "EV1GQ4c8EnH8",
    "papermill": {
     "duration": 0.032972,
     "end_time": "2022-06-21T13:24:12.250005",
     "exception": false,
     "start_time": "2022-06-21T13:24:12.217033",
     "status": "completed"
    },
    "tags": []
   },
   "outputs": [],
   "source": [
    "# Задаем параметры, добавляя неоходимые параметры\n",
    "params = best_params\n",
    "params['eval_metric'] = 'AUC'\n",
    "params['random_state'] = 101\n",
    "params['logging_level'] = 'Silent'"
   ]
  },
  {
   "cell_type": "code",
   "execution_count": 34,
   "id": "e56bbcf7",
   "metadata": {
    "execution": {
     "iopub.execute_input": "2022-06-21T13:24:12.304282Z",
     "iopub.status.busy": "2022-06-21T13:24:12.303889Z",
     "iopub.status.idle": "2022-06-21T13:24:19.307437Z",
     "shell.execute_reply": "2022-06-21T13:24:19.306349Z"
    },
    "id": "K9A1nMpxEnEH",
    "outputId": "a2eabacf-67ea-48c6-bdd7-dadbcb7413f9",
    "papermill": {
     "duration": 7.033957,
     "end_time": "2022-06-21T13:24:19.310104",
     "exception": false,
     "start_time": "2022-06-21T13:24:12.276147",
     "status": "completed"
    },
    "tags": []
   },
   "outputs": [
    {
     "name": "stdout",
     "output_type": "stream",
     "text": [
      "0.9729669770738755\n"
     ]
    }
   ],
   "source": [
    "# Обучаем модель с лучшими параметрами\n",
    "best_cat = CatBoostClassifier(**params).fit(X_train, y_train, eval_set=(X_valid, y_valid), \n",
    "                                            early_stopping_rounds=20)\n",
    "y_pred = best_cat.predict_proba(X_valid)[:, 1]\n",
    "score = roc_auc_score(y_valid, y_pred)\n",
    "print(score) # проверка, что скоры совпали, если был запущен поиск"
   ]
  },
  {
   "cell_type": "code",
   "execution_count": 35,
   "id": "b2c83102",
   "metadata": {
    "execution": {
     "iopub.execute_input": "2022-06-21T13:24:19.378034Z",
     "iopub.status.busy": "2022-06-21T13:24:19.377288Z",
     "iopub.status.idle": "2022-06-21T13:24:20.265331Z",
     "shell.execute_reply": "2022-06-21T13:24:20.264343Z"
    },
    "id": "1RL8AOI8Em7E",
    "papermill": {
     "duration": 0.927709,
     "end_time": "2022-06-21T13:24:20.267817",
     "exception": false,
     "start_time": "2022-06-21T13:24:19.340108",
     "status": "completed"
    },
    "tags": []
   },
   "outputs": [],
   "source": [
    "# Делаем предсказания для теста\n",
    "y_test = best_cat.predict_proba(X_test)[:, 1]\n",
    "\n",
    "# Сохрание файла с предсказаниями\n",
    "write_to_submission_file(y_test, 'my_sub_var_2.csv')"
   ]
  },
  {
   "cell_type": "markdown",
   "id": "1b929c9b",
   "metadata": {
    "id": "ofzPgI4KOpZe",
    "papermill": {
     "duration": 0.026447,
     "end_time": "2022-06-21T13:24:20.326204",
     "exception": false,
     "start_time": "2022-06-21T13:24:20.299757",
     "status": "completed"
    },
    "tags": []
   },
   "source": [
    "Заносим очередной результат"
   ]
  },
  {
   "cell_type": "code",
   "execution_count": 36,
   "id": "b797d512",
   "metadata": {
    "execution": {
     "iopub.execute_input": "2022-06-21T13:24:20.382633Z",
     "iopub.status.busy": "2022-06-21T13:24:20.382203Z",
     "iopub.status.idle": "2022-06-21T13:24:20.397333Z",
     "shell.execute_reply": "2022-06-21T13:24:20.396257Z"
    },
    "id": "iwPkSbiHOpZf",
    "outputId": "4b30dd5b-e781-4b65-b7b1-cb20a42ad747",
    "papermill": {
     "duration": 0.044659,
     "end_time": "2022-06-21T13:24:20.399467",
     "exception": false,
     "start_time": "2022-06-21T13:24:20.354808",
     "status": "completed"
    },
    "tags": []
   },
   "outputs": [
    {
     "data": {
      "text/html": [
       "<div>\n",
       "<style scoped>\n",
       "    .dataframe tbody tr th:only-of-type {\n",
       "        vertical-align: middle;\n",
       "    }\n",
       "\n",
       "    .dataframe tbody tr th {\n",
       "        vertical-align: top;\n",
       "    }\n",
       "\n",
       "    .dataframe thead th {\n",
       "        text-align: right;\n",
       "    }\n",
       "</style>\n",
       "<table border=\"1\" class=\"dataframe\">\n",
       "  <thead>\n",
       "    <tr style=\"text-align: right;\">\n",
       "      <th></th>\n",
       "      <th>ML_name</th>\n",
       "      <th>ROC_AUC valid</th>\n",
       "      <th>ROC_AUC_public</th>\n",
       "    </tr>\n",
       "  </thead>\n",
       "  <tbody>\n",
       "    <tr>\n",
       "      <th>0</th>\n",
       "      <td>TF-IDF + LogReg</td>\n",
       "      <td>0.972123</td>\n",
       "      <td>0,XXX</td>\n",
       "    </tr>\n",
       "    <tr>\n",
       "      <th>1</th>\n",
       "      <td>TF-IDF + Catboost</td>\n",
       "      <td>0.972967</td>\n",
       "      <td>0,XXX</td>\n",
       "    </tr>\n",
       "  </tbody>\n",
       "</table>\n",
       "</div>"
      ],
      "text/plain": [
       "             ML_name  ROC_AUC valid ROC_AUC_public\n",
       "0    TF-IDF + LogReg       0.972123          0,XXX\n",
       "1  TF-IDF + Catboost       0.972967          0,XXX"
      ]
     },
     "execution_count": 36,
     "metadata": {},
     "output_type": "execute_result"
    }
   ],
   "source": [
    "result_df.loc[1]=['TF-IDF + Catboost', round(score, 6), '0,XXX'] # 0,XXX - значение полученное на паблике\n",
    "result_df.head()"
   ]
  },
  {
   "cell_type": "markdown",
   "id": "ab7ed692",
   "metadata": {
    "id": "GJQGXVS23wNv",
    "papermill": {
     "duration": 0.02573,
     "end_time": "2022-06-21T13:24:20.451478",
     "exception": false,
     "start_time": "2022-06-21T13:24:20.425748",
     "status": "completed"
    },
    "tags": []
   },
   "source": [
    "## Вариант 3"
   ]
  },
  {
   "cell_type": "markdown",
   "id": "adc9970e",
   "metadata": {
    "id": "nSL3JSOuW0Jh",
    "papermill": {
     "duration": 0.026152,
     "end_time": "2022-06-21T13:24:20.504045",
     "exception": false,
     "start_time": "2022-06-21T13:24:20.477893",
     "status": "completed"
    },
    "tags": []
   },
   "source": [
    "В этом варианте попробуем другой подход к извлечению признаков из столбцов сайтов. Воспользуемся токенайзером BERT. Сначала сведем все названия сайтов в одну строку. Далее передадим получившийся Series в функцию для генерации эмбендингов. Посмотрим, что из этого получится...."
   ]
  },
  {
   "cell_type": "code",
   "execution_count": 37,
   "id": "125d2785",
   "metadata": {
    "execution": {
     "iopub.execute_input": "2022-06-21T13:24:20.559725Z",
     "iopub.status.busy": "2022-06-21T13:24:20.558986Z",
     "iopub.status.idle": "2022-06-21T13:24:20.564705Z",
     "shell.execute_reply": "2022-06-21T13:24:20.563957Z"
    },
    "papermill": {
     "duration": 0.036265,
     "end_time": "2022-06-21T13:24:20.566724",
     "exception": false,
     "start_time": "2022-06-21T13:24:20.530459",
     "status": "completed"
    },
    "tags": []
   },
   "outputs": [],
   "source": [
    "def inverse_dict(sites_dict):\n",
    "    '''\n",
    "    Функция для смены местами ключа и значения\n",
    "    '''\n",
    "    code_sites_dict = {}\n",
    "    sites = list(sites_dict.items())\n",
    "    for site in sites:\n",
    "        code_sites_dict[site[1]] = site[0]\n",
    "    return code_sites_dict"
   ]
  },
  {
   "cell_type": "code",
   "execution_count": 38,
   "id": "33a7d2c6",
   "metadata": {
    "execution": {
     "iopub.execute_input": "2022-06-21T13:24:20.622006Z",
     "iopub.status.busy": "2022-06-21T13:24:20.621291Z",
     "iopub.status.idle": "2022-06-21T13:24:21.452361Z",
     "shell.execute_reply": "2022-06-21T13:24:21.451329Z"
    },
    "papermill": {
     "duration": 0.861223,
     "end_time": "2022-06-21T13:24:21.454935",
     "exception": false,
     "start_time": "2022-06-21T13:24:20.593712",
     "status": "completed"
    },
    "tags": []
   },
   "outputs": [],
   "source": [
    "# заменяем коды сайтов на названия\n",
    "df_sample[sites] = df_sample[sites].apply(lambda x: x.map(inverse_dict(site_dict)))\n",
    "test_df_mod[sites] = test_df_mod[sites].apply(lambda x: x.map(inverse_dict(site_dict)))"
   ]
  },
  {
   "cell_type": "code",
   "execution_count": 39,
   "id": "51a0d2cf",
   "metadata": {
    "execution": {
     "iopub.execute_input": "2022-06-21T13:24:21.510228Z",
     "iopub.status.busy": "2022-06-21T13:24:21.509447Z",
     "iopub.status.idle": "2022-06-21T13:24:21.571879Z",
     "shell.execute_reply": "2022-06-21T13:24:21.571108Z"
    },
    "id": "Ox7i0z4YgBzf",
    "papermill": {
     "duration": 0.092683,
     "end_time": "2022-06-21T13:24:21.574122",
     "exception": false,
     "start_time": "2022-06-21T13:24:21.481439",
     "status": "completed"
    },
    "tags": []
   },
   "outputs": [],
   "source": [
    "# меняем тип данных, чтобы проще было их \"сложить\"\n",
    "df_sample[sites] = df_sample[sites].astype('str')\n",
    "test_df_mod[sites] = test_df_mod[sites].astype('str')"
   ]
  },
  {
   "cell_type": "code",
   "execution_count": 40,
   "id": "775331be",
   "metadata": {
    "execution": {
     "iopub.execute_input": "2022-06-21T13:24:21.629679Z",
     "iopub.status.busy": "2022-06-21T13:24:21.629266Z",
     "iopub.status.idle": "2022-06-21T13:24:24.749700Z",
     "shell.execute_reply": "2022-06-21T13:24:24.748557Z"
    },
    "papermill": {
     "duration": 3.150873,
     "end_time": "2022-06-21T13:24:24.752147",
     "exception": false,
     "start_time": "2022-06-21T13:24:21.601274",
     "status": "completed"
    },
    "tags": []
   },
   "outputs": [],
   "source": [
    "# обрезаем www у сайтов\n",
    "df_sample[sites] = df_sample[sites].applymap(lambda x: re.sub(\"^\\S*?\\.*?www\\S*?\\.\", '', x))\n",
    "test_df_mod[sites] = test_df_mod[sites].applymap(lambda x: re.sub(\"^\\S*?\\.*?www\\S*?\\.\", '', x))"
   ]
  },
  {
   "cell_type": "code",
   "execution_count": 41,
   "id": "7a48baad",
   "metadata": {
    "execution": {
     "iopub.execute_input": "2022-06-21T13:24:24.808981Z",
     "iopub.status.busy": "2022-06-21T13:24:24.808513Z",
     "iopub.status.idle": "2022-06-21T13:24:25.915484Z",
     "shell.execute_reply": "2022-06-21T13:24:25.914582Z"
    },
    "id": "XLBgg0n-fgEU",
    "papermill": {
     "duration": 1.136692,
     "end_time": "2022-06-21T13:24:25.917810",
     "exception": false,
     "start_time": "2022-06-21T13:24:24.781118",
     "status": "completed"
    },
    "tags": []
   },
   "outputs": [],
   "source": [
    "# тут складываем в один стобец \"all\"\n",
    "df_sample['all'] = df_sample[sites].apply(lambda x: ' '.join(x), axis=1)\n",
    "test_df_mod['all'] = test_df_mod[sites].apply(lambda x: ' '.join(x), axis=1)"
   ]
  },
  {
   "cell_type": "markdown",
   "id": "5b1bc27b",
   "metadata": {
    "papermill": {
     "duration": 0.026045,
     "end_time": "2022-06-21T13:24:25.970308",
     "exception": false,
     "start_time": "2022-06-21T13:24:25.944263",
     "status": "completed"
    },
    "tags": []
   },
   "source": [
    "Проверка"
   ]
  },
  {
   "cell_type": "code",
   "execution_count": 42,
   "id": "c055a946",
   "metadata": {
    "execution": {
     "iopub.execute_input": "2022-06-21T13:24:26.026939Z",
     "iopub.status.busy": "2022-06-21T13:24:26.026573Z",
     "iopub.status.idle": "2022-06-21T13:24:26.034192Z",
     "shell.execute_reply": "2022-06-21T13:24:26.033126Z"
    },
    "id": "aY5uvKJmf7An",
    "outputId": "2ec4e722-0c4e-4d71-b454-7b503398784c",
    "papermill": {
     "duration": 0.038229,
     "end_time": "2022-06-21T13:24:26.036423",
     "exception": false,
     "start_time": "2022-06-21T13:24:25.998194",
     "status": "completed"
    },
    "tags": []
   },
   "outputs": [
    {
     "data": {
      "text/plain": [
       "0    media-1.melty.fr media.melty.fr wat.tv med.wat...\n",
       "1    um.simpli.fi foglio.basilic.io platform.linked...\n",
       "2    id.google.fr google.fr clients1.google.fr goog...\n",
       "3    deliv.leboncoin.fr static.leboncoin.fr lebonco...\n",
       "4    oo.rfihub.com networkadvertising.org themig.co...\n",
       "Name: all, dtype: object"
      ]
     },
     "execution_count": 42,
     "metadata": {},
     "output_type": "execute_result"
    }
   ],
   "source": [
    "df_sample['all'].head()"
   ]
  },
  {
   "cell_type": "code",
   "execution_count": 43,
   "id": "5069f860",
   "metadata": {
    "execution": {
     "iopub.execute_input": "2022-06-21T13:24:26.091361Z",
     "iopub.status.busy": "2022-06-21T13:24:26.090821Z",
     "iopub.status.idle": "2022-06-21T13:24:26.098290Z",
     "shell.execute_reply": "2022-06-21T13:24:26.097337Z"
    },
    "id": "SCZFMsr0FWCr",
    "outputId": "4fb5d49a-7e2e-4921-b74f-c58b68693a6c",
    "papermill": {
     "duration": 0.037277,
     "end_time": "2022-06-21T13:24:26.100244",
     "exception": false,
     "start_time": "2022-06-21T13:24:26.062967",
     "status": "completed"
    },
    "tags": []
   },
   "outputs": [
    {
     "data": {
      "text/plain": [
       "session_id\n",
       "1    facebook.com s-static.ak.facebook.com apis.goo...\n",
       "2    annotathon.org annotathon.org annotathon.org a...\n",
       "3    safebrowsing-cache.google.com safebrowsing-cac...\n",
       "4    fr.yahoo.com yahoo.fr ocsp.verisign.com ocsp.t...\n",
       "5    sci.sciences.univ-bpclermont.fr sci.sciences.u...\n",
       "Name: all, dtype: object"
      ]
     },
     "execution_count": 43,
     "metadata": {},
     "output_type": "execute_result"
    }
   ],
   "source": [
    "test_df_mod['all'].head()"
   ]
  },
  {
   "cell_type": "markdown",
   "id": "fd4e84ab",
   "metadata": {
    "id": "weLlbXMbsFCL",
    "papermill": {
     "duration": 0.026258,
     "end_time": "2022-06-21T13:24:26.153858",
     "exception": false,
     "start_time": "2022-06-21T13:24:26.127600",
     "status": "completed"
    },
    "tags": []
   },
   "source": [
    "Инициализируем токенайзер и модель"
   ]
  },
  {
   "cell_type": "code",
   "execution_count": 44,
   "id": "f13bda0b",
   "metadata": {
    "execution": {
     "iopub.execute_input": "2022-06-21T13:24:26.208248Z",
     "iopub.status.busy": "2022-06-21T13:24:26.207711Z",
     "iopub.status.idle": "2022-06-21T13:24:54.589261Z",
     "shell.execute_reply": "2022-06-21T13:24:54.588336Z"
    },
    "id": "52UG5cckrqxt",
    "outputId": "81d45c15-4db2-4314-d17f-36ce34254e87",
    "papermill": {
     "duration": 28.411346,
     "end_time": "2022-06-21T13:24:54.591558",
     "exception": false,
     "start_time": "2022-06-21T13:24:26.180212",
     "status": "completed"
    },
    "tags": []
   },
   "outputs": [
    {
     "data": {
      "application/vnd.jupyter.widget-view+json": {
       "model_id": "540c4c573aef4fbcb6435c8b719e8e88",
       "version_major": 2,
       "version_minor": 0
      },
      "text/plain": [
       "Downloading:   0%|          | 0.00/226k [00:00<?, ?B/s]"
      ]
     },
     "metadata": {},
     "output_type": "display_data"
    },
    {
     "data": {
      "application/vnd.jupyter.widget-view+json": {
       "model_id": "378cdf48044a412b9a9b0b5e5d32ba21",
       "version_major": 2,
       "version_minor": 0
      },
      "text/plain": [
       "Downloading:   0%|          | 0.00/28.0 [00:00<?, ?B/s]"
      ]
     },
     "metadata": {},
     "output_type": "display_data"
    },
    {
     "data": {
      "application/vnd.jupyter.widget-view+json": {
       "model_id": "2d465113436c45e29967ef3603ff56ad",
       "version_major": 2,
       "version_minor": 0
      },
      "text/plain": [
       "Downloading:   0%|          | 0.00/483 [00:00<?, ?B/s]"
      ]
     },
     "metadata": {},
     "output_type": "display_data"
    },
    {
     "data": {
      "application/vnd.jupyter.widget-view+json": {
       "model_id": "88984e775a3e4c0ba372b35860a9f679",
       "version_major": 2,
       "version_minor": 0
      },
      "text/plain": [
       "Downloading:   0%|          | 0.00/256M [00:00<?, ?B/s]"
      ]
     },
     "metadata": {},
     "output_type": "display_data"
    },
    {
     "name": "stderr",
     "output_type": "stream",
     "text": [
      "Some weights of the model checkpoint at distilbert-base-uncased were not used when initializing DistilBertModel: ['vocab_layer_norm.bias', 'vocab_transform.bias', 'vocab_projector.bias', 'vocab_transform.weight', 'vocab_projector.weight', 'vocab_layer_norm.weight']\n",
      "- This IS expected if you are initializing DistilBertModel from the checkpoint of a model trained on another task or with another architecture (e.g. initializing a BertForSequenceClassification model from a BertForPreTraining model).\n",
      "- This IS NOT expected if you are initializing DistilBertModel from the checkpoint of a model that you expect to be exactly identical (initializing a BertForSequenceClassification model from a BertForSequenceClassification model).\n"
     ]
    }
   ],
   "source": [
    "tokenizer = DistilBertTokenizer.from_pretrained('distilbert-base-uncased')\n",
    "model = DistilBertModel.from_pretrained(\"distilbert-base-uncased\")"
   ]
  },
  {
   "cell_type": "code",
   "execution_count": 45,
   "id": "57e32080",
   "metadata": {
    "execution": {
     "iopub.execute_input": "2022-06-21T13:24:54.650198Z",
     "iopub.status.busy": "2022-06-21T13:24:54.649183Z",
     "iopub.status.idle": "2022-06-21T13:24:54.664974Z",
     "shell.execute_reply": "2022-06-21T13:24:54.664277Z"
    },
    "id": "6u-9adJJF4Ol",
    "papermill": {
     "duration": 0.046272,
     "end_time": "2022-06-21T13:24:54.667109",
     "exception": false,
     "start_time": "2022-06-21T13:24:54.620837",
     "status": "completed"
    },
    "tags": []
   },
   "outputs": [],
   "source": [
    "def extract_features(tokenizer, model, series, flag_quantity = 0):\n",
    "    '''\n",
    "    Функция для создания эмбендингов\n",
    "    '''\n",
    "\n",
    "    # Преобразуем строку наших сайтов в номера токенов, возьмем половину макс длины токена\n",
    "    tokenized = series.apply(lambda x: tokenizer.encode(x, max_length = 256, truncation=True, add_special_tokens=True))\n",
    "    max_len = max([len(x) for x in tokenized])\n",
    "    # Дополним нулями вектора до максимальной длины и создадим маску\n",
    "    padded = np.array([i + [0]*(max_len - len(i)) for i in tokenized.values])\n",
    "    attention_mask = np.where(padded != 0, 1, 0)\n",
    "\n",
    "    batch_size = 200\n",
    "    embeddings = []\n",
    "    \n",
    "    # создадим флаг, на тот случай если размер таблицы нацело не делиться на размер батча\n",
    "    quantity = 0\n",
    "    if flag_quantity == 1:\n",
    "        quantity = padded.shape[0] // batch_size + 1\n",
    "    else:\n",
    "        quantity = padded.shape[0] // batch_size        \n",
    "\n",
    "    for i in range(quantity):\n",
    "          # Преобразуем данные в формат тензоров\n",
    "          batch = torch.LongTensor(padded[batch_size*i:batch_size*(i+1)]) \n",
    "          attention_mask_batch = torch.LongTensor(attention_mask[batch_size*i:batch_size*(i+1)])\n",
    "\n",
    "          # Для ускорения используем no_grad() те без градиена\n",
    "          with torch.no_grad():\n",
    "              # Чтобы получить эмбеддинги для батча, передадим модели данные и маску\n",
    "              batch_embeddings = model(batch, attention_mask=attention_mask_batch)\n",
    "          # Из полученного тензора извлечём нужные элементы и добавим в список всех эмбеддингов\n",
    "          embeddings.append(batch_embeddings[0][:,0,:].numpy())\n",
    "\n",
    "    return pd.DataFrame(np.concatenate(embeddings))"
   ]
  },
  {
   "cell_type": "markdown",
   "id": "b632366a",
   "metadata": {
    "id": "VeqxoeMwXUbE",
    "papermill": {
     "duration": 0.027134,
     "end_time": "2022-06-21T13:24:54.721699",
     "exception": false,
     "start_time": "2022-06-21T13:24:54.694565",
     "status": "completed"
    },
    "tags": []
   },
   "source": [
    "Запускаем нашу функцию, изменить придется оба датасета, и семпл, на котором будем обучаться модель, и тест, для того чтобы модель смогла сделать предсказания."
   ]
  },
  {
   "cell_type": "code",
   "execution_count": 46,
   "id": "7947912c",
   "metadata": {
    "execution": {
     "iopub.execute_input": "2022-06-21T13:24:54.779262Z",
     "iopub.status.busy": "2022-06-21T13:24:54.778457Z",
     "iopub.status.idle": "2022-06-21T13:37:43.364021Z",
     "shell.execute_reply": "2022-06-21T13:37:43.361660Z"
    },
    "papermill": {
     "duration": 768.650011,
     "end_time": "2022-06-21T13:37:43.399813",
     "exception": false,
     "start_time": "2022-06-21T13:24:54.749802",
     "status": "completed"
    },
    "tags": []
   },
   "outputs": [
    {
     "name": "stdout",
     "output_type": "stream",
     "text": [
      "CPU times: user 20min 9s, sys: 5min 5s, total: 25min 15s\n",
      "Wall time: 12min 48s\n"
     ]
    }
   ],
   "source": [
    "%%time\n",
    "df_ready_train = extract_features(tokenizer, model, df_sample['all'])"
   ]
  },
  {
   "cell_type": "markdown",
   "id": "7c4cfd7e",
   "metadata": {
    "papermill": {
     "duration": 0.027924,
     "end_time": "2022-06-21T13:37:43.455287",
     "exception": false,
     "start_time": "2022-06-21T13:37:43.427363",
     "status": "completed"
    },
    "tags": []
   },
   "source": [
    "Разделим наш Series, потому что оперативной памяти, выделяемой кэгглом, не хватает. И будем постепенно извлекать признаки, сразу же формирую конечную таблицу test"
   ]
  },
  {
   "cell_type": "code",
   "execution_count": 47,
   "id": "83d07a5f",
   "metadata": {
    "execution": {
     "iopub.execute_input": "2022-06-21T13:37:43.513207Z",
     "iopub.status.busy": "2022-06-21T13:37:43.512777Z",
     "iopub.status.idle": "2022-06-21T13:37:43.521997Z",
     "shell.execute_reply": "2022-06-21T13:37:43.520846Z"
    },
    "papermill": {
     "duration": 0.04144,
     "end_time": "2022-06-21T13:37:43.524198",
     "exception": false,
     "start_time": "2022-06-21T13:37:43.482758",
     "status": "completed"
    },
    "tags": []
   },
   "outputs": [
    {
     "data": {
      "text/plain": [
       "(82797,)"
      ]
     },
     "execution_count": 47,
     "metadata": {},
     "output_type": "execute_result"
    }
   ],
   "source": [
    "test_df_mod['all'].shape"
   ]
  },
  {
   "cell_type": "code",
   "execution_count": 48,
   "id": "0b2553b5",
   "metadata": {
    "execution": {
     "iopub.execute_input": "2022-06-21T13:37:43.581847Z",
     "iopub.status.busy": "2022-06-21T13:37:43.581225Z",
     "iopub.status.idle": "2022-06-21T19:30:29.897682Z",
     "shell.execute_reply": "2022-06-21T19:30:29.893659Z"
    },
    "papermill": {
     "duration": 21166.398646,
     "end_time": "2022-06-21T19:30:29.950836",
     "exception": false,
     "start_time": "2022-06-21T13:37:43.552190",
     "status": "completed"
    },
    "tags": []
   },
   "outputs": [
    {
     "name": "stderr",
     "output_type": "stream",
     "text": [
      "/opt/conda/lib/python3.7/site-packages/ipykernel_launcher.py:3: DeprecationWarning: The default dtype for empty Series will be 'object' instead of 'float64' in a future version. Specify a dtype explicitly to silence this warning.\n",
      "  This is separate from the ipykernel package so we can avoid doing imports until\n"
     ]
    },
    {
     "name": "stdout",
     "output_type": "stream",
     "text": [
      "CPU times: user 9h 18min 50s, sys: 2h 16min 22s, total: 11h 35min 12s\n",
      "Wall time: 5h 52min 46s\n"
     ]
    }
   ],
   "source": [
    "%%time\n",
    "# Уверен, что есть элегантный способ, но в голову пришел только этот вариант\n",
    "df_ready_test = pd.DataFrame()\n",
    "temp_series = pd.Series()\n",
    "for i in range(0,9):\n",
    "    temp_series = test_df_mod['all'][i*10000:(i+1)*10000]\n",
    "    if i < 8:\n",
    "        df_ready_test_temp = extract_features(tokenizer, model, temp_series)\n",
    "        df_ready_test = pd.concat([df_ready_test, df_ready_test_temp], ignore_index=True)\n",
    "    elif i == 8:\n",
    "        df_ready_test_temp = extract_features(tokenizer, model, temp_series, 1)\n",
    "        df_ready_test = pd.concat([df_ready_test, df_ready_test_temp], ignore_index=True)"
   ]
  },
  {
   "cell_type": "markdown",
   "id": "6543a57f",
   "metadata": {
    "papermill": {
     "duration": 0.027977,
     "end_time": "2022-06-21T19:30:30.006976",
     "exception": false,
     "start_time": "2022-06-21T19:30:29.978999",
     "status": "completed"
    },
    "tags": []
   },
   "source": [
    "Проверка"
   ]
  },
  {
   "cell_type": "code",
   "execution_count": 49,
   "id": "bea4c7e0",
   "metadata": {
    "execution": {
     "iopub.execute_input": "2022-06-21T19:30:30.069469Z",
     "iopub.status.busy": "2022-06-21T19:30:30.068928Z",
     "iopub.status.idle": "2022-06-21T19:30:30.083517Z",
     "shell.execute_reply": "2022-06-21T19:30:30.082868Z"
    },
    "papermill": {
     "duration": 0.050877,
     "end_time": "2022-06-21T19:30:30.086029",
     "exception": false,
     "start_time": "2022-06-21T19:30:30.035152",
     "status": "completed"
    },
    "tags": []
   },
   "outputs": [
    {
     "data": {
      "text/plain": [
       "(82797, 768)"
      ]
     },
     "execution_count": 49,
     "metadata": {},
     "output_type": "execute_result"
    }
   ],
   "source": [
    "df_ready_test.shape"
   ]
  },
  {
   "cell_type": "markdown",
   "id": "b9476b6f",
   "metadata": {
    "id": "y3ei1AYnXjKq",
    "papermill": {
     "duration": 0.027985,
     "end_time": "2022-06-21T19:30:30.142036",
     "exception": false,
     "start_time": "2022-06-21T19:30:30.114051",
     "status": "completed"
    },
    "tags": []
   },
   "source": [
    "Удаляем лишние столбцы"
   ]
  },
  {
   "cell_type": "code",
   "execution_count": 50,
   "id": "5361bd37",
   "metadata": {
    "execution": {
     "iopub.execute_input": "2022-06-21T19:30:30.199414Z",
     "iopub.status.busy": "2022-06-21T19:30:30.199016Z",
     "iopub.status.idle": "2022-06-21T19:30:30.401116Z",
     "shell.execute_reply": "2022-06-21T19:30:30.400093Z"
    },
    "id": "Rtn9wUzTyqwH",
    "outputId": "c6a77d1c-f1c5-453d-b6a6-878ae600dfca",
    "papermill": {
     "duration": 0.233823,
     "end_time": "2022-06-21T19:30:30.403664",
     "exception": false,
     "start_time": "2022-06-21T19:30:30.169841",
     "status": "completed"
    },
    "tags": []
   },
   "outputs": [],
   "source": [
    "df_sample = df_sample.drop(sites, axis=1)\n",
    "test_df_mod = test_df_mod.drop(sites, axis=1)"
   ]
  },
  {
   "cell_type": "code",
   "execution_count": 51,
   "id": "9c7f1f85",
   "metadata": {
    "execution": {
     "iopub.execute_input": "2022-06-21T19:30:30.461441Z",
     "iopub.status.busy": "2022-06-21T19:30:30.461035Z",
     "iopub.status.idle": "2022-06-21T19:30:30.473899Z",
     "shell.execute_reply": "2022-06-21T19:30:30.473023Z"
    },
    "id": "1iuChCGBz_sj",
    "papermill": {
     "duration": 0.044238,
     "end_time": "2022-06-21T19:30:30.476028",
     "exception": false,
     "start_time": "2022-06-21T19:30:30.431790",
     "status": "completed"
    },
    "tags": []
   },
   "outputs": [],
   "source": [
    "df_sample = df_sample.drop(['all'], axis=1)\n",
    "test_df_mod = test_df_mod.drop(['all'], axis=1)"
   ]
  },
  {
   "cell_type": "markdown",
   "id": "a7cfed33",
   "metadata": {
    "id": "4Ak5O9RdXmbG",
    "papermill": {
     "duration": 0.02755,
     "end_time": "2022-06-21T19:30:30.531384",
     "exception": false,
     "start_time": "2022-06-21T19:30:30.503834",
     "status": "completed"
    },
    "tags": []
   },
   "source": [
    "Проверка"
   ]
  },
  {
   "cell_type": "code",
   "execution_count": 52,
   "id": "8b2fb248",
   "metadata": {
    "execution": {
     "iopub.execute_input": "2022-06-21T19:30:30.589081Z",
     "iopub.status.busy": "2022-06-21T19:30:30.588675Z",
     "iopub.status.idle": "2022-06-21T19:30:30.594326Z",
     "shell.execute_reply": "2022-06-21T19:30:30.593210Z"
    },
    "id": "Bci5mK07wW_m",
    "papermill": {
     "duration": 0.03707,
     "end_time": "2022-06-21T19:30:30.596320",
     "exception": false,
     "start_time": "2022-06-21T19:30:30.559250",
     "status": "completed"
    },
    "tags": []
   },
   "outputs": [
    {
     "name": "stdout",
     "output_type": "stream",
     "text": [
      "(3000, 51) (82797, 50)\n"
     ]
    }
   ],
   "source": [
    "print(df_sample.shape, test_df_mod.shape)"
   ]
  },
  {
   "cell_type": "markdown",
   "id": "03b4572a",
   "metadata": {
    "id": "MaK7s_qyXnu1",
    "papermill": {
     "duration": 0.028481,
     "end_time": "2022-06-21T19:30:30.653439",
     "exception": false,
     "start_time": "2022-06-21T19:30:30.624958",
     "status": "completed"
    },
    "tags": []
   },
   "source": [
    "Объединение новых таблиц с таблицами, содержащими времянные признаки"
   ]
  },
  {
   "cell_type": "code",
   "execution_count": 53,
   "id": "342485cf",
   "metadata": {
    "execution": {
     "iopub.execute_input": "2022-06-21T19:30:30.711319Z",
     "iopub.status.busy": "2022-06-21T19:30:30.710524Z",
     "iopub.status.idle": "2022-06-21T19:30:30.890334Z",
     "shell.execute_reply": "2022-06-21T19:30:30.889270Z"
    },
    "id": "c9AMLB9J0Ihz",
    "papermill": {
     "duration": 0.211457,
     "end_time": "2022-06-21T19:30:30.892772",
     "exception": false,
     "start_time": "2022-06-21T19:30:30.681315",
     "status": "completed"
    },
    "tags": []
   },
   "outputs": [
    {
     "name": "stdout",
     "output_type": "stream",
     "text": [
      "(3000, 819) (82797, 818)\n"
     ]
    }
   ],
   "source": [
    "df_ready_train = df_ready_train.join(df_sample)\n",
    "df_ready_test = df_ready_test.join(test_df_mod.reset_index(drop=True))\n",
    "print(df_ready_train.shape, df_ready_test.shape)"
   ]
  },
  {
   "cell_type": "markdown",
   "id": "8e697e18",
   "metadata": {
    "id": "TH-LJXkwOwSD",
    "papermill": {
     "duration": 0.027871,
     "end_time": "2022-06-21T19:30:30.948931",
     "exception": false,
     "start_time": "2022-06-21T19:30:30.921060",
     "status": "completed"
    },
    "tags": []
   },
   "source": [
    "Теперь разобьем семпл выборку на две части: тренировочную (70%), валидационную (30%)"
   ]
  },
  {
   "cell_type": "code",
   "execution_count": 54,
   "id": "d33fce85",
   "metadata": {
    "execution": {
     "iopub.execute_input": "2022-06-21T19:30:31.008367Z",
     "iopub.status.busy": "2022-06-21T19:30:31.007634Z",
     "iopub.status.idle": "2022-06-21T19:30:31.025694Z",
     "shell.execute_reply": "2022-06-21T19:30:31.024809Z"
    },
    "id": "CoK_dLkGOwSE",
    "papermill": {
     "duration": 0.049662,
     "end_time": "2022-06-21T19:30:31.027894",
     "exception": false,
     "start_time": "2022-06-21T19:30:30.978232",
     "status": "completed"
    },
    "tags": []
   },
   "outputs": [],
   "source": [
    "df_train, df_valid = train_test_split(df_ready_train, test_size=0.3, random_state=101)"
   ]
  },
  {
   "cell_type": "markdown",
   "id": "522c7b41",
   "metadata": {
    "id": "M7NcrbpdOwSF",
    "papermill": {
     "duration": 0.027555,
     "end_time": "2022-06-21T19:30:31.083793",
     "exception": false,
     "start_time": "2022-06-21T19:30:31.056238",
     "status": "completed"
    },
    "tags": []
   },
   "source": [
    "Проверка"
   ]
  },
  {
   "cell_type": "code",
   "execution_count": 55,
   "id": "2deec367",
   "metadata": {
    "execution": {
     "iopub.execute_input": "2022-06-21T19:30:31.141154Z",
     "iopub.status.busy": "2022-06-21T19:30:31.140780Z",
     "iopub.status.idle": "2022-06-21T19:30:31.145255Z",
     "shell.execute_reply": "2022-06-21T19:30:31.144346Z"
    },
    "id": "9Bni467AOwSG",
    "outputId": "1b2abc4a-cedb-40f7-ab95-c4d2939ee460",
    "papermill": {
     "duration": 0.036099,
     "end_time": "2022-06-21T19:30:31.147626",
     "exception": false,
     "start_time": "2022-06-21T19:30:31.111527",
     "status": "completed"
    },
    "tags": []
   },
   "outputs": [
    {
     "name": "stdout",
     "output_type": "stream",
     "text": [
      "(2100, 819) (900, 819)\n"
     ]
    }
   ],
   "source": [
    "print(df_train.shape, df_valid.shape)"
   ]
  },
  {
   "cell_type": "markdown",
   "id": "1b8e9e79",
   "metadata": {
    "id": "vmRPJb8aOwSH",
    "papermill": {
     "duration": 0.027829,
     "end_time": "2022-06-21T19:30:31.203535",
     "exception": false,
     "start_time": "2022-06-21T19:30:31.175706",
     "status": "completed"
    },
    "tags": []
   },
   "source": [
    "Данные для обучения"
   ]
  },
  {
   "cell_type": "code",
   "execution_count": 56,
   "id": "82a54286",
   "metadata": {
    "execution": {
     "iopub.execute_input": "2022-06-21T19:30:31.262340Z",
     "iopub.status.busy": "2022-06-21T19:30:31.261949Z",
     "iopub.status.idle": "2022-06-21T19:30:31.278178Z",
     "shell.execute_reply": "2022-06-21T19:30:31.277440Z"
    },
    "id": "fX5MSIsBOwSJ",
    "papermill": {
     "duration": 0.047898,
     "end_time": "2022-06-21T19:30:31.280166",
     "exception": false,
     "start_time": "2022-06-21T19:30:31.232268",
     "status": "completed"
    },
    "tags": []
   },
   "outputs": [],
   "source": [
    "features_train = df_train.drop(['target'], axis=1).values\n",
    "target_train = df_train['target'].values"
   ]
  },
  {
   "cell_type": "markdown",
   "id": "494f6332",
   "metadata": {
    "id": "6t-a38UdOwSJ",
    "papermill": {
     "duration": 0.027882,
     "end_time": "2022-06-21T19:30:31.336356",
     "exception": false,
     "start_time": "2022-06-21T19:30:31.308474",
     "status": "completed"
    },
    "tags": []
   },
   "source": [
    "Данные для валидации"
   ]
  },
  {
   "cell_type": "code",
   "execution_count": 57,
   "id": "e5acbffa",
   "metadata": {
    "execution": {
     "iopub.execute_input": "2022-06-21T19:30:31.401328Z",
     "iopub.status.busy": "2022-06-21T19:30:31.400659Z",
     "iopub.status.idle": "2022-06-21T19:30:31.409931Z",
     "shell.execute_reply": "2022-06-21T19:30:31.408875Z"
    },
    "id": "kB-i4wgIOwSK",
    "papermill": {
     "duration": 0.046416,
     "end_time": "2022-06-21T19:30:31.412069",
     "exception": false,
     "start_time": "2022-06-21T19:30:31.365653",
     "status": "completed"
    },
    "tags": []
   },
   "outputs": [],
   "source": [
    "features_valid = df_valid.drop(['target'], axis=1).values\n",
    "target_valid = df_valid['target'].values"
   ]
  },
  {
   "cell_type": "markdown",
   "id": "55e9119e",
   "metadata": {
    "id": "C90U1ynBUY7S",
    "papermill": {
     "duration": 0.032363,
     "end_time": "2022-06-21T19:30:31.482532",
     "exception": false,
     "start_time": "2022-06-21T19:30:31.450169",
     "status": "completed"
    },
    "tags": []
   },
   "source": [
    "Посмотрим, как с новыми признаками проявит себя **LogisticRegression**"
   ]
  },
  {
   "cell_type": "code",
   "execution_count": 58,
   "id": "0b2e296f",
   "metadata": {
    "execution": {
     "iopub.execute_input": "2022-06-21T19:30:31.540336Z",
     "iopub.status.busy": "2022-06-21T19:30:31.539746Z",
     "iopub.status.idle": "2022-06-21T19:31:08.526249Z",
     "shell.execute_reply": "2022-06-21T19:31:08.515915Z"
    },
    "id": "f_jTMAPlSsGu",
    "outputId": "622c2d6e-0695-4c4d-cea4-167cf23f493d",
    "papermill": {
     "duration": 37.0672,
     "end_time": "2022-06-21T19:31:08.577685",
     "exception": false,
     "start_time": "2022-06-21T19:30:31.510485",
     "status": "completed"
    },
    "tags": []
   },
   "outputs": [
    {
     "name": "stdout",
     "output_type": "stream",
     "text": [
      "************************************************************************************************************************\n",
      "\n",
      "Лучшие параметры:\n",
      "{'C': 1.6681005372000592}\n",
      "\n",
      "0.9505124819216499\n",
      "CPU times: user 3.39 s, sys: 1.22 s, total: 4.62 s\n",
      "Wall time: 37 s\n"
     ]
    }
   ],
   "source": [
    "%%time\n",
    "logreg = LogisticRegression(solver='lbfgs', max_iter=2000, random_state=101)\n",
    "\n",
    "tuned_parameters = {\"C\": np.logspace(-2, 2, 10)}\n",
    "\n",
    "best_logreg = GridSearchCV(logreg, param_grid=tuned_parameters, scoring='roc_auc',\n",
    "                           cv=tscv, n_jobs=-1).fit(features_train, target_train)\n",
    "y_pred = best_logreg.predict_proba(features_valid)[:, 1]\n",
    "print('***'*40)\n",
    "print()\n",
    "print('Лучшие параметры:')\n",
    "print(best_logreg.best_params_)\n",
    "print()\n",
    "score = roc_auc_score(target_valid, y_pred)\n",
    "print(score)"
   ]
  },
  {
   "cell_type": "code",
   "execution_count": 59,
   "id": "ab086918",
   "metadata": {
    "execution": {
     "iopub.execute_input": "2022-06-21T19:31:08.659985Z",
     "iopub.status.busy": "2022-06-21T19:31:08.659506Z",
     "iopub.status.idle": "2022-06-21T19:31:09.537787Z",
     "shell.execute_reply": "2022-06-21T19:31:09.536921Z"
    },
    "id": "pbUBER9U1SY-",
    "outputId": "768d6acf-f367-4575-ab8c-85d1d7bf3617",
    "papermill": {
     "duration": 0.911488,
     "end_time": "2022-06-21T19:31:09.540175",
     "exception": false,
     "start_time": "2022-06-21T19:31:08.628687",
     "status": "completed"
    },
    "tags": []
   },
   "outputs": [],
   "source": [
    "# Делаем предсказания для теста\n",
    "y_test = best_logreg.predict_proba(df_ready_test.values)[:, 1]\n",
    "\n",
    "# Сохрание файла с предсказаниями\n",
    "write_to_submission_file(y_test, 'my_sub_var_3.csv')"
   ]
  },
  {
   "cell_type": "markdown",
   "id": "39e87a24",
   "metadata": {
    "id": "HpZgYegA1SZJ",
    "papermill": {
     "duration": 0.02846,
     "end_time": "2022-06-21T19:31:09.597952",
     "exception": false,
     "start_time": "2022-06-21T19:31:09.569492",
     "status": "completed"
    },
    "tags": []
   },
   "source": [
    "Заносим очередной результат"
   ]
  },
  {
   "cell_type": "code",
   "execution_count": 60,
   "id": "c1e70093",
   "metadata": {
    "execution": {
     "iopub.execute_input": "2022-06-21T19:31:09.656891Z",
     "iopub.status.busy": "2022-06-21T19:31:09.656486Z",
     "iopub.status.idle": "2022-06-21T19:31:09.678502Z",
     "shell.execute_reply": "2022-06-21T19:31:09.677665Z"
    },
    "id": "6oQb9LiU1SZJ",
    "outputId": "4b30dd5b-e781-4b65-b7b1-cb20a42ad747",
    "papermill": {
     "duration": 0.053954,
     "end_time": "2022-06-21T19:31:09.680756",
     "exception": false,
     "start_time": "2022-06-21T19:31:09.626802",
     "status": "completed"
    },
    "tags": []
   },
   "outputs": [
    {
     "data": {
      "text/html": [
       "<div>\n",
       "<style scoped>\n",
       "    .dataframe tbody tr th:only-of-type {\n",
       "        vertical-align: middle;\n",
       "    }\n",
       "\n",
       "    .dataframe tbody tr th {\n",
       "        vertical-align: top;\n",
       "    }\n",
       "\n",
       "    .dataframe thead th {\n",
       "        text-align: right;\n",
       "    }\n",
       "</style>\n",
       "<table border=\"1\" class=\"dataframe\">\n",
       "  <thead>\n",
       "    <tr style=\"text-align: right;\">\n",
       "      <th></th>\n",
       "      <th>ML_name</th>\n",
       "      <th>ROC_AUC valid</th>\n",
       "      <th>ROC_AUC_public</th>\n",
       "    </tr>\n",
       "  </thead>\n",
       "  <tbody>\n",
       "    <tr>\n",
       "      <th>0</th>\n",
       "      <td>TF-IDF + LogReg</td>\n",
       "      <td>0.972123</td>\n",
       "      <td>0,XXX</td>\n",
       "    </tr>\n",
       "    <tr>\n",
       "      <th>1</th>\n",
       "      <td>TF-IDF + Catboost</td>\n",
       "      <td>0.972967</td>\n",
       "      <td>0,XXX</td>\n",
       "    </tr>\n",
       "    <tr>\n",
       "      <th>2</th>\n",
       "      <td>BERT + LogReg</td>\n",
       "      <td>0.950512</td>\n",
       "      <td>0,XXX</td>\n",
       "    </tr>\n",
       "  </tbody>\n",
       "</table>\n",
       "</div>"
      ],
      "text/plain": [
       "             ML_name  ROC_AUC valid ROC_AUC_public\n",
       "0    TF-IDF + LogReg       0.972123          0,XXX\n",
       "1  TF-IDF + Catboost       0.972967          0,XXX\n",
       "2      BERT + LogReg       0.950512          0,XXX"
      ]
     },
     "execution_count": 60,
     "metadata": {},
     "output_type": "execute_result"
    }
   ],
   "source": [
    "result_df.loc[2]=['BERT + LogReg', round(score, 6), '0,XXX'] # 0,XXX - значение полученное на паблике\n",
    "result_df.head()"
   ]
  },
  {
   "cell_type": "markdown",
   "id": "1aa326d0",
   "metadata": {
    "id": "P-RviNEV3wDi",
    "papermill": {
     "duration": 0.02927,
     "end_time": "2022-06-21T19:31:09.739602",
     "exception": false,
     "start_time": "2022-06-21T19:31:09.710332",
     "status": "completed"
    },
    "tags": []
   },
   "source": [
    "## Вариант 4"
   ]
  },
  {
   "cell_type": "markdown",
   "id": "c3aaee23",
   "metadata": {
    "papermill": {
     "duration": 0.029585,
     "end_time": "2022-06-21T19:31:09.798149",
     "exception": false,
     "start_time": "2022-06-21T19:31:09.768564",
     "status": "completed"
    },
    "tags": []
   },
   "source": [
    "Аналогично Варианту 2 данные остаются без изменений, меняем только модель"
   ]
  },
  {
   "cell_type": "code",
   "execution_count": 61,
   "id": "5520127d",
   "metadata": {
    "execution": {
     "iopub.execute_input": "2022-06-21T19:31:09.859812Z",
     "iopub.status.busy": "2022-06-21T19:31:09.859072Z",
     "iopub.status.idle": "2022-06-21T19:31:09.868362Z",
     "shell.execute_reply": "2022-06-21T19:31:09.867659Z"
    },
    "id": "KMMyhcOO31eV",
    "papermill": {
     "duration": 0.042366,
     "end_time": "2022-06-21T19:31:09.870318",
     "exception": false,
     "start_time": "2022-06-21T19:31:09.827952",
     "status": "completed"
    },
    "tags": []
   },
   "outputs": [],
   "source": [
    "def objective(trial):\n",
    "\n",
    "  param = {\n",
    "        \"objective\": trial.suggest_categorical(\"objective\", [\"Logloss\", \"CrossEntropy\"]),\n",
    "        \"colsample_bylevel\": trial.suggest_float(\"colsample_bylevel\", 0.01, 0.1),\n",
    "        \"depth\": trial.suggest_int(\"depth\", 4, 12),\n",
    "        \"boosting_type\": trial.suggest_categorical(\"boosting_type\", [\"Ordered\", \"Plain\"]),\n",
    "        \"bootstrap_type\": trial.suggest_categorical(\"bootstrap_type\", [\"Bayesian\", \"Bernoulli\"]),\n",
    "        \"used_ram_limit\": \"16gb\",\n",
    "        \"eval_metric\": \"AUC\",\n",
    "        \"random_state\": 101,\n",
    "        \"logging_level\": \"Silent\"\n",
    "    }\n",
    "    \n",
    "  best_cat = CatBoostClassifier(**param)\n",
    "\n",
    "  best_cat.fit(features_train, target_train, eval_set=(features_valid, target_valid), early_stopping_rounds=20)\n",
    "  y_pred = best_cat.predict_proba(features_valid)[:, 1]\n",
    "  score = roc_auc_score(target_valid, y_pred)\n",
    "\n",
    "  return score"
   ]
  },
  {
   "cell_type": "code",
   "execution_count": 62,
   "id": "f0129918",
   "metadata": {
    "execution": {
     "iopub.execute_input": "2022-06-21T19:31:09.931282Z",
     "iopub.status.busy": "2022-06-21T19:31:09.930426Z",
     "iopub.status.idle": "2022-06-21T19:31:09.934452Z",
     "shell.execute_reply": "2022-06-21T19:31:09.933712Z"
    },
    "papermill": {
     "duration": 0.03677,
     "end_time": "2022-06-21T19:31:09.936444",
     "exception": false,
     "start_time": "2022-06-21T19:31:09.899674",
     "status": "completed"
    },
    "tags": []
   },
   "outputs": [],
   "source": [
    "# %%time\n",
    "# study = optuna.create_study(study_name=f'catboost-seed{101}')\n",
    "# study.optimize(objective, n_trials=100, n_jobs=-1, timeout=900)"
   ]
  },
  {
   "cell_type": "markdown",
   "id": "7bc4983d",
   "metadata": {
    "papermill": {
     "duration": 0.029727,
     "end_time": "2022-06-21T19:31:09.995702",
     "exception": false,
     "start_time": "2022-06-21T19:31:09.965975",
     "status": "completed"
    },
    "tags": []
   },
   "source": [
    "Лучший скор и лучшие параметры"
   ]
  },
  {
   "cell_type": "code",
   "execution_count": 63,
   "id": "469f9ffc",
   "metadata": {
    "execution": {
     "iopub.execute_input": "2022-06-21T19:31:10.057575Z",
     "iopub.status.busy": "2022-06-21T19:31:10.056900Z",
     "iopub.status.idle": "2022-06-21T19:31:10.060835Z",
     "shell.execute_reply": "2022-06-21T19:31:10.060008Z"
    },
    "papermill": {
     "duration": 0.036886,
     "end_time": "2022-06-21T19:31:10.063021",
     "exception": false,
     "start_time": "2022-06-21T19:31:10.026135",
     "status": "completed"
    },
    "tags": []
   },
   "outputs": [],
   "source": [
    "# study.best_value"
   ]
  },
  {
   "cell_type": "code",
   "execution_count": 64,
   "id": "0eaf06ea",
   "metadata": {
    "execution": {
     "iopub.execute_input": "2022-06-21T19:31:10.124045Z",
     "iopub.status.busy": "2022-06-21T19:31:10.123565Z",
     "iopub.status.idle": "2022-06-21T19:31:10.127709Z",
     "shell.execute_reply": "2022-06-21T19:31:10.126949Z"
    },
    "papermill": {
     "duration": 0.037219,
     "end_time": "2022-06-21T19:31:10.129753",
     "exception": false,
     "start_time": "2022-06-21T19:31:10.092534",
     "status": "completed"
    },
    "tags": []
   },
   "outputs": [],
   "source": [
    "# study.best_params"
   ]
  },
  {
   "cell_type": "code",
   "execution_count": 65,
   "id": "dd776a15",
   "metadata": {
    "execution": {
     "iopub.execute_input": "2022-06-21T19:31:10.191679Z",
     "iopub.status.busy": "2022-06-21T19:31:10.191155Z",
     "iopub.status.idle": "2022-06-21T19:31:10.196255Z",
     "shell.execute_reply": "2022-06-21T19:31:10.195424Z"
    },
    "papermill": {
     "duration": 0.038851,
     "end_time": "2022-06-21T19:31:10.198415",
     "exception": false,
     "start_time": "2022-06-21T19:31:10.159564",
     "status": "completed"
    },
    "tags": []
   },
   "outputs": [],
   "source": [
    "best_params = {'boosting_type': 'Plain',\n",
    " 'bootstrap_type': 'Bayesian',\n",
    " 'colsample_bylevel': 0.07809096596254919,\n",
    " 'depth': 4,\n",
    " 'objective': 'CrossEntropy'}"
   ]
  },
  {
   "cell_type": "code",
   "execution_count": 66,
   "id": "898b2810",
   "metadata": {
    "execution": {
     "iopub.execute_input": "2022-06-21T19:31:10.262316Z",
     "iopub.status.busy": "2022-06-21T19:31:10.261582Z",
     "iopub.status.idle": "2022-06-21T19:31:10.266199Z",
     "shell.execute_reply": "2022-06-21T19:31:10.265474Z"
    },
    "papermill": {
     "duration": 0.037972,
     "end_time": "2022-06-21T19:31:10.268358",
     "exception": false,
     "start_time": "2022-06-21T19:31:10.230386",
     "status": "completed"
    },
    "tags": []
   },
   "outputs": [],
   "source": [
    "# Задаем параметры\n",
    "params = best_params\n",
    "params['eval_metric'] = 'AUC'\n",
    "params['random_state'] = 101\n",
    "params['logging_level'] = 'Silent'"
   ]
  },
  {
   "cell_type": "code",
   "execution_count": 67,
   "id": "ed4d67cd",
   "metadata": {
    "execution": {
     "iopub.execute_input": "2022-06-21T19:31:10.635624Z",
     "iopub.status.busy": "2022-06-21T19:31:10.635196Z",
     "iopub.status.idle": "2022-06-21T19:31:16.970025Z",
     "shell.execute_reply": "2022-06-21T19:31:16.968670Z"
    },
    "papermill": {
     "duration": 6.369162,
     "end_time": "2022-06-21T19:31:16.972889",
     "exception": false,
     "start_time": "2022-06-21T19:31:10.603727",
     "status": "completed"
    },
    "tags": []
   },
   "outputs": [
    {
     "name": "stdout",
     "output_type": "stream",
     "text": [
      "0.9611918086734159\n"
     ]
    }
   ],
   "source": [
    "# Обучаем модель с лучшими параметрами\n",
    "best_cat = CatBoostClassifier(**params).fit(features_train, target_train, eval_set=(features_valid, target_valid), \n",
    "                                            early_stopping_rounds=20)\n",
    "y_pred = best_cat.predict_proba(features_valid)[:, 1]\n",
    "score = roc_auc_score(target_valid, y_pred)\n",
    "print(score) # проверка, что скоры совпали, если был запущен поиск"
   ]
  },
  {
   "cell_type": "code",
   "execution_count": 68,
   "id": "1b2ae538",
   "metadata": {
    "execution": {
     "iopub.execute_input": "2022-06-21T19:31:17.035619Z",
     "iopub.status.busy": "2022-06-21T19:31:17.034746Z",
     "iopub.status.idle": "2022-06-21T19:31:17.970363Z",
     "shell.execute_reply": "2022-06-21T19:31:17.969508Z"
    },
    "papermill": {
     "duration": 0.968991,
     "end_time": "2022-06-21T19:31:17.972842",
     "exception": false,
     "start_time": "2022-06-21T19:31:17.003851",
     "status": "completed"
    },
    "tags": []
   },
   "outputs": [],
   "source": [
    "# Делаем предсказания для теста\n",
    "y_test = best_cat.predict_proba(df_ready_test.values)[:, 1]\n",
    "\n",
    "# Сохрание файла с предсказаниями\n",
    "write_to_submission_file(y_test, 'my_sub_var_4.csv')"
   ]
  },
  {
   "cell_type": "code",
   "execution_count": 69,
   "id": "a93d9fc4",
   "metadata": {
    "execution": {
     "iopub.execute_input": "2022-06-21T19:31:18.035490Z",
     "iopub.status.busy": "2022-06-21T19:31:18.034887Z",
     "iopub.status.idle": "2022-06-21T19:31:18.042863Z",
     "shell.execute_reply": "2022-06-21T19:31:18.042202Z"
    },
    "papermill": {
     "duration": 0.041348,
     "end_time": "2022-06-21T19:31:18.044845",
     "exception": false,
     "start_time": "2022-06-21T19:31:18.003497",
     "status": "completed"
    },
    "tags": []
   },
   "outputs": [],
   "source": [
    "result_df.loc[3]=['BERT + Catboost', round(score, 6), '0,XXX'] # 0,XXX - значение полученное на паблике"
   ]
  },
  {
   "cell_type": "markdown",
   "id": "c507c573",
   "metadata": {
    "papermill": {
     "duration": 0.029919,
     "end_time": "2022-06-21T19:31:18.104701",
     "exception": false,
     "start_time": "2022-06-21T19:31:18.074782",
     "status": "completed"
    },
    "tags": []
   },
   "source": [
    "Глядя на результаты использовать BERT для выделения признаков было не очень хорошей идеей, справился он хуже чем TF-IDF. Или скорее я упустил какой-то важный момент, и не до конца изменил параметры. Рассмотрел его из спортивного интереса."
   ]
  },
  {
   "cell_type": "markdown",
   "id": "cc872916",
   "metadata": {
    "id": "J89NVPOyBxE9",
    "papermill": {
     "duration": 0.029418,
     "end_time": "2022-06-21T19:31:18.163795",
     "exception": false,
     "start_time": "2022-06-21T19:31:18.134377",
     "status": "completed"
    },
    "tags": []
   },
   "source": [
    "# Сравнение вариантов"
   ]
  },
  {
   "cell_type": "markdown",
   "id": "dd81b5e3",
   "metadata": {
    "papermill": {
     "duration": 0.029292,
     "end_time": "2022-06-21T19:31:18.223647",
     "exception": false,
     "start_time": "2022-06-21T19:31:18.194355",
     "status": "completed"
    },
    "tags": []
   },
   "source": [
    "Подведем итоги"
   ]
  },
  {
   "cell_type": "code",
   "execution_count": 70,
   "id": "297f0d78",
   "metadata": {
    "execution": {
     "iopub.execute_input": "2022-06-21T19:31:18.284720Z",
     "iopub.status.busy": "2022-06-21T19:31:18.284257Z",
     "iopub.status.idle": "2022-06-21T19:31:18.296557Z",
     "shell.execute_reply": "2022-06-21T19:31:18.295461Z"
    },
    "id": "vsD-0C9TIsXL",
    "papermill": {
     "duration": 0.045797,
     "end_time": "2022-06-21T19:31:18.298633",
     "exception": false,
     "start_time": "2022-06-21T19:31:18.252836",
     "status": "completed"
    },
    "tags": []
   },
   "outputs": [
    {
     "data": {
      "text/html": [
       "<div>\n",
       "<style scoped>\n",
       "    .dataframe tbody tr th:only-of-type {\n",
       "        vertical-align: middle;\n",
       "    }\n",
       "\n",
       "    .dataframe tbody tr th {\n",
       "        vertical-align: top;\n",
       "    }\n",
       "\n",
       "    .dataframe thead th {\n",
       "        text-align: right;\n",
       "    }\n",
       "</style>\n",
       "<table border=\"1\" class=\"dataframe\">\n",
       "  <thead>\n",
       "    <tr style=\"text-align: right;\">\n",
       "      <th></th>\n",
       "      <th>ML_name</th>\n",
       "      <th>ROC_AUC valid</th>\n",
       "      <th>ROC_AUC_public</th>\n",
       "    </tr>\n",
       "  </thead>\n",
       "  <tbody>\n",
       "    <tr>\n",
       "      <th>0</th>\n",
       "      <td>TF-IDF + LogReg</td>\n",
       "      <td>0.972123</td>\n",
       "      <td>0,XXX</td>\n",
       "    </tr>\n",
       "    <tr>\n",
       "      <th>1</th>\n",
       "      <td>TF-IDF + Catboost</td>\n",
       "      <td>0.972967</td>\n",
       "      <td>0,XXX</td>\n",
       "    </tr>\n",
       "    <tr>\n",
       "      <th>2</th>\n",
       "      <td>BERT + LogReg</td>\n",
       "      <td>0.950512</td>\n",
       "      <td>0,XXX</td>\n",
       "    </tr>\n",
       "    <tr>\n",
       "      <th>3</th>\n",
       "      <td>BERT + Catboost</td>\n",
       "      <td>0.961192</td>\n",
       "      <td>0,XXX</td>\n",
       "    </tr>\n",
       "  </tbody>\n",
       "</table>\n",
       "</div>"
      ],
      "text/plain": [
       "             ML_name  ROC_AUC valid ROC_AUC_public\n",
       "0    TF-IDF + LogReg       0.972123          0,XXX\n",
       "1  TF-IDF + Catboost       0.972967          0,XXX\n",
       "2      BERT + LogReg       0.950512          0,XXX\n",
       "3    BERT + Catboost       0.961192          0,XXX"
      ]
     },
     "execution_count": 70,
     "metadata": {},
     "output_type": "execute_result"
    }
   ],
   "source": [
    "result_df.head()"
   ]
  },
  {
   "cell_type": "markdown",
   "id": "5e772235",
   "metadata": {
    "papermill": {
     "duration": 0.029369,
     "end_time": "2022-06-21T19:31:18.358224",
     "exception": false,
     "start_time": "2022-06-21T19:31:18.328855",
     "status": "completed"
    },
    "tags": []
   },
   "source": [
    "Существенная разница или нет, решать Вам дорогие читатели! Картинку со скорами песочницы загружу в комментарии.\n",
    "\n",
    "Как видно из полученной таблицы, можно улучшить метрику используя другие инструменты/модели, но основные тезисы соревнования - соревнование по генерации признаков, соревнование для новичков. Иван пытался донести, что можно получить хороший результат и с простой моделью, нужно только \"напрячь мозги\" и сгенерировать пару хороших признаков, точно определяющие Алис. И те новички кому это удалось реализовать на LogReg - молодцы! Мне, к сожалению, мозгов не хватило для извлечения хороших признаков. Остальное пусть остается на совести \"нечестных неновичков\". На этом прощаюсь, Всем спасибо за потраченное время. И успехов в учебе!!!\n",
    "\n",
    "P.S. Буду благодарен за поставленные плюсы."
   ]
  },
  {
   "cell_type": "code",
   "execution_count": null,
   "id": "02c3832f",
   "metadata": {
    "papermill": {
     "duration": 0.030116,
     "end_time": "2022-06-21T19:31:18.418892",
     "exception": false,
     "start_time": "2022-06-21T19:31:18.388776",
     "status": "completed"
    },
    "tags": []
   },
   "outputs": [],
   "source": []
  }
 ],
 "metadata": {
  "kernelspec": {
   "display_name": "Python 3",
   "language": "python",
   "name": "python3"
  },
  "language_info": {
   "codemirror_mode": {
    "name": "ipython",
    "version": 3
   },
   "file_extension": ".py",
   "mimetype": "text/x-python",
   "name": "python",
   "nbconvert_exporter": "python",
   "pygments_lexer": "ipython3",
   "version": "3.7.12"
  },
  "papermill": {
   "default_parameters": {},
   "duration": 22191.839866,
   "end_time": "2022-06-21T19:31:21.120441",
   "environment_variables": {},
   "exception": null,
   "input_path": "__notebook__.ipynb",
   "output_path": "__notebook__.ipynb",
   "parameters": {},
   "start_time": "2022-06-21T13:21:29.280575",
   "version": "2.3.4"
  },
  "widgets": {
   "application/vnd.jupyter.widget-state+json": {
    "state": {
     "06047bd015234043b05e66ca15bc9a08": {
      "model_module": "@jupyter-widgets/base",
      "model_module_version": "1.2.0",
      "model_name": "LayoutModel",
      "state": {
       "_model_module": "@jupyter-widgets/base",
       "_model_module_version": "1.2.0",
       "_model_name": "LayoutModel",
       "_view_count": null,
       "_view_module": "@jupyter-widgets/base",
       "_view_module_version": "1.2.0",
       "_view_name": "LayoutView",
       "align_content": null,
       "align_items": null,
       "align_self": null,
       "border": null,
       "bottom": null,
       "display": null,
       "flex": null,
       "flex_flow": null,
       "grid_area": null,
       "grid_auto_columns": null,
       "grid_auto_flow": null,
       "grid_auto_rows": null,
       "grid_column": null,
       "grid_gap": null,
       "grid_row": null,
       "grid_template_areas": null,
       "grid_template_columns": null,
       "grid_template_rows": null,
       "height": null,
       "justify_content": null,
       "justify_items": null,
       "left": null,
       "margin": null,
       "max_height": null,
       "max_width": null,
       "min_height": null,
       "min_width": null,
       "object_fit": null,
       "object_position": null,
       "order": null,
       "overflow": null,
       "overflow_x": null,
       "overflow_y": null,
       "padding": null,
       "right": null,
       "top": null,
       "visibility": null,
       "width": null
      }
     },
     "0837e825e7e84ae78224fe5b143a48a6": {
      "model_module": "@jupyter-widgets/controls",
      "model_module_version": "1.5.0",
      "model_name": "DescriptionStyleModel",
      "state": {
       "_model_module": "@jupyter-widgets/controls",
       "_model_module_version": "1.5.0",
       "_model_name": "DescriptionStyleModel",
       "_view_count": null,
       "_view_module": "@jupyter-widgets/base",
       "_view_module_version": "1.2.0",
       "_view_name": "StyleView",
       "description_width": ""
      }
     },
     "10b0adf2f5594047b5751c88f82bb853": {
      "model_module": "@jupyter-widgets/base",
      "model_module_version": "1.2.0",
      "model_name": "LayoutModel",
      "state": {
       "_model_module": "@jupyter-widgets/base",
       "_model_module_version": "1.2.0",
       "_model_name": "LayoutModel",
       "_view_count": null,
       "_view_module": "@jupyter-widgets/base",
       "_view_module_version": "1.2.0",
       "_view_name": "LayoutView",
       "align_content": null,
       "align_items": null,
       "align_self": null,
       "border": null,
       "bottom": null,
       "display": null,
       "flex": null,
       "flex_flow": null,
       "grid_area": null,
       "grid_auto_columns": null,
       "grid_auto_flow": null,
       "grid_auto_rows": null,
       "grid_column": null,
       "grid_gap": null,
       "grid_row": null,
       "grid_template_areas": null,
       "grid_template_columns": null,
       "grid_template_rows": null,
       "height": null,
       "justify_content": null,
       "justify_items": null,
       "left": null,
       "margin": null,
       "max_height": null,
       "max_width": null,
       "min_height": null,
       "min_width": null,
       "object_fit": null,
       "object_position": null,
       "order": null,
       "overflow": null,
       "overflow_x": null,
       "overflow_y": null,
       "padding": null,
       "right": null,
       "top": null,
       "visibility": null,
       "width": null
      }
     },
     "14a8f529867642a799baa886488fadb3": {
      "model_module": "@jupyter-widgets/controls",
      "model_module_version": "1.5.0",
      "model_name": "FloatProgressModel",
      "state": {
       "_dom_classes": [],
       "_model_module": "@jupyter-widgets/controls",
       "_model_module_version": "1.5.0",
       "_model_name": "FloatProgressModel",
       "_view_count": null,
       "_view_module": "@jupyter-widgets/controls",
       "_view_module_version": "1.5.0",
       "_view_name": "ProgressView",
       "bar_style": "success",
       "description": "",
       "description_tooltip": null,
       "layout": "IPY_MODEL_83b7bda3121a488ca8abdc68f2f5c6f1",
       "max": 28.0,
       "min": 0.0,
       "orientation": "horizontal",
       "style": "IPY_MODEL_b3b47d94ee9549c086921b77294ebb85",
       "value": 28.0
      }
     },
     "216f69d48624459087d96ad3142355a8": {
      "model_module": "@jupyter-widgets/controls",
      "model_module_version": "1.5.0",
      "model_name": "FloatProgressModel",
      "state": {
       "_dom_classes": [],
       "_model_module": "@jupyter-widgets/controls",
       "_model_module_version": "1.5.0",
       "_model_name": "FloatProgressModel",
       "_view_count": null,
       "_view_module": "@jupyter-widgets/controls",
       "_view_module_version": "1.5.0",
       "_view_name": "ProgressView",
       "bar_style": "success",
       "description": "",
       "description_tooltip": null,
       "layout": "IPY_MODEL_280a97fb196844819f27071caa662984",
       "max": 483.0,
       "min": 0.0,
       "orientation": "horizontal",
       "style": "IPY_MODEL_2c3075e5a07f406d91e8428e6a284960",
       "value": 483.0
      }
     },
     "280a97fb196844819f27071caa662984": {
      "model_module": "@jupyter-widgets/base",
      "model_module_version": "1.2.0",
      "model_name": "LayoutModel",
      "state": {
       "_model_module": "@jupyter-widgets/base",
       "_model_module_version": "1.2.0",
       "_model_name": "LayoutModel",
       "_view_count": null,
       "_view_module": "@jupyter-widgets/base",
       "_view_module_version": "1.2.0",
       "_view_name": "LayoutView",
       "align_content": null,
       "align_items": null,
       "align_self": null,
       "border": null,
       "bottom": null,
       "display": null,
       "flex": null,
       "flex_flow": null,
       "grid_area": null,
       "grid_auto_columns": null,
       "grid_auto_flow": null,
       "grid_auto_rows": null,
       "grid_column": null,
       "grid_gap": null,
       "grid_row": null,
       "grid_template_areas": null,
       "grid_template_columns": null,
       "grid_template_rows": null,
       "height": null,
       "justify_content": null,
       "justify_items": null,
       "left": null,
       "margin": null,
       "max_height": null,
       "max_width": null,
       "min_height": null,
       "min_width": null,
       "object_fit": null,
       "object_position": null,
       "order": null,
       "overflow": null,
       "overflow_x": null,
       "overflow_y": null,
       "padding": null,
       "right": null,
       "top": null,
       "visibility": null,
       "width": null
      }
     },
     "2c3075e5a07f406d91e8428e6a284960": {
      "model_module": "@jupyter-widgets/controls",
      "model_module_version": "1.5.0",
      "model_name": "ProgressStyleModel",
      "state": {
       "_model_module": "@jupyter-widgets/controls",
       "_model_module_version": "1.5.0",
       "_model_name": "ProgressStyleModel",
       "_view_count": null,
       "_view_module": "@jupyter-widgets/base",
       "_view_module_version": "1.2.0",
       "_view_name": "StyleView",
       "bar_color": null,
       "description_width": ""
      }
     },
     "2d465113436c45e29967ef3603ff56ad": {
      "model_module": "@jupyter-widgets/controls",
      "model_module_version": "1.5.0",
      "model_name": "HBoxModel",
      "state": {
       "_dom_classes": [],
       "_model_module": "@jupyter-widgets/controls",
       "_model_module_version": "1.5.0",
       "_model_name": "HBoxModel",
       "_view_count": null,
       "_view_module": "@jupyter-widgets/controls",
       "_view_module_version": "1.5.0",
       "_view_name": "HBoxView",
       "box_style": "",
       "children": [
        "IPY_MODEL_8ad691c29a7e4056aa5ffce391de56b3",
        "IPY_MODEL_216f69d48624459087d96ad3142355a8",
        "IPY_MODEL_7f89ef4b8bb74e99b1e329a75a8474ae"
       ],
       "layout": "IPY_MODEL_ab71ec0df8a34aed9aabe4bb9893d118"
      }
     },
     "378cdf48044a412b9a9b0b5e5d32ba21": {
      "model_module": "@jupyter-widgets/controls",
      "model_module_version": "1.5.0",
      "model_name": "HBoxModel",
      "state": {
       "_dom_classes": [],
       "_model_module": "@jupyter-widgets/controls",
       "_model_module_version": "1.5.0",
       "_model_name": "HBoxModel",
       "_view_count": null,
       "_view_module": "@jupyter-widgets/controls",
       "_view_module_version": "1.5.0",
       "_view_name": "HBoxView",
       "box_style": "",
       "children": [
        "IPY_MODEL_f736c32c997b4ac5a0e3520e07e868ba",
        "IPY_MODEL_14a8f529867642a799baa886488fadb3",
        "IPY_MODEL_76cd398665d746dca58ce35888b5b878"
       ],
       "layout": "IPY_MODEL_98722c3fad854a11be934d847f5db429"
      }
     },
     "39026f43fde546b7a11b53b5be36afb0": {
      "model_module": "@jupyter-widgets/controls",
      "model_module_version": "1.5.0",
      "model_name": "HTMLModel",
      "state": {
       "_dom_classes": [],
       "_model_module": "@jupyter-widgets/controls",
       "_model_module_version": "1.5.0",
       "_model_name": "HTMLModel",
       "_view_count": null,
       "_view_module": "@jupyter-widgets/controls",
       "_view_module_version": "1.5.0",
       "_view_name": "HTMLView",
       "description": "",
       "description_tooltip": null,
       "layout": "IPY_MODEL_9c1ac7b9efca422bafa7cf5dd61c922a",
       "placeholder": "​",
       "style": "IPY_MODEL_0837e825e7e84ae78224fe5b143a48a6",
       "value": " 226k/226k [00:00&lt;00:00, 349kB/s]"
      }
     },
     "458416ecfbc44088b2148550eb994e47": {
      "model_module": "@jupyter-widgets/controls",
      "model_module_version": "1.5.0",
      "model_name": "DescriptionStyleModel",
      "state": {
       "_model_module": "@jupyter-widgets/controls",
       "_model_module_version": "1.5.0",
       "_model_name": "DescriptionStyleModel",
       "_view_count": null,
       "_view_module": "@jupyter-widgets/base",
       "_view_module_version": "1.2.0",
       "_view_name": "StyleView",
       "description_width": ""
      }
     },
     "484cff0770ad43dc8b5b6f3cb3c9ebd2": {
      "model_module": "@jupyter-widgets/controls",
      "model_module_version": "1.5.0",
      "model_name": "ProgressStyleModel",
      "state": {
       "_model_module": "@jupyter-widgets/controls",
       "_model_module_version": "1.5.0",
       "_model_name": "ProgressStyleModel",
       "_view_count": null,
       "_view_module": "@jupyter-widgets/base",
       "_view_module_version": "1.2.0",
       "_view_name": "StyleView",
       "bar_color": null,
       "description_width": ""
      }
     },
     "540c4c573aef4fbcb6435c8b719e8e88": {
      "model_module": "@jupyter-widgets/controls",
      "model_module_version": "1.5.0",
      "model_name": "HBoxModel",
      "state": {
       "_dom_classes": [],
       "_model_module": "@jupyter-widgets/controls",
       "_model_module_version": "1.5.0",
       "_model_name": "HBoxModel",
       "_view_count": null,
       "_view_module": "@jupyter-widgets/controls",
       "_view_module_version": "1.5.0",
       "_view_name": "HBoxView",
       "box_style": "",
       "children": [
        "IPY_MODEL_56442670d68b4185aaae03cdc0a3cc81",
        "IPY_MODEL_9bf0ab749f0a49eea67d2c81c7e2bde1",
        "IPY_MODEL_39026f43fde546b7a11b53b5be36afb0"
       ],
       "layout": "IPY_MODEL_f50d79e597544f29ae9e181821ba1620"
      }
     },
     "557e7b63403d477794efee7f73fa6336": {
      "model_module": "@jupyter-widgets/base",
      "model_module_version": "1.2.0",
      "model_name": "LayoutModel",
      "state": {
       "_model_module": "@jupyter-widgets/base",
       "_model_module_version": "1.2.0",
       "_model_name": "LayoutModel",
       "_view_count": null,
       "_view_module": "@jupyter-widgets/base",
       "_view_module_version": "1.2.0",
       "_view_name": "LayoutView",
       "align_content": null,
       "align_items": null,
       "align_self": null,
       "border": null,
       "bottom": null,
       "display": null,
       "flex": null,
       "flex_flow": null,
       "grid_area": null,
       "grid_auto_columns": null,
       "grid_auto_flow": null,
       "grid_auto_rows": null,
       "grid_column": null,
       "grid_gap": null,
       "grid_row": null,
       "grid_template_areas": null,
       "grid_template_columns": null,
       "grid_template_rows": null,
       "height": null,
       "justify_content": null,
       "justify_items": null,
       "left": null,
       "margin": null,
       "max_height": null,
       "max_width": null,
       "min_height": null,
       "min_width": null,
       "object_fit": null,
       "object_position": null,
       "order": null,
       "overflow": null,
       "overflow_x": null,
       "overflow_y": null,
       "padding": null,
       "right": null,
       "top": null,
       "visibility": null,
       "width": null
      }
     },
     "56442670d68b4185aaae03cdc0a3cc81": {
      "model_module": "@jupyter-widgets/controls",
      "model_module_version": "1.5.0",
      "model_name": "HTMLModel",
      "state": {
       "_dom_classes": [],
       "_model_module": "@jupyter-widgets/controls",
       "_model_module_version": "1.5.0",
       "_model_name": "HTMLModel",
       "_view_count": null,
       "_view_module": "@jupyter-widgets/controls",
       "_view_module_version": "1.5.0",
       "_view_name": "HTMLView",
       "description": "",
       "description_tooltip": null,
       "layout": "IPY_MODEL_9676697784a04a7cb4d3b5b5c0598f48",
       "placeholder": "​",
       "style": "IPY_MODEL_458416ecfbc44088b2148550eb994e47",
       "value": "Downloading: 100%"
      }
     },
     "61db4b64f917451392edd794811ac15d": {
      "model_module": "@jupyter-widgets/controls",
      "model_module_version": "1.5.0",
      "model_name": "DescriptionStyleModel",
      "state": {
       "_model_module": "@jupyter-widgets/controls",
       "_model_module_version": "1.5.0",
       "_model_name": "DescriptionStyleModel",
       "_view_count": null,
       "_view_module": "@jupyter-widgets/base",
       "_view_module_version": "1.2.0",
       "_view_name": "StyleView",
       "description_width": ""
      }
     },
     "702436d915cc474b959f8f806d5680cb": {
      "model_module": "@jupyter-widgets/base",
      "model_module_version": "1.2.0",
      "model_name": "LayoutModel",
      "state": {
       "_model_module": "@jupyter-widgets/base",
       "_model_module_version": "1.2.0",
       "_model_name": "LayoutModel",
       "_view_count": null,
       "_view_module": "@jupyter-widgets/base",
       "_view_module_version": "1.2.0",
       "_view_name": "LayoutView",
       "align_content": null,
       "align_items": null,
       "align_self": null,
       "border": null,
       "bottom": null,
       "display": null,
       "flex": null,
       "flex_flow": null,
       "grid_area": null,
       "grid_auto_columns": null,
       "grid_auto_flow": null,
       "grid_auto_rows": null,
       "grid_column": null,
       "grid_gap": null,
       "grid_row": null,
       "grid_template_areas": null,
       "grid_template_columns": null,
       "grid_template_rows": null,
       "height": null,
       "justify_content": null,
       "justify_items": null,
       "left": null,
       "margin": null,
       "max_height": null,
       "max_width": null,
       "min_height": null,
       "min_width": null,
       "object_fit": null,
       "object_position": null,
       "order": null,
       "overflow": null,
       "overflow_x": null,
       "overflow_y": null,
       "padding": null,
       "right": null,
       "top": null,
       "visibility": null,
       "width": null
      }
     },
     "76aa3e087ffb467b9b0796ca2a4405e7": {
      "model_module": "@jupyter-widgets/controls",
      "model_module_version": "1.5.0",
      "model_name": "DescriptionStyleModel",
      "state": {
       "_model_module": "@jupyter-widgets/controls",
       "_model_module_version": "1.5.0",
       "_model_name": "DescriptionStyleModel",
       "_view_count": null,
       "_view_module": "@jupyter-widgets/base",
       "_view_module_version": "1.2.0",
       "_view_name": "StyleView",
       "description_width": ""
      }
     },
     "76cd398665d746dca58ce35888b5b878": {
      "model_module": "@jupyter-widgets/controls",
      "model_module_version": "1.5.0",
      "model_name": "HTMLModel",
      "state": {
       "_dom_classes": [],
       "_model_module": "@jupyter-widgets/controls",
       "_model_module_version": "1.5.0",
       "_model_name": "HTMLModel",
       "_view_count": null,
       "_view_module": "@jupyter-widgets/controls",
       "_view_module_version": "1.5.0",
       "_view_name": "HTMLView",
       "description": "",
       "description_tooltip": null,
       "layout": "IPY_MODEL_822b8caf2f004408b82073ae14311620",
       "placeholder": "​",
       "style": "IPY_MODEL_fe69b49ce961406a94bda5311d795f28",
       "value": " 28.0/28.0 [00:00&lt;00:00, 979B/s]"
      }
     },
     "78276de682d34c51a7eb266de207b643": {
      "model_module": "@jupyter-widgets/base",
      "model_module_version": "1.2.0",
      "model_name": "LayoutModel",
      "state": {
       "_model_module": "@jupyter-widgets/base",
       "_model_module_version": "1.2.0",
       "_model_name": "LayoutModel",
       "_view_count": null,
       "_view_module": "@jupyter-widgets/base",
       "_view_module_version": "1.2.0",
       "_view_name": "LayoutView",
       "align_content": null,
       "align_items": null,
       "align_self": null,
       "border": null,
       "bottom": null,
       "display": null,
       "flex": null,
       "flex_flow": null,
       "grid_area": null,
       "grid_auto_columns": null,
       "grid_auto_flow": null,
       "grid_auto_rows": null,
       "grid_column": null,
       "grid_gap": null,
       "grid_row": null,
       "grid_template_areas": null,
       "grid_template_columns": null,
       "grid_template_rows": null,
       "height": null,
       "justify_content": null,
       "justify_items": null,
       "left": null,
       "margin": null,
       "max_height": null,
       "max_width": null,
       "min_height": null,
       "min_width": null,
       "object_fit": null,
       "object_position": null,
       "order": null,
       "overflow": null,
       "overflow_x": null,
       "overflow_y": null,
       "padding": null,
       "right": null,
       "top": null,
       "visibility": null,
       "width": null
      }
     },
     "7f89ef4b8bb74e99b1e329a75a8474ae": {
      "model_module": "@jupyter-widgets/controls",
      "model_module_version": "1.5.0",
      "model_name": "HTMLModel",
      "state": {
       "_dom_classes": [],
       "_model_module": "@jupyter-widgets/controls",
       "_model_module_version": "1.5.0",
       "_model_name": "HTMLModel",
       "_view_count": null,
       "_view_module": "@jupyter-widgets/controls",
       "_view_module_version": "1.5.0",
       "_view_name": "HTMLView",
       "description": "",
       "description_tooltip": null,
       "layout": "IPY_MODEL_702436d915cc474b959f8f806d5680cb",
       "placeholder": "​",
       "style": "IPY_MODEL_cb5481ddb612495298e2b530bf7da8cc",
       "value": " 483/483 [00:00&lt;00:00, 16.6kB/s]"
      }
     },
     "822b8caf2f004408b82073ae14311620": {
      "model_module": "@jupyter-widgets/base",
      "model_module_version": "1.2.0",
      "model_name": "LayoutModel",
      "state": {
       "_model_module": "@jupyter-widgets/base",
       "_model_module_version": "1.2.0",
       "_model_name": "LayoutModel",
       "_view_count": null,
       "_view_module": "@jupyter-widgets/base",
       "_view_module_version": "1.2.0",
       "_view_name": "LayoutView",
       "align_content": null,
       "align_items": null,
       "align_self": null,
       "border": null,
       "bottom": null,
       "display": null,
       "flex": null,
       "flex_flow": null,
       "grid_area": null,
       "grid_auto_columns": null,
       "grid_auto_flow": null,
       "grid_auto_rows": null,
       "grid_column": null,
       "grid_gap": null,
       "grid_row": null,
       "grid_template_areas": null,
       "grid_template_columns": null,
       "grid_template_rows": null,
       "height": null,
       "justify_content": null,
       "justify_items": null,
       "left": null,
       "margin": null,
       "max_height": null,
       "max_width": null,
       "min_height": null,
       "min_width": null,
       "object_fit": null,
       "object_position": null,
       "order": null,
       "overflow": null,
       "overflow_x": null,
       "overflow_y": null,
       "padding": null,
       "right": null,
       "top": null,
       "visibility": null,
       "width": null
      }
     },
     "83b7bda3121a488ca8abdc68f2f5c6f1": {
      "model_module": "@jupyter-widgets/base",
      "model_module_version": "1.2.0",
      "model_name": "LayoutModel",
      "state": {
       "_model_module": "@jupyter-widgets/base",
       "_model_module_version": "1.2.0",
       "_model_name": "LayoutModel",
       "_view_count": null,
       "_view_module": "@jupyter-widgets/base",
       "_view_module_version": "1.2.0",
       "_view_name": "LayoutView",
       "align_content": null,
       "align_items": null,
       "align_self": null,
       "border": null,
       "bottom": null,
       "display": null,
       "flex": null,
       "flex_flow": null,
       "grid_area": null,
       "grid_auto_columns": null,
       "grid_auto_flow": null,
       "grid_auto_rows": null,
       "grid_column": null,
       "grid_gap": null,
       "grid_row": null,
       "grid_template_areas": null,
       "grid_template_columns": null,
       "grid_template_rows": null,
       "height": null,
       "justify_content": null,
       "justify_items": null,
       "left": null,
       "margin": null,
       "max_height": null,
       "max_width": null,
       "min_height": null,
       "min_width": null,
       "object_fit": null,
       "object_position": null,
       "order": null,
       "overflow": null,
       "overflow_x": null,
       "overflow_y": null,
       "padding": null,
       "right": null,
       "top": null,
       "visibility": null,
       "width": null
      }
     },
     "88984e775a3e4c0ba372b35860a9f679": {
      "model_module": "@jupyter-widgets/controls",
      "model_module_version": "1.5.0",
      "model_name": "HBoxModel",
      "state": {
       "_dom_classes": [],
       "_model_module": "@jupyter-widgets/controls",
       "_model_module_version": "1.5.0",
       "_model_name": "HBoxModel",
       "_view_count": null,
       "_view_module": "@jupyter-widgets/controls",
       "_view_module_version": "1.5.0",
       "_view_name": "HBoxView",
       "box_style": "",
       "children": [
        "IPY_MODEL_ef0cecb624b449618686db054667759d",
        "IPY_MODEL_fca3d223f71449bbb28af36d33864f8b",
        "IPY_MODEL_f4ca21c0c6294f21bd9359412ded906f"
       ],
       "layout": "IPY_MODEL_b3f9dfe3d5b04fc099b7a1c4648c2f84"
      }
     },
     "8ad691c29a7e4056aa5ffce391de56b3": {
      "model_module": "@jupyter-widgets/controls",
      "model_module_version": "1.5.0",
      "model_name": "HTMLModel",
      "state": {
       "_dom_classes": [],
       "_model_module": "@jupyter-widgets/controls",
       "_model_module_version": "1.5.0",
       "_model_name": "HTMLModel",
       "_view_count": null,
       "_view_module": "@jupyter-widgets/controls",
       "_view_module_version": "1.5.0",
       "_view_name": "HTMLView",
       "description": "",
       "description_tooltip": null,
       "layout": "IPY_MODEL_cb03af577660422cb79e2c88adf93b83",
       "placeholder": "​",
       "style": "IPY_MODEL_61db4b64f917451392edd794811ac15d",
       "value": "Downloading: 100%"
      }
     },
     "8eb32a14aa0c4025afe91cd1fb1077ed": {
      "model_module": "@jupyter-widgets/controls",
      "model_module_version": "1.5.0",
      "model_name": "ProgressStyleModel",
      "state": {
       "_model_module": "@jupyter-widgets/controls",
       "_model_module_version": "1.5.0",
       "_model_name": "ProgressStyleModel",
       "_view_count": null,
       "_view_module": "@jupyter-widgets/base",
       "_view_module_version": "1.2.0",
       "_view_name": "StyleView",
       "bar_color": null,
       "description_width": ""
      }
     },
     "905369cc16ba46489f5f522ff2e65d71": {
      "model_module": "@jupyter-widgets/base",
      "model_module_version": "1.2.0",
      "model_name": "LayoutModel",
      "state": {
       "_model_module": "@jupyter-widgets/base",
       "_model_module_version": "1.2.0",
       "_model_name": "LayoutModel",
       "_view_count": null,
       "_view_module": "@jupyter-widgets/base",
       "_view_module_version": "1.2.0",
       "_view_name": "LayoutView",
       "align_content": null,
       "align_items": null,
       "align_self": null,
       "border": null,
       "bottom": null,
       "display": null,
       "flex": null,
       "flex_flow": null,
       "grid_area": null,
       "grid_auto_columns": null,
       "grid_auto_flow": null,
       "grid_auto_rows": null,
       "grid_column": null,
       "grid_gap": null,
       "grid_row": null,
       "grid_template_areas": null,
       "grid_template_columns": null,
       "grid_template_rows": null,
       "height": null,
       "justify_content": null,
       "justify_items": null,
       "left": null,
       "margin": null,
       "max_height": null,
       "max_width": null,
       "min_height": null,
       "min_width": null,
       "object_fit": null,
       "object_position": null,
       "order": null,
       "overflow": null,
       "overflow_x": null,
       "overflow_y": null,
       "padding": null,
       "right": null,
       "top": null,
       "visibility": null,
       "width": null
      }
     },
     "9676697784a04a7cb4d3b5b5c0598f48": {
      "model_module": "@jupyter-widgets/base",
      "model_module_version": "1.2.0",
      "model_name": "LayoutModel",
      "state": {
       "_model_module": "@jupyter-widgets/base",
       "_model_module_version": "1.2.0",
       "_model_name": "LayoutModel",
       "_view_count": null,
       "_view_module": "@jupyter-widgets/base",
       "_view_module_version": "1.2.0",
       "_view_name": "LayoutView",
       "align_content": null,
       "align_items": null,
       "align_self": null,
       "border": null,
       "bottom": null,
       "display": null,
       "flex": null,
       "flex_flow": null,
       "grid_area": null,
       "grid_auto_columns": null,
       "grid_auto_flow": null,
       "grid_auto_rows": null,
       "grid_column": null,
       "grid_gap": null,
       "grid_row": null,
       "grid_template_areas": null,
       "grid_template_columns": null,
       "grid_template_rows": null,
       "height": null,
       "justify_content": null,
       "justify_items": null,
       "left": null,
       "margin": null,
       "max_height": null,
       "max_width": null,
       "min_height": null,
       "min_width": null,
       "object_fit": null,
       "object_position": null,
       "order": null,
       "overflow": null,
       "overflow_x": null,
       "overflow_y": null,
       "padding": null,
       "right": null,
       "top": null,
       "visibility": null,
       "width": null
      }
     },
     "98722c3fad854a11be934d847f5db429": {
      "model_module": "@jupyter-widgets/base",
      "model_module_version": "1.2.0",
      "model_name": "LayoutModel",
      "state": {
       "_model_module": "@jupyter-widgets/base",
       "_model_module_version": "1.2.0",
       "_model_name": "LayoutModel",
       "_view_count": null,
       "_view_module": "@jupyter-widgets/base",
       "_view_module_version": "1.2.0",
       "_view_name": "LayoutView",
       "align_content": null,
       "align_items": null,
       "align_self": null,
       "border": null,
       "bottom": null,
       "display": null,
       "flex": null,
       "flex_flow": null,
       "grid_area": null,
       "grid_auto_columns": null,
       "grid_auto_flow": null,
       "grid_auto_rows": null,
       "grid_column": null,
       "grid_gap": null,
       "grid_row": null,
       "grid_template_areas": null,
       "grid_template_columns": null,
       "grid_template_rows": null,
       "height": null,
       "justify_content": null,
       "justify_items": null,
       "left": null,
       "margin": null,
       "max_height": null,
       "max_width": null,
       "min_height": null,
       "min_width": null,
       "object_fit": null,
       "object_position": null,
       "order": null,
       "overflow": null,
       "overflow_x": null,
       "overflow_y": null,
       "padding": null,
       "right": null,
       "top": null,
       "visibility": null,
       "width": null
      }
     },
     "9bf0ab749f0a49eea67d2c81c7e2bde1": {
      "model_module": "@jupyter-widgets/controls",
      "model_module_version": "1.5.0",
      "model_name": "FloatProgressModel",
      "state": {
       "_dom_classes": [],
       "_model_module": "@jupyter-widgets/controls",
       "_model_module_version": "1.5.0",
       "_model_name": "FloatProgressModel",
       "_view_count": null,
       "_view_module": "@jupyter-widgets/controls",
       "_view_module_version": "1.5.0",
       "_view_name": "ProgressView",
       "bar_style": "success",
       "description": "",
       "description_tooltip": null,
       "layout": "IPY_MODEL_905369cc16ba46489f5f522ff2e65d71",
       "max": 231508.0,
       "min": 0.0,
       "orientation": "horizontal",
       "style": "IPY_MODEL_8eb32a14aa0c4025afe91cd1fb1077ed",
       "value": 231508.0
      }
     },
     "9c1ac7b9efca422bafa7cf5dd61c922a": {
      "model_module": "@jupyter-widgets/base",
      "model_module_version": "1.2.0",
      "model_name": "LayoutModel",
      "state": {
       "_model_module": "@jupyter-widgets/base",
       "_model_module_version": "1.2.0",
       "_model_name": "LayoutModel",
       "_view_count": null,
       "_view_module": "@jupyter-widgets/base",
       "_view_module_version": "1.2.0",
       "_view_name": "LayoutView",
       "align_content": null,
       "align_items": null,
       "align_self": null,
       "border": null,
       "bottom": null,
       "display": null,
       "flex": null,
       "flex_flow": null,
       "grid_area": null,
       "grid_auto_columns": null,
       "grid_auto_flow": null,
       "grid_auto_rows": null,
       "grid_column": null,
       "grid_gap": null,
       "grid_row": null,
       "grid_template_areas": null,
       "grid_template_columns": null,
       "grid_template_rows": null,
       "height": null,
       "justify_content": null,
       "justify_items": null,
       "left": null,
       "margin": null,
       "max_height": null,
       "max_width": null,
       "min_height": null,
       "min_width": null,
       "object_fit": null,
       "object_position": null,
       "order": null,
       "overflow": null,
       "overflow_x": null,
       "overflow_y": null,
       "padding": null,
       "right": null,
       "top": null,
       "visibility": null,
       "width": null
      }
     },
     "ab71ec0df8a34aed9aabe4bb9893d118": {
      "model_module": "@jupyter-widgets/base",
      "model_module_version": "1.2.0",
      "model_name": "LayoutModel",
      "state": {
       "_model_module": "@jupyter-widgets/base",
       "_model_module_version": "1.2.0",
       "_model_name": "LayoutModel",
       "_view_count": null,
       "_view_module": "@jupyter-widgets/base",
       "_view_module_version": "1.2.0",
       "_view_name": "LayoutView",
       "align_content": null,
       "align_items": null,
       "align_self": null,
       "border": null,
       "bottom": null,
       "display": null,
       "flex": null,
       "flex_flow": null,
       "grid_area": null,
       "grid_auto_columns": null,
       "grid_auto_flow": null,
       "grid_auto_rows": null,
       "grid_column": null,
       "grid_gap": null,
       "grid_row": null,
       "grid_template_areas": null,
       "grid_template_columns": null,
       "grid_template_rows": null,
       "height": null,
       "justify_content": null,
       "justify_items": null,
       "left": null,
       "margin": null,
       "max_height": null,
       "max_width": null,
       "min_height": null,
       "min_width": null,
       "object_fit": null,
       "object_position": null,
       "order": null,
       "overflow": null,
       "overflow_x": null,
       "overflow_y": null,
       "padding": null,
       "right": null,
       "top": null,
       "visibility": null,
       "width": null
      }
     },
     "b3b47d94ee9549c086921b77294ebb85": {
      "model_module": "@jupyter-widgets/controls",
      "model_module_version": "1.5.0",
      "model_name": "ProgressStyleModel",
      "state": {
       "_model_module": "@jupyter-widgets/controls",
       "_model_module_version": "1.5.0",
       "_model_name": "ProgressStyleModel",
       "_view_count": null,
       "_view_module": "@jupyter-widgets/base",
       "_view_module_version": "1.2.0",
       "_view_name": "StyleView",
       "bar_color": null,
       "description_width": ""
      }
     },
     "b3f9dfe3d5b04fc099b7a1c4648c2f84": {
      "model_module": "@jupyter-widgets/base",
      "model_module_version": "1.2.0",
      "model_name": "LayoutModel",
      "state": {
       "_model_module": "@jupyter-widgets/base",
       "_model_module_version": "1.2.0",
       "_model_name": "LayoutModel",
       "_view_count": null,
       "_view_module": "@jupyter-widgets/base",
       "_view_module_version": "1.2.0",
       "_view_name": "LayoutView",
       "align_content": null,
       "align_items": null,
       "align_self": null,
       "border": null,
       "bottom": null,
       "display": null,
       "flex": null,
       "flex_flow": null,
       "grid_area": null,
       "grid_auto_columns": null,
       "grid_auto_flow": null,
       "grid_auto_rows": null,
       "grid_column": null,
       "grid_gap": null,
       "grid_row": null,
       "grid_template_areas": null,
       "grid_template_columns": null,
       "grid_template_rows": null,
       "height": null,
       "justify_content": null,
       "justify_items": null,
       "left": null,
       "margin": null,
       "max_height": null,
       "max_width": null,
       "min_height": null,
       "min_width": null,
       "object_fit": null,
       "object_position": null,
       "order": null,
       "overflow": null,
       "overflow_x": null,
       "overflow_y": null,
       "padding": null,
       "right": null,
       "top": null,
       "visibility": null,
       "width": null
      }
     },
     "cb03af577660422cb79e2c88adf93b83": {
      "model_module": "@jupyter-widgets/base",
      "model_module_version": "1.2.0",
      "model_name": "LayoutModel",
      "state": {
       "_model_module": "@jupyter-widgets/base",
       "_model_module_version": "1.2.0",
       "_model_name": "LayoutModel",
       "_view_count": null,
       "_view_module": "@jupyter-widgets/base",
       "_view_module_version": "1.2.0",
       "_view_name": "LayoutView",
       "align_content": null,
       "align_items": null,
       "align_self": null,
       "border": null,
       "bottom": null,
       "display": null,
       "flex": null,
       "flex_flow": null,
       "grid_area": null,
       "grid_auto_columns": null,
       "grid_auto_flow": null,
       "grid_auto_rows": null,
       "grid_column": null,
       "grid_gap": null,
       "grid_row": null,
       "grid_template_areas": null,
       "grid_template_columns": null,
       "grid_template_rows": null,
       "height": null,
       "justify_content": null,
       "justify_items": null,
       "left": null,
       "margin": null,
       "max_height": null,
       "max_width": null,
       "min_height": null,
       "min_width": null,
       "object_fit": null,
       "object_position": null,
       "order": null,
       "overflow": null,
       "overflow_x": null,
       "overflow_y": null,
       "padding": null,
       "right": null,
       "top": null,
       "visibility": null,
       "width": null
      }
     },
     "cb5481ddb612495298e2b530bf7da8cc": {
      "model_module": "@jupyter-widgets/controls",
      "model_module_version": "1.5.0",
      "model_name": "DescriptionStyleModel",
      "state": {
       "_model_module": "@jupyter-widgets/controls",
       "_model_module_version": "1.5.0",
       "_model_name": "DescriptionStyleModel",
       "_view_count": null,
       "_view_module": "@jupyter-widgets/base",
       "_view_module_version": "1.2.0",
       "_view_name": "StyleView",
       "description_width": ""
      }
     },
     "ddc7b5ad26114d74a731a522067986a0": {
      "model_module": "@jupyter-widgets/controls",
      "model_module_version": "1.5.0",
      "model_name": "DescriptionStyleModel",
      "state": {
       "_model_module": "@jupyter-widgets/controls",
       "_model_module_version": "1.5.0",
       "_model_name": "DescriptionStyleModel",
       "_view_count": null,
       "_view_module": "@jupyter-widgets/base",
       "_view_module_version": "1.2.0",
       "_view_name": "StyleView",
       "description_width": ""
      }
     },
     "ef0cecb624b449618686db054667759d": {
      "model_module": "@jupyter-widgets/controls",
      "model_module_version": "1.5.0",
      "model_name": "HTMLModel",
      "state": {
       "_dom_classes": [],
       "_model_module": "@jupyter-widgets/controls",
       "_model_module_version": "1.5.0",
       "_model_name": "HTMLModel",
       "_view_count": null,
       "_view_module": "@jupyter-widgets/controls",
       "_view_module_version": "1.5.0",
       "_view_name": "HTMLView",
       "description": "",
       "description_tooltip": null,
       "layout": "IPY_MODEL_557e7b63403d477794efee7f73fa6336",
       "placeholder": "​",
       "style": "IPY_MODEL_f81e2f5c6bc34b4dafc9a14e61f55acf",
       "value": "Downloading: 100%"
      }
     },
     "f4ca21c0c6294f21bd9359412ded906f": {
      "model_module": "@jupyter-widgets/controls",
      "model_module_version": "1.5.0",
      "model_name": "HTMLModel",
      "state": {
       "_dom_classes": [],
       "_model_module": "@jupyter-widgets/controls",
       "_model_module_version": "1.5.0",
       "_model_name": "HTMLModel",
       "_view_count": null,
       "_view_module": "@jupyter-widgets/controls",
       "_view_module_version": "1.5.0",
       "_view_name": "HTMLView",
       "description": "",
       "description_tooltip": null,
       "layout": "IPY_MODEL_06047bd015234043b05e66ca15bc9a08",
       "placeholder": "​",
       "style": "IPY_MODEL_ddc7b5ad26114d74a731a522067986a0",
       "value": " 256M/256M [00:16&lt;00:00, 17.6MB/s]"
      }
     },
     "f50d79e597544f29ae9e181821ba1620": {
      "model_module": "@jupyter-widgets/base",
      "model_module_version": "1.2.0",
      "model_name": "LayoutModel",
      "state": {
       "_model_module": "@jupyter-widgets/base",
       "_model_module_version": "1.2.0",
       "_model_name": "LayoutModel",
       "_view_count": null,
       "_view_module": "@jupyter-widgets/base",
       "_view_module_version": "1.2.0",
       "_view_name": "LayoutView",
       "align_content": null,
       "align_items": null,
       "align_self": null,
       "border": null,
       "bottom": null,
       "display": null,
       "flex": null,
       "flex_flow": null,
       "grid_area": null,
       "grid_auto_columns": null,
       "grid_auto_flow": null,
       "grid_auto_rows": null,
       "grid_column": null,
       "grid_gap": null,
       "grid_row": null,
       "grid_template_areas": null,
       "grid_template_columns": null,
       "grid_template_rows": null,
       "height": null,
       "justify_content": null,
       "justify_items": null,
       "left": null,
       "margin": null,
       "max_height": null,
       "max_width": null,
       "min_height": null,
       "min_width": null,
       "object_fit": null,
       "object_position": null,
       "order": null,
       "overflow": null,
       "overflow_x": null,
       "overflow_y": null,
       "padding": null,
       "right": null,
       "top": null,
       "visibility": null,
       "width": null
      }
     },
     "f736c32c997b4ac5a0e3520e07e868ba": {
      "model_module": "@jupyter-widgets/controls",
      "model_module_version": "1.5.0",
      "model_name": "HTMLModel",
      "state": {
       "_dom_classes": [],
       "_model_module": "@jupyter-widgets/controls",
       "_model_module_version": "1.5.0",
       "_model_name": "HTMLModel",
       "_view_count": null,
       "_view_module": "@jupyter-widgets/controls",
       "_view_module_version": "1.5.0",
       "_view_name": "HTMLView",
       "description": "",
       "description_tooltip": null,
       "layout": "IPY_MODEL_10b0adf2f5594047b5751c88f82bb853",
       "placeholder": "​",
       "style": "IPY_MODEL_76aa3e087ffb467b9b0796ca2a4405e7",
       "value": "Downloading: 100%"
      }
     },
     "f81e2f5c6bc34b4dafc9a14e61f55acf": {
      "model_module": "@jupyter-widgets/controls",
      "model_module_version": "1.5.0",
      "model_name": "DescriptionStyleModel",
      "state": {
       "_model_module": "@jupyter-widgets/controls",
       "_model_module_version": "1.5.0",
       "_model_name": "DescriptionStyleModel",
       "_view_count": null,
       "_view_module": "@jupyter-widgets/base",
       "_view_module_version": "1.2.0",
       "_view_name": "StyleView",
       "description_width": ""
      }
     },
     "fca3d223f71449bbb28af36d33864f8b": {
      "model_module": "@jupyter-widgets/controls",
      "model_module_version": "1.5.0",
      "model_name": "FloatProgressModel",
      "state": {
       "_dom_classes": [],
       "_model_module": "@jupyter-widgets/controls",
       "_model_module_version": "1.5.0",
       "_model_name": "FloatProgressModel",
       "_view_count": null,
       "_view_module": "@jupyter-widgets/controls",
       "_view_module_version": "1.5.0",
       "_view_name": "ProgressView",
       "bar_style": "success",
       "description": "",
       "description_tooltip": null,
       "layout": "IPY_MODEL_78276de682d34c51a7eb266de207b643",
       "max": 267967963.0,
       "min": 0.0,
       "orientation": "horizontal",
       "style": "IPY_MODEL_484cff0770ad43dc8b5b6f3cb3c9ebd2",
       "value": 267967963.0
      }
     },
     "fe69b49ce961406a94bda5311d795f28": {
      "model_module": "@jupyter-widgets/controls",
      "model_module_version": "1.5.0",
      "model_name": "DescriptionStyleModel",
      "state": {
       "_model_module": "@jupyter-widgets/controls",
       "_model_module_version": "1.5.0",
       "_model_name": "DescriptionStyleModel",
       "_view_count": null,
       "_view_module": "@jupyter-widgets/base",
       "_view_module_version": "1.2.0",
       "_view_name": "StyleView",
       "description_width": ""
      }
     }
    },
    "version_major": 2,
    "version_minor": 0
   }
  }
 },
 "nbformat": 4,
 "nbformat_minor": 5
}
